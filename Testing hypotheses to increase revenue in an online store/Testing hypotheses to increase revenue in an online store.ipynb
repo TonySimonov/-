{
 "cells": [
  {
   "cell_type": "markdown",
   "metadata": {},
   "source": [
    "#  Проверка гипотез по увеличению выручки в интернет-магазине"
   ]
  },
  {
   "cell_type": "markdown",
   "metadata": {},
   "source": [
    "# Содержание\n",
    "\n",
    "Часть 1. Описание проекта.<br>\n",
    "\n",
    "* 1. Описание исследования.\n",
    "* 2. Цель исследования.\n",
    "* 3. Изучение предоставленных данных.\n",
    "\n",
    "Часть 2. Приоритезация гипотез.<br>\n",
    "\n",
    "* 1. Применение фреймворка ICE.\n",
    "* 2. Применение фреймворка RICE.\n",
    "* 3. Описание результатов.\n",
    "\n",
    "Часть 3. Анализ А/В-теста.<br>\n",
    "\n",
    "* 1. Анализ результатов проведенного А/В-теста.\n",
    "* 2. Описание результатов.\n",
    "\n",
    "Часть 4. Подведение итогов.<br>\n",
    "\n",
    "* 1. Общий вывод по работе."
   ]
  },
  {
   "cell_type": "markdown",
   "metadata": {},
   "source": [
    "## Часть. Описание проекта\n",
    "### Описание исследования\n",
    "\n",
    "В распоряжении есть 3 датасета:\n",
    "- предложенные гипотезы и их параметры для проведения приоритезации\n",
    "- данные о заказах при проведении А/В-теста\n",
    "- данные о посещениях пользователей при проведении А/В-теста.\n",
    "\n",
    "### Цель исследования\n",
    "\n",
    "Необходимо провести приоритезацию гипотез, а также провести анализ результатов А/В-теста.\n",
    "\n",
    "### Изучение предоставленных данных"
   ]
  },
  {
   "cell_type": "code",
   "execution_count": 1,
   "metadata": {
    "scrolled": false
   },
   "outputs": [],
   "source": [
    "# Подключение библиотек\n",
    "import pandas as pd\n",
    "import matplotlib.pyplot as plt\n",
    "import scipy.stats as stats\n",
    "import numpy as np\n",
    "pd.set_option('display.float_format', '{:.2f}'.format)\n",
    "pd.set_option('display.max_colwidth', None)\n",
    "\n",
    "# Отключение ошибок при построении графиков\n",
    "np.warnings.filterwarnings('ignore', category=np.VisibleDeprecationWarning)"
   ]
  },
  {
   "cell_type": "code",
   "execution_count": 2,
   "metadata": {},
   "outputs": [],
   "source": [
    "# Чтение файлов с данными\n",
    "hypothesis = pd.read_csv('/datasets/hypothesis.csv')\n",
    "orders = pd.read_csv('/datasets/orders.csv')\n",
    "visitors = pd.read_csv('/datasets/visitors.csv')"
   ]
  },
  {
   "cell_type": "code",
   "execution_count": 3,
   "metadata": {
    "scrolled": false
   },
   "outputs": [
    {
     "name": "stdout",
     "output_type": "stream",
     "text": [
      "Общая информация\n",
      "<class 'pandas.core.frame.DataFrame'>\n",
      "RangeIndex: 9 entries, 0 to 8\n",
      "Data columns (total 5 columns):\n",
      " #   Column      Non-Null Count  Dtype \n",
      "---  ------      --------------  ----- \n",
      " 0   Hypothesis  9 non-null      object\n",
      " 1   Reach       9 non-null      int64 \n",
      " 2   Impact      9 non-null      int64 \n",
      " 3   Confidence  9 non-null      int64 \n",
      " 4   Efforts     9 non-null      int64 \n",
      "dtypes: int64(4), object(1)\n",
      "memory usage: 488.0+ bytes\n"
     ]
    },
    {
     "data": {
      "text/plain": [
       "'Первые значения'"
      ]
     },
     "metadata": {},
     "output_type": "display_data"
    },
    {
     "data": {
      "text/html": [
       "<div>\n",
       "<style scoped>\n",
       "    .dataframe tbody tr th:only-of-type {\n",
       "        vertical-align: middle;\n",
       "    }\n",
       "\n",
       "    .dataframe tbody tr th {\n",
       "        vertical-align: top;\n",
       "    }\n",
       "\n",
       "    .dataframe thead th {\n",
       "        text-align: right;\n",
       "    }\n",
       "</style>\n",
       "<table border=\"1\" class=\"dataframe\">\n",
       "  <thead>\n",
       "    <tr style=\"text-align: right;\">\n",
       "      <th></th>\n",
       "      <th>Hypothesis</th>\n",
       "      <th>Reach</th>\n",
       "      <th>Impact</th>\n",
       "      <th>Confidence</th>\n",
       "      <th>Efforts</th>\n",
       "    </tr>\n",
       "  </thead>\n",
       "  <tbody>\n",
       "    <tr>\n",
       "      <th>0</th>\n",
       "      <td>Добавить два новых канала привлечения трафика, что позволит привлекать на 30% больше пользователей</td>\n",
       "      <td>3</td>\n",
       "      <td>10</td>\n",
       "      <td>8</td>\n",
       "      <td>6</td>\n",
       "    </tr>\n",
       "    <tr>\n",
       "      <th>1</th>\n",
       "      <td>Запустить собственную службу доставки, что сократит срок доставки заказов</td>\n",
       "      <td>2</td>\n",
       "      <td>5</td>\n",
       "      <td>4</td>\n",
       "      <td>10</td>\n",
       "    </tr>\n",
       "    <tr>\n",
       "      <th>2</th>\n",
       "      <td>Добавить блоки рекомендаций товаров на сайт интернет магазина, чтобы повысить конверсию и средний чек заказа</td>\n",
       "      <td>8</td>\n",
       "      <td>3</td>\n",
       "      <td>7</td>\n",
       "      <td>3</td>\n",
       "    </tr>\n",
       "    <tr>\n",
       "      <th>3</th>\n",
       "      <td>Изменить структура категорий, что увеличит конверсию, т.к. пользователи быстрее найдут нужный товар</td>\n",
       "      <td>8</td>\n",
       "      <td>3</td>\n",
       "      <td>3</td>\n",
       "      <td>8</td>\n",
       "    </tr>\n",
       "    <tr>\n",
       "      <th>4</th>\n",
       "      <td>Изменить цвет фона главной страницы, чтобы увеличить вовлеченность пользователей</td>\n",
       "      <td>3</td>\n",
       "      <td>1</td>\n",
       "      <td>1</td>\n",
       "      <td>1</td>\n",
       "    </tr>\n",
       "  </tbody>\n",
       "</table>\n",
       "</div>"
      ],
      "text/plain": [
       "                                                                                                     Hypothesis  \\\n",
       "0            Добавить два новых канала привлечения трафика, что позволит привлекать на 30% больше пользователей   \n",
       "1                                     Запустить собственную службу доставки, что сократит срок доставки заказов   \n",
       "2  Добавить блоки рекомендаций товаров на сайт интернет магазина, чтобы повысить конверсию и средний чек заказа   \n",
       "3           Изменить структура категорий, что увеличит конверсию, т.к. пользователи быстрее найдут нужный товар   \n",
       "4                              Изменить цвет фона главной страницы, чтобы увеличить вовлеченность пользователей   \n",
       "\n",
       "   Reach  Impact  Confidence  Efforts  \n",
       "0      3      10           8        6  \n",
       "1      2       5           4       10  \n",
       "2      8       3           7        3  \n",
       "3      8       3           3        8  \n",
       "4      3       1           1        1  "
      ]
     },
     "metadata": {},
     "output_type": "display_data"
    },
    {
     "data": {
      "text/plain": [
       "'Описание данных'"
      ]
     },
     "metadata": {},
     "output_type": "display_data"
    },
    {
     "data": {
      "text/html": [
       "<div>\n",
       "<style scoped>\n",
       "    .dataframe tbody tr th:only-of-type {\n",
       "        vertical-align: middle;\n",
       "    }\n",
       "\n",
       "    .dataframe tbody tr th {\n",
       "        vertical-align: top;\n",
       "    }\n",
       "\n",
       "    .dataframe thead th {\n",
       "        text-align: right;\n",
       "    }\n",
       "</style>\n",
       "<table border=\"1\" class=\"dataframe\">\n",
       "  <thead>\n",
       "    <tr style=\"text-align: right;\">\n",
       "      <th></th>\n",
       "      <th>Reach</th>\n",
       "      <th>Impact</th>\n",
       "      <th>Confidence</th>\n",
       "      <th>Efforts</th>\n",
       "    </tr>\n",
       "  </thead>\n",
       "  <tbody>\n",
       "    <tr>\n",
       "      <th>count</th>\n",
       "      <td>9.00</td>\n",
       "      <td>9.00</td>\n",
       "      <td>9.00</td>\n",
       "      <td>9.00</td>\n",
       "    </tr>\n",
       "    <tr>\n",
       "      <th>mean</th>\n",
       "      <td>4.78</td>\n",
       "      <td>4.78</td>\n",
       "      <td>5.56</td>\n",
       "      <td>4.89</td>\n",
       "    </tr>\n",
       "    <tr>\n",
       "      <th>std</th>\n",
       "      <td>3.15</td>\n",
       "      <td>3.19</td>\n",
       "      <td>3.05</td>\n",
       "      <td>2.80</td>\n",
       "    </tr>\n",
       "    <tr>\n",
       "      <th>min</th>\n",
       "      <td>1.00</td>\n",
       "      <td>1.00</td>\n",
       "      <td>1.00</td>\n",
       "      <td>1.00</td>\n",
       "    </tr>\n",
       "    <tr>\n",
       "      <th>25%</th>\n",
       "      <td>3.00</td>\n",
       "      <td>3.00</td>\n",
       "      <td>3.00</td>\n",
       "      <td>3.00</td>\n",
       "    </tr>\n",
       "    <tr>\n",
       "      <th>50%</th>\n",
       "      <td>3.00</td>\n",
       "      <td>3.00</td>\n",
       "      <td>7.00</td>\n",
       "      <td>5.00</td>\n",
       "    </tr>\n",
       "    <tr>\n",
       "      <th>75%</th>\n",
       "      <td>8.00</td>\n",
       "      <td>7.00</td>\n",
       "      <td>8.00</td>\n",
       "      <td>6.00</td>\n",
       "    </tr>\n",
       "    <tr>\n",
       "      <th>max</th>\n",
       "      <td>10.00</td>\n",
       "      <td>10.00</td>\n",
       "      <td>9.00</td>\n",
       "      <td>10.00</td>\n",
       "    </tr>\n",
       "  </tbody>\n",
       "</table>\n",
       "</div>"
      ],
      "text/plain": [
       "       Reach  Impact  Confidence  Efforts\n",
       "count   9.00    9.00        9.00     9.00\n",
       "mean    4.78    4.78        5.56     4.89\n",
       "std     3.15    3.19        3.05     2.80\n",
       "min     1.00    1.00        1.00     1.00\n",
       "25%     3.00    3.00        3.00     3.00\n",
       "50%     3.00    3.00        7.00     5.00\n",
       "75%     8.00    7.00        8.00     6.00\n",
       "max    10.00   10.00        9.00    10.00"
      ]
     },
     "metadata": {},
     "output_type": "display_data"
    },
    {
     "data": {
      "text/plain": [
       "'Дубликаты'"
      ]
     },
     "metadata": {},
     "output_type": "display_data"
    },
    {
     "data": {
      "text/plain": [
       "0"
      ]
     },
     "metadata": {},
     "output_type": "display_data"
    },
    {
     "name": "stdout",
     "output_type": "stream",
     "text": [
      "**************************************************\n",
      "Общая информация\n",
      "<class 'pandas.core.frame.DataFrame'>\n",
      "RangeIndex: 1197 entries, 0 to 1196\n",
      "Data columns (total 5 columns):\n",
      " #   Column         Non-Null Count  Dtype \n",
      "---  ------         --------------  ----- \n",
      " 0   transactionId  1197 non-null   int64 \n",
      " 1   visitorId      1197 non-null   int64 \n",
      " 2   date           1197 non-null   object\n",
      " 3   revenue        1197 non-null   int64 \n",
      " 4   group          1197 non-null   object\n",
      "dtypes: int64(3), object(2)\n",
      "memory usage: 46.9+ KB\n"
     ]
    },
    {
     "data": {
      "text/plain": [
       "'Первые значения'"
      ]
     },
     "metadata": {},
     "output_type": "display_data"
    },
    {
     "data": {
      "text/html": [
       "<div>\n",
       "<style scoped>\n",
       "    .dataframe tbody tr th:only-of-type {\n",
       "        vertical-align: middle;\n",
       "    }\n",
       "\n",
       "    .dataframe tbody tr th {\n",
       "        vertical-align: top;\n",
       "    }\n",
       "\n",
       "    .dataframe thead th {\n",
       "        text-align: right;\n",
       "    }\n",
       "</style>\n",
       "<table border=\"1\" class=\"dataframe\">\n",
       "  <thead>\n",
       "    <tr style=\"text-align: right;\">\n",
       "      <th></th>\n",
       "      <th>transactionId</th>\n",
       "      <th>visitorId</th>\n",
       "      <th>date</th>\n",
       "      <th>revenue</th>\n",
       "      <th>group</th>\n",
       "    </tr>\n",
       "  </thead>\n",
       "  <tbody>\n",
       "    <tr>\n",
       "      <th>0</th>\n",
       "      <td>3667963787</td>\n",
       "      <td>3312258926</td>\n",
       "      <td>2019-08-15</td>\n",
       "      <td>1650</td>\n",
       "      <td>B</td>\n",
       "    </tr>\n",
       "    <tr>\n",
       "      <th>1</th>\n",
       "      <td>2804400009</td>\n",
       "      <td>3642806036</td>\n",
       "      <td>2019-08-15</td>\n",
       "      <td>730</td>\n",
       "      <td>B</td>\n",
       "    </tr>\n",
       "    <tr>\n",
       "      <th>2</th>\n",
       "      <td>2961555356</td>\n",
       "      <td>4069496402</td>\n",
       "      <td>2019-08-15</td>\n",
       "      <td>400</td>\n",
       "      <td>A</td>\n",
       "    </tr>\n",
       "    <tr>\n",
       "      <th>3</th>\n",
       "      <td>3797467345</td>\n",
       "      <td>1196621759</td>\n",
       "      <td>2019-08-15</td>\n",
       "      <td>9759</td>\n",
       "      <td>B</td>\n",
       "    </tr>\n",
       "    <tr>\n",
       "      <th>4</th>\n",
       "      <td>2282983706</td>\n",
       "      <td>2322279887</td>\n",
       "      <td>2019-08-15</td>\n",
       "      <td>2308</td>\n",
       "      <td>B</td>\n",
       "    </tr>\n",
       "  </tbody>\n",
       "</table>\n",
       "</div>"
      ],
      "text/plain": [
       "   transactionId   visitorId        date  revenue group\n",
       "0     3667963787  3312258926  2019-08-15     1650     B\n",
       "1     2804400009  3642806036  2019-08-15      730     B\n",
       "2     2961555356  4069496402  2019-08-15      400     A\n",
       "3     3797467345  1196621759  2019-08-15     9759     B\n",
       "4     2282983706  2322279887  2019-08-15     2308     B"
      ]
     },
     "metadata": {},
     "output_type": "display_data"
    },
    {
     "data": {
      "text/plain": [
       "'Описание данных'"
      ]
     },
     "metadata": {},
     "output_type": "display_data"
    },
    {
     "data": {
      "text/html": [
       "<div>\n",
       "<style scoped>\n",
       "    .dataframe tbody tr th:only-of-type {\n",
       "        vertical-align: middle;\n",
       "    }\n",
       "\n",
       "    .dataframe tbody tr th {\n",
       "        vertical-align: top;\n",
       "    }\n",
       "\n",
       "    .dataframe thead th {\n",
       "        text-align: right;\n",
       "    }\n",
       "</style>\n",
       "<table border=\"1\" class=\"dataframe\">\n",
       "  <thead>\n",
       "    <tr style=\"text-align: right;\">\n",
       "      <th></th>\n",
       "      <th>transactionId</th>\n",
       "      <th>visitorId</th>\n",
       "      <th>revenue</th>\n",
       "    </tr>\n",
       "  </thead>\n",
       "  <tbody>\n",
       "    <tr>\n",
       "      <th>count</th>\n",
       "      <td>1197.00</td>\n",
       "      <td>1197.00</td>\n",
       "      <td>1197.00</td>\n",
       "    </tr>\n",
       "    <tr>\n",
       "      <th>mean</th>\n",
       "      <td>2155621385.53</td>\n",
       "      <td>2165960143.10</td>\n",
       "      <td>8348.01</td>\n",
       "    </tr>\n",
       "    <tr>\n",
       "      <th>std</th>\n",
       "      <td>1229084904.76</td>\n",
       "      <td>1236014192.15</td>\n",
       "      <td>39191.13</td>\n",
       "    </tr>\n",
       "    <tr>\n",
       "      <th>min</th>\n",
       "      <td>1062393.00</td>\n",
       "      <td>5114589.00</td>\n",
       "      <td>50.00</td>\n",
       "    </tr>\n",
       "    <tr>\n",
       "      <th>25%</th>\n",
       "      <td>1166775572.00</td>\n",
       "      <td>1111826046.00</td>\n",
       "      <td>1220.00</td>\n",
       "    </tr>\n",
       "    <tr>\n",
       "      <th>50%</th>\n",
       "      <td>2145193898.00</td>\n",
       "      <td>2217984702.00</td>\n",
       "      <td>2978.00</td>\n",
       "    </tr>\n",
       "    <tr>\n",
       "      <th>75%</th>\n",
       "      <td>3237740112.00</td>\n",
       "      <td>3177606451.00</td>\n",
       "      <td>8290.00</td>\n",
       "    </tr>\n",
       "    <tr>\n",
       "      <th>max</th>\n",
       "      <td>4293855558.00</td>\n",
       "      <td>4283872382.00</td>\n",
       "      <td>1294500.00</td>\n",
       "    </tr>\n",
       "  </tbody>\n",
       "</table>\n",
       "</div>"
      ],
      "text/plain": [
       "       transactionId     visitorId    revenue\n",
       "count        1197.00       1197.00    1197.00\n",
       "mean   2155621385.53 2165960143.10    8348.01\n",
       "std    1229084904.76 1236014192.15   39191.13\n",
       "min       1062393.00    5114589.00      50.00\n",
       "25%    1166775572.00 1111826046.00    1220.00\n",
       "50%    2145193898.00 2217984702.00    2978.00\n",
       "75%    3237740112.00 3177606451.00    8290.00\n",
       "max    4293855558.00 4283872382.00 1294500.00"
      ]
     },
     "metadata": {},
     "output_type": "display_data"
    },
    {
     "data": {
      "text/plain": [
       "'Дубликаты'"
      ]
     },
     "metadata": {},
     "output_type": "display_data"
    },
    {
     "data": {
      "text/plain": [
       "0"
      ]
     },
     "metadata": {},
     "output_type": "display_data"
    },
    {
     "name": "stdout",
     "output_type": "stream",
     "text": [
      "**************************************************\n",
      "Общая информация\n",
      "<class 'pandas.core.frame.DataFrame'>\n",
      "RangeIndex: 62 entries, 0 to 61\n",
      "Data columns (total 3 columns):\n",
      " #   Column    Non-Null Count  Dtype \n",
      "---  ------    --------------  ----- \n",
      " 0   date      62 non-null     object\n",
      " 1   group     62 non-null     object\n",
      " 2   visitors  62 non-null     int64 \n",
      "dtypes: int64(1), object(2)\n",
      "memory usage: 1.6+ KB\n"
     ]
    },
    {
     "data": {
      "text/plain": [
       "'Первые значения'"
      ]
     },
     "metadata": {},
     "output_type": "display_data"
    },
    {
     "data": {
      "text/html": [
       "<div>\n",
       "<style scoped>\n",
       "    .dataframe tbody tr th:only-of-type {\n",
       "        vertical-align: middle;\n",
       "    }\n",
       "\n",
       "    .dataframe tbody tr th {\n",
       "        vertical-align: top;\n",
       "    }\n",
       "\n",
       "    .dataframe thead th {\n",
       "        text-align: right;\n",
       "    }\n",
       "</style>\n",
       "<table border=\"1\" class=\"dataframe\">\n",
       "  <thead>\n",
       "    <tr style=\"text-align: right;\">\n",
       "      <th></th>\n",
       "      <th>date</th>\n",
       "      <th>group</th>\n",
       "      <th>visitors</th>\n",
       "    </tr>\n",
       "  </thead>\n",
       "  <tbody>\n",
       "    <tr>\n",
       "      <th>0</th>\n",
       "      <td>2019-08-01</td>\n",
       "      <td>A</td>\n",
       "      <td>719</td>\n",
       "    </tr>\n",
       "    <tr>\n",
       "      <th>1</th>\n",
       "      <td>2019-08-02</td>\n",
       "      <td>A</td>\n",
       "      <td>619</td>\n",
       "    </tr>\n",
       "    <tr>\n",
       "      <th>2</th>\n",
       "      <td>2019-08-03</td>\n",
       "      <td>A</td>\n",
       "      <td>507</td>\n",
       "    </tr>\n",
       "    <tr>\n",
       "      <th>3</th>\n",
       "      <td>2019-08-04</td>\n",
       "      <td>A</td>\n",
       "      <td>717</td>\n",
       "    </tr>\n",
       "    <tr>\n",
       "      <th>4</th>\n",
       "      <td>2019-08-05</td>\n",
       "      <td>A</td>\n",
       "      <td>756</td>\n",
       "    </tr>\n",
       "  </tbody>\n",
       "</table>\n",
       "</div>"
      ],
      "text/plain": [
       "         date group  visitors\n",
       "0  2019-08-01     A       719\n",
       "1  2019-08-02     A       619\n",
       "2  2019-08-03     A       507\n",
       "3  2019-08-04     A       717\n",
       "4  2019-08-05     A       756"
      ]
     },
     "metadata": {},
     "output_type": "display_data"
    },
    {
     "data": {
      "text/plain": [
       "'Описание данных'"
      ]
     },
     "metadata": {},
     "output_type": "display_data"
    },
    {
     "data": {
      "text/html": [
       "<div>\n",
       "<style scoped>\n",
       "    .dataframe tbody tr th:only-of-type {\n",
       "        vertical-align: middle;\n",
       "    }\n",
       "\n",
       "    .dataframe tbody tr th {\n",
       "        vertical-align: top;\n",
       "    }\n",
       "\n",
       "    .dataframe thead th {\n",
       "        text-align: right;\n",
       "    }\n",
       "</style>\n",
       "<table border=\"1\" class=\"dataframe\">\n",
       "  <thead>\n",
       "    <tr style=\"text-align: right;\">\n",
       "      <th></th>\n",
       "      <th>visitors</th>\n",
       "    </tr>\n",
       "  </thead>\n",
       "  <tbody>\n",
       "    <tr>\n",
       "      <th>count</th>\n",
       "      <td>62.00</td>\n",
       "    </tr>\n",
       "    <tr>\n",
       "      <th>mean</th>\n",
       "      <td>607.29</td>\n",
       "    </tr>\n",
       "    <tr>\n",
       "      <th>std</th>\n",
       "      <td>114.40</td>\n",
       "    </tr>\n",
       "    <tr>\n",
       "      <th>min</th>\n",
       "      <td>361.00</td>\n",
       "    </tr>\n",
       "    <tr>\n",
       "      <th>25%</th>\n",
       "      <td>534.00</td>\n",
       "    </tr>\n",
       "    <tr>\n",
       "      <th>50%</th>\n",
       "      <td>624.50</td>\n",
       "    </tr>\n",
       "    <tr>\n",
       "      <th>75%</th>\n",
       "      <td>710.50</td>\n",
       "    </tr>\n",
       "    <tr>\n",
       "      <th>max</th>\n",
       "      <td>770.00</td>\n",
       "    </tr>\n",
       "  </tbody>\n",
       "</table>\n",
       "</div>"
      ],
      "text/plain": [
       "       visitors\n",
       "count     62.00\n",
       "mean     607.29\n",
       "std      114.40\n",
       "min      361.00\n",
       "25%      534.00\n",
       "50%      624.50\n",
       "75%      710.50\n",
       "max      770.00"
      ]
     },
     "metadata": {},
     "output_type": "display_data"
    },
    {
     "data": {
      "text/plain": [
       "'Дубликаты'"
      ]
     },
     "metadata": {},
     "output_type": "display_data"
    },
    {
     "data": {
      "text/plain": [
       "0"
      ]
     },
     "metadata": {},
     "output_type": "display_data"
    },
    {
     "name": "stdout",
     "output_type": "stream",
     "text": [
      "**************************************************\n"
     ]
    }
   ],
   "source": [
    "# Функция для вывода основных данных по датасету\n",
    "def all_info(data):\n",
    "    print('Общая информация')\n",
    "    data.info() #вывод общей информации\n",
    "    display('Первые значения', data.head(5)) #вывод первых 10 значений\n",
    "    display('Описание данных', data.describe()) #вывод описательной статистики по датасету\n",
    "    display('Дубликаты', data.duplicated().sum()) #поиск явных дубликатов в данных\n",
    "    print('*'*50)\n",
    "    \n",
    "# Применение функции к данным\n",
    "all_info(hypothesis)\n",
    "all_info(orders)\n",
    "all_info(visitors)"
   ]
  },
  {
   "cell_type": "markdown",
   "metadata": {},
   "source": [
    "Данные во всех 3х датасетах не нуждаются в редактировании, возможно кроме наименований колонок, которые можно привести к нижнему регистру."
   ]
  },
  {
   "cell_type": "code",
   "execution_count": 4,
   "metadata": {},
   "outputs": [],
   "source": [
    "# Переименуем наименования колонок для удобства\n",
    "hypothesis.columns = [x.lower() for x in hypothesis.columns.values]\n",
    "orders.columns = [x.lower() for x in orders.columns.values]\n",
    "orders.rename(columns = {'transactionid': 'transaction_id', 'visitorid': 'visitor_id'},inplace=True)\n",
    "visitors.columns = [x.lower() for x in visitors.columns.values]"
   ]
  },
  {
   "cell_type": "code",
   "execution_count": 5,
   "metadata": {},
   "outputs": [
    {
     "data": {
      "text/html": [
       "<div>\n",
       "<style scoped>\n",
       "    .dataframe tbody tr th:only-of-type {\n",
       "        vertical-align: middle;\n",
       "    }\n",
       "\n",
       "    .dataframe tbody tr th {\n",
       "        vertical-align: top;\n",
       "    }\n",
       "\n",
       "    .dataframe thead th {\n",
       "        text-align: right;\n",
       "    }\n",
       "</style>\n",
       "<table border=\"1\" class=\"dataframe\">\n",
       "  <thead>\n",
       "    <tr style=\"text-align: right;\">\n",
       "      <th></th>\n",
       "      <th>group</th>\n",
       "      <th>visitor_id</th>\n",
       "    </tr>\n",
       "  </thead>\n",
       "  <tbody>\n",
       "    <tr>\n",
       "      <th>0</th>\n",
       "      <td>A</td>\n",
       "      <td>46.53</td>\n",
       "    </tr>\n",
       "    <tr>\n",
       "      <th>1</th>\n",
       "      <td>B</td>\n",
       "      <td>53.47</td>\n",
       "    </tr>\n",
       "  </tbody>\n",
       "</table>\n",
       "</div>"
      ],
      "text/plain": [
       "  group  visitor_id\n",
       "0     A       46.53\n",
       "1     B       53.47"
      ]
     },
     "execution_count": 5,
     "metadata": {},
     "output_type": "execute_result"
    }
   ],
   "source": [
    "# Доли посетителей по группам\n",
    "percent = orders.groupby('group', as_index=False)['visitor_id'].count()\n",
    "percent['visitor_id'] = percent['visitor_id'] / len(orders) * 100\n",
    "percent"
   ]
  },
  {
   "cell_type": "markdown",
   "metadata": {},
   "source": [
    "**Вывод**\n",
    "\n",
    "В данных отсутствуют дубликаты и пропуски.<br>\n",
    "Кроме того по данным описательной статистики датасета orders предварительно можно сказать, что в данных присутствует аномально высокие значения (медиана = 8348, среднее = 39191)."
   ]
  },
  {
   "cell_type": "markdown",
   "metadata": {},
   "source": [
    "## Часть. Приоритезация гипотез\n",
    "### Применение фреймворка ICE\n",
    "\n",
    "Фреймворк ICE рассчитывается следующим образом: $$ICE = \\frac{Impact * Confidence}{Efforts}$$"
   ]
  },
  {
   "cell_type": "code",
   "execution_count": 6,
   "metadata": {},
   "outputs": [
    {
     "data": {
      "text/html": [
       "<div>\n",
       "<style scoped>\n",
       "    .dataframe tbody tr th:only-of-type {\n",
       "        vertical-align: middle;\n",
       "    }\n",
       "\n",
       "    .dataframe tbody tr th {\n",
       "        vertical-align: top;\n",
       "    }\n",
       "\n",
       "    .dataframe thead th {\n",
       "        text-align: right;\n",
       "    }\n",
       "</style>\n",
       "<table border=\"1\" class=\"dataframe\">\n",
       "  <thead>\n",
       "    <tr style=\"text-align: right;\">\n",
       "      <th></th>\n",
       "      <th>hypothesis</th>\n",
       "      <th>reach</th>\n",
       "      <th>impact</th>\n",
       "      <th>confidence</th>\n",
       "      <th>efforts</th>\n",
       "      <th>ICE</th>\n",
       "    </tr>\n",
       "  </thead>\n",
       "  <tbody>\n",
       "    <tr>\n",
       "      <th>8</th>\n",
       "      <td>Запустить акцию, дающую скидку на товар в день рождения</td>\n",
       "      <td>1</td>\n",
       "      <td>9</td>\n",
       "      <td>9</td>\n",
       "      <td>5</td>\n",
       "      <td>16.20</td>\n",
       "    </tr>\n",
       "    <tr>\n",
       "      <th>0</th>\n",
       "      <td>Добавить два новых канала привлечения трафика, что позволит привлекать на 30% больше пользователей</td>\n",
       "      <td>3</td>\n",
       "      <td>10</td>\n",
       "      <td>8</td>\n",
       "      <td>6</td>\n",
       "      <td>13.33</td>\n",
       "    </tr>\n",
       "    <tr>\n",
       "      <th>7</th>\n",
       "      <td>Добавить форму подписки на все основные страницы, чтобы собрать базу клиентов для email-рассылок</td>\n",
       "      <td>10</td>\n",
       "      <td>7</td>\n",
       "      <td>8</td>\n",
       "      <td>5</td>\n",
       "      <td>11.20</td>\n",
       "    </tr>\n",
       "    <tr>\n",
       "      <th>6</th>\n",
       "      <td>Показать на главной странице баннеры с актуальными акциями и распродажами, чтобы увеличить конверсию</td>\n",
       "      <td>5</td>\n",
       "      <td>3</td>\n",
       "      <td>8</td>\n",
       "      <td>3</td>\n",
       "      <td>8.00</td>\n",
       "    </tr>\n",
       "    <tr>\n",
       "      <th>2</th>\n",
       "      <td>Добавить блоки рекомендаций товаров на сайт интернет магазина, чтобы повысить конверсию и средний чек заказа</td>\n",
       "      <td>8</td>\n",
       "      <td>3</td>\n",
       "      <td>7</td>\n",
       "      <td>3</td>\n",
       "      <td>7.00</td>\n",
       "    </tr>\n",
       "    <tr>\n",
       "      <th>1</th>\n",
       "      <td>Запустить собственную службу доставки, что сократит срок доставки заказов</td>\n",
       "      <td>2</td>\n",
       "      <td>5</td>\n",
       "      <td>4</td>\n",
       "      <td>10</td>\n",
       "      <td>2.00</td>\n",
       "    </tr>\n",
       "    <tr>\n",
       "      <th>5</th>\n",
       "      <td>Добавить страницу отзывов клиентов о магазине, что позволит увеличить количество заказов</td>\n",
       "      <td>3</td>\n",
       "      <td>2</td>\n",
       "      <td>2</td>\n",
       "      <td>3</td>\n",
       "      <td>1.33</td>\n",
       "    </tr>\n",
       "    <tr>\n",
       "      <th>3</th>\n",
       "      <td>Изменить структура категорий, что увеличит конверсию, т.к. пользователи быстрее найдут нужный товар</td>\n",
       "      <td>8</td>\n",
       "      <td>3</td>\n",
       "      <td>3</td>\n",
       "      <td>8</td>\n",
       "      <td>1.12</td>\n",
       "    </tr>\n",
       "    <tr>\n",
       "      <th>4</th>\n",
       "      <td>Изменить цвет фона главной страницы, чтобы увеличить вовлеченность пользователей</td>\n",
       "      <td>3</td>\n",
       "      <td>1</td>\n",
       "      <td>1</td>\n",
       "      <td>1</td>\n",
       "      <td>1.00</td>\n",
       "    </tr>\n",
       "  </tbody>\n",
       "</table>\n",
       "</div>"
      ],
      "text/plain": [
       "                                                                                                     hypothesis  \\\n",
       "8                                                       Запустить акцию, дающую скидку на товар в день рождения   \n",
       "0            Добавить два новых канала привлечения трафика, что позволит привлекать на 30% больше пользователей   \n",
       "7              Добавить форму подписки на все основные страницы, чтобы собрать базу клиентов для email-рассылок   \n",
       "6          Показать на главной странице баннеры с актуальными акциями и распродажами, чтобы увеличить конверсию   \n",
       "2  Добавить блоки рекомендаций товаров на сайт интернет магазина, чтобы повысить конверсию и средний чек заказа   \n",
       "1                                     Запустить собственную службу доставки, что сократит срок доставки заказов   \n",
       "5                      Добавить страницу отзывов клиентов о магазине, что позволит увеличить количество заказов   \n",
       "3           Изменить структура категорий, что увеличит конверсию, т.к. пользователи быстрее найдут нужный товар   \n",
       "4                              Изменить цвет фона главной страницы, чтобы увеличить вовлеченность пользователей   \n",
       "\n",
       "   reach  impact  confidence  efforts   ICE  \n",
       "8      1       9           9        5 16.20  \n",
       "0      3      10           8        6 13.33  \n",
       "7     10       7           8        5 11.20  \n",
       "6      5       3           8        3  8.00  \n",
       "2      8       3           7        3  7.00  \n",
       "1      2       5           4       10  2.00  \n",
       "5      3       2           2        3  1.33  \n",
       "3      8       3           3        8  1.12  \n",
       "4      3       1           1        1  1.00  "
      ]
     },
     "metadata": {},
     "output_type": "display_data"
    }
   ],
   "source": [
    "# Добавление столбца с фреймворком ICE\n",
    "hypothesis['ICE'] = hypothesis['impact'] * hypothesis['confidence'] / hypothesis['efforts']\n",
    "display(hypothesis.sort_values('ICE', ascending=False))"
   ]
  },
  {
   "cell_type": "markdown",
   "metadata": {},
   "source": [
    "### Применение фреймворка RICE\n",
    "\n",
    "Фреймворк RICE рассчитывается следующим образом: $$RICE = \\frac{Rearch * Impact * Confidence}{Efforts}$$"
   ]
  },
  {
   "cell_type": "code",
   "execution_count": 7,
   "metadata": {},
   "outputs": [
    {
     "data": {
      "text/html": [
       "<div>\n",
       "<style scoped>\n",
       "    .dataframe tbody tr th:only-of-type {\n",
       "        vertical-align: middle;\n",
       "    }\n",
       "\n",
       "    .dataframe tbody tr th {\n",
       "        vertical-align: top;\n",
       "    }\n",
       "\n",
       "    .dataframe thead th {\n",
       "        text-align: right;\n",
       "    }\n",
       "</style>\n",
       "<table border=\"1\" class=\"dataframe\">\n",
       "  <thead>\n",
       "    <tr style=\"text-align: right;\">\n",
       "      <th></th>\n",
       "      <th>hypothesis</th>\n",
       "      <th>reach</th>\n",
       "      <th>impact</th>\n",
       "      <th>confidence</th>\n",
       "      <th>efforts</th>\n",
       "      <th>ICE</th>\n",
       "      <th>RICE</th>\n",
       "    </tr>\n",
       "  </thead>\n",
       "  <tbody>\n",
       "    <tr>\n",
       "      <th>7</th>\n",
       "      <td>Добавить форму подписки на все основные страницы, чтобы собрать базу клиентов для email-рассылок</td>\n",
       "      <td>10</td>\n",
       "      <td>7</td>\n",
       "      <td>8</td>\n",
       "      <td>5</td>\n",
       "      <td>11.20</td>\n",
       "      <td>112.00</td>\n",
       "    </tr>\n",
       "    <tr>\n",
       "      <th>2</th>\n",
       "      <td>Добавить блоки рекомендаций товаров на сайт интернет магазина, чтобы повысить конверсию и средний чек заказа</td>\n",
       "      <td>8</td>\n",
       "      <td>3</td>\n",
       "      <td>7</td>\n",
       "      <td>3</td>\n",
       "      <td>7.00</td>\n",
       "      <td>56.00</td>\n",
       "    </tr>\n",
       "    <tr>\n",
       "      <th>0</th>\n",
       "      <td>Добавить два новых канала привлечения трафика, что позволит привлекать на 30% больше пользователей</td>\n",
       "      <td>3</td>\n",
       "      <td>10</td>\n",
       "      <td>8</td>\n",
       "      <td>6</td>\n",
       "      <td>13.33</td>\n",
       "      <td>40.00</td>\n",
       "    </tr>\n",
       "    <tr>\n",
       "      <th>6</th>\n",
       "      <td>Показать на главной странице баннеры с актуальными акциями и распродажами, чтобы увеличить конверсию</td>\n",
       "      <td>5</td>\n",
       "      <td>3</td>\n",
       "      <td>8</td>\n",
       "      <td>3</td>\n",
       "      <td>8.00</td>\n",
       "      <td>40.00</td>\n",
       "    </tr>\n",
       "    <tr>\n",
       "      <th>8</th>\n",
       "      <td>Запустить акцию, дающую скидку на товар в день рождения</td>\n",
       "      <td>1</td>\n",
       "      <td>9</td>\n",
       "      <td>9</td>\n",
       "      <td>5</td>\n",
       "      <td>16.20</td>\n",
       "      <td>16.20</td>\n",
       "    </tr>\n",
       "    <tr>\n",
       "      <th>3</th>\n",
       "      <td>Изменить структура категорий, что увеличит конверсию, т.к. пользователи быстрее найдут нужный товар</td>\n",
       "      <td>8</td>\n",
       "      <td>3</td>\n",
       "      <td>3</td>\n",
       "      <td>8</td>\n",
       "      <td>1.12</td>\n",
       "      <td>9.00</td>\n",
       "    </tr>\n",
       "    <tr>\n",
       "      <th>1</th>\n",
       "      <td>Запустить собственную службу доставки, что сократит срок доставки заказов</td>\n",
       "      <td>2</td>\n",
       "      <td>5</td>\n",
       "      <td>4</td>\n",
       "      <td>10</td>\n",
       "      <td>2.00</td>\n",
       "      <td>4.00</td>\n",
       "    </tr>\n",
       "    <tr>\n",
       "      <th>5</th>\n",
       "      <td>Добавить страницу отзывов клиентов о магазине, что позволит увеличить количество заказов</td>\n",
       "      <td>3</td>\n",
       "      <td>2</td>\n",
       "      <td>2</td>\n",
       "      <td>3</td>\n",
       "      <td>1.33</td>\n",
       "      <td>4.00</td>\n",
       "    </tr>\n",
       "    <tr>\n",
       "      <th>4</th>\n",
       "      <td>Изменить цвет фона главной страницы, чтобы увеличить вовлеченность пользователей</td>\n",
       "      <td>3</td>\n",
       "      <td>1</td>\n",
       "      <td>1</td>\n",
       "      <td>1</td>\n",
       "      <td>1.00</td>\n",
       "      <td>3.00</td>\n",
       "    </tr>\n",
       "  </tbody>\n",
       "</table>\n",
       "</div>"
      ],
      "text/plain": [
       "                                                                                                     hypothesis  \\\n",
       "7              Добавить форму подписки на все основные страницы, чтобы собрать базу клиентов для email-рассылок   \n",
       "2  Добавить блоки рекомендаций товаров на сайт интернет магазина, чтобы повысить конверсию и средний чек заказа   \n",
       "0            Добавить два новых канала привлечения трафика, что позволит привлекать на 30% больше пользователей   \n",
       "6          Показать на главной странице баннеры с актуальными акциями и распродажами, чтобы увеличить конверсию   \n",
       "8                                                       Запустить акцию, дающую скидку на товар в день рождения   \n",
       "3           Изменить структура категорий, что увеличит конверсию, т.к. пользователи быстрее найдут нужный товар   \n",
       "1                                     Запустить собственную службу доставки, что сократит срок доставки заказов   \n",
       "5                      Добавить страницу отзывов клиентов о магазине, что позволит увеличить количество заказов   \n",
       "4                              Изменить цвет фона главной страницы, чтобы увеличить вовлеченность пользователей   \n",
       "\n",
       "   reach  impact  confidence  efforts   ICE   RICE  \n",
       "7     10       7           8        5 11.20 112.00  \n",
       "2      8       3           7        3  7.00  56.00  \n",
       "0      3      10           8        6 13.33  40.00  \n",
       "6      5       3           8        3  8.00  40.00  \n",
       "8      1       9           9        5 16.20  16.20  \n",
       "3      8       3           3        8  1.12   9.00  \n",
       "1      2       5           4       10  2.00   4.00  \n",
       "5      3       2           2        3  1.33   4.00  \n",
       "4      3       1           1        1  1.00   3.00  "
      ]
     },
     "metadata": {},
     "output_type": "display_data"
    }
   ],
   "source": [
    "# Добавление столбца с фреймворком RICE\n",
    "hypothesis['RICE'] = hypothesis['reach'] * hypothesis['impact'] * hypothesis['confidence'] / hypothesis['efforts']\n",
    "display(hypothesis.sort_values('RICE', ascending=False))"
   ]
  },
  {
   "cell_type": "markdown",
   "metadata": {},
   "source": [
    "### Описание результатов"
   ]
  },
  {
   "cell_type": "markdown",
   "metadata": {},
   "source": [
    "При применении фреймворка ICE мы не учитывали охват пользователей, соответственно топ-3 приоритетными гипотезами стали гипотезы под номерами 8, 0, 7.<br>\n",
    "При применении фреймворка RICE мы учли охват пользователей, соответственно топ-3 приоритетными гипотезами стали гипотезы под номерами 7, 2, 0.\n",
    "Если есть возможность учесть охват пользователей, на которых повлияет возможное изменение, то стоит это сделать."
   ]
  },
  {
   "cell_type": "markdown",
   "metadata": {},
   "source": [
    "## Часть. Анализ А/В-теста\n",
    "### График кумулятивной выручки"
   ]
  },
  {
   "cell_type": "code",
   "execution_count": 8,
   "metadata": {
    "scrolled": false
   },
   "outputs": [
    {
     "data": {
      "image/png": "[encoded data removed]",
      "text/plain": [
       "<Figure size 720x360 with 1 Axes>"
      ]
     },
     "metadata": {
      "needs_background": "light"
     },
     "output_type": "display_data"
    }
   ],
   "source": [
    "# Массив уникальных пар значений дат и групп теста\n",
    "date_group = orders[['date','group']].drop_duplicates()\n",
    "\n",
    "# Агрегированные кумулятивные по дням данные о заказах \n",
    "orders_aggregated = (\n",
    "    date_group.apply(\n",
    "    lambda x: orders[np.logical_and(orders['date'] <= x['date'], orders['group'] == x['group'])]\n",
    "    .agg({'date' : 'max', 'group' : 'max', 'transaction_id' : 'nunique', 'visitor_id' : 'nunique', 'revenue' : 'sum'}), axis=1)\n",
    "    .sort_values(by=['date','group'])\n",
    ")\n",
    "\n",
    "# Агрегированные кумулятивные по дням данные о посетителях\n",
    "visitors_aggregated = (\n",
    "    date_group.apply(\n",
    "        lambda x: visitors[np.logical_and(visitors['date'] <= x['date'], visitors['group'] == x['group'])]\n",
    "        .agg({'date' : 'max', 'group' : 'max', 'visitors' : 'sum'}), axis=1)\n",
    "    .sort_values(by=['date','group'])\n",
    ")\n",
    "\n",
    "# Объединение кумулятивных данных в одну таблицу\n",
    "cumulative_data = orders_aggregated.merge(visitors_aggregated, left_on=['date', 'group'], right_on=['date', 'group'])\n",
    "\n",
    "# Переименовывание колонок таблицы\n",
    "cumulative_data.columns = ['date', 'group', 'orders', 'buyers', 'revenue', 'visitors']\n",
    "\n",
    "# Датафрейм с кумулятивным количеством заказов и кумулятивной выручкой по дням в группе A\n",
    "cumulative_rev_a = cumulative_data[cumulative_data['group']=='A'][['date','revenue', 'orders']]\n",
    "\n",
    "# Датафрейм с кумулятивным количеством заказов и кумулятивной выручкой по дням в группе B\n",
    "cumulative_rev_b = cumulative_data[cumulative_data['group']=='B'][['date','revenue', 'orders']]\n",
    "\n",
    "# Построение графиков выручки по группам\n",
    "plt.figure(figsize=(10, 5))\n",
    "plt.plot(cumulative_rev_a['date'].astype('datetime64[D]'), cumulative_rev_a['revenue'], label='A')\n",
    "plt.plot(cumulative_rev_b['date'].astype('datetime64[D]'), cumulative_rev_b['revenue'], label='B')\n",
    "plt.legend()\n",
    "plt.grid(True)\n",
    "plt.title('Кумулятивная выручка в группах А и В')\n",
    "plt.ylabel('Выручка, млн.')\n",
    "plt.xlabel('Дата')\n",
    "plt.show()"
   ]
  },
  {
   "cell_type": "markdown",
   "metadata": {},
   "source": [
    "По графикам видно следующее:\n",
    "1. выручка в обеих группах постепенно растет\n",
    "2. выручка от группы А растет почти линейно без резких скачков\n",
    "3. выручка в группе В резко скакнула 18 числа, возможно в этот день было большое количество заказов или были дорогие заказы."
   ]
  },
  {
   "cell_type": "markdown",
   "metadata": {},
   "source": [
    "### График кумулятивного среднего чека"
   ]
  },
  {
   "cell_type": "code",
   "execution_count": 9,
   "metadata": {},
   "outputs": [
    {
     "data": {
      "image/png": "[encoded data removed]",
      "text/plain": [
       "<Figure size 720x360 with 1 Axes>"
      ]
     },
     "metadata": {
      "needs_background": "light"
     },
     "output_type": "display_data"
    }
   ],
   "source": [
    "# Построение графиков среднего чека по группам\n",
    "plt.figure(figsize=(10, 5))\n",
    "plt.plot(cumulative_rev_a['date'].astype('datetime64[D]'), cumulative_rev_a['revenue']/cumulative_rev_a['orders'], label='A')\n",
    "plt.plot(cumulative_rev_b['date'].astype('datetime64[D]'), cumulative_rev_b['revenue']/cumulative_rev_b['orders'], label='B')\n",
    "plt.legend() \n",
    "plt.grid(True)\n",
    "plt.title('Кумулятивный средний чек в группах А и В')\n",
    "plt.ylabel('Средний чек')\n",
    "plt.xlabel('Дата')\n",
    "plt.show()"
   ]
  },
  {
   "cell_type": "markdown",
   "metadata": {},
   "source": [
    "По графикам видно следующее:\n",
    "1. в первой половине теста средний чек группы А сильно изменяется, во второй половине значение среднего чека становится более равномерным\n",
    "2. в первой половине теста средний чек группы В меняется скачкообразно, далее 18 числа произошел сильный скачек за которым следует равномерный спад, вероятнее всего в этот день был совершен заказ на очень крупную сумму"
   ]
  },
  {
   "cell_type": "markdown",
   "metadata": {},
   "source": [
    "### График относительного изменения кумулятивного среднего чека группы В к А"
   ]
  },
  {
   "cell_type": "code",
   "execution_count": 10,
   "metadata": {},
   "outputs": [
    {
     "data": {
      "image/png": "[encoded data removed]",
      "text/plain": [
       "<Figure size 720x360 with 1 Axes>"
      ]
     },
     "metadata": {
      "needs_background": "light"
     },
     "output_type": "display_data"
    }
   ],
   "source": [
    "# Создание общей таблицы данных групп А и В\n",
    "merged_cumulative_rev = cumulative_rev_a.merge(cumulative_rev_b, left_on='date', \n",
    "                                               right_on='date', how='left', suffixes=['A', 'B'])\n",
    "\n",
    "# График отношения средних чеков\n",
    "plt.figure(figsize=(10, 5))\n",
    "plt.plot(merged_cumulative_rev['date'].astype('datetime64[D]'), \n",
    "         (merged_cumulative_rev['revenueB']/merged_cumulative_rev['ordersB'])/\n",
    "         (merged_cumulative_rev['revenueA']/merged_cumulative_rev['ordersA'])-1)\n",
    "plt.axhline(y=0, color='black', linestyle='--') \n",
    "plt.grid(True)\n",
    "plt.title('Относительное изменение среднего чека группы B относительно группы A')\n",
    "plt.xlabel('Дата')\n",
    "plt.show()"
   ]
  },
  {
   "cell_type": "markdown",
   "metadata": {},
   "source": [
    "График соответствует картине в пункте 3.2:\n",
    "1. в первой половине теста два скачка, при этом средний чек в группе В выше\n",
    "2. в середине теста падение, т.к. в это время средний чек в группе А выше\n",
    "3. резкий скачек с 18 числа и дальнейшее падение среднего чека группы В"
   ]
  },
  {
   "cell_type": "markdown",
   "metadata": {},
   "source": [
    "### График кумулятивной конверсии по группам"
   ]
  },
  {
   "cell_type": "code",
   "execution_count": 11,
   "metadata": {},
   "outputs": [
    {
     "data": {
      "image/png": "[encoded data removed]",
      "text/plain": [
       "<Figure size 720x360 with 1 Axes>"
      ]
     },
     "metadata": {
      "needs_background": "light"
     },
     "output_type": "display_data"
    }
   ],
   "source": [
    "# Расчет кумулятивной конверсии\n",
    "cumulative_data['conversion'] = cumulative_data['orders']/cumulative_data['visitors']\n",
    "\n",
    "# Данные по группе A\n",
    "cumulative_data_a = cumulative_data[cumulative_data['group']=='A']\n",
    "\n",
    "# Данные по группе B\n",
    "cumulative_data_b = cumulative_data[cumulative_data['group']=='B']\n",
    "\n",
    "# Графики кумулятивной конверсии по группам\n",
    "plt.figure(figsize=(10, 5))\n",
    "plt.plot(cumulative_data_a['date'].astype('datetime64[D]'), cumulative_data_a['conversion'], label='A')\n",
    "plt.plot(cumulative_data_b['date'].astype('datetime64[D]'), cumulative_data_b['conversion'], label='B')\n",
    "plt.legend()\n",
    "plt.grid(True)\n",
    "plt.title('Кумулятивная конверсия в группах А и В')\n",
    "plt.ylabel('Конверсия')\n",
    "plt.xlabel('Дата')\n",
    "plt.show()"
   ]
  },
  {
   "cell_type": "markdown",
   "metadata": {},
   "source": [
    "По графикам видно следующее:\n",
    "1. в начале теста конверсии имеют сопоставимые скачки\n",
    "2. начиная с 5 числа конверсия группы В выросла и под конец теста колеблется около значения 0.034\n",
    "3. начиная с 5 числа конверсия группы А просела и под конец теста колеблется около значения 0.030"
   ]
  },
  {
   "cell_type": "markdown",
   "metadata": {},
   "source": [
    "### График относительного изменения кумулятивной конверсии группы В к А"
   ]
  },
  {
   "cell_type": "code",
   "execution_count": 12,
   "metadata": {},
   "outputs": [
    {
     "data": {
      "image/png": "[encoded data removed]",
      "text/plain": [
       "<Figure size 720x360 with 1 Axes>"
      ]
     },
     "metadata": {
      "needs_background": "light"
     },
     "output_type": "display_data"
    }
   ],
   "source": [
    "# Создание общей таблицы данных групп А и В\n",
    "merged_cumulative_con = cumulative_data_a[['date','conversion']].merge(cumulative_data_b[['date','conversion']], \n",
    "                                                                       left_on='date', right_on='date', \n",
    "                                                                       how='left', suffixes=['A', 'B'])\n",
    "\n",
    "# График отношения конверсий\n",
    "plt.figure(figsize=(10, 5))\n",
    "plt.plot(merged_cumulative_con['date'].astype('datetime64[D]'), \n",
    "         merged_cumulative_con['conversionB']/merged_cumulative_con['conversionA']-1)\n",
    "\n",
    "plt.grid(True)\n",
    "plt.title('Относительное изменение конверсии группы B относительно группы A')\n",
    "plt.xlabel('Дата')\n",
    "plt.axhline(y=0, color='black', linestyle='--')\n",
    "plt.show()"
   ]
  },
  {
   "cell_type": "markdown",
   "metadata": {},
   "source": [
    "По графику видно, что в начале теста конверсия группы В была ниже, чем в группе А (кроме скачка), а затем с 5 числа начала резко расти и под конец теста колеблется на значении 0.13"
   ]
  },
  {
   "cell_type": "markdown",
   "metadata": {},
   "source": [
    "### График количества заказов по пользователям"
   ]
  },
  {
   "cell_type": "code",
   "execution_count": 13,
   "metadata": {},
   "outputs": [
    {
     "data": {
      "image/png": "[encoded data removed]",
      "text/plain": [
       "<Figure size 720x360 with 1 Axes>"
      ]
     },
     "metadata": {
      "needs_background": "light"
     },
     "output_type": "display_data"
    }
   ],
   "source": [
    "# Данные по заказам пользователей\n",
    "orders_by_visitors = (\n",
    "    orders.groupby('visitor_id', as_index=False)\n",
    "    .agg({'transaction_id': 'nunique', 'group': 'max'})\n",
    ")\n",
    "\n",
    "# Переименовывание колонок таблицы\n",
    "orders_by_visitors.columns = ['visitor_id', 'orders', 'group']\n",
    "\n",
    "# Количество пользователей\n",
    "x_values = pd.Series(range(0,len(orders_by_visitors)))\n",
    "\n",
    "# Построение графика заказов\n",
    "plt.figure(figsize=(10, 5))\n",
    "plt.scatter(x_values, orders_by_visitors['orders']) \n",
    "plt.grid(True)\n",
    "plt.title('Количество заказов')\n",
    "plt.ylabel('Заказы')\n",
    "plt.xlabel('Пользователь')\n",
    "plt.show()"
   ]
  },
  {
   "cell_type": "markdown",
   "metadata": {},
   "source": [
    "Довольно большое количество пользользователей с 2 заказами, стоит посчитать перцентили, чтобы понять являются ли эти значения аномальными или нет"
   ]
  },
  {
   "cell_type": "code",
   "execution_count": 14,
   "metadata": {},
   "outputs": [
    {
     "data": {
      "text/plain": [
       "array([1., 2., 4.])"
      ]
     },
     "execution_count": 14,
     "metadata": {},
     "output_type": "execute_result"
    }
   ],
   "source": [
    "np.percentile(orders_by_visitors['orders'], [90, 95, 99])"
   ]
  },
  {
   "cell_type": "markdown",
   "metadata": {},
   "source": [
    "Пользователи, которые заказывали более 2 раз относятся к аномальным"
   ]
  },
  {
   "cell_type": "markdown",
   "metadata": {},
   "source": [
    "### График стоимостей заказов"
   ]
  },
  {
   "cell_type": "code",
   "execution_count": 15,
   "metadata": {},
   "outputs": [
    {
     "data": {
      "image/png": "[encoded data removed]",
      "text/plain": [
       "<Figure size 720x360 with 1 Axes>"
      ]
     },
     "metadata": {
      "needs_background": "light"
     },
     "output_type": "display_data"
    }
   ],
   "source": [
    "# Количество пользователей\n",
    "x_values = pd.Series(range(0,len(orders['revenue'])))\n",
    "\n",
    "# Построение графика заказов\n",
    "plt.figure(figsize=(10, 5))\n",
    "plt.scatter(x_values, orders['revenue'])\n",
    "plt.grid(True)\n",
    "plt.title('Стоимость заказов')\n",
    "plt.ylabel('Стоимость заказа, млн.')\n",
    "plt.xlabel('Пользователи')\n",
    "plt.show()"
   ]
  },
  {
   "cell_type": "markdown",
   "metadata": {},
   "source": [
    "По графику видно, что есть 2 явно выраженных аномальных значения, для определения выборки стоит расчитать перцентили"
   ]
  },
  {
   "cell_type": "code",
   "execution_count": 16,
   "metadata": {
    "scrolled": true
   },
   "outputs": [
    {
     "data": {
      "text/plain": [
       "array([18168. , 28000. , 58233.2])"
      ]
     },
     "execution_count": 16,
     "metadata": {},
     "output_type": "execute_result"
    }
   ],
   "source": [
    "np.percentile(orders['revenue'], [90, 95, 99])"
   ]
  },
  {
   "cell_type": "markdown",
   "metadata": {},
   "source": [
    "Все заказы, стоимостью выше 28 тыс. относятся к аномальным"
   ]
  },
  {
   "cell_type": "markdown",
   "metadata": {},
   "source": [
    "### Расчет статистической значимости различий в конверсии по \"сырым\" данным"
   ]
  },
  {
   "cell_type": "markdown",
   "metadata": {},
   "source": [
    "Нулевая гипотеза: различий в конверсии между группами нет. <br>\n",
    "Альтернативная гипотеза: различия в конверсии между группами есть.<br>\n",
    "Для проверки гипотез воспользуемся тестом Манна-Уитни, при этом p-value = 0.05"
   ]
  },
  {
   "cell_type": "code",
   "execution_count": 17,
   "metadata": {
    "scrolled": true
   },
   "outputs": [
    {
     "name": "stdout",
     "output_type": "stream",
     "text": [
      "0.012\n",
      "0.374\n"
     ]
    }
   ],
   "source": [
    "# Заказы пользователей разбитые по группам\n",
    "orders_by_visitors_a = orders_by_visitors[orders_by_visitors['group'] == 'A']\n",
    "orders_by_visitors_b = orders_by_visitors[orders_by_visitors['group'] == 'B']\n",
    "\n",
    "# Данные со всеми заказами пользователей\n",
    "sample_a = pd.concat(\n",
    "    [\n",
    "        orders_by_visitors_a['orders'],\n",
    "        pd.Series(\n",
    "            0,\n",
    "            index=np.arange(\n",
    "                cumulative_rev_a['orders'].sum() - len(orders_by_visitors_a['orders'])\n",
    "            ),\n",
    "            name='orders',\n",
    "        ),\n",
    "    ],\n",
    "    axis=0,\n",
    ")\n",
    "\n",
    "sample_b = pd.concat(\n",
    "    [\n",
    "       orders_by_visitors_b['orders'],\n",
    "        pd.Series(\n",
    "            0,\n",
    "            index=np.arange(\n",
    "               cumulative_rev_b['orders'].sum() - len(orders_by_visitors_b['orders'])\n",
    "            ),\n",
    "            name='orders',\n",
    "        ),\n",
    "    ],\n",
    "    axis=0,\n",
    ")\n",
    "\n",
    "print(\"{0:.3f}\".format(stats.mannwhitneyu(sample_a, sample_b)[1]))\n",
    "print(\"{0:.3f}\".format(sample_b.mean() / sample_a.mean() - 1))"
   ]
  },
  {
   "cell_type": "markdown",
   "metadata": {},
   "source": [
    "По сырым данным p-value ниже чем порог статистической значимости 0.05, значит нулевую гипотезу о статистически значимых различий в конверсии между группами можно отвергнуть."
   ]
  },
  {
   "cell_type": "markdown",
   "metadata": {},
   "source": [
    "### Расчет статистической значимости различий в среднем чеке по \"сырым\" данным"
   ]
  },
  {
   "cell_type": "markdown",
   "metadata": {},
   "source": [
    "Нулевая гипотеза: различий в среднем чеке между группами нет.<br> \n",
    "Альтернативная гипотеза: различия в среднем чеке между группами есть.<br>\n",
    "Для проверки гипотез воспользуемся тестом Манна-Уитни, при этом p-value = 0.05"
   ]
  },
  {
   "cell_type": "code",
   "execution_count": 18,
   "metadata": {},
   "outputs": [
    {
     "name": "stdout",
     "output_type": "stream",
     "text": [
      "0.729\n",
      "0.259\n"
     ]
    }
   ],
   "source": [
    "print('{0:.3f}'.format(stats.mannwhitneyu(orders[orders['group']=='A']['revenue'], orders[orders['group']=='B']['revenue'])[1]))\n",
    "print('{0:.3f}'.format(orders[orders['group']=='B']['revenue'].mean()/orders[orders['group']=='A']['revenue'].mean()-1)) "
   ]
  },
  {
   "cell_type": "markdown",
   "metadata": {},
   "source": [
    "По сырым данным p-value намного выше чем порог статистической значимости 0.05, значит нулевая гипотеза о статистически значимых различий в среднем чеке между группами не отвергается."
   ]
  },
  {
   "cell_type": "markdown",
   "metadata": {},
   "source": [
    "### Расчет статистической значимости различий в конверсии по \"очищенным\" данным"
   ]
  },
  {
   "cell_type": "code",
   "execution_count": 19,
   "metadata": {},
   "outputs": [],
   "source": [
    "# Выделение аномальных значений\n",
    "anomaly_orders = pd.concat(\n",
    "    [\n",
    "        orders_by_visitors[np.logical_and(orders_by_visitors['group'] == 'A', orders_by_visitors['orders'] > 2)]['visitor_id'],\n",
    "        orders_by_visitors[np.logical_and(orders_by_visitors['group'] == 'B', orders_by_visitors['orders'] > 2)]['visitor_id'],\n",
    "    ],\n",
    "    axis=0,\n",
    ")\n",
    "anomaly_expensive = orders[orders['revenue'] > 28000]['visitor_id']\n",
    "abnormal_users = (\n",
    "    pd.concat([anomaly_orders, anomaly_expensive], axis=0)\n",
    "    .drop_duplicates()\n",
    "    .sort_values()\n",
    ")"
   ]
  },
  {
   "cell_type": "code",
   "execution_count": 20,
   "metadata": {
    "scrolled": false
   },
   "outputs": [
    {
     "name": "stdout",
     "output_type": "stream",
     "text": [
      "0.067\n",
      "0.184\n"
     ]
    }
   ],
   "source": [
    "# Отфильтрованныве данные со всеми заказами пользователей\n",
    "sample_a_filtered = pd.concat(\n",
    "    [\n",
    "        orders_by_visitors_a[\n",
    "            np.logical_not(orders_by_visitors_a['visitor_id'].isin(abnormal_users))\n",
    "        ]['orders'],\n",
    "        pd.Series(\n",
    "            0,\n",
    "            index=np.arange(\n",
    "               cumulative_rev_a['orders'].sum() - len(orders_by_visitors_a['orders'])\n",
    "            ),\n",
    "            name='orders',\n",
    "        ),\n",
    "    ],\n",
    "    axis=0,\n",
    ")\n",
    "\n",
    "sample_b_filtered = pd.concat(\n",
    "    [\n",
    "        orders_by_visitors_b[\n",
    "            np.logical_not(orders_by_visitors_b['visitor_id'].isin(abnormal_users))\n",
    "        ]['orders'],\n",
    "        pd.Series(\n",
    "            0,\n",
    "            index=np.arange(\n",
    "               cumulative_rev_b['orders'].sum() - len(orders_by_visitors_b['orders'])\n",
    "            ),\n",
    "            name='orders',\n",
    "        ),\n",
    "    ],\n",
    "    axis=0,\n",
    ") \n",
    "print('{0:.3f}'.format(stats.mannwhitneyu(sample_a_filtered, sample_b_filtered)[1]))\n",
    "print('{0:.3f}'.format(sample_b_filtered.mean()/sample_a_filtered.mean()-1)) "
   ]
  },
  {
   "cell_type": "markdown",
   "metadata": {},
   "source": [
    "По очищенным данным p-value выше чем порог статистической значимости 0.05, значит нулевая гипотеза о статистически значимых различий в конверсии между группами не отвергается."
   ]
  },
  {
   "cell_type": "markdown",
   "metadata": {},
   "source": [
    "### Расчет статистической значимости различий в среднем чеке по \"очищенным\" данным"
   ]
  },
  {
   "cell_type": "code",
   "execution_count": 21,
   "metadata": {
    "scrolled": true
   },
   "outputs": [
    {
     "name": "stdout",
     "output_type": "stream",
     "text": [
      "0.753\n",
      "-0.022\n"
     ]
    }
   ],
   "source": [
    "print(\n",
    "    '{0:.3f}'.format(\n",
    "        stats.mannwhitneyu(\n",
    "            orders[\n",
    "                np.logical_and(\n",
    "                    orders['group'] == 'A',\n",
    "                    np.logical_not(orders['visitor_id'].isin(abnormal_users)),\n",
    "                )\n",
    "            ]['revenue'],\n",
    "            orders[\n",
    "                np.logical_and(\n",
    "                    orders['group'] == 'B',\n",
    "                    np.logical_not(orders['visitor_id'].isin(abnormal_users)),\n",
    "                )\n",
    "            ]['revenue'],\n",
    "        )[1]\n",
    "    )\n",
    ")\n",
    "print(\n",
    "    \"{0:.3f}\".format(\n",
    "        orders[\n",
    "            np.logical_and(\n",
    "                orders['group'] == 'B',\n",
    "                np.logical_not(orders['visitor_id'].isin(abnormal_users)),\n",
    "            )\n",
    "        ]['revenue'].mean()\n",
    "        / orders[\n",
    "            np.logical_and(\n",
    "                orders['group'] == 'A',\n",
    "                np.logical_not(orders['visitor_id'].isin(abnormal_users)),\n",
    "            )\n",
    "        ]['revenue'].mean()\n",
    "        - 1\n",
    "    )\n",
    ")"
   ]
  },
  {
   "cell_type": "markdown",
   "metadata": {},
   "source": [
    "По очищенным данным p-value выше чем порог статистической значимости 0.05, значит нулевая гипотеза о статистически значимых различий в среднем чеке между группами не отвергается."
   ]
  },
  {
   "cell_type": "markdown",
   "metadata": {},
   "source": [
    "## Подведение итогов\n",
    "### Общий вывод по работе"
   ]
  },
  {
   "cell_type": "markdown",
   "metadata": {},
   "source": [
    "**Конверсия**\n",
    "1. Конверсия \"сырых\" данных имеет статистически значимое отличие (p-value = 0.012).\n",
    "2. Конверсия \"очищенных\" данных не имеет статистически значимого отличия (p-value = 0.067).\n",
    "3. По графику относительного изменения конверсии группы В к А можно сказать, что группа В на 15% лучше конвертируется чем группа А.\n",
    "\n",
    "**Средний чек**\n",
    "1. Средний чек \"сырых\" данных не имеет статистически значимое отличие (p-value = 0.729).\n",
    "2. Средний чек \"очищенных\" данных не имеет статистически значимого отличия (p-value = 0.753).\n",
    "3. По графику относительного изменения среднего чека группы В к А можно сказать, что средний чек группы В лучше (из-за аномально дорогого заказа), но значение падает.\n",
    "\n",
    "Стоит остановить тест и признать его упешным для группы В, т.к. в этой группе конверсия выше на 15%."
   ]
  }
 ],
 "metadata": {
  "ExecuteTimeLog": [
   {
    "duration": 1143,
    "start_time": "2022-04-01T08:43:19.860Z"
   },
   {
    "duration": 3,
    "start_time": "2022-04-01T09:34:09.228Z"
   },
   {
    "duration": 3,
    "start_time": "2022-04-01T09:37:49.806Z"
   },
   {
    "duration": 12,
    "start_time": "2022-04-01T09:37:56.392Z"
   },
   {
    "duration": 14,
    "start_time": "2022-04-01T09:38:01.069Z"
   },
   {
    "duration": 11,
    "start_time": "2022-04-01T09:38:05.907Z"
   },
   {
    "duration": 13,
    "start_time": "2022-04-01T09:38:12.116Z"
   },
   {
    "duration": 14,
    "start_time": "2022-04-01T09:39:51.019Z"
   },
   {
    "duration": 12,
    "start_time": "2022-04-01T09:40:02.746Z"
   },
   {
    "duration": 13,
    "start_time": "2022-04-01T09:40:18.571Z"
   },
   {
    "duration": 14,
    "start_time": "2022-04-01T09:40:53.961Z"
   },
   {
    "duration": 4,
    "start_time": "2022-04-01T09:41:04.135Z"
   },
   {
    "duration": 7,
    "start_time": "2022-04-01T09:52:49.659Z"
   },
   {
    "duration": 8,
    "start_time": "2022-04-01T09:52:53.872Z"
   },
   {
    "duration": 10,
    "start_time": "2022-04-01T09:53:39.181Z"
   },
   {
    "duration": 10,
    "start_time": "2022-04-01T09:54:58.134Z"
   },
   {
    "duration": 9,
    "start_time": "2022-04-01T09:56:30.507Z"
   },
   {
    "duration": 1331,
    "start_time": "2022-04-02T22:04:36.472Z"
   },
   {
    "duration": 7,
    "start_time": "2022-04-02T22:04:37.806Z"
   },
   {
    "duration": 29,
    "start_time": "2022-04-02T22:04:37.815Z"
   },
   {
    "duration": 42,
    "start_time": "2022-04-02T22:04:37.847Z"
   },
   {
    "duration": 742,
    "start_time": "2022-04-02T22:11:31.091Z"
   },
   {
    "duration": 1190,
    "start_time": "2022-04-02T22:11:36.522Z"
   },
   {
    "duration": 6,
    "start_time": "2022-04-02T22:11:37.714Z"
   },
   {
    "duration": 20,
    "start_time": "2022-04-02T22:11:37.722Z"
   },
   {
    "duration": 50,
    "start_time": "2022-04-02T22:11:37.745Z"
   },
   {
    "duration": 7,
    "start_time": "2022-04-02T22:12:33.123Z"
   },
   {
    "duration": 16,
    "start_time": "2022-04-02T22:12:39.362Z"
   },
   {
    "duration": 129,
    "start_time": "2022-04-02T22:12:51.448Z"
   },
   {
    "duration": 127,
    "start_time": "2022-04-02T22:13:15.572Z"
   },
   {
    "duration": 137,
    "start_time": "2022-04-02T22:13:20.451Z"
   },
   {
    "duration": 121,
    "start_time": "2022-04-02T22:13:22.362Z"
   },
   {
    "duration": 641,
    "start_time": "2022-04-02T22:13:35.642Z"
   },
   {
    "duration": 524,
    "start_time": "2022-04-02T22:13:59.835Z"
   },
   {
    "duration": 497,
    "start_time": "2022-04-02T22:14:08.395Z"
   },
   {
    "duration": 14,
    "start_time": "2022-04-02T22:14:18.492Z"
   },
   {
    "duration": 19,
    "start_time": "2022-04-02T22:14:44.628Z"
   },
   {
    "duration": 16,
    "start_time": "2022-04-02T22:14:50.187Z"
   },
   {
    "duration": 635,
    "start_time": "2022-04-02T22:17:54.475Z"
   },
   {
    "duration": 34,
    "start_time": "2022-04-02T22:20:19.312Z"
   },
   {
    "duration": 23,
    "start_time": "2022-04-02T22:21:50.287Z"
   },
   {
    "duration": 23,
    "start_time": "2022-04-02T22:24:19.149Z"
   },
   {
    "duration": 31,
    "start_time": "2022-04-02T22:24:29.276Z"
   },
   {
    "duration": 40,
    "start_time": "2022-04-02T22:26:13.003Z"
   },
   {
    "duration": 40,
    "start_time": "2022-04-02T22:27:08.956Z"
   },
   {
    "duration": 1713,
    "start_time": "2022-04-02T22:27:20.717Z"
   },
   {
    "duration": 56,
    "start_time": "2022-04-02T22:27:22.433Z"
   },
   {
    "duration": 18,
    "start_time": "2022-04-02T22:27:22.492Z"
   },
   {
    "duration": 18,
    "start_time": "2022-04-02T22:27:22.513Z"
   },
   {
    "duration": 221,
    "start_time": "2022-04-02T22:27:22.533Z"
   },
   {
    "duration": 26,
    "start_time": "2022-04-02T22:27:54.368Z"
   },
   {
    "duration": 20,
    "start_time": "2022-04-02T22:28:03.648Z"
   },
   {
    "duration": 8,
    "start_time": "2022-04-02T22:29:43.480Z"
   },
   {
    "duration": 20,
    "start_time": "2022-04-02T22:29:56.968Z"
   },
   {
    "duration": 460,
    "start_time": "2022-04-02T22:30:03.432Z"
   },
   {
    "duration": 856,
    "start_time": "2022-04-02T22:30:25.902Z"
   },
   {
    "duration": 1010,
    "start_time": "2022-04-02T22:32:16.389Z"
   },
   {
    "duration": 1605,
    "start_time": "2022-04-02T22:32:48.096Z"
   },
   {
    "duration": 6,
    "start_time": "2022-04-02T22:32:49.704Z"
   },
   {
    "duration": 24,
    "start_time": "2022-04-02T22:32:49.712Z"
   },
   {
    "duration": 37,
    "start_time": "2022-04-02T22:32:49.739Z"
   },
   {
    "duration": 851,
    "start_time": "2022-04-02T22:32:49.782Z"
   },
   {
    "duration": 420,
    "start_time": "2022-04-02T22:32:50.635Z"
   },
   {
    "duration": 496,
    "start_time": "2022-04-02T22:32:51.057Z"
   },
   {
    "duration": 846,
    "start_time": "2022-04-02T22:33:30.501Z"
   },
   {
    "duration": 596,
    "start_time": "2022-04-02T22:35:15.686Z"
   },
   {
    "duration": 467,
    "start_time": "2022-04-02T22:35:25.852Z"
   },
   {
    "duration": 815,
    "start_time": "2022-04-02T22:36:39.211Z"
   },
   {
    "duration": 30,
    "start_time": "2022-04-02T22:39:51.267Z"
   },
   {
    "duration": 533,
    "start_time": "2022-04-02T22:39:58.842Z"
   },
   {
    "duration": 469,
    "start_time": "2022-04-02T22:40:10.000Z"
   },
   {
    "duration": 368,
    "start_time": "2022-04-02T22:40:18.024Z"
   },
   {
    "duration": 484,
    "start_time": "2022-04-02T22:40:22.780Z"
   },
   {
    "duration": 157,
    "start_time": "2022-04-02T22:40:57.090Z"
   },
   {
    "duration": 227,
    "start_time": "2022-04-02T22:42:11.422Z"
   },
   {
    "duration": 18,
    "start_time": "2022-04-02T22:42:36.689Z"
   },
   {
    "duration": 130,
    "start_time": "2022-04-02T22:44:11.736Z"
   },
   {
    "duration": 637,
    "start_time": "2022-04-02T22:44:16.069Z"
   },
   {
    "duration": 405,
    "start_time": "2022-04-02T22:45:15.710Z"
   },
   {
    "duration": 22,
    "start_time": "2022-04-02T22:46:24.504Z"
   },
   {
    "duration": 24,
    "start_time": "2022-04-02T22:46:34.246Z"
   },
   {
    "duration": 582,
    "start_time": "2022-04-02T22:46:40.533Z"
   },
   {
    "duration": 119,
    "start_time": "2022-04-02T22:46:56.244Z"
   },
   {
    "duration": 455,
    "start_time": "2022-04-02T22:47:11.741Z"
   },
   {
    "duration": 484,
    "start_time": "2022-04-02T22:47:33.094Z"
   },
   {
    "duration": 1155,
    "start_time": "2022-04-02T22:47:38.909Z"
   },
   {
    "duration": 341,
    "start_time": "2022-04-02T22:47:57.673Z"
   },
   {
    "duration": 796,
    "start_time": "2022-04-02T22:47:58.623Z"
   },
   {
    "duration": 756,
    "start_time": "2022-04-02T22:48:47.684Z"
   },
   {
    "duration": 836,
    "start_time": "2022-04-02T22:49:13.382Z"
   },
   {
    "duration": 757,
    "start_time": "2022-04-02T22:49:22.116Z"
   },
   {
    "duration": 544,
    "start_time": "2022-04-02T22:50:10.802Z"
   },
   {
    "duration": 1089,
    "start_time": "2022-04-02T22:50:12.233Z"
   },
   {
    "duration": 414,
    "start_time": "2022-04-02T22:50:44.042Z"
   },
   {
    "duration": 307,
    "start_time": "2022-04-02T22:50:57.332Z"
   },
   {
    "duration": 615,
    "start_time": "2022-04-02T22:51:03.187Z"
   },
   {
    "duration": 150,
    "start_time": "2022-04-02T22:52:18.602Z"
   },
   {
    "duration": 355,
    "start_time": "2022-04-02T22:52:21.658Z"
   },
   {
    "duration": 339,
    "start_time": "2022-04-02T22:52:27.581Z"
   },
   {
    "duration": 469,
    "start_time": "2022-04-02T22:52:31.473Z"
   },
   {
    "duration": 342,
    "start_time": "2022-04-02T22:52:37.599Z"
   },
   {
    "duration": 523,
    "start_time": "2022-04-02T22:52:41.513Z"
   },
   {
    "duration": 492,
    "start_time": "2022-04-02T22:53:01.198Z"
   },
   {
    "duration": 1915,
    "start_time": "2022-04-02T22:53:29.673Z"
   },
   {
    "duration": 9,
    "start_time": "2022-04-02T22:53:31.590Z"
   },
   {
    "duration": 25,
    "start_time": "2022-04-02T22:53:31.601Z"
   },
   {
    "duration": 17,
    "start_time": "2022-04-02T22:53:31.628Z"
   },
   {
    "duration": 1222,
    "start_time": "2022-04-02T22:53:31.674Z"
   },
   {
    "duration": 370,
    "start_time": "2022-04-02T22:53:32.899Z"
   },
   {
    "duration": 450,
    "start_time": "2022-04-02T22:53:33.275Z"
   },
   {
    "duration": 331,
    "start_time": "2022-04-02T22:53:33.728Z"
   },
   {
    "duration": 448,
    "start_time": "2022-04-02T22:53:34.061Z"
   },
   {
    "duration": 145,
    "start_time": "2022-04-02T22:55:18.799Z"
   },
   {
    "duration": 11,
    "start_time": "2022-04-02T22:55:50.944Z"
   },
   {
    "duration": 182,
    "start_time": "2022-04-02T22:58:26.387Z"
   },
   {
    "duration": 5,
    "start_time": "2022-04-02T22:59:32.990Z"
   },
   {
    "duration": 2006,
    "start_time": "2022-04-02T23:02:09.508Z"
   },
   {
    "duration": 0,
    "start_time": "2022-04-02T23:02:11.517Z"
   },
   {
    "duration": 196,
    "start_time": "2022-04-02T23:02:47.195Z"
   },
   {
    "duration": 6,
    "start_time": "2022-04-02T23:02:54.012Z"
   },
   {
    "duration": 22,
    "start_time": "2022-04-02T23:03:46.390Z"
   },
   {
    "duration": 266,
    "start_time": "2022-04-02T23:04:33.739Z"
   },
   {
    "duration": 1441,
    "start_time": "2022-04-03T08:47:27.111Z"
   },
   {
    "duration": 5,
    "start_time": "2022-04-03T08:47:28.554Z"
   },
   {
    "duration": 17,
    "start_time": "2022-04-03T08:47:28.561Z"
   },
   {
    "duration": 11,
    "start_time": "2022-04-03T08:47:28.580Z"
   },
   {
    "duration": 544,
    "start_time": "2022-04-03T08:47:28.593Z"
   },
   {
    "duration": 196,
    "start_time": "2022-04-03T08:47:29.139Z"
   },
   {
    "duration": 338,
    "start_time": "2022-04-03T08:47:29.337Z"
   },
   {
    "duration": 210,
    "start_time": "2022-04-03T08:47:29.676Z"
   },
   {
    "duration": 313,
    "start_time": "2022-04-03T08:47:29.888Z"
   },
   {
    "duration": 130,
    "start_time": "2022-04-03T08:47:30.203Z"
   },
   {
    "duration": 4,
    "start_time": "2022-04-03T08:47:30.335Z"
   },
   {
    "duration": 144,
    "start_time": "2022-04-03T08:47:30.341Z"
   },
   {
    "duration": 4,
    "start_time": "2022-04-03T08:47:30.487Z"
   },
   {
    "duration": 263,
    "start_time": "2022-04-03T08:47:30.493Z"
   },
   {
    "duration": 140,
    "start_time": "2022-04-03T09:14:50.528Z"
   },
   {
    "duration": 142,
    "start_time": "2022-04-03T09:14:59.059Z"
   },
   {
    "duration": 433,
    "start_time": "2022-04-03T09:15:11.622Z"
   },
   {
    "duration": 437,
    "start_time": "2022-04-03T09:15:57.201Z"
   },
   {
    "duration": 532,
    "start_time": "2022-04-03T09:17:01.228Z"
   },
   {
    "duration": 431,
    "start_time": "2022-04-03T09:17:17.054Z"
   },
   {
    "duration": 1291,
    "start_time": "2022-04-03T09:17:22.376Z"
   },
   {
    "duration": 4,
    "start_time": "2022-04-03T09:17:23.669Z"
   },
   {
    "duration": 20,
    "start_time": "2022-04-03T09:17:23.675Z"
   },
   {
    "duration": 11,
    "start_time": "2022-04-03T09:17:23.697Z"
   },
   {
    "duration": 603,
    "start_time": "2022-04-03T09:17:23.710Z"
   },
   {
    "duration": 201,
    "start_time": "2022-04-03T09:17:24.315Z"
   },
   {
    "duration": 315,
    "start_time": "2022-04-03T09:17:24.518Z"
   },
   {
    "duration": 239,
    "start_time": "2022-04-03T09:17:24.835Z"
   },
   {
    "duration": 332,
    "start_time": "2022-04-03T09:17:25.076Z"
   },
   {
    "duration": 152,
    "start_time": "2022-04-03T09:17:25.411Z"
   },
   {
    "duration": 5,
    "start_time": "2022-04-03T09:17:25.565Z"
   },
   {
    "duration": 160,
    "start_time": "2022-04-03T09:17:25.571Z"
   },
   {
    "duration": 4,
    "start_time": "2022-04-03T09:17:25.733Z"
   },
   {
    "duration": 438,
    "start_time": "2022-04-03T09:27:21.662Z"
   },
   {
    "duration": 546,
    "start_time": "2022-04-03T09:27:50.360Z"
   },
   {
    "duration": 543,
    "start_time": "2022-04-03T09:28:05.072Z"
   },
   {
    "duration": 444,
    "start_time": "2022-04-03T09:28:18.778Z"
   },
   {
    "duration": 451,
    "start_time": "2022-04-03T09:31:41.759Z"
   },
   {
    "duration": 440,
    "start_time": "2022-04-03T09:32:11.007Z"
   },
   {
    "duration": 440,
    "start_time": "2022-04-03T09:32:15.734Z"
   },
   {
    "duration": 443,
    "start_time": "2022-04-03T09:32:39.502Z"
   },
   {
    "duration": 447,
    "start_time": "2022-04-03T09:33:15.094Z"
   },
   {
    "duration": 190,
    "start_time": "2022-04-03T09:33:59.189Z"
   },
   {
    "duration": 289,
    "start_time": "2022-04-03T09:33:59.381Z"
   },
   {
    "duration": 416,
    "start_time": "2022-04-03T09:44:30.102Z"
   },
   {
    "duration": 439,
    "start_time": "2022-04-03T09:45:27.770Z"
   },
   {
    "duration": 539,
    "start_time": "2022-04-03T09:46:38.175Z"
   },
   {
    "duration": 199,
    "start_time": "2022-04-03T09:46:48.566Z"
   },
   {
    "duration": 208,
    "start_time": "2022-04-03T09:47:22.718Z"
   },
   {
    "duration": 1604,
    "start_time": "2022-04-03T17:46:17.934Z"
   },
   {
    "duration": 6,
    "start_time": "2022-04-03T17:46:19.540Z"
   },
   {
    "duration": 18,
    "start_time": "2022-04-03T17:46:19.548Z"
   },
   {
    "duration": 18,
    "start_time": "2022-04-03T17:46:19.601Z"
   },
   {
    "duration": 406,
    "start_time": "2022-04-03T17:46:19.621Z"
   },
   {
    "duration": 0,
    "start_time": "2022-04-03T17:46:20.030Z"
   },
   {
    "duration": 0,
    "start_time": "2022-04-03T17:46:20.031Z"
   },
   {
    "duration": 0,
    "start_time": "2022-04-03T17:46:20.033Z"
   },
   {
    "duration": 0,
    "start_time": "2022-04-03T17:46:20.034Z"
   },
   {
    "duration": 0,
    "start_time": "2022-04-03T17:46:20.035Z"
   },
   {
    "duration": 0,
    "start_time": "2022-04-03T17:46:20.036Z"
   },
   {
    "duration": 0,
    "start_time": "2022-04-03T17:46:20.037Z"
   },
   {
    "duration": 0,
    "start_time": "2022-04-03T17:46:20.038Z"
   },
   {
    "duration": 533,
    "start_time": "2022-04-03T18:40:36.981Z"
   },
   {
    "duration": 207,
    "start_time": "2022-04-03T18:46:25.219Z"
   },
   {
    "duration": 204,
    "start_time": "2022-04-03T19:11:17.563Z"
   },
   {
    "duration": 345,
    "start_time": "2022-04-03T19:22:48.190Z"
   },
   {
    "duration": 278,
    "start_time": "2022-04-03T19:24:02.616Z"
   },
   {
    "duration": 254,
    "start_time": "2022-04-03T19:24:13.734Z"
   },
   {
    "duration": 314,
    "start_time": "2022-04-03T19:25:23.287Z"
   },
   {
    "duration": 197,
    "start_time": "2022-04-03T19:40:40.642Z"
   },
   {
    "duration": 309,
    "start_time": "2022-04-03T19:42:31.369Z"
   },
   {
    "duration": 492,
    "start_time": "2022-04-03T19:43:09.460Z"
   },
   {
    "duration": 482,
    "start_time": "2022-04-03T19:43:23.629Z"
   },
   {
    "duration": 224,
    "start_time": "2022-04-03T19:44:46.612Z"
   },
   {
    "duration": 311,
    "start_time": "2022-04-03T20:05:29.352Z"
   },
   {
    "duration": 341,
    "start_time": "2022-04-03T20:06:16.594Z"
   },
   {
    "duration": 191,
    "start_time": "2022-04-03T20:06:38.238Z"
   },
   {
    "duration": 215,
    "start_time": "2022-04-03T20:06:47.458Z"
   },
   {
    "duration": 346,
    "start_time": "2022-04-03T20:06:51.670Z"
   },
   {
    "duration": 307,
    "start_time": "2022-04-03T20:07:25.224Z"
   },
   {
    "duration": 410,
    "start_time": "2022-04-03T20:07:29.123Z"
   },
   {
    "duration": 308,
    "start_time": "2022-04-03T20:08:16.303Z"
   },
   {
    "duration": 109,
    "start_time": "2022-04-03T20:12:12.022Z"
   },
   {
    "duration": 120,
    "start_time": "2022-04-03T20:13:54.329Z"
   },
   {
    "duration": 137,
    "start_time": "2022-04-03T20:14:04.986Z"
   },
   {
    "duration": 127,
    "start_time": "2022-04-03T20:14:15.337Z"
   },
   {
    "duration": 127,
    "start_time": "2022-04-03T20:14:41.171Z"
   },
   {
    "duration": 139,
    "start_time": "2022-04-03T20:14:44.403Z"
   },
   {
    "duration": 10,
    "start_time": "2022-04-03T20:15:03.633Z"
   },
   {
    "duration": 4,
    "start_time": "2022-04-03T20:15:14.861Z"
   },
   {
    "duration": 345,
    "start_time": "2022-04-03T20:17:02.881Z"
   },
   {
    "duration": 135,
    "start_time": "2022-04-03T20:22:02.217Z"
   },
   {
    "duration": 5,
    "start_time": "2022-04-03T20:25:13.893Z"
   },
   {
    "duration": 5,
    "start_time": "2022-04-03T20:25:31.106Z"
   },
   {
    "duration": 159,
    "start_time": "2022-04-03T20:25:37.466Z"
   },
   {
    "duration": 232,
    "start_time": "2022-04-03T20:31:20.740Z"
   },
   {
    "duration": 2037,
    "start_time": "2022-04-03T21:38:19.179Z"
   },
   {
    "duration": 7,
    "start_time": "2022-04-03T21:38:21.219Z"
   },
   {
    "duration": 22,
    "start_time": "2022-04-03T21:38:21.228Z"
   },
   {
    "duration": 50,
    "start_time": "2022-04-03T21:38:21.254Z"
   },
   {
    "duration": 950,
    "start_time": "2022-04-03T21:38:21.307Z"
   },
   {
    "duration": 342,
    "start_time": "2022-04-03T21:38:22.260Z"
   },
   {
    "duration": 436,
    "start_time": "2022-04-03T21:38:22.604Z"
   },
   {
    "duration": 365,
    "start_time": "2022-04-03T21:38:23.042Z"
   },
   {
    "duration": 413,
    "start_time": "2022-04-03T21:38:23.409Z"
   },
   {
    "duration": 243,
    "start_time": "2022-04-03T21:38:23.825Z"
   },
   {
    "duration": 18,
    "start_time": "2022-04-03T21:38:24.071Z"
   },
   {
    "duration": 264,
    "start_time": "2022-04-03T21:38:24.091Z"
   },
   {
    "duration": 7,
    "start_time": "2022-04-03T21:38:24.358Z"
   },
   {
    "duration": 1652,
    "start_time": "2022-04-03T21:41:44.297Z"
   },
   {
    "duration": 39,
    "start_time": "2022-04-03T21:41:45.952Z"
   },
   {
    "duration": 24,
    "start_time": "2022-04-03T21:41:45.994Z"
   },
   {
    "duration": 17,
    "start_time": "2022-04-03T21:41:46.021Z"
   },
   {
    "duration": 946,
    "start_time": "2022-04-03T21:41:46.041Z"
   },
   {
    "duration": 345,
    "start_time": "2022-04-03T21:41:46.990Z"
   },
   {
    "duration": 463,
    "start_time": "2022-04-03T21:41:47.338Z"
   },
   {
    "duration": 373,
    "start_time": "2022-04-03T21:41:47.803Z"
   },
   {
    "duration": 425,
    "start_time": "2022-04-03T21:41:48.179Z"
   },
   {
    "duration": 244,
    "start_time": "2022-04-03T21:41:48.607Z"
   },
   {
    "duration": 7,
    "start_time": "2022-04-03T21:41:48.853Z"
   },
   {
    "duration": 275,
    "start_time": "2022-04-03T21:41:48.862Z"
   },
   {
    "duration": 7,
    "start_time": "2022-04-03T21:41:49.139Z"
   },
   {
    "duration": 398,
    "start_time": "2022-04-03T21:51:59.078Z"
   },
   {
    "duration": 28,
    "start_time": "2022-04-03T21:58:00.064Z"
   },
   {
    "duration": 13,
    "start_time": "2022-04-03T22:00:53.067Z"
   },
   {
    "duration": 21,
    "start_time": "2022-04-03T22:08:26.666Z"
   },
   {
    "duration": 33,
    "start_time": "2022-04-03T22:08:48.065Z"
   },
   {
    "duration": 14,
    "start_time": "2022-04-03T22:16:29.003Z"
   },
   {
    "duration": 164,
    "start_time": "2022-04-03T22:17:30.398Z"
   },
   {
    "duration": 17,
    "start_time": "2022-04-03T22:17:38.875Z"
   },
   {
    "duration": 13,
    "start_time": "2022-04-03T22:17:46.706Z"
   },
   {
    "duration": 34,
    "start_time": "2022-04-03T22:19:43.658Z"
   },
   {
    "duration": 27,
    "start_time": "2022-04-03T22:20:32.897Z"
   },
   {
    "duration": 17,
    "start_time": "2022-04-03T22:20:45.377Z"
   },
   {
    "duration": 28,
    "start_time": "2022-04-03T22:20:52.586Z"
   },
   {
    "duration": 25,
    "start_time": "2022-04-03T22:21:36.741Z"
   },
   {
    "duration": 13,
    "start_time": "2022-04-03T22:23:14.158Z"
   },
   {
    "duration": 28,
    "start_time": "2022-04-03T22:23:30.022Z"
   },
   {
    "duration": 20,
    "start_time": "2022-04-03T22:24:18.945Z"
   },
   {
    "duration": 875,
    "start_time": "2022-04-03T22:26:37.583Z"
   },
   {
    "duration": 27,
    "start_time": "2022-04-03T22:55:09.932Z"
   },
   {
    "duration": 39,
    "start_time": "2022-04-03T22:57:06.158Z"
   },
   {
    "duration": 28,
    "start_time": "2022-04-03T22:57:54.055Z"
   },
   {
    "duration": 21,
    "start_time": "2022-04-03T22:57:55.849Z"
   },
   {
    "duration": 1494,
    "start_time": "2022-04-04T05:37:51.477Z"
   },
   {
    "duration": 5,
    "start_time": "2022-04-04T05:37:52.974Z"
   },
   {
    "duration": 17,
    "start_time": "2022-04-04T05:37:52.981Z"
   },
   {
    "duration": 41,
    "start_time": "2022-04-04T05:37:53.000Z"
   },
   {
    "duration": 627,
    "start_time": "2022-04-04T05:37:53.044Z"
   },
   {
    "duration": 248,
    "start_time": "2022-04-04T05:37:53.673Z"
   },
   {
    "duration": 407,
    "start_time": "2022-04-04T05:37:53.931Z"
   },
   {
    "duration": 286,
    "start_time": "2022-04-04T05:37:54.340Z"
   },
   {
    "duration": 349,
    "start_time": "2022-04-04T05:37:54.631Z"
   },
   {
    "duration": 274,
    "start_time": "2022-04-04T05:37:54.982Z"
   },
   {
    "duration": 6,
    "start_time": "2022-04-04T05:37:55.258Z"
   },
   {
    "duration": 189,
    "start_time": "2022-04-04T05:37:55.265Z"
   },
   {
    "duration": 6,
    "start_time": "2022-04-04T05:37:55.457Z"
   },
   {
    "duration": 27,
    "start_time": "2022-04-04T05:37:55.466Z"
   },
   {
    "duration": 10,
    "start_time": "2022-04-04T05:37:55.495Z"
   },
   {
    "duration": 31,
    "start_time": "2022-04-04T05:37:55.507Z"
   },
   {
    "duration": 29,
    "start_time": "2022-04-04T05:37:55.540Z"
   },
   {
    "duration": 15,
    "start_time": "2022-04-04T05:37:55.570Z"
   },
   {
    "duration": 5,
    "start_time": "2022-04-04T05:38:29.223Z"
   },
   {
    "duration": 155,
    "start_time": "2022-04-04T05:41:41.232Z"
   },
   {
    "duration": 2430,
    "start_time": "2022-04-04T05:41:53.872Z"
   },
   {
    "duration": 13,
    "start_time": "2022-04-04T05:42:32.599Z"
   },
   {
    "duration": 12,
    "start_time": "2022-04-04T05:42:36.273Z"
   },
   {
    "duration": 1715,
    "start_time": "2022-04-04T05:42:43.848Z"
   },
   {
    "duration": 7,
    "start_time": "2022-04-04T05:43:13.910Z"
   },
   {
    "duration": 13,
    "start_time": "2022-04-04T05:43:25.708Z"
   },
   {
    "duration": 5,
    "start_time": "2022-04-04T05:46:38.790Z"
   },
   {
    "duration": 11,
    "start_time": "2022-04-04T05:46:43.422Z"
   },
   {
    "duration": 131,
    "start_time": "2022-04-04T05:46:57.147Z"
   },
   {
    "duration": 16,
    "start_time": "2022-04-04T05:47:01.844Z"
   },
   {
    "duration": 239,
    "start_time": "2022-04-04T05:47:56.127Z"
   },
   {
    "duration": 14,
    "start_time": "2022-04-04T05:50:35.318Z"
   },
   {
    "duration": 12,
    "start_time": "2022-04-04T05:50:47.685Z"
   },
   {
    "duration": 161,
    "start_time": "2022-04-04T05:51:32.653Z"
   },
   {
    "duration": 12,
    "start_time": "2022-04-04T05:51:37.297Z"
   },
   {
    "duration": 7,
    "start_time": "2022-04-04T05:52:00.031Z"
   },
   {
    "duration": 12,
    "start_time": "2022-04-04T05:53:02.905Z"
   },
   {
    "duration": 12,
    "start_time": "2022-04-04T05:53:15.898Z"
   },
   {
    "duration": 1288,
    "start_time": "2022-04-04T07:08:39.291Z"
   },
   {
    "duration": 5,
    "start_time": "2022-04-04T07:08:40.580Z"
   },
   {
    "duration": 47,
    "start_time": "2022-04-04T07:08:40.586Z"
   },
   {
    "duration": 12,
    "start_time": "2022-04-04T07:08:40.635Z"
   },
   {
    "duration": 551,
    "start_time": "2022-04-04T07:08:40.648Z"
   },
   {
    "duration": 215,
    "start_time": "2022-04-04T07:08:41.200Z"
   },
   {
    "duration": 360,
    "start_time": "2022-04-04T07:08:41.417Z"
   },
   {
    "duration": 244,
    "start_time": "2022-04-04T07:08:41.778Z"
   },
   {
    "duration": 326,
    "start_time": "2022-04-04T07:08:42.024Z"
   },
   {
    "duration": 229,
    "start_time": "2022-04-04T07:08:42.353Z"
   },
   {
    "duration": 5,
    "start_time": "2022-04-04T07:08:42.583Z"
   },
   {
    "duration": 170,
    "start_time": "2022-04-04T07:08:42.590Z"
   },
   {
    "duration": 4,
    "start_time": "2022-04-04T07:08:42.762Z"
   },
   {
    "duration": 20,
    "start_time": "2022-04-04T07:08:42.768Z"
   },
   {
    "duration": 150,
    "start_time": "2022-04-04T07:08:42.789Z"
   },
   {
    "duration": 0,
    "start_time": "2022-04-04T07:08:42.940Z"
   },
   {
    "duration": 0,
    "start_time": "2022-04-04T07:08:42.941Z"
   },
   {
    "duration": 0,
    "start_time": "2022-04-04T07:08:42.942Z"
   },
   {
    "duration": 0,
    "start_time": "2022-04-04T07:08:42.943Z"
   },
   {
    "duration": 1321,
    "start_time": "2022-04-04T07:13:24.429Z"
   },
   {
    "duration": 5,
    "start_time": "2022-04-04T07:13:25.752Z"
   },
   {
    "duration": 17,
    "start_time": "2022-04-04T07:13:25.759Z"
   },
   {
    "duration": 13,
    "start_time": "2022-04-04T07:13:25.778Z"
   },
   {
    "duration": 608,
    "start_time": "2022-04-04T07:13:25.793Z"
   },
   {
    "duration": 220,
    "start_time": "2022-04-04T07:13:26.403Z"
   },
   {
    "duration": 348,
    "start_time": "2022-04-04T07:13:26.625Z"
   },
   {
    "duration": 239,
    "start_time": "2022-04-04T07:13:26.975Z"
   },
   {
    "duration": 329,
    "start_time": "2022-04-04T07:13:27.215Z"
   },
   {
    "duration": 237,
    "start_time": "2022-04-04T07:13:27.546Z"
   },
   {
    "duration": 5,
    "start_time": "2022-04-04T07:13:27.785Z"
   },
   {
    "duration": 185,
    "start_time": "2022-04-04T07:13:27.792Z"
   },
   {
    "duration": 5,
    "start_time": "2022-04-04T07:13:27.979Z"
   },
   {
    "duration": 45,
    "start_time": "2022-04-04T07:13:27.987Z"
   },
   {
    "duration": 142,
    "start_time": "2022-04-04T07:13:28.033Z"
   },
   {
    "duration": 0,
    "start_time": "2022-04-04T07:13:28.177Z"
   },
   {
    "duration": 0,
    "start_time": "2022-04-04T07:13:28.178Z"
   },
   {
    "duration": 0,
    "start_time": "2022-04-04T07:13:28.179Z"
   },
   {
    "duration": 0,
    "start_time": "2022-04-04T07:13:28.180Z"
   },
   {
    "duration": 1417,
    "start_time": "2022-04-04T07:13:54.236Z"
   },
   {
    "duration": 5,
    "start_time": "2022-04-04T07:13:55.655Z"
   },
   {
    "duration": 36,
    "start_time": "2022-04-04T07:13:55.662Z"
   },
   {
    "duration": 35,
    "start_time": "2022-04-04T07:13:55.700Z"
   },
   {
    "duration": 694,
    "start_time": "2022-04-04T07:13:55.738Z"
   },
   {
    "duration": 256,
    "start_time": "2022-04-04T07:13:56.434Z"
   },
   {
    "duration": 360,
    "start_time": "2022-04-04T07:13:56.692Z"
   },
   {
    "duration": 258,
    "start_time": "2022-04-04T07:13:57.054Z"
   },
   {
    "duration": 335,
    "start_time": "2022-04-04T07:13:57.314Z"
   },
   {
    "duration": 251,
    "start_time": "2022-04-04T07:13:57.650Z"
   },
   {
    "duration": 6,
    "start_time": "2022-04-04T07:13:57.903Z"
   },
   {
    "duration": 191,
    "start_time": "2022-04-04T07:13:57.910Z"
   },
   {
    "duration": 7,
    "start_time": "2022-04-04T07:13:58.103Z"
   },
   {
    "duration": 37,
    "start_time": "2022-04-04T07:13:58.113Z"
   },
   {
    "duration": 12,
    "start_time": "2022-04-04T07:13:58.151Z"
   },
   {
    "duration": 10,
    "start_time": "2022-04-04T07:13:58.165Z"
   },
   {
    "duration": 144,
    "start_time": "2022-04-04T07:13:58.177Z"
   },
   {
    "duration": 0,
    "start_time": "2022-04-04T07:13:58.323Z"
   },
   {
    "duration": 28,
    "start_time": "2022-04-04T07:14:11.835Z"
   },
   {
    "duration": 1410,
    "start_time": "2022-04-04T07:14:17.366Z"
   },
   {
    "duration": 4,
    "start_time": "2022-04-04T07:14:18.779Z"
   },
   {
    "duration": 48,
    "start_time": "2022-04-04T07:14:18.785Z"
   },
   {
    "duration": 13,
    "start_time": "2022-04-04T07:14:18.835Z"
   },
   {
    "duration": 604,
    "start_time": "2022-04-04T07:14:18.851Z"
   },
   {
    "duration": 237,
    "start_time": "2022-04-04T07:14:19.456Z"
   },
   {
    "duration": 378,
    "start_time": "2022-04-04T07:14:19.695Z"
   },
   {
    "duration": 270,
    "start_time": "2022-04-04T07:14:20.075Z"
   },
   {
    "duration": 350,
    "start_time": "2022-04-04T07:14:20.347Z"
   },
   {
    "duration": 272,
    "start_time": "2022-04-04T07:14:20.699Z"
   },
   {
    "duration": 6,
    "start_time": "2022-04-04T07:14:20.974Z"
   },
   {
    "duration": 202,
    "start_time": "2022-04-04T07:14:20.982Z"
   },
   {
    "duration": 5,
    "start_time": "2022-04-04T07:14:21.186Z"
   },
   {
    "duration": 21,
    "start_time": "2022-04-04T07:14:21.194Z"
   },
   {
    "duration": 11,
    "start_time": "2022-04-04T07:14:21.232Z"
   },
   {
    "duration": 10,
    "start_time": "2022-04-04T07:14:21.245Z"
   },
   {
    "duration": 39,
    "start_time": "2022-04-04T07:14:21.257Z"
   },
   {
    "duration": 26,
    "start_time": "2022-04-04T07:14:21.298Z"
   },
   {
    "duration": 12,
    "start_time": "2022-04-04T07:17:21.989Z"
   },
   {
    "duration": 20,
    "start_time": "2022-04-04T07:17:23.782Z"
   },
   {
    "duration": 8,
    "start_time": "2022-04-04T07:17:31.452Z"
   },
   {
    "duration": 19,
    "start_time": "2022-04-04T07:17:32.353Z"
   },
   {
    "duration": 1311,
    "start_time": "2022-04-04T08:02:31.478Z"
   },
   {
    "duration": 5,
    "start_time": "2022-04-04T08:02:32.791Z"
   },
   {
    "duration": 46,
    "start_time": "2022-04-04T08:02:32.797Z"
   },
   {
    "duration": 12,
    "start_time": "2022-04-04T08:02:32.845Z"
   },
   {
    "duration": 581,
    "start_time": "2022-04-04T08:02:32.859Z"
   },
   {
    "duration": 213,
    "start_time": "2022-04-04T08:02:33.442Z"
   },
   {
    "duration": 318,
    "start_time": "2022-04-04T08:02:33.657Z"
   },
   {
    "duration": 234,
    "start_time": "2022-04-04T08:02:33.977Z"
   },
   {
    "duration": 330,
    "start_time": "2022-04-04T08:02:34.212Z"
   },
   {
    "duration": 236,
    "start_time": "2022-04-04T08:02:34.545Z"
   },
   {
    "duration": 6,
    "start_time": "2022-04-04T08:02:34.782Z"
   },
   {
    "duration": 174,
    "start_time": "2022-04-04T08:02:34.790Z"
   },
   {
    "duration": 5,
    "start_time": "2022-04-04T08:02:34.966Z"
   },
   {
    "duration": 19,
    "start_time": "2022-04-04T08:02:34.973Z"
   },
   {
    "duration": 9,
    "start_time": "2022-04-04T08:02:34.994Z"
   },
   {
    "duration": 36,
    "start_time": "2022-04-04T08:02:35.004Z"
   },
   {
    "duration": 20,
    "start_time": "2022-04-04T08:02:35.042Z"
   },
   {
    "duration": 14,
    "start_time": "2022-04-04T08:02:35.064Z"
   },
   {
    "duration": 1549,
    "start_time": "2022-04-05T04:54:53.047Z"
   },
   {
    "duration": 7,
    "start_time": "2022-04-05T04:54:54.599Z"
   },
   {
    "duration": 19,
    "start_time": "2022-04-05T04:54:54.608Z"
   },
   {
    "duration": 56,
    "start_time": "2022-04-05T04:54:54.629Z"
   },
   {
    "duration": 901,
    "start_time": "2022-04-05T04:54:54.687Z"
   },
   {
    "duration": 330,
    "start_time": "2022-04-05T04:54:55.590Z"
   },
   {
    "duration": 440,
    "start_time": "2022-04-05T04:54:55.923Z"
   },
   {
    "duration": 340,
    "start_time": "2022-04-05T04:54:56.365Z"
   },
   {
    "duration": 391,
    "start_time": "2022-04-05T04:54:56.707Z"
   },
   {
    "duration": 371,
    "start_time": "2022-04-05T04:54:57.102Z"
   },
   {
    "duration": 7,
    "start_time": "2022-04-05T04:54:57.476Z"
   },
   {
    "duration": 255,
    "start_time": "2022-04-05T04:54:57.485Z"
   },
   {
    "duration": 6,
    "start_time": "2022-04-05T04:54:57.742Z"
   },
   {
    "duration": 42,
    "start_time": "2022-04-05T04:54:57.750Z"
   },
   {
    "duration": 9,
    "start_time": "2022-04-05T04:54:57.795Z"
   },
   {
    "duration": 12,
    "start_time": "2022-04-05T04:54:57.806Z"
   },
   {
    "duration": 57,
    "start_time": "2022-04-05T04:54:57.820Z"
   },
   {
    "duration": 12,
    "start_time": "2022-04-05T04:54:57.879Z"
   },
   {
    "duration": 57,
    "start_time": "2022-04-05T06:04:06.629Z"
   },
   {
    "duration": 1285,
    "start_time": "2022-04-05T06:04:18.715Z"
   },
   {
    "duration": 48,
    "start_time": "2022-04-05T06:04:20.002Z"
   },
   {
    "duration": 135,
    "start_time": "2022-04-05T06:04:40.321Z"
   },
   {
    "duration": 5,
    "start_time": "2022-04-05T06:06:24.788Z"
   },
   {
    "duration": 1606,
    "start_time": "2022-04-05T11:53:59.900Z"
   },
   {
    "duration": 60,
    "start_time": "2022-04-05T11:54:01.508Z"
   },
   {
    "duration": 94,
    "start_time": "2022-04-05T11:54:01.570Z"
   },
   {
    "duration": 5,
    "start_time": "2022-04-05T11:54:01.666Z"
   },
   {
    "duration": 90,
    "start_time": "2022-04-05T12:01:53.705Z"
   },
   {
    "duration": 7,
    "start_time": "2022-04-05T12:02:46.456Z"
   },
   {
    "duration": 17,
    "start_time": "2022-04-05T12:03:13.085Z"
   },
   {
    "duration": 7,
    "start_time": "2022-04-05T12:03:21.799Z"
   },
   {
    "duration": 8,
    "start_time": "2022-04-05T12:03:30.376Z"
   },
   {
    "duration": 12,
    "start_time": "2022-04-05T12:11:30.577Z"
   },
   {
    "duration": 7,
    "start_time": "2022-04-05T12:11:52.285Z"
   },
   {
    "duration": 4,
    "start_time": "2022-04-05T12:12:13.736Z"
   },
   {
    "duration": 6,
    "start_time": "2022-04-05T12:12:17.550Z"
   },
   {
    "duration": 5,
    "start_time": "2022-04-05T12:12:23.227Z"
   },
   {
    "duration": 8,
    "start_time": "2022-04-05T12:13:02.827Z"
   },
   {
    "duration": 3,
    "start_time": "2022-04-05T12:13:29.299Z"
   },
   {
    "duration": 13,
    "start_time": "2022-04-05T12:13:32.799Z"
   },
   {
    "duration": 11,
    "start_time": "2022-04-05T12:19:35.425Z"
   },
   {
    "duration": 9,
    "start_time": "2022-04-05T12:25:00.532Z"
   },
   {
    "duration": 7,
    "start_time": "2022-04-05T12:25:08.620Z"
   },
   {
    "duration": 7,
    "start_time": "2022-04-05T12:25:15.556Z"
   },
   {
    "duration": 13,
    "start_time": "2022-04-05T12:26:02.427Z"
   },
   {
    "duration": 8,
    "start_time": "2022-04-05T12:26:07.954Z"
   },
   {
    "duration": 13,
    "start_time": "2022-04-05T12:26:17.730Z"
   },
   {
    "duration": 15,
    "start_time": "2022-04-05T12:26:47.247Z"
   },
   {
    "duration": 8,
    "start_time": "2022-04-05T12:27:02.900Z"
   },
   {
    "duration": 6,
    "start_time": "2022-04-05T12:27:11.185Z"
   },
   {
    "duration": 11,
    "start_time": "2022-04-05T12:28:14.731Z"
   },
   {
    "duration": 12,
    "start_time": "2022-04-05T12:30:40.598Z"
   },
   {
    "duration": 22,
    "start_time": "2022-04-05T12:30:44.369Z"
   },
   {
    "duration": 20,
    "start_time": "2022-04-05T12:31:38.064Z"
   },
   {
    "duration": 3,
    "start_time": "2022-04-05T12:31:50.469Z"
   },
   {
    "duration": 11,
    "start_time": "2022-04-05T12:32:32.862Z"
   },
   {
    "duration": 20,
    "start_time": "2022-04-05T12:32:40.987Z"
   },
   {
    "duration": 9,
    "start_time": "2022-04-05T12:33:23.483Z"
   },
   {
    "duration": 8,
    "start_time": "2022-04-05T12:33:53.220Z"
   },
   {
    "duration": 9,
    "start_time": "2022-04-05T12:33:59.176Z"
   },
   {
    "duration": 7,
    "start_time": "2022-04-05T12:39:58.591Z"
   },
   {
    "duration": 4,
    "start_time": "2022-04-05T12:41:33.818Z"
   },
   {
    "duration": 12,
    "start_time": "2022-04-05T12:42:03.717Z"
   },
   {
    "duration": 11,
    "start_time": "2022-04-05T12:44:11.232Z"
   },
   {
    "duration": 25,
    "start_time": "2022-04-05T12:44:20.830Z"
   },
   {
    "duration": 5,
    "start_time": "2022-04-05T12:44:59.231Z"
   },
   {
    "duration": 6,
    "start_time": "2022-04-05T12:45:30.370Z"
   },
   {
    "duration": 6,
    "start_time": "2022-04-05T12:45:32.530Z"
   },
   {
    "duration": 9,
    "start_time": "2022-04-05T12:45:34.286Z"
   },
   {
    "duration": 5,
    "start_time": "2022-04-05T12:45:43.307Z"
   },
   {
    "duration": 13,
    "start_time": "2022-04-05T12:45:48.473Z"
   },
   {
    "duration": 8,
    "start_time": "2022-04-05T12:46:26.434Z"
   },
   {
    "duration": 3046,
    "start_time": "2022-04-05T12:47:05.688Z"
   },
   {
    "duration": 11,
    "start_time": "2022-04-05T12:47:37.905Z"
   },
   {
    "duration": 2763,
    "start_time": "2022-04-05T12:53:33.681Z"
   },
   {
    "duration": 7,
    "start_time": "2022-04-05T12:53:56.486Z"
   },
   {
    "duration": 2948,
    "start_time": "2022-04-05T13:06:36.603Z"
   },
   {
    "duration": 4,
    "start_time": "2022-04-05T13:06:43.934Z"
   },
   {
    "duration": 11,
    "start_time": "2022-04-05T13:06:49.908Z"
   },
   {
    "duration": 30,
    "start_time": "2022-04-05T13:08:33.095Z"
   },
   {
    "duration": 2670,
    "start_time": "2022-04-05T13:08:55.622Z"
   },
   {
    "duration": 15,
    "start_time": "2022-04-05T13:09:02.711Z"
   },
   {
    "duration": 7,
    "start_time": "2022-04-05T13:09:09.189Z"
   },
   {
    "duration": 10,
    "start_time": "2022-04-05T13:09:16.396Z"
   },
   {
    "duration": 5,
    "start_time": "2022-04-05T13:09:41.271Z"
   },
   {
    "duration": 13,
    "start_time": "2022-04-05T13:10:02.296Z"
   },
   {
    "duration": 15,
    "start_time": "2022-04-05T13:10:25.884Z"
   },
   {
    "duration": 12,
    "start_time": "2022-04-05T13:10:56.495Z"
   },
   {
    "duration": 13,
    "start_time": "2022-04-05T13:11:34.731Z"
   },
   {
    "duration": 10,
    "start_time": "2022-04-05T13:12:16.753Z"
   },
   {
    "duration": 11,
    "start_time": "2022-04-05T13:12:41.153Z"
   },
   {
    "duration": 10,
    "start_time": "2022-04-05T13:12:46.907Z"
   },
   {
    "duration": 12,
    "start_time": "2022-04-05T13:17:26.027Z"
   },
   {
    "duration": 10,
    "start_time": "2022-04-05T13:17:30.856Z"
   },
   {
    "duration": 7,
    "start_time": "2022-04-05T13:18:29.375Z"
   },
   {
    "duration": 1748,
    "start_time": "2022-04-05T17:44:44.268Z"
   },
   {
    "duration": 178,
    "start_time": "2022-04-05T17:44:46.019Z"
   },
   {
    "duration": 181,
    "start_time": "2022-04-05T17:44:46.200Z"
   },
   {
    "duration": 6,
    "start_time": "2022-04-05T17:44:46.384Z"
   },
   {
    "duration": 58,
    "start_time": "2022-04-05T17:44:46.392Z"
   },
   {
    "duration": 9,
    "start_time": "2022-04-05T17:44:46.452Z"
   },
   {
    "duration": 22,
    "start_time": "2022-04-05T17:44:46.463Z"
   },
   {
    "duration": 26,
    "start_time": "2022-04-05T17:44:46.488Z"
   },
   {
    "duration": 1302,
    "start_time": "2022-04-05T17:44:46.516Z"
   },
   {
    "duration": 323,
    "start_time": "2022-04-05T17:44:47.823Z"
   },
   {
    "duration": 478,
    "start_time": "2022-04-05T17:44:48.148Z"
   },
   {
    "duration": 337,
    "start_time": "2022-04-05T17:44:48.628Z"
   },
   {
    "duration": 408,
    "start_time": "2022-04-05T17:44:48.968Z"
   },
   {
    "duration": 474,
    "start_time": "2022-04-05T17:44:49.379Z"
   },
   {
    "duration": 7,
    "start_time": "2022-04-05T17:44:49.855Z"
   },
   {
    "duration": 374,
    "start_time": "2022-04-05T17:44:49.865Z"
   },
   {
    "duration": 8,
    "start_time": "2022-04-05T17:44:50.243Z"
   },
   {
    "duration": 39,
    "start_time": "2022-04-05T17:44:50.254Z"
   },
   {
    "duration": 13,
    "start_time": "2022-04-05T17:44:50.296Z"
   },
   {
    "duration": 47,
    "start_time": "2022-04-05T17:44:50.312Z"
   },
   {
    "duration": 38,
    "start_time": "2022-04-05T17:44:50.361Z"
   },
   {
    "duration": 49,
    "start_time": "2022-04-05T17:44:50.403Z"
   },
   {
    "duration": 1691,
    "start_time": "2022-04-05T20:46:00.291Z"
   },
   {
    "duration": 95,
    "start_time": "2022-04-05T20:46:01.985Z"
   },
   {
    "duration": 174,
    "start_time": "2022-04-05T20:46:02.082Z"
   },
   {
    "duration": 7,
    "start_time": "2022-04-05T20:46:02.259Z"
   },
   {
    "duration": 26,
    "start_time": "2022-04-05T20:46:02.269Z"
   },
   {
    "duration": 45,
    "start_time": "2022-04-05T20:46:02.298Z"
   },
   {
    "duration": 18,
    "start_time": "2022-04-05T20:46:02.345Z"
   },
   {
    "duration": 32,
    "start_time": "2022-04-05T20:46:02.366Z"
   },
   {
    "duration": 942,
    "start_time": "2022-04-05T20:46:02.401Z"
   },
   {
    "duration": 320,
    "start_time": "2022-04-05T20:46:03.349Z"
   },
   {
    "duration": 398,
    "start_time": "2022-04-05T20:46:03.671Z"
   },
   {
    "duration": 362,
    "start_time": "2022-04-05T20:46:04.072Z"
   },
   {
    "duration": 515,
    "start_time": "2022-04-05T20:46:04.436Z"
   },
   {
    "duration": 397,
    "start_time": "2022-04-05T20:46:04.954Z"
   },
   {
    "duration": 9,
    "start_time": "2022-04-05T20:46:05.354Z"
   },
   {
    "duration": 270,
    "start_time": "2022-04-05T20:46:05.365Z"
   },
   {
    "duration": 9,
    "start_time": "2022-04-05T20:46:05.643Z"
   },
   {
    "duration": 28,
    "start_time": "2022-04-05T20:46:05.655Z"
   },
   {
    "duration": 11,
    "start_time": "2022-04-05T20:46:05.686Z"
   },
   {
    "duration": 50,
    "start_time": "2022-04-05T20:46:05.700Z"
   },
   {
    "duration": 48,
    "start_time": "2022-04-05T20:46:05.752Z"
   },
   {
    "duration": 14,
    "start_time": "2022-04-05T20:46:05.802Z"
   },
   {
    "duration": 13,
    "start_time": "2022-04-05T20:48:27.184Z"
   },
   {
    "duration": 11,
    "start_time": "2022-04-05T20:48:47.360Z"
   },
   {
    "duration": 14,
    "start_time": "2022-04-05T20:48:55.197Z"
   },
   {
    "duration": 19,
    "start_time": "2022-04-05T20:49:42.822Z"
   },
   {
    "duration": 8,
    "start_time": "2022-04-05T20:50:07.463Z"
   },
   {
    "duration": 16,
    "start_time": "2022-04-05T20:50:10.493Z"
   },
   {
    "duration": 18,
    "start_time": "2022-04-05T20:57:25.052Z"
   },
   {
    "duration": 1513,
    "start_time": "2022-04-05T20:57:32.491Z"
   },
   {
    "duration": 73,
    "start_time": "2022-04-05T20:57:34.007Z"
   },
   {
    "duration": 196,
    "start_time": "2022-04-05T20:57:34.083Z"
   },
   {
    "duration": 6,
    "start_time": "2022-04-05T20:57:34.282Z"
   },
   {
    "duration": 180,
    "start_time": "2022-04-05T20:57:34.291Z"
   },
   {
    "duration": 0,
    "start_time": "2022-04-05T20:57:34.475Z"
   },
   {
    "duration": 0,
    "start_time": "2022-04-05T20:57:34.477Z"
   },
   {
    "duration": 0,
    "start_time": "2022-04-05T20:57:34.479Z"
   },
   {
    "duration": 0,
    "start_time": "2022-04-05T20:57:34.481Z"
   },
   {
    "duration": 0,
    "start_time": "2022-04-05T20:57:34.483Z"
   },
   {
    "duration": 0,
    "start_time": "2022-04-05T20:57:34.485Z"
   },
   {
    "duration": 0,
    "start_time": "2022-04-05T20:57:34.487Z"
   },
   {
    "duration": 0,
    "start_time": "2022-04-05T20:57:34.489Z"
   },
   {
    "duration": 0,
    "start_time": "2022-04-05T20:57:34.490Z"
   },
   {
    "duration": 0,
    "start_time": "2022-04-05T20:57:34.492Z"
   },
   {
    "duration": 0,
    "start_time": "2022-04-05T20:57:34.494Z"
   },
   {
    "duration": 0,
    "start_time": "2022-04-05T20:57:34.497Z"
   },
   {
    "duration": 0,
    "start_time": "2022-04-05T20:57:34.499Z"
   },
   {
    "duration": 0,
    "start_time": "2022-04-05T20:57:34.543Z"
   },
   {
    "duration": 0,
    "start_time": "2022-04-05T20:57:34.545Z"
   },
   {
    "duration": 0,
    "start_time": "2022-04-05T20:57:34.547Z"
   },
   {
    "duration": 0,
    "start_time": "2022-04-05T20:57:34.549Z"
   },
   {
    "duration": 16,
    "start_time": "2022-04-05T20:57:56.215Z"
   },
   {
    "duration": 1445,
    "start_time": "2022-04-05T20:58:01.343Z"
   },
   {
    "duration": 72,
    "start_time": "2022-04-05T20:58:02.792Z"
   },
   {
    "duration": 235,
    "start_time": "2022-04-05T20:58:02.867Z"
   },
   {
    "duration": 42,
    "start_time": "2022-04-05T20:58:03.106Z"
   },
   {
    "duration": 71,
    "start_time": "2022-04-05T20:58:03.151Z"
   },
   {
    "duration": 23,
    "start_time": "2022-04-05T20:58:03.226Z"
   },
   {
    "duration": 18,
    "start_time": "2022-04-05T20:58:03.252Z"
   },
   {
    "duration": 1307,
    "start_time": "2022-04-05T20:58:03.273Z"
   },
   {
    "duration": 510,
    "start_time": "2022-04-05T20:58:04.584Z"
   },
   {
    "duration": 470,
    "start_time": "2022-04-05T20:58:05.099Z"
   },
   {
    "duration": 536,
    "start_time": "2022-04-05T20:58:05.572Z"
   },
   {
    "duration": 453,
    "start_time": "2022-04-05T20:58:06.111Z"
   },
   {
    "duration": 414,
    "start_time": "2022-04-05T20:58:06.567Z"
   },
   {
    "duration": 10,
    "start_time": "2022-04-05T20:58:06.984Z"
   },
   {
    "duration": 365,
    "start_time": "2022-04-05T20:58:06.996Z"
   },
   {
    "duration": 8,
    "start_time": "2022-04-05T20:58:07.363Z"
   },
   {
    "duration": 45,
    "start_time": "2022-04-05T20:58:07.374Z"
   },
   {
    "duration": 11,
    "start_time": "2022-04-05T20:58:07.442Z"
   },
   {
    "duration": 24,
    "start_time": "2022-04-05T20:58:07.455Z"
   },
   {
    "duration": 63,
    "start_time": "2022-04-05T20:58:07.483Z"
   },
   {
    "duration": 15,
    "start_time": "2022-04-05T20:58:07.549Z"
   },
   {
    "duration": 21,
    "start_time": "2022-04-05T21:01:56.125Z"
   },
   {
    "duration": 17,
    "start_time": "2022-04-05T21:02:00.581Z"
   },
   {
    "duration": 26,
    "start_time": "2022-04-05T21:02:03.507Z"
   },
   {
    "duration": 213,
    "start_time": "2022-04-05T21:04:08.755Z"
   },
   {
    "duration": 18,
    "start_time": "2022-04-05T21:04:28.955Z"
   },
   {
    "duration": 21,
    "start_time": "2022-04-05T21:05:34.762Z"
   },
   {
    "duration": 17,
    "start_time": "2022-04-05T21:05:36.017Z"
   },
   {
    "duration": 20,
    "start_time": "2022-04-05T21:06:03.073Z"
   },
   {
    "duration": 1674,
    "start_time": "2022-04-05T21:06:09.737Z"
   },
   {
    "duration": 70,
    "start_time": "2022-04-05T21:06:11.414Z"
   },
   {
    "duration": 188,
    "start_time": "2022-04-05T21:06:11.486Z"
   },
   {
    "duration": 7,
    "start_time": "2022-04-05T21:06:11.676Z"
   },
   {
    "duration": 35,
    "start_time": "2022-04-05T21:06:11.685Z"
   },
   {
    "duration": 40,
    "start_time": "2022-04-05T21:06:11.723Z"
   },
   {
    "duration": 82,
    "start_time": "2022-04-05T21:06:11.766Z"
   },
   {
    "duration": 936,
    "start_time": "2022-04-05T21:06:11.855Z"
   },
   {
    "duration": 355,
    "start_time": "2022-04-05T21:06:12.794Z"
   },
   {
    "duration": 411,
    "start_time": "2022-04-05T21:06:13.155Z"
   },
   {
    "duration": 368,
    "start_time": "2022-04-05T21:06:13.568Z"
   },
   {
    "duration": 446,
    "start_time": "2022-04-05T21:06:13.938Z"
   },
   {
    "duration": 408,
    "start_time": "2022-04-05T21:06:14.386Z"
   },
   {
    "duration": 9,
    "start_time": "2022-04-05T21:06:14.796Z"
   },
   {
    "duration": 440,
    "start_time": "2022-04-05T21:06:14.807Z"
   },
   {
    "duration": 14,
    "start_time": "2022-04-05T21:06:15.249Z"
   },
   {
    "duration": 48,
    "start_time": "2022-04-05T21:06:15.266Z"
   },
   {
    "duration": 30,
    "start_time": "2022-04-05T21:06:15.317Z"
   },
   {
    "duration": 41,
    "start_time": "2022-04-05T21:06:15.351Z"
   },
   {
    "duration": 35,
    "start_time": "2022-04-05T21:06:15.395Z"
   },
   {
    "duration": 32,
    "start_time": "2022-04-05T21:06:15.433Z"
   },
   {
    "duration": 28,
    "start_time": "2022-04-05T21:06:32.125Z"
   },
   {
    "duration": 27,
    "start_time": "2022-04-05T21:06:33.363Z"
   },
   {
    "duration": 19,
    "start_time": "2022-04-05T21:06:51.830Z"
   },
   {
    "duration": 69,
    "start_time": "2022-04-05T21:06:57.124Z"
   },
   {
    "duration": 156,
    "start_time": "2022-04-05T21:07:07.557Z"
   },
   {
    "duration": 14,
    "start_time": "2022-04-05T21:07:27.290Z"
   },
   {
    "duration": 17,
    "start_time": "2022-04-05T21:07:31.147Z"
   },
   {
    "duration": 14,
    "start_time": "2022-04-05T21:07:33.498Z"
   },
   {
    "duration": 21,
    "start_time": "2022-04-05T21:07:56.260Z"
   },
   {
    "duration": 25,
    "start_time": "2022-04-05T21:07:59.079Z"
   },
   {
    "duration": 1631,
    "start_time": "2022-04-05T21:08:08.103Z"
   },
   {
    "duration": 83,
    "start_time": "2022-04-05T21:08:09.742Z"
   },
   {
    "duration": 242,
    "start_time": "2022-04-05T21:08:09.828Z"
   },
   {
    "duration": 9,
    "start_time": "2022-04-05T21:08:10.075Z"
   },
   {
    "duration": 26,
    "start_time": "2022-04-05T21:08:10.088Z"
   },
   {
    "duration": 63,
    "start_time": "2022-04-05T21:08:10.116Z"
   },
   {
    "duration": 242,
    "start_time": "2022-04-05T21:08:10.182Z"
   },
   {
    "duration": 0,
    "start_time": "2022-04-05T21:08:10.427Z"
   },
   {
    "duration": 0,
    "start_time": "2022-04-05T21:08:10.429Z"
   },
   {
    "duration": 0,
    "start_time": "2022-04-05T21:08:10.431Z"
   },
   {
    "duration": 0,
    "start_time": "2022-04-05T21:08:10.445Z"
   },
   {
    "duration": 0,
    "start_time": "2022-04-05T21:08:10.447Z"
   },
   {
    "duration": 0,
    "start_time": "2022-04-05T21:08:10.453Z"
   },
   {
    "duration": 0,
    "start_time": "2022-04-05T21:08:10.454Z"
   },
   {
    "duration": 0,
    "start_time": "2022-04-05T21:08:10.456Z"
   },
   {
    "duration": 0,
    "start_time": "2022-04-05T21:08:10.457Z"
   },
   {
    "duration": 0,
    "start_time": "2022-04-05T21:08:10.459Z"
   },
   {
    "duration": 0,
    "start_time": "2022-04-05T21:08:10.461Z"
   },
   {
    "duration": 0,
    "start_time": "2022-04-05T21:08:10.463Z"
   },
   {
    "duration": 0,
    "start_time": "2022-04-05T21:08:10.464Z"
   },
   {
    "duration": 0,
    "start_time": "2022-04-05T21:08:10.471Z"
   },
   {
    "duration": 22,
    "start_time": "2022-04-05T21:09:30.038Z"
   },
   {
    "duration": 60,
    "start_time": "2022-04-05T21:09:32.529Z"
   },
   {
    "duration": 29,
    "start_time": "2022-04-05T21:09:41.455Z"
   },
   {
    "duration": 25,
    "start_time": "2022-04-05T21:10:14.608Z"
   },
   {
    "duration": 18,
    "start_time": "2022-04-05T21:10:35.008Z"
   },
   {
    "duration": 1517,
    "start_time": "2022-04-05T21:11:02.428Z"
   },
   {
    "duration": 76,
    "start_time": "2022-04-05T21:11:03.951Z"
   },
   {
    "duration": 236,
    "start_time": "2022-04-05T21:11:04.031Z"
   },
   {
    "duration": 6,
    "start_time": "2022-04-05T21:11:04.270Z"
   },
   {
    "duration": 18,
    "start_time": "2022-04-05T21:11:04.279Z"
   },
   {
    "duration": 63,
    "start_time": "2022-04-05T21:11:04.300Z"
   },
   {
    "duration": 21,
    "start_time": "2022-04-05T21:11:04.366Z"
   },
   {
    "duration": 929,
    "start_time": "2022-04-05T21:11:04.389Z"
   },
   {
    "duration": 347,
    "start_time": "2022-04-05T21:11:05.321Z"
   },
   {
    "duration": 532,
    "start_time": "2022-04-05T21:11:05.673Z"
   },
   {
    "duration": 370,
    "start_time": "2022-04-05T21:11:06.207Z"
   },
   {
    "duration": 443,
    "start_time": "2022-04-05T21:11:06.580Z"
   },
   {
    "duration": 408,
    "start_time": "2022-04-05T21:11:07.026Z"
   },
   {
    "duration": 11,
    "start_time": "2022-04-05T21:11:07.446Z"
   },
   {
    "duration": 290,
    "start_time": "2022-04-05T21:11:07.460Z"
   },
   {
    "duration": 7,
    "start_time": "2022-04-05T21:11:07.753Z"
   },
   {
    "duration": 33,
    "start_time": "2022-04-05T21:11:07.762Z"
   },
   {
    "duration": 13,
    "start_time": "2022-04-05T21:11:07.798Z"
   },
   {
    "duration": 17,
    "start_time": "2022-04-05T21:11:07.851Z"
   },
   {
    "duration": 24,
    "start_time": "2022-04-05T21:11:07.871Z"
   },
   {
    "duration": 22,
    "start_time": "2022-04-05T21:11:07.897Z"
   },
   {
    "duration": 169,
    "start_time": "2022-04-05T21:12:39.511Z"
   },
   {
    "duration": 19,
    "start_time": "2022-04-05T21:12:48.237Z"
   },
   {
    "duration": 18,
    "start_time": "2022-04-05T21:19:06.531Z"
   },
   {
    "duration": 17,
    "start_time": "2022-04-05T21:27:10.699Z"
   },
   {
    "duration": 15,
    "start_time": "2022-04-05T21:27:29.994Z"
   },
   {
    "duration": 15,
    "start_time": "2022-04-05T21:27:40.290Z"
   },
   {
    "duration": 14,
    "start_time": "2022-04-05T21:27:58.369Z"
   },
   {
    "duration": 22,
    "start_time": "2022-04-05T21:28:26.841Z"
   },
   {
    "duration": 33,
    "start_time": "2022-04-05T21:31:57.497Z"
   },
   {
    "duration": 26,
    "start_time": "2022-04-05T21:32:05.760Z"
   },
   {
    "duration": 17,
    "start_time": "2022-04-05T21:32:19.936Z"
   },
   {
    "duration": 39,
    "start_time": "2022-04-05T21:32:45.001Z"
   },
   {
    "duration": 2822,
    "start_time": "2022-04-05T21:32:55.936Z"
   },
   {
    "duration": 26,
    "start_time": "2022-04-05T21:33:16.227Z"
   },
   {
    "duration": 25,
    "start_time": "2022-04-05T21:33:24.026Z"
   },
   {
    "duration": 1457,
    "start_time": "2022-04-05T22:04:03.732Z"
   },
   {
    "duration": 82,
    "start_time": "2022-04-05T22:04:05.192Z"
   },
   {
    "duration": 185,
    "start_time": "2022-04-05T22:04:05.276Z"
   },
   {
    "duration": 7,
    "start_time": "2022-04-05T22:04:05.464Z"
   },
   {
    "duration": 23,
    "start_time": "2022-04-05T22:04:05.473Z"
   },
   {
    "duration": 18,
    "start_time": "2022-04-05T22:04:05.498Z"
   },
   {
    "duration": 52,
    "start_time": "2022-04-05T22:04:05.518Z"
   },
   {
    "duration": 891,
    "start_time": "2022-04-05T22:04:05.572Z"
   },
   {
    "duration": 335,
    "start_time": "2022-04-05T22:04:06.466Z"
   },
   {
    "duration": 460,
    "start_time": "2022-04-05T22:04:06.805Z"
   },
   {
    "duration": 458,
    "start_time": "2022-04-05T22:04:07.268Z"
   },
   {
    "duration": 420,
    "start_time": "2022-04-05T22:04:07.729Z"
   },
   {
    "duration": 378,
    "start_time": "2022-04-05T22:04:08.151Z"
   },
   {
    "duration": 26,
    "start_time": "2022-04-05T22:04:08.531Z"
   },
   {
    "duration": 246,
    "start_time": "2022-04-05T22:04:08.559Z"
   },
   {
    "duration": 7,
    "start_time": "2022-04-05T22:04:08.808Z"
   },
   {
    "duration": 51,
    "start_time": "2022-04-05T22:04:08.817Z"
   },
   {
    "duration": 14,
    "start_time": "2022-04-05T22:04:08.870Z"
   },
   {
    "duration": 13,
    "start_time": "2022-04-05T22:04:08.886Z"
   },
   {
    "duration": 64,
    "start_time": "2022-04-05T22:04:08.901Z"
   },
   {
    "duration": 19,
    "start_time": "2022-04-05T22:04:08.967Z"
   },
   {
    "duration": 1000,
    "start_time": "2022-04-06T05:55:21.366Z"
   },
   {
    "duration": 35,
    "start_time": "2022-04-06T05:55:22.368Z"
   },
   {
    "duration": 84,
    "start_time": "2022-04-06T05:55:22.404Z"
   },
   {
    "duration": 5,
    "start_time": "2022-04-06T05:55:22.489Z"
   },
   {
    "duration": 47,
    "start_time": "2022-04-06T05:55:22.495Z"
   },
   {
    "duration": 10,
    "start_time": "2022-04-06T05:55:22.544Z"
   },
   {
    "duration": 14,
    "start_time": "2022-04-06T05:55:22.555Z"
   },
   {
    "duration": 503,
    "start_time": "2022-04-06T05:55:22.571Z"
   },
   {
    "duration": 180,
    "start_time": "2022-04-06T05:55:23.075Z"
   },
   {
    "duration": 262,
    "start_time": "2022-04-06T05:55:23.257Z"
   },
   {
    "duration": 203,
    "start_time": "2022-04-06T05:55:23.521Z"
   },
   {
    "duration": 302,
    "start_time": "2022-04-06T05:55:23.729Z"
   },
   {
    "duration": 197,
    "start_time": "2022-04-06T05:55:24.033Z"
   },
   {
    "duration": 6,
    "start_time": "2022-04-06T05:55:24.232Z"
   },
   {
    "duration": 150,
    "start_time": "2022-04-06T05:55:24.240Z"
   },
   {
    "duration": 5,
    "start_time": "2022-04-06T05:55:24.391Z"
   },
   {
    "duration": 41,
    "start_time": "2022-04-06T05:55:24.398Z"
   },
   {
    "duration": 10,
    "start_time": "2022-04-06T05:55:24.441Z"
   },
   {
    "duration": 14,
    "start_time": "2022-04-06T05:55:24.452Z"
   },
   {
    "duration": 24,
    "start_time": "2022-04-06T05:55:24.468Z"
   },
   {
    "duration": 13,
    "start_time": "2022-04-06T05:55:24.494Z"
   },
   {
    "duration": 72,
    "start_time": "2022-04-20T12:19:46.920Z"
   },
   {
    "duration": 1381,
    "start_time": "2022-04-20T12:19:57.664Z"
   },
   {
    "duration": 70,
    "start_time": "2022-04-20T12:19:59.047Z"
   },
   {
    "duration": 140,
    "start_time": "2022-04-20T12:19:59.119Z"
   },
   {
    "duration": 7,
    "start_time": "2022-04-20T12:19:59.294Z"
   },
   {
    "duration": 18,
    "start_time": "2022-04-20T12:19:59.304Z"
   },
   {
    "duration": 14,
    "start_time": "2022-04-20T12:19:59.324Z"
   },
   {
    "duration": 58,
    "start_time": "2022-04-20T12:19:59.340Z"
   },
   {
    "duration": 908,
    "start_time": "2022-04-20T12:19:59.401Z"
   },
   {
    "duration": 321,
    "start_time": "2022-04-20T12:20:00.312Z"
   },
   {
    "duration": 462,
    "start_time": "2022-04-20T12:20:00.639Z"
   },
   {
    "duration": 395,
    "start_time": "2022-04-20T12:20:01.103Z"
   },
   {
    "duration": 395,
    "start_time": "2022-04-20T12:20:01.501Z"
   },
   {
    "duration": 390,
    "start_time": "2022-04-20T12:20:01.898Z"
   },
   {
    "duration": 8,
    "start_time": "2022-04-20T12:20:02.292Z"
   },
   {
    "duration": 274,
    "start_time": "2022-04-20T12:20:02.302Z"
   },
   {
    "duration": 16,
    "start_time": "2022-04-20T12:20:02.578Z"
   },
   {
    "duration": 33,
    "start_time": "2022-04-20T12:20:02.596Z"
   },
   {
    "duration": 19,
    "start_time": "2022-04-20T12:20:02.631Z"
   },
   {
    "duration": 22,
    "start_time": "2022-04-20T12:20:02.652Z"
   },
   {
    "duration": 41,
    "start_time": "2022-04-20T12:20:02.676Z"
   },
   {
    "duration": 20,
    "start_time": "2022-04-20T12:20:02.719Z"
   },
   {
    "duration": 1061,
    "start_time": "2022-06-21T21:25:11.277Z"
   },
   {
    "duration": 203,
    "start_time": "2022-06-21T21:25:12.340Z"
   },
   {
    "duration": 135,
    "start_time": "2022-06-21T21:25:12.548Z"
   },
   {
    "duration": 4,
    "start_time": "2022-06-21T21:25:12.685Z"
   },
   {
    "duration": 14,
    "start_time": "2022-06-21T21:25:12.691Z"
   },
   {
    "duration": 10,
    "start_time": "2022-06-21T21:25:12.706Z"
   },
   {
    "duration": 14,
    "start_time": "2022-06-21T21:25:12.717Z"
   },
   {
    "duration": 553,
    "start_time": "2022-06-21T21:25:12.733Z"
   },
   {
    "duration": 232,
    "start_time": "2022-06-21T21:25:13.289Z"
   },
   {
    "duration": 294,
    "start_time": "2022-06-21T21:25:13.523Z"
   },
   {
    "duration": 256,
    "start_time": "2022-06-21T21:25:13.818Z"
   },
   {
    "duration": 310,
    "start_time": "2022-06-21T21:25:14.075Z"
   },
   {
    "duration": 225,
    "start_time": "2022-06-21T21:25:14.386Z"
   },
   {
    "duration": 7,
    "start_time": "2022-06-21T21:25:14.613Z"
   },
   {
    "duration": 209,
    "start_time": "2022-06-21T21:25:14.622Z"
   },
   {
    "duration": 6,
    "start_time": "2022-06-21T21:25:14.832Z"
   },
   {
    "duration": 34,
    "start_time": "2022-06-21T21:25:14.840Z"
   },
   {
    "duration": 10,
    "start_time": "2022-06-21T21:25:14.882Z"
   },
   {
    "duration": 8,
    "start_time": "2022-06-21T21:25:14.894Z"
   },
   {
    "duration": 20,
    "start_time": "2022-06-21T21:25:14.903Z"
   },
   {
    "duration": 13,
    "start_time": "2022-06-21T21:25:14.925Z"
   }
  ],
  "kernelspec": {
   "display_name": "Python 3 (ipykernel)",
   "language": "python",
   "name": "python3"
  },
  "language_info": {
   "codemirror_mode": {
    "name": "ipython",
    "version": 3
   },
   "file_extension": ".py",
   "mimetype": "text/x-python",
   "name": "python",
   "nbconvert_exporter": "python",
   "pygments_lexer": "ipython3",
   "version": "3.9.5"
  },
  "toc": {
   "base_numbering": 1,
   "nav_menu": {},
   "number_sections": true,
   "sideBar": true,
   "skip_h1_title": true,
   "title_cell": "Table of Contents",
   "title_sidebar": "Contents",
   "toc_cell": false,
   "toc_position": {},
   "toc_section_display": true,
   "toc_window_display": false
  }
 },
 "nbformat": 4,
 "nbformat_minor": 2
}
