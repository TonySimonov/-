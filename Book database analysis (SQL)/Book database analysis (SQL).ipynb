{
 "cells": [
  {
   "cell_type": "markdown",
   "metadata": {},
   "source": [
    "# Анализ баз данных книг (SQL)"
   ]
  },
  {
   "cell_type": "markdown",
   "metadata": {},
   "source": [
    "# Содержание\n",
    "\n",
    "1. Цель работы<br>\n",
    "2. Подключение к базе данных<br>\n",
    "3. Исследование данных<br>\n",
    "4. Анализ БД<br>\n",
    "    4.1. Расчет количества книг вышедших после 1 января 2000 года<br>\n",
    "    4.2. Расчет количества обзоров и средней оценки для каждой книги<br>\n",
    "    4.3. Поиск издательства, которое выпустило наибольшее число книг толще 50 страниц<br>\n",
    "    4.4. Поиск автора с самой высокой средней оценкой книг (в учет берутся только книги с 50 и более оценками)<br>\n",
    "    4.5. Расчет среднего количества обзоров от пользователей, которые поставили больше 50 оценок<br>\n",
    "5. Выводы\n",
    "\n",
    "## Цель работы \n",
    "\n",
    "Анализ базы данных сервиса чтения книг на основе предоставленных данных\n",
    "\n",
    "**Описание данных**\n",
    "\n",
    "Таблица books - данные о книгах:\n",
    "* book_id — идентификатор книги\n",
    "* author_id — идентификатор автора\n",
    "* title — название книги\n",
    "* num_pages — количество страниц\n",
    "* publication_date — дата публикации книги\n",
    "* publisher_id — идентификатор издателя\n",
    "\n",
    "Таблица authors - данные об авторах:\n",
    "* author_id — идентификатор автора\n",
    "* author — имя автора\n",
    "\n",
    "Таблица publishers - данные об издательствах:\n",
    "* publisher_id — идентификатор издательства\n",
    "* publisher — название издательства\n",
    "\n",
    "Таблица ratings - данные о пользовательских оценках книг\n",
    "* rating_id — идентификатор оценки\n",
    "* book_id — идентификатор книги\n",
    "* username — имя пользователя, оставившего оценку\n",
    "* rating — оценка книги\n",
    "\n",
    "Таблица reviews - данные о пользовательских обзорах:\n",
    "* review_id — идентификатор обзора\n",
    "* book_id — идентификатор книги\n",
    "* username — имя автора обзора\n",
    "* text — текст обзора"
   ]
  },
  {
   "cell_type": "markdown",
   "metadata": {},
   "source": [
    "## Подключение к базе данных"
   ]
  },
  {
   "cell_type": "code",
   "execution_count": 1,
   "metadata": {},
   "outputs": [],
   "source": [
    "# импортируем библиотеки\n",
    "import pandas as pd\n",
    "from sqlalchemy import create_engine\n",
    "\n",
    "# устанавливаем параметры\n",
    "db_config = {'user': 'praktikum_student', # имя пользователя\n",
    "'pwd': 'Sdf4$2;d-d30pp', # пароль\n",
    "'host': 'rc1b-wcoijxj3yxfsf3fs.mdb.yandexcloud.net',\n",
    "'port': 6432, # порт подключения\n",
    "'db': 'data-analyst-final-project-db'} # название базы данных\n",
    "connection_string = 'postgresql://{}:{}@{}:{}/{}'.format(db_config['user'],\n",
    "db_config['pwd'],\n",
    "db_config['host'],\n",
    "db_config['port'],\n",
    "db_config['db'])"
   ]
  },
  {
   "cell_type": "markdown",
   "metadata": {},
   "source": [
    "## Исследование данных"
   ]
  },
  {
   "cell_type": "code",
   "execution_count": 2,
   "metadata": {
    "scrolled": false
   },
   "outputs": [
    {
     "name": "stdout",
     "output_type": "stream",
     "text": [
      "<class 'pandas.core.frame.DataFrame'>\n",
      "RangeIndex: 1000 entries, 0 to 999\n",
      "Data columns (total 6 columns):\n",
      " #   Column            Non-Null Count  Dtype \n",
      "---  ------            --------------  ----- \n",
      " 0   book_id           1000 non-null   int64 \n",
      " 1   author_id         1000 non-null   int64 \n",
      " 2   title             1000 non-null   object\n",
      " 3   num_pages         1000 non-null   int64 \n",
      " 4   publication_date  1000 non-null   object\n",
      " 5   publisher_id      1000 non-null   int64 \n",
      "dtypes: int64(4), object(2)\n",
      "memory usage: 47.0+ KB\n"
     ]
    },
    {
     "data": {
      "text/html": [
       "<div>\n",
       "<style scoped>\n",
       "    .dataframe tbody tr th:only-of-type {\n",
       "        vertical-align: middle;\n",
       "    }\n",
       "\n",
       "    .dataframe tbody tr th {\n",
       "        vertical-align: top;\n",
       "    }\n",
       "\n",
       "    .dataframe thead th {\n",
       "        text-align: right;\n",
       "    }\n",
       "</style>\n",
       "<table border=\"1\" class=\"dataframe\">\n",
       "  <thead>\n",
       "    <tr style=\"text-align: right;\">\n",
       "      <th></th>\n",
       "      <th>book_id</th>\n",
       "      <th>author_id</th>\n",
       "      <th>title</th>\n",
       "      <th>num_pages</th>\n",
       "      <th>publication_date</th>\n",
       "      <th>publisher_id</th>\n",
       "    </tr>\n",
       "  </thead>\n",
       "  <tbody>\n",
       "    <tr>\n",
       "      <th>0</th>\n",
       "      <td>1</td>\n",
       "      <td>546</td>\n",
       "      <td>'Salem's Lot</td>\n",
       "      <td>594</td>\n",
       "      <td>2005-11-01</td>\n",
       "      <td>93</td>\n",
       "    </tr>\n",
       "    <tr>\n",
       "      <th>1</th>\n",
       "      <td>2</td>\n",
       "      <td>465</td>\n",
       "      <td>1 000 Places to See Before You Die</td>\n",
       "      <td>992</td>\n",
       "      <td>2003-05-22</td>\n",
       "      <td>336</td>\n",
       "    </tr>\n",
       "    <tr>\n",
       "      <th>2</th>\n",
       "      <td>3</td>\n",
       "      <td>407</td>\n",
       "      <td>13 Little Blue Envelopes (Little Blue Envelope...</td>\n",
       "      <td>322</td>\n",
       "      <td>2010-12-21</td>\n",
       "      <td>135</td>\n",
       "    </tr>\n",
       "    <tr>\n",
       "      <th>3</th>\n",
       "      <td>4</td>\n",
       "      <td>82</td>\n",
       "      <td>1491: New Revelations of the Americas Before C...</td>\n",
       "      <td>541</td>\n",
       "      <td>2006-10-10</td>\n",
       "      <td>309</td>\n",
       "    </tr>\n",
       "    <tr>\n",
       "      <th>4</th>\n",
       "      <td>5</td>\n",
       "      <td>125</td>\n",
       "      <td>1776</td>\n",
       "      <td>386</td>\n",
       "      <td>2006-07-04</td>\n",
       "      <td>268</td>\n",
       "    </tr>\n",
       "  </tbody>\n",
       "</table>\n",
       "</div>"
      ],
      "text/plain": [
       "   book_id  author_id                                              title  \\\n",
       "0        1        546                                       'Salem's Lot   \n",
       "1        2        465                 1 000 Places to See Before You Die   \n",
       "2        3        407  13 Little Blue Envelopes (Little Blue Envelope...   \n",
       "3        4         82  1491: New Revelations of the Americas Before C...   \n",
       "4        5        125                                               1776   \n",
       "\n",
       "   num_pages publication_date  publisher_id  \n",
       "0        594       2005-11-01            93  \n",
       "1        992       2003-05-22           336  \n",
       "2        322       2010-12-21           135  \n",
       "3        541       2006-10-10           309  \n",
       "4        386       2006-07-04           268  "
      ]
     },
     "execution_count": 2,
     "metadata": {},
     "output_type": "execute_result"
    }
   ],
   "source": [
    "# Коннектор\n",
    "engine = create_engine(connection_string, connect_args={'sslmode':'require'})\n",
    "\n",
    "# Запрос в БД\n",
    "query = ''' \n",
    "SELECT *\n",
    "FROM books;\n",
    "'''\n",
    "\n",
    "# Переменная хранящая результат запроса\n",
    "books = pd.io.sql.read_sql(query, con=engine)\n",
    "\n",
    "# Вывод результата\n",
    "books.info()\n",
    "books.head(5)"
   ]
  },
  {
   "cell_type": "code",
   "execution_count": 3,
   "metadata": {},
   "outputs": [
    {
     "name": "stdout",
     "output_type": "stream",
     "text": [
      "<class 'pandas.core.frame.DataFrame'>\n",
      "RangeIndex: 636 entries, 0 to 635\n",
      "Data columns (total 2 columns):\n",
      " #   Column     Non-Null Count  Dtype \n",
      "---  ------     --------------  ----- \n",
      " 0   author_id  636 non-null    int64 \n",
      " 1   author     636 non-null    object\n",
      "dtypes: int64(1), object(1)\n",
      "memory usage: 10.1+ KB\n"
     ]
    },
    {
     "data": {
      "text/html": [
       "<div>\n",
       "<style scoped>\n",
       "    .dataframe tbody tr th:only-of-type {\n",
       "        vertical-align: middle;\n",
       "    }\n",
       "\n",
       "    .dataframe tbody tr th {\n",
       "        vertical-align: top;\n",
       "    }\n",
       "\n",
       "    .dataframe thead th {\n",
       "        text-align: right;\n",
       "    }\n",
       "</style>\n",
       "<table border=\"1\" class=\"dataframe\">\n",
       "  <thead>\n",
       "    <tr style=\"text-align: right;\">\n",
       "      <th></th>\n",
       "      <th>author_id</th>\n",
       "      <th>author</th>\n",
       "    </tr>\n",
       "  </thead>\n",
       "  <tbody>\n",
       "    <tr>\n",
       "      <th>0</th>\n",
       "      <td>1</td>\n",
       "      <td>A.S. Byatt</td>\n",
       "    </tr>\n",
       "    <tr>\n",
       "      <th>1</th>\n",
       "      <td>2</td>\n",
       "      <td>Aesop/Laura Harris/Laura Gibbs</td>\n",
       "    </tr>\n",
       "    <tr>\n",
       "      <th>2</th>\n",
       "      <td>3</td>\n",
       "      <td>Agatha Christie</td>\n",
       "    </tr>\n",
       "    <tr>\n",
       "      <th>3</th>\n",
       "      <td>4</td>\n",
       "      <td>Alan Brennert</td>\n",
       "    </tr>\n",
       "    <tr>\n",
       "      <th>4</th>\n",
       "      <td>5</td>\n",
       "      <td>Alan Moore/David   Lloyd</td>\n",
       "    </tr>\n",
       "  </tbody>\n",
       "</table>\n",
       "</div>"
      ],
      "text/plain": [
       "   author_id                          author\n",
       "0          1                      A.S. Byatt\n",
       "1          2  Aesop/Laura Harris/Laura Gibbs\n",
       "2          3                 Agatha Christie\n",
       "3          4                   Alan Brennert\n",
       "4          5        Alan Moore/David   Lloyd"
      ]
     },
     "execution_count": 3,
     "metadata": {},
     "output_type": "execute_result"
    }
   ],
   "source": [
    "# Запрос в БД\n",
    "query = ''' \n",
    "SELECT *\n",
    "FROM authors;\n",
    "'''\n",
    "\n",
    "# Переменная хранящая результат запроса\n",
    "authors = pd.io.sql.read_sql(query, con=engine)\n",
    "\n",
    "# Вывод результата\n",
    "authors.info()\n",
    "authors.head(5)"
   ]
  },
  {
   "cell_type": "code",
   "execution_count": 4,
   "metadata": {},
   "outputs": [
    {
     "name": "stdout",
     "output_type": "stream",
     "text": [
      "<class 'pandas.core.frame.DataFrame'>\n",
      "RangeIndex: 340 entries, 0 to 339\n",
      "Data columns (total 2 columns):\n",
      " #   Column        Non-Null Count  Dtype \n",
      "---  ------        --------------  ----- \n",
      " 0   publisher_id  340 non-null    int64 \n",
      " 1   publisher     340 non-null    object\n",
      "dtypes: int64(1), object(1)\n",
      "memory usage: 5.4+ KB\n"
     ]
    },
    {
     "data": {
      "text/html": [
       "<div>\n",
       "<style scoped>\n",
       "    .dataframe tbody tr th:only-of-type {\n",
       "        vertical-align: middle;\n",
       "    }\n",
       "\n",
       "    .dataframe tbody tr th {\n",
       "        vertical-align: top;\n",
       "    }\n",
       "\n",
       "    .dataframe thead th {\n",
       "        text-align: right;\n",
       "    }\n",
       "</style>\n",
       "<table border=\"1\" class=\"dataframe\">\n",
       "  <thead>\n",
       "    <tr style=\"text-align: right;\">\n",
       "      <th></th>\n",
       "      <th>publisher_id</th>\n",
       "      <th>publisher</th>\n",
       "    </tr>\n",
       "  </thead>\n",
       "  <tbody>\n",
       "    <tr>\n",
       "      <th>0</th>\n",
       "      <td>1</td>\n",
       "      <td>Ace</td>\n",
       "    </tr>\n",
       "    <tr>\n",
       "      <th>1</th>\n",
       "      <td>2</td>\n",
       "      <td>Ace Book</td>\n",
       "    </tr>\n",
       "    <tr>\n",
       "      <th>2</th>\n",
       "      <td>3</td>\n",
       "      <td>Ace Books</td>\n",
       "    </tr>\n",
       "    <tr>\n",
       "      <th>3</th>\n",
       "      <td>4</td>\n",
       "      <td>Ace Hardcover</td>\n",
       "    </tr>\n",
       "    <tr>\n",
       "      <th>4</th>\n",
       "      <td>5</td>\n",
       "      <td>Addison Wesley Publishing Company</td>\n",
       "    </tr>\n",
       "  </tbody>\n",
       "</table>\n",
       "</div>"
      ],
      "text/plain": [
       "   publisher_id                          publisher\n",
       "0             1                                Ace\n",
       "1             2                           Ace Book\n",
       "2             3                          Ace Books\n",
       "3             4                      Ace Hardcover\n",
       "4             5  Addison Wesley Publishing Company"
      ]
     },
     "execution_count": 4,
     "metadata": {},
     "output_type": "execute_result"
    }
   ],
   "source": [
    "# Запрос в БД\n",
    "query = ''' \n",
    "SELECT *\n",
    "FROM publishers;\n",
    "'''\n",
    "\n",
    "# Переменная хранящая результат запроса\n",
    "publishers = pd.io.sql.read_sql(query, con=engine)\n",
    "\n",
    "# Вывод результата\n",
    "publishers.info()\n",
    "publishers.head(5)"
   ]
  },
  {
   "cell_type": "code",
   "execution_count": 5,
   "metadata": {},
   "outputs": [
    {
     "name": "stdout",
     "output_type": "stream",
     "text": [
      "<class 'pandas.core.frame.DataFrame'>\n",
      "RangeIndex: 6456 entries, 0 to 6455\n",
      "Data columns (total 4 columns):\n",
      " #   Column     Non-Null Count  Dtype \n",
      "---  ------     --------------  ----- \n",
      " 0   rating_id  6456 non-null   int64 \n",
      " 1   book_id    6456 non-null   int64 \n",
      " 2   username   6456 non-null   object\n",
      " 3   rating     6456 non-null   int64 \n",
      "dtypes: int64(3), object(1)\n",
      "memory usage: 201.9+ KB\n"
     ]
    },
    {
     "data": {
      "text/html": [
       "<div>\n",
       "<style scoped>\n",
       "    .dataframe tbody tr th:only-of-type {\n",
       "        vertical-align: middle;\n",
       "    }\n",
       "\n",
       "    .dataframe tbody tr th {\n",
       "        vertical-align: top;\n",
       "    }\n",
       "\n",
       "    .dataframe thead th {\n",
       "        text-align: right;\n",
       "    }\n",
       "</style>\n",
       "<table border=\"1\" class=\"dataframe\">\n",
       "  <thead>\n",
       "    <tr style=\"text-align: right;\">\n",
       "      <th></th>\n",
       "      <th>rating_id</th>\n",
       "      <th>book_id</th>\n",
       "      <th>username</th>\n",
       "      <th>rating</th>\n",
       "    </tr>\n",
       "  </thead>\n",
       "  <tbody>\n",
       "    <tr>\n",
       "      <th>0</th>\n",
       "      <td>1</td>\n",
       "      <td>1</td>\n",
       "      <td>ryanfranco</td>\n",
       "      <td>4</td>\n",
       "    </tr>\n",
       "    <tr>\n",
       "      <th>1</th>\n",
       "      <td>2</td>\n",
       "      <td>1</td>\n",
       "      <td>grantpatricia</td>\n",
       "      <td>2</td>\n",
       "    </tr>\n",
       "    <tr>\n",
       "      <th>2</th>\n",
       "      <td>3</td>\n",
       "      <td>1</td>\n",
       "      <td>brandtandrea</td>\n",
       "      <td>5</td>\n",
       "    </tr>\n",
       "    <tr>\n",
       "      <th>3</th>\n",
       "      <td>4</td>\n",
       "      <td>2</td>\n",
       "      <td>lorichen</td>\n",
       "      <td>3</td>\n",
       "    </tr>\n",
       "    <tr>\n",
       "      <th>4</th>\n",
       "      <td>5</td>\n",
       "      <td>2</td>\n",
       "      <td>mariokeller</td>\n",
       "      <td>2</td>\n",
       "    </tr>\n",
       "  </tbody>\n",
       "</table>\n",
       "</div>"
      ],
      "text/plain": [
       "   rating_id  book_id       username  rating\n",
       "0          1        1     ryanfranco       4\n",
       "1          2        1  grantpatricia       2\n",
       "2          3        1   brandtandrea       5\n",
       "3          4        2       lorichen       3\n",
       "4          5        2    mariokeller       2"
      ]
     },
     "execution_count": 5,
     "metadata": {},
     "output_type": "execute_result"
    }
   ],
   "source": [
    "# Запрос в БД\n",
    "query = ''' \n",
    "SELECT *\n",
    "FROM ratings;\n",
    "'''\n",
    "\n",
    "# Переменная хранящая результат запроса\n",
    "ratings = pd.io.sql.read_sql(query, con=engine)\n",
    "\n",
    "# Вывод результата\n",
    "ratings.info()\n",
    "ratings.head(5)"
   ]
  },
  {
   "cell_type": "code",
   "execution_count": 6,
   "metadata": {},
   "outputs": [
    {
     "name": "stdout",
     "output_type": "stream",
     "text": [
      "<class 'pandas.core.frame.DataFrame'>\n",
      "RangeIndex: 2793 entries, 0 to 2792\n",
      "Data columns (total 4 columns):\n",
      " #   Column     Non-Null Count  Dtype \n",
      "---  ------     --------------  ----- \n",
      " 0   review_id  2793 non-null   int64 \n",
      " 1   book_id    2793 non-null   int64 \n",
      " 2   username   2793 non-null   object\n",
      " 3   text       2793 non-null   object\n",
      "dtypes: int64(2), object(2)\n",
      "memory usage: 87.4+ KB\n"
     ]
    },
    {
     "data": {
      "text/html": [
       "<div>\n",
       "<style scoped>\n",
       "    .dataframe tbody tr th:only-of-type {\n",
       "        vertical-align: middle;\n",
       "    }\n",
       "\n",
       "    .dataframe tbody tr th {\n",
       "        vertical-align: top;\n",
       "    }\n",
       "\n",
       "    .dataframe thead th {\n",
       "        text-align: right;\n",
       "    }\n",
       "</style>\n",
       "<table border=\"1\" class=\"dataframe\">\n",
       "  <thead>\n",
       "    <tr style=\"text-align: right;\">\n",
       "      <th></th>\n",
       "      <th>review_id</th>\n",
       "      <th>book_id</th>\n",
       "      <th>username</th>\n",
       "      <th>text</th>\n",
       "    </tr>\n",
       "  </thead>\n",
       "  <tbody>\n",
       "    <tr>\n",
       "      <th>0</th>\n",
       "      <td>1</td>\n",
       "      <td>1</td>\n",
       "      <td>brandtandrea</td>\n",
       "      <td>Mention society tell send professor analysis. ...</td>\n",
       "    </tr>\n",
       "    <tr>\n",
       "      <th>1</th>\n",
       "      <td>2</td>\n",
       "      <td>1</td>\n",
       "      <td>ryanfranco</td>\n",
       "      <td>Foot glass pretty audience hit themselves. Amo...</td>\n",
       "    </tr>\n",
       "    <tr>\n",
       "      <th>2</th>\n",
       "      <td>3</td>\n",
       "      <td>2</td>\n",
       "      <td>lorichen</td>\n",
       "      <td>Listen treat keep worry. Miss husband tax but ...</td>\n",
       "    </tr>\n",
       "    <tr>\n",
       "      <th>3</th>\n",
       "      <td>4</td>\n",
       "      <td>3</td>\n",
       "      <td>johnsonamanda</td>\n",
       "      <td>Finally month interesting blue could nature cu...</td>\n",
       "    </tr>\n",
       "    <tr>\n",
       "      <th>4</th>\n",
       "      <td>5</td>\n",
       "      <td>3</td>\n",
       "      <td>scotttamara</td>\n",
       "      <td>Nation purpose heavy give wait song will. List...</td>\n",
       "    </tr>\n",
       "  </tbody>\n",
       "</table>\n",
       "</div>"
      ],
      "text/plain": [
       "   review_id  book_id       username  \\\n",
       "0          1        1   brandtandrea   \n",
       "1          2        1     ryanfranco   \n",
       "2          3        2       lorichen   \n",
       "3          4        3  johnsonamanda   \n",
       "4          5        3    scotttamara   \n",
       "\n",
       "                                                text  \n",
       "0  Mention society tell send professor analysis. ...  \n",
       "1  Foot glass pretty audience hit themselves. Amo...  \n",
       "2  Listen treat keep worry. Miss husband tax but ...  \n",
       "3  Finally month interesting blue could nature cu...  \n",
       "4  Nation purpose heavy give wait song will. List...  "
      ]
     },
     "execution_count": 6,
     "metadata": {},
     "output_type": "execute_result"
    }
   ],
   "source": [
    "# Запрос в БД\n",
    "query = ''' \n",
    "SELECT *\n",
    "FROM reviews;\n",
    "'''\n",
    "\n",
    "# Переменная хранящая результат запроса\n",
    "reviews = pd.io.sql.read_sql(query, con=engine)\n",
    "\n",
    "# Вывод результата\n",
    "reviews.info()\n",
    "reviews.head(5)"
   ]
  },
  {
   "cell_type": "markdown",
   "metadata": {},
   "source": [
    "## Анализ БД\n",
    "### Расчет количества книг вышедших после 1 января 2000 года"
   ]
  },
  {
   "cell_type": "code",
   "execution_count": 7,
   "metadata": {},
   "outputs": [
    {
     "data": {
      "text/html": [
       "<div>\n",
       "<style scoped>\n",
       "    .dataframe tbody tr th:only-of-type {\n",
       "        vertical-align: middle;\n",
       "    }\n",
       "\n",
       "    .dataframe tbody tr th {\n",
       "        vertical-align: top;\n",
       "    }\n",
       "\n",
       "    .dataframe thead th {\n",
       "        text-align: right;\n",
       "    }\n",
       "</style>\n",
       "<table border=\"1\" class=\"dataframe\">\n",
       "  <thead>\n",
       "    <tr style=\"text-align: right;\">\n",
       "      <th></th>\n",
       "      <th>count</th>\n",
       "    </tr>\n",
       "  </thead>\n",
       "  <tbody>\n",
       "    <tr>\n",
       "      <th>0</th>\n",
       "      <td>819</td>\n",
       "    </tr>\n",
       "  </tbody>\n",
       "</table>\n",
       "</div>"
      ],
      "text/plain": [
       "   count\n",
       "0    819"
      ]
     },
     "execution_count": 7,
     "metadata": {},
     "output_type": "execute_result"
    }
   ],
   "source": [
    "# Запрос в БД\n",
    "query = ''' \n",
    "SELECT COUNT(book_id)\n",
    "FROM books\n",
    "WHERE publication_date > '2000-01-01';\n",
    "'''\n",
    "\n",
    "# Переменная хранящая результат запроса\n",
    "fitrst_exc = pd.io.sql.read_sql(query, con=engine)\n",
    "\n",
    "# Вывод результата\n",
    "fitrst_exc"
   ]
  },
  {
   "cell_type": "markdown",
   "metadata": {},
   "source": [
    "Всего получилось 819 книг, которые публиковались после 1 января 2000 года"
   ]
  },
  {
   "cell_type": "markdown",
   "metadata": {},
   "source": [
    "### Расчет количества обзоров и средней оценки для каждой книги"
   ]
  },
  {
   "cell_type": "code",
   "execution_count": 8,
   "metadata": {
    "scrolled": false
   },
   "outputs": [
    {
     "data": {
      "text/html": [
       "<div>\n",
       "<style scoped>\n",
       "    .dataframe tbody tr th:only-of-type {\n",
       "        vertical-align: middle;\n",
       "    }\n",
       "\n",
       "    .dataframe tbody tr th {\n",
       "        vertical-align: top;\n",
       "    }\n",
       "\n",
       "    .dataframe thead th {\n",
       "        text-align: right;\n",
       "    }\n",
       "</style>\n",
       "<table border=\"1\" class=\"dataframe\">\n",
       "  <thead>\n",
       "    <tr style=\"text-align: right;\">\n",
       "      <th></th>\n",
       "      <th>title</th>\n",
       "      <th>reviews</th>\n",
       "      <th>avg_rating</th>\n",
       "    </tr>\n",
       "  </thead>\n",
       "  <tbody>\n",
       "    <tr>\n",
       "      <th>0</th>\n",
       "      <td>'Salem's Lot</td>\n",
       "      <td>2</td>\n",
       "      <td>3.666667</td>\n",
       "    </tr>\n",
       "    <tr>\n",
       "      <th>1</th>\n",
       "      <td>1 000 Places to See Before You Die</td>\n",
       "      <td>1</td>\n",
       "      <td>2.500000</td>\n",
       "    </tr>\n",
       "    <tr>\n",
       "      <th>2</th>\n",
       "      <td>13 Little Blue Envelopes (Little Blue Envelope...</td>\n",
       "      <td>3</td>\n",
       "      <td>4.666667</td>\n",
       "    </tr>\n",
       "    <tr>\n",
       "      <th>3</th>\n",
       "      <td>1491: New Revelations of the Americas Before C...</td>\n",
       "      <td>2</td>\n",
       "      <td>4.500000</td>\n",
       "    </tr>\n",
       "    <tr>\n",
       "      <th>4</th>\n",
       "      <td>1776</td>\n",
       "      <td>4</td>\n",
       "      <td>4.000000</td>\n",
       "    </tr>\n",
       "    <tr>\n",
       "      <th>...</th>\n",
       "      <td>...</td>\n",
       "      <td>...</td>\n",
       "      <td>...</td>\n",
       "    </tr>\n",
       "    <tr>\n",
       "      <th>995</th>\n",
       "      <td>Wyrd Sisters (Discworld  #6; Witches #2)</td>\n",
       "      <td>3</td>\n",
       "      <td>3.666667</td>\n",
       "    </tr>\n",
       "    <tr>\n",
       "      <th>996</th>\n",
       "      <td>Xenocide (Ender's Saga  #3)</td>\n",
       "      <td>3</td>\n",
       "      <td>3.400000</td>\n",
       "    </tr>\n",
       "    <tr>\n",
       "      <th>997</th>\n",
       "      <td>Year of Wonders</td>\n",
       "      <td>4</td>\n",
       "      <td>3.200000</td>\n",
       "    </tr>\n",
       "    <tr>\n",
       "      <th>998</th>\n",
       "      <td>You Suck (A Love Story  #2)</td>\n",
       "      <td>2</td>\n",
       "      <td>4.500000</td>\n",
       "    </tr>\n",
       "    <tr>\n",
       "      <th>999</th>\n",
       "      <td>Zen and the Art of Motorcycle Maintenance: An ...</td>\n",
       "      <td>4</td>\n",
       "      <td>3.833333</td>\n",
       "    </tr>\n",
       "  </tbody>\n",
       "</table>\n",
       "<p>1000 rows × 3 columns</p>\n",
       "</div>"
      ],
      "text/plain": [
       "                                                 title  reviews  avg_rating\n",
       "0                                         'Salem's Lot        2    3.666667\n",
       "1                   1 000 Places to See Before You Die        1    2.500000\n",
       "2    13 Little Blue Envelopes (Little Blue Envelope...        3    4.666667\n",
       "3    1491: New Revelations of the Americas Before C...        2    4.500000\n",
       "4                                                 1776        4    4.000000\n",
       "..                                                 ...      ...         ...\n",
       "995           Wyrd Sisters (Discworld  #6; Witches #2)        3    3.666667\n",
       "996                        Xenocide (Ender's Saga  #3)        3    3.400000\n",
       "997                                    Year of Wonders        4    3.200000\n",
       "998                        You Suck (A Love Story  #2)        2    4.500000\n",
       "999  Zen and the Art of Motorcycle Maintenance: An ...        4    3.833333\n",
       "\n",
       "[1000 rows x 3 columns]"
      ]
     },
     "execution_count": 8,
     "metadata": {},
     "output_type": "execute_result"
    }
   ],
   "source": [
    "# Запрос в БД\n",
    "query = ''' \n",
    "SELECT --b.book_id,\n",
    "       b.title,\n",
    "       COUNT(DISTINCT rev.review_id) AS reviews,\n",
    "       AVG(rat.rating) AS avg_rating\n",
    "FROM books AS b\n",
    "LEFT OUTER JOIN reviews AS rev ON b.book_id = rev.book_id\n",
    "LEFT OUTER JOIN ratings AS rat ON b.book_id = rat.book_id\n",
    "GROUP BY b.book_id;\n",
    "'''\n",
    "\n",
    "# Переменная хранящая результат запроса\n",
    "second_exc = pd.io.sql.read_sql(query, con=engine)\n",
    "# Вывод результата\n",
    "second_exc"
   ]
  },
  {
   "cell_type": "markdown",
   "metadata": {},
   "source": [
    "### Поиск издательства, которое выпустило наибольшее число книг толще 50 страниц "
   ]
  },
  {
   "cell_type": "code",
   "execution_count": 9,
   "metadata": {
    "scrolled": true
   },
   "outputs": [
    {
     "data": {
      "text/html": [
       "<div>\n",
       "<style scoped>\n",
       "    .dataframe tbody tr th:only-of-type {\n",
       "        vertical-align: middle;\n",
       "    }\n",
       "\n",
       "    .dataframe tbody tr th {\n",
       "        vertical-align: top;\n",
       "    }\n",
       "\n",
       "    .dataframe thead th {\n",
       "        text-align: right;\n",
       "    }\n",
       "</style>\n",
       "<table border=\"1\" class=\"dataframe\">\n",
       "  <thead>\n",
       "    <tr style=\"text-align: right;\">\n",
       "      <th></th>\n",
       "      <th>publisher</th>\n",
       "      <th>books</th>\n",
       "    </tr>\n",
       "  </thead>\n",
       "  <tbody>\n",
       "    <tr>\n",
       "      <th>0</th>\n",
       "      <td>Penguin Books</td>\n",
       "      <td>42</td>\n",
       "    </tr>\n",
       "  </tbody>\n",
       "</table>\n",
       "</div>"
      ],
      "text/plain": [
       "       publisher  books\n",
       "0  Penguin Books     42"
      ]
     },
     "execution_count": 9,
     "metadata": {},
     "output_type": "execute_result"
    }
   ],
   "source": [
    "# Запрос в БД\n",
    "query = ''' \n",
    "SELECT pub.publisher,\n",
    "       COUNT(book_id) AS books\n",
    "FROM books AS b\n",
    "LEFT OUTER JOIN publishers AS pub ON b.publisher_id = pub.publisher_id\n",
    "WHERE b.num_pages > 50\n",
    "GROUP BY pub.publisher\n",
    "ORDER BY books DESC\n",
    "LIMIT 1;\n",
    "'''\n",
    "\n",
    "# Переменная хранящая результат запроса\n",
    "third_exc = pd.io.sql.read_sql(query, con=engine)\n",
    "# Вывод результата\n",
    "third_exc"
   ]
  },
  {
   "cell_type": "markdown",
   "metadata": {},
   "source": [
    "Определили издателя наибольшого числа книг "
   ]
  },
  {
   "cell_type": "markdown",
   "metadata": {},
   "source": [
    "### Поиск автора с самой высокой средней оценкой книг (в учет берутся только книги с 50 и более оценками)"
   ]
  },
  {
   "cell_type": "code",
   "execution_count": 10,
   "metadata": {},
   "outputs": [
    {
     "data": {
      "text/html": [
       "<div>\n",
       "<style scoped>\n",
       "    .dataframe tbody tr th:only-of-type {\n",
       "        vertical-align: middle;\n",
       "    }\n",
       "\n",
       "    .dataframe tbody tr th {\n",
       "        vertical-align: top;\n",
       "    }\n",
       "\n",
       "    .dataframe thead th {\n",
       "        text-align: right;\n",
       "    }\n",
       "</style>\n",
       "<table border=\"1\" class=\"dataframe\">\n",
       "  <thead>\n",
       "    <tr style=\"text-align: right;\">\n",
       "      <th></th>\n",
       "      <th>author</th>\n",
       "      <th>avg_rating</th>\n",
       "    </tr>\n",
       "  </thead>\n",
       "  <tbody>\n",
       "    <tr>\n",
       "      <th>0</th>\n",
       "      <td>J.K. Rowling/Mary GrandPré</td>\n",
       "      <td>4.288462</td>\n",
       "    </tr>\n",
       "  </tbody>\n",
       "</table>\n",
       "</div>"
      ],
      "text/plain": [
       "                       author  avg_rating\n",
       "0  J.K. Rowling/Mary GrandPré    4.288462"
      ]
     },
     "execution_count": 10,
     "metadata": {},
     "output_type": "execute_result"
    }
   ],
   "source": [
    "# Запрос в БД\n",
    "query = ''' \n",
    "SELECT a.author,\n",
    "       AVG(r.rating) AS avg_rating\n",
    "FROM books AS b\n",
    "LEFT OUTER JOIN authors AS a ON b.author_id = a.author_id\n",
    "LEFT OUTER JOIN ratings AS r ON b.book_id = r.book_id\n",
    "GROUP BY author\n",
    "HAVING COUNT(r.rating) > 50\n",
    "ORDER BY avg_rating DESC\n",
    "LIMIT 1;\n",
    "'''\n",
    "\n",
    "# Переменная хранящая результат запроса\n",
    "fourth_exc = pd.io.sql.read_sql(query, con=engine)\n",
    "# Вывод результата\n",
    "fourth_exc"
   ]
  },
  {
   "cell_type": "markdown",
   "metadata": {},
   "source": [
    "Определили автора с самой высокой оценкой"
   ]
  },
  {
   "cell_type": "markdown",
   "metadata": {},
   "source": [
    "### Расчет среднего количества обзоров от пользователей, которые поставили больше 50 оценок"
   ]
  },
  {
   "cell_type": "code",
   "execution_count": 11,
   "metadata": {
    "scrolled": false
   },
   "outputs": [
    {
     "data": {
      "text/html": [
       "<div>\n",
       "<style scoped>\n",
       "    .dataframe tbody tr th:only-of-type {\n",
       "        vertical-align: middle;\n",
       "    }\n",
       "\n",
       "    .dataframe tbody tr th {\n",
       "        vertical-align: top;\n",
       "    }\n",
       "\n",
       "    .dataframe thead th {\n",
       "        text-align: right;\n",
       "    }\n",
       "</style>\n",
       "<table border=\"1\" class=\"dataframe\">\n",
       "  <thead>\n",
       "    <tr style=\"text-align: right;\">\n",
       "      <th></th>\n",
       "      <th>avg_reviews</th>\n",
       "    </tr>\n",
       "  </thead>\n",
       "  <tbody>\n",
       "    <tr>\n",
       "      <th>0</th>\n",
       "      <td>24.333333</td>\n",
       "    </tr>\n",
       "  </tbody>\n",
       "</table>\n",
       "</div>"
      ],
      "text/plain": [
       "   avg_reviews\n",
       "0    24.333333"
      ]
     },
     "execution_count": 11,
     "metadata": {},
     "output_type": "execute_result"
    }
   ],
   "source": [
    "# Запрос в БД\n",
    "query = ''' \n",
    "SELECT AVG(rev.reviews_count) AS avg_reviews\n",
    "FROM (SELECT username,\n",
    "             COUNT(review_id) AS reviews_count\n",
    "      FROM reviews \n",
    "      GROUP BY username) AS rev\n",
    "WHERE rev.username IN (SELECT username\n",
    "                       FROM ratings\n",
    "                       GROUP BY username\n",
    "                       HAVING COUNT(rating) > 50);\n",
    "'''\n",
    "# Переменная хранящая результат запроса\n",
    "fifth_exc = pd.io.sql.read_sql(query, con=engine)\n",
    "# Вывод результата\n",
    "fifth_exc"
   ]
  },
  {
   "cell_type": "code",
   "execution_count": 12,
   "metadata": {},
   "outputs": [
    {
     "data": {
      "text/html": [
       "<div>\n",
       "<style scoped>\n",
       "    .dataframe tbody tr th:only-of-type {\n",
       "        vertical-align: middle;\n",
       "    }\n",
       "\n",
       "    .dataframe tbody tr th {\n",
       "        vertical-align: top;\n",
       "    }\n",
       "\n",
       "    .dataframe thead th {\n",
       "        text-align: right;\n",
       "    }\n",
       "</style>\n",
       "<table border=\"1\" class=\"dataframe\">\n",
       "  <thead>\n",
       "    <tr style=\"text-align: right;\">\n",
       "      <th></th>\n",
       "      <th>username</th>\n",
       "      <th>review</th>\n",
       "    </tr>\n",
       "  </thead>\n",
       "  <tbody>\n",
       "    <tr>\n",
       "      <th>0</th>\n",
       "      <td>susan85</td>\n",
       "      <td>29</td>\n",
       "    </tr>\n",
       "    <tr>\n",
       "      <th>1</th>\n",
       "      <td>sfitzgerald</td>\n",
       "      <td>28</td>\n",
       "    </tr>\n",
       "    <tr>\n",
       "      <th>2</th>\n",
       "      <td>martinadam</td>\n",
       "      <td>27</td>\n",
       "    </tr>\n",
       "    <tr>\n",
       "      <th>3</th>\n",
       "      <td>eallen</td>\n",
       "      <td>26</td>\n",
       "    </tr>\n",
       "    <tr>\n",
       "      <th>4</th>\n",
       "      <td>lesliegibbs</td>\n",
       "      <td>26</td>\n",
       "    </tr>\n",
       "  </tbody>\n",
       "</table>\n",
       "</div>"
      ],
      "text/plain": [
       "      username  review\n",
       "0      susan85      29\n",
       "1  sfitzgerald      28\n",
       "2   martinadam      27\n",
       "3       eallen      26\n",
       "4  lesliegibbs      26"
      ]
     },
     "execution_count": 12,
     "metadata": {},
     "output_type": "execute_result"
    }
   ],
   "source": [
    "#CODE REVIEW\n",
    "# Запрос в БД\n",
    "query = ''' \n",
    "SELECT username,\n",
    "       count(*) as review\n",
    "FROM reviews\n",
    "GROUP BY username\n",
    "ORDER BY review desc\n",
    "LIMIT 5;\n",
    "'''\n",
    "\n",
    "pd.read_sql(query, con=engine)"
   ]
  },
  {
   "cell_type": "markdown",
   "metadata": {},
   "source": [
    "## Выводы\n",
    "\n",
    "* В ходе работы расчитано количество книг, опубликованных с начала 2000х - 819 книг\n",
    "* Для каждой книги рассчитаны количество обзоров и средняя оценка\n",
    "* Найдено издательство, выпустившее наибольшее число книг - Penguin Books с 42 книгами\n",
    "* Найден самый рейтинговый автор - J.K. Rowling/Mary GrandPré со средним рейтингом 4.288462\n",
    "* Рассчитано среднее число обзоров от самых ситающих пользователей"
   ]
  }
 ],
 "metadata": {
  "ExecuteTimeLog": [
   {
    "duration": 631,
    "start_time": "2022-06-15T08:30:01.066Z"
   },
   {
    "duration": 21,
    "start_time": "2022-06-15T08:30:06.259Z"
   },
   {
    "duration": 43,
    "start_time": "2022-06-15T12:41:19.470Z"
   },
   {
    "duration": 558,
    "start_time": "2022-06-15T12:41:23.616Z"
   },
   {
    "duration": 7,
    "start_time": "2022-06-15T12:41:25.434Z"
   },
   {
    "duration": 47,
    "start_time": "2022-06-15T12:41:29.234Z"
   },
   {
    "duration": 10,
    "start_time": "2022-06-15T12:42:16.486Z"
   },
   {
    "duration": 75,
    "start_time": "2022-06-15T12:42:57.550Z"
   },
   {
    "duration": 25,
    "start_time": "2022-06-15T12:43:29.595Z"
   },
   {
    "duration": 56,
    "start_time": "2022-06-15T12:43:34.326Z"
   },
   {
    "duration": 27,
    "start_time": "2022-06-15T12:43:35.249Z"
   },
   {
    "duration": 2,
    "start_time": "2022-06-15T12:44:33.399Z"
   },
   {
    "duration": 13,
    "start_time": "2022-06-15T12:44:57.552Z"
   },
   {
    "duration": 54,
    "start_time": "2022-06-15T12:46:00.690Z"
   },
   {
    "duration": 6,
    "start_time": "2022-06-15T12:46:03.820Z"
   },
   {
    "duration": 420,
    "start_time": "2022-06-15T12:46:22.254Z"
   },
   {
    "duration": 455,
    "start_time": "2022-06-15T12:46:27.206Z"
   },
   {
    "duration": 9,
    "start_time": "2022-06-15T12:46:36.376Z"
   },
   {
    "duration": 8,
    "start_time": "2022-06-15T12:46:42.670Z"
   },
   {
    "duration": 12,
    "start_time": "2022-06-15T12:47:32.773Z"
   },
   {
    "duration": 568,
    "start_time": "2022-06-15T18:19:54.576Z"
   },
   {
    "duration": 318,
    "start_time": "2022-06-15T18:19:55.146Z"
   },
   {
    "duration": 9,
    "start_time": "2022-06-15T18:19:55.466Z"
   },
   {
    "duration": 87,
    "start_time": "2022-06-15T18:19:55.478Z"
   },
   {
    "duration": 237,
    "start_time": "2022-06-15T18:21:17.213Z"
   },
   {
    "duration": 236,
    "start_time": "2022-06-15T18:21:54.610Z"
   },
   {
    "duration": 520,
    "start_time": "2022-06-15T18:22:30.525Z"
   },
   {
    "duration": 255,
    "start_time": "2022-06-15T18:22:31.047Z"
   },
   {
    "duration": 243,
    "start_time": "2022-06-15T18:22:31.304Z"
   },
   {
    "duration": 47,
    "start_time": "2022-06-15T20:00:46.369Z"
   },
   {
    "duration": 577,
    "start_time": "2022-06-15T20:00:52.818Z"
   },
   {
    "duration": 272,
    "start_time": "2022-06-15T20:00:53.397Z"
   },
   {
    "duration": 310,
    "start_time": "2022-06-15T20:00:53.670Z"
   },
   {
    "duration": 316,
    "start_time": "2022-06-15T20:03:43.866Z"
   },
   {
    "duration": 350,
    "start_time": "2022-06-15T20:06:05.585Z"
   },
   {
    "duration": 250,
    "start_time": "2022-06-15T20:06:35.909Z"
   },
   {
    "duration": 325,
    "start_time": "2022-06-15T20:07:00.585Z"
   },
   {
    "duration": 176,
    "start_time": "2022-06-15T20:07:28.642Z"
   },
   {
    "duration": 250,
    "start_time": "2022-06-15T20:07:33.753Z"
   },
   {
    "duration": 297,
    "start_time": "2022-06-15T20:07:43.404Z"
   },
   {
    "duration": 283,
    "start_time": "2022-06-15T20:08:45.756Z"
   },
   {
    "duration": 241,
    "start_time": "2022-06-15T20:08:50.863Z"
   },
   {
    "duration": 244,
    "start_time": "2022-06-15T20:09:26.196Z"
   },
   {
    "duration": 316,
    "start_time": "2022-06-15T20:09:42.792Z"
   },
   {
    "duration": 268,
    "start_time": "2022-06-15T20:10:09.158Z"
   },
   {
    "duration": 266,
    "start_time": "2022-06-15T20:10:15.343Z"
   },
   {
    "duration": 324,
    "start_time": "2022-06-15T20:10:41.926Z"
   },
   {
    "duration": 317,
    "start_time": "2022-06-15T20:11:07.383Z"
   },
   {
    "duration": 305,
    "start_time": "2022-06-15T20:11:19.240Z"
   },
   {
    "duration": 251,
    "start_time": "2022-06-15T20:12:14.008Z"
   },
   {
    "duration": 252,
    "start_time": "2022-06-15T20:12:47.302Z"
   },
   {
    "duration": 272,
    "start_time": "2022-06-15T20:13:33.542Z"
   },
   {
    "duration": 267,
    "start_time": "2022-06-15T20:15:49.851Z"
   },
   {
    "duration": 270,
    "start_time": "2022-06-15T20:16:11.755Z"
   },
   {
    "duration": 256,
    "start_time": "2022-06-15T20:16:17.778Z"
   },
   {
    "duration": 600,
    "start_time": "2022-06-15T20:16:27.546Z"
   },
   {
    "duration": 277,
    "start_time": "2022-06-15T20:17:46.038Z"
   },
   {
    "duration": 335,
    "start_time": "2022-06-15T20:18:02.962Z"
   },
   {
    "duration": 531,
    "start_time": "2022-06-15T20:18:21.776Z"
   },
   {
    "duration": 268,
    "start_time": "2022-06-15T20:20:36.838Z"
   },
   {
    "duration": 283,
    "start_time": "2022-06-15T20:21:04.328Z"
   },
   {
    "duration": 266,
    "start_time": "2022-06-15T20:21:35.670Z"
   },
   {
    "duration": 294,
    "start_time": "2022-06-15T20:22:28.648Z"
   },
   {
    "duration": 298,
    "start_time": "2022-06-15T20:22:44.238Z"
   },
   {
    "duration": 275,
    "start_time": "2022-06-15T20:23:12.678Z"
   },
   {
    "duration": 284,
    "start_time": "2022-06-15T20:23:34.525Z"
   },
   {
    "duration": 269,
    "start_time": "2022-06-15T20:24:36.420Z"
   },
   {
    "duration": 287,
    "start_time": "2022-06-15T20:24:51.890Z"
   },
   {
    "duration": 279,
    "start_time": "2022-06-15T20:25:36.449Z"
   },
   {
    "duration": 254,
    "start_time": "2022-06-15T20:26:06.146Z"
   },
   {
    "duration": 282,
    "start_time": "2022-06-15T20:26:19.754Z"
   },
   {
    "duration": 36,
    "start_time": "2022-06-15T20:27:00.588Z"
   },
   {
    "duration": 278,
    "start_time": "2022-06-15T20:27:05.280Z"
   },
   {
    "duration": 292,
    "start_time": "2022-06-15T20:27:47.461Z"
   },
   {
    "duration": 264,
    "start_time": "2022-06-15T20:28:32.103Z"
   },
   {
    "duration": 256,
    "start_time": "2022-06-15T20:28:36.026Z"
   },
   {
    "duration": 258,
    "start_time": "2022-06-15T20:28:40.097Z"
   },
   {
    "duration": 270,
    "start_time": "2022-06-15T20:28:46.983Z"
   },
   {
    "duration": 277,
    "start_time": "2022-06-15T20:29:13.448Z"
   },
   {
    "duration": 292,
    "start_time": "2022-06-15T20:29:22.040Z"
   },
   {
    "duration": 346,
    "start_time": "2022-06-15T20:30:02.367Z"
   },
   {
    "duration": 285,
    "start_time": "2022-06-15T20:30:07.393Z"
   },
   {
    "duration": 268,
    "start_time": "2022-06-15T20:30:33.434Z"
   },
   {
    "duration": 241,
    "start_time": "2022-06-15T20:31:55.343Z"
   },
   {
    "duration": 272,
    "start_time": "2022-06-15T20:32:29.584Z"
   },
   {
    "duration": 229,
    "start_time": "2022-06-15T20:33:19.625Z"
   },
   {
    "duration": 280,
    "start_time": "2022-06-15T20:35:11.068Z"
   },
   {
    "duration": 274,
    "start_time": "2022-06-15T20:35:55.781Z"
   },
   {
    "duration": 284,
    "start_time": "2022-06-15T20:36:16.429Z"
   },
   {
    "duration": 301,
    "start_time": "2022-06-15T20:36:21.459Z"
   },
   {
    "duration": 295,
    "start_time": "2022-06-15T20:36:45.740Z"
   },
   {
    "duration": 250,
    "start_time": "2022-06-15T20:37:38.090Z"
   },
   {
    "duration": 245,
    "start_time": "2022-06-15T20:39:19.563Z"
   },
   {
    "duration": 250,
    "start_time": "2022-06-15T20:39:42.768Z"
   },
   {
    "duration": 282,
    "start_time": "2022-06-15T20:39:55.506Z"
   },
   {
    "duration": 234,
    "start_time": "2022-06-15T20:40:25.042Z"
   },
   {
    "duration": 274,
    "start_time": "2022-06-15T20:40:33.215Z"
   },
   {
    "duration": 289,
    "start_time": "2022-06-15T20:44:39.342Z"
   },
   {
    "duration": 325,
    "start_time": "2022-06-15T20:45:01.821Z"
   },
   {
    "duration": 263,
    "start_time": "2022-06-15T20:45:43.304Z"
   },
   {
    "duration": 244,
    "start_time": "2022-06-15T20:48:39.830Z"
   },
   {
    "duration": 234,
    "start_time": "2022-06-15T20:48:49.177Z"
   },
   {
    "duration": 282,
    "start_time": "2022-06-15T20:49:20.231Z"
   },
   {
    "duration": 309,
    "start_time": "2022-06-15T20:50:31.151Z"
   },
   {
    "duration": 257,
    "start_time": "2022-06-15T20:51:06.251Z"
   },
   {
    "duration": 281,
    "start_time": "2022-06-15T20:54:21.947Z"
   },
   {
    "duration": 277,
    "start_time": "2022-06-15T20:54:36.313Z"
   },
   {
    "duration": 299,
    "start_time": "2022-06-15T20:57:16.077Z"
   },
   {
    "duration": 227,
    "start_time": "2022-06-15T20:57:41.858Z"
   },
   {
    "duration": 279,
    "start_time": "2022-06-15T20:58:04.863Z"
   },
   {
    "duration": 241,
    "start_time": "2022-06-15T20:58:08.010Z"
   },
   {
    "duration": 229,
    "start_time": "2022-06-15T20:58:40.039Z"
   },
   {
    "duration": 265,
    "start_time": "2022-06-15T20:58:50.055Z"
   },
   {
    "duration": 284,
    "start_time": "2022-06-15T20:59:01.218Z"
   },
   {
    "duration": 255,
    "start_time": "2022-06-15T20:59:06.263Z"
   },
   {
    "duration": 225,
    "start_time": "2022-06-15T20:59:16.086Z"
   },
   {
    "duration": 272,
    "start_time": "2022-06-15T21:18:07.999Z"
   },
   {
    "duration": 241,
    "start_time": "2022-06-15T21:18:13.280Z"
   },
   {
    "duration": 273,
    "start_time": "2022-06-15T21:19:42.992Z"
   },
   {
    "duration": 266,
    "start_time": "2022-06-15T21:20:00.359Z"
   },
   {
    "duration": 258,
    "start_time": "2022-06-15T21:20:05.477Z"
   },
   {
    "duration": 251,
    "start_time": "2022-06-15T21:20:42.294Z"
   },
   {
    "duration": 277,
    "start_time": "2022-06-15T21:21:09.166Z"
   },
   {
    "duration": 230,
    "start_time": "2022-06-15T21:21:10.704Z"
   },
   {
    "duration": 228,
    "start_time": "2022-06-15T21:21:53.832Z"
   },
   {
    "duration": 249,
    "start_time": "2022-06-15T21:21:57.869Z"
   },
   {
    "duration": 254,
    "start_time": "2022-06-15T21:23:01.308Z"
   },
   {
    "duration": 276,
    "start_time": "2022-06-15T21:23:11.115Z"
   },
   {
    "duration": 238,
    "start_time": "2022-06-15T21:23:13.789Z"
   },
   {
    "duration": 227,
    "start_time": "2022-06-15T21:23:20.027Z"
   },
   {
    "duration": 279,
    "start_time": "2022-06-15T21:24:23.260Z"
   },
   {
    "duration": 554,
    "start_time": "2022-06-15T21:27:29.417Z"
   },
   {
    "duration": 303,
    "start_time": "2022-06-15T21:27:39.518Z"
   },
   {
    "duration": 571,
    "start_time": "2022-06-15T21:27:43.715Z"
   },
   {
    "duration": 561,
    "start_time": "2022-06-15T21:27:49.794Z"
   },
   {
    "duration": 579,
    "start_time": "2022-06-15T21:27:55.905Z"
   },
   {
    "duration": 607,
    "start_time": "2022-06-15T21:28:04.346Z"
   },
   {
    "duration": 246,
    "start_time": "2022-06-15T21:31:15.585Z"
   },
   {
    "duration": 257,
    "start_time": "2022-06-15T21:31:29.702Z"
   },
   {
    "duration": 255,
    "start_time": "2022-06-15T21:31:33.365Z"
   },
   {
    "duration": 296,
    "start_time": "2022-06-15T21:32:20.460Z"
   },
   {
    "duration": 259,
    "start_time": "2022-06-15T21:32:29.557Z"
   },
   {
    "duration": 277,
    "start_time": "2022-06-15T21:32:40.341Z"
   },
   {
    "duration": 228,
    "start_time": "2022-06-15T21:32:45.270Z"
   },
   {
    "duration": 253,
    "start_time": "2022-06-15T21:32:52.028Z"
   },
   {
    "duration": 514,
    "start_time": "2022-06-15T21:37:09.040Z"
   },
   {
    "duration": 268,
    "start_time": "2022-06-15T21:37:09.557Z"
   },
   {
    "duration": 256,
    "start_time": "2022-06-15T21:37:09.827Z"
   },
   {
    "duration": 214,
    "start_time": "2022-06-15T21:37:10.086Z"
   },
   {
    "duration": 236,
    "start_time": "2022-06-15T21:37:10.301Z"
   },
   {
    "duration": 244,
    "start_time": "2022-06-15T21:37:10.539Z"
   },
   {
    "duration": 354,
    "start_time": "2022-06-15T21:43:29.593Z"
   },
   {
    "duration": 269,
    "start_time": "2022-06-15T21:43:43.004Z"
   },
   {
    "duration": 467,
    "start_time": "2022-06-15T21:43:58.879Z"
   },
   {
    "duration": 269,
    "start_time": "2022-06-15T21:43:59.348Z"
   },
   {
    "duration": 265,
    "start_time": "2022-06-15T21:43:59.618Z"
   },
   {
    "duration": 238,
    "start_time": "2022-06-15T21:43:59.885Z"
   },
   {
    "duration": 246,
    "start_time": "2022-06-15T21:44:00.125Z"
   },
   {
    "duration": 251,
    "start_time": "2022-06-15T21:44:00.373Z"
   },
   {
    "duration": 231,
    "start_time": "2022-06-15T21:47:42.977Z"
   },
   {
    "duration": 231,
    "start_time": "2022-06-15T21:47:47.055Z"
   },
   {
    "duration": 268,
    "start_time": "2022-06-15T21:49:00.560Z"
   },
   {
    "duration": 240,
    "start_time": "2022-06-15T21:49:04.550Z"
   },
   {
    "duration": 562,
    "start_time": "2022-06-15T21:51:26.340Z"
   },
   {
    "duration": 291,
    "start_time": "2022-06-15T21:51:26.904Z"
   },
   {
    "duration": 273,
    "start_time": "2022-06-15T21:51:27.197Z"
   },
   {
    "duration": 218,
    "start_time": "2022-06-15T21:51:27.472Z"
   },
   {
    "duration": 220,
    "start_time": "2022-06-15T21:51:27.691Z"
   },
   {
    "duration": 245,
    "start_time": "2022-06-15T21:51:27.913Z"
   },
   {
    "duration": 363,
    "start_time": "2022-06-15T21:56:03.085Z"
   },
   {
    "duration": 286,
    "start_time": "2022-06-15T21:56:19.090Z"
   },
   {
    "duration": 279,
    "start_time": "2022-06-15T21:56:46.656Z"
   },
   {
    "duration": 488,
    "start_time": "2022-06-15T21:58:45.352Z"
   },
   {
    "duration": 312,
    "start_time": "2022-06-15T21:58:45.841Z"
   },
   {
    "duration": 254,
    "start_time": "2022-06-15T21:58:46.154Z"
   },
   {
    "duration": 245,
    "start_time": "2022-06-15T21:58:46.410Z"
   },
   {
    "duration": 280,
    "start_time": "2022-06-15T21:58:46.657Z"
   },
   {
    "duration": 293,
    "start_time": "2022-06-15T21:58:46.938Z"
   },
   {
    "duration": 232,
    "start_time": "2022-06-15T21:58:47.232Z"
   },
   {
    "duration": 261,
    "start_time": "2022-06-15T21:58:47.465Z"
   },
   {
    "duration": 234,
    "start_time": "2022-06-15T21:58:47.728Z"
   },
   {
    "duration": 246,
    "start_time": "2022-06-15T21:58:47.964Z"
   },
   {
    "duration": 249,
    "start_time": "2022-06-15T21:58:48.212Z"
   },
   {
    "duration": 522,
    "start_time": "2022-06-15T22:00:51.064Z"
   },
   {
    "duration": 334,
    "start_time": "2022-06-15T22:00:51.588Z"
   },
   {
    "duration": 251,
    "start_time": "2022-06-15T22:00:51.923Z"
   },
   {
    "duration": 257,
    "start_time": "2022-06-15T22:00:52.177Z"
   },
   {
    "duration": 286,
    "start_time": "2022-06-15T22:00:52.436Z"
   },
   {
    "duration": 292,
    "start_time": "2022-06-15T22:00:52.724Z"
   },
   {
    "duration": 261,
    "start_time": "2022-06-15T22:00:53.018Z"
   },
   {
    "duration": 281,
    "start_time": "2022-06-15T22:00:53.281Z"
   },
   {
    "duration": 233,
    "start_time": "2022-06-15T22:00:53.564Z"
   },
   {
    "duration": 244,
    "start_time": "2022-06-15T22:00:53.800Z"
   },
   {
    "duration": 255,
    "start_time": "2022-06-15T22:00:54.046Z"
   },
   {
    "duration": 482,
    "start_time": "2022-06-16T07:21:36.368Z"
   },
   {
    "duration": 197,
    "start_time": "2022-06-16T07:21:36.852Z"
   },
   {
    "duration": 117,
    "start_time": "2022-06-16T07:21:37.050Z"
   },
   {
    "duration": 95,
    "start_time": "2022-06-16T07:21:37.169Z"
   },
   {
    "duration": 115,
    "start_time": "2022-06-16T07:21:37.266Z"
   },
   {
    "duration": 89,
    "start_time": "2022-06-16T07:21:37.383Z"
   },
   {
    "duration": 79,
    "start_time": "2022-06-16T07:21:37.473Z"
   },
   {
    "duration": 113,
    "start_time": "2022-06-16T07:21:37.554Z"
   },
   {
    "duration": 95,
    "start_time": "2022-06-16T07:21:37.669Z"
   },
   {
    "duration": 92,
    "start_time": "2022-06-16T07:21:37.766Z"
   },
   {
    "duration": 108,
    "start_time": "2022-06-16T07:21:37.859Z"
   },
   {
    "duration": 12,
    "start_time": "2022-06-16T07:52:56.160Z"
   },
   {
    "duration": 15,
    "start_time": "2022-06-16T07:53:45.690Z"
   },
   {
    "duration": 14,
    "start_time": "2022-06-16T07:53:55.855Z"
   },
   {
    "duration": 21,
    "start_time": "2022-06-16T07:54:02.379Z"
   },
   {
    "duration": 56,
    "start_time": "2022-06-16T08:24:20.849Z"
   },
   {
    "duration": 543,
    "start_time": "2022-06-16T08:24:24.481Z"
   },
   {
    "duration": 333,
    "start_time": "2022-06-16T08:24:25.026Z"
   },
   {
    "duration": 88,
    "start_time": "2022-06-16T08:24:25.361Z"
   },
   {
    "duration": 76,
    "start_time": "2022-06-16T08:24:25.451Z"
   },
   {
    "duration": 100,
    "start_time": "2022-06-16T08:24:25.529Z"
   },
   {
    "duration": 98,
    "start_time": "2022-06-16T08:24:25.631Z"
   },
   {
    "duration": 73,
    "start_time": "2022-06-16T08:24:25.730Z"
   },
   {
    "duration": 115,
    "start_time": "2022-06-16T08:24:29.537Z"
   },
   {
    "duration": 106,
    "start_time": "2022-06-16T08:24:44.807Z"
   },
   {
    "duration": 11,
    "start_time": "2022-06-16T08:26:00.765Z"
   },
   {
    "duration": 17,
    "start_time": "2022-06-16T08:26:35.720Z"
   },
   {
    "duration": 295,
    "start_time": "2022-06-16T08:29:13.231Z"
   },
   {
    "duration": 399,
    "start_time": "2022-06-16T08:33:01.408Z"
   },
   {
    "duration": 392,
    "start_time": "2022-06-16T08:34:01.976Z"
   },
   {
    "duration": 106,
    "start_time": "2022-06-16T08:34:40.727Z"
   },
   {
    "duration": 108,
    "start_time": "2022-06-16T08:37:02.939Z"
   },
   {
    "duration": 81,
    "start_time": "2022-06-16T08:39:07.997Z"
   },
   {
    "duration": 86,
    "start_time": "2022-06-16T08:39:23.467Z"
   },
   {
    "duration": 101,
    "start_time": "2022-06-16T08:48:27.728Z"
   },
   {
    "duration": 111,
    "start_time": "2022-06-16T08:49:08.466Z"
   },
   {
    "duration": 105,
    "start_time": "2022-06-16T08:50:13.416Z"
   },
   {
    "duration": 84,
    "start_time": "2022-06-16T08:52:10.097Z"
   },
   {
    "duration": 92,
    "start_time": "2022-06-16T08:52:23.112Z"
   },
   {
    "duration": 81,
    "start_time": "2022-06-16T08:53:53.460Z"
   },
   {
    "duration": 120,
    "start_time": "2022-06-16T08:55:04.893Z"
   },
   {
    "duration": 107,
    "start_time": "2022-06-16T08:55:23.770Z"
   },
   {
    "duration": 139,
    "start_time": "2022-06-16T08:55:27.424Z"
   },
   {
    "duration": 82,
    "start_time": "2022-06-16T08:55:37.109Z"
   },
   {
    "duration": 82,
    "start_time": "2022-06-16T08:56:04.079Z"
   },
   {
    "duration": 83,
    "start_time": "2022-06-16T08:56:35.138Z"
   },
   {
    "duration": 89,
    "start_time": "2022-06-16T08:56:43.757Z"
   },
   {
    "duration": 76,
    "start_time": "2022-06-16T08:56:48.143Z"
   },
   {
    "duration": 91,
    "start_time": "2022-06-16T08:57:08.402Z"
   },
   {
    "duration": 99,
    "start_time": "2022-06-16T08:57:47.228Z"
   },
   {
    "duration": 80,
    "start_time": "2022-06-16T08:57:51.015Z"
   },
   {
    "duration": 81,
    "start_time": "2022-06-16T08:57:55.653Z"
   },
   {
    "duration": 147,
    "start_time": "2022-06-16T09:00:01.814Z"
   },
   {
    "duration": 182,
    "start_time": "2022-06-16T09:00:17.407Z"
   },
   {
    "duration": 79,
    "start_time": "2022-06-16T09:00:54.784Z"
   },
   {
    "duration": 81,
    "start_time": "2022-06-16T09:01:10.481Z"
   },
   {
    "duration": 74,
    "start_time": "2022-06-16T09:01:40.709Z"
   },
   {
    "duration": 92,
    "start_time": "2022-06-16T09:01:47.484Z"
   },
   {
    "duration": 73,
    "start_time": "2022-06-16T09:01:58.188Z"
   },
   {
    "duration": 82,
    "start_time": "2022-06-16T09:02:17.630Z"
   },
   {
    "duration": 111,
    "start_time": "2022-06-16T09:02:45.004Z"
   },
   {
    "duration": 78,
    "start_time": "2022-06-16T09:03:08.463Z"
   },
   {
    "duration": 114,
    "start_time": "2022-06-16T09:04:41.832Z"
   },
   {
    "duration": 107,
    "start_time": "2022-06-16T09:05:24.610Z"
   },
   {
    "duration": 255,
    "start_time": "2022-06-16T09:05:29.613Z"
   },
   {
    "duration": 86,
    "start_time": "2022-06-16T09:05:54.708Z"
   },
   {
    "duration": 85,
    "start_time": "2022-06-16T09:06:04.810Z"
   },
   {
    "duration": 93,
    "start_time": "2022-06-16T09:06:26.766Z"
   },
   {
    "duration": 76,
    "start_time": "2022-06-16T09:07:07.197Z"
   },
   {
    "duration": 110,
    "start_time": "2022-06-16T09:09:17.520Z"
   },
   {
    "duration": 88,
    "start_time": "2022-06-16T09:09:54.125Z"
   },
   {
    "duration": 534,
    "start_time": "2022-06-16T10:30:48.800Z"
   },
   {
    "duration": 238,
    "start_time": "2022-06-16T10:30:49.336Z"
   },
   {
    "duration": 21,
    "start_time": "2022-06-16T10:30:49.576Z"
   },
   {
    "duration": 22,
    "start_time": "2022-06-16T10:30:49.601Z"
   },
   {
    "duration": 53,
    "start_time": "2022-06-16T10:30:49.625Z"
   },
   {
    "duration": 30,
    "start_time": "2022-06-16T10:30:49.680Z"
   },
   {
    "duration": 11,
    "start_time": "2022-06-16T10:30:49.711Z"
   },
   {
    "duration": 51,
    "start_time": "2022-06-16T10:30:49.724Z"
   },
   {
    "duration": 17,
    "start_time": "2022-06-16T10:30:49.777Z"
   },
   {
    "duration": 19,
    "start_time": "2022-06-16T10:30:49.798Z"
   },
   {
    "duration": 30,
    "start_time": "2022-06-16T10:30:49.818Z"
   },
   {
    "duration": 64,
    "start_time": "2022-06-16T10:30:49.850Z"
   },
   {
    "duration": 16,
    "start_time": "2022-06-16T10:30:49.916Z"
   },
   {
    "duration": 20,
    "start_time": "2022-06-16T10:33:23.253Z"
   },
   {
    "duration": 32,
    "start_time": "2022-06-16T10:35:46.945Z"
   },
   {
    "duration": 77,
    "start_time": "2022-06-16T10:35:47.949Z"
   },
   {
    "duration": 17,
    "start_time": "2022-06-16T10:37:14.483Z"
   },
   {
    "duration": 15,
    "start_time": "2022-06-16T10:37:20.165Z"
   },
   {
    "duration": 22,
    "start_time": "2022-06-16T10:37:29.491Z"
   },
   {
    "duration": 183,
    "start_time": "2022-06-16T10:40:03.012Z"
   },
   {
    "duration": 29,
    "start_time": "2022-06-16T10:40:07.371Z"
   },
   {
    "duration": 32,
    "start_time": "2022-06-16T10:40:13.676Z"
   },
   {
    "duration": 30,
    "start_time": "2022-06-16T10:40:18.502Z"
   },
   {
    "duration": 242,
    "start_time": "2022-06-16T10:41:28.089Z"
   },
   {
    "duration": 75,
    "start_time": "2022-06-16T10:42:15.373Z"
   },
   {
    "duration": 20,
    "start_time": "2022-06-16T10:42:25.391Z"
   },
   {
    "duration": 46,
    "start_time": "2022-06-16T10:44:25.854Z"
   },
   {
    "duration": 50,
    "start_time": "2022-06-16T10:44:38.456Z"
   },
   {
    "duration": 65,
    "start_time": "2022-06-16T10:46:08.911Z"
   },
   {
    "duration": 34,
    "start_time": "2022-06-16T10:46:31.076Z"
   },
   {
    "duration": 63,
    "start_time": "2022-06-16T10:48:52.409Z"
   },
   {
    "duration": 69,
    "start_time": "2022-06-16T10:49:08.762Z"
   },
   {
    "duration": 59,
    "start_time": "2022-06-16T10:49:19.652Z"
   },
   {
    "duration": 39,
    "start_time": "2022-06-16T10:49:29.944Z"
   },
   {
    "duration": 34,
    "start_time": "2022-06-16T10:50:47.011Z"
   },
   {
    "duration": 15,
    "start_time": "2022-06-16T10:56:28.499Z"
   },
   {
    "duration": 51,
    "start_time": "2022-06-16T10:56:55.004Z"
   },
   {
    "duration": 23,
    "start_time": "2022-06-16T10:57:01.943Z"
   },
   {
    "duration": 57,
    "start_time": "2022-06-16T11:02:49.893Z"
   },
   {
    "duration": 50,
    "start_time": "2022-06-16T11:02:53.080Z"
   },
   {
    "duration": 58,
    "start_time": "2022-06-16T11:03:07.950Z"
   },
   {
    "duration": 32,
    "start_time": "2022-06-16T11:03:21.987Z"
   },
   {
    "duration": 22,
    "start_time": "2022-06-16T11:04:00.871Z"
   },
   {
    "duration": 80,
    "start_time": "2022-06-16T11:05:49.093Z"
   },
   {
    "duration": 14,
    "start_time": "2022-06-16T11:06:43.400Z"
   },
   {
    "duration": 14,
    "start_time": "2022-06-16T11:08:56.562Z"
   },
   {
    "duration": 14,
    "start_time": "2022-06-16T11:09:09.247Z"
   },
   {
    "duration": 66,
    "start_time": "2022-06-16T11:12:09.373Z"
   },
   {
    "duration": 25,
    "start_time": "2022-06-16T11:12:18.142Z"
   },
   {
    "duration": 16,
    "start_time": "2022-06-16T11:13:18.815Z"
   },
   {
    "duration": 17,
    "start_time": "2022-06-16T11:13:29.489Z"
   },
   {
    "duration": 18,
    "start_time": "2022-06-16T11:13:56.184Z"
   },
   {
    "duration": 1843,
    "start_time": "2022-06-16T11:14:04.453Z"
   },
   {
    "duration": 18,
    "start_time": "2022-06-16T11:14:10.950Z"
   },
   {
    "duration": 16,
    "start_time": "2022-06-16T11:14:16.696Z"
   },
   {
    "duration": 18,
    "start_time": "2022-06-16T11:14:34.085Z"
   },
   {
    "duration": 18,
    "start_time": "2022-06-16T11:14:51.970Z"
   },
   {
    "duration": 17,
    "start_time": "2022-06-16T11:14:53.461Z"
   },
   {
    "duration": 23,
    "start_time": "2022-06-16T11:15:19.180Z"
   },
   {
    "duration": 17,
    "start_time": "2022-06-16T11:16:31.262Z"
   },
   {
    "duration": 16,
    "start_time": "2022-06-16T11:18:09.698Z"
   },
   {
    "duration": 108,
    "start_time": "2022-06-16T11:21:35.749Z"
   },
   {
    "duration": 13,
    "start_time": "2022-06-16T11:22:04.459Z"
   },
   {
    "duration": 15,
    "start_time": "2022-06-16T11:22:10.897Z"
   },
   {
    "duration": 58,
    "start_time": "2022-06-16T11:22:42.857Z"
   },
   {
    "duration": 14,
    "start_time": "2022-06-16T11:23:00.690Z"
   },
   {
    "duration": 61,
    "start_time": "2022-06-16T11:23:19.579Z"
   },
   {
    "duration": 18,
    "start_time": "2022-06-16T11:23:47.379Z"
   },
   {
    "duration": 23,
    "start_time": "2022-06-16T11:24:11.880Z"
   },
   {
    "duration": 67,
    "start_time": "2022-06-16T11:25:22.905Z"
   },
   {
    "duration": 58,
    "start_time": "2022-06-16T11:25:52.922Z"
   },
   {
    "duration": 15,
    "start_time": "2022-06-16T11:26:13.546Z"
   },
   {
    "duration": 15,
    "start_time": "2022-06-16T11:28:02.294Z"
   },
   {
    "duration": 14,
    "start_time": "2022-06-16T11:28:19.985Z"
   },
   {
    "duration": 14,
    "start_time": "2022-06-16T11:28:51.665Z"
   },
   {
    "duration": 15,
    "start_time": "2022-06-16T11:29:01.171Z"
   },
   {
    "duration": 16,
    "start_time": "2022-06-16T11:29:20.496Z"
   },
   {
    "duration": 16,
    "start_time": "2022-06-16T11:29:58.060Z"
   },
   {
    "duration": 552,
    "start_time": "2022-06-16T11:32:30.292Z"
   },
   {
    "duration": 161,
    "start_time": "2022-06-16T11:32:30.847Z"
   },
   {
    "duration": 34,
    "start_time": "2022-06-16T11:32:31.011Z"
   },
   {
    "duration": 51,
    "start_time": "2022-06-16T11:32:31.048Z"
   },
   {
    "duration": 56,
    "start_time": "2022-06-16T11:32:31.104Z"
   },
   {
    "duration": 45,
    "start_time": "2022-06-16T11:32:31.163Z"
   },
   {
    "duration": 13,
    "start_time": "2022-06-16T11:32:31.210Z"
   },
   {
    "duration": 41,
    "start_time": "2022-06-16T11:32:31.225Z"
   },
   {
    "duration": 22,
    "start_time": "2022-06-16T11:32:31.269Z"
   },
   {
    "duration": 21,
    "start_time": "2022-06-16T11:32:31.293Z"
   },
   {
    "duration": 18,
    "start_time": "2022-06-16T11:32:31.317Z"
   },
   {
    "duration": 28,
    "start_time": "2022-06-16T11:32:31.338Z"
   },
   {
    "duration": 15,
    "start_time": "2022-06-16T11:32:48.106Z"
   },
   {
    "duration": 12,
    "start_time": "2022-06-16T11:32:49.665Z"
   },
   {
    "duration": 30,
    "start_time": "2022-06-16T11:34:08.108Z"
   },
   {
    "duration": 26,
    "start_time": "2022-06-16T11:34:22.453Z"
   },
   {
    "duration": 30,
    "start_time": "2022-06-16T11:35:21.763Z"
   },
   {
    "duration": 28,
    "start_time": "2022-06-16T11:35:46.164Z"
   },
   {
    "duration": 26,
    "start_time": "2022-06-16T11:36:05.608Z"
   },
   {
    "duration": 561,
    "start_time": "2022-06-16T11:36:26.163Z"
   },
   {
    "duration": 145,
    "start_time": "2022-06-16T11:36:26.726Z"
   },
   {
    "duration": 22,
    "start_time": "2022-06-16T11:36:26.873Z"
   },
   {
    "duration": 25,
    "start_time": "2022-06-16T11:36:26.899Z"
   },
   {
    "duration": 49,
    "start_time": "2022-06-16T11:36:26.925Z"
   },
   {
    "duration": 29,
    "start_time": "2022-06-16T11:36:26.976Z"
   },
   {
    "duration": 11,
    "start_time": "2022-06-16T11:36:27.007Z"
   },
   {
    "duration": 29,
    "start_time": "2022-06-16T11:36:27.020Z"
   },
   {
    "duration": 19,
    "start_time": "2022-06-16T11:36:27.051Z"
   },
   {
    "duration": 17,
    "start_time": "2022-06-16T11:36:27.072Z"
   },
   {
    "duration": 13,
    "start_time": "2022-06-16T11:36:27.091Z"
   },
   {
    "duration": 19,
    "start_time": "2022-06-16T11:36:27.106Z"
   },
   {
    "duration": 15,
    "start_time": "2022-06-16T11:37:03.105Z"
   },
   {
    "duration": 564,
    "start_time": "2022-06-16T11:37:11.056Z"
   },
   {
    "duration": 115,
    "start_time": "2022-06-16T11:37:11.622Z"
   },
   {
    "duration": 20,
    "start_time": "2022-06-16T11:37:11.739Z"
   },
   {
    "duration": 19,
    "start_time": "2022-06-16T11:37:11.761Z"
   },
   {
    "duration": 42,
    "start_time": "2022-06-16T11:37:11.782Z"
   },
   {
    "duration": 53,
    "start_time": "2022-06-16T11:37:11.826Z"
   },
   {
    "duration": 15,
    "start_time": "2022-06-16T11:37:11.881Z"
   },
   {
    "duration": 38,
    "start_time": "2022-06-16T11:37:11.898Z"
   },
   {
    "duration": 25,
    "start_time": "2022-06-16T11:37:11.938Z"
   },
   {
    "duration": 25,
    "start_time": "2022-06-16T11:37:11.965Z"
   },
   {
    "duration": 29,
    "start_time": "2022-06-16T11:37:11.993Z"
   },
   {
    "duration": 46,
    "start_time": "2022-06-16T11:37:12.024Z"
   },
   {
    "duration": 515,
    "start_time": "2022-06-17T04:47:12.693Z"
   },
   {
    "duration": 372,
    "start_time": "2022-06-17T04:47:13.210Z"
   },
   {
    "duration": 90,
    "start_time": "2022-06-17T04:47:13.587Z"
   },
   {
    "duration": 80,
    "start_time": "2022-06-17T04:47:13.679Z"
   },
   {
    "duration": 124,
    "start_time": "2022-06-17T04:47:13.762Z"
   },
   {
    "duration": 94,
    "start_time": "2022-06-17T04:47:13.888Z"
   },
   {
    "duration": 74,
    "start_time": "2022-06-17T04:47:13.985Z"
   },
   {
    "duration": 96,
    "start_time": "2022-06-17T04:47:14.061Z"
   },
   {
    "duration": 77,
    "start_time": "2022-06-17T04:47:14.160Z"
   },
   {
    "duration": 81,
    "start_time": "2022-06-17T04:47:14.240Z"
   },
   {
    "duration": 76,
    "start_time": "2022-06-17T04:47:14.323Z"
   },
   {
    "duration": 75,
    "start_time": "2022-06-17T04:47:14.401Z"
   },
   {
    "duration": 564,
    "start_time": "2022-06-21T22:19:55.455Z"
   },
   {
    "duration": 7251,
    "start_time": "2022-06-21T22:19:56.021Z"
   },
   {
    "duration": 101,
    "start_time": "2022-06-21T22:20:03.274Z"
   },
   {
    "duration": 103,
    "start_time": "2022-06-21T22:20:03.379Z"
   },
   {
    "duration": 144,
    "start_time": "2022-06-21T22:20:03.484Z"
   },
   {
    "duration": 118,
    "start_time": "2022-06-21T22:20:03.630Z"
   },
   {
    "duration": 89,
    "start_time": "2022-06-21T22:20:03.751Z"
   },
   {
    "duration": 103,
    "start_time": "2022-06-21T22:20:03.841Z"
   },
   {
    "duration": 96,
    "start_time": "2022-06-21T22:20:03.947Z"
   },
   {
    "duration": 90,
    "start_time": "2022-06-21T22:20:04.045Z"
   },
   {
    "duration": 93,
    "start_time": "2022-06-21T22:20:04.137Z"
   },
   {
    "duration": 93,
    "start_time": "2022-06-21T22:20:04.233Z"
   }
  ],
  "kernelspec": {
   "display_name": "Python 3 (ipykernel)",
   "language": "python",
   "name": "python3"
  },
  "language_info": {
   "codemirror_mode": {
    "name": "ipython",
    "version": 3
   },
   "file_extension": ".py",
   "mimetype": "text/x-python",
   "name": "python",
   "nbconvert_exporter": "python",
   "pygments_lexer": "ipython3",
   "version": "3.9.5"
  },
  "toc": {
   "base_numbering": 1,
   "nav_menu": {},
   "number_sections": true,
   "sideBar": true,
   "skip_h1_title": true,
   "title_cell": "Table of Contents",
   "title_sidebar": "Contents",
   "toc_cell": false,
   "toc_position": {},
   "toc_section_display": true,
   "toc_window_display": false
  }
 },
 "nbformat": 4,
 "nbformat_minor": 2
}
