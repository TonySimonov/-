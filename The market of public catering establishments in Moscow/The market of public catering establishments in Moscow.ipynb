{
 "cells": [
  {
   "cell_type": "markdown",
   "metadata": {},
   "source": [
    "# Рынок заведений общественного питания Москвы"
   ]
  },
  {
   "cell_type": "markdown",
   "metadata": {},
   "source": [
    "# Содержание\n",
    "\n",
    "Часть 1. Описание проекта.<br>\n",
    "\n",
    "* 1. Описание исследования\n",
    "* 2. Цель исследования\n",
    "* 3. Изучение данных\n",
    "\n",
    "Часть 2. Подготовка данных.<br>\n",
    "\n",
    "* 1. Обработка дубликатов\n",
    "\n",
    "Часть 3. Анализ данных.<br>\n",
    "\n",
    "* 1. Исследование соотношения количества заведений различных типов\n",
    "* 2. Исследование соотношения количества сетевых и не сетевых заведений\n",
    "* 3. Исследование типов заведений, для которых характерно сетевое распространение\n",
    "* 4. Исследование сетевых заведений по количеству мест и количеству заведений\n",
    "* 5. Исследование среднего количества мест в заведении каждого типа\n",
    "* 6. Исследование улиц с наибольшим количеством заведений\n",
    "* 7. Исследование улиц с одним заведением\n",
    "* 8. Исследование распределения количества мест для улиц с большим количеством заведений\n",
    "\n",
    "Часть 4. Подведение итогов.<br>\n",
    "\n",
    "* 1. Общий вывод по работе"
   ]
  },
  {
   "cell_type": "markdown",
   "metadata": {},
   "source": [
    "# Часть 1. Описание проекта\n",
    "# 1.1 Описание исследования\n",
    "Проект по открытию небольшого оригинального кафе в Москве, в котором в качестве персонала выступают роботы. Проект многообещающий, но дорогой. \n",
    "# 1.2 Цель исследования\n",
    "Анализ рынка заведений общественного питания Москвы и выдача рекомендаций по открытию кафе.\n",
    "# 1.3 Изучение данных"
   ]
  },
  {
   "cell_type": "code",
   "execution_count": 1,
   "metadata": {},
   "outputs": [],
   "source": [
    "# Подключение библиотек\n",
    "import pandas as pd\n",
    "import matplotlib.pyplot as plt\n",
    "import seaborn as sns\n",
    "import scipy.stats as stats\n",
    "import numpy as np\n",
    "pd.set_option('display.float_format', '{:.4f}'.format)\n",
    "pd.set_option('display.max_colwidth', None)\n",
    "\n",
    "# Отключение ошибок при построении графиков\n",
    "np.warnings.filterwarnings('ignore', category=np.VisibleDeprecationWarning)"
   ]
  },
  {
   "cell_type": "code",
   "execution_count": 2,
   "metadata": {},
   "outputs": [],
   "source": [
    "# Чтение файла с данными\n",
    "rest_data = pd.read_csv('/datasets/rest_data.csv')"
   ]
  },
  {
   "cell_type": "code",
   "execution_count": 3,
   "metadata": {
    "scrolled": false
   },
   "outputs": [
    {
     "name": "stdout",
     "output_type": "stream",
     "text": [
      "Общая информация\n",
      "<class 'pandas.core.frame.DataFrame'>\n",
      "RangeIndex: 15366 entries, 0 to 15365\n",
      "Data columns (total 6 columns):\n",
      " #   Column       Non-Null Count  Dtype \n",
      "---  ------       --------------  ----- \n",
      " 0   id           15366 non-null  int64 \n",
      " 1   object_name  15366 non-null  object\n",
      " 2   chain        15366 non-null  object\n",
      " 3   object_type  15366 non-null  object\n",
      " 4   address      15366 non-null  object\n",
      " 5   number       15366 non-null  int64 \n",
      "dtypes: int64(2), object(4)\n",
      "memory usage: 720.4+ KB\n"
     ]
    },
    {
     "data": {
      "text/plain": [
       "'Первые значения'"
      ]
     },
     "metadata": {},
     "output_type": "display_data"
    },
    {
     "data": {
      "text/html": [
       "<div>\n",
       "<style scoped>\n",
       "    .dataframe tbody tr th:only-of-type {\n",
       "        vertical-align: middle;\n",
       "    }\n",
       "\n",
       "    .dataframe tbody tr th {\n",
       "        vertical-align: top;\n",
       "    }\n",
       "\n",
       "    .dataframe thead th {\n",
       "        text-align: right;\n",
       "    }\n",
       "</style>\n",
       "<table border=\"1\" class=\"dataframe\">\n",
       "  <thead>\n",
       "    <tr style=\"text-align: right;\">\n",
       "      <th></th>\n",
       "      <th>id</th>\n",
       "      <th>object_name</th>\n",
       "      <th>chain</th>\n",
       "      <th>object_type</th>\n",
       "      <th>address</th>\n",
       "      <th>number</th>\n",
       "    </tr>\n",
       "  </thead>\n",
       "  <tbody>\n",
       "    <tr>\n",
       "      <th>0</th>\n",
       "      <td>151635</td>\n",
       "      <td>СМЕТАНА</td>\n",
       "      <td>нет</td>\n",
       "      <td>кафе</td>\n",
       "      <td>город Москва, улица Егора Абакумова, дом 9</td>\n",
       "      <td>48</td>\n",
       "    </tr>\n",
       "    <tr>\n",
       "      <th>1</th>\n",
       "      <td>77874</td>\n",
       "      <td>Родник</td>\n",
       "      <td>нет</td>\n",
       "      <td>кафе</td>\n",
       "      <td>город Москва, улица Талалихина, дом 2/1, корпус 1</td>\n",
       "      <td>35</td>\n",
       "    </tr>\n",
       "    <tr>\n",
       "      <th>2</th>\n",
       "      <td>24309</td>\n",
       "      <td>Кафе «Академия»</td>\n",
       "      <td>нет</td>\n",
       "      <td>кафе</td>\n",
       "      <td>город Москва, Абельмановская улица, дом 6</td>\n",
       "      <td>95</td>\n",
       "    </tr>\n",
       "    <tr>\n",
       "      <th>3</th>\n",
       "      <td>21894</td>\n",
       "      <td>ПИЦЦЕТОРИЯ</td>\n",
       "      <td>да</td>\n",
       "      <td>кафе</td>\n",
       "      <td>город Москва, Абрамцевская улица, дом 1</td>\n",
       "      <td>40</td>\n",
       "    </tr>\n",
       "    <tr>\n",
       "      <th>4</th>\n",
       "      <td>119365</td>\n",
       "      <td>Кафе «Вишневая метель»</td>\n",
       "      <td>нет</td>\n",
       "      <td>кафе</td>\n",
       "      <td>город Москва, Абрамцевская улица, дом 9, корпус 1</td>\n",
       "      <td>50</td>\n",
       "    </tr>\n",
       "  </tbody>\n",
       "</table>\n",
       "</div>"
      ],
      "text/plain": [
       "       id             object_name chain object_type  \\\n",
       "0  151635                 СМЕТАНА   нет        кафе   \n",
       "1   77874                  Родник   нет        кафе   \n",
       "2   24309         Кафе «Академия»   нет        кафе   \n",
       "3   21894              ПИЦЦЕТОРИЯ    да        кафе   \n",
       "4  119365  Кафе «Вишневая метель»   нет        кафе   \n",
       "\n",
       "                                             address  number  \n",
       "0         город Москва, улица Егора Абакумова, дом 9      48  \n",
       "1  город Москва, улица Талалихина, дом 2/1, корпус 1      35  \n",
       "2          город Москва, Абельмановская улица, дом 6      95  \n",
       "3            город Москва, Абрамцевская улица, дом 1      40  \n",
       "4  город Москва, Абрамцевская улица, дом 9, корпус 1      50  "
      ]
     },
     "metadata": {},
     "output_type": "display_data"
    },
    {
     "data": {
      "text/plain": [
       "'Описание данных'"
      ]
     },
     "metadata": {},
     "output_type": "display_data"
    },
    {
     "data": {
      "text/html": [
       "<div>\n",
       "<style scoped>\n",
       "    .dataframe tbody tr th:only-of-type {\n",
       "        vertical-align: middle;\n",
       "    }\n",
       "\n",
       "    .dataframe tbody tr th {\n",
       "        vertical-align: top;\n",
       "    }\n",
       "\n",
       "    .dataframe thead th {\n",
       "        text-align: right;\n",
       "    }\n",
       "</style>\n",
       "<table border=\"1\" class=\"dataframe\">\n",
       "  <thead>\n",
       "    <tr style=\"text-align: right;\">\n",
       "      <th></th>\n",
       "      <th>id</th>\n",
       "      <th>number</th>\n",
       "    </tr>\n",
       "  </thead>\n",
       "  <tbody>\n",
       "    <tr>\n",
       "      <th>count</th>\n",
       "      <td>15366.0000</td>\n",
       "      <td>15366.0000</td>\n",
       "    </tr>\n",
       "    <tr>\n",
       "      <th>mean</th>\n",
       "      <td>119720.0669</td>\n",
       "      <td>59.5472</td>\n",
       "    </tr>\n",
       "    <tr>\n",
       "      <th>std</th>\n",
       "      <td>73036.1307</td>\n",
       "      <td>74.7368</td>\n",
       "    </tr>\n",
       "    <tr>\n",
       "      <th>min</th>\n",
       "      <td>838.0000</td>\n",
       "      <td>0.0000</td>\n",
       "    </tr>\n",
       "    <tr>\n",
       "      <th>25%</th>\n",
       "      <td>28524.0000</td>\n",
       "      <td>12.0000</td>\n",
       "    </tr>\n",
       "    <tr>\n",
       "      <th>50%</th>\n",
       "      <td>144974.5000</td>\n",
       "      <td>40.0000</td>\n",
       "    </tr>\n",
       "    <tr>\n",
       "      <th>75%</th>\n",
       "      <td>184262.2500</td>\n",
       "      <td>80.0000</td>\n",
       "    </tr>\n",
       "    <tr>\n",
       "      <th>max</th>\n",
       "      <td>223439.0000</td>\n",
       "      <td>1700.0000</td>\n",
       "    </tr>\n",
       "  </tbody>\n",
       "</table>\n",
       "</div>"
      ],
      "text/plain": [
       "               id     number\n",
       "count  15366.0000 15366.0000\n",
       "mean  119720.0669    59.5472\n",
       "std    73036.1307    74.7368\n",
       "min      838.0000     0.0000\n",
       "25%    28524.0000    12.0000\n",
       "50%   144974.5000    40.0000\n",
       "75%   184262.2500    80.0000\n",
       "max   223439.0000  1700.0000"
      ]
     },
     "metadata": {},
     "output_type": "display_data"
    },
    {
     "data": {
      "text/plain": [
       "'Дубликаты'"
      ]
     },
     "metadata": {},
     "output_type": "display_data"
    },
    {
     "data": {
      "text/plain": [
       "0"
      ]
     },
     "metadata": {},
     "output_type": "display_data"
    },
    {
     "data": {
      "text/plain": [
       "'Пропуски'"
      ]
     },
     "metadata": {},
     "output_type": "display_data"
    },
    {
     "data": {
      "text/plain": [
       "id             0.00%\n",
       "object_name    0.00%\n",
       "chain          0.00%\n",
       "object_type    0.00%\n",
       "address        0.00%\n",
       "number         0.00%\n",
       "dtype: object"
      ]
     },
     "metadata": {},
     "output_type": "display_data"
    },
    {
     "name": "stdout",
     "output_type": "stream",
     "text": [
      "**************************************************\n"
     ]
    }
   ],
   "source": [
    "# Функция для вывода основных данных по датасету\n",
    "def all_info(data):\n",
    "    print('Общая информация')\n",
    "    data.info() #вывод общей информации\n",
    "    display('Первые значения', data.head(5)) #вывод первых 10 значений\n",
    "    display('Описание данных', data.describe()) #вывод описательной статистики по датасету\n",
    "    display('Дубликаты', data.duplicated().sum()) #поиск явных дубликатов в данных\n",
    "    display('Пропуски', data.isna().mean().apply('{:.2%}'.format)) #подсчет пропусков в датасете в %\n",
    "    print('*'*50)\n",
    "    \n",
    "# Применение функции к данным\n",
    "all_info(rest_data)"
   ]
  },
  {
   "cell_type": "markdown",
   "metadata": {},
   "source": [
    "**Вывод**\n",
    "\n",
    "На первый взгляд в данных отстутствуют пропуски и явные дубликаты, типы данных в колонках соответствуют содержимому. В колонке `object_name` названия заведений представлены в различных регистрах, в рамках данного исследования можно опустить обработку этой колонки, т.к. мы исследуем рынок в целом, а не отдельные заведения или сети заведений. На предмет дубликатов можно проверить колонку `id`, т.к. она отвечает за уникальность заведения."
   ]
  },
  {
   "cell_type": "markdown",
   "metadata": {
    "scrolled": true
   },
   "source": [
    "# Часть 2. Подготовка данных\n",
    "# 2.1 Обработка дубликатов"
   ]
  },
  {
   "cell_type": "code",
   "execution_count": 4,
   "metadata": {},
   "outputs": [],
   "source": [
    "# Удаление колонки id \n",
    "rest_data.drop('id', axis=1, inplace=True)\n",
    "# Приведение значений колонки object_name к нижнему регистру\n",
    "rest_data['object_name'] = [x.lower() for x in rest_data['object_name']]\n",
    "# Удаление дубликатов\n",
    "rest_data.drop_duplicates(inplace=True)"
   ]
  },
  {
   "cell_type": "code",
   "execution_count": 5,
   "metadata": {},
   "outputs": [],
   "source": [
    "# Очистка наименований от лишних символов \n",
    "rest_data['object_name'] = (rest_data['object_name']\n",
    "                            .str.replace(r'«', '', regex=True)\n",
    "                            .str.replace(r'»', '', regex=True)\n",
    "                            .str.replace(r'кафе', '', regex=True)\n",
    "                            .str.replace(r'закусочная', '', regex=True)\n",
    "                            .str.replace(r'предприятие быстрого обслуживания', '', regex=True)\n",
    "                            .str.replace(r'ресторан', '', regex=True)\n",
    "                            .str.replace(r'кафетерий', '', regex=True)\n",
    "                            .str.replace(r'буфет', '', regex=True)\n",
    "                            .str.replace(r'бар', '', regex=True)\n",
    "                            .str.replace(r'магазин (отдел кулинарии)', '', regex=True))"
   ]
  },
  {
   "cell_type": "markdown",
   "metadata": {},
   "source": [
    "**Вывод**\n",
    "\n",
    "В предоставленных данных отсутствуют дубликаты."
   ]
  },
  {
   "cell_type": "markdown",
   "metadata": {},
   "source": [
    "# Часть 3. Анализ данных\n",
    "# 3.1 Исследование соотношения количества заведений различных видов"
   ]
  },
  {
   "cell_type": "code",
   "execution_count": 6,
   "metadata": {
    "scrolled": false
   },
   "outputs": [
    {
     "data": {
      "text/html": [
       "<div>\n",
       "<style scoped>\n",
       "    .dataframe tbody tr th:only-of-type {\n",
       "        vertical-align: middle;\n",
       "    }\n",
       "\n",
       "    .dataframe tbody tr th {\n",
       "        vertical-align: top;\n",
       "    }\n",
       "\n",
       "    .dataframe thead th {\n",
       "        text-align: right;\n",
       "    }\n",
       "</style>\n",
       "<table border=\"1\" class=\"dataframe\">\n",
       "  <thead>\n",
       "    <tr style=\"text-align: right;\">\n",
       "      <th></th>\n",
       "      <th>object_type</th>\n",
       "      <th>ratio</th>\n",
       "    </tr>\n",
       "  </thead>\n",
       "  <tbody>\n",
       "    <tr>\n",
       "      <th>3</th>\n",
       "      <td>кафе</td>\n",
       "      <td>39.7291</td>\n",
       "    </tr>\n",
       "    <tr>\n",
       "      <th>8</th>\n",
       "      <td>столовая</td>\n",
       "      <td>16.9099</td>\n",
       "    </tr>\n",
       "    <tr>\n",
       "      <th>7</th>\n",
       "      <td>ресторан</td>\n",
       "      <td>14.9336</td>\n",
       "    </tr>\n",
       "    <tr>\n",
       "      <th>6</th>\n",
       "      <td>предприятие быстрого обслуживания</td>\n",
       "      <td>12.4141</td>\n",
       "    </tr>\n",
       "    <tr>\n",
       "      <th>0</th>\n",
       "      <td>бар</td>\n",
       "      <td>5.5952</td>\n",
       "    </tr>\n",
       "    <tr>\n",
       "      <th>1</th>\n",
       "      <td>буфет</td>\n",
       "      <td>3.7694</td>\n",
       "    </tr>\n",
       "    <tr>\n",
       "      <th>4</th>\n",
       "      <td>кафетерий</td>\n",
       "      <td>2.5849</td>\n",
       "    </tr>\n",
       "    <tr>\n",
       "      <th>2</th>\n",
       "      <td>закусочная</td>\n",
       "      <td>2.2773</td>\n",
       "    </tr>\n",
       "    <tr>\n",
       "      <th>5</th>\n",
       "      <td>магазин (отдел кулинарии)</td>\n",
       "      <td>1.7865</td>\n",
       "    </tr>\n",
       "  </tbody>\n",
       "</table>\n",
       "</div>"
      ],
      "text/plain": [
       "                         object_type   ratio\n",
       "3                               кафе 39.7291\n",
       "8                           столовая 16.9099\n",
       "7                           ресторан 14.9336\n",
       "6  предприятие быстрого обслуживания 12.4141\n",
       "0                                бар  5.5952\n",
       "1                              буфет  3.7694\n",
       "4                          кафетерий  2.5849\n",
       "2                         закусочная  2.2773\n",
       "5          магазин (отдел кулинарии)  1.7865"
      ]
     },
     "metadata": {},
     "output_type": "display_data"
    },
    {
     "data": {
      "image/png": "[encoded data removed]",
      "text/plain": [
       "<Figure size 576x360 with 1 Axes>"
      ]
     },
     "metadata": {},
     "output_type": "display_data"
    }
   ],
   "source": [
    "# Создание датафрейма, хранящего наименование заведений и их количество\n",
    "rest_kind = rest_data.groupby('object_type', as_index=False)['object_name'].agg('count')\n",
    "# Переименовывание колонок датафрейма\n",
    "rest_kind.columns = ['object_type', 'ratio']\n",
    "rest_kind['ratio'] = rest_kind['ratio']/rest_kind['ratio'].sum()*100\n",
    "rest_kind.sort_values('ratio',ascending=False, inplace=True)\n",
    "display(rest_kind)\n",
    "\n",
    "# Выбор стиля графика\n",
    "sns.set_style(\"darkgrid\")\n",
    "# Построение графика\n",
    "plt.rcParams['font.size'] = '12'\n",
    "plt.figure(figsize=(8, 5))\n",
    "sns.barplot(x='ratio', y='object_type', data=rest_kind) \n",
    "plt.ylabel('')\n",
    "plt.xlabel('Доля объектов')\n",
    "plt.title(\"Соотношение количества заведений разных видов\")\n",
    "plt.show()"
   ]
  },
  {
   "cell_type": "markdown",
   "metadata": {},
   "source": [
    "Как видно по графику большую долю рынка занимают кафе далее следуют столовые, рестораны и предприятия быстрого обслуживания. Доля остальных заведений менее 6% каждого вида."
   ]
  },
  {
   "cell_type": "markdown",
   "metadata": {},
   "source": [
    "# 3.2 Исследование соотношения количества сетевых и не сетевых заведений"
   ]
  },
  {
   "cell_type": "code",
   "execution_count": 7,
   "metadata": {},
   "outputs": [
    {
     "data": {
      "text/html": [
       "<div>\n",
       "<style scoped>\n",
       "    .dataframe tbody tr th:only-of-type {\n",
       "        vertical-align: middle;\n",
       "    }\n",
       "\n",
       "    .dataframe tbody tr th {\n",
       "        vertical-align: top;\n",
       "    }\n",
       "\n",
       "    .dataframe thead th {\n",
       "        text-align: right;\n",
       "    }\n",
       "</style>\n",
       "<table border=\"1\" class=\"dataframe\">\n",
       "  <thead>\n",
       "    <tr style=\"text-align: right;\">\n",
       "      <th></th>\n",
       "      <th>chain</th>\n",
       "      <th>ratio</th>\n",
       "    </tr>\n",
       "  </thead>\n",
       "  <tbody>\n",
       "    <tr>\n",
       "      <th>1</th>\n",
       "      <td>нет</td>\n",
       "      <td>0.8060</td>\n",
       "    </tr>\n",
       "    <tr>\n",
       "      <th>0</th>\n",
       "      <td>да</td>\n",
       "      <td>0.1940</td>\n",
       "    </tr>\n",
       "  </tbody>\n",
       "</table>\n",
       "</div>"
      ],
      "text/plain": [
       "  chain  ratio\n",
       "1   нет 0.8060\n",
       "0    да 0.1940"
      ]
     },
     "metadata": {},
     "output_type": "display_data"
    },
    {
     "data": {
      "image/png": "[encoded data removed]",
      "text/plain": [
       "<Figure size 576x576 with 1 Axes>"
      ]
     },
     "metadata": {},
     "output_type": "display_data"
    }
   ],
   "source": [
    "# Создание датафрейма, хранящего сетевые и не сетевые заведения и их количество\n",
    "rest_chain = rest_data.groupby('chain', as_index=False)['object_type'].agg('count')\n",
    "# Переименовывание колонок датафрейма\n",
    "rest_chain.columns = ['chain', 'ratio']\n",
    "rest_chain['ratio'] = rest_chain['ratio']/rest_chain['ratio'].sum()\n",
    "rest_chain.sort_values('ratio',ascending=False, inplace=True)\n",
    "display(rest_chain)\n",
    "\n",
    "# Построение графика\n",
    "rest_chain.plot.pie(y='ratio', \n",
    "                  autopct=\"%.2f\", \n",
    "                  figsize=(8,8), \n",
    "                  fontsize=15, \n",
    "                  subplots=True, \n",
    "                  labels=rest_chain['chain'],\n",
    "                  explode=[0.05] * 2,\n",
    "                  legend=False)\n",
    "plt.title(\"Соотношение количества сетевых и несетевых заведений\")\n",
    "plt.ylabel('')\n",
    "plt.show()"
   ]
  },
  {
   "cell_type": "markdown",
   "metadata": {},
   "source": [
    "По графику видно, что большую часть рынка ~80% занимают не сетевые заведения."
   ]
  },
  {
   "cell_type": "markdown",
   "metadata": {},
   "source": [
    "# 3.3 Исследование типов заведений, для которых характерно сетевое распространение"
   ]
  },
  {
   "cell_type": "code",
   "execution_count": 8,
   "metadata": {},
   "outputs": [
    {
     "data": {
      "image/png": "[encoded data removed]",
      "text/plain": [
       "<Figure size 720x360 with 1 Axes>"
      ]
     },
     "metadata": {},
     "output_type": "display_data"
    },
    {
     "data": {
      "image/png": "[encoded data removed]",
      "text/plain": [
       "<Figure size 720x360 with 1 Axes>"
      ]
     },
     "metadata": {},
     "output_type": "display_data"
    }
   ],
   "source": [
    "# Создание датафрейма, хранящего наименование заведений, сети и их количество\n",
    "rest_hue = rest_data.groupby(['object_type','chain'], as_index=False)['object_name'].agg('count')\n",
    "# Переименовывание колонок датафрейма\n",
    "rest_hue.columns = ['object_type', 'chain', 'ratio']\n",
    "rest_hue['ratio'] = rest_hue['ratio']/rest_hue['ratio'].sum()\n",
    "\n",
    "# Построение графика\n",
    "plt.figure(figsize=(10, 5))\n",
    "sns.barplot(y='object_type', x='ratio', data=rest_hue, hue='chain')  \n",
    "plt.ylabel('')\n",
    "plt.xlabel('Доля объектов')\n",
    "plt.title('Отношение количества сетевых и не сетевых заведений к общему числу заведений, разделенных по виду')\n",
    "plt.show()\n",
    "\n",
    "# Выделение сетевых заведений\n",
    "rest_hue_yes = rest_hue[rest_hue['chain']=='да']['ratio'].reset_index(drop=True)\n",
    "# Выделение не сетевых заведений\n",
    "rest_hue_no = rest_hue[rest_hue['chain']=='нет']['ratio'].reset_index(drop=True)\n",
    "# Выделение типов заведений\n",
    "rest_hue_types = rest_hue['object_type'].drop_duplicates().reset_index(drop=True)\n",
    "\n",
    "# Построение графика\n",
    "plt.figure(figsize=(10, 5))\n",
    "sns.barplot(y=rest_hue_types, x=rest_hue_yes/(rest_hue_no+rest_hue_yes)*100)  \n",
    "plt.ylabel('')\n",
    "plt.xlabel('Доля объектов')\n",
    "plt.title(\"Отношение сетевых заведений ко всем заведениям, в зависимости от типа\")\n",
    "plt.show()"
   ]
  },
  {
   "cell_type": "markdown",
   "metadata": {},
   "source": [
    "По графикам видно следующее:\n",
    "1. Если оценивать с т.з. количества заведений, то наибольшее число сетевых заведений относятся к типу кафе.\n",
    "2. Если рассматривать каждый тип заведения отдельно, то сетевое распространение характерно для предприятий быстрого обслуживания."
   ]
  },
  {
   "cell_type": "markdown",
   "metadata": {},
   "source": [
    "# 3.4 Исследование сетевых заведений по количеству мест и количеству заведений"
   ]
  },
  {
   "cell_type": "code",
   "execution_count": 9,
   "metadata": {
    "scrolled": false
   },
   "outputs": [
    {
     "data": {
      "image/png": "[encoded data removed]",
      "text/plain": [
       "<Figure size 576x576 with 1 Axes>"
      ]
     },
     "metadata": {},
     "output_type": "display_data"
    }
   ],
   "source": [
    "# Создание датафрейма, хранящего наименование сетевых заведений их количество и среднее число мест\n",
    "rest_reg = (\n",
    "    rest_data[rest_data['chain']=='да']\n",
    "    .groupby('object_name', as_index=False)\n",
    "    .agg({'number':'mean','object_type':'count'})\n",
    ")\n",
    "# Переименовывание колонок\n",
    "rest_reg.columns = ['object_name', 'mean_number', 'count']\n",
    "# Выделение сетей, где больше 1 заведений\n",
    "rest_reg = rest_reg.query('count > 1').reset_index(drop=True)\n",
    "\n",
    "# Медиана количества заведений\n",
    "med_count = rest_reg['count'].median()\n",
    "# Медиана числа мест\n",
    "med_number = rest_reg['mean_number'].median()\n",
    "\n",
    "# Функция распределения сетевых заведений\n",
    "def character(row):\n",
    "    if row['mean_number'] > med_number:\n",
    "        if row['count'] > med_count:\n",
    "            return 'Many-Many' # Много мест и много заведений\n",
    "        else:\n",
    "            return 'Many-Few'  # Много мест и мало заведений\n",
    "    else:\n",
    "        if row['count'] > med_count:\n",
    "            return 'Few-Many'  # Мало мест и много заведений\n",
    "        else:\n",
    "            return 'Few-Few'   # Мало мест и мало заведений\n",
    "\n",
    "# Применение функции\n",
    "rest_reg['char'] = rest_reg.apply(character, axis=1)\n",
    "\n",
    "final = rest_reg.groupby('char', as_index=False)['object_name'].agg('count')\n",
    "final.columns = ['char', 'count']\n",
    "final\n",
    "\n",
    "\n",
    "# Построение графика\n",
    "final.plot.pie(y='count', \n",
    "                  autopct=\"%.2f\", \n",
    "                  figsize=(8,8), \n",
    "                  fontsize=15, \n",
    "                  subplots=True, \n",
    "                  labels=final['char'],\n",
    "                  explode=[0.05] * 4,\n",
    "                  legend=False)\n",
    "plt.title(\"Соотношение сетевых заведений по количеству заведений-мест\")\n",
    "plt.ylabel('')\n",
    "plt.show()"
   ]
  },
  {
   "cell_type": "markdown",
   "metadata": {},
   "source": [
    "По графику можно сказать, что для сетевых заведений характерно большое число мест и малое число заведений (малая сеть) или малое число мест и малое число заведений."
   ]
  },
  {
   "cell_type": "markdown",
   "metadata": {},
   "source": [
    "# 3.5 Исследование среднего количества мест в заведении каждого типа"
   ]
  },
  {
   "cell_type": "code",
   "execution_count": 10,
   "metadata": {},
   "outputs": [
    {
     "data": {
      "text/html": [
       "<div>\n",
       "<style scoped>\n",
       "    .dataframe tbody tr th:only-of-type {\n",
       "        vertical-align: middle;\n",
       "    }\n",
       "\n",
       "    .dataframe tbody tr th {\n",
       "        vertical-align: top;\n",
       "    }\n",
       "\n",
       "    .dataframe thead th {\n",
       "        text-align: right;\n",
       "    }\n",
       "</style>\n",
       "<table border=\"1\" class=\"dataframe\">\n",
       "  <thead>\n",
       "    <tr style=\"text-align: right;\">\n",
       "      <th></th>\n",
       "      <th>object_type</th>\n",
       "      <th>median_number</th>\n",
       "    </tr>\n",
       "  </thead>\n",
       "  <tbody>\n",
       "    <tr>\n",
       "      <th>8</th>\n",
       "      <td>столовая</td>\n",
       "      <td>103</td>\n",
       "    </tr>\n",
       "    <tr>\n",
       "      <th>7</th>\n",
       "      <td>ресторан</td>\n",
       "      <td>80</td>\n",
       "    </tr>\n",
       "    <tr>\n",
       "      <th>0</th>\n",
       "      <td>бар</td>\n",
       "      <td>35</td>\n",
       "    </tr>\n",
       "    <tr>\n",
       "      <th>1</th>\n",
       "      <td>буфет</td>\n",
       "      <td>32</td>\n",
       "    </tr>\n",
       "    <tr>\n",
       "      <th>3</th>\n",
       "      <td>кафе</td>\n",
       "      <td>30</td>\n",
       "    </tr>\n",
       "    <tr>\n",
       "      <th>4</th>\n",
       "      <td>кафетерий</td>\n",
       "      <td>6</td>\n",
       "    </tr>\n",
       "    <tr>\n",
       "      <th>6</th>\n",
       "      <td>предприятие быстрого обслуживания</td>\n",
       "      <td>6</td>\n",
       "    </tr>\n",
       "    <tr>\n",
       "      <th>2</th>\n",
       "      <td>закусочная</td>\n",
       "      <td>0</td>\n",
       "    </tr>\n",
       "    <tr>\n",
       "      <th>5</th>\n",
       "      <td>магазин (отдел кулинарии)</td>\n",
       "      <td>0</td>\n",
       "    </tr>\n",
       "  </tbody>\n",
       "</table>\n",
       "</div>"
      ],
      "text/plain": [
       "                         object_type  median_number\n",
       "8                           столовая            103\n",
       "7                           ресторан             80\n",
       "0                                бар             35\n",
       "1                              буфет             32\n",
       "3                               кафе             30\n",
       "4                          кафетерий              6\n",
       "6  предприятие быстрого обслуживания              6\n",
       "2                         закусочная              0\n",
       "5          магазин (отдел кулинарии)              0"
      ]
     },
     "metadata": {},
     "output_type": "display_data"
    },
    {
     "data": {
      "image/png": "[encoded data removed]",
      "text/plain": [
       "<Figure size 720x360 with 1 Axes>"
      ]
     },
     "metadata": {},
     "output_type": "display_data"
    }
   ],
   "source": [
    "# Создание датафрейма, хранящего типы заведений и среднее число посадочных мест\n",
    "rest_reg = rest_data.groupby('object_type', as_index=False)['number'].agg('median')\n",
    "# Переименовывание колонок датафрейма\n",
    "rest_reg.columns = ['object_type','median_number']\n",
    "rest_reg.sort_values('median_number',ascending=False, inplace=True)\n",
    "display(rest_reg)\n",
    "\n",
    "# Построение графика\n",
    "plt.figure(figsize=(10, 5))\n",
    "sns.barplot(x='median_number', y='object_type', data=rest_reg)  \n",
    "plt.ylabel('')\n",
    "plt.xlabel('Число мест')\n",
    "plt.title(\"Среднее число мест в различных заведениях\")\n",
    "plt.show()"
   ]
  },
  {
   "cell_type": "markdown",
   "metadata": {},
   "source": [
    "Наибольшее среднее значение количества мест в столовых, далее идут рестораны, буфеты, бары и кафе."
   ]
  },
  {
   "cell_type": "markdown",
   "metadata": {},
   "source": [
    "# 3.6 Исследование улиц с наибольшим количеством заведений"
   ]
  },
  {
   "cell_type": "code",
   "execution_count": 11,
   "metadata": {
    "scrolled": false
   },
   "outputs": [
    {
     "data": {
      "text/html": [
       "<div>\n",
       "<style scoped>\n",
       "    .dataframe tbody tr th:only-of-type {\n",
       "        vertical-align: middle;\n",
       "    }\n",
       "\n",
       "    .dataframe tbody tr th {\n",
       "        vertical-align: top;\n",
       "    }\n",
       "\n",
       "    .dataframe thead th {\n",
       "        text-align: right;\n",
       "    }\n",
       "</style>\n",
       "<table border=\"1\" class=\"dataframe\">\n",
       "  <thead>\n",
       "    <tr style=\"text-align: right;\">\n",
       "      <th></th>\n",
       "      <th>object_name</th>\n",
       "      <th>chain</th>\n",
       "      <th>object_type</th>\n",
       "      <th>address</th>\n",
       "      <th>number</th>\n",
       "      <th>street</th>\n",
       "    </tr>\n",
       "  </thead>\n",
       "  <tbody>\n",
       "    <tr>\n",
       "      <th>0</th>\n",
       "      <td>сметана</td>\n",
       "      <td>нет</td>\n",
       "      <td>кафе</td>\n",
       "      <td>город Москва, улица Егора Абакумова, дом 9</td>\n",
       "      <td>48</td>\n",
       "      <td>улица Егора Абакумова</td>\n",
       "    </tr>\n",
       "    <tr>\n",
       "      <th>1</th>\n",
       "      <td>родник</td>\n",
       "      <td>нет</td>\n",
       "      <td>кафе</td>\n",
       "      <td>город Москва, улица Талалихина, дом 2/1, корпус 1</td>\n",
       "      <td>35</td>\n",
       "      <td>улица Талалихина</td>\n",
       "    </tr>\n",
       "    <tr>\n",
       "      <th>2</th>\n",
       "      <td>академия</td>\n",
       "      <td>нет</td>\n",
       "      <td>кафе</td>\n",
       "      <td>город Москва, Абельмановская улица, дом 6</td>\n",
       "      <td>95</td>\n",
       "      <td>Абельмановская улица</td>\n",
       "    </tr>\n",
       "    <tr>\n",
       "      <th>3</th>\n",
       "      <td>пиццетория</td>\n",
       "      <td>да</td>\n",
       "      <td>кафе</td>\n",
       "      <td>город Москва, Абрамцевская улица, дом 1</td>\n",
       "      <td>40</td>\n",
       "      <td>Абрамцевская улица</td>\n",
       "    </tr>\n",
       "    <tr>\n",
       "      <th>4</th>\n",
       "      <td>вишневая метель</td>\n",
       "      <td>нет</td>\n",
       "      <td>кафе</td>\n",
       "      <td>город Москва, Абрамцевская улица, дом 9, корпус 1</td>\n",
       "      <td>50</td>\n",
       "      <td>Абрамцевская улица</td>\n",
       "    </tr>\n",
       "  </tbody>\n",
       "</table>\n",
       "</div>"
      ],
      "text/plain": [
       "        object_name chain object_type  \\\n",
       "0           сметана   нет        кафе   \n",
       "1            родник   нет        кафе   \n",
       "2          академия   нет        кафе   \n",
       "3        пиццетория    да        кафе   \n",
       "4   вишневая метель   нет        кафе   \n",
       "\n",
       "                                             address  number  \\\n",
       "0         город Москва, улица Егора Абакумова, дом 9      48   \n",
       "1  город Москва, улица Талалихина, дом 2/1, корпус 1      35   \n",
       "2          город Москва, Абельмановская улица, дом 6      95   \n",
       "3            город Москва, Абрамцевская улица, дом 1      40   \n",
       "4  город Москва, Абрамцевская улица, дом 9, корпус 1      50   \n",
       "\n",
       "                  street  \n",
       "0  улица Егора Абакумова  \n",
       "1       улица Талалихина  \n",
       "2   Абельмановская улица  \n",
       "3     Абрамцевская улица  \n",
       "4     Абрамцевская улица  "
      ]
     },
     "execution_count": 11,
     "metadata": {},
     "output_type": "execute_result"
    }
   ],
   "source": [
    "# Создание колонки с названием улицы\n",
    "rest_data['street'] = rest_data['address'].str.split(', ', expand=True)[1]\n",
    "# Удаление лишних значений, попавшие в колонку с улицами\n",
    "rest_data['street'] = rest_data[rest_data['street'].str.contains('поселение|город|дом|корпус|строение')==False]['street']\n",
    "# rest_data['street'] = rest_data[rest_data['street'].str.contains('улица|бульвар|шоссе|аллея|площадь|набережная|проспект')==True]['street']\n",
    "rest_data.head(5)"
   ]
  },
  {
   "cell_type": "code",
   "execution_count": 12,
   "metadata": {},
   "outputs": [
    {
     "data": {
      "image/png": "[encoded data removed]",
      "text/plain": [
       "<Figure size 720x360 with 1 Axes>"
      ]
     },
     "metadata": {},
     "output_type": "display_data"
    }
   ],
   "source": [
    "# Выбор улиц, на которых больше всего заведений\n",
    "street_top_10 = ((rest_data.groupby('street', as_index=False)['object_type'].agg('count'))\n",
    "               .sort_values('object_type', ascending=False).head(10))\n",
    "street_top_10.columns = ['street','count']\n",
    "# Построение графика\n",
    "plt.figure(figsize=(10, 5))\n",
    "sns.barplot(x='count', y='street', data=street_top_10)  \n",
    "plt.ylabel('')\n",
    "plt.xlabel('Количество объектов')\n",
    "plt.title(\"Топ-10 улиц по количеству заведений\")\n",
    "plt.show()"
   ]
  },
  {
   "cell_type": "code",
   "execution_count": 13,
   "metadata": {},
   "outputs": [
    {
     "data": {
      "text/html": [
       "<div>\n",
       "<style scoped>\n",
       "    .dataframe tbody tr th:only-of-type {\n",
       "        vertical-align: middle;\n",
       "    }\n",
       "\n",
       "    .dataframe tbody tr th {\n",
       "        vertical-align: top;\n",
       "    }\n",
       "\n",
       "    .dataframe thead th {\n",
       "        text-align: right;\n",
       "    }\n",
       "</style>\n",
       "<table border=\"1\" class=\"dataframe\">\n",
       "  <thead>\n",
       "    <tr style=\"text-align: right;\">\n",
       "      <th></th>\n",
       "      <th>admarea</th>\n",
       "      <th>district</th>\n",
       "      <th>street</th>\n",
       "    </tr>\n",
       "  </thead>\n",
       "  <tbody>\n",
       "    <tr>\n",
       "      <th>0</th>\n",
       "      <td>Северо-Восточный административный округ</td>\n",
       "      <td>Ярославский район</td>\n",
       "      <td>улица Егора Абакумова</td>\n",
       "    </tr>\n",
       "    <tr>\n",
       "      <th>1</th>\n",
       "      <td>Центральный административный округ</td>\n",
       "      <td>Таганский район</td>\n",
       "      <td>улица Талалихина</td>\n",
       "    </tr>\n",
       "    <tr>\n",
       "      <th>2</th>\n",
       "      <td>Центральный административный округ</td>\n",
       "      <td>Таганский район</td>\n",
       "      <td>Абельмановская улица</td>\n",
       "    </tr>\n",
       "    <tr>\n",
       "      <th>3</th>\n",
       "      <td>Северо-Восточный административный округ</td>\n",
       "      <td>район Лианозово</td>\n",
       "      <td>Абрамцевская улица</td>\n",
       "    </tr>\n",
       "    <tr>\n",
       "      <th>4</th>\n",
       "      <td>Северо-Восточный административный округ</td>\n",
       "      <td>район Лианозово</td>\n",
       "      <td>Угличская улица</td>\n",
       "    </tr>\n",
       "  </tbody>\n",
       "</table>\n",
       "</div>"
      ],
      "text/plain": [
       "                                   admarea           district  \\\n",
       "0  Северо-Восточный административный округ  Ярославский район   \n",
       "1       Центральный административный округ    Таганский район   \n",
       "2       Центральный административный округ    Таганский район   \n",
       "3  Северо-Восточный административный округ    район Лианозово   \n",
       "4  Северо-Восточный административный округ    район Лианозово   \n",
       "\n",
       "                  street  \n",
       "0  улица Егора Абакумова  \n",
       "1       улица Талалихина  \n",
       "2   Абельмановская улица  \n",
       "3     Абрамцевская улица  \n",
       "4        Угличская улица  "
      ]
     },
     "execution_count": 13,
     "metadata": {},
     "output_type": "execute_result"
    }
   ],
   "source": [
    "from io import BytesIO\n",
    "import requests\n",
    "spreadsheet_id = '1aPqLMD05kc3YnAFJe33Iw926qw0uOkWAjomxXtsq01I'\n",
    "file_name = 'https://docs.google.com/spreadsheets/d/{}/export?format=csv'.format(spreadsheet_id)\n",
    "r = requests.get(file_name)\n",
    "all_data = pd.read_csv(BytesIO(r.content))\n",
    "# Подготовка данных, остаются только колонки с улицами, округами и районами\n",
    "district_data = all_data.drop(['Name', 'global_id', 'TypeObject','IsNetObject', 'SeatsCount', 'PublicPhone', \n",
    "                               'SocialPrivileges', 'OperatingCompany', 'Longitude_WGS84', \n",
    "                               'Latitude_WGS84', 'geoData', 'ID'], axis=1)\n",
    "district_data.columns = [x.lower() for x in district_data.columns.values]\n",
    "\n",
    "# Создание колонки с названием улицы\n",
    "district_data['street'] = district_data['address'].str.split(', ', expand=True)[1]\n",
    "# Удаление лишних значений, попавшие в колонку с улицами\n",
    "district_data['street'] = district_data[district_data['street'].str.\n",
    "                                           contains('поселение|город|дом|корпус|строение')==False]['street']\n",
    "# Удаление пропусков\n",
    "district_data.dropna(inplace=True)\n",
    "# Удаление адреса\n",
    "district_data.drop('address', axis=1, inplace=True)\n",
    "# Вывод результата\n",
    "district_data.head(5)"
   ]
  },
  {
   "cell_type": "code",
   "execution_count": 14,
   "metadata": {},
   "outputs": [
    {
     "data": {
      "text/html": [
       "<div>\n",
       "<style scoped>\n",
       "    .dataframe tbody tr th:only-of-type {\n",
       "        vertical-align: middle;\n",
       "    }\n",
       "\n",
       "    .dataframe tbody tr th {\n",
       "        vertical-align: top;\n",
       "    }\n",
       "\n",
       "    .dataframe thead th {\n",
       "        text-align: right;\n",
       "    }\n",
       "</style>\n",
       "<table border=\"1\" class=\"dataframe\">\n",
       "  <thead>\n",
       "    <tr style=\"text-align: right;\">\n",
       "      <th></th>\n",
       "      <th>street</th>\n",
       "      <th>count</th>\n",
       "      <th>admarea</th>\n",
       "      <th>district</th>\n",
       "    </tr>\n",
       "  </thead>\n",
       "  <tbody>\n",
       "    <tr>\n",
       "      <th>0</th>\n",
       "      <td>проспект Мира</td>\n",
       "      <td>203</td>\n",
       "      <td>Центральный административный округ</td>\n",
       "      <td>Мещанский район</td>\n",
       "    </tr>\n",
       "    <tr>\n",
       "      <th>1</th>\n",
       "      <td>проспект Мира</td>\n",
       "      <td>203</td>\n",
       "      <td>Северо-Восточный административный округ</td>\n",
       "      <td>Останкинский район</td>\n",
       "    </tr>\n",
       "    <tr>\n",
       "      <th>2</th>\n",
       "      <td>проспект Мира</td>\n",
       "      <td>203</td>\n",
       "      <td>Северо-Восточный административный округ</td>\n",
       "      <td>Алексеевский район</td>\n",
       "    </tr>\n",
       "    <tr>\n",
       "      <th>3</th>\n",
       "      <td>проспект Мира</td>\n",
       "      <td>203</td>\n",
       "      <td>Северо-Восточный административный округ</td>\n",
       "      <td>район Ростокино</td>\n",
       "    </tr>\n",
       "    <tr>\n",
       "      <th>4</th>\n",
       "      <td>проспект Мира</td>\n",
       "      <td>203</td>\n",
       "      <td>Северо-Восточный административный округ</td>\n",
       "      <td>район Свиблово</td>\n",
       "    </tr>\n",
       "    <tr>\n",
       "      <th>5</th>\n",
       "      <td>проспект Мира</td>\n",
       "      <td>203</td>\n",
       "      <td>Северо-Восточный административный округ</td>\n",
       "      <td>Ярославский район</td>\n",
       "    </tr>\n",
       "    <tr>\n",
       "      <th>6</th>\n",
       "      <td>Профсоюзная улица</td>\n",
       "      <td>181</td>\n",
       "      <td>Юго-Западный административный округ</td>\n",
       "      <td>Академический район</td>\n",
       "    </tr>\n",
       "    <tr>\n",
       "      <th>7</th>\n",
       "      <td>Профсоюзная улица</td>\n",
       "      <td>181</td>\n",
       "      <td>Юго-Западный административный округ</td>\n",
       "      <td>район Черёмушки</td>\n",
       "    </tr>\n",
       "    <tr>\n",
       "      <th>8</th>\n",
       "      <td>Профсоюзная улица</td>\n",
       "      <td>181</td>\n",
       "      <td>Юго-Западный административный округ</td>\n",
       "      <td>Обручевский район</td>\n",
       "    </tr>\n",
       "    <tr>\n",
       "      <th>9</th>\n",
       "      <td>Профсоюзная улица</td>\n",
       "      <td>181</td>\n",
       "      <td>Юго-Западный административный округ</td>\n",
       "      <td>район Коньково</td>\n",
       "    </tr>\n",
       "    <tr>\n",
       "      <th>10</th>\n",
       "      <td>Профсоюзная улица</td>\n",
       "      <td>181</td>\n",
       "      <td>Юго-Западный административный округ</td>\n",
       "      <td>район Тёплый Стан</td>\n",
       "    </tr>\n",
       "    <tr>\n",
       "      <th>11</th>\n",
       "      <td>Профсоюзная улица</td>\n",
       "      <td>181</td>\n",
       "      <td>Юго-Западный административный округ</td>\n",
       "      <td>район Ясенево</td>\n",
       "    </tr>\n",
       "    <tr>\n",
       "      <th>12</th>\n",
       "      <td>Ленинградский проспект</td>\n",
       "      <td>170</td>\n",
       "      <td>Северный административный округ</td>\n",
       "      <td>район Беговой</td>\n",
       "    </tr>\n",
       "    <tr>\n",
       "      <th>13</th>\n",
       "      <td>Ленинградский проспект</td>\n",
       "      <td>170</td>\n",
       "      <td>Северный административный округ</td>\n",
       "      <td>район Аэропорт</td>\n",
       "    </tr>\n",
       "    <tr>\n",
       "      <th>14</th>\n",
       "      <td>Ленинградский проспект</td>\n",
       "      <td>170</td>\n",
       "      <td>Северный административный округ</td>\n",
       "      <td>район Сокол</td>\n",
       "    </tr>\n",
       "    <tr>\n",
       "      <th>15</th>\n",
       "      <td>Ленинградский проспект</td>\n",
       "      <td>170</td>\n",
       "      <td>Северный административный округ</td>\n",
       "      <td>Хорошёвский район</td>\n",
       "    </tr>\n",
       "    <tr>\n",
       "      <th>16</th>\n",
       "      <td>Пресненская набережная</td>\n",
       "      <td>167</td>\n",
       "      <td>Центральный административный округ</td>\n",
       "      <td>Пресненский район</td>\n",
       "    </tr>\n",
       "    <tr>\n",
       "      <th>17</th>\n",
       "      <td>Варшавское шоссе</td>\n",
       "      <td>161</td>\n",
       "      <td>Южный административный округ</td>\n",
       "      <td>Донской район</td>\n",
       "    </tr>\n",
       "    <tr>\n",
       "      <th>18</th>\n",
       "      <td>Варшавское шоссе</td>\n",
       "      <td>161</td>\n",
       "      <td>Южный административный округ</td>\n",
       "      <td>Нагорный район</td>\n",
       "    </tr>\n",
       "    <tr>\n",
       "      <th>19</th>\n",
       "      <td>Варшавское шоссе</td>\n",
       "      <td>161</td>\n",
       "      <td>Южный административный округ</td>\n",
       "      <td>район Чертаново Южное</td>\n",
       "    </tr>\n",
       "    <tr>\n",
       "      <th>20</th>\n",
       "      <td>Варшавское шоссе</td>\n",
       "      <td>161</td>\n",
       "      <td>Южный административный округ</td>\n",
       "      <td>район Чертаново Центральное</td>\n",
       "    </tr>\n",
       "    <tr>\n",
       "      <th>21</th>\n",
       "      <td>Варшавское шоссе</td>\n",
       "      <td>161</td>\n",
       "      <td>Южный административный округ</td>\n",
       "      <td>район Чертаново Северное</td>\n",
       "    </tr>\n",
       "    <tr>\n",
       "      <th>22</th>\n",
       "      <td>Варшавское шоссе</td>\n",
       "      <td>161</td>\n",
       "      <td>Южный административный округ</td>\n",
       "      <td>район Нагатино-Садовники</td>\n",
       "    </tr>\n",
       "    <tr>\n",
       "      <th>23</th>\n",
       "      <td>Варшавское шоссе</td>\n",
       "      <td>161</td>\n",
       "      <td>Юго-Западный административный округ</td>\n",
       "      <td>район Южное Бутово</td>\n",
       "    </tr>\n",
       "    <tr>\n",
       "      <th>24</th>\n",
       "      <td>Ленинский проспект</td>\n",
       "      <td>147</td>\n",
       "      <td>Центральный административный округ</td>\n",
       "      <td>район Якиманка</td>\n",
       "    </tr>\n",
       "    <tr>\n",
       "      <th>25</th>\n",
       "      <td>Ленинский проспект</td>\n",
       "      <td>147</td>\n",
       "      <td>Южный административный округ</td>\n",
       "      <td>Донской район</td>\n",
       "    </tr>\n",
       "    <tr>\n",
       "      <th>26</th>\n",
       "      <td>Ленинский проспект</td>\n",
       "      <td>147</td>\n",
       "      <td>Юго-Западный административный округ</td>\n",
       "      <td>Гагаринский район</td>\n",
       "    </tr>\n",
       "    <tr>\n",
       "      <th>27</th>\n",
       "      <td>Ленинский проспект</td>\n",
       "      <td>147</td>\n",
       "      <td>Юго-Западный административный округ</td>\n",
       "      <td>Ломоносовский район</td>\n",
       "    </tr>\n",
       "    <tr>\n",
       "      <th>28</th>\n",
       "      <td>Ленинский проспект</td>\n",
       "      <td>147</td>\n",
       "      <td>Юго-Западный административный округ</td>\n",
       "      <td>Обручевский район</td>\n",
       "    </tr>\n",
       "    <tr>\n",
       "      <th>29</th>\n",
       "      <td>Ленинский проспект</td>\n",
       "      <td>147</td>\n",
       "      <td>Западный административный округ</td>\n",
       "      <td>район Тропарёво-Никулино</td>\n",
       "    </tr>\n",
       "    <tr>\n",
       "      <th>30</th>\n",
       "      <td>Ленинский проспект</td>\n",
       "      <td>147</td>\n",
       "      <td>Юго-Западный административный округ</td>\n",
       "      <td>район Тёплый Стан</td>\n",
       "    </tr>\n",
       "    <tr>\n",
       "      <th>31</th>\n",
       "      <td>Ленинский проспект</td>\n",
       "      <td>147</td>\n",
       "      <td>Западный административный округ</td>\n",
       "      <td>район Проспект Вернадского</td>\n",
       "    </tr>\n",
       "    <tr>\n",
       "      <th>32</th>\n",
       "      <td>проспект Вернадского</td>\n",
       "      <td>128</td>\n",
       "      <td>Юго-Западный административный округ</td>\n",
       "      <td>Гагаринский район</td>\n",
       "    </tr>\n",
       "    <tr>\n",
       "      <th>33</th>\n",
       "      <td>проспект Вернадского</td>\n",
       "      <td>128</td>\n",
       "      <td>Юго-Западный административный округ</td>\n",
       "      <td>Ломоносовский район</td>\n",
       "    </tr>\n",
       "    <tr>\n",
       "      <th>34</th>\n",
       "      <td>проспект Вернадского</td>\n",
       "      <td>128</td>\n",
       "      <td>Западный административный округ</td>\n",
       "      <td>район Тропарёво-Никулино</td>\n",
       "    </tr>\n",
       "    <tr>\n",
       "      <th>35</th>\n",
       "      <td>проспект Вернадского</td>\n",
       "      <td>128</td>\n",
       "      <td>Западный административный округ</td>\n",
       "      <td>район Проспект Вернадского</td>\n",
       "    </tr>\n",
       "    <tr>\n",
       "      <th>36</th>\n",
       "      <td>проспект Вернадского</td>\n",
       "      <td>128</td>\n",
       "      <td>Троицкий административный округ</td>\n",
       "      <td>поселение Вороновское</td>\n",
       "    </tr>\n",
       "    <tr>\n",
       "      <th>37</th>\n",
       "      <td>проспект Вернадского</td>\n",
       "      <td>128</td>\n",
       "      <td>Западный административный округ</td>\n",
       "      <td>район Раменки</td>\n",
       "    </tr>\n",
       "    <tr>\n",
       "      <th>38</th>\n",
       "      <td>Кутузовский проспект</td>\n",
       "      <td>114</td>\n",
       "      <td>Западный административный округ</td>\n",
       "      <td>район Фили-Давыдково</td>\n",
       "    </tr>\n",
       "    <tr>\n",
       "      <th>39</th>\n",
       "      <td>Кутузовский проспект</td>\n",
       "      <td>114</td>\n",
       "      <td>Западный административный округ</td>\n",
       "      <td>район Дорогомилово</td>\n",
       "    </tr>\n",
       "    <tr>\n",
       "      <th>40</th>\n",
       "      <td>Кутузовский проспект</td>\n",
       "      <td>114</td>\n",
       "      <td>Троицкий административный округ</td>\n",
       "      <td>поселение Краснопахорское</td>\n",
       "    </tr>\n",
       "    <tr>\n",
       "      <th>41</th>\n",
       "      <td>Каширское шоссе</td>\n",
       "      <td>111</td>\n",
       "      <td>Южный административный округ</td>\n",
       "      <td>район Москворечье-Сабурово</td>\n",
       "    </tr>\n",
       "    <tr>\n",
       "      <th>42</th>\n",
       "      <td>Каширское шоссе</td>\n",
       "      <td>111</td>\n",
       "      <td>Южный административный округ</td>\n",
       "      <td>район Орехово-Борисово Южное</td>\n",
       "    </tr>\n",
       "    <tr>\n",
       "      <th>43</th>\n",
       "      <td>Каширское шоссе</td>\n",
       "      <td>111</td>\n",
       "      <td>Южный административный округ</td>\n",
       "      <td>район Орехово-Борисово Северное</td>\n",
       "    </tr>\n",
       "    <tr>\n",
       "      <th>44</th>\n",
       "      <td>Каширское шоссе</td>\n",
       "      <td>111</td>\n",
       "      <td>Южный административный округ</td>\n",
       "      <td>район Нагатино-Садовники</td>\n",
       "    </tr>\n",
       "    <tr>\n",
       "      <th>45</th>\n",
       "      <td>Каширское шоссе</td>\n",
       "      <td>111</td>\n",
       "      <td>Южный административный округ</td>\n",
       "      <td>район Чертаново Южное</td>\n",
       "    </tr>\n",
       "    <tr>\n",
       "      <th>46</th>\n",
       "      <td>Кировоградская улица</td>\n",
       "      <td>108</td>\n",
       "      <td>Южный административный округ</td>\n",
       "      <td>район Чертаново Южное</td>\n",
       "    </tr>\n",
       "    <tr>\n",
       "      <th>47</th>\n",
       "      <td>Кировоградская улица</td>\n",
       "      <td>108</td>\n",
       "      <td>Южный административный округ</td>\n",
       "      <td>район Чертаново Центральное</td>\n",
       "    </tr>\n",
       "    <tr>\n",
       "      <th>48</th>\n",
       "      <td>Кировоградская улица</td>\n",
       "      <td>108</td>\n",
       "      <td>Южный административный округ</td>\n",
       "      <td>район Чертаново Северное</td>\n",
       "    </tr>\n",
       "  </tbody>\n",
       "</table>\n",
       "</div>"
      ],
      "text/plain": [
       "                    street  count                                  admarea  \\\n",
       "0            проспект Мира    203       Центральный административный округ   \n",
       "1            проспект Мира    203  Северо-Восточный административный округ   \n",
       "2            проспект Мира    203  Северо-Восточный административный округ   \n",
       "3            проспект Мира    203  Северо-Восточный административный округ   \n",
       "4            проспект Мира    203  Северо-Восточный административный округ   \n",
       "5            проспект Мира    203  Северо-Восточный административный округ   \n",
       "6        Профсоюзная улица    181      Юго-Западный административный округ   \n",
       "7        Профсоюзная улица    181      Юго-Западный административный округ   \n",
       "8        Профсоюзная улица    181      Юго-Западный административный округ   \n",
       "9        Профсоюзная улица    181      Юго-Западный административный округ   \n",
       "10       Профсоюзная улица    181      Юго-Западный административный округ   \n",
       "11       Профсоюзная улица    181      Юго-Западный административный округ   \n",
       "12  Ленинградский проспект    170          Северный административный округ   \n",
       "13  Ленинградский проспект    170          Северный административный округ   \n",
       "14  Ленинградский проспект    170          Северный административный округ   \n",
       "15  Ленинградский проспект    170          Северный административный округ   \n",
       "16  Пресненская набережная    167       Центральный административный округ   \n",
       "17        Варшавское шоссе    161             Южный административный округ   \n",
       "18        Варшавское шоссе    161             Южный административный округ   \n",
       "19        Варшавское шоссе    161             Южный административный округ   \n",
       "20        Варшавское шоссе    161             Южный административный округ   \n",
       "21        Варшавское шоссе    161             Южный административный округ   \n",
       "22        Варшавское шоссе    161             Южный административный округ   \n",
       "23        Варшавское шоссе    161      Юго-Западный административный округ   \n",
       "24      Ленинский проспект    147       Центральный административный округ   \n",
       "25      Ленинский проспект    147             Южный административный округ   \n",
       "26      Ленинский проспект    147      Юго-Западный административный округ   \n",
       "27      Ленинский проспект    147      Юго-Западный административный округ   \n",
       "28      Ленинский проспект    147      Юго-Западный административный округ   \n",
       "29      Ленинский проспект    147          Западный административный округ   \n",
       "30      Ленинский проспект    147      Юго-Западный административный округ   \n",
       "31      Ленинский проспект    147          Западный административный округ   \n",
       "32    проспект Вернадского    128      Юго-Западный административный округ   \n",
       "33    проспект Вернадского    128      Юго-Западный административный округ   \n",
       "34    проспект Вернадского    128          Западный административный округ   \n",
       "35    проспект Вернадского    128          Западный административный округ   \n",
       "36    проспект Вернадского    128          Троицкий административный округ   \n",
       "37    проспект Вернадского    128          Западный административный округ   \n",
       "38    Кутузовский проспект    114          Западный административный округ   \n",
       "39    Кутузовский проспект    114          Западный административный округ   \n",
       "40    Кутузовский проспект    114          Троицкий административный округ   \n",
       "41         Каширское шоссе    111             Южный административный округ   \n",
       "42         Каширское шоссе    111             Южный административный округ   \n",
       "43         Каширское шоссе    111             Южный административный округ   \n",
       "44         Каширское шоссе    111             Южный административный округ   \n",
       "45         Каширское шоссе    111             Южный административный округ   \n",
       "46    Кировоградская улица    108             Южный административный округ   \n",
       "47    Кировоградская улица    108             Южный административный округ   \n",
       "48    Кировоградская улица    108             Южный административный округ   \n",
       "\n",
       "                           district  \n",
       "0                   Мещанский район  \n",
       "1                Останкинский район  \n",
       "2                Алексеевский район  \n",
       "3                   район Ростокино  \n",
       "4                    район Свиблово  \n",
       "5                 Ярославский район  \n",
       "6               Академический район  \n",
       "7                   район Черёмушки  \n",
       "8                 Обручевский район  \n",
       "9                    район Коньково  \n",
       "10                район Тёплый Стан  \n",
       "11                    район Ясенево  \n",
       "12                    район Беговой  \n",
       "13                   район Аэропорт  \n",
       "14                      район Сокол  \n",
       "15                Хорошёвский район  \n",
       "16                Пресненский район  \n",
       "17                    Донской район  \n",
       "18                   Нагорный район  \n",
       "19            район Чертаново Южное  \n",
       "20      район Чертаново Центральное  \n",
       "21         район Чертаново Северное  \n",
       "22         район Нагатино-Садовники  \n",
       "23               район Южное Бутово  \n",
       "24                   район Якиманка  \n",
       "25                    Донской район  \n",
       "26                Гагаринский район  \n",
       "27              Ломоносовский район  \n",
       "28                Обручевский район  \n",
       "29         район Тропарёво-Никулино  \n",
       "30                район Тёплый Стан  \n",
       "31       район Проспект Вернадского  \n",
       "32                Гагаринский район  \n",
       "33              Ломоносовский район  \n",
       "34         район Тропарёво-Никулино  \n",
       "35       район Проспект Вернадского  \n",
       "36            поселение Вороновское  \n",
       "37                    район Раменки  \n",
       "38             район Фили-Давыдково  \n",
       "39               район Дорогомилово  \n",
       "40        поселение Краснопахорское  \n",
       "41       район Москворечье-Сабурово  \n",
       "42     район Орехово-Борисово Южное  \n",
       "43  район Орехово-Борисово Северное  \n",
       "44         район Нагатино-Садовники  \n",
       "45            район Чертаново Южное  \n",
       "46            район Чертаново Южное  \n",
       "47      район Чертаново Центральное  \n",
       "48         район Чертаново Северное  "
      ]
     },
     "execution_count": 14,
     "metadata": {},
     "output_type": "execute_result"
    }
   ],
   "source": [
    "# Соответствие каждой улице районов и округов, через которые проходят улицы\n",
    "street_top_10 = street_top_10.merge(district_data, on='street').drop_duplicates().reset_index(drop=True)\n",
    "street_top_10"
   ]
  },
  {
   "cell_type": "markdown",
   "metadata": {},
   "source": [
    "<br><img width=\"720\" src=\"https://avatars.mds.yandex.net/get-zen_doc/3380298/pub_605b429cc0f40244ebe343ae_605b46293bd1fd3f669f3c3f/scale_1200\">"
   ]
  },
  {
   "cell_type": "code",
   "execution_count": 15,
   "metadata": {},
   "outputs": [
    {
     "data": {
      "text/html": [
       "<div>\n",
       "<style scoped>\n",
       "    .dataframe tbody tr th:only-of-type {\n",
       "        vertical-align: middle;\n",
       "    }\n",
       "\n",
       "    .dataframe tbody tr th {\n",
       "        vertical-align: top;\n",
       "    }\n",
       "\n",
       "    .dataframe thead th {\n",
       "        text-align: right;\n",
       "    }\n",
       "</style>\n",
       "<table border=\"1\" class=\"dataframe\">\n",
       "  <thead>\n",
       "    <tr style=\"text-align: right;\">\n",
       "      <th></th>\n",
       "      <th>id</th>\n",
       "      <th>name</th>\n",
       "      <th>typeobject</th>\n",
       "      <th>admarea</th>\n",
       "      <th>district</th>\n",
       "      <th>address</th>\n",
       "      <th>seatscount</th>\n",
       "      <th>street</th>\n",
       "    </tr>\n",
       "  </thead>\n",
       "  <tbody>\n",
       "    <tr>\n",
       "      <th>0</th>\n",
       "      <td>151635</td>\n",
       "      <td>СМЕТАНА</td>\n",
       "      <td>кафе</td>\n",
       "      <td>Северо-Восточный административный округ</td>\n",
       "      <td>Ярославский район</td>\n",
       "      <td>город Москва, улица Егора Абакумова, дом 9</td>\n",
       "      <td>48</td>\n",
       "      <td>улица Егора Абакумова</td>\n",
       "    </tr>\n",
       "    <tr>\n",
       "      <th>1</th>\n",
       "      <td>77874</td>\n",
       "      <td>Родник</td>\n",
       "      <td>кафе</td>\n",
       "      <td>Центральный административный округ</td>\n",
       "      <td>Таганский район</td>\n",
       "      <td>город Москва, улица Талалихина, дом 2/1, корпус 1</td>\n",
       "      <td>35</td>\n",
       "      <td>улица Талалихина</td>\n",
       "    </tr>\n",
       "    <tr>\n",
       "      <th>2</th>\n",
       "      <td>24309</td>\n",
       "      <td>Кафе «Академия»</td>\n",
       "      <td>кафе</td>\n",
       "      <td>Центральный административный округ</td>\n",
       "      <td>Таганский район</td>\n",
       "      <td>город Москва, Абельмановская улица, дом 6</td>\n",
       "      <td>95</td>\n",
       "      <td>Абельмановская улица</td>\n",
       "    </tr>\n",
       "    <tr>\n",
       "      <th>3</th>\n",
       "      <td>119365</td>\n",
       "      <td>Cotto Итальянская Кофейня</td>\n",
       "      <td>кафетерий</td>\n",
       "      <td>Северо-Восточный административный округ</td>\n",
       "      <td>район Лианозово</td>\n",
       "      <td>город Москва, Абрамцевская улица, дом 9, корпус 1</td>\n",
       "      <td>40</td>\n",
       "      <td>Абрамцевская улица</td>\n",
       "    </tr>\n",
       "    <tr>\n",
       "      <th>4</th>\n",
       "      <td>27429</td>\n",
       "      <td>ГБОУ «Школа № 1430 имени Героя Социалистического Труда Г.В. Кисунько» Школа № 1051</td>\n",
       "      <td>столовая</td>\n",
       "      <td>Северо-Восточный административный округ</td>\n",
       "      <td>район Лианозово</td>\n",
       "      <td>город Москва, Угличская улица, дом 17</td>\n",
       "      <td>240</td>\n",
       "      <td>Угличская улица</td>\n",
       "    </tr>\n",
       "  </tbody>\n",
       "</table>\n",
       "</div>"
      ],
      "text/plain": [
       "       id  \\\n",
       "0  151635   \n",
       "1   77874   \n",
       "2   24309   \n",
       "3  119365   \n",
       "4   27429   \n",
       "\n",
       "                                                                                 name  \\\n",
       "0                                                                             СМЕТАНА   \n",
       "1                                                                              Родник   \n",
       "2                                                                     Кафе «Академия»   \n",
       "3                                                           Cotto Итальянская Кофейня   \n",
       "4  ГБОУ «Школа № 1430 имени Героя Социалистического Труда Г.В. Кисунько» Школа № 1051   \n",
       "\n",
       "  typeobject                                  admarea           district  \\\n",
       "0       кафе  Северо-Восточный административный округ  Ярославский район   \n",
       "1       кафе       Центральный административный округ    Таганский район   \n",
       "2       кафе       Центральный административный округ    Таганский район   \n",
       "3  кафетерий  Северо-Восточный административный округ    район Лианозово   \n",
       "4   столовая  Северо-Восточный административный округ    район Лианозово   \n",
       "\n",
       "                                             address  seatscount  \\\n",
       "0         город Москва, улица Егора Абакумова, дом 9          48   \n",
       "1  город Москва, улица Талалихина, дом 2/1, корпус 1          35   \n",
       "2          город Москва, Абельмановская улица, дом 6          95   \n",
       "3  город Москва, Абрамцевская улица, дом 9, корпус 1          40   \n",
       "4              город Москва, Угличская улица, дом 17         240   \n",
       "\n",
       "                  street  \n",
       "0  улица Егора Абакумова  \n",
       "1       улица Талалихина  \n",
       "2   Абельмановская улица  \n",
       "3     Абрамцевская улица  \n",
       "4        Угличская улица  "
      ]
     },
     "execution_count": 15,
     "metadata": {},
     "output_type": "execute_result"
    }
   ],
   "source": [
    "# Очистка данных от лишних колонок\n",
    "all_data.drop(['global_id', 'IsNetObject', 'PublicPhone', \n",
    "                               'SocialPrivileges', 'OperatingCompany', 'Longitude_WGS84', \n",
    "                               'Latitude_WGS84', 'geoData'], axis=1, inplace=True)\n",
    "\n",
    "all_data.columns = [x.lower() for x in all_data.columns.values]\n",
    "\n",
    "# Создание колонки с названием улицы\n",
    "all_data['street'] = all_data['address'].str.split(', ', expand=True)[1]\n",
    "# Удаление лишних значений, попавшие в колонку с улицами\n",
    "all_data['street'] = all_data[all_data['street'].str.contains('поселение|город|дом|корпус|строение')==False]['street']\n",
    "all_data.dropna(inplace=True)\n",
    "all_data.head(5)"
   ]
  },
  {
   "cell_type": "code",
   "execution_count": 16,
   "metadata": {},
   "outputs": [
    {
     "data": {
      "text/html": [
       "<div>\n",
       "<style scoped>\n",
       "    .dataframe tbody tr th:only-of-type {\n",
       "        vertical-align: middle;\n",
       "    }\n",
       "\n",
       "    .dataframe tbody tr th {\n",
       "        vertical-align: top;\n",
       "    }\n",
       "\n",
       "    .dataframe thead th {\n",
       "        text-align: right;\n",
       "    }\n",
       "</style>\n",
       "<table border=\"1\" class=\"dataframe\">\n",
       "  <thead>\n",
       "    <tr style=\"text-align: right;\">\n",
       "      <th></th>\n",
       "      <th>admarea</th>\n",
       "      <th>district</th>\n",
       "      <th>street</th>\n",
       "      <th>count</th>\n",
       "    </tr>\n",
       "  </thead>\n",
       "  <tbody>\n",
       "    <tr>\n",
       "      <th>1196</th>\n",
       "      <td>Центральный административный округ</td>\n",
       "      <td>Пресненский район</td>\n",
       "      <td>Пресненская набережная</td>\n",
       "      <td>192</td>\n",
       "    </tr>\n",
       "    <tr>\n",
       "      <th>523</th>\n",
       "      <td>Северный административный округ</td>\n",
       "      <td>Хорошёвский район</td>\n",
       "      <td>Ходынский бульвар</td>\n",
       "      <td>124</td>\n",
       "    </tr>\n",
       "    <tr>\n",
       "      <th>1056</th>\n",
       "      <td>Центральный административный округ</td>\n",
       "      <td>Басманный район</td>\n",
       "      <td>улица Земляной Вал</td>\n",
       "      <td>91</td>\n",
       "    </tr>\n",
       "    <tr>\n",
       "      <th>1969</th>\n",
       "      <td>Южный административный округ</td>\n",
       "      <td>Даниловский район</td>\n",
       "      <td>улица Ленинская Слобода</td>\n",
       "      <td>87</td>\n",
       "    </tr>\n",
       "    <tr>\n",
       "      <th>1436</th>\n",
       "      <td>Центральный административный округ</td>\n",
       "      <td>район Арбат</td>\n",
       "      <td>улица Новый Арбат</td>\n",
       "      <td>86</td>\n",
       "    </tr>\n",
       "    <tr>\n",
       "      <th>2137</th>\n",
       "      <td>Южный административный округ</td>\n",
       "      <td>район Чертаново Центральное</td>\n",
       "      <td>Кировоградская улица</td>\n",
       "      <td>84</td>\n",
       "    </tr>\n",
       "    <tr>\n",
       "      <th>787</th>\n",
       "      <td>Северо-Восточный административный округ</td>\n",
       "      <td>район Марьина Роща</td>\n",
       "      <td>улица Сущёвский Вал</td>\n",
       "      <td>82</td>\n",
       "    </tr>\n",
       "    <tr>\n",
       "      <th>1459</th>\n",
       "      <td>Центральный административный округ</td>\n",
       "      <td>район Замоскворечье</td>\n",
       "      <td>Пятницкая улица</td>\n",
       "      <td>82</td>\n",
       "    </tr>\n",
       "    <tr>\n",
       "      <th>1062</th>\n",
       "      <td>Центральный административный округ</td>\n",
       "      <td>Басманный район</td>\n",
       "      <td>улица Покровка</td>\n",
       "      <td>77</td>\n",
       "    </tr>\n",
       "    <tr>\n",
       "      <th>342</th>\n",
       "      <td>Западный административный округ</td>\n",
       "      <td>район Раменки</td>\n",
       "      <td>Мичуринский проспект</td>\n",
       "      <td>76</td>\n",
       "    </tr>\n",
       "  </tbody>\n",
       "</table>\n",
       "</div>"
      ],
      "text/plain": [
       "                                      admarea                     district  \\\n",
       "1196       Центральный административный округ            Пресненский район   \n",
       "523           Северный административный округ            Хорошёвский район   \n",
       "1056       Центральный административный округ              Басманный район   \n",
       "1969             Южный административный округ            Даниловский район   \n",
       "1436       Центральный административный округ                  район Арбат   \n",
       "2137             Южный административный округ  район Чертаново Центральное   \n",
       "787   Северо-Восточный административный округ           район Марьина Роща   \n",
       "1459       Центральный административный округ          район Замоскворечье   \n",
       "1062       Центральный административный округ              Басманный район   \n",
       "342           Западный административный округ                район Раменки   \n",
       "\n",
       "                       street  count  \n",
       "1196   Пресненская набережная    192  \n",
       "523         Ходынский бульвар    124  \n",
       "1056       улица Земляной Вал     91  \n",
       "1969  улица Ленинская Слобода     87  \n",
       "1436        улица Новый Арбат     86  \n",
       "2137     Кировоградская улица     84  \n",
       "787       улица Сущёвский Вал     82  \n",
       "1459          Пятницкая улица     82  \n",
       "1062           улица Покровка     77  \n",
       "342      Мичуринский проспект     76  "
      ]
     },
     "execution_count": 16,
     "metadata": {},
     "output_type": "execute_result"
    }
   ],
   "source": [
    "# Выбор улиц, на которых больше всего заведений\n",
    "all_street_top_10 = ((all_data.groupby(['admarea','district','street'], as_index=False)['typeobject'].agg('count'))\n",
    "               .sort_values('typeobject', ascending=False).head(10))\n",
    "all_street_top_10.columns = ['admarea','district','street','count']\n",
    "all_street_top_10"
   ]
  },
  {
   "cell_type": "markdown",
   "metadata": {},
   "source": [
    "Большая часть районов, в которых расположены улицы, за исключением Чертаново, относятся к центральной части Москвы."
   ]
  },
  {
   "cell_type": "code",
   "execution_count": 17,
   "metadata": {},
   "outputs": [
    {
     "data": {
      "image/png": "[encoded data removed]",
      "text/plain": [
       "<Figure size 720x360 with 1 Axes>"
      ]
     },
     "metadata": {},
     "output_type": "display_data"
    }
   ],
   "source": [
    "# Построение графика\n",
    "plt.figure(figsize=(10, 5))\n",
    "sns.barplot(x='count', y='street', data=all_street_top_10)  \n",
    "plt.ylabel('')\n",
    "plt.xlabel('Количество объектов')\n",
    "plt.title(\"Топ-10 улиц по количеству заведений\")\n",
    "plt.show()"
   ]
  },
  {
   "cell_type": "markdown",
   "metadata": {},
   "source": [
    "По графику видно, что даже среди топ-10 есть фавориты: Пресненская набережная и Ходынский бульвар."
   ]
  },
  {
   "cell_type": "markdown",
   "metadata": {},
   "source": [
    "# 3.7 Исследование улиц с одним заведением"
   ]
  },
  {
   "cell_type": "code",
   "execution_count": 18,
   "metadata": {},
   "outputs": [
    {
     "data": {
      "text/plain": [
       "547"
      ]
     },
     "execution_count": 18,
     "metadata": {},
     "output_type": "execute_result"
    }
   ],
   "source": [
    "# Создание датасета, содержащем улицы с 1 заведением\n",
    "street_with_1 = rest_data.groupby('street', as_index=False)['object_type'].agg('count')\n",
    "street_with_1.columns = ['street','count']\n",
    "street_with_1 = street_with_1[street_with_1['count'] == 1]\n",
    "# Подсчет количества улиц с 1 заведением\n",
    "street_with_1['street'].count()"
   ]
  },
  {
   "cell_type": "code",
   "execution_count": 19,
   "metadata": {
    "scrolled": true
   },
   "outputs": [
    {
     "data": {
      "text/html": [
       "<div>\n",
       "<style scoped>\n",
       "    .dataframe tbody tr th:only-of-type {\n",
       "        vertical-align: middle;\n",
       "    }\n",
       "\n",
       "    .dataframe tbody tr th {\n",
       "        vertical-align: top;\n",
       "    }\n",
       "\n",
       "    .dataframe thead th {\n",
       "        text-align: right;\n",
       "    }\n",
       "</style>\n",
       "<table border=\"1\" class=\"dataframe\">\n",
       "  <thead>\n",
       "    <tr style=\"text-align: right;\">\n",
       "      <th></th>\n",
       "      <th>street</th>\n",
       "      <th>count</th>\n",
       "      <th>admarea</th>\n",
       "      <th>district</th>\n",
       "    </tr>\n",
       "  </thead>\n",
       "  <tbody>\n",
       "    <tr>\n",
       "      <th>0</th>\n",
       "      <td>1-й Басманный переулок</td>\n",
       "      <td>1</td>\n",
       "      <td>Центральный административный округ</td>\n",
       "      <td>Красносельский район</td>\n",
       "    </tr>\n",
       "    <tr>\n",
       "      <th>1</th>\n",
       "      <td>1-й Ботанический проезд</td>\n",
       "      <td>1</td>\n",
       "      <td>Северо-Восточный административный округ</td>\n",
       "      <td>район Свиблово</td>\n",
       "    </tr>\n",
       "    <tr>\n",
       "      <th>2</th>\n",
       "      <td>1-й Голутвинский переулок</td>\n",
       "      <td>1</td>\n",
       "      <td>Центральный административный округ</td>\n",
       "      <td>район Якиманка</td>\n",
       "    </tr>\n",
       "    <tr>\n",
       "      <th>3</th>\n",
       "      <td>1-й Кирпичный переулок</td>\n",
       "      <td>1</td>\n",
       "      <td>Восточный административный округ</td>\n",
       "      <td>район Соколиная Гора</td>\n",
       "    </tr>\n",
       "    <tr>\n",
       "      <th>4</th>\n",
       "      <td>1-й Кожевнический переулок</td>\n",
       "      <td>1</td>\n",
       "      <td>Южный административный округ</td>\n",
       "      <td>Даниловский район</td>\n",
       "    </tr>\n",
       "    <tr>\n",
       "      <th>5</th>\n",
       "      <td>1-й Коптельский переулок</td>\n",
       "      <td>1</td>\n",
       "      <td>Центральный административный округ</td>\n",
       "      <td>Красносельский район</td>\n",
       "    </tr>\n",
       "    <tr>\n",
       "      <th>6</th>\n",
       "      <td>1-й Котельнический переулок</td>\n",
       "      <td>1</td>\n",
       "      <td>Центральный административный округ</td>\n",
       "      <td>Таганский район</td>\n",
       "    </tr>\n",
       "    <tr>\n",
       "      <th>7</th>\n",
       "      <td>1-й Краснокурсантский проезд</td>\n",
       "      <td>1</td>\n",
       "      <td>Юго-Восточный административный округ</td>\n",
       "      <td>район Лефортово</td>\n",
       "    </tr>\n",
       "    <tr>\n",
       "      <th>8</th>\n",
       "      <td>1-й Лучевой просек</td>\n",
       "      <td>1</td>\n",
       "      <td>Восточный административный округ</td>\n",
       "      <td>район Сокольники</td>\n",
       "    </tr>\n",
       "    <tr>\n",
       "      <th>9</th>\n",
       "      <td>1-й Люсиновский переулок</td>\n",
       "      <td>1</td>\n",
       "      <td>Центральный административный округ</td>\n",
       "      <td>район Замоскворечье</td>\n",
       "    </tr>\n",
       "  </tbody>\n",
       "</table>\n",
       "</div>"
      ],
      "text/plain": [
       "                         street  count  \\\n",
       "0        1-й Басманный переулок      1   \n",
       "1       1-й Ботанический проезд      1   \n",
       "2     1-й Голутвинский переулок      1   \n",
       "3        1-й Кирпичный переулок      1   \n",
       "4    1-й Кожевнический переулок      1   \n",
       "5      1-й Коптельский переулок      1   \n",
       "6   1-й Котельнический переулок      1   \n",
       "7  1-й Краснокурсантский проезд      1   \n",
       "8            1-й Лучевой просек      1   \n",
       "9      1-й Люсиновский переулок      1   \n",
       "\n",
       "                                   admarea              district  \n",
       "0       Центральный административный округ  Красносельский район  \n",
       "1  Северо-Восточный административный округ        район Свиблово  \n",
       "2       Центральный административный округ        район Якиманка  \n",
       "3         Восточный административный округ  район Соколиная Гора  \n",
       "4             Южный административный округ     Даниловский район  \n",
       "5       Центральный административный округ  Красносельский район  \n",
       "6       Центральный административный округ       Таганский район  \n",
       "7     Юго-Восточный административный округ       район Лефортово  \n",
       "8         Восточный административный округ      район Сокольники  \n",
       "9       Центральный административный округ   район Замоскворечье  "
      ]
     },
     "metadata": {},
     "output_type": "display_data"
    }
   ],
   "source": [
    "# Соответствие каждой улице районов и округов, через которые проходят улицы\n",
    "street_with_1 = (street_with_1.merge(district_data, on='street').drop_duplicates()\n",
    "            .reset_index(drop=True))#.groupby(['admarea', 'district'], as_index=False)['street'].agg('count'))\n",
    "display(street_with_1.head(10))"
   ]
  },
  {
   "cell_type": "code",
   "execution_count": 20,
   "metadata": {},
   "outputs": [
    {
     "data": {
      "text/plain": [
       "495"
      ]
     },
     "execution_count": 20,
     "metadata": {},
     "output_type": "execute_result"
    }
   ],
   "source": [
    "# Создание датасета, содержащем улицы с 1 заведением\n",
    "all_street_with_1 = all_data.groupby('street', as_index=False)['typeobject'].agg('count')\n",
    "all_street_with_1.columns = ['street','count']\n",
    "all_street_with_1 = all_street_with_1[all_street_with_1['count'] == 1]\n",
    "# Подсчет улиц\n",
    "all_street_with_1['street'].count()"
   ]
  },
  {
   "cell_type": "code",
   "execution_count": 21,
   "metadata": {
    "scrolled": false
   },
   "outputs": [
    {
     "data": {
      "text/html": [
       "<div>\n",
       "<style scoped>\n",
       "    .dataframe tbody tr th:only-of-type {\n",
       "        vertical-align: middle;\n",
       "    }\n",
       "\n",
       "    .dataframe tbody tr th {\n",
       "        vertical-align: top;\n",
       "    }\n",
       "\n",
       "    .dataframe thead th {\n",
       "        text-align: right;\n",
       "    }\n",
       "</style>\n",
       "<table border=\"1\" class=\"dataframe\">\n",
       "  <thead>\n",
       "    <tr style=\"text-align: right;\">\n",
       "      <th></th>\n",
       "      <th>street</th>\n",
       "      <th>count</th>\n",
       "      <th>admarea</th>\n",
       "      <th>district</th>\n",
       "    </tr>\n",
       "  </thead>\n",
       "  <tbody>\n",
       "    <tr>\n",
       "      <th>0</th>\n",
       "      <td>1-й Басманный переулок</td>\n",
       "      <td>1</td>\n",
       "      <td>Центральный административный округ</td>\n",
       "      <td>Красносельский район</td>\n",
       "    </tr>\n",
       "    <tr>\n",
       "      <th>1</th>\n",
       "      <td>1-й Ботанический проезд</td>\n",
       "      <td>1</td>\n",
       "      <td>Северо-Восточный административный округ</td>\n",
       "      <td>район Свиблово</td>\n",
       "    </tr>\n",
       "    <tr>\n",
       "      <th>2</th>\n",
       "      <td>1-й Голутвинский переулок</td>\n",
       "      <td>1</td>\n",
       "      <td>Центральный административный округ</td>\n",
       "      <td>район Якиманка</td>\n",
       "    </tr>\n",
       "    <tr>\n",
       "      <th>3</th>\n",
       "      <td>1-й Грайвороновский проезд</td>\n",
       "      <td>1</td>\n",
       "      <td>Юго-Восточный административный округ</td>\n",
       "      <td>район Текстильщики</td>\n",
       "    </tr>\n",
       "    <tr>\n",
       "      <th>4</th>\n",
       "      <td>1-й Дербеневский переулок</td>\n",
       "      <td>1</td>\n",
       "      <td>Южный административный округ</td>\n",
       "      <td>Даниловский район</td>\n",
       "    </tr>\n",
       "    <tr>\n",
       "      <th>5</th>\n",
       "      <td>1-й Кирпичный переулок</td>\n",
       "      <td>1</td>\n",
       "      <td>Восточный административный округ</td>\n",
       "      <td>район Соколиная Гора</td>\n",
       "    </tr>\n",
       "    <tr>\n",
       "      <th>6</th>\n",
       "      <td>1-й Кожевнический переулок</td>\n",
       "      <td>1</td>\n",
       "      <td>Южный административный округ</td>\n",
       "      <td>Даниловский район</td>\n",
       "    </tr>\n",
       "    <tr>\n",
       "      <th>7</th>\n",
       "      <td>1-й Коптельский переулок</td>\n",
       "      <td>1</td>\n",
       "      <td>Центральный административный округ</td>\n",
       "      <td>Красносельский район</td>\n",
       "    </tr>\n",
       "    <tr>\n",
       "      <th>8</th>\n",
       "      <td>1-й Котельнический переулок</td>\n",
       "      <td>1</td>\n",
       "      <td>Центральный административный округ</td>\n",
       "      <td>Таганский район</td>\n",
       "    </tr>\n",
       "    <tr>\n",
       "      <th>9</th>\n",
       "      <td>1-й Котляковский переулок</td>\n",
       "      <td>1</td>\n",
       "      <td>Южный административный округ</td>\n",
       "      <td>район Москворечье-Сабурово</td>\n",
       "    </tr>\n",
       "  </tbody>\n",
       "</table>\n",
       "</div>"
      ],
      "text/plain": [
       "                        street  count  \\\n",
       "0       1-й Басманный переулок      1   \n",
       "1      1-й Ботанический проезд      1   \n",
       "2    1-й Голутвинский переулок      1   \n",
       "3   1-й Грайвороновский проезд      1   \n",
       "4    1-й Дербеневский переулок      1   \n",
       "5       1-й Кирпичный переулок      1   \n",
       "6   1-й Кожевнический переулок      1   \n",
       "7     1-й Коптельский переулок      1   \n",
       "8  1-й Котельнический переулок      1   \n",
       "9    1-й Котляковский переулок      1   \n",
       "\n",
       "                                   admarea                    district  \n",
       "0       Центральный административный округ        Красносельский район  \n",
       "1  Северо-Восточный административный округ              район Свиблово  \n",
       "2       Центральный административный округ              район Якиманка  \n",
       "3     Юго-Восточный административный округ          район Текстильщики  \n",
       "4             Южный административный округ           Даниловский район  \n",
       "5         Восточный административный округ        район Соколиная Гора  \n",
       "6             Южный административный округ           Даниловский район  \n",
       "7       Центральный административный округ        Красносельский район  \n",
       "8       Центральный административный округ             Таганский район  \n",
       "9             Южный административный округ  район Москворечье-Сабурово  "
      ]
     },
     "execution_count": 21,
     "metadata": {},
     "output_type": "execute_result"
    }
   ],
   "source": [
    "# Объединение с датасетом, содержащим районы\n",
    "all_street_with_1 = all_street_with_1.merge(district_data, on='street').drop_duplicates().reset_index(drop=True)\n",
    "all_street_with_1.head(10)"
   ]
  },
  {
   "cell_type": "code",
   "execution_count": 22,
   "metadata": {},
   "outputs": [
    {
     "data": {
      "text/html": [
       "<div>\n",
       "<style scoped>\n",
       "    .dataframe tbody tr th:only-of-type {\n",
       "        vertical-align: middle;\n",
       "    }\n",
       "\n",
       "    .dataframe tbody tr th {\n",
       "        vertical-align: top;\n",
       "    }\n",
       "\n",
       "    .dataframe thead th {\n",
       "        text-align: right;\n",
       "    }\n",
       "</style>\n",
       "<table border=\"1\" class=\"dataframe\">\n",
       "  <thead>\n",
       "    <tr style=\"text-align: right;\">\n",
       "      <th></th>\n",
       "      <th>admarea</th>\n",
       "      <th>street</th>\n",
       "    </tr>\n",
       "  </thead>\n",
       "  <tbody>\n",
       "    <tr>\n",
       "      <th>8</th>\n",
       "      <td>Центральный административный округ</td>\n",
       "      <td>157</td>\n",
       "    </tr>\n",
       "    <tr>\n",
       "      <th>5</th>\n",
       "      <td>Северо-Восточный административный округ</td>\n",
       "      <td>58</td>\n",
       "    </tr>\n",
       "    <tr>\n",
       "      <th>0</th>\n",
       "      <td>Восточный административный округ</td>\n",
       "      <td>56</td>\n",
       "    </tr>\n",
       "    <tr>\n",
       "      <th>9</th>\n",
       "      <td>Юго-Восточный административный округ</td>\n",
       "      <td>52</td>\n",
       "    </tr>\n",
       "    <tr>\n",
       "      <th>4</th>\n",
       "      <td>Северный административный округ</td>\n",
       "      <td>44</td>\n",
       "    </tr>\n",
       "    <tr>\n",
       "      <th>1</th>\n",
       "      <td>Западный административный округ</td>\n",
       "      <td>34</td>\n",
       "    </tr>\n",
       "    <tr>\n",
       "      <th>11</th>\n",
       "      <td>Южный административный округ</td>\n",
       "      <td>33</td>\n",
       "    </tr>\n",
       "    <tr>\n",
       "      <th>6</th>\n",
       "      <td>Северо-Западный административный округ</td>\n",
       "      <td>31</td>\n",
       "    </tr>\n",
       "    <tr>\n",
       "      <th>10</th>\n",
       "      <td>Юго-Западный административный округ</td>\n",
       "      <td>21</td>\n",
       "    </tr>\n",
       "    <tr>\n",
       "      <th>3</th>\n",
       "      <td>Новомосковский административный округ</td>\n",
       "      <td>5</td>\n",
       "    </tr>\n",
       "    <tr>\n",
       "      <th>7</th>\n",
       "      <td>Троицкий административный округ</td>\n",
       "      <td>3</td>\n",
       "    </tr>\n",
       "    <tr>\n",
       "      <th>2</th>\n",
       "      <td>Зеленоградский административный округ</td>\n",
       "      <td>1</td>\n",
       "    </tr>\n",
       "  </tbody>\n",
       "</table>\n",
       "</div>"
      ],
      "text/plain": [
       "                                    admarea  street\n",
       "8        Центральный административный округ     157\n",
       "5   Северо-Восточный административный округ      58\n",
       "0          Восточный административный округ      56\n",
       "9      Юго-Восточный административный округ      52\n",
       "4           Северный административный округ      44\n",
       "1           Западный административный округ      34\n",
       "11             Южный административный округ      33\n",
       "6    Северо-Западный административный округ      31\n",
       "10      Юго-Западный административный округ      21\n",
       "3     Новомосковский административный округ       5\n",
       "7           Троицкий административный округ       3\n",
       "2     Зеленоградский административный округ       1"
      ]
     },
     "execution_count": 22,
     "metadata": {},
     "output_type": "execute_result"
    }
   ],
   "source": [
    "# Группировка по округам, где больше всего улиц с 1 заведением\n",
    "area_with_1 = all_street_with_1.groupby('admarea', as_index=False)['street'].agg('count')\n",
    "area_with_1.sort_values('street', ascending=False)"
   ]
  },
  {
   "cell_type": "markdown",
   "metadata": {},
   "source": [
    "Больше всего свободных улиц в ЦАО, теперь можно посмотреть районы ЦАО, где больше всего свободных улиц."
   ]
  },
  {
   "cell_type": "code",
   "execution_count": 23,
   "metadata": {
    "scrolled": false
   },
   "outputs": [
    {
     "data": {
      "text/html": [
       "<div>\n",
       "<style scoped>\n",
       "    .dataframe tbody tr th:only-of-type {\n",
       "        vertical-align: middle;\n",
       "    }\n",
       "\n",
       "    .dataframe tbody tr th {\n",
       "        vertical-align: top;\n",
       "    }\n",
       "\n",
       "    .dataframe thead th {\n",
       "        text-align: right;\n",
       "    }\n",
       "</style>\n",
       "<table border=\"1\" class=\"dataframe\">\n",
       "  <thead>\n",
       "    <tr style=\"text-align: right;\">\n",
       "      <th></th>\n",
       "      <th>district</th>\n",
       "      <th>street</th>\n",
       "    </tr>\n",
       "  </thead>\n",
       "  <tbody>\n",
       "    <tr>\n",
       "      <th>4</th>\n",
       "      <td>Таганский район</td>\n",
       "      <td>27</td>\n",
       "    </tr>\n",
       "    <tr>\n",
       "      <th>8</th>\n",
       "      <td>район Хамовники</td>\n",
       "      <td>23</td>\n",
       "    </tr>\n",
       "    <tr>\n",
       "      <th>3</th>\n",
       "      <td>Пресненский район</td>\n",
       "      <td>20</td>\n",
       "    </tr>\n",
       "    <tr>\n",
       "      <th>5</th>\n",
       "      <td>Тверской район</td>\n",
       "      <td>20</td>\n",
       "    </tr>\n",
       "    <tr>\n",
       "      <th>0</th>\n",
       "      <td>Басманный район</td>\n",
       "      <td>19</td>\n",
       "    </tr>\n",
       "    <tr>\n",
       "      <th>1</th>\n",
       "      <td>Красносельский район</td>\n",
       "      <td>11</td>\n",
       "    </tr>\n",
       "    <tr>\n",
       "      <th>2</th>\n",
       "      <td>Мещанский район</td>\n",
       "      <td>10</td>\n",
       "    </tr>\n",
       "    <tr>\n",
       "      <th>9</th>\n",
       "      <td>район Якиманка</td>\n",
       "      <td>10</td>\n",
       "    </tr>\n",
       "    <tr>\n",
       "      <th>6</th>\n",
       "      <td>район Арбат</td>\n",
       "      <td>9</td>\n",
       "    </tr>\n",
       "    <tr>\n",
       "      <th>7</th>\n",
       "      <td>район Замоскворечье</td>\n",
       "      <td>8</td>\n",
       "    </tr>\n",
       "  </tbody>\n",
       "</table>\n",
       "</div>"
      ],
      "text/plain": [
       "               district  street\n",
       "4       Таганский район      27\n",
       "8       район Хамовники      23\n",
       "3     Пресненский район      20\n",
       "5        Тверской район      20\n",
       "0       Басманный район      19\n",
       "1  Красносельский район      11\n",
       "2       Мещанский район      10\n",
       "9        район Якиманка      10\n",
       "6           район Арбат       9\n",
       "7   район Замоскворечье       8"
      ]
     },
     "execution_count": 23,
     "metadata": {},
     "output_type": "execute_result"
    }
   ],
   "source": [
    "# display(street_with_1[street_with_1['admarea']=='Центральный административный округ'])\n",
    "cao_region = (all_street_with_1[all_street_with_1['admarea']=='Центральный административный округ']\n",
    "              .groupby('district', as_index=False)['street'].agg('count'))\n",
    "cao_region.sort_values('street', ascending=False)"
   ]
  },
  {
   "cell_type": "markdown",
   "metadata": {},
   "source": [
    "Районы с самым большим числом свободных улиц: Таганский, Хамовники, Пресненский."
   ]
  },
  {
   "cell_type": "markdown",
   "metadata": {},
   "source": [
    "# 3.8 Исследование распределения количества мест для улиц с большим количеством заведений"
   ]
  },
  {
   "cell_type": "code",
   "execution_count": 24,
   "metadata": {},
   "outputs": [
    {
     "name": "stdout",
     "output_type": "stream",
     "text": [
      "[138.2 200.  300. ]\n"
     ]
    },
    {
     "data": {
      "image/png": "[encoded data removed]",
      "text/plain": [
       "<Figure size 720x360 with 1 Axes>"
      ]
     },
     "metadata": {},
     "output_type": "display_data"
    }
   ],
   "source": [
    "# Поиск в общем датасете ресторанов, которые находятся на топовых улицах\n",
    "rest_dist = rest_data[rest_data['street'].isin(street_top_10['street'])]\n",
    "\n",
    "# Вывод персентилей, чтобы немного отфильтровать данные для графика\n",
    "print(np.percentile(rest_dist['number'], [90, 95, 99]))\n",
    "\n",
    "# Построение графика\n",
    "plt.figure(figsize=(10, 5))\n",
    "sns.boxplot(data=rest_dist[rest_dist['number'] < 140], y='street', x='number') \n",
    "plt.ylabel('')\n",
    "plt.xlabel('Количество мест')\n",
    "plt.title(\"Распределение мест для улиц с большим количеством заведений\")\n",
    "plt.show()"
   ]
  },
  {
   "cell_type": "markdown",
   "metadata": {},
   "source": [
    "По графику можно сказать, что на \"топовых\" улицах преобладают заведения с малым числом мест, самое высокое медианное значение ~40 мест."
   ]
  },
  {
   "cell_type": "code",
   "execution_count": 25,
   "metadata": {},
   "outputs": [
    {
     "name": "stdout",
     "output_type": "stream",
     "text": [
      "[119.4  160.   297.01]\n"
     ]
    },
    {
     "data": {
      "image/png": "[encoded data removed]",
      "text/plain": [
       "<Figure size 720x360 with 1 Axes>"
      ]
     },
     "metadata": {},
     "output_type": "display_data"
    }
   ],
   "source": [
    "# Поиск в общем датасете ресторанов, которые находятся на топовых улицах\n",
    "rest_dist = rest_data[rest_data['street'].isin(all_street_top_10['street'])]\n",
    "\n",
    "# Вывод персентилей, чтобы немного отфильтровать данные для графика\n",
    "print(np.percentile(rest_dist['number'], [90, 95, 99]))\n",
    "\n",
    "# Построение графика\n",
    "plt.figure(figsize=(10, 5))\n",
    "sns.boxplot(data=rest_dist[rest_dist['number'] < 140], y='street', x='number') \n",
    "plt.ylabel('')\n",
    "plt.xlabel('Количество мест')\n",
    "plt.title(\"Распределение мест для улиц с большим количеством заведений\")\n",
    "plt.show()"
   ]
  },
  {
   "cell_type": "markdown",
   "metadata": {},
   "source": [
    "По графику можно сказать, что на \"топовых\" улицах преобладают заведения с малым числом мест, самое высокое медианное значение ~40 мест."
   ]
  },
  {
   "cell_type": "markdown",
   "metadata": {},
   "source": [
    "# Часть 4. Подведение итогов\n",
    "# 4.1 Общие выводы по работе"
   ]
  },
  {
   "cell_type": "markdown",
   "metadata": {},
   "source": [
    "В качестве типа открываемого заведения стоит выбрать кафе или предприятие быстрого обслуживания (QSR). Кафе стоит рассматривать т.к. это наиболее распространенный вид заведений в целом, к тому же можно развить небольшую сеть, если же упор на сетевое развитие, то стоит открыть QSR (типа mcdonald's), к тому при должной настройке роботы позволят быстро обслуживать клиентов.<br>\n",
    "В среднем стоит ориентироваться на 40 посадочных мест в открываемом заведении.<br> \n",
    "Заведение стоит открыть в одном из следующих районов центрального административного округа: Таганский, Хамовники или Пресненский, при этом стоит обратить внимание на улицы с малым числом заведений.  Можно провести дополнительное исследование по посещаемости людей того или иного района, чтобы точнее выбрать место для кафе. <br>"
   ]
  }
 ],
 "metadata": {
  "ExecuteTimeLog": [
   {
    "duration": 1801,
    "start_time": "2022-04-09T12:35:51.428Z"
   },
   {
    "duration": 153,
    "start_time": "2022-04-09T12:38:12.977Z"
   },
   {
    "duration": 1442,
    "start_time": "2022-04-09T12:38:19.649Z"
   },
   {
    "duration": 165,
    "start_time": "2022-04-09T12:38:21.094Z"
   },
   {
    "duration": 77,
    "start_time": "2022-04-09T12:38:21.261Z"
   },
   {
    "duration": 75,
    "start_time": "2022-04-09T12:41:45.725Z"
   },
   {
    "duration": 146,
    "start_time": "2022-04-09T12:44:13.813Z"
   },
   {
    "duration": 16,
    "start_time": "2022-04-09T12:44:19.377Z"
   },
   {
    "duration": 22,
    "start_time": "2022-04-09T12:44:36.477Z"
   },
   {
    "duration": 11,
    "start_time": "2022-04-09T12:45:01.542Z"
   },
   {
    "duration": 14,
    "start_time": "2022-04-09T12:45:07.372Z"
   },
   {
    "duration": 10,
    "start_time": "2022-04-09T12:45:11.108Z"
   },
   {
    "duration": 13,
    "start_time": "2022-04-09T12:45:14.268Z"
   },
   {
    "duration": 12,
    "start_time": "2022-04-09T12:45:56.909Z"
   },
   {
    "duration": 15,
    "start_time": "2022-04-09T12:46:11.045Z"
   },
   {
    "duration": 10,
    "start_time": "2022-04-09T12:46:17.388Z"
   },
   {
    "duration": 13,
    "start_time": "2022-04-09T12:46:21.522Z"
   },
   {
    "duration": 12,
    "start_time": "2022-04-09T12:52:27.838Z"
   },
   {
    "duration": 17,
    "start_time": "2022-04-09T12:57:33.622Z"
   },
   {
    "duration": 189,
    "start_time": "2022-04-09T12:57:42.149Z"
   },
   {
    "duration": 13,
    "start_time": "2022-04-09T12:57:51.685Z"
   },
   {
    "duration": 10,
    "start_time": "2022-04-09T13:02:47.106Z"
   },
   {
    "duration": 16,
    "start_time": "2022-04-09T13:02:55.634Z"
   },
   {
    "duration": 15,
    "start_time": "2022-04-09T13:03:06.921Z"
   },
   {
    "duration": 12,
    "start_time": "2022-04-09T13:17:13.004Z"
   },
   {
    "duration": 15,
    "start_time": "2022-04-09T13:17:32.431Z"
   },
   {
    "duration": 18,
    "start_time": "2022-04-09T13:17:39.943Z"
   },
   {
    "duration": 16,
    "start_time": "2022-04-09T13:17:53.048Z"
   },
   {
    "duration": 15,
    "start_time": "2022-04-09T13:18:25.391Z"
   },
   {
    "duration": 19,
    "start_time": "2022-04-09T13:33:04.406Z"
   },
   {
    "duration": 4376,
    "start_time": "2022-04-09T13:34:52.468Z"
   },
   {
    "duration": 570,
    "start_time": "2022-04-09T13:35:55.886Z"
   },
   {
    "duration": 1448,
    "start_time": "2022-04-09T13:36:39.847Z"
   },
   {
    "duration": 65,
    "start_time": "2022-04-09T13:36:41.298Z"
   },
   {
    "duration": 116,
    "start_time": "2022-04-09T13:36:41.365Z"
   },
   {
    "duration": 18,
    "start_time": "2022-04-09T13:36:41.483Z"
   },
   {
    "duration": 4387,
    "start_time": "2022-04-09T13:36:41.503Z"
   },
   {
    "duration": 610,
    "start_time": "2022-04-09T13:36:47.990Z"
   },
   {
    "duration": 453,
    "start_time": "2022-04-09T13:36:58.651Z"
   },
   {
    "duration": 1416,
    "start_time": "2022-04-09T13:37:11.370Z"
   },
   {
    "duration": 64,
    "start_time": "2022-04-09T13:37:12.789Z"
   },
   {
    "duration": 94,
    "start_time": "2022-04-09T13:37:12.855Z"
   },
   {
    "duration": 17,
    "start_time": "2022-04-09T13:37:12.975Z"
   },
   {
    "duration": 4364,
    "start_time": "2022-04-09T13:37:12.994Z"
   },
   {
    "duration": 15,
    "start_time": "2022-04-09T13:37:46.465Z"
   },
   {
    "duration": 1524,
    "start_time": "2022-04-09T13:37:57.598Z"
   },
   {
    "duration": 65,
    "start_time": "2022-04-09T13:37:59.125Z"
   },
   {
    "duration": 118,
    "start_time": "2022-04-09T13:37:59.193Z"
   },
   {
    "duration": 18,
    "start_time": "2022-04-09T13:37:59.314Z"
   },
   {
    "duration": 32,
    "start_time": "2022-04-09T13:38:33.232Z"
   },
   {
    "duration": 33,
    "start_time": "2022-04-09T13:39:03.945Z"
   },
   {
    "duration": 28,
    "start_time": "2022-04-09T13:39:24.760Z"
   },
   {
    "duration": 1436,
    "start_time": "2022-04-09T13:39:31.953Z"
   },
   {
    "duration": 63,
    "start_time": "2022-04-09T13:39:33.392Z"
   },
   {
    "duration": 116,
    "start_time": "2022-04-09T13:39:33.457Z"
   },
   {
    "duration": 29,
    "start_time": "2022-04-09T13:39:33.576Z"
   },
   {
    "duration": 4328,
    "start_time": "2022-04-09T13:42:11.245Z"
   },
   {
    "duration": 1628,
    "start_time": "2022-04-09T13:43:19.437Z"
   },
   {
    "duration": 1483,
    "start_time": "2022-04-09T13:43:32.916Z"
   },
   {
    "duration": 64,
    "start_time": "2022-04-09T13:43:34.401Z"
   },
   {
    "duration": 112,
    "start_time": "2022-04-09T13:43:34.467Z"
   },
   {
    "duration": 1763,
    "start_time": "2022-04-09T13:43:34.582Z"
   },
   {
    "duration": 1466,
    "start_time": "2022-04-09T13:44:40.460Z"
   },
   {
    "duration": 1415,
    "start_time": "2022-04-09T13:44:53.378Z"
   },
   {
    "duration": 72,
    "start_time": "2022-04-09T13:44:54.796Z"
   },
   {
    "duration": 123,
    "start_time": "2022-04-09T13:44:54.870Z"
   },
   {
    "duration": 1620,
    "start_time": "2022-04-09T13:44:54.997Z"
   },
   {
    "duration": 1760,
    "start_time": "2022-04-09T13:45:04.068Z"
   },
   {
    "duration": 1452,
    "start_time": "2022-04-09T13:48:36.900Z"
   },
   {
    "duration": 64,
    "start_time": "2022-04-09T13:48:38.354Z"
   },
   {
    "duration": 109,
    "start_time": "2022-04-09T13:48:38.420Z"
   },
   {
    "duration": 140,
    "start_time": "2022-04-09T13:48:38.532Z"
   },
   {
    "duration": 7,
    "start_time": "2022-04-09T13:49:47.777Z"
   },
   {
    "duration": 11,
    "start_time": "2022-04-09T13:49:52.021Z"
   },
   {
    "duration": 22,
    "start_time": "2022-04-09T13:49:58.479Z"
   },
   {
    "duration": 1572,
    "start_time": "2022-04-09T13:50:08.530Z"
   },
   {
    "duration": 65,
    "start_time": "2022-04-09T13:50:10.105Z"
   },
   {
    "duration": 109,
    "start_time": "2022-04-09T13:50:10.174Z"
   },
   {
    "duration": 20,
    "start_time": "2022-04-09T13:50:10.286Z"
   },
   {
    "duration": 1666,
    "start_time": "2022-04-09T13:50:10.308Z"
   },
   {
    "duration": 12,
    "start_time": "2022-04-09T13:50:49.043Z"
   },
   {
    "duration": 15,
    "start_time": "2022-04-09T13:50:53.455Z"
   },
   {
    "duration": 26,
    "start_time": "2022-04-09T13:51:03.257Z"
   },
   {
    "duration": 1602,
    "start_time": "2022-04-09T13:51:36.291Z"
   },
   {
    "duration": 65,
    "start_time": "2022-04-09T13:51:37.896Z"
   },
   {
    "duration": 120,
    "start_time": "2022-04-09T13:51:37.966Z"
   },
   {
    "duration": 25,
    "start_time": "2022-04-09T13:51:38.088Z"
   },
   {
    "duration": 1680,
    "start_time": "2022-04-09T13:51:38.115Z"
   },
   {
    "duration": 1619,
    "start_time": "2022-04-09T13:52:13.102Z"
   },
   {
    "duration": 7,
    "start_time": "2022-04-09T13:52:33.111Z"
   },
   {
    "duration": 11,
    "start_time": "2022-04-09T13:52:37.194Z"
   },
   {
    "duration": 24,
    "start_time": "2022-04-09T13:52:41.385Z"
   },
   {
    "duration": 1374,
    "start_time": "2022-04-09T14:29:35.816Z"
   },
   {
    "duration": 64,
    "start_time": "2022-04-09T14:29:37.193Z"
   },
   {
    "duration": 119,
    "start_time": "2022-04-09T14:29:37.260Z"
   },
   {
    "duration": 8,
    "start_time": "2022-04-09T14:42:23.443Z"
   },
   {
    "duration": 262,
    "start_time": "2022-04-09T14:57:07.848Z"
   },
   {
    "duration": 24,
    "start_time": "2022-04-09T14:57:17.498Z"
   },
   {
    "duration": 10,
    "start_time": "2022-04-09T14:58:32.905Z"
   },
   {
    "duration": 9,
    "start_time": "2022-04-09T14:58:45.053Z"
   },
   {
    "duration": 6,
    "start_time": "2022-04-09T14:58:50.942Z"
   },
   {
    "duration": 6,
    "start_time": "2022-04-09T14:59:40.181Z"
   },
   {
    "duration": 9,
    "start_time": "2022-04-09T14:59:43.958Z"
   },
   {
    "duration": 8,
    "start_time": "2022-04-09T14:59:53.677Z"
   },
   {
    "duration": 9,
    "start_time": "2022-04-09T15:00:09.045Z"
   },
   {
    "duration": 4,
    "start_time": "2022-04-09T15:01:39.222Z"
   },
   {
    "duration": 6,
    "start_time": "2022-04-09T15:01:42.804Z"
   },
   {
    "duration": 4,
    "start_time": "2022-04-09T15:02:54.628Z"
   },
   {
    "duration": 12,
    "start_time": "2022-04-09T15:03:02.322Z"
   },
   {
    "duration": 19,
    "start_time": "2022-04-09T15:03:06.603Z"
   },
   {
    "duration": 20,
    "start_time": "2022-04-09T15:03:32.057Z"
   },
   {
    "duration": 15,
    "start_time": "2022-04-09T15:12:12.167Z"
   },
   {
    "duration": 16,
    "start_time": "2022-04-09T15:12:20.869Z"
   },
   {
    "duration": 16,
    "start_time": "2022-04-09T15:12:24.773Z"
   },
   {
    "duration": 25,
    "start_time": "2022-04-09T15:13:40.054Z"
   },
   {
    "duration": 14,
    "start_time": "2022-04-09T15:13:43.244Z"
   },
   {
    "duration": 115,
    "start_time": "2022-04-09T15:13:50.732Z"
   },
   {
    "duration": 273,
    "start_time": "2022-04-09T15:13:54.153Z"
   },
   {
    "duration": 294,
    "start_time": "2022-04-09T15:19:22.545Z"
   },
   {
    "duration": 306,
    "start_time": "2022-04-09T15:19:26.513Z"
   },
   {
    "duration": 40,
    "start_time": "2022-04-09T15:22:01.768Z"
   },
   {
    "duration": 246,
    "start_time": "2022-04-09T15:22:15.650Z"
   },
   {
    "duration": 244,
    "start_time": "2022-04-09T15:22:33.462Z"
   },
   {
    "duration": 245,
    "start_time": "2022-04-09T15:22:47.631Z"
   },
   {
    "duration": 284,
    "start_time": "2022-04-09T15:23:03.903Z"
   },
   {
    "duration": 237,
    "start_time": "2022-04-09T15:23:56.920Z"
   },
   {
    "duration": 369,
    "start_time": "2022-04-09T15:24:02.336Z"
   },
   {
    "duration": 289,
    "start_time": "2022-04-09T15:25:06.494Z"
   },
   {
    "duration": 309,
    "start_time": "2022-04-09T15:25:28.913Z"
   },
   {
    "duration": 317,
    "start_time": "2022-04-09T15:25:45.064Z"
   },
   {
    "duration": 19,
    "start_time": "2022-04-09T15:26:08.258Z"
   },
   {
    "duration": 18,
    "start_time": "2022-04-09T15:26:12.933Z"
   },
   {
    "duration": 399,
    "start_time": "2022-04-09T15:28:19.685Z"
   },
   {
    "duration": 395,
    "start_time": "2022-04-09T15:28:40.859Z"
   },
   {
    "duration": 367,
    "start_time": "2022-04-09T15:28:53.516Z"
   },
   {
    "duration": 397,
    "start_time": "2022-04-09T15:29:07.636Z"
   },
   {
    "duration": 392,
    "start_time": "2022-04-09T15:29:10.282Z"
   },
   {
    "duration": 420,
    "start_time": "2022-04-09T15:29:24.108Z"
   },
   {
    "duration": 372,
    "start_time": "2022-04-09T15:29:29.974Z"
   },
   {
    "duration": 400,
    "start_time": "2022-04-09T15:29:33.194Z"
   },
   {
    "duration": 2055,
    "start_time": "2022-04-09T15:29:38.186Z"
   },
   {
    "duration": 101,
    "start_time": "2022-04-09T15:29:40.245Z"
   },
   {
    "duration": 132,
    "start_time": "2022-04-09T15:29:40.349Z"
   },
   {
    "duration": 7,
    "start_time": "2022-04-09T15:29:40.485Z"
   },
   {
    "duration": 420,
    "start_time": "2022-04-09T15:29:40.494Z"
   },
   {
    "duration": 163,
    "start_time": "2022-04-09T15:30:27.622Z"
   },
   {
    "duration": 270,
    "start_time": "2022-04-09T15:30:35.431Z"
   },
   {
    "duration": 252,
    "start_time": "2022-04-09T15:30:38.478Z"
   },
   {
    "duration": 26,
    "start_time": "2022-04-09T15:30:41.701Z"
   },
   {
    "duration": 30,
    "start_time": "2022-04-09T15:30:49.055Z"
   },
   {
    "duration": 277,
    "start_time": "2022-04-09T15:30:52.743Z"
   },
   {
    "duration": 276,
    "start_time": "2022-04-09T15:31:40.174Z"
   },
   {
    "duration": 272,
    "start_time": "2022-04-09T15:32:13.901Z"
   },
   {
    "duration": 284,
    "start_time": "2022-04-09T15:32:16.791Z"
   },
   {
    "duration": 196,
    "start_time": "2022-04-09T15:32:42.229Z"
   },
   {
    "duration": 351,
    "start_time": "2022-04-09T15:32:53.512Z"
   },
   {
    "duration": 1477,
    "start_time": "2022-04-09T15:32:58.937Z"
   },
   {
    "duration": 70,
    "start_time": "2022-04-09T15:33:00.417Z"
   },
   {
    "duration": 115,
    "start_time": "2022-04-09T15:33:00.490Z"
   },
   {
    "duration": 7,
    "start_time": "2022-04-09T15:33:00.608Z"
   },
   {
    "duration": 319,
    "start_time": "2022-04-09T15:33:00.617Z"
   },
   {
    "duration": 271,
    "start_time": "2022-04-09T15:33:26.213Z"
   },
   {
    "duration": 279,
    "start_time": "2022-04-09T15:34:07.181Z"
   },
   {
    "duration": 272,
    "start_time": "2022-04-09T15:34:28.964Z"
   },
   {
    "duration": 283,
    "start_time": "2022-04-09T15:34:33.076Z"
   },
   {
    "duration": 421,
    "start_time": "2022-04-09T15:34:38.419Z"
   },
   {
    "duration": 272,
    "start_time": "2022-04-09T15:34:47.213Z"
   },
   {
    "duration": 342,
    "start_time": "2022-04-09T15:39:48.321Z"
   },
   {
    "duration": 413,
    "start_time": "2022-04-09T15:40:02.915Z"
   },
   {
    "duration": 320,
    "start_time": "2022-04-09T15:40:08.801Z"
   },
   {
    "duration": 484,
    "start_time": "2022-04-09T15:46:40.974Z"
   },
   {
    "duration": 519,
    "start_time": "2022-04-09T15:46:48.675Z"
   },
   {
    "duration": 378,
    "start_time": "2022-04-09T15:47:31.460Z"
   },
   {
    "duration": 415,
    "start_time": "2022-04-09T15:48:04.851Z"
   },
   {
    "duration": 340,
    "start_time": "2022-04-09T15:48:46.050Z"
   },
   {
    "duration": 334,
    "start_time": "2022-04-09T15:48:54.595Z"
   },
   {
    "duration": 1497,
    "start_time": "2022-04-09T19:49:44.619Z"
   },
   {
    "duration": 76,
    "start_time": "2022-04-09T19:49:46.118Z"
   },
   {
    "duration": 78,
    "start_time": "2022-04-09T19:49:46.196Z"
   },
   {
    "duration": 7,
    "start_time": "2022-04-09T19:49:46.277Z"
   },
   {
    "duration": 272,
    "start_time": "2022-04-09T19:49:46.286Z"
   },
   {
    "duration": 17,
    "start_time": "2022-04-09T20:01:53.503Z"
   },
   {
    "duration": 230,
    "start_time": "2022-04-09T20:02:25.039Z"
   },
   {
    "duration": 229,
    "start_time": "2022-04-09T20:03:31.863Z"
   },
   {
    "duration": 230,
    "start_time": "2022-04-09T20:05:40.360Z"
   },
   {
    "duration": 227,
    "start_time": "2022-04-09T20:06:52.159Z"
   },
   {
    "duration": 237,
    "start_time": "2022-04-09T20:07:01.357Z"
   },
   {
    "duration": 10,
    "start_time": "2022-04-09T20:15:54.538Z"
   },
   {
    "duration": 9,
    "start_time": "2022-04-09T20:15:57.519Z"
   },
   {
    "duration": 16,
    "start_time": "2022-04-09T20:15:59.031Z"
   },
   {
    "duration": 231,
    "start_time": "2022-04-09T20:17:26.530Z"
   },
   {
    "duration": 479,
    "start_time": "2022-04-09T20:20:24.595Z"
   },
   {
    "duration": 309,
    "start_time": "2022-04-09T20:21:03.884Z"
   },
   {
    "duration": 224,
    "start_time": "2022-04-09T20:22:34.148Z"
   },
   {
    "duration": 229,
    "start_time": "2022-04-09T20:23:17.739Z"
   },
   {
    "duration": 230,
    "start_time": "2022-04-09T20:24:57.023Z"
   },
   {
    "duration": 239,
    "start_time": "2022-04-09T20:25:06.925Z"
   },
   {
    "duration": 246,
    "start_time": "2022-04-09T20:29:32.001Z"
   },
   {
    "duration": 6,
    "start_time": "2022-04-09T20:30:39.500Z"
   },
   {
    "duration": 12,
    "start_time": "2022-04-09T20:30:42.787Z"
   },
   {
    "duration": 9,
    "start_time": "2022-04-09T20:31:24.532Z"
   },
   {
    "duration": 14,
    "start_time": "2022-04-09T20:31:29.604Z"
   },
   {
    "duration": 20,
    "start_time": "2022-04-09T20:32:08.325Z"
   },
   {
    "duration": 132,
    "start_time": "2022-04-09T20:32:21.307Z"
   },
   {
    "duration": 141,
    "start_time": "2022-04-09T20:33:00.531Z"
   },
   {
    "duration": 234,
    "start_time": "2022-04-09T20:33:03.186Z"
   },
   {
    "duration": 138,
    "start_time": "2022-04-09T20:46:08.242Z"
   },
   {
    "duration": 2163,
    "start_time": "2022-04-09T21:04:14.319Z"
   },
   {
    "duration": 571,
    "start_time": "2022-04-09T21:04:29.515Z"
   },
   {
    "duration": 475,
    "start_time": "2022-04-09T21:04:54.243Z"
   },
   {
    "duration": 1229,
    "start_time": "2022-04-09T21:05:00.878Z"
   },
   {
    "duration": 65,
    "start_time": "2022-04-09T21:05:02.110Z"
   },
   {
    "duration": 84,
    "start_time": "2022-04-09T21:05:02.177Z"
   },
   {
    "duration": 6,
    "start_time": "2022-04-09T21:05:02.263Z"
   },
   {
    "duration": 286,
    "start_time": "2022-04-09T21:05:02.271Z"
   },
   {
    "duration": 151,
    "start_time": "2022-04-09T21:05:02.559Z"
   },
   {
    "duration": 514,
    "start_time": "2022-04-09T21:05:02.713Z"
   },
   {
    "duration": 117,
    "start_time": "2022-04-09T21:05:22.090Z"
   },
   {
    "duration": 23,
    "start_time": "2022-04-09T21:05:27.827Z"
   },
   {
    "duration": 1215,
    "start_time": "2022-04-09T21:10:24.045Z"
   },
   {
    "duration": 62,
    "start_time": "2022-04-09T21:10:25.262Z"
   },
   {
    "duration": 71,
    "start_time": "2022-04-09T21:10:25.327Z"
   },
   {
    "duration": 32,
    "start_time": "2022-04-09T21:10:25.401Z"
   },
   {
    "duration": 119,
    "start_time": "2022-04-09T21:10:25.435Z"
   },
   {
    "duration": 0,
    "start_time": "2022-04-09T21:10:25.556Z"
   },
   {
    "duration": 0,
    "start_time": "2022-04-09T21:10:25.557Z"
   },
   {
    "duration": 19,
    "start_time": "2022-04-09T21:10:35.023Z"
   },
   {
    "duration": 486,
    "start_time": "2022-04-09T21:10:49.152Z"
   },
   {
    "duration": 384,
    "start_time": "2022-04-09T21:11:18.054Z"
   },
   {
    "duration": 146,
    "start_time": "2022-04-09T21:12:06.920Z"
   },
   {
    "duration": 30,
    "start_time": "2022-04-09T21:12:14.621Z"
   },
   {
    "duration": 10,
    "start_time": "2022-04-09T21:17:03.384Z"
   },
   {
    "duration": 14,
    "start_time": "2022-04-09T21:17:08.603Z"
   },
   {
    "duration": 15,
    "start_time": "2022-04-09T21:18:03.352Z"
   },
   {
    "duration": 16,
    "start_time": "2022-04-09T21:18:47.975Z"
   },
   {
    "duration": 26,
    "start_time": "2022-04-09T21:18:52.800Z"
   },
   {
    "duration": 17,
    "start_time": "2022-04-09T21:18:58.826Z"
   },
   {
    "duration": 1396,
    "start_time": "2022-04-09T21:19:24.575Z"
   },
   {
    "duration": 69,
    "start_time": "2022-04-09T21:19:25.974Z"
   },
   {
    "duration": 105,
    "start_time": "2022-04-09T21:19:26.045Z"
   },
   {
    "duration": 8,
    "start_time": "2022-04-09T21:19:26.153Z"
   },
   {
    "duration": 310,
    "start_time": "2022-04-09T21:19:26.163Z"
   },
   {
    "duration": 171,
    "start_time": "2022-04-09T21:19:26.475Z"
   },
   {
    "duration": 20,
    "start_time": "2022-04-09T21:19:26.648Z"
   },
   {
    "duration": 169,
    "start_time": "2022-04-09T21:19:26.670Z"
   },
   {
    "duration": 221,
    "start_time": "2022-04-09T21:20:30.066Z"
   },
   {
    "duration": 265,
    "start_time": "2022-04-09T21:20:39.383Z"
   },
   {
    "duration": 299,
    "start_time": "2022-04-09T21:20:53.208Z"
   },
   {
    "duration": 303,
    "start_time": "2022-04-09T21:21:06.250Z"
   },
   {
    "duration": 140,
    "start_time": "2022-04-09T21:58:39.324Z"
   },
   {
    "duration": 385,
    "start_time": "2022-04-09T21:59:14.031Z"
   },
   {
    "duration": 1153,
    "start_time": "2022-04-09T22:01:52.010Z"
   },
   {
    "duration": 1319,
    "start_time": "2022-04-09T22:02:24.348Z"
   },
   {
    "duration": 8,
    "start_time": "2022-04-09T22:04:04.797Z"
   },
   {
    "duration": 8,
    "start_time": "2022-04-09T22:04:38.376Z"
   },
   {
    "duration": 15,
    "start_time": "2022-04-09T22:04:42.435Z"
   },
   {
    "duration": 1336,
    "start_time": "2022-04-09T22:05:34.486Z"
   },
   {
    "duration": 1244,
    "start_time": "2022-04-09T22:05:45.769Z"
   },
   {
    "duration": 368,
    "start_time": "2022-04-09T22:13:27.438Z"
   },
   {
    "duration": 252,
    "start_time": "2022-04-09T22:13:39.641Z"
   },
   {
    "duration": 2112,
    "start_time": "2022-04-09T22:13:51.653Z"
   },
   {
    "duration": 254,
    "start_time": "2022-04-09T22:14:20.291Z"
   },
   {
    "duration": 1293,
    "start_time": "2022-04-09T22:15:28.167Z"
   },
   {
    "duration": 9,
    "start_time": "2022-04-09T22:16:55.418Z"
   },
   {
    "duration": 22,
    "start_time": "2022-04-09T22:16:58.873Z"
   },
   {
    "duration": 21,
    "start_time": "2022-04-09T22:17:13.659Z"
   },
   {
    "duration": 12,
    "start_time": "2022-04-09T22:17:44.915Z"
   },
   {
    "duration": 23,
    "start_time": "2022-04-09T22:17:48.833Z"
   },
   {
    "duration": 291,
    "start_time": "2022-04-09T22:19:02.818Z"
   },
   {
    "duration": 257,
    "start_time": "2022-04-09T22:19:10.856Z"
   },
   {
    "duration": 15,
    "start_time": "2022-04-09T22:20:17.375Z"
   },
   {
    "duration": 1094,
    "start_time": "2022-04-09T22:20:23.606Z"
   },
   {
    "duration": 1486,
    "start_time": "2022-04-09T22:20:43.279Z"
   },
   {
    "duration": 1446,
    "start_time": "2022-04-09T22:20:54.543Z"
   },
   {
    "duration": 1289,
    "start_time": "2022-04-09T22:21:20.440Z"
   },
   {
    "duration": 1510,
    "start_time": "2022-04-09T22:21:28.024Z"
   },
   {
    "duration": 1487,
    "start_time": "2022-04-09T22:21:44.142Z"
   },
   {
    "duration": 1294,
    "start_time": "2022-04-09T22:21:48.320Z"
   },
   {
    "duration": 1313,
    "start_time": "2022-04-09T22:22:11.631Z"
   },
   {
    "duration": 1100,
    "start_time": "2022-04-09T22:22:15.733Z"
   },
   {
    "duration": 1376,
    "start_time": "2022-04-09T22:23:33.279Z"
   },
   {
    "duration": 599,
    "start_time": "2022-04-09T22:23:43.182Z"
   },
   {
    "duration": 128,
    "start_time": "2022-04-09T22:24:16.800Z"
   },
   {
    "duration": 19,
    "start_time": "2022-04-09T22:24:20.460Z"
   },
   {
    "duration": 578,
    "start_time": "2022-04-09T22:24:28.600Z"
   },
   {
    "duration": 1799,
    "start_time": "2022-04-09T22:25:54.228Z"
   },
   {
    "duration": 2060,
    "start_time": "2022-04-09T22:26:53.972Z"
   },
   {
    "duration": 1553,
    "start_time": "2022-04-09T22:28:14.787Z"
   },
   {
    "duration": 1216,
    "start_time": "2022-04-09T22:28:24.738Z"
   },
   {
    "duration": 7,
    "start_time": "2022-04-09T22:29:58.801Z"
   },
   {
    "duration": 17,
    "start_time": "2022-04-09T22:30:02.656Z"
   },
   {
    "duration": 3,
    "start_time": "2022-04-09T22:31:18.104Z"
   },
   {
    "duration": 4,
    "start_time": "2022-04-09T22:31:23.017Z"
   },
   {
    "duration": 10,
    "start_time": "2022-04-09T22:31:37.937Z"
   },
   {
    "duration": 10,
    "start_time": "2022-04-09T22:32:02.090Z"
   },
   {
    "duration": 11,
    "start_time": "2022-04-09T22:32:07.224Z"
   },
   {
    "duration": 273,
    "start_time": "2022-04-09T22:33:17.338Z"
   },
   {
    "duration": 687,
    "start_time": "2022-04-09T22:33:37.432Z"
   },
   {
    "duration": 267,
    "start_time": "2022-04-09T22:34:21.118Z"
   },
   {
    "duration": 266,
    "start_time": "2022-04-09T22:34:30.607Z"
   },
   {
    "duration": 11,
    "start_time": "2022-04-09T22:35:35.902Z"
   },
   {
    "duration": 263,
    "start_time": "2022-04-09T22:35:43.261Z"
   },
   {
    "duration": 44,
    "start_time": "2022-04-10T14:46:02.917Z"
   },
   {
    "duration": 1242,
    "start_time": "2022-04-10T14:46:09.728Z"
   },
   {
    "duration": 55,
    "start_time": "2022-04-10T14:46:10.972Z"
   },
   {
    "duration": 63,
    "start_time": "2022-04-10T14:46:11.029Z"
   },
   {
    "duration": 4,
    "start_time": "2022-04-10T14:46:11.094Z"
   },
   {
    "duration": 218,
    "start_time": "2022-04-10T14:46:11.099Z"
   },
   {
    "duration": 113,
    "start_time": "2022-04-10T14:46:11.318Z"
   },
   {
    "duration": 248,
    "start_time": "2022-04-10T14:46:11.433Z"
   },
   {
    "duration": 1227,
    "start_time": "2022-04-10T14:46:11.682Z"
   },
   {
    "duration": 10,
    "start_time": "2022-04-10T14:46:12.910Z"
   },
   {
    "duration": 211,
    "start_time": "2022-04-10T14:46:12.922Z"
   },
   {
    "duration": 253,
    "start_time": "2022-04-10T14:53:47.981Z"
   },
   {
    "duration": 226,
    "start_time": "2022-04-10T15:02:18.597Z"
   },
   {
    "duration": 667,
    "start_time": "2022-04-10T15:08:35.332Z"
   },
   {
    "duration": 1170,
    "start_time": "2022-04-10T15:08:48.777Z"
   },
   {
    "duration": 52,
    "start_time": "2022-04-10T15:08:49.950Z"
   },
   {
    "duration": 57,
    "start_time": "2022-04-10T15:08:50.004Z"
   },
   {
    "duration": 4,
    "start_time": "2022-04-10T15:08:50.082Z"
   },
   {
    "duration": 208,
    "start_time": "2022-04-10T15:08:50.087Z"
   },
   {
    "duration": 115,
    "start_time": "2022-04-10T15:08:50.297Z"
   },
   {
    "duration": 255,
    "start_time": "2022-04-10T15:08:50.414Z"
   },
   {
    "duration": 642,
    "start_time": "2022-04-10T15:08:50.671Z"
   },
   {
    "duration": 10,
    "start_time": "2022-04-10T15:08:51.314Z"
   },
   {
    "duration": 1599,
    "start_time": "2022-04-10T15:09:13.211Z"
   },
   {
    "duration": 659,
    "start_time": "2022-04-10T15:11:29.594Z"
   },
   {
    "duration": 12,
    "start_time": "2022-04-10T15:11:36.369Z"
   },
   {
    "duration": 713,
    "start_time": "2022-04-10T15:11:55.105Z"
   },
   {
    "duration": 4,
    "start_time": "2022-04-10T15:33:05.038Z"
   },
   {
    "duration": 17,
    "start_time": "2022-04-10T15:33:08.483Z"
   },
   {
    "duration": 13,
    "start_time": "2022-04-10T15:33:24.195Z"
   },
   {
    "duration": 163,
    "start_time": "2022-04-10T15:35:03.314Z"
   },
   {
    "duration": 162,
    "start_time": "2022-04-10T15:35:16.699Z"
   },
   {
    "duration": 78,
    "start_time": "2022-04-10T20:26:44.037Z"
   },
   {
    "duration": 1721,
    "start_time": "2022-04-10T20:26:49.686Z"
   },
   {
    "duration": 66,
    "start_time": "2022-04-10T20:26:51.410Z"
   },
   {
    "duration": 113,
    "start_time": "2022-04-10T20:26:51.479Z"
   },
   {
    "duration": 6,
    "start_time": "2022-04-10T20:26:51.595Z"
   },
   {
    "duration": 407,
    "start_time": "2022-04-10T20:26:51.603Z"
   },
   {
    "duration": 209,
    "start_time": "2022-04-10T20:26:52.013Z"
   },
   {
    "duration": 459,
    "start_time": "2022-04-10T20:26:52.224Z"
   },
   {
    "duration": 24,
    "start_time": "2022-04-10T20:26:52.686Z"
   },
   {
    "duration": 357,
    "start_time": "2022-04-10T20:26:52.713Z"
   },
   {
    "duration": 340,
    "start_time": "2022-04-10T20:27:11.185Z"
   },
   {
    "duration": 963,
    "start_time": "2022-04-10T20:36:50.241Z"
   },
   {
    "duration": 24,
    "start_time": "2022-04-10T20:36:59.943Z"
   },
   {
    "duration": 1154,
    "start_time": "2022-04-10T20:37:19.040Z"
   },
   {
    "duration": 1165,
    "start_time": "2022-04-10T20:38:12.187Z"
   },
   {
    "duration": 28,
    "start_time": "2022-04-10T20:38:57.883Z"
   },
   {
    "duration": 24,
    "start_time": "2022-04-10T20:39:09.604Z"
   },
   {
    "duration": 22,
    "start_time": "2022-04-10T20:39:53.180Z"
   },
   {
    "duration": 31,
    "start_time": "2022-04-10T20:39:58.374Z"
   },
   {
    "duration": 1100,
    "start_time": "2022-04-10T20:40:24.699Z"
   },
   {
    "duration": 962,
    "start_time": "2022-04-10T20:40:37.684Z"
   },
   {
    "duration": 1225,
    "start_time": "2022-04-10T20:40:45.466Z"
   },
   {
    "duration": 271,
    "start_time": "2022-04-10T20:44:50.851Z"
   },
   {
    "duration": 1149,
    "start_time": "2022-04-10T20:54:47.207Z"
   },
   {
    "duration": 2874,
    "start_time": "2022-04-10T20:58:01.443Z"
   },
   {
    "duration": 1169,
    "start_time": "2022-04-10T20:58:37.434Z"
   },
   {
    "duration": 1198,
    "start_time": "2022-04-10T21:01:03.545Z"
   },
   {
    "duration": 1112,
    "start_time": "2022-04-10T21:02:11.780Z"
   },
   {
    "duration": 3480,
    "start_time": "2022-04-10T21:02:41.417Z"
   },
   {
    "duration": 1990,
    "start_time": "2022-04-10T21:03:03.529Z"
   },
   {
    "duration": 1952,
    "start_time": "2022-04-10T21:03:20.065Z"
   },
   {
    "duration": 2325,
    "start_time": "2022-04-10T21:03:50.642Z"
   },
   {
    "duration": 1131,
    "start_time": "2022-04-10T21:04:14.151Z"
   },
   {
    "duration": 378,
    "start_time": "2022-04-10T21:07:06.206Z"
   },
   {
    "duration": 357,
    "start_time": "2022-04-10T21:07:45.933Z"
   },
   {
    "duration": 2099,
    "start_time": "2022-04-10T21:14:27.537Z"
   },
   {
    "duration": 15,
    "start_time": "2022-04-10T21:14:38.632Z"
   },
   {
    "duration": 13,
    "start_time": "2022-04-10T21:15:25.303Z"
   },
   {
    "duration": 12,
    "start_time": "2022-04-10T21:15:28.106Z"
   },
   {
    "duration": 8,
    "start_time": "2022-04-10T21:15:31.592Z"
   },
   {
    "duration": 142,
    "start_time": "2022-04-10T21:15:55.408Z"
   },
   {
    "duration": 49,
    "start_time": "2022-04-10T21:17:19.152Z"
   },
   {
    "duration": 32,
    "start_time": "2022-04-10T21:17:26.265Z"
   },
   {
    "duration": 48,
    "start_time": "2022-04-10T21:17:31.616Z"
   },
   {
    "duration": 2190,
    "start_time": "2022-04-11T17:36:14.254Z"
   },
   {
    "duration": 93,
    "start_time": "2022-04-11T17:36:16.447Z"
   },
   {
    "duration": 106,
    "start_time": "2022-04-11T17:36:16.542Z"
   },
   {
    "duration": 37,
    "start_time": "2022-04-11T17:36:16.651Z"
   },
   {
    "duration": 445,
    "start_time": "2022-04-11T17:36:16.691Z"
   },
   {
    "duration": 241,
    "start_time": "2022-04-11T17:36:17.139Z"
   },
   {
    "duration": 510,
    "start_time": "2022-04-11T17:36:17.383Z"
   },
   {
    "duration": 1308,
    "start_time": "2022-04-11T17:36:17.896Z"
   },
   {
    "duration": 383,
    "start_time": "2022-04-11T17:36:19.206Z"
   },
   {
    "duration": 145,
    "start_time": "2022-04-11T17:36:19.592Z"
   },
   {
    "duration": 2009,
    "start_time": "2022-04-11T18:55:05.077Z"
   },
   {
    "duration": 200,
    "start_time": "2022-04-11T18:55:07.089Z"
   },
   {
    "duration": 130,
    "start_time": "2022-04-11T18:55:07.292Z"
   },
   {
    "duration": 7,
    "start_time": "2022-04-11T18:55:07.427Z"
   },
   {
    "duration": 415,
    "start_time": "2022-04-11T18:55:07.437Z"
   },
   {
    "duration": 223,
    "start_time": "2022-04-11T18:55:07.854Z"
   },
   {
    "duration": 467,
    "start_time": "2022-04-11T18:55:08.083Z"
   },
   {
    "duration": 1204,
    "start_time": "2022-04-11T18:55:08.552Z"
   },
   {
    "duration": 358,
    "start_time": "2022-04-11T18:55:09.758Z"
   },
   {
    "duration": 145,
    "start_time": "2022-04-11T18:55:10.119Z"
   },
   {
    "duration": 6,
    "start_time": "2022-04-11T18:55:59.622Z"
   },
   {
    "duration": 143,
    "start_time": "2022-04-11T18:57:51.540Z"
   },
   {
    "duration": 11,
    "start_time": "2022-04-11T18:57:59.737Z"
   },
   {
    "duration": 12,
    "start_time": "2022-04-11T18:58:13.352Z"
   },
   {
    "duration": 5,
    "start_time": "2022-04-11T18:58:15.961Z"
   },
   {
    "duration": 5,
    "start_time": "2022-04-11T18:58:24.153Z"
   },
   {
    "duration": 5,
    "start_time": "2022-04-11T18:58:28.088Z"
   },
   {
    "duration": 4,
    "start_time": "2022-04-11T18:58:43.929Z"
   },
   {
    "duration": 5,
    "start_time": "2022-04-11T18:58:46.497Z"
   },
   {
    "duration": 5,
    "start_time": "2022-04-11T18:58:51.519Z"
   },
   {
    "duration": 47,
    "start_time": "2022-04-11T18:59:07.636Z"
   },
   {
    "duration": 30,
    "start_time": "2022-04-11T18:59:14.088Z"
   },
   {
    "duration": 31,
    "start_time": "2022-04-11T18:59:19.216Z"
   },
   {
    "duration": 28,
    "start_time": "2022-04-11T18:59:26.146Z"
   },
   {
    "duration": 147,
    "start_time": "2022-04-11T19:01:20.104Z"
   },
   {
    "duration": 32,
    "start_time": "2022-04-11T19:01:33.071Z"
   },
   {
    "duration": 111,
    "start_time": "2022-04-11T19:01:39.392Z"
   },
   {
    "duration": 25,
    "start_time": "2022-04-11T19:02:40.810Z"
   },
   {
    "duration": 29,
    "start_time": "2022-04-11T19:02:43.798Z"
   },
   {
    "duration": 32,
    "start_time": "2022-04-11T19:02:49.614Z"
   },
   {
    "duration": 35,
    "start_time": "2022-04-11T19:03:02.757Z"
   },
   {
    "duration": 29,
    "start_time": "2022-04-11T19:03:06.487Z"
   },
   {
    "duration": 109,
    "start_time": "2022-04-11T19:03:14.886Z"
   },
   {
    "duration": 136,
    "start_time": "2022-04-11T19:04:32.188Z"
   },
   {
    "duration": 156,
    "start_time": "2022-04-11T19:05:18.788Z"
   },
   {
    "duration": 31,
    "start_time": "2022-04-11T19:11:54.050Z"
   },
   {
    "duration": 29,
    "start_time": "2022-04-11T19:11:59.568Z"
   },
   {
    "duration": 27,
    "start_time": "2022-04-11T19:12:03.559Z"
   },
   {
    "duration": 27,
    "start_time": "2022-04-11T19:12:08.928Z"
   },
   {
    "duration": 43,
    "start_time": "2022-04-11T19:12:23.499Z"
   },
   {
    "duration": 22,
    "start_time": "2022-04-11T19:12:28.977Z"
   },
   {
    "duration": 173,
    "start_time": "2022-04-11T19:12:32.543Z"
   },
   {
    "duration": 35,
    "start_time": "2022-04-11T19:19:41.664Z"
   },
   {
    "duration": 48,
    "start_time": "2022-04-11T19:20:13.765Z"
   },
   {
    "duration": 36,
    "start_time": "2022-04-11T19:20:29.228Z"
   },
   {
    "duration": 24,
    "start_time": "2022-04-11T19:20:34.185Z"
   },
   {
    "duration": 35,
    "start_time": "2022-04-11T19:20:37.937Z"
   },
   {
    "duration": 3376,
    "start_time": "2022-04-11T19:21:09.015Z"
   },
   {
    "duration": 3198,
    "start_time": "2022-04-11T19:21:15.028Z"
   },
   {
    "duration": 0,
    "start_time": "2022-04-11T19:22:23.555Z"
   },
   {
    "duration": 1818,
    "start_time": "2022-04-11T19:23:05.245Z"
   },
   {
    "duration": 75,
    "start_time": "2022-04-11T19:23:07.066Z"
   },
   {
    "duration": 107,
    "start_time": "2022-04-11T19:23:07.144Z"
   },
   {
    "duration": 7,
    "start_time": "2022-04-11T19:23:07.287Z"
   },
   {
    "duration": 416,
    "start_time": "2022-04-11T19:23:07.296Z"
   },
   {
    "duration": 214,
    "start_time": "2022-04-11T19:23:07.715Z"
   },
   {
    "duration": 474,
    "start_time": "2022-04-11T19:23:07.931Z"
   },
   {
    "duration": 1132,
    "start_time": "2022-04-11T19:23:08.408Z"
   },
   {
    "duration": 378,
    "start_time": "2022-04-11T19:23:09.543Z"
   },
   {
    "duration": 2393,
    "start_time": "2022-04-11T19:23:09.925Z"
   },
   {
    "duration": 0,
    "start_time": "2022-04-11T19:23:12.321Z"
   },
   {
    "duration": 1659,
    "start_time": "2022-04-11T19:23:52.695Z"
   },
   {
    "duration": 69,
    "start_time": "2022-04-11T19:23:54.356Z"
   },
   {
    "duration": 115,
    "start_time": "2022-04-11T19:23:54.427Z"
   },
   {
    "duration": 38,
    "start_time": "2022-04-11T19:23:54.547Z"
   },
   {
    "duration": 387,
    "start_time": "2022-04-11T19:23:54.588Z"
   },
   {
    "duration": 215,
    "start_time": "2022-04-11T19:23:54.978Z"
   },
   {
    "duration": 465,
    "start_time": "2022-04-11T19:23:55.196Z"
   },
   {
    "duration": 1063,
    "start_time": "2022-04-11T19:23:55.663Z"
   },
   {
    "duration": 359,
    "start_time": "2022-04-11T19:23:56.729Z"
   },
   {
    "duration": 10762,
    "start_time": "2022-04-11T19:23:57.092Z"
   },
   {
    "duration": 5,
    "start_time": "2022-04-11T19:24:07.856Z"
   },
   {
    "duration": 11452,
    "start_time": "2022-04-11T19:24:14.213Z"
   },
   {
    "duration": 1630,
    "start_time": "2022-04-11T19:25:30.106Z"
   },
   {
    "duration": 70,
    "start_time": "2022-04-11T19:25:31.738Z"
   },
   {
    "duration": 111,
    "start_time": "2022-04-11T19:25:31.810Z"
   },
   {
    "duration": 7,
    "start_time": "2022-04-11T19:25:31.923Z"
   },
   {
    "duration": 566,
    "start_time": "2022-04-11T19:25:31.933Z"
   },
   {
    "duration": 209,
    "start_time": "2022-04-11T19:25:32.501Z"
   },
   {
    "duration": 571,
    "start_time": "2022-04-11T19:25:32.712Z"
   },
   {
    "duration": 1115,
    "start_time": "2022-04-11T19:25:33.286Z"
   },
   {
    "duration": 384,
    "start_time": "2022-04-11T19:25:34.403Z"
   },
   {
    "duration": 1694,
    "start_time": "2022-04-11T19:26:03.137Z"
   },
   {
    "duration": 73,
    "start_time": "2022-04-11T19:26:04.834Z"
   },
   {
    "duration": 118,
    "start_time": "2022-04-11T19:26:04.909Z"
   },
   {
    "duration": 9,
    "start_time": "2022-04-11T19:26:05.032Z"
   },
   {
    "duration": 422,
    "start_time": "2022-04-11T19:26:05.048Z"
   },
   {
    "duration": 213,
    "start_time": "2022-04-11T19:26:05.473Z"
   },
   {
    "duration": 711,
    "start_time": "2022-04-11T19:26:05.688Z"
   },
   {
    "duration": 1176,
    "start_time": "2022-04-11T19:26:06.402Z"
   },
   {
    "duration": 365,
    "start_time": "2022-04-11T19:26:07.580Z"
   },
   {
    "duration": 43323,
    "start_time": "2022-04-11T19:26:07.949Z"
   },
   {
    "duration": 0,
    "start_time": "2022-04-11T19:26:51.275Z"
   },
   {
    "duration": 4,
    "start_time": "2022-04-11T19:27:09.787Z"
   },
   {
    "duration": 50,
    "start_time": "2022-04-11T19:29:18.065Z"
   },
   {
    "duration": 54,
    "start_time": "2022-04-11T19:29:24.610Z"
   },
   {
    "duration": 45,
    "start_time": "2022-04-11T19:29:32.982Z"
   },
   {
    "duration": 141,
    "start_time": "2022-04-11T19:29:44.293Z"
   },
   {
    "duration": 40,
    "start_time": "2022-04-11T19:29:48.581Z"
   },
   {
    "duration": 52,
    "start_time": "2022-04-11T19:30:02.114Z"
   },
   {
    "duration": 85,
    "start_time": "2022-04-11T19:30:12.070Z"
   },
   {
    "duration": 119,
    "start_time": "2022-04-11T19:30:46.326Z"
   },
   {
    "duration": 42,
    "start_time": "2022-04-11T19:36:33.073Z"
   },
   {
    "duration": 53,
    "start_time": "2022-04-11T19:42:14.974Z"
   },
   {
    "duration": 137,
    "start_time": "2022-04-11T19:45:28.701Z"
   },
   {
    "duration": 136,
    "start_time": "2022-04-11T19:45:32.916Z"
   },
   {
    "duration": 24,
    "start_time": "2022-04-11T19:55:54.854Z"
   },
   {
    "duration": 23,
    "start_time": "2022-04-11T19:56:20.304Z"
   },
   {
    "duration": 23,
    "start_time": "2022-04-11T19:56:32.685Z"
   },
   {
    "duration": 1564,
    "start_time": "2022-04-11T19:56:44.082Z"
   },
   {
    "duration": 76,
    "start_time": "2022-04-11T19:56:45.649Z"
   },
   {
    "duration": 157,
    "start_time": "2022-04-11T19:56:45.728Z"
   },
   {
    "duration": 8,
    "start_time": "2022-04-11T19:56:45.890Z"
   },
   {
    "duration": 485,
    "start_time": "2022-04-11T19:56:45.901Z"
   },
   {
    "duration": 232,
    "start_time": "2022-04-11T19:56:46.389Z"
   },
   {
    "duration": 466,
    "start_time": "2022-04-11T19:56:46.623Z"
   },
   {
    "duration": 1544,
    "start_time": "2022-04-11T19:56:47.092Z"
   },
   {
    "duration": 497,
    "start_time": "2022-04-11T19:56:48.639Z"
   },
   {
    "duration": 2439,
    "start_time": "2022-04-11T19:56:49.141Z"
   },
   {
    "duration": 0,
    "start_time": "2022-04-11T19:56:51.582Z"
   },
   {
    "duration": 55705,
    "start_time": "2022-04-11T19:58:08.213Z"
   },
   {
    "duration": 23,
    "start_time": "2022-04-11T20:08:16.698Z"
   },
   {
    "duration": 40,
    "start_time": "2022-04-11T20:08:21.053Z"
   },
   {
    "duration": 36,
    "start_time": "2022-04-11T20:08:39.225Z"
   },
   {
    "duration": 58,
    "start_time": "2022-04-11T20:08:47.978Z"
   },
   {
    "duration": 30,
    "start_time": "2022-04-11T20:09:09.457Z"
   },
   {
    "duration": 36,
    "start_time": "2022-04-11T20:09:44.862Z"
   },
   {
    "duration": 101,
    "start_time": "2022-04-11T20:10:15.864Z"
   },
   {
    "duration": 33,
    "start_time": "2022-04-11T20:10:24.100Z"
   },
   {
    "duration": 46,
    "start_time": "2022-04-11T20:10:32.901Z"
   },
   {
    "duration": 38,
    "start_time": "2022-04-11T20:10:43.502Z"
   },
   {
    "duration": 37,
    "start_time": "2022-04-11T20:10:54.846Z"
   },
   {
    "duration": 22,
    "start_time": "2022-04-11T20:11:06.087Z"
   },
   {
    "duration": 109,
    "start_time": "2022-04-11T20:11:13.732Z"
   },
   {
    "duration": 33,
    "start_time": "2022-04-11T20:11:16.163Z"
   },
   {
    "duration": 29,
    "start_time": "2022-04-11T20:11:20.380Z"
   },
   {
    "duration": 41,
    "start_time": "2022-04-11T20:13:50.514Z"
   },
   {
    "duration": 5,
    "start_time": "2022-04-11T20:15:29.384Z"
   },
   {
    "duration": 7932,
    "start_time": "2022-04-11T20:15:34.873Z"
   },
   {
    "duration": 97987,
    "start_time": "2022-04-11T20:15:48.203Z"
   },
   {
    "duration": 4,
    "start_time": "2022-04-11T20:17:31.260Z"
   },
   {
    "duration": 98,
    "start_time": "2022-04-11T20:17:45.768Z"
   },
   {
    "duration": 43,
    "start_time": "2022-04-11T20:17:50.391Z"
   },
   {
    "duration": 52,
    "start_time": "2022-04-11T20:19:09.336Z"
   },
   {
    "duration": 32,
    "start_time": "2022-04-11T20:19:36.622Z"
   },
   {
    "duration": 34,
    "start_time": "2022-04-11T20:19:44.439Z"
   },
   {
    "duration": 112,
    "start_time": "2022-04-11T20:30:10.033Z"
   },
   {
    "duration": 60,
    "start_time": "2022-04-11T20:33:37.046Z"
   },
   {
    "duration": 151,
    "start_time": "2022-04-11T20:33:42.702Z"
   },
   {
    "duration": 875,
    "start_time": "2022-04-11T20:39:12.083Z"
   },
   {
    "duration": 147,
    "start_time": "2022-04-11T20:40:52.450Z"
   },
   {
    "duration": 108,
    "start_time": "2022-04-11T20:40:55.945Z"
   },
   {
    "duration": 67,
    "start_time": "2022-04-11T20:42:08.063Z"
   },
   {
    "duration": 81,
    "start_time": "2022-04-11T20:42:13.577Z"
   },
   {
    "duration": 75,
    "start_time": "2022-04-11T20:42:26.066Z"
   },
   {
    "duration": 975,
    "start_time": "2022-04-11T20:44:06.342Z"
   },
   {
    "duration": 96,
    "start_time": "2022-04-11T20:44:13.989Z"
   },
   {
    "duration": 18,
    "start_time": "2022-04-11T20:58:09.862Z"
   },
   {
    "duration": 95,
    "start_time": "2022-04-11T20:59:13.125Z"
   },
   {
    "duration": 87,
    "start_time": "2022-04-11T20:59:20.421Z"
   },
   {
    "duration": 90,
    "start_time": "2022-04-11T20:59:23.543Z"
   },
   {
    "duration": 82,
    "start_time": "2022-04-11T21:04:27.097Z"
   },
   {
    "duration": 91,
    "start_time": "2022-04-11T21:04:33.013Z"
   },
   {
    "duration": 92,
    "start_time": "2022-04-11T21:04:48.251Z"
   },
   {
    "duration": 92,
    "start_time": "2022-04-11T21:05:00.699Z"
   },
   {
    "duration": 80,
    "start_time": "2022-04-11T21:05:44.454Z"
   },
   {
    "duration": 48,
    "start_time": "2022-04-12T05:17:09.988Z"
   },
   {
    "duration": 1241,
    "start_time": "2022-04-12T05:17:16.888Z"
   },
   {
    "duration": 49,
    "start_time": "2022-04-12T05:17:18.131Z"
   },
   {
    "duration": 54,
    "start_time": "2022-04-12T05:17:18.181Z"
   },
   {
    "duration": 20,
    "start_time": "2022-04-12T05:17:18.237Z"
   },
   {
    "duration": 204,
    "start_time": "2022-04-12T05:17:18.258Z"
   },
   {
    "duration": 117,
    "start_time": "2022-04-12T05:17:18.464Z"
   },
   {
    "duration": 240,
    "start_time": "2022-04-12T05:17:18.583Z"
   },
   {
    "duration": 689,
    "start_time": "2022-04-12T05:17:18.825Z"
   },
   {
    "duration": 192,
    "start_time": "2022-04-12T05:17:19.516Z"
   },
   {
    "duration": 132,
    "start_time": "2022-04-12T05:17:19.711Z"
   },
   {
    "duration": 112,
    "start_time": "2022-04-12T05:17:36.071Z"
   },
   {
    "duration": 85,
    "start_time": "2022-04-12T05:19:18.273Z"
   },
   {
    "duration": 78,
    "start_time": "2022-04-12T05:21:06.621Z"
   },
   {
    "duration": 125,
    "start_time": "2022-04-12T05:22:34.940Z"
   },
   {
    "duration": 55,
    "start_time": "2022-04-12T05:22:45.657Z"
   },
   {
    "duration": 79,
    "start_time": "2022-04-12T05:22:50.649Z"
   },
   {
    "duration": 74,
    "start_time": "2022-04-12T05:24:04.846Z"
   },
   {
    "duration": 61,
    "start_time": "2022-04-12T05:24:21.722Z"
   },
   {
    "duration": 54,
    "start_time": "2022-04-12T05:26:42.451Z"
   },
   {
    "duration": 48,
    "start_time": "2022-04-12T05:26:51.888Z"
   },
   {
    "duration": 46,
    "start_time": "2022-04-12T05:26:57.857Z"
   },
   {
    "duration": 49,
    "start_time": "2022-04-12T05:27:00.063Z"
   },
   {
    "duration": 109,
    "start_time": "2022-04-12T05:27:11.622Z"
   },
   {
    "duration": 48,
    "start_time": "2022-04-12T05:27:17.695Z"
   },
   {
    "duration": 45,
    "start_time": "2022-04-12T05:27:37.334Z"
   },
   {
    "duration": 49,
    "start_time": "2022-04-12T05:27:45.191Z"
   },
   {
    "duration": 5,
    "start_time": "2022-04-12T05:29:14.062Z"
   },
   {
    "duration": 46,
    "start_time": "2022-04-12T05:29:22.607Z"
   },
   {
    "duration": 78,
    "start_time": "2022-04-12T05:29:38.191Z"
   },
   {
    "duration": 120,
    "start_time": "2022-04-12T05:29:42.086Z"
   },
   {
    "duration": 60,
    "start_time": "2022-04-12T05:30:04.964Z"
   },
   {
    "duration": 46,
    "start_time": "2022-04-12T05:30:10.461Z"
   },
   {
    "duration": 46,
    "start_time": "2022-04-12T05:32:00.119Z"
   },
   {
    "duration": 59,
    "start_time": "2022-04-12T05:32:03.977Z"
   },
   {
    "duration": 46,
    "start_time": "2022-04-12T05:34:05.765Z"
   },
   {
    "duration": 142,
    "start_time": "2022-04-12T05:34:22.712Z"
   },
   {
    "duration": 144,
    "start_time": "2022-04-12T05:34:25.880Z"
   },
   {
    "duration": 53,
    "start_time": "2022-04-12T05:34:35.170Z"
   },
   {
    "duration": 47,
    "start_time": "2022-04-12T05:34:52.435Z"
   },
   {
    "duration": 44,
    "start_time": "2022-04-12T05:35:14.033Z"
   },
   {
    "duration": 48,
    "start_time": "2022-04-12T05:35:16.801Z"
   },
   {
    "duration": 49,
    "start_time": "2022-04-12T05:35:33.081Z"
   },
   {
    "duration": 49,
    "start_time": "2022-04-12T05:36:01.642Z"
   },
   {
    "duration": 153,
    "start_time": "2022-04-12T05:36:03.834Z"
   },
   {
    "duration": 74,
    "start_time": "2022-04-12T05:36:05.609Z"
   },
   {
    "duration": 50,
    "start_time": "2022-04-12T05:36:07.089Z"
   },
   {
    "duration": 50,
    "start_time": "2022-04-12T05:36:20.954Z"
   },
   {
    "duration": 46,
    "start_time": "2022-04-12T05:36:22.473Z"
   },
   {
    "duration": 1295,
    "start_time": "2022-04-12T19:04:12.261Z"
   },
   {
    "duration": 57,
    "start_time": "2022-04-12T19:04:13.558Z"
   },
   {
    "duration": 67,
    "start_time": "2022-04-12T19:04:13.617Z"
   },
   {
    "duration": 4,
    "start_time": "2022-04-12T19:04:13.686Z"
   },
   {
    "duration": 232,
    "start_time": "2022-04-12T19:04:13.692Z"
   },
   {
    "duration": 124,
    "start_time": "2022-04-12T19:04:13.925Z"
   },
   {
    "duration": 253,
    "start_time": "2022-04-12T19:04:14.051Z"
   },
   {
    "duration": 693,
    "start_time": "2022-04-12T19:04:14.306Z"
   },
   {
    "duration": 202,
    "start_time": "2022-04-12T19:04:15.001Z"
   },
   {
    "duration": 131,
    "start_time": "2022-04-12T19:04:15.205Z"
   },
   {
    "duration": 124,
    "start_time": "2022-04-12T19:04:15.338Z"
   },
   {
    "duration": 44,
    "start_time": "2022-04-12T19:11:39.020Z"
   },
   {
    "duration": 68,
    "start_time": "2022-04-12T19:11:42.108Z"
   },
   {
    "duration": 44,
    "start_time": "2022-04-12T19:11:45.963Z"
   },
   {
    "duration": 53,
    "start_time": "2022-04-12T19:13:08.323Z"
   },
   {
    "duration": 66,
    "start_time": "2022-04-12T19:13:29.339Z"
   },
   {
    "duration": 47,
    "start_time": "2022-04-12T19:13:31.770Z"
   },
   {
    "duration": 159,
    "start_time": "2022-04-12T19:13:53.037Z"
   },
   {
    "duration": 55,
    "start_time": "2022-04-12T19:14:05.481Z"
   },
   {
    "duration": 65,
    "start_time": "2022-04-12T19:14:11.851Z"
   },
   {
    "duration": 62,
    "start_time": "2022-04-12T19:15:01.370Z"
   },
   {
    "duration": 68,
    "start_time": "2022-04-12T19:15:45.826Z"
   },
   {
    "duration": 54,
    "start_time": "2022-04-12T19:16:16.426Z"
   },
   {
    "duration": 46,
    "start_time": "2022-04-12T19:45:42.529Z"
   },
   {
    "duration": 668,
    "start_time": "2022-04-12T19:58:22.065Z"
   },
   {
    "duration": 77,
    "start_time": "2022-04-12T19:59:20.528Z"
   },
   {
    "duration": 87,
    "start_time": "2022-04-12T19:59:24.781Z"
   },
   {
    "duration": 4680,
    "start_time": "2022-04-12T19:59:51.637Z"
   },
   {
    "duration": 1111,
    "start_time": "2022-04-12T20:01:23.953Z"
   },
   {
    "duration": 50,
    "start_time": "2022-04-12T20:01:25.066Z"
   },
   {
    "duration": 73,
    "start_time": "2022-04-12T20:01:25.118Z"
   },
   {
    "duration": 5,
    "start_time": "2022-04-12T20:01:25.194Z"
   },
   {
    "duration": 236,
    "start_time": "2022-04-12T20:01:25.201Z"
   },
   {
    "duration": 116,
    "start_time": "2022-04-12T20:01:25.446Z"
   },
   {
    "duration": 257,
    "start_time": "2022-04-12T20:01:25.564Z"
   },
   {
    "duration": 660,
    "start_time": "2022-04-12T20:01:25.823Z"
   },
   {
    "duration": 204,
    "start_time": "2022-04-12T20:01:26.485Z"
   },
   {
    "duration": 138,
    "start_time": "2022-04-12T20:01:26.692Z"
   },
   {
    "duration": 4947,
    "start_time": "2022-04-12T20:01:26.832Z"
   },
   {
    "duration": 145,
    "start_time": "2022-04-12T20:02:19.917Z"
   },
   {
    "duration": 4727,
    "start_time": "2022-04-12T20:02:34.823Z"
   },
   {
    "duration": 4904,
    "start_time": "2022-04-12T20:03:26.494Z"
   },
   {
    "duration": 4825,
    "start_time": "2022-04-12T20:04:03.932Z"
   },
   {
    "duration": 5534,
    "start_time": "2022-04-12T20:06:48.826Z"
   },
   {
    "duration": 1242,
    "start_time": "2022-04-12T20:07:11.166Z"
   },
   {
    "duration": 61,
    "start_time": "2022-04-12T20:07:12.410Z"
   },
   {
    "duration": 83,
    "start_time": "2022-04-12T20:07:12.473Z"
   },
   {
    "duration": 6,
    "start_time": "2022-04-12T20:07:12.559Z"
   },
   {
    "duration": 258,
    "start_time": "2022-04-12T20:07:12.567Z"
   },
   {
    "duration": 148,
    "start_time": "2022-04-12T20:07:12.828Z"
   },
   {
    "duration": 303,
    "start_time": "2022-04-12T20:07:12.978Z"
   },
   {
    "duration": 743,
    "start_time": "2022-04-12T20:07:13.282Z"
   },
   {
    "duration": 306,
    "start_time": "2022-04-12T20:07:14.026Z"
   },
   {
    "duration": 182,
    "start_time": "2022-04-12T20:07:14.335Z"
   },
   {
    "duration": 8230,
    "start_time": "2022-04-12T20:07:14.519Z"
   },
   {
    "duration": 22,
    "start_time": "2022-04-12T20:07:27.927Z"
   },
   {
    "duration": 20,
    "start_time": "2022-04-12T20:10:32.150Z"
   },
   {
    "duration": 20,
    "start_time": "2022-04-12T20:11:35.074Z"
   },
   {
    "duration": 13,
    "start_time": "2022-04-12T20:12:17.908Z"
   },
   {
    "duration": 11,
    "start_time": "2022-04-12T20:12:30.380Z"
   },
   {
    "duration": 20,
    "start_time": "2022-04-12T20:12:33.906Z"
   },
   {
    "duration": 6,
    "start_time": "2022-04-12T20:12:45.892Z"
   },
   {
    "duration": 114,
    "start_time": "2022-04-12T20:12:59.147Z"
   },
   {
    "duration": 21,
    "start_time": "2022-04-12T20:13:16.085Z"
   },
   {
    "duration": 1118,
    "start_time": "2022-04-12T20:13:24.577Z"
   },
   {
    "duration": 51,
    "start_time": "2022-04-12T20:13:25.697Z"
   },
   {
    "duration": 58,
    "start_time": "2022-04-12T20:13:25.749Z"
   },
   {
    "duration": 4,
    "start_time": "2022-04-12T20:13:25.809Z"
   },
   {
    "duration": 248,
    "start_time": "2022-04-12T20:13:25.814Z"
   },
   {
    "duration": 121,
    "start_time": "2022-04-12T20:13:26.063Z"
   },
   {
    "duration": 254,
    "start_time": "2022-04-12T20:13:26.185Z"
   },
   {
    "duration": 643,
    "start_time": "2022-04-12T20:13:26.441Z"
   },
   {
    "duration": 204,
    "start_time": "2022-04-12T20:13:27.086Z"
   },
   {
    "duration": 171,
    "start_time": "2022-04-12T20:13:27.293Z"
   },
   {
    "duration": 7788,
    "start_time": "2022-04-12T20:13:27.465Z"
   },
   {
    "duration": 6,
    "start_time": "2022-04-12T20:13:35.255Z"
   },
   {
    "duration": 10,
    "start_time": "2022-04-12T20:13:51.654Z"
   },
   {
    "duration": 111,
    "start_time": "2022-04-12T20:15:53.939Z"
   },
   {
    "duration": 1165,
    "start_time": "2022-04-12T20:16:09.473Z"
   },
   {
    "duration": 55,
    "start_time": "2022-04-12T20:16:10.640Z"
   },
   {
    "duration": 68,
    "start_time": "2022-04-12T20:16:10.696Z"
   },
   {
    "duration": 5,
    "start_time": "2022-04-12T20:16:10.766Z"
   },
   {
    "duration": 230,
    "start_time": "2022-04-12T20:16:10.772Z"
   },
   {
    "duration": 127,
    "start_time": "2022-04-12T20:16:11.004Z"
   },
   {
    "duration": 266,
    "start_time": "2022-04-12T20:16:11.132Z"
   },
   {
    "duration": 668,
    "start_time": "2022-04-12T20:16:11.400Z"
   },
   {
    "duration": 200,
    "start_time": "2022-04-12T20:16:12.070Z"
   },
   {
    "duration": 131,
    "start_time": "2022-04-12T20:16:12.272Z"
   },
   {
    "duration": 8744,
    "start_time": "2022-04-12T20:16:12.404Z"
   },
   {
    "duration": 7,
    "start_time": "2022-04-12T20:16:21.150Z"
   },
   {
    "duration": 79,
    "start_time": "2022-04-12T20:16:21.159Z"
   },
   {
    "duration": 9,
    "start_time": "2022-04-12T20:16:33.103Z"
   },
   {
    "duration": 22,
    "start_time": "2022-04-12T20:16:48.880Z"
   },
   {
    "duration": 86,
    "start_time": "2022-04-12T20:18:58.773Z"
   },
   {
    "duration": 81,
    "start_time": "2022-04-12T20:19:02.501Z"
   },
   {
    "duration": 83,
    "start_time": "2022-04-12T20:19:29.501Z"
   },
   {
    "duration": 1175,
    "start_time": "2022-04-12T21:59:24.525Z"
   },
   {
    "duration": 56,
    "start_time": "2022-04-12T21:59:25.702Z"
   },
   {
    "duration": 59,
    "start_time": "2022-04-12T21:59:25.760Z"
   },
   {
    "duration": 4,
    "start_time": "2022-04-12T21:59:25.849Z"
   },
   {
    "duration": 221,
    "start_time": "2022-04-12T21:59:25.855Z"
   },
   {
    "duration": 123,
    "start_time": "2022-04-12T21:59:26.077Z"
   },
   {
    "duration": 249,
    "start_time": "2022-04-12T21:59:26.202Z"
   },
   {
    "duration": 678,
    "start_time": "2022-04-12T21:59:26.453Z"
   },
   {
    "duration": 197,
    "start_time": "2022-04-12T21:59:27.132Z"
   },
   {
    "duration": 138,
    "start_time": "2022-04-12T21:59:27.332Z"
   },
   {
    "duration": 5080,
    "start_time": "2022-04-12T21:59:27.472Z"
   },
   {
    "duration": 6,
    "start_time": "2022-04-12T21:59:32.554Z"
   },
   {
    "duration": 27,
    "start_time": "2022-04-12T21:59:32.562Z"
   },
   {
    "duration": 2419,
    "start_time": "2022-04-12T22:01:37.445Z"
   },
   {
    "duration": 2547,
    "start_time": "2022-04-12T22:02:13.215Z"
   },
   {
    "duration": 2407,
    "start_time": "2022-04-12T22:02:20.705Z"
   },
   {
    "duration": 2336,
    "start_time": "2022-04-12T22:02:50.375Z"
   },
   {
    "duration": 2469,
    "start_time": "2022-04-12T22:02:59.728Z"
   },
   {
    "duration": 15,
    "start_time": "2022-04-12T22:03:07.596Z"
   },
   {
    "duration": 83,
    "start_time": "2022-04-12T22:03:35.851Z"
   },
   {
    "duration": 20,
    "start_time": "2022-04-12T22:03:42.957Z"
   },
   {
    "duration": 18,
    "start_time": "2022-04-12T22:04:05.048Z"
   },
   {
    "duration": 16,
    "start_time": "2022-04-12T22:04:12.087Z"
   },
   {
    "duration": 15,
    "start_time": "2022-04-12T22:04:35.919Z"
   },
   {
    "duration": 104,
    "start_time": "2022-04-12T22:05:02.723Z"
   },
   {
    "duration": 88,
    "start_time": "2022-04-12T22:05:07.741Z"
   },
   {
    "duration": 15,
    "start_time": "2022-04-12T22:05:18.617Z"
   },
   {
    "duration": 23,
    "start_time": "2022-04-12T22:06:14.481Z"
   },
   {
    "duration": 82,
    "start_time": "2022-04-12T22:07:24.762Z"
   },
   {
    "duration": 93,
    "start_time": "2022-04-12T22:09:16.227Z"
   },
   {
    "duration": 14,
    "start_time": "2022-04-12T22:09:28.876Z"
   },
   {
    "duration": 12,
    "start_time": "2022-04-12T22:09:32.912Z"
   },
   {
    "duration": 12,
    "start_time": "2022-04-12T22:09:53.719Z"
   },
   {
    "duration": 5,
    "start_time": "2022-04-12T22:12:13.066Z"
   },
   {
    "duration": 44,
    "start_time": "2022-04-12T22:12:39.586Z"
   },
   {
    "duration": 30,
    "start_time": "2022-04-12T22:12:49.343Z"
   },
   {
    "duration": 91,
    "start_time": "2022-04-12T22:12:52.665Z"
   },
   {
    "duration": 57,
    "start_time": "2022-04-12T22:14:16.539Z"
   },
   {
    "duration": 93,
    "start_time": "2022-04-12T22:14:57.490Z"
   },
   {
    "duration": 65,
    "start_time": "2022-04-12T22:15:11.423Z"
   },
   {
    "duration": 44,
    "start_time": "2022-04-12T22:15:15.071Z"
   },
   {
    "duration": 123,
    "start_time": "2022-04-12T22:15:27.955Z"
   },
   {
    "duration": 57,
    "start_time": "2022-04-12T22:15:31.783Z"
   },
   {
    "duration": 14,
    "start_time": "2022-04-12T22:17:48.559Z"
   },
   {
    "duration": 35,
    "start_time": "2022-04-12T22:17:53.678Z"
   },
   {
    "duration": 27,
    "start_time": "2022-04-12T22:18:06.064Z"
   },
   {
    "duration": 20,
    "start_time": "2022-04-12T22:19:20.609Z"
   },
   {
    "duration": 34,
    "start_time": "2022-04-12T22:19:41.679Z"
   },
   {
    "duration": 23,
    "start_time": "2022-04-12T22:21:41.138Z"
   },
   {
    "duration": 25,
    "start_time": "2022-04-12T22:21:51.382Z"
   },
   {
    "duration": 15,
    "start_time": "2022-04-12T22:22:20.384Z"
   },
   {
    "duration": 25,
    "start_time": "2022-04-12T22:22:31.116Z"
   },
   {
    "duration": 26,
    "start_time": "2022-04-12T22:26:01.296Z"
   },
   {
    "duration": 32,
    "start_time": "2022-04-12T22:26:41.316Z"
   },
   {
    "duration": 26,
    "start_time": "2022-04-12T22:27:12.404Z"
   },
   {
    "duration": 1807,
    "start_time": "2022-04-13T08:22:15.327Z"
   },
   {
    "duration": 69,
    "start_time": "2022-04-13T08:22:17.137Z"
   },
   {
    "duration": 106,
    "start_time": "2022-04-13T08:22:17.208Z"
   },
   {
    "duration": 7,
    "start_time": "2022-04-13T08:22:17.318Z"
   },
   {
    "duration": 402,
    "start_time": "2022-04-13T08:22:17.327Z"
   },
   {
    "duration": 203,
    "start_time": "2022-04-13T08:22:17.731Z"
   },
   {
    "duration": 482,
    "start_time": "2022-04-13T08:22:17.936Z"
   },
   {
    "duration": 1169,
    "start_time": "2022-04-13T08:22:18.420Z"
   },
   {
    "duration": 352,
    "start_time": "2022-04-13T08:22:19.591Z"
   },
   {
    "duration": 155,
    "start_time": "2022-04-13T08:22:19.946Z"
   },
   {
    "duration": 72,
    "start_time": "2022-04-13T08:22:20.103Z"
   },
   {
    "duration": 37,
    "start_time": "2022-04-13T08:22:20.177Z"
   },
   {
    "duration": 9082,
    "start_time": "2022-04-13T08:22:20.217Z"
   },
   {
    "duration": 8,
    "start_time": "2022-04-13T08:22:29.302Z"
   },
   {
    "duration": 42,
    "start_time": "2022-04-13T08:22:29.312Z"
   },
   {
    "duration": 49,
    "start_time": "2022-04-13T08:22:29.357Z"
   },
   {
    "duration": 159,
    "start_time": "2022-04-13T08:26:27.877Z"
   },
   {
    "duration": 19,
    "start_time": "2022-04-13T08:26:36.810Z"
   },
   {
    "duration": 41,
    "start_time": "2022-04-13T08:26:42.885Z"
   },
   {
    "duration": 165,
    "start_time": "2022-04-13T08:27:33.413Z"
   },
   {
    "duration": 86,
    "start_time": "2022-04-13T08:29:31.521Z"
   },
   {
    "duration": 82,
    "start_time": "2022-04-13T08:29:48.550Z"
   },
   {
    "duration": 81,
    "start_time": "2022-04-13T08:30:14.828Z"
   },
   {
    "duration": 91,
    "start_time": "2022-04-13T08:30:46.223Z"
   },
   {
    "duration": 86,
    "start_time": "2022-04-13T08:31:32.394Z"
   },
   {
    "duration": 1435,
    "start_time": "2022-04-13T08:31:40.046Z"
   },
   {
    "duration": 66,
    "start_time": "2022-04-13T08:31:41.484Z"
   },
   {
    "duration": 94,
    "start_time": "2022-04-13T08:31:41.552Z"
   },
   {
    "duration": 5,
    "start_time": "2022-04-13T08:31:41.649Z"
   },
   {
    "duration": 383,
    "start_time": "2022-04-13T08:31:41.659Z"
   },
   {
    "duration": 206,
    "start_time": "2022-04-13T08:31:42.044Z"
   },
   {
    "duration": 422,
    "start_time": "2022-04-13T08:31:42.252Z"
   },
   {
    "duration": 1057,
    "start_time": "2022-04-13T08:31:42.677Z"
   },
   {
    "duration": 346,
    "start_time": "2022-04-13T08:31:43.736Z"
   },
   {
    "duration": 142,
    "start_time": "2022-04-13T08:31:44.084Z"
   },
   {
    "duration": 92,
    "start_time": "2022-04-13T08:31:44.228Z"
   },
   {
    "duration": 21,
    "start_time": "2022-04-13T08:31:44.322Z"
   },
   {
    "duration": 8901,
    "start_time": "2022-04-13T08:31:44.345Z"
   },
   {
    "duration": 8,
    "start_time": "2022-04-13T08:31:53.249Z"
   },
   {
    "duration": 46,
    "start_time": "2022-04-13T08:31:53.259Z"
   },
   {
    "duration": 34,
    "start_time": "2022-04-13T08:31:53.307Z"
   },
   {
    "duration": 162,
    "start_time": "2022-04-13T08:33:20.434Z"
   },
   {
    "duration": 80,
    "start_time": "2022-04-13T08:33:33.045Z"
   },
   {
    "duration": 79,
    "start_time": "2022-04-13T08:33:41.430Z"
   },
   {
    "duration": 78,
    "start_time": "2022-04-13T08:35:10.577Z"
   },
   {
    "duration": 239,
    "start_time": "2022-04-13T08:35:39.454Z"
   },
   {
    "duration": 81,
    "start_time": "2022-04-13T08:36:17.189Z"
   },
   {
    "duration": 157,
    "start_time": "2022-04-13T08:37:24.485Z"
   },
   {
    "duration": 80,
    "start_time": "2022-04-13T08:37:36.541Z"
   },
   {
    "duration": 96,
    "start_time": "2022-04-13T08:38:54.502Z"
   },
   {
    "duration": 90,
    "start_time": "2022-04-13T08:39:03.018Z"
   },
   {
    "duration": 34,
    "start_time": "2022-04-13T08:39:09.018Z"
   },
   {
    "duration": 85,
    "start_time": "2022-04-13T08:42:30.395Z"
   },
   {
    "duration": 86,
    "start_time": "2022-04-13T08:42:35.610Z"
   },
   {
    "duration": 158,
    "start_time": "2022-04-13T08:42:39.696Z"
   },
   {
    "duration": 98,
    "start_time": "2022-04-13T08:42:54.919Z"
   },
   {
    "duration": 116,
    "start_time": "2022-04-13T08:43:07.878Z"
   },
   {
    "duration": 90,
    "start_time": "2022-04-13T08:43:47.159Z"
   },
   {
    "duration": 22,
    "start_time": "2022-04-13T08:43:53.482Z"
   },
   {
    "duration": 431,
    "start_time": "2022-04-13T09:01:02.668Z"
   },
   {
    "duration": 427,
    "start_time": "2022-04-13T09:01:28.595Z"
   },
   {
    "duration": 1299,
    "start_time": "2022-04-13T17:15:19.200Z"
   },
   {
    "duration": 196,
    "start_time": "2022-04-13T17:15:20.501Z"
   },
   {
    "duration": 59,
    "start_time": "2022-04-13T17:15:20.699Z"
   },
   {
    "duration": 4,
    "start_time": "2022-04-13T17:15:20.761Z"
   },
   {
    "duration": 252,
    "start_time": "2022-04-13T17:15:20.767Z"
   },
   {
    "duration": 129,
    "start_time": "2022-04-13T17:15:21.021Z"
   },
   {
    "duration": 280,
    "start_time": "2022-04-13T17:15:21.152Z"
   },
   {
    "duration": 777,
    "start_time": "2022-04-13T17:15:21.434Z"
   },
   {
    "duration": 216,
    "start_time": "2022-04-13T17:15:22.212Z"
   },
   {
    "duration": 138,
    "start_time": "2022-04-13T17:15:22.430Z"
   },
   {
    "duration": 14,
    "start_time": "2022-04-13T17:15:22.569Z"
   },
   {
    "duration": 5441,
    "start_time": "2022-04-13T17:15:22.584Z"
   },
   {
    "duration": 6,
    "start_time": "2022-04-13T17:15:28.026Z"
   },
   {
    "duration": 25,
    "start_time": "2022-04-13T17:15:28.033Z"
   },
   {
    "duration": 25,
    "start_time": "2022-04-13T17:15:28.059Z"
   },
   {
    "duration": 259,
    "start_time": "2022-04-13T17:35:13.729Z"
   },
   {
    "duration": 284,
    "start_time": "2022-04-13T17:36:19.831Z"
   },
   {
    "duration": 1071,
    "start_time": "2022-04-13T17:37:53.812Z"
   },
   {
    "duration": 51,
    "start_time": "2022-04-13T17:37:54.884Z"
   },
   {
    "duration": 74,
    "start_time": "2022-04-13T17:37:54.936Z"
   },
   {
    "duration": 5,
    "start_time": "2022-04-13T17:37:55.012Z"
   },
   {
    "duration": 237,
    "start_time": "2022-04-13T17:37:55.018Z"
   },
   {
    "duration": 127,
    "start_time": "2022-04-13T17:37:55.257Z"
   },
   {
    "duration": 272,
    "start_time": "2022-04-13T17:37:55.385Z"
   },
   {
    "duration": 717,
    "start_time": "2022-04-13T17:37:55.658Z"
   },
   {
    "duration": 206,
    "start_time": "2022-04-13T17:37:56.377Z"
   },
   {
    "duration": 123,
    "start_time": "2022-04-13T17:37:56.585Z"
   },
   {
    "duration": 226,
    "start_time": "2022-04-13T17:37:56.709Z"
   },
   {
    "duration": 5339,
    "start_time": "2022-04-13T17:37:56.937Z"
   },
   {
    "duration": 2,
    "start_time": "2022-04-13T17:38:02.277Z"
   },
   {
    "duration": 6,
    "start_time": "2022-04-13T17:38:02.281Z"
   },
   {
    "duration": 7,
    "start_time": "2022-04-13T17:38:02.288Z"
   },
   {
    "duration": 11,
    "start_time": "2022-04-13T17:38:02.296Z"
   },
   {
    "duration": 108,
    "start_time": "2022-04-13T17:38:02.309Z"
   },
   {
    "duration": 1130,
    "start_time": "2022-04-13T17:40:02.667Z"
   },
   {
    "duration": 56,
    "start_time": "2022-04-13T17:40:03.799Z"
   },
   {
    "duration": 74,
    "start_time": "2022-04-13T17:40:03.856Z"
   },
   {
    "duration": 5,
    "start_time": "2022-04-13T17:40:03.932Z"
   },
   {
    "duration": 250,
    "start_time": "2022-04-13T17:40:03.938Z"
   },
   {
    "duration": 127,
    "start_time": "2022-04-13T17:40:04.190Z"
   },
   {
    "duration": 279,
    "start_time": "2022-04-13T17:40:04.318Z"
   },
   {
    "duration": 789,
    "start_time": "2022-04-13T17:40:04.606Z"
   },
   {
    "duration": 228,
    "start_time": "2022-04-13T17:40:05.397Z"
   },
   {
    "duration": 135,
    "start_time": "2022-04-13T17:40:05.627Z"
   },
   {
    "duration": 243,
    "start_time": "2022-04-13T17:40:05.764Z"
   },
   {
    "duration": 5432,
    "start_time": "2022-04-13T17:40:06.009Z"
   },
   {
    "duration": 3,
    "start_time": "2022-04-13T17:40:11.443Z"
   },
   {
    "duration": 5,
    "start_time": "2022-04-13T17:40:11.447Z"
   },
   {
    "duration": 5,
    "start_time": "2022-04-13T17:40:11.453Z"
   },
   {
    "duration": 7,
    "start_time": "2022-04-13T17:40:11.460Z"
   },
   {
    "duration": 7,
    "start_time": "2022-04-13T17:40:11.468Z"
   },
   {
    "duration": 1121,
    "start_time": "2022-04-13T17:44:42.684Z"
   },
   {
    "duration": 55,
    "start_time": "2022-04-13T17:44:43.807Z"
   },
   {
    "duration": 78,
    "start_time": "2022-04-13T17:44:43.863Z"
   },
   {
    "duration": 5,
    "start_time": "2022-04-13T17:44:43.943Z"
   },
   {
    "duration": 259,
    "start_time": "2022-04-13T17:44:43.949Z"
   },
   {
    "duration": 137,
    "start_time": "2022-04-13T17:44:44.209Z"
   },
   {
    "duration": 305,
    "start_time": "2022-04-13T17:44:44.348Z"
   },
   {
    "duration": 741,
    "start_time": "2022-04-13T17:44:44.655Z"
   },
   {
    "duration": 224,
    "start_time": "2022-04-13T17:44:45.398Z"
   },
   {
    "duration": 131,
    "start_time": "2022-04-13T17:44:45.625Z"
   },
   {
    "duration": 249,
    "start_time": "2022-04-13T17:44:45.758Z"
   },
   {
    "duration": 5358,
    "start_time": "2022-04-13T17:44:46.009Z"
   },
   {
    "duration": 0,
    "start_time": "2022-04-13T17:44:51.368Z"
   },
   {
    "duration": 0,
    "start_time": "2022-04-13T17:44:51.370Z"
   },
   {
    "duration": 0,
    "start_time": "2022-04-13T17:44:51.371Z"
   },
   {
    "duration": 0,
    "start_time": "2022-04-13T17:44:51.372Z"
   },
   {
    "duration": 0,
    "start_time": "2022-04-13T17:44:51.373Z"
   },
   {
    "duration": 1147,
    "start_time": "2022-04-13T17:57:02.445Z"
   },
   {
    "duration": 57,
    "start_time": "2022-04-13T17:57:03.594Z"
   },
   {
    "duration": 80,
    "start_time": "2022-04-13T17:57:03.653Z"
   },
   {
    "duration": 4,
    "start_time": "2022-04-13T17:57:03.735Z"
   },
   {
    "duration": 259,
    "start_time": "2022-04-13T17:57:03.741Z"
   },
   {
    "duration": 136,
    "start_time": "2022-04-13T17:57:04.002Z"
   },
   {
    "duration": 293,
    "start_time": "2022-04-13T17:57:04.140Z"
   },
   {
    "duration": 745,
    "start_time": "2022-04-13T17:57:04.435Z"
   },
   {
    "duration": 222,
    "start_time": "2022-04-13T17:57:05.182Z"
   },
   {
    "duration": 132,
    "start_time": "2022-04-13T17:57:05.407Z"
   },
   {
    "duration": 247,
    "start_time": "2022-04-13T17:57:05.540Z"
   },
   {
    "duration": 5857,
    "start_time": "2022-04-13T17:57:05.789Z"
   },
   {
    "duration": 0,
    "start_time": "2022-04-13T17:57:11.648Z"
   },
   {
    "duration": 0,
    "start_time": "2022-04-13T17:57:11.649Z"
   },
   {
    "duration": 0,
    "start_time": "2022-04-13T17:57:11.650Z"
   },
   {
    "duration": 0,
    "start_time": "2022-04-13T17:57:11.651Z"
   },
   {
    "duration": 0,
    "start_time": "2022-04-13T17:57:11.652Z"
   },
   {
    "duration": 5072,
    "start_time": "2022-04-13T17:57:45.593Z"
   },
   {
    "duration": 5841,
    "start_time": "2022-04-13T17:58:09.656Z"
   },
   {
    "duration": 5414,
    "start_time": "2022-04-13T17:58:21.138Z"
   },
   {
    "duration": 1165,
    "start_time": "2022-04-13T17:58:43.581Z"
   },
   {
    "duration": 54,
    "start_time": "2022-04-13T17:58:44.748Z"
   },
   {
    "duration": 62,
    "start_time": "2022-04-13T17:58:44.804Z"
   },
   {
    "duration": 5,
    "start_time": "2022-04-13T17:58:44.869Z"
   },
   {
    "duration": 280,
    "start_time": "2022-04-13T17:58:44.875Z"
   },
   {
    "duration": 139,
    "start_time": "2022-04-13T17:58:45.157Z"
   },
   {
    "duration": 308,
    "start_time": "2022-04-13T17:58:45.297Z"
   },
   {
    "duration": 775,
    "start_time": "2022-04-13T17:58:45.607Z"
   },
   {
    "duration": 219,
    "start_time": "2022-04-13T17:58:46.383Z"
   },
   {
    "duration": 134,
    "start_time": "2022-04-13T17:58:46.607Z"
   },
   {
    "duration": 249,
    "start_time": "2022-04-13T17:58:46.743Z"
   },
   {
    "duration": 5252,
    "start_time": "2022-04-13T17:58:46.994Z"
   },
   {
    "duration": 3,
    "start_time": "2022-04-13T17:58:52.247Z"
   },
   {
    "duration": 4,
    "start_time": "2022-04-13T17:58:52.251Z"
   },
   {
    "duration": 6,
    "start_time": "2022-04-13T17:58:52.257Z"
   },
   {
    "duration": 5,
    "start_time": "2022-04-13T17:58:52.264Z"
   },
   {
    "duration": 5,
    "start_time": "2022-04-13T17:58:52.270Z"
   },
   {
    "duration": 1140,
    "start_time": "2022-04-13T17:59:56.636Z"
   },
   {
    "duration": 53,
    "start_time": "2022-04-13T17:59:57.777Z"
   },
   {
    "duration": 76,
    "start_time": "2022-04-13T17:59:57.832Z"
   },
   {
    "duration": 4,
    "start_time": "2022-04-13T17:59:57.910Z"
   },
   {
    "duration": 249,
    "start_time": "2022-04-13T17:59:57.915Z"
   },
   {
    "duration": 123,
    "start_time": "2022-04-13T17:59:58.166Z"
   },
   {
    "duration": 274,
    "start_time": "2022-04-13T17:59:58.291Z"
   },
   {
    "duration": 700,
    "start_time": "2022-04-13T17:59:58.567Z"
   },
   {
    "duration": 208,
    "start_time": "2022-04-13T17:59:59.268Z"
   },
   {
    "duration": 138,
    "start_time": "2022-04-13T17:59:59.479Z"
   },
   {
    "duration": 228,
    "start_time": "2022-04-13T17:59:59.619Z"
   },
   {
    "duration": 5308,
    "start_time": "2022-04-13T17:59:59.849Z"
   },
   {
    "duration": 3,
    "start_time": "2022-04-13T18:00:05.159Z"
   },
   {
    "duration": 7,
    "start_time": "2022-04-13T18:00:05.165Z"
   },
   {
    "duration": 5,
    "start_time": "2022-04-13T18:00:05.173Z"
   },
   {
    "duration": 7,
    "start_time": "2022-04-13T18:00:05.179Z"
   },
   {
    "duration": 9,
    "start_time": "2022-04-13T18:00:05.188Z"
   },
   {
    "duration": 5179,
    "start_time": "2022-04-13T18:01:37.806Z"
   },
   {
    "duration": 5581,
    "start_time": "2022-04-13T18:02:08.259Z"
   },
   {
    "duration": 5400,
    "start_time": "2022-04-13T18:02:20.929Z"
   },
   {
    "duration": 5126,
    "start_time": "2022-04-13T18:03:40.355Z"
   },
   {
    "duration": 5190,
    "start_time": "2022-04-13T18:04:06.632Z"
   },
   {
    "duration": 5225,
    "start_time": "2022-04-13T18:04:15.608Z"
   },
   {
    "duration": 5032,
    "start_time": "2022-04-13T18:04:30.177Z"
   },
   {
    "duration": 5096,
    "start_time": "2022-04-13T18:04:42.219Z"
   },
   {
    "duration": 5094,
    "start_time": "2022-04-13T18:07:00.746Z"
   },
   {
    "duration": 5172,
    "start_time": "2022-04-13T18:07:19.510Z"
   },
   {
    "duration": 5261,
    "start_time": "2022-04-13T18:07:43.046Z"
   },
   {
    "duration": 5192,
    "start_time": "2022-04-13T18:07:55.239Z"
   },
   {
    "duration": 154,
    "start_time": "2022-04-13T18:08:39.304Z"
   },
   {
    "duration": 5166,
    "start_time": "2022-04-13T18:09:26.206Z"
   },
   {
    "duration": 5411,
    "start_time": "2022-04-13T18:10:01.376Z"
   },
   {
    "duration": 130,
    "start_time": "2022-04-13T18:11:24.778Z"
   },
   {
    "duration": 140,
    "start_time": "2022-04-13T18:11:30.323Z"
   },
   {
    "duration": 131,
    "start_time": "2022-04-13T18:12:04.971Z"
   },
   {
    "duration": 146,
    "start_time": "2022-04-13T18:13:44.829Z"
   },
   {
    "duration": 224,
    "start_time": "2022-04-13T18:13:52.828Z"
   },
   {
    "duration": 176,
    "start_time": "2022-04-13T18:13:58.012Z"
   },
   {
    "duration": 142,
    "start_time": "2022-04-13T18:14:27.885Z"
   },
   {
    "duration": 142,
    "start_time": "2022-04-13T18:14:52.782Z"
   },
   {
    "duration": 620,
    "start_time": "2022-04-13T18:15:49.091Z"
   },
   {
    "duration": 682,
    "start_time": "2022-04-13T18:16:43.540Z"
   },
   {
    "duration": 701,
    "start_time": "2022-04-13T18:16:55.322Z"
   },
   {
    "duration": 5091,
    "start_time": "2022-04-13T18:21:50.838Z"
   },
   {
    "duration": 114,
    "start_time": "2022-04-13T18:22:33.607Z"
   },
   {
    "duration": 5300,
    "start_time": "2022-04-13T18:22:41.350Z"
   },
   {
    "duration": 4860,
    "start_time": "2022-04-13T18:24:34.249Z"
   },
   {
    "duration": 4892,
    "start_time": "2022-04-13T18:24:42.039Z"
   },
   {
    "duration": 5413,
    "start_time": "2022-04-13T18:24:54.893Z"
   },
   {
    "duration": 15,
    "start_time": "2022-04-13T18:25:37.615Z"
   },
   {
    "duration": 4944,
    "start_time": "2022-04-13T18:25:42.268Z"
   },
   {
    "duration": 127,
    "start_time": "2022-04-13T18:25:49.804Z"
   },
   {
    "duration": 139,
    "start_time": "2022-04-13T18:26:01.189Z"
   },
   {
    "duration": 5013,
    "start_time": "2022-04-13T18:26:23.644Z"
   },
   {
    "duration": 132,
    "start_time": "2022-04-13T18:26:30.823Z"
   },
   {
    "duration": 188,
    "start_time": "2022-04-13T18:26:36.964Z"
   },
   {
    "duration": 163,
    "start_time": "2022-04-13T18:26:49.365Z"
   },
   {
    "duration": 181,
    "start_time": "2022-04-13T18:29:53.659Z"
   },
   {
    "duration": 516,
    "start_time": "2022-04-13T18:30:19.218Z"
   },
   {
    "duration": 556,
    "start_time": "2022-04-13T18:30:23.592Z"
   },
   {
    "duration": 5561,
    "start_time": "2022-04-13T18:30:51.715Z"
   },
   {
    "duration": 709,
    "start_time": "2022-04-13T18:31:46.254Z"
   },
   {
    "duration": 655,
    "start_time": "2022-04-13T18:31:54.594Z"
   },
   {
    "duration": 7,
    "start_time": "2022-04-13T18:34:34.254Z"
   },
   {
    "duration": 7,
    "start_time": "2022-04-13T18:35:10.030Z"
   },
   {
    "duration": 5247,
    "start_time": "2022-04-13T18:36:10.541Z"
   },
   {
    "duration": 14,
    "start_time": "2022-04-13T18:37:02.359Z"
   },
   {
    "duration": 18,
    "start_time": "2022-04-13T18:37:39.447Z"
   },
   {
    "duration": 21,
    "start_time": "2022-04-13T18:38:11.080Z"
   },
   {
    "duration": 29,
    "start_time": "2022-04-13T18:46:11.285Z"
   },
   {
    "duration": 256,
    "start_time": "2022-04-13T18:46:16.499Z"
   },
   {
    "duration": 20,
    "start_time": "2022-04-13T18:46:22.148Z"
   },
   {
    "duration": 28,
    "start_time": "2022-04-13T18:46:48.836Z"
   },
   {
    "duration": 27,
    "start_time": "2022-04-13T18:46:50.698Z"
   },
   {
    "duration": 19,
    "start_time": "2022-04-13T18:46:54.348Z"
   },
   {
    "duration": 5515,
    "start_time": "2022-04-13T18:48:00.865Z"
   },
   {
    "duration": 1216,
    "start_time": "2022-04-13T18:48:10.327Z"
   },
   {
    "duration": 57,
    "start_time": "2022-04-13T18:48:11.545Z"
   },
   {
    "duration": 76,
    "start_time": "2022-04-13T18:48:11.603Z"
   },
   {
    "duration": 34,
    "start_time": "2022-04-13T18:48:11.681Z"
   },
   {
    "duration": 267,
    "start_time": "2022-04-13T18:48:11.717Z"
   },
   {
    "duration": 143,
    "start_time": "2022-04-13T18:48:11.986Z"
   },
   {
    "duration": 314,
    "start_time": "2022-04-13T18:48:12.130Z"
   },
   {
    "duration": 803,
    "start_time": "2022-04-13T18:48:12.446Z"
   },
   {
    "duration": 242,
    "start_time": "2022-04-13T18:48:13.250Z"
   },
   {
    "duration": 156,
    "start_time": "2022-04-13T18:48:13.494Z"
   },
   {
    "duration": 279,
    "start_time": "2022-04-13T18:48:13.652Z"
   },
   {
    "duration": 5808,
    "start_time": "2022-04-13T18:48:13.933Z"
   },
   {
    "duration": 0,
    "start_time": "2022-04-13T18:48:19.743Z"
   },
   {
    "duration": 0,
    "start_time": "2022-04-13T18:48:19.744Z"
   },
   {
    "duration": 0,
    "start_time": "2022-04-13T18:48:19.745Z"
   },
   {
    "duration": 0,
    "start_time": "2022-04-13T18:48:19.746Z"
   },
   {
    "duration": 0,
    "start_time": "2022-04-13T18:48:19.748Z"
   },
   {
    "duration": 6112,
    "start_time": "2022-04-13T18:50:21.683Z"
   },
   {
    "duration": 1188,
    "start_time": "2022-04-13T18:50:32.263Z"
   },
   {
    "duration": 56,
    "start_time": "2022-04-13T18:50:33.453Z"
   },
   {
    "duration": 67,
    "start_time": "2022-04-13T18:50:33.512Z"
   },
   {
    "duration": 43,
    "start_time": "2022-04-13T18:50:33.581Z"
   },
   {
    "duration": 258,
    "start_time": "2022-04-13T18:50:33.626Z"
   },
   {
    "duration": 145,
    "start_time": "2022-04-13T18:50:33.886Z"
   },
   {
    "duration": 324,
    "start_time": "2022-04-13T18:50:34.033Z"
   },
   {
    "duration": 820,
    "start_time": "2022-04-13T18:50:34.358Z"
   },
   {
    "duration": 253,
    "start_time": "2022-04-13T18:50:35.180Z"
   },
   {
    "duration": 136,
    "start_time": "2022-04-13T18:50:35.435Z"
   },
   {
    "duration": 261,
    "start_time": "2022-04-13T18:50:35.572Z"
   },
   {
    "duration": 6014,
    "start_time": "2022-04-13T18:50:35.835Z"
   },
   {
    "duration": 22,
    "start_time": "2022-04-13T18:50:41.850Z"
   },
   {
    "duration": 3,
    "start_time": "2022-04-13T18:50:41.873Z"
   },
   {
    "duration": 5,
    "start_time": "2022-04-13T18:50:41.877Z"
   },
   {
    "duration": 5,
    "start_time": "2022-04-13T18:50:41.883Z"
   },
   {
    "duration": 4,
    "start_time": "2022-04-13T18:50:41.909Z"
   },
   {
    "duration": 11,
    "start_time": "2022-04-13T19:00:08.811Z"
   },
   {
    "duration": 16,
    "start_time": "2022-04-13T19:00:12.354Z"
   },
   {
    "duration": 10,
    "start_time": "2022-04-13T19:01:32.227Z"
   },
   {
    "duration": 16,
    "start_time": "2022-04-13T19:01:36.690Z"
   },
   {
    "duration": 14,
    "start_time": "2022-04-13T19:01:49.684Z"
   },
   {
    "duration": 14,
    "start_time": "2022-04-13T19:16:36.430Z"
   },
   {
    "duration": 15,
    "start_time": "2022-04-13T19:17:08.894Z"
   },
   {
    "duration": 15,
    "start_time": "2022-04-13T19:17:37.717Z"
   },
   {
    "duration": 13,
    "start_time": "2022-04-13T19:17:43.469Z"
   },
   {
    "duration": 10,
    "start_time": "2022-04-13T19:17:59.259Z"
   },
   {
    "duration": 19,
    "start_time": "2022-04-13T19:18:21.804Z"
   },
   {
    "duration": 111,
    "start_time": "2022-04-13T19:18:26.371Z"
   },
   {
    "duration": 14,
    "start_time": "2022-04-13T19:18:32.724Z"
   },
   {
    "duration": 1152,
    "start_time": "2022-04-13T19:18:47.160Z"
   },
   {
    "duration": 58,
    "start_time": "2022-04-13T19:18:48.314Z"
   },
   {
    "duration": 76,
    "start_time": "2022-04-13T19:18:48.373Z"
   },
   {
    "duration": 5,
    "start_time": "2022-04-13T19:18:48.452Z"
   },
   {
    "duration": 276,
    "start_time": "2022-04-13T19:18:48.459Z"
   },
   {
    "duration": 145,
    "start_time": "2022-04-13T19:18:48.737Z"
   },
   {
    "duration": 289,
    "start_time": "2022-04-13T19:18:48.883Z"
   },
   {
    "duration": 749,
    "start_time": "2022-04-13T19:18:49.173Z"
   },
   {
    "duration": 223,
    "start_time": "2022-04-13T19:18:49.924Z"
   },
   {
    "duration": 138,
    "start_time": "2022-04-13T19:18:50.150Z"
   },
   {
    "duration": 237,
    "start_time": "2022-04-13T19:18:50.290Z"
   },
   {
    "duration": 5446,
    "start_time": "2022-04-13T19:18:50.529Z"
   },
   {
    "duration": 19,
    "start_time": "2022-04-13T19:18:55.977Z"
   },
   {
    "duration": 20,
    "start_time": "2022-04-13T19:18:55.997Z"
   },
   {
    "duration": 8,
    "start_time": "2022-04-13T19:18:56.018Z"
   },
   {
    "duration": 21,
    "start_time": "2022-04-13T19:19:29.270Z"
   },
   {
    "duration": 18,
    "start_time": "2022-04-13T19:22:06.592Z"
   },
   {
    "duration": 232,
    "start_time": "2022-04-13T19:22:47.188Z"
   },
   {
    "duration": 157,
    "start_time": "2022-04-13T19:23:19.167Z"
   },
   {
    "duration": 153,
    "start_time": "2022-04-13T19:23:29.451Z"
   },
   {
    "duration": 327,
    "start_time": "2022-04-13T19:23:45.297Z"
   },
   {
    "duration": 338,
    "start_time": "2022-04-13T19:24:05.823Z"
   },
   {
    "duration": 178,
    "start_time": "2022-04-13T19:24:27.510Z"
   },
   {
    "duration": 167,
    "start_time": "2022-04-13T19:24:33.251Z"
   },
   {
    "duration": 10,
    "start_time": "2022-04-13T19:27:12.324Z"
   },
   {
    "duration": 180,
    "start_time": "2022-04-13T19:27:17.362Z"
   },
   {
    "duration": 1977,
    "start_time": "2022-04-13T19:27:25.883Z"
   },
   {
    "duration": 17,
    "start_time": "2022-04-13T19:27:57.442Z"
   },
   {
    "duration": 184,
    "start_time": "2022-04-13T19:28:27.239Z"
   },
   {
    "duration": 296,
    "start_time": "2022-04-13T19:28:35.432Z"
   },
   {
    "duration": 338,
    "start_time": "2022-04-13T19:28:59.106Z"
   },
   {
    "duration": 249,
    "start_time": "2022-04-13T19:29:11.178Z"
   },
   {
    "duration": 1103,
    "start_time": "2022-04-13T19:29:40.688Z"
   },
   {
    "duration": 2169,
    "start_time": "2022-04-13T19:29:57.928Z"
   },
   {
    "duration": 1609,
    "start_time": "2022-04-13T19:30:05.911Z"
   },
   {
    "duration": 202,
    "start_time": "2022-04-13T19:30:17.089Z"
   },
   {
    "duration": 259,
    "start_time": "2022-04-13T19:30:20.776Z"
   },
   {
    "duration": 54,
    "start_time": "2022-04-13T21:10:49.153Z"
   },
   {
    "duration": 1358,
    "start_time": "2022-04-13T21:11:30.849Z"
   },
   {
    "duration": 49,
    "start_time": "2022-04-13T21:11:32.210Z"
   },
   {
    "duration": 66,
    "start_time": "2022-04-13T21:11:32.261Z"
   },
   {
    "duration": 5,
    "start_time": "2022-04-13T21:11:32.328Z"
   },
   {
    "duration": 262,
    "start_time": "2022-04-13T21:11:32.334Z"
   },
   {
    "duration": 128,
    "start_time": "2022-04-13T21:11:32.597Z"
   },
   {
    "duration": 288,
    "start_time": "2022-04-13T21:11:32.727Z"
   },
   {
    "duration": 744,
    "start_time": "2022-04-13T21:11:33.017Z"
   },
   {
    "duration": 227,
    "start_time": "2022-04-13T21:11:33.763Z"
   },
   {
    "duration": 156,
    "start_time": "2022-04-13T21:11:33.993Z"
   },
   {
    "duration": 247,
    "start_time": "2022-04-13T21:11:34.151Z"
   },
   {
    "duration": 5313,
    "start_time": "2022-04-13T21:11:34.400Z"
   },
   {
    "duration": 20,
    "start_time": "2022-04-13T21:11:39.714Z"
   },
   {
    "duration": 12,
    "start_time": "2022-04-13T21:11:39.735Z"
   },
   {
    "duration": 46,
    "start_time": "2022-04-13T21:11:39.748Z"
   },
   {
    "duration": 252,
    "start_time": "2022-04-13T21:11:39.795Z"
   },
   {
    "duration": 1201,
    "start_time": "2022-04-13T21:16:41.845Z"
   },
   {
    "duration": 62,
    "start_time": "2022-04-13T21:16:43.048Z"
   },
   {
    "duration": 80,
    "start_time": "2022-04-13T21:16:43.111Z"
   },
   {
    "duration": 4,
    "start_time": "2022-04-13T21:16:43.192Z"
   },
   {
    "duration": 248,
    "start_time": "2022-04-13T21:16:43.198Z"
   },
   {
    "duration": 147,
    "start_time": "2022-04-13T21:16:43.447Z"
   },
   {
    "duration": 288,
    "start_time": "2022-04-13T21:16:43.596Z"
   },
   {
    "duration": 766,
    "start_time": "2022-04-13T21:16:43.887Z"
   },
   {
    "duration": 232,
    "start_time": "2022-04-13T21:16:44.655Z"
   },
   {
    "duration": 158,
    "start_time": "2022-04-13T21:16:44.890Z"
   },
   {
    "duration": 250,
    "start_time": "2022-04-13T21:16:45.050Z"
   },
   {
    "duration": 5540,
    "start_time": "2022-04-13T21:16:45.302Z"
   },
   {
    "duration": 20,
    "start_time": "2022-04-13T21:16:50.843Z"
   },
   {
    "duration": 19,
    "start_time": "2022-04-13T21:16:50.872Z"
   },
   {
    "duration": 19,
    "start_time": "2022-04-13T21:16:50.893Z"
   },
   {
    "duration": 265,
    "start_time": "2022-04-13T21:16:50.913Z"
   },
   {
    "duration": 22,
    "start_time": "2022-04-13T21:18:05.867Z"
   },
   {
    "duration": 20,
    "start_time": "2022-04-13T21:18:14.617Z"
   },
   {
    "duration": 89,
    "start_time": "2022-04-13T21:18:43.162Z"
   },
   {
    "duration": 94,
    "start_time": "2022-04-13T21:18:47.304Z"
   },
   {
    "duration": 16,
    "start_time": "2022-04-13T21:18:51.945Z"
   },
   {
    "duration": 126,
    "start_time": "2022-04-13T21:19:25.520Z"
   },
   {
    "duration": 19,
    "start_time": "2022-04-13T21:19:29.720Z"
   },
   {
    "duration": 24,
    "start_time": "2022-04-13T21:20:10.026Z"
   },
   {
    "duration": 20,
    "start_time": "2022-04-13T21:20:20.985Z"
   },
   {
    "duration": 61,
    "start_time": "2022-04-13T21:21:01.186Z"
   },
   {
    "duration": 72,
    "start_time": "2022-04-13T21:21:30.464Z"
   },
   {
    "duration": 57,
    "start_time": "2022-04-13T21:21:42.520Z"
   },
   {
    "duration": 75,
    "start_time": "2022-04-13T21:21:51.151Z"
   },
   {
    "duration": 20,
    "start_time": "2022-04-13T21:23:38.341Z"
   },
   {
    "duration": 14,
    "start_time": "2022-04-13T21:23:46.957Z"
   },
   {
    "duration": 20,
    "start_time": "2022-04-13T21:24:52.157Z"
   },
   {
    "duration": 197,
    "start_time": "2022-04-13T21:40:11.838Z"
   },
   {
    "duration": 219,
    "start_time": "2022-04-13T21:40:20.689Z"
   },
   {
    "duration": 293,
    "start_time": "2022-04-13T21:40:23.855Z"
   },
   {
    "duration": 262,
    "start_time": "2022-04-13T21:40:45.237Z"
   },
   {
    "duration": 130,
    "start_time": "2022-04-13T21:41:01.277Z"
   },
   {
    "duration": 212,
    "start_time": "2022-04-13T21:41:12.261Z"
   },
   {
    "duration": 235,
    "start_time": "2022-04-13T21:48:01.584Z"
   },
   {
    "duration": 21,
    "start_time": "2022-04-13T21:49:32.568Z"
   },
   {
    "duration": 1091,
    "start_time": "2022-04-13T21:50:59.890Z"
   },
   {
    "duration": 59,
    "start_time": "2022-04-13T21:51:00.983Z"
   },
   {
    "duration": 67,
    "start_time": "2022-04-13T21:51:01.046Z"
   },
   {
    "duration": 4,
    "start_time": "2022-04-13T21:51:01.115Z"
   },
   {
    "duration": 254,
    "start_time": "2022-04-13T21:51:01.121Z"
   },
   {
    "duration": 132,
    "start_time": "2022-04-13T21:51:01.377Z"
   },
   {
    "duration": 298,
    "start_time": "2022-04-13T21:51:01.510Z"
   },
   {
    "duration": 690,
    "start_time": "2022-04-13T21:51:01.810Z"
   },
   {
    "duration": 219,
    "start_time": "2022-04-13T21:51:02.503Z"
   },
   {
    "duration": 168,
    "start_time": "2022-04-13T21:51:02.724Z"
   },
   {
    "duration": 217,
    "start_time": "2022-04-13T21:51:02.894Z"
   },
   {
    "duration": 4954,
    "start_time": "2022-04-13T21:51:03.112Z"
   },
   {
    "duration": 22,
    "start_time": "2022-04-13T21:51:08.068Z"
   },
   {
    "duration": 11,
    "start_time": "2022-04-13T21:51:08.092Z"
   },
   {
    "duration": 17,
    "start_time": "2022-04-13T21:51:08.104Z"
   },
   {
    "duration": 240,
    "start_time": "2022-04-13T21:51:08.122Z"
   },
   {
    "duration": 16,
    "start_time": "2022-04-13T22:05:03.289Z"
   },
   {
    "duration": 20,
    "start_time": "2022-04-13T22:05:10.804Z"
   },
   {
    "duration": 18,
    "start_time": "2022-04-13T22:05:45.829Z"
   },
   {
    "duration": 77,
    "start_time": "2022-04-13T22:06:21.717Z"
   },
   {
    "duration": 72,
    "start_time": "2022-04-13T22:06:41.837Z"
   },
   {
    "duration": 21,
    "start_time": "2022-04-13T22:06:48.908Z"
   },
   {
    "duration": 86,
    "start_time": "2022-04-13T22:07:55.308Z"
   },
   {
    "duration": 16,
    "start_time": "2022-04-13T22:08:01.923Z"
   },
   {
    "duration": 22,
    "start_time": "2022-04-13T22:08:18.660Z"
   },
   {
    "duration": 20,
    "start_time": "2022-04-13T22:09:04.802Z"
   },
   {
    "duration": 22,
    "start_time": "2022-04-13T22:09:22.746Z"
   },
   {
    "duration": 18,
    "start_time": "2022-04-13T22:09:47.981Z"
   },
   {
    "duration": 18,
    "start_time": "2022-04-13T22:09:50.571Z"
   },
   {
    "duration": 14,
    "start_time": "2022-04-13T22:10:03.475Z"
   },
   {
    "duration": 19,
    "start_time": "2022-04-13T22:10:55.548Z"
   },
   {
    "duration": 21,
    "start_time": "2022-04-13T22:11:33.725Z"
   },
   {
    "duration": 7,
    "start_time": "2022-04-13T22:13:10.187Z"
   },
   {
    "duration": 10,
    "start_time": "2022-04-13T22:13:25.024Z"
   },
   {
    "duration": 26,
    "start_time": "2022-04-13T22:17:42.329Z"
   },
   {
    "duration": 1231,
    "start_time": "2022-04-14T06:22:06.961Z"
   },
   {
    "duration": 51,
    "start_time": "2022-04-14T06:22:08.194Z"
   },
   {
    "duration": 53,
    "start_time": "2022-04-14T06:22:08.247Z"
   },
   {
    "duration": 22,
    "start_time": "2022-04-14T06:22:08.302Z"
   },
   {
    "duration": 216,
    "start_time": "2022-04-14T06:22:08.325Z"
   },
   {
    "duration": 118,
    "start_time": "2022-04-14T06:22:08.542Z"
   },
   {
    "duration": 249,
    "start_time": "2022-04-14T06:22:08.662Z"
   },
   {
    "duration": 725,
    "start_time": "2022-04-14T06:22:08.913Z"
   },
   {
    "duration": 199,
    "start_time": "2022-04-14T06:22:09.640Z"
   },
   {
    "duration": 138,
    "start_time": "2022-04-14T06:22:09.841Z"
   },
   {
    "duration": 206,
    "start_time": "2022-04-14T06:22:09.980Z"
   },
   {
    "duration": 5294,
    "start_time": "2022-04-14T06:22:10.188Z"
   },
   {
    "duration": 19,
    "start_time": "2022-04-14T06:22:15.484Z"
   },
   {
    "duration": 20,
    "start_time": "2022-04-14T06:22:15.504Z"
   },
   {
    "duration": 20,
    "start_time": "2022-04-14T06:22:15.526Z"
   },
   {
    "duration": 26,
    "start_time": "2022-04-14T06:22:15.548Z"
   },
   {
    "duration": 240,
    "start_time": "2022-04-14T06:22:15.575Z"
   },
   {
    "duration": 182,
    "start_time": "2022-04-14T06:32:58.495Z"
   },
   {
    "duration": 8,
    "start_time": "2022-04-14T06:36:01.743Z"
   },
   {
    "duration": 108,
    "start_time": "2022-04-14T06:41:23.830Z"
   },
   {
    "duration": 7,
    "start_time": "2022-04-14T06:41:31.588Z"
   },
   {
    "duration": 103,
    "start_time": "2022-04-14T06:41:38.474Z"
   },
   {
    "duration": 1230,
    "start_time": "2022-04-14T06:41:47.293Z"
   },
   {
    "duration": 53,
    "start_time": "2022-04-14T06:41:48.525Z"
   },
   {
    "duration": 64,
    "start_time": "2022-04-14T06:41:48.580Z"
   },
   {
    "duration": 5,
    "start_time": "2022-04-14T06:41:48.646Z"
   },
   {
    "duration": 240,
    "start_time": "2022-04-14T06:41:48.653Z"
   },
   {
    "duration": 130,
    "start_time": "2022-04-14T06:41:48.894Z"
   },
   {
    "duration": 268,
    "start_time": "2022-04-14T06:41:49.025Z"
   },
   {
    "duration": 677,
    "start_time": "2022-04-14T06:41:49.295Z"
   },
   {
    "duration": 204,
    "start_time": "2022-04-14T06:41:49.973Z"
   },
   {
    "duration": 148,
    "start_time": "2022-04-14T06:41:50.179Z"
   },
   {
    "duration": 224,
    "start_time": "2022-04-14T06:41:50.329Z"
   },
   {
    "duration": 5315,
    "start_time": "2022-04-14T06:41:50.554Z"
   },
   {
    "duration": 17,
    "start_time": "2022-04-14T06:41:55.871Z"
   },
   {
    "duration": 14,
    "start_time": "2022-04-14T06:41:55.891Z"
   },
   {
    "duration": 10,
    "start_time": "2022-04-14T06:41:55.924Z"
   },
   {
    "duration": 19,
    "start_time": "2022-04-14T06:41:55.936Z"
   },
   {
    "duration": 7,
    "start_time": "2022-04-14T06:41:55.956Z"
   },
   {
    "duration": 219,
    "start_time": "2022-04-14T06:41:55.964Z"
   },
   {
    "duration": 1109,
    "start_time": "2022-04-14T06:43:17.379Z"
   },
   {
    "duration": 49,
    "start_time": "2022-04-14T06:43:18.490Z"
   },
   {
    "duration": 59,
    "start_time": "2022-04-14T06:43:18.541Z"
   },
   {
    "duration": 4,
    "start_time": "2022-04-14T06:43:18.624Z"
   },
   {
    "duration": 207,
    "start_time": "2022-04-14T06:43:18.630Z"
   },
   {
    "duration": 114,
    "start_time": "2022-04-14T06:43:18.838Z"
   },
   {
    "duration": 243,
    "start_time": "2022-04-14T06:43:18.954Z"
   },
   {
    "duration": 605,
    "start_time": "2022-04-14T06:43:19.198Z"
   },
   {
    "duration": 187,
    "start_time": "2022-04-14T06:43:19.805Z"
   },
   {
    "duration": 149,
    "start_time": "2022-04-14T06:43:19.995Z"
   },
   {
    "duration": 207,
    "start_time": "2022-04-14T06:43:20.145Z"
   },
   {
    "duration": 5066,
    "start_time": "2022-04-14T06:43:20.354Z"
   },
   {
    "duration": 18,
    "start_time": "2022-04-14T06:43:25.421Z"
   },
   {
    "duration": 507,
    "start_time": "2022-04-14T06:43:25.440Z"
   },
   {
    "duration": 0,
    "start_time": "2022-04-14T06:43:25.949Z"
   },
   {
    "duration": 0,
    "start_time": "2022-04-14T06:43:25.949Z"
   },
   {
    "duration": 0,
    "start_time": "2022-04-14T06:43:25.950Z"
   },
   {
    "duration": 0,
    "start_time": "2022-04-14T06:43:25.951Z"
   },
   {
    "duration": 15,
    "start_time": "2022-04-14T06:43:44.430Z"
   },
   {
    "duration": 1151,
    "start_time": "2022-04-14T06:43:53.682Z"
   },
   {
    "duration": 49,
    "start_time": "2022-04-14T06:43:54.834Z"
   },
   {
    "duration": 64,
    "start_time": "2022-04-14T06:43:54.885Z"
   },
   {
    "duration": 4,
    "start_time": "2022-04-14T06:43:54.951Z"
   },
   {
    "duration": 278,
    "start_time": "2022-04-14T06:43:54.957Z"
   },
   {
    "duration": 162,
    "start_time": "2022-04-14T06:43:55.237Z"
   },
   {
    "duration": 403,
    "start_time": "2022-04-14T06:43:55.401Z"
   },
   {
    "duration": 889,
    "start_time": "2022-04-14T06:43:55.806Z"
   },
   {
    "duration": 281,
    "start_time": "2022-04-14T06:43:56.696Z"
   },
   {
    "duration": 148,
    "start_time": "2022-04-14T06:43:56.980Z"
   },
   {
    "duration": 219,
    "start_time": "2022-04-14T06:43:57.129Z"
   },
   {
    "duration": 5211,
    "start_time": "2022-04-14T06:43:57.350Z"
   },
   {
    "duration": 20,
    "start_time": "2022-04-14T06:44:02.563Z"
   },
   {
    "duration": 96,
    "start_time": "2022-04-14T06:44:02.585Z"
   },
   {
    "duration": 12,
    "start_time": "2022-04-14T06:44:02.682Z"
   },
   {
    "duration": 44,
    "start_time": "2022-04-14T06:44:02.695Z"
   },
   {
    "duration": 9,
    "start_time": "2022-04-14T06:44:02.740Z"
   },
   {
    "duration": 241,
    "start_time": "2022-04-14T06:44:02.750Z"
   },
   {
    "duration": 1113,
    "start_time": "2022-04-14T06:45:47.569Z"
   },
   {
    "duration": 49,
    "start_time": "2022-04-14T06:45:48.684Z"
   },
   {
    "duration": 53,
    "start_time": "2022-04-14T06:45:48.734Z"
   },
   {
    "duration": 4,
    "start_time": "2022-04-14T06:45:48.789Z"
   },
   {
    "duration": 236,
    "start_time": "2022-04-14T06:45:48.795Z"
   },
   {
    "duration": 124,
    "start_time": "2022-04-14T06:45:49.033Z"
   },
   {
    "duration": 256,
    "start_time": "2022-04-14T06:45:49.159Z"
   },
   {
    "duration": 705,
    "start_time": "2022-04-14T06:45:49.417Z"
   },
   {
    "duration": 213,
    "start_time": "2022-04-14T06:45:50.123Z"
   },
   {
    "duration": 151,
    "start_time": "2022-04-14T06:45:50.338Z"
   },
   {
    "duration": 215,
    "start_time": "2022-04-14T06:45:50.491Z"
   },
   {
    "duration": 4829,
    "start_time": "2022-04-14T06:45:50.708Z"
   },
   {
    "duration": 18,
    "start_time": "2022-04-14T06:45:55.538Z"
   },
   {
    "duration": 97,
    "start_time": "2022-04-14T06:45:55.558Z"
   },
   {
    "duration": 12,
    "start_time": "2022-04-14T06:45:55.657Z"
   },
   {
    "duration": 19,
    "start_time": "2022-04-14T06:45:55.670Z"
   },
   {
    "duration": 8,
    "start_time": "2022-04-14T06:45:55.690Z"
   },
   {
    "duration": 210,
    "start_time": "2022-04-14T06:45:55.723Z"
   },
   {
    "duration": 6,
    "start_time": "2022-04-14T06:46:46.332Z"
   },
   {
    "duration": 97,
    "start_time": "2022-04-14T06:48:05.271Z"
   },
   {
    "duration": 24,
    "start_time": "2022-04-14T06:48:15.481Z"
   },
   {
    "duration": 15,
    "start_time": "2022-04-14T06:48:20.730Z"
   },
   {
    "duration": 20,
    "start_time": "2022-04-14T06:48:24.986Z"
   },
   {
    "duration": 117,
    "start_time": "2022-04-14T06:59:22.896Z"
   },
   {
    "duration": 18,
    "start_time": "2022-04-14T06:59:35.157Z"
   },
   {
    "duration": 11,
    "start_time": "2022-04-14T07:00:11.128Z"
   },
   {
    "duration": 1045,
    "start_time": "2022-04-14T07:07:24.944Z"
   },
   {
    "duration": 50,
    "start_time": "2022-04-14T07:07:25.991Z"
   },
   {
    "duration": 53,
    "start_time": "2022-04-14T07:07:26.042Z"
   },
   {
    "duration": 28,
    "start_time": "2022-04-14T07:07:26.097Z"
   },
   {
    "duration": 211,
    "start_time": "2022-04-14T07:07:26.127Z"
   },
   {
    "duration": 122,
    "start_time": "2022-04-14T07:07:26.340Z"
   },
   {
    "duration": 250,
    "start_time": "2022-04-14T07:07:26.463Z"
   },
   {
    "duration": 635,
    "start_time": "2022-04-14T07:07:26.715Z"
   },
   {
    "duration": 182,
    "start_time": "2022-04-14T07:07:27.352Z"
   },
   {
    "duration": 129,
    "start_time": "2022-04-14T07:07:27.536Z"
   },
   {
    "duration": 201,
    "start_time": "2022-04-14T07:07:27.667Z"
   },
   {
    "duration": 5015,
    "start_time": "2022-04-14T07:07:27.869Z"
   },
   {
    "duration": 2,
    "start_time": "2022-04-14T07:07:32.886Z"
   },
   {
    "duration": 103,
    "start_time": "2022-04-14T07:07:32.890Z"
   },
   {
    "duration": 29,
    "start_time": "2022-04-14T07:07:32.995Z"
   },
   {
    "duration": 14,
    "start_time": "2022-04-14T07:07:33.026Z"
   },
   {
    "duration": 20,
    "start_time": "2022-04-14T07:07:33.041Z"
   },
   {
    "duration": 1928,
    "start_time": "2022-04-14T07:07:33.063Z"
   },
   {
    "duration": 0,
    "start_time": "2022-04-14T07:07:34.992Z"
   },
   {
    "duration": 4802,
    "start_time": "2022-04-14T07:10:06.606Z"
   },
   {
    "duration": 151,
    "start_time": "2022-04-14T07:14:01.821Z"
   },
   {
    "duration": 23,
    "start_time": "2022-04-14T07:16:48.501Z"
   },
   {
    "duration": 21,
    "start_time": "2022-04-14T07:17:23.048Z"
   },
   {
    "duration": 24,
    "start_time": "2022-04-14T07:18:02.320Z"
   },
   {
    "duration": 315,
    "start_time": "2022-04-14T07:19:01.929Z"
   },
   {
    "duration": 1863,
    "start_time": "2022-04-14T07:25:18.825Z"
   },
   {
    "duration": 29,
    "start_time": "2022-04-14T07:26:04.883Z"
   },
   {
    "duration": 1111,
    "start_time": "2022-04-14T07:26:18.482Z"
   },
   {
    "duration": 47,
    "start_time": "2022-04-14T07:26:19.595Z"
   },
   {
    "duration": 54,
    "start_time": "2022-04-14T07:26:19.644Z"
   },
   {
    "duration": 27,
    "start_time": "2022-04-14T07:26:19.700Z"
   },
   {
    "duration": 222,
    "start_time": "2022-04-14T07:26:19.728Z"
   },
   {
    "duration": 119,
    "start_time": "2022-04-14T07:26:19.952Z"
   },
   {
    "duration": 257,
    "start_time": "2022-04-14T07:26:20.073Z"
   },
   {
    "duration": 661,
    "start_time": "2022-04-14T07:26:20.332Z"
   },
   {
    "duration": 208,
    "start_time": "2022-04-14T07:26:20.994Z"
   },
   {
    "duration": 139,
    "start_time": "2022-04-14T07:26:21.204Z"
   },
   {
    "duration": 208,
    "start_time": "2022-04-14T07:26:21.345Z"
   },
   {
    "duration": 5269,
    "start_time": "2022-04-14T07:26:21.555Z"
   },
   {
    "duration": 21,
    "start_time": "2022-04-14T07:26:26.826Z"
   },
   {
    "duration": 104,
    "start_time": "2022-04-14T07:26:26.848Z"
   },
   {
    "duration": 22,
    "start_time": "2022-04-14T07:26:26.954Z"
   },
   {
    "duration": 211,
    "start_time": "2022-04-14T07:26:26.978Z"
   },
   {
    "duration": 12,
    "start_time": "2022-04-14T07:26:27.191Z"
   },
   {
    "duration": 32,
    "start_time": "2022-04-14T07:26:27.205Z"
   },
   {
    "duration": 12,
    "start_time": "2022-04-14T07:26:27.239Z"
   },
   {
    "duration": 239,
    "start_time": "2022-04-14T07:26:27.253Z"
   },
   {
    "duration": 12,
    "start_time": "2022-04-14T07:37:52.535Z"
   },
   {
    "duration": 12,
    "start_time": "2022-04-14T07:38:08.082Z"
   },
   {
    "duration": 11,
    "start_time": "2022-04-14T07:38:55.154Z"
   },
   {
    "duration": 9,
    "start_time": "2022-04-14T07:39:07.923Z"
   },
   {
    "duration": 8,
    "start_time": "2022-04-14T07:39:25.266Z"
   },
   {
    "duration": 8,
    "start_time": "2022-04-14T07:39:41.210Z"
   },
   {
    "duration": 18,
    "start_time": "2022-04-14T07:40:08.307Z"
   },
   {
    "duration": 8,
    "start_time": "2022-04-14T07:40:16.028Z"
   },
   {
    "duration": 6,
    "start_time": "2022-04-14T07:40:24.551Z"
   },
   {
    "duration": 7,
    "start_time": "2022-04-14T07:40:28.795Z"
   },
   {
    "duration": 8,
    "start_time": "2022-04-14T07:40:32.830Z"
   },
   {
    "duration": 17,
    "start_time": "2022-04-14T07:41:27.696Z"
   },
   {
    "duration": 17,
    "start_time": "2022-04-14T07:41:37.571Z"
   },
   {
    "duration": 18,
    "start_time": "2022-04-14T07:42:02.158Z"
   },
   {
    "duration": 194,
    "start_time": "2022-04-14T07:43:16.109Z"
   },
   {
    "duration": 96,
    "start_time": "2022-04-14T07:48:43.275Z"
   },
   {
    "duration": 195,
    "start_time": "2022-04-14T07:48:46.656Z"
   },
   {
    "duration": 21,
    "start_time": "2022-04-14T07:48:49.208Z"
   },
   {
    "duration": 21,
    "start_time": "2022-04-14T07:49:17.577Z"
   },
   {
    "duration": 221,
    "start_time": "2022-04-14T07:49:19.497Z"
   },
   {
    "duration": 10,
    "start_time": "2022-04-14T07:49:37.103Z"
   },
   {
    "duration": 12,
    "start_time": "2022-04-14T07:49:38.257Z"
   },
   {
    "duration": 16,
    "start_time": "2022-04-14T07:49:39.054Z"
   },
   {
    "duration": 12,
    "start_time": "2022-04-14T07:51:38.704Z"
   },
   {
    "duration": 12,
    "start_time": "2022-04-14T07:51:56.976Z"
   },
   {
    "duration": 8,
    "start_time": "2022-04-14T07:52:16.649Z"
   },
   {
    "duration": 27,
    "start_time": "2022-04-14T07:53:21.015Z"
   },
   {
    "duration": 18,
    "start_time": "2022-04-14T07:53:24.019Z"
   },
   {
    "duration": 10,
    "start_time": "2022-04-14T07:53:29.249Z"
   },
   {
    "duration": 12,
    "start_time": "2022-04-14T07:54:00.200Z"
   },
   {
    "duration": 8,
    "start_time": "2022-04-14T07:54:07.660Z"
   },
   {
    "duration": 13,
    "start_time": "2022-04-14T07:55:29.720Z"
   },
   {
    "duration": 16,
    "start_time": "2022-04-14T07:55:36.178Z"
   },
   {
    "duration": 13,
    "start_time": "2022-04-14T07:56:20.322Z"
   },
   {
    "duration": 9,
    "start_time": "2022-04-14T07:56:25.573Z"
   },
   {
    "duration": 20,
    "start_time": "2022-04-14T07:56:58.079Z"
   },
   {
    "duration": 24,
    "start_time": "2022-04-14T07:57:26.121Z"
   },
   {
    "duration": 16,
    "start_time": "2022-04-14T07:57:35.834Z"
   },
   {
    "duration": 106,
    "start_time": "2022-04-14T08:15:13.062Z"
   },
   {
    "duration": 15,
    "start_time": "2022-04-14T08:15:26.567Z"
   },
   {
    "duration": 13,
    "start_time": "2022-04-14T08:15:40.153Z"
   },
   {
    "duration": 24,
    "start_time": "2022-04-14T08:15:46.530Z"
   },
   {
    "duration": 101,
    "start_time": "2022-04-14T08:16:04.791Z"
   },
   {
    "duration": 124,
    "start_time": "2022-04-14T08:16:10.399Z"
   },
   {
    "duration": 22,
    "start_time": "2022-04-14T08:16:19.546Z"
   },
   {
    "duration": 23,
    "start_time": "2022-04-14T08:16:52.645Z"
   },
   {
    "duration": 16,
    "start_time": "2022-04-14T08:17:06.096Z"
   },
   {
    "duration": 15,
    "start_time": "2022-04-14T08:17:25.742Z"
   },
   {
    "duration": 17,
    "start_time": "2022-04-14T08:17:39.987Z"
   },
   {
    "duration": 14,
    "start_time": "2022-04-14T08:17:55.806Z"
   },
   {
    "duration": 15,
    "start_time": "2022-04-14T08:18:33.857Z"
   },
   {
    "duration": 18,
    "start_time": "2022-04-14T08:20:22.099Z"
   },
   {
    "duration": 21,
    "start_time": "2022-04-14T08:20:28.301Z"
   },
   {
    "duration": 20,
    "start_time": "2022-04-14T08:20:57.124Z"
   },
   {
    "duration": 22,
    "start_time": "2022-04-14T08:21:01.256Z"
   },
   {
    "duration": 25,
    "start_time": "2022-04-14T08:21:07.078Z"
   },
   {
    "duration": 1354,
    "start_time": "2022-04-14T08:21:26.337Z"
   },
   {
    "duration": 45,
    "start_time": "2022-04-14T08:21:27.693Z"
   },
   {
    "duration": 55,
    "start_time": "2022-04-14T08:21:27.740Z"
   },
   {
    "duration": 27,
    "start_time": "2022-04-14T08:21:27.797Z"
   },
   {
    "duration": 218,
    "start_time": "2022-04-14T08:21:27.825Z"
   },
   {
    "duration": 120,
    "start_time": "2022-04-14T08:21:28.045Z"
   },
   {
    "duration": 260,
    "start_time": "2022-04-14T08:21:28.166Z"
   },
   {
    "duration": 641,
    "start_time": "2022-04-14T08:21:28.427Z"
   },
   {
    "duration": 185,
    "start_time": "2022-04-14T08:21:29.069Z"
   },
   {
    "duration": 135,
    "start_time": "2022-04-14T08:21:29.256Z"
   },
   {
    "duration": 309,
    "start_time": "2022-04-14T08:21:29.393Z"
   },
   {
    "duration": 4939,
    "start_time": "2022-04-14T08:21:29.703Z"
   },
   {
    "duration": 19,
    "start_time": "2022-04-14T08:21:34.643Z"
   },
   {
    "duration": 88,
    "start_time": "2022-04-14T08:21:34.664Z"
   },
   {
    "duration": 23,
    "start_time": "2022-04-14T08:21:34.753Z"
   },
   {
    "duration": 217,
    "start_time": "2022-04-14T08:21:34.777Z"
   },
   {
    "duration": 13,
    "start_time": "2022-04-14T08:21:34.995Z"
   },
   {
    "duration": 33,
    "start_time": "2022-04-14T08:21:35.009Z"
   },
   {
    "duration": 13,
    "start_time": "2022-04-14T08:21:35.044Z"
   },
   {
    "duration": 18,
    "start_time": "2022-04-14T08:21:35.059Z"
   },
   {
    "duration": 119,
    "start_time": "2022-04-14T08:21:35.079Z"
   },
   {
    "duration": 0,
    "start_time": "2022-04-14T08:21:35.200Z"
   },
   {
    "duration": 208,
    "start_time": "2022-04-14T08:22:36.262Z"
   },
   {
    "duration": 201,
    "start_time": "2022-04-14T08:22:39.569Z"
   },
   {
    "duration": 1181,
    "start_time": "2022-04-14T08:22:44.792Z"
   },
   {
    "duration": 46,
    "start_time": "2022-04-14T08:22:45.975Z"
   },
   {
    "duration": 56,
    "start_time": "2022-04-14T08:22:46.024Z"
   },
   {
    "duration": 4,
    "start_time": "2022-04-14T08:22:46.081Z"
   },
   {
    "duration": 238,
    "start_time": "2022-04-14T08:22:46.087Z"
   },
   {
    "duration": 126,
    "start_time": "2022-04-14T08:22:46.326Z"
   },
   {
    "duration": 253,
    "start_time": "2022-04-14T08:22:46.454Z"
   },
   {
    "duration": 640,
    "start_time": "2022-04-14T08:22:46.708Z"
   },
   {
    "duration": 192,
    "start_time": "2022-04-14T08:22:47.349Z"
   },
   {
    "duration": 140,
    "start_time": "2022-04-14T08:22:47.544Z"
   },
   {
    "duration": 323,
    "start_time": "2022-04-14T08:22:47.685Z"
   },
   {
    "duration": 4971,
    "start_time": "2022-04-14T08:22:48.009Z"
   },
   {
    "duration": 18,
    "start_time": "2022-04-14T08:22:52.982Z"
   },
   {
    "duration": 84,
    "start_time": "2022-04-14T08:22:53.002Z"
   },
   {
    "duration": 22,
    "start_time": "2022-04-14T08:22:53.088Z"
   },
   {
    "duration": 196,
    "start_time": "2022-04-14T08:22:53.123Z"
   },
   {
    "duration": 13,
    "start_time": "2022-04-14T08:22:53.321Z"
   },
   {
    "duration": 17,
    "start_time": "2022-04-14T08:22:53.335Z"
   },
   {
    "duration": 11,
    "start_time": "2022-04-14T08:22:53.354Z"
   },
   {
    "duration": 17,
    "start_time": "2022-04-14T08:22:53.367Z"
   },
   {
    "duration": 244,
    "start_time": "2022-04-14T08:22:53.386Z"
   },
   {
    "duration": 245,
    "start_time": "2022-04-14T08:22:53.631Z"
   },
   {
    "duration": 1054,
    "start_time": "2022-04-14T08:24:46.126Z"
   },
   {
    "duration": 45,
    "start_time": "2022-04-14T08:24:47.182Z"
   },
   {
    "duration": 55,
    "start_time": "2022-04-14T08:24:47.228Z"
   },
   {
    "duration": 4,
    "start_time": "2022-04-14T08:24:47.285Z"
   },
   {
    "duration": 266,
    "start_time": "2022-04-14T08:24:47.291Z"
   },
   {
    "duration": 136,
    "start_time": "2022-04-14T08:24:47.559Z"
   },
   {
    "duration": 286,
    "start_time": "2022-04-14T08:24:47.697Z"
   },
   {
    "duration": 877,
    "start_time": "2022-04-14T08:24:47.984Z"
   },
   {
    "duration": 192,
    "start_time": "2022-04-14T08:24:48.863Z"
   },
   {
    "duration": 139,
    "start_time": "2022-04-14T08:24:49.058Z"
   },
   {
    "duration": 206,
    "start_time": "2022-04-14T08:24:49.199Z"
   },
   {
    "duration": 5008,
    "start_time": "2022-04-14T08:24:49.407Z"
   },
   {
    "duration": 23,
    "start_time": "2022-04-14T08:24:54.417Z"
   },
   {
    "duration": 89,
    "start_time": "2022-04-14T08:24:54.441Z"
   },
   {
    "duration": 21,
    "start_time": "2022-04-14T08:24:54.532Z"
   },
   {
    "duration": 207,
    "start_time": "2022-04-14T08:24:54.555Z"
   },
   {
    "duration": 13,
    "start_time": "2022-04-14T08:24:54.763Z"
   },
   {
    "duration": 22,
    "start_time": "2022-04-14T08:24:54.778Z"
   },
   {
    "duration": 32,
    "start_time": "2022-04-14T08:24:54.802Z"
   },
   {
    "duration": 19,
    "start_time": "2022-04-14T08:24:54.836Z"
   },
   {
    "duration": 231,
    "start_time": "2022-04-14T08:24:54.856Z"
   },
   {
    "duration": 212,
    "start_time": "2022-04-14T08:24:55.089Z"
   },
   {
    "duration": 99,
    "start_time": "2022-04-14T08:36:57.055Z"
   },
   {
    "duration": 1788,
    "start_time": "2022-04-14T08:37:02.355Z"
   },
   {
    "duration": 12,
    "start_time": "2022-04-14T08:37:37.158Z"
   },
   {
    "duration": 15,
    "start_time": "2022-04-14T08:37:54.539Z"
   },
   {
    "duration": 20,
    "start_time": "2022-04-14T08:37:58.153Z"
   },
   {
    "duration": 13,
    "start_time": "2022-04-14T08:45:21.634Z"
   },
   {
    "duration": 25,
    "start_time": "2022-04-14T08:45:43.655Z"
   },
   {
    "duration": 15,
    "start_time": "2022-04-14T08:46:09.119Z"
   },
   {
    "duration": 15,
    "start_time": "2022-04-14T08:47:31.704Z"
   },
   {
    "duration": 1625,
    "start_time": "2022-04-14T08:48:04.122Z"
   },
   {
    "duration": 1089,
    "start_time": "2022-04-14T08:54:13.200Z"
   },
   {
    "duration": 53,
    "start_time": "2022-04-14T08:54:14.291Z"
   },
   {
    "duration": 92,
    "start_time": "2022-04-14T08:54:14.346Z"
   },
   {
    "duration": 6,
    "start_time": "2022-04-14T08:54:14.442Z"
   },
   {
    "duration": 457,
    "start_time": "2022-04-14T08:54:14.450Z"
   },
   {
    "duration": 134,
    "start_time": "2022-04-14T08:54:14.909Z"
   },
   {
    "duration": 568,
    "start_time": "2022-04-14T08:54:15.045Z"
   },
   {
    "duration": 1389,
    "start_time": "2022-04-14T08:54:15.623Z"
   },
   {
    "duration": 314,
    "start_time": "2022-04-14T08:54:17.014Z"
   },
   {
    "duration": 239,
    "start_time": "2022-04-14T08:54:17.332Z"
   },
   {
    "duration": 432,
    "start_time": "2022-04-14T08:54:17.574Z"
   },
   {
    "duration": 5640,
    "start_time": "2022-04-14T08:54:18.008Z"
   },
   {
    "duration": 20,
    "start_time": "2022-04-14T08:54:23.649Z"
   },
   {
    "duration": 97,
    "start_time": "2022-04-14T08:54:23.670Z"
   },
   {
    "duration": 22,
    "start_time": "2022-04-14T08:54:23.769Z"
   },
   {
    "duration": 204,
    "start_time": "2022-04-14T08:54:23.793Z"
   },
   {
    "duration": 25,
    "start_time": "2022-04-14T08:54:23.999Z"
   },
   {
    "duration": 17,
    "start_time": "2022-04-14T08:54:24.026Z"
   },
   {
    "duration": 12,
    "start_time": "2022-04-14T08:54:24.045Z"
   },
   {
    "duration": 17,
    "start_time": "2022-04-14T08:54:24.059Z"
   },
   {
    "duration": 50,
    "start_time": "2022-04-14T08:54:24.078Z"
   },
   {
    "duration": 225,
    "start_time": "2022-04-14T08:54:24.131Z"
   },
   {
    "duration": 229,
    "start_time": "2022-04-14T08:54:24.358Z"
   },
   {
    "duration": 2217,
    "start_time": "2022-04-14T08:54:24.589Z"
   },
   {
    "duration": 39,
    "start_time": "2022-04-14T08:54:58.413Z"
   },
   {
    "duration": 1479,
    "start_time": "2022-04-14T08:55:04.211Z"
   },
   {
    "duration": 169,
    "start_time": "2022-04-14T08:55:05.692Z"
   },
   {
    "duration": 108,
    "start_time": "2022-04-14T08:55:05.863Z"
   },
   {
    "duration": 6,
    "start_time": "2022-04-14T08:55:05.973Z"
   },
   {
    "duration": 383,
    "start_time": "2022-04-14T08:55:05.982Z"
   },
   {
    "duration": 204,
    "start_time": "2022-04-14T08:55:06.367Z"
   },
   {
    "duration": 444,
    "start_time": "2022-04-14T08:55:06.573Z"
   },
   {
    "duration": 695,
    "start_time": "2022-04-14T08:55:07.019Z"
   },
   {
    "duration": 206,
    "start_time": "2022-04-14T08:55:07.724Z"
   },
   {
    "duration": 158,
    "start_time": "2022-04-14T08:55:07.932Z"
   },
   {
    "duration": 221,
    "start_time": "2022-04-14T08:55:08.092Z"
   },
   {
    "duration": 5251,
    "start_time": "2022-04-14T08:55:08.315Z"
   },
   {
    "duration": 19,
    "start_time": "2022-04-14T08:55:13.568Z"
   },
   {
    "duration": 96,
    "start_time": "2022-04-14T08:55:13.589Z"
   },
   {
    "duration": 23,
    "start_time": "2022-04-14T08:55:13.686Z"
   },
   {
    "duration": 214,
    "start_time": "2022-04-14T08:55:13.710Z"
   },
   {
    "duration": 14,
    "start_time": "2022-04-14T08:55:13.926Z"
   },
   {
    "duration": 18,
    "start_time": "2022-04-14T08:55:13.941Z"
   },
   {
    "duration": 12,
    "start_time": "2022-04-14T08:55:13.961Z"
   },
   {
    "duration": 16,
    "start_time": "2022-04-14T08:55:13.975Z"
   },
   {
    "duration": 49,
    "start_time": "2022-04-14T08:55:13.993Z"
   },
   {
    "duration": 225,
    "start_time": "2022-04-14T08:55:14.043Z"
   },
   {
    "duration": 219,
    "start_time": "2022-04-14T08:55:14.270Z"
   },
   {
    "duration": 14,
    "start_time": "2022-04-14T08:55:14.491Z"
   },
   {
    "duration": 15,
    "start_time": "2022-04-14T08:58:28.469Z"
   },
   {
    "duration": 23,
    "start_time": "2022-04-14T08:58:50.007Z"
   },
   {
    "duration": 122,
    "start_time": "2022-04-14T09:05:49.728Z"
   },
   {
    "duration": 15,
    "start_time": "2022-04-14T09:06:12.798Z"
   },
   {
    "duration": 15,
    "start_time": "2022-04-14T09:06:27.652Z"
   },
   {
    "duration": 1145,
    "start_time": "2022-04-14T10:03:30.087Z"
   },
   {
    "duration": 71,
    "start_time": "2022-04-14T10:03:31.235Z"
   },
   {
    "duration": 75,
    "start_time": "2022-04-14T10:03:31.308Z"
   },
   {
    "duration": 4,
    "start_time": "2022-04-14T10:03:31.386Z"
   },
   {
    "duration": 316,
    "start_time": "2022-04-14T10:03:31.392Z"
   },
   {
    "duration": 184,
    "start_time": "2022-04-14T10:03:31.710Z"
   },
   {
    "duration": 401,
    "start_time": "2022-04-14T10:03:31.896Z"
   },
   {
    "duration": 935,
    "start_time": "2022-04-14T10:03:32.300Z"
   },
   {
    "duration": 277,
    "start_time": "2022-04-14T10:03:33.238Z"
   },
   {
    "duration": 184,
    "start_time": "2022-04-14T10:03:33.523Z"
   },
   {
    "duration": 252,
    "start_time": "2022-04-14T10:03:33.709Z"
   },
   {
    "duration": 5723,
    "start_time": "2022-04-14T10:03:33.964Z"
   },
   {
    "duration": 35,
    "start_time": "2022-04-14T10:03:39.690Z"
   },
   {
    "duration": 115,
    "start_time": "2022-04-14T10:03:39.727Z"
   },
   {
    "duration": 25,
    "start_time": "2022-04-14T10:03:39.844Z"
   },
   {
    "duration": 222,
    "start_time": "2022-04-14T10:03:39.871Z"
   },
   {
    "duration": 14,
    "start_time": "2022-04-14T10:03:40.095Z"
   },
   {
    "duration": 32,
    "start_time": "2022-04-14T10:03:40.111Z"
   },
   {
    "duration": 14,
    "start_time": "2022-04-14T10:03:40.145Z"
   },
   {
    "duration": 18,
    "start_time": "2022-04-14T10:03:40.161Z"
   },
   {
    "duration": 50,
    "start_time": "2022-04-14T10:03:40.180Z"
   },
   {
    "duration": 232,
    "start_time": "2022-04-14T10:03:40.232Z"
   },
   {
    "duration": 222,
    "start_time": "2022-04-14T10:03:40.465Z"
   },
   {
    "duration": 15,
    "start_time": "2022-04-14T10:03:40.688Z"
   },
   {
    "duration": 262,
    "start_time": "2022-04-14T10:04:49.376Z"
   },
   {
    "duration": 222,
    "start_time": "2022-04-14T10:05:25.544Z"
   },
   {
    "duration": 208,
    "start_time": "2022-04-14T10:16:29.008Z"
   },
   {
    "duration": 346,
    "start_time": "2022-04-14T10:38:54.682Z"
   },
   {
    "duration": 306,
    "start_time": "2022-04-14T10:39:03.387Z"
   },
   {
    "duration": 364,
    "start_time": "2022-04-14T10:39:51.253Z"
   },
   {
    "duration": 213,
    "start_time": "2022-04-14T10:39:58.147Z"
   },
   {
    "duration": 244,
    "start_time": "2022-04-14T10:40:01.661Z"
   },
   {
    "duration": 308,
    "start_time": "2022-04-14T10:40:15.855Z"
   },
   {
    "duration": 256,
    "start_time": "2022-04-14T10:40:48.518Z"
   },
   {
    "duration": 243,
    "start_time": "2022-04-14T10:41:19.311Z"
   },
   {
    "duration": 134,
    "start_time": "2022-04-14T10:46:26.373Z"
   },
   {
    "duration": 291,
    "start_time": "2022-04-14T10:47:43.771Z"
   },
   {
    "duration": 736,
    "start_time": "2022-04-14T10:54:56.037Z"
   },
   {
    "duration": 958,
    "start_time": "2022-04-14T10:55:04.320Z"
   },
   {
    "duration": 732,
    "start_time": "2022-04-14T10:55:35.359Z"
   },
   {
    "duration": 685,
    "start_time": "2022-04-14T10:55:42.893Z"
   },
   {
    "duration": 207,
    "start_time": "2022-04-14T10:57:45.067Z"
   },
   {
    "duration": 224,
    "start_time": "2022-04-14T10:59:27.939Z"
   },
   {
    "duration": 1211,
    "start_time": "2022-04-14T11:05:33.758Z"
   },
   {
    "duration": 96,
    "start_time": "2022-04-14T11:05:34.971Z"
   },
   {
    "duration": 66,
    "start_time": "2022-04-14T11:05:35.069Z"
   },
   {
    "duration": 11,
    "start_time": "2022-04-14T11:05:35.137Z"
   },
   {
    "duration": 247,
    "start_time": "2022-04-14T11:05:35.149Z"
   },
   {
    "duration": 149,
    "start_time": "2022-04-14T11:05:35.398Z"
   },
   {
    "duration": 368,
    "start_time": "2022-04-14T11:05:35.550Z"
   },
   {
    "duration": 748,
    "start_time": "2022-04-14T11:05:35.923Z"
   },
   {
    "duration": 223,
    "start_time": "2022-04-14T11:05:36.673Z"
   },
   {
    "duration": 157,
    "start_time": "2022-04-14T11:05:36.899Z"
   },
   {
    "duration": 221,
    "start_time": "2022-04-14T11:05:37.058Z"
   },
   {
    "duration": 5761,
    "start_time": "2022-04-14T11:05:37.280Z"
   },
   {
    "duration": 24,
    "start_time": "2022-04-14T11:05:43.043Z"
   },
   {
    "duration": 99,
    "start_time": "2022-04-14T11:05:43.069Z"
   },
   {
    "duration": 22,
    "start_time": "2022-04-14T11:05:43.170Z"
   },
   {
    "duration": 234,
    "start_time": "2022-04-14T11:05:43.194Z"
   },
   {
    "duration": 15,
    "start_time": "2022-04-14T11:05:43.435Z"
   },
   {
    "duration": 23,
    "start_time": "2022-04-14T11:05:43.452Z"
   },
   {
    "duration": 12,
    "start_time": "2022-04-14T11:05:43.477Z"
   },
   {
    "duration": 15,
    "start_time": "2022-04-14T11:05:43.491Z"
   },
   {
    "duration": 52,
    "start_time": "2022-04-14T11:05:43.508Z"
   },
   {
    "duration": 222,
    "start_time": "2022-04-14T11:05:43.562Z"
   },
   {
    "duration": 303,
    "start_time": "2022-04-14T11:05:43.786Z"
   },
   {
    "duration": 15,
    "start_time": "2022-04-14T11:05:44.091Z"
   },
   {
    "duration": 184,
    "start_time": "2022-04-14T22:31:38.948Z"
   },
   {
    "duration": 1447,
    "start_time": "2022-04-14T22:37:29.632Z"
   },
   {
    "duration": 99,
    "start_time": "2022-04-14T22:37:31.082Z"
   },
   {
    "duration": 74,
    "start_time": "2022-04-14T22:37:31.184Z"
   },
   {
    "duration": 6,
    "start_time": "2022-04-14T22:37:31.259Z"
   },
   {
    "duration": 282,
    "start_time": "2022-04-14T22:37:31.268Z"
   },
   {
    "duration": 145,
    "start_time": "2022-04-14T22:37:31.552Z"
   },
   {
    "duration": 509,
    "start_time": "2022-04-14T22:37:31.699Z"
   },
   {
    "duration": 871,
    "start_time": "2022-04-14T22:37:32.217Z"
   },
   {
    "duration": 322,
    "start_time": "2022-04-14T22:37:33.091Z"
   },
   {
    "duration": 248,
    "start_time": "2022-04-14T22:37:33.417Z"
   },
   {
    "duration": 266,
    "start_time": "2022-04-14T22:37:33.667Z"
   },
   {
    "duration": 2819,
    "start_time": "2022-04-14T22:37:33.935Z"
   },
   {
    "duration": 0,
    "start_time": "2022-04-14T22:37:36.756Z"
   },
   {
    "duration": 0,
    "start_time": "2022-04-14T22:37:36.758Z"
   },
   {
    "duration": 0,
    "start_time": "2022-04-14T22:37:36.760Z"
   },
   {
    "duration": 0,
    "start_time": "2022-04-14T22:37:36.762Z"
   },
   {
    "duration": 0,
    "start_time": "2022-04-14T22:37:36.763Z"
   },
   {
    "duration": 0,
    "start_time": "2022-04-14T22:37:36.764Z"
   },
   {
    "duration": 0,
    "start_time": "2022-04-14T22:37:36.766Z"
   },
   {
    "duration": 0,
    "start_time": "2022-04-14T22:37:36.767Z"
   },
   {
    "duration": 0,
    "start_time": "2022-04-14T22:37:36.769Z"
   },
   {
    "duration": 0,
    "start_time": "2022-04-14T22:37:36.770Z"
   },
   {
    "duration": 0,
    "start_time": "2022-04-14T22:37:36.772Z"
   },
   {
    "duration": 106,
    "start_time": "2022-04-15T20:25:09.303Z"
   },
   {
    "duration": 1850,
    "start_time": "2022-04-15T20:25:13.155Z"
   },
   {
    "duration": 78,
    "start_time": "2022-04-15T20:25:15.008Z"
   },
   {
    "duration": 117,
    "start_time": "2022-04-15T20:25:15.088Z"
   },
   {
    "duration": 6,
    "start_time": "2022-04-15T20:25:15.208Z"
   },
   {
    "duration": 24,
    "start_time": "2022-04-15T20:25:16.603Z"
   },
   {
    "duration": 19,
    "start_time": "2022-04-15T20:25:25.931Z"
   },
   {
    "duration": 161,
    "start_time": "2022-04-15T20:25:58.260Z"
   },
   {
    "duration": 20,
    "start_time": "2022-04-15T20:26:08.091Z"
   },
   {
    "duration": 1625,
    "start_time": "2022-04-15T20:26:13.678Z"
   },
   {
    "duration": 70,
    "start_time": "2022-04-15T20:26:15.306Z"
   },
   {
    "duration": 115,
    "start_time": "2022-04-15T20:26:15.379Z"
   },
   {
    "duration": 7,
    "start_time": "2022-04-15T20:26:15.497Z"
   },
   {
    "duration": 46,
    "start_time": "2022-04-15T20:26:15.506Z"
   },
   {
    "duration": 165,
    "start_time": "2022-04-15T20:26:15.555Z"
   },
   {
    "duration": 0,
    "start_time": "2022-04-15T20:26:15.723Z"
   },
   {
    "duration": 0,
    "start_time": "2022-04-15T20:26:15.725Z"
   },
   {
    "duration": 0,
    "start_time": "2022-04-15T20:26:15.726Z"
   },
   {
    "duration": 0,
    "start_time": "2022-04-15T20:26:15.727Z"
   },
   {
    "duration": 0,
    "start_time": "2022-04-15T20:26:15.729Z"
   },
   {
    "duration": 0,
    "start_time": "2022-04-15T20:26:15.731Z"
   },
   {
    "duration": 0,
    "start_time": "2022-04-15T20:26:15.733Z"
   },
   {
    "duration": 0,
    "start_time": "2022-04-15T20:26:15.752Z"
   },
   {
    "duration": 0,
    "start_time": "2022-04-15T20:26:15.753Z"
   },
   {
    "duration": 0,
    "start_time": "2022-04-15T20:26:15.754Z"
   },
   {
    "duration": 0,
    "start_time": "2022-04-15T20:26:15.756Z"
   },
   {
    "duration": 0,
    "start_time": "2022-04-15T20:26:15.757Z"
   },
   {
    "duration": 0,
    "start_time": "2022-04-15T20:26:15.759Z"
   },
   {
    "duration": 0,
    "start_time": "2022-04-15T20:26:15.760Z"
   },
   {
    "duration": 0,
    "start_time": "2022-04-15T20:26:15.761Z"
   },
   {
    "duration": 0,
    "start_time": "2022-04-15T20:26:15.762Z"
   },
   {
    "duration": 0,
    "start_time": "2022-04-15T20:26:15.765Z"
   },
   {
    "duration": 0,
    "start_time": "2022-04-15T20:26:15.767Z"
   },
   {
    "duration": 21,
    "start_time": "2022-04-15T20:33:44.332Z"
   },
   {
    "duration": 32,
    "start_time": "2022-04-15T20:34:34.524Z"
   },
   {
    "duration": 22,
    "start_time": "2022-04-15T20:34:43.516Z"
   },
   {
    "duration": 29,
    "start_time": "2022-04-15T20:34:50.504Z"
   },
   {
    "duration": 23,
    "start_time": "2022-04-15T20:35:09.675Z"
   },
   {
    "duration": 22,
    "start_time": "2022-04-15T20:35:11.259Z"
   },
   {
    "duration": 23,
    "start_time": "2022-04-15T20:35:12.804Z"
   },
   {
    "duration": 16,
    "start_time": "2022-04-15T20:35:17.116Z"
   },
   {
    "duration": 1592,
    "start_time": "2022-04-15T20:35:25.707Z"
   },
   {
    "duration": 70,
    "start_time": "2022-04-15T20:35:27.301Z"
   },
   {
    "duration": 141,
    "start_time": "2022-04-15T20:35:27.373Z"
   },
   {
    "duration": 8,
    "start_time": "2022-04-15T20:35:27.518Z"
   },
   {
    "duration": 8,
    "start_time": "2022-04-15T20:35:27.553Z"
   },
   {
    "duration": 37,
    "start_time": "2022-04-15T20:35:27.564Z"
   },
   {
    "duration": 180,
    "start_time": "2022-04-15T20:35:27.603Z"
   },
   {
    "duration": 0,
    "start_time": "2022-04-15T20:35:27.786Z"
   },
   {
    "duration": 0,
    "start_time": "2022-04-15T20:35:27.787Z"
   },
   {
    "duration": 0,
    "start_time": "2022-04-15T20:35:27.788Z"
   },
   {
    "duration": 0,
    "start_time": "2022-04-15T20:35:27.790Z"
   },
   {
    "duration": 0,
    "start_time": "2022-04-15T20:35:27.791Z"
   },
   {
    "duration": 0,
    "start_time": "2022-04-15T20:35:27.793Z"
   },
   {
    "duration": 1,
    "start_time": "2022-04-15T20:35:27.794Z"
   },
   {
    "duration": 0,
    "start_time": "2022-04-15T20:35:27.797Z"
   },
   {
    "duration": 1,
    "start_time": "2022-04-15T20:35:27.798Z"
   },
   {
    "duration": 0,
    "start_time": "2022-04-15T20:35:27.801Z"
   },
   {
    "duration": 0,
    "start_time": "2022-04-15T20:35:27.802Z"
   },
   {
    "duration": 0,
    "start_time": "2022-04-15T20:35:27.804Z"
   },
   {
    "duration": 0,
    "start_time": "2022-04-15T20:35:27.805Z"
   },
   {
    "duration": 0,
    "start_time": "2022-04-15T20:35:27.807Z"
   },
   {
    "duration": 0,
    "start_time": "2022-04-15T20:35:27.808Z"
   },
   {
    "duration": 0,
    "start_time": "2022-04-15T20:35:27.811Z"
   },
   {
    "duration": 0,
    "start_time": "2022-04-15T20:35:27.852Z"
   },
   {
    "duration": 0,
    "start_time": "2022-04-15T20:35:27.854Z"
   },
   {
    "duration": 0,
    "start_time": "2022-04-15T20:35:27.856Z"
   },
   {
    "duration": 0,
    "start_time": "2022-04-15T20:35:27.858Z"
   },
   {
    "duration": 0,
    "start_time": "2022-04-15T20:35:27.859Z"
   },
   {
    "duration": 21,
    "start_time": "2022-04-15T20:35:39.921Z"
   },
   {
    "duration": 21,
    "start_time": "2022-04-15T20:35:41.012Z"
   },
   {
    "duration": 18,
    "start_time": "2022-04-15T20:35:41.757Z"
   },
   {
    "duration": 14,
    "start_time": "2022-04-15T20:37:21.521Z"
   },
   {
    "duration": 28,
    "start_time": "2022-04-15T20:37:25.916Z"
   },
   {
    "duration": 22,
    "start_time": "2022-04-15T20:37:45.329Z"
   },
   {
    "duration": 30,
    "start_time": "2022-04-15T20:38:52.298Z"
   },
   {
    "duration": 1610,
    "start_time": "2022-04-15T20:39:25.714Z"
   },
   {
    "duration": 72,
    "start_time": "2022-04-15T20:39:27.327Z"
   },
   {
    "duration": 108,
    "start_time": "2022-04-15T20:39:27.401Z"
   },
   {
    "duration": 40,
    "start_time": "2022-04-15T20:39:27.513Z"
   },
   {
    "duration": 7,
    "start_time": "2022-04-15T20:39:27.556Z"
   },
   {
    "duration": 37,
    "start_time": "2022-04-15T20:39:31.466Z"
   },
   {
    "duration": 19,
    "start_time": "2022-04-15T20:39:35.290Z"
   },
   {
    "duration": 17,
    "start_time": "2022-04-15T20:39:39.148Z"
   },
   {
    "duration": 156,
    "start_time": "2022-04-15T20:40:29.552Z"
   },
   {
    "duration": 18,
    "start_time": "2022-04-15T20:40:48.957Z"
   },
   {
    "duration": 37,
    "start_time": "2022-04-15T20:41:50.938Z"
   },
   {
    "duration": 20,
    "start_time": "2022-04-15T20:41:53.257Z"
   },
   {
    "duration": 13,
    "start_time": "2022-04-15T20:41:55.138Z"
   },
   {
    "duration": 36,
    "start_time": "2022-04-15T20:43:00.570Z"
   },
   {
    "duration": 13,
    "start_time": "2022-04-15T20:43:03.017Z"
   },
   {
    "duration": 51,
    "start_time": "2022-04-15T20:43:12.649Z"
   },
   {
    "duration": 34,
    "start_time": "2022-04-15T20:43:14.594Z"
   },
   {
    "duration": 36,
    "start_time": "2022-04-15T20:44:13.553Z"
   },
   {
    "duration": 22,
    "start_time": "2022-04-15T20:44:15.146Z"
   },
   {
    "duration": 33,
    "start_time": "2022-04-15T20:45:15.065Z"
   },
   {
    "duration": 35,
    "start_time": "2022-04-15T20:47:14.002Z"
   },
   {
    "duration": 1576,
    "start_time": "2022-04-15T20:47:24.124Z"
   },
   {
    "duration": 76,
    "start_time": "2022-04-15T20:47:25.703Z"
   },
   {
    "duration": 118,
    "start_time": "2022-04-15T20:47:25.782Z"
   },
   {
    "duration": 6,
    "start_time": "2022-04-15T20:47:25.903Z"
   },
   {
    "duration": 44,
    "start_time": "2022-04-15T20:47:25.911Z"
   },
   {
    "duration": 40,
    "start_time": "2022-04-15T20:47:25.957Z"
   },
   {
    "duration": 29,
    "start_time": "2022-04-15T20:47:26.000Z"
   },
   {
    "duration": 30,
    "start_time": "2022-04-15T20:47:26.032Z"
   },
   {
    "duration": 226,
    "start_time": "2022-04-15T20:47:26.064Z"
   },
   {
    "duration": 0,
    "start_time": "2022-04-15T20:47:26.295Z"
   },
   {
    "duration": 0,
    "start_time": "2022-04-15T20:47:26.297Z"
   },
   {
    "duration": 0,
    "start_time": "2022-04-15T20:47:26.299Z"
   },
   {
    "duration": 0,
    "start_time": "2022-04-15T20:47:26.302Z"
   },
   {
    "duration": 0,
    "start_time": "2022-04-15T20:47:26.304Z"
   },
   {
    "duration": 0,
    "start_time": "2022-04-15T20:47:26.306Z"
   },
   {
    "duration": 0,
    "start_time": "2022-04-15T20:47:26.309Z"
   },
   {
    "duration": 0,
    "start_time": "2022-04-15T20:47:26.311Z"
   },
   {
    "duration": 0,
    "start_time": "2022-04-15T20:47:26.313Z"
   },
   {
    "duration": 0,
    "start_time": "2022-04-15T20:47:26.352Z"
   },
   {
    "duration": 0,
    "start_time": "2022-04-15T20:47:26.354Z"
   },
   {
    "duration": 0,
    "start_time": "2022-04-15T20:47:26.355Z"
   },
   {
    "duration": 0,
    "start_time": "2022-04-15T20:47:26.357Z"
   },
   {
    "duration": 0,
    "start_time": "2022-04-15T20:47:26.358Z"
   },
   {
    "duration": 0,
    "start_time": "2022-04-15T20:47:26.359Z"
   },
   {
    "duration": 0,
    "start_time": "2022-04-15T20:47:26.361Z"
   },
   {
    "duration": 0,
    "start_time": "2022-04-15T20:47:26.362Z"
   },
   {
    "duration": 0,
    "start_time": "2022-04-15T20:47:26.364Z"
   },
   {
    "duration": 35,
    "start_time": "2022-04-15T20:47:37.191Z"
   },
   {
    "duration": 1532,
    "start_time": "2022-04-15T20:47:42.649Z"
   },
   {
    "duration": 63,
    "start_time": "2022-04-15T20:47:44.184Z"
   },
   {
    "duration": 144,
    "start_time": "2022-04-15T20:47:44.252Z"
   },
   {
    "duration": 6,
    "start_time": "2022-04-15T20:47:44.399Z"
   },
   {
    "duration": 8,
    "start_time": "2022-04-15T20:47:44.407Z"
   },
   {
    "duration": 62,
    "start_time": "2022-04-15T20:47:44.417Z"
   },
   {
    "duration": 19,
    "start_time": "2022-04-15T20:47:44.481Z"
   },
   {
    "duration": 12,
    "start_time": "2022-04-15T20:47:44.502Z"
   },
   {
    "duration": 184,
    "start_time": "2022-04-15T20:47:44.516Z"
   },
   {
    "duration": 0,
    "start_time": "2022-04-15T20:47:44.704Z"
   },
   {
    "duration": 0,
    "start_time": "2022-04-15T20:47:44.705Z"
   },
   {
    "duration": 0,
    "start_time": "2022-04-15T20:47:44.707Z"
   },
   {
    "duration": 0,
    "start_time": "2022-04-15T20:47:44.708Z"
   },
   {
    "duration": 0,
    "start_time": "2022-04-15T20:47:44.709Z"
   },
   {
    "duration": 0,
    "start_time": "2022-04-15T20:47:44.711Z"
   },
   {
    "duration": 0,
    "start_time": "2022-04-15T20:47:44.713Z"
   },
   {
    "duration": 0,
    "start_time": "2022-04-15T20:47:44.715Z"
   },
   {
    "duration": 1,
    "start_time": "2022-04-15T20:47:44.716Z"
   },
   {
    "duration": 0,
    "start_time": "2022-04-15T20:47:44.719Z"
   },
   {
    "duration": 0,
    "start_time": "2022-04-15T20:47:44.720Z"
   },
   {
    "duration": 0,
    "start_time": "2022-04-15T20:47:44.721Z"
   },
   {
    "duration": 0,
    "start_time": "2022-04-15T20:47:44.722Z"
   },
   {
    "duration": 0,
    "start_time": "2022-04-15T20:47:44.752Z"
   },
   {
    "duration": 0,
    "start_time": "2022-04-15T20:47:44.754Z"
   },
   {
    "duration": 0,
    "start_time": "2022-04-15T20:47:44.757Z"
   },
   {
    "duration": 0,
    "start_time": "2022-04-15T20:47:44.759Z"
   },
   {
    "duration": 0,
    "start_time": "2022-04-15T20:47:44.761Z"
   },
   {
    "duration": 1952,
    "start_time": "2022-04-15T20:47:56.592Z"
   },
   {
    "duration": 68,
    "start_time": "2022-04-15T20:47:58.547Z"
   },
   {
    "duration": 133,
    "start_time": "2022-04-15T20:47:58.618Z"
   },
   {
    "duration": 8,
    "start_time": "2022-04-15T20:47:58.755Z"
   },
   {
    "duration": 8,
    "start_time": "2022-04-15T20:47:58.765Z"
   },
   {
    "duration": 45,
    "start_time": "2022-04-15T20:47:58.776Z"
   },
   {
    "duration": 51,
    "start_time": "2022-04-15T20:47:58.823Z"
   },
   {
    "duration": 15,
    "start_time": "2022-04-15T20:47:58.877Z"
   },
   {
    "duration": 211,
    "start_time": "2022-04-15T20:47:58.895Z"
   },
   {
    "duration": 0,
    "start_time": "2022-04-15T20:47:59.109Z"
   },
   {
    "duration": 0,
    "start_time": "2022-04-15T20:47:59.112Z"
   },
   {
    "duration": 0,
    "start_time": "2022-04-15T20:47:59.113Z"
   },
   {
    "duration": 0,
    "start_time": "2022-04-15T20:47:59.115Z"
   },
   {
    "duration": 0,
    "start_time": "2022-04-15T20:47:59.116Z"
   },
   {
    "duration": 0,
    "start_time": "2022-04-15T20:47:59.118Z"
   },
   {
    "duration": 0,
    "start_time": "2022-04-15T20:47:59.119Z"
   },
   {
    "duration": 0,
    "start_time": "2022-04-15T20:47:59.121Z"
   },
   {
    "duration": 0,
    "start_time": "2022-04-15T20:47:59.122Z"
   },
   {
    "duration": 0,
    "start_time": "2022-04-15T20:47:59.152Z"
   },
   {
    "duration": 0,
    "start_time": "2022-04-15T20:47:59.155Z"
   },
   {
    "duration": 0,
    "start_time": "2022-04-15T20:47:59.157Z"
   },
   {
    "duration": 0,
    "start_time": "2022-04-15T20:47:59.159Z"
   },
   {
    "duration": 0,
    "start_time": "2022-04-15T20:47:59.160Z"
   },
   {
    "duration": 1,
    "start_time": "2022-04-15T20:47:59.161Z"
   },
   {
    "duration": 0,
    "start_time": "2022-04-15T20:47:59.164Z"
   },
   {
    "duration": 0,
    "start_time": "2022-04-15T20:47:59.165Z"
   },
   {
    "duration": 0,
    "start_time": "2022-04-15T20:47:59.167Z"
   },
   {
    "duration": 1493,
    "start_time": "2022-04-15T20:48:17.403Z"
   },
   {
    "duration": 68,
    "start_time": "2022-04-15T20:48:18.898Z"
   },
   {
    "duration": 136,
    "start_time": "2022-04-15T20:48:18.969Z"
   },
   {
    "duration": 8,
    "start_time": "2022-04-15T20:48:19.109Z"
   },
   {
    "duration": 35,
    "start_time": "2022-04-15T20:48:19.119Z"
   },
   {
    "duration": 36,
    "start_time": "2022-04-15T20:48:19.156Z"
   },
   {
    "duration": 19,
    "start_time": "2022-04-15T20:48:19.195Z"
   },
   {
    "duration": 46,
    "start_time": "2022-04-15T20:48:19.217Z"
   },
   {
    "duration": 169,
    "start_time": "2022-04-15T20:48:19.266Z"
   },
   {
    "duration": 0,
    "start_time": "2022-04-15T20:48:19.439Z"
   },
   {
    "duration": 0,
    "start_time": "2022-04-15T20:48:19.441Z"
   },
   {
    "duration": 0,
    "start_time": "2022-04-15T20:48:19.442Z"
   },
   {
    "duration": 0,
    "start_time": "2022-04-15T20:48:19.452Z"
   },
   {
    "duration": 0,
    "start_time": "2022-04-15T20:48:19.454Z"
   },
   {
    "duration": 0,
    "start_time": "2022-04-15T20:48:19.455Z"
   },
   {
    "duration": 0,
    "start_time": "2022-04-15T20:48:19.457Z"
   },
   {
    "duration": 0,
    "start_time": "2022-04-15T20:48:19.458Z"
   },
   {
    "duration": 0,
    "start_time": "2022-04-15T20:48:19.459Z"
   },
   {
    "duration": 0,
    "start_time": "2022-04-15T20:48:19.461Z"
   },
   {
    "duration": 0,
    "start_time": "2022-04-15T20:48:19.462Z"
   },
   {
    "duration": 0,
    "start_time": "2022-04-15T20:48:19.464Z"
   },
   {
    "duration": 0,
    "start_time": "2022-04-15T20:48:19.465Z"
   },
   {
    "duration": 0,
    "start_time": "2022-04-15T20:48:19.467Z"
   },
   {
    "duration": 0,
    "start_time": "2022-04-15T20:48:19.469Z"
   },
   {
    "duration": 0,
    "start_time": "2022-04-15T20:48:19.470Z"
   },
   {
    "duration": 0,
    "start_time": "2022-04-15T20:48:19.472Z"
   },
   {
    "duration": 0,
    "start_time": "2022-04-15T20:48:19.474Z"
   },
   {
    "duration": 46,
    "start_time": "2022-04-15T20:50:09.544Z"
   },
   {
    "duration": 1705,
    "start_time": "2022-04-15T20:50:19.503Z"
   },
   {
    "duration": 74,
    "start_time": "2022-04-15T20:50:21.213Z"
   },
   {
    "duration": 103,
    "start_time": "2022-04-15T20:50:21.289Z"
   },
   {
    "duration": 6,
    "start_time": "2022-04-15T20:50:21.396Z"
   },
   {
    "duration": 10,
    "start_time": "2022-04-15T20:50:21.405Z"
   },
   {
    "duration": 77,
    "start_time": "2022-04-15T20:50:21.417Z"
   },
   {
    "duration": 26,
    "start_time": "2022-04-15T20:50:21.496Z"
   },
   {
    "duration": 39,
    "start_time": "2022-04-15T20:50:21.525Z"
   },
   {
    "duration": 194,
    "start_time": "2022-04-15T20:50:21.567Z"
   },
   {
    "duration": 0,
    "start_time": "2022-04-15T20:50:21.766Z"
   },
   {
    "duration": 0,
    "start_time": "2022-04-15T20:50:21.768Z"
   },
   {
    "duration": 0,
    "start_time": "2022-04-15T20:50:21.770Z"
   },
   {
    "duration": 0,
    "start_time": "2022-04-15T20:50:21.773Z"
   },
   {
    "duration": 0,
    "start_time": "2022-04-15T20:50:21.775Z"
   },
   {
    "duration": 0,
    "start_time": "2022-04-15T20:50:21.777Z"
   },
   {
    "duration": 0,
    "start_time": "2022-04-15T20:50:21.780Z"
   },
   {
    "duration": 0,
    "start_time": "2022-04-15T20:50:21.782Z"
   },
   {
    "duration": 1,
    "start_time": "2022-04-15T20:50:21.784Z"
   },
   {
    "duration": 0,
    "start_time": "2022-04-15T20:50:21.786Z"
   },
   {
    "duration": 0,
    "start_time": "2022-04-15T20:50:21.789Z"
   },
   {
    "duration": 0,
    "start_time": "2022-04-15T20:50:21.792Z"
   },
   {
    "duration": 0,
    "start_time": "2022-04-15T20:50:21.794Z"
   },
   {
    "duration": 0,
    "start_time": "2022-04-15T20:50:21.796Z"
   },
   {
    "duration": 0,
    "start_time": "2022-04-15T20:50:21.799Z"
   },
   {
    "duration": 0,
    "start_time": "2022-04-15T20:50:21.853Z"
   },
   {
    "duration": 0,
    "start_time": "2022-04-15T20:50:21.855Z"
   },
   {
    "duration": 1,
    "start_time": "2022-04-15T20:50:21.857Z"
   },
   {
    "duration": 6,
    "start_time": "2022-04-15T20:51:32.561Z"
   },
   {
    "duration": 6,
    "start_time": "2022-04-15T20:51:35.490Z"
   },
   {
    "duration": 5,
    "start_time": "2022-04-15T20:51:44.609Z"
   },
   {
    "duration": 1232,
    "start_time": "2022-04-16T21:06:45.946Z"
   },
   {
    "duration": 53,
    "start_time": "2022-04-16T21:06:47.180Z"
   },
   {
    "duration": 67,
    "start_time": "2022-04-16T21:06:47.235Z"
   },
   {
    "duration": 25,
    "start_time": "2022-04-16T21:06:47.304Z"
   },
   {
    "duration": 10,
    "start_time": "2022-04-16T21:06:47.331Z"
   },
   {
    "duration": 133,
    "start_time": "2022-04-16T21:06:47.342Z"
   },
   {
    "duration": 0,
    "start_time": "2022-04-16T21:06:47.477Z"
   },
   {
    "duration": 0,
    "start_time": "2022-04-16T21:06:47.479Z"
   },
   {
    "duration": 0,
    "start_time": "2022-04-16T21:06:47.480Z"
   },
   {
    "duration": 0,
    "start_time": "2022-04-16T21:06:47.481Z"
   },
   {
    "duration": 0,
    "start_time": "2022-04-16T21:06:47.482Z"
   },
   {
    "duration": 0,
    "start_time": "2022-04-16T21:06:47.483Z"
   },
   {
    "duration": 0,
    "start_time": "2022-04-16T21:06:47.484Z"
   },
   {
    "duration": 0,
    "start_time": "2022-04-16T21:06:47.485Z"
   },
   {
    "duration": 0,
    "start_time": "2022-04-16T21:06:47.486Z"
   },
   {
    "duration": 0,
    "start_time": "2022-04-16T21:06:47.487Z"
   },
   {
    "duration": 0,
    "start_time": "2022-04-16T21:06:47.488Z"
   },
   {
    "duration": 0,
    "start_time": "2022-04-16T21:06:47.488Z"
   },
   {
    "duration": 0,
    "start_time": "2022-04-16T21:06:47.489Z"
   },
   {
    "duration": 0,
    "start_time": "2022-04-16T21:06:47.490Z"
   },
   {
    "duration": 0,
    "start_time": "2022-04-16T21:06:47.491Z"
   },
   {
    "duration": 0,
    "start_time": "2022-04-16T21:06:47.492Z"
   },
   {
    "duration": 0,
    "start_time": "2022-04-16T21:06:47.493Z"
   },
   {
    "duration": 0,
    "start_time": "2022-04-16T21:06:47.494Z"
   },
   {
    "duration": 85,
    "start_time": "2022-04-16T21:07:26.127Z"
   },
   {
    "duration": 10,
    "start_time": "2022-04-16T21:07:28.276Z"
   },
   {
    "duration": 90,
    "start_time": "2022-04-16T21:08:13.626Z"
   },
   {
    "duration": 83,
    "start_time": "2022-04-16T21:08:21.857Z"
   },
   {
    "duration": 90,
    "start_time": "2022-04-16T21:09:47.291Z"
   },
   {
    "duration": 1184,
    "start_time": "2022-04-16T21:10:14.924Z"
   },
   {
    "duration": 1507,
    "start_time": "2022-04-16T21:10:16.110Z"
   },
   {
    "duration": 77,
    "start_time": "2022-04-16T21:10:17.618Z"
   },
   {
    "duration": 25,
    "start_time": "2022-04-16T21:10:17.697Z"
   },
   {
    "duration": 10,
    "start_time": "2022-04-16T21:10:17.724Z"
   },
   {
    "duration": 121,
    "start_time": "2022-04-16T21:10:17.736Z"
   },
   {
    "duration": 18,
    "start_time": "2022-04-16T21:10:17.859Z"
   },
   {
    "duration": 111,
    "start_time": "2022-04-16T21:10:17.879Z"
   },
   {
    "duration": 0,
    "start_time": "2022-04-16T21:10:17.992Z"
   },
   {
    "duration": 0,
    "start_time": "2022-04-16T21:10:17.993Z"
   },
   {
    "duration": 0,
    "start_time": "2022-04-16T21:10:17.994Z"
   },
   {
    "duration": 0,
    "start_time": "2022-04-16T21:10:17.996Z"
   },
   {
    "duration": 0,
    "start_time": "2022-04-16T21:10:17.997Z"
   },
   {
    "duration": 0,
    "start_time": "2022-04-16T21:10:17.998Z"
   },
   {
    "duration": 0,
    "start_time": "2022-04-16T21:10:17.999Z"
   },
   {
    "duration": 0,
    "start_time": "2022-04-16T21:10:18.000Z"
   },
   {
    "duration": 0,
    "start_time": "2022-04-16T21:10:18.001Z"
   },
   {
    "duration": 0,
    "start_time": "2022-04-16T21:10:18.003Z"
   },
   {
    "duration": 0,
    "start_time": "2022-04-16T21:10:18.003Z"
   },
   {
    "duration": 0,
    "start_time": "2022-04-16T21:10:18.004Z"
   },
   {
    "duration": 0,
    "start_time": "2022-04-16T21:10:18.005Z"
   },
   {
    "duration": 0,
    "start_time": "2022-04-16T21:10:18.007Z"
   },
   {
    "duration": 0,
    "start_time": "2022-04-16T21:10:18.008Z"
   },
   {
    "duration": 0,
    "start_time": "2022-04-16T21:10:18.009Z"
   },
   {
    "duration": 0,
    "start_time": "2022-04-16T21:10:18.009Z"
   },
   {
    "duration": 0,
    "start_time": "2022-04-16T21:10:18.010Z"
   },
   {
    "duration": 86,
    "start_time": "2022-04-16T21:13:40.079Z"
   },
   {
    "duration": 9,
    "start_time": "2022-04-16T21:13:41.489Z"
   },
   {
    "duration": 1173,
    "start_time": "2022-04-16T21:13:59.943Z"
   },
   {
    "duration": 54,
    "start_time": "2022-04-16T21:14:01.118Z"
   },
   {
    "duration": 63,
    "start_time": "2022-04-16T21:14:01.173Z"
   },
   {
    "duration": 51,
    "start_time": "2022-04-16T21:14:01.238Z"
   },
   {
    "duration": 9,
    "start_time": "2022-04-16T21:14:01.291Z"
   },
   {
    "duration": 9,
    "start_time": "2022-04-16T21:14:01.302Z"
   },
   {
    "duration": 14,
    "start_time": "2022-04-16T21:14:01.313Z"
   },
   {
    "duration": 117,
    "start_time": "2022-04-16T21:14:01.329Z"
   },
   {
    "duration": 0,
    "start_time": "2022-04-16T21:14:01.448Z"
   },
   {
    "duration": 0,
    "start_time": "2022-04-16T21:14:01.449Z"
   },
   {
    "duration": 0,
    "start_time": "2022-04-16T21:14:01.450Z"
   },
   {
    "duration": 0,
    "start_time": "2022-04-16T21:14:01.452Z"
   },
   {
    "duration": 0,
    "start_time": "2022-04-16T21:14:01.452Z"
   },
   {
    "duration": 0,
    "start_time": "2022-04-16T21:14:01.453Z"
   },
   {
    "duration": 0,
    "start_time": "2022-04-16T21:14:01.454Z"
   },
   {
    "duration": 0,
    "start_time": "2022-04-16T21:14:01.455Z"
   },
   {
    "duration": 0,
    "start_time": "2022-04-16T21:14:01.473Z"
   },
   {
    "duration": 0,
    "start_time": "2022-04-16T21:14:01.474Z"
   },
   {
    "duration": 0,
    "start_time": "2022-04-16T21:14:01.476Z"
   },
   {
    "duration": 0,
    "start_time": "2022-04-16T21:14:01.477Z"
   },
   {
    "duration": 0,
    "start_time": "2022-04-16T21:14:01.478Z"
   },
   {
    "duration": 0,
    "start_time": "2022-04-16T21:14:01.479Z"
   },
   {
    "duration": 0,
    "start_time": "2022-04-16T21:14:01.480Z"
   },
   {
    "duration": 0,
    "start_time": "2022-04-16T21:14:01.481Z"
   },
   {
    "duration": 0,
    "start_time": "2022-04-16T21:14:01.482Z"
   },
   {
    "duration": 0,
    "start_time": "2022-04-16T21:14:01.483Z"
   },
   {
    "duration": 0,
    "start_time": "2022-04-16T21:14:01.484Z"
   },
   {
    "duration": 59,
    "start_time": "2022-04-16T21:26:44.776Z"
   },
   {
    "duration": 36,
    "start_time": "2022-04-16T21:27:10.956Z"
   },
   {
    "duration": 28,
    "start_time": "2022-04-16T21:27:21.281Z"
   },
   {
    "duration": 1127,
    "start_time": "2022-04-16T21:27:33.626Z"
   },
   {
    "duration": 58,
    "start_time": "2022-04-16T21:27:34.754Z"
   },
   {
    "duration": 68,
    "start_time": "2022-04-16T21:27:34.814Z"
   },
   {
    "duration": 23,
    "start_time": "2022-04-16T21:27:34.884Z"
   },
   {
    "duration": 9,
    "start_time": "2022-04-16T21:27:34.908Z"
   },
   {
    "duration": 100,
    "start_time": "2022-04-16T21:27:34.919Z"
   },
   {
    "duration": 10,
    "start_time": "2022-04-16T21:27:35.021Z"
   },
   {
    "duration": 65,
    "start_time": "2022-04-16T21:27:35.033Z"
   },
   {
    "duration": 104,
    "start_time": "2022-04-16T21:27:35.099Z"
   },
   {
    "duration": 0,
    "start_time": "2022-04-16T21:27:35.205Z"
   },
   {
    "duration": 0,
    "start_time": "2022-04-16T21:27:35.206Z"
   },
   {
    "duration": 0,
    "start_time": "2022-04-16T21:27:35.207Z"
   },
   {
    "duration": 0,
    "start_time": "2022-04-16T21:27:35.208Z"
   },
   {
    "duration": 0,
    "start_time": "2022-04-16T21:27:35.209Z"
   },
   {
    "duration": 0,
    "start_time": "2022-04-16T21:27:35.210Z"
   },
   {
    "duration": 0,
    "start_time": "2022-04-16T21:27:35.211Z"
   },
   {
    "duration": 0,
    "start_time": "2022-04-16T21:27:35.212Z"
   },
   {
    "duration": 0,
    "start_time": "2022-04-16T21:27:35.213Z"
   },
   {
    "duration": 0,
    "start_time": "2022-04-16T21:27:35.215Z"
   },
   {
    "duration": 0,
    "start_time": "2022-04-16T21:27:35.216Z"
   },
   {
    "duration": 0,
    "start_time": "2022-04-16T21:27:35.217Z"
   },
   {
    "duration": 0,
    "start_time": "2022-04-16T21:27:35.218Z"
   },
   {
    "duration": 0,
    "start_time": "2022-04-16T21:27:35.219Z"
   },
   {
    "duration": 0,
    "start_time": "2022-04-16T21:27:35.220Z"
   },
   {
    "duration": 0,
    "start_time": "2022-04-16T21:27:35.220Z"
   },
   {
    "duration": 0,
    "start_time": "2022-04-16T21:27:35.221Z"
   },
   {
    "duration": 0,
    "start_time": "2022-04-16T21:27:35.222Z"
   },
   {
    "duration": 34,
    "start_time": "2022-04-16T21:27:49.008Z"
   },
   {
    "duration": 13,
    "start_time": "2022-04-16T21:27:53.824Z"
   },
   {
    "duration": 1186,
    "start_time": "2022-04-16T21:27:58.787Z"
   },
   {
    "duration": 59,
    "start_time": "2022-04-16T21:27:59.975Z"
   },
   {
    "duration": 78,
    "start_time": "2022-04-16T21:28:00.036Z"
   },
   {
    "duration": 56,
    "start_time": "2022-04-16T21:28:00.117Z"
   },
   {
    "duration": 12,
    "start_time": "2022-04-16T21:28:00.175Z"
   },
   {
    "duration": 97,
    "start_time": "2022-04-16T21:28:00.189Z"
   },
   {
    "duration": 10,
    "start_time": "2022-04-16T21:28:00.288Z"
   },
   {
    "duration": 19,
    "start_time": "2022-04-16T21:28:00.300Z"
   },
   {
    "duration": 117,
    "start_time": "2022-04-16T21:28:00.322Z"
   },
   {
    "duration": 0,
    "start_time": "2022-04-16T21:28:00.441Z"
   },
   {
    "duration": 0,
    "start_time": "2022-04-16T21:28:00.443Z"
   },
   {
    "duration": 0,
    "start_time": "2022-04-16T21:28:00.444Z"
   },
   {
    "duration": 0,
    "start_time": "2022-04-16T21:28:00.446Z"
   },
   {
    "duration": 0,
    "start_time": "2022-04-16T21:28:00.447Z"
   },
   {
    "duration": 0,
    "start_time": "2022-04-16T21:28:00.449Z"
   },
   {
    "duration": 0,
    "start_time": "2022-04-16T21:28:00.450Z"
   },
   {
    "duration": 0,
    "start_time": "2022-04-16T21:28:00.452Z"
   },
   {
    "duration": 0,
    "start_time": "2022-04-16T21:28:00.474Z"
   },
   {
    "duration": 0,
    "start_time": "2022-04-16T21:28:00.475Z"
   },
   {
    "duration": 0,
    "start_time": "2022-04-16T21:28:00.477Z"
   },
   {
    "duration": 0,
    "start_time": "2022-04-16T21:28:00.478Z"
   },
   {
    "duration": 0,
    "start_time": "2022-04-16T21:28:00.480Z"
   },
   {
    "duration": 0,
    "start_time": "2022-04-16T21:28:00.481Z"
   },
   {
    "duration": 0,
    "start_time": "2022-04-16T21:28:00.483Z"
   },
   {
    "duration": 0,
    "start_time": "2022-04-16T21:28:00.484Z"
   },
   {
    "duration": 0,
    "start_time": "2022-04-16T21:28:00.485Z"
   },
   {
    "duration": 0,
    "start_time": "2022-04-16T21:28:00.487Z"
   },
   {
    "duration": 16,
    "start_time": "2022-04-16T21:28:27.821Z"
   },
   {
    "duration": 1051,
    "start_time": "2022-04-16T21:28:33.118Z"
   },
   {
    "duration": 52,
    "start_time": "2022-04-16T21:28:34.171Z"
   },
   {
    "duration": 71,
    "start_time": "2022-04-16T21:28:34.224Z"
   },
   {
    "duration": 21,
    "start_time": "2022-04-16T21:28:34.297Z"
   },
   {
    "duration": 8,
    "start_time": "2022-04-16T21:28:34.320Z"
   },
   {
    "duration": 15,
    "start_time": "2022-04-16T21:28:34.330Z"
   },
   {
    "duration": 33,
    "start_time": "2022-04-16T21:28:34.347Z"
   },
   {
    "duration": 11,
    "start_time": "2022-04-16T21:28:34.382Z"
   },
   {
    "duration": 116,
    "start_time": "2022-04-16T21:28:34.395Z"
   },
   {
    "duration": 0,
    "start_time": "2022-04-16T21:28:34.513Z"
   },
   {
    "duration": 0,
    "start_time": "2022-04-16T21:28:34.515Z"
   },
   {
    "duration": 0,
    "start_time": "2022-04-16T21:28:34.516Z"
   },
   {
    "duration": 0,
    "start_time": "2022-04-16T21:28:34.518Z"
   },
   {
    "duration": 0,
    "start_time": "2022-04-16T21:28:34.519Z"
   },
   {
    "duration": 0,
    "start_time": "2022-04-16T21:28:34.520Z"
   },
   {
    "duration": 0,
    "start_time": "2022-04-16T21:28:34.522Z"
   },
   {
    "duration": 0,
    "start_time": "2022-04-16T21:28:34.523Z"
   },
   {
    "duration": 0,
    "start_time": "2022-04-16T21:28:34.525Z"
   },
   {
    "duration": 0,
    "start_time": "2022-04-16T21:28:34.526Z"
   },
   {
    "duration": 0,
    "start_time": "2022-04-16T21:28:34.528Z"
   },
   {
    "duration": 0,
    "start_time": "2022-04-16T21:28:34.530Z"
   },
   {
    "duration": 0,
    "start_time": "2022-04-16T21:28:34.531Z"
   },
   {
    "duration": 0,
    "start_time": "2022-04-16T21:28:34.532Z"
   },
   {
    "duration": 0,
    "start_time": "2022-04-16T21:28:34.534Z"
   },
   {
    "duration": 0,
    "start_time": "2022-04-16T21:28:34.574Z"
   },
   {
    "duration": 0,
    "start_time": "2022-04-16T21:28:34.575Z"
   },
   {
    "duration": 0,
    "start_time": "2022-04-16T21:28:34.577Z"
   },
   {
    "duration": 54,
    "start_time": "2022-04-16T21:28:43.817Z"
   },
   {
    "duration": 43,
    "start_time": "2022-04-16T21:28:53.273Z"
   },
   {
    "duration": 4,
    "start_time": "2022-04-16T21:29:17.597Z"
   },
   {
    "duration": 58,
    "start_time": "2022-04-16T21:29:17.603Z"
   },
   {
    "duration": 61,
    "start_time": "2022-04-16T21:29:17.663Z"
   },
   {
    "duration": 51,
    "start_time": "2022-04-16T21:29:17.726Z"
   },
   {
    "duration": 8,
    "start_time": "2022-04-16T21:29:17.780Z"
   },
   {
    "duration": 18,
    "start_time": "2022-04-16T21:29:17.790Z"
   },
   {
    "duration": 16,
    "start_time": "2022-04-16T21:29:17.810Z"
   },
   {
    "duration": 12,
    "start_time": "2022-04-16T21:29:20.615Z"
   },
   {
    "duration": 13,
    "start_time": "2022-04-16T21:30:05.909Z"
   },
   {
    "duration": 82,
    "start_time": "2022-04-16T21:30:08.534Z"
   },
   {
    "duration": 11,
    "start_time": "2022-04-16T21:30:09.543Z"
   },
   {
    "duration": 241,
    "start_time": "2022-04-16T21:37:29.794Z"
   },
   {
    "duration": 90,
    "start_time": "2022-04-16T21:52:17.344Z"
   },
   {
    "duration": 9,
    "start_time": "2022-04-16T21:52:26.653Z"
   },
   {
    "duration": 106,
    "start_time": "2022-04-16T21:54:13.078Z"
   },
   {
    "duration": 94,
    "start_time": "2022-04-16T21:54:20.662Z"
   },
   {
    "duration": 9,
    "start_time": "2022-04-16T21:54:22.454Z"
   },
   {
    "duration": 96,
    "start_time": "2022-04-16T21:54:39.191Z"
   },
   {
    "duration": 8,
    "start_time": "2022-04-16T21:54:41.255Z"
   },
   {
    "duration": 108,
    "start_time": "2022-04-16T21:55:25.587Z"
   },
   {
    "duration": 9,
    "start_time": "2022-04-16T21:55:26.831Z"
   },
   {
    "duration": 105,
    "start_time": "2022-04-16T21:55:51.382Z"
   },
   {
    "duration": 8,
    "start_time": "2022-04-16T21:55:53.365Z"
   },
   {
    "duration": 1112,
    "start_time": "2022-04-16T21:55:58.157Z"
   },
   {
    "duration": 52,
    "start_time": "2022-04-16T21:55:59.272Z"
   },
   {
    "duration": 73,
    "start_time": "2022-04-16T21:55:59.326Z"
   },
   {
    "duration": 24,
    "start_time": "2022-04-16T21:55:59.401Z"
   },
   {
    "duration": 10,
    "start_time": "2022-04-16T21:55:59.426Z"
   },
   {
    "duration": 148,
    "start_time": "2022-04-16T21:55:59.438Z"
   },
   {
    "duration": 10,
    "start_time": "2022-04-16T21:55:59.588Z"
   },
   {
    "duration": 246,
    "start_time": "2022-04-16T21:55:59.599Z"
   },
   {
    "duration": 107,
    "start_time": "2022-04-16T21:55:59.847Z"
   },
   {
    "duration": 0,
    "start_time": "2022-04-16T21:55:59.957Z"
   },
   {
    "duration": 0,
    "start_time": "2022-04-16T21:55:59.958Z"
   },
   {
    "duration": 0,
    "start_time": "2022-04-16T21:55:59.959Z"
   },
   {
    "duration": 0,
    "start_time": "2022-04-16T21:55:59.960Z"
   },
   {
    "duration": 0,
    "start_time": "2022-04-16T21:55:59.973Z"
   },
   {
    "duration": 0,
    "start_time": "2022-04-16T21:55:59.974Z"
   },
   {
    "duration": 0,
    "start_time": "2022-04-16T21:55:59.975Z"
   },
   {
    "duration": 0,
    "start_time": "2022-04-16T21:55:59.976Z"
   },
   {
    "duration": 0,
    "start_time": "2022-04-16T21:55:59.977Z"
   },
   {
    "duration": 0,
    "start_time": "2022-04-16T21:55:59.978Z"
   },
   {
    "duration": 0,
    "start_time": "2022-04-16T21:55:59.979Z"
   },
   {
    "duration": 0,
    "start_time": "2022-04-16T21:55:59.980Z"
   },
   {
    "duration": 0,
    "start_time": "2022-04-16T21:55:59.980Z"
   },
   {
    "duration": 0,
    "start_time": "2022-04-16T21:55:59.981Z"
   },
   {
    "duration": 0,
    "start_time": "2022-04-16T21:55:59.982Z"
   },
   {
    "duration": 1,
    "start_time": "2022-04-16T21:55:59.983Z"
   },
   {
    "duration": 0,
    "start_time": "2022-04-16T21:55:59.984Z"
   },
   {
    "duration": 99,
    "start_time": "2022-04-16T21:56:55.749Z"
   },
   {
    "duration": 1066,
    "start_time": "2022-04-16T21:57:10.103Z"
   },
   {
    "duration": 52,
    "start_time": "2022-04-16T21:57:11.171Z"
   },
   {
    "duration": 68,
    "start_time": "2022-04-16T21:57:11.225Z"
   },
   {
    "duration": 23,
    "start_time": "2022-04-16T21:57:11.295Z"
   },
   {
    "duration": 8,
    "start_time": "2022-04-16T21:57:11.320Z"
   },
   {
    "duration": 81,
    "start_time": "2022-04-16T21:57:11.330Z"
   },
   {
    "duration": 0,
    "start_time": "2022-04-16T21:57:11.414Z"
   },
   {
    "duration": 0,
    "start_time": "2022-04-16T21:57:11.415Z"
   },
   {
    "duration": 0,
    "start_time": "2022-04-16T21:57:11.416Z"
   },
   {
    "duration": 0,
    "start_time": "2022-04-16T21:57:11.417Z"
   },
   {
    "duration": 0,
    "start_time": "2022-04-16T21:57:11.418Z"
   },
   {
    "duration": 0,
    "start_time": "2022-04-16T21:57:11.419Z"
   },
   {
    "duration": 0,
    "start_time": "2022-04-16T21:57:11.420Z"
   },
   {
    "duration": 0,
    "start_time": "2022-04-16T21:57:11.421Z"
   },
   {
    "duration": 0,
    "start_time": "2022-04-16T21:57:11.422Z"
   },
   {
    "duration": 0,
    "start_time": "2022-04-16T21:57:11.423Z"
   },
   {
    "duration": 0,
    "start_time": "2022-04-16T21:57:11.424Z"
   },
   {
    "duration": 0,
    "start_time": "2022-04-16T21:57:11.425Z"
   },
   {
    "duration": 0,
    "start_time": "2022-04-16T21:57:11.426Z"
   },
   {
    "duration": 0,
    "start_time": "2022-04-16T21:57:11.427Z"
   },
   {
    "duration": 0,
    "start_time": "2022-04-16T21:57:11.428Z"
   },
   {
    "duration": 0,
    "start_time": "2022-04-16T21:57:11.429Z"
   },
   {
    "duration": 0,
    "start_time": "2022-04-16T21:57:11.430Z"
   },
   {
    "duration": 0,
    "start_time": "2022-04-16T21:57:11.431Z"
   },
   {
    "duration": 0,
    "start_time": "2022-04-16T21:57:11.432Z"
   },
   {
    "duration": 0,
    "start_time": "2022-04-16T21:57:11.433Z"
   },
   {
    "duration": 323,
    "start_time": "2022-04-16T22:00:20.006Z"
   },
   {
    "duration": 223,
    "start_time": "2022-04-16T22:00:26.919Z"
   },
   {
    "duration": 227,
    "start_time": "2022-04-16T22:00:35.760Z"
   },
   {
    "duration": 1178,
    "start_time": "2022-04-16T22:02:29.012Z"
   },
   {
    "duration": 55,
    "start_time": "2022-04-16T22:02:30.192Z"
   },
   {
    "duration": 71,
    "start_time": "2022-04-16T22:02:30.248Z"
   },
   {
    "duration": 52,
    "start_time": "2022-04-16T22:02:30.321Z"
   },
   {
    "duration": 10,
    "start_time": "2022-04-16T22:02:30.375Z"
   },
   {
    "duration": 166,
    "start_time": "2022-04-16T22:02:30.387Z"
   },
   {
    "duration": 0,
    "start_time": "2022-04-16T22:02:30.555Z"
   },
   {
    "duration": 0,
    "start_time": "2022-04-16T22:02:30.556Z"
   },
   {
    "duration": 0,
    "start_time": "2022-04-16T22:02:30.557Z"
   },
   {
    "duration": 0,
    "start_time": "2022-04-16T22:02:30.559Z"
   },
   {
    "duration": 0,
    "start_time": "2022-04-16T22:02:30.559Z"
   },
   {
    "duration": 0,
    "start_time": "2022-04-16T22:02:30.561Z"
   },
   {
    "duration": 0,
    "start_time": "2022-04-16T22:02:30.562Z"
   },
   {
    "duration": 0,
    "start_time": "2022-04-16T22:02:30.564Z"
   },
   {
    "duration": 0,
    "start_time": "2022-04-16T22:02:30.565Z"
   },
   {
    "duration": 0,
    "start_time": "2022-04-16T22:02:30.566Z"
   },
   {
    "duration": 0,
    "start_time": "2022-04-16T22:02:30.567Z"
   },
   {
    "duration": 0,
    "start_time": "2022-04-16T22:02:30.567Z"
   },
   {
    "duration": 0,
    "start_time": "2022-04-16T22:02:30.568Z"
   },
   {
    "duration": 0,
    "start_time": "2022-04-16T22:02:30.570Z"
   },
   {
    "duration": 0,
    "start_time": "2022-04-16T22:02:30.571Z"
   },
   {
    "duration": 0,
    "start_time": "2022-04-16T22:02:30.572Z"
   },
   {
    "duration": 0,
    "start_time": "2022-04-16T22:02:30.573Z"
   },
   {
    "duration": 0,
    "start_time": "2022-04-16T22:02:30.574Z"
   },
   {
    "duration": 0,
    "start_time": "2022-04-16T22:02:30.575Z"
   },
   {
    "duration": 0,
    "start_time": "2022-04-16T22:02:30.576Z"
   },
   {
    "duration": 1125,
    "start_time": "2022-04-16T22:02:56.799Z"
   },
   {
    "duration": 53,
    "start_time": "2022-04-16T22:02:57.926Z"
   },
   {
    "duration": 61,
    "start_time": "2022-04-16T22:02:57.980Z"
   },
   {
    "duration": 46,
    "start_time": "2022-04-16T22:02:58.043Z"
   },
   {
    "duration": 11,
    "start_time": "2022-04-16T22:02:58.091Z"
   },
   {
    "duration": 95,
    "start_time": "2022-04-16T22:02:58.103Z"
   },
   {
    "duration": 9,
    "start_time": "2022-04-16T22:02:58.200Z"
   },
   {
    "duration": 341,
    "start_time": "2022-04-16T22:02:58.211Z"
   },
   {
    "duration": 0,
    "start_time": "2022-04-16T22:02:58.554Z"
   },
   {
    "duration": 0,
    "start_time": "2022-04-16T22:02:58.556Z"
   },
   {
    "duration": 0,
    "start_time": "2022-04-16T22:02:58.557Z"
   },
   {
    "duration": 0,
    "start_time": "2022-04-16T22:02:58.558Z"
   },
   {
    "duration": 0,
    "start_time": "2022-04-16T22:02:58.559Z"
   },
   {
    "duration": 0,
    "start_time": "2022-04-16T22:02:58.573Z"
   },
   {
    "duration": 0,
    "start_time": "2022-04-16T22:02:58.574Z"
   },
   {
    "duration": 0,
    "start_time": "2022-04-16T22:02:58.575Z"
   },
   {
    "duration": 0,
    "start_time": "2022-04-16T22:02:58.577Z"
   },
   {
    "duration": 0,
    "start_time": "2022-04-16T22:02:58.577Z"
   },
   {
    "duration": 0,
    "start_time": "2022-04-16T22:02:58.578Z"
   },
   {
    "duration": 0,
    "start_time": "2022-04-16T22:02:58.579Z"
   },
   {
    "duration": 0,
    "start_time": "2022-04-16T22:02:58.580Z"
   },
   {
    "duration": 0,
    "start_time": "2022-04-16T22:02:58.581Z"
   },
   {
    "duration": 0,
    "start_time": "2022-04-16T22:02:58.582Z"
   },
   {
    "duration": 0,
    "start_time": "2022-04-16T22:02:58.583Z"
   },
   {
    "duration": 0,
    "start_time": "2022-04-16T22:02:58.584Z"
   },
   {
    "duration": 0,
    "start_time": "2022-04-16T22:02:58.585Z"
   },
   {
    "duration": 229,
    "start_time": "2022-04-16T22:04:44.886Z"
   },
   {
    "duration": 231,
    "start_time": "2022-04-16T22:04:55.934Z"
   },
   {
    "duration": 248,
    "start_time": "2022-04-16T22:05:02.728Z"
   },
   {
    "duration": 233,
    "start_time": "2022-04-16T22:09:06.170Z"
   },
   {
    "duration": 227,
    "start_time": "2022-04-16T22:09:16.532Z"
   },
   {
    "duration": 219,
    "start_time": "2022-04-16T22:10:53.746Z"
   },
   {
    "duration": 219,
    "start_time": "2022-04-16T22:12:20.486Z"
   },
   {
    "duration": 322,
    "start_time": "2022-04-16T22:14:01.921Z"
   },
   {
    "duration": 273,
    "start_time": "2022-04-16T22:15:21.103Z"
   },
   {
    "duration": 9,
    "start_time": "2022-04-16T22:16:15.149Z"
   },
   {
    "duration": 4,
    "start_time": "2022-04-16T22:16:54.869Z"
   },
   {
    "duration": 340,
    "start_time": "2022-04-16T22:19:46.642Z"
   },
   {
    "duration": 335,
    "start_time": "2022-04-16T22:19:50.916Z"
   },
   {
    "duration": 341,
    "start_time": "2022-04-16T22:20:17.092Z"
   },
   {
    "duration": 232,
    "start_time": "2022-04-16T22:21:01.339Z"
   },
   {
    "duration": 14,
    "start_time": "2022-04-16T22:24:11.947Z"
   },
   {
    "duration": 120,
    "start_time": "2022-04-16T22:24:24.536Z"
   },
   {
    "duration": 125,
    "start_time": "2022-04-16T22:24:41.881Z"
   },
   {
    "duration": 369,
    "start_time": "2022-04-16T22:25:13.795Z"
   },
   {
    "duration": 257,
    "start_time": "2022-04-16T22:25:24.794Z"
   },
   {
    "duration": 258,
    "start_time": "2022-04-16T22:25:33.962Z"
   },
   {
    "duration": 256,
    "start_time": "2022-04-16T22:25:43.391Z"
   },
   {
    "duration": 130,
    "start_time": "2022-04-16T22:26:25.262Z"
   },
   {
    "duration": 135,
    "start_time": "2022-04-16T22:26:57.219Z"
   },
   {
    "duration": 123,
    "start_time": "2022-04-16T22:27:05.712Z"
   },
   {
    "duration": 231,
    "start_time": "2022-04-16T22:28:52.118Z"
   },
   {
    "duration": 216,
    "start_time": "2022-04-16T22:29:01.888Z"
   },
   {
    "duration": 386,
    "start_time": "2022-04-16T22:29:21.745Z"
   },
   {
    "duration": 511,
    "start_time": "2022-04-16T22:30:29.658Z"
   },
   {
    "duration": 206,
    "start_time": "2022-04-16T22:30:36.833Z"
   },
   {
    "duration": 121,
    "start_time": "2022-04-16T22:31:48.015Z"
   },
   {
    "duration": 119,
    "start_time": "2022-04-16T22:31:55.987Z"
   },
   {
    "duration": 99,
    "start_time": "2022-04-16T22:33:00.694Z"
   },
   {
    "duration": 265,
    "start_time": "2022-04-16T22:33:04.638Z"
   },
   {
    "duration": 197,
    "start_time": "2022-04-16T22:33:19.481Z"
   },
   {
    "duration": 205,
    "start_time": "2022-04-16T22:33:39.917Z"
   },
   {
    "duration": 208,
    "start_time": "2022-04-16T22:33:54.821Z"
   },
   {
    "duration": 124,
    "start_time": "2022-04-16T22:34:01.374Z"
   },
   {
    "duration": 193,
    "start_time": "2022-04-16T22:35:37.652Z"
   },
   {
    "duration": 33,
    "start_time": "2022-04-16T22:37:01.186Z"
   },
   {
    "duration": 227,
    "start_time": "2022-04-16T22:37:13.467Z"
   },
   {
    "duration": 229,
    "start_time": "2022-04-16T22:37:19.844Z"
   },
   {
    "duration": 14,
    "start_time": "2022-04-16T22:40:01.767Z"
   },
   {
    "duration": 332,
    "start_time": "2022-04-16T22:40:06.792Z"
   },
   {
    "duration": 295,
    "start_time": "2022-04-16T22:40:11.688Z"
   },
   {
    "duration": 609,
    "start_time": "2022-04-16T22:41:23.011Z"
   },
   {
    "duration": 484,
    "start_time": "2022-04-16T22:43:13.301Z"
   },
   {
    "duration": 637,
    "start_time": "2022-04-16T22:43:37.568Z"
   },
   {
    "duration": 618,
    "start_time": "2022-04-16T22:44:09.174Z"
   },
   {
    "duration": 492,
    "start_time": "2022-04-16T22:45:25.371Z"
   },
   {
    "duration": 479,
    "start_time": "2022-04-16T22:45:58.407Z"
   },
   {
    "duration": 288,
    "start_time": "2022-04-16T22:46:34.958Z"
   },
   {
    "duration": 285,
    "start_time": "2022-04-16T22:46:56.200Z"
   },
   {
    "duration": 283,
    "start_time": "2022-04-16T22:47:08.232Z"
   },
   {
    "duration": 286,
    "start_time": "2022-04-16T22:47:24.437Z"
   },
   {
    "duration": 83,
    "start_time": "2022-04-16T22:47:36.798Z"
   },
   {
    "duration": 285,
    "start_time": "2022-04-16T22:47:52.084Z"
   },
   {
    "duration": 301,
    "start_time": "2022-04-16T22:49:02.866Z"
   },
   {
    "duration": 433,
    "start_time": "2022-04-16T22:49:19.660Z"
   },
   {
    "duration": 287,
    "start_time": "2022-04-16T22:49:29.139Z"
   },
   {
    "duration": 298,
    "start_time": "2022-04-16T22:50:32.658Z"
   },
   {
    "duration": 292,
    "start_time": "2022-04-16T22:50:42.162Z"
   },
   {
    "duration": 285,
    "start_time": "2022-04-16T22:50:51.065Z"
   },
   {
    "duration": 285,
    "start_time": "2022-04-16T22:51:05.556Z"
   },
   {
    "duration": 554,
    "start_time": "2022-04-16T22:51:43.986Z"
   },
   {
    "duration": 1207,
    "start_time": "2022-04-16T22:52:06.650Z"
   },
   {
    "duration": 53,
    "start_time": "2022-04-16T22:52:07.858Z"
   },
   {
    "duration": 78,
    "start_time": "2022-04-16T22:52:07.912Z"
   },
   {
    "duration": 24,
    "start_time": "2022-04-16T22:52:07.992Z"
   },
   {
    "duration": 97,
    "start_time": "2022-04-16T22:52:08.018Z"
   },
   {
    "duration": 211,
    "start_time": "2022-04-16T22:52:08.117Z"
   },
   {
    "duration": 121,
    "start_time": "2022-04-16T22:52:08.330Z"
   },
   {
    "duration": 522,
    "start_time": "2022-04-16T22:52:08.453Z"
   },
   {
    "duration": 110,
    "start_time": "2022-04-16T22:52:08.976Z"
   },
   {
    "duration": 0,
    "start_time": "2022-04-16T22:52:09.088Z"
   },
   {
    "duration": 0,
    "start_time": "2022-04-16T22:52:09.089Z"
   },
   {
    "duration": 0,
    "start_time": "2022-04-16T22:52:09.090Z"
   },
   {
    "duration": 0,
    "start_time": "2022-04-16T22:52:09.091Z"
   },
   {
    "duration": 0,
    "start_time": "2022-04-16T22:52:09.093Z"
   },
   {
    "duration": 0,
    "start_time": "2022-04-16T22:52:09.094Z"
   },
   {
    "duration": 0,
    "start_time": "2022-04-16T22:52:09.095Z"
   },
   {
    "duration": 0,
    "start_time": "2022-04-16T22:52:09.096Z"
   },
   {
    "duration": 0,
    "start_time": "2022-04-16T22:52:09.097Z"
   },
   {
    "duration": 0,
    "start_time": "2022-04-16T22:52:09.098Z"
   },
   {
    "duration": 0,
    "start_time": "2022-04-16T22:52:09.100Z"
   },
   {
    "duration": 0,
    "start_time": "2022-04-16T22:52:09.101Z"
   },
   {
    "duration": 0,
    "start_time": "2022-04-16T22:52:09.102Z"
   },
   {
    "duration": 0,
    "start_time": "2022-04-16T22:52:09.103Z"
   },
   {
    "duration": 0,
    "start_time": "2022-04-16T22:52:09.104Z"
   },
   {
    "duration": 391,
    "start_time": "2022-04-16T22:53:34.357Z"
   },
   {
    "duration": 260,
    "start_time": "2022-04-16T22:53:51.844Z"
   },
   {
    "duration": 261,
    "start_time": "2022-04-16T22:54:05.921Z"
   },
   {
    "duration": 515,
    "start_time": "2022-04-16T22:54:17.932Z"
   },
   {
    "duration": 254,
    "start_time": "2022-04-16T22:54:45.555Z"
   },
   {
    "duration": 265,
    "start_time": "2022-04-16T22:54:57.268Z"
   },
   {
    "duration": 462,
    "start_time": "2022-04-16T22:55:09.901Z"
   },
   {
    "duration": 436,
    "start_time": "2022-04-16T22:55:56.228Z"
   },
   {
    "duration": 447,
    "start_time": "2022-04-16T22:55:59.772Z"
   },
   {
    "duration": 270,
    "start_time": "2022-04-16T23:00:49.635Z"
   },
   {
    "duration": 575,
    "start_time": "2022-04-16T23:01:17.225Z"
   },
   {
    "duration": 475,
    "start_time": "2022-04-16T23:01:38.983Z"
   },
   {
    "duration": 165,
    "start_time": "2022-04-16T23:02:04.480Z"
   },
   {
    "duration": 464,
    "start_time": "2022-04-16T23:02:13.766Z"
   },
   {
    "duration": 195,
    "start_time": "2022-04-16T23:02:26.033Z"
   },
   {
    "duration": 662,
    "start_time": "2022-04-16T23:03:31.223Z"
   },
   {
    "duration": 331,
    "start_time": "2022-04-16T23:03:46.665Z"
   },
   {
    "duration": 112,
    "start_time": "2022-04-16T23:03:49.115Z"
   },
   {
    "duration": 493,
    "start_time": "2022-04-16T23:03:50.883Z"
   },
   {
    "duration": 740,
    "start_time": "2022-04-16T23:03:53.772Z"
   },
   {
    "duration": 498,
    "start_time": "2022-04-16T23:05:09.022Z"
   },
   {
    "duration": 496,
    "start_time": "2022-04-16T23:10:02.626Z"
   },
   {
    "duration": 616,
    "start_time": "2022-04-16T23:10:06.321Z"
   },
   {
    "duration": 505,
    "start_time": "2022-04-16T23:10:13.090Z"
   },
   {
    "duration": 444,
    "start_time": "2022-04-16T23:10:36.258Z"
   },
   {
    "duration": 218,
    "start_time": "2022-04-16T23:10:47.934Z"
   },
   {
    "duration": 113,
    "start_time": "2022-04-16T23:10:51.977Z"
   },
   {
    "duration": 478,
    "start_time": "2022-04-16T23:10:55.123Z"
   },
   {
    "duration": 1157,
    "start_time": "2022-04-16T23:11:20.531Z"
   },
   {
    "duration": 56,
    "start_time": "2022-04-16T23:11:21.690Z"
   },
   {
    "duration": 75,
    "start_time": "2022-04-16T23:11:21.748Z"
   },
   {
    "duration": 51,
    "start_time": "2022-04-16T23:11:21.826Z"
   },
   {
    "duration": 79,
    "start_time": "2022-04-16T23:11:21.879Z"
   },
   {
    "duration": 261,
    "start_time": "2022-04-16T23:11:21.960Z"
   },
   {
    "duration": 126,
    "start_time": "2022-04-16T23:11:22.223Z"
   },
   {
    "duration": 487,
    "start_time": "2022-04-16T23:11:22.351Z"
   },
   {
    "duration": 705,
    "start_time": "2022-04-16T23:11:22.840Z"
   },
   {
    "duration": 218,
    "start_time": "2022-04-16T23:11:23.548Z"
   },
   {
    "duration": 164,
    "start_time": "2022-04-16T23:11:23.768Z"
   },
   {
    "duration": 245,
    "start_time": "2022-04-16T23:11:23.933Z"
   },
   {
    "duration": 5019,
    "start_time": "2022-04-16T23:11:24.179Z"
   },
   {
    "duration": 20,
    "start_time": "2022-04-16T23:11:29.199Z"
   },
   {
    "duration": 99,
    "start_time": "2022-04-16T23:11:29.221Z"
   },
   {
    "duration": 26,
    "start_time": "2022-04-16T23:11:29.322Z"
   },
   {
    "duration": 242,
    "start_time": "2022-04-16T23:11:29.349Z"
   },
   {
    "duration": 14,
    "start_time": "2022-04-16T23:11:29.592Z"
   },
   {
    "duration": 27,
    "start_time": "2022-04-16T23:11:29.608Z"
   },
   {
    "duration": 13,
    "start_time": "2022-04-16T23:11:29.637Z"
   },
   {
    "duration": 38,
    "start_time": "2022-04-16T23:11:29.651Z"
   },
   {
    "duration": 25,
    "start_time": "2022-04-16T23:11:29.690Z"
   },
   {
    "duration": 257,
    "start_time": "2022-04-16T23:11:29.716Z"
   },
   {
    "duration": 248,
    "start_time": "2022-04-16T23:11:29.975Z"
   },
   {
    "duration": 1126,
    "start_time": "2022-04-16T23:11:43.649Z"
   },
   {
    "duration": 52,
    "start_time": "2022-04-16T23:11:44.777Z"
   },
   {
    "duration": 70,
    "start_time": "2022-04-16T23:11:44.831Z"
   },
   {
    "duration": 24,
    "start_time": "2022-04-16T23:11:44.903Z"
   },
   {
    "duration": 104,
    "start_time": "2022-04-16T23:11:44.928Z"
   },
   {
    "duration": 242,
    "start_time": "2022-04-16T23:11:45.034Z"
   },
   {
    "duration": 122,
    "start_time": "2022-04-16T23:11:45.278Z"
   },
   {
    "duration": 480,
    "start_time": "2022-04-16T23:11:45.402Z"
   },
   {
    "duration": 721,
    "start_time": "2022-04-16T23:11:45.883Z"
   },
   {
    "duration": 214,
    "start_time": "2022-04-16T23:11:46.607Z"
   },
   {
    "duration": 173,
    "start_time": "2022-04-16T23:11:46.822Z"
   },
   {
    "duration": 225,
    "start_time": "2022-04-16T23:11:46.997Z"
   },
   {
    "duration": 5064,
    "start_time": "2022-04-16T23:11:47.223Z"
   },
   {
    "duration": 20,
    "start_time": "2022-04-16T23:11:52.289Z"
   },
   {
    "duration": 98,
    "start_time": "2022-04-16T23:11:52.311Z"
   },
   {
    "duration": 24,
    "start_time": "2022-04-16T23:11:52.410Z"
   },
   {
    "duration": 237,
    "start_time": "2022-04-16T23:11:52.435Z"
   },
   {
    "duration": 13,
    "start_time": "2022-04-16T23:11:52.674Z"
   },
   {
    "duration": 17,
    "start_time": "2022-04-16T23:11:52.689Z"
   },
   {
    "duration": 12,
    "start_time": "2022-04-16T23:11:52.707Z"
   },
   {
    "duration": 17,
    "start_time": "2022-04-16T23:11:52.721Z"
   },
   {
    "duration": 52,
    "start_time": "2022-04-16T23:11:52.739Z"
   },
   {
    "duration": 252,
    "start_time": "2022-04-16T23:11:52.793Z"
   },
   {
    "duration": 244,
    "start_time": "2022-04-16T23:11:53.047Z"
   },
   {
    "duration": 455,
    "start_time": "2022-04-16T23:18:57.854Z"
   },
   {
    "duration": 480,
    "start_time": "2022-04-16T23:19:23.237Z"
   },
   {
    "duration": 580,
    "start_time": "2022-04-16T23:19:59.768Z"
   },
   {
    "duration": 477,
    "start_time": "2022-04-16T23:27:19.434Z"
   },
   {
    "duration": 13,
    "start_time": "2022-04-16T23:30:09.431Z"
   },
   {
    "duration": 17,
    "start_time": "2022-04-16T23:30:28.699Z"
   },
   {
    "duration": 482,
    "start_time": "2022-04-16T23:31:09.911Z"
   },
   {
    "duration": 481,
    "start_time": "2022-04-16T23:32:06.935Z"
   },
   {
    "duration": 497,
    "start_time": "2022-04-16T23:32:12.918Z"
   },
   {
    "duration": 611,
    "start_time": "2022-04-16T23:33:16.688Z"
   },
   {
    "duration": 493,
    "start_time": "2022-04-16T23:33:56.927Z"
   },
   {
    "duration": 119,
    "start_time": "2022-04-16T23:35:34.412Z"
   },
   {
    "duration": 30,
    "start_time": "2022-04-16T23:36:23.271Z"
   },
   {
    "duration": 493,
    "start_time": "2022-04-16T23:36:48.228Z"
   },
   {
    "duration": 1269,
    "start_time": "2022-04-17T13:10:28.897Z"
   },
   {
    "duration": 63,
    "start_time": "2022-04-17T13:10:30.169Z"
   },
   {
    "duration": 69,
    "start_time": "2022-04-17T13:10:30.234Z"
   },
   {
    "duration": 27,
    "start_time": "2022-04-17T13:10:30.333Z"
   },
   {
    "duration": 99,
    "start_time": "2022-04-17T13:10:30.362Z"
   },
   {
    "duration": 275,
    "start_time": "2022-04-17T13:10:30.463Z"
   },
   {
    "duration": 137,
    "start_time": "2022-04-17T13:10:30.740Z"
   },
   {
    "duration": 581,
    "start_time": "2022-04-17T13:10:30.879Z"
   },
   {
    "duration": 810,
    "start_time": "2022-04-17T13:10:31.462Z"
   },
   {
    "duration": 251,
    "start_time": "2022-04-17T13:10:32.275Z"
   },
   {
    "duration": 163,
    "start_time": "2022-04-17T13:10:32.528Z"
   },
   {
    "duration": 271,
    "start_time": "2022-04-17T13:10:32.693Z"
   },
   {
    "duration": 5968,
    "start_time": "2022-04-17T13:10:32.966Z"
   },
   {
    "duration": 24,
    "start_time": "2022-04-17T13:10:38.936Z"
   },
   {
    "duration": 113,
    "start_time": "2022-04-17T13:10:38.962Z"
   },
   {
    "duration": 28,
    "start_time": "2022-04-17T13:10:39.077Z"
   },
   {
    "duration": 278,
    "start_time": "2022-04-17T13:10:39.107Z"
   },
   {
    "duration": 15,
    "start_time": "2022-04-17T13:10:39.386Z"
   },
   {
    "duration": 33,
    "start_time": "2022-04-17T13:10:39.402Z"
   },
   {
    "duration": 15,
    "start_time": "2022-04-17T13:10:39.437Z"
   },
   {
    "duration": 22,
    "start_time": "2022-04-17T13:10:39.453Z"
   },
   {
    "duration": 21,
    "start_time": "2022-04-17T13:10:39.477Z"
   },
   {
    "duration": 303,
    "start_time": "2022-04-17T13:10:39.500Z"
   },
   {
    "duration": 288,
    "start_time": "2022-04-17T13:10:39.805Z"
   },
   {
    "duration": 364,
    "start_time": "2022-04-17T13:13:34.296Z"
   },
   {
    "duration": 499,
    "start_time": "2022-04-17T13:13:53.248Z"
   },
   {
    "duration": 277,
    "start_time": "2022-04-17T13:14:02.023Z"
   },
   {
    "duration": 432,
    "start_time": "2022-04-17T13:19:43.426Z"
   },
   {
    "duration": 550,
    "start_time": "2022-04-17T13:19:51.330Z"
   },
   {
    "duration": 559,
    "start_time": "2022-04-17T13:21:34.615Z"
   },
   {
    "duration": 551,
    "start_time": "2022-04-17T13:22:35.280Z"
   },
   {
    "duration": 551,
    "start_time": "2022-04-17T13:31:02.806Z"
   },
   {
    "duration": 10,
    "start_time": "2022-04-17T13:41:33.820Z"
   },
   {
    "duration": 18,
    "start_time": "2022-04-17T13:43:28.777Z"
   },
   {
    "duration": 17,
    "start_time": "2022-04-17T13:44:06.918Z"
   },
   {
    "duration": 17,
    "start_time": "2022-04-17T13:44:42.463Z"
   },
   {
    "duration": 138,
    "start_time": "2022-04-17T13:46:37.047Z"
   },
   {
    "duration": 20,
    "start_time": "2022-04-17T13:46:54.390Z"
   },
   {
    "duration": 25,
    "start_time": "2022-04-17T13:48:05.447Z"
   },
   {
    "duration": 25,
    "start_time": "2022-04-17T13:50:09.965Z"
   },
   {
    "duration": 23,
    "start_time": "2022-04-17T13:50:16.870Z"
   },
   {
    "duration": 24,
    "start_time": "2022-04-17T13:50:23.828Z"
   },
   {
    "duration": 28,
    "start_time": "2022-04-17T13:51:37.292Z"
   },
   {
    "duration": 26,
    "start_time": "2022-04-17T13:51:43.339Z"
   },
   {
    "duration": 881,
    "start_time": "2022-04-17T13:52:17.084Z"
   },
   {
    "duration": 791,
    "start_time": "2022-04-17T13:52:21.914Z"
   },
   {
    "duration": 24,
    "start_time": "2022-04-17T13:53:01.092Z"
   },
   {
    "duration": 40,
    "start_time": "2022-04-17T13:54:30.072Z"
   },
   {
    "duration": 22,
    "start_time": "2022-04-17T13:54:38.758Z"
   },
   {
    "duration": 37,
    "start_time": "2022-04-17T13:56:03.596Z"
   },
   {
    "duration": 22,
    "start_time": "2022-04-17T13:56:10.790Z"
   },
   {
    "duration": 22,
    "start_time": "2022-04-17T13:56:24.368Z"
   },
   {
    "duration": 19,
    "start_time": "2022-04-17T13:59:41.072Z"
   },
   {
    "duration": 20,
    "start_time": "2022-04-17T14:06:46.350Z"
   },
   {
    "duration": 21,
    "start_time": "2022-04-17T14:09:29.730Z"
   },
   {
    "duration": 25,
    "start_time": "2022-04-17T14:10:02.939Z"
   },
   {
    "duration": 25,
    "start_time": "2022-04-17T14:19:09.024Z"
   },
   {
    "duration": 24,
    "start_time": "2022-04-17T14:19:36.293Z"
   },
   {
    "duration": 24,
    "start_time": "2022-04-17T14:20:42.068Z"
   },
   {
    "duration": 22,
    "start_time": "2022-04-17T14:21:27.292Z"
   },
   {
    "duration": 22,
    "start_time": "2022-04-17T14:26:42.495Z"
   },
   {
    "duration": 24,
    "start_time": "2022-04-17T14:26:50.248Z"
   },
   {
    "duration": 143,
    "start_time": "2022-04-17T14:27:19.209Z"
   },
   {
    "duration": 20,
    "start_time": "2022-04-17T14:27:20.913Z"
   },
   {
    "duration": 22,
    "start_time": "2022-04-17T14:27:24.490Z"
   },
   {
    "duration": 19,
    "start_time": "2022-04-17T14:27:30.566Z"
   },
   {
    "duration": 15,
    "start_time": "2022-04-17T14:28:06.613Z"
   },
   {
    "duration": 15,
    "start_time": "2022-04-17T14:28:35.759Z"
   },
   {
    "duration": 2118,
    "start_time": "2022-04-17T14:30:34.470Z"
   },
   {
    "duration": 15,
    "start_time": "2022-04-17T14:31:58.866Z"
   },
   {
    "duration": 162,
    "start_time": "2022-04-17T14:37:14.838Z"
   },
   {
    "duration": 19,
    "start_time": "2022-04-17T14:37:18.604Z"
   },
   {
    "duration": 29,
    "start_time": "2022-04-17T14:37:22.698Z"
   },
   {
    "duration": 1314,
    "start_time": "2022-04-17T15:10:08.934Z"
   },
   {
    "duration": 60,
    "start_time": "2022-04-17T15:10:10.250Z"
   },
   {
    "duration": 70,
    "start_time": "2022-04-17T15:10:10.311Z"
   },
   {
    "duration": 50,
    "start_time": "2022-04-17T15:10:10.383Z"
   },
   {
    "duration": 86,
    "start_time": "2022-04-17T15:10:10.435Z"
   },
   {
    "duration": 285,
    "start_time": "2022-04-17T15:10:10.522Z"
   },
   {
    "duration": 138,
    "start_time": "2022-04-17T15:10:10.809Z"
   },
   {
    "duration": 583,
    "start_time": "2022-04-17T15:10:10.949Z"
   },
   {
    "duration": 846,
    "start_time": "2022-04-17T15:10:11.534Z"
   },
   {
    "duration": 30,
    "start_time": "2022-04-17T15:10:12.383Z"
   },
   {
    "duration": 255,
    "start_time": "2022-04-17T15:10:12.415Z"
   },
   {
    "duration": 165,
    "start_time": "2022-04-17T15:10:12.672Z"
   },
   {
    "duration": 260,
    "start_time": "2022-04-17T15:10:12.839Z"
   },
   {
    "duration": 5710,
    "start_time": "2022-04-17T15:10:13.101Z"
   },
   {
    "duration": 32,
    "start_time": "2022-04-17T15:10:18.813Z"
   },
   {
    "duration": 104,
    "start_time": "2022-04-17T15:10:18.847Z"
   },
   {
    "duration": 25,
    "start_time": "2022-04-17T15:10:18.953Z"
   },
   {
    "duration": 267,
    "start_time": "2022-04-17T15:10:18.980Z"
   },
   {
    "duration": 14,
    "start_time": "2022-04-17T15:10:19.249Z"
   },
   {
    "duration": 17,
    "start_time": "2022-04-17T15:10:19.265Z"
   },
   {
    "duration": 14,
    "start_time": "2022-04-17T15:10:19.284Z"
   },
   {
    "duration": 50,
    "start_time": "2022-04-17T15:10:19.300Z"
   },
   {
    "duration": 22,
    "start_time": "2022-04-17T15:10:19.352Z"
   },
   {
    "duration": 304,
    "start_time": "2022-04-17T15:10:19.376Z"
   },
   {
    "duration": 270,
    "start_time": "2022-04-17T15:10:19.682Z"
   },
   {
    "duration": 30,
    "start_time": "2022-04-17T15:15:08.795Z"
   },
   {
    "duration": 140,
    "start_time": "2022-04-17T15:18:30.765Z"
   },
   {
    "duration": 134,
    "start_time": "2022-04-17T15:19:00.111Z"
   },
   {
    "duration": 25,
    "start_time": "2022-04-17T15:19:10.817Z"
   },
   {
    "duration": 2239,
    "start_time": "2022-04-17T15:19:53.817Z"
   },
   {
    "duration": 24,
    "start_time": "2022-04-17T15:20:14.447Z"
   },
   {
    "duration": 27,
    "start_time": "2022-04-17T15:20:40.632Z"
   },
   {
    "duration": 147,
    "start_time": "2022-04-17T15:20:49.430Z"
   },
   {
    "duration": 142,
    "start_time": "2022-04-17T15:22:10.939Z"
   },
   {
    "duration": 139,
    "start_time": "2022-04-17T15:32:28.857Z"
   },
   {
    "duration": 2,
    "start_time": "2022-04-17T15:32:53.760Z"
   },
   {
    "duration": 165,
    "start_time": "2022-04-17T15:33:16.325Z"
   },
   {
    "duration": 1214,
    "start_time": "2022-04-17T15:33:22.956Z"
   },
   {
    "duration": 71,
    "start_time": "2022-04-17T15:33:24.172Z"
   },
   {
    "duration": 67,
    "start_time": "2022-04-17T15:33:24.245Z"
   },
   {
    "duration": 28,
    "start_time": "2022-04-17T15:33:24.335Z"
   },
   {
    "duration": 105,
    "start_time": "2022-04-17T15:33:24.365Z"
   },
   {
    "duration": 277,
    "start_time": "2022-04-17T15:33:24.472Z"
   },
   {
    "duration": 135,
    "start_time": "2022-04-17T15:33:24.751Z"
   },
   {
    "duration": 576,
    "start_time": "2022-04-17T15:33:24.888Z"
   },
   {
    "duration": 146,
    "start_time": "2022-04-17T15:33:25.466Z"
   },
   {
    "duration": 248,
    "start_time": "2022-04-17T15:33:25.615Z"
   },
   {
    "duration": 79,
    "start_time": "2022-04-17T15:33:25.864Z"
   },
   {
    "duration": 336,
    "start_time": "2022-04-17T15:33:25.945Z"
   },
   {
    "duration": 5767,
    "start_time": "2022-04-17T15:33:26.283Z"
   },
   {
    "duration": 23,
    "start_time": "2022-04-17T15:33:32.051Z"
   },
   {
    "duration": 123,
    "start_time": "2022-04-17T15:33:32.077Z"
   },
   {
    "duration": 40,
    "start_time": "2022-04-17T15:33:32.202Z"
   },
   {
    "duration": 268,
    "start_time": "2022-04-17T15:33:32.244Z"
   },
   {
    "duration": 22,
    "start_time": "2022-04-17T15:33:32.514Z"
   },
   {
    "duration": 17,
    "start_time": "2022-04-17T15:33:32.538Z"
   },
   {
    "duration": 13,
    "start_time": "2022-04-17T15:33:32.557Z"
   },
   {
    "duration": 18,
    "start_time": "2022-04-17T15:33:32.571Z"
   },
   {
    "duration": 54,
    "start_time": "2022-04-17T15:33:32.590Z"
   },
   {
    "duration": 330,
    "start_time": "2022-04-17T15:33:32.646Z"
   },
   {
    "duration": 273,
    "start_time": "2022-04-17T15:33:32.977Z"
   },
   {
    "duration": 119,
    "start_time": "2022-04-17T15:36:27.729Z"
   },
   {
    "duration": 242,
    "start_time": "2022-04-17T15:36:57.137Z"
   },
   {
    "duration": 160,
    "start_time": "2022-04-17T15:59:11.534Z"
   },
   {
    "duration": 145,
    "start_time": "2022-04-17T16:00:16.416Z"
   },
   {
    "duration": 140,
    "start_time": "2022-04-17T16:02:13.536Z"
   },
   {
    "duration": 239,
    "start_time": "2022-04-17T16:07:11.037Z"
   },
   {
    "duration": 140,
    "start_time": "2022-04-17T16:07:29.911Z"
   },
   {
    "duration": 153,
    "start_time": "2022-04-17T16:08:06.152Z"
   },
   {
    "duration": 138,
    "start_time": "2022-04-17T16:09:09.440Z"
   },
   {
    "duration": 34,
    "start_time": "2022-04-17T16:10:00.151Z"
   },
   {
    "duration": 163,
    "start_time": "2022-04-17T16:10:19.214Z"
   },
   {
    "duration": 156,
    "start_time": "2022-04-17T16:10:29.678Z"
   },
   {
    "duration": 156,
    "start_time": "2022-04-17T16:10:39.993Z"
   },
   {
    "duration": 158,
    "start_time": "2022-04-17T16:11:57.117Z"
   },
   {
    "duration": 144,
    "start_time": "2022-04-17T16:12:12.969Z"
   },
   {
    "duration": 141,
    "start_time": "2022-04-17T16:12:20.382Z"
   },
   {
    "duration": 141,
    "start_time": "2022-04-17T16:12:29.578Z"
   },
   {
    "duration": 152,
    "start_time": "2022-04-17T16:13:37.066Z"
   },
   {
    "duration": 148,
    "start_time": "2022-04-17T16:13:48.714Z"
   },
   {
    "duration": 153,
    "start_time": "2022-04-17T16:14:47.389Z"
   },
   {
    "duration": 249,
    "start_time": "2022-04-17T16:15:19.821Z"
   },
   {
    "duration": 141,
    "start_time": "2022-04-17T16:16:21.769Z"
   },
   {
    "duration": 148,
    "start_time": "2022-04-17T16:17:05.808Z"
   },
   {
    "duration": 147,
    "start_time": "2022-04-17T16:25:06.437Z"
   },
   {
    "duration": 145,
    "start_time": "2022-04-17T16:25:13.730Z"
   },
   {
    "duration": 146,
    "start_time": "2022-04-17T16:26:11.642Z"
   },
   {
    "duration": 148,
    "start_time": "2022-04-17T16:27:21.096Z"
   },
   {
    "duration": 140,
    "start_time": "2022-04-17T16:27:40.874Z"
   },
   {
    "duration": 143,
    "start_time": "2022-04-17T16:29:29.841Z"
   },
   {
    "duration": 2400,
    "start_time": "2022-04-17T16:29:56.799Z"
   },
   {
    "duration": 20,
    "start_time": "2022-04-17T16:30:12.250Z"
   },
   {
    "duration": 142,
    "start_time": "2022-04-17T16:30:26.856Z"
   },
   {
    "duration": 147,
    "start_time": "2022-04-17T16:30:34.607Z"
   },
   {
    "duration": 152,
    "start_time": "2022-04-17T16:30:53.631Z"
   },
   {
    "duration": 1402,
    "start_time": "2022-04-17T17:05:00.100Z"
   },
   {
    "duration": 78,
    "start_time": "2022-04-17T17:05:01.504Z"
   },
   {
    "duration": 96,
    "start_time": "2022-04-17T17:05:01.583Z"
   },
   {
    "duration": 55,
    "start_time": "2022-04-17T17:05:01.681Z"
   },
   {
    "duration": 110,
    "start_time": "2022-04-17T17:05:01.738Z"
   },
   {
    "duration": 290,
    "start_time": "2022-04-17T17:05:01.850Z"
   },
   {
    "duration": 162,
    "start_time": "2022-04-17T17:05:02.142Z"
   },
   {
    "duration": 627,
    "start_time": "2022-04-17T17:05:02.306Z"
   },
   {
    "duration": 158,
    "start_time": "2022-04-17T17:05:02.935Z"
   },
   {
    "duration": 263,
    "start_time": "2022-04-17T17:05:03.096Z"
   },
   {
    "duration": 82,
    "start_time": "2022-04-17T17:05:03.361Z"
   },
   {
    "duration": 354,
    "start_time": "2022-04-17T17:05:03.445Z"
   },
   {
    "duration": 6620,
    "start_time": "2022-04-17T17:05:03.801Z"
   },
   {
    "duration": 31,
    "start_time": "2022-04-17T17:05:10.424Z"
   },
   {
    "duration": 113,
    "start_time": "2022-04-17T17:05:10.458Z"
   },
   {
    "duration": 35,
    "start_time": "2022-04-17T17:05:10.573Z"
   },
   {
    "duration": 284,
    "start_time": "2022-04-17T17:05:10.610Z"
   },
   {
    "duration": 18,
    "start_time": "2022-04-17T17:05:10.896Z"
   },
   {
    "duration": 40,
    "start_time": "2022-04-17T17:05:10.915Z"
   },
   {
    "duration": 22,
    "start_time": "2022-04-17T17:05:10.957Z"
   },
   {
    "duration": 54,
    "start_time": "2022-04-17T17:05:10.982Z"
   },
   {
    "duration": 24,
    "start_time": "2022-04-17T17:05:11.038Z"
   },
   {
    "duration": 318,
    "start_time": "2022-04-17T17:05:11.064Z"
   },
   {
    "duration": 294,
    "start_time": "2022-04-17T17:05:11.385Z"
   },
   {
    "duration": 246,
    "start_time": "2022-04-17T17:05:56.979Z"
   },
   {
    "duration": 79,
    "start_time": "2022-04-17T17:11:37.663Z"
   },
   {
    "duration": 83,
    "start_time": "2022-04-17T17:12:38.659Z"
   },
   {
    "duration": 170,
    "start_time": "2022-04-17T17:12:46.995Z"
   },
   {
    "duration": 77,
    "start_time": "2022-04-17T17:15:41.157Z"
   },
   {
    "duration": 39,
    "start_time": "2022-04-17T17:15:56.667Z"
   },
   {
    "duration": 75,
    "start_time": "2022-04-17T17:18:27.452Z"
   },
   {
    "duration": 1419,
    "start_time": "2022-04-17T17:18:37.136Z"
   },
   {
    "duration": 60,
    "start_time": "2022-04-17T17:18:38.558Z"
   },
   {
    "duration": 74,
    "start_time": "2022-04-17T17:18:38.620Z"
   },
   {
    "duration": 57,
    "start_time": "2022-04-17T17:18:38.697Z"
   },
   {
    "duration": 118,
    "start_time": "2022-04-17T17:18:38.757Z"
   },
   {
    "duration": 278,
    "start_time": "2022-04-17T17:18:38.877Z"
   },
   {
    "duration": 140,
    "start_time": "2022-04-17T17:18:39.158Z"
   },
   {
    "duration": 642,
    "start_time": "2022-04-17T17:18:39.300Z"
   },
   {
    "duration": 155,
    "start_time": "2022-04-17T17:18:39.944Z"
   },
   {
    "duration": 272,
    "start_time": "2022-04-17T17:18:40.102Z"
   },
   {
    "duration": 93,
    "start_time": "2022-04-17T17:18:40.376Z"
   },
   {
    "duration": 399,
    "start_time": "2022-04-17T17:18:40.471Z"
   },
   {
    "duration": 7509,
    "start_time": "2022-04-17T17:18:40.872Z"
   },
   {
    "duration": 20,
    "start_time": "2022-04-17T17:18:48.384Z"
   },
   {
    "duration": 133,
    "start_time": "2022-04-17T17:18:48.406Z"
   },
   {
    "duration": 29,
    "start_time": "2022-04-17T17:18:48.542Z"
   },
   {
    "duration": 482,
    "start_time": "2022-04-17T17:18:48.574Z"
   },
   {
    "duration": 13,
    "start_time": "2022-04-17T17:18:49.058Z"
   },
   {
    "duration": 36,
    "start_time": "2022-04-17T17:18:49.073Z"
   },
   {
    "duration": 35,
    "start_time": "2022-04-17T17:18:49.112Z"
   },
   {
    "duration": 26,
    "start_time": "2022-04-17T17:18:49.150Z"
   },
   {
    "duration": 21,
    "start_time": "2022-04-17T17:18:49.178Z"
   },
   {
    "duration": 274,
    "start_time": "2022-04-17T17:18:49.235Z"
   },
   {
    "duration": 266,
    "start_time": "2022-04-17T17:18:49.512Z"
   },
   {
    "duration": 75,
    "start_time": "2022-04-17T17:18:51.519Z"
   },
   {
    "duration": 26,
    "start_time": "2022-04-17T17:21:11.948Z"
   },
   {
    "duration": 1220,
    "start_time": "2022-04-17T17:21:59.154Z"
   },
   {
    "duration": 64,
    "start_time": "2022-04-17T17:22:00.378Z"
   },
   {
    "duration": 94,
    "start_time": "2022-04-17T17:22:00.444Z"
   },
   {
    "duration": 29,
    "start_time": "2022-04-17T17:22:00.540Z"
   },
   {
    "duration": 119,
    "start_time": "2022-04-17T17:22:00.571Z"
   },
   {
    "duration": 273,
    "start_time": "2022-04-17T17:22:00.692Z"
   },
   {
    "duration": 141,
    "start_time": "2022-04-17T17:22:00.967Z"
   },
   {
    "duration": 594,
    "start_time": "2022-04-17T17:22:01.110Z"
   },
   {
    "duration": 169,
    "start_time": "2022-04-17T17:22:01.708Z"
   },
   {
    "duration": 269,
    "start_time": "2022-04-17T17:22:01.880Z"
   },
   {
    "duration": 99,
    "start_time": "2022-04-17T17:22:02.151Z"
   },
   {
    "duration": 411,
    "start_time": "2022-04-17T17:22:02.252Z"
   },
   {
    "duration": 8064,
    "start_time": "2022-04-17T17:22:02.665Z"
   },
   {
    "duration": 25,
    "start_time": "2022-04-17T17:22:10.731Z"
   },
   {
    "duration": 119,
    "start_time": "2022-04-17T17:22:10.758Z"
   },
   {
    "duration": 27,
    "start_time": "2022-04-17T17:22:10.878Z"
   },
   {
    "duration": 275,
    "start_time": "2022-04-17T17:22:10.907Z"
   },
   {
    "duration": 14,
    "start_time": "2022-04-17T17:22:11.184Z"
   },
   {
    "duration": 38,
    "start_time": "2022-04-17T17:22:11.199Z"
   },
   {
    "duration": 14,
    "start_time": "2022-04-17T17:22:11.239Z"
   },
   {
    "duration": 19,
    "start_time": "2022-04-17T17:22:11.255Z"
   },
   {
    "duration": 22,
    "start_time": "2022-04-17T17:22:11.275Z"
   },
   {
    "duration": 320,
    "start_time": "2022-04-17T17:22:11.299Z"
   },
   {
    "duration": 297,
    "start_time": "2022-04-17T17:22:11.621Z"
   },
   {
    "duration": 1985,
    "start_time": "2022-04-17T17:34:33.686Z"
   },
   {
    "duration": 1377,
    "start_time": "2022-04-17T17:36:30.217Z"
   },
   {
    "duration": 76,
    "start_time": "2022-04-17T17:36:31.596Z"
   },
   {
    "duration": 95,
    "start_time": "2022-04-17T17:36:31.674Z"
   },
   {
    "duration": 30,
    "start_time": "2022-04-17T17:36:31.771Z"
   },
   {
    "duration": 136,
    "start_time": "2022-04-17T17:36:31.803Z"
   },
   {
    "duration": 295,
    "start_time": "2022-04-17T17:36:31.942Z"
   },
   {
    "duration": 146,
    "start_time": "2022-04-17T17:36:32.241Z"
   },
   {
    "duration": 634,
    "start_time": "2022-04-17T17:36:32.389Z"
   },
   {
    "duration": 171,
    "start_time": "2022-04-17T17:36:33.025Z"
   },
   {
    "duration": 283,
    "start_time": "2022-04-17T17:36:33.199Z"
   },
   {
    "duration": 83,
    "start_time": "2022-04-17T17:36:33.484Z"
   },
   {
    "duration": 383,
    "start_time": "2022-04-17T17:36:33.569Z"
   },
   {
    "duration": 1786,
    "start_time": "2022-04-17T17:36:33.954Z"
   },
   {
    "duration": 6552,
    "start_time": "2022-04-17T17:36:35.743Z"
   },
   {
    "duration": 24,
    "start_time": "2022-04-17T17:36:42.298Z"
   },
   {
    "duration": 115,
    "start_time": "2022-04-17T17:36:42.340Z"
   },
   {
    "duration": 27,
    "start_time": "2022-04-17T17:36:42.456Z"
   },
   {
    "duration": 288,
    "start_time": "2022-04-17T17:36:42.484Z"
   },
   {
    "duration": 14,
    "start_time": "2022-04-17T17:36:42.774Z"
   },
   {
    "duration": 25,
    "start_time": "2022-04-17T17:36:42.790Z"
   },
   {
    "duration": 42,
    "start_time": "2022-04-17T17:36:42.817Z"
   },
   {
    "duration": 24,
    "start_time": "2022-04-17T17:36:42.861Z"
   },
   {
    "duration": 24,
    "start_time": "2022-04-17T17:36:42.887Z"
   },
   {
    "duration": 310,
    "start_time": "2022-04-17T17:36:42.912Z"
   },
   {
    "duration": 293,
    "start_time": "2022-04-17T17:36:43.224Z"
   },
   {
    "duration": 1888,
    "start_time": "2022-04-17T17:38:32.230Z"
   },
   {
    "duration": 1269,
    "start_time": "2022-04-17T17:39:10.364Z"
   },
   {
    "duration": 64,
    "start_time": "2022-04-17T17:39:11.635Z"
   },
   {
    "duration": 77,
    "start_time": "2022-04-17T17:39:11.701Z"
   },
   {
    "duration": 58,
    "start_time": "2022-04-17T17:39:11.781Z"
   },
   {
    "duration": 104,
    "start_time": "2022-04-17T17:39:11.841Z"
   },
   {
    "duration": 286,
    "start_time": "2022-04-17T17:39:11.947Z"
   },
   {
    "duration": 149,
    "start_time": "2022-04-17T17:39:12.236Z"
   },
   {
    "duration": 604,
    "start_time": "2022-04-17T17:39:12.388Z"
   },
   {
    "duration": 162,
    "start_time": "2022-04-17T17:39:12.995Z"
   },
   {
    "duration": 251,
    "start_time": "2022-04-17T17:39:13.161Z"
   },
   {
    "duration": 82,
    "start_time": "2022-04-17T17:39:13.414Z"
   },
   {
    "duration": 373,
    "start_time": "2022-04-17T17:39:13.498Z"
   },
   {
    "duration": 1878,
    "start_time": "2022-04-17T17:39:13.873Z"
   },
   {
    "duration": 23,
    "start_time": "2022-04-17T17:39:15.753Z"
   },
   {
    "duration": 98,
    "start_time": "2022-04-17T17:39:15.779Z"
   },
   {
    "duration": 27,
    "start_time": "2022-04-17T17:39:15.879Z"
   },
   {
    "duration": 286,
    "start_time": "2022-04-17T17:39:15.908Z"
   },
   {
    "duration": 15,
    "start_time": "2022-04-17T17:39:16.196Z"
   },
   {
    "duration": 33,
    "start_time": "2022-04-17T17:39:16.213Z"
   },
   {
    "duration": 33,
    "start_time": "2022-04-17T17:39:16.247Z"
   },
   {
    "duration": 25,
    "start_time": "2022-04-17T17:39:16.282Z"
   },
   {
    "duration": 24,
    "start_time": "2022-04-17T17:39:16.309Z"
   },
   {
    "duration": 319,
    "start_time": "2022-04-17T17:39:16.335Z"
   },
   {
    "duration": 289,
    "start_time": "2022-04-17T17:39:16.656Z"
   },
   {
    "duration": 136,
    "start_time": "2022-04-17T17:53:33.908Z"
   },
   {
    "duration": 23,
    "start_time": "2022-04-17T17:53:45.677Z"
   },
   {
    "duration": 1173,
    "start_time": "2022-04-17T17:53:51.489Z"
   },
   {
    "duration": 62,
    "start_time": "2022-04-17T17:53:52.664Z"
   },
   {
    "duration": 68,
    "start_time": "2022-04-17T17:53:52.728Z"
   },
   {
    "duration": 51,
    "start_time": "2022-04-17T17:53:52.798Z"
   },
   {
    "duration": 101,
    "start_time": "2022-04-17T17:53:52.851Z"
   },
   {
    "duration": 277,
    "start_time": "2022-04-17T17:53:52.954Z"
   },
   {
    "duration": 139,
    "start_time": "2022-04-17T17:53:53.234Z"
   },
   {
    "duration": 585,
    "start_time": "2022-04-17T17:53:53.375Z"
   },
   {
    "duration": 151,
    "start_time": "2022-04-17T17:53:53.961Z"
   },
   {
    "duration": 245,
    "start_time": "2022-04-17T17:53:54.116Z"
   },
   {
    "duration": 85,
    "start_time": "2022-04-17T17:53:54.363Z"
   },
   {
    "duration": 343,
    "start_time": "2022-04-17T17:53:54.450Z"
   },
   {
    "duration": 1995,
    "start_time": "2022-04-17T17:53:54.795Z"
   },
   {
    "duration": 23,
    "start_time": "2022-04-17T17:53:56.792Z"
   },
   {
    "duration": 91,
    "start_time": "2022-04-17T17:53:56.832Z"
   },
   {
    "duration": 29,
    "start_time": "2022-04-17T17:53:56.933Z"
   },
   {
    "duration": 283,
    "start_time": "2022-04-17T17:53:56.964Z"
   },
   {
    "duration": 16,
    "start_time": "2022-04-17T17:53:57.249Z"
   },
   {
    "duration": 20,
    "start_time": "2022-04-17T17:53:57.267Z"
   },
   {
    "duration": 42,
    "start_time": "2022-04-17T17:53:57.289Z"
   },
   {
    "duration": 33,
    "start_time": "2022-04-17T17:53:57.333Z"
   },
   {
    "duration": 25,
    "start_time": "2022-04-17T17:53:57.368Z"
   },
   {
    "duration": 303,
    "start_time": "2022-04-17T17:53:57.395Z"
   },
   {
    "duration": 283,
    "start_time": "2022-04-17T17:53:57.701Z"
   },
   {
    "duration": 143,
    "start_time": "2022-04-17T17:55:13.154Z"
   },
   {
    "duration": 23,
    "start_time": "2022-04-17T17:55:26.093Z"
   },
   {
    "duration": 1324,
    "start_time": "2022-04-17T17:55:31.877Z"
   },
   {
    "duration": 64,
    "start_time": "2022-04-17T17:55:33.203Z"
   },
   {
    "duration": 92,
    "start_time": "2022-04-17T17:55:33.269Z"
   },
   {
    "duration": 30,
    "start_time": "2022-04-17T17:55:33.364Z"
   },
   {
    "duration": 115,
    "start_time": "2022-04-17T17:55:33.396Z"
   },
   {
    "duration": 291,
    "start_time": "2022-04-17T17:55:33.513Z"
   },
   {
    "duration": 168,
    "start_time": "2022-04-17T17:55:33.806Z"
   },
   {
    "duration": 636,
    "start_time": "2022-04-17T17:55:33.977Z"
   },
   {
    "duration": 157,
    "start_time": "2022-04-17T17:55:34.615Z"
   },
   {
    "duration": 254,
    "start_time": "2022-04-17T17:55:34.776Z"
   },
   {
    "duration": 77,
    "start_time": "2022-04-17T17:55:35.033Z"
   },
   {
    "duration": 372,
    "start_time": "2022-04-17T17:55:35.112Z"
   },
   {
    "duration": 1848,
    "start_time": "2022-04-17T17:55:35.486Z"
   },
   {
    "duration": 30,
    "start_time": "2022-04-17T17:55:37.336Z"
   },
   {
    "duration": 143,
    "start_time": "2022-04-17T17:55:37.368Z"
   },
   {
    "duration": 45,
    "start_time": "2022-04-17T17:55:37.513Z"
   },
   {
    "duration": 323,
    "start_time": "2022-04-17T17:55:37.561Z"
   },
   {
    "duration": 22,
    "start_time": "2022-04-17T17:55:37.887Z"
   },
   {
    "duration": 45,
    "start_time": "2022-04-17T17:55:37.911Z"
   },
   {
    "duration": 22,
    "start_time": "2022-04-17T17:55:37.959Z"
   },
   {
    "duration": 49,
    "start_time": "2022-04-17T17:55:37.984Z"
   },
   {
    "duration": 28,
    "start_time": "2022-04-17T17:55:38.035Z"
   },
   {
    "duration": 436,
    "start_time": "2022-04-17T17:55:38.065Z"
   },
   {
    "duration": 347,
    "start_time": "2022-04-17T17:55:38.503Z"
   },
   {
    "duration": 138,
    "start_time": "2022-04-17T17:57:27.522Z"
   },
   {
    "duration": 24,
    "start_time": "2022-04-17T17:57:35.325Z"
   },
   {
    "duration": 1309,
    "start_time": "2022-04-17T17:57:41.388Z"
   },
   {
    "duration": 75,
    "start_time": "2022-04-17T17:57:42.699Z"
   },
   {
    "duration": 91,
    "start_time": "2022-04-17T17:57:42.779Z"
   },
   {
    "duration": 28,
    "start_time": "2022-04-17T17:57:42.872Z"
   },
   {
    "duration": 116,
    "start_time": "2022-04-17T17:57:42.902Z"
   },
   {
    "duration": 293,
    "start_time": "2022-04-17T17:57:43.020Z"
   },
   {
    "duration": 143,
    "start_time": "2022-04-17T17:57:43.315Z"
   },
   {
    "duration": 580,
    "start_time": "2022-04-17T17:57:43.460Z"
   },
   {
    "duration": 152,
    "start_time": "2022-04-17T17:57:44.042Z"
   },
   {
    "duration": 256,
    "start_time": "2022-04-17T17:57:44.195Z"
   },
   {
    "duration": 94,
    "start_time": "2022-04-17T17:57:44.453Z"
   },
   {
    "duration": 362,
    "start_time": "2022-04-17T17:57:44.549Z"
   },
   {
    "duration": 2072,
    "start_time": "2022-04-17T17:57:44.913Z"
   },
   {
    "duration": 23,
    "start_time": "2022-04-17T17:57:46.987Z"
   },
   {
    "duration": 105,
    "start_time": "2022-04-17T17:57:47.012Z"
   },
   {
    "duration": 38,
    "start_time": "2022-04-17T17:57:47.119Z"
   },
   {
    "duration": 288,
    "start_time": "2022-04-17T17:57:47.159Z"
   },
   {
    "duration": 14,
    "start_time": "2022-04-17T17:57:47.449Z"
   },
   {
    "duration": 19,
    "start_time": "2022-04-17T17:57:47.464Z"
   },
   {
    "duration": 14,
    "start_time": "2022-04-17T17:57:47.485Z"
   },
   {
    "duration": 49,
    "start_time": "2022-04-17T17:57:47.501Z"
   },
   {
    "duration": 24,
    "start_time": "2022-04-17T17:57:47.551Z"
   },
   {
    "duration": 328,
    "start_time": "2022-04-17T17:57:47.577Z"
   },
   {
    "duration": 282,
    "start_time": "2022-04-17T17:57:47.907Z"
   },
   {
    "duration": 138,
    "start_time": "2022-04-17T17:58:45.591Z"
   },
   {
    "duration": 18,
    "start_time": "2022-04-17T17:59:14.796Z"
   },
   {
    "duration": 25,
    "start_time": "2022-04-17T17:59:48.963Z"
   },
   {
    "duration": 34,
    "start_time": "2022-04-17T18:00:16.630Z"
   },
   {
    "duration": 1562,
    "start_time": "2022-04-17T18:00:24.507Z"
   },
   {
    "duration": 87,
    "start_time": "2022-04-17T18:00:26.071Z"
   },
   {
    "duration": 98,
    "start_time": "2022-04-17T18:00:26.160Z"
   },
   {
    "duration": 27,
    "start_time": "2022-04-17T18:00:26.261Z"
   },
   {
    "duration": 118,
    "start_time": "2022-04-17T18:00:26.290Z"
   },
   {
    "duration": 276,
    "start_time": "2022-04-17T18:00:26.410Z"
   },
   {
    "duration": 141,
    "start_time": "2022-04-17T18:00:26.688Z"
   },
   {
    "duration": 587,
    "start_time": "2022-04-17T18:00:26.834Z"
   },
   {
    "duration": 167,
    "start_time": "2022-04-17T18:00:27.423Z"
   },
   {
    "duration": 248,
    "start_time": "2022-04-17T18:00:27.593Z"
   },
   {
    "duration": 75,
    "start_time": "2022-04-17T18:00:27.842Z"
   },
   {
    "duration": 362,
    "start_time": "2022-04-17T18:00:27.932Z"
   },
   {
    "duration": 1878,
    "start_time": "2022-04-17T18:00:28.297Z"
   },
   {
    "duration": 22,
    "start_time": "2022-04-17T18:00:30.177Z"
   },
   {
    "duration": 106,
    "start_time": "2022-04-17T18:00:30.200Z"
   },
   {
    "duration": 41,
    "start_time": "2022-04-17T18:00:30.307Z"
   },
   {
    "duration": 269,
    "start_time": "2022-04-17T18:00:30.350Z"
   },
   {
    "duration": 20,
    "start_time": "2022-04-17T18:00:30.621Z"
   },
   {
    "duration": 20,
    "start_time": "2022-04-17T18:00:30.643Z"
   },
   {
    "duration": 14,
    "start_time": "2022-04-17T18:00:30.665Z"
   },
   {
    "duration": 20,
    "start_time": "2022-04-17T18:00:30.681Z"
   },
   {
    "duration": 24,
    "start_time": "2022-04-17T18:00:30.734Z"
   },
   {
    "duration": 302,
    "start_time": "2022-04-17T18:00:30.760Z"
   },
   {
    "duration": 289,
    "start_time": "2022-04-17T18:00:31.064Z"
   },
   {
    "duration": 7,
    "start_time": "2022-04-17T18:01:15.003Z"
   },
   {
    "duration": 6,
    "start_time": "2022-04-17T18:01:20.362Z"
   },
   {
    "duration": 7,
    "start_time": "2022-04-17T18:01:41.938Z"
   },
   {
    "duration": 16,
    "start_time": "2022-04-17T18:01:52.531Z"
   },
   {
    "duration": 125,
    "start_time": "2022-04-17T18:02:57.191Z"
   },
   {
    "duration": 13,
    "start_time": "2022-04-17T18:03:01.385Z"
   },
   {
    "duration": 12,
    "start_time": "2022-04-17T18:03:10.172Z"
   },
   {
    "duration": 12,
    "start_time": "2022-04-17T18:03:13.562Z"
   },
   {
    "duration": 12,
    "start_time": "2022-04-17T18:04:05.043Z"
   },
   {
    "duration": 14,
    "start_time": "2022-04-17T18:05:11.694Z"
   },
   {
    "duration": 17,
    "start_time": "2022-04-17T18:07:46.303Z"
   },
   {
    "duration": 7,
    "start_time": "2022-04-17T18:07:56.776Z"
   },
   {
    "duration": 15,
    "start_time": "2022-04-17T18:08:00.583Z"
   },
   {
    "duration": 12,
    "start_time": "2022-04-17T18:08:20.488Z"
   },
   {
    "duration": 177,
    "start_time": "2022-04-17T18:11:27.124Z"
   },
   {
    "duration": 229,
    "start_time": "2022-04-17T18:11:34.742Z"
   },
   {
    "duration": 155,
    "start_time": "2022-04-17T18:12:05.461Z"
   },
   {
    "duration": 163,
    "start_time": "2022-04-17T18:12:13.413Z"
   },
   {
    "duration": 33,
    "start_time": "2022-04-17T18:14:52.012Z"
   },
   {
    "duration": 23,
    "start_time": "2022-04-17T18:15:04.781Z"
   },
   {
    "duration": 26,
    "start_time": "2022-04-17T18:15:09.815Z"
   },
   {
    "duration": 30,
    "start_time": "2022-04-17T18:18:34.021Z"
   },
   {
    "duration": 303,
    "start_time": "2022-04-17T18:20:17.441Z"
   },
   {
    "duration": 352,
    "start_time": "2022-04-17T18:20:29.608Z"
   },
   {
    "duration": 366,
    "start_time": "2022-04-17T18:20:53.507Z"
   },
   {
    "duration": 416,
    "start_time": "2022-04-17T18:21:00.656Z"
   },
   {
    "duration": 352,
    "start_time": "2022-04-17T18:21:21.707Z"
   },
   {
    "duration": 337,
    "start_time": "2022-04-17T18:21:32.126Z"
   },
   {
    "duration": 327,
    "start_time": "2022-04-17T18:22:36.158Z"
   },
   {
    "duration": 324,
    "start_time": "2022-04-17T18:22:42.192Z"
   },
   {
    "duration": 335,
    "start_time": "2022-04-17T18:23:30.784Z"
   },
   {
    "duration": 462,
    "start_time": "2022-04-17T18:24:05.720Z"
   },
   {
    "duration": 366,
    "start_time": "2022-04-17T18:24:11.119Z"
   },
   {
    "duration": 353,
    "start_time": "2022-04-17T18:25:32.823Z"
   },
   {
    "duration": 329,
    "start_time": "2022-04-17T18:25:41.069Z"
   },
   {
    "duration": 1253,
    "start_time": "2022-04-17T18:37:35.065Z"
   },
   {
    "duration": 65,
    "start_time": "2022-04-17T18:37:36.320Z"
   },
   {
    "duration": 87,
    "start_time": "2022-04-17T18:37:36.387Z"
   },
   {
    "duration": 27,
    "start_time": "2022-04-17T18:37:36.477Z"
   },
   {
    "duration": 103,
    "start_time": "2022-04-17T18:37:36.534Z"
   },
   {
    "duration": 278,
    "start_time": "2022-04-17T18:37:36.640Z"
   },
   {
    "duration": 146,
    "start_time": "2022-04-17T18:37:36.920Z"
   },
   {
    "duration": 583,
    "start_time": "2022-04-17T18:37:37.068Z"
   },
   {
    "duration": 152,
    "start_time": "2022-04-17T18:37:37.653Z"
   },
   {
    "duration": 257,
    "start_time": "2022-04-17T18:37:37.809Z"
   },
   {
    "duration": 90,
    "start_time": "2022-04-17T18:37:38.068Z"
   },
   {
    "duration": 353,
    "start_time": "2022-04-17T18:37:38.160Z"
   },
   {
    "duration": 2567,
    "start_time": "2022-04-17T18:37:38.516Z"
   },
   {
    "duration": 22,
    "start_time": "2022-04-17T18:37:41.085Z"
   },
   {
    "duration": 103,
    "start_time": "2022-04-17T18:37:41.109Z"
   },
   {
    "duration": 44,
    "start_time": "2022-04-17T18:37:41.214Z"
   },
   {
    "duration": 270,
    "start_time": "2022-04-17T18:37:41.260Z"
   },
   {
    "duration": 14,
    "start_time": "2022-04-17T18:37:41.534Z"
   },
   {
    "duration": 19,
    "start_time": "2022-04-17T18:37:41.549Z"
   },
   {
    "duration": 13,
    "start_time": "2022-04-17T18:37:41.570Z"
   },
   {
    "duration": 55,
    "start_time": "2022-04-17T18:37:41.585Z"
   },
   {
    "duration": 11,
    "start_time": "2022-04-17T18:37:41.642Z"
   },
   {
    "duration": 16,
    "start_time": "2022-04-17T18:37:41.655Z"
   },
   {
    "duration": 375,
    "start_time": "2022-04-17T18:37:41.673Z"
   },
   {
    "duration": 361,
    "start_time": "2022-04-17T18:37:42.050Z"
   },
   {
    "duration": 1251,
    "start_time": "2022-04-17T20:00:40.206Z"
   },
   {
    "duration": 62,
    "start_time": "2022-04-17T20:00:41.459Z"
   },
   {
    "duration": 68,
    "start_time": "2022-04-17T20:00:41.523Z"
   },
   {
    "duration": 60,
    "start_time": "2022-04-17T20:00:41.594Z"
   },
   {
    "duration": 99,
    "start_time": "2022-04-17T20:00:41.656Z"
   },
   {
    "duration": 278,
    "start_time": "2022-04-17T20:00:41.758Z"
   },
   {
    "duration": 132,
    "start_time": "2022-04-17T20:00:42.039Z"
   },
   {
    "duration": 574,
    "start_time": "2022-04-17T20:00:42.174Z"
   },
   {
    "duration": 160,
    "start_time": "2022-04-17T20:00:42.750Z"
   },
   {
    "duration": 250,
    "start_time": "2022-04-17T20:00:42.914Z"
   },
   {
    "duration": 81,
    "start_time": "2022-04-17T20:00:43.166Z"
   },
   {
    "duration": 346,
    "start_time": "2022-04-17T20:00:43.249Z"
   },
   {
    "duration": 3118,
    "start_time": "2022-04-17T20:00:43.597Z"
   },
   {
    "duration": 27,
    "start_time": "2022-04-17T20:00:46.716Z"
   },
   {
    "duration": 98,
    "start_time": "2022-04-17T20:00:46.744Z"
   },
   {
    "duration": 26,
    "start_time": "2022-04-17T20:00:46.844Z"
   },
   {
    "duration": 273,
    "start_time": "2022-04-17T20:00:46.872Z"
   },
   {
    "duration": 15,
    "start_time": "2022-04-17T20:00:47.146Z"
   },
   {
    "duration": 21,
    "start_time": "2022-04-17T20:00:47.163Z"
   },
   {
    "duration": 14,
    "start_time": "2022-04-17T20:00:47.186Z"
   },
   {
    "duration": 48,
    "start_time": "2022-04-17T20:00:47.202Z"
   },
   {
    "duration": 12,
    "start_time": "2022-04-17T20:00:47.251Z"
   },
   {
    "duration": 13,
    "start_time": "2022-04-17T20:00:47.265Z"
   },
   {
    "duration": 356,
    "start_time": "2022-04-17T20:00:47.279Z"
   },
   {
    "duration": 344,
    "start_time": "2022-04-17T20:00:47.637Z"
   },
   {
    "duration": 1213,
    "start_time": "2022-04-17T20:01:58.160Z"
   },
   {
    "duration": 64,
    "start_time": "2022-04-17T20:01:59.375Z"
   },
   {
    "duration": 96,
    "start_time": "2022-04-17T20:01:59.441Z"
   },
   {
    "duration": 28,
    "start_time": "2022-04-17T20:01:59.540Z"
   },
   {
    "duration": 109,
    "start_time": "2022-04-17T20:01:59.570Z"
   },
   {
    "duration": 275,
    "start_time": "2022-04-17T20:01:59.680Z"
   },
   {
    "duration": 144,
    "start_time": "2022-04-17T20:01:59.958Z"
   },
   {
    "duration": 586,
    "start_time": "2022-04-17T20:02:00.104Z"
   },
   {
    "duration": 160,
    "start_time": "2022-04-17T20:02:00.692Z"
   },
   {
    "duration": 243,
    "start_time": "2022-04-17T20:02:00.855Z"
   },
   {
    "duration": 85,
    "start_time": "2022-04-17T20:02:01.100Z"
   },
   {
    "duration": 363,
    "start_time": "2022-04-17T20:02:01.187Z"
   },
   {
    "duration": 2157,
    "start_time": "2022-04-17T20:02:01.552Z"
   },
   {
    "duration": 23,
    "start_time": "2022-04-17T20:02:03.711Z"
   },
   {
    "duration": 97,
    "start_time": "2022-04-17T20:02:03.736Z"
   },
   {
    "duration": 27,
    "start_time": "2022-04-17T20:02:03.835Z"
   },
   {
    "duration": 270,
    "start_time": "2022-04-17T20:02:03.864Z"
   },
   {
    "duration": 15,
    "start_time": "2022-04-17T20:02:04.136Z"
   },
   {
    "duration": 19,
    "start_time": "2022-04-17T20:02:04.152Z"
   },
   {
    "duration": 15,
    "start_time": "2022-04-17T20:02:04.172Z"
   },
   {
    "duration": 18,
    "start_time": "2022-04-17T20:02:04.189Z"
   },
   {
    "duration": 11,
    "start_time": "2022-04-17T20:02:04.209Z"
   },
   {
    "duration": 12,
    "start_time": "2022-04-17T20:02:04.234Z"
   },
   {
    "duration": 549,
    "start_time": "2022-04-17T20:02:04.248Z"
   },
   {
    "duration": 360,
    "start_time": "2022-04-17T20:02:04.799Z"
   },
   {
    "duration": 1275,
    "start_time": "2022-06-21T21:34:55.943Z"
   },
   {
    "duration": 306,
    "start_time": "2022-06-21T21:34:57.220Z"
   },
   {
    "duration": 86,
    "start_time": "2022-06-21T21:34:57.528Z"
   },
   {
    "duration": 33,
    "start_time": "2022-06-21T21:34:57.617Z"
   },
   {
    "duration": 106,
    "start_time": "2022-06-21T21:34:57.652Z"
   },
   {
    "duration": 288,
    "start_time": "2022-06-21T21:34:57.760Z"
   },
   {
    "duration": 147,
    "start_time": "2022-06-21T21:34:58.050Z"
   },
   {
    "duration": 587,
    "start_time": "2022-06-21T21:34:58.199Z"
   },
   {
    "duration": 160,
    "start_time": "2022-06-21T21:34:58.788Z"
   },
   {
    "duration": 326,
    "start_time": "2022-06-21T21:34:58.952Z"
   },
   {
    "duration": 73,
    "start_time": "2022-06-21T21:34:59.280Z"
   },
   {
    "duration": 353,
    "start_time": "2022-06-21T21:34:59.368Z"
   },
   {
    "duration": 2410,
    "start_time": "2022-06-21T21:34:59.724Z"
   },
   {
    "duration": 42,
    "start_time": "2022-06-21T21:35:02.136Z"
   },
   {
    "duration": 100,
    "start_time": "2022-06-21T21:35:02.181Z"
   },
   {
    "duration": 30,
    "start_time": "2022-06-21T21:35:02.283Z"
   },
   {
    "duration": 259,
    "start_time": "2022-06-21T21:35:02.315Z"
   },
   {
    "duration": 13,
    "start_time": "2022-06-21T21:35:02.585Z"
   },
   {
    "duration": 17,
    "start_time": "2022-06-21T21:35:02.600Z"
   },
   {
    "duration": 12,
    "start_time": "2022-06-21T21:35:02.619Z"
   },
   {
    "duration": 44,
    "start_time": "2022-06-21T21:35:02.633Z"
   },
   {
    "duration": 13,
    "start_time": "2022-06-21T21:35:02.679Z"
   },
   {
    "duration": 13,
    "start_time": "2022-06-21T21:35:02.693Z"
   },
   {
    "duration": 331,
    "start_time": "2022-06-21T21:35:02.708Z"
   },
   {
    "duration": 375,
    "start_time": "2022-06-21T21:35:03.041Z"
   }
  ],
  "kernelspec": {
   "display_name": "Python 3 (ipykernel)",
   "language": "python",
   "name": "python3"
  },
  "language_info": {
   "codemirror_mode": {
    "name": "ipython",
    "version": 3
   },
   "file_extension": ".py",
   "mimetype": "text/x-python",
   "name": "python",
   "nbconvert_exporter": "python",
   "pygments_lexer": "ipython3",
   "version": "3.9.5"
  },
  "toc": {
   "base_numbering": 1,
   "nav_menu": {},
   "number_sections": true,
   "sideBar": true,
   "skip_h1_title": true,
   "title_cell": "Table of Contents",
   "title_sidebar": "Contents",
   "toc_cell": false,
   "toc_position": {},
   "toc_section_display": true,
   "toc_window_display": false
  }
 },
 "nbformat": 4,
 "nbformat_minor": 2
}
