{
 "cells": [
  {
   "cell_type": "markdown",
   "metadata": {},
   "source": [
    "# Анализ оттока клиентов банка"
   ]
  },
  {
   "cell_type": "markdown",
   "metadata": {},
   "source": [
    "# Содержание\n",
    "\n",
    "Часть 1. Описание проекта.<br>\n",
    "\n",
    "* 1. Описание исследования\n",
    "* 2. Цель исследования\n",
    "\n",
    "Часть 2. Предобработка данных.<br>\n",
    "\n",
    "* 1. Изучение данных\n",
    "* 2. Обработка типов и наименований колонок\n",
    "* 3. Обработка пропусков\n",
    "* 4. Обработка дубликатов\n",
    "\n",
    "Часть 3. Проведение исследовательского анализа данных (EDA).<br>\n",
    "\n",
    "* 1. Категоризация клиентов по возрасту и балансу\n",
    "* 2. Расчет средних значений признаков для групп \"Оставшиеся\" и \"Ушедшие\"\n",
    "* 3. Построение столбчатых гистограмм признаков для групп \"Оставшиеся\" и \"Ушедшие\"\n",
    "* 4. Построение столбчатых гистограмм признаков для разных городов\n",
    "* 5. Расчет оставшихся/ушедших клиентов для разных возрастных групп\n",
    "* 6. Расчет оставшихся/ушедших клиентов для разных балансных групп \n",
    "* 7. Построение матрицы корреляции\n",
    "\n",
    "Часть 4. Построение портретов клиентов.<br>\n",
    "\n",
    "* 1. Стандартизация данных\n",
    "* 2. Матрица расстояний\n",
    "* 3. Обучение модели\n",
    "* 4. Оценка доли оттока в разных кластерах \n",
    "\n",
    "Часть 5. Проверка статистических гипотез.<br>\n",
    "\n",
    "* 1. Проверка гипотезы различия дохода между теми клиентами, которые ушли и теми, которые остались\n",
    "* 2. Проверка гипотезы различия баланса между теми клиентами, которые ушли и теми, которые остались\n",
    "\n",
    "Часть 6. Выводы.<br>\n",
    "\n",
    "* 1. Общий вывод по работе\n",
    "\n",
    "\n",
    "## Часть. Описание проекта\n",
    "### Описание проекта\n",
    "\n",
    "В нашем распоряжении данные о клиентах банка \"Метанпром\", который располагается в Ярославле, Ростове Великом и Рыбинске. Необходимо проанализировать предложенные данные и выявить клиентов, которые склонны уходить из банка.\n",
    "\n",
    "Состав данных:\n",
    "\n",
    "- `userid` — идентификатор пользователя\n",
    "- `score` — баллы кредитного скоринга\n",
    "- `City` — город\n",
    "- `Gender` — пол\n",
    "- `Age` — возраст\n",
    "- `Objects` — количество объектов в собственности\n",
    "- `Balance` — баланс на счёте\n",
    "- `Products` — количество продуктов, которыми пользуется клиент\n",
    "- `CreditCard` — есть ли кредитная карта\n",
    "- `Loyalty` — активный клиент\n",
    "- `estimated_salary` — заработная плата клиента\n",
    "- `Churn` — ушёл или нет\n",
    "\n",
    "### Цели проекта\n",
    "1. Выделить портреты клиентов, склонных уходить из банка.\n",
    "2. Проверить статистические гипотезы:<br>\n",
    "\"Различия между доходом ушедших и оставшихся клиентов нет\"<br>\n",
    "\"Различия между балансами ушедших и оставшихся клиентов нет\"\n",
    "\n",
    "## Часть. Предобработка данных\n",
    "### Изучение данных"
   ]
  },
  {
   "cell_type": "code",
   "execution_count": 1,
   "metadata": {},
   "outputs": [],
   "source": [
    "# Подключение библиотек\n",
    "import pandas as pd\n",
    "import matplotlib.pyplot as plt\n",
    "import seaborn as sns\n",
    "from sklearn.preprocessing import StandardScaler, LabelEncoder, OneHotEncoder\n",
    "from scipy.cluster.hierarchy import dendrogram, linkage\n",
    "from scipy import stats as st\n",
    "from sklearn.cluster import KMeans\n",
    "\n",
    "pd.options.mode.chained_assignment = None\n",
    "\n",
    "pd.set_option('display.float_format', '{:.4f}'.format)"
   ]
  },
  {
   "cell_type": "code",
   "execution_count": 2,
   "metadata": {},
   "outputs": [],
   "source": [
    "# Чтение файла с данными\n",
    "bank_data = pd.read_csv('/datasets/bank_dataset.csv')"
   ]
  },
  {
   "cell_type": "code",
   "execution_count": 3,
   "metadata": {
    "scrolled": false
   },
   "outputs": [
    {
     "name": "stdout",
     "output_type": "stream",
     "text": [
      "Общая информация\n",
      "<class 'pandas.core.frame.DataFrame'>\n",
      "RangeIndex: 10000 entries, 0 to 9999\n",
      "Data columns (total 12 columns):\n",
      " #   Column            Non-Null Count  Dtype  \n",
      "---  ------            --------------  -----  \n",
      " 0   userid            10000 non-null  int64  \n",
      " 1   score             10000 non-null  int64  \n",
      " 2   City              10000 non-null  object \n",
      " 3   Gender            10000 non-null  object \n",
      " 4   Age               10000 non-null  int64  \n",
      " 5   Objects           10000 non-null  int64  \n",
      " 6   Balance           6383 non-null   float64\n",
      " 7   Products          10000 non-null  int64  \n",
      " 8   CreditCard        10000 non-null  int64  \n",
      " 9   Loyalty           10000 non-null  int64  \n",
      " 10  estimated_salary  10000 non-null  float64\n",
      " 11  Churn             10000 non-null  int64  \n",
      "dtypes: float64(2), int64(8), object(2)\n",
      "memory usage: 937.6+ KB\n"
     ]
    },
    {
     "data": {
      "text/plain": [
       "'Первые значения'"
      ]
     },
     "metadata": {},
     "output_type": "display_data"
    },
    {
     "data": {
      "text/html": [
       "<div>\n",
       "<style scoped>\n",
       "    .dataframe tbody tr th:only-of-type {\n",
       "        vertical-align: middle;\n",
       "    }\n",
       "\n",
       "    .dataframe tbody tr th {\n",
       "        vertical-align: top;\n",
       "    }\n",
       "\n",
       "    .dataframe thead th {\n",
       "        text-align: right;\n",
       "    }\n",
       "</style>\n",
       "<table border=\"1\" class=\"dataframe\">\n",
       "  <thead>\n",
       "    <tr style=\"text-align: right;\">\n",
       "      <th></th>\n",
       "      <th>userid</th>\n",
       "      <th>score</th>\n",
       "      <th>City</th>\n",
       "      <th>Gender</th>\n",
       "      <th>Age</th>\n",
       "      <th>Objects</th>\n",
       "      <th>Balance</th>\n",
       "      <th>Products</th>\n",
       "      <th>CreditCard</th>\n",
       "      <th>Loyalty</th>\n",
       "      <th>estimated_salary</th>\n",
       "      <th>Churn</th>\n",
       "    </tr>\n",
       "  </thead>\n",
       "  <tbody>\n",
       "    <tr>\n",
       "      <th>0</th>\n",
       "      <td>15677338</td>\n",
       "      <td>619</td>\n",
       "      <td>Ярославль</td>\n",
       "      <td>Ж</td>\n",
       "      <td>42</td>\n",
       "      <td>2</td>\n",
       "      <td>NaN</td>\n",
       "      <td>1</td>\n",
       "      <td>1</td>\n",
       "      <td>1</td>\n",
       "      <td>101348.8800</td>\n",
       "      <td>1</td>\n",
       "    </tr>\n",
       "    <tr>\n",
       "      <th>1</th>\n",
       "      <td>15690047</td>\n",
       "      <td>608</td>\n",
       "      <td>Рыбинск</td>\n",
       "      <td>Ж</td>\n",
       "      <td>41</td>\n",
       "      <td>1</td>\n",
       "      <td>83807.8600</td>\n",
       "      <td>1</td>\n",
       "      <td>0</td>\n",
       "      <td>1</td>\n",
       "      <td>112542.5800</td>\n",
       "      <td>0</td>\n",
       "    </tr>\n",
       "    <tr>\n",
       "      <th>2</th>\n",
       "      <td>15662040</td>\n",
       "      <td>502</td>\n",
       "      <td>Ярославль</td>\n",
       "      <td>Ж</td>\n",
       "      <td>42</td>\n",
       "      <td>8</td>\n",
       "      <td>159660.8000</td>\n",
       "      <td>3</td>\n",
       "      <td>1</td>\n",
       "      <td>0</td>\n",
       "      <td>113931.5700</td>\n",
       "      <td>1</td>\n",
       "    </tr>\n",
       "    <tr>\n",
       "      <th>3</th>\n",
       "      <td>15744090</td>\n",
       "      <td>699</td>\n",
       "      <td>Ярославль</td>\n",
       "      <td>Ж</td>\n",
       "      <td>39</td>\n",
       "      <td>1</td>\n",
       "      <td>NaN</td>\n",
       "      <td>2</td>\n",
       "      <td>0</td>\n",
       "      <td>0</td>\n",
       "      <td>93826.6300</td>\n",
       "      <td>0</td>\n",
       "    </tr>\n",
       "    <tr>\n",
       "      <th>4</th>\n",
       "      <td>15780624</td>\n",
       "      <td>850</td>\n",
       "      <td>Рыбинск</td>\n",
       "      <td>Ж</td>\n",
       "      <td>43</td>\n",
       "      <td>2</td>\n",
       "      <td>125510.8200</td>\n",
       "      <td>1</td>\n",
       "      <td>1</td>\n",
       "      <td>1</td>\n",
       "      <td>79084.1000</td>\n",
       "      <td>0</td>\n",
       "    </tr>\n",
       "  </tbody>\n",
       "</table>\n",
       "</div>"
      ],
      "text/plain": [
       "     userid  score       City Gender  Age  Objects     Balance  Products  \\\n",
       "0  15677338    619  Ярославль      Ж   42        2         NaN         1   \n",
       "1  15690047    608    Рыбинск      Ж   41        1  83807.8600         1   \n",
       "2  15662040    502  Ярославль      Ж   42        8 159660.8000         3   \n",
       "3  15744090    699  Ярославль      Ж   39        1         NaN         2   \n",
       "4  15780624    850    Рыбинск      Ж   43        2 125510.8200         1   \n",
       "\n",
       "   CreditCard  Loyalty  estimated_salary  Churn  \n",
       "0           1        1       101348.8800      1  \n",
       "1           0        1       112542.5800      0  \n",
       "2           1        0       113931.5700      1  \n",
       "3           0        0        93826.6300      0  \n",
       "4           1        1        79084.1000      0  "
      ]
     },
     "metadata": {},
     "output_type": "display_data"
    },
    {
     "data": {
      "text/plain": [
       "'Описание данных'"
      ]
     },
     "metadata": {},
     "output_type": "display_data"
    },
    {
     "data": {
      "text/html": [
       "<div>\n",
       "<style scoped>\n",
       "    .dataframe tbody tr th:only-of-type {\n",
       "        vertical-align: middle;\n",
       "    }\n",
       "\n",
       "    .dataframe tbody tr th {\n",
       "        vertical-align: top;\n",
       "    }\n",
       "\n",
       "    .dataframe thead th {\n",
       "        text-align: right;\n",
       "    }\n",
       "</style>\n",
       "<table border=\"1\" class=\"dataframe\">\n",
       "  <thead>\n",
       "    <tr style=\"text-align: right;\">\n",
       "      <th></th>\n",
       "      <th>userid</th>\n",
       "      <th>score</th>\n",
       "      <th>Age</th>\n",
       "      <th>Objects</th>\n",
       "      <th>Balance</th>\n",
       "      <th>Products</th>\n",
       "      <th>CreditCard</th>\n",
       "      <th>Loyalty</th>\n",
       "      <th>estimated_salary</th>\n",
       "      <th>Churn</th>\n",
       "    </tr>\n",
       "  </thead>\n",
       "  <tbody>\n",
       "    <tr>\n",
       "      <th>count</th>\n",
       "      <td>10000.0000</td>\n",
       "      <td>10000.0000</td>\n",
       "      <td>10000.0000</td>\n",
       "      <td>10000.0000</td>\n",
       "      <td>6383.0000</td>\n",
       "      <td>10000.0000</td>\n",
       "      <td>10000.0000</td>\n",
       "      <td>10000.0000</td>\n",
       "      <td>10000.0000</td>\n",
       "      <td>10000.0000</td>\n",
       "    </tr>\n",
       "    <tr>\n",
       "      <th>mean</th>\n",
       "      <td>15733676.5694</td>\n",
       "      <td>650.5288</td>\n",
       "      <td>38.9218</td>\n",
       "      <td>5.0128</td>\n",
       "      <td>119827.4938</td>\n",
       "      <td>1.5302</td>\n",
       "      <td>0.7055</td>\n",
       "      <td>0.5151</td>\n",
       "      <td>100090.2399</td>\n",
       "      <td>0.2037</td>\n",
       "    </tr>\n",
       "    <tr>\n",
       "      <th>std</th>\n",
       "      <td>71936.1861</td>\n",
       "      <td>96.6533</td>\n",
       "      <td>10.4878</td>\n",
       "      <td>2.8922</td>\n",
       "      <td>30095.0565</td>\n",
       "      <td>0.5817</td>\n",
       "      <td>0.4558</td>\n",
       "      <td>0.4998</td>\n",
       "      <td>57510.4928</td>\n",
       "      <td>0.4028</td>\n",
       "    </tr>\n",
       "    <tr>\n",
       "      <th>min</th>\n",
       "      <td>15608437.0000</td>\n",
       "      <td>350.0000</td>\n",
       "      <td>18.0000</td>\n",
       "      <td>0.0000</td>\n",
       "      <td>3768.6900</td>\n",
       "      <td>1.0000</td>\n",
       "      <td>0.0000</td>\n",
       "      <td>0.0000</td>\n",
       "      <td>11.5800</td>\n",
       "      <td>0.0000</td>\n",
       "    </tr>\n",
       "    <tr>\n",
       "      <th>25%</th>\n",
       "      <td>15671264.2500</td>\n",
       "      <td>584.0000</td>\n",
       "      <td>32.0000</td>\n",
       "      <td>3.0000</td>\n",
       "      <td>100181.9750</td>\n",
       "      <td>1.0000</td>\n",
       "      <td>0.0000</td>\n",
       "      <td>0.0000</td>\n",
       "      <td>51002.1100</td>\n",
       "      <td>0.0000</td>\n",
       "    </tr>\n",
       "    <tr>\n",
       "      <th>50%</th>\n",
       "      <td>15733474.0000</td>\n",
       "      <td>652.0000</td>\n",
       "      <td>37.0000</td>\n",
       "      <td>5.0000</td>\n",
       "      <td>119839.6900</td>\n",
       "      <td>1.0000</td>\n",
       "      <td>1.0000</td>\n",
       "      <td>1.0000</td>\n",
       "      <td>100193.9150</td>\n",
       "      <td>0.0000</td>\n",
       "    </tr>\n",
       "    <tr>\n",
       "      <th>75%</th>\n",
       "      <td>15795969.7500</td>\n",
       "      <td>718.0000</td>\n",
       "      <td>44.0000</td>\n",
       "      <td>7.0000</td>\n",
       "      <td>139512.2900</td>\n",
       "      <td>2.0000</td>\n",
       "      <td>1.0000</td>\n",
       "      <td>1.0000</td>\n",
       "      <td>149388.2475</td>\n",
       "      <td>0.0000</td>\n",
       "    </tr>\n",
       "    <tr>\n",
       "      <th>max</th>\n",
       "      <td>15858426.0000</td>\n",
       "      <td>850.0000</td>\n",
       "      <td>92.0000</td>\n",
       "      <td>10.0000</td>\n",
       "      <td>250898.0900</td>\n",
       "      <td>4.0000</td>\n",
       "      <td>1.0000</td>\n",
       "      <td>1.0000</td>\n",
       "      <td>199992.4800</td>\n",
       "      <td>1.0000</td>\n",
       "    </tr>\n",
       "  </tbody>\n",
       "</table>\n",
       "</div>"
      ],
      "text/plain": [
       "             userid      score        Age    Objects     Balance   Products  \\\n",
       "count    10000.0000 10000.0000 10000.0000 10000.0000   6383.0000 10000.0000   \n",
       "mean  15733676.5694   650.5288    38.9218     5.0128 119827.4938     1.5302   \n",
       "std      71936.1861    96.6533    10.4878     2.8922  30095.0565     0.5817   \n",
       "min   15608437.0000   350.0000    18.0000     0.0000   3768.6900     1.0000   \n",
       "25%   15671264.2500   584.0000    32.0000     3.0000 100181.9750     1.0000   \n",
       "50%   15733474.0000   652.0000    37.0000     5.0000 119839.6900     1.0000   \n",
       "75%   15795969.7500   718.0000    44.0000     7.0000 139512.2900     2.0000   \n",
       "max   15858426.0000   850.0000    92.0000    10.0000 250898.0900     4.0000   \n",
       "\n",
       "       CreditCard    Loyalty  estimated_salary      Churn  \n",
       "count  10000.0000 10000.0000        10000.0000 10000.0000  \n",
       "mean       0.7055     0.5151       100090.2399     0.2037  \n",
       "std        0.4558     0.4998        57510.4928     0.4028  \n",
       "min        0.0000     0.0000           11.5800     0.0000  \n",
       "25%        0.0000     0.0000        51002.1100     0.0000  \n",
       "50%        1.0000     1.0000       100193.9150     0.0000  \n",
       "75%        1.0000     1.0000       149388.2475     0.0000  \n",
       "max        1.0000     1.0000       199992.4800     1.0000  "
      ]
     },
     "metadata": {},
     "output_type": "display_data"
    },
    {
     "data": {
      "text/plain": [
       "'Дубликаты'"
      ]
     },
     "metadata": {},
     "output_type": "display_data"
    },
    {
     "data": {
      "text/plain": [
       "0"
      ]
     },
     "metadata": {},
     "output_type": "display_data"
    },
    {
     "data": {
      "text/plain": [
       "'Пропуски'"
      ]
     },
     "metadata": {},
     "output_type": "display_data"
    },
    {
     "data": {
      "text/plain": [
       "userid               0.00%\n",
       "score                0.00%\n",
       "City                 0.00%\n",
       "Gender               0.00%\n",
       "Age                  0.00%\n",
       "Objects              0.00%\n",
       "Balance             36.17%\n",
       "Products             0.00%\n",
       "CreditCard           0.00%\n",
       "Loyalty              0.00%\n",
       "estimated_salary     0.00%\n",
       "Churn                0.00%\n",
       "dtype: object"
      ]
     },
     "metadata": {},
     "output_type": "display_data"
    },
    {
     "name": "stdout",
     "output_type": "stream",
     "text": [
      "**************************************************\n"
     ]
    }
   ],
   "source": [
    "# Функция для вывода основных данных по датасету\n",
    "def all_info(data):\n",
    "    print('Общая информация')\n",
    "    data.info() #вывод общей информации\n",
    "    display('Первые значения', data.head(5)) #вывод первых 10 значений\n",
    "    display('Описание данных', data.describe()) #вывод описательной статистики по датасету\n",
    "    display('Дубликаты', data.duplicated().sum()) #поиск явных дубликатов в данных\n",
    "    display('Пропуски', data.isna().mean().apply('{:.2%}'.format)) #подсчет пропусков в датасете в %\n",
    "    print('*'*50)\n",
    "    \n",
    "# Применение функции к данным\n",
    "all_info(bank_data)"
   ]
  },
  {
   "cell_type": "markdown",
   "metadata": {},
   "source": [
    "Предоставленные данные состоят из 10000 строк и 12 колонок. В данных отсутствуют явные дубликаты, при этом есть пропуски в колонке `Balance`, на которые следует обратить внимание. Также можно сказать, что типы данных колонок соответствуют их содержимому, при этом для удобства стоит привести наименования колонок к нижнему регистру.<br>"
   ]
  },
  {
   "cell_type": "markdown",
   "metadata": {},
   "source": [
    "### Обработка типов и наименований колонок"
   ]
  },
  {
   "cell_type": "markdown",
   "metadata": {},
   "source": [
    "Типы данных соответствуют содержимому, а вот наименования стоит привести к более удобному виду"
   ]
  },
  {
   "cell_type": "code",
   "execution_count": 4,
   "metadata": {},
   "outputs": [
    {
     "data": {
      "text/plain": [
       "Index(['user_id', 'score', 'city', 'gender', 'age', 'objects', 'balance',\n",
       "       'products', 'credit_card', 'loyalty', 'estimated_salary', 'churn'],\n",
       "      dtype='object')"
      ]
     },
     "execution_count": 4,
     "metadata": {},
     "output_type": "execute_result"
    }
   ],
   "source": [
    "# Приведение наимменований к нижнему регистру\n",
    "bank_data.columns = bank_data.columns.str.lower()\n",
    "# Наименования некоторых колонок написаны слитно, стоит их разделить\n",
    "bank_data = bank_data.rename(columns={'userid': 'user_id', 'creditcard': 'credit_card'})\n",
    "# Проверка результата\n",
    "bank_data.columns"
   ]
  },
  {
   "cell_type": "markdown",
   "metadata": {},
   "source": [
    "### Обработка пропусков"
   ]
  },
  {
   "cell_type": "markdown",
   "metadata": {},
   "source": [
    "Пропуски присутствуют в колонке `balance` и составляют 36% данных, это довольно большой процент данных. Проверим насколько он коррелирует с другими признаками."
   ]
  },
  {
   "cell_type": "code",
   "execution_count": 5,
   "metadata": {
    "scrolled": false
   },
   "outputs": [
    {
     "data": {
      "text/plain": [
       "user_id            -0.0087\n",
       "score              -0.0047\n",
       "age                -0.0128\n",
       "objects             0.0058\n",
       "products           -0.0010\n",
       "credit_card         0.0067\n",
       "loyalty            -0.0204\n",
       "estimated_salary   -0.0019\n",
       "churn               0.0172\n",
       "Name: balance, dtype: float64"
      ]
     },
     "execution_count": 5,
     "metadata": {},
     "output_type": "execute_result"
    }
   ],
   "source": [
    "# Проверка корреляции баланса с другими признаками\n",
    "corr = bank_data.corr()\n",
    "corr['balance'].drop('balance')"
   ]
  },
  {
   "cell_type": "markdown",
   "metadata": {},
   "source": [
    "Признак `balance` не коррелирует с другими признаками, поэтому заполнять пропуски, опираясь на связь баланса с другими признаками нет смысла. Можно заполнить данные медианными значениями, но получится следующий результат при построении графиков:\n",
    "\n",
    "![balance](balance.jpg)"
   ]
  },
  {
   "cell_type": "markdown",
   "metadata": {},
   "source": [
    "Стоит оставить пропуски в колонке `balance` неизменными, т.к. сложно спрогнозировать, какой баланс у кого должен быть, связывая этот признак с другими, а простая замена на среднее или медианное значение выглядит как аномалия или выброс."
   ]
  },
  {
   "cell_type": "markdown",
   "metadata": {},
   "source": [
    "### Обработка дубликатов"
   ]
  },
  {
   "cell_type": "markdown",
   "metadata": {},
   "source": [
    "В данных нет явных дубликатов, но возможно есть неявные, стоит проверить уникальные значения в колонке `city`"
   ]
  },
  {
   "cell_type": "code",
   "execution_count": 6,
   "metadata": {},
   "outputs": [
    {
     "data": {
      "text/plain": [
       "array(['Ярославль', 'Рыбинск', 'Ростов Великий'], dtype=object)"
      ]
     },
     "execution_count": 6,
     "metadata": {},
     "output_type": "execute_result"
    }
   ],
   "source": [
    "bank_data['city'].unique()"
   ]
  },
  {
   "cell_type": "markdown",
   "metadata": {},
   "source": [
    "В предоствавленных данных отсутствуют дубликаты"
   ]
  },
  {
   "cell_type": "markdown",
   "metadata": {},
   "source": [
    "**Выводы**\n",
    "\n",
    "В предложенном датасете 10000 строк и 4 колонки, среди них обнаружены пропуски в колонке `balance`, дубликатов в данных нет, типы данных колонок соответствуют содержимому, наименования колонок приведены в удобный для работы вид.<br>\n",
    "На основании описательной статистики можно сделать некоторые выводы о клиентах банка, например: 50% клиентов не старше 37 лет, 75% клиентов используют не более 2 банковских услуг, а баланс не превышает 140000."
   ]
  },
  {
   "cell_type": "markdown",
   "metadata": {},
   "source": [
    "## Часть. Проведение исследовательского анализа данных (EDA)\n",
    "### Категоризация клиентов по возрасту и балансу"
   ]
  },
  {
   "cell_type": "markdown",
   "metadata": {},
   "source": [
    "В данных есть колонки, которые можно категоризировать, в данной работе на категории разбиваются колонки `age` и `balance`. Возраст можно разделить на \"молодой\", \"средний\", \"пожилой\", а баланс на \"низкий\", \"средний\" и \"высокий\"."
   ]
  },
  {
   "cell_type": "code",
   "execution_count": 7,
   "metadata": {},
   "outputs": [],
   "source": [
    "# Функция для присвоения возрастной категории\n",
    "def age(elem):\n",
    "    if elem < 35:\n",
    "        return 'молодой'\n",
    "    if 35 <= elem < 60:\n",
    "        return 'средний'\n",
    "    if 60 <= elem:\n",
    "        return 'пожилой'\n",
    "# Создание дополнительной колонки с возрастной категорией\n",
    "bank_data['age_group'] = bank_data['age'].apply(age)"
   ]
  },
  {
   "cell_type": "code",
   "execution_count": 8,
   "metadata": {},
   "outputs": [],
   "source": [
    "# Функция для присвоения категории на основе баланса\n",
    "def balance(elem):\n",
    "    if elem < 90000:\n",
    "        return 'низкий'\n",
    "    if 90000 <= elem < 150000:\n",
    "        return 'средний'\n",
    "    if 150000 <= elem:\n",
    "        return 'высокий'\n",
    "    else:\n",
    "        return 'нет данных'\n",
    "# Создание дополнительной колонки с балансной категорией\n",
    "bank_data['balance_group'] = bank_data['balance'].apply(balance)"
   ]
  },
  {
   "cell_type": "code",
   "execution_count": 9,
   "metadata": {},
   "outputs": [
    {
     "data": {
      "text/html": [
       "<div>\n",
       "<style scoped>\n",
       "    .dataframe tbody tr th:only-of-type {\n",
       "        vertical-align: middle;\n",
       "    }\n",
       "\n",
       "    .dataframe tbody tr th {\n",
       "        vertical-align: top;\n",
       "    }\n",
       "\n",
       "    .dataframe thead th {\n",
       "        text-align: right;\n",
       "    }\n",
       "</style>\n",
       "<table border=\"1\" class=\"dataframe\">\n",
       "  <thead>\n",
       "    <tr style=\"text-align: right;\">\n",
       "      <th></th>\n",
       "      <th>user_id</th>\n",
       "      <th>score</th>\n",
       "      <th>city</th>\n",
       "      <th>gender</th>\n",
       "      <th>age</th>\n",
       "      <th>objects</th>\n",
       "      <th>balance</th>\n",
       "      <th>products</th>\n",
       "      <th>credit_card</th>\n",
       "      <th>loyalty</th>\n",
       "      <th>estimated_salary</th>\n",
       "      <th>churn</th>\n",
       "      <th>age_group</th>\n",
       "      <th>balance_group</th>\n",
       "    </tr>\n",
       "  </thead>\n",
       "  <tbody>\n",
       "    <tr>\n",
       "      <th>0</th>\n",
       "      <td>15677338</td>\n",
       "      <td>619</td>\n",
       "      <td>Ярославль</td>\n",
       "      <td>Ж</td>\n",
       "      <td>42</td>\n",
       "      <td>2</td>\n",
       "      <td>NaN</td>\n",
       "      <td>1</td>\n",
       "      <td>1</td>\n",
       "      <td>1</td>\n",
       "      <td>101348.8800</td>\n",
       "      <td>1</td>\n",
       "      <td>средний</td>\n",
       "      <td>нет данных</td>\n",
       "    </tr>\n",
       "    <tr>\n",
       "      <th>1</th>\n",
       "      <td>15690047</td>\n",
       "      <td>608</td>\n",
       "      <td>Рыбинск</td>\n",
       "      <td>Ж</td>\n",
       "      <td>41</td>\n",
       "      <td>1</td>\n",
       "      <td>83807.8600</td>\n",
       "      <td>1</td>\n",
       "      <td>0</td>\n",
       "      <td>1</td>\n",
       "      <td>112542.5800</td>\n",
       "      <td>0</td>\n",
       "      <td>средний</td>\n",
       "      <td>низкий</td>\n",
       "    </tr>\n",
       "    <tr>\n",
       "      <th>2</th>\n",
       "      <td>15662040</td>\n",
       "      <td>502</td>\n",
       "      <td>Ярославль</td>\n",
       "      <td>Ж</td>\n",
       "      <td>42</td>\n",
       "      <td>8</td>\n",
       "      <td>159660.8000</td>\n",
       "      <td>3</td>\n",
       "      <td>1</td>\n",
       "      <td>0</td>\n",
       "      <td>113931.5700</td>\n",
       "      <td>1</td>\n",
       "      <td>средний</td>\n",
       "      <td>высокий</td>\n",
       "    </tr>\n",
       "    <tr>\n",
       "      <th>3</th>\n",
       "      <td>15744090</td>\n",
       "      <td>699</td>\n",
       "      <td>Ярославль</td>\n",
       "      <td>Ж</td>\n",
       "      <td>39</td>\n",
       "      <td>1</td>\n",
       "      <td>NaN</td>\n",
       "      <td>2</td>\n",
       "      <td>0</td>\n",
       "      <td>0</td>\n",
       "      <td>93826.6300</td>\n",
       "      <td>0</td>\n",
       "      <td>средний</td>\n",
       "      <td>нет данных</td>\n",
       "    </tr>\n",
       "    <tr>\n",
       "      <th>4</th>\n",
       "      <td>15780624</td>\n",
       "      <td>850</td>\n",
       "      <td>Рыбинск</td>\n",
       "      <td>Ж</td>\n",
       "      <td>43</td>\n",
       "      <td>2</td>\n",
       "      <td>125510.8200</td>\n",
       "      <td>1</td>\n",
       "      <td>1</td>\n",
       "      <td>1</td>\n",
       "      <td>79084.1000</td>\n",
       "      <td>0</td>\n",
       "      <td>средний</td>\n",
       "      <td>средний</td>\n",
       "    </tr>\n",
       "  </tbody>\n",
       "</table>\n",
       "</div>"
      ],
      "text/plain": [
       "    user_id  score       city gender  age  objects     balance  products  \\\n",
       "0  15677338    619  Ярославль      Ж   42        2         NaN         1   \n",
       "1  15690047    608    Рыбинск      Ж   41        1  83807.8600         1   \n",
       "2  15662040    502  Ярославль      Ж   42        8 159660.8000         3   \n",
       "3  15744090    699  Ярославль      Ж   39        1         NaN         2   \n",
       "4  15780624    850    Рыбинск      Ж   43        2 125510.8200         1   \n",
       "\n",
       "   credit_card  loyalty  estimated_salary  churn age_group balance_group  \n",
       "0            1        1       101348.8800      1   средний    нет данных  \n",
       "1            0        1       112542.5800      0   средний        низкий  \n",
       "2            1        0       113931.5700      1   средний       высокий  \n",
       "3            0        0        93826.6300      0   средний    нет данных  \n",
       "4            1        1        79084.1000      0   средний       средний  "
      ]
     },
     "execution_count": 9,
     "metadata": {},
     "output_type": "execute_result"
    }
   ],
   "source": [
    "# Проверка результата\n",
    "bank_data.head(5)"
   ]
  },
  {
   "cell_type": "markdown",
   "metadata": {},
   "source": [
    "### Расчет средних значений признаков для групп \"Оставшиеся\" и \"Ушедшие\""
   ]
  },
  {
   "cell_type": "markdown",
   "metadata": {},
   "source": [
    "Сгруппируем клиентов по 2 группами \"Оставшиеся\" и \"Ушедшие\" и сравним средние значения каждого признака в обеих группах"
   ]
  },
  {
   "cell_type": "code",
   "execution_count": 10,
   "metadata": {},
   "outputs": [
    {
     "data": {
      "text/html": [
       "<div>\n",
       "<style scoped>\n",
       "    .dataframe tbody tr th:only-of-type {\n",
       "        vertical-align: middle;\n",
       "    }\n",
       "\n",
       "    .dataframe tbody tr th {\n",
       "        vertical-align: top;\n",
       "    }\n",
       "\n",
       "    .dataframe thead th {\n",
       "        text-align: right;\n",
       "    }\n",
       "</style>\n",
       "<table border=\"1\" class=\"dataframe\">\n",
       "  <thead>\n",
       "    <tr style=\"text-align: right;\">\n",
       "      <th></th>\n",
       "      <th>Оставшиеся</th>\n",
       "      <th>Ушедшие</th>\n",
       "    </tr>\n",
       "  </thead>\n",
       "  <tbody>\n",
       "    <tr>\n",
       "      <th>churn</th>\n",
       "      <td>0.0000</td>\n",
       "      <td>1.0000</td>\n",
       "    </tr>\n",
       "    <tr>\n",
       "      <th>user_id</th>\n",
       "      <td>15733903.8817</td>\n",
       "      <td>15732787.9647</td>\n",
       "    </tr>\n",
       "    <tr>\n",
       "      <th>score</th>\n",
       "      <td>651.8532</td>\n",
       "      <td>645.3515</td>\n",
       "    </tr>\n",
       "    <tr>\n",
       "      <th>age</th>\n",
       "      <td>37.4084</td>\n",
       "      <td>44.8380</td>\n",
       "    </tr>\n",
       "    <tr>\n",
       "      <th>objects</th>\n",
       "      <td>5.0333</td>\n",
       "      <td>4.9327</td>\n",
       "    </tr>\n",
       "    <tr>\n",
       "      <th>balance</th>\n",
       "      <td>119535.8643</td>\n",
       "      <td>120746.9711</td>\n",
       "    </tr>\n",
       "    <tr>\n",
       "      <th>products</th>\n",
       "      <td>1.5443</td>\n",
       "      <td>1.4752</td>\n",
       "    </tr>\n",
       "    <tr>\n",
       "      <th>credit_card</th>\n",
       "      <td>0.7071</td>\n",
       "      <td>0.6991</td>\n",
       "    </tr>\n",
       "    <tr>\n",
       "      <th>loyalty</th>\n",
       "      <td>0.5546</td>\n",
       "      <td>0.3608</td>\n",
       "    </tr>\n",
       "    <tr>\n",
       "      <th>estimated_salary</th>\n",
       "      <td>99738.3918</td>\n",
       "      <td>101465.6775</td>\n",
       "    </tr>\n",
       "  </tbody>\n",
       "</table>\n",
       "</div>"
      ],
      "text/plain": [
       "                    Оставшиеся       Ушедшие\n",
       "churn                   0.0000        1.0000\n",
       "user_id          15733903.8817 15732787.9647\n",
       "score                 651.8532      645.3515\n",
       "age                    37.4084       44.8380\n",
       "objects                 5.0333        4.9327\n",
       "balance            119535.8643   120746.9711\n",
       "products                1.5443        1.4752\n",
       "credit_card             0.7071        0.6991\n",
       "loyalty                 0.5546        0.3608\n",
       "estimated_salary    99738.3918   101465.6775"
      ]
     },
     "execution_count": 10,
     "metadata": {},
     "output_type": "execute_result"
    }
   ],
   "source": [
    "# Рассчет средних значений в группах в зависимости от оттока\n",
    "bank_data.groupby('churn', as_index=False).mean().T.rename(columns={0: 'Оставшиеся', 1: 'Ушедшие'})"
   ]
  },
  {
   "cell_type": "markdown",
   "metadata": {},
   "source": [
    "По полученным средним значениям можно сказать следующее:\n",
    "\n",
    "1) Средний возраст ушедших клиентов банка - 45 лет, оставшихся - 37<br>\n",
    "2) Ушедшие клиенты менее активно пользовались банковскими продуктами, в отличии от оставшихся\n",
    "\n",
    "По остальным показателям обе группы схожи"
   ]
  },
  {
   "cell_type": "markdown",
   "metadata": {},
   "source": [
    "### Построение столбчатых гистограмм признаков для групп \"Оставшиеся\" и \"Ушедшие\""
   ]
  },
  {
   "cell_type": "code",
   "execution_count": 11,
   "metadata": {
    "scrolled": false
   },
   "outputs": [
    {
     "data": {
      "image/png": "[encoded data removed]",
      "text/plain": [
       "<Figure size 576x360 with 1 Axes>"
      ]
     },
     "metadata": {},
     "output_type": "display_data"
    },
    {
     "data": {
      "image/png": "[encoded data removed]",
      "text/plain": [
       "<Figure size 576x360 with 1 Axes>"
      ]
     },
     "metadata": {},
     "output_type": "display_data"
    },
    {
     "data": {
      "image/png": "[encoded data removed]",
      "text/plain": [
       "<Figure size 576x360 with 1 Axes>"
      ]
     },
     "metadata": {},
     "output_type": "display_data"
    },
    {
     "data": {
      "image/png": "[encoded data removed]",
      "text/plain": [
       "<Figure size 576x360 with 1 Axes>"
      ]
     },
     "metadata": {},
     "output_type": "display_data"
    },
    {
     "data": {
      "image/png": "[encoded data removed]",
      "text/plain": [
       "<Figure size 576x360 with 1 Axes>"
      ]
     },
     "metadata": {},
     "output_type": "display_data"
    },
    {
     "data": {
      "image/png": "[encoded data removed]",
      "text/plain": [
       "<Figure size 576x360 with 1 Axes>"
      ]
     },
     "metadata": {},
     "output_type": "display_data"
    },
    {
     "data": {
      "image/png": "[encoded data removed]",
      "text/plain": [
       "<Figure size 576x360 with 1 Axes>"
      ]
     },
     "metadata": {},
     "output_type": "display_data"
    },
    {
     "data": {
      "image/png": "[encoded data removed]",
      "text/plain": [
       "<Figure size 576x360 with 1 Axes>"
      ]
     },
     "metadata": {},
     "output_type": "display_data"
    },
    {
     "data": {
      "image/png": "[encoded data removed]",
      "text/plain": [
       "<Figure size 576x360 with 1 Axes>"
      ]
     },
     "metadata": {},
     "output_type": "display_data"
    },
    {
     "data": {
      "image/png": "[encoded data removed]",
      "text/plain": [
       "<Figure size 576x360 with 1 Axes>"
      ]
     },
     "metadata": {},
     "output_type": "display_data"
    },
    {
     "data": {
      "image/png": "[encoded data removed]",
      "text/plain": [
       "<Figure size 576x360 with 1 Axes>"
      ]
     },
     "metadata": {},
     "output_type": "display_data"
    },
    {
     "data": {
      "image/png": "[encoded data removed]",
      "text/plain": [
       "<Figure size 576x360 with 1 Axes>"
      ]
     },
     "metadata": {},
     "output_type": "display_data"
    },
    {
     "data": {
      "image/png": "[encoded data removed]",
      "text/plain": [
       "<Figure size 576x360 with 1 Axes>"
      ]
     },
     "metadata": {},
     "output_type": "display_data"
    }
   ],
   "source": [
    "# Построение столбчатых гистограмм признаков оставшихся и ушедших клиентов\n",
    "\n",
    "# Подготовка данных для построения графиков\n",
    "graf_data = bank_data.drop(columns=['user_id'])\n",
    "graf_data['loyalty'] = graf_data['loyalty'].astype('string')\n",
    "graf_data['credit_card'] = graf_data['credit_card'].astype('string')\n",
    "\n",
    "# Установка порядка для отображения категориальных признаков\n",
    "graf_data['balance_group'] = pd.Categorical(graf_data['balance_group'], ['нет данных','низкий','средний','высокий'])\n",
    "graf_data['age_group'] = pd.Categorical(graf_data['age_group'], ['молодой','средний','пожилой'])\n",
    "\n",
    "# Настройки графиков\n",
    "sns.set_style(\"darkgrid\")\n",
    "\n",
    "# Цикл, который проходит по признакам в таблице\n",
    "for column in graf_data.columns:\n",
    "    plt.figure(figsize=(8, 5))\n",
    "    sns.histplot(data=graf_data, x=column, hue='churn')\n",
    "    plt.ylabel('Количество')\n",
    "    plt.suptitle(column)\n",
    "    plt.show()"
   ]
  },
  {
   "cell_type": "markdown",
   "metadata": {},
   "source": [
    "Гистограммы подтвердили предположения, сделанные для средних значений, при этом выводы можно дополнить следующими пунктами:\n",
    "1) Средний возраст ушедших клиентов банка - 45 лет, оставшихся - 37<br>\n",
    "2) Ушедшие клиенты менее активно пользовались банковскими продуктами, в отличии от оставшихся<br>\n",
    "3) Отток клиентов в Ростове Великом и в Ярославле почти одинаковый, но в Ярославле больше клиентов в целом и в 2 раза больше оставшихся клиентов, чем в Ростове Великом<br>\n",
    "4) Большая часть ушедших клиентов это женщины<br>\n",
    "5) Большая часть ушедших клиентов пользовались 1 продуктом, также клиенты, у которых более 2 продуктов, уходят чаще<br>\n",
    "6) При рассмотрении возрастных категорий, большую часть среди оставшихся занимает средний возраст, на втором месте молодой, при этом среди ушедших клиентов среднего возраста также много, в отличии от молодых "
   ]
  },
  {
   "cell_type": "markdown",
   "metadata": {},
   "source": [
    "Оценим распределение количества клиентов для числовых признаков"
   ]
  },
  {
   "cell_type": "code",
   "execution_count": 12,
   "metadata": {
    "scrolled": false
   },
   "outputs": [
    {
     "data": {
      "image/png": "[encoded data removed]",
      "text/plain": [
       "<Figure size 576x360 with 1 Axes>"
      ]
     },
     "metadata": {},
     "output_type": "display_data"
    },
    {
     "data": {
      "image/png": "[encoded data removed]",
      "text/plain": [
       "<Figure size 576x360 with 1 Axes>"
      ]
     },
     "metadata": {},
     "output_type": "display_data"
    },
    {
     "data": {
      "image/png": "[encoded data removed]",
      "text/plain": [
       "<Figure size 576x360 with 1 Axes>"
      ]
     },
     "metadata": {},
     "output_type": "display_data"
    },
    {
     "data": {
      "image/png": "[encoded data removed]",
      "text/plain": [
       "<Figure size 576x360 with 1 Axes>"
      ]
     },
     "metadata": {},
     "output_type": "display_data"
    }
   ],
   "source": [
    "# Для оценки смещения распределения\n",
    "no_scale = ['score', 'age', 'balance', 'estimated_salary'] \n",
    "# Цикл, который проходит по признакам в таблице\n",
    "for column in no_scale:\n",
    "    plt.figure(figsize=(8, 5))\n",
    "    sns.histplot(data=graf_data, x=column, hue='churn', stat='density', common_norm=False)\n",
    "    plt.ylabel('Количество')\n",
    "    plt.suptitle(column)\n",
    "    plt.show()"
   ]
  },
  {
   "cell_type": "markdown",
   "metadata": {},
   "source": [
    "По распределениям можно сказать следующее:\n",
    "1) Клиенты с более плохим кредитным рейтингом уходят чаще<br>\n",
    "2) Клиенты средней и пожилой группы уходят чаще<br>\n",
    "3) В основном уходят клиенты, которые относятся к средней балансной группе<br>\n",
    "4) Клиенты с доходом выше ~150 тыс. уходят чаще<br>"
   ]
  },
  {
   "cell_type": "markdown",
   "metadata": {},
   "source": [
    "### Построение столбчатых гистограмм признаков для разных городов"
   ]
  },
  {
   "cell_type": "markdown",
   "metadata": {},
   "source": [
    "Рассмотрим распределение признаков в зависимости от города"
   ]
  },
  {
   "cell_type": "code",
   "execution_count": 13,
   "metadata": {
    "scrolled": false
   },
   "outputs": [
    {
     "data": {
      "image/png": "[encoded data removed]",
      "text/plain": [
       "<Figure size 1080x360 with 3 Axes>"
      ]
     },
     "metadata": {},
     "output_type": "display_data"
    },
    {
     "data": {
      "image/png": "[encoded data removed]",
      "text/plain": [
       "<Figure size 1080x360 with 3 Axes>"
      ]
     },
     "metadata": {},
     "output_type": "display_data"
    },
    {
     "data": {
      "image/png": "[encoded data removed]",
      "text/plain": [
       "<Figure size 1080x360 with 3 Axes>"
      ]
     },
     "metadata": {},
     "output_type": "display_data"
    },
    {
     "data": {
      "image/png": "[encoded data removed]",
      "text/plain": [
       "<Figure size 1080x360 with 3 Axes>"
      ]
     },
     "metadata": {},
     "output_type": "display_data"
    },
    {
     "data": {
      "image/png": "[encoded data removed]",
      "text/plain": [
       "<Figure size 1080x360 with 3 Axes>"
      ]
     },
     "metadata": {},
     "output_type": "display_data"
    },
    {
     "data": {
      "image/png": "[encoded data removed]",
      "text/plain": [
       "<Figure size 1080x360 with 3 Axes>"
      ]
     },
     "metadata": {},
     "output_type": "display_data"
    },
    {
     "data": {
      "image/png": "[encoded data removed]",
      "text/plain": [
       "<Figure size 1080x360 with 3 Axes>"
      ]
     },
     "metadata": {},
     "output_type": "display_data"
    },
    {
     "data": {
      "image/png": "[encoded data removed]",
      "text/plain": [
       "<Figure size 1080x360 with 3 Axes>"
      ]
     },
     "metadata": {},
     "output_type": "display_data"
    },
    {
     "data": {
      "image/png": "[encoded data removed]",
      "text/plain": [
       "<Figure size 1080x360 with 3 Axes>"
      ]
     },
     "metadata": {},
     "output_type": "display_data"
    },
    {
     "data": {
      "image/png": "[encoded data removed]",
      "text/plain": [
       "<Figure size 1080x360 with 3 Axes>"
      ]
     },
     "metadata": {},
     "output_type": "display_data"
    },
    {
     "data": {
      "image/png": "[encoded data removed]",
      "text/plain": [
       "<Figure size 1080x360 with 3 Axes>"
      ]
     },
     "metadata": {},
     "output_type": "display_data"
    },
    {
     "data": {
      "image/png": "[encoded data removed]",
      "text/plain": [
       "<Figure size 1080x360 with 3 Axes>"
      ]
     },
     "metadata": {},
     "output_type": "display_data"
    }
   ],
   "source": [
    "# Построение столбчатых гистограмм признаков оставшихся и ушедших клиетов\n",
    "\n",
    "# Выделение клиентов из Ярославля\n",
    "yaroslavl = graf_data.query('city == \"Ярославль\"')\n",
    "yaroslavl.drop(columns=['city'], inplace=True)\n",
    "\n",
    "# Выделение клиентов из Ростова Великого\n",
    "rostov = graf_data.query('city == \"Ростов Великий\"')\n",
    "rostov.drop(columns=['city'], inplace=True)\n",
    "\n",
    "# Выделение клиентов из Рыбинска\n",
    "rybinsk = graf_data.query('city == \"Рыбинск\"')\n",
    "rybinsk.drop(columns=['city'], inplace=True)\n",
    "\n",
    "# Настройки графиков\n",
    "# plt.rcParams['font.size'] = '12'\n",
    "sns.set_style(\"darkgrid\")\n",
    "\n",
    "# Цикл, который проходит по признакам в таблице (признаки в 3х таблицах одинаковые)\n",
    "for column in yaroslavl.columns:\n",
    "    plt.figure(figsize=(15, 5))\n",
    "    \n",
    "    # Гистограмма Ярославля\n",
    "    ax1 = plt.subplot(1, 3, 1)\n",
    "    sns.histplot(data=yaroslavl, x=column, hue='churn')\n",
    "    plt.xlabel('Ярославль')\n",
    "    plt.ylabel('Количество')\n",
    "    \n",
    "    # Гистограмма Ростова Великого\n",
    "    ax2 = plt.subplot(1, 3, 2, sharey=ax1)\n",
    "    sns.histplot(data=rostov, x=column, hue='churn')\n",
    "    plt.xlabel('Ростов Великий')\n",
    "    plt.ylabel('')\n",
    "    \n",
    "    # Гистограмма Рыбинска\n",
    "    ax3 = plt.subplot(1, 3, 3, sharey=ax1)\n",
    "    sns.histplot(data=rybinsk, x=column, hue='churn')\n",
    "    plt.xlabel('Рыбинск')\n",
    "    plt.ylabel('')\n",
    "    \n",
    "    plt.suptitle(column)\n",
    "    plt.show()"
   ]
  },
  {
   "cell_type": "markdown",
   "metadata": {},
   "source": [
    "Гистограммы также подтвердили предположения, сделанные в предыдущих пунктах. Отток клиентов в Ростове Великом  в средней и пожилой группе довольно высок"
   ]
  },
  {
   "cell_type": "markdown",
   "metadata": {},
   "source": [
    "Оценим распределение количества клиентов для числовых признаков"
   ]
  },
  {
   "cell_type": "code",
   "execution_count": 14,
   "metadata": {},
   "outputs": [
    {
     "data": {
      "image/png": "[encoded data removed]",
      "text/plain": [
       "<Figure size 1080x360 with 3 Axes>"
      ]
     },
     "metadata": {},
     "output_type": "display_data"
    },
    {
     "data": {
      "image/png": "[encoded data removed]",
      "text/plain": [
       "<Figure size 1080x360 with 3 Axes>"
      ]
     },
     "metadata": {},
     "output_type": "display_data"
    },
    {
     "data": {
      "image/png": "[encoded data removed]",
      "text/plain": [
       "<Figure size 1080x360 with 3 Axes>"
      ]
     },
     "metadata": {},
     "output_type": "display_data"
    },
    {
     "data": {
      "image/png": "[encoded data removed]",
      "text/plain": [
       "<Figure size 1080x360 with 3 Axes>"
      ]
     },
     "metadata": {},
     "output_type": "display_data"
    }
   ],
   "source": [
    "# Для оценки смещения распределения\n",
    "no_scale = ['score', 'age', 'balance', 'estimated_salary'] \n",
    "# Цикл, который проходит по признакам в таблице\n",
    "for column in no_scale:\n",
    "    plt.figure(figsize=(15, 5))\n",
    "    \n",
    "    # Гистограмма Ярославля\n",
    "    ax1 = plt.subplot(1, 3, 1)\n",
    "    sns.histplot(data=yaroslavl, x=column, hue='churn', stat='density', common_norm=False)\n",
    "    plt.xlabel('Ярославль')\n",
    "    plt.ylabel('Количество')\n",
    "    \n",
    "    # Гистограмма Ростова Великого\n",
    "    ax2 = plt.subplot(1, 3, 2, sharey=ax1)\n",
    "    sns.histplot(data=rostov, x=column, hue='churn', stat='density', common_norm=False)\n",
    "    plt.xlabel('Ростов Великий')\n",
    "    plt.ylabel('')\n",
    "    \n",
    "    # Гистограмма Рыбинска\n",
    "    ax3 = plt.subplot(1, 3, 3, sharey=ax1)\n",
    "    sns.histplot(data=rybinsk, x=column, hue='churn', stat='density', common_norm=False)\n",
    "    plt.xlabel('Рыбинск')\n",
    "    plt.ylabel('')\n",
    "    \n",
    "    plt.suptitle(column)\n",
    "    plt.show()"
   ]
  },
  {
   "cell_type": "markdown",
   "metadata": {},
   "source": [
    "По графикам можно сказать следующее:\n",
    "1) Во всех городах ушедшими клиентами являются средняя и пожилая возрастные группы<br>\n",
    "2) В Ярославле и Ростове Великом клиенты с более плохим кредитным рейтингом уходят чаще<br>\n",
    "3) В Ярославле и Рыбинске больший отток клиентов, относящихся к низкой или высокой балансной группе, в Ростове Великом наоборот, больший отток средней балансной группы<br>\n",
    "4) В Ростове Великом больший отток клиентов, чей доход ниже ~100 тыс., в Рыбинске чей доход больше ~100 тыс., в Ярославле чей доход выше ~150 тыс.<br>"
   ]
  },
  {
   "cell_type": "markdown",
   "metadata": {},
   "source": [
    "### Расчет оставшихся/ушедших клиентов для разных возрастных групп"
   ]
  },
  {
   "cell_type": "code",
   "execution_count": 15,
   "metadata": {
    "scrolled": true
   },
   "outputs": [
    {
     "data": {
      "text/html": [
       "<div>\n",
       "<style scoped>\n",
       "    .dataframe tbody tr th:only-of-type {\n",
       "        vertical-align: middle;\n",
       "    }\n",
       "\n",
       "    .dataframe tbody tr th {\n",
       "        vertical-align: top;\n",
       "    }\n",
       "\n",
       "    .dataframe thead th {\n",
       "        text-align: right;\n",
       "    }\n",
       "</style>\n",
       "<table border=\"1\" class=\"dataframe\">\n",
       "  <thead>\n",
       "    <tr style=\"text-align: right;\">\n",
       "      <th></th>\n",
       "      <th>age_group</th>\n",
       "      <th>churn</th>\n",
       "      <th>count</th>\n",
       "      <th>percent</th>\n",
       "    </tr>\n",
       "  </thead>\n",
       "  <tbody>\n",
       "    <tr>\n",
       "      <th>0</th>\n",
       "      <td>молодой</td>\n",
       "      <td>0</td>\n",
       "      <td>3389</td>\n",
       "      <td>92.1174</td>\n",
       "    </tr>\n",
       "    <tr>\n",
       "      <th>1</th>\n",
       "      <td>молодой</td>\n",
       "      <td>1</td>\n",
       "      <td>290</td>\n",
       "      <td>7.8826</td>\n",
       "    </tr>\n",
       "    <tr>\n",
       "      <th>2</th>\n",
       "      <td>средний</td>\n",
       "      <td>0</td>\n",
       "      <td>4195</td>\n",
       "      <td>72.3900</td>\n",
       "    </tr>\n",
       "    <tr>\n",
       "      <th>3</th>\n",
       "      <td>средний</td>\n",
       "      <td>1</td>\n",
       "      <td>1600</td>\n",
       "      <td>27.6100</td>\n",
       "    </tr>\n",
       "    <tr>\n",
       "      <th>4</th>\n",
       "      <td>пожилой</td>\n",
       "      <td>0</td>\n",
       "      <td>379</td>\n",
       "      <td>72.0532</td>\n",
       "    </tr>\n",
       "    <tr>\n",
       "      <th>5</th>\n",
       "      <td>пожилой</td>\n",
       "      <td>1</td>\n",
       "      <td>147</td>\n",
       "      <td>27.9468</td>\n",
       "    </tr>\n",
       "  </tbody>\n",
       "</table>\n",
       "</div>"
      ],
      "text/plain": [
       "  age_group  churn  count  percent\n",
       "0   молодой      0   3389  92.1174\n",
       "1   молодой      1    290   7.8826\n",
       "2   средний      0   4195  72.3900\n",
       "3   средний      1   1600  27.6100\n",
       "4   пожилой      0    379  72.0532\n",
       "5   пожилой      1    147  27.9468"
      ]
     },
     "metadata": {},
     "output_type": "display_data"
    }
   ],
   "source": [
    "# Пустой фрейм под результат\n",
    "res=pd.DataFrame()\n",
    "\n",
    "# Цикл расчитывающий оставшихся/ушедших клиентов по возрастным группам\n",
    "for group in (bank_data['age_group'].unique()):\n",
    "    age_data = (\n",
    "        bank_data.query('age_group == @group').groupby(['age_group', 'churn'], as_index=False)['user_id']\n",
    "        .count().rename(columns={'user_id': 'count'})\n",
    "    )\n",
    "    age_data['percent'] = age_data['count'] / age_data['count'].sum() * 100\n",
    "    res = pd.concat([res, age_data])\n",
    "\n",
    "# Результат\n",
    "res['age_group'] = pd.Categorical(res['age_group'], ['молодой','средний','пожилой']) \n",
    "display(res.sort_values('age_group').reset_index(drop=True))"
   ]
  },
  {
   "cell_type": "markdown",
   "metadata": {},
   "source": [
    "Самый низкий отток клиентов наблюдается у молодой группы - 8%, у средней и пожилой возрастных групп - 28%."
   ]
  },
  {
   "cell_type": "markdown",
   "metadata": {},
   "source": [
    "### Расчет оставшихся/ушедших клиентов для разных балансных групп "
   ]
  },
  {
   "cell_type": "code",
   "execution_count": 16,
   "metadata": {},
   "outputs": [
    {
     "data": {
      "text/html": [
       "<div>\n",
       "<style scoped>\n",
       "    .dataframe tbody tr th:only-of-type {\n",
       "        vertical-align: middle;\n",
       "    }\n",
       "\n",
       "    .dataframe tbody tr th {\n",
       "        vertical-align: top;\n",
       "    }\n",
       "\n",
       "    .dataframe thead th {\n",
       "        text-align: right;\n",
       "    }\n",
       "</style>\n",
       "<table border=\"1\" class=\"dataframe\">\n",
       "  <thead>\n",
       "    <tr style=\"text-align: right;\">\n",
       "      <th></th>\n",
       "      <th>balance_group</th>\n",
       "      <th>churn</th>\n",
       "      <th>count</th>\n",
       "      <th>percent</th>\n",
       "    </tr>\n",
       "  </thead>\n",
       "  <tbody>\n",
       "    <tr>\n",
       "      <th>0</th>\n",
       "      <td>нет данных</td>\n",
       "      <td>0</td>\n",
       "      <td>3117</td>\n",
       "      <td>86.1764</td>\n",
       "    </tr>\n",
       "    <tr>\n",
       "      <th>1</th>\n",
       "      <td>нет данных</td>\n",
       "      <td>1</td>\n",
       "      <td>500</td>\n",
       "      <td>13.8236</td>\n",
       "    </tr>\n",
       "    <tr>\n",
       "      <th>2</th>\n",
       "      <td>низкий</td>\n",
       "      <td>0</td>\n",
       "      <td>782</td>\n",
       "      <td>79.3909</td>\n",
       "    </tr>\n",
       "    <tr>\n",
       "      <th>3</th>\n",
       "      <td>низкий</td>\n",
       "      <td>1</td>\n",
       "      <td>203</td>\n",
       "      <td>20.6091</td>\n",
       "    </tr>\n",
       "    <tr>\n",
       "      <th>4</th>\n",
       "      <td>средний</td>\n",
       "      <td>0</td>\n",
       "      <td>3319</td>\n",
       "      <td>74.9379</td>\n",
       "    </tr>\n",
       "    <tr>\n",
       "      <th>5</th>\n",
       "      <td>средний</td>\n",
       "      <td>1</td>\n",
       "      <td>1110</td>\n",
       "      <td>25.0621</td>\n",
       "    </tr>\n",
       "    <tr>\n",
       "      <th>6</th>\n",
       "      <td>высокий</td>\n",
       "      <td>0</td>\n",
       "      <td>745</td>\n",
       "      <td>76.8834</td>\n",
       "    </tr>\n",
       "    <tr>\n",
       "      <th>7</th>\n",
       "      <td>высокий</td>\n",
       "      <td>1</td>\n",
       "      <td>224</td>\n",
       "      <td>23.1166</td>\n",
       "    </tr>\n",
       "  </tbody>\n",
       "</table>\n",
       "</div>"
      ],
      "text/plain": [
       "  balance_group  churn  count  percent\n",
       "0    нет данных      0   3117  86.1764\n",
       "1    нет данных      1    500  13.8236\n",
       "2        низкий      0    782  79.3909\n",
       "3        низкий      1    203  20.6091\n",
       "4       средний      0   3319  74.9379\n",
       "5       средний      1   1110  25.0621\n",
       "6       высокий      0    745  76.8834\n",
       "7       высокий      1    224  23.1166"
      ]
     },
     "metadata": {},
     "output_type": "display_data"
    }
   ],
   "source": [
    "# Пустой фрейм под результат\n",
    "res=pd.DataFrame()\n",
    "\n",
    "# Цикл расчитывающий оставшихся/ушедших клиентов по возрастным группам\n",
    "for group in (bank_data['balance_group'].unique()):\n",
    "    age_data = (\n",
    "        bank_data.query('balance_group == @group').groupby(['balance_group', 'churn'], as_index=False)['user_id']\n",
    "        .count().rename(columns={'user_id': 'count'})\n",
    "    )\n",
    "    age_data['percent'] = age_data['count'] / age_data['count'].sum() * 100\n",
    "    res = pd.concat([res, age_data])\n",
    "\n",
    "# Результат\n",
    "res['balance_group'] = pd.Categorical(res['balance_group'], ['нет данных','низкий','средний','высокий']) \n",
    "display(res.sort_values('balance_group').reset_index(drop=True))"
   ]
  },
  {
   "cell_type": "markdown",
   "metadata": {},
   "source": [
    "Наибольший отток клиентов, у которых от 100000 до 150000 на балансе"
   ]
  },
  {
   "cell_type": "markdown",
   "metadata": {},
   "source": [
    "### Построение матрицы корреляции"
   ]
  },
  {
   "cell_type": "markdown",
   "metadata": {},
   "source": [
    "Построим матрицу корреляции, чтобы посмотреть на зависимость признаков друг от друга"
   ]
  },
  {
   "cell_type": "code",
   "execution_count": 17,
   "metadata": {
    "scrolled": false
   },
   "outputs": [
    {
     "data": {
      "image/png": "[encoded data removed]",
      "text/plain": [
       "<Figure size 720x720 with 2 Axes>"
      ]
     },
     "metadata": {},
     "output_type": "display_data"
    }
   ],
   "source": [
    "# Построение матрицы корреляции\n",
    "corr = bank_data.corr()\n",
    "plt.figure(figsize=(10, 10))\n",
    "sns.heatmap(corr, square=True, annot=True)\n",
    "plt.show()"
   ]
  },
  {
   "cell_type": "markdown",
   "metadata": {},
   "source": [
    "Единственные 2 признака, имеющие очень слабую положительную корреляцию, это отток и возраст"
   ]
  },
  {
   "cell_type": "markdown",
   "metadata": {},
   "source": [
    "**Выводы**\n",
    "\n",
    "1) Средний возраст ушедших клиентов банка - 45 лет, оставшихся - 37<br>\n",
    "2) Ушедшие клиенты менее активно пользовались банковскими продуктами, в отличии от оставшихся<br>\n",
    "3) Отток клиентов в Ростове Великом и в Ярославле почти одинаковый, но в Ярославле больше клиентов в целом и в 2 раза больше оставшихся клиентов, чем в Ростове Великом<br>\n",
    "4) Большая часть ушедших клиентов это женщины<br>\n",
    "5) Большая часть ушедших клиентов пользовались 1 продуктом, также клиенты, у которых более 2 продуктов, уходят чаще<br>\n",
    "6) Самый низкий отток клиентов наблюдается у молодой группы - 8%, у средней и пожилой возростных групп - 28%.\n",
    "7) Наибольший отток клиентов, у которых от 100000 до 150000 на балансе\n",
    "\n",
    "Этих данных уже достаточно чтобы выделить портрет ушедших клиентов, дополнительно проведем кластеризацию"
   ]
  },
  {
   "cell_type": "code",
   "execution_count": 18,
   "metadata": {
    "scrolled": false
   },
   "outputs": [
    {
     "data": {
      "text/html": [
       "<div>\n",
       "<style scoped>\n",
       "    .dataframe tbody tr th:only-of-type {\n",
       "        vertical-align: middle;\n",
       "    }\n",
       "\n",
       "    .dataframe tbody tr th {\n",
       "        vertical-align: top;\n",
       "    }\n",
       "\n",
       "    .dataframe thead th {\n",
       "        text-align: right;\n",
       "    }\n",
       "</style>\n",
       "<table border=\"1\" class=\"dataframe\">\n",
       "  <thead>\n",
       "    <tr style=\"text-align: right;\">\n",
       "      <th></th>\n",
       "      <th>city</th>\n",
       "      <th>age_group</th>\n",
       "      <th>churn</th>\n",
       "      <th>percent</th>\n",
       "    </tr>\n",
       "  </thead>\n",
       "  <tbody>\n",
       "    <tr>\n",
       "      <th>0</th>\n",
       "      <td>Ярославль</td>\n",
       "      <td>молодой</td>\n",
       "      <td>0</td>\n",
       "      <td>94.5380</td>\n",
       "    </tr>\n",
       "    <tr>\n",
       "      <th>1</th>\n",
       "      <td>Ярославль</td>\n",
       "      <td>молодой</td>\n",
       "      <td>1</td>\n",
       "      <td>5.4620</td>\n",
       "    </tr>\n",
       "    <tr>\n",
       "      <th>2</th>\n",
       "      <td>Ярославль</td>\n",
       "      <td>средний</td>\n",
       "      <td>0</td>\n",
       "      <td>77.1665</td>\n",
       "    </tr>\n",
       "    <tr>\n",
       "      <th>3</th>\n",
       "      <td>Ярославль</td>\n",
       "      <td>средний</td>\n",
       "      <td>1</td>\n",
       "      <td>22.8335</td>\n",
       "    </tr>\n",
       "    <tr>\n",
       "      <th>4</th>\n",
       "      <td>Ярославль</td>\n",
       "      <td>пожилой</td>\n",
       "      <td>0</td>\n",
       "      <td>75.1825</td>\n",
       "    </tr>\n",
       "    <tr>\n",
       "      <th>5</th>\n",
       "      <td>Ярославль</td>\n",
       "      <td>пожилой</td>\n",
       "      <td>1</td>\n",
       "      <td>24.8175</td>\n",
       "    </tr>\n",
       "  </tbody>\n",
       "</table>\n",
       "</div>"
      ],
      "text/plain": [
       "        city age_group  churn  percent\n",
       "0  Ярославль   молодой      0  94.5380\n",
       "1  Ярославль   молодой      1   5.4620\n",
       "2  Ярославль   средний      0  77.1665\n",
       "3  Ярославль   средний      1  22.8335\n",
       "4  Ярославль   пожилой      0  75.1825\n",
       "5  Ярославль   пожилой      1  24.8175"
      ]
     },
     "metadata": {},
     "output_type": "display_data"
    },
    {
     "data": {
      "text/html": [
       "<div>\n",
       "<style scoped>\n",
       "    .dataframe tbody tr th:only-of-type {\n",
       "        vertical-align: middle;\n",
       "    }\n",
       "\n",
       "    .dataframe tbody tr th {\n",
       "        vertical-align: top;\n",
       "    }\n",
       "\n",
       "    .dataframe thead th {\n",
       "        text-align: right;\n",
       "    }\n",
       "</style>\n",
       "<table border=\"1\" class=\"dataframe\">\n",
       "  <thead>\n",
       "    <tr style=\"text-align: right;\">\n",
       "      <th></th>\n",
       "      <th>city</th>\n",
       "      <th>age_group</th>\n",
       "      <th>churn</th>\n",
       "      <th>percent</th>\n",
       "    </tr>\n",
       "  </thead>\n",
       "  <tbody>\n",
       "    <tr>\n",
       "      <th>0</th>\n",
       "      <td>Рыбинск</td>\n",
       "      <td>молодой</td>\n",
       "      <td>0</td>\n",
       "      <td>91.7607</td>\n",
       "    </tr>\n",
       "    <tr>\n",
       "      <th>1</th>\n",
       "      <td>Рыбинск</td>\n",
       "      <td>молодой</td>\n",
       "      <td>1</td>\n",
       "      <td>8.2393</td>\n",
       "    </tr>\n",
       "    <tr>\n",
       "      <th>2</th>\n",
       "      <td>Рыбинск</td>\n",
       "      <td>средний</td>\n",
       "      <td>0</td>\n",
       "      <td>78.6594</td>\n",
       "    </tr>\n",
       "    <tr>\n",
       "      <th>3</th>\n",
       "      <td>Рыбинск</td>\n",
       "      <td>средний</td>\n",
       "      <td>1</td>\n",
       "      <td>21.3406</td>\n",
       "    </tr>\n",
       "    <tr>\n",
       "      <th>4</th>\n",
       "      <td>Рыбинск</td>\n",
       "      <td>пожилой</td>\n",
       "      <td>0</td>\n",
       "      <td>78.2946</td>\n",
       "    </tr>\n",
       "    <tr>\n",
       "      <th>5</th>\n",
       "      <td>Рыбинск</td>\n",
       "      <td>пожилой</td>\n",
       "      <td>1</td>\n",
       "      <td>21.7054</td>\n",
       "    </tr>\n",
       "  </tbody>\n",
       "</table>\n",
       "</div>"
      ],
      "text/plain": [
       "      city age_group  churn  percent\n",
       "0  Рыбинск   молодой      0  91.7607\n",
       "1  Рыбинск   молодой      1   8.2393\n",
       "2  Рыбинск   средний      0  78.6594\n",
       "3  Рыбинск   средний      1  21.3406\n",
       "4  Рыбинск   пожилой      0  78.2946\n",
       "5  Рыбинск   пожилой      1  21.7054"
      ]
     },
     "metadata": {},
     "output_type": "display_data"
    },
    {
     "data": {
      "text/html": [
       "<div>\n",
       "<style scoped>\n",
       "    .dataframe tbody tr th:only-of-type {\n",
       "        vertical-align: middle;\n",
       "    }\n",
       "\n",
       "    .dataframe tbody tr th {\n",
       "        vertical-align: top;\n",
       "    }\n",
       "\n",
       "    .dataframe thead th {\n",
       "        text-align: right;\n",
       "    }\n",
       "</style>\n",
       "<table border=\"1\" class=\"dataframe\">\n",
       "  <thead>\n",
       "    <tr style=\"text-align: right;\">\n",
       "      <th></th>\n",
       "      <th>city</th>\n",
       "      <th>age_group</th>\n",
       "      <th>churn</th>\n",
       "      <th>percent</th>\n",
       "    </tr>\n",
       "  </thead>\n",
       "  <tbody>\n",
       "    <tr>\n",
       "      <th>0</th>\n",
       "      <td>Ростов Великий</td>\n",
       "      <td>молодой</td>\n",
       "      <td>0</td>\n",
       "      <td>86.8106</td>\n",
       "    </tr>\n",
       "    <tr>\n",
       "      <th>1</th>\n",
       "      <td>Ростов Великий</td>\n",
       "      <td>молодой</td>\n",
       "      <td>1</td>\n",
       "      <td>13.1894</td>\n",
       "    </tr>\n",
       "    <tr>\n",
       "      <th>2</th>\n",
       "      <td>Ростов Великий</td>\n",
       "      <td>средний</td>\n",
       "      <td>0</td>\n",
       "      <td>57.9253</td>\n",
       "    </tr>\n",
       "    <tr>\n",
       "      <th>3</th>\n",
       "      <td>Ростов Великий</td>\n",
       "      <td>средний</td>\n",
       "      <td>1</td>\n",
       "      <td>42.0747</td>\n",
       "    </tr>\n",
       "    <tr>\n",
       "      <th>4</th>\n",
       "      <td>Ростов Великий</td>\n",
       "      <td>пожилой</td>\n",
       "      <td>0</td>\n",
       "      <td>58.5366</td>\n",
       "    </tr>\n",
       "    <tr>\n",
       "      <th>5</th>\n",
       "      <td>Ростов Великий</td>\n",
       "      <td>пожилой</td>\n",
       "      <td>1</td>\n",
       "      <td>41.4634</td>\n",
       "    </tr>\n",
       "  </tbody>\n",
       "</table>\n",
       "</div>"
      ],
      "text/plain": [
       "             city age_group  churn  percent\n",
       "0  Ростов Великий   молодой      0  86.8106\n",
       "1  Ростов Великий   молодой      1  13.1894\n",
       "2  Ростов Великий   средний      0  57.9253\n",
       "3  Ростов Великий   средний      1  42.0747\n",
       "4  Ростов Великий   пожилой      0  58.5366\n",
       "5  Ростов Великий   пожилой      1  41.4634"
      ]
     },
     "metadata": {},
     "output_type": "display_data"
    }
   ],
   "source": [
    "# \"Ручная кластеризация\"\n",
    "for city in (bank_data['city'].unique()):\n",
    "    res=pd.DataFrame()\n",
    "    for a_group in (bank_data['age_group'].unique()):\n",
    "        age_data = (\n",
    "            bank_data.query('age_group == @a_group and city == @city')\n",
    "            .groupby(['city', 'age_group', 'churn'], as_index=False)['user_id']\n",
    "            .count()\n",
    "            .rename(columns={'user_id': 'count'})\n",
    "        )\n",
    "        age_data['percent'] = age_data['count'] / age_data['count'].sum() * 100\n",
    "        res = pd.concat([res, age_data.drop('count', axis=1)])\n",
    "        \n",
    "    res['age_group'] = pd.Categorical(res['age_group'], ['молодой','средний','пожилой'])    \n",
    "    display(res.sort_values('age_group').reset_index(drop=True))"
   ]
  },
  {
   "cell_type": "markdown",
   "metadata": {},
   "source": [
    "При разделении данных по 3м признакам (город-возраст-отток), наибольший отток клиентов по всем возрастам происходит в Ростове Великом, при этом отток средней и пожилой возрастной группы почти в 2 раза больше, чем отток этих же групп в Ярославле и Рыбинске."
   ]
  },
  {
   "cell_type": "markdown",
   "metadata": {},
   "source": [
    "## Часть. Построение портретов клиентов\n",
    "### Стандартизация данных\n",
    "Стоит привести веса всех признаков к одному виду, для этого данные необходимо стандартизировать, воспользуемся методом `StandardScaler`. Но прежде стоит преобразовать строковые значения в числовые.\n",
    "\n",
    "Для городов:<br>\n",
    "0 - Ростов Великий<br>\n",
    "1 - Рыбинск<br>\n",
    "2 - Ярославль<br>\n",
    "\n",
    "Для пола:<br>\n",
    "0 - женский<br>\n",
    "1 - мужской<br>"
   ]
  },
  {
   "cell_type": "code",
   "execution_count": 19,
   "metadata": {
    "scrolled": false
   },
   "outputs": [
    {
     "data": {
      "text/html": [
       "<div>\n",
       "<style scoped>\n",
       "    .dataframe tbody tr th:only-of-type {\n",
       "        vertical-align: middle;\n",
       "    }\n",
       "\n",
       "    .dataframe tbody tr th {\n",
       "        vertical-align: top;\n",
       "    }\n",
       "\n",
       "    .dataframe thead th {\n",
       "        text-align: right;\n",
       "    }\n",
       "</style>\n",
       "<table border=\"1\" class=\"dataframe\">\n",
       "  <thead>\n",
       "    <tr style=\"text-align: right;\">\n",
       "      <th></th>\n",
       "      <th>score</th>\n",
       "      <th>city</th>\n",
       "      <th>gender</th>\n",
       "      <th>age</th>\n",
       "      <th>objects</th>\n",
       "      <th>products</th>\n",
       "      <th>credit_card</th>\n",
       "      <th>loyalty</th>\n",
       "      <th>estimated_salary</th>\n",
       "      <th>churn</th>\n",
       "    </tr>\n",
       "  </thead>\n",
       "  <tbody>\n",
       "    <tr>\n",
       "      <th>0</th>\n",
       "      <td>619</td>\n",
       "      <td>2</td>\n",
       "      <td>0</td>\n",
       "      <td>42</td>\n",
       "      <td>2</td>\n",
       "      <td>1</td>\n",
       "      <td>1</td>\n",
       "      <td>1</td>\n",
       "      <td>101348.8800</td>\n",
       "      <td>1</td>\n",
       "    </tr>\n",
       "    <tr>\n",
       "      <th>1</th>\n",
       "      <td>608</td>\n",
       "      <td>1</td>\n",
       "      <td>0</td>\n",
       "      <td>41</td>\n",
       "      <td>1</td>\n",
       "      <td>1</td>\n",
       "      <td>0</td>\n",
       "      <td>1</td>\n",
       "      <td>112542.5800</td>\n",
       "      <td>0</td>\n",
       "    </tr>\n",
       "    <tr>\n",
       "      <th>2</th>\n",
       "      <td>502</td>\n",
       "      <td>2</td>\n",
       "      <td>0</td>\n",
       "      <td>42</td>\n",
       "      <td>8</td>\n",
       "      <td>3</td>\n",
       "      <td>1</td>\n",
       "      <td>0</td>\n",
       "      <td>113931.5700</td>\n",
       "      <td>1</td>\n",
       "    </tr>\n",
       "    <tr>\n",
       "      <th>3</th>\n",
       "      <td>699</td>\n",
       "      <td>2</td>\n",
       "      <td>0</td>\n",
       "      <td>39</td>\n",
       "      <td>1</td>\n",
       "      <td>2</td>\n",
       "      <td>0</td>\n",
       "      <td>0</td>\n",
       "      <td>93826.6300</td>\n",
       "      <td>0</td>\n",
       "    </tr>\n",
       "    <tr>\n",
       "      <th>4</th>\n",
       "      <td>850</td>\n",
       "      <td>1</td>\n",
       "      <td>0</td>\n",
       "      <td>43</td>\n",
       "      <td>2</td>\n",
       "      <td>1</td>\n",
       "      <td>1</td>\n",
       "      <td>1</td>\n",
       "      <td>79084.1000</td>\n",
       "      <td>0</td>\n",
       "    </tr>\n",
       "    <tr>\n",
       "      <th>5</th>\n",
       "      <td>645</td>\n",
       "      <td>1</td>\n",
       "      <td>1</td>\n",
       "      <td>44</td>\n",
       "      <td>8</td>\n",
       "      <td>2</td>\n",
       "      <td>1</td>\n",
       "      <td>0</td>\n",
       "      <td>149756.7100</td>\n",
       "      <td>1</td>\n",
       "    </tr>\n",
       "    <tr>\n",
       "      <th>6</th>\n",
       "      <td>822</td>\n",
       "      <td>2</td>\n",
       "      <td>1</td>\n",
       "      <td>50</td>\n",
       "      <td>7</td>\n",
       "      <td>2</td>\n",
       "      <td>1</td>\n",
       "      <td>1</td>\n",
       "      <td>10062.8000</td>\n",
       "      <td>0</td>\n",
       "    </tr>\n",
       "    <tr>\n",
       "      <th>7</th>\n",
       "      <td>376</td>\n",
       "      <td>0</td>\n",
       "      <td>0</td>\n",
       "      <td>29</td>\n",
       "      <td>4</td>\n",
       "      <td>4</td>\n",
       "      <td>1</td>\n",
       "      <td>0</td>\n",
       "      <td>119346.8800</td>\n",
       "      <td>1</td>\n",
       "    </tr>\n",
       "    <tr>\n",
       "      <th>8</th>\n",
       "      <td>501</td>\n",
       "      <td>2</td>\n",
       "      <td>1</td>\n",
       "      <td>44</td>\n",
       "      <td>4</td>\n",
       "      <td>2</td>\n",
       "      <td>0</td>\n",
       "      <td>1</td>\n",
       "      <td>74940.5000</td>\n",
       "      <td>0</td>\n",
       "    </tr>\n",
       "    <tr>\n",
       "      <th>9</th>\n",
       "      <td>684</td>\n",
       "      <td>2</td>\n",
       "      <td>1</td>\n",
       "      <td>27</td>\n",
       "      <td>2</td>\n",
       "      <td>1</td>\n",
       "      <td>1</td>\n",
       "      <td>1</td>\n",
       "      <td>71725.7300</td>\n",
       "      <td>0</td>\n",
       "    </tr>\n",
       "  </tbody>\n",
       "</table>\n",
       "</div>"
      ],
      "text/plain": [
       "   score  city  gender  age  objects  products  credit_card  loyalty  \\\n",
       "0    619     2       0   42        2         1            1        1   \n",
       "1    608     1       0   41        1         1            0        1   \n",
       "2    502     2       0   42        8         3            1        0   \n",
       "3    699     2       0   39        1         2            0        0   \n",
       "4    850     1       0   43        2         1            1        1   \n",
       "5    645     1       1   44        8         2            1        0   \n",
       "6    822     2       1   50        7         2            1        1   \n",
       "7    376     0       0   29        4         4            1        0   \n",
       "8    501     2       1   44        4         2            0        1   \n",
       "9    684     2       1   27        2         1            1        1   \n",
       "\n",
       "   estimated_salary  churn  \n",
       "0       101348.8800      1  \n",
       "1       112542.5800      0  \n",
       "2       113931.5700      1  \n",
       "3        93826.6300      0  \n",
       "4        79084.1000      0  \n",
       "5       149756.7100      1  \n",
       "6        10062.8000      0  \n",
       "7       119346.8800      1  \n",
       "8        74940.5000      0  \n",
       "9        71725.7300      0  "
      ]
     },
     "metadata": {},
     "output_type": "display_data"
    }
   ],
   "source": [
    "# Cоздаётся переменная класса LabelEncoder - кодировщик\n",
    "encoder =  LabelEncoder() \n",
    "# Создается дубликат данных\n",
    "bank_data_encode = bank_data.copy()\n",
    "# Используется кодировщик, чтобы \"перевести\" строковые названия в числа\n",
    "bank_data_encode['city'] = encoder.fit_transform(bank_data_encode['city']) \n",
    "bank_data_encode['gender'] = encoder.fit_transform(bank_data_encode['gender'])\n",
    "\n",
    "bank_data_encode.drop(['user_id', 'age_group', 'balance_group','balance'], axis=1, inplace=True)\n",
    "# Проверка результата\n",
    "display(bank_data_encode.head(10))"
   ]
  },
  {
   "cell_type": "code",
   "execution_count": 20,
   "metadata": {},
   "outputs": [],
   "source": [
    "# Создание объекта класса стандартизации\n",
    "scaler = StandardScaler()\n",
    "\n",
    "# Обучение стандартизатора\n",
    "X_train_st = scaler.fit_transform(bank_data_encode)"
   ]
  },
  {
   "cell_type": "markdown",
   "metadata": {},
   "source": [
    "### Матрица расстояний\n",
    "Построим матрицу расстояний и визуализируем ее с помощью дендрограммы."
   ]
  },
  {
   "cell_type": "code",
   "execution_count": 21,
   "metadata": {},
   "outputs": [
    {
     "data": {
      "image/png": "[encoded data removed]",
      "text/plain": [
       "<Figure size 1080x720 with 1 Axes>"
      ]
     },
     "metadata": {},
     "output_type": "display_data"
    }
   ],
   "source": [
    "# Матрица расстояний\n",
    "link = linkage(X_train_st, method = 'ward') \n",
    "\n",
    "# Построение дендрограммы \n",
    "plt.figure(figsize=(15, 10))  \n",
    "dendrogram(link, orientation='top')\n",
    "plt.title('Кластеризация')\n",
    "plt.show() "
   ]
  },
  {
   "cell_type": "markdown",
   "metadata": {},
   "source": [
    "Исходя из разных цветов на дендрограмме, оптимальное количество кластеров - 3."
   ]
  },
  {
   "cell_type": "markdown",
   "metadata": {},
   "source": [
    "### Обучение модели\n",
    "Для кластеризации воспользуемся алгоритмом KMean и на основании дендрограммы зададим оптимальное количество кластеров."
   ]
  },
  {
   "cell_type": "code",
   "execution_count": 22,
   "metadata": {},
   "outputs": [],
   "source": [
    "# Задаём число кластеров равное 3\n",
    "kmean = KMeans(n_clusters=3, random_state=0) \n",
    "# Применяем алгоритм к данным и формируем вектор кластеров \n",
    "labels = kmean.fit_predict(X_train_st) "
   ]
  },
  {
   "cell_type": "markdown",
   "metadata": {},
   "source": [
    "### Оценка доли оттока в разных кластерах"
   ]
  },
  {
   "cell_type": "code",
   "execution_count": 23,
   "metadata": {},
   "outputs": [
    {
     "data": {
      "text/html": [
       "<div>\n",
       "<style scoped>\n",
       "    .dataframe tbody tr th:only-of-type {\n",
       "        vertical-align: middle;\n",
       "    }\n",
       "\n",
       "    .dataframe tbody tr th {\n",
       "        vertical-align: top;\n",
       "    }\n",
       "\n",
       "    .dataframe thead th {\n",
       "        text-align: right;\n",
       "    }\n",
       "</style>\n",
       "<table border=\"1\" class=\"dataframe\">\n",
       "  <thead>\n",
       "    <tr style=\"text-align: right;\">\n",
       "      <th></th>\n",
       "      <th>0</th>\n",
       "      <th>1</th>\n",
       "      <th>2</th>\n",
       "    </tr>\n",
       "  </thead>\n",
       "  <tbody>\n",
       "    <tr>\n",
       "      <th>cluster</th>\n",
       "      <td>0.0000</td>\n",
       "      <td>1.0000</td>\n",
       "      <td>2.0000</td>\n",
       "    </tr>\n",
       "    <tr>\n",
       "      <th>score</th>\n",
       "      <td>645.4512</td>\n",
       "      <td>648.8592</td>\n",
       "      <td>654.2135</td>\n",
       "    </tr>\n",
       "    <tr>\n",
       "      <th>city</th>\n",
       "      <td>0.9971</td>\n",
       "      <td>1.3300</td>\n",
       "      <td>1.3037</td>\n",
       "    </tr>\n",
       "    <tr>\n",
       "      <th>gender</th>\n",
       "      <td>0.4404</td>\n",
       "      <td>0.5678</td>\n",
       "      <td>0.5765</td>\n",
       "    </tr>\n",
       "    <tr>\n",
       "      <th>age</th>\n",
       "      <td>44.8691</td>\n",
       "      <td>35.4485</td>\n",
       "      <td>38.9640</td>\n",
       "    </tr>\n",
       "    <tr>\n",
       "      <th>objects</th>\n",
       "      <td>4.9358</td>\n",
       "      <td>5.1264</td>\n",
       "      <td>4.9572</td>\n",
       "    </tr>\n",
       "    <tr>\n",
       "      <th>products</th>\n",
       "      <td>1.4747</td>\n",
       "      <td>1.5551</td>\n",
       "      <td>1.5358</td>\n",
       "    </tr>\n",
       "    <tr>\n",
       "      <th>credit_card</th>\n",
       "      <td>0.6994</td>\n",
       "      <td>0.7063</td>\n",
       "      <td>0.7077</td>\n",
       "    </tr>\n",
       "    <tr>\n",
       "      <th>loyalty</th>\n",
       "      <td>0.3605</td>\n",
       "      <td>0.0000</td>\n",
       "      <td>1.0000</td>\n",
       "    </tr>\n",
       "    <tr>\n",
       "      <th>estimated_salary</th>\n",
       "      <td>101471.1460</td>\n",
       "      <td>100338.8466</td>\n",
       "      <td>99253.0618</td>\n",
       "    </tr>\n",
       "    <tr>\n",
       "      <th>churn</th>\n",
       "      <td>0.9990</td>\n",
       "      <td>0.0000</td>\n",
       "      <td>0.0000</td>\n",
       "    </tr>\n",
       "  </tbody>\n",
       "</table>\n",
       "</div>"
      ],
      "text/plain": [
       "                           0           1          2\n",
       "cluster               0.0000      1.0000     2.0000\n",
       "score               645.4512    648.8592   654.2135\n",
       "city                  0.9971      1.3300     1.3037\n",
       "gender                0.4404      0.5678     0.5765\n",
       "age                  44.8691     35.4485    38.9640\n",
       "objects               4.9358      5.1264     4.9572\n",
       "products              1.4747      1.5551     1.5358\n",
       "credit_card           0.6994      0.7063     0.7077\n",
       "loyalty               0.3605      0.0000     1.0000\n",
       "estimated_salary 101471.1460 100338.8466 99253.0618\n",
       "churn                 0.9990      0.0000     0.0000"
      ]
     },
     "execution_count": 23,
     "metadata": {},
     "output_type": "execute_result"
    }
   ],
   "source": [
    "# Сохранение меток кластера\n",
    "bank_data_encode['cluster'] = labels\n",
    "# Рассчет средних значений признаков в каждом кластере\n",
    "bank_data_encode.groupby('cluster', as_index=False).mean().T"
   ]
  },
  {
   "cell_type": "code",
   "execution_count": 24,
   "metadata": {},
   "outputs": [
    {
     "data": {
      "text/html": [
       "<div>\n",
       "<style scoped>\n",
       "    .dataframe tbody tr th:only-of-type {\n",
       "        vertical-align: middle;\n",
       "    }\n",
       "\n",
       "    .dataframe tbody tr th {\n",
       "        vertical-align: top;\n",
       "    }\n",
       "\n",
       "    .dataframe thead th {\n",
       "        text-align: right;\n",
       "    }\n",
       "</style>\n",
       "<table border=\"1\" class=\"dataframe\">\n",
       "  <thead>\n",
       "    <tr style=\"text-align: right;\">\n",
       "      <th></th>\n",
       "      <th>0</th>\n",
       "      <th>1</th>\n",
       "      <th>2</th>\n",
       "    </tr>\n",
       "  </thead>\n",
       "  <tbody>\n",
       "    <tr>\n",
       "      <th>cluster</th>\n",
       "      <td>0</td>\n",
       "      <td>1</td>\n",
       "      <td>2</td>\n",
       "    </tr>\n",
       "    <tr>\n",
       "      <th>count</th>\n",
       "      <td>2039</td>\n",
       "      <td>3545</td>\n",
       "      <td>4416</td>\n",
       "    </tr>\n",
       "  </tbody>\n",
       "</table>\n",
       "</div>"
      ],
      "text/plain": [
       "            0     1     2\n",
       "cluster     0     1     2\n",
       "count    2039  3545  4416"
      ]
     },
     "execution_count": 24,
     "metadata": {},
     "output_type": "execute_result"
    }
   ],
   "source": [
    "# Количество клиентов каждой группы\n",
    "bank_data_encode.groupby('cluster', as_index=False)['churn'].count().rename(columns={'churn': 'count'}).T"
   ]
  },
  {
   "cell_type": "markdown",
   "metadata": {},
   "source": [
    "**Выводы**\n",
    "\n",
    "Выделена группа клиентов подверженных оттоку, основным выделяющимся признаком является средний возраст - 45 лет. В отличии от 1 и 2 группы, во второй среднее значение пола клиента 0.4, что говорит, о большем количестве женщин в этой группе. Также в этой группе некоторая средняя активность в отличии от 2 - самой активной и 1 - с нулевой активностью. Значение города занижено, значит большее число клиентов из Ростова Великого"
   ]
  },
  {
   "cell_type": "markdown",
   "metadata": {},
   "source": [
    "## Часть. Проверка статистических гипотез\n",
    "### Проверка гипотезы различия дохода между теми клиентами, которые ушли и теми, которые остались"
   ]
  },
  {
   "cell_type": "markdown",
   "metadata": {},
   "source": [
    "Рассмотрим следующую нулевую гипотезу - \"Средний доход ушедших клиентов не отличается от дохода оставшихся\". Сформулируем альтернативную гипотезу - \"Средний доход ушедших клиентов отличается от дохода оставшихся\". Для проверки гипотез создадим два датасета salary_0 и salary_1. Для проверки гипотез будет достаточно использовать p-value = 0.05.<br>\n",
    "При этом данные должны удовлетворять следующим условиям:\n",
    "1) Генеральные совокупности не должны зависеть друг от друга<br>\n",
    "2) Выборочные средние должны быть нормально распределены<br>\n",
    "3) Дисперсии рассматриваемых генеральных совокупностей должны быть равны<br>"
   ]
  },
  {
   "cell_type": "code",
   "execution_count": 25,
   "metadata": {
    "scrolled": true
   },
   "outputs": [],
   "source": [
    "# Датасет \"Оставшиеся\"\n",
    "salary_0 = bank_data.query('churn == 0')['estimated_salary'].reset_index(drop=True)\n",
    "# Датасет \"Ушедшие\"\n",
    "salary_1 = bank_data.query('churn == 1')['estimated_salary'].reset_index(drop=True)"
   ]
  },
  {
   "cell_type": "code",
   "execution_count": 26,
   "metadata": {
    "scrolled": true
   },
   "outputs": [
    {
     "name": "stdout",
     "output_type": "stream",
     "text": [
      "3.8115318229635024e-43\n",
      "Отвергаем нулевую гипотезу: распределение не нормально\n",
      "\n",
      "4.594104044877579e-25\n",
      "Отвергаем нулевую гипотезу: распределение не нормально\n"
     ]
    },
    {
     "name": "stderr",
     "output_type": "stream",
     "text": [
      "/opt/conda/lib/python3.9/site-packages/scipy/stats/_morestats.py:1761: UserWarning: p-value may not be accurate for N > 5000.\n",
      "  warnings.warn(\"p-value may not be accurate for N > 5000.\")\n"
     ]
    }
   ],
   "source": [
    "# Устанавка уровня значимости\n",
    "alpha = .05\n",
    "# Применение метод для сравнения средних\n",
    "result = st.shapiro(salary_0)\n",
    "# Вывод p-value\n",
    "print(result.pvalue)\n",
    "# Вывод по гипотезе\n",
    "if result.pvalue < alpha:\n",
    "    print(\"Отвергаем нулевую гипотезу: распределение не нормально\")\n",
    "else:\n",
    "    print(\"Не отвергаем нулевую гипотезу: распределение нормально\") \n",
    "\n",
    "print()\n",
    "\n",
    "result = st.shapiro(salary_1)\n",
    "# Вывод p-value\n",
    "print(result.pvalue)\n",
    "# Вывод по гипотезе\n",
    "if result.pvalue < alpha:\n",
    "    print(\"Отвергаем нулевую гипотезу: распределение не нормально\")\n",
    "else:\n",
    "    print(\"Не отвергаем нулевую гипотезу: распределение нормально\") "
   ]
  },
  {
   "cell_type": "code",
   "execution_count": 27,
   "metadata": {
    "scrolled": true
   },
   "outputs": [
    {
     "name": "stdout",
     "output_type": "stream",
     "text": [
      "4.594104044877579e-25\n",
      "Отвергаем нулевую гипотезу: разница статистически значима\n"
     ]
    }
   ],
   "source": [
    "# Устанавка уровня значимости\n",
    "alpha = .05\n",
    "# Применение метод для сравнения средних\n",
    "results = st.mannwhitneyu(salary_0, salary_1)\n",
    "# Вывод p-value\n",
    "print(result.pvalue)\n",
    "# Вывод по гипотезе\n",
    "if result.pvalue < alpha:\n",
    "    print(\"Отвергаем нулевую гипотезу: разница статистически значима\")\n",
    "else:\n",
    "    print(\"Не получилось отвергнуть нулевую гипотезу, вывод о различии сделать нельзя\") "
   ]
  },
  {
   "cell_type": "markdown",
   "metadata": {},
   "source": [
    "Гипотезу удалось отвергнуть, значит доходы клиентов отличаются"
   ]
  },
  {
   "cell_type": "markdown",
   "metadata": {},
   "source": [
    "### Проверка гипотезы различия баланса между теми клиентами, которые ушли и теми, которые остались"
   ]
  },
  {
   "cell_type": "markdown",
   "metadata": {},
   "source": [
    "Рассмотрим следующую нулевую гипотезу - \"Средний баланс ушедших клиентов не отличается от баланса оставшихся\".Сформулируем альтернативную гипотезу - \"Средний баланс ушедших клиентов отличается от баланса оставшихся\". Для проверки гипотез создадим два датасета balance_0 и balance_1. Для проверки гипотез будет достаточно использовать p-value = 0.05.<br>\n",
    "При этом данные должны удовлетворять следующим условиям:\n",
    "1) Генеральные совокупности не должны зависеть друг от друга<br>\n",
    "2) Выборочные средние должны быть нормально распределены<br>\n",
    "3) Дисперсии рассматриваемых генеральных совокупностей должны быть равны<br>"
   ]
  },
  {
   "cell_type": "code",
   "execution_count": 28,
   "metadata": {},
   "outputs": [],
   "source": [
    "# Датасет \"Оставшиеся\"\n",
    "balance_0 = (bank_data.query('churn == 0')['balance'].dropna()).reset_index(drop=True)\n",
    "# Датасет \"Ушедшие\"\n",
    "balance_1 = (bank_data.query('churn == 1')['balance'].dropna()).reset_index(drop=True)"
   ]
  },
  {
   "cell_type": "code",
   "execution_count": 29,
   "metadata": {},
   "outputs": [
    {
     "name": "stdout",
     "output_type": "stream",
     "text": [
      "0.8506813049316406\n",
      "Не отвергаем нулевую гипотезу: распределение нормально\n",
      "\n",
      "1.0646013848258917e-08\n",
      "Отвергаем нулевую гипотезу: распределение не нормально\n"
     ]
    }
   ],
   "source": [
    "# Устанавка уровня значимости\n",
    "alpha = .05\n",
    "# Применение метод для сравнения средних\n",
    "result = st.shapiro(balance_0)\n",
    "# Вывод p-value\n",
    "print(result.pvalue)\n",
    "# Вывод по гипотезе\n",
    "if result.pvalue < alpha:\n",
    "    print(\"Отвергаем нулевую гипотезу: распределение не нормально\")\n",
    "else:\n",
    "    print(\"Не отвергаем нулевую гипотезу: распределение нормально\") \n",
    "    \n",
    "print()\n",
    "\n",
    "result = st.shapiro(balance_1)\n",
    "# Вывод p-value\n",
    "print(result.pvalue)\n",
    "# Вывод по гипотезе\n",
    "if result.pvalue < alpha:\n",
    "    print(\"Отвергаем нулевую гипотезу: распределение не нормально\")\n",
    "else:\n",
    "    print(\"Не отвергаем нулевую гипотезу: распределение нормально\") "
   ]
  },
  {
   "cell_type": "code",
   "execution_count": 30,
   "metadata": {},
   "outputs": [
    {
     "name": "stdout",
     "output_type": "stream",
     "text": [
      "1.0646013848258917e-08\n",
      "Отвергаем нулевую гипотезу: разница статистически значима\n"
     ]
    }
   ],
   "source": [
    "# Устанавка уровня значимости\n",
    "alpha = .05\n",
    "# Применение метод для сравнения средних\n",
    "results = st.mannwhitneyu(balance_0, balance_1)\n",
    "# Вывод p-value\n",
    "print(result.pvalue)\n",
    "# Вывод по гипотезе\n",
    "if result.pvalue < alpha:\n",
    "    print(\"Отвергаем нулевую гипотезу: разница статистически значима\")\n",
    "else:\n",
    "    print(\"Не получилось отвергнуть нулевую гипотезу, вывод о различии сделать нельзя\") "
   ]
  },
  {
   "cell_type": "markdown",
   "metadata": {},
   "source": [
    "Гипотезу удалось отвергнуть, значит баланс клиентов отличается"
   ]
  },
  {
   "cell_type": "markdown",
   "metadata": {},
   "source": [
    "## Часть. Выводы\n",
    "### Общий вывод по работе"
   ]
  },
  {
   "cell_type": "markdown",
   "metadata": {},
   "source": [
    "По графикам можно сказать следующее:\n",
    "1) Основная масса клиентов ушедших из банка это средняя и пожилая возрастные группы<br>\n",
    "2) Ушедшие клиенты менее активно пользовались банковскими продуктами, в отличии от оставшихся<br>\n",
    "3) Стоит обратить внимание на Росток Великий, т.к. отток клиентов в этом городе довольно высокий<br>\n",
    "4) Обе гипотезы удалось опровергнуть, значит отток клиентов связан с их доходами или остатками на балансе<br>\n",
    "\n",
    "По распределениям можно сказать следующее:\n",
    "1) Клиенты с более плохим кредитным рейтингом уходят чаще<br>\n",
    "2) Клиенты средней и пожилой группы уходят чаще<br>\n",
    "3) В основном уходят клиенты, у которые относятся к средней балансной группе<br>\n",
    "4) В Ярославле и Рыбинске больший отток клиентов, относящихся к низкой или высокой балансной группе, в Ростове Великом наоборот, больший отток средней балансной группы<br>\n",
    "5) В Ростове Великом больший отток клиентов, чей доход ниже ~100 тыс., в Рыбинске чей доход больше ~100 тыс., в Ярославле чей доход выше ~150 тыс.<br>\n",
    "\n",
    "На основе этого можно предположить, что молодые клиенты более активно пользуются банковскими продуктами, в отличии от старших клиентов. Возможно они больше заинтересованы в продуктах, предлагаемых банком, например, кредит, кредитная карта или вклад (здесь стоит вопрос с какой целью они решили воспользоваться услугами банка и какой услугой) или же от использования того или иного продукта они получат больше дополнительной выгоды (\"плюшек\"), в то время как старшим клиентам эти услуги могут не подходить, им непонятны условия использования или же нет \"плюшек\" от услуг банка. Также стоит обратить внимание, что в Ростове Великом довольно большой отток клиентов из средней и пожилой группы.\n",
    "\n",
    "Возможно, для снижения оттока, стоит адаптировать некоторые продукты для клиентов средней и пожилой возрастных групп или же создать отдельные продукты ориентированные на эти группы, тоже стоит провести и для балансных групп."
   ]
  }
 ],
 "metadata": {
  "ExecuteTimeLog": [
   {
    "duration": 58,
    "start_time": "2022-06-05T18:29:37.086Z"
   },
   {
    "duration": 1292,
    "start_time": "2022-06-05T18:29:39.667Z"
   },
   {
    "duration": 90,
    "start_time": "2022-06-05T18:29:40.961Z"
   },
   {
    "duration": 79,
    "start_time": "2022-06-05T18:30:13.813Z"
   },
   {
    "duration": 64,
    "start_time": "2022-06-05T18:30:29.459Z"
   },
   {
    "duration": 1100,
    "start_time": "2022-06-05T18:30:34.881Z"
   },
   {
    "duration": 41,
    "start_time": "2022-06-05T18:30:35.983Z"
   },
   {
    "duration": 108,
    "start_time": "2022-06-05T18:30:36.026Z"
   },
   {
    "duration": 4,
    "start_time": "2022-06-05T19:59:22.447Z"
   },
   {
    "duration": 4,
    "start_time": "2022-06-05T19:59:29.802Z"
   },
   {
    "duration": 6,
    "start_time": "2022-06-05T20:37:23.601Z"
   },
   {
    "duration": 5,
    "start_time": "2022-06-05T20:37:49.855Z"
   },
   {
    "duration": 7,
    "start_time": "2022-06-05T20:41:18.632Z"
   },
   {
    "duration": 52,
    "start_time": "2022-06-05T22:05:25.200Z"
   },
   {
    "duration": 1339,
    "start_time": "2022-06-05T22:05:30.933Z"
   },
   {
    "duration": 73,
    "start_time": "2022-06-05T22:05:32.274Z"
   },
   {
    "duration": 73,
    "start_time": "2022-06-05T22:05:32.349Z"
   },
   {
    "duration": 6,
    "start_time": "2022-06-05T22:05:32.424Z"
   },
   {
    "duration": 17,
    "start_time": "2022-06-05T22:05:32.433Z"
   },
   {
    "duration": 112,
    "start_time": "2022-06-05T22:06:01.783Z"
   },
   {
    "duration": 12,
    "start_time": "2022-06-05T22:06:09.648Z"
   },
   {
    "duration": 1156,
    "start_time": "2022-06-05T22:06:23.377Z"
   },
   {
    "duration": 38,
    "start_time": "2022-06-05T22:06:24.534Z"
   },
   {
    "duration": 68,
    "start_time": "2022-06-05T22:06:24.574Z"
   },
   {
    "duration": 6,
    "start_time": "2022-06-05T22:06:24.644Z"
   },
   {
    "duration": 119,
    "start_time": "2022-06-05T22:06:24.651Z"
   },
   {
    "duration": 7,
    "start_time": "2022-06-05T22:06:35.761Z"
   },
   {
    "duration": 10,
    "start_time": "2022-06-05T22:06:44.192Z"
   },
   {
    "duration": 11,
    "start_time": "2022-06-05T22:08:16.333Z"
   },
   {
    "duration": 13,
    "start_time": "2022-06-05T22:08:19.071Z"
   },
   {
    "duration": 10,
    "start_time": "2022-06-05T22:08:56.055Z"
   },
   {
    "duration": 10,
    "start_time": "2022-06-05T22:08:57.146Z"
   },
   {
    "duration": 10,
    "start_time": "2022-06-05T22:09:15.198Z"
   },
   {
    "duration": 10,
    "start_time": "2022-06-05T22:09:50.318Z"
   },
   {
    "duration": 335,
    "start_time": "2022-06-05T22:15:15.670Z"
   },
   {
    "duration": 1118,
    "start_time": "2022-06-05T22:17:18.118Z"
   },
   {
    "duration": 38,
    "start_time": "2022-06-05T22:17:19.238Z"
   },
   {
    "duration": 74,
    "start_time": "2022-06-05T22:17:19.277Z"
   },
   {
    "duration": 6,
    "start_time": "2022-06-05T22:17:19.353Z"
   },
   {
    "duration": 35,
    "start_time": "2022-06-05T22:17:19.360Z"
   },
   {
    "duration": 10,
    "start_time": "2022-06-05T22:17:19.397Z"
   },
   {
    "duration": 17,
    "start_time": "2022-06-05T22:17:19.409Z"
   },
   {
    "duration": 16,
    "start_time": "2022-06-05T22:18:19.317Z"
   },
   {
    "duration": 11,
    "start_time": "2022-06-05T22:18:33.954Z"
   },
   {
    "duration": 16,
    "start_time": "2022-06-05T22:21:30.805Z"
   },
   {
    "duration": 11,
    "start_time": "2022-06-05T22:21:59.915Z"
   },
   {
    "duration": 10,
    "start_time": "2022-06-05T22:29:06.934Z"
   },
   {
    "duration": 12,
    "start_time": "2022-06-05T22:29:18.734Z"
   },
   {
    "duration": 5,
    "start_time": "2022-06-05T22:29:34.880Z"
   },
   {
    "duration": 8,
    "start_time": "2022-06-05T22:36:48.047Z"
   },
   {
    "duration": 31,
    "start_time": "2022-06-05T22:37:12.578Z"
   },
   {
    "duration": 104,
    "start_time": "2022-06-05T22:37:15.896Z"
   },
   {
    "duration": 12,
    "start_time": "2022-06-05T22:37:22.034Z"
   },
   {
    "duration": 10,
    "start_time": "2022-06-05T22:37:33.105Z"
   },
   {
    "duration": 10,
    "start_time": "2022-06-05T22:37:43.058Z"
   },
   {
    "duration": 1135,
    "start_time": "2022-06-05T22:37:58.894Z"
   },
   {
    "duration": 39,
    "start_time": "2022-06-05T22:38:00.031Z"
   },
   {
    "duration": 67,
    "start_time": "2022-06-05T22:38:00.071Z"
   },
   {
    "duration": 6,
    "start_time": "2022-06-05T22:38:00.140Z"
   },
   {
    "duration": 16,
    "start_time": "2022-06-05T22:38:00.147Z"
   },
   {
    "duration": 11,
    "start_time": "2022-06-05T22:38:00.164Z"
   },
   {
    "duration": 5,
    "start_time": "2022-06-05T22:46:29.733Z"
   },
   {
    "duration": 1129,
    "start_time": "2022-06-05T22:47:17.833Z"
   },
   {
    "duration": 43,
    "start_time": "2022-06-05T22:47:18.965Z"
   },
   {
    "duration": 86,
    "start_time": "2022-06-05T22:47:19.012Z"
   },
   {
    "duration": 6,
    "start_time": "2022-06-05T22:47:19.100Z"
   },
   {
    "duration": 10,
    "start_time": "2022-06-05T22:47:19.107Z"
   },
   {
    "duration": 5,
    "start_time": "2022-06-05T22:47:19.119Z"
   },
   {
    "duration": 1542,
    "start_time": "2022-06-06T08:51:07.082Z"
   },
   {
    "duration": 93,
    "start_time": "2022-06-06T08:51:08.626Z"
   },
   {
    "duration": 110,
    "start_time": "2022-06-06T08:51:08.721Z"
   },
   {
    "duration": 8,
    "start_time": "2022-06-06T08:51:08.834Z"
   },
   {
    "duration": 15,
    "start_time": "2022-06-06T08:51:08.844Z"
   },
   {
    "duration": 5,
    "start_time": "2022-06-06T08:51:08.861Z"
   },
   {
    "duration": 8,
    "start_time": "2022-06-06T09:23:56.026Z"
   },
   {
    "duration": 10,
    "start_time": "2022-06-06T09:53:46.927Z"
   },
   {
    "duration": 1184,
    "start_time": "2022-06-06T09:53:56.299Z"
   },
   {
    "duration": 39,
    "start_time": "2022-06-06T09:53:57.484Z"
   },
   {
    "duration": 76,
    "start_time": "2022-06-06T09:53:57.524Z"
   },
   {
    "duration": 7,
    "start_time": "2022-06-06T09:53:57.626Z"
   },
   {
    "duration": 14,
    "start_time": "2022-06-06T09:53:57.635Z"
   },
   {
    "duration": 5,
    "start_time": "2022-06-06T09:53:57.650Z"
   },
   {
    "duration": 10,
    "start_time": "2022-06-06T09:53:57.657Z"
   },
   {
    "duration": 15,
    "start_time": "2022-06-06T09:53:57.668Z"
   },
   {
    "duration": 13,
    "start_time": "2022-06-06T09:54:16.019Z"
   },
   {
    "duration": 6,
    "start_time": "2022-06-06T10:06:37.192Z"
   },
   {
    "duration": 7,
    "start_time": "2022-06-06T10:06:46.307Z"
   },
   {
    "duration": 6,
    "start_time": "2022-06-06T10:06:50.762Z"
   },
   {
    "duration": 5,
    "start_time": "2022-06-06T10:06:54.012Z"
   },
   {
    "duration": 1177,
    "start_time": "2022-06-06T10:09:08.993Z"
   },
   {
    "duration": 37,
    "start_time": "2022-06-06T10:09:10.172Z"
   },
   {
    "duration": 75,
    "start_time": "2022-06-06T10:09:10.211Z"
   },
   {
    "duration": 6,
    "start_time": "2022-06-06T10:09:10.288Z"
   },
   {
    "duration": 49,
    "start_time": "2022-06-06T10:09:10.296Z"
   },
   {
    "duration": 9,
    "start_time": "2022-06-06T10:09:10.350Z"
   },
   {
    "duration": 9,
    "start_time": "2022-06-06T10:09:10.362Z"
   },
   {
    "duration": 21,
    "start_time": "2022-06-06T10:09:10.373Z"
   },
   {
    "duration": 50,
    "start_time": "2022-06-06T10:09:10.396Z"
   },
   {
    "duration": 38,
    "start_time": "2022-06-06T10:13:14.257Z"
   },
   {
    "duration": 21,
    "start_time": "2022-06-06T10:13:27.314Z"
   },
   {
    "duration": 19,
    "start_time": "2022-06-06T10:13:54.312Z"
   },
   {
    "duration": 19,
    "start_time": "2022-06-06T10:18:46.113Z"
   },
   {
    "duration": 16,
    "start_time": "2022-06-06T10:18:49.675Z"
   },
   {
    "duration": 6,
    "start_time": "2022-06-06T10:25:37.583Z"
   },
   {
    "duration": 39,
    "start_time": "2022-06-06T10:48:00.426Z"
   },
   {
    "duration": 4,
    "start_time": "2022-06-06T10:48:23.602Z"
   },
   {
    "duration": 1184,
    "start_time": "2022-06-06T10:48:29.094Z"
   },
   {
    "duration": 38,
    "start_time": "2022-06-06T10:48:30.280Z"
   },
   {
    "duration": 68,
    "start_time": "2022-06-06T10:48:30.320Z"
   },
   {
    "duration": 5,
    "start_time": "2022-06-06T10:48:30.390Z"
   },
   {
    "duration": 33,
    "start_time": "2022-06-06T10:48:30.397Z"
   },
   {
    "duration": 5,
    "start_time": "2022-06-06T10:48:30.432Z"
   },
   {
    "duration": 28,
    "start_time": "2022-06-06T10:48:30.439Z"
   },
   {
    "duration": 31,
    "start_time": "2022-06-06T10:48:30.469Z"
   },
   {
    "duration": 31,
    "start_time": "2022-06-06T10:48:30.502Z"
   },
   {
    "duration": 59,
    "start_time": "2022-06-06T10:48:30.536Z"
   },
   {
    "duration": 13,
    "start_time": "2022-06-06T10:48:30.597Z"
   },
   {
    "duration": 4895,
    "start_time": "2022-06-06T10:50:40.939Z"
   },
   {
    "duration": 1275,
    "start_time": "2022-06-06T10:52:27.228Z"
   },
   {
    "duration": 48,
    "start_time": "2022-06-06T10:52:28.506Z"
   },
   {
    "duration": 109,
    "start_time": "2022-06-06T10:52:28.555Z"
   },
   {
    "duration": 8,
    "start_time": "2022-06-06T10:52:28.667Z"
   },
   {
    "duration": 15,
    "start_time": "2022-06-06T10:52:28.678Z"
   },
   {
    "duration": 33,
    "start_time": "2022-06-06T10:52:28.695Z"
   },
   {
    "duration": 7,
    "start_time": "2022-06-06T10:52:28.730Z"
   },
   {
    "duration": 14,
    "start_time": "2022-06-06T10:52:28.739Z"
   },
   {
    "duration": 21,
    "start_time": "2022-06-06T10:52:28.755Z"
   },
   {
    "duration": 22,
    "start_time": "2022-06-06T10:52:28.779Z"
   },
   {
    "duration": 5767,
    "start_time": "2022-06-06T10:52:28.828Z"
   },
   {
    "duration": 1255,
    "start_time": "2022-06-06T10:53:55.407Z"
   },
   {
    "duration": 38,
    "start_time": "2022-06-06T10:53:56.664Z"
   },
   {
    "duration": 74,
    "start_time": "2022-06-06T10:53:56.703Z"
   },
   {
    "duration": 6,
    "start_time": "2022-06-06T10:53:56.780Z"
   },
   {
    "duration": 15,
    "start_time": "2022-06-06T10:53:56.787Z"
   },
   {
    "duration": 15,
    "start_time": "2022-06-06T10:53:56.830Z"
   },
   {
    "duration": 8,
    "start_time": "2022-06-06T10:53:56.850Z"
   },
   {
    "duration": 11,
    "start_time": "2022-06-06T10:53:56.860Z"
   },
   {
    "duration": 37,
    "start_time": "2022-06-06T10:53:56.872Z"
   },
   {
    "duration": 32,
    "start_time": "2022-06-06T10:53:56.911Z"
   },
   {
    "duration": 5104,
    "start_time": "2022-06-06T10:53:56.945Z"
   },
   {
    "duration": 1197,
    "start_time": "2022-06-06T10:55:01.279Z"
   },
   {
    "duration": 38,
    "start_time": "2022-06-06T10:55:02.478Z"
   },
   {
    "duration": 78,
    "start_time": "2022-06-06T10:55:02.518Z"
   },
   {
    "duration": 30,
    "start_time": "2022-06-06T10:55:02.598Z"
   },
   {
    "duration": 21,
    "start_time": "2022-06-06T10:55:02.642Z"
   },
   {
    "duration": 20,
    "start_time": "2022-06-06T10:55:02.666Z"
   },
   {
    "duration": 19,
    "start_time": "2022-06-06T10:55:02.688Z"
   },
   {
    "duration": 36,
    "start_time": "2022-06-06T10:55:02.709Z"
   },
   {
    "duration": 46,
    "start_time": "2022-06-06T10:55:02.746Z"
   },
   {
    "duration": 21,
    "start_time": "2022-06-06T10:55:02.794Z"
   },
   {
    "duration": 4886,
    "start_time": "2022-06-06T10:55:02.817Z"
   },
   {
    "duration": 4442,
    "start_time": "2022-06-06T10:56:48.375Z"
   },
   {
    "duration": 4512,
    "start_time": "2022-06-06T10:56:57.800Z"
   },
   {
    "duration": 4148,
    "start_time": "2022-06-06T10:57:30.099Z"
   },
   {
    "duration": 4199,
    "start_time": "2022-06-06T10:58:18.589Z"
   },
   {
    "duration": 1440,
    "start_time": "2022-06-06T11:00:28.315Z"
   },
   {
    "duration": 43,
    "start_time": "2022-06-06T11:00:29.758Z"
   },
   {
    "duration": 87,
    "start_time": "2022-06-06T11:00:29.803Z"
   },
   {
    "duration": 7,
    "start_time": "2022-06-06T11:00:29.892Z"
   },
   {
    "duration": 35,
    "start_time": "2022-06-06T11:00:29.901Z"
   },
   {
    "duration": 6,
    "start_time": "2022-06-06T11:00:29.938Z"
   },
   {
    "duration": 14,
    "start_time": "2022-06-06T11:00:29.946Z"
   },
   {
    "duration": 14,
    "start_time": "2022-06-06T11:00:29.962Z"
   },
   {
    "duration": 26,
    "start_time": "2022-06-06T11:00:29.978Z"
   },
   {
    "duration": 27,
    "start_time": "2022-06-06T11:00:30.008Z"
   },
   {
    "duration": 5485,
    "start_time": "2022-06-06T11:00:30.037Z"
   },
   {
    "duration": 3,
    "start_time": "2022-06-06T11:03:42.147Z"
   },
   {
    "duration": 48,
    "start_time": "2022-06-06T11:03:42.153Z"
   },
   {
    "duration": 161,
    "start_time": "2022-06-06T11:03:42.203Z"
   },
   {
    "duration": 6,
    "start_time": "2022-06-06T11:03:42.366Z"
   },
   {
    "duration": 10,
    "start_time": "2022-06-06T11:03:42.374Z"
   },
   {
    "duration": 9,
    "start_time": "2022-06-06T11:03:42.386Z"
   },
   {
    "duration": 32,
    "start_time": "2022-06-06T11:03:42.397Z"
   },
   {
    "duration": 15,
    "start_time": "2022-06-06T11:03:42.430Z"
   },
   {
    "duration": 17,
    "start_time": "2022-06-06T11:03:46.480Z"
   },
   {
    "duration": 8,
    "start_time": "2022-06-06T11:06:34.064Z"
   },
   {
    "duration": 13,
    "start_time": "2022-06-06T11:06:34.242Z"
   },
   {
    "duration": 9,
    "start_time": "2022-06-06T11:06:40.642Z"
   },
   {
    "duration": 1084,
    "start_time": "2022-06-06T11:06:46.979Z"
   },
   {
    "duration": 38,
    "start_time": "2022-06-06T11:06:48.065Z"
   },
   {
    "duration": 71,
    "start_time": "2022-06-06T11:06:48.105Z"
   },
   {
    "duration": 7,
    "start_time": "2022-06-06T11:06:48.178Z"
   },
   {
    "duration": 13,
    "start_time": "2022-06-06T11:06:48.186Z"
   },
   {
    "duration": 28,
    "start_time": "2022-06-06T11:06:48.200Z"
   },
   {
    "duration": 6,
    "start_time": "2022-06-06T11:06:48.230Z"
   },
   {
    "duration": 24,
    "start_time": "2022-06-06T11:06:48.238Z"
   },
   {
    "duration": 19,
    "start_time": "2022-06-06T11:06:48.264Z"
   },
   {
    "duration": 17,
    "start_time": "2022-06-06T11:06:48.285Z"
   },
   {
    "duration": 4831,
    "start_time": "2022-06-06T11:06:48.304Z"
   },
   {
    "duration": 3760,
    "start_time": "2022-06-06T11:09:37.055Z"
   },
   {
    "duration": 1067,
    "start_time": "2022-06-06T11:09:45.560Z"
   },
   {
    "duration": 37,
    "start_time": "2022-06-06T11:09:46.629Z"
   },
   {
    "duration": 64,
    "start_time": "2022-06-06T11:09:46.667Z"
   },
   {
    "duration": 5,
    "start_time": "2022-06-06T11:09:46.733Z"
   },
   {
    "duration": 22,
    "start_time": "2022-06-06T11:09:46.740Z"
   },
   {
    "duration": 8,
    "start_time": "2022-06-06T11:09:46.763Z"
   },
   {
    "duration": 10,
    "start_time": "2022-06-06T11:09:46.772Z"
   },
   {
    "duration": 11,
    "start_time": "2022-06-06T11:09:46.783Z"
   },
   {
    "duration": 17,
    "start_time": "2022-06-06T11:09:46.795Z"
   },
   {
    "duration": 18,
    "start_time": "2022-06-06T11:09:46.815Z"
   },
   {
    "duration": 3895,
    "start_time": "2022-06-06T11:09:46.834Z"
   },
   {
    "duration": 1151,
    "start_time": "2022-06-06T11:44:59.450Z"
   },
   {
    "duration": 40,
    "start_time": "2022-06-06T11:45:00.604Z"
   },
   {
    "duration": 86,
    "start_time": "2022-06-06T11:45:00.646Z"
   },
   {
    "duration": 8,
    "start_time": "2022-06-06T11:45:00.735Z"
   },
   {
    "duration": 58,
    "start_time": "2022-06-06T11:45:00.745Z"
   },
   {
    "duration": 24,
    "start_time": "2022-06-06T11:45:00.804Z"
   },
   {
    "duration": 58,
    "start_time": "2022-06-06T11:45:00.830Z"
   },
   {
    "duration": 20,
    "start_time": "2022-06-06T11:45:00.890Z"
   },
   {
    "duration": 44,
    "start_time": "2022-06-06T11:45:00.912Z"
   },
   {
    "duration": 25,
    "start_time": "2022-06-06T11:45:00.959Z"
   },
   {
    "duration": 4460,
    "start_time": "2022-06-06T11:45:00.986Z"
   },
   {
    "duration": 6268,
    "start_time": "2022-06-06T11:45:05.448Z"
   },
   {
    "duration": 253,
    "start_time": "2022-06-06T11:56:00.519Z"
   },
   {
    "duration": 5419,
    "start_time": "2022-06-06T11:56:16.549Z"
   },
   {
    "duration": 162,
    "start_time": "2022-06-06T12:01:53.226Z"
   },
   {
    "duration": 7210,
    "start_time": "2022-06-06T12:04:20.147Z"
   },
   {
    "duration": 4322,
    "start_time": "2022-06-06T12:05:55.486Z"
   },
   {
    "duration": 7984,
    "start_time": "2022-06-06T12:08:02.108Z"
   },
   {
    "duration": 13,
    "start_time": "2022-06-06T12:19:24.356Z"
   },
   {
    "duration": 8766,
    "start_time": "2022-06-06T12:21:44.485Z"
   },
   {
    "duration": 154,
    "start_time": "2022-06-06T12:22:48.229Z"
   },
   {
    "duration": 1154,
    "start_time": "2022-06-06T12:22:58.222Z"
   },
   {
    "duration": 42,
    "start_time": "2022-06-06T12:22:59.378Z"
   },
   {
    "duration": 77,
    "start_time": "2022-06-06T12:22:59.422Z"
   },
   {
    "duration": 30,
    "start_time": "2022-06-06T12:22:59.502Z"
   },
   {
    "duration": 18,
    "start_time": "2022-06-06T12:22:59.533Z"
   },
   {
    "duration": 25,
    "start_time": "2022-06-06T12:22:59.554Z"
   },
   {
    "duration": 40,
    "start_time": "2022-06-06T12:22:59.580Z"
   },
   {
    "duration": 22,
    "start_time": "2022-06-06T12:22:59.622Z"
   },
   {
    "duration": 39,
    "start_time": "2022-06-06T12:22:59.646Z"
   },
   {
    "duration": 25,
    "start_time": "2022-06-06T12:22:59.687Z"
   },
   {
    "duration": 241,
    "start_time": "2022-06-06T12:22:59.714Z"
   },
   {
    "duration": 0,
    "start_time": "2022-06-06T12:22:59.956Z"
   },
   {
    "duration": 20,
    "start_time": "2022-06-06T12:24:08.902Z"
   },
   {
    "duration": 3,
    "start_time": "2022-06-06T12:24:30.503Z"
   },
   {
    "duration": 73,
    "start_time": "2022-06-06T12:24:30.510Z"
   },
   {
    "duration": 150,
    "start_time": "2022-06-06T12:24:30.585Z"
   },
   {
    "duration": 6,
    "start_time": "2022-06-06T12:24:30.736Z"
   },
   {
    "duration": 37,
    "start_time": "2022-06-06T12:24:30.744Z"
   },
   {
    "duration": 10,
    "start_time": "2022-06-06T12:24:30.783Z"
   },
   {
    "duration": 14,
    "start_time": "2022-06-06T12:24:30.795Z"
   },
   {
    "duration": 17,
    "start_time": "2022-06-06T12:24:30.811Z"
   },
   {
    "duration": 30,
    "start_time": "2022-06-06T12:24:30.830Z"
   },
   {
    "duration": 21,
    "start_time": "2022-06-06T12:24:30.862Z"
   },
   {
    "duration": 12,
    "start_time": "2022-06-06T12:24:42.230Z"
   },
   {
    "duration": 1237,
    "start_time": "2022-06-06T12:24:48.650Z"
   },
   {
    "duration": 39,
    "start_time": "2022-06-06T12:24:49.889Z"
   },
   {
    "duration": 78,
    "start_time": "2022-06-06T12:24:49.930Z"
   },
   {
    "duration": 6,
    "start_time": "2022-06-06T12:24:50.027Z"
   },
   {
    "duration": 25,
    "start_time": "2022-06-06T12:24:50.035Z"
   },
   {
    "duration": 17,
    "start_time": "2022-06-06T12:24:50.062Z"
   },
   {
    "duration": 13,
    "start_time": "2022-06-06T12:24:50.081Z"
   },
   {
    "duration": 33,
    "start_time": "2022-06-06T12:24:50.095Z"
   },
   {
    "duration": 34,
    "start_time": "2022-06-06T12:24:50.131Z"
   },
   {
    "duration": 23,
    "start_time": "2022-06-06T12:24:50.167Z"
   },
   {
    "duration": 123,
    "start_time": "2022-06-06T12:24:50.192Z"
   },
   {
    "duration": 0,
    "start_time": "2022-06-06T12:24:50.316Z"
   },
   {
    "duration": 0,
    "start_time": "2022-06-06T12:24:50.317Z"
   },
   {
    "duration": 1191,
    "start_time": "2022-06-06T12:25:02.964Z"
   },
   {
    "duration": 39,
    "start_time": "2022-06-06T12:25:04.157Z"
   },
   {
    "duration": 69,
    "start_time": "2022-06-06T12:25:04.198Z"
   },
   {
    "duration": 6,
    "start_time": "2022-06-06T12:25:04.269Z"
   },
   {
    "duration": 13,
    "start_time": "2022-06-06T12:25:04.277Z"
   },
   {
    "duration": 5,
    "start_time": "2022-06-06T12:25:04.292Z"
   },
   {
    "duration": 29,
    "start_time": "2022-06-06T12:25:04.299Z"
   },
   {
    "duration": 12,
    "start_time": "2022-06-06T12:25:04.330Z"
   },
   {
    "duration": 23,
    "start_time": "2022-06-06T12:25:04.344Z"
   },
   {
    "duration": 17,
    "start_time": "2022-06-06T12:25:04.369Z"
   },
   {
    "duration": 3716,
    "start_time": "2022-06-06T12:25:04.388Z"
   },
   {
    "duration": 249,
    "start_time": "2022-06-06T12:25:08.106Z"
   },
   {
    "duration": 0,
    "start_time": "2022-06-06T12:25:08.357Z"
   },
   {
    "duration": 1304,
    "start_time": "2022-06-06T20:49:53.523Z"
   },
   {
    "duration": 79,
    "start_time": "2022-06-06T20:49:54.829Z"
   },
   {
    "duration": 76,
    "start_time": "2022-06-06T20:49:54.910Z"
   },
   {
    "duration": 6,
    "start_time": "2022-06-06T20:49:54.988Z"
   },
   {
    "duration": 15,
    "start_time": "2022-06-06T20:49:54.995Z"
   },
   {
    "duration": 9,
    "start_time": "2022-06-06T20:49:55.012Z"
   },
   {
    "duration": 9,
    "start_time": "2022-06-06T20:49:55.023Z"
   },
   {
    "duration": 18,
    "start_time": "2022-06-06T20:49:55.034Z"
   },
   {
    "duration": 30,
    "start_time": "2022-06-06T20:49:55.053Z"
   },
   {
    "duration": 4495,
    "start_time": "2022-06-06T20:49:55.085Z"
   },
   {
    "duration": 1105,
    "start_time": "2022-06-06T20:49:59.582Z"
   },
   {
    "duration": 6123,
    "start_time": "2022-06-06T21:56:02.488Z"
   },
   {
    "duration": 6964,
    "start_time": "2022-06-06T21:56:36.085Z"
   },
   {
    "duration": 7524,
    "start_time": "2022-06-06T21:56:52.249Z"
   },
   {
    "duration": 9076,
    "start_time": "2022-06-06T21:57:02.860Z"
   },
   {
    "duration": 116,
    "start_time": "2022-06-06T22:17:05.733Z"
   },
   {
    "duration": 7,
    "start_time": "2022-06-06T22:23:36.017Z"
   },
   {
    "duration": 13,
    "start_time": "2022-06-06T22:24:29.807Z"
   },
   {
    "duration": 13,
    "start_time": "2022-06-06T22:24:48.656Z"
   },
   {
    "duration": 11,
    "start_time": "2022-06-06T22:25:14.135Z"
   },
   {
    "duration": 6,
    "start_time": "2022-06-06T22:40:16.701Z"
   },
   {
    "duration": 14,
    "start_time": "2022-06-06T22:40:27.217Z"
   },
   {
    "duration": 12,
    "start_time": "2022-06-06T22:40:31.306Z"
   },
   {
    "duration": 14,
    "start_time": "2022-06-06T22:40:47.038Z"
   },
   {
    "duration": 15,
    "start_time": "2022-06-06T22:42:12.633Z"
   },
   {
    "duration": 30,
    "start_time": "2022-06-06T22:42:52.963Z"
   },
   {
    "duration": 18,
    "start_time": "2022-06-06T22:43:17.135Z"
   },
   {
    "duration": 29,
    "start_time": "2022-06-06T22:43:28.330Z"
   },
   {
    "duration": 252,
    "start_time": "2022-06-06T22:43:36.475Z"
   },
   {
    "duration": 410,
    "start_time": "2022-06-06T22:44:11.357Z"
   },
   {
    "duration": 142,
    "start_time": "2022-06-06T22:45:03.211Z"
   },
   {
    "duration": 30,
    "start_time": "2022-06-06T22:45:47.059Z"
   },
   {
    "duration": 284,
    "start_time": "2022-06-06T22:45:51.400Z"
   },
   {
    "duration": 1529,
    "start_time": "2022-06-07T11:12:54.539Z"
   },
   {
    "duration": 84,
    "start_time": "2022-06-07T11:12:56.071Z"
   },
   {
    "duration": 75,
    "start_time": "2022-06-07T11:12:56.156Z"
   },
   {
    "duration": 6,
    "start_time": "2022-06-07T11:12:56.233Z"
   },
   {
    "duration": 9,
    "start_time": "2022-06-07T11:12:56.240Z"
   },
   {
    "duration": 8,
    "start_time": "2022-06-07T11:12:56.250Z"
   },
   {
    "duration": 11,
    "start_time": "2022-06-07T11:12:56.259Z"
   },
   {
    "duration": 16,
    "start_time": "2022-06-07T11:12:56.271Z"
   },
   {
    "duration": 49,
    "start_time": "2022-06-07T11:12:56.289Z"
   },
   {
    "duration": 4419,
    "start_time": "2022-06-07T11:12:56.342Z"
   },
   {
    "duration": 8903,
    "start_time": "2022-06-07T11:13:00.762Z"
   },
   {
    "duration": 17,
    "start_time": "2022-06-07T11:13:09.666Z"
   },
   {
    "duration": 12,
    "start_time": "2022-06-07T11:13:09.685Z"
   },
   {
    "duration": 1258,
    "start_time": "2022-06-07T11:13:09.701Z"
   },
   {
    "duration": 131,
    "start_time": "2022-06-07T11:13:10.961Z"
   },
   {
    "duration": 0,
    "start_time": "2022-06-07T11:13:11.094Z"
   },
   {
    "duration": 1303,
    "start_time": "2022-06-07T11:13:20.950Z"
   },
   {
    "duration": 40,
    "start_time": "2022-06-07T11:13:22.256Z"
   },
   {
    "duration": 93,
    "start_time": "2022-06-07T11:13:22.298Z"
   },
   {
    "duration": 7,
    "start_time": "2022-06-07T11:13:22.394Z"
   },
   {
    "duration": 6,
    "start_time": "2022-06-07T11:13:22.423Z"
   },
   {
    "duration": 12,
    "start_time": "2022-06-07T11:13:22.431Z"
   },
   {
    "duration": 23,
    "start_time": "2022-06-07T11:13:22.445Z"
   },
   {
    "duration": 20,
    "start_time": "2022-06-07T11:13:22.470Z"
   },
   {
    "duration": 34,
    "start_time": "2022-06-07T11:13:22.492Z"
   },
   {
    "duration": 4688,
    "start_time": "2022-06-07T11:13:22.536Z"
   },
   {
    "duration": 9044,
    "start_time": "2022-06-07T11:13:27.226Z"
   },
   {
    "duration": 13,
    "start_time": "2022-06-07T11:13:36.271Z"
   },
   {
    "duration": 24,
    "start_time": "2022-06-07T11:13:36.286Z"
   },
   {
    "duration": 1139,
    "start_time": "2022-06-07T11:13:36.312Z"
   },
   {
    "duration": 212,
    "start_time": "2022-06-07T11:13:37.454Z"
   },
   {
    "duration": 0,
    "start_time": "2022-06-07T11:13:37.669Z"
   },
   {
    "duration": 429,
    "start_time": "2022-06-07T11:53:28.839Z"
   },
   {
    "duration": 10,
    "start_time": "2022-06-07T11:53:35.871Z"
   },
   {
    "duration": 16,
    "start_time": "2022-06-07T11:54:00.425Z"
   },
   {
    "duration": 15,
    "start_time": "2022-06-07T11:54:30.236Z"
   },
   {
    "duration": 16,
    "start_time": "2022-06-07T11:55:15.973Z"
   },
   {
    "duration": 43,
    "start_time": "2022-06-07T11:55:22.939Z"
   },
   {
    "duration": 23,
    "start_time": "2022-06-07T11:55:31.718Z"
   },
   {
    "duration": 25,
    "start_time": "2022-06-07T11:56:19.637Z"
   },
   {
    "duration": 19,
    "start_time": "2022-06-07T11:56:27.949Z"
   },
   {
    "duration": 40,
    "start_time": "2022-06-07T11:56:40.907Z"
   },
   {
    "duration": 32,
    "start_time": "2022-06-07T11:56:51.498Z"
   },
   {
    "duration": 23,
    "start_time": "2022-06-07T11:57:45.483Z"
   },
   {
    "duration": 32,
    "start_time": "2022-06-07T11:58:16.201Z"
   },
   {
    "duration": 20,
    "start_time": "2022-06-07T11:58:22.740Z"
   },
   {
    "duration": 20,
    "start_time": "2022-06-07T11:58:34.598Z"
   },
   {
    "duration": 20,
    "start_time": "2022-06-07T11:58:37.692Z"
   },
   {
    "duration": 544,
    "start_time": "2022-06-07T12:00:33.963Z"
   },
   {
    "duration": 32,
    "start_time": "2022-06-07T12:04:41.197Z"
   },
   {
    "duration": 33,
    "start_time": "2022-06-07T12:05:27.467Z"
   },
   {
    "duration": 35,
    "start_time": "2022-06-07T12:06:15.808Z"
   },
   {
    "duration": 35,
    "start_time": "2022-06-07T12:06:52.000Z"
   },
   {
    "duration": 31,
    "start_time": "2022-06-07T12:07:25.012Z"
   },
   {
    "duration": 39,
    "start_time": "2022-06-07T12:07:34.776Z"
   },
   {
    "duration": 38,
    "start_time": "2022-06-07T12:07:47.656Z"
   },
   {
    "duration": 25,
    "start_time": "2022-06-07T12:08:10.463Z"
   },
   {
    "duration": 27,
    "start_time": "2022-06-07T12:08:20.571Z"
   },
   {
    "duration": 50,
    "start_time": "2022-06-07T12:08:41.895Z"
   },
   {
    "duration": 49,
    "start_time": "2022-06-07T12:16:04.315Z"
   },
   {
    "duration": 45,
    "start_time": "2022-06-07T12:16:10.731Z"
   },
   {
    "duration": 39,
    "start_time": "2022-06-07T12:16:47.616Z"
   },
   {
    "duration": 36,
    "start_time": "2022-06-07T12:16:51.781Z"
   },
   {
    "duration": 43,
    "start_time": "2022-06-07T12:18:56.718Z"
   },
   {
    "duration": 39,
    "start_time": "2022-06-07T12:19:29.702Z"
   },
   {
    "duration": 32,
    "start_time": "2022-06-07T12:19:34.476Z"
   },
   {
    "duration": 35,
    "start_time": "2022-06-07T12:20:30.848Z"
   },
   {
    "duration": 43,
    "start_time": "2022-06-07T12:20:39.958Z"
   },
   {
    "duration": 44,
    "start_time": "2022-06-07T12:20:44.560Z"
   },
   {
    "duration": 49,
    "start_time": "2022-06-07T12:21:02.747Z"
   },
   {
    "duration": 33,
    "start_time": "2022-06-07T12:21:13.283Z"
   },
   {
    "duration": 36,
    "start_time": "2022-06-07T12:28:13.212Z"
   },
   {
    "duration": 43,
    "start_time": "2022-06-07T12:28:26.879Z"
   },
   {
    "duration": 46,
    "start_time": "2022-06-07T12:28:43.158Z"
   },
   {
    "duration": 55,
    "start_time": "2022-06-07T12:29:32.661Z"
   },
   {
    "duration": 21,
    "start_time": "2022-06-07T12:39:21.816Z"
   },
   {
    "duration": 4,
    "start_time": "2022-06-07T12:39:28.371Z"
   },
   {
    "duration": 60,
    "start_time": "2022-06-07T12:39:28.377Z"
   },
   {
    "duration": 113,
    "start_time": "2022-06-07T12:39:28.445Z"
   },
   {
    "duration": 8,
    "start_time": "2022-06-07T12:39:28.560Z"
   },
   {
    "duration": 12,
    "start_time": "2022-06-07T12:39:28.571Z"
   },
   {
    "duration": 9,
    "start_time": "2022-06-07T12:39:28.585Z"
   },
   {
    "duration": 12,
    "start_time": "2022-06-07T12:39:28.596Z"
   },
   {
    "duration": 34,
    "start_time": "2022-06-07T12:39:28.625Z"
   },
   {
    "duration": 16,
    "start_time": "2022-06-07T12:39:28.660Z"
   },
   {
    "duration": 4906,
    "start_time": "2022-06-07T12:39:28.678Z"
   },
   {
    "duration": 9829,
    "start_time": "2022-06-07T12:39:33.588Z"
   },
   {
    "duration": 42,
    "start_time": "2022-06-07T12:39:43.423Z"
   },
   {
    "duration": 74,
    "start_time": "2022-06-07T12:39:43.467Z"
   },
   {
    "duration": 1040,
    "start_time": "2022-06-07T12:39:43.542Z"
   },
   {
    "duration": 12,
    "start_time": "2022-06-07T12:41:17.955Z"
   },
   {
    "duration": 9,
    "start_time": "2022-06-07T12:41:43.079Z"
   },
   {
    "duration": 6,
    "start_time": "2022-06-07T12:41:54.854Z"
   },
   {
    "duration": 48,
    "start_time": "2022-06-07T12:41:54.863Z"
   },
   {
    "duration": 105,
    "start_time": "2022-06-07T12:41:54.913Z"
   },
   {
    "duration": 10,
    "start_time": "2022-06-07T12:41:55.023Z"
   },
   {
    "duration": 38,
    "start_time": "2022-06-07T12:41:55.035Z"
   },
   {
    "duration": 15,
    "start_time": "2022-06-07T12:41:55.076Z"
   },
   {
    "duration": 19,
    "start_time": "2022-06-07T12:41:55.094Z"
   },
   {
    "duration": 52,
    "start_time": "2022-06-07T12:41:55.116Z"
   },
   {
    "duration": 29,
    "start_time": "2022-06-07T12:41:55.171Z"
   },
   {
    "duration": 6140,
    "start_time": "2022-06-07T12:41:55.203Z"
   },
   {
    "duration": 11847,
    "start_time": "2022-06-07T12:42:01.345Z"
   },
   {
    "duration": 57,
    "start_time": "2022-06-07T12:42:13.195Z"
   },
   {
    "duration": 123,
    "start_time": "2022-06-07T12:42:13.258Z"
   },
   {
    "duration": 1236,
    "start_time": "2022-06-07T12:42:13.386Z"
   },
   {
    "duration": 12,
    "start_time": "2022-06-07T12:42:17.291Z"
   },
   {
    "duration": 4,
    "start_time": "2022-06-07T12:42:35.291Z"
   },
   {
    "duration": 56,
    "start_time": "2022-06-07T12:42:35.309Z"
   },
   {
    "duration": 104,
    "start_time": "2022-06-07T12:42:35.368Z"
   },
   {
    "duration": 6,
    "start_time": "2022-06-07T12:42:35.474Z"
   },
   {
    "duration": 9,
    "start_time": "2022-06-07T12:42:35.482Z"
   },
   {
    "duration": 30,
    "start_time": "2022-06-07T12:42:35.493Z"
   },
   {
    "duration": 36,
    "start_time": "2022-06-07T12:42:35.526Z"
   },
   {
    "duration": 24,
    "start_time": "2022-06-07T12:42:35.565Z"
   },
   {
    "duration": 22,
    "start_time": "2022-06-07T12:42:35.591Z"
   },
   {
    "duration": 5634,
    "start_time": "2022-06-07T12:42:35.615Z"
   },
   {
    "duration": 10085,
    "start_time": "2022-06-07T12:42:41.254Z"
   },
   {
    "duration": 40,
    "start_time": "2022-06-07T12:42:51.341Z"
   },
   {
    "duration": 76,
    "start_time": "2022-06-07T12:42:51.383Z"
   },
   {
    "duration": 977,
    "start_time": "2022-06-07T12:42:51.460Z"
   },
   {
    "duration": 8,
    "start_time": "2022-06-07T12:42:56.913Z"
   },
   {
    "duration": 22,
    "start_time": "2022-06-07T12:43:36.306Z"
   },
   {
    "duration": 32,
    "start_time": "2022-06-07T12:43:55.542Z"
   },
   {
    "duration": 7,
    "start_time": "2022-06-07T12:44:03.629Z"
   },
   {
    "duration": 56,
    "start_time": "2022-06-07T12:44:03.638Z"
   },
   {
    "duration": 79,
    "start_time": "2022-06-07T12:44:03.696Z"
   },
   {
    "duration": 7,
    "start_time": "2022-06-07T12:44:03.777Z"
   },
   {
    "duration": 6,
    "start_time": "2022-06-07T12:44:03.787Z"
   },
   {
    "duration": 39,
    "start_time": "2022-06-07T12:44:03.795Z"
   },
   {
    "duration": 28,
    "start_time": "2022-06-07T12:44:03.836Z"
   },
   {
    "duration": 22,
    "start_time": "2022-06-07T12:44:03.866Z"
   },
   {
    "duration": 18,
    "start_time": "2022-06-07T12:44:03.890Z"
   },
   {
    "duration": 4740,
    "start_time": "2022-06-07T12:44:03.911Z"
   },
   {
    "duration": 9020,
    "start_time": "2022-06-07T12:44:08.654Z"
   },
   {
    "duration": 61,
    "start_time": "2022-06-07T12:44:17.676Z"
   },
   {
    "duration": 54,
    "start_time": "2022-06-07T12:44:17.739Z"
   },
   {
    "duration": 1241,
    "start_time": "2022-06-07T12:44:17.795Z"
   },
   {
    "duration": 59,
    "start_time": "2022-06-07T12:44:42.638Z"
   },
   {
    "duration": 1409,
    "start_time": "2022-06-07T12:45:56.558Z"
   },
   {
    "duration": 43,
    "start_time": "2022-06-07T12:45:57.973Z"
   },
   {
    "duration": 110,
    "start_time": "2022-06-07T12:45:58.018Z"
   },
   {
    "duration": 10,
    "start_time": "2022-06-07T12:45:58.140Z"
   },
   {
    "duration": 9,
    "start_time": "2022-06-07T12:45:58.151Z"
   },
   {
    "duration": 9,
    "start_time": "2022-06-07T12:45:58.162Z"
   },
   {
    "duration": 17,
    "start_time": "2022-06-07T12:45:58.172Z"
   },
   {
    "duration": 20,
    "start_time": "2022-06-07T12:45:58.191Z"
   },
   {
    "duration": 27,
    "start_time": "2022-06-07T12:45:58.230Z"
   },
   {
    "duration": 5205,
    "start_time": "2022-06-07T12:45:58.260Z"
   },
   {
    "duration": 9601,
    "start_time": "2022-06-07T12:46:03.467Z"
   },
   {
    "duration": 65,
    "start_time": "2022-06-07T12:46:13.071Z"
   },
   {
    "duration": 60,
    "start_time": "2022-06-07T12:46:13.142Z"
   },
   {
    "duration": 1032,
    "start_time": "2022-06-07T12:46:13.203Z"
   },
   {
    "duration": 40,
    "start_time": "2022-06-07T12:46:14.236Z"
   },
   {
    "duration": 3,
    "start_time": "2022-06-07T12:46:14.278Z"
   },
   {
    "duration": 8,
    "start_time": "2022-06-07T12:46:14.283Z"
   },
   {
    "duration": 20,
    "start_time": "2022-06-07T12:53:16.521Z"
   },
   {
    "duration": 12,
    "start_time": "2022-06-07T12:53:46.988Z"
   },
   {
    "duration": 5,
    "start_time": "2022-06-07T12:56:26.777Z"
   },
   {
    "duration": 67,
    "start_time": "2022-06-07T12:56:26.785Z"
   },
   {
    "duration": 94,
    "start_time": "2022-06-07T12:56:26.856Z"
   },
   {
    "duration": 7,
    "start_time": "2022-06-07T12:56:26.952Z"
   },
   {
    "duration": 6,
    "start_time": "2022-06-07T12:56:26.962Z"
   },
   {
    "duration": 12,
    "start_time": "2022-06-07T12:56:26.970Z"
   },
   {
    "duration": 12,
    "start_time": "2022-06-07T12:56:26.984Z"
   },
   {
    "duration": 42,
    "start_time": "2022-06-07T12:56:26.998Z"
   },
   {
    "duration": 20,
    "start_time": "2022-06-07T12:56:27.046Z"
   },
   {
    "duration": 4782,
    "start_time": "2022-06-07T12:56:27.067Z"
   },
   {
    "duration": 10647,
    "start_time": "2022-06-07T12:56:31.852Z"
   },
   {
    "duration": 79,
    "start_time": "2022-06-07T12:56:42.501Z"
   },
   {
    "duration": 68,
    "start_time": "2022-06-07T12:56:42.584Z"
   },
   {
    "duration": 1077,
    "start_time": "2022-06-07T12:56:42.654Z"
   },
   {
    "duration": 20,
    "start_time": "2022-06-07T12:56:43.739Z"
   },
   {
    "duration": 18,
    "start_time": "2022-06-07T12:56:43.762Z"
   },
   {
    "duration": 703,
    "start_time": "2022-06-07T12:56:43.782Z"
   },
   {
    "duration": 4,
    "start_time": "2022-06-07T12:59:18.294Z"
   },
   {
    "duration": 58,
    "start_time": "2022-06-07T12:59:18.301Z"
   },
   {
    "duration": 97,
    "start_time": "2022-06-07T12:59:18.361Z"
   },
   {
    "duration": 8,
    "start_time": "2022-06-07T12:59:18.460Z"
   },
   {
    "duration": 15,
    "start_time": "2022-06-07T12:59:18.471Z"
   },
   {
    "duration": 18,
    "start_time": "2022-06-07T12:59:18.489Z"
   },
   {
    "duration": 12,
    "start_time": "2022-06-07T12:59:18.524Z"
   },
   {
    "duration": 31,
    "start_time": "2022-06-07T12:59:18.538Z"
   },
   {
    "duration": 19,
    "start_time": "2022-06-07T12:59:18.572Z"
   },
   {
    "duration": 5698,
    "start_time": "2022-06-07T12:59:18.593Z"
   },
   {
    "duration": 9410,
    "start_time": "2022-06-07T12:59:24.293Z"
   },
   {
    "duration": 53,
    "start_time": "2022-06-07T12:59:33.705Z"
   },
   {
    "duration": 98,
    "start_time": "2022-06-07T12:59:33.760Z"
   },
   {
    "duration": 1079,
    "start_time": "2022-06-07T12:59:33.862Z"
   },
   {
    "duration": 23,
    "start_time": "2022-06-07T12:59:34.945Z"
   },
   {
    "duration": 14,
    "start_time": "2022-06-07T12:59:34.970Z"
   },
   {
    "duration": 388220,
    "start_time": "2022-06-07T12:59:34.986Z"
   },
   {
    "duration": 1991,
    "start_time": "2022-06-07T13:14:42.444Z"
   },
   {
    "duration": 16,
    "start_time": "2022-06-07T13:14:49.751Z"
   },
   {
    "duration": 15,
    "start_time": "2022-06-07T13:14:54.803Z"
   },
   {
    "duration": 12,
    "start_time": "2022-06-07T13:15:27.979Z"
   },
   {
    "duration": 30,
    "start_time": "2022-06-07T13:18:51.181Z"
   },
   {
    "duration": 26,
    "start_time": "2022-06-07T13:20:39.232Z"
   },
   {
    "duration": 1361,
    "start_time": "2022-06-07T13:20:56.809Z"
   },
   {
    "duration": 40,
    "start_time": "2022-06-07T13:20:58.172Z"
   },
   {
    "duration": 80,
    "start_time": "2022-06-07T13:20:58.214Z"
   },
   {
    "duration": 28,
    "start_time": "2022-06-07T13:20:58.296Z"
   },
   {
    "duration": 17,
    "start_time": "2022-06-07T13:20:58.329Z"
   },
   {
    "duration": 8,
    "start_time": "2022-06-07T13:20:58.350Z"
   },
   {
    "duration": 13,
    "start_time": "2022-06-07T13:20:58.360Z"
   },
   {
    "duration": 15,
    "start_time": "2022-06-07T13:20:58.375Z"
   },
   {
    "duration": 16,
    "start_time": "2022-06-07T13:20:58.391Z"
   },
   {
    "duration": 4987,
    "start_time": "2022-06-07T13:20:58.410Z"
   },
   {
    "duration": 9480,
    "start_time": "2022-06-07T13:21:03.398Z"
   },
   {
    "duration": 64,
    "start_time": "2022-06-07T13:21:12.882Z"
   },
   {
    "duration": 47,
    "start_time": "2022-06-07T13:21:12.948Z"
   },
   {
    "duration": 1090,
    "start_time": "2022-06-07T13:21:12.997Z"
   },
   {
    "duration": 24,
    "start_time": "2022-06-07T13:21:14.089Z"
   },
   {
    "duration": 145,
    "start_time": "2022-06-07T13:21:14.115Z"
   },
   {
    "duration": 0,
    "start_time": "2022-06-07T13:21:14.261Z"
   },
   {
    "duration": 0,
    "start_time": "2022-06-07T13:21:14.263Z"
   },
   {
    "duration": 0,
    "start_time": "2022-06-07T13:21:14.264Z"
   },
   {
    "duration": 0,
    "start_time": "2022-06-07T13:21:14.265Z"
   },
   {
    "duration": 0,
    "start_time": "2022-06-07T13:21:14.266Z"
   },
   {
    "duration": 30,
    "start_time": "2022-06-07T13:26:19.084Z"
   },
   {
    "duration": 18,
    "start_time": "2022-06-07T13:26:36.351Z"
   },
   {
    "duration": 10,
    "start_time": "2022-06-07T13:26:53.903Z"
   },
   {
    "duration": 197372,
    "start_time": "2022-06-07T13:27:06.048Z"
   },
   {
    "duration": 1273,
    "start_time": "2022-06-07T13:38:20.451Z"
   },
   {
    "duration": 101,
    "start_time": "2022-06-07T13:38:21.727Z"
   },
   {
    "duration": 15,
    "start_time": "2022-06-07T13:38:30.453Z"
   },
   {
    "duration": 14,
    "start_time": "2022-06-07T13:38:31.640Z"
   },
   {
    "duration": 25,
    "start_time": "2022-06-07T13:56:10.917Z"
   },
   {
    "duration": 4,
    "start_time": "2022-06-07T13:56:14.245Z"
   },
   {
    "duration": 37,
    "start_time": "2022-06-07T13:56:14.270Z"
   },
   {
    "duration": 74,
    "start_time": "2022-06-07T13:56:14.309Z"
   },
   {
    "duration": 6,
    "start_time": "2022-06-07T13:56:14.384Z"
   },
   {
    "duration": 41,
    "start_time": "2022-06-07T13:56:14.392Z"
   },
   {
    "duration": 10,
    "start_time": "2022-06-07T13:56:14.440Z"
   },
   {
    "duration": 9,
    "start_time": "2022-06-07T13:56:14.452Z"
   },
   {
    "duration": 20,
    "start_time": "2022-06-07T13:56:14.463Z"
   },
   {
    "duration": 20,
    "start_time": "2022-06-07T13:56:14.485Z"
   },
   {
    "duration": 4335,
    "start_time": "2022-06-07T13:56:14.507Z"
   },
   {
    "duration": 9240,
    "start_time": "2022-06-07T13:56:18.844Z"
   },
   {
    "duration": 54,
    "start_time": "2022-06-07T13:56:28.086Z"
   },
   {
    "duration": 42,
    "start_time": "2022-06-07T13:56:28.143Z"
   },
   {
    "duration": 1184,
    "start_time": "2022-06-07T13:56:28.187Z"
   },
   {
    "duration": 29,
    "start_time": "2022-06-07T13:57:56.036Z"
   },
   {
    "duration": 26,
    "start_time": "2022-06-07T13:58:16.738Z"
   },
   {
    "duration": 5,
    "start_time": "2022-06-07T13:58:23.298Z"
   },
   {
    "duration": 67,
    "start_time": "2022-06-07T13:58:23.306Z"
   },
   {
    "duration": 111,
    "start_time": "2022-06-07T13:58:23.376Z"
   },
   {
    "duration": 7,
    "start_time": "2022-06-07T13:58:23.490Z"
   },
   {
    "duration": 29,
    "start_time": "2022-06-07T13:58:23.499Z"
   },
   {
    "duration": 34,
    "start_time": "2022-06-07T13:58:23.530Z"
   },
   {
    "duration": 25,
    "start_time": "2022-06-07T13:58:23.566Z"
   },
   {
    "duration": 27,
    "start_time": "2022-06-07T13:58:23.594Z"
   },
   {
    "duration": 51,
    "start_time": "2022-06-07T13:58:23.628Z"
   },
   {
    "duration": 4821,
    "start_time": "2022-06-07T13:58:23.681Z"
   },
   {
    "duration": 9299,
    "start_time": "2022-06-07T13:58:28.504Z"
   },
   {
    "duration": 60,
    "start_time": "2022-06-07T13:58:37.806Z"
   },
   {
    "duration": 87,
    "start_time": "2022-06-07T13:58:37.868Z"
   },
   {
    "duration": 1059,
    "start_time": "2022-06-07T13:58:37.958Z"
   },
   {
    "duration": 29,
    "start_time": "2022-06-07T14:01:21.722Z"
   },
   {
    "duration": 12,
    "start_time": "2022-06-07T14:01:35.621Z"
   },
   {
    "duration": 352163,
    "start_time": "2022-06-07T14:01:38.821Z"
   },
   {
    "duration": 1060,
    "start_time": "2022-06-07T14:07:46.594Z"
   },
   {
    "duration": 103,
    "start_time": "2022-06-07T14:07:47.727Z"
   },
   {
    "duration": 17,
    "start_time": "2022-06-07T14:07:50.036Z"
   },
   {
    "duration": 69,
    "start_time": "2022-06-07T18:44:26.738Z"
   },
   {
    "duration": 1450,
    "start_time": "2022-06-07T18:45:18.333Z"
   },
   {
    "duration": 368,
    "start_time": "2022-06-07T18:45:19.785Z"
   },
   {
    "duration": 71,
    "start_time": "2022-06-07T18:45:20.155Z"
   },
   {
    "duration": 17,
    "start_time": "2022-06-07T18:45:20.228Z"
   },
   {
    "duration": 12,
    "start_time": "2022-06-07T18:45:20.247Z"
   },
   {
    "duration": 9,
    "start_time": "2022-06-07T18:45:20.260Z"
   },
   {
    "duration": 16,
    "start_time": "2022-06-07T18:45:20.270Z"
   },
   {
    "duration": 14,
    "start_time": "2022-06-07T18:45:20.287Z"
   },
   {
    "duration": 14,
    "start_time": "2022-06-07T18:45:20.302Z"
   },
   {
    "duration": 4163,
    "start_time": "2022-06-07T18:45:20.318Z"
   },
   {
    "duration": 7849,
    "start_time": "2022-06-07T18:45:24.483Z"
   },
   {
    "duration": 37,
    "start_time": "2022-06-07T18:45:32.334Z"
   },
   {
    "duration": 73,
    "start_time": "2022-06-07T18:45:32.372Z"
   },
   {
    "duration": 1024,
    "start_time": "2022-06-07T18:45:32.446Z"
   },
   {
    "duration": 17,
    "start_time": "2022-06-07T18:45:33.472Z"
   },
   {
    "duration": 8,
    "start_time": "2022-06-07T18:45:33.490Z"
   },
   {
    "duration": 276199,
    "start_time": "2022-06-07T18:45:33.500Z"
   },
   {
    "duration": 1342,
    "start_time": "2022-06-07T18:50:09.700Z"
   },
   {
    "duration": 105,
    "start_time": "2022-06-07T18:50:11.044Z"
   },
   {
    "duration": 10,
    "start_time": "2022-06-07T18:50:11.151Z"
   },
   {
    "duration": 15,
    "start_time": "2022-06-07T18:50:11.162Z"
   },
   {
    "duration": 5,
    "start_time": "2022-06-07T18:50:11.178Z"
   },
   {
    "duration": 5,
    "start_time": "2022-06-07T18:56:52.087Z"
   },
   {
    "duration": 6,
    "start_time": "2022-06-07T18:56:57.767Z"
   },
   {
    "duration": 608,
    "start_time": "2022-06-07T18:57:48.487Z"
   },
   {
    "duration": 16,
    "start_time": "2022-06-07T18:58:26.117Z"
   },
   {
    "duration": 4,
    "start_time": "2022-06-07T18:59:07.161Z"
   },
   {
    "duration": 38,
    "start_time": "2022-06-07T18:59:07.167Z"
   },
   {
    "duration": 65,
    "start_time": "2022-06-07T18:59:07.206Z"
   },
   {
    "duration": 5,
    "start_time": "2022-06-07T18:59:07.273Z"
   },
   {
    "duration": 7,
    "start_time": "2022-06-07T18:59:07.280Z"
   },
   {
    "duration": 6,
    "start_time": "2022-06-07T18:59:07.288Z"
   },
   {
    "duration": 10,
    "start_time": "2022-06-07T18:59:07.296Z"
   },
   {
    "duration": 35,
    "start_time": "2022-06-07T18:59:07.308Z"
   },
   {
    "duration": 17,
    "start_time": "2022-06-07T18:59:07.345Z"
   },
   {
    "duration": 4363,
    "start_time": "2022-06-07T18:59:07.364Z"
   },
   {
    "duration": 8113,
    "start_time": "2022-06-07T18:59:11.730Z"
   },
   {
    "duration": 32,
    "start_time": "2022-06-07T18:59:19.844Z"
   },
   {
    "duration": 73,
    "start_time": "2022-06-07T18:59:19.877Z"
   },
   {
    "duration": 891,
    "start_time": "2022-06-07T18:59:19.952Z"
   },
   {
    "duration": 17,
    "start_time": "2022-06-07T19:01:58.720Z"
   },
   {
    "duration": 18,
    "start_time": "2022-06-07T19:02:07.611Z"
   },
   {
    "duration": 13,
    "start_time": "2022-06-07T19:02:22.713Z"
   },
   {
    "duration": 4,
    "start_time": "2022-06-07T19:03:02.776Z"
   },
   {
    "duration": 40,
    "start_time": "2022-06-07T19:03:02.782Z"
   },
   {
    "duration": 64,
    "start_time": "2022-06-07T19:03:02.824Z"
   },
   {
    "duration": 7,
    "start_time": "2022-06-07T19:03:02.889Z"
   },
   {
    "duration": 8,
    "start_time": "2022-06-07T19:03:02.898Z"
   },
   {
    "duration": 38,
    "start_time": "2022-06-07T19:03:02.907Z"
   },
   {
    "duration": 9,
    "start_time": "2022-06-07T19:03:02.946Z"
   },
   {
    "duration": 14,
    "start_time": "2022-06-07T19:03:02.957Z"
   },
   {
    "duration": 14,
    "start_time": "2022-06-07T19:03:02.973Z"
   },
   {
    "duration": 4230,
    "start_time": "2022-06-07T19:03:02.989Z"
   },
   {
    "duration": 8079,
    "start_time": "2022-06-07T19:03:07.222Z"
   },
   {
    "duration": 43,
    "start_time": "2022-06-07T19:03:15.304Z"
   },
   {
    "duration": 45,
    "start_time": "2022-06-07T19:03:15.349Z"
   },
   {
    "duration": 1037,
    "start_time": "2022-06-07T19:03:15.395Z"
   },
   {
    "duration": 19,
    "start_time": "2022-06-07T19:03:49.154Z"
   },
   {
    "duration": 24,
    "start_time": "2022-06-07T19:04:37.601Z"
   },
   {
    "duration": 5,
    "start_time": "2022-06-07T19:06:00.044Z"
   },
   {
    "duration": 68,
    "start_time": "2022-06-07T19:06:00.053Z"
   },
   {
    "duration": 66,
    "start_time": "2022-06-07T19:06:00.123Z"
   },
   {
    "duration": 6,
    "start_time": "2022-06-07T19:06:00.191Z"
   },
   {
    "duration": 10,
    "start_time": "2022-06-07T19:06:00.199Z"
   },
   {
    "duration": 13,
    "start_time": "2022-06-07T19:06:00.210Z"
   },
   {
    "duration": 13,
    "start_time": "2022-06-07T19:06:00.252Z"
   },
   {
    "duration": 21,
    "start_time": "2022-06-07T19:06:00.268Z"
   },
   {
    "duration": 28,
    "start_time": "2022-06-07T19:06:00.291Z"
   },
   {
    "duration": 4226,
    "start_time": "2022-06-07T19:06:00.321Z"
   },
   {
    "duration": 8389,
    "start_time": "2022-06-07T19:06:04.549Z"
   },
   {
    "duration": 35,
    "start_time": "2022-06-07T19:06:12.940Z"
   },
   {
    "duration": 76,
    "start_time": "2022-06-07T19:06:12.977Z"
   },
   {
    "duration": 948,
    "start_time": "2022-06-07T19:06:13.055Z"
   },
   {
    "duration": 20,
    "start_time": "2022-06-07T19:06:14.004Z"
   },
   {
    "duration": 22,
    "start_time": "2022-06-07T19:06:26.691Z"
   },
   {
    "duration": 18,
    "start_time": "2022-06-07T19:06:30.580Z"
   },
   {
    "duration": 21,
    "start_time": "2022-06-07T19:06:38.684Z"
   },
   {
    "duration": 9,
    "start_time": "2022-06-07T19:07:00.430Z"
   },
   {
    "duration": 1255,
    "start_time": "2022-06-07T19:07:35.897Z"
   },
   {
    "duration": 39,
    "start_time": "2022-06-07T19:07:37.154Z"
   },
   {
    "duration": 69,
    "start_time": "2022-06-07T19:07:37.195Z"
   },
   {
    "duration": 6,
    "start_time": "2022-06-07T19:07:37.266Z"
   },
   {
    "duration": 6,
    "start_time": "2022-06-07T19:07:37.273Z"
   },
   {
    "duration": 8,
    "start_time": "2022-06-07T19:07:37.281Z"
   },
   {
    "duration": 22,
    "start_time": "2022-06-07T19:07:37.291Z"
   },
   {
    "duration": 16,
    "start_time": "2022-06-07T19:07:37.315Z"
   },
   {
    "duration": 16,
    "start_time": "2022-06-07T19:07:37.342Z"
   },
   {
    "duration": 4256,
    "start_time": "2022-06-07T19:07:37.360Z"
   },
   {
    "duration": 8326,
    "start_time": "2022-06-07T19:07:41.618Z"
   },
   {
    "duration": 36,
    "start_time": "2022-06-07T19:07:49.946Z"
   },
   {
    "duration": 87,
    "start_time": "2022-06-07T19:07:49.984Z"
   },
   {
    "duration": 1104,
    "start_time": "2022-06-07T19:07:50.073Z"
   },
   {
    "duration": 26,
    "start_time": "2022-06-07T19:07:51.180Z"
   },
   {
    "duration": 18,
    "start_time": "2022-06-07T19:07:51.208Z"
   },
   {
    "duration": 10,
    "start_time": "2022-06-07T19:07:51.228Z"
   },
   {
    "duration": 297561,
    "start_time": "2022-06-07T19:07:51.241Z"
   },
   {
    "duration": 943,
    "start_time": "2022-06-07T19:12:48.803Z"
   },
   {
    "duration": 101,
    "start_time": "2022-06-07T19:12:49.748Z"
   },
   {
    "duration": 12,
    "start_time": "2022-06-07T19:12:49.851Z"
   },
   {
    "duration": 10,
    "start_time": "2022-06-07T19:12:49.865Z"
   },
   {
    "duration": 5,
    "start_time": "2022-06-07T19:12:49.876Z"
   },
   {
    "duration": 11,
    "start_time": "2022-06-07T19:12:49.882Z"
   },
   {
    "duration": 5,
    "start_time": "2022-06-07T19:12:49.895Z"
   },
   {
    "duration": 9,
    "start_time": "2022-06-07T19:25:00.575Z"
   },
   {
    "duration": 24,
    "start_time": "2022-06-07T19:25:17.551Z"
   },
   {
    "duration": 6,
    "start_time": "2022-06-07T19:25:39.213Z"
   },
   {
    "duration": 33,
    "start_time": "2022-06-07T19:28:34.879Z"
   },
   {
    "duration": 1521,
    "start_time": "2022-06-08T11:17:42.378Z"
   },
   {
    "duration": 74,
    "start_time": "2022-06-08T11:17:43.901Z"
   },
   {
    "duration": 83,
    "start_time": "2022-06-08T11:17:43.977Z"
   },
   {
    "duration": 6,
    "start_time": "2022-06-08T11:17:44.063Z"
   },
   {
    "duration": 11,
    "start_time": "2022-06-08T11:17:44.070Z"
   },
   {
    "duration": 15,
    "start_time": "2022-06-08T11:17:44.083Z"
   },
   {
    "duration": 13,
    "start_time": "2022-06-08T11:17:44.100Z"
   },
   {
    "duration": 25,
    "start_time": "2022-06-08T11:17:44.115Z"
   },
   {
    "duration": 24,
    "start_time": "2022-06-08T11:17:44.142Z"
   },
   {
    "duration": 4145,
    "start_time": "2022-06-08T11:17:44.169Z"
   },
   {
    "duration": 8035,
    "start_time": "2022-06-08T11:17:48.315Z"
   },
   {
    "duration": 31,
    "start_time": "2022-06-08T11:17:56.352Z"
   },
   {
    "duration": 38,
    "start_time": "2022-06-08T11:17:56.384Z"
   },
   {
    "duration": 932,
    "start_time": "2022-06-08T11:17:56.452Z"
   },
   {
    "duration": 18,
    "start_time": "2022-06-08T11:17:57.386Z"
   },
   {
    "duration": 16,
    "start_time": "2022-06-08T11:17:57.406Z"
   },
   {
    "duration": 7,
    "start_time": "2022-06-08T11:17:57.424Z"
   },
   {
    "duration": 285688,
    "start_time": "2022-06-08T11:17:57.433Z"
   },
   {
    "duration": 1038,
    "start_time": "2022-06-08T11:22:43.123Z"
   },
   {
    "duration": 16,
    "start_time": "2022-06-08T11:22:44.252Z"
   },
   {
    "duration": 11,
    "start_time": "2022-06-08T11:22:44.270Z"
   },
   {
    "duration": 10,
    "start_time": "2022-06-08T11:22:44.283Z"
   },
   {
    "duration": 5,
    "start_time": "2022-06-08T11:22:44.294Z"
   },
   {
    "duration": 9,
    "start_time": "2022-06-08T11:22:44.301Z"
   },
   {
    "duration": 5,
    "start_time": "2022-06-08T11:22:44.312Z"
   },
   {
    "duration": 30,
    "start_time": "2022-06-08T12:30:58.695Z"
   },
   {
    "duration": 1531,
    "start_time": "2022-06-09T07:06:03.730Z"
   },
   {
    "duration": 83,
    "start_time": "2022-06-09T07:06:05.264Z"
   },
   {
    "duration": 70,
    "start_time": "2022-06-09T07:06:05.349Z"
   },
   {
    "duration": 10,
    "start_time": "2022-06-09T07:06:05.420Z"
   },
   {
    "duration": 17,
    "start_time": "2022-06-09T07:06:05.431Z"
   },
   {
    "duration": 9,
    "start_time": "2022-06-09T07:06:05.450Z"
   },
   {
    "duration": 18,
    "start_time": "2022-06-09T07:06:05.460Z"
   },
   {
    "duration": 18,
    "start_time": "2022-06-09T07:06:05.480Z"
   },
   {
    "duration": 17,
    "start_time": "2022-06-09T07:06:05.499Z"
   },
   {
    "duration": 4000,
    "start_time": "2022-06-09T07:06:05.517Z"
   },
   {
    "duration": 7452,
    "start_time": "2022-06-09T07:06:09.519Z"
   },
   {
    "duration": 31,
    "start_time": "2022-06-09T07:06:16.972Z"
   },
   {
    "duration": 62,
    "start_time": "2022-06-09T07:06:17.004Z"
   },
   {
    "duration": 1004,
    "start_time": "2022-06-09T07:06:17.069Z"
   },
   {
    "duration": 20,
    "start_time": "2022-06-09T07:06:18.074Z"
   },
   {
    "duration": 25,
    "start_time": "2022-06-09T07:06:18.096Z"
   },
   {
    "duration": 8,
    "start_time": "2022-06-09T07:06:18.122Z"
   },
   {
    "duration": 274941,
    "start_time": "2022-06-09T07:06:18.131Z"
   },
   {
    "duration": 1659,
    "start_time": "2022-06-09T07:10:53.073Z"
   },
   {
    "duration": 97,
    "start_time": "2022-06-09T07:10:54.734Z"
   },
   {
    "duration": 9,
    "start_time": "2022-06-09T07:10:54.833Z"
   },
   {
    "duration": 11,
    "start_time": "2022-06-09T07:10:54.844Z"
   },
   {
    "duration": 13,
    "start_time": "2022-06-09T07:10:54.857Z"
   },
   {
    "duration": 10,
    "start_time": "2022-06-09T07:10:54.871Z"
   },
   {
    "duration": 11,
    "start_time": "2022-06-09T07:10:54.882Z"
   },
   {
    "duration": 52,
    "start_time": "2022-06-09T10:08:24.265Z"
   },
   {
    "duration": 1448,
    "start_time": "2022-06-09T10:08:27.865Z"
   },
   {
    "duration": 138,
    "start_time": "2022-06-09T10:08:29.315Z"
   },
   {
    "duration": 73,
    "start_time": "2022-06-09T10:08:29.455Z"
   },
   {
    "duration": 5,
    "start_time": "2022-06-09T10:08:29.530Z"
   },
   {
    "duration": 11,
    "start_time": "2022-06-09T10:08:31.964Z"
   },
   {
    "duration": 67,
    "start_time": "2022-06-09T10:08:50.812Z"
   },
   {
    "duration": 17,
    "start_time": "2022-06-09T10:08:55.892Z"
   },
   {
    "duration": 9,
    "start_time": "2022-06-09T10:09:02.257Z"
   },
   {
    "duration": 8,
    "start_time": "2022-06-09T10:09:31.179Z"
   },
   {
    "duration": 3,
    "start_time": "2022-06-09T10:13:25.182Z"
   },
   {
    "duration": 51,
    "start_time": "2022-06-09T10:13:25.189Z"
   },
   {
    "duration": 84,
    "start_time": "2022-06-09T10:13:25.243Z"
   },
   {
    "duration": 6,
    "start_time": "2022-06-09T10:13:25.329Z"
   },
   {
    "duration": 19,
    "start_time": "2022-06-09T10:13:25.337Z"
   },
   {
    "duration": 4,
    "start_time": "2022-06-09T10:13:25.358Z"
   },
   {
    "duration": 18,
    "start_time": "2022-06-09T10:13:25.364Z"
   },
   {
    "duration": 32,
    "start_time": "2022-06-09T10:13:25.384Z"
   },
   {
    "duration": 24,
    "start_time": "2022-06-09T10:13:25.418Z"
   },
   {
    "duration": 30,
    "start_time": "2022-06-09T10:13:25.444Z"
   },
   {
    "duration": 4304,
    "start_time": "2022-06-09T10:13:25.477Z"
   },
   {
    "duration": 3,
    "start_time": "2022-06-09T10:25:30.387Z"
   },
   {
    "duration": 6,
    "start_time": "2022-06-09T10:30:46.317Z"
   },
   {
    "duration": 9,
    "start_time": "2022-06-09T10:30:54.540Z"
   },
   {
    "duration": 7,
    "start_time": "2022-06-09T10:31:05.052Z"
   },
   {
    "duration": 9,
    "start_time": "2022-06-09T10:31:19.470Z"
   },
   {
    "duration": 8,
    "start_time": "2022-06-09T10:32:02.111Z"
   },
   {
    "duration": 8,
    "start_time": "2022-06-09T10:32:12.463Z"
   },
   {
    "duration": 9,
    "start_time": "2022-06-09T10:32:25.421Z"
   },
   {
    "duration": 17,
    "start_time": "2022-06-09T10:49:47.466Z"
   },
   {
    "duration": 4,
    "start_time": "2022-06-09T10:49:57.442Z"
   },
   {
    "duration": 41,
    "start_time": "2022-06-09T10:49:57.449Z"
   },
   {
    "duration": 79,
    "start_time": "2022-06-09T10:49:57.492Z"
   },
   {
    "duration": 28,
    "start_time": "2022-06-09T10:49:57.573Z"
   },
   {
    "duration": 19,
    "start_time": "2022-06-09T10:49:57.603Z"
   },
   {
    "duration": 12,
    "start_time": "2022-06-09T10:49:57.625Z"
   },
   {
    "duration": 17,
    "start_time": "2022-06-09T10:49:57.638Z"
   },
   {
    "duration": 19,
    "start_time": "2022-06-09T10:49:57.657Z"
   },
   {
    "duration": 13,
    "start_time": "2022-06-09T10:49:57.678Z"
   },
   {
    "duration": 21,
    "start_time": "2022-06-09T10:49:57.694Z"
   },
   {
    "duration": 15,
    "start_time": "2022-06-09T10:50:02.918Z"
   },
   {
    "duration": 18,
    "start_time": "2022-06-09T10:50:30.917Z"
   },
   {
    "duration": 15,
    "start_time": "2022-06-09T10:51:56.514Z"
   },
   {
    "duration": 3,
    "start_time": "2022-06-09T10:52:32.307Z"
   },
   {
    "duration": 41,
    "start_time": "2022-06-09T10:52:32.313Z"
   },
   {
    "duration": 77,
    "start_time": "2022-06-09T10:52:32.356Z"
   },
   {
    "duration": 4,
    "start_time": "2022-06-09T10:52:32.435Z"
   },
   {
    "duration": 11,
    "start_time": "2022-06-09T10:52:32.441Z"
   },
   {
    "duration": 7,
    "start_time": "2022-06-09T10:52:32.454Z"
   },
   {
    "duration": 6,
    "start_time": "2022-06-09T10:52:32.462Z"
   },
   {
    "duration": 6,
    "start_time": "2022-06-09T10:52:32.495Z"
   },
   {
    "duration": 13,
    "start_time": "2022-06-09T10:52:32.503Z"
   },
   {
    "duration": 13,
    "start_time": "2022-06-09T10:52:32.517Z"
   },
   {
    "duration": 12,
    "start_time": "2022-06-09T10:52:40.086Z"
   },
   {
    "duration": 12,
    "start_time": "2022-06-09T10:53:04.116Z"
   },
   {
    "duration": 12,
    "start_time": "2022-06-09T10:53:31.453Z"
   },
   {
    "duration": 5,
    "start_time": "2022-06-09T10:53:37.410Z"
   },
   {
    "duration": 42,
    "start_time": "2022-06-09T10:53:37.417Z"
   },
   {
    "duration": 81,
    "start_time": "2022-06-09T10:53:37.461Z"
   },
   {
    "duration": 7,
    "start_time": "2022-06-09T10:53:37.544Z"
   },
   {
    "duration": 16,
    "start_time": "2022-06-09T10:53:37.554Z"
   },
   {
    "duration": 4,
    "start_time": "2022-06-09T10:53:37.572Z"
   },
   {
    "duration": 6,
    "start_time": "2022-06-09T10:53:37.594Z"
   },
   {
    "duration": 13,
    "start_time": "2022-06-09T10:53:37.601Z"
   },
   {
    "duration": 13,
    "start_time": "2022-06-09T10:53:37.616Z"
   },
   {
    "duration": 13,
    "start_time": "2022-06-09T10:53:37.630Z"
   },
   {
    "duration": 5,
    "start_time": "2022-06-09T10:53:41.836Z"
   },
   {
    "duration": 26,
    "start_time": "2022-06-09T10:53:48.927Z"
   },
   {
    "duration": 4,
    "start_time": "2022-06-09T10:54:10.843Z"
   },
   {
    "duration": 3573,
    "start_time": "2022-06-09T10:54:19.159Z"
   },
   {
    "duration": 3194,
    "start_time": "2022-06-09T10:56:28.735Z"
   },
   {
    "duration": 3663,
    "start_time": "2022-06-09T10:56:45.751Z"
   },
   {
    "duration": 36,
    "start_time": "2022-06-09T11:00:44.187Z"
   },
   {
    "duration": 3061,
    "start_time": "2022-06-09T11:00:48.925Z"
   },
   {
    "duration": 3332,
    "start_time": "2022-06-09T11:01:20.655Z"
   },
   {
    "duration": 2,
    "start_time": "2022-06-09T11:03:26.582Z"
   },
   {
    "duration": 3137,
    "start_time": "2022-06-09T11:06:46.440Z"
   },
   {
    "duration": 3464,
    "start_time": "2022-06-09T11:08:54.100Z"
   },
   {
    "duration": 3224,
    "start_time": "2022-06-09T11:10:26.686Z"
   },
   {
    "duration": 3373,
    "start_time": "2022-06-09T11:11:31.438Z"
   },
   {
    "duration": 3278,
    "start_time": "2022-06-09T11:12:00.051Z"
   },
   {
    "duration": 3217,
    "start_time": "2022-06-09T11:15:42.925Z"
   },
   {
    "duration": 3496,
    "start_time": "2022-06-09T11:16:43.763Z"
   },
   {
    "duration": 3617,
    "start_time": "2022-06-09T11:17:19.178Z"
   },
   {
    "duration": 3340,
    "start_time": "2022-06-09T11:21:08.830Z"
   },
   {
    "duration": 3310,
    "start_time": "2022-06-09T11:22:48.196Z"
   },
   {
    "duration": 3143,
    "start_time": "2022-06-09T11:26:20.815Z"
   },
   {
    "duration": 3109,
    "start_time": "2022-06-09T11:28:02.274Z"
   },
   {
    "duration": 3096,
    "start_time": "2022-06-09T11:29:23.112Z"
   },
   {
    "duration": 15,
    "start_time": "2022-06-09T11:33:38.734Z"
   },
   {
    "duration": 12,
    "start_time": "2022-06-09T11:33:42.366Z"
   },
   {
    "duration": 11,
    "start_time": "2022-06-09T11:33:51.064Z"
   },
   {
    "duration": 16,
    "start_time": "2022-06-09T11:34:13.507Z"
   },
   {
    "duration": 3271,
    "start_time": "2022-06-09T11:34:16.465Z"
   },
   {
    "duration": 15,
    "start_time": "2022-06-09T11:34:39.481Z"
   },
   {
    "duration": 2935,
    "start_time": "2022-06-09T11:34:42.146Z"
   },
   {
    "duration": 3110,
    "start_time": "2022-06-09T11:40:17.286Z"
   },
   {
    "duration": 26,
    "start_time": "2022-06-09T11:40:54.053Z"
   },
   {
    "duration": 2833,
    "start_time": "2022-06-09T11:40:55.350Z"
   },
   {
    "duration": 32,
    "start_time": "2022-06-09T11:41:50.251Z"
   },
   {
    "duration": 3217,
    "start_time": "2022-06-09T11:42:05.101Z"
   },
   {
    "duration": 32,
    "start_time": "2022-06-09T11:42:22.098Z"
   },
   {
    "duration": 3281,
    "start_time": "2022-06-09T11:42:24.151Z"
   },
   {
    "duration": 5,
    "start_time": "2022-06-09T11:44:45.450Z"
   },
   {
    "duration": 4,
    "start_time": "2022-06-09T11:50:44.420Z"
   },
   {
    "duration": 3,
    "start_time": "2022-06-09T11:50:51.548Z"
   },
   {
    "duration": 37,
    "start_time": "2022-06-09T11:50:51.553Z"
   },
   {
    "duration": 55,
    "start_time": "2022-06-09T11:50:51.592Z"
   },
   {
    "duration": 5,
    "start_time": "2022-06-09T11:50:51.649Z"
   },
   {
    "duration": 13,
    "start_time": "2022-06-09T11:50:51.657Z"
   },
   {
    "duration": 5,
    "start_time": "2022-06-09T11:50:51.695Z"
   },
   {
    "duration": 3,
    "start_time": "2022-06-09T11:50:59.196Z"
   },
   {
    "duration": 35,
    "start_time": "2022-06-09T11:50:59.202Z"
   },
   {
    "duration": 59,
    "start_time": "2022-06-09T11:50:59.238Z"
   },
   {
    "duration": 5,
    "start_time": "2022-06-09T11:50:59.298Z"
   },
   {
    "duration": 10,
    "start_time": "2022-06-09T11:50:59.305Z"
   },
   {
    "duration": 4,
    "start_time": "2022-06-09T11:50:59.317Z"
   },
   {
    "duration": 5,
    "start_time": "2022-06-09T11:50:59.322Z"
   },
   {
    "duration": 8,
    "start_time": "2022-06-09T11:50:59.328Z"
   },
   {
    "duration": 10,
    "start_time": "2022-06-09T11:50:59.337Z"
   },
   {
    "duration": 13,
    "start_time": "2022-06-09T11:50:59.349Z"
   },
   {
    "duration": 31,
    "start_time": "2022-06-09T11:50:59.364Z"
   },
   {
    "duration": 4,
    "start_time": "2022-06-09T11:51:02.279Z"
   },
   {
    "duration": 0,
    "start_time": "2022-06-09T11:53:08.286Z"
   },
   {
    "duration": 0,
    "start_time": "2022-06-09T11:53:08.287Z"
   },
   {
    "duration": 6,
    "start_time": "2022-06-09T11:54:37.660Z"
   },
   {
    "duration": 3091,
    "start_time": "2022-06-09T11:54:39.907Z"
   },
   {
    "duration": 16,
    "start_time": "2022-06-09T11:55:51.221Z"
   },
   {
    "duration": 2903,
    "start_time": "2022-06-09T11:55:53.619Z"
   },
   {
    "duration": 15,
    "start_time": "2022-06-09T12:12:59.462Z"
   },
   {
    "duration": 2782,
    "start_time": "2022-06-09T12:29:40.889Z"
   },
   {
    "duration": 25,
    "start_time": "2022-06-09T12:30:35.581Z"
   },
   {
    "duration": 2497,
    "start_time": "2022-06-09T12:30:37.297Z"
   },
   {
    "duration": 3,
    "start_time": "2022-06-09T12:31:39.619Z"
   },
   {
    "duration": 34,
    "start_time": "2022-06-09T12:31:39.631Z"
   },
   {
    "duration": 58,
    "start_time": "2022-06-09T12:31:39.666Z"
   },
   {
    "duration": 6,
    "start_time": "2022-06-09T12:31:39.725Z"
   },
   {
    "duration": 11,
    "start_time": "2022-06-09T12:31:39.732Z"
   },
   {
    "duration": 4,
    "start_time": "2022-06-09T12:31:39.744Z"
   },
   {
    "duration": 9,
    "start_time": "2022-06-09T12:31:39.750Z"
   },
   {
    "duration": 8,
    "start_time": "2022-06-09T12:31:39.760Z"
   },
   {
    "duration": 37,
    "start_time": "2022-06-09T12:31:39.769Z"
   },
   {
    "duration": 16,
    "start_time": "2022-06-09T12:31:39.808Z"
   },
   {
    "duration": 14,
    "start_time": "2022-06-09T12:31:39.826Z"
   },
   {
    "duration": 1175,
    "start_time": "2022-06-09T12:32:08.989Z"
   },
   {
    "duration": 132,
    "start_time": "2022-06-09T12:32:10.166Z"
   },
   {
    "duration": 65,
    "start_time": "2022-06-09T12:32:10.299Z"
   },
   {
    "duration": 6,
    "start_time": "2022-06-09T12:32:10.365Z"
   },
   {
    "duration": 29,
    "start_time": "2022-06-09T12:32:10.372Z"
   },
   {
    "duration": 6,
    "start_time": "2022-06-09T12:32:10.403Z"
   },
   {
    "duration": 8,
    "start_time": "2022-06-09T12:32:10.411Z"
   },
   {
    "duration": 15,
    "start_time": "2022-06-09T12:32:10.420Z"
   },
   {
    "duration": 21,
    "start_time": "2022-06-09T12:32:10.436Z"
   },
   {
    "duration": 19,
    "start_time": "2022-06-09T12:32:10.458Z"
   },
   {
    "duration": 20,
    "start_time": "2022-06-09T12:32:10.478Z"
   },
   {
    "duration": 3023,
    "start_time": "2022-06-09T12:32:16.757Z"
   },
   {
    "duration": 2987,
    "start_time": "2022-06-09T12:39:57.048Z"
   },
   {
    "duration": 2998,
    "start_time": "2022-06-09T12:48:10.450Z"
   },
   {
    "duration": 3135,
    "start_time": "2022-06-09T12:51:13.721Z"
   },
   {
    "duration": 3090,
    "start_time": "2022-06-09T12:52:23.400Z"
   },
   {
    "duration": 2951,
    "start_time": "2022-06-09T13:02:39.891Z"
   },
   {
    "duration": 3020,
    "start_time": "2022-06-09T13:06:27.465Z"
   },
   {
    "duration": 3274,
    "start_time": "2022-06-09T13:13:12.294Z"
   },
   {
    "duration": 2882,
    "start_time": "2022-06-09T13:13:27.650Z"
   },
   {
    "duration": 1138,
    "start_time": "2022-06-09T13:13:44.391Z"
   },
   {
    "duration": 1291,
    "start_time": "2022-06-09T13:14:07.447Z"
   },
   {
    "duration": 1363,
    "start_time": "2022-06-09T13:14:23.362Z"
   },
   {
    "duration": 1301,
    "start_time": "2022-06-09T13:25:25.149Z"
   },
   {
    "duration": 7612,
    "start_time": "2022-06-09T13:37:21.494Z"
   },
   {
    "duration": 26,
    "start_time": "2022-06-09T13:49:02.588Z"
   },
   {
    "duration": 7410,
    "start_time": "2022-06-09T13:49:28.812Z"
   },
   {
    "duration": 7539,
    "start_time": "2022-06-09T13:50:11.888Z"
   },
   {
    "duration": 2690,
    "start_time": "2022-06-09T13:52:53.795Z"
   },
   {
    "duration": 2967,
    "start_time": "2022-06-09T13:54:58.740Z"
   },
   {
    "duration": 71,
    "start_time": "2022-06-09T17:11:01.020Z"
   },
   {
    "duration": 1619,
    "start_time": "2022-06-09T17:11:49.410Z"
   },
   {
    "duration": 144,
    "start_time": "2022-06-09T17:11:51.031Z"
   },
   {
    "duration": 82,
    "start_time": "2022-06-09T17:11:51.177Z"
   },
   {
    "duration": 8,
    "start_time": "2022-06-09T17:11:51.262Z"
   },
   {
    "duration": 14,
    "start_time": "2022-06-09T17:11:51.272Z"
   },
   {
    "duration": 5,
    "start_time": "2022-06-09T17:11:51.288Z"
   },
   {
    "duration": 9,
    "start_time": "2022-06-09T17:11:51.296Z"
   },
   {
    "duration": 17,
    "start_time": "2022-06-09T17:11:51.306Z"
   },
   {
    "duration": 44,
    "start_time": "2022-06-09T17:11:51.326Z"
   },
   {
    "duration": 16,
    "start_time": "2022-06-09T17:11:51.373Z"
   },
   {
    "duration": 3857,
    "start_time": "2022-06-09T17:11:51.391Z"
   },
   {
    "duration": 1565,
    "start_time": "2022-06-09T17:11:55.250Z"
   },
   {
    "duration": 8435,
    "start_time": "2022-06-09T17:11:56.817Z"
   },
   {
    "duration": 3492,
    "start_time": "2022-06-09T17:12:05.259Z"
   },
   {
    "duration": 9,
    "start_time": "2022-06-09T17:13:47.570Z"
   },
   {
    "duration": 77,
    "start_time": "2022-06-09T17:13:59.355Z"
   },
   {
    "duration": 13,
    "start_time": "2022-06-09T17:14:01.607Z"
   },
   {
    "duration": 32,
    "start_time": "2022-06-09T17:19:31.423Z"
   },
   {
    "duration": 10,
    "start_time": "2022-06-09T18:04:08.244Z"
   },
   {
    "duration": 4,
    "start_time": "2022-06-09T19:09:37.307Z"
   },
   {
    "duration": 43,
    "start_time": "2022-06-09T19:09:37.314Z"
   },
   {
    "duration": 70,
    "start_time": "2022-06-09T19:09:37.358Z"
   },
   {
    "duration": 32,
    "start_time": "2022-06-09T19:09:37.429Z"
   },
   {
    "duration": 11,
    "start_time": "2022-06-09T19:09:37.464Z"
   },
   {
    "duration": 5,
    "start_time": "2022-06-09T19:09:37.477Z"
   },
   {
    "duration": 8,
    "start_time": "2022-06-09T19:09:37.483Z"
   },
   {
    "duration": 8,
    "start_time": "2022-06-09T19:09:37.493Z"
   },
   {
    "duration": 16,
    "start_time": "2022-06-09T19:09:37.503Z"
   },
   {
    "duration": 48,
    "start_time": "2022-06-09T19:09:37.522Z"
   },
   {
    "duration": 3690,
    "start_time": "2022-06-09T19:09:37.573Z"
   },
   {
    "duration": 1539,
    "start_time": "2022-06-09T19:09:41.265Z"
   },
   {
    "duration": 8075,
    "start_time": "2022-06-09T19:09:42.806Z"
   },
   {
    "duration": 3490,
    "start_time": "2022-06-09T19:09:50.883Z"
   },
   {
    "duration": 386,
    "start_time": "2022-06-09T19:13:00.824Z"
   },
   {
    "duration": 47,
    "start_time": "2022-06-09T19:13:43.302Z"
   },
   {
    "duration": 13,
    "start_time": "2022-06-09T19:14:00.915Z"
   },
   {
    "duration": 22,
    "start_time": "2022-06-09T19:14:58.085Z"
   },
   {
    "duration": 26,
    "start_time": "2022-06-09T19:15:39.021Z"
   },
   {
    "duration": 21,
    "start_time": "2022-06-09T19:16:12.993Z"
   },
   {
    "duration": 23,
    "start_time": "2022-06-09T19:16:35.754Z"
   },
   {
    "duration": 12,
    "start_time": "2022-06-09T19:17:59.637Z"
   },
   {
    "duration": 21,
    "start_time": "2022-06-09T19:19:05.726Z"
   },
   {
    "duration": 336,
    "start_time": "2022-06-09T19:19:24.497Z"
   },
   {
    "duration": 39,
    "start_time": "2022-06-09T19:20:40.649Z"
   },
   {
    "duration": 394,
    "start_time": "2022-06-09T19:20:44.315Z"
   },
   {
    "duration": 41,
    "start_time": "2022-06-09T19:20:58.250Z"
   },
   {
    "duration": 34,
    "start_time": "2022-06-09T19:21:41.508Z"
   },
   {
    "duration": 22,
    "start_time": "2022-06-09T19:21:46.611Z"
   },
   {
    "duration": 26,
    "start_time": "2022-06-09T19:21:54.792Z"
   },
   {
    "duration": 44,
    "start_time": "2022-06-09T19:22:01.717Z"
   },
   {
    "duration": 26,
    "start_time": "2022-06-09T19:22:14.184Z"
   },
   {
    "duration": 32,
    "start_time": "2022-06-09T19:23:14.312Z"
   },
   {
    "duration": 516,
    "start_time": "2022-06-09T19:23:54.519Z"
   },
   {
    "duration": 350,
    "start_time": "2022-06-09T19:24:09.172Z"
   },
   {
    "duration": 52,
    "start_time": "2022-06-09T19:27:22.929Z"
   },
   {
    "duration": 38,
    "start_time": "2022-06-09T19:27:32.150Z"
   },
   {
    "duration": 32,
    "start_time": "2022-06-09T19:28:50.028Z"
   },
   {
    "duration": 42,
    "start_time": "2022-06-09T19:28:54.892Z"
   },
   {
    "duration": 31,
    "start_time": "2022-06-09T19:29:05.807Z"
   },
   {
    "duration": 39,
    "start_time": "2022-06-09T19:29:37.568Z"
   },
   {
    "duration": 28,
    "start_time": "2022-06-09T19:29:48.139Z"
   },
   {
    "duration": 22,
    "start_time": "2022-06-09T19:30:05.337Z"
   },
   {
    "duration": 23,
    "start_time": "2022-06-09T19:30:08.599Z"
   },
   {
    "duration": 35,
    "start_time": "2022-06-09T19:31:06.787Z"
   },
   {
    "duration": 30,
    "start_time": "2022-06-09T19:31:17.995Z"
   },
   {
    "duration": 33,
    "start_time": "2022-06-09T19:33:47.031Z"
   },
   {
    "duration": 29,
    "start_time": "2022-06-09T19:33:51.547Z"
   },
   {
    "duration": 34,
    "start_time": "2022-06-09T19:33:56.416Z"
   },
   {
    "duration": 25,
    "start_time": "2022-06-09T19:34:15.835Z"
   },
   {
    "duration": 42,
    "start_time": "2022-06-09T19:34:25.334Z"
   },
   {
    "duration": 21,
    "start_time": "2022-06-09T19:39:34.799Z"
   },
   {
    "duration": 50,
    "start_time": "2022-06-09T19:40:06.204Z"
   },
   {
    "duration": 24,
    "start_time": "2022-06-09T19:41:32.208Z"
   },
   {
    "duration": 22,
    "start_time": "2022-06-09T19:41:40.544Z"
   },
   {
    "duration": 5,
    "start_time": "2022-06-09T19:41:50.403Z"
   },
   {
    "duration": 29,
    "start_time": "2022-06-09T19:41:56.010Z"
   },
   {
    "duration": 32,
    "start_time": "2022-06-09T19:44:57.106Z"
   },
   {
    "duration": 48,
    "start_time": "2022-06-09T19:45:02.376Z"
   },
   {
    "duration": 30,
    "start_time": "2022-06-09T19:46:53.398Z"
   },
   {
    "duration": 36,
    "start_time": "2022-06-09T19:47:07.717Z"
   },
   {
    "duration": 47,
    "start_time": "2022-06-09T19:48:15.783Z"
   },
   {
    "duration": 39,
    "start_time": "2022-06-09T19:48:22.503Z"
   },
   {
    "duration": 27,
    "start_time": "2022-06-09T19:48:39.108Z"
   },
   {
    "duration": 22,
    "start_time": "2022-06-09T19:48:58.092Z"
   },
   {
    "duration": 30,
    "start_time": "2022-06-09T19:49:34.482Z"
   },
   {
    "duration": 29,
    "start_time": "2022-06-09T19:50:07.426Z"
   },
   {
    "duration": 37,
    "start_time": "2022-06-09T19:51:53.101Z"
   },
   {
    "duration": 49,
    "start_time": "2022-06-09T19:52:18.501Z"
   },
   {
    "duration": 37,
    "start_time": "2022-06-09T19:52:39.377Z"
   },
   {
    "duration": 27,
    "start_time": "2022-06-09T19:52:45.822Z"
   },
   {
    "duration": 30,
    "start_time": "2022-06-09T19:54:54.597Z"
   },
   {
    "duration": 32,
    "start_time": "2022-06-09T19:55:07.930Z"
   },
   {
    "duration": 33,
    "start_time": "2022-06-09T19:55:18.001Z"
   },
   {
    "duration": 32,
    "start_time": "2022-06-09T19:57:34.209Z"
   },
   {
    "duration": 56,
    "start_time": "2022-06-09T19:59:17.778Z"
   },
   {
    "duration": 53,
    "start_time": "2022-06-09T20:00:16.489Z"
   },
   {
    "duration": 5,
    "start_time": "2022-06-09T20:00:23.989Z"
   },
   {
    "duration": 48,
    "start_time": "2022-06-09T20:00:23.997Z"
   },
   {
    "duration": 75,
    "start_time": "2022-06-09T20:00:24.047Z"
   },
   {
    "duration": 7,
    "start_time": "2022-06-09T20:00:24.124Z"
   },
   {
    "duration": 40,
    "start_time": "2022-06-09T20:00:24.132Z"
   },
   {
    "duration": 5,
    "start_time": "2022-06-09T20:00:24.174Z"
   },
   {
    "duration": 10,
    "start_time": "2022-06-09T20:00:24.181Z"
   },
   {
    "duration": 19,
    "start_time": "2022-06-09T20:00:24.193Z"
   },
   {
    "duration": 37,
    "start_time": "2022-06-09T20:00:24.214Z"
   },
   {
    "duration": 20,
    "start_time": "2022-06-09T20:00:24.253Z"
   },
   {
    "duration": 3808,
    "start_time": "2022-06-09T20:00:24.275Z"
   },
   {
    "duration": 1663,
    "start_time": "2022-06-09T20:00:28.085Z"
   },
   {
    "duration": 8332,
    "start_time": "2022-06-09T20:00:29.750Z"
   },
   {
    "duration": 3458,
    "start_time": "2022-06-09T20:00:38.084Z"
   },
   {
    "duration": 36,
    "start_time": "2022-06-09T20:00:44.528Z"
   },
   {
    "duration": 67,
    "start_time": "2022-06-09T20:00:57.104Z"
   },
   {
    "duration": 4,
    "start_time": "2022-06-09T20:01:14.034Z"
   },
   {
    "duration": 58,
    "start_time": "2022-06-09T20:01:14.042Z"
   },
   {
    "duration": 72,
    "start_time": "2022-06-09T20:01:14.102Z"
   },
   {
    "duration": 6,
    "start_time": "2022-06-09T20:01:14.176Z"
   },
   {
    "duration": 17,
    "start_time": "2022-06-09T20:01:14.184Z"
   },
   {
    "duration": 9,
    "start_time": "2022-06-09T20:01:14.203Z"
   },
   {
    "duration": 14,
    "start_time": "2022-06-09T20:01:14.214Z"
   },
   {
    "duration": 29,
    "start_time": "2022-06-09T20:01:14.230Z"
   },
   {
    "duration": 34,
    "start_time": "2022-06-09T20:01:14.261Z"
   },
   {
    "duration": 32,
    "start_time": "2022-06-09T20:01:14.297Z"
   },
   {
    "duration": 3880,
    "start_time": "2022-06-09T20:01:14.332Z"
   },
   {
    "duration": 1686,
    "start_time": "2022-06-09T20:01:18.213Z"
   },
   {
    "duration": 8507,
    "start_time": "2022-06-09T20:01:19.902Z"
   },
   {
    "duration": 3705,
    "start_time": "2022-06-09T20:01:28.411Z"
   },
   {
    "duration": 179,
    "start_time": "2022-06-09T20:01:36.478Z"
   },
   {
    "duration": 4,
    "start_time": "2022-06-09T20:01:58.094Z"
   },
   {
    "duration": 53,
    "start_time": "2022-06-09T20:01:58.100Z"
   },
   {
    "duration": 70,
    "start_time": "2022-06-09T20:01:58.155Z"
   },
   {
    "duration": 7,
    "start_time": "2022-06-09T20:01:58.227Z"
   },
   {
    "duration": 32,
    "start_time": "2022-06-09T20:01:58.235Z"
   },
   {
    "duration": 8,
    "start_time": "2022-06-09T20:01:58.268Z"
   },
   {
    "duration": 9,
    "start_time": "2022-06-09T20:01:58.278Z"
   },
   {
    "duration": 18,
    "start_time": "2022-06-09T20:01:58.289Z"
   },
   {
    "duration": 26,
    "start_time": "2022-06-09T20:01:58.310Z"
   },
   {
    "duration": 31,
    "start_time": "2022-06-09T20:01:58.339Z"
   },
   {
    "duration": 3840,
    "start_time": "2022-06-09T20:01:58.372Z"
   },
   {
    "duration": 1783,
    "start_time": "2022-06-09T20:02:02.214Z"
   },
   {
    "duration": 8700,
    "start_time": "2022-06-09T20:02:03.999Z"
   },
   {
    "duration": 3836,
    "start_time": "2022-06-09T20:02:12.700Z"
   },
   {
    "duration": 58,
    "start_time": "2022-06-09T20:03:30.899Z"
   },
   {
    "duration": 54,
    "start_time": "2022-06-09T20:03:42.986Z"
   },
   {
    "duration": 5,
    "start_time": "2022-06-09T20:03:52.582Z"
   },
   {
    "duration": 46,
    "start_time": "2022-06-09T20:03:52.590Z"
   },
   {
    "duration": 68,
    "start_time": "2022-06-09T20:03:52.638Z"
   },
   {
    "duration": 6,
    "start_time": "2022-06-09T20:03:52.707Z"
   },
   {
    "duration": 13,
    "start_time": "2022-06-09T20:03:52.715Z"
   },
   {
    "duration": 6,
    "start_time": "2022-06-09T20:03:52.757Z"
   },
   {
    "duration": 7,
    "start_time": "2022-06-09T20:03:52.765Z"
   },
   {
    "duration": 11,
    "start_time": "2022-06-09T20:03:52.774Z"
   },
   {
    "duration": 18,
    "start_time": "2022-06-09T20:03:52.787Z"
   },
   {
    "duration": 17,
    "start_time": "2022-06-09T20:03:52.808Z"
   },
   {
    "duration": 3661,
    "start_time": "2022-06-09T20:03:52.828Z"
   },
   {
    "duration": 1645,
    "start_time": "2022-06-09T20:03:56.491Z"
   },
   {
    "duration": 7899,
    "start_time": "2022-06-09T20:03:58.138Z"
   },
   {
    "duration": 3559,
    "start_time": "2022-06-09T20:04:06.039Z"
   },
   {
    "duration": 32,
    "start_time": "2022-06-09T20:04:37.078Z"
   },
   {
    "duration": 4,
    "start_time": "2022-06-09T20:05:13.386Z"
   },
   {
    "duration": 52,
    "start_time": "2022-06-09T20:05:13.392Z"
   },
   {
    "duration": 70,
    "start_time": "2022-06-09T20:05:13.445Z"
   },
   {
    "duration": 7,
    "start_time": "2022-06-09T20:05:13.517Z"
   },
   {
    "duration": 39,
    "start_time": "2022-06-09T20:05:13.525Z"
   },
   {
    "duration": 5,
    "start_time": "2022-06-09T20:05:13.566Z"
   },
   {
    "duration": 7,
    "start_time": "2022-06-09T20:05:13.572Z"
   },
   {
    "duration": 10,
    "start_time": "2022-06-09T20:05:13.581Z"
   },
   {
    "duration": 11,
    "start_time": "2022-06-09T20:05:13.594Z"
   },
   {
    "duration": 15,
    "start_time": "2022-06-09T20:05:13.607Z"
   },
   {
    "duration": 3691,
    "start_time": "2022-06-09T20:05:13.624Z"
   },
   {
    "duration": 1597,
    "start_time": "2022-06-09T20:05:17.317Z"
   },
   {
    "duration": 8264,
    "start_time": "2022-06-09T20:05:18.915Z"
   },
   {
    "duration": 3498,
    "start_time": "2022-06-09T20:05:27.181Z"
   },
   {
    "duration": 35,
    "start_time": "2022-06-09T20:05:46.895Z"
   },
   {
    "duration": 4,
    "start_time": "2022-06-09T20:06:48.190Z"
   },
   {
    "duration": 44,
    "start_time": "2022-06-09T20:06:48.196Z"
   },
   {
    "duration": 69,
    "start_time": "2022-06-09T20:06:48.241Z"
   },
   {
    "duration": 6,
    "start_time": "2022-06-09T20:06:48.312Z"
   },
   {
    "duration": 14,
    "start_time": "2022-06-09T20:06:48.319Z"
   },
   {
    "duration": 25,
    "start_time": "2022-06-09T20:06:48.335Z"
   },
   {
    "duration": 16,
    "start_time": "2022-06-09T20:06:48.362Z"
   },
   {
    "duration": 14,
    "start_time": "2022-06-09T20:06:48.380Z"
   },
   {
    "duration": 14,
    "start_time": "2022-06-09T20:06:48.396Z"
   },
   {
    "duration": 14,
    "start_time": "2022-06-09T20:06:48.413Z"
   },
   {
    "duration": 3676,
    "start_time": "2022-06-09T20:06:48.428Z"
   },
   {
    "duration": 1588,
    "start_time": "2022-06-09T20:06:52.106Z"
   },
   {
    "duration": 7907,
    "start_time": "2022-06-09T20:06:53.696Z"
   },
   {
    "duration": 3565,
    "start_time": "2022-06-09T20:07:01.605Z"
   },
   {
    "duration": 53,
    "start_time": "2022-06-09T20:07:07.593Z"
   },
   {
    "duration": 1299,
    "start_time": "2022-06-09T20:08:53.384Z"
   },
   {
    "duration": 38,
    "start_time": "2022-06-09T20:08:54.685Z"
   },
   {
    "duration": 73,
    "start_time": "2022-06-09T20:08:54.725Z"
   },
   {
    "duration": 6,
    "start_time": "2022-06-09T20:08:54.800Z"
   },
   {
    "duration": 16,
    "start_time": "2022-06-09T20:08:54.808Z"
   },
   {
    "duration": 17,
    "start_time": "2022-06-09T20:08:54.826Z"
   },
   {
    "duration": 19,
    "start_time": "2022-06-09T20:08:54.845Z"
   },
   {
    "duration": 21,
    "start_time": "2022-06-09T20:08:54.866Z"
   },
   {
    "duration": 17,
    "start_time": "2022-06-09T20:08:54.889Z"
   },
   {
    "duration": 17,
    "start_time": "2022-06-09T20:08:54.908Z"
   },
   {
    "duration": 3596,
    "start_time": "2022-06-09T20:08:54.927Z"
   },
   {
    "duration": 1500,
    "start_time": "2022-06-09T20:08:58.525Z"
   },
   {
    "duration": 7892,
    "start_time": "2022-06-09T20:09:00.027Z"
   },
   {
    "duration": 3402,
    "start_time": "2022-06-09T20:09:07.921Z"
   },
   {
    "duration": 162,
    "start_time": "2022-06-09T20:10:44.811Z"
   },
   {
    "duration": 35,
    "start_time": "2022-06-09T20:10:51.426Z"
   },
   {
    "duration": 34,
    "start_time": "2022-06-09T20:12:39.191Z"
   },
   {
    "duration": 39,
    "start_time": "2022-06-09T20:12:46.815Z"
   },
   {
    "duration": 44,
    "start_time": "2022-06-09T20:13:02.075Z"
   },
   {
    "duration": 46,
    "start_time": "2022-06-09T20:13:06.940Z"
   },
   {
    "duration": 35,
    "start_time": "2022-06-09T20:13:54.027Z"
   },
   {
    "duration": 37,
    "start_time": "2022-06-09T20:14:10.370Z"
   },
   {
    "duration": 38,
    "start_time": "2022-06-09T20:14:18.088Z"
   },
   {
    "duration": 64,
    "start_time": "2022-06-09T20:14:37.136Z"
   },
   {
    "duration": 46,
    "start_time": "2022-06-09T20:15:57.038Z"
   },
   {
    "duration": 44,
    "start_time": "2022-06-09T20:16:01.553Z"
   },
   {
    "duration": 1060,
    "start_time": "2022-06-09T20:17:37.086Z"
   },
   {
    "duration": 1005,
    "start_time": "2022-06-09T20:18:54.843Z"
   },
   {
    "duration": 756,
    "start_time": "2022-06-09T20:19:59.343Z"
   },
   {
    "duration": 681,
    "start_time": "2022-06-09T20:20:04.683Z"
   },
   {
    "duration": 666,
    "start_time": "2022-06-09T20:20:10.643Z"
   },
   {
    "duration": 677,
    "start_time": "2022-06-09T20:20:15.938Z"
   },
   {
    "duration": 599,
    "start_time": "2022-06-09T20:21:08.789Z"
   },
   {
    "duration": 675,
    "start_time": "2022-06-09T20:21:11.716Z"
   },
   {
    "duration": 15,
    "start_time": "2022-06-09T20:23:37.192Z"
   },
   {
    "duration": 10,
    "start_time": "2022-06-09T20:23:47.448Z"
   },
   {
    "duration": 15,
    "start_time": "2022-06-09T20:24:09.900Z"
   },
   {
    "duration": 21,
    "start_time": "2022-06-09T20:24:20.931Z"
   },
   {
    "duration": 15,
    "start_time": "2022-06-09T20:41:14.223Z"
   },
   {
    "duration": 30,
    "start_time": "2022-06-09T20:42:01.674Z"
   },
   {
    "duration": 151,
    "start_time": "2022-06-09T20:42:18.010Z"
   },
   {
    "duration": 4,
    "start_time": "2022-06-09T20:42:37.203Z"
   },
   {
    "duration": 43,
    "start_time": "2022-06-09T20:42:37.209Z"
   },
   {
    "duration": 72,
    "start_time": "2022-06-09T20:42:37.254Z"
   },
   {
    "duration": 32,
    "start_time": "2022-06-09T20:42:37.328Z"
   },
   {
    "duration": 10,
    "start_time": "2022-06-09T20:42:37.363Z"
   },
   {
    "duration": 5,
    "start_time": "2022-06-09T20:42:37.375Z"
   },
   {
    "duration": 14,
    "start_time": "2022-06-09T20:42:37.382Z"
   },
   {
    "duration": 17,
    "start_time": "2022-06-09T20:42:37.398Z"
   },
   {
    "duration": 18,
    "start_time": "2022-06-09T20:42:37.417Z"
   },
   {
    "duration": 14,
    "start_time": "2022-06-09T20:42:37.458Z"
   },
   {
    "duration": 3568,
    "start_time": "2022-06-09T20:42:37.475Z"
   },
   {
    "duration": 1634,
    "start_time": "2022-06-09T20:42:41.045Z"
   },
   {
    "duration": 7789,
    "start_time": "2022-06-09T20:42:42.681Z"
   },
   {
    "duration": 3682,
    "start_time": "2022-06-09T20:42:50.472Z"
   },
   {
    "duration": 39,
    "start_time": "2022-06-09T20:42:54.158Z"
   },
   {
    "duration": 61,
    "start_time": "2022-06-09T20:42:54.198Z"
   },
   {
    "duration": 952,
    "start_time": "2022-06-09T20:42:54.261Z"
   },
   {
    "duration": 37,
    "start_time": "2022-06-09T20:42:59.603Z"
   },
   {
    "duration": 41,
    "start_time": "2022-06-09T20:43:36.526Z"
   },
   {
    "duration": 49,
    "start_time": "2022-06-09T20:43:43.618Z"
   },
   {
    "duration": 52,
    "start_time": "2022-06-09T20:44:31.753Z"
   },
   {
    "duration": 39,
    "start_time": "2022-06-09T20:44:52.611Z"
   },
   {
    "duration": 78,
    "start_time": "2022-06-09T20:47:26.375Z"
   },
   {
    "duration": 108,
    "start_time": "2022-06-09T20:47:38.823Z"
   },
   {
    "duration": 99,
    "start_time": "2022-06-09T20:48:05.019Z"
   },
   {
    "duration": 92,
    "start_time": "2022-06-09T20:49:06.311Z"
   },
   {
    "duration": 118,
    "start_time": "2022-06-09T20:49:11.965Z"
   },
   {
    "duration": 120,
    "start_time": "2022-06-09T20:50:18.982Z"
   },
   {
    "duration": 74,
    "start_time": "2022-06-09T20:50:39.333Z"
   },
   {
    "duration": 78,
    "start_time": "2022-06-09T20:50:55.917Z"
   },
   {
    "duration": 87,
    "start_time": "2022-06-09T20:52:14.390Z"
   },
   {
    "duration": 79,
    "start_time": "2022-06-09T20:52:27.068Z"
   },
   {
    "duration": 80,
    "start_time": "2022-06-09T20:52:48.943Z"
   },
   {
    "duration": 105,
    "start_time": "2022-06-09T20:53:36.107Z"
   },
   {
    "duration": 100,
    "start_time": "2022-06-09T20:54:24.381Z"
   },
   {
    "duration": 81,
    "start_time": "2022-06-09T20:54:53.881Z"
   },
   {
    "duration": 182,
    "start_time": "2022-06-09T20:55:04.833Z"
   },
   {
    "duration": 118,
    "start_time": "2022-06-09T20:55:30.927Z"
   },
   {
    "duration": 105,
    "start_time": "2022-06-09T20:55:34.615Z"
   },
   {
    "duration": 93,
    "start_time": "2022-06-09T20:58:04.612Z"
   },
   {
    "duration": 148,
    "start_time": "2022-06-09T20:58:23.927Z"
   },
   {
    "duration": 120,
    "start_time": "2022-06-09T20:58:37.124Z"
   },
   {
    "duration": 114,
    "start_time": "2022-06-09T20:59:49.824Z"
   },
   {
    "duration": 152,
    "start_time": "2022-06-09T21:00:24.050Z"
   },
   {
    "duration": 88,
    "start_time": "2022-06-09T21:00:37.510Z"
   },
   {
    "duration": 104,
    "start_time": "2022-06-09T21:01:22.420Z"
   },
   {
    "duration": 108,
    "start_time": "2022-06-09T21:01:43.617Z"
   },
   {
    "duration": 118,
    "start_time": "2022-06-09T21:02:02.176Z"
   },
   {
    "duration": 149,
    "start_time": "2022-06-09T21:15:41.715Z"
   },
   {
    "duration": 117,
    "start_time": "2022-06-09T21:16:27.479Z"
   },
   {
    "duration": 330,
    "start_time": "2022-06-09T21:17:51.329Z"
   },
   {
    "duration": 381,
    "start_time": "2022-06-09T21:18:44.483Z"
   },
   {
    "duration": 307,
    "start_time": "2022-06-09T21:19:04.565Z"
   },
   {
    "duration": 382,
    "start_time": "2022-06-09T21:19:27.769Z"
   },
   {
    "duration": 331,
    "start_time": "2022-06-09T21:19:33.884Z"
   },
   {
    "duration": 411,
    "start_time": "2022-06-09T21:19:38.678Z"
   },
   {
    "duration": 123,
    "start_time": "2022-06-09T21:20:36.174Z"
   },
   {
    "duration": 1320,
    "start_time": "2022-06-09T21:38:37.786Z"
   },
   {
    "duration": 38,
    "start_time": "2022-06-09T21:38:39.107Z"
   },
   {
    "duration": 73,
    "start_time": "2022-06-09T21:38:39.146Z"
   },
   {
    "duration": 6,
    "start_time": "2022-06-09T21:38:39.221Z"
   },
   {
    "duration": 31,
    "start_time": "2022-06-09T21:38:39.228Z"
   },
   {
    "duration": 5,
    "start_time": "2022-06-09T21:38:39.261Z"
   },
   {
    "duration": 9,
    "start_time": "2022-06-09T21:38:39.268Z"
   },
   {
    "duration": 14,
    "start_time": "2022-06-09T21:38:39.279Z"
   },
   {
    "duration": 14,
    "start_time": "2022-06-09T21:38:39.295Z"
   },
   {
    "duration": 13,
    "start_time": "2022-06-09T21:38:39.313Z"
   },
   {
    "duration": 3746,
    "start_time": "2022-06-09T21:38:39.328Z"
   },
   {
    "duration": 1503,
    "start_time": "2022-06-09T21:38:43.076Z"
   },
   {
    "duration": 7925,
    "start_time": "2022-06-09T21:38:44.581Z"
   },
   {
    "duration": 3339,
    "start_time": "2022-06-09T21:38:52.508Z"
   },
   {
    "duration": 37,
    "start_time": "2022-06-09T21:38:55.848Z"
   },
   {
    "duration": 40,
    "start_time": "2022-06-09T21:38:55.887Z"
   },
   {
    "duration": 1004,
    "start_time": "2022-06-09T21:38:55.930Z"
   },
   {
    "duration": 103,
    "start_time": "2022-06-09T21:38:56.936Z"
   },
   {
    "duration": 119,
    "start_time": "2022-06-09T21:38:57.041Z"
   },
   {
    "duration": 0,
    "start_time": "2022-06-09T21:38:57.162Z"
   },
   {
    "duration": 0,
    "start_time": "2022-06-09T21:38:57.163Z"
   },
   {
    "duration": 0,
    "start_time": "2022-06-09T21:38:57.164Z"
   },
   {
    "duration": 0,
    "start_time": "2022-06-09T21:38:57.166Z"
   },
   {
    "duration": 0,
    "start_time": "2022-06-09T21:38:57.167Z"
   },
   {
    "duration": 0,
    "start_time": "2022-06-09T21:38:57.167Z"
   },
   {
    "duration": 0,
    "start_time": "2022-06-09T21:38:57.168Z"
   },
   {
    "duration": 0,
    "start_time": "2022-06-09T21:38:57.170Z"
   },
   {
    "duration": 0,
    "start_time": "2022-06-09T21:38:57.170Z"
   },
   {
    "duration": 24,
    "start_time": "2022-06-09T21:39:04.823Z"
   },
   {
    "duration": 15,
    "start_time": "2022-06-09T21:41:06.805Z"
   },
   {
    "duration": 37,
    "start_time": "2022-06-09T21:41:26.472Z"
   },
   {
    "duration": 18,
    "start_time": "2022-06-09T21:41:40.645Z"
   },
   {
    "duration": 31,
    "start_time": "2022-06-09T21:43:15.402Z"
   },
   {
    "duration": 1290,
    "start_time": "2022-06-09T21:43:28.303Z"
   },
   {
    "duration": 39,
    "start_time": "2022-06-09T21:43:29.595Z"
   },
   {
    "duration": 76,
    "start_time": "2022-06-09T21:43:29.636Z"
   },
   {
    "duration": 6,
    "start_time": "2022-06-09T21:43:29.714Z"
   },
   {
    "duration": 25,
    "start_time": "2022-06-09T21:43:29.722Z"
   },
   {
    "duration": 13,
    "start_time": "2022-06-09T21:43:29.749Z"
   },
   {
    "duration": 18,
    "start_time": "2022-06-09T21:43:29.764Z"
   },
   {
    "duration": 23,
    "start_time": "2022-06-09T21:43:29.784Z"
   },
   {
    "duration": 29,
    "start_time": "2022-06-09T21:43:29.809Z"
   },
   {
    "duration": 18,
    "start_time": "2022-06-09T21:43:29.842Z"
   },
   {
    "duration": 3785,
    "start_time": "2022-06-09T21:43:29.861Z"
   },
   {
    "duration": 1495,
    "start_time": "2022-06-09T21:43:33.647Z"
   },
   {
    "duration": 8038,
    "start_time": "2022-06-09T21:43:35.144Z"
   },
   {
    "duration": 3476,
    "start_time": "2022-06-09T21:43:43.185Z"
   },
   {
    "duration": 36,
    "start_time": "2022-06-09T21:43:46.662Z"
   },
   {
    "duration": 59,
    "start_time": "2022-06-09T21:43:46.700Z"
   },
   {
    "duration": 989,
    "start_time": "2022-06-09T21:43:46.761Z"
   },
   {
    "duration": 110,
    "start_time": "2022-06-09T21:43:47.752Z"
   },
   {
    "duration": 34,
    "start_time": "2022-06-09T21:43:47.864Z"
   },
   {
    "duration": 139,
    "start_time": "2022-06-09T21:43:47.899Z"
   },
   {
    "duration": 0,
    "start_time": "2022-06-09T21:43:48.040Z"
   },
   {
    "duration": 0,
    "start_time": "2022-06-09T21:43:48.041Z"
   },
   {
    "duration": 0,
    "start_time": "2022-06-09T21:43:48.043Z"
   },
   {
    "duration": 0,
    "start_time": "2022-06-09T21:43:48.043Z"
   },
   {
    "duration": 0,
    "start_time": "2022-06-09T21:43:48.058Z"
   },
   {
    "duration": 0,
    "start_time": "2022-06-09T21:43:48.060Z"
   },
   {
    "duration": 0,
    "start_time": "2022-06-09T21:43:48.061Z"
   },
   {
    "duration": 0,
    "start_time": "2022-06-09T21:43:48.062Z"
   },
   {
    "duration": 23,
    "start_time": "2022-06-09T21:45:01.703Z"
   },
   {
    "duration": 18,
    "start_time": "2022-06-09T21:45:35.645Z"
   },
   {
    "duration": 1389,
    "start_time": "2022-06-09T21:45:51.182Z"
   },
   {
    "duration": 38,
    "start_time": "2022-06-09T21:45:52.573Z"
   },
   {
    "duration": 72,
    "start_time": "2022-06-09T21:45:52.613Z"
   },
   {
    "duration": 6,
    "start_time": "2022-06-09T21:45:52.687Z"
   },
   {
    "duration": 38,
    "start_time": "2022-06-09T21:45:52.695Z"
   },
   {
    "duration": 7,
    "start_time": "2022-06-09T21:45:52.735Z"
   },
   {
    "duration": 21,
    "start_time": "2022-06-09T21:45:52.744Z"
   },
   {
    "duration": 28,
    "start_time": "2022-06-09T21:45:52.767Z"
   },
   {
    "duration": 21,
    "start_time": "2022-06-09T21:45:52.797Z"
   },
   {
    "duration": 16,
    "start_time": "2022-06-09T21:45:52.823Z"
   },
   {
    "duration": 3648,
    "start_time": "2022-06-09T21:45:52.841Z"
   },
   {
    "duration": 1498,
    "start_time": "2022-06-09T21:45:56.491Z"
   },
   {
    "duration": 8175,
    "start_time": "2022-06-09T21:45:57.990Z"
   },
   {
    "duration": 3394,
    "start_time": "2022-06-09T21:46:06.167Z"
   },
   {
    "duration": 38,
    "start_time": "2022-06-09T21:46:09.570Z"
   },
   {
    "duration": 51,
    "start_time": "2022-06-09T21:46:09.610Z"
   },
   {
    "duration": 992,
    "start_time": "2022-06-09T21:46:09.663Z"
   },
   {
    "duration": 113,
    "start_time": "2022-06-09T21:46:10.657Z"
   },
   {
    "duration": 20,
    "start_time": "2022-06-09T21:46:10.772Z"
   },
   {
    "duration": 9,
    "start_time": "2022-06-09T21:46:10.794Z"
   },
   {
    "duration": 307484,
    "start_time": "2022-06-09T21:46:10.805Z"
   },
   {
    "duration": 1377,
    "start_time": "2022-06-09T21:51:18.291Z"
   },
   {
    "duration": 15,
    "start_time": "2022-06-09T21:51:19.759Z"
   },
   {
    "duration": 11,
    "start_time": "2022-06-09T21:51:19.776Z"
   },
   {
    "duration": 11,
    "start_time": "2022-06-09T21:51:19.789Z"
   },
   {
    "duration": 21,
    "start_time": "2022-06-09T21:51:19.802Z"
   },
   {
    "duration": 33,
    "start_time": "2022-06-09T21:51:19.825Z"
   },
   {
    "duration": 6,
    "start_time": "2022-06-09T21:51:19.862Z"
   },
   {
    "duration": 5,
    "start_time": "2022-06-09T21:57:01.411Z"
   },
   {
    "duration": 127,
    "start_time": "2022-06-09T21:57:51.465Z"
   },
   {
    "duration": 4,
    "start_time": "2022-06-09T22:33:48.828Z"
   },
   {
    "duration": 55,
    "start_time": "2022-06-09T22:33:48.835Z"
   },
   {
    "duration": 89,
    "start_time": "2022-06-09T22:33:48.891Z"
   },
   {
    "duration": 7,
    "start_time": "2022-06-09T22:33:48.982Z"
   },
   {
    "duration": 14,
    "start_time": "2022-06-09T22:33:48.991Z"
   },
   {
    "duration": 5,
    "start_time": "2022-06-09T22:33:49.006Z"
   },
   {
    "duration": 6,
    "start_time": "2022-06-09T22:33:49.013Z"
   },
   {
    "duration": 41,
    "start_time": "2022-06-09T22:33:49.021Z"
   },
   {
    "duration": 17,
    "start_time": "2022-06-09T22:33:49.064Z"
   },
   {
    "duration": 25,
    "start_time": "2022-06-09T22:33:49.083Z"
   },
   {
    "duration": 4388,
    "start_time": "2022-06-09T22:33:49.111Z"
   },
   {
    "duration": 1730,
    "start_time": "2022-06-09T22:33:53.501Z"
   },
   {
    "duration": 8303,
    "start_time": "2022-06-09T22:33:55.232Z"
   },
   {
    "duration": 3678,
    "start_time": "2022-06-09T22:34:03.537Z"
   },
   {
    "duration": 182,
    "start_time": "2022-06-09T22:34:07.216Z"
   },
   {
    "duration": 40,
    "start_time": "2022-06-09T22:34:07.399Z"
   },
   {
    "duration": 935,
    "start_time": "2022-06-09T22:34:07.441Z"
   },
   {
    "duration": 114,
    "start_time": "2022-06-09T22:34:08.378Z"
   },
   {
    "duration": 18,
    "start_time": "2022-06-09T22:34:08.494Z"
   },
   {
    "duration": 22,
    "start_time": "2022-06-09T22:34:11.811Z"
   },
   {
    "duration": 12,
    "start_time": "2022-06-09T22:34:29.532Z"
   },
   {
    "duration": 3,
    "start_time": "2022-06-09T22:35:13.249Z"
   },
   {
    "duration": 40,
    "start_time": "2022-06-09T22:35:13.256Z"
   },
   {
    "duration": 75,
    "start_time": "2022-06-09T22:35:13.298Z"
   },
   {
    "duration": 7,
    "start_time": "2022-06-09T22:35:13.376Z"
   },
   {
    "duration": 10,
    "start_time": "2022-06-09T22:35:13.385Z"
   },
   {
    "duration": 5,
    "start_time": "2022-06-09T22:35:13.397Z"
   },
   {
    "duration": 7,
    "start_time": "2022-06-09T22:35:13.404Z"
   },
   {
    "duration": 45,
    "start_time": "2022-06-09T22:35:13.413Z"
   },
   {
    "duration": 16,
    "start_time": "2022-06-09T22:35:13.464Z"
   },
   {
    "duration": 15,
    "start_time": "2022-06-09T22:35:13.482Z"
   },
   {
    "duration": 3639,
    "start_time": "2022-06-09T22:35:13.500Z"
   },
   {
    "duration": 1569,
    "start_time": "2022-06-09T22:35:17.140Z"
   },
   {
    "duration": 7894,
    "start_time": "2022-06-09T22:35:18.711Z"
   },
   {
    "duration": 3515,
    "start_time": "2022-06-09T22:35:26.607Z"
   },
   {
    "duration": 50,
    "start_time": "2022-06-09T22:35:30.125Z"
   },
   {
    "duration": 42,
    "start_time": "2022-06-09T22:35:30.177Z"
   },
   {
    "duration": 1049,
    "start_time": "2022-06-09T22:35:30.221Z"
   },
   {
    "duration": 120,
    "start_time": "2022-06-09T22:35:31.273Z"
   },
   {
    "duration": 3,
    "start_time": "2022-06-09T22:35:41.299Z"
   },
   {
    "duration": 21,
    "start_time": "2022-06-09T22:35:42.259Z"
   },
   {
    "duration": 20,
    "start_time": "2022-06-09T22:35:46.821Z"
   },
   {
    "duration": 32,
    "start_time": "2022-06-09T22:37:30.276Z"
   },
   {
    "duration": 34,
    "start_time": "2022-06-09T22:37:42.789Z"
   },
   {
    "duration": 26,
    "start_time": "2022-06-09T22:37:49.908Z"
   },
   {
    "duration": 51,
    "start_time": "2022-06-09T22:38:23.662Z"
   },
   {
    "duration": 39,
    "start_time": "2022-06-09T22:38:49.199Z"
   },
   {
    "duration": 18,
    "start_time": "2022-06-09T22:39:40.330Z"
   },
   {
    "duration": 9,
    "start_time": "2022-06-09T22:39:53.606Z"
   },
   {
    "duration": 16,
    "start_time": "2022-06-09T22:39:57.394Z"
   },
   {
    "duration": 9,
    "start_time": "2022-06-09T22:40:18.245Z"
   },
   {
    "duration": 10,
    "start_time": "2022-06-09T22:40:28.189Z"
   },
   {
    "duration": 14,
    "start_time": "2022-06-09T22:42:08.080Z"
   },
   {
    "duration": 28,
    "start_time": "2022-06-09T22:42:21.727Z"
   },
   {
    "duration": 12,
    "start_time": "2022-06-09T22:42:47.751Z"
   },
   {
    "duration": 1401,
    "start_time": "2022-06-09T22:43:24.129Z"
   },
   {
    "duration": 45,
    "start_time": "2022-06-09T22:43:25.532Z"
   },
   {
    "duration": 92,
    "start_time": "2022-06-09T22:43:25.578Z"
   },
   {
    "duration": 8,
    "start_time": "2022-06-09T22:43:25.672Z"
   },
   {
    "duration": 11,
    "start_time": "2022-06-09T22:43:25.682Z"
   },
   {
    "duration": 5,
    "start_time": "2022-06-09T22:43:25.695Z"
   },
   {
    "duration": 10,
    "start_time": "2022-06-09T22:43:25.701Z"
   },
   {
    "duration": 11,
    "start_time": "2022-06-09T22:43:25.713Z"
   },
   {
    "duration": 50,
    "start_time": "2022-06-09T22:43:25.726Z"
   },
   {
    "duration": 18,
    "start_time": "2022-06-09T22:43:25.780Z"
   },
   {
    "duration": 4048,
    "start_time": "2022-06-09T22:43:25.800Z"
   },
   {
    "duration": 1601,
    "start_time": "2022-06-09T22:43:29.851Z"
   },
   {
    "duration": 8173,
    "start_time": "2022-06-09T22:43:31.459Z"
   },
   {
    "duration": 3395,
    "start_time": "2022-06-09T22:43:39.634Z"
   },
   {
    "duration": 41,
    "start_time": "2022-06-09T22:43:43.031Z"
   },
   {
    "duration": 39,
    "start_time": "2022-06-09T22:43:43.074Z"
   },
   {
    "duration": 1020,
    "start_time": "2022-06-09T22:43:43.114Z"
   },
   {
    "duration": 106,
    "start_time": "2022-06-09T22:43:44.136Z"
   },
   {
    "duration": 26,
    "start_time": "2022-06-09T22:43:44.244Z"
   },
   {
    "duration": 8,
    "start_time": "2022-06-09T22:43:44.272Z"
   },
   {
    "duration": 315379,
    "start_time": "2022-06-09T22:43:44.281Z"
   },
   {
    "duration": 1599,
    "start_time": "2022-06-09T22:48:59.671Z"
   },
   {
    "duration": 102,
    "start_time": "2022-06-09T22:49:01.274Z"
   },
   {
    "duration": 12,
    "start_time": "2022-06-09T22:49:01.378Z"
   },
   {
    "duration": 20,
    "start_time": "2022-06-09T22:49:01.392Z"
   },
   {
    "duration": 34,
    "start_time": "2022-06-09T22:49:01.414Z"
   },
   {
    "duration": 22,
    "start_time": "2022-06-09T22:49:01.450Z"
   },
   {
    "duration": 30,
    "start_time": "2022-06-09T22:49:01.476Z"
   },
   {
    "duration": 7,
    "start_time": "2022-06-09T22:49:01.507Z"
   },
   {
    "duration": 26,
    "start_time": "2022-06-09T22:53:21.656Z"
   },
   {
    "duration": 31,
    "start_time": "2022-06-09T22:54:24.135Z"
   },
   {
    "duration": 27,
    "start_time": "2022-06-09T22:54:45.765Z"
   },
   {
    "duration": 301777,
    "start_time": "2022-06-09T22:55:21.155Z"
   },
   {
    "duration": 1488,
    "start_time": "2022-06-09T23:01:08.398Z"
   },
   {
    "duration": 316580,
    "start_time": "2022-06-09T23:03:19.592Z"
   },
   {
    "duration": 1695,
    "start_time": "2022-06-09T23:08:51.679Z"
   },
   {
    "duration": 1225,
    "start_time": "2022-06-09T23:09:45.254Z"
   },
   {
    "duration": 31,
    "start_time": "2022-06-09T23:11:47.154Z"
   },
   {
    "duration": 29,
    "start_time": "2022-06-09T23:13:33.147Z"
   },
   {
    "duration": 320033,
    "start_time": "2022-06-09T23:13:55.407Z"
   },
   {
    "duration": 2040,
    "start_time": "2022-06-09T23:20:33.229Z"
   },
   {
    "duration": 30,
    "start_time": "2022-06-09T23:21:13.170Z"
   },
   {
    "duration": 319301,
    "start_time": "2022-06-09T23:21:25.473Z"
   },
   {
    "duration": 1681,
    "start_time": "2022-06-09T23:27:08.601Z"
   },
   {
    "duration": 26,
    "start_time": "2022-06-09T23:27:31.250Z"
   },
   {
    "duration": 318246,
    "start_time": "2022-06-09T23:27:37.714Z"
   },
   {
    "duration": 1576,
    "start_time": "2022-06-09T23:34:44.305Z"
   },
   {
    "duration": 11,
    "start_time": "2022-06-09T23:43:06.729Z"
   },
   {
    "duration": 12,
    "start_time": "2022-06-09T23:45:23.251Z"
   },
   {
    "duration": 1275,
    "start_time": "2022-06-10T00:11:28.095Z"
   },
   {
    "duration": 38,
    "start_time": "2022-06-10T00:11:29.372Z"
   },
   {
    "duration": 75,
    "start_time": "2022-06-10T00:11:29.412Z"
   },
   {
    "duration": 6,
    "start_time": "2022-06-10T00:11:29.489Z"
   },
   {
    "duration": 15,
    "start_time": "2022-06-10T00:11:29.496Z"
   },
   {
    "duration": 6,
    "start_time": "2022-06-10T00:11:29.512Z"
   },
   {
    "duration": 10,
    "start_time": "2022-06-10T00:11:29.520Z"
   },
   {
    "duration": 27,
    "start_time": "2022-06-10T00:11:29.532Z"
   },
   {
    "duration": 15,
    "start_time": "2022-06-10T00:11:29.561Z"
   },
   {
    "duration": 16,
    "start_time": "2022-06-10T00:11:29.580Z"
   },
   {
    "duration": 3595,
    "start_time": "2022-06-10T00:11:29.598Z"
   },
   {
    "duration": 1435,
    "start_time": "2022-06-10T00:11:33.194Z"
   },
   {
    "duration": 7642,
    "start_time": "2022-06-10T00:11:34.631Z"
   },
   {
    "duration": 3217,
    "start_time": "2022-06-10T00:11:42.274Z"
   },
   {
    "duration": 33,
    "start_time": "2022-06-10T00:11:45.493Z"
   },
   {
    "duration": 54,
    "start_time": "2022-06-10T00:11:45.528Z"
   },
   {
    "duration": 930,
    "start_time": "2022-06-10T00:11:45.584Z"
   },
   {
    "duration": 100,
    "start_time": "2022-06-10T00:11:46.516Z"
   },
   {
    "duration": 17,
    "start_time": "2022-06-10T00:11:46.618Z"
   },
   {
    "duration": 21,
    "start_time": "2022-06-10T00:11:46.637Z"
   },
   {
    "duration": 293808,
    "start_time": "2022-06-10T00:11:46.660Z"
   },
   {
    "duration": 1489,
    "start_time": "2022-06-10T00:16:40.470Z"
   },
   {
    "duration": 109,
    "start_time": "2022-06-10T00:16:41.962Z"
   },
   {
    "duration": 12,
    "start_time": "2022-06-10T00:16:42.073Z"
   },
   {
    "duration": 11,
    "start_time": "2022-06-10T00:16:42.087Z"
   },
   {
    "duration": 9,
    "start_time": "2022-06-10T00:16:42.100Z"
   },
   {
    "duration": 11,
    "start_time": "2022-06-10T00:16:42.110Z"
   },
   {
    "duration": 7,
    "start_time": "2022-06-10T00:16:42.157Z"
   },
   {
    "duration": 1333,
    "start_time": "2022-06-10T06:33:28.884Z"
   },
   {
    "duration": 78,
    "start_time": "2022-06-10T06:33:30.219Z"
   },
   {
    "duration": 64,
    "start_time": "2022-06-10T06:33:30.299Z"
   },
   {
    "duration": 6,
    "start_time": "2022-06-10T06:33:30.364Z"
   },
   {
    "duration": 24,
    "start_time": "2022-06-10T06:33:30.372Z"
   },
   {
    "duration": 8,
    "start_time": "2022-06-10T06:33:30.398Z"
   },
   {
    "duration": 31,
    "start_time": "2022-06-10T06:33:30.407Z"
   },
   {
    "duration": 45,
    "start_time": "2022-06-10T06:33:30.440Z"
   },
   {
    "duration": 20,
    "start_time": "2022-06-10T06:33:30.487Z"
   },
   {
    "duration": 18,
    "start_time": "2022-06-10T06:33:30.509Z"
   },
   {
    "duration": 3122,
    "start_time": "2022-06-10T06:33:30.528Z"
   },
   {
    "duration": 1270,
    "start_time": "2022-06-10T06:33:33.651Z"
   },
   {
    "duration": 6520,
    "start_time": "2022-06-10T06:33:34.923Z"
   },
   {
    "duration": 2837,
    "start_time": "2022-06-10T06:33:41.446Z"
   },
   {
    "duration": 30,
    "start_time": "2022-06-10T06:33:44.285Z"
   },
   {
    "duration": 43,
    "start_time": "2022-06-10T06:33:44.316Z"
   },
   {
    "duration": 967,
    "start_time": "2022-06-10T06:33:44.360Z"
   },
   {
    "duration": 103,
    "start_time": "2022-06-10T06:33:45.328Z"
   },
   {
    "duration": 15,
    "start_time": "2022-06-10T06:33:45.433Z"
   },
   {
    "duration": 7,
    "start_time": "2022-06-10T06:33:45.449Z"
   },
   {
    "duration": 264948,
    "start_time": "2022-06-10T06:33:45.458Z"
   },
   {
    "duration": 1320,
    "start_time": "2022-06-10T06:38:10.407Z"
   },
   {
    "duration": 103,
    "start_time": "2022-06-10T06:38:11.730Z"
   },
   {
    "duration": 21,
    "start_time": "2022-06-10T06:38:11.834Z"
   },
   {
    "duration": 39,
    "start_time": "2022-06-10T06:38:11.856Z"
   },
   {
    "duration": 32,
    "start_time": "2022-06-10T06:38:11.896Z"
   },
   {
    "duration": 28,
    "start_time": "2022-06-10T06:38:11.930Z"
   },
   {
    "duration": 26,
    "start_time": "2022-06-10T06:38:11.960Z"
   },
   {
    "duration": 41,
    "start_time": "2022-06-10T07:23:44.605Z"
   },
   {
    "duration": 1415,
    "start_time": "2022-06-10T07:23:51.026Z"
   },
   {
    "duration": 142,
    "start_time": "2022-06-10T07:23:52.442Z"
   },
   {
    "duration": 60,
    "start_time": "2022-06-10T07:23:52.586Z"
   },
   {
    "duration": 6,
    "start_time": "2022-06-10T07:23:52.648Z"
   },
   {
    "duration": 24,
    "start_time": "2022-06-10T07:23:52.655Z"
   },
   {
    "duration": 5,
    "start_time": "2022-06-10T07:23:52.680Z"
   },
   {
    "duration": 5,
    "start_time": "2022-06-10T07:23:52.686Z"
   },
   {
    "duration": 12,
    "start_time": "2022-06-10T07:23:52.692Z"
   },
   {
    "duration": 13,
    "start_time": "2022-06-10T07:23:52.705Z"
   },
   {
    "duration": 11,
    "start_time": "2022-06-10T07:23:52.720Z"
   },
   {
    "duration": 3038,
    "start_time": "2022-06-10T07:23:52.733Z"
   },
   {
    "duration": 1211,
    "start_time": "2022-06-10T07:23:55.773Z"
   },
   {
    "duration": 6756,
    "start_time": "2022-06-10T07:23:56.986Z"
   },
   {
    "duration": 2812,
    "start_time": "2022-06-10T07:24:03.743Z"
   },
   {
    "duration": 35,
    "start_time": "2022-06-10T07:24:06.556Z"
   },
   {
    "duration": 31,
    "start_time": "2022-06-10T07:24:06.593Z"
   },
   {
    "duration": 886,
    "start_time": "2022-06-10T07:24:06.626Z"
   },
   {
    "duration": 96,
    "start_time": "2022-06-10T07:24:07.514Z"
   },
   {
    "duration": 19,
    "start_time": "2022-06-10T07:24:07.613Z"
   },
   {
    "duration": 9,
    "start_time": "2022-06-10T07:24:07.634Z"
   },
   {
    "duration": 291022,
    "start_time": "2022-06-10T07:24:07.645Z"
   },
   {
    "duration": 1418,
    "start_time": "2022-06-10T07:28:58.669Z"
   },
   {
    "duration": 100,
    "start_time": "2022-06-10T07:29:00.089Z"
   },
   {
    "duration": 52,
    "start_time": "2022-06-10T07:29:00.190Z"
   },
   {
    "duration": 11,
    "start_time": "2022-06-10T07:29:00.244Z"
   },
   {
    "duration": 10,
    "start_time": "2022-06-10T07:31:24.933Z"
   },
   {
    "duration": 4,
    "start_time": "2022-06-10T07:32:53.004Z"
   },
   {
    "duration": 4,
    "start_time": "2022-06-10T07:33:27.664Z"
   },
   {
    "duration": 10,
    "start_time": "2022-06-10T07:40:03.786Z"
   },
   {
    "duration": 4,
    "start_time": "2022-06-10T07:40:34.319Z"
   },
   {
    "duration": 6,
    "start_time": "2022-06-10T07:40:44.720Z"
   },
   {
    "duration": 92,
    "start_time": "2022-06-10T07:42:28.617Z"
   },
   {
    "duration": 5,
    "start_time": "2022-06-10T07:42:42.270Z"
   },
   {
    "duration": 15,
    "start_time": "2022-06-10T07:47:04.265Z"
   },
   {
    "duration": 6,
    "start_time": "2022-06-10T07:47:14.800Z"
   },
   {
    "duration": 7,
    "start_time": "2022-06-10T07:50:07.667Z"
   },
   {
    "duration": 26,
    "start_time": "2022-06-10T07:50:20.007Z"
   },
   {
    "duration": 4,
    "start_time": "2022-06-10T07:50:26.705Z"
   },
   {
    "duration": 5,
    "start_time": "2022-06-10T07:51:12.039Z"
   },
   {
    "duration": 7,
    "start_time": "2022-06-10T07:56:03.867Z"
   },
   {
    "duration": 4317,
    "start_time": "2022-06-10T08:05:09.193Z"
   },
   {
    "duration": 32,
    "start_time": "2022-06-10T08:05:59.765Z"
   },
   {
    "duration": 15,
    "start_time": "2022-06-10T08:06:44.041Z"
   },
   {
    "duration": 326,
    "start_time": "2022-06-10T08:07:49.070Z"
   },
   {
    "duration": 199,
    "start_time": "2022-06-10T08:07:59.465Z"
   },
   {
    "duration": 353,
    "start_time": "2022-06-10T08:08:11.007Z"
   },
   {
    "duration": 370,
    "start_time": "2022-06-10T08:09:36.523Z"
   },
   {
    "duration": 361,
    "start_time": "2022-06-10T08:09:46.331Z"
   },
   {
    "duration": 358,
    "start_time": "2022-06-10T08:13:14.302Z"
   },
   {
    "duration": 434,
    "start_time": "2022-06-10T08:14:27.303Z"
   },
   {
    "duration": 508,
    "start_time": "2022-06-10T08:14:39.100Z"
   },
   {
    "duration": 416,
    "start_time": "2022-06-10T08:22:28.627Z"
   },
   {
    "duration": 69,
    "start_time": "2022-06-10T08:22:32.747Z"
   },
   {
    "duration": 403,
    "start_time": "2022-06-10T08:22:35.628Z"
   },
   {
    "duration": 32,
    "start_time": "2022-06-10T08:22:38.609Z"
   },
   {
    "duration": 399,
    "start_time": "2022-06-10T08:22:41.058Z"
   },
   {
    "duration": 399,
    "start_time": "2022-06-10T08:22:47.125Z"
   },
   {
    "duration": 465,
    "start_time": "2022-06-10T08:26:02.066Z"
   },
   {
    "duration": 54,
    "start_time": "2022-06-10T10:46:01.076Z"
   },
   {
    "duration": 1495,
    "start_time": "2022-06-10T10:46:06.139Z"
   },
   {
    "duration": 144,
    "start_time": "2022-06-10T10:46:07.636Z"
   },
   {
    "duration": 74,
    "start_time": "2022-06-10T10:46:07.781Z"
   },
   {
    "duration": 5,
    "start_time": "2022-06-10T10:46:07.857Z"
   },
   {
    "duration": 16,
    "start_time": "2022-06-10T10:46:07.863Z"
   },
   {
    "duration": 5,
    "start_time": "2022-06-10T10:46:07.880Z"
   },
   {
    "duration": 8,
    "start_time": "2022-06-10T10:46:07.887Z"
   },
   {
    "duration": 31,
    "start_time": "2022-06-10T10:46:07.896Z"
   },
   {
    "duration": 15,
    "start_time": "2022-06-10T10:46:07.929Z"
   },
   {
    "duration": 17,
    "start_time": "2022-06-10T10:46:07.947Z"
   },
   {
    "duration": 3719,
    "start_time": "2022-06-10T10:46:07.966Z"
   },
   {
    "duration": 1528,
    "start_time": "2022-06-10T10:46:11.687Z"
   },
   {
    "duration": 6965,
    "start_time": "2022-06-10T10:46:13.217Z"
   },
   {
    "duration": 2761,
    "start_time": "2022-06-10T10:46:20.183Z"
   },
   {
    "duration": 30,
    "start_time": "2022-06-10T10:46:22.945Z"
   },
   {
    "duration": 32,
    "start_time": "2022-06-10T10:46:22.977Z"
   },
   {
    "duration": 844,
    "start_time": "2022-06-10T10:46:23.026Z"
   },
   {
    "duration": 87,
    "start_time": "2022-06-10T10:46:23.872Z"
   },
   {
    "duration": 16,
    "start_time": "2022-06-10T10:46:23.961Z"
   },
   {
    "duration": 8,
    "start_time": "2022-06-10T10:46:23.979Z"
   },
   {
    "duration": 278208,
    "start_time": "2022-06-10T10:46:23.988Z"
   },
   {
    "duration": 1032,
    "start_time": "2022-06-10T10:51:02.197Z"
   },
   {
    "duration": 102,
    "start_time": "2022-06-10T10:51:03.231Z"
   },
   {
    "duration": 10,
    "start_time": "2022-06-10T10:51:03.335Z"
   },
   {
    "duration": 10,
    "start_time": "2022-06-10T10:51:03.347Z"
   },
   {
    "duration": 11,
    "start_time": "2022-06-10T10:51:12.647Z"
   },
   {
    "duration": 5,
    "start_time": "2022-06-10T10:51:29.679Z"
   },
   {
    "duration": 5,
    "start_time": "2022-06-10T10:52:50.365Z"
   },
   {
    "duration": 5,
    "start_time": "2022-06-10T10:52:57.274Z"
   },
   {
    "duration": 12,
    "start_time": "2022-06-10T10:53:04.699Z"
   },
   {
    "duration": 6,
    "start_time": "2022-06-10T10:54:48.458Z"
   },
   {
    "duration": 8,
    "start_time": "2022-06-10T10:58:53.494Z"
   },
   {
    "duration": 6,
    "start_time": "2022-06-10T10:59:00.523Z"
   },
   {
    "duration": 14,
    "start_time": "2022-06-10T11:00:03.494Z"
   },
   {
    "duration": 9,
    "start_time": "2022-06-10T11:00:05.715Z"
   },
   {
    "duration": 5,
    "start_time": "2022-06-10T11:00:16.910Z"
   },
   {
    "duration": 9,
    "start_time": "2022-06-10T11:00:30.453Z"
   },
   {
    "duration": 9,
    "start_time": "2022-06-10T11:04:05.072Z"
   },
   {
    "duration": 6,
    "start_time": "2022-06-10T11:04:06.940Z"
   },
   {
    "duration": 5,
    "start_time": "2022-06-10T11:04:14.709Z"
   },
   {
    "duration": 5,
    "start_time": "2022-06-10T11:04:15.956Z"
   },
   {
    "duration": 10,
    "start_time": "2022-06-10T11:06:12.071Z"
   },
   {
    "duration": 12,
    "start_time": "2022-06-10T11:06:16.804Z"
   },
   {
    "duration": 15,
    "start_time": "2022-06-10T11:07:46.365Z"
   },
   {
    "duration": 13,
    "start_time": "2022-06-10T11:08:00.669Z"
   },
   {
    "duration": 17,
    "start_time": "2022-06-10T11:08:11.373Z"
   },
   {
    "duration": 17,
    "start_time": "2022-06-10T11:08:26.011Z"
   },
   {
    "duration": 15,
    "start_time": "2022-06-10T11:08:36.323Z"
   },
   {
    "duration": 14,
    "start_time": "2022-06-10T11:08:39.379Z"
   },
   {
    "duration": 9,
    "start_time": "2022-06-10T11:08:45.385Z"
   },
   {
    "duration": 7,
    "start_time": "2022-06-10T11:09:14.004Z"
   },
   {
    "duration": 8,
    "start_time": "2022-06-10T11:09:15.521Z"
   },
   {
    "duration": 5,
    "start_time": "2022-06-10T11:09:18.202Z"
   },
   {
    "duration": 8,
    "start_time": "2022-06-10T11:09:19.273Z"
   },
   {
    "duration": 12,
    "start_time": "2022-06-10T11:09:47.002Z"
   },
   {
    "duration": 7,
    "start_time": "2022-06-10T11:09:47.833Z"
   },
   {
    "duration": 10,
    "start_time": "2022-06-10T11:09:48.986Z"
   },
   {
    "duration": 1506,
    "start_time": "2022-06-10T11:12:21.499Z"
   },
   {
    "duration": 40,
    "start_time": "2022-06-10T11:12:23.008Z"
   },
   {
    "duration": 96,
    "start_time": "2022-06-10T11:12:23.050Z"
   },
   {
    "duration": 7,
    "start_time": "2022-06-10T11:12:23.149Z"
   },
   {
    "duration": 33,
    "start_time": "2022-06-10T11:12:23.158Z"
   },
   {
    "duration": 25,
    "start_time": "2022-06-10T11:12:23.192Z"
   },
   {
    "duration": 22,
    "start_time": "2022-06-10T11:12:23.218Z"
   },
   {
    "duration": 16,
    "start_time": "2022-06-10T11:12:23.242Z"
   },
   {
    "duration": 24,
    "start_time": "2022-06-10T11:12:23.260Z"
   },
   {
    "duration": 21,
    "start_time": "2022-06-10T11:12:23.288Z"
   },
   {
    "duration": 3371,
    "start_time": "2022-06-10T11:12:23.311Z"
   },
   {
    "duration": 1241,
    "start_time": "2022-06-10T11:12:26.683Z"
   },
   {
    "duration": 6990,
    "start_time": "2022-06-10T11:12:27.926Z"
   },
   {
    "duration": 2912,
    "start_time": "2022-06-10T11:12:34.918Z"
   },
   {
    "duration": 29,
    "start_time": "2022-06-10T11:12:37.831Z"
   },
   {
    "duration": 32,
    "start_time": "2022-06-10T11:12:37.862Z"
   },
   {
    "duration": 876,
    "start_time": "2022-06-10T11:12:37.895Z"
   },
   {
    "duration": 102,
    "start_time": "2022-06-10T11:12:38.772Z"
   },
   {
    "duration": 15,
    "start_time": "2022-06-10T11:12:38.876Z"
   },
   {
    "duration": 12,
    "start_time": "2022-06-10T11:12:38.892Z"
   },
   {
    "duration": 287680,
    "start_time": "2022-06-10T11:12:38.905Z"
   },
   {
    "duration": 1238,
    "start_time": "2022-06-10T11:17:26.588Z"
   },
   {
    "duration": 101,
    "start_time": "2022-06-10T11:17:27.828Z"
   },
   {
    "duration": 27,
    "start_time": "2022-06-10T11:17:27.932Z"
   },
   {
    "duration": 47,
    "start_time": "2022-06-10T11:17:27.961Z"
   },
   {
    "duration": 14,
    "start_time": "2022-06-10T11:17:28.010Z"
   },
   {
    "duration": 13,
    "start_time": "2022-06-10T11:17:28.026Z"
   },
   {
    "duration": 20,
    "start_time": "2022-06-10T11:17:28.043Z"
   },
   {
    "duration": 7,
    "start_time": "2022-06-10T11:17:28.065Z"
   },
   {
    "duration": 26,
    "start_time": "2022-06-10T11:17:28.074Z"
   },
   {
    "duration": 9,
    "start_time": "2022-06-10T11:19:58.148Z"
   },
   {
    "duration": 9,
    "start_time": "2022-06-10T11:20:03.647Z"
   },
   {
    "duration": 5,
    "start_time": "2022-06-10T11:23:29.300Z"
   },
   {
    "duration": 5,
    "start_time": "2022-06-10T11:24:04.693Z"
   },
   {
    "duration": 121,
    "start_time": "2022-06-10T11:24:36.852Z"
   },
   {
    "duration": 14,
    "start_time": "2022-06-10T11:25:00.669Z"
   },
   {
    "duration": 14,
    "start_time": "2022-06-10T11:25:08.421Z"
   },
   {
    "duration": 9,
    "start_time": "2022-06-10T11:25:35.620Z"
   },
   {
    "duration": 13,
    "start_time": "2022-06-10T11:25:38.832Z"
   },
   {
    "duration": 14,
    "start_time": "2022-06-10T11:26:02.892Z"
   },
   {
    "duration": 13,
    "start_time": "2022-06-10T11:26:08.628Z"
   },
   {
    "duration": 12,
    "start_time": "2022-06-10T11:26:29.157Z"
   },
   {
    "duration": 9,
    "start_time": "2022-06-10T11:26:33.239Z"
   },
   {
    "duration": 6,
    "start_time": "2022-06-10T11:26:34.419Z"
   },
   {
    "duration": 7,
    "start_time": "2022-06-10T11:26:35.725Z"
   },
   {
    "duration": 9,
    "start_time": "2022-06-10T11:26:39.601Z"
   },
   {
    "duration": 6,
    "start_time": "2022-06-10T11:26:46.978Z"
   },
   {
    "duration": 1254,
    "start_time": "2022-06-10T11:26:56.336Z"
   },
   {
    "duration": 37,
    "start_time": "2022-06-10T11:26:57.592Z"
   },
   {
    "duration": 66,
    "start_time": "2022-06-10T11:26:57.631Z"
   },
   {
    "duration": 27,
    "start_time": "2022-06-10T11:26:57.698Z"
   },
   {
    "duration": 8,
    "start_time": "2022-06-10T11:26:57.727Z"
   },
   {
    "duration": 5,
    "start_time": "2022-06-10T11:26:57.736Z"
   },
   {
    "duration": 6,
    "start_time": "2022-06-10T11:26:57.742Z"
   },
   {
    "duration": 9,
    "start_time": "2022-06-10T11:26:57.750Z"
   },
   {
    "duration": 10,
    "start_time": "2022-06-10T11:26:57.761Z"
   },
   {
    "duration": 15,
    "start_time": "2022-06-10T11:26:57.772Z"
   },
   {
    "duration": 3268,
    "start_time": "2022-06-10T11:26:57.788Z"
   },
   {
    "duration": 1310,
    "start_time": "2022-06-10T11:27:01.057Z"
   },
   {
    "duration": 7041,
    "start_time": "2022-06-10T11:27:02.369Z"
   },
   {
    "duration": 3261,
    "start_time": "2022-06-10T11:27:09.414Z"
   },
   {
    "duration": 33,
    "start_time": "2022-06-10T11:27:12.677Z"
   },
   {
    "duration": 50,
    "start_time": "2022-06-10T11:27:12.711Z"
   },
   {
    "duration": 900,
    "start_time": "2022-06-10T11:27:12.763Z"
   },
   {
    "duration": 103,
    "start_time": "2022-06-10T11:27:13.665Z"
   },
   {
    "duration": 17,
    "start_time": "2022-06-10T11:27:13.769Z"
   },
   {
    "duration": 16,
    "start_time": "2022-06-10T11:27:13.787Z"
   },
   {
    "duration": 267889,
    "start_time": "2022-06-10T11:27:13.805Z"
   },
   {
    "duration": 1131,
    "start_time": "2022-06-10T11:31:41.695Z"
   },
   {
    "duration": 103,
    "start_time": "2022-06-10T11:31:42.827Z"
   },
   {
    "duration": 9,
    "start_time": "2022-06-10T11:31:42.932Z"
   },
   {
    "duration": 9,
    "start_time": "2022-06-10T11:31:42.942Z"
   },
   {
    "duration": 10,
    "start_time": "2022-06-10T11:31:42.953Z"
   },
   {
    "duration": 10,
    "start_time": "2022-06-10T11:31:42.964Z"
   },
   {
    "duration": 7,
    "start_time": "2022-06-10T11:31:42.976Z"
   },
   {
    "duration": 6,
    "start_time": "2022-06-10T11:31:42.985Z"
   },
   {
    "duration": 44,
    "start_time": "2022-06-10T11:31:42.992Z"
   }
  ],
  "kernelspec": {
   "display_name": "Python 3 (ipykernel)",
   "language": "python",
   "name": "python3"
  },
  "language_info": {
   "codemirror_mode": {
    "name": "ipython",
    "version": 3
   },
   "file_extension": ".py",
   "mimetype": "text/x-python",
   "name": "python",
   "nbconvert_exporter": "python",
   "pygments_lexer": "ipython3",
   "version": "3.9.5"
  },
  "toc": {
   "base_numbering": 1,
   "nav_menu": {},
   "number_sections": true,
   "sideBar": true,
   "skip_h1_title": true,
   "title_cell": "Table of Contents",
   "title_sidebar": "Contents",
   "toc_cell": false,
   "toc_position": {},
   "toc_section_display": true,
   "toc_window_display": false
  }
 },
 "nbformat": 4,
 "nbformat_minor": 2
}
