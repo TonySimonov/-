{
 "cells": [
  {
   "cell_type": "markdown",
   "metadata": {},
   "source": [
    "# Определение перспективного тарифа для телеком-компании"
   ]
  },
  {
   "cell_type": "markdown",
   "metadata": {},
   "source": [
    "# Содержание\n",
    "\n",
    "Часть 1. Описание проекта.<br>\n",
    "* 1. Описание исследования.\n",
    "* 2. Цель исследования.\n",
    "\n",
    "Часть 2. Подготовка данных.<br>\n",
    "\n",
    "* 1. Изучение предоставленных данных.\n",
    "* 2. Поиск дубликатов.\n",
    "* 3. Обработка аномальных значений.\n",
    "* 4. Редактирование типов данных.\n",
    "\n",
    "Часть 3. Расчет месячных трат и добавление результатов в таблицы.<br>\n",
    "\n",
    "* 1. Расчет количества звонков и минут разговора.\n",
    "* 2. Расчет количества сообщений.\n",
    "* 3. Расчет интернет-трафика.\n",
    "* 4. Расчет помесячной выручки.\n",
    "\n",
    "Часть 4. Анализ данных.<br>\n",
    "\n",
    "* 1. Описание поведения клиентов. \n",
    "\n",
    "Часть 5. Проверка гипотез.<br>\n",
    "\n",
    "* 1. Гипотеза \"Средняя выручка пользователей тарифов «Ультра» и «Смарт» различаются\". \n",
    "* 2. Гипотеза \"Средняя выручка пользователей из Москвы отличается от выручки пользователей из других регионов\".\n",
    "\n",
    "Часть 6. Подведение итогов.<br>\n",
    "\n",
    "* 1. Общий вывод по исследованию. "
   ]
  },
  {
   "cell_type": "markdown",
   "metadata": {},
   "source": [
    "## Часть. Описание проекта.\n",
    "\n",
    "### Описание исследования.\n",
    "\n",
    "Имеется выборка данных в виде 500 пользователей компании «Мегалайна» - федерального оператора сотовой связи. Данные содержат информацию о пользователях, их тарифах и действиях за 2018 года. \n",
    "Клиентам предлагают два тарифных плана: «Смарт» и «Ультра». \n",
    "\n",
    "**Тариф «Смарт»**\n",
    "\n",
    "1. Ежемесячная плата: 550 рублей\n",
    "2. Включено 500 минут разговора, 50 сообщений и 15 Гб интернет-трафика\n",
    "3. Стоимость услуг сверх тарифного пакета: 1. минута разговора: 3 рубля («Мегалайн» всегда округляет вверх значения минут и мегабайтов. Если пользователь проговорил всего 1 секунду, в тарифе засчитывается целая минута); 2. сообщение: 3 рубля; 3. 1 Гб интернет-трафика: 200 рублей.\n",
    "\n",
    "**Тариф «Ультра»**\n",
    "\n",
    "1. Ежемесячная плата: 1950 рублей\n",
    "2. Включено 3000 минут разговора, 1000 сообщений и 30 Гб интернет-трафика\n",
    "3. Стоимость услуг сверх тарифного пакета: 1. минута разговора: 1 рубль; 2. сообщение: 1 рубль; 3. 1 Гб интернет-трафика: 150 рублей.\n",
    "\n",
    "### Цель исследования.\n",
    "\n",
    "Провести анализ поведения клиентов и сделать вывод — какой тариф приносит больше денег."
   ]
  },
  {
   "cell_type": "markdown",
   "metadata": {},
   "source": [
    "## Часть. Подготовка данных."
   ]
  },
  {
   "cell_type": "markdown",
   "metadata": {},
   "source": [
    "### Изучение предоставленных данных."
   ]
  },
  {
   "cell_type": "code",
   "execution_count": 1,
   "metadata": {
    "scrolled": false
   },
   "outputs": [],
   "source": [
    "# Подключение библиотек\n",
    "import pandas as pd\n",
    "import seaborn as sns\n",
    "import numpy as np\n",
    "import matplotlib.pyplot as plt\n",
    "import math as mt\n",
    "from scipy import stats as st\n",
    "\n",
    "# Отключение ошибок\n",
    "pd.options.mode.chained_assignment = None  # default='warn'\n",
    "pd.set_option('display.float_format', '{:,.2f}'.format)\n",
    "\n",
    "# Функция для вывода основных данных по датасету\n",
    "def all_info(data):\n",
    "    data.info() #вывод общей информации\n",
    "    display(data.head(10)) #вывод первых 10 значений\n",
    "    display(data.describe()) #вывод описательной статистики по датасету\n",
    "    display(data.isna().mean().apply('{:.2%}'.format)) #подсчет пропусков в датасете в %\n",
    "    \n",
    "# Чтение файлов с данными\n",
    "calls = pd.read_csv('/datasets/calls.csv')\n",
    "internet = pd.read_csv('/datasets/internet.csv')\n",
    "messages = pd.read_csv('/datasets/messages.csv')\n",
    "tariffs = pd.read_csv('/datasets/tariffs.csv')\n",
    "users = pd.read_csv('/datasets/users.csv')"
   ]
  },
  {
   "cell_type": "code",
   "execution_count": 2,
   "metadata": {},
   "outputs": [
    {
     "name": "stdout",
     "output_type": "stream",
     "text": [
      "Звонки\n",
      "<class 'pandas.core.frame.DataFrame'>\n",
      "RangeIndex: 202607 entries, 0 to 202606\n",
      "Data columns (total 4 columns):\n",
      " #   Column     Non-Null Count   Dtype  \n",
      "---  ------     --------------   -----  \n",
      " 0   id         202607 non-null  object \n",
      " 1   call_date  202607 non-null  object \n",
      " 2   duration   202607 non-null  float64\n",
      " 3   user_id    202607 non-null  int64  \n",
      "dtypes: float64(1), int64(1), object(2)\n",
      "memory usage: 6.2+ MB\n"
     ]
    },
    {
     "data": {
      "text/html": [
       "<div>\n",
       "<style scoped>\n",
       "    .dataframe tbody tr th:only-of-type {\n",
       "        vertical-align: middle;\n",
       "    }\n",
       "\n",
       "    .dataframe tbody tr th {\n",
       "        vertical-align: top;\n",
       "    }\n",
       "\n",
       "    .dataframe thead th {\n",
       "        text-align: right;\n",
       "    }\n",
       "</style>\n",
       "<table border=\"1\" class=\"dataframe\">\n",
       "  <thead>\n",
       "    <tr style=\"text-align: right;\">\n",
       "      <th></th>\n",
       "      <th>id</th>\n",
       "      <th>call_date</th>\n",
       "      <th>duration</th>\n",
       "      <th>user_id</th>\n",
       "    </tr>\n",
       "  </thead>\n",
       "  <tbody>\n",
       "    <tr>\n",
       "      <th>0</th>\n",
       "      <td>1000_0</td>\n",
       "      <td>2018-07-25</td>\n",
       "      <td>0.00</td>\n",
       "      <td>1000</td>\n",
       "    </tr>\n",
       "    <tr>\n",
       "      <th>1</th>\n",
       "      <td>1000_1</td>\n",
       "      <td>2018-08-17</td>\n",
       "      <td>0.00</td>\n",
       "      <td>1000</td>\n",
       "    </tr>\n",
       "    <tr>\n",
       "      <th>2</th>\n",
       "      <td>1000_2</td>\n",
       "      <td>2018-06-11</td>\n",
       "      <td>2.85</td>\n",
       "      <td>1000</td>\n",
       "    </tr>\n",
       "    <tr>\n",
       "      <th>3</th>\n",
       "      <td>1000_3</td>\n",
       "      <td>2018-09-21</td>\n",
       "      <td>13.80</td>\n",
       "      <td>1000</td>\n",
       "    </tr>\n",
       "    <tr>\n",
       "      <th>4</th>\n",
       "      <td>1000_4</td>\n",
       "      <td>2018-12-15</td>\n",
       "      <td>5.18</td>\n",
       "      <td>1000</td>\n",
       "    </tr>\n",
       "    <tr>\n",
       "      <th>5</th>\n",
       "      <td>1000_5</td>\n",
       "      <td>2018-11-02</td>\n",
       "      <td>0.00</td>\n",
       "      <td>1000</td>\n",
       "    </tr>\n",
       "    <tr>\n",
       "      <th>6</th>\n",
       "      <td>1000_6</td>\n",
       "      <td>2018-10-18</td>\n",
       "      <td>0.00</td>\n",
       "      <td>1000</td>\n",
       "    </tr>\n",
       "    <tr>\n",
       "      <th>7</th>\n",
       "      <td>1000_7</td>\n",
       "      <td>2018-08-22</td>\n",
       "      <td>18.31</td>\n",
       "      <td>1000</td>\n",
       "    </tr>\n",
       "    <tr>\n",
       "      <th>8</th>\n",
       "      <td>1000_8</td>\n",
       "      <td>2018-09-15</td>\n",
       "      <td>18.44</td>\n",
       "      <td>1000</td>\n",
       "    </tr>\n",
       "    <tr>\n",
       "      <th>9</th>\n",
       "      <td>1000_9</td>\n",
       "      <td>2018-08-15</td>\n",
       "      <td>0.00</td>\n",
       "      <td>1000</td>\n",
       "    </tr>\n",
       "  </tbody>\n",
       "</table>\n",
       "</div>"
      ],
      "text/plain": [
       "       id   call_date  duration  user_id\n",
       "0  1000_0  2018-07-25      0.00     1000\n",
       "1  1000_1  2018-08-17      0.00     1000\n",
       "2  1000_2  2018-06-11      2.85     1000\n",
       "3  1000_3  2018-09-21     13.80     1000\n",
       "4  1000_4  2018-12-15      5.18     1000\n",
       "5  1000_5  2018-11-02      0.00     1000\n",
       "6  1000_6  2018-10-18      0.00     1000\n",
       "7  1000_7  2018-08-22     18.31     1000\n",
       "8  1000_8  2018-09-15     18.44     1000\n",
       "9  1000_9  2018-08-15      0.00     1000"
      ]
     },
     "metadata": {},
     "output_type": "display_data"
    },
    {
     "data": {
      "text/html": [
       "<div>\n",
       "<style scoped>\n",
       "    .dataframe tbody tr th:only-of-type {\n",
       "        vertical-align: middle;\n",
       "    }\n",
       "\n",
       "    .dataframe tbody tr th {\n",
       "        vertical-align: top;\n",
       "    }\n",
       "\n",
       "    .dataframe thead th {\n",
       "        text-align: right;\n",
       "    }\n",
       "</style>\n",
       "<table border=\"1\" class=\"dataframe\">\n",
       "  <thead>\n",
       "    <tr style=\"text-align: right;\">\n",
       "      <th></th>\n",
       "      <th>duration</th>\n",
       "      <th>user_id</th>\n",
       "    </tr>\n",
       "  </thead>\n",
       "  <tbody>\n",
       "    <tr>\n",
       "      <th>count</th>\n",
       "      <td>202,607.00</td>\n",
       "      <td>202,607.00</td>\n",
       "    </tr>\n",
       "    <tr>\n",
       "      <th>mean</th>\n",
       "      <td>6.76</td>\n",
       "      <td>1,253.94</td>\n",
       "    </tr>\n",
       "    <tr>\n",
       "      <th>std</th>\n",
       "      <td>5.84</td>\n",
       "      <td>144.72</td>\n",
       "    </tr>\n",
       "    <tr>\n",
       "      <th>min</th>\n",
       "      <td>0.00</td>\n",
       "      <td>1,000.00</td>\n",
       "    </tr>\n",
       "    <tr>\n",
       "      <th>25%</th>\n",
       "      <td>1.30</td>\n",
       "      <td>1,126.00</td>\n",
       "    </tr>\n",
       "    <tr>\n",
       "      <th>50%</th>\n",
       "      <td>6.00</td>\n",
       "      <td>1,260.00</td>\n",
       "    </tr>\n",
       "    <tr>\n",
       "      <th>75%</th>\n",
       "      <td>10.70</td>\n",
       "      <td>1,379.00</td>\n",
       "    </tr>\n",
       "    <tr>\n",
       "      <th>max</th>\n",
       "      <td>38.00</td>\n",
       "      <td>1,499.00</td>\n",
       "    </tr>\n",
       "  </tbody>\n",
       "</table>\n",
       "</div>"
      ],
      "text/plain": [
       "        duration    user_id\n",
       "count 202,607.00 202,607.00\n",
       "mean        6.76   1,253.94\n",
       "std         5.84     144.72\n",
       "min         0.00   1,000.00\n",
       "25%         1.30   1,126.00\n",
       "50%         6.00   1,260.00\n",
       "75%        10.70   1,379.00\n",
       "max        38.00   1,499.00"
      ]
     },
     "metadata": {},
     "output_type": "display_data"
    },
    {
     "data": {
      "text/plain": [
       "id           0.00%\n",
       "call_date    0.00%\n",
       "duration     0.00%\n",
       "user_id      0.00%\n",
       "dtype: object"
      ]
     },
     "metadata": {},
     "output_type": "display_data"
    }
   ],
   "source": [
    "# Вывод общей информации по таблице \"Звонки\" \n",
    "print(\"Звонки\")\n",
    "all_info(calls)"
   ]
  },
  {
   "cell_type": "code",
   "execution_count": 3,
   "metadata": {},
   "outputs": [
    {
     "name": "stdout",
     "output_type": "stream",
     "text": [
      "Интернет\n",
      "<class 'pandas.core.frame.DataFrame'>\n",
      "RangeIndex: 149396 entries, 0 to 149395\n",
      "Data columns (total 5 columns):\n",
      " #   Column        Non-Null Count   Dtype  \n",
      "---  ------        --------------   -----  \n",
      " 0   Unnamed: 0    149396 non-null  int64  \n",
      " 1   id            149396 non-null  object \n",
      " 2   mb_used       149396 non-null  float64\n",
      " 3   session_date  149396 non-null  object \n",
      " 4   user_id       149396 non-null  int64  \n",
      "dtypes: float64(1), int64(2), object(2)\n",
      "memory usage: 5.7+ MB\n"
     ]
    },
    {
     "data": {
      "text/html": [
       "<div>\n",
       "<style scoped>\n",
       "    .dataframe tbody tr th:only-of-type {\n",
       "        vertical-align: middle;\n",
       "    }\n",
       "\n",
       "    .dataframe tbody tr th {\n",
       "        vertical-align: top;\n",
       "    }\n",
       "\n",
       "    .dataframe thead th {\n",
       "        text-align: right;\n",
       "    }\n",
       "</style>\n",
       "<table border=\"1\" class=\"dataframe\">\n",
       "  <thead>\n",
       "    <tr style=\"text-align: right;\">\n",
       "      <th></th>\n",
       "      <th>Unnamed: 0</th>\n",
       "      <th>id</th>\n",
       "      <th>mb_used</th>\n",
       "      <th>session_date</th>\n",
       "      <th>user_id</th>\n",
       "    </tr>\n",
       "  </thead>\n",
       "  <tbody>\n",
       "    <tr>\n",
       "      <th>0</th>\n",
       "      <td>0</td>\n",
       "      <td>1000_0</td>\n",
       "      <td>112.95</td>\n",
       "      <td>2018-11-25</td>\n",
       "      <td>1000</td>\n",
       "    </tr>\n",
       "    <tr>\n",
       "      <th>1</th>\n",
       "      <td>1</td>\n",
       "      <td>1000_1</td>\n",
       "      <td>1,052.81</td>\n",
       "      <td>2018-09-07</td>\n",
       "      <td>1000</td>\n",
       "    </tr>\n",
       "    <tr>\n",
       "      <th>2</th>\n",
       "      <td>2</td>\n",
       "      <td>1000_2</td>\n",
       "      <td>1,197.26</td>\n",
       "      <td>2018-06-25</td>\n",
       "      <td>1000</td>\n",
       "    </tr>\n",
       "    <tr>\n",
       "      <th>3</th>\n",
       "      <td>3</td>\n",
       "      <td>1000_3</td>\n",
       "      <td>550.27</td>\n",
       "      <td>2018-08-22</td>\n",
       "      <td>1000</td>\n",
       "    </tr>\n",
       "    <tr>\n",
       "      <th>4</th>\n",
       "      <td>4</td>\n",
       "      <td>1000_4</td>\n",
       "      <td>302.56</td>\n",
       "      <td>2018-09-24</td>\n",
       "      <td>1000</td>\n",
       "    </tr>\n",
       "    <tr>\n",
       "      <th>5</th>\n",
       "      <td>5</td>\n",
       "      <td>1000_5</td>\n",
       "      <td>399.97</td>\n",
       "      <td>2018-10-02</td>\n",
       "      <td>1000</td>\n",
       "    </tr>\n",
       "    <tr>\n",
       "      <th>6</th>\n",
       "      <td>6</td>\n",
       "      <td>1000_6</td>\n",
       "      <td>540.08</td>\n",
       "      <td>2018-09-07</td>\n",
       "      <td>1000</td>\n",
       "    </tr>\n",
       "    <tr>\n",
       "      <th>7</th>\n",
       "      <td>7</td>\n",
       "      <td>1000_7</td>\n",
       "      <td>415.70</td>\n",
       "      <td>2018-07-11</td>\n",
       "      <td>1000</td>\n",
       "    </tr>\n",
       "    <tr>\n",
       "      <th>8</th>\n",
       "      <td>8</td>\n",
       "      <td>1000_8</td>\n",
       "      <td>505.40</td>\n",
       "      <td>2018-10-08</td>\n",
       "      <td>1000</td>\n",
       "    </tr>\n",
       "    <tr>\n",
       "      <th>9</th>\n",
       "      <td>9</td>\n",
       "      <td>1000_9</td>\n",
       "      <td>345.54</td>\n",
       "      <td>2018-09-03</td>\n",
       "      <td>1000</td>\n",
       "    </tr>\n",
       "  </tbody>\n",
       "</table>\n",
       "</div>"
      ],
      "text/plain": [
       "   Unnamed: 0      id  mb_used session_date  user_id\n",
       "0           0  1000_0   112.95   2018-11-25     1000\n",
       "1           1  1000_1 1,052.81   2018-09-07     1000\n",
       "2           2  1000_2 1,197.26   2018-06-25     1000\n",
       "3           3  1000_3   550.27   2018-08-22     1000\n",
       "4           4  1000_4   302.56   2018-09-24     1000\n",
       "5           5  1000_5   399.97   2018-10-02     1000\n",
       "6           6  1000_6   540.08   2018-09-07     1000\n",
       "7           7  1000_7   415.70   2018-07-11     1000\n",
       "8           8  1000_8   505.40   2018-10-08     1000\n",
       "9           9  1000_9   345.54   2018-09-03     1000"
      ]
     },
     "metadata": {},
     "output_type": "display_data"
    },
    {
     "data": {
      "text/html": [
       "<div>\n",
       "<style scoped>\n",
       "    .dataframe tbody tr th:only-of-type {\n",
       "        vertical-align: middle;\n",
       "    }\n",
       "\n",
       "    .dataframe tbody tr th {\n",
       "        vertical-align: top;\n",
       "    }\n",
       "\n",
       "    .dataframe thead th {\n",
       "        text-align: right;\n",
       "    }\n",
       "</style>\n",
       "<table border=\"1\" class=\"dataframe\">\n",
       "  <thead>\n",
       "    <tr style=\"text-align: right;\">\n",
       "      <th></th>\n",
       "      <th>Unnamed: 0</th>\n",
       "      <th>mb_used</th>\n",
       "      <th>user_id</th>\n",
       "    </tr>\n",
       "  </thead>\n",
       "  <tbody>\n",
       "    <tr>\n",
       "      <th>count</th>\n",
       "      <td>149,396.00</td>\n",
       "      <td>149,396.00</td>\n",
       "      <td>149,396.00</td>\n",
       "    </tr>\n",
       "    <tr>\n",
       "      <th>mean</th>\n",
       "      <td>74,697.50</td>\n",
       "      <td>370.19</td>\n",
       "      <td>1,252.10</td>\n",
       "    </tr>\n",
       "    <tr>\n",
       "      <th>std</th>\n",
       "      <td>43,127.05</td>\n",
       "      <td>278.30</td>\n",
       "      <td>144.05</td>\n",
       "    </tr>\n",
       "    <tr>\n",
       "      <th>min</th>\n",
       "      <td>0.00</td>\n",
       "      <td>0.00</td>\n",
       "      <td>1,000.00</td>\n",
       "    </tr>\n",
       "    <tr>\n",
       "      <th>25%</th>\n",
       "      <td>37,348.75</td>\n",
       "      <td>138.19</td>\n",
       "      <td>1,130.00</td>\n",
       "    </tr>\n",
       "    <tr>\n",
       "      <th>50%</th>\n",
       "      <td>74,697.50</td>\n",
       "      <td>348.01</td>\n",
       "      <td>1,251.00</td>\n",
       "    </tr>\n",
       "    <tr>\n",
       "      <th>75%</th>\n",
       "      <td>112,046.25</td>\n",
       "      <td>559.55</td>\n",
       "      <td>1,380.00</td>\n",
       "    </tr>\n",
       "    <tr>\n",
       "      <th>max</th>\n",
       "      <td>149,395.00</td>\n",
       "      <td>1,724.83</td>\n",
       "      <td>1,499.00</td>\n",
       "    </tr>\n",
       "  </tbody>\n",
       "</table>\n",
       "</div>"
      ],
      "text/plain": [
       "       Unnamed: 0    mb_used    user_id\n",
       "count  149,396.00 149,396.00 149,396.00\n",
       "mean    74,697.50     370.19   1,252.10\n",
       "std     43,127.05     278.30     144.05\n",
       "min          0.00       0.00   1,000.00\n",
       "25%     37,348.75     138.19   1,130.00\n",
       "50%     74,697.50     348.01   1,251.00\n",
       "75%    112,046.25     559.55   1,380.00\n",
       "max    149,395.00   1,724.83   1,499.00"
      ]
     },
     "metadata": {},
     "output_type": "display_data"
    },
    {
     "data": {
      "text/plain": [
       "Unnamed: 0      0.00%\n",
       "id              0.00%\n",
       "mb_used         0.00%\n",
       "session_date    0.00%\n",
       "user_id         0.00%\n",
       "dtype: object"
      ]
     },
     "metadata": {},
     "output_type": "display_data"
    }
   ],
   "source": [
    "# Вывод общей информации по таблице \"Интернет\" \n",
    "print(\"Интернет\")\n",
    "all_info(internet)"
   ]
  },
  {
   "cell_type": "code",
   "execution_count": 4,
   "metadata": {},
   "outputs": [
    {
     "name": "stdout",
     "output_type": "stream",
     "text": [
      "Сообщения\n",
      "<class 'pandas.core.frame.DataFrame'>\n",
      "RangeIndex: 123036 entries, 0 to 123035\n",
      "Data columns (total 3 columns):\n",
      " #   Column        Non-Null Count   Dtype \n",
      "---  ------        --------------   ----- \n",
      " 0   id            123036 non-null  object\n",
      " 1   message_date  123036 non-null  object\n",
      " 2   user_id       123036 non-null  int64 \n",
      "dtypes: int64(1), object(2)\n",
      "memory usage: 2.8+ MB\n"
     ]
    },
    {
     "data": {
      "text/html": [
       "<div>\n",
       "<style scoped>\n",
       "    .dataframe tbody tr th:only-of-type {\n",
       "        vertical-align: middle;\n",
       "    }\n",
       "\n",
       "    .dataframe tbody tr th {\n",
       "        vertical-align: top;\n",
       "    }\n",
       "\n",
       "    .dataframe thead th {\n",
       "        text-align: right;\n",
       "    }\n",
       "</style>\n",
       "<table border=\"1\" class=\"dataframe\">\n",
       "  <thead>\n",
       "    <tr style=\"text-align: right;\">\n",
       "      <th></th>\n",
       "      <th>id</th>\n",
       "      <th>message_date</th>\n",
       "      <th>user_id</th>\n",
       "    </tr>\n",
       "  </thead>\n",
       "  <tbody>\n",
       "    <tr>\n",
       "      <th>0</th>\n",
       "      <td>1000_0</td>\n",
       "      <td>2018-06-27</td>\n",
       "      <td>1000</td>\n",
       "    </tr>\n",
       "    <tr>\n",
       "      <th>1</th>\n",
       "      <td>1000_1</td>\n",
       "      <td>2018-10-08</td>\n",
       "      <td>1000</td>\n",
       "    </tr>\n",
       "    <tr>\n",
       "      <th>2</th>\n",
       "      <td>1000_2</td>\n",
       "      <td>2018-08-04</td>\n",
       "      <td>1000</td>\n",
       "    </tr>\n",
       "    <tr>\n",
       "      <th>3</th>\n",
       "      <td>1000_3</td>\n",
       "      <td>2018-06-16</td>\n",
       "      <td>1000</td>\n",
       "    </tr>\n",
       "    <tr>\n",
       "      <th>4</th>\n",
       "      <td>1000_4</td>\n",
       "      <td>2018-12-05</td>\n",
       "      <td>1000</td>\n",
       "    </tr>\n",
       "    <tr>\n",
       "      <th>5</th>\n",
       "      <td>1000_5</td>\n",
       "      <td>2018-06-20</td>\n",
       "      <td>1000</td>\n",
       "    </tr>\n",
       "    <tr>\n",
       "      <th>6</th>\n",
       "      <td>1000_6</td>\n",
       "      <td>2018-11-19</td>\n",
       "      <td>1000</td>\n",
       "    </tr>\n",
       "    <tr>\n",
       "      <th>7</th>\n",
       "      <td>1000_7</td>\n",
       "      <td>2018-10-29</td>\n",
       "      <td>1000</td>\n",
       "    </tr>\n",
       "    <tr>\n",
       "      <th>8</th>\n",
       "      <td>1000_8</td>\n",
       "      <td>2018-06-25</td>\n",
       "      <td>1000</td>\n",
       "    </tr>\n",
       "    <tr>\n",
       "      <th>9</th>\n",
       "      <td>1000_9</td>\n",
       "      <td>2018-12-18</td>\n",
       "      <td>1000</td>\n",
       "    </tr>\n",
       "  </tbody>\n",
       "</table>\n",
       "</div>"
      ],
      "text/plain": [
       "       id message_date  user_id\n",
       "0  1000_0   2018-06-27     1000\n",
       "1  1000_1   2018-10-08     1000\n",
       "2  1000_2   2018-08-04     1000\n",
       "3  1000_3   2018-06-16     1000\n",
       "4  1000_4   2018-12-05     1000\n",
       "5  1000_5   2018-06-20     1000\n",
       "6  1000_6   2018-11-19     1000\n",
       "7  1000_7   2018-10-29     1000\n",
       "8  1000_8   2018-06-25     1000\n",
       "9  1000_9   2018-12-18     1000"
      ]
     },
     "metadata": {},
     "output_type": "display_data"
    },
    {
     "data": {
      "text/html": [
       "<div>\n",
       "<style scoped>\n",
       "    .dataframe tbody tr th:only-of-type {\n",
       "        vertical-align: middle;\n",
       "    }\n",
       "\n",
       "    .dataframe tbody tr th {\n",
       "        vertical-align: top;\n",
       "    }\n",
       "\n",
       "    .dataframe thead th {\n",
       "        text-align: right;\n",
       "    }\n",
       "</style>\n",
       "<table border=\"1\" class=\"dataframe\">\n",
       "  <thead>\n",
       "    <tr style=\"text-align: right;\">\n",
       "      <th></th>\n",
       "      <th>user_id</th>\n",
       "    </tr>\n",
       "  </thead>\n",
       "  <tbody>\n",
       "    <tr>\n",
       "      <th>count</th>\n",
       "      <td>123,036.00</td>\n",
       "    </tr>\n",
       "    <tr>\n",
       "      <th>mean</th>\n",
       "      <td>1,256.99</td>\n",
       "    </tr>\n",
       "    <tr>\n",
       "      <th>std</th>\n",
       "      <td>143.52</td>\n",
       "    </tr>\n",
       "    <tr>\n",
       "      <th>min</th>\n",
       "      <td>1,000.00</td>\n",
       "    </tr>\n",
       "    <tr>\n",
       "      <th>25%</th>\n",
       "      <td>1,134.00</td>\n",
       "    </tr>\n",
       "    <tr>\n",
       "      <th>50%</th>\n",
       "      <td>1,271.00</td>\n",
       "    </tr>\n",
       "    <tr>\n",
       "      <th>75%</th>\n",
       "      <td>1,381.00</td>\n",
       "    </tr>\n",
       "    <tr>\n",
       "      <th>max</th>\n",
       "      <td>1,499.00</td>\n",
       "    </tr>\n",
       "  </tbody>\n",
       "</table>\n",
       "</div>"
      ],
      "text/plain": [
       "         user_id\n",
       "count 123,036.00\n",
       "mean    1,256.99\n",
       "std       143.52\n",
       "min     1,000.00\n",
       "25%     1,134.00\n",
       "50%     1,271.00\n",
       "75%     1,381.00\n",
       "max     1,499.00"
      ]
     },
     "metadata": {},
     "output_type": "display_data"
    },
    {
     "data": {
      "text/plain": [
       "id              0.00%\n",
       "message_date    0.00%\n",
       "user_id         0.00%\n",
       "dtype: object"
      ]
     },
     "metadata": {},
     "output_type": "display_data"
    }
   ],
   "source": [
    "# Вывод общей информации по таблице \"Сообщения\" \n",
    "print(\"Сообщения\")\n",
    "all_info(messages)"
   ]
  },
  {
   "cell_type": "code",
   "execution_count": 5,
   "metadata": {},
   "outputs": [
    {
     "name": "stdout",
     "output_type": "stream",
     "text": [
      "Тарифы\n",
      "<class 'pandas.core.frame.DataFrame'>\n",
      "RangeIndex: 2 entries, 0 to 1\n",
      "Data columns (total 8 columns):\n",
      " #   Column                 Non-Null Count  Dtype \n",
      "---  ------                 --------------  ----- \n",
      " 0   messages_included      2 non-null      int64 \n",
      " 1   mb_per_month_included  2 non-null      int64 \n",
      " 2   minutes_included       2 non-null      int64 \n",
      " 3   rub_monthly_fee        2 non-null      int64 \n",
      " 4   rub_per_gb             2 non-null      int64 \n",
      " 5   rub_per_message        2 non-null      int64 \n",
      " 6   rub_per_minute         2 non-null      int64 \n",
      " 7   tariff_name            2 non-null      object\n",
      "dtypes: int64(7), object(1)\n",
      "memory usage: 256.0+ bytes\n"
     ]
    },
    {
     "data": {
      "text/html": [
       "<div>\n",
       "<style scoped>\n",
       "    .dataframe tbody tr th:only-of-type {\n",
       "        vertical-align: middle;\n",
       "    }\n",
       "\n",
       "    .dataframe tbody tr th {\n",
       "        vertical-align: top;\n",
       "    }\n",
       "\n",
       "    .dataframe thead th {\n",
       "        text-align: right;\n",
       "    }\n",
       "</style>\n",
       "<table border=\"1\" class=\"dataframe\">\n",
       "  <thead>\n",
       "    <tr style=\"text-align: right;\">\n",
       "      <th></th>\n",
       "      <th>messages_included</th>\n",
       "      <th>mb_per_month_included</th>\n",
       "      <th>minutes_included</th>\n",
       "      <th>rub_monthly_fee</th>\n",
       "      <th>rub_per_gb</th>\n",
       "      <th>rub_per_message</th>\n",
       "      <th>rub_per_minute</th>\n",
       "      <th>tariff_name</th>\n",
       "    </tr>\n",
       "  </thead>\n",
       "  <tbody>\n",
       "    <tr>\n",
       "      <th>0</th>\n",
       "      <td>50</td>\n",
       "      <td>15360</td>\n",
       "      <td>500</td>\n",
       "      <td>550</td>\n",
       "      <td>200</td>\n",
       "      <td>3</td>\n",
       "      <td>3</td>\n",
       "      <td>smart</td>\n",
       "    </tr>\n",
       "    <tr>\n",
       "      <th>1</th>\n",
       "      <td>1000</td>\n",
       "      <td>30720</td>\n",
       "      <td>3000</td>\n",
       "      <td>1950</td>\n",
       "      <td>150</td>\n",
       "      <td>1</td>\n",
       "      <td>1</td>\n",
       "      <td>ultra</td>\n",
       "    </tr>\n",
       "  </tbody>\n",
       "</table>\n",
       "</div>"
      ],
      "text/plain": [
       "   messages_included  mb_per_month_included  minutes_included  \\\n",
       "0                 50                  15360               500   \n",
       "1               1000                  30720              3000   \n",
       "\n",
       "   rub_monthly_fee  rub_per_gb  rub_per_message  rub_per_minute tariff_name  \n",
       "0              550         200                3               3       smart  \n",
       "1             1950         150                1               1       ultra  "
      ]
     },
     "metadata": {},
     "output_type": "display_data"
    },
    {
     "data": {
      "text/html": [
       "<div>\n",
       "<style scoped>\n",
       "    .dataframe tbody tr th:only-of-type {\n",
       "        vertical-align: middle;\n",
       "    }\n",
       "\n",
       "    .dataframe tbody tr th {\n",
       "        vertical-align: top;\n",
       "    }\n",
       "\n",
       "    .dataframe thead th {\n",
       "        text-align: right;\n",
       "    }\n",
       "</style>\n",
       "<table border=\"1\" class=\"dataframe\">\n",
       "  <thead>\n",
       "    <tr style=\"text-align: right;\">\n",
       "      <th></th>\n",
       "      <th>messages_included</th>\n",
       "      <th>mb_per_month_included</th>\n",
       "      <th>minutes_included</th>\n",
       "      <th>rub_monthly_fee</th>\n",
       "      <th>rub_per_gb</th>\n",
       "      <th>rub_per_message</th>\n",
       "      <th>rub_per_minute</th>\n",
       "    </tr>\n",
       "  </thead>\n",
       "  <tbody>\n",
       "    <tr>\n",
       "      <th>count</th>\n",
       "      <td>2.00</td>\n",
       "      <td>2.00</td>\n",
       "      <td>2.00</td>\n",
       "      <td>2.00</td>\n",
       "      <td>2.00</td>\n",
       "      <td>2.00</td>\n",
       "      <td>2.00</td>\n",
       "    </tr>\n",
       "    <tr>\n",
       "      <th>mean</th>\n",
       "      <td>525.00</td>\n",
       "      <td>23,040.00</td>\n",
       "      <td>1,750.00</td>\n",
       "      <td>1,250.00</td>\n",
       "      <td>175.00</td>\n",
       "      <td>2.00</td>\n",
       "      <td>2.00</td>\n",
       "    </tr>\n",
       "    <tr>\n",
       "      <th>std</th>\n",
       "      <td>671.75</td>\n",
       "      <td>10,861.16</td>\n",
       "      <td>1,767.77</td>\n",
       "      <td>989.95</td>\n",
       "      <td>35.36</td>\n",
       "      <td>1.41</td>\n",
       "      <td>1.41</td>\n",
       "    </tr>\n",
       "    <tr>\n",
       "      <th>min</th>\n",
       "      <td>50.00</td>\n",
       "      <td>15,360.00</td>\n",
       "      <td>500.00</td>\n",
       "      <td>550.00</td>\n",
       "      <td>150.00</td>\n",
       "      <td>1.00</td>\n",
       "      <td>1.00</td>\n",
       "    </tr>\n",
       "    <tr>\n",
       "      <th>25%</th>\n",
       "      <td>287.50</td>\n",
       "      <td>19,200.00</td>\n",
       "      <td>1,125.00</td>\n",
       "      <td>900.00</td>\n",
       "      <td>162.50</td>\n",
       "      <td>1.50</td>\n",
       "      <td>1.50</td>\n",
       "    </tr>\n",
       "    <tr>\n",
       "      <th>50%</th>\n",
       "      <td>525.00</td>\n",
       "      <td>23,040.00</td>\n",
       "      <td>1,750.00</td>\n",
       "      <td>1,250.00</td>\n",
       "      <td>175.00</td>\n",
       "      <td>2.00</td>\n",
       "      <td>2.00</td>\n",
       "    </tr>\n",
       "    <tr>\n",
       "      <th>75%</th>\n",
       "      <td>762.50</td>\n",
       "      <td>26,880.00</td>\n",
       "      <td>2,375.00</td>\n",
       "      <td>1,600.00</td>\n",
       "      <td>187.50</td>\n",
       "      <td>2.50</td>\n",
       "      <td>2.50</td>\n",
       "    </tr>\n",
       "    <tr>\n",
       "      <th>max</th>\n",
       "      <td>1,000.00</td>\n",
       "      <td>30,720.00</td>\n",
       "      <td>3,000.00</td>\n",
       "      <td>1,950.00</td>\n",
       "      <td>200.00</td>\n",
       "      <td>3.00</td>\n",
       "      <td>3.00</td>\n",
       "    </tr>\n",
       "  </tbody>\n",
       "</table>\n",
       "</div>"
      ],
      "text/plain": [
       "       messages_included  mb_per_month_included  minutes_included  \\\n",
       "count               2.00                   2.00              2.00   \n",
       "mean              525.00              23,040.00          1,750.00   \n",
       "std               671.75              10,861.16          1,767.77   \n",
       "min                50.00              15,360.00            500.00   \n",
       "25%               287.50              19,200.00          1,125.00   \n",
       "50%               525.00              23,040.00          1,750.00   \n",
       "75%               762.50              26,880.00          2,375.00   \n",
       "max             1,000.00              30,720.00          3,000.00   \n",
       "\n",
       "       rub_monthly_fee  rub_per_gb  rub_per_message  rub_per_minute  \n",
       "count             2.00        2.00             2.00            2.00  \n",
       "mean          1,250.00      175.00             2.00            2.00  \n",
       "std             989.95       35.36             1.41            1.41  \n",
       "min             550.00      150.00             1.00            1.00  \n",
       "25%             900.00      162.50             1.50            1.50  \n",
       "50%           1,250.00      175.00             2.00            2.00  \n",
       "75%           1,600.00      187.50             2.50            2.50  \n",
       "max           1,950.00      200.00             3.00            3.00  "
      ]
     },
     "metadata": {},
     "output_type": "display_data"
    },
    {
     "data": {
      "text/plain": [
       "messages_included        0.00%\n",
       "mb_per_month_included    0.00%\n",
       "minutes_included         0.00%\n",
       "rub_monthly_fee          0.00%\n",
       "rub_per_gb               0.00%\n",
       "rub_per_message          0.00%\n",
       "rub_per_minute           0.00%\n",
       "tariff_name              0.00%\n",
       "dtype: object"
      ]
     },
     "metadata": {},
     "output_type": "display_data"
    }
   ],
   "source": [
    "# Вывод общей информации по таблице \"Тарифы\" \n",
    "print(\"Тарифы\")\n",
    "all_info(tariffs)"
   ]
  },
  {
   "cell_type": "code",
   "execution_count": 6,
   "metadata": {},
   "outputs": [
    {
     "name": "stdout",
     "output_type": "stream",
     "text": [
      "Пользователи\n",
      "<class 'pandas.core.frame.DataFrame'>\n",
      "RangeIndex: 500 entries, 0 to 499\n",
      "Data columns (total 8 columns):\n",
      " #   Column      Non-Null Count  Dtype \n",
      "---  ------      --------------  ----- \n",
      " 0   user_id     500 non-null    int64 \n",
      " 1   age         500 non-null    int64 \n",
      " 2   churn_date  38 non-null     object\n",
      " 3   city        500 non-null    object\n",
      " 4   first_name  500 non-null    object\n",
      " 5   last_name   500 non-null    object\n",
      " 6   reg_date    500 non-null    object\n",
      " 7   tariff      500 non-null    object\n",
      "dtypes: int64(2), object(6)\n",
      "memory usage: 31.4+ KB\n"
     ]
    },
    {
     "data": {
      "text/html": [
       "<div>\n",
       "<style scoped>\n",
       "    .dataframe tbody tr th:only-of-type {\n",
       "        vertical-align: middle;\n",
       "    }\n",
       "\n",
       "    .dataframe tbody tr th {\n",
       "        vertical-align: top;\n",
       "    }\n",
       "\n",
       "    .dataframe thead th {\n",
       "        text-align: right;\n",
       "    }\n",
       "</style>\n",
       "<table border=\"1\" class=\"dataframe\">\n",
       "  <thead>\n",
       "    <tr style=\"text-align: right;\">\n",
       "      <th></th>\n",
       "      <th>user_id</th>\n",
       "      <th>age</th>\n",
       "      <th>churn_date</th>\n",
       "      <th>city</th>\n",
       "      <th>first_name</th>\n",
       "      <th>last_name</th>\n",
       "      <th>reg_date</th>\n",
       "      <th>tariff</th>\n",
       "    </tr>\n",
       "  </thead>\n",
       "  <tbody>\n",
       "    <tr>\n",
       "      <th>0</th>\n",
       "      <td>1000</td>\n",
       "      <td>52</td>\n",
       "      <td>NaN</td>\n",
       "      <td>Краснодар</td>\n",
       "      <td>Рафаил</td>\n",
       "      <td>Верещагин</td>\n",
       "      <td>2018-05-25</td>\n",
       "      <td>ultra</td>\n",
       "    </tr>\n",
       "    <tr>\n",
       "      <th>1</th>\n",
       "      <td>1001</td>\n",
       "      <td>41</td>\n",
       "      <td>NaN</td>\n",
       "      <td>Москва</td>\n",
       "      <td>Иван</td>\n",
       "      <td>Ежов</td>\n",
       "      <td>2018-11-01</td>\n",
       "      <td>smart</td>\n",
       "    </tr>\n",
       "    <tr>\n",
       "      <th>2</th>\n",
       "      <td>1002</td>\n",
       "      <td>59</td>\n",
       "      <td>NaN</td>\n",
       "      <td>Стерлитамак</td>\n",
       "      <td>Евгений</td>\n",
       "      <td>Абрамович</td>\n",
       "      <td>2018-06-17</td>\n",
       "      <td>smart</td>\n",
       "    </tr>\n",
       "    <tr>\n",
       "      <th>3</th>\n",
       "      <td>1003</td>\n",
       "      <td>23</td>\n",
       "      <td>NaN</td>\n",
       "      <td>Москва</td>\n",
       "      <td>Белла</td>\n",
       "      <td>Белякова</td>\n",
       "      <td>2018-08-17</td>\n",
       "      <td>ultra</td>\n",
       "    </tr>\n",
       "    <tr>\n",
       "      <th>4</th>\n",
       "      <td>1004</td>\n",
       "      <td>68</td>\n",
       "      <td>NaN</td>\n",
       "      <td>Новокузнецк</td>\n",
       "      <td>Татьяна</td>\n",
       "      <td>Авдеенко</td>\n",
       "      <td>2018-05-14</td>\n",
       "      <td>ultra</td>\n",
       "    </tr>\n",
       "    <tr>\n",
       "      <th>5</th>\n",
       "      <td>1005</td>\n",
       "      <td>67</td>\n",
       "      <td>NaN</td>\n",
       "      <td>Набережные Челны</td>\n",
       "      <td>Афанасий</td>\n",
       "      <td>Горлов</td>\n",
       "      <td>2018-01-25</td>\n",
       "      <td>smart</td>\n",
       "    </tr>\n",
       "    <tr>\n",
       "      <th>6</th>\n",
       "      <td>1006</td>\n",
       "      <td>21</td>\n",
       "      <td>NaN</td>\n",
       "      <td>Ульяновск</td>\n",
       "      <td>Леонид</td>\n",
       "      <td>Ермолаев</td>\n",
       "      <td>2018-02-26</td>\n",
       "      <td>smart</td>\n",
       "    </tr>\n",
       "    <tr>\n",
       "      <th>7</th>\n",
       "      <td>1007</td>\n",
       "      <td>65</td>\n",
       "      <td>NaN</td>\n",
       "      <td>Москва</td>\n",
       "      <td>Юна</td>\n",
       "      <td>Березина</td>\n",
       "      <td>2018-04-19</td>\n",
       "      <td>smart</td>\n",
       "    </tr>\n",
       "    <tr>\n",
       "      <th>8</th>\n",
       "      <td>1008</td>\n",
       "      <td>63</td>\n",
       "      <td>NaN</td>\n",
       "      <td>Челябинск</td>\n",
       "      <td>Рустэм</td>\n",
       "      <td>Пономарёв</td>\n",
       "      <td>2018-12-19</td>\n",
       "      <td>smart</td>\n",
       "    </tr>\n",
       "    <tr>\n",
       "      <th>9</th>\n",
       "      <td>1009</td>\n",
       "      <td>24</td>\n",
       "      <td>NaN</td>\n",
       "      <td>Пермь</td>\n",
       "      <td>Василиса</td>\n",
       "      <td>Блинова</td>\n",
       "      <td>2018-03-22</td>\n",
       "      <td>smart</td>\n",
       "    </tr>\n",
       "  </tbody>\n",
       "</table>\n",
       "</div>"
      ],
      "text/plain": [
       "   user_id  age churn_date              city first_name  last_name  \\\n",
       "0     1000   52        NaN         Краснодар     Рафаил  Верещагин   \n",
       "1     1001   41        NaN            Москва       Иван       Ежов   \n",
       "2     1002   59        NaN       Стерлитамак    Евгений  Абрамович   \n",
       "3     1003   23        NaN            Москва      Белла   Белякова   \n",
       "4     1004   68        NaN       Новокузнецк    Татьяна   Авдеенко   \n",
       "5     1005   67        NaN  Набережные Челны   Афанасий     Горлов   \n",
       "6     1006   21        NaN         Ульяновск     Леонид   Ермолаев   \n",
       "7     1007   65        NaN            Москва        Юна   Березина   \n",
       "8     1008   63        NaN         Челябинск     Рустэм  Пономарёв   \n",
       "9     1009   24        NaN             Пермь   Василиса    Блинова   \n",
       "\n",
       "     reg_date tariff  \n",
       "0  2018-05-25  ultra  \n",
       "1  2018-11-01  smart  \n",
       "2  2018-06-17  smart  \n",
       "3  2018-08-17  ultra  \n",
       "4  2018-05-14  ultra  \n",
       "5  2018-01-25  smart  \n",
       "6  2018-02-26  smart  \n",
       "7  2018-04-19  smart  \n",
       "8  2018-12-19  smart  \n",
       "9  2018-03-22  smart  "
      ]
     },
     "metadata": {},
     "output_type": "display_data"
    },
    {
     "data": {
      "text/html": [
       "<div>\n",
       "<style scoped>\n",
       "    .dataframe tbody tr th:only-of-type {\n",
       "        vertical-align: middle;\n",
       "    }\n",
       "\n",
       "    .dataframe tbody tr th {\n",
       "        vertical-align: top;\n",
       "    }\n",
       "\n",
       "    .dataframe thead th {\n",
       "        text-align: right;\n",
       "    }\n",
       "</style>\n",
       "<table border=\"1\" class=\"dataframe\">\n",
       "  <thead>\n",
       "    <tr style=\"text-align: right;\">\n",
       "      <th></th>\n",
       "      <th>user_id</th>\n",
       "      <th>age</th>\n",
       "    </tr>\n",
       "  </thead>\n",
       "  <tbody>\n",
       "    <tr>\n",
       "      <th>count</th>\n",
       "      <td>500.00</td>\n",
       "      <td>500.00</td>\n",
       "    </tr>\n",
       "    <tr>\n",
       "      <th>mean</th>\n",
       "      <td>1,249.50</td>\n",
       "      <td>46.59</td>\n",
       "    </tr>\n",
       "    <tr>\n",
       "      <th>std</th>\n",
       "      <td>144.48</td>\n",
       "      <td>16.67</td>\n",
       "    </tr>\n",
       "    <tr>\n",
       "      <th>min</th>\n",
       "      <td>1,000.00</td>\n",
       "      <td>18.00</td>\n",
       "    </tr>\n",
       "    <tr>\n",
       "      <th>25%</th>\n",
       "      <td>1,124.75</td>\n",
       "      <td>32.00</td>\n",
       "    </tr>\n",
       "    <tr>\n",
       "      <th>50%</th>\n",
       "      <td>1,249.50</td>\n",
       "      <td>46.00</td>\n",
       "    </tr>\n",
       "    <tr>\n",
       "      <th>75%</th>\n",
       "      <td>1,374.25</td>\n",
       "      <td>62.00</td>\n",
       "    </tr>\n",
       "    <tr>\n",
       "      <th>max</th>\n",
       "      <td>1,499.00</td>\n",
       "      <td>75.00</td>\n",
       "    </tr>\n",
       "  </tbody>\n",
       "</table>\n",
       "</div>"
      ],
      "text/plain": [
       "       user_id    age\n",
       "count   500.00 500.00\n",
       "mean  1,249.50  46.59\n",
       "std     144.48  16.67\n",
       "min   1,000.00  18.00\n",
       "25%   1,124.75  32.00\n",
       "50%   1,249.50  46.00\n",
       "75%   1,374.25  62.00\n",
       "max   1,499.00  75.00"
      ]
     },
     "metadata": {},
     "output_type": "display_data"
    },
    {
     "data": {
      "text/plain": [
       "user_id        0.00%\n",
       "age            0.00%\n",
       "churn_date    92.40%\n",
       "city           0.00%\n",
       "first_name     0.00%\n",
       "last_name      0.00%\n",
       "reg_date       0.00%\n",
       "tariff         0.00%\n",
       "dtype: object"
      ]
     },
     "metadata": {},
     "output_type": "display_data"
    }
   ],
   "source": [
    "# Вывод общей информации по таблице \"Пользователи\" \n",
    "print(\"Пользователи\")\n",
    "all_info(users)\n",
    "\n",
    "# Переименуем колонку \"Тариф\" для удобства\n",
    "users.rename(columns={'tariff':'tariff_name'}, inplace=True)"
   ]
  },
  {
   "cell_type": "markdown",
   "metadata": {},
   "source": []
  },
  {
   "cell_type": "markdown",
   "metadata": {},
   "source": [
    "**Вывод**\n",
    "\n",
    "На первый взгляд в данных нет пропусков, кроме колонки `'churn_date'` в таблице пользователей. Пропуски в данных обусловлены тем, что пользователи пользуются выбранным тарифом на момент выгрузки данных.\n",
    "\n",
    "Таблица \"Интернет\" содержит столбец \"Unnamed: 0\", который не несет никакой информации, кроме дублирования индексов таблицы, соответственно его можно будет удалить.\n",
    "\n",
    "Колонка \"Дата\" во всех таблицах, где она есть, имеет тип данных object, следует перевести дату в соответсвующий тип."
   ]
  },
  {
   "cell_type": "markdown",
   "metadata": {},
   "source": [
    "### Поиск дубликатов"
   ]
  },
  {
   "cell_type": "markdown",
   "metadata": {},
   "source": [
    "Для поиска явных дубликатов воспользуемся методом duplicated()."
   ]
  },
  {
   "cell_type": "code",
   "execution_count": 7,
   "metadata": {},
   "outputs": [
    {
     "name": "stdout",
     "output_type": "stream",
     "text": [
      "0\n",
      "0\n",
      "0\n",
      "0\n"
     ]
    }
   ],
   "source": [
    "#Количество дубликатов в таблице \"Звонки\"\n",
    "print(calls.duplicated().sum())\n",
    "\n",
    "#Количество дубликатов в таблице \"Интернет\"\n",
    "print(internet.duplicated().sum())\n",
    "\n",
    "#Количество дубликатов в таблице \"Сообщения\"\n",
    "print(messages.duplicated().sum())\n",
    "\n",
    "#Количество дубликатов в таблице \"Пользователи\"\n",
    "print(users.duplicated().sum())"
   ]
  },
  {
   "cell_type": "markdown",
   "metadata": {},
   "source": [
    "**Вывод**\n",
    "\n",
    "Явных дубликатов в таблицах нет."
   ]
  },
  {
   "cell_type": "markdown",
   "metadata": {},
   "source": [
    "### Аномальные значения"
   ]
  },
  {
   "cell_type": "markdown",
   "metadata": {},
   "source": [
    "При первичном осмотре метод describe() был применен для оценки основных параметров, где могут наблюдаться аномальные или нелогичные значения, например, возраст 143 года. Аномальных значений нет.\n",
    "\n",
    "Избавимся от колонки \"Unnamed: 0\" в таблице \"Интернет\" с помощью метода drop()."
   ]
  },
  {
   "cell_type": "code",
   "execution_count": 8,
   "metadata": {},
   "outputs": [
    {
     "name": "stdout",
     "output_type": "stream",
     "text": [
      "<class 'pandas.core.frame.DataFrame'>\n",
      "RangeIndex: 149396 entries, 0 to 149395\n",
      "Data columns (total 4 columns):\n",
      " #   Column        Non-Null Count   Dtype  \n",
      "---  ------        --------------   -----  \n",
      " 0   id            149396 non-null  object \n",
      " 1   mb_used       149396 non-null  float64\n",
      " 2   session_date  149396 non-null  object \n",
      " 3   user_id       149396 non-null  int64  \n",
      "dtypes: float64(1), int64(1), object(2)\n",
      "memory usage: 4.6+ MB\n"
     ]
    }
   ],
   "source": [
    "# Избавляемся от колонки\n",
    "internet.drop(columns=['Unnamed: 0'], inplace=True)\n",
    "\n",
    "# Проверка результата\n",
    "internet.info()"
   ]
  },
  {
   "cell_type": "markdown",
   "metadata": {},
   "source": [
    "**Вывод**\n",
    "\n",
    "Аномальных значений не обнаружено, лишняя колонка удалена."
   ]
  },
  {
   "cell_type": "markdown",
   "metadata": {},
   "source": [
    "### Редактирование типов данных."
   ]
  },
  {
   "cell_type": "markdown",
   "metadata": {},
   "source": [
    "Как было замечено ранее, во всех таблицах колдонка \"Дата\" имеет тип object. Для перевода воспользуемся методом to_datetime()."
   ]
  },
  {
   "cell_type": "code",
   "execution_count": 9,
   "metadata": {},
   "outputs": [
    {
     "name": "stdout",
     "output_type": "stream",
     "text": [
      "<class 'pandas.core.frame.DataFrame'>\n",
      "RangeIndex: 202607 entries, 0 to 202606\n",
      "Data columns (total 4 columns):\n",
      " #   Column     Non-Null Count   Dtype         \n",
      "---  ------     --------------   -----         \n",
      " 0   id         202607 non-null  object        \n",
      " 1   call_date  202607 non-null  datetime64[ns]\n",
      " 2   duration   202607 non-null  float64       \n",
      " 3   user_id    202607 non-null  int64         \n",
      "dtypes: datetime64[ns](1), float64(1), int64(1), object(1)\n",
      "memory usage: 6.2+ MB\n",
      "None\n",
      "<class 'pandas.core.frame.DataFrame'>\n",
      "RangeIndex: 123036 entries, 0 to 123035\n",
      "Data columns (total 3 columns):\n",
      " #   Column        Non-Null Count   Dtype         \n",
      "---  ------        --------------   -----         \n",
      " 0   id            123036 non-null  object        \n",
      " 1   message_date  123036 non-null  datetime64[ns]\n",
      " 2   user_id       123036 non-null  int64         \n",
      "dtypes: datetime64[ns](1), int64(1), object(1)\n",
      "memory usage: 2.8+ MB\n",
      "None\n",
      "<class 'pandas.core.frame.DataFrame'>\n",
      "RangeIndex: 149396 entries, 0 to 149395\n",
      "Data columns (total 4 columns):\n",
      " #   Column        Non-Null Count   Dtype         \n",
      "---  ------        --------------   -----         \n",
      " 0   id            149396 non-null  object        \n",
      " 1   mb_used       149396 non-null  float64       \n",
      " 2   session_date  149396 non-null  datetime64[ns]\n",
      " 3   user_id       149396 non-null  int64         \n",
      "dtypes: datetime64[ns](1), float64(1), int64(1), object(1)\n",
      "memory usage: 4.6+ MB\n",
      "None\n",
      "<class 'pandas.core.frame.DataFrame'>\n",
      "RangeIndex: 500 entries, 0 to 499\n",
      "Data columns (total 8 columns):\n",
      " #   Column       Non-Null Count  Dtype         \n",
      "---  ------       --------------  -----         \n",
      " 0   user_id      500 non-null    int64         \n",
      " 1   age          500 non-null    int64         \n",
      " 2   churn_date   38 non-null     object        \n",
      " 3   city         500 non-null    object        \n",
      " 4   first_name   500 non-null    object        \n",
      " 5   last_name    500 non-null    object        \n",
      " 6   reg_date     500 non-null    datetime64[ns]\n",
      " 7   tariff_name  500 non-null    object        \n",
      "dtypes: datetime64[ns](1), int64(2), object(5)\n",
      "memory usage: 31.4+ KB\n",
      "None\n"
     ]
    }
   ],
   "source": [
    "# Переводим значения в колонках \"Дата\" во всех таблицах\n",
    "calls['call_date'] = pd.to_datetime(calls['call_date'], format='%Y-%m-%d')\n",
    "messages['message_date'] = pd.to_datetime(messages['message_date'], format='%Y-%m-%d')\n",
    "internet['session_date'] = pd.to_datetime(internet['session_date'], format='%Y-%m-%d')\n",
    "users['reg_date'] = pd.to_datetime(users['reg_date'], format='%Y-%m-%d')\n",
    "\n",
    "# Проверка результата\n",
    "print(calls.info())\n",
    "print(messages.info())\n",
    "print(internet.info())\n",
    "print(users.info())"
   ]
  },
  {
   "cell_type": "markdown",
   "metadata": {},
   "source": [
    "**Вывод**\n",
    "\n",
    "Проведено изменение типов данных для колонок \"Дата\" во всех таблицах."
   ]
  },
  {
   "cell_type": "markdown",
   "metadata": {},
   "source": [
    "## Часть. Расчет месячных трат и добавление результатов в таблицы"
   ]
  },
  {
   "cell_type": "markdown",
   "metadata": {},
   "source": [
    "### Расчет количества звонков и минут разговора."
   ]
  },
  {
   "cell_type": "markdown",
   "metadata": {},
   "source": [
    "Чтобы выполнить помесячный расчет количества звонков и минут разговора создадим отдельную колонку \"month\", в которой будем хранить значение месяца. Также округлим каждый звонок в большую сторону, т.к. «Мегалайн» всегда округляет секунды до минут, каждый звонок округляется отдельно: даже если он длился всего 1 секунду, будет засчитан как 1 минута. После выделения месяца и округления длительности звонков можно создать сводную таблицу, которая как раз и будет отображать помесячное количество звонков и их суммарную длительность."
   ]
  },
  {
   "cell_type": "code",
   "execution_count": 10,
   "metadata": {},
   "outputs": [
    {
     "data": {
      "text/html": [
       "<div>\n",
       "<style scoped>\n",
       "    .dataframe tbody tr th:only-of-type {\n",
       "        vertical-align: middle;\n",
       "    }\n",
       "\n",
       "    .dataframe tbody tr th {\n",
       "        vertical-align: top;\n",
       "    }\n",
       "\n",
       "    .dataframe thead th {\n",
       "        text-align: right;\n",
       "    }\n",
       "</style>\n",
       "<table border=\"1\" class=\"dataframe\">\n",
       "  <thead>\n",
       "    <tr style=\"text-align: right;\">\n",
       "      <th></th>\n",
       "      <th></th>\n",
       "      <th>calls_duration</th>\n",
       "      <th>calls_count</th>\n",
       "    </tr>\n",
       "    <tr>\n",
       "      <th>user_id</th>\n",
       "      <th>month</th>\n",
       "      <th></th>\n",
       "      <th></th>\n",
       "    </tr>\n",
       "  </thead>\n",
       "  <tbody>\n",
       "    <tr>\n",
       "      <th rowspan=\"5\" valign=\"top\">1000</th>\n",
       "      <th>5</th>\n",
       "      <td>159.00</td>\n",
       "      <td>22</td>\n",
       "    </tr>\n",
       "    <tr>\n",
       "      <th>6</th>\n",
       "      <td>172.00</td>\n",
       "      <td>43</td>\n",
       "    </tr>\n",
       "    <tr>\n",
       "      <th>7</th>\n",
       "      <td>340.00</td>\n",
       "      <td>47</td>\n",
       "    </tr>\n",
       "    <tr>\n",
       "      <th>8</th>\n",
       "      <td>408.00</td>\n",
       "      <td>52</td>\n",
       "    </tr>\n",
       "    <tr>\n",
       "      <th>9</th>\n",
       "      <td>466.00</td>\n",
       "      <td>58</td>\n",
       "    </tr>\n",
       "    <tr>\n",
       "      <th>...</th>\n",
       "      <th>...</th>\n",
       "      <td>...</td>\n",
       "      <td>...</td>\n",
       "    </tr>\n",
       "    <tr>\n",
       "      <th>1498</th>\n",
       "      <th>10</th>\n",
       "      <td>247.00</td>\n",
       "      <td>41</td>\n",
       "    </tr>\n",
       "    <tr>\n",
       "      <th rowspan=\"4\" valign=\"top\">1499</th>\n",
       "      <th>9</th>\n",
       "      <td>70.00</td>\n",
       "      <td>9</td>\n",
       "    </tr>\n",
       "    <tr>\n",
       "      <th>10</th>\n",
       "      <td>449.00</td>\n",
       "      <td>68</td>\n",
       "    </tr>\n",
       "    <tr>\n",
       "      <th>11</th>\n",
       "      <td>612.00</td>\n",
       "      <td>74</td>\n",
       "    </tr>\n",
       "    <tr>\n",
       "      <th>12</th>\n",
       "      <td>492.00</td>\n",
       "      <td>69</td>\n",
       "    </tr>\n",
       "  </tbody>\n",
       "</table>\n",
       "<p>3174 rows × 2 columns</p>\n",
       "</div>"
      ],
      "text/plain": [
       "               calls_duration  calls_count\n",
       "user_id month                             \n",
       "1000    5              159.00           22\n",
       "        6              172.00           43\n",
       "        7              340.00           47\n",
       "        8              408.00           52\n",
       "        9              466.00           58\n",
       "...                       ...          ...\n",
       "1498    10             247.00           41\n",
       "1499    9               70.00            9\n",
       "        10             449.00           68\n",
       "        11             612.00           74\n",
       "        12             492.00           69\n",
       "\n",
       "[3174 rows x 2 columns]"
      ]
     },
     "metadata": {},
     "output_type": "display_data"
    }
   ],
   "source": [
    "# Создаем колонку \"Месяц\"\n",
    "calls['month'] = calls['call_date'].dt.strftime('%m').astype('str').astype('int')\n",
    "\n",
    "# Округляем звонки\n",
    "calls['duration'] = np.ceil(calls['duration'])\n",
    "\n",
    "# Создаем сводную таблицу с количеством сделанных звонков и израсходованных минут по месяцам для каждого пользователя\n",
    "piv_calls = calls.pivot_table(index=['user_id', 'month'], values= 'duration', aggfunc=['sum', 'count'])\n",
    "# Переименуем колонки в таблице\n",
    "piv_calls.columns = ['calls_duration', 'calls_count']\n",
    "# Проверка результата\n",
    "display(piv_calls)"
   ]
  },
  {
   "cell_type": "markdown",
   "metadata": {},
   "source": [
    "### Расчет количества сообщений"
   ]
  },
  {
   "cell_type": "markdown",
   "metadata": {},
   "source": [
    "Для расчета количества сообщений поступим таким же образом, как и при расчете длительности и количества звонков."
   ]
  },
  {
   "cell_type": "code",
   "execution_count": 11,
   "metadata": {},
   "outputs": [
    {
     "data": {
      "text/html": [
       "<div>\n",
       "<style scoped>\n",
       "    .dataframe tbody tr th:only-of-type {\n",
       "        vertical-align: middle;\n",
       "    }\n",
       "\n",
       "    .dataframe tbody tr th {\n",
       "        vertical-align: top;\n",
       "    }\n",
       "\n",
       "    .dataframe thead th {\n",
       "        text-align: right;\n",
       "    }\n",
       "</style>\n",
       "<table border=\"1\" class=\"dataframe\">\n",
       "  <thead>\n",
       "    <tr style=\"text-align: right;\">\n",
       "      <th></th>\n",
       "      <th></th>\n",
       "      <th>messages_count</th>\n",
       "    </tr>\n",
       "    <tr>\n",
       "      <th>user_id</th>\n",
       "      <th>month</th>\n",
       "      <th></th>\n",
       "    </tr>\n",
       "  </thead>\n",
       "  <tbody>\n",
       "    <tr>\n",
       "      <th rowspan=\"5\" valign=\"top\">1000</th>\n",
       "      <th>5</th>\n",
       "      <td>22</td>\n",
       "    </tr>\n",
       "    <tr>\n",
       "      <th>6</th>\n",
       "      <td>60</td>\n",
       "    </tr>\n",
       "    <tr>\n",
       "      <th>7</th>\n",
       "      <td>75</td>\n",
       "    </tr>\n",
       "    <tr>\n",
       "      <th>8</th>\n",
       "      <td>81</td>\n",
       "    </tr>\n",
       "    <tr>\n",
       "      <th>9</th>\n",
       "      <td>57</td>\n",
       "    </tr>\n",
       "    <tr>\n",
       "      <th>...</th>\n",
       "      <th>...</th>\n",
       "      <td>...</td>\n",
       "    </tr>\n",
       "    <tr>\n",
       "      <th>1498</th>\n",
       "      <th>10</th>\n",
       "      <td>42</td>\n",
       "    </tr>\n",
       "    <tr>\n",
       "      <th rowspan=\"4\" valign=\"top\">1499</th>\n",
       "      <th>9</th>\n",
       "      <td>11</td>\n",
       "    </tr>\n",
       "    <tr>\n",
       "      <th>10</th>\n",
       "      <td>48</td>\n",
       "    </tr>\n",
       "    <tr>\n",
       "      <th>11</th>\n",
       "      <td>59</td>\n",
       "    </tr>\n",
       "    <tr>\n",
       "      <th>12</th>\n",
       "      <td>66</td>\n",
       "    </tr>\n",
       "  </tbody>\n",
       "</table>\n",
       "<p>2717 rows × 1 columns</p>\n",
       "</div>"
      ],
      "text/plain": [
       "               messages_count\n",
       "user_id month                \n",
       "1000    5                  22\n",
       "        6                  60\n",
       "        7                  75\n",
       "        8                  81\n",
       "        9                  57\n",
       "...                       ...\n",
       "1498    10                 42\n",
       "1499    9                  11\n",
       "        10                 48\n",
       "        11                 59\n",
       "        12                 66\n",
       "\n",
       "[2717 rows x 1 columns]"
      ]
     },
     "metadata": {},
     "output_type": "display_data"
    }
   ],
   "source": [
    "# Создаем колонку \"Месяц\" \n",
    "messages['month'] = messages['message_date'].dt.strftime('%m').astype('str').astype('int')\n",
    "\n",
    "# Создаем сводную таблицу с количеством сообщений по месяцам для каждого пользователя\n",
    "piv_messages = messages.pivot_table(index=['user_id', 'month'], values= 'message_date', aggfunc='count')\n",
    "# Переименуем колонки в таблице\n",
    "piv_messages.columns = ['messages_count']\n",
    "# Проверка результата\n",
    "display(piv_messages)"
   ]
  },
  {
   "cell_type": "markdown",
   "metadata": {},
   "source": [
    "### Расчет интернет-трафика."
   ]
  },
  {
   "cell_type": "markdown",
   "metadata": {},
   "source": [
    "Аналогичным образом рассчитаем интернет-трафик."
   ]
  },
  {
   "cell_type": "code",
   "execution_count": 12,
   "metadata": {},
   "outputs": [
    {
     "data": {
      "text/html": [
       "<div>\n",
       "<style scoped>\n",
       "    .dataframe tbody tr th:only-of-type {\n",
       "        vertical-align: middle;\n",
       "    }\n",
       "\n",
       "    .dataframe tbody tr th {\n",
       "        vertical-align: top;\n",
       "    }\n",
       "\n",
       "    .dataframe thead th {\n",
       "        text-align: right;\n",
       "    }\n",
       "</style>\n",
       "<table border=\"1\" class=\"dataframe\">\n",
       "  <thead>\n",
       "    <tr style=\"text-align: right;\">\n",
       "      <th></th>\n",
       "      <th></th>\n",
       "      <th>mb_used</th>\n",
       "    </tr>\n",
       "    <tr>\n",
       "      <th>user_id</th>\n",
       "      <th>month</th>\n",
       "      <th></th>\n",
       "    </tr>\n",
       "  </thead>\n",
       "  <tbody>\n",
       "    <tr>\n",
       "      <th rowspan=\"5\" valign=\"top\">1000</th>\n",
       "      <th>5</th>\n",
       "      <td>2,253.49</td>\n",
       "    </tr>\n",
       "    <tr>\n",
       "      <th>6</th>\n",
       "      <td>23,233.77</td>\n",
       "    </tr>\n",
       "    <tr>\n",
       "      <th>7</th>\n",
       "      <td>14,003.64</td>\n",
       "    </tr>\n",
       "    <tr>\n",
       "      <th>8</th>\n",
       "      <td>14,055.93</td>\n",
       "    </tr>\n",
       "    <tr>\n",
       "      <th>9</th>\n",
       "      <td>14,568.91</td>\n",
       "    </tr>\n",
       "    <tr>\n",
       "      <th>...</th>\n",
       "      <th>...</th>\n",
       "      <td>...</td>\n",
       "    </tr>\n",
       "    <tr>\n",
       "      <th>1498</th>\n",
       "      <th>10</th>\n",
       "      <td>20,579.36</td>\n",
       "    </tr>\n",
       "    <tr>\n",
       "      <th rowspan=\"4\" valign=\"top\">1499</th>\n",
       "      <th>9</th>\n",
       "      <td>1,845.75</td>\n",
       "    </tr>\n",
       "    <tr>\n",
       "      <th>10</th>\n",
       "      <td>17,788.51</td>\n",
       "    </tr>\n",
       "    <tr>\n",
       "      <th>11</th>\n",
       "      <td>17,963.31</td>\n",
       "    </tr>\n",
       "    <tr>\n",
       "      <th>12</th>\n",
       "      <td>13,055.58</td>\n",
       "    </tr>\n",
       "  </tbody>\n",
       "</table>\n",
       "<p>3203 rows × 1 columns</p>\n",
       "</div>"
      ],
      "text/plain": [
       "                mb_used\n",
       "user_id month          \n",
       "1000    5      2,253.49\n",
       "        6     23,233.77\n",
       "        7     14,003.64\n",
       "        8     14,055.93\n",
       "        9     14,568.91\n",
       "...                 ...\n",
       "1498    10    20,579.36\n",
       "1499    9      1,845.75\n",
       "        10    17,788.51\n",
       "        11    17,963.31\n",
       "        12    13,055.58\n",
       "\n",
       "[3203 rows x 1 columns]"
      ]
     },
     "metadata": {},
     "output_type": "display_data"
    }
   ],
   "source": [
    "# Cоздаем колонку \"Месяц\"\n",
    "internet['month'] = internet['session_date'].dt.strftime('%m').astype('str').astype('int')\n",
    "\n",
    "# Создаем сводную таблицу с интернет-трафиком по месяцам для каждого пользователя\n",
    "piv_internet = internet.pivot_table(index=['user_id', 'month'], values= 'mb_used', aggfunc='sum')\n",
    "# Переименуем колонки в таблице\n",
    "piv_internet.columns = ['mb_used']\n",
    "# Проверка результата\n",
    "display(piv_internet)"
   ]
  },
  {
   "cell_type": "markdown",
   "metadata": {},
   "source": [
    "### Расчет помесячной выручки."
   ]
  },
  {
   "cell_type": "markdown",
   "metadata": {},
   "source": [
    "Для расчета выручки выполним следующие действия:\n",
    "1. Вычтем бесплатный лимит из суммарного количества звонков, сообщений и интернет-трафика\n",
    "2. Остаток умножим на значение из тарифного плана\n",
    "3. К полученному значению прибавим  абонентскую плату, соответствующую тарифному плану.\n",
    "\n",
    "Для начала, чтобы посчитать выручку, объединим все таблицы в одну."
   ]
  },
  {
   "cell_type": "code",
   "execution_count": 13,
   "metadata": {},
   "outputs": [],
   "source": [
    "# Соединим все таблицы методом merge()\n",
    "data = piv_calls.merge(piv_messages, on=['user_id', 'month'], how='outer')\n",
    "data.drop(axis=1, columns='calls_count', inplace=True)\n",
    "data = data.merge(piv_internet, on=['user_id', 'month'], how='outer')\n",
    "data.reset_index(inplace=True)\n",
    "\n",
    "# Добавим данные из таблиц \"Пользователи\" и \"Тарифы\", при этом удалим лишние колонки\n",
    "data = data.merge(users, on='user_id')\n",
    "data.drop(axis=1, columns=['churn_date','last_name','first_name','reg_date','age'], inplace=True)\n",
    "data = data.merge(tariffs, on='tariff_name')\n",
    "data.sort_values(by=['user_id', 'month'], inplace=True)\n",
    "data.reset_index(drop=True, inplace=True)"
   ]
  },
  {
   "cell_type": "markdown",
   "metadata": {},
   "source": [
    "Затем добавим в общую таблицу колонку \"Выручка\", где будем хранить результат."
   ]
  },
  {
   "cell_type": "code",
   "execution_count": 14,
   "metadata": {},
   "outputs": [],
   "source": [
    "# Добавляем в общую таблицу колонку \"Выручка\"\n",
    "data['revenue'] = 0"
   ]
  },
  {
   "cell_type": "markdown",
   "metadata": {},
   "source": [
    "Запускаем цикл, в котором проводим расчет месячной выручки."
   ]
  },
  {
   "cell_type": "code",
   "execution_count": 15,
   "metadata": {},
   "outputs": [],
   "source": [
    "# Запустим цикл по всей таблице\n",
    "for i in range(len(data)):\n",
    "    \n",
    "    # учет длительности звонков\n",
    "    call = 0 \n",
    "    # учет сообщений\n",
    "    mes = 0 \n",
    "    # учет трафика\n",
    "    traf = 0 \n",
    "    # Расчет стоимости звонков\n",
    "    if (data['minutes_included'][i] - data['calls_duration'][i]) < 0:\n",
    "        call = abs(data['minutes_included'][i] - data['calls_duration'][i])\n",
    "        call = mt.ceil(call) * data['rub_per_minute'][i]\n",
    "    # Расчет стоимости сообщений  \n",
    "    if (data['messages_included'][i] - data['messages_count'][i]) < 0:\n",
    "        mes = abs(data['messages_included'][i] - data['messages_count'][i])\n",
    "        mes = mes * data['rub_per_message'][i]\n",
    "    # Расчет стоимости трафика   \n",
    "    if (data['mb_per_month_included'][i] - data['mb_used'][i]) < 0:\n",
    "        traf = abs(data['mb_per_month_included'][i] - data['mb_used'][i]) / 1024\n",
    "        traf = mt.ceil(traf) * data['rub_per_gb'][i]\n",
    "    # Расчет выручки   \n",
    "    data['revenue'][i] = call + mes + traf + data['rub_monthly_fee'][i]"
   ]
  },
  {
   "cell_type": "markdown",
   "metadata": {},
   "source": [
    "Избавимся от лишней информации в полученной таблице."
   ]
  },
  {
   "cell_type": "code",
   "execution_count": 16,
   "metadata": {
    "scrolled": false
   },
   "outputs": [
    {
     "data": {
      "text/html": [
       "<div>\n",
       "<style scoped>\n",
       "    .dataframe tbody tr th:only-of-type {\n",
       "        vertical-align: middle;\n",
       "    }\n",
       "\n",
       "    .dataframe tbody tr th {\n",
       "        vertical-align: top;\n",
       "    }\n",
       "\n",
       "    .dataframe thead th {\n",
       "        text-align: right;\n",
       "    }\n",
       "</style>\n",
       "<table border=\"1\" class=\"dataframe\">\n",
       "  <thead>\n",
       "    <tr style=\"text-align: right;\">\n",
       "      <th></th>\n",
       "      <th>user_id</th>\n",
       "      <th>month</th>\n",
       "      <th>calls_duration</th>\n",
       "      <th>messages_count</th>\n",
       "      <th>mb_used</th>\n",
       "      <th>city</th>\n",
       "      <th>tariff_name</th>\n",
       "      <th>revenue</th>\n",
       "    </tr>\n",
       "  </thead>\n",
       "  <tbody>\n",
       "    <tr>\n",
       "      <th>0</th>\n",
       "      <td>1000</td>\n",
       "      <td>5</td>\n",
       "      <td>159.00</td>\n",
       "      <td>22.00</td>\n",
       "      <td>2,253.49</td>\n",
       "      <td>Краснодар</td>\n",
       "      <td>ultra</td>\n",
       "      <td>1950</td>\n",
       "    </tr>\n",
       "    <tr>\n",
       "      <th>1</th>\n",
       "      <td>1000</td>\n",
       "      <td>6</td>\n",
       "      <td>172.00</td>\n",
       "      <td>60.00</td>\n",
       "      <td>23,233.77</td>\n",
       "      <td>Краснодар</td>\n",
       "      <td>ultra</td>\n",
       "      <td>1950</td>\n",
       "    </tr>\n",
       "    <tr>\n",
       "      <th>2</th>\n",
       "      <td>1000</td>\n",
       "      <td>7</td>\n",
       "      <td>340.00</td>\n",
       "      <td>75.00</td>\n",
       "      <td>14,003.64</td>\n",
       "      <td>Краснодар</td>\n",
       "      <td>ultra</td>\n",
       "      <td>1950</td>\n",
       "    </tr>\n",
       "    <tr>\n",
       "      <th>3</th>\n",
       "      <td>1000</td>\n",
       "      <td>8</td>\n",
       "      <td>408.00</td>\n",
       "      <td>81.00</td>\n",
       "      <td>14,055.93</td>\n",
       "      <td>Краснодар</td>\n",
       "      <td>ultra</td>\n",
       "      <td>1950</td>\n",
       "    </tr>\n",
       "    <tr>\n",
       "      <th>4</th>\n",
       "      <td>1000</td>\n",
       "      <td>9</td>\n",
       "      <td>466.00</td>\n",
       "      <td>57.00</td>\n",
       "      <td>14,568.91</td>\n",
       "      <td>Краснодар</td>\n",
       "      <td>ultra</td>\n",
       "      <td>1950</td>\n",
       "    </tr>\n",
       "    <tr>\n",
       "      <th>...</th>\n",
       "      <td>...</td>\n",
       "      <td>...</td>\n",
       "      <td>...</td>\n",
       "      <td>...</td>\n",
       "      <td>...</td>\n",
       "      <td>...</td>\n",
       "      <td>...</td>\n",
       "      <td>...</td>\n",
       "    </tr>\n",
       "    <tr>\n",
       "      <th>3209</th>\n",
       "      <td>1498</td>\n",
       "      <td>10</td>\n",
       "      <td>247.00</td>\n",
       "      <td>42.00</td>\n",
       "      <td>20,579.36</td>\n",
       "      <td>Владикавказ</td>\n",
       "      <td>smart</td>\n",
       "      <td>1750</td>\n",
       "    </tr>\n",
       "    <tr>\n",
       "      <th>3210</th>\n",
       "      <td>1499</td>\n",
       "      <td>9</td>\n",
       "      <td>70.00</td>\n",
       "      <td>11.00</td>\n",
       "      <td>1,845.75</td>\n",
       "      <td>Пермь</td>\n",
       "      <td>smart</td>\n",
       "      <td>550</td>\n",
       "    </tr>\n",
       "    <tr>\n",
       "      <th>3211</th>\n",
       "      <td>1499</td>\n",
       "      <td>10</td>\n",
       "      <td>449.00</td>\n",
       "      <td>48.00</td>\n",
       "      <td>17,788.51</td>\n",
       "      <td>Пермь</td>\n",
       "      <td>smart</td>\n",
       "      <td>1150</td>\n",
       "    </tr>\n",
       "    <tr>\n",
       "      <th>3212</th>\n",
       "      <td>1499</td>\n",
       "      <td>11</td>\n",
       "      <td>612.00</td>\n",
       "      <td>59.00</td>\n",
       "      <td>17,963.31</td>\n",
       "      <td>Пермь</td>\n",
       "      <td>smart</td>\n",
       "      <td>1513</td>\n",
       "    </tr>\n",
       "    <tr>\n",
       "      <th>3213</th>\n",
       "      <td>1499</td>\n",
       "      <td>12</td>\n",
       "      <td>492.00</td>\n",
       "      <td>66.00</td>\n",
       "      <td>13,055.58</td>\n",
       "      <td>Пермь</td>\n",
       "      <td>smart</td>\n",
       "      <td>598</td>\n",
       "    </tr>\n",
       "  </tbody>\n",
       "</table>\n",
       "<p>3214 rows × 8 columns</p>\n",
       "</div>"
      ],
      "text/plain": [
       "      user_id  month  calls_duration  messages_count   mb_used         city  \\\n",
       "0        1000      5          159.00           22.00  2,253.49    Краснодар   \n",
       "1        1000      6          172.00           60.00 23,233.77    Краснодар   \n",
       "2        1000      7          340.00           75.00 14,003.64    Краснодар   \n",
       "3        1000      8          408.00           81.00 14,055.93    Краснодар   \n",
       "4        1000      9          466.00           57.00 14,568.91    Краснодар   \n",
       "...       ...    ...             ...             ...       ...          ...   \n",
       "3209     1498     10          247.00           42.00 20,579.36  Владикавказ   \n",
       "3210     1499      9           70.00           11.00  1,845.75        Пермь   \n",
       "3211     1499     10          449.00           48.00 17,788.51        Пермь   \n",
       "3212     1499     11          612.00           59.00 17,963.31        Пермь   \n",
       "3213     1499     12          492.00           66.00 13,055.58        Пермь   \n",
       "\n",
       "     tariff_name  revenue  \n",
       "0          ultra     1950  \n",
       "1          ultra     1950  \n",
       "2          ultra     1950  \n",
       "3          ultra     1950  \n",
       "4          ultra     1950  \n",
       "...          ...      ...  \n",
       "3209       smart     1750  \n",
       "3210       smart      550  \n",
       "3211       smart     1150  \n",
       "3212       smart     1513  \n",
       "3213       smart      598  \n",
       "\n",
       "[3214 rows x 8 columns]"
      ]
     },
     "metadata": {},
     "output_type": "display_data"
    }
   ],
   "source": [
    "# Удалим лишние столбцы\n",
    "data.drop(axis=1, columns=['messages_included','mb_per_month_included',\n",
    "                           'minutes_included','rub_monthly_fee','rub_per_gb',\n",
    "                           'rub_per_message','rub_per_minute'], inplace=True)\n",
    "# Проверим результат\n",
    "display(data)"
   ]
  },
  {
   "cell_type": "markdown",
   "metadata": {},
   "source": [
    "**Вывод**\n",
    "\n",
    "Выполнен расчет помесячной выручки с каждого клиента."
   ]
  },
  {
   "cell_type": "markdown",
   "metadata": {},
   "source": [
    "## Часть. Анализ данных."
   ]
  },
  {
   "cell_type": "markdown",
   "metadata": {},
   "source": [
    "### Описание поведения клиентов."
   ]
  },
  {
   "cell_type": "markdown",
   "metadata": {},
   "source": [
    "На основе полученной таблицы рассмотрим поведение клиентов, а именно сколько минут, сообщений и интернет-трафика используют клиенты каждого тарифа. Для этого создадим таблицу, в которых отобразим среднее, дисперсию и стандартное отклонение по каждому параметру."
   ]
  },
  {
   "cell_type": "code",
   "execution_count": 17,
   "metadata": {},
   "outputs": [
    {
     "data": {
      "text/html": [
       "<div>\n",
       "<style scoped>\n",
       "    .dataframe tbody tr th:only-of-type {\n",
       "        vertical-align: middle;\n",
       "    }\n",
       "\n",
       "    .dataframe tbody tr th {\n",
       "        vertical-align: top;\n",
       "    }\n",
       "\n",
       "    .dataframe thead tr th {\n",
       "        text-align: left;\n",
       "    }\n",
       "\n",
       "    .dataframe thead tr:last-of-type th {\n",
       "        text-align: right;\n",
       "    }\n",
       "</style>\n",
       "<table border=\"1\" class=\"dataframe\">\n",
       "  <thead>\n",
       "    <tr>\n",
       "      <th></th>\n",
       "      <th></th>\n",
       "      <th colspan=\"3\" halign=\"left\">mean</th>\n",
       "      <th colspan=\"3\" halign=\"left\">var</th>\n",
       "      <th colspan=\"3\" halign=\"left\">std</th>\n",
       "    </tr>\n",
       "    <tr>\n",
       "      <th></th>\n",
       "      <th></th>\n",
       "      <th>calls_duration</th>\n",
       "      <th>mb_used</th>\n",
       "      <th>messages_count</th>\n",
       "      <th>calls_duration</th>\n",
       "      <th>mb_used</th>\n",
       "      <th>messages_count</th>\n",
       "      <th>calls_duration</th>\n",
       "      <th>mb_used</th>\n",
       "      <th>messages_count</th>\n",
       "    </tr>\n",
       "    <tr>\n",
       "      <th>tariff_name</th>\n",
       "      <th>month</th>\n",
       "      <th></th>\n",
       "      <th></th>\n",
       "      <th></th>\n",
       "      <th></th>\n",
       "      <th></th>\n",
       "      <th></th>\n",
       "      <th></th>\n",
       "      <th></th>\n",
       "      <th></th>\n",
       "    </tr>\n",
       "  </thead>\n",
       "  <tbody>\n",
       "    <tr>\n",
       "      <th rowspan=\"12\" valign=\"top\">smart</th>\n",
       "      <th>1</th>\n",
       "      <td>203.85</td>\n",
       "      <td>8,513.72</td>\n",
       "      <td>20.00</td>\n",
       "      <td>23,787.34</td>\n",
       "      <td>41,533,913.37</td>\n",
       "      <td>252.13</td>\n",
       "      <td>154.23</td>\n",
       "      <td>6,444.68</td>\n",
       "      <td>15.88</td>\n",
       "    </tr>\n",
       "    <tr>\n",
       "      <th>2</th>\n",
       "      <td>298.69</td>\n",
       "      <td>11,597.05</td>\n",
       "      <td>27.94</td>\n",
       "      <td>36,412.29</td>\n",
       "      <td>39,029,429.92</td>\n",
       "      <td>440.47</td>\n",
       "      <td>190.82</td>\n",
       "      <td>6,247.35</td>\n",
       "      <td>20.99</td>\n",
       "    </tr>\n",
       "    <tr>\n",
       "      <th>3</th>\n",
       "      <td>390.05</td>\n",
       "      <td>15,104.16</td>\n",
       "      <td>35.55</td>\n",
       "      <td>36,823.16</td>\n",
       "      <td>33,968,352.79</td>\n",
       "      <td>669.78</td>\n",
       "      <td>191.89</td>\n",
       "      <td>5,828.24</td>\n",
       "      <td>25.88</td>\n",
       "    </tr>\n",
       "    <tr>\n",
       "      <th>4</th>\n",
       "      <td>367.13</td>\n",
       "      <td>13,462.18</td>\n",
       "      <td>35.86</td>\n",
       "      <td>34,778.21</td>\n",
       "      <td>32,470,042.72</td>\n",
       "      <td>517.87</td>\n",
       "      <td>186.49</td>\n",
       "      <td>5,698.25</td>\n",
       "      <td>22.76</td>\n",
       "    </tr>\n",
       "    <tr>\n",
       "      <th>5</th>\n",
       "      <td>387.36</td>\n",
       "      <td>15,805.18</td>\n",
       "      <td>39.03</td>\n",
       "      <td>34,820.06</td>\n",
       "      <td>35,739,254.56</td>\n",
       "      <td>638.78</td>\n",
       "      <td>186.60</td>\n",
       "      <td>5,978.23</td>\n",
       "      <td>25.27</td>\n",
       "    </tr>\n",
       "    <tr>\n",
       "      <th>6</th>\n",
       "      <td>398.07</td>\n",
       "      <td>15,794.65</td>\n",
       "      <td>38.58</td>\n",
       "      <td>29,960.52</td>\n",
       "      <td>33,537,483.02</td>\n",
       "      <td>731.64</td>\n",
       "      <td>173.09</td>\n",
       "      <td>5,791.16</td>\n",
       "      <td>27.05</td>\n",
       "    </tr>\n",
       "    <tr>\n",
       "      <th>7</th>\n",
       "      <td>408.35</td>\n",
       "      <td>15,743.15</td>\n",
       "      <td>38.99</td>\n",
       "      <td>32,250.27</td>\n",
       "      <td>34,776,430.55</td>\n",
       "      <td>719.35</td>\n",
       "      <td>179.58</td>\n",
       "      <td>5,897.15</td>\n",
       "      <td>26.82</td>\n",
       "    </tr>\n",
       "    <tr>\n",
       "      <th>8</th>\n",
       "      <td>423.27</td>\n",
       "      <td>16,681.71</td>\n",
       "      <td>38.75</td>\n",
       "      <td>34,177.27</td>\n",
       "      <td>30,232,262.94</td>\n",
       "      <td>767.21</td>\n",
       "      <td>184.87</td>\n",
       "      <td>5,498.39</td>\n",
       "      <td>27.70</td>\n",
       "    </tr>\n",
       "    <tr>\n",
       "      <th>9</th>\n",
       "      <td>430.27</td>\n",
       "      <td>16,303.58</td>\n",
       "      <td>39.22</td>\n",
       "      <td>32,950.53</td>\n",
       "      <td>26,999,618.88</td>\n",
       "      <td>702.51</td>\n",
       "      <td>181.52</td>\n",
       "      <td>5,196.12</td>\n",
       "      <td>26.50</td>\n",
       "    </tr>\n",
       "    <tr>\n",
       "      <th>10</th>\n",
       "      <td>427.59</td>\n",
       "      <td>16,757.12</td>\n",
       "      <td>39.08</td>\n",
       "      <td>34,889.53</td>\n",
       "      <td>34,332,386.62</td>\n",
       "      <td>736.50</td>\n",
       "      <td>186.79</td>\n",
       "      <td>5,859.38</td>\n",
       "      <td>27.14</td>\n",
       "    </tr>\n",
       "    <tr>\n",
       "      <th>11</th>\n",
       "      <td>436.65</td>\n",
       "      <td>16,895.70</td>\n",
       "      <td>39.88</td>\n",
       "      <td>31,100.61</td>\n",
       "      <td>28,518,520.15</td>\n",
       "      <td>711.36</td>\n",
       "      <td>176.35</td>\n",
       "      <td>5,340.27</td>\n",
       "      <td>26.67</td>\n",
       "    </tr>\n",
       "    <tr>\n",
       "      <th>12</th>\n",
       "      <td>479.99</td>\n",
       "      <td>18,113.66</td>\n",
       "      <td>42.26</td>\n",
       "      <td>39,131.45</td>\n",
       "      <td>31,065,938.54</td>\n",
       "      <td>832.45</td>\n",
       "      <td>197.82</td>\n",
       "      <td>5,573.68</td>\n",
       "      <td>28.85</td>\n",
       "    </tr>\n",
       "    <tr>\n",
       "      <th rowspan=\"12\" valign=\"top\">ultra</th>\n",
       "      <th>1</th>\n",
       "      <td>428.11</td>\n",
       "      <td>13,140.68</td>\n",
       "      <td>43.43</td>\n",
       "      <td>72,769.36</td>\n",
       "      <td>47,132,987.72</td>\n",
       "      <td>765.29</td>\n",
       "      <td>269.76</td>\n",
       "      <td>6,865.35</td>\n",
       "      <td>27.66</td>\n",
       "    </tr>\n",
       "    <tr>\n",
       "      <th>2</th>\n",
       "      <td>297.12</td>\n",
       "      <td>12,846.48</td>\n",
       "      <td>32.94</td>\n",
       "      <td>87,919.68</td>\n",
       "      <td>109,692,170.71</td>\n",
       "      <td>713.40</td>\n",
       "      <td>296.51</td>\n",
       "      <td>10,473.40</td>\n",
       "      <td>26.71</td>\n",
       "    </tr>\n",
       "    <tr>\n",
       "      <th>3</th>\n",
       "      <td>489.65</td>\n",
       "      <td>17,535.55</td>\n",
       "      <td>47.80</td>\n",
       "      <td>111,384.90</td>\n",
       "      <td>119,941,614.06</td>\n",
       "      <td>1,826.67</td>\n",
       "      <td>333.74</td>\n",
       "      <td>10,951.79</td>\n",
       "      <td>42.74</td>\n",
       "    </tr>\n",
       "    <tr>\n",
       "      <th>4</th>\n",
       "      <td>475.30</td>\n",
       "      <td>16,828.13</td>\n",
       "      <td>44.51</td>\n",
       "      <td>66,036.83</td>\n",
       "      <td>94,452,154.82</td>\n",
       "      <td>1,408.26</td>\n",
       "      <td>256.98</td>\n",
       "      <td>9,718.65</td>\n",
       "      <td>37.53</td>\n",
       "    </tr>\n",
       "    <tr>\n",
       "      <th>5</th>\n",
       "      <td>534.25</td>\n",
       "      <td>19,656.53</td>\n",
       "      <td>48.77</td>\n",
       "      <td>74,881.02</td>\n",
       "      <td>96,621,435.87</td>\n",
       "      <td>1,559.55</td>\n",
       "      <td>273.64</td>\n",
       "      <td>9,829.62</td>\n",
       "      <td>39.49</td>\n",
       "    </tr>\n",
       "    <tr>\n",
       "      <th>6</th>\n",
       "      <td>497.47</td>\n",
       "      <td>19,152.95</td>\n",
       "      <td>52.31</td>\n",
       "      <td>86,019.65</td>\n",
       "      <td>82,990,366.58</td>\n",
       "      <td>1,935.67</td>\n",
       "      <td>293.29</td>\n",
       "      <td>9,109.90</td>\n",
       "      <td>44.00</td>\n",
       "    </tr>\n",
       "    <tr>\n",
       "      <th>7</th>\n",
       "      <td>564.40</td>\n",
       "      <td>20,723.39</td>\n",
       "      <td>62.14</td>\n",
       "      <td>86,952.59</td>\n",
       "      <td>97,674,129.47</td>\n",
       "      <td>2,190.73</td>\n",
       "      <td>294.88</td>\n",
       "      <td>9,883.02</td>\n",
       "      <td>46.81</td>\n",
       "    </tr>\n",
       "    <tr>\n",
       "      <th>8</th>\n",
       "      <td>530.61</td>\n",
       "      <td>19,760.73</td>\n",
       "      <td>58.90</td>\n",
       "      <td>91,169.55</td>\n",
       "      <td>107,119,386.77</td>\n",
       "      <td>2,022.97</td>\n",
       "      <td>301.94</td>\n",
       "      <td>10,349.85</td>\n",
       "      <td>44.98</td>\n",
       "    </tr>\n",
       "    <tr>\n",
       "      <th>9</th>\n",
       "      <td>558.88</td>\n",
       "      <td>19,372.74</td>\n",
       "      <td>63.29</td>\n",
       "      <td>98,597.90</td>\n",
       "      <td>87,489,822.10</td>\n",
       "      <td>1,906.76</td>\n",
       "      <td>314.00</td>\n",
       "      <td>9,353.60</td>\n",
       "      <td>43.67</td>\n",
       "    </tr>\n",
       "    <tr>\n",
       "      <th>10</th>\n",
       "      <td>581.73</td>\n",
       "      <td>20,209.64</td>\n",
       "      <td>69.78</td>\n",
       "      <td>97,140.34</td>\n",
       "      <td>93,547,213.75</td>\n",
       "      <td>2,426.61</td>\n",
       "      <td>311.67</td>\n",
       "      <td>9,671.98</td>\n",
       "      <td>49.26</td>\n",
       "    </tr>\n",
       "    <tr>\n",
       "      <th>11</th>\n",
       "      <td>562.36</td>\n",
       "      <td>19,935.59</td>\n",
       "      <td>66.16</td>\n",
       "      <td>88,449.62</td>\n",
       "      <td>95,914,219.87</td>\n",
       "      <td>2,249.30</td>\n",
       "      <td>297.40</td>\n",
       "      <td>9,793.58</td>\n",
       "      <td>47.43</td>\n",
       "    </tr>\n",
       "    <tr>\n",
       "      <th>12</th>\n",
       "      <td>614.93</td>\n",
       "      <td>21,951.09</td>\n",
       "      <td>72.01</td>\n",
       "      <td>107,981.03</td>\n",
       "      <td>105,005,264.44</td>\n",
       "      <td>2,362.87</td>\n",
       "      <td>328.60</td>\n",
       "      <td>10,247.21</td>\n",
       "      <td>48.61</td>\n",
       "    </tr>\n",
       "  </tbody>\n",
       "</table>\n",
       "</div>"
      ],
      "text/plain": [
       "                            mean                                     var  \\\n",
       "                  calls_duration   mb_used messages_count calls_duration   \n",
       "tariff_name month                                                          \n",
       "smart       1             203.85  8,513.72          20.00      23,787.34   \n",
       "            2             298.69 11,597.05          27.94      36,412.29   \n",
       "            3             390.05 15,104.16          35.55      36,823.16   \n",
       "            4             367.13 13,462.18          35.86      34,778.21   \n",
       "            5             387.36 15,805.18          39.03      34,820.06   \n",
       "            6             398.07 15,794.65          38.58      29,960.52   \n",
       "            7             408.35 15,743.15          38.99      32,250.27   \n",
       "            8             423.27 16,681.71          38.75      34,177.27   \n",
       "            9             430.27 16,303.58          39.22      32,950.53   \n",
       "            10            427.59 16,757.12          39.08      34,889.53   \n",
       "            11            436.65 16,895.70          39.88      31,100.61   \n",
       "            12            479.99 18,113.66          42.26      39,131.45   \n",
       "ultra       1             428.11 13,140.68          43.43      72,769.36   \n",
       "            2             297.12 12,846.48          32.94      87,919.68   \n",
       "            3             489.65 17,535.55          47.80     111,384.90   \n",
       "            4             475.30 16,828.13          44.51      66,036.83   \n",
       "            5             534.25 19,656.53          48.77      74,881.02   \n",
       "            6             497.47 19,152.95          52.31      86,019.65   \n",
       "            7             564.40 20,723.39          62.14      86,952.59   \n",
       "            8             530.61 19,760.73          58.90      91,169.55   \n",
       "            9             558.88 19,372.74          63.29      98,597.90   \n",
       "            10            581.73 20,209.64          69.78      97,140.34   \n",
       "            11            562.36 19,935.59          66.16      88,449.62   \n",
       "            12            614.93 21,951.09          72.01     107,981.03   \n",
       "\n",
       "                                                           std            \\\n",
       "                         mb_used messages_count calls_duration   mb_used   \n",
       "tariff_name month                                                          \n",
       "smart       1      41,533,913.37         252.13         154.23  6,444.68   \n",
       "            2      39,029,429.92         440.47         190.82  6,247.35   \n",
       "            3      33,968,352.79         669.78         191.89  5,828.24   \n",
       "            4      32,470,042.72         517.87         186.49  5,698.25   \n",
       "            5      35,739,254.56         638.78         186.60  5,978.23   \n",
       "            6      33,537,483.02         731.64         173.09  5,791.16   \n",
       "            7      34,776,430.55         719.35         179.58  5,897.15   \n",
       "            8      30,232,262.94         767.21         184.87  5,498.39   \n",
       "            9      26,999,618.88         702.51         181.52  5,196.12   \n",
       "            10     34,332,386.62         736.50         186.79  5,859.38   \n",
       "            11     28,518,520.15         711.36         176.35  5,340.27   \n",
       "            12     31,065,938.54         832.45         197.82  5,573.68   \n",
       "ultra       1      47,132,987.72         765.29         269.76  6,865.35   \n",
       "            2     109,692,170.71         713.40         296.51 10,473.40   \n",
       "            3     119,941,614.06       1,826.67         333.74 10,951.79   \n",
       "            4      94,452,154.82       1,408.26         256.98  9,718.65   \n",
       "            5      96,621,435.87       1,559.55         273.64  9,829.62   \n",
       "            6      82,990,366.58       1,935.67         293.29  9,109.90   \n",
       "            7      97,674,129.47       2,190.73         294.88  9,883.02   \n",
       "            8     107,119,386.77       2,022.97         301.94 10,349.85   \n",
       "            9      87,489,822.10       1,906.76         314.00  9,353.60   \n",
       "            10     93,547,213.75       2,426.61         311.67  9,671.98   \n",
       "            11     95,914,219.87       2,249.30         297.40  9,793.58   \n",
       "            12    105,005,264.44       2,362.87         328.60 10,247.21   \n",
       "\n",
       "                                  \n",
       "                  messages_count  \n",
       "tariff_name month                 \n",
       "smart       1              15.88  \n",
       "            2              20.99  \n",
       "            3              25.88  \n",
       "            4              22.76  \n",
       "            5              25.27  \n",
       "            6              27.05  \n",
       "            7              26.82  \n",
       "            8              27.70  \n",
       "            9              26.50  \n",
       "            10             27.14  \n",
       "            11             26.67  \n",
       "            12             28.85  \n",
       "ultra       1              27.66  \n",
       "            2              26.71  \n",
       "            3              42.74  \n",
       "            4              37.53  \n",
       "            5              39.49  \n",
       "            6              44.00  \n",
       "            7              46.81  \n",
       "            8              44.98  \n",
       "            9              43.67  \n",
       "            10             49.26  \n",
       "            11             47.43  \n",
       "            12             48.61  "
      ]
     },
     "metadata": {},
     "output_type": "display_data"
    },
    {
     "data": {
      "text/html": [
       "<div>\n",
       "<style scoped>\n",
       "    .dataframe tbody tr th:only-of-type {\n",
       "        vertical-align: middle;\n",
       "    }\n",
       "\n",
       "    .dataframe tbody tr th {\n",
       "        vertical-align: top;\n",
       "    }\n",
       "\n",
       "    .dataframe thead tr th {\n",
       "        text-align: left;\n",
       "    }\n",
       "\n",
       "    .dataframe thead tr:last-of-type th {\n",
       "        text-align: right;\n",
       "    }\n",
       "</style>\n",
       "<table border=\"1\" class=\"dataframe\">\n",
       "  <thead>\n",
       "    <tr>\n",
       "      <th></th>\n",
       "      <th colspan=\"3\" halign=\"left\">mean</th>\n",
       "      <th colspan=\"3\" halign=\"left\">median</th>\n",
       "      <th colspan=\"3\" halign=\"left\">var</th>\n",
       "      <th colspan=\"3\" halign=\"left\">std</th>\n",
       "    </tr>\n",
       "    <tr>\n",
       "      <th></th>\n",
       "      <th>calls_duration</th>\n",
       "      <th>mb_used</th>\n",
       "      <th>messages_count</th>\n",
       "      <th>calls_duration</th>\n",
       "      <th>mb_used</th>\n",
       "      <th>messages_count</th>\n",
       "      <th>calls_duration</th>\n",
       "      <th>mb_used</th>\n",
       "      <th>messages_count</th>\n",
       "      <th>calls_duration</th>\n",
       "      <th>mb_used</th>\n",
       "      <th>messages_count</th>\n",
       "    </tr>\n",
       "    <tr>\n",
       "      <th>tariff_name</th>\n",
       "      <th></th>\n",
       "      <th></th>\n",
       "      <th></th>\n",
       "      <th></th>\n",
       "      <th></th>\n",
       "      <th></th>\n",
       "      <th></th>\n",
       "      <th></th>\n",
       "      <th></th>\n",
       "      <th></th>\n",
       "      <th></th>\n",
       "      <th></th>\n",
       "    </tr>\n",
       "  </thead>\n",
       "  <tbody>\n",
       "    <tr>\n",
       "      <th>smart</th>\n",
       "      <td>419.06</td>\n",
       "      <td>16,215.66</td>\n",
       "      <td>38.72</td>\n",
       "      <td>423.00</td>\n",
       "      <td>16,507.74</td>\n",
       "      <td>34.00</td>\n",
       "      <td>35,844.19</td>\n",
       "      <td>34,359,951.68</td>\n",
       "      <td>717.59</td>\n",
       "      <td>189.33</td>\n",
       "      <td>5,861.74</td>\n",
       "      <td>26.79</td>\n",
       "    </tr>\n",
       "    <tr>\n",
       "      <th>ultra</th>\n",
       "      <td>545.45</td>\n",
       "      <td>19,668.49</td>\n",
       "      <td>61.16</td>\n",
       "      <td>528.00</td>\n",
       "      <td>19,394.29</td>\n",
       "      <td>51.00</td>\n",
       "      <td>94,203.42</td>\n",
       "      <td>98,864,248.95</td>\n",
       "      <td>2,109.66</td>\n",
       "      <td>306.93</td>\n",
       "      <td>9,943.05</td>\n",
       "      <td>45.93</td>\n",
       "    </tr>\n",
       "  </tbody>\n",
       "</table>\n",
       "</div>"
      ],
      "text/plain": [
       "                      mean                                  median            \\\n",
       "            calls_duration   mb_used messages_count calls_duration   mb_used   \n",
       "tariff_name                                                                    \n",
       "smart               419.06 16,215.66          38.72         423.00 16,507.74   \n",
       "ultra               545.45 19,668.49          61.16         528.00 19,394.29   \n",
       "\n",
       "                                      var                               \\\n",
       "            messages_count calls_duration       mb_used messages_count   \n",
       "tariff_name                                                              \n",
       "smart                34.00      35,844.19 34,359,951.68         717.59   \n",
       "ultra                51.00      94,203.42 98,864,248.95       2,109.66   \n",
       "\n",
       "                       std                          \n",
       "            calls_duration  mb_used messages_count  \n",
       "tariff_name                                         \n",
       "smart               189.33 5,861.74          26.79  \n",
       "ultra               306.93 9,943.05          45.93  "
      ]
     },
     "metadata": {},
     "output_type": "display_data"
    }
   ],
   "source": [
    "# Создаем сводную таблицу\n",
    "behavior_data = data.pivot_table(index=['tariff_name', 'month'],\n",
    "                             values= ['calls_duration', 'messages_count', 'mb_used'], \n",
    "                             aggfunc=['mean', 'var', 'std'])\n",
    "# Проверка результата\n",
    "display(behavior_data)\n",
    "\n",
    "\n",
    "# Создаем общую сводную таблицу по тарифам\n",
    "behavior_data_common = data.pivot_table(index=['tariff_name'],\n",
    "                             values= ['calls_duration', 'messages_count', 'mb_used'], \n",
    "                             aggfunc=['mean', 'median', 'var', 'std'])\n",
    "# Проверка результата\n",
    "display(behavior_data_common)"
   ]
  },
  {
   "cell_type": "code",
   "execution_count": 18,
   "metadata": {},
   "outputs": [
    {
     "data": {
      "text/html": [
       "<style  type=\"text/css\" >\n",
       "</style><table id=\"T_3dbe1_\" ><thead>    <tr>        <th class=\"blank\" ></th>        <th class=\"index_name level0\" >tariff_name</th>        <th class=\"col_heading level0 col0\" >smart</th>        <th class=\"col_heading level0 col1\" >ultra</th>    </tr></thead><tbody>\n",
       "                <tr>\n",
       "                        <th id=\"T_3dbe1_level0_row0\" class=\"row_heading level0 row0\" rowspan=\"3\">mean</th>\n",
       "                        <th id=\"T_3dbe1_level1_row0\" class=\"row_heading level1 row0\" >calls_duration</th>\n",
       "                        <td id=\"T_3dbe1_row0_col0\" class=\"data row0 col0\" >419.06</td>\n",
       "                        <td id=\"T_3dbe1_row0_col1\" class=\"data row0 col1\" >545.45</td>\n",
       "            </tr>\n",
       "            <tr>\n",
       "                                <th id=\"T_3dbe1_level1_row1\" class=\"row_heading level1 row1\" >mb_used</th>\n",
       "                        <td id=\"T_3dbe1_row1_col0\" class=\"data row1 col0\" >16215.66</td>\n",
       "                        <td id=\"T_3dbe1_row1_col1\" class=\"data row1 col1\" >19668.49</td>\n",
       "            </tr>\n",
       "            <tr>\n",
       "                                <th id=\"T_3dbe1_level1_row2\" class=\"row_heading level1 row2\" >messages_count</th>\n",
       "                        <td id=\"T_3dbe1_row2_col0\" class=\"data row2 col0\" >38.72</td>\n",
       "                        <td id=\"T_3dbe1_row2_col1\" class=\"data row2 col1\" >61.16</td>\n",
       "            </tr>\n",
       "            <tr>\n",
       "                        <th id=\"T_3dbe1_level0_row3\" class=\"row_heading level0 row3\" rowspan=\"3\">median</th>\n",
       "                        <th id=\"T_3dbe1_level1_row3\" class=\"row_heading level1 row3\" >calls_duration</th>\n",
       "                        <td id=\"T_3dbe1_row3_col0\" class=\"data row3 col0\" >423.00</td>\n",
       "                        <td id=\"T_3dbe1_row3_col1\" class=\"data row3 col1\" >528.00</td>\n",
       "            </tr>\n",
       "            <tr>\n",
       "                                <th id=\"T_3dbe1_level1_row4\" class=\"row_heading level1 row4\" >mb_used</th>\n",
       "                        <td id=\"T_3dbe1_row4_col0\" class=\"data row4 col0\" >16507.74</td>\n",
       "                        <td id=\"T_3dbe1_row4_col1\" class=\"data row4 col1\" >19394.29</td>\n",
       "            </tr>\n",
       "            <tr>\n",
       "                                <th id=\"T_3dbe1_level1_row5\" class=\"row_heading level1 row5\" >messages_count</th>\n",
       "                        <td id=\"T_3dbe1_row5_col0\" class=\"data row5 col0\" >34.00</td>\n",
       "                        <td id=\"T_3dbe1_row5_col1\" class=\"data row5 col1\" >51.00</td>\n",
       "            </tr>\n",
       "            <tr>\n",
       "                        <th id=\"T_3dbe1_level0_row6\" class=\"row_heading level0 row6\" rowspan=\"3\">var</th>\n",
       "                        <th id=\"T_3dbe1_level1_row6\" class=\"row_heading level1 row6\" >calls_duration</th>\n",
       "                        <td id=\"T_3dbe1_row6_col0\" class=\"data row6 col0\" >35844.19</td>\n",
       "                        <td id=\"T_3dbe1_row6_col1\" class=\"data row6 col1\" >94203.42</td>\n",
       "            </tr>\n",
       "            <tr>\n",
       "                                <th id=\"T_3dbe1_level1_row7\" class=\"row_heading level1 row7\" >mb_used</th>\n",
       "                        <td id=\"T_3dbe1_row7_col0\" class=\"data row7 col0\" >34359951.68</td>\n",
       "                        <td id=\"T_3dbe1_row7_col1\" class=\"data row7 col1\" >98864248.95</td>\n",
       "            </tr>\n",
       "            <tr>\n",
       "                                <th id=\"T_3dbe1_level1_row8\" class=\"row_heading level1 row8\" >messages_count</th>\n",
       "                        <td id=\"T_3dbe1_row8_col0\" class=\"data row8 col0\" >717.59</td>\n",
       "                        <td id=\"T_3dbe1_row8_col1\" class=\"data row8 col1\" >2109.66</td>\n",
       "            </tr>\n",
       "            <tr>\n",
       "                        <th id=\"T_3dbe1_level0_row9\" class=\"row_heading level0 row9\" rowspan=\"3\">std</th>\n",
       "                        <th id=\"T_3dbe1_level1_row9\" class=\"row_heading level1 row9\" >calls_duration</th>\n",
       "                        <td id=\"T_3dbe1_row9_col0\" class=\"data row9 col0\" >189.33</td>\n",
       "                        <td id=\"T_3dbe1_row9_col1\" class=\"data row9 col1\" >306.93</td>\n",
       "            </tr>\n",
       "            <tr>\n",
       "                                <th id=\"T_3dbe1_level1_row10\" class=\"row_heading level1 row10\" >mb_used</th>\n",
       "                        <td id=\"T_3dbe1_row10_col0\" class=\"data row10 col0\" >5861.74</td>\n",
       "                        <td id=\"T_3dbe1_row10_col1\" class=\"data row10 col1\" >9943.05</td>\n",
       "            </tr>\n",
       "            <tr>\n",
       "                                <th id=\"T_3dbe1_level1_row11\" class=\"row_heading level1 row11\" >messages_count</th>\n",
       "                        <td id=\"T_3dbe1_row11_col0\" class=\"data row11 col0\" >26.79</td>\n",
       "                        <td id=\"T_3dbe1_row11_col1\" class=\"data row11 col1\" >45.93</td>\n",
       "            </tr>\n",
       "    </tbody></table>"
      ],
      "text/plain": [
       "<pandas.io.formats.style.Styler at 0x7f7c79e987c0>"
      ]
     },
     "execution_count": 18,
     "metadata": {},
     "output_type": "execute_result"
    }
   ],
   "source": [
    "behavior_data_common.T.style.format('{:.2f}')"
   ]
  },
  {
   "cell_type": "markdown",
   "metadata": {},
   "source": [
    "Также для оценки поведения клиентов построим гистограммы и диаграммы размаха для каждого параметра по тарифам."
   ]
  },
  {
   "cell_type": "code",
   "execution_count": 19,
   "metadata": {
    "scrolled": false
   },
   "outputs": [
    {
     "data": {
      "image/png": "[encoded data removed]",
      "text/plain": [
       "<Figure size 1080x360 with 2 Axes>"
      ]
     },
     "metadata": {
      "needs_background": "light"
     },
     "output_type": "display_data"
    },
    {
     "data": {
      "image/png": "[encoded data removed]",
      "text/plain": [
       "<Figure size 432x288 with 1 Axes>"
      ]
     },
     "metadata": {
      "needs_background": "light"
     },
     "output_type": "display_data"
    },
    {
     "data": {
      "image/png": "[encoded data removed]",
      "text/plain": [
       "<Figure size 1080x360 with 2 Axes>"
      ]
     },
     "metadata": {
      "needs_background": "light"
     },
     "output_type": "display_data"
    },
    {
     "data": {
      "image/png": "[encoded data removed]",
      "text/plain": [
       "<Figure size 432x288 with 1 Axes>"
      ]
     },
     "metadata": {
      "needs_background": "light"
     },
     "output_type": "display_data"
    },
    {
     "data": {
      "image/png": "[encoded data removed]",
      "text/plain": [
       "<Figure size 1080x360 with 2 Axes>"
      ]
     },
     "metadata": {
      "needs_background": "light"
     },
     "output_type": "display_data"
    },
    {
     "data": {
      "image/png": "[encoded data removed]",
      "text/plain": [
       "<Figure size 432x288 with 1 Axes>"
      ]
     },
     "metadata": {
      "needs_background": "light"
     },
     "output_type": "display_data"
    }
   ],
   "source": [
    "# Выключаем предупреждения по VisibleDeprecationWarning.\n",
    "np.warnings.filterwarnings('ignore', category=np.VisibleDeprecationWarning)\n",
    "\n",
    "# Наименевание нужных нам колонок\n",
    "param = ['calls_duration','messages_count','mb_used']\n",
    "# Наименования графиков\n",
    "name = ['Распределение длительности звонков', 'Распределение количества сообщений', 'Распределение интернет-трафика']\n",
    "\n",
    "# Для простоты создадим цикл, который будет проходить по нужным нам колонкам и строить графики \n",
    "for i in range(3):\n",
    "    axarr = data.hist(column=param[i], by='tariff_name', figsize=(15,5), grid=True)\n",
    "    # Цикл для подписи оси Х 2х графиков\n",
    "    for ax in axarr.flatten():\n",
    "        ax.set_xlabel(param[i])\n",
    "    plt.suptitle(name[i])\n",
    "    # Строим диаграмму размаха\n",
    "    data.boxplot(column=param[i], by='tariff_name')\n",
    "    # Убираем название диаграммы\n",
    "    plt.suptitle('')\n",
    "    plt.title('')"
   ]
  },
  {
   "cell_type": "code",
   "execution_count": 20,
   "metadata": {},
   "outputs": [
    {
     "data": {
      "image/png": "[encoded data removed]",
      "text/plain": [
       "<Figure size 1080x720 with 2 Axes>"
      ]
     },
     "metadata": {
      "needs_background": "light"
     },
     "output_type": "display_data"
    }
   ],
   "source": [
    "def plot_hist_boxplot(df, group_col, column, title = 'Диаграмма распределений и боксплоты', bins = [50, 50]):\n",
    "    \n",
    "    np.warnings.filterwarnings('ignore', category=np.VisibleDeprecationWarning)\n",
    "    \n",
    "    fig, axes = plt.subplots(2, 1, figsize=(15, 10))\n",
    "    \n",
    "    for item in df[group_col].unique():\n",
    "        axes[0].hist(df.loc[df[group_col] == item, column], bins = bins[0], label = item, alpha = 0.5)\n",
    "    axes[0].legend()\n",
    "    axes[0].grid()\n",
    "    \n",
    "    df.boxplot(column, by=group_col, ax = axes[1], vert = False)\n",
    "    fig.suptitle(title)\n",
    "    \n",
    "    plt.show()\n",
    "    \n",
    "plot_hist_boxplot(data, 'tariff_name', 'calls_duration')"
   ]
  },
  {
   "cell_type": "markdown",
   "metadata": {},
   "source": [
    "**Вывод**\n",
    "\n",
    "Распределение длительности звонков.\n",
    "\n",
    "Данные по обоим тарифам скошены вправо, при этом, исходя из характеристик тарифных планов, около 25% пользователей \"Smart\" докупают дополнительные минуты для разговора, в то время как пользователи \"Ultra\" умещаются в границы тарифа. В среднем звонок по тарифу \"Smart\" длится 400 секунд, по тарифу \"Ultra\" 500 сек.\n",
    "\n",
    "Распределение количества сообщений.\n",
    "\n",
    "Данные по обоим тарифам сильно скошены вправо, при этом, исходя из характеристик тарифных планов, около 25% пользователей \"Smart\" докупают дополнительные сообщения, в то время как пользователи \"Ultra\" не расходуют и четверти предложенного тарифом лимита. В среднем пользователи тарифа \"Smart\" отправляют 38 сообщений, по тарифу \"Ultra\" 61 сообщение.\n",
    "\n",
    "Распределение интернет-трафика.\n",
    "\n",
    "Можно сказать, что данные по тарифу \"Smart\" распеделены без смещений, в то время данные по тарифу \"Ultra\" имеют скос вправо, при этом, исходя из характеристик тарифных планов, около 50% пользователей \"Smart\" и 30% пользователей \"Ultra\" докупают дополнительные гигабайты. В среднем пользователи тарифа \"Smart\" тратят около 16 Гб на интернет, что больше чем предусмотрено тарифным планом, по тарифу \"Ultra\" пользователи тратят 19 Гб на интернет."
   ]
  },
  {
   "cell_type": "markdown",
   "metadata": {},
   "source": [
    "## Часть. Проверка гипотез."
   ]
  },
  {
   "cell_type": "markdown",
   "metadata": {},
   "source": [
    "### Гипотеза \"Средняя выручка пользователей тарифов «Ультра» и «Смарт» различаются\". "
   ]
  },
  {
   "cell_type": "markdown",
   "metadata": {},
   "source": [
    "Рассмотрим следующую нулевую гипотезу - \"средняя выручка пользователей тарифов \"Ультра\" и \"Смарт\" не различаются\". Сформулируем альтернативную гипотезу - \"средняя выручка пользователей тарифа \"Ультра\" и тарифа \"Смарт\" различаются\". Для проверки гипотез создадим два датасета smart_data и ultra_data, в которых будем хранить выручку по каждому из тарифов."
   ]
  },
  {
   "cell_type": "code",
   "execution_count": 21,
   "metadata": {},
   "outputs": [
    {
     "data": {
      "text/plain": [
       "0       1150\n",
       "1        550\n",
       "2        550\n",
       "3       1150\n",
       "4       1550\n",
       "        ... \n",
       "2224    1750\n",
       "2225     550\n",
       "2226    1150\n",
       "2227    1513\n",
       "2228     598\n",
       "Name: revenue, Length: 2229, dtype: int64"
      ]
     },
     "metadata": {},
     "output_type": "display_data"
    },
    {
     "data": {
      "text/plain": [
       "0      1950\n",
       "1      1950\n",
       "2      1950\n",
       "3      1950\n",
       "4      1950\n",
       "       ... \n",
       "980    1950\n",
       "981    2400\n",
       "982    1950\n",
       "983    3300\n",
       "984    1950\n",
       "Name: revenue, Length: 985, dtype: int64"
      ]
     },
     "metadata": {},
     "output_type": "display_data"
    }
   ],
   "source": [
    "# Датасет \"Smart\"\n",
    "smart_data = data.query('tariff_name == \"smart\"')['revenue'].reset_index(drop=True)\n",
    "display(smart_data)\n",
    "\n",
    "# Датасет \"Ultra\"\n",
    "ultra_data = data.query('tariff_name == \"ultra\"')['revenue'].reset_index(drop=True)\n",
    "display(ultra_data)"
   ]
  },
  {
   "cell_type": "markdown",
   "metadata": {},
   "source": [
    "Так как мы рассматриваем одностороннюю гипотезу, то воспользуемся  методом st.ttest_ind(), установим уровень значимости 5%."
   ]
  },
  {
   "cell_type": "code",
   "execution_count": 22,
   "metadata": {},
   "outputs": [
    {
     "name": "stdout",
     "output_type": "stream",
     "text": [
      "4.2606313931076085e-250\n",
      "Отвергаем нулевую гипотезу\n"
     ]
    }
   ],
   "source": [
    "# Устанавливаем уровень значимости\n",
    "alpha = .05\n",
    "# Применяем метод для сравнения средних\n",
    "result = st.ttest_ind(smart_data, ultra_data, equal_var=False)\n",
    "# Вывод p-value\n",
    "print(result.pvalue)\n",
    "# Вывод по гипотезе\n",
    "if result.pvalue < alpha:\n",
    "    print(\"Отвергаем нулевую гипотезу\")\n",
    "else:\n",
    "    print(\"Не получилось отвергнуть нулевую гипотезу\") "
   ]
  },
  {
   "cell_type": "markdown",
   "metadata": {},
   "source": [
    "**Вывод**\n",
    "\n",
    "Средняя выручка от тарифов различается."
   ]
  },
  {
   "cell_type": "markdown",
   "metadata": {},
   "source": [
    "### Гипотеза \"Средняя выручка пользователей из Москвы отличается от выручки пользователей из других регионов\"."
   ]
  },
  {
   "cell_type": "markdown",
   "metadata": {},
   "source": [
    "Рассмотрим следующую нулевую гипотезу - \"средняя выручка пользователей из Москвы не отличается от выручки пользователей из других регионов\". Сформулируем альтернативную гипотезу - \"средняя выручка пользователей из Москвы отличается от выручки пользователей из других регионов\". Для проверки гипотез создадим два датасета moscow_data и region_data, в которых будем хранить выручку по регионам."
   ]
  },
  {
   "cell_type": "code",
   "execution_count": 23,
   "metadata": {},
   "outputs": [
    {
     "data": {
      "text/plain": [
       "0      1150\n",
       "1       550\n",
       "2      1950\n",
       "3      1950\n",
       "4      1950\n",
       "       ... \n",
       "606     950\n",
       "607     550\n",
       "608    1750\n",
       "609    1350\n",
       "610     750\n",
       "Name: revenue, Length: 611, dtype: int64"
      ]
     },
     "metadata": {},
     "output_type": "display_data"
    },
    {
     "data": {
      "text/plain": [
       "0       1950\n",
       "1       1950\n",
       "2       1950\n",
       "3       1950\n",
       "4       1950\n",
       "        ... \n",
       "2598    1750\n",
       "2599     550\n",
       "2600    1150\n",
       "2601    1513\n",
       "2602     598\n",
       "Name: revenue, Length: 2603, dtype: int64"
      ]
     },
     "metadata": {},
     "output_type": "display_data"
    }
   ],
   "source": [
    "# Датасет \"Moscow\"\n",
    "moscow_data = data.query('city == \"Москва\"')['revenue'].reset_index(drop=True)\n",
    "display(moscow_data)\n",
    "\n",
    "# Датасет \"Region\"\n",
    "region_data = data.query('city != \"Москва\"')['revenue'].reset_index(drop=True)\n",
    "display(region_data)"
   ]
  },
  {
   "cell_type": "markdown",
   "metadata": {},
   "source": [
    "Так как мы рассматриваем одностороннюю гипотезу, то воспользуемся методом st.ttest_ind(), установим уровень значимости 5%."
   ]
  },
  {
   "cell_type": "code",
   "execution_count": 24,
   "metadata": {},
   "outputs": [
    {
     "name": "stdout",
     "output_type": "stream",
     "text": [
      "0.5257376663729298\n",
      "Не получилось отвергнуть нулевую гипотезу\n"
     ]
    }
   ],
   "source": [
    "# Устанавливаем уровень значимости\n",
    "alpha = .05\n",
    "# Применяем метод для сравнения средних\n",
    "result = st.ttest_ind(moscow_data, region_data, equal_var=False)\n",
    "# Вывод p-value\n",
    "print(result.pvalue)\n",
    "# Вывод по гипотезе\n",
    "if result.pvalue < alpha:\n",
    "    print(\"Отвергаем нулевую гипотезу\")\n",
    "else:\n",
    "    print(\"Не получилось отвергнуть нулевую гипотезу\") "
   ]
  },
  {
   "cell_type": "markdown",
   "metadata": {},
   "source": [
    "**Вывод**\n",
    "\n",
    "Гипотезу о том, что средняя выручка по Москве не отличается от средней выручке пользователей других регионов, не удалось опровергнуть."
   ]
  },
  {
   "cell_type": "markdown",
   "metadata": {},
   "source": [
    "## Часть. Подведение итогов."
   ]
  },
  {
   "cell_type": "markdown",
   "metadata": {},
   "source": [
    "### Общий вывод по исследованию."
   ]
  },
  {
   "cell_type": "markdown",
   "metadata": {},
   "source": [
    "В рамках проведенного исследования можно сказать, что средняя выручка от тарифа \"Ultra\" и тарифа \"Smart\" различаются, при этом в Москве средняя выручка на уровне регионов. \n",
    "\n",
    "Для ответа на вопрос \"Какой тариф более прибыльный?\" возможно стоит просто посчитать суммарную выручку по каждому тарифу (тариф \"Smart\" прибыльнее на 800 тыс.), оценить зависимость выбора тарифа от региона или например выдвинуть гипотезу \"выручка по тарифу \"Smart\" выше, чем по аналогичному тарифу \"Lite\" у конкурентов\" (с тарифом \"Ultra\" аналолгично)."
   ]
  }
 ],
 "metadata": {
  "ExecuteTimeLog": [
   {
    "duration": 670,
    "start_time": "2022-01-26T06:19:13.533Z"
   },
   {
    "duration": 6,
    "start_time": "2022-01-26T06:19:24.294Z"
   },
   {
    "duration": 186,
    "start_time": "2022-01-26T06:31:36.346Z"
   },
   {
    "duration": 261,
    "start_time": "2022-01-26T06:31:47.084Z"
   },
   {
    "duration": 208,
    "start_time": "2022-01-26T06:32:28.022Z"
   },
   {
    "duration": 224,
    "start_time": "2022-01-26T06:33:17.203Z"
   },
   {
    "duration": 446,
    "start_time": "2022-01-26T06:34:13.893Z"
   },
   {
    "duration": 447,
    "start_time": "2022-01-26T06:35:19.028Z"
   },
   {
    "duration": 438,
    "start_time": "2022-01-26T06:36:51.608Z"
   },
   {
    "duration": 699,
    "start_time": "2022-01-26T06:42:33.628Z"
   },
   {
    "duration": 852,
    "start_time": "2022-01-26T06:42:48.837Z"
   },
   {
    "duration": 668,
    "start_time": "2022-01-26T06:43:18.799Z"
   },
   {
    "duration": 660,
    "start_time": "2022-01-26T06:45:33.114Z"
   },
   {
    "duration": 423,
    "start_time": "2022-01-26T06:51:44.181Z"
   },
   {
    "duration": 1114,
    "start_time": "2022-01-26T06:52:24.192Z"
   },
   {
    "duration": 77,
    "start_time": "2022-01-26T06:52:25.308Z"
   },
   {
    "duration": 85,
    "start_time": "2022-01-26T06:52:25.387Z"
   },
   {
    "duration": 62,
    "start_time": "2022-01-26T06:52:25.474Z"
   },
   {
    "duration": 71,
    "start_time": "2022-01-26T06:52:25.538Z"
   },
   {
    "duration": 32,
    "start_time": "2022-01-26T06:52:25.611Z"
   },
   {
    "duration": 432,
    "start_time": "2022-01-26T06:55:12.440Z"
   },
   {
    "duration": 1215,
    "start_time": "2022-01-26T06:55:18.185Z"
   },
   {
    "duration": 51,
    "start_time": "2022-01-26T06:55:19.403Z"
   },
   {
    "duration": 59,
    "start_time": "2022-01-26T06:55:19.456Z"
   },
   {
    "duration": 33,
    "start_time": "2022-01-26T06:55:19.517Z"
   },
   {
    "duration": 14,
    "start_time": "2022-01-26T06:55:19.552Z"
   },
   {
    "duration": 49,
    "start_time": "2022-01-26T06:55:19.568Z"
   },
   {
    "duration": 1282,
    "start_time": "2022-01-26T12:22:18.431Z"
   },
   {
    "duration": 55,
    "start_time": "2022-01-26T12:22:19.715Z"
   },
   {
    "duration": 62,
    "start_time": "2022-01-26T12:22:19.773Z"
   },
   {
    "duration": 37,
    "start_time": "2022-01-26T12:22:19.837Z"
   },
   {
    "duration": 48,
    "start_time": "2022-01-26T12:22:19.876Z"
   },
   {
    "duration": 25,
    "start_time": "2022-01-26T12:22:19.926Z"
   },
   {
    "duration": 56,
    "start_time": "2022-01-26T12:39:49.365Z"
   },
   {
    "duration": 44,
    "start_time": "2022-01-26T12:39:56.267Z"
   },
   {
    "duration": 324,
    "start_time": "2022-01-26T13:11:44.535Z"
   },
   {
    "duration": 243,
    "start_time": "2022-01-26T13:12:01.649Z"
   },
   {
    "duration": 240,
    "start_time": "2022-01-26T13:12:21.919Z"
   },
   {
    "duration": 231,
    "start_time": "2022-01-26T13:20:06.705Z"
   },
   {
    "duration": 1416,
    "start_time": "2022-01-26T21:24:45.460Z"
   },
   {
    "duration": 50,
    "start_time": "2022-01-26T21:24:46.879Z"
   },
   {
    "duration": 49,
    "start_time": "2022-01-26T21:24:46.931Z"
   },
   {
    "duration": 31,
    "start_time": "2022-01-26T21:24:46.983Z"
   },
   {
    "duration": 13,
    "start_time": "2022-01-26T21:24:47.015Z"
   },
   {
    "duration": 46,
    "start_time": "2022-01-26T21:24:47.029Z"
   },
   {
    "duration": 207,
    "start_time": "2022-01-26T21:24:47.077Z"
   },
   {
    "duration": 319,
    "start_time": "2022-01-26T21:25:39.079Z"
   },
   {
    "duration": 5,
    "start_time": "2022-01-26T21:25:50.446Z"
   },
   {
    "duration": 248,
    "start_time": "2022-01-26T21:26:13.165Z"
   },
   {
    "duration": 96,
    "start_time": "2022-01-26T21:26:26.693Z"
   },
   {
    "duration": 7,
    "start_time": "2022-01-26T21:26:27.925Z"
   },
   {
    "duration": 6,
    "start_time": "2022-01-26T21:26:35.413Z"
   },
   {
    "duration": 303,
    "start_time": "2022-01-26T21:29:17.753Z"
   },
   {
    "duration": 42,
    "start_time": "2022-01-26T21:29:25.485Z"
   },
   {
    "duration": 33,
    "start_time": "2022-01-26T21:29:25.712Z"
   },
   {
    "duration": 401,
    "start_time": "2022-01-26T21:30:13.490Z"
   },
   {
    "duration": 62,
    "start_time": "2022-01-26T21:30:17.594Z"
   },
   {
    "duration": 62,
    "start_time": "2022-01-26T21:30:57.866Z"
   },
   {
    "duration": 43,
    "start_time": "2022-01-26T21:31:12.425Z"
   },
   {
    "duration": 33,
    "start_time": "2022-01-26T21:31:53.237Z"
   },
   {
    "duration": 373,
    "start_time": "2022-01-26T21:32:33.683Z"
   },
   {
    "duration": 354,
    "start_time": "2022-01-26T21:32:39.642Z"
   },
   {
    "duration": 1071,
    "start_time": "2022-01-26T21:33:07.982Z"
   },
   {
    "duration": 59,
    "start_time": "2022-01-26T21:33:09.055Z"
   },
   {
    "duration": 54,
    "start_time": "2022-01-26T21:33:09.119Z"
   },
   {
    "duration": 33,
    "start_time": "2022-01-26T21:33:09.176Z"
   },
   {
    "duration": 13,
    "start_time": "2022-01-26T21:33:09.211Z"
   },
   {
    "duration": 15,
    "start_time": "2022-01-26T21:33:09.225Z"
   },
   {
    "duration": 216,
    "start_time": "2022-01-26T21:33:09.273Z"
   },
   {
    "duration": 53,
    "start_time": "2022-01-26T21:38:22.607Z"
   },
   {
    "duration": 51,
    "start_time": "2022-01-26T21:42:15.428Z"
   },
   {
    "duration": 20,
    "start_time": "2022-01-26T21:47:50.898Z"
   },
   {
    "duration": 28,
    "start_time": "2022-01-26T22:08:09.109Z"
   },
   {
    "duration": 34,
    "start_time": "2022-01-26T22:08:28.061Z"
   },
   {
    "duration": 26,
    "start_time": "2022-01-26T22:09:49.525Z"
   },
   {
    "duration": 25,
    "start_time": "2022-01-26T22:09:50.723Z"
   },
   {
    "duration": 58,
    "start_time": "2022-01-26T22:10:38.061Z"
   },
   {
    "duration": 22,
    "start_time": "2022-01-26T22:19:42.423Z"
   },
   {
    "duration": 332,
    "start_time": "2022-01-26T22:19:56.622Z"
   },
   {
    "duration": 1267,
    "start_time": "2022-01-26T22:20:07.225Z"
   },
   {
    "duration": 54,
    "start_time": "2022-01-26T22:20:08.494Z"
   },
   {
    "duration": 40,
    "start_time": "2022-01-26T22:20:08.551Z"
   },
   {
    "duration": 28,
    "start_time": "2022-01-26T22:20:08.592Z"
   },
   {
    "duration": 12,
    "start_time": "2022-01-26T22:20:08.621Z"
   },
   {
    "duration": 39,
    "start_time": "2022-01-26T22:20:08.634Z"
   },
   {
    "duration": 199,
    "start_time": "2022-01-26T22:20:08.675Z"
   },
   {
    "duration": 20,
    "start_time": "2022-01-26T22:20:08.876Z"
   },
   {
    "duration": 102,
    "start_time": "2022-01-26T22:20:08.898Z"
   },
   {
    "duration": 60,
    "start_time": "2022-01-26T22:22:06.869Z"
   },
   {
    "duration": 59,
    "start_time": "2022-01-26T22:22:53.452Z"
   },
   {
    "duration": 329,
    "start_time": "2022-01-26T22:26:38.281Z"
   },
   {
    "duration": 263,
    "start_time": "2022-01-26T22:26:45.994Z"
   },
   {
    "duration": 10,
    "start_time": "2022-01-26T22:26:50.840Z"
   },
   {
    "duration": 1406,
    "start_time": "2022-01-27T11:06:19.510Z"
   },
   {
    "duration": 159,
    "start_time": "2022-01-27T11:06:20.919Z"
   },
   {
    "duration": 127,
    "start_time": "2022-01-27T11:06:21.081Z"
   },
   {
    "duration": 99,
    "start_time": "2022-01-27T11:06:21.211Z"
   },
   {
    "duration": 23,
    "start_time": "2022-01-27T11:06:21.312Z"
   },
   {
    "duration": 41,
    "start_time": "2022-01-27T11:06:21.360Z"
   },
   {
    "duration": 340,
    "start_time": "2022-01-27T11:06:21.403Z"
   },
   {
    "duration": 64,
    "start_time": "2022-01-27T11:06:21.746Z"
   },
   {
    "duration": 247,
    "start_time": "2022-01-27T11:06:21.814Z"
   },
   {
    "duration": 104,
    "start_time": "2022-01-27T11:06:22.063Z"
   },
   {
    "duration": 1412,
    "start_time": "2022-01-27T11:10:52.734Z"
   },
   {
    "duration": 90,
    "start_time": "2022-01-27T11:10:54.149Z"
   },
   {
    "duration": 92,
    "start_time": "2022-01-27T11:10:54.243Z"
   },
   {
    "duration": 63,
    "start_time": "2022-01-27T11:10:54.338Z"
   },
   {
    "duration": 58,
    "start_time": "2022-01-27T11:10:54.403Z"
   },
   {
    "duration": 37,
    "start_time": "2022-01-27T11:10:54.464Z"
   },
   {
    "duration": 340,
    "start_time": "2022-01-27T11:10:54.504Z"
   },
   {
    "duration": 39,
    "start_time": "2022-01-27T11:10:54.846Z"
   },
   {
    "duration": 157,
    "start_time": "2022-01-27T11:10:54.890Z"
   },
   {
    "duration": 139,
    "start_time": "2022-01-27T11:10:55.053Z"
   },
   {
    "duration": 1561,
    "start_time": "2022-01-27T11:11:51.820Z"
   },
   {
    "duration": 1265,
    "start_time": "2022-01-27T11:12:55.544Z"
   },
   {
    "duration": 915,
    "start_time": "2022-01-27T11:15:44.809Z"
   },
   {
    "duration": 1098,
    "start_time": "2022-01-27T11:21:20.529Z"
   },
   {
    "duration": 13,
    "start_time": "2022-01-27T12:46:18.924Z"
   },
   {
    "duration": 472,
    "start_time": "2022-01-27T13:33:10.317Z"
   },
   {
    "duration": 565,
    "start_time": "2022-01-27T13:33:16.188Z"
   },
   {
    "duration": 19,
    "start_time": "2022-01-27T13:33:36.680Z"
   },
   {
    "duration": 1104,
    "start_time": "2022-01-30T10:03:32.349Z"
   },
   {
    "duration": 66,
    "start_time": "2022-01-30T10:03:33.455Z"
   },
   {
    "duration": 52,
    "start_time": "2022-01-30T10:03:33.523Z"
   },
   {
    "duration": 51,
    "start_time": "2022-01-30T10:03:33.576Z"
   },
   {
    "duration": 15,
    "start_time": "2022-01-30T10:03:33.629Z"
   },
   {
    "duration": 53,
    "start_time": "2022-01-30T10:03:33.646Z"
   },
   {
    "duration": 223,
    "start_time": "2022-01-30T10:03:33.701Z"
   },
   {
    "duration": 23,
    "start_time": "2022-01-30T10:03:33.926Z"
   },
   {
    "duration": 117,
    "start_time": "2022-01-30T10:03:33.951Z"
   },
   {
    "duration": 1058,
    "start_time": "2022-01-30T10:03:34.070Z"
   },
   {
    "duration": 613,
    "start_time": "2022-01-30T10:03:35.130Z"
   },
   {
    "duration": 748,
    "start_time": "2022-01-30T10:03:35.744Z"
   },
   {
    "duration": 292,
    "start_time": "2022-01-30T10:03:36.499Z"
   },
   {
    "duration": 19,
    "start_time": "2022-01-30T10:26:23.305Z"
   },
   {
    "duration": 4381,
    "start_time": "2022-01-30T10:33:59.918Z"
   },
   {
    "duration": 4117,
    "start_time": "2022-01-30T10:34:13.918Z"
   },
   {
    "duration": 4914,
    "start_time": "2022-01-30T10:36:22.624Z"
   },
   {
    "duration": 6296,
    "start_time": "2022-01-30T10:36:47.529Z"
   },
   {
    "duration": 21,
    "start_time": "2022-01-30T10:38:04.135Z"
   },
   {
    "duration": 25,
    "start_time": "2022-01-30T10:38:18.536Z"
   },
   {
    "duration": 5552,
    "start_time": "2022-01-30T10:38:58.629Z"
   },
   {
    "duration": 4459,
    "start_time": "2022-01-30T10:42:37.470Z"
   },
   {
    "duration": 1163,
    "start_time": "2022-01-30T10:42:45.179Z"
   },
   {
    "duration": 64,
    "start_time": "2022-01-30T10:42:46.345Z"
   },
   {
    "duration": 66,
    "start_time": "2022-01-30T10:42:46.411Z"
   },
   {
    "duration": 63,
    "start_time": "2022-01-30T10:42:46.479Z"
   },
   {
    "duration": 19,
    "start_time": "2022-01-30T10:42:46.545Z"
   },
   {
    "duration": 52,
    "start_time": "2022-01-30T10:42:46.566Z"
   },
   {
    "duration": 234,
    "start_time": "2022-01-30T10:42:46.620Z"
   },
   {
    "duration": 22,
    "start_time": "2022-01-30T10:42:46.857Z"
   },
   {
    "duration": 126,
    "start_time": "2022-01-30T10:42:46.882Z"
   },
   {
    "duration": 1115,
    "start_time": "2022-01-30T10:42:47.010Z"
   },
   {
    "duration": 657,
    "start_time": "2022-01-30T10:42:48.127Z"
   },
   {
    "duration": 906,
    "start_time": "2022-01-30T10:42:48.786Z"
   },
   {
    "duration": 4147,
    "start_time": "2022-01-30T10:42:49.699Z"
   },
   {
    "duration": 4144,
    "start_time": "2022-01-30T10:45:24.209Z"
   },
   {
    "duration": 20,
    "start_time": "2022-01-30T10:45:48.983Z"
   },
   {
    "duration": 44,
    "start_time": "2022-01-30T10:52:13.082Z"
   },
   {
    "duration": 55,
    "start_time": "2022-01-30T10:59:04.081Z"
   },
   {
    "duration": 254,
    "start_time": "2022-01-30T11:00:05.159Z"
   },
   {
    "duration": 43,
    "start_time": "2022-01-30T11:00:46.870Z"
   },
   {
    "duration": 27,
    "start_time": "2022-01-30T11:01:22.918Z"
   },
   {
    "duration": 4115,
    "start_time": "2022-01-30T11:01:33.836Z"
   },
   {
    "duration": 4473,
    "start_time": "2022-01-30T11:01:43.406Z"
   },
   {
    "duration": 54,
    "start_time": "2022-01-30T11:01:56.587Z"
   },
   {
    "duration": 4220,
    "start_time": "2022-01-30T11:02:02.393Z"
   },
   {
    "duration": 26,
    "start_time": "2022-01-30T11:02:20.719Z"
   },
   {
    "duration": 5431,
    "start_time": "2022-01-30T11:02:24.322Z"
   },
   {
    "duration": 5980,
    "start_time": "2022-01-30T11:02:35.485Z"
   },
   {
    "duration": 27,
    "start_time": "2022-01-30T11:05:55.835Z"
   },
   {
    "duration": 19,
    "start_time": "2022-01-30T11:06:00.169Z"
   },
   {
    "duration": 29,
    "start_time": "2022-01-30T11:06:06.825Z"
   },
   {
    "duration": 21,
    "start_time": "2022-01-30T11:06:44.889Z"
   },
   {
    "duration": 5739,
    "start_time": "2022-01-30T11:06:56.321Z"
   },
   {
    "duration": 5513,
    "start_time": "2022-01-30T11:07:08.225Z"
   },
   {
    "duration": 5583,
    "start_time": "2022-01-30T11:10:03.295Z"
   },
   {
    "duration": 20,
    "start_time": "2022-01-30T11:10:12.231Z"
   },
   {
    "duration": 231,
    "start_time": "2022-01-30T11:13:03.309Z"
   },
   {
    "duration": 30,
    "start_time": "2022-01-30T11:18:15.925Z"
   },
   {
    "duration": 228,
    "start_time": "2022-01-30T11:18:55.290Z"
   },
   {
    "duration": 315,
    "start_time": "2022-01-30T11:18:59.674Z"
   },
   {
    "duration": 231,
    "start_time": "2022-01-30T11:19:08.819Z"
   },
   {
    "duration": 358,
    "start_time": "2022-01-30T11:19:11.055Z"
   },
   {
    "duration": 5545,
    "start_time": "2022-01-30T11:19:18.450Z"
   },
   {
    "duration": 27,
    "start_time": "2022-01-30T11:19:31.130Z"
   },
   {
    "duration": 30,
    "start_time": "2022-01-30T11:19:48.185Z"
   },
   {
    "duration": 17,
    "start_time": "2022-01-30T11:20:03.778Z"
   },
   {
    "duration": 4235,
    "start_time": "2022-01-30T11:20:23.759Z"
   },
   {
    "duration": 3,
    "start_time": "2022-01-30T11:20:35.752Z"
   },
   {
    "duration": 33,
    "start_time": "2022-01-30T11:21:34.646Z"
   },
   {
    "duration": 34,
    "start_time": "2022-01-30T11:21:40.008Z"
   },
   {
    "duration": 1095,
    "start_time": "2022-01-30T11:21:47.134Z"
   },
   {
    "duration": 65,
    "start_time": "2022-01-30T11:21:48.231Z"
   },
   {
    "duration": 50,
    "start_time": "2022-01-30T11:21:48.298Z"
   },
   {
    "duration": 60,
    "start_time": "2022-01-30T11:21:48.350Z"
   },
   {
    "duration": 15,
    "start_time": "2022-01-30T11:21:48.412Z"
   },
   {
    "duration": 24,
    "start_time": "2022-01-30T11:21:48.428Z"
   },
   {
    "duration": 258,
    "start_time": "2022-01-30T11:21:48.453Z"
   },
   {
    "duration": 23,
    "start_time": "2022-01-30T11:21:48.714Z"
   },
   {
    "duration": 119,
    "start_time": "2022-01-30T11:21:48.739Z"
   },
   {
    "duration": 1113,
    "start_time": "2022-01-30T11:21:48.860Z"
   },
   {
    "duration": 642,
    "start_time": "2022-01-30T11:21:49.974Z"
   },
   {
    "duration": 765,
    "start_time": "2022-01-30T11:21:50.618Z"
   },
   {
    "duration": 35,
    "start_time": "2022-01-30T11:21:51.385Z"
   },
   {
    "duration": 4120,
    "start_time": "2022-01-30T11:24:05.655Z"
   },
   {
    "duration": 4592,
    "start_time": "2022-01-30T11:24:31.656Z"
   },
   {
    "duration": 4749,
    "start_time": "2022-01-30T11:24:39.074Z"
   },
   {
    "duration": 33,
    "start_time": "2022-01-30T11:25:04.720Z"
   },
   {
    "duration": 33,
    "start_time": "2022-01-30T11:26:11.487Z"
   },
   {
    "duration": 5667,
    "start_time": "2022-01-30T11:26:27.965Z"
   },
   {
    "duration": 31,
    "start_time": "2022-01-30T11:26:51.914Z"
   },
   {
    "duration": 5109,
    "start_time": "2022-01-30T11:27:23.950Z"
   },
   {
    "duration": 768,
    "start_time": "2022-01-30T11:44:26.402Z"
   },
   {
    "duration": 738,
    "start_time": "2022-01-30T11:44:34.218Z"
   },
   {
    "duration": 737,
    "start_time": "2022-01-30T11:44:44.833Z"
   },
   {
    "duration": 728,
    "start_time": "2022-01-30T11:45:16.442Z"
   },
   {
    "duration": 734,
    "start_time": "2022-01-30T11:45:21.864Z"
   },
   {
    "duration": 754,
    "start_time": "2022-01-30T11:45:33.354Z"
   },
   {
    "duration": 799,
    "start_time": "2022-01-30T11:45:37.514Z"
   },
   {
    "duration": 52,
    "start_time": "2022-01-30T12:14:32.316Z"
   },
   {
    "duration": 27,
    "start_time": "2022-01-30T12:14:36.197Z"
   },
   {
    "duration": 246,
    "start_time": "2022-01-30T12:14:59.296Z"
   },
   {
    "duration": 235,
    "start_time": "2022-01-30T12:15:18.711Z"
   },
   {
    "duration": 28,
    "start_time": "2022-01-30T12:15:48.022Z"
   },
   {
    "duration": 233,
    "start_time": "2022-01-30T22:02:38.394Z"
   },
   {
    "duration": 1132,
    "start_time": "2022-01-30T22:02:47.167Z"
   },
   {
    "duration": 61,
    "start_time": "2022-01-30T22:02:48.301Z"
   },
   {
    "duration": 49,
    "start_time": "2022-01-30T22:02:48.364Z"
   },
   {
    "duration": 52,
    "start_time": "2022-01-30T22:02:48.415Z"
   },
   {
    "duration": 15,
    "start_time": "2022-01-30T22:02:48.469Z"
   },
   {
    "duration": 20,
    "start_time": "2022-01-30T22:02:48.485Z"
   },
   {
    "duration": 256,
    "start_time": "2022-01-30T22:02:48.506Z"
   },
   {
    "duration": 21,
    "start_time": "2022-01-30T22:02:48.764Z"
   },
   {
    "duration": 116,
    "start_time": "2022-01-30T22:02:48.787Z"
   },
   {
    "duration": 934,
    "start_time": "2022-01-30T22:02:51.110Z"
   },
   {
    "duration": 895,
    "start_time": "2022-01-30T22:03:39.209Z"
   },
   {
    "duration": 891,
    "start_time": "2022-01-30T22:04:10.936Z"
   },
   {
    "duration": 957,
    "start_time": "2022-01-30T22:04:19.306Z"
   },
   {
    "duration": 925,
    "start_time": "2022-01-30T22:04:25.118Z"
   },
   {
    "duration": 895,
    "start_time": "2022-01-30T22:04:37.624Z"
   },
   {
    "duration": 904,
    "start_time": "2022-01-30T22:04:54.711Z"
   },
   {
    "duration": 1140,
    "start_time": "2022-01-30T22:05:09.164Z"
   },
   {
    "duration": 5602,
    "start_time": "2022-01-30T22:05:38.366Z"
   },
   {
    "duration": 1122,
    "start_time": "2022-01-30T22:06:26.070Z"
   },
   {
    "duration": 921,
    "start_time": "2022-01-30T22:06:49.622Z"
   },
   {
    "duration": 867,
    "start_time": "2022-01-30T22:07:13.236Z"
   },
   {
    "duration": 925,
    "start_time": "2022-01-30T22:07:50.484Z"
   },
   {
    "duration": 1108,
    "start_time": "2022-01-30T22:08:00.071Z"
   },
   {
    "duration": 76,
    "start_time": "2022-01-30T22:08:01.182Z"
   },
   {
    "duration": 48,
    "start_time": "2022-01-30T22:08:01.261Z"
   },
   {
    "duration": 54,
    "start_time": "2022-01-30T22:08:01.311Z"
   },
   {
    "duration": 14,
    "start_time": "2022-01-30T22:08:01.366Z"
   },
   {
    "duration": 25,
    "start_time": "2022-01-30T22:08:01.382Z"
   },
   {
    "duration": 282,
    "start_time": "2022-01-30T22:08:01.409Z"
   },
   {
    "duration": 28,
    "start_time": "2022-01-30T22:08:01.694Z"
   },
   {
    "duration": 130,
    "start_time": "2022-01-30T22:08:01.724Z"
   },
   {
    "duration": 1275,
    "start_time": "2022-01-30T22:08:01.861Z"
   },
   {
    "duration": -410,
    "start_time": "2022-01-30T22:08:03.548Z"
   },
   {
    "duration": -412,
    "start_time": "2022-01-30T22:08:03.552Z"
   },
   {
    "duration": -416,
    "start_time": "2022-01-30T22:08:03.557Z"
   },
   {
    "duration": 983,
    "start_time": "2022-01-30T22:08:18.791Z"
   },
   {
    "duration": 4552,
    "start_time": "2022-01-30T22:08:31.848Z"
   },
   {
    "duration": 914,
    "start_time": "2022-01-30T22:09:18.407Z"
   },
   {
    "duration": 953,
    "start_time": "2022-01-30T22:12:29.517Z"
   },
   {
    "duration": 939,
    "start_time": "2022-01-30T22:13:26.958Z"
   },
   {
    "duration": 926,
    "start_time": "2022-01-30T22:14:29.372Z"
   },
   {
    "duration": 954,
    "start_time": "2022-01-30T22:15:44.916Z"
   },
   {
    "duration": 923,
    "start_time": "2022-01-30T22:16:28.538Z"
   },
   {
    "duration": 933,
    "start_time": "2022-01-30T22:17:11.074Z"
   },
   {
    "duration": 594,
    "start_time": "2022-01-30T22:17:20.738Z"
   },
   {
    "duration": 967,
    "start_time": "2022-01-30T22:19:49.247Z"
   },
   {
    "duration": 958,
    "start_time": "2022-01-30T22:20:11.768Z"
   },
   {
    "duration": 577,
    "start_time": "2022-01-30T22:20:30.861Z"
   },
   {
    "duration": 1088,
    "start_time": "2022-01-30T22:20:46.024Z"
   },
   {
    "duration": 64,
    "start_time": "2022-01-30T22:20:47.114Z"
   },
   {
    "duration": 49,
    "start_time": "2022-01-30T22:20:47.180Z"
   },
   {
    "duration": 51,
    "start_time": "2022-01-30T22:20:47.231Z"
   },
   {
    "duration": 13,
    "start_time": "2022-01-30T22:20:47.284Z"
   },
   {
    "duration": 22,
    "start_time": "2022-01-30T22:20:47.299Z"
   },
   {
    "duration": 247,
    "start_time": "2022-01-30T22:20:47.323Z"
   },
   {
    "duration": 22,
    "start_time": "2022-01-30T22:20:47.573Z"
   },
   {
    "duration": 114,
    "start_time": "2022-01-30T22:20:47.597Z"
   },
   {
    "duration": 1049,
    "start_time": "2022-01-30T22:20:47.713Z"
   },
   {
    "duration": 638,
    "start_time": "2022-01-30T22:20:48.763Z"
   },
   {
    "duration": 807,
    "start_time": "2022-01-30T22:20:49.403Z"
   },
   {
    "duration": 2,
    "start_time": "2022-01-30T22:20:50.212Z"
   },
   {
    "duration": 273,
    "start_time": "2022-01-30T22:23:58.088Z"
   },
   {
    "duration": 27,
    "start_time": "2022-01-30T22:24:07.562Z"
   },
   {
    "duration": 18,
    "start_time": "2022-01-30T22:25:37.218Z"
   },
   {
    "duration": 9,
    "start_time": "2022-01-30T22:25:47.337Z"
   },
   {
    "duration": 9,
    "start_time": "2022-01-30T22:25:51.607Z"
   },
   {
    "duration": 35,
    "start_time": "2022-01-30T22:26:04.929Z"
   },
   {
    "duration": 1016,
    "start_time": "2022-01-30T22:26:43.678Z"
   },
   {
    "duration": 59,
    "start_time": "2022-01-30T22:26:44.696Z"
   },
   {
    "duration": 50,
    "start_time": "2022-01-30T22:26:44.758Z"
   },
   {
    "duration": 31,
    "start_time": "2022-01-30T22:26:44.810Z"
   },
   {
    "duration": 15,
    "start_time": "2022-01-30T22:26:44.861Z"
   },
   {
    "duration": 26,
    "start_time": "2022-01-30T22:26:44.877Z"
   },
   {
    "duration": 240,
    "start_time": "2022-01-30T22:26:44.905Z"
   },
   {
    "duration": 32,
    "start_time": "2022-01-30T22:26:45.147Z"
   },
   {
    "duration": 115,
    "start_time": "2022-01-30T22:26:45.180Z"
   },
   {
    "duration": 995,
    "start_time": "2022-01-30T22:26:45.297Z"
   },
   {
    "duration": 593,
    "start_time": "2022-01-30T22:26:46.295Z"
   },
   {
    "duration": 687,
    "start_time": "2022-01-30T22:26:46.889Z"
   },
   {
    "duration": 24,
    "start_time": "2022-01-30T22:26:47.578Z"
   },
   {
    "duration": 1116,
    "start_time": "2022-01-30T22:29:01.474Z"
   },
   {
    "duration": 59,
    "start_time": "2022-01-30T22:29:02.591Z"
   },
   {
    "duration": 46,
    "start_time": "2022-01-30T22:29:02.652Z"
   },
   {
    "duration": 29,
    "start_time": "2022-01-30T22:29:02.700Z"
   },
   {
    "duration": 31,
    "start_time": "2022-01-30T22:29:02.731Z"
   },
   {
    "duration": 33,
    "start_time": "2022-01-30T22:29:02.765Z"
   },
   {
    "duration": 326,
    "start_time": "2022-01-30T22:29:02.800Z"
   },
   {
    "duration": 22,
    "start_time": "2022-01-30T22:29:03.129Z"
   },
   {
    "duration": 112,
    "start_time": "2022-01-30T22:29:03.160Z"
   },
   {
    "duration": 994,
    "start_time": "2022-01-30T22:29:03.273Z"
   },
   {
    "duration": 681,
    "start_time": "2022-01-30T22:29:04.269Z"
   },
   {
    "duration": 731,
    "start_time": "2022-01-30T22:29:04.952Z"
   },
   {
    "duration": 23,
    "start_time": "2022-01-30T22:29:05.684Z"
   },
   {
    "duration": 22,
    "start_time": "2022-01-30T22:31:44.308Z"
   },
   {
    "duration": 23,
    "start_time": "2022-01-30T22:31:46.439Z"
   },
   {
    "duration": 24,
    "start_time": "2022-01-30T22:32:15.952Z"
   },
   {
    "duration": 1106,
    "start_time": "2022-01-30T22:32:29.951Z"
   },
   {
    "duration": 70,
    "start_time": "2022-01-30T22:32:31.059Z"
   },
   {
    "duration": 55,
    "start_time": "2022-01-30T22:32:31.132Z"
   },
   {
    "duration": 31,
    "start_time": "2022-01-30T22:32:31.189Z"
   },
   {
    "duration": 14,
    "start_time": "2022-01-30T22:32:31.221Z"
   },
   {
    "duration": 22,
    "start_time": "2022-01-30T22:32:31.261Z"
   },
   {
    "duration": 239,
    "start_time": "2022-01-30T22:32:31.285Z"
   },
   {
    "duration": 38,
    "start_time": "2022-01-30T22:32:31.526Z"
   },
   {
    "duration": 110,
    "start_time": "2022-01-30T22:32:31.566Z"
   },
   {
    "duration": 982,
    "start_time": "2022-01-30T22:32:31.678Z"
   },
   {
    "duration": 570,
    "start_time": "2022-01-30T22:32:32.662Z"
   },
   {
    "duration": 684,
    "start_time": "2022-01-30T22:32:33.234Z"
   },
   {
    "duration": 17,
    "start_time": "2022-01-30T22:32:33.920Z"
   },
   {
    "duration": 278,
    "start_time": "2022-01-30T22:32:42.967Z"
   },
   {
    "duration": 1080,
    "start_time": "2022-01-30T22:34:37.739Z"
   },
   {
    "duration": 66,
    "start_time": "2022-01-30T22:34:38.821Z"
   },
   {
    "duration": 45,
    "start_time": "2022-01-30T22:34:38.889Z"
   },
   {
    "duration": 51,
    "start_time": "2022-01-30T22:34:38.935Z"
   },
   {
    "duration": 12,
    "start_time": "2022-01-30T22:34:38.988Z"
   },
   {
    "duration": 21,
    "start_time": "2022-01-30T22:34:39.002Z"
   },
   {
    "duration": 229,
    "start_time": "2022-01-30T22:34:39.061Z"
   },
   {
    "duration": 22,
    "start_time": "2022-01-30T22:34:39.292Z"
   },
   {
    "duration": 111,
    "start_time": "2022-01-30T22:34:39.316Z"
   },
   {
    "duration": 983,
    "start_time": "2022-01-30T22:34:39.429Z"
   },
   {
    "duration": 574,
    "start_time": "2022-01-30T22:34:40.413Z"
   },
   {
    "duration": 692,
    "start_time": "2022-01-30T22:34:40.989Z"
   },
   {
    "duration": 38,
    "start_time": "2022-01-30T22:34:41.683Z"
   },
   {
    "duration": 1070,
    "start_time": "2022-01-30T22:37:12.645Z"
   },
   {
    "duration": 62,
    "start_time": "2022-01-30T22:37:13.717Z"
   },
   {
    "duration": 47,
    "start_time": "2022-01-30T22:37:13.781Z"
   },
   {
    "duration": 47,
    "start_time": "2022-01-30T22:37:13.829Z"
   },
   {
    "duration": 12,
    "start_time": "2022-01-30T22:37:13.878Z"
   },
   {
    "duration": 19,
    "start_time": "2022-01-30T22:37:13.892Z"
   },
   {
    "duration": 236,
    "start_time": "2022-01-30T22:37:13.913Z"
   },
   {
    "duration": 29,
    "start_time": "2022-01-30T22:37:14.151Z"
   },
   {
    "duration": 107,
    "start_time": "2022-01-30T22:37:14.182Z"
   },
   {
    "duration": 998,
    "start_time": "2022-01-30T22:37:14.291Z"
   },
   {
    "duration": 596,
    "start_time": "2022-01-30T22:37:15.291Z"
   },
   {
    "duration": 692,
    "start_time": "2022-01-30T22:37:15.889Z"
   },
   {
    "duration": 19,
    "start_time": "2022-01-30T22:37:16.582Z"
   },
   {
    "duration": 24,
    "start_time": "2022-01-30T22:47:41.322Z"
   },
   {
    "duration": 1007,
    "start_time": "2022-01-30T22:47:55.512Z"
   },
   {
    "duration": 61,
    "start_time": "2022-01-30T22:47:56.521Z"
   },
   {
    "duration": 49,
    "start_time": "2022-01-30T22:47:56.584Z"
   },
   {
    "duration": 60,
    "start_time": "2022-01-30T22:47:56.636Z"
   },
   {
    "duration": 18,
    "start_time": "2022-01-30T22:47:56.698Z"
   },
   {
    "duration": 55,
    "start_time": "2022-01-30T22:47:56.718Z"
   },
   {
    "duration": 278,
    "start_time": "2022-01-30T22:47:56.775Z"
   },
   {
    "duration": 24,
    "start_time": "2022-01-30T22:47:57.056Z"
   },
   {
    "duration": 111,
    "start_time": "2022-01-30T22:47:57.082Z"
   },
   {
    "duration": 993,
    "start_time": "2022-01-30T22:47:57.194Z"
   },
   {
    "duration": 580,
    "start_time": "2022-01-30T22:47:58.188Z"
   },
   {
    "duration": 709,
    "start_time": "2022-01-30T22:47:58.769Z"
   },
   {
    "duration": 21,
    "start_time": "2022-01-30T22:47:59.480Z"
   },
   {
    "duration": 1015,
    "start_time": "2022-01-30T22:48:22.817Z"
   },
   {
    "duration": 59,
    "start_time": "2022-01-30T22:48:23.834Z"
   },
   {
    "duration": 46,
    "start_time": "2022-01-30T22:48:23.897Z"
   },
   {
    "duration": 33,
    "start_time": "2022-01-30T22:48:23.961Z"
   },
   {
    "duration": 16,
    "start_time": "2022-01-30T22:48:23.996Z"
   },
   {
    "duration": 57,
    "start_time": "2022-01-30T22:48:24.014Z"
   },
   {
    "duration": 234,
    "start_time": "2022-01-30T22:48:24.074Z"
   },
   {
    "duration": 23,
    "start_time": "2022-01-30T22:48:24.311Z"
   },
   {
    "duration": 110,
    "start_time": "2022-01-30T22:48:24.336Z"
   },
   {
    "duration": 955,
    "start_time": "2022-01-30T22:48:24.448Z"
   },
   {
    "duration": 562,
    "start_time": "2022-01-30T22:48:25.405Z"
   },
   {
    "duration": 693,
    "start_time": "2022-01-30T22:48:25.968Z"
   },
   {
    "duration": 36,
    "start_time": "2022-01-30T22:48:26.663Z"
   },
   {
    "duration": 23,
    "start_time": "2022-01-30T22:48:44.365Z"
   },
   {
    "duration": 1076,
    "start_time": "2022-01-30T22:48:54.648Z"
   },
   {
    "duration": 58,
    "start_time": "2022-01-30T22:48:55.726Z"
   },
   {
    "duration": 46,
    "start_time": "2022-01-30T22:48:55.786Z"
   },
   {
    "duration": 48,
    "start_time": "2022-01-30T22:48:55.834Z"
   },
   {
    "duration": 13,
    "start_time": "2022-01-30T22:48:55.884Z"
   },
   {
    "duration": 20,
    "start_time": "2022-01-30T22:48:55.899Z"
   },
   {
    "duration": 255,
    "start_time": "2022-01-30T22:48:55.921Z"
   },
   {
    "duration": 22,
    "start_time": "2022-01-30T22:48:56.179Z"
   },
   {
    "duration": 115,
    "start_time": "2022-01-30T22:48:56.203Z"
   },
   {
    "duration": 978,
    "start_time": "2022-01-30T22:48:56.320Z"
   },
   {
    "duration": 567,
    "start_time": "2022-01-30T22:48:57.299Z"
   },
   {
    "duration": 731,
    "start_time": "2022-01-30T22:48:57.867Z"
   },
   {
    "duration": 21,
    "start_time": "2022-01-30T22:48:58.600Z"
   },
   {
    "duration": 110,
    "start_time": "2022-01-30T23:22:22.024Z"
   },
   {
    "duration": 109,
    "start_time": "2022-01-30T23:22:40.379Z"
   },
   {
    "duration": 1008,
    "start_time": "2022-01-30T23:23:45.404Z"
   },
   {
    "duration": 58,
    "start_time": "2022-01-30T23:23:46.414Z"
   },
   {
    "duration": 43,
    "start_time": "2022-01-30T23:23:46.476Z"
   },
   {
    "duration": 50,
    "start_time": "2022-01-30T23:23:46.521Z"
   },
   {
    "duration": 13,
    "start_time": "2022-01-30T23:23:46.573Z"
   },
   {
    "duration": 25,
    "start_time": "2022-01-30T23:23:46.587Z"
   },
   {
    "duration": 250,
    "start_time": "2022-01-30T23:23:46.614Z"
   },
   {
    "duration": 23,
    "start_time": "2022-01-30T23:23:46.866Z"
   },
   {
    "duration": 118,
    "start_time": "2022-01-30T23:23:46.891Z"
   },
   {
    "duration": 952,
    "start_time": "2022-01-30T23:23:47.011Z"
   },
   {
    "duration": 568,
    "start_time": "2022-01-30T23:23:47.965Z"
   },
   {
    "duration": 701,
    "start_time": "2022-01-30T23:23:48.534Z"
   },
   {
    "duration": 27,
    "start_time": "2022-01-30T23:23:49.237Z"
   },
   {
    "duration": 134,
    "start_time": "2022-01-30T23:23:49.265Z"
   },
   {
    "duration": 686,
    "start_time": "2022-01-30T23:25:01.121Z"
   },
   {
    "duration": 888,
    "start_time": "2022-01-30T23:25:14.895Z"
   },
   {
    "duration": 639,
    "start_time": "2022-01-30T23:25:56.006Z"
   },
   {
    "duration": 641,
    "start_time": "2022-01-30T23:27:07.279Z"
   },
   {
    "duration": 115,
    "start_time": "2022-01-30T23:27:26.470Z"
   },
   {
    "duration": 135,
    "start_time": "2022-01-30T23:27:41.590Z"
   },
   {
    "duration": 1414,
    "start_time": "2022-01-31T18:15:49.309Z"
   },
   {
    "duration": 84,
    "start_time": "2022-01-31T18:15:50.726Z"
   },
   {
    "duration": 84,
    "start_time": "2022-01-31T18:15:50.813Z"
   },
   {
    "duration": 61,
    "start_time": "2022-01-31T18:15:50.900Z"
   },
   {
    "duration": 22,
    "start_time": "2022-01-31T18:15:50.964Z"
   },
   {
    "duration": 71,
    "start_time": "2022-01-31T18:15:50.988Z"
   },
   {
    "duration": 311,
    "start_time": "2022-01-31T18:15:51.062Z"
   },
   {
    "duration": 31,
    "start_time": "2022-01-31T18:15:51.376Z"
   },
   {
    "duration": 228,
    "start_time": "2022-01-31T18:15:51.410Z"
   },
   {
    "duration": 1486,
    "start_time": "2022-01-31T18:29:16.687Z"
   },
   {
    "duration": 1446,
    "start_time": "2022-01-31T18:29:33.357Z"
   },
   {
    "duration": 1459,
    "start_time": "2022-01-31T18:32:53.686Z"
   },
   {
    "duration": 115,
    "start_time": "2022-01-31T18:33:33.983Z"
   },
   {
    "duration": 1824,
    "start_time": "2022-01-31T18:33:45.407Z"
   },
   {
    "duration": 1660,
    "start_time": "2022-01-31T18:34:10.665Z"
   },
   {
    "duration": 1513,
    "start_time": "2022-01-31T18:34:28.675Z"
   },
   {
    "duration": 1581,
    "start_time": "2022-01-31T18:35:10.511Z"
   },
   {
    "duration": 360,
    "start_time": "2022-01-31T22:27:52.601Z"
   },
   {
    "duration": 1416,
    "start_time": "2022-01-31T22:27:56.641Z"
   },
   {
    "duration": 80,
    "start_time": "2022-01-31T22:27:58.060Z"
   },
   {
    "duration": 82,
    "start_time": "2022-01-31T22:27:58.143Z"
   },
   {
    "duration": 66,
    "start_time": "2022-01-31T22:27:58.228Z"
   },
   {
    "duration": 22,
    "start_time": "2022-01-31T22:27:58.296Z"
   },
   {
    "duration": 73,
    "start_time": "2022-01-31T22:27:58.320Z"
   },
   {
    "duration": 330,
    "start_time": "2022-01-31T22:27:58.395Z"
   },
   {
    "duration": 43,
    "start_time": "2022-01-31T22:27:58.728Z"
   },
   {
    "duration": 146,
    "start_time": "2022-01-31T22:27:58.774Z"
   },
   {
    "duration": 1514,
    "start_time": "2022-01-31T22:28:00.460Z"
   },
   {
    "duration": 912,
    "start_time": "2022-01-31T22:29:16.751Z"
   },
   {
    "duration": 1396,
    "start_time": "2022-01-31T22:30:14.678Z"
   },
   {
    "duration": 1122,
    "start_time": "2022-01-31T22:30:29.565Z"
   },
   {
    "duration": 505,
    "start_time": "2022-01-31T22:35:23.177Z"
   },
   {
    "duration": 71,
    "start_time": "2022-01-31T22:35:23.685Z"
   },
   {
    "duration": 68,
    "start_time": "2022-01-31T22:35:23.759Z"
   },
   {
    "duration": 65,
    "start_time": "2022-01-31T22:35:23.830Z"
   },
   {
    "duration": 21,
    "start_time": "2022-01-31T22:35:23.897Z"
   },
   {
    "duration": 64,
    "start_time": "2022-01-31T22:35:23.920Z"
   },
   {
    "duration": 275,
    "start_time": "2022-01-31T22:35:23.986Z"
   },
   {
    "duration": 31,
    "start_time": "2022-01-31T22:35:24.270Z"
   },
   {
    "duration": 170,
    "start_time": "2022-01-31T22:35:24.304Z"
   },
   {
    "duration": 1569,
    "start_time": "2022-01-31T22:35:24.477Z"
   },
   {
    "duration": 928,
    "start_time": "2022-01-31T22:35:26.048Z"
   },
   {
    "duration": 1115,
    "start_time": "2022-01-31T22:35:26.978Z"
   },
   {
    "duration": 40,
    "start_time": "2022-01-31T22:36:48.730Z"
   },
   {
    "duration": 305,
    "start_time": "2022-01-31T22:38:52.112Z"
   },
   {
    "duration": 291,
    "start_time": "2022-01-31T22:38:57.335Z"
   },
   {
    "duration": 30,
    "start_time": "2022-01-31T22:41:44.233Z"
   },
   {
    "duration": 310,
    "start_time": "2022-01-31T22:42:09.796Z"
   },
   {
    "duration": 362,
    "start_time": "2022-01-31T22:43:36.923Z"
   },
   {
    "duration": 31,
    "start_time": "2022-01-31T22:43:45.124Z"
   },
   {
    "duration": 39,
    "start_time": "2022-01-31T22:43:58.972Z"
   },
   {
    "duration": 40,
    "start_time": "2022-01-31T22:44:42.492Z"
   },
   {
    "duration": 334,
    "start_time": "2022-01-31T22:45:44.996Z"
   },
   {
    "duration": 42,
    "start_time": "2022-01-31T22:45:51.347Z"
   },
   {
    "duration": 45,
    "start_time": "2022-01-31T22:47:04.857Z"
   },
   {
    "duration": 45,
    "start_time": "2022-01-31T22:47:32.690Z"
   },
   {
    "duration": 109,
    "start_time": "2022-01-31T22:47:48.713Z"
   },
   {
    "duration": 41,
    "start_time": "2022-01-31T22:47:51.801Z"
   },
   {
    "duration": 47,
    "start_time": "2022-01-31T22:48:00.458Z"
   },
   {
    "duration": 45,
    "start_time": "2022-01-31T22:48:02.936Z"
   },
   {
    "duration": 45,
    "start_time": "2022-01-31T22:48:35.888Z"
   },
   {
    "duration": 44,
    "start_time": "2022-01-31T22:48:50.536Z"
   },
   {
    "duration": 44,
    "start_time": "2022-01-31T22:48:58.832Z"
   },
   {
    "duration": 49,
    "start_time": "2022-01-31T22:49:27.704Z"
   },
   {
    "duration": 1676,
    "start_time": "2022-01-31T22:50:42.247Z"
   },
   {
    "duration": 1612,
    "start_time": "2022-01-31T22:50:50.886Z"
   },
   {
    "duration": 7899,
    "start_time": "2022-01-31T22:52:37.166Z"
   },
   {
    "duration": 7452,
    "start_time": "2022-01-31T22:55:10.438Z"
   },
   {
    "duration": 185,
    "start_time": "2022-01-31T22:55:44.259Z"
   },
   {
    "duration": 7899,
    "start_time": "2022-01-31T22:56:09.876Z"
   },
   {
    "duration": 7497,
    "start_time": "2022-01-31T22:56:30.644Z"
   },
   {
    "duration": 7476,
    "start_time": "2022-01-31T22:56:42.062Z"
   },
   {
    "duration": 182,
    "start_time": "2022-01-31T22:57:14.851Z"
   },
   {
    "duration": 44,
    "start_time": "2022-01-31T22:57:22.978Z"
   },
   {
    "duration": 46,
    "start_time": "2022-01-31T22:57:33.114Z"
   },
   {
    "duration": 1377,
    "start_time": "2022-01-31T22:57:48.673Z"
   },
   {
    "duration": 80,
    "start_time": "2022-01-31T22:57:50.053Z"
   },
   {
    "duration": 91,
    "start_time": "2022-01-31T22:57:50.136Z"
   },
   {
    "duration": 70,
    "start_time": "2022-01-31T22:57:50.230Z"
   },
   {
    "duration": 23,
    "start_time": "2022-01-31T22:57:50.303Z"
   },
   {
    "duration": 73,
    "start_time": "2022-01-31T22:57:50.329Z"
   },
   {
    "duration": 349,
    "start_time": "2022-01-31T22:57:50.405Z"
   },
   {
    "duration": 39,
    "start_time": "2022-01-31T22:57:50.757Z"
   },
   {
    "duration": 152,
    "start_time": "2022-01-31T22:57:50.798Z"
   },
   {
    "duration": 1559,
    "start_time": "2022-01-31T22:57:50.952Z"
   },
   {
    "duration": 878,
    "start_time": "2022-01-31T22:57:52.513Z"
   },
   {
    "duration": 1043,
    "start_time": "2022-01-31T22:57:53.394Z"
   },
   {
    "duration": 64,
    "start_time": "2022-01-31T22:57:54.440Z"
   },
   {
    "duration": 4,
    "start_time": "2022-01-31T22:57:54.506Z"
   },
   {
    "duration": 52,
    "start_time": "2022-01-31T22:58:09.258Z"
   },
   {
    "duration": 53,
    "start_time": "2022-01-31T22:58:24.610Z"
   },
   {
    "duration": 174,
    "start_time": "2022-01-31T22:58:42.649Z"
   },
   {
    "duration": 54,
    "start_time": "2022-01-31T22:58:44.472Z"
   },
   {
    "duration": 7565,
    "start_time": "2022-01-31T22:59:04.101Z"
   },
   {
    "duration": 7573,
    "start_time": "2022-01-31T22:59:19.610Z"
   },
   {
    "duration": 7755,
    "start_time": "2022-01-31T22:59:35.442Z"
   },
   {
    "duration": 47,
    "start_time": "2022-01-31T22:59:47.554Z"
   },
   {
    "duration": 46,
    "start_time": "2022-01-31T23:00:14.793Z"
   },
   {
    "duration": 43,
    "start_time": "2022-01-31T23:00:21.713Z"
   },
   {
    "duration": 42,
    "start_time": "2022-01-31T23:00:26.329Z"
   },
   {
    "duration": 43,
    "start_time": "2022-01-31T23:00:35.953Z"
   },
   {
    "duration": 335,
    "start_time": "2022-01-31T23:01:05.152Z"
   },
   {
    "duration": 340,
    "start_time": "2022-01-31T23:01:13.159Z"
   },
   {
    "duration": 45,
    "start_time": "2022-01-31T23:01:27.824Z"
   },
   {
    "duration": 39,
    "start_time": "2022-01-31T23:02:05.407Z"
   },
   {
    "duration": 45,
    "start_time": "2022-01-31T23:02:23.263Z"
   },
   {
    "duration": 45,
    "start_time": "2022-01-31T23:02:26.768Z"
   },
   {
    "duration": 47,
    "start_time": "2022-01-31T23:02:29.847Z"
   },
   {
    "duration": 51,
    "start_time": "2022-01-31T23:02:47.286Z"
   },
   {
    "duration": 7620,
    "start_time": "2022-01-31T23:04:09.183Z"
   },
   {
    "duration": 55,
    "start_time": "2022-01-31T23:05:21.927Z"
   },
   {
    "duration": 58,
    "start_time": "2022-01-31T23:05:34.510Z"
   },
   {
    "duration": 1385,
    "start_time": "2022-01-31T23:05:46.216Z"
   },
   {
    "duration": 82,
    "start_time": "2022-01-31T23:05:47.604Z"
   },
   {
    "duration": 80,
    "start_time": "2022-01-31T23:05:47.689Z"
   },
   {
    "duration": 41,
    "start_time": "2022-01-31T23:05:47.772Z"
   },
   {
    "duration": 21,
    "start_time": "2022-01-31T23:05:47.815Z"
   },
   {
    "duration": 33,
    "start_time": "2022-01-31T23:05:47.870Z"
   },
   {
    "duration": 322,
    "start_time": "2022-01-31T23:05:47.906Z"
   },
   {
    "duration": 38,
    "start_time": "2022-01-31T23:05:48.232Z"
   },
   {
    "duration": 150,
    "start_time": "2022-01-31T23:05:48.273Z"
   },
   {
    "duration": 1543,
    "start_time": "2022-01-31T23:05:48.426Z"
   },
   {
    "duration": 898,
    "start_time": "2022-01-31T23:05:49.971Z"
   },
   {
    "duration": 1106,
    "start_time": "2022-01-31T23:05:50.872Z"
   },
   {
    "duration": 56,
    "start_time": "2022-01-31T23:05:51.981Z"
   },
   {
    "duration": 3,
    "start_time": "2022-01-31T23:05:52.040Z"
   },
   {
    "duration": 66,
    "start_time": "2022-01-31T23:06:37.845Z"
   },
   {
    "duration": 62,
    "start_time": "2022-01-31T23:07:02.117Z"
   },
   {
    "duration": 59,
    "start_time": "2022-01-31T23:07:06.392Z"
   },
   {
    "duration": 57,
    "start_time": "2022-01-31T23:07:51.372Z"
   },
   {
    "duration": 59,
    "start_time": "2022-01-31T23:08:03.149Z"
   },
   {
    "duration": 69,
    "start_time": "2022-01-31T23:09:18.467Z"
   },
   {
    "duration": 62,
    "start_time": "2022-01-31T23:10:51.939Z"
   },
   {
    "duration": 7683,
    "start_time": "2022-01-31T23:12:21.330Z"
   },
   {
    "duration": 377,
    "start_time": "2022-01-31T23:13:15.187Z"
   },
   {
    "duration": 60,
    "start_time": "2022-01-31T23:13:21.400Z"
   },
   {
    "duration": 60,
    "start_time": "2022-01-31T23:13:35.954Z"
   },
   {
    "duration": 46,
    "start_time": "2022-01-31T23:16:31.726Z"
   },
   {
    "duration": 49,
    "start_time": "2022-01-31T23:16:57.378Z"
   },
   {
    "duration": 51,
    "start_time": "2022-01-31T23:17:36.775Z"
   },
   {
    "duration": 4097,
    "start_time": "2022-01-31T23:19:31.837Z"
   },
   {
    "duration": 69,
    "start_time": "2022-01-31T23:19:44.378Z"
   },
   {
    "duration": 7304,
    "start_time": "2022-01-31T23:22:23.022Z"
   },
   {
    "duration": 167,
    "start_time": "2022-01-31T23:22:40.265Z"
   },
   {
    "duration": 7863,
    "start_time": "2022-01-31T23:22:49.529Z"
   },
   {
    "duration": 61,
    "start_time": "2022-01-31T23:23:14.614Z"
   },
   {
    "duration": 54,
    "start_time": "2022-01-31T23:23:39.845Z"
   },
   {
    "duration": 54,
    "start_time": "2022-01-31T23:23:45.581Z"
   },
   {
    "duration": 53,
    "start_time": "2022-01-31T23:23:50.018Z"
   },
   {
    "duration": 56,
    "start_time": "2022-01-31T23:23:56.019Z"
   },
   {
    "duration": 87,
    "start_time": "2022-01-31T23:24:30.708Z"
   },
   {
    "duration": 83,
    "start_time": "2022-01-31T23:24:49.900Z"
   },
   {
    "duration": 84,
    "start_time": "2022-01-31T23:25:01.940Z"
   },
   {
    "duration": 51,
    "start_time": "2022-01-31T23:28:50.552Z"
   },
   {
    "duration": 40,
    "start_time": "2022-01-31T23:29:02.759Z"
   },
   {
    "duration": 416,
    "start_time": "2022-01-31T23:30:22.254Z"
   },
   {
    "duration": 7977,
    "start_time": "2022-01-31T23:33:24.733Z"
   },
   {
    "duration": 7427,
    "start_time": "2022-01-31T23:33:48.686Z"
   },
   {
    "duration": 35,
    "start_time": "2022-01-31T23:34:03.080Z"
   },
   {
    "duration": 37,
    "start_time": "2022-01-31T23:34:29.867Z"
   },
   {
    "duration": 43,
    "start_time": "2022-01-31T23:35:21.268Z"
   },
   {
    "duration": 49,
    "start_time": "2022-01-31T23:35:41.786Z"
   },
   {
    "duration": 41,
    "start_time": "2022-01-31T23:36:39.051Z"
   },
   {
    "duration": 42,
    "start_time": "2022-01-31T23:37:28.578Z"
   },
   {
    "duration": 48,
    "start_time": "2022-01-31T23:37:41.105Z"
   },
   {
    "duration": 51,
    "start_time": "2022-01-31T23:39:25.881Z"
   },
   {
    "duration": 52,
    "start_time": "2022-01-31T23:39:57.601Z"
   },
   {
    "duration": 35,
    "start_time": "2022-01-31T23:41:31.426Z"
   },
   {
    "duration": 337,
    "start_time": "2022-01-31T23:44:47.734Z"
   },
   {
    "duration": 32,
    "start_time": "2022-01-31T23:45:07.223Z"
   },
   {
    "duration": 40,
    "start_time": "2022-01-31T23:45:16.005Z"
   },
   {
    "duration": 52,
    "start_time": "2022-01-31T23:46:07.373Z"
   },
   {
    "duration": 65,
    "start_time": "2022-01-31T23:47:28.884Z"
   },
   {
    "duration": 55,
    "start_time": "2022-01-31T23:48:48.264Z"
   },
   {
    "duration": 46,
    "start_time": "2022-01-31T23:48:57.491Z"
   },
   {
    "duration": 69,
    "start_time": "2022-01-31T23:49:50.234Z"
   },
   {
    "duration": 411,
    "start_time": "2022-01-31T23:51:45.339Z"
   },
   {
    "duration": 519,
    "start_time": "2022-01-31T23:51:52.379Z"
   },
   {
    "duration": 74,
    "start_time": "2022-01-31T23:51:52.900Z"
   },
   {
    "duration": 62,
    "start_time": "2022-01-31T23:51:52.977Z"
   },
   {
    "duration": 63,
    "start_time": "2022-01-31T23:51:53.042Z"
   },
   {
    "duration": 20,
    "start_time": "2022-01-31T23:51:53.108Z"
   },
   {
    "duration": 64,
    "start_time": "2022-01-31T23:51:53.131Z"
   },
   {
    "duration": 279,
    "start_time": "2022-01-31T23:51:53.197Z"
   },
   {
    "duration": 29,
    "start_time": "2022-01-31T23:51:53.479Z"
   },
   {
    "duration": 158,
    "start_time": "2022-01-31T23:51:53.511Z"
   },
   {
    "duration": 1559,
    "start_time": "2022-01-31T23:51:53.671Z"
   },
   {
    "duration": 940,
    "start_time": "2022-01-31T23:51:55.232Z"
   },
   {
    "duration": 1078,
    "start_time": "2022-01-31T23:51:56.174Z"
   },
   {
    "duration": 339,
    "start_time": "2022-01-31T23:51:57.311Z"
   },
   {
    "duration": 64,
    "start_time": "2022-01-31T23:52:14.209Z"
   },
   {
    "duration": 95,
    "start_time": "2022-01-31T23:53:04.151Z"
   },
   {
    "duration": 56,
    "start_time": "2022-01-31T23:53:08.695Z"
   },
   {
    "duration": 361,
    "start_time": "2022-02-01T00:13:31.422Z"
   },
   {
    "duration": 401,
    "start_time": "2022-02-01T00:19:34.978Z"
   },
   {
    "duration": 76,
    "start_time": "2022-02-01T00:20:45.268Z"
   },
   {
    "duration": 3893,
    "start_time": "2022-02-01T00:21:36.401Z"
   },
   {
    "duration": 1238,
    "start_time": "2022-02-01T10:54:29.782Z"
   },
   {
    "duration": 71,
    "start_time": "2022-02-01T10:54:31.022Z"
   },
   {
    "duration": 73,
    "start_time": "2022-02-01T10:54:31.096Z"
   },
   {
    "duration": 51,
    "start_time": "2022-02-01T10:54:31.171Z"
   },
   {
    "duration": 20,
    "start_time": "2022-02-01T10:54:31.225Z"
   },
   {
    "duration": 25,
    "start_time": "2022-02-01T10:54:31.247Z"
   },
   {
    "duration": 255,
    "start_time": "2022-02-01T10:54:31.274Z"
   },
   {
    "duration": 23,
    "start_time": "2022-02-01T10:54:31.533Z"
   },
   {
    "duration": 125,
    "start_time": "2022-02-01T10:54:31.558Z"
   },
   {
    "duration": 1064,
    "start_time": "2022-02-01T10:54:31.685Z"
   },
   {
    "duration": 630,
    "start_time": "2022-02-01T10:54:32.751Z"
   },
   {
    "duration": 773,
    "start_time": "2022-02-01T10:54:33.383Z"
   },
   {
    "duration": 3186,
    "start_time": "2022-02-01T10:54:37.554Z"
   },
   {
    "duration": 54,
    "start_time": "2022-02-01T10:54:58.116Z"
   },
   {
    "duration": 48,
    "start_time": "2022-02-01T10:56:11.338Z"
   },
   {
    "duration": 262,
    "start_time": "2022-02-01T10:56:24.811Z"
   },
   {
    "duration": 252,
    "start_time": "2022-02-01T10:56:42.120Z"
   },
   {
    "duration": 53,
    "start_time": "2022-02-01T10:56:51.297Z"
   },
   {
    "duration": 210,
    "start_time": "2022-02-01T10:58:17.636Z"
   },
   {
    "duration": 38,
    "start_time": "2022-02-01T10:58:42.381Z"
   },
   {
    "duration": 5102,
    "start_time": "2022-02-01T10:59:38.254Z"
   },
   {
    "duration": 48,
    "start_time": "2022-02-01T11:02:10.590Z"
   },
   {
    "duration": 237,
    "start_time": "2022-02-01T11:02:37.028Z"
   },
   {
    "duration": 66,
    "start_time": "2022-02-01T11:02:47.119Z"
   },
   {
    "duration": 35,
    "start_time": "2022-02-01T11:04:11.490Z"
   },
   {
    "duration": 40,
    "start_time": "2022-02-01T11:04:31.845Z"
   },
   {
    "duration": 451,
    "start_time": "2022-02-01T11:41:17.816Z"
   },
   {
    "duration": 59,
    "start_time": "2022-02-01T11:41:18.269Z"
   },
   {
    "duration": 68,
    "start_time": "2022-02-01T11:41:18.331Z"
   },
   {
    "duration": 55,
    "start_time": "2022-02-01T11:41:18.401Z"
   },
   {
    "duration": 15,
    "start_time": "2022-02-01T11:41:18.458Z"
   },
   {
    "duration": 52,
    "start_time": "2022-02-01T11:41:18.474Z"
   },
   {
    "duration": 225,
    "start_time": "2022-02-01T11:41:18.528Z"
   },
   {
    "duration": 27,
    "start_time": "2022-02-01T11:41:18.755Z"
   },
   {
    "duration": 122,
    "start_time": "2022-02-01T11:41:18.784Z"
   },
   {
    "duration": 1233,
    "start_time": "2022-02-01T11:41:18.908Z"
   },
   {
    "duration": 596,
    "start_time": "2022-02-01T11:41:20.143Z"
   },
   {
    "duration": 742,
    "start_time": "2022-02-01T11:41:20.741Z"
   },
   {
    "duration": 37,
    "start_time": "2022-02-01T11:42:36.257Z"
   },
   {
    "duration": 841,
    "start_time": "2022-02-01T11:43:44.333Z"
   },
   {
    "duration": 88,
    "start_time": "2022-02-01T11:44:09.124Z"
   },
   {
    "duration": 824,
    "start_time": "2022-02-01T11:44:20.976Z"
   },
   {
    "duration": 722,
    "start_time": "2022-02-01T11:44:32.554Z"
   },
   {
    "duration": 732,
    "start_time": "2022-02-01T11:44:41.841Z"
   },
   {
    "duration": 34,
    "start_time": "2022-02-01T11:45:07.083Z"
   },
   {
    "duration": 44,
    "start_time": "2022-02-01T11:45:26.035Z"
   },
   {
    "duration": 36,
    "start_time": "2022-02-01T11:46:00.650Z"
   },
   {
    "duration": 36,
    "start_time": "2022-02-01T11:46:12.108Z"
   },
   {
    "duration": 729,
    "start_time": "2022-02-01T11:46:29.233Z"
   },
   {
    "duration": 37,
    "start_time": "2022-02-01T11:46:41.265Z"
   },
   {
    "duration": 38,
    "start_time": "2022-02-01T11:47:26.435Z"
   },
   {
    "duration": 1105,
    "start_time": "2022-02-01T11:47:33.914Z"
   },
   {
    "duration": 73,
    "start_time": "2022-02-01T11:47:35.021Z"
   },
   {
    "duration": 81,
    "start_time": "2022-02-01T11:47:35.096Z"
   },
   {
    "duration": 48,
    "start_time": "2022-02-01T11:47:35.179Z"
   },
   {
    "duration": 14,
    "start_time": "2022-02-01T11:47:35.229Z"
   },
   {
    "duration": 45,
    "start_time": "2022-02-01T11:47:35.244Z"
   },
   {
    "duration": 260,
    "start_time": "2022-02-01T11:47:35.292Z"
   },
   {
    "duration": 23,
    "start_time": "2022-02-01T11:47:35.555Z"
   },
   {
    "duration": 118,
    "start_time": "2022-02-01T11:47:35.580Z"
   },
   {
    "duration": 956,
    "start_time": "2022-02-01T11:47:35.699Z"
   },
   {
    "duration": 570,
    "start_time": "2022-02-01T11:47:36.656Z"
   },
   {
    "duration": 663,
    "start_time": "2022-02-01T11:47:37.228Z"
   },
   {
    "duration": 48,
    "start_time": "2022-02-01T11:47:37.893Z"
   },
   {
    "duration": 2,
    "start_time": "2022-02-01T11:47:37.943Z"
   },
   {
    "duration": 40,
    "start_time": "2022-02-01T11:48:21.029Z"
   },
   {
    "duration": 40,
    "start_time": "2022-02-01T11:48:33.197Z"
   },
   {
    "duration": 29,
    "start_time": "2022-02-01T11:48:47.629Z"
   },
   {
    "duration": 30,
    "start_time": "2022-02-01T11:49:14.583Z"
   },
   {
    "duration": 30,
    "start_time": "2022-02-01T11:49:24.541Z"
   },
   {
    "duration": 5213,
    "start_time": "2022-02-01T11:50:22.165Z"
   },
   {
    "duration": 36,
    "start_time": "2022-02-01T11:50:45.140Z"
   },
   {
    "duration": 31,
    "start_time": "2022-02-01T11:50:55.756Z"
   },
   {
    "duration": 34,
    "start_time": "2022-02-01T11:51:09.602Z"
   },
   {
    "duration": 270,
    "start_time": "2022-02-01T11:51:19.995Z"
   },
   {
    "duration": 31,
    "start_time": "2022-02-01T11:51:24.362Z"
   },
   {
    "duration": 36,
    "start_time": "2022-02-01T11:51:30.042Z"
   },
   {
    "duration": 33,
    "start_time": "2022-02-01T11:52:07.923Z"
   },
   {
    "duration": 48,
    "start_time": "2022-02-01T11:52:56.235Z"
   },
   {
    "duration": 6054,
    "start_time": "2022-02-01T11:54:46.953Z"
   },
   {
    "duration": 5995,
    "start_time": "2022-02-01T11:55:57.289Z"
   },
   {
    "duration": 27,
    "start_time": "2022-02-01T11:56:50.856Z"
   },
   {
    "duration": 28,
    "start_time": "2022-02-01T11:56:58.975Z"
   },
   {
    "duration": 277,
    "start_time": "2022-02-01T11:57:28.999Z"
   },
   {
    "duration": 303,
    "start_time": "2022-02-01T11:57:37.678Z"
   },
   {
    "duration": 5464,
    "start_time": "2022-02-01T11:57:44.006Z"
   },
   {
    "duration": 323,
    "start_time": "2022-02-01T11:58:02.476Z"
   },
   {
    "duration": 29,
    "start_time": "2022-02-01T11:58:03.996Z"
   },
   {
    "duration": 30,
    "start_time": "2022-02-01T12:01:01.188Z"
   },
   {
    "duration": 33,
    "start_time": "2022-02-01T12:01:25.133Z"
   },
   {
    "duration": 32,
    "start_time": "2022-02-01T12:01:44.900Z"
   },
   {
    "duration": 33,
    "start_time": "2022-02-01T12:02:33.428Z"
   },
   {
    "duration": 31,
    "start_time": "2022-02-01T12:02:47.099Z"
   },
   {
    "duration": 33,
    "start_time": "2022-02-01T12:02:55.379Z"
   },
   {
    "duration": 38,
    "start_time": "2022-02-01T12:02:59.731Z"
   },
   {
    "duration": 28,
    "start_time": "2022-02-01T12:03:32.763Z"
   },
   {
    "duration": 395,
    "start_time": "2022-02-01T12:03:56.465Z"
   },
   {
    "duration": 268,
    "start_time": "2022-02-01T12:04:09.498Z"
   },
   {
    "duration": 229,
    "start_time": "2022-02-01T12:04:16.902Z"
   },
   {
    "duration": 29,
    "start_time": "2022-02-01T12:04:30.843Z"
   },
   {
    "duration": 28,
    "start_time": "2022-02-01T12:04:38.410Z"
   },
   {
    "duration": 27,
    "start_time": "2022-02-01T12:04:58.234Z"
   },
   {
    "duration": 215,
    "start_time": "2022-02-01T12:05:09.594Z"
   },
   {
    "duration": 29,
    "start_time": "2022-02-01T12:05:15.570Z"
   },
   {
    "duration": 27,
    "start_time": "2022-02-01T12:05:39.034Z"
   },
   {
    "duration": 29,
    "start_time": "2022-02-01T12:05:53.138Z"
   },
   {
    "duration": 29,
    "start_time": "2022-02-01T12:06:03.577Z"
   },
   {
    "duration": 29,
    "start_time": "2022-02-01T12:06:14.191Z"
   },
   {
    "duration": 24,
    "start_time": "2022-02-01T12:07:18.810Z"
   },
   {
    "duration": 28,
    "start_time": "2022-02-01T12:07:23.489Z"
   },
   {
    "duration": 32,
    "start_time": "2022-02-01T12:07:40.665Z"
   },
   {
    "duration": 28,
    "start_time": "2022-02-01T12:07:52.305Z"
   },
   {
    "duration": 27,
    "start_time": "2022-02-01T12:07:58.816Z"
   },
   {
    "duration": 29,
    "start_time": "2022-02-01T12:08:53.703Z"
   },
   {
    "duration": 29,
    "start_time": "2022-02-01T12:09:35.360Z"
   },
   {
    "duration": 24,
    "start_time": "2022-02-01T12:10:51.423Z"
   },
   {
    "duration": 30,
    "start_time": "2022-02-01T12:11:10.103Z"
   },
   {
    "duration": 27,
    "start_time": "2022-02-01T12:11:42.246Z"
   },
   {
    "duration": 3,
    "start_time": "2022-02-01T12:11:42.460Z"
   },
   {
    "duration": 26,
    "start_time": "2022-02-01T12:11:44.453Z"
   },
   {
    "duration": 27,
    "start_time": "2022-02-01T12:11:57.561Z"
   },
   {
    "duration": 26,
    "start_time": "2022-02-01T12:13:09.654Z"
   },
   {
    "duration": 27,
    "start_time": "2022-02-01T12:13:13.637Z"
   },
   {
    "duration": 29,
    "start_time": "2022-02-01T12:13:24.062Z"
   },
   {
    "duration": 28,
    "start_time": "2022-02-01T12:13:50.485Z"
   },
   {
    "duration": 44,
    "start_time": "2022-02-01T12:15:45.420Z"
   },
   {
    "duration": 27,
    "start_time": "2022-02-01T12:16:36.335Z"
   },
   {
    "duration": 31,
    "start_time": "2022-02-01T12:17:09.322Z"
   },
   {
    "duration": 232,
    "start_time": "2022-02-01T12:18:06.844Z"
   },
   {
    "duration": 79,
    "start_time": "2022-02-01T12:18:16.401Z"
   },
   {
    "duration": 29,
    "start_time": "2022-02-01T12:18:21.297Z"
   },
   {
    "duration": 236,
    "start_time": "2022-02-01T12:20:22.921Z"
   },
   {
    "duration": 56,
    "start_time": "2022-02-01T12:20:42.022Z"
   },
   {
    "duration": 75,
    "start_time": "2022-02-01T12:21:00.135Z"
   },
   {
    "duration": 151,
    "start_time": "2022-02-01T12:21:30.288Z"
   },
   {
    "duration": 57,
    "start_time": "2022-02-01T12:21:38.279Z"
   },
   {
    "duration": 88,
    "start_time": "2022-02-01T12:22:16.984Z"
   },
   {
    "duration": 131,
    "start_time": "2022-02-01T12:22:33.415Z"
   },
   {
    "duration": 33,
    "start_time": "2022-02-01T12:23:43.155Z"
   },
   {
    "duration": 361,
    "start_time": "2022-02-01T12:24:19.928Z"
   },
   {
    "duration": 52,
    "start_time": "2022-02-01T12:24:26.479Z"
   },
   {
    "duration": 47,
    "start_time": "2022-02-01T12:24:38.095Z"
   },
   {
    "duration": 45,
    "start_time": "2022-02-01T12:24:40.556Z"
   },
   {
    "duration": 109,
    "start_time": "2022-02-01T12:25:11.158Z"
   },
   {
    "duration": 102,
    "start_time": "2022-02-01T12:25:23.434Z"
   },
   {
    "duration": 82,
    "start_time": "2022-02-01T12:25:59.527Z"
   },
   {
    "duration": 63,
    "start_time": "2022-02-01T12:26:02.668Z"
   },
   {
    "duration": 121,
    "start_time": "2022-02-01T12:26:32.405Z"
   },
   {
    "duration": 96,
    "start_time": "2022-02-01T12:27:04.927Z"
   },
   {
    "duration": 29,
    "start_time": "2022-02-01T12:28:37.042Z"
   },
   {
    "duration": 39,
    "start_time": "2022-02-01T12:29:27.133Z"
   },
   {
    "duration": 5406,
    "start_time": "2022-02-01T12:36:32.495Z"
   },
   {
    "duration": 530,
    "start_time": "2022-02-01T12:36:49.417Z"
   },
   {
    "duration": 70,
    "start_time": "2022-02-01T12:37:10.711Z"
   },
   {
    "duration": 65,
    "start_time": "2022-02-01T12:37:13.270Z"
   },
   {
    "duration": 44,
    "start_time": "2022-02-01T12:37:16.278Z"
   },
   {
    "duration": 44,
    "start_time": "2022-02-01T12:38:41.036Z"
   },
   {
    "duration": 178,
    "start_time": "2022-02-01T12:41:22.413Z"
   },
   {
    "duration": 42,
    "start_time": "2022-02-01T12:41:26.843Z"
   },
   {
    "duration": 640,
    "start_time": "2022-02-01T12:42:44.032Z"
   },
   {
    "duration": 403,
    "start_time": "2022-02-01T12:43:31.833Z"
   },
   {
    "duration": 253,
    "start_time": "2022-02-01T12:43:48.378Z"
   },
   {
    "duration": 233,
    "start_time": "2022-02-01T12:44:16.082Z"
   },
   {
    "duration": 430,
    "start_time": "2022-02-01T12:44:20.203Z"
   },
   {
    "duration": 60,
    "start_time": "2022-02-01T12:44:20.635Z"
   },
   {
    "duration": 62,
    "start_time": "2022-02-01T12:44:20.698Z"
   },
   {
    "duration": 61,
    "start_time": "2022-02-01T12:44:20.762Z"
   },
   {
    "duration": 15,
    "start_time": "2022-02-01T12:44:20.824Z"
   },
   {
    "duration": 32,
    "start_time": "2022-02-01T12:44:20.840Z"
   },
   {
    "duration": 219,
    "start_time": "2022-02-01T12:44:20.874Z"
   },
   {
    "duration": 52,
    "start_time": "2022-02-01T12:44:21.096Z"
   },
   {
    "duration": 158,
    "start_time": "2022-02-01T12:44:21.150Z"
   },
   {
    "duration": 1558,
    "start_time": "2022-02-01T12:44:21.311Z"
   },
   {
    "duration": 917,
    "start_time": "2022-02-01T12:44:22.871Z"
   },
   {
    "duration": 1142,
    "start_time": "2022-02-01T12:44:23.790Z"
   },
   {
    "duration": 64,
    "start_time": "2022-02-01T12:44:25.715Z"
   },
   {
    "duration": 1224,
    "start_time": "2022-02-01T12:44:37.795Z"
   },
   {
    "duration": 673,
    "start_time": "2022-02-01T12:44:53.998Z"
   },
   {
    "duration": 606,
    "start_time": "2022-02-01T12:46:40.501Z"
   },
   {
    "duration": 222,
    "start_time": "2022-02-01T12:47:31.936Z"
   },
   {
    "duration": 232,
    "start_time": "2022-02-01T12:47:37.907Z"
   },
   {
    "duration": 1151,
    "start_time": "2022-02-01T12:47:48.467Z"
   },
   {
    "duration": 62,
    "start_time": "2022-02-01T12:47:49.620Z"
   },
   {
    "duration": 68,
    "start_time": "2022-02-01T12:47:49.684Z"
   },
   {
    "duration": 32,
    "start_time": "2022-02-01T12:47:49.753Z"
   },
   {
    "duration": 37,
    "start_time": "2022-02-01T12:47:49.787Z"
   },
   {
    "duration": 23,
    "start_time": "2022-02-01T12:47:49.826Z"
   },
   {
    "duration": 231,
    "start_time": "2022-02-01T12:47:49.850Z"
   },
   {
    "duration": 40,
    "start_time": "2022-02-01T12:47:50.084Z"
   },
   {
    "duration": 108,
    "start_time": "2022-02-01T12:47:50.126Z"
   },
   {
    "duration": 994,
    "start_time": "2022-02-01T12:47:50.236Z"
   },
   {
    "duration": 590,
    "start_time": "2022-02-01T12:47:51.232Z"
   },
   {
    "duration": 695,
    "start_time": "2022-02-01T12:47:51.824Z"
   },
   {
    "duration": 286,
    "start_time": "2022-02-01T12:47:52.521Z"
   },
   {
    "duration": 265,
    "start_time": "2022-02-01T12:47:52.544Z"
   },
   {
    "duration": 262,
    "start_time": "2022-02-01T12:47:52.548Z"
   },
   {
    "duration": 43,
    "start_time": "2022-02-01T12:49:11.432Z"
   },
   {
    "duration": 243,
    "start_time": "2022-02-01T12:49:24.114Z"
   },
   {
    "duration": 13,
    "start_time": "2022-02-01T12:49:31.592Z"
   },
   {
    "duration": 11,
    "start_time": "2022-02-01T12:49:39.361Z"
   },
   {
    "duration": 12,
    "start_time": "2022-02-01T12:49:45.273Z"
   },
   {
    "duration": 26,
    "start_time": "2022-02-01T12:53:49.798Z"
   },
   {
    "duration": 103,
    "start_time": "2022-02-01T12:54:31.677Z"
   },
   {
    "duration": 28,
    "start_time": "2022-02-01T12:54:35.102Z"
   },
   {
    "duration": 13,
    "start_time": "2022-02-01T12:58:29.087Z"
   },
   {
    "duration": 39,
    "start_time": "2022-02-01T12:59:05.660Z"
   },
   {
    "duration": 45,
    "start_time": "2022-02-01T12:59:11.036Z"
   },
   {
    "duration": 39,
    "start_time": "2022-02-01T12:59:40.877Z"
   },
   {
    "duration": 243,
    "start_time": "2022-02-01T12:59:54.172Z"
   },
   {
    "duration": 44,
    "start_time": "2022-02-01T13:00:15.995Z"
   },
   {
    "duration": 40,
    "start_time": "2022-02-01T13:00:22.595Z"
   },
   {
    "duration": 41,
    "start_time": "2022-02-01T13:00:34.724Z"
   },
   {
    "duration": 80,
    "start_time": "2022-02-01T13:00:49.987Z"
   },
   {
    "duration": 44,
    "start_time": "2022-02-01T13:00:55.281Z"
   },
   {
    "duration": 40,
    "start_time": "2022-02-01T13:01:05.818Z"
   },
   {
    "duration": 43,
    "start_time": "2022-02-01T13:01:31.210Z"
   },
   {
    "duration": 42,
    "start_time": "2022-02-01T13:02:15.338Z"
   },
   {
    "duration": 12,
    "start_time": "2022-02-01T13:02:55.138Z"
   },
   {
    "duration": 14,
    "start_time": "2022-02-01T13:03:39.290Z"
   },
   {
    "duration": 13,
    "start_time": "2022-02-01T13:04:55.511Z"
   },
   {
    "duration": 13,
    "start_time": "2022-02-01T13:05:04.951Z"
   },
   {
    "duration": 42,
    "start_time": "2022-02-01T13:05:37.271Z"
   },
   {
    "duration": 45,
    "start_time": "2022-02-01T13:07:13.494Z"
   },
   {
    "duration": 46,
    "start_time": "2022-02-01T13:07:17.686Z"
   },
   {
    "duration": 41,
    "start_time": "2022-02-01T13:09:34.197Z"
   },
   {
    "duration": 29,
    "start_time": "2022-02-01T13:10:40.733Z"
   },
   {
    "duration": 31,
    "start_time": "2022-02-01T13:12:09.051Z"
   },
   {
    "duration": 32,
    "start_time": "2022-02-01T13:13:25.589Z"
   },
   {
    "duration": 5757,
    "start_time": "2022-02-01T13:14:04.788Z"
   },
   {
    "duration": 29,
    "start_time": "2022-02-01T13:15:25.908Z"
   },
   {
    "duration": 27,
    "start_time": "2022-02-01T13:18:09.857Z"
   },
   {
    "duration": 327,
    "start_time": "2022-02-01T13:24:13.093Z"
   },
   {
    "duration": 3405,
    "start_time": "2022-02-01T13:24:33.892Z"
   },
   {
    "duration": 6,
    "start_time": "2022-02-01T13:27:28.091Z"
   },
   {
    "duration": 481,
    "start_time": "2022-02-01T13:28:21.719Z"
   },
   {
    "duration": 553,
    "start_time": "2022-02-01T13:29:07.377Z"
   },
   {
    "duration": 636,
    "start_time": "2022-02-01T13:36:57.644Z"
   },
   {
    "duration": 677,
    "start_time": "2022-02-01T13:38:33.979Z"
   },
   {
    "duration": 579,
    "start_time": "2022-02-01T13:38:52.890Z"
   },
   {
    "duration": 616,
    "start_time": "2022-02-01T13:45:24.583Z"
   },
   {
    "duration": 1091,
    "start_time": "2022-02-01T13:45:31.981Z"
   },
   {
    "duration": 63,
    "start_time": "2022-02-01T13:45:33.074Z"
   },
   {
    "duration": 45,
    "start_time": "2022-02-01T13:45:33.140Z"
   },
   {
    "duration": 48,
    "start_time": "2022-02-01T13:45:33.187Z"
   },
   {
    "duration": 14,
    "start_time": "2022-02-01T13:45:33.237Z"
   },
   {
    "duration": 23,
    "start_time": "2022-02-01T13:45:33.252Z"
   },
   {
    "duration": 232,
    "start_time": "2022-02-01T13:45:33.276Z"
   },
   {
    "duration": 28,
    "start_time": "2022-02-01T13:45:33.510Z"
   },
   {
    "duration": 116,
    "start_time": "2022-02-01T13:45:33.540Z"
   },
   {
    "duration": 982,
    "start_time": "2022-02-01T13:45:33.658Z"
   },
   {
    "duration": 590,
    "start_time": "2022-02-01T13:45:34.642Z"
   },
   {
    "duration": 712,
    "start_time": "2022-02-01T13:45:35.234Z"
   },
   {
    "duration": 576,
    "start_time": "2022-02-01T13:45:35.947Z"
   },
   {
    "duration": 603,
    "start_time": "2022-02-01T17:51:40.070Z"
   },
   {
    "duration": 1365,
    "start_time": "2022-02-01T17:51:46.068Z"
   },
   {
    "duration": 102,
    "start_time": "2022-02-01T17:51:47.435Z"
   },
   {
    "duration": 99,
    "start_time": "2022-02-01T17:51:47.539Z"
   },
   {
    "duration": 34,
    "start_time": "2022-02-01T17:51:47.640Z"
   },
   {
    "duration": 28,
    "start_time": "2022-02-01T17:51:47.676Z"
   },
   {
    "duration": 25,
    "start_time": "2022-02-01T17:51:47.719Z"
   },
   {
    "duration": 252,
    "start_time": "2022-02-01T17:51:47.746Z"
   },
   {
    "duration": 32,
    "start_time": "2022-02-01T17:51:48.001Z"
   },
   {
    "duration": 113,
    "start_time": "2022-02-01T17:51:48.035Z"
   },
   {
    "duration": 973,
    "start_time": "2022-02-01T17:51:48.151Z"
   },
   {
    "duration": 951,
    "start_time": "2022-02-01T17:51:49.126Z"
   },
   {
    "duration": 1138,
    "start_time": "2022-02-01T17:51:50.080Z"
   },
   {
    "duration": 943,
    "start_time": "2022-02-01T17:51:51.221Z"
   },
   {
    "duration": 1104,
    "start_time": "2022-02-01T22:14:25.615Z"
   },
   {
    "duration": 66,
    "start_time": "2022-02-01T22:14:26.721Z"
   },
   {
    "duration": 60,
    "start_time": "2022-02-01T22:14:26.789Z"
   },
   {
    "duration": 57,
    "start_time": "2022-02-01T22:14:26.851Z"
   },
   {
    "duration": 16,
    "start_time": "2022-02-01T22:14:26.911Z"
   },
   {
    "duration": 24,
    "start_time": "2022-02-01T22:14:26.930Z"
   },
   {
    "duration": 259,
    "start_time": "2022-02-01T22:14:26.956Z"
   },
   {
    "duration": 23,
    "start_time": "2022-02-01T22:14:27.217Z"
   },
   {
    "duration": 125,
    "start_time": "2022-02-01T22:14:27.242Z"
   },
   {
    "duration": 1087,
    "start_time": "2022-02-01T22:14:27.370Z"
   },
   {
    "duration": 572,
    "start_time": "2022-02-01T22:14:28.459Z"
   },
   {
    "duration": 731,
    "start_time": "2022-02-01T22:14:29.033Z"
   },
   {
    "duration": 616,
    "start_time": "2022-02-01T22:14:29.766Z"
   },
   {
    "duration": 309,
    "start_time": "2022-02-01T22:43:49.949Z"
   },
   {
    "duration": 840,
    "start_time": "2022-02-01T22:44:08.921Z"
   },
   {
    "duration": 20,
    "start_time": "2022-02-01T22:44:20.968Z"
   },
   {
    "duration": 27,
    "start_time": "2022-02-01T22:44:43.497Z"
   },
   {
    "duration": 37,
    "start_time": "2022-02-01T22:47:20.072Z"
   },
   {
    "duration": 39,
    "start_time": "2022-02-01T22:55:54.927Z"
   },
   {
    "duration": 254,
    "start_time": "2022-02-01T22:57:12.639Z"
   },
   {
    "duration": 81,
    "start_time": "2022-02-01T22:57:28.622Z"
   },
   {
    "duration": 36,
    "start_time": "2022-02-01T22:58:53.296Z"
   },
   {
    "duration": 49,
    "start_time": "2022-02-01T22:59:07.625Z"
   },
   {
    "duration": 42,
    "start_time": "2022-02-01T22:59:19.802Z"
   },
   {
    "duration": 56,
    "start_time": "2022-02-01T22:59:40.257Z"
   },
   {
    "duration": 5216,
    "start_time": "2022-02-01T23:00:28.273Z"
   },
   {
    "duration": 36,
    "start_time": "2022-02-01T23:00:40.089Z"
   },
   {
    "duration": 1118,
    "start_time": "2022-02-01T23:05:23.066Z"
   },
   {
    "duration": 68,
    "start_time": "2022-02-01T23:05:24.186Z"
   },
   {
    "duration": 63,
    "start_time": "2022-02-01T23:05:24.256Z"
   },
   {
    "duration": 35,
    "start_time": "2022-02-01T23:05:24.321Z"
   },
   {
    "duration": 16,
    "start_time": "2022-02-01T23:05:24.358Z"
   },
   {
    "duration": 54,
    "start_time": "2022-02-01T23:05:24.376Z"
   },
   {
    "duration": 254,
    "start_time": "2022-02-01T23:05:24.432Z"
   },
   {
    "duration": 37,
    "start_time": "2022-02-01T23:05:24.688Z"
   },
   {
    "duration": 112,
    "start_time": "2022-02-01T23:05:24.727Z"
   },
   {
    "duration": 1071,
    "start_time": "2022-02-01T23:05:24.841Z"
   },
   {
    "duration": 623,
    "start_time": "2022-02-01T23:05:25.914Z"
   },
   {
    "duration": 763,
    "start_time": "2022-02-01T23:05:26.539Z"
   },
   {
    "duration": 620,
    "start_time": "2022-02-01T23:05:27.308Z"
   },
   {
    "duration": 35,
    "start_time": "2022-02-01T23:05:27.930Z"
   },
   {
    "duration": 1068,
    "start_time": "2022-02-02T13:31:20.418Z"
   },
   {
    "duration": 61,
    "start_time": "2022-02-02T13:31:21.488Z"
   },
   {
    "duration": 62,
    "start_time": "2022-02-02T13:31:21.553Z"
   },
   {
    "duration": 32,
    "start_time": "2022-02-02T13:31:21.617Z"
   },
   {
    "duration": 15,
    "start_time": "2022-02-02T13:31:21.651Z"
   },
   {
    "duration": 57,
    "start_time": "2022-02-02T13:31:21.668Z"
   },
   {
    "duration": 227,
    "start_time": "2022-02-02T13:31:21.728Z"
   },
   {
    "duration": 23,
    "start_time": "2022-02-02T13:31:21.957Z"
   },
   {
    "duration": 113,
    "start_time": "2022-02-02T13:31:21.982Z"
   },
   {
    "duration": 979,
    "start_time": "2022-02-02T13:31:22.097Z"
   },
   {
    "duration": 573,
    "start_time": "2022-02-02T13:31:23.078Z"
   },
   {
    "duration": 699,
    "start_time": "2022-02-02T13:31:23.653Z"
   },
   {
    "duration": 580,
    "start_time": "2022-02-02T13:31:24.353Z"
   },
   {
    "duration": 28,
    "start_time": "2022-02-02T13:31:24.935Z"
   },
   {
    "duration": 1059,
    "start_time": "2022-02-02T13:36:19.794Z"
   },
   {
    "duration": 60,
    "start_time": "2022-02-02T13:36:20.855Z"
   },
   {
    "duration": 46,
    "start_time": "2022-02-02T13:36:20.917Z"
   },
   {
    "duration": 55,
    "start_time": "2022-02-02T13:36:20.965Z"
   },
   {
    "duration": 14,
    "start_time": "2022-02-02T13:36:21.021Z"
   },
   {
    "duration": 21,
    "start_time": "2022-02-02T13:36:21.037Z"
   },
   {
    "duration": 239,
    "start_time": "2022-02-02T13:36:21.059Z"
   },
   {
    "duration": 31,
    "start_time": "2022-02-02T13:36:21.300Z"
   },
   {
    "duration": 111,
    "start_time": "2022-02-02T13:36:21.332Z"
   },
   {
    "duration": 957,
    "start_time": "2022-02-02T13:36:21.444Z"
   },
   {
    "duration": 567,
    "start_time": "2022-02-02T13:36:22.403Z"
   },
   {
    "duration": 668,
    "start_time": "2022-02-02T13:36:22.971Z"
   },
   {
    "duration": 566,
    "start_time": "2022-02-02T13:36:23.641Z"
   },
   {
    "duration": 31,
    "start_time": "2022-02-02T13:36:24.209Z"
   },
   {
    "duration": 31,
    "start_time": "2022-02-02T13:38:07.178Z"
   },
   {
    "duration": 298,
    "start_time": "2022-02-02T13:39:08.870Z"
   },
   {
    "duration": 444,
    "start_time": "2022-02-02T13:39:47.840Z"
   },
   {
    "duration": 511,
    "start_time": "2022-02-02T13:40:17.215Z"
   },
   {
    "duration": 379,
    "start_time": "2022-02-02T13:40:45.812Z"
   },
   {
    "duration": 40,
    "start_time": "2022-02-02T13:40:54.005Z"
   },
   {
    "duration": 32,
    "start_time": "2022-02-02T14:09:04.206Z"
   },
   {
    "duration": 31,
    "start_time": "2022-02-02T14:09:26.604Z"
   },
   {
    "duration": 30,
    "start_time": "2022-02-02T14:09:40.788Z"
   },
   {
    "duration": 334,
    "start_time": "2022-02-02T14:23:23.067Z"
   },
   {
    "duration": 31,
    "start_time": "2022-02-02T14:38:18.515Z"
   },
   {
    "duration": 30,
    "start_time": "2022-02-02T14:39:52.368Z"
   },
   {
    "duration": 927,
    "start_time": "2022-02-02T14:40:44.825Z"
   },
   {
    "duration": 36,
    "start_time": "2022-02-02T14:40:57.296Z"
   },
   {
    "duration": 33,
    "start_time": "2022-02-02T14:44:49.798Z"
   },
   {
    "duration": 991,
    "start_time": "2022-02-02T17:36:08.839Z"
   },
   {
    "duration": 52,
    "start_time": "2022-02-02T17:36:09.832Z"
   },
   {
    "duration": 57,
    "start_time": "2022-02-02T17:36:09.886Z"
   },
   {
    "duration": 26,
    "start_time": "2022-02-02T17:36:09.944Z"
   },
   {
    "duration": 11,
    "start_time": "2022-02-02T17:36:09.971Z"
   },
   {
    "duration": 47,
    "start_time": "2022-02-02T17:36:09.984Z"
   },
   {
    "duration": 182,
    "start_time": "2022-02-02T17:36:10.032Z"
   },
   {
    "duration": 27,
    "start_time": "2022-02-02T17:36:10.216Z"
   },
   {
    "duration": 95,
    "start_time": "2022-02-02T17:36:10.245Z"
   },
   {
    "duration": 852,
    "start_time": "2022-02-02T17:36:10.342Z"
   },
   {
    "duration": 502,
    "start_time": "2022-02-02T17:36:11.195Z"
   },
   {
    "duration": 718,
    "start_time": "2022-02-02T17:36:11.698Z"
   },
   {
    "duration": 513,
    "start_time": "2022-02-02T17:36:12.417Z"
   },
   {
    "duration": 29,
    "start_time": "2022-02-02T17:36:12.932Z"
   },
   {
    "duration": 104,
    "start_time": "2022-02-02T17:36:12.963Z"
   },
   {
    "duration": 486,
    "start_time": "2022-02-02T17:36:12.583Z"
   },
   {
    "duration": 394,
    "start_time": "2022-02-02T17:37:39.880Z"
   },
   {
    "duration": 1220,
    "start_time": "2022-02-02T17:38:23.460Z"
   },
   {
    "duration": 1661,
    "start_time": "2022-02-02T17:41:14.022Z"
   },
   {
    "duration": 1694,
    "start_time": "2022-02-02T17:41:25.368Z"
   },
   {
    "duration": 1760,
    "start_time": "2022-02-02T17:41:45.985Z"
   },
   {
    "duration": 1648,
    "start_time": "2022-02-02T17:41:51.235Z"
   },
   {
    "duration": 1095,
    "start_time": "2022-02-02T17:42:31.287Z"
   },
   {
    "duration": 1598,
    "start_time": "2022-02-02T17:42:40.969Z"
   },
   {
    "duration": 1464,
    "start_time": "2022-02-02T17:42:46.024Z"
   },
   {
    "duration": 816,
    "start_time": "2022-02-02T17:44:58.463Z"
   },
   {
    "duration": 1513,
    "start_time": "2022-02-02T17:45:06.616Z"
   },
   {
    "duration": 99,
    "start_time": "2022-02-02T17:48:58.757Z"
   },
   {
    "duration": 588,
    "start_time": "2022-02-02T17:49:07.469Z"
   },
   {
    "duration": 607,
    "start_time": "2022-02-02T17:49:20.899Z"
   },
   {
    "duration": 466,
    "start_time": "2022-02-02T17:56:41.480Z"
   },
   {
    "duration": 881,
    "start_time": "2022-02-02T17:56:51.779Z"
   },
   {
    "duration": 482,
    "start_time": "2022-02-02T17:57:46.591Z"
   },
   {
    "duration": 642,
    "start_time": "2022-02-02T17:58:49.472Z"
   },
   {
    "duration": 549,
    "start_time": "2022-02-02T17:59:09.394Z"
   },
   {
    "duration": 597,
    "start_time": "2022-02-02T18:01:05.694Z"
   },
   {
    "duration": 600,
    "start_time": "2022-02-02T18:01:24.773Z"
   },
   {
    "duration": 446,
    "start_time": "2022-02-02T18:11:27.504Z"
   },
   {
    "duration": 475,
    "start_time": "2022-02-02T18:11:44.063Z"
   },
   {
    "duration": 980,
    "start_time": "2022-02-02T18:15:37.126Z"
   },
   {
    "duration": 538,
    "start_time": "2022-02-02T18:21:33.600Z"
   },
   {
    "duration": 435,
    "start_time": "2022-02-02T18:22:09.900Z"
   },
   {
    "duration": 1275,
    "start_time": "2022-02-02T18:22:59.946Z"
   },
   {
    "duration": 1484,
    "start_time": "2022-02-02T18:23:10.934Z"
   },
   {
    "duration": 1470,
    "start_time": "2022-02-02T18:25:25.758Z"
   },
   {
    "duration": 1568,
    "start_time": "2022-02-02T18:25:37.645Z"
   },
   {
    "duration": 1441,
    "start_time": "2022-02-02T18:27:05.980Z"
   },
   {
    "duration": 1513,
    "start_time": "2022-02-02T18:27:12.396Z"
   },
   {
    "duration": 1482,
    "start_time": "2022-02-02T18:28:43.155Z"
   },
   {
    "duration": 258,
    "start_time": "2022-02-02T18:28:44.638Z"
   },
   {
    "duration": 1501,
    "start_time": "2022-02-02T18:29:09.619Z"
   },
   {
    "duration": 491,
    "start_time": "2022-02-02T18:30:41.482Z"
   },
   {
    "duration": 471,
    "start_time": "2022-02-02T18:31:08.819Z"
   },
   {
    "duration": 470,
    "start_time": "2022-02-02T18:31:13.673Z"
   },
   {
    "duration": 7610,
    "start_time": "2022-02-02T18:34:18.977Z"
   },
   {
    "duration": 25598,
    "start_time": "2022-02-02T18:35:34.732Z"
   },
   {
    "duration": 704,
    "start_time": "2022-02-02T18:39:27.976Z"
   },
   {
    "duration": 622,
    "start_time": "2022-02-02T18:39:49.219Z"
   },
   {
    "duration": 358,
    "start_time": "2022-02-02T18:40:01.724Z"
   },
   {
    "duration": 2043,
    "start_time": "2022-02-02T18:40:23.589Z"
   },
   {
    "duration": 412,
    "start_time": "2022-02-02T18:41:53.778Z"
   },
   {
    "duration": 657,
    "start_time": "2022-02-02T18:42:07.132Z"
   },
   {
    "duration": 817,
    "start_time": "2022-02-02T18:42:20.266Z"
   },
   {
    "duration": 593,
    "start_time": "2022-02-02T18:42:31.482Z"
   },
   {
    "duration": 355,
    "start_time": "2022-02-02T18:42:39.922Z"
   },
   {
    "duration": 1498,
    "start_time": "2022-02-02T18:45:46.938Z"
   },
   {
    "duration": 984,
    "start_time": "2022-02-02T18:46:07.789Z"
   },
   {
    "duration": 293,
    "start_time": "2022-02-02T18:49:16.549Z"
   },
   {
    "duration": 91,
    "start_time": "2022-02-02T18:49:25.805Z"
   },
   {
    "duration": 126,
    "start_time": "2022-02-02T18:49:31.525Z"
   },
   {
    "duration": 3,
    "start_time": "2022-02-02T18:50:40.140Z"
   },
   {
    "duration": 1165,
    "start_time": "2022-02-02T18:51:15.989Z"
   },
   {
    "duration": 705,
    "start_time": "2022-02-02T18:51:58.691Z"
   },
   {
    "duration": 1005,
    "start_time": "2022-02-02T18:52:03.283Z"
   },
   {
    "duration": 595,
    "start_time": "2022-02-02T18:53:09.962Z"
   },
   {
    "duration": 539,
    "start_time": "2022-02-02T18:54:12.393Z"
   },
   {
    "duration": 31,
    "start_time": "2022-02-02T18:54:29.851Z"
   },
   {
    "duration": 30,
    "start_time": "2022-02-02T18:54:43.620Z"
   },
   {
    "duration": 507,
    "start_time": "2022-02-02T18:55:20.306Z"
   },
   {
    "duration": 32,
    "start_time": "2022-02-02T18:56:41.212Z"
   },
   {
    "duration": 996,
    "start_time": "2022-02-02T18:57:52.848Z"
   },
   {
    "duration": 553,
    "start_time": "2022-02-02T18:59:21.031Z"
   },
   {
    "duration": 1098,
    "start_time": "2022-02-02T18:59:30.210Z"
   },
   {
    "duration": 1001,
    "start_time": "2022-02-02T19:00:16.734Z"
   },
   {
    "duration": 1571,
    "start_time": "2022-02-02T19:03:48.522Z"
   },
   {
    "duration": 1406,
    "start_time": "2022-02-02T19:04:07.502Z"
   },
   {
    "duration": 1522,
    "start_time": "2022-02-02T19:04:20.148Z"
   },
   {
    "duration": 1419,
    "start_time": "2022-02-02T19:04:36.996Z"
   },
   {
    "duration": 1387,
    "start_time": "2022-02-02T19:04:46.854Z"
   },
   {
    "duration": 1529,
    "start_time": "2022-02-02T19:06:04.965Z"
   },
   {
    "duration": 1912,
    "start_time": "2022-02-02T19:06:17.196Z"
   },
   {
    "duration": 989,
    "start_time": "2022-02-02T19:07:45.656Z"
   },
   {
    "duration": 52,
    "start_time": "2022-02-02T19:07:46.647Z"
   },
   {
    "duration": 40,
    "start_time": "2022-02-02T19:07:46.700Z"
   },
   {
    "duration": 28,
    "start_time": "2022-02-02T19:07:46.741Z"
   },
   {
    "duration": 12,
    "start_time": "2022-02-02T19:07:46.771Z"
   },
   {
    "duration": 48,
    "start_time": "2022-02-02T19:07:46.786Z"
   },
   {
    "duration": 210,
    "start_time": "2022-02-02T19:07:46.836Z"
   },
   {
    "duration": 20,
    "start_time": "2022-02-02T19:07:47.048Z"
   },
   {
    "duration": 90,
    "start_time": "2022-02-02T19:07:47.069Z"
   },
   {
    "duration": 1015,
    "start_time": "2022-02-02T19:07:47.160Z"
   },
   {
    "duration": 577,
    "start_time": "2022-02-02T19:07:48.177Z"
   },
   {
    "duration": 626,
    "start_time": "2022-02-02T19:07:48.756Z"
   },
   {
    "duration": 605,
    "start_time": "2022-02-02T19:07:49.384Z"
   },
   {
    "duration": 41,
    "start_time": "2022-02-02T19:07:49.991Z"
   },
   {
    "duration": 1962,
    "start_time": "2022-02-02T19:07:50.034Z"
   },
   {
    "duration": 1436,
    "start_time": "2022-02-02T19:14:41.711Z"
   },
   {
    "duration": 1472,
    "start_time": "2022-02-02T19:24:06.057Z"
   },
   {
    "duration": 958,
    "start_time": "2022-02-02T19:24:39.968Z"
   },
   {
    "duration": 52,
    "start_time": "2022-02-02T19:24:40.927Z"
   },
   {
    "duration": 56,
    "start_time": "2022-02-02T19:24:40.981Z"
   },
   {
    "duration": 26,
    "start_time": "2022-02-02T19:24:41.039Z"
   },
   {
    "duration": 12,
    "start_time": "2022-02-02T19:24:41.066Z"
   },
   {
    "duration": 27,
    "start_time": "2022-02-02T19:24:41.079Z"
   },
   {
    "duration": 177,
    "start_time": "2022-02-02T19:24:41.127Z"
   },
   {
    "duration": 28,
    "start_time": "2022-02-02T19:24:41.306Z"
   },
   {
    "duration": 104,
    "start_time": "2022-02-02T19:24:41.335Z"
   },
   {
    "duration": 889,
    "start_time": "2022-02-02T19:24:41.440Z"
   },
   {
    "duration": 533,
    "start_time": "2022-02-02T19:24:42.331Z"
   },
   {
    "duration": 662,
    "start_time": "2022-02-02T19:24:42.866Z"
   },
   {
    "duration": 511,
    "start_time": "2022-02-02T19:24:43.529Z"
   },
   {
    "duration": 31,
    "start_time": "2022-02-02T19:24:44.042Z"
   },
   {
    "duration": 1481,
    "start_time": "2022-02-02T19:24:44.074Z"
   },
   {
    "duration": 9185,
    "start_time": "2022-02-02T19:42:00.996Z"
   },
   {
    "duration": 1781,
    "start_time": "2022-02-02T19:42:37.640Z"
   },
   {
    "duration": 1734,
    "start_time": "2022-02-02T19:42:45.057Z"
   },
   {
    "duration": 1523,
    "start_time": "2022-02-02T19:42:51.750Z"
   },
   {
    "duration": 1446,
    "start_time": "2022-02-02T19:43:23.648Z"
   },
   {
    "duration": 54,
    "start_time": "2022-02-02T19:52:39.972Z"
   },
   {
    "duration": 59,
    "start_time": "2022-02-02T19:53:51.756Z"
   },
   {
    "duration": 286,
    "start_time": "2022-02-02T20:47:48.355Z"
   },
   {
    "duration": 9,
    "start_time": "2022-02-02T20:48:26.475Z"
   },
   {
    "duration": 12,
    "start_time": "2022-02-02T20:48:44.115Z"
   },
   {
    "duration": 7,
    "start_time": "2022-02-02T20:48:52.125Z"
   },
   {
    "duration": 12,
    "start_time": "2022-02-02T20:49:45.924Z"
   },
   {
    "duration": 708,
    "start_time": "2022-02-02T20:52:39.801Z"
   },
   {
    "duration": 6,
    "start_time": "2022-02-02T20:58:04.086Z"
   },
   {
    "duration": 292,
    "start_time": "2022-02-02T20:58:51.774Z"
   },
   {
    "duration": 4,
    "start_time": "2022-02-02T20:58:57.326Z"
   },
   {
    "duration": 266,
    "start_time": "2022-02-02T20:59:15.437Z"
   },
   {
    "duration": 6,
    "start_time": "2022-02-02T20:59:20.520Z"
   },
   {
    "duration": 3719,
    "start_time": "2022-02-02T21:00:17.205Z"
   },
   {
    "duration": 286,
    "start_time": "2022-02-02T21:00:35.917Z"
   },
   {
    "duration": 20,
    "start_time": "2022-02-02T21:01:25.853Z"
   },
   {
    "duration": 8,
    "start_time": "2022-02-02T21:01:45.180Z"
   },
   {
    "duration": 5,
    "start_time": "2022-02-02T21:01:48.330Z"
   },
   {
    "duration": 8,
    "start_time": "2022-02-02T21:10:06.978Z"
   },
   {
    "duration": 4,
    "start_time": "2022-02-02T21:10:08.551Z"
   },
   {
    "duration": 4,
    "start_time": "2022-02-02T21:10:14.935Z"
   },
   {
    "duration": 12,
    "start_time": "2022-02-02T21:23:03.985Z"
   },
   {
    "duration": 5,
    "start_time": "2022-02-02T21:25:19.765Z"
   },
   {
    "duration": 5,
    "start_time": "2022-02-02T21:26:13.982Z"
   },
   {
    "duration": 5,
    "start_time": "2022-02-02T21:28:55.255Z"
   },
   {
    "duration": 11,
    "start_time": "2022-02-02T21:29:39.081Z"
   },
   {
    "duration": 5,
    "start_time": "2022-02-02T21:31:06.858Z"
   },
   {
    "duration": 5,
    "start_time": "2022-02-02T21:31:17.587Z"
   },
   {
    "duration": 5,
    "start_time": "2022-02-02T21:31:24.152Z"
   },
   {
    "duration": 4,
    "start_time": "2022-02-02T21:31:28.313Z"
   },
   {
    "duration": 5,
    "start_time": "2022-02-02T21:31:38.713Z"
   },
   {
    "duration": 5,
    "start_time": "2022-02-02T21:33:19.265Z"
   },
   {
    "duration": 5,
    "start_time": "2022-02-02T21:33:37.519Z"
   },
   {
    "duration": 5,
    "start_time": "2022-02-02T21:33:49.649Z"
   },
   {
    "duration": 7,
    "start_time": "2022-02-02T21:33:52.398Z"
   },
   {
    "duration": 6,
    "start_time": "2022-02-02T21:33:54.527Z"
   },
   {
    "duration": 4,
    "start_time": "2022-02-02T21:34:11.031Z"
   },
   {
    "duration": 5,
    "start_time": "2022-02-02T21:34:32.439Z"
   },
   {
    "duration": 5,
    "start_time": "2022-02-02T21:34:38.582Z"
   },
   {
    "duration": 4,
    "start_time": "2022-02-02T21:34:43.598Z"
   },
   {
    "duration": 5,
    "start_time": "2022-02-02T21:34:47.447Z"
   },
   {
    "duration": 11,
    "start_time": "2022-02-02T21:35:13.545Z"
   },
   {
    "duration": 10,
    "start_time": "2022-02-02T21:38:36.160Z"
   },
   {
    "duration": 11,
    "start_time": "2022-02-02T21:39:05.066Z"
   },
   {
    "duration": 5,
    "start_time": "2022-02-02T21:39:53.444Z"
   },
   {
    "duration": 1282,
    "start_time": "2022-02-02T21:48:52.579Z"
   },
   {
    "duration": 52,
    "start_time": "2022-02-02T21:48:53.863Z"
   },
   {
    "duration": 39,
    "start_time": "2022-02-02T21:48:53.917Z"
   },
   {
    "duration": 26,
    "start_time": "2022-02-02T21:48:53.958Z"
   },
   {
    "duration": 12,
    "start_time": "2022-02-02T21:48:53.985Z"
   },
   {
    "duration": 39,
    "start_time": "2022-02-02T21:48:53.998Z"
   },
   {
    "duration": 192,
    "start_time": "2022-02-02T21:48:54.038Z"
   },
   {
    "duration": 19,
    "start_time": "2022-02-02T21:48:54.233Z"
   },
   {
    "duration": 103,
    "start_time": "2022-02-02T21:48:54.254Z"
   },
   {
    "duration": 899,
    "start_time": "2022-02-02T21:48:54.359Z"
   },
   {
    "duration": 502,
    "start_time": "2022-02-02T21:48:55.259Z"
   },
   {
    "duration": 616,
    "start_time": "2022-02-02T21:48:55.763Z"
   },
   {
    "duration": 530,
    "start_time": "2022-02-02T21:48:56.380Z"
   },
   {
    "duration": 66,
    "start_time": "2022-02-02T21:48:56.912Z"
   },
   {
    "duration": 1535,
    "start_time": "2022-02-02T21:48:56.979Z"
   },
   {
    "duration": 23,
    "start_time": "2022-02-02T21:48:58.516Z"
   },
   {
    "duration": 4,
    "start_time": "2022-02-02T21:48:58.541Z"
   },
   {
    "duration": 13,
    "start_time": "2022-02-02T21:48:58.546Z"
   },
   {
    "duration": 5,
    "start_time": "2022-02-02T21:48:58.560Z"
   },
   {
    "duration": 63,
    "start_time": "2022-02-02T21:58:07.469Z"
   },
   {
    "duration": 1994,
    "start_time": "2022-02-12T07:23:36.719Z"
   },
   {
    "duration": 85,
    "start_time": "2022-02-12T07:23:38.716Z"
   },
   {
    "duration": 93,
    "start_time": "2022-02-12T07:23:38.805Z"
   },
   {
    "duration": 77,
    "start_time": "2022-02-12T07:23:38.901Z"
   },
   {
    "duration": 28,
    "start_time": "2022-02-12T07:23:38.981Z"
   },
   {
    "duration": 78,
    "start_time": "2022-02-12T07:23:39.012Z"
   },
   {
    "duration": 362,
    "start_time": "2022-02-12T07:23:39.093Z"
   },
   {
    "duration": 37,
    "start_time": "2022-02-12T07:23:39.460Z"
   },
   {
    "duration": 164,
    "start_time": "2022-02-12T07:23:39.501Z"
   },
   {
    "duration": 1531,
    "start_time": "2022-02-12T07:23:39.670Z"
   },
   {
    "duration": 865,
    "start_time": "2022-02-12T07:23:41.204Z"
   },
   {
    "duration": 1042,
    "start_time": "2022-02-12T07:23:42.072Z"
   },
   {
    "duration": 1166,
    "start_time": "2022-02-12T07:23:43.117Z"
   },
   {
    "duration": 135,
    "start_time": "2022-02-12T07:23:44.285Z"
   },
   {
    "duration": 2829,
    "start_time": "2022-02-12T07:23:44.424Z"
   },
   {
    "duration": 23,
    "start_time": "2022-02-12T07:23:47.255Z"
   },
   {
    "duration": 7,
    "start_time": "2022-02-12T07:23:47.280Z"
   },
   {
    "duration": 21,
    "start_time": "2022-02-12T07:23:47.290Z"
   },
   {
    "duration": 7,
    "start_time": "2022-02-12T07:23:47.369Z"
   },
   {
    "duration": 35,
    "start_time": "2022-02-12T07:44:28.278Z"
   },
   {
    "duration": 2095,
    "start_time": "2022-02-12T07:46:45.595Z"
   },
   {
    "duration": 22,
    "start_time": "2022-02-12T07:46:54.799Z"
   },
   {
    "duration": 22,
    "start_time": "2022-02-12T07:47:13.060Z"
   },
   {
    "duration": 33,
    "start_time": "2022-02-12T07:47:57.906Z"
   },
   {
    "duration": 14,
    "start_time": "2022-02-12T07:49:01.731Z"
   },
   {
    "duration": 28,
    "start_time": "2022-02-12T07:49:06.971Z"
   },
   {
    "duration": 54,
    "start_time": "2022-02-12T07:49:15.569Z"
   },
   {
    "duration": 27,
    "start_time": "2022-02-12T07:50:18.181Z"
   },
   {
    "duration": 2234,
    "start_time": "2022-02-12T08:04:16.843Z"
   },
   {
    "duration": 1501,
    "start_time": "2022-02-12T11:21:21.617Z"
   },
   {
    "duration": 413,
    "start_time": "2022-02-12T11:21:24.505Z"
   },
   {
    "duration": 421,
    "start_time": "2022-02-12T11:22:00.849Z"
   },
   {
    "duration": 1496,
    "start_time": "2022-02-12T11:22:11.921Z"
   },
   {
    "duration": 92,
    "start_time": "2022-02-12T11:22:13.419Z"
   },
   {
    "duration": 95,
    "start_time": "2022-02-12T11:22:13.513Z"
   },
   {
    "duration": 42,
    "start_time": "2022-02-12T11:22:13.610Z"
   },
   {
    "duration": 63,
    "start_time": "2022-02-12T11:22:13.654Z"
   },
   {
    "duration": 35,
    "start_time": "2022-02-12T11:22:13.719Z"
   },
   {
    "duration": 237,
    "start_time": "2022-02-12T11:22:13.756Z"
   },
   {
    "duration": 23,
    "start_time": "2022-02-12T11:22:14.000Z"
   },
   {
    "duration": 117,
    "start_time": "2022-02-12T11:22:14.025Z"
   },
   {
    "duration": 1061,
    "start_time": "2022-02-12T11:22:14.143Z"
   },
   {
    "duration": 653,
    "start_time": "2022-02-12T11:22:15.206Z"
   },
   {
    "duration": 747,
    "start_time": "2022-02-12T11:22:15.861Z"
   },
   {
    "duration": 663,
    "start_time": "2022-02-12T11:22:16.610Z"
   },
   {
    "duration": 81,
    "start_time": "2022-02-12T11:22:17.275Z"
   },
   {
    "duration": 316,
    "start_time": "2022-02-12T11:22:17.358Z"
   },
   {
    "duration": 1907,
    "start_time": "2022-02-12T11:22:17.676Z"
   },
   {
    "duration": 24,
    "start_time": "2022-02-12T11:22:19.585Z"
   },
   {
    "duration": 5,
    "start_time": "2022-02-12T11:22:19.611Z"
   },
   {
    "duration": 16,
    "start_time": "2022-02-12T11:22:19.618Z"
   },
   {
    "duration": 5,
    "start_time": "2022-02-12T11:22:19.636Z"
   },
   {
    "duration": 434,
    "start_time": "2022-02-12T11:22:25.452Z"
   },
   {
    "duration": 84,
    "start_time": "2022-02-12T11:22:48.211Z"
   },
   {
    "duration": 34,
    "start_time": "2022-02-12T11:26:13.864Z"
   },
   {
    "duration": 579,
    "start_time": "2022-02-12T11:32:07.226Z"
   },
   {
    "duration": 445,
    "start_time": "2022-02-12T11:32:10.001Z"
   },
   {
    "duration": 56,
    "start_time": "2022-02-12T11:32:14.931Z"
   },
   {
    "duration": 427,
    "start_time": "2022-02-12T11:32:41.858Z"
   },
   {
    "duration": 1841,
    "start_time": "2022-02-12T11:36:59.509Z"
   },
   {
    "duration": 113,
    "start_time": "2022-02-12T11:37:35.211Z"
   },
   {
    "duration": 235,
    "start_time": "2022-02-12T11:37:45.180Z"
   },
   {
    "duration": 313,
    "start_time": "2022-02-12T11:37:48.787Z"
   },
   {
    "duration": 1881,
    "start_time": "2022-02-12T11:38:03.341Z"
   },
   {
    "duration": 85,
    "start_time": "2022-02-12T11:38:05.225Z"
   },
   {
    "duration": 65,
    "start_time": "2022-02-12T11:38:05.313Z"
   },
   {
    "duration": 62,
    "start_time": "2022-02-12T11:38:05.380Z"
   },
   {
    "duration": 61,
    "start_time": "2022-02-12T11:38:05.444Z"
   },
   {
    "duration": 31,
    "start_time": "2022-02-12T11:38:05.507Z"
   },
   {
    "duration": 236,
    "start_time": "2022-02-12T11:38:05.539Z"
   },
   {
    "duration": 41,
    "start_time": "2022-02-12T11:38:05.778Z"
   },
   {
    "duration": 100,
    "start_time": "2022-02-12T11:38:05.821Z"
   },
   {
    "duration": 1018,
    "start_time": "2022-02-12T11:38:05.923Z"
   },
   {
    "duration": 607,
    "start_time": "2022-02-12T11:38:06.942Z"
   },
   {
    "duration": 722,
    "start_time": "2022-02-12T11:38:07.551Z"
   },
   {
    "duration": 612,
    "start_time": "2022-02-12T11:38:08.274Z"
   },
   {
    "duration": 74,
    "start_time": "2022-02-12T11:38:08.888Z"
   },
   {
    "duration": 356,
    "start_time": "2022-02-12T11:38:08.964Z"
   },
   {
    "duration": 1956,
    "start_time": "2022-02-12T11:38:09.322Z"
   },
   {
    "duration": 26,
    "start_time": "2022-02-12T11:38:11.281Z"
   },
   {
    "duration": 6,
    "start_time": "2022-02-12T11:38:11.308Z"
   },
   {
    "duration": 16,
    "start_time": "2022-02-12T11:38:11.316Z"
   },
   {
    "duration": 6,
    "start_time": "2022-02-12T11:38:11.333Z"
   },
   {
    "duration": 1979,
    "start_time": "2022-02-12T11:38:34.444Z"
   },
   {
    "duration": 107,
    "start_time": "2022-02-12T11:38:43.166Z"
   },
   {
    "duration": 80,
    "start_time": "2022-02-12T11:44:24.504Z"
   },
   {
    "duration": 96,
    "start_time": "2022-02-12T11:44:33.389Z"
   },
   {
    "duration": 1471,
    "start_time": "2022-02-12T11:46:03.154Z"
   },
   {
    "duration": 79,
    "start_time": "2022-02-12T11:46:04.627Z"
   },
   {
    "duration": 68,
    "start_time": "2022-02-12T11:46:04.709Z"
   },
   {
    "duration": 63,
    "start_time": "2022-02-12T11:46:04.779Z"
   },
   {
    "duration": 60,
    "start_time": "2022-02-12T11:46:04.844Z"
   },
   {
    "duration": 32,
    "start_time": "2022-02-12T11:46:04.906Z"
   },
   {
    "duration": 260,
    "start_time": "2022-02-12T11:46:04.940Z"
   },
   {
    "duration": 25,
    "start_time": "2022-02-12T11:46:05.203Z"
   },
   {
    "duration": 122,
    "start_time": "2022-02-12T11:46:05.231Z"
   },
   {
    "duration": 108,
    "start_time": "2022-02-12T11:46:05.355Z"
   },
   {
    "duration": 641,
    "start_time": "2022-02-12T11:46:05.466Z"
   },
   {
    "duration": 773,
    "start_time": "2022-02-12T11:46:06.109Z"
   },
   {
    "duration": 334,
    "start_time": "2022-02-12T11:46:06.884Z"
   },
   {
    "duration": -1486,
    "start_time": "2022-02-12T11:46:08.706Z"
   },
   {
    "duration": -1488,
    "start_time": "2022-02-12T11:46:08.709Z"
   },
   {
    "duration": -1489,
    "start_time": "2022-02-12T11:46:08.711Z"
   },
   {
    "duration": -1491,
    "start_time": "2022-02-12T11:46:08.714Z"
   },
   {
    "duration": -1494,
    "start_time": "2022-02-12T11:46:08.718Z"
   },
   {
    "duration": -1496,
    "start_time": "2022-02-12T11:46:08.722Z"
   },
   {
    "duration": -1497,
    "start_time": "2022-02-12T11:46:08.724Z"
   },
   {
    "duration": 88,
    "start_time": "2022-02-12T11:55:58.570Z"
   },
   {
    "duration": 79,
    "start_time": "2022-02-12T11:56:08.469Z"
   },
   {
    "duration": 84,
    "start_time": "2022-02-12T11:56:13.490Z"
   },
   {
    "duration": 1088,
    "start_time": "2022-02-12T11:56:31.451Z"
   },
   {
    "duration": 1887,
    "start_time": "2022-02-12T12:00:09.075Z"
   },
   {
    "duration": 83,
    "start_time": "2022-02-12T12:00:14.570Z"
   },
   {
    "duration": 85,
    "start_time": "2022-02-12T12:00:22.167Z"
   },
   {
    "duration": 87,
    "start_time": "2022-02-12T12:00:30.038Z"
   },
   {
    "duration": 98,
    "start_time": "2022-02-12T12:01:56.583Z"
   },
   {
    "duration": 1338,
    "start_time": "2022-02-12T19:38:52.602Z"
   },
   {
    "duration": 62,
    "start_time": "2022-02-12T19:38:53.942Z"
   },
   {
    "duration": 55,
    "start_time": "2022-02-12T19:38:54.006Z"
   },
   {
    "duration": 45,
    "start_time": "2022-02-12T19:38:54.062Z"
   },
   {
    "duration": 40,
    "start_time": "2022-02-12T19:38:54.109Z"
   },
   {
    "duration": 23,
    "start_time": "2022-02-12T19:38:54.150Z"
   },
   {
    "duration": 198,
    "start_time": "2022-02-12T19:38:54.174Z"
   },
   {
    "duration": 18,
    "start_time": "2022-02-12T19:38:54.375Z"
   },
   {
    "duration": 99,
    "start_time": "2022-02-12T19:38:54.395Z"
   },
   {
    "duration": 77,
    "start_time": "2022-02-12T19:38:54.496Z"
   },
   {
    "duration": 503,
    "start_time": "2022-02-12T19:38:54.575Z"
   },
   {
    "duration": 598,
    "start_time": "2022-02-12T19:38:55.080Z"
   },
   {
    "duration": 921,
    "start_time": "2022-02-12T19:38:55.680Z"
   },
   {
    "duration": 69,
    "start_time": "2022-02-12T19:38:56.603Z"
   },
   {
    "duration": 432,
    "start_time": "2022-02-12T19:38:56.674Z"
   },
   {
    "duration": 1516,
    "start_time": "2022-02-12T19:38:57.108Z"
   },
   {
    "duration": 17,
    "start_time": "2022-02-12T19:38:58.627Z"
   },
   {
    "duration": 5,
    "start_time": "2022-02-12T19:38:58.645Z"
   },
   {
    "duration": 13,
    "start_time": "2022-02-12T19:38:58.652Z"
   },
   {
    "duration": 5,
    "start_time": "2022-02-12T19:38:58.666Z"
   },
   {
    "duration": 941,
    "start_time": "2022-02-12T19:39:34.328Z"
   },
   {
    "duration": 1131,
    "start_time": "2022-02-12T19:52:18.902Z"
   },
   {
    "duration": 795,
    "start_time": "2022-02-12T19:53:39.421Z"
   },
   {
    "duration": 836,
    "start_time": "2022-02-12T19:54:24.343Z"
   },
   {
    "duration": 1396,
    "start_time": "2022-02-12T19:54:32.763Z"
   },
   {
    "duration": 66,
    "start_time": "2022-02-12T19:54:34.161Z"
   },
   {
    "duration": 54,
    "start_time": "2022-02-12T19:54:34.229Z"
   },
   {
    "duration": 59,
    "start_time": "2022-02-12T19:54:34.285Z"
   },
   {
    "duration": 35,
    "start_time": "2022-02-12T19:54:34.345Z"
   },
   {
    "duration": 49,
    "start_time": "2022-02-12T19:54:34.382Z"
   },
   {
    "duration": 198,
    "start_time": "2022-02-12T19:54:34.433Z"
   },
   {
    "duration": 21,
    "start_time": "2022-02-12T19:54:34.634Z"
   },
   {
    "duration": 109,
    "start_time": "2022-02-12T19:54:34.657Z"
   },
   {
    "duration": 1066,
    "start_time": "2022-02-12T19:54:34.768Z"
   },
   {
    "duration": 542,
    "start_time": "2022-02-12T19:54:35.835Z"
   },
   {
    "duration": 640,
    "start_time": "2022-02-12T19:54:36.378Z"
   },
   {
    "duration": 523,
    "start_time": "2022-02-12T19:54:37.020Z"
   },
   {
    "duration": 54,
    "start_time": "2022-02-12T19:54:37.545Z"
   },
   {
    "duration": 449,
    "start_time": "2022-02-12T19:54:37.601Z"
   },
   {
    "duration": 1414,
    "start_time": "2022-02-12T19:54:38.052Z"
   },
   {
    "duration": 14,
    "start_time": "2022-02-12T19:54:39.467Z"
   },
   {
    "duration": 4,
    "start_time": "2022-02-12T19:54:39.483Z"
   },
   {
    "duration": 11,
    "start_time": "2022-02-12T19:54:39.488Z"
   },
   {
    "duration": 4,
    "start_time": "2022-02-12T19:54:39.500Z"
   },
   {
    "duration": 1340,
    "start_time": "2022-02-12T19:59:07.420Z"
   },
   {
    "duration": 66,
    "start_time": "2022-02-12T19:59:08.762Z"
   },
   {
    "duration": 57,
    "start_time": "2022-02-12T19:59:08.831Z"
   },
   {
    "duration": 56,
    "start_time": "2022-02-12T19:59:08.891Z"
   },
   {
    "duration": 35,
    "start_time": "2022-02-12T19:59:08.949Z"
   },
   {
    "duration": 49,
    "start_time": "2022-02-12T19:59:08.986Z"
   },
   {
    "duration": 213,
    "start_time": "2022-02-12T19:59:09.037Z"
   },
   {
    "duration": 21,
    "start_time": "2022-02-12T19:59:09.253Z"
   },
   {
    "duration": 109,
    "start_time": "2022-02-12T19:59:09.276Z"
   },
   {
    "duration": 835,
    "start_time": "2022-02-12T19:59:09.387Z"
   },
   {
    "duration": 501,
    "start_time": "2022-02-12T19:59:10.227Z"
   },
   {
    "duration": 624,
    "start_time": "2022-02-12T19:59:10.730Z"
   },
   {
    "duration": 28,
    "start_time": "2022-02-12T19:59:11.356Z"
   },
   {
    "duration": 2,
    "start_time": "2022-02-12T19:59:11.386Z"
   },
   {
    "duration": 552,
    "start_time": "2022-02-12T19:59:11.390Z"
   },
   {
    "duration": 14,
    "start_time": "2022-02-12T19:59:11.944Z"
   },
   {
    "duration": 68,
    "start_time": "2022-02-12T19:59:11.960Z"
   },
   {
    "duration": 498,
    "start_time": "2022-02-12T19:59:12.038Z"
   },
   {
    "duration": 1405,
    "start_time": "2022-02-12T19:59:12.538Z"
   },
   {
    "duration": 14,
    "start_time": "2022-02-12T19:59:13.945Z"
   },
   {
    "duration": 5,
    "start_time": "2022-02-12T19:59:13.960Z"
   },
   {
    "duration": 13,
    "start_time": "2022-02-12T19:59:13.966Z"
   },
   {
    "duration": 4,
    "start_time": "2022-02-12T19:59:13.981Z"
   },
   {
    "duration": 105,
    "start_time": "2022-02-12T20:16:02.109Z"
   },
   {
    "duration": 1710,
    "start_time": "2022-02-12T20:16:07.304Z"
   },
   {
    "duration": 1387,
    "start_time": "2022-02-12T20:18:07.220Z"
   },
   {
    "duration": 1505,
    "start_time": "2022-02-12T20:18:16.065Z"
   },
   {
    "duration": 1494,
    "start_time": "2022-02-12T20:25:11.387Z"
   },
   {
    "duration": 1473,
    "start_time": "2022-02-12T20:25:43.650Z"
   },
   {
    "duration": 1368,
    "start_time": "2022-02-12T20:26:31.490Z"
   },
   {
    "duration": 65,
    "start_time": "2022-02-12T20:26:32.860Z"
   },
   {
    "duration": 54,
    "start_time": "2022-02-12T20:26:32.928Z"
   },
   {
    "duration": 47,
    "start_time": "2022-02-12T20:26:32.983Z"
   },
   {
    "duration": 30,
    "start_time": "2022-02-12T20:26:33.031Z"
   },
   {
    "duration": 24,
    "start_time": "2022-02-12T20:26:33.062Z"
   },
   {
    "duration": 204,
    "start_time": "2022-02-12T20:26:33.088Z"
   },
   {
    "duration": 20,
    "start_time": "2022-02-12T20:26:33.294Z"
   },
   {
    "duration": 97,
    "start_time": "2022-02-12T20:26:33.315Z"
   },
   {
    "duration": 866,
    "start_time": "2022-02-12T20:26:33.413Z"
   },
   {
    "duration": 567,
    "start_time": "2022-02-12T20:26:34.281Z"
   },
   {
    "duration": 706,
    "start_time": "2022-02-12T20:26:34.850Z"
   },
   {
    "duration": 27,
    "start_time": "2022-02-12T20:26:35.557Z"
   },
   {
    "duration": 3,
    "start_time": "2022-02-12T20:26:35.585Z"
   },
   {
    "duration": 497,
    "start_time": "2022-02-12T20:26:35.589Z"
   },
   {
    "duration": 13,
    "start_time": "2022-02-12T20:26:36.087Z"
   },
   {
    "duration": 66,
    "start_time": "2022-02-12T20:26:36.102Z"
   },
   {
    "duration": 433,
    "start_time": "2022-02-12T20:26:36.170Z"
   },
   {
    "duration": 1383,
    "start_time": "2022-02-12T20:26:36.605Z"
   },
   {
    "duration": 16,
    "start_time": "2022-02-12T20:26:37.990Z"
   },
   {
    "duration": 5,
    "start_time": "2022-02-12T20:26:38.007Z"
   },
   {
    "duration": 22,
    "start_time": "2022-02-12T20:26:38.015Z"
   },
   {
    "duration": 5,
    "start_time": "2022-02-12T20:26:38.038Z"
   },
   {
    "duration": 533,
    "start_time": "2022-02-12T21:04:00.126Z"
   },
   {
    "duration": 1432,
    "start_time": "2022-02-12T21:07:30.397Z"
   },
   {
    "duration": 1377,
    "start_time": "2022-02-12T21:07:36.726Z"
   },
   {
    "duration": 1387,
    "start_time": "2022-02-12T21:11:05.723Z"
   },
   {
    "duration": 962,
    "start_time": "2022-02-12T21:12:27.774Z"
   },
   {
    "duration": 1469,
    "start_time": "2022-02-12T21:12:41.399Z"
   },
   {
    "duration": 643,
    "start_time": "2022-02-12T21:16:24.916Z"
   },
   {
    "duration": 63,
    "start_time": "2022-02-12T21:19:08.565Z"
   },
   {
    "duration": 67,
    "start_time": "2022-02-12T21:19:45.430Z"
   },
   {
    "duration": 1412,
    "start_time": "2022-02-12T21:21:51.269Z"
   },
   {
    "duration": 67,
    "start_time": "2022-02-12T21:21:52.682Z"
   },
   {
    "duration": 57,
    "start_time": "2022-02-12T21:21:52.752Z"
   },
   {
    "duration": 49,
    "start_time": "2022-02-12T21:21:52.811Z"
   },
   {
    "duration": 31,
    "start_time": "2022-02-12T21:21:52.861Z"
   },
   {
    "duration": 48,
    "start_time": "2022-02-12T21:21:52.894Z"
   },
   {
    "duration": 195,
    "start_time": "2022-02-12T21:21:52.943Z"
   },
   {
    "duration": 21,
    "start_time": "2022-02-12T21:21:53.140Z"
   },
   {
    "duration": 108,
    "start_time": "2022-02-12T21:21:53.163Z"
   },
   {
    "duration": 946,
    "start_time": "2022-02-12T21:21:53.272Z"
   },
   {
    "duration": 557,
    "start_time": "2022-02-12T21:21:54.220Z"
   },
   {
    "duration": 607,
    "start_time": "2022-02-12T21:21:54.779Z"
   },
   {
    "duration": 39,
    "start_time": "2022-02-12T21:21:55.388Z"
   },
   {
    "duration": 3,
    "start_time": "2022-02-12T21:21:55.428Z"
   },
   {
    "duration": 598,
    "start_time": "2022-02-12T21:21:55.433Z"
   },
   {
    "duration": 14,
    "start_time": "2022-02-12T21:21:56.033Z"
   },
   {
    "duration": 56,
    "start_time": "2022-02-12T21:21:56.048Z"
   },
   {
    "duration": 450,
    "start_time": "2022-02-12T21:21:56.105Z"
   },
   {
    "duration": 1486,
    "start_time": "2022-02-12T21:21:56.557Z"
   },
   {
    "duration": 16,
    "start_time": "2022-02-12T21:21:58.045Z"
   },
   {
    "duration": 6,
    "start_time": "2022-02-12T21:21:58.062Z"
   },
   {
    "duration": 12,
    "start_time": "2022-02-12T21:21:58.070Z"
   },
   {
    "duration": 4,
    "start_time": "2022-02-12T21:21:58.085Z"
   },
   {
    "duration": 1440,
    "start_time": "2022-02-12T21:29:18.839Z"
   },
   {
    "duration": 62,
    "start_time": "2022-02-12T21:29:20.281Z"
   },
   {
    "duration": 54,
    "start_time": "2022-02-12T21:29:20.345Z"
   },
   {
    "duration": 46,
    "start_time": "2022-02-12T21:29:20.401Z"
   },
   {
    "duration": 29,
    "start_time": "2022-02-12T21:29:20.448Z"
   },
   {
    "duration": 50,
    "start_time": "2022-02-12T21:29:20.478Z"
   },
   {
    "duration": 177,
    "start_time": "2022-02-12T21:29:20.530Z"
   },
   {
    "duration": 29,
    "start_time": "2022-02-12T21:29:20.710Z"
   },
   {
    "duration": 94,
    "start_time": "2022-02-12T21:29:20.742Z"
   },
   {
    "duration": 834,
    "start_time": "2022-02-12T21:29:20.837Z"
   },
   {
    "duration": 497,
    "start_time": "2022-02-12T21:29:21.673Z"
   },
   {
    "duration": 612,
    "start_time": "2022-02-12T21:29:22.171Z"
   },
   {
    "duration": 24,
    "start_time": "2022-02-12T21:29:22.785Z"
   },
   {
    "duration": 2,
    "start_time": "2022-02-12T21:29:22.811Z"
   },
   {
    "duration": 559,
    "start_time": "2022-02-12T21:29:22.827Z"
   },
   {
    "duration": 12,
    "start_time": "2022-02-12T21:29:23.388Z"
   },
   {
    "duration": 68,
    "start_time": "2022-02-12T21:29:23.401Z"
   },
   {
    "duration": 423,
    "start_time": "2022-02-12T21:29:23.471Z"
   },
   {
    "duration": 1454,
    "start_time": "2022-02-12T21:29:23.895Z"
   },
   {
    "duration": 14,
    "start_time": "2022-02-12T21:29:25.351Z"
   },
   {
    "duration": 4,
    "start_time": "2022-02-12T21:29:25.366Z"
   },
   {
    "duration": 12,
    "start_time": "2022-02-12T21:29:25.371Z"
   },
   {
    "duration": 4,
    "start_time": "2022-02-12T21:29:25.385Z"
   },
   {
    "duration": 1453,
    "start_time": "2022-02-12T21:33:58.197Z"
   },
   {
    "duration": 1412,
    "start_time": "2022-02-12T21:34:03.275Z"
   },
   {
    "duration": 73,
    "start_time": "2022-02-12T21:34:04.688Z"
   },
   {
    "duration": 74,
    "start_time": "2022-02-12T21:34:04.763Z"
   },
   {
    "duration": 35,
    "start_time": "2022-02-12T21:34:04.838Z"
   },
   {
    "duration": 54,
    "start_time": "2022-02-12T21:34:04.874Z"
   },
   {
    "duration": 25,
    "start_time": "2022-02-12T21:34:04.929Z"
   },
   {
    "duration": 201,
    "start_time": "2022-02-12T21:34:04.956Z"
   },
   {
    "duration": 20,
    "start_time": "2022-02-12T21:34:05.160Z"
   },
   {
    "duration": 106,
    "start_time": "2022-02-12T21:34:05.182Z"
   },
   {
    "duration": 925,
    "start_time": "2022-02-12T21:34:05.290Z"
   },
   {
    "duration": 488,
    "start_time": "2022-02-12T21:34:06.216Z"
   },
   {
    "duration": 626,
    "start_time": "2022-02-12T21:34:06.706Z"
   },
   {
    "duration": 26,
    "start_time": "2022-02-12T21:34:07.333Z"
   },
   {
    "duration": 4,
    "start_time": "2022-02-12T21:34:07.360Z"
   },
   {
    "duration": 542,
    "start_time": "2022-02-12T21:34:07.365Z"
   },
   {
    "duration": 21,
    "start_time": "2022-02-12T21:34:07.909Z"
   },
   {
    "duration": 59,
    "start_time": "2022-02-12T21:34:07.931Z"
   },
   {
    "duration": 448,
    "start_time": "2022-02-12T21:34:07.991Z"
   },
   {
    "duration": 1751,
    "start_time": "2022-02-12T21:34:08.441Z"
   },
   {
    "duration": 14,
    "start_time": "2022-02-12T21:34:10.194Z"
   },
   {
    "duration": 18,
    "start_time": "2022-02-12T21:34:10.210Z"
   },
   {
    "duration": 12,
    "start_time": "2022-02-12T21:34:10.229Z"
   },
   {
    "duration": 5,
    "start_time": "2022-02-12T21:34:10.244Z"
   },
   {
    "duration": 1567,
    "start_time": "2022-02-13T14:21:57.454Z"
   },
   {
    "duration": 84,
    "start_time": "2022-02-13T14:21:59.023Z"
   },
   {
    "duration": 68,
    "start_time": "2022-02-13T14:21:59.109Z"
   },
   {
    "duration": 63,
    "start_time": "2022-02-13T14:21:59.181Z"
   },
   {
    "duration": 69,
    "start_time": "2022-02-13T14:21:59.246Z"
   },
   {
    "duration": 31,
    "start_time": "2022-02-13T14:21:59.317Z"
   },
   {
    "duration": 263,
    "start_time": "2022-02-13T14:21:59.349Z"
   },
   {
    "duration": 26,
    "start_time": "2022-02-13T14:21:59.616Z"
   },
   {
    "duration": 121,
    "start_time": "2022-02-13T14:21:59.645Z"
   },
   {
    "duration": 1162,
    "start_time": "2022-02-13T14:21:59.768Z"
   },
   {
    "duration": 679,
    "start_time": "2022-02-13T14:22:00.932Z"
   },
   {
    "duration": 863,
    "start_time": "2022-02-13T14:22:01.613Z"
   },
   {
    "duration": 44,
    "start_time": "2022-02-13T14:22:02.478Z"
   },
   {
    "duration": 4,
    "start_time": "2022-02-13T14:22:02.524Z"
   },
   {
    "duration": 653,
    "start_time": "2022-02-13T14:22:02.530Z"
   },
   {
    "duration": 26,
    "start_time": "2022-02-13T14:22:03.186Z"
   },
   {
    "duration": 74,
    "start_time": "2022-02-13T14:22:03.214Z"
   },
   {
    "duration": 57102,
    "start_time": "2022-02-13T14:22:03.308Z"
   },
   {
    "duration": 2309,
    "start_time": "2022-02-13T14:23:00.412Z"
   },
   {
    "duration": 794,
    "start_time": "2022-02-13T14:23:02.723Z"
   },
   {
    "duration": 48,
    "start_time": "2022-02-13T14:23:03.519Z"
   },
   {
    "duration": 20,
    "start_time": "2022-02-13T14:23:03.568Z"
   },
   {
    "duration": 61,
    "start_time": "2022-02-13T14:23:03.592Z"
   },
   {
    "duration": 48,
    "start_time": "2022-02-13T14:23:03.655Z"
   },
   {
    "duration": 71,
    "start_time": "2022-04-11T20:58:29.461Z"
   },
   {
    "duration": 2563,
    "start_time": "2022-06-21T19:38:25.206Z"
   },
   {
    "duration": 120,
    "start_time": "2022-06-21T19:38:27.774Z"
   },
   {
    "duration": 97,
    "start_time": "2022-06-21T19:38:27.896Z"
   },
   {
    "duration": 44,
    "start_time": "2022-06-21T19:38:27.998Z"
   },
   {
    "duration": 64,
    "start_time": "2022-06-21T19:38:28.044Z"
   },
   {
    "duration": 81,
    "start_time": "2022-06-21T19:38:28.110Z"
   },
   {
    "duration": 319,
    "start_time": "2022-06-21T19:38:28.197Z"
   },
   {
    "duration": 129,
    "start_time": "2022-06-21T19:38:28.521Z"
   },
   {
    "duration": 0,
    "start_time": "2022-06-21T19:38:28.652Z"
   },
   {
    "duration": 0,
    "start_time": "2022-06-21T19:38:28.653Z"
   },
   {
    "duration": 0,
    "start_time": "2022-06-21T19:38:28.655Z"
   },
   {
    "duration": 0,
    "start_time": "2022-06-21T19:38:28.655Z"
   },
   {
    "duration": 0,
    "start_time": "2022-06-21T19:38:28.657Z"
   },
   {
    "duration": 0,
    "start_time": "2022-06-21T19:38:28.657Z"
   },
   {
    "duration": 0,
    "start_time": "2022-06-21T19:38:28.669Z"
   },
   {
    "duration": 0,
    "start_time": "2022-06-21T19:38:28.670Z"
   },
   {
    "duration": 0,
    "start_time": "2022-06-21T19:38:28.671Z"
   },
   {
    "duration": 0,
    "start_time": "2022-06-21T19:38:28.671Z"
   },
   {
    "duration": 0,
    "start_time": "2022-06-21T19:38:28.672Z"
   },
   {
    "duration": 0,
    "start_time": "2022-06-21T19:38:28.679Z"
   },
   {
    "duration": 0,
    "start_time": "2022-06-21T19:38:28.684Z"
   },
   {
    "duration": 0,
    "start_time": "2022-06-21T19:38:28.689Z"
   },
   {
    "duration": 0,
    "start_time": "2022-06-21T19:38:28.694Z"
   },
   {
    "duration": 0,
    "start_time": "2022-06-21T19:38:28.697Z"
   },
   {
    "duration": 24,
    "start_time": "2022-06-21T19:39:40.039Z"
   },
   {
    "duration": 1561,
    "start_time": "2022-06-21T19:40:14.796Z"
   },
   {
    "duration": 82,
    "start_time": "2022-06-21T19:40:16.358Z"
   },
   {
    "duration": 75,
    "start_time": "2022-06-21T19:40:16.442Z"
   },
   {
    "duration": 71,
    "start_time": "2022-06-21T19:40:16.519Z"
   },
   {
    "duration": 44,
    "start_time": "2022-06-21T19:40:16.597Z"
   },
   {
    "duration": 60,
    "start_time": "2022-06-21T19:40:16.643Z"
   },
   {
    "duration": 257,
    "start_time": "2022-06-21T19:40:16.704Z"
   },
   {
    "duration": 37,
    "start_time": "2022-06-21T19:40:16.968Z"
   },
   {
    "duration": 130,
    "start_time": "2022-06-21T19:40:17.007Z"
   },
   {
    "duration": 919,
    "start_time": "2022-06-21T19:40:17.140Z"
   },
   {
    "duration": 544,
    "start_time": "2022-06-21T19:40:18.060Z"
   },
   {
    "duration": 732,
    "start_time": "2022-06-21T19:40:18.606Z"
   },
   {
    "duration": 55,
    "start_time": "2022-06-21T19:40:19.340Z"
   },
   {
    "duration": 4,
    "start_time": "2022-06-21T19:40:19.399Z"
   },
   {
    "duration": 1345,
    "start_time": "2022-06-21T19:40:19.404Z"
   },
   {
    "duration": 22,
    "start_time": "2022-06-21T19:40:20.751Z"
   },
   {
    "duration": 64,
    "start_time": "2022-06-21T19:40:20.779Z"
   },
   {
    "duration": 56,
    "start_time": "2022-06-21T19:40:20.845Z"
   },
   {
    "duration": 1331,
    "start_time": "2022-06-21T19:40:20.903Z"
   },
   {
    "duration": 488,
    "start_time": "2022-06-21T19:40:22.235Z"
   },
   {
    "duration": 15,
    "start_time": "2022-06-21T19:40:22.725Z"
   },
   {
    "duration": 6,
    "start_time": "2022-06-21T19:40:22.741Z"
   },
   {
    "duration": 112,
    "start_time": "2022-06-21T19:40:22.771Z"
   },
   {
    "duration": 22,
    "start_time": "2022-06-21T19:40:22.886Z"
   },
   {
    "duration": 1809,
    "start_time": "2022-06-21T19:41:08.441Z"
   },
   {
    "duration": 101,
    "start_time": "2022-06-21T19:41:10.254Z"
   },
   {
    "duration": 85,
    "start_time": "2022-06-21T19:41:10.357Z"
   },
   {
    "duration": 67,
    "start_time": "2022-06-21T19:41:10.444Z"
   },
   {
    "duration": 43,
    "start_time": "2022-06-21T19:41:10.513Z"
   },
   {
    "duration": 57,
    "start_time": "2022-06-21T19:41:10.557Z"
   },
   {
    "duration": 298,
    "start_time": "2022-06-21T19:41:10.617Z"
   },
   {
    "duration": 27,
    "start_time": "2022-06-21T19:41:10.917Z"
   },
   {
    "duration": 165,
    "start_time": "2022-06-21T19:41:10.945Z"
   },
   {
    "duration": 948,
    "start_time": "2022-06-21T19:41:11.114Z"
   },
   {
    "duration": 569,
    "start_time": "2022-06-21T19:41:12.063Z"
   },
   {
    "duration": 694,
    "start_time": "2022-06-21T19:41:12.634Z"
   },
   {
    "duration": 29,
    "start_time": "2022-06-21T19:41:13.329Z"
   },
   {
    "duration": 29,
    "start_time": "2022-06-21T19:41:13.360Z"
   },
   {
    "duration": 1521,
    "start_time": "2022-06-21T19:41:13.390Z"
   },
   {
    "duration": 17,
    "start_time": "2022-06-21T19:41:14.913Z"
   },
   {
    "duration": 90,
    "start_time": "2022-06-21T19:41:14.932Z"
   },
   {
    "duration": 64,
    "start_time": "2022-06-21T19:41:15.024Z"
   },
   {
    "duration": 1449,
    "start_time": "2022-06-21T19:41:15.091Z"
   },
   {
    "duration": 519,
    "start_time": "2022-06-21T19:41:16.542Z"
   },
   {
    "duration": 33,
    "start_time": "2022-06-21T19:41:17.068Z"
   },
   {
    "duration": 5,
    "start_time": "2022-06-21T19:41:17.103Z"
   },
   {
    "duration": 105,
    "start_time": "2022-06-21T19:41:17.110Z"
   },
   {
    "duration": 5,
    "start_time": "2022-06-21T19:41:17.217Z"
   }
  ],
  "kernelspec": {
   "display_name": "Python 3 (ipykernel)",
   "language": "python",
   "name": "python3"
  },
  "language_info": {
   "codemirror_mode": {
    "name": "ipython",
    "version": 3
   },
   "file_extension": ".py",
   "mimetype": "text/x-python",
   "name": "python",
   "nbconvert_exporter": "python",
   "pygments_lexer": "ipython3",
   "version": "3.9.5"
  },
  "toc": {
   "base_numbering": 1,
   "nav_menu": {},
   "number_sections": true,
   "sideBar": true,
   "skip_h1_title": true,
   "title_cell": "Table of Contents",
   "title_sidebar": "Contents",
   "toc_cell": false,
   "toc_position": {},
   "toc_section_display": true,
   "toc_window_display": false
  }
 },
 "nbformat": 4,
 "nbformat_minor": 2
}
