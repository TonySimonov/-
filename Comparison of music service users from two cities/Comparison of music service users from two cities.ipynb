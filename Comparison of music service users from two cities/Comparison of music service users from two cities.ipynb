{
 "cells": [
  {
   "cell_type": "markdown",
   "metadata": {
    "id": "E0vqbgi9ay0H"
   },
   "source": [
    "# Сравнение пользователей музыкального сервиса из двух городов "
   ]
  },
  {
   "cell_type": "markdown",
   "metadata": {},
   "source": [
    "# Содержание\n",
    "\n",
    "Часть 1. Описание проекта.<br>\n",
    "\n",
    "* 1. Описание исследования\n",
    "* 2. Цель исследования\n",
    "\n",
    "Часть 2. Предобработка данных.<br>\n",
    "\n",
    "* 1. Изучение данных\n",
    "* 2. Исправление заголовков\n",
    "* 3. Обработка пропусков\n",
    "* 4. Обработка дубликатов\n",
    "\n",
    "Часть 3. Проверка гипотез.<br>\n",
    "\n",
    "* 1. Сравнение поведения пользователей двух столиц\n",
    "* 2. Музыка в начале и в конце недели\n",
    "* 3. Жанровые предпочтения в Москве и Петербурге\n",
    "\n",
    "Часть 4. Выводы.<br>\n",
    "\n",
    "* 1. Общий вывод по работе"
   ]
  },
  {
   "cell_type": "markdown",
   "metadata": {},
   "source": [
    "## Часть. Описание проекта\n",
    "### Описание исследования\n",
    "Сравнение Москвы и Петербурга окружено мифами. Например:\n",
    " * Москва — мегаполис, подчинённый жёсткому ритму рабочей недели;\n",
    " * Петербург — культурная столица, со своими вкусами.\n",
    "\n",
    "На основе предложенных данных проводится сравнение поведения пользователей двух столиц.\n",
    "\n",
    "О качестве данных ничего не известно, поэтому перед проверкой гипотез необходимо провести обзор данных:\n",
    "1) Проверить данные на ошибки и оценить их влияние на исследование.<br>\n",
    "2) На этапе предобработки найти способы исправить самые критичные ошибки данных.\n",
    "\n",
    "### Цель исследования:\n",
    "Проверить три гипотезы:\n",
    "1. Активность пользователей зависит от дня недели, причём в Москве и Петербурге это проявляется по-разному.\n",
    "2. В понедельник утром в Москве преобладают одни жанры, а в Петербурге — другие. Так же и вечером пятницы преобладают разные жанры — в зависимости от города.\n",
    "3. Москва и Петербург предпочитают разные жанры музыки. В Москве чаще слушают поп-музыку, в Петербурге — русский рэп."
   ]
  },
  {
   "cell_type": "markdown",
   "metadata": {
    "id": "Ml1hmfXC_Zcs"
   },
   "source": [
    "## Часть. Предобработка данных\n",
    "### Изучение данных"
   ]
  },
  {
   "cell_type": "code",
   "execution_count": 1,
   "metadata": {
    "id": "AXN7PHPN_Zcs"
   },
   "outputs": [],
   "source": [
    "# Импорт библиотеки pandas\n",
    "import pandas as pd "
   ]
  },
  {
   "cell_type": "code",
   "execution_count": 2,
   "metadata": {
    "id": "fFVu7vqh_Zct"
   },
   "outputs": [],
   "source": [
    "# Чтение файла с данными и сохранение в df\n",
    "df = pd.read_csv('/datasets/yandex_music_project.csv')"
   ]
  },
  {
   "cell_type": "code",
   "execution_count": 3,
   "metadata": {
    "id": "oWTVX3gW_Zct",
    "scrolled": true
   },
   "outputs": [
    {
     "data": {
      "text/html": [
       "<div>\n",
       "<style scoped>\n",
       "    .dataframe tbody tr th:only-of-type {\n",
       "        vertical-align: middle;\n",
       "    }\n",
       "\n",
       "    .dataframe tbody tr th {\n",
       "        vertical-align: top;\n",
       "    }\n",
       "\n",
       "    .dataframe thead th {\n",
       "        text-align: right;\n",
       "    }\n",
       "</style>\n",
       "<table border=\"1\" class=\"dataframe\">\n",
       "  <thead>\n",
       "    <tr style=\"text-align: right;\">\n",
       "      <th></th>\n",
       "      <th>userID</th>\n",
       "      <th>Track</th>\n",
       "      <th>artist</th>\n",
       "      <th>genre</th>\n",
       "      <th>City</th>\n",
       "      <th>time</th>\n",
       "      <th>Day</th>\n",
       "    </tr>\n",
       "  </thead>\n",
       "  <tbody>\n",
       "    <tr>\n",
       "      <th>0</th>\n",
       "      <td>FFB692EC</td>\n",
       "      <td>Kamigata To Boots</td>\n",
       "      <td>The Mass Missile</td>\n",
       "      <td>rock</td>\n",
       "      <td>Saint-Petersburg</td>\n",
       "      <td>20:28:33</td>\n",
       "      <td>Wednesday</td>\n",
       "    </tr>\n",
       "    <tr>\n",
       "      <th>1</th>\n",
       "      <td>55204538</td>\n",
       "      <td>Delayed Because of Accident</td>\n",
       "      <td>Andreas Rönnberg</td>\n",
       "      <td>rock</td>\n",
       "      <td>Moscow</td>\n",
       "      <td>14:07:09</td>\n",
       "      <td>Friday</td>\n",
       "    </tr>\n",
       "    <tr>\n",
       "      <th>2</th>\n",
       "      <td>20EC38</td>\n",
       "      <td>Funiculì funiculà</td>\n",
       "      <td>Mario Lanza</td>\n",
       "      <td>pop</td>\n",
       "      <td>Saint-Petersburg</td>\n",
       "      <td>20:58:07</td>\n",
       "      <td>Wednesday</td>\n",
       "    </tr>\n",
       "    <tr>\n",
       "      <th>3</th>\n",
       "      <td>A3DD03C9</td>\n",
       "      <td>Dragons in the Sunset</td>\n",
       "      <td>Fire + Ice</td>\n",
       "      <td>folk</td>\n",
       "      <td>Saint-Petersburg</td>\n",
       "      <td>08:37:09</td>\n",
       "      <td>Monday</td>\n",
       "    </tr>\n",
       "    <tr>\n",
       "      <th>4</th>\n",
       "      <td>E2DC1FAE</td>\n",
       "      <td>Soul People</td>\n",
       "      <td>Space Echo</td>\n",
       "      <td>dance</td>\n",
       "      <td>Moscow</td>\n",
       "      <td>08:34:34</td>\n",
       "      <td>Monday</td>\n",
       "    </tr>\n",
       "    <tr>\n",
       "      <th>5</th>\n",
       "      <td>842029A1</td>\n",
       "      <td>Преданная</td>\n",
       "      <td>IMPERVTOR</td>\n",
       "      <td>rusrap</td>\n",
       "      <td>Saint-Petersburg</td>\n",
       "      <td>13:09:41</td>\n",
       "      <td>Friday</td>\n",
       "    </tr>\n",
       "    <tr>\n",
       "      <th>6</th>\n",
       "      <td>4CB90AA5</td>\n",
       "      <td>True</td>\n",
       "      <td>Roman Messer</td>\n",
       "      <td>dance</td>\n",
       "      <td>Moscow</td>\n",
       "      <td>13:00:07</td>\n",
       "      <td>Wednesday</td>\n",
       "    </tr>\n",
       "    <tr>\n",
       "      <th>7</th>\n",
       "      <td>F03E1C1F</td>\n",
       "      <td>Feeling This Way</td>\n",
       "      <td>Polina Griffith</td>\n",
       "      <td>dance</td>\n",
       "      <td>Moscow</td>\n",
       "      <td>20:47:49</td>\n",
       "      <td>Wednesday</td>\n",
       "    </tr>\n",
       "    <tr>\n",
       "      <th>8</th>\n",
       "      <td>8FA1D3BE</td>\n",
       "      <td>И вновь продолжается бой</td>\n",
       "      <td>NaN</td>\n",
       "      <td>ruspop</td>\n",
       "      <td>Moscow</td>\n",
       "      <td>09:17:40</td>\n",
       "      <td>Friday</td>\n",
       "    </tr>\n",
       "    <tr>\n",
       "      <th>9</th>\n",
       "      <td>E772D5C0</td>\n",
       "      <td>Pessimist</td>\n",
       "      <td>NaN</td>\n",
       "      <td>dance</td>\n",
       "      <td>Saint-Petersburg</td>\n",
       "      <td>21:20:49</td>\n",
       "      <td>Wednesday</td>\n",
       "    </tr>\n",
       "  </tbody>\n",
       "</table>\n",
       "</div>"
      ],
      "text/plain": [
       "     userID                        Track            artist   genre  \\\n",
       "0  FFB692EC            Kamigata To Boots  The Mass Missile    rock   \n",
       "1  55204538  Delayed Because of Accident  Andreas Rönnberg    rock   \n",
       "2    20EC38            Funiculì funiculà       Mario Lanza     pop   \n",
       "3  A3DD03C9        Dragons in the Sunset        Fire + Ice    folk   \n",
       "4  E2DC1FAE                  Soul People        Space Echo   dance   \n",
       "5  842029A1                    Преданная         IMPERVTOR  rusrap   \n",
       "6  4CB90AA5                         True      Roman Messer   dance   \n",
       "7  F03E1C1F             Feeling This Way   Polina Griffith   dance   \n",
       "8  8FA1D3BE     И вновь продолжается бой               NaN  ruspop   \n",
       "9  E772D5C0                    Pessimist               NaN   dance   \n",
       "\n",
       "             City        time        Day  \n",
       "0  Saint-Petersburg  20:28:33  Wednesday  \n",
       "1            Moscow  14:07:09     Friday  \n",
       "2  Saint-Petersburg  20:58:07  Wednesday  \n",
       "3  Saint-Petersburg  08:37:09     Monday  \n",
       "4            Moscow  08:34:34     Monday  \n",
       "5  Saint-Petersburg  13:09:41     Friday  \n",
       "6            Moscow  13:00:07  Wednesday  \n",
       "7            Moscow  20:47:49  Wednesday  \n",
       "8            Moscow  09:17:40     Friday  \n",
       "9  Saint-Petersburg  21:20:49  Wednesday  "
      ]
     },
     "metadata": {},
     "output_type": "display_data"
    }
   ],
   "source": [
    "# Получение первых 10 строк таблицы df\n",
    "display(df.head(10))"
   ]
  },
  {
   "cell_type": "code",
   "execution_count": 4,
   "metadata": {
    "id": "DSf2kIb-_Zct"
   },
   "outputs": [
    {
     "name": "stdout",
     "output_type": "stream",
     "text": [
      "<class 'pandas.core.frame.DataFrame'>\n",
      "RangeIndex: 65079 entries, 0 to 65078\n",
      "Data columns (total 7 columns):\n",
      " #   Column    Non-Null Count  Dtype \n",
      "---  ------    --------------  ----- \n",
      " 0     userID  65079 non-null  object\n",
      " 1   Track     63848 non-null  object\n",
      " 2   artist    57876 non-null  object\n",
      " 3   genre     63881 non-null  object\n",
      " 4     City    65079 non-null  object\n",
      " 5   time      65079 non-null  object\n",
      " 6   Day       65079 non-null  object\n",
      "dtypes: object(7)\n",
      "memory usage: 3.5+ MB\n"
     ]
    }
   ],
   "source": [
    "# Получение общей информации о данных в таблице df\n",
    "df.info() "
   ]
  },
  {
   "cell_type": "markdown",
   "metadata": {
    "id": "TaQ2Iwbr_Zct"
   },
   "source": [
    "В таблице семь столбцов. Тип данных во всех столбцах — `object`.\n",
    "\n",
    "Согласно документации к данным:\n",
    "* `userID` — идентификатор пользователя;\n",
    "* `Track` — название трека;  \n",
    "* `artist` — имя исполнителя;\n",
    "* `genre` — название жанра;\n",
    "* `City` — город пользователя;\n",
    "* `time` — время начала прослушивания;\n",
    "* `Day` — день недели.\n",
    "\n",
    "В названиях колонок видны три нарушения стиля:\n",
    "1. строчные буквы сочетаются с прописными\n",
    "2. встречаются пробелы\n",
    "3. встречается \"верблюжий регистр\"\n",
    "\n",
    "Количество значений в столбцах различается, значит, в данных есть пропущенные значения."
   ]
  },
  {
   "cell_type": "markdown",
   "metadata": {
    "id": "MCB6-dXG_Zct"
   },
   "source": [
    "**Выводы**\n",
    "\n",
    "В каждой строке таблицы — данные о прослушанном треке. Часть колонок описывает саму композицию: название, исполнителя и жанр. Остальные данные рассказывают о пользователе: из какого он города, когда он слушал музыку. \n",
    "\n",
    "Предварительно можно утверждать, что, данных достаточно для проверки гипотез. Но встречаются пропуски в данных, а в названиях колонок — расхождения с хорошим стилем.\n",
    "\n",
    "Чтобы двигаться дальше, нужно устранить проблемы в данных."
   ]
  },
  {
   "cell_type": "markdown",
   "metadata": {
    "id": "dIaKXr29_Zct"
   },
   "source": [
    "### Исправление заголовков"
   ]
  },
  {
   "cell_type": "code",
   "execution_count": 5,
   "metadata": {
    "id": "oKOTdF_Q_Zct"
   },
   "outputs": [
    {
     "data": {
      "text/plain": [
       "Index(['  userID', 'Track', 'artist', 'genre', '  City  ', 'time', 'Day'], dtype='object')"
      ]
     },
     "execution_count": 5,
     "metadata": {},
     "output_type": "execute_result"
    }
   ],
   "source": [
    "# Перечень названий столбцов таблицы df\n",
    "df.columns "
   ]
  },
  {
   "cell_type": "code",
   "execution_count": 6,
   "metadata": {
    "id": "ISlFqs5y_Zct"
   },
   "outputs": [],
   "source": [
    "# Переименование столбцов\n",
    "df = df.rename(columns={'  userID': 'user_id', 'Track': 'track', '  City  ': 'city', 'Day': 'day'}) "
   ]
  },
  {
   "cell_type": "markdown",
   "metadata": {
    "id": "1dqbh00J_Zct"
   },
   "source": [
    "Проверка результата."
   ]
  },
  {
   "cell_type": "code",
   "execution_count": 7,
   "metadata": {
    "id": "d4NOAmTW_Zct"
   },
   "outputs": [
    {
     "data": {
      "text/plain": [
       "Index(['user_id', 'track', 'artist', 'genre', 'city', 'time', 'day'], dtype='object')"
      ]
     },
     "execution_count": 7,
     "metadata": {},
     "output_type": "execute_result"
    }
   ],
   "source": [
    "# Проверка результата - перечень названий столбцов\n",
    "df.columns "
   ]
  },
  {
   "cell_type": "markdown",
   "metadata": {
    "id": "5ISfbcfY_Zct"
   },
   "source": [
    "### Обработка пропусков\n",
    "Для начала стоит рассчитать количество пропущенных значений в таблице."
   ]
  },
  {
   "cell_type": "code",
   "execution_count": 8,
   "metadata": {
    "id": "RskX29qr_Zct"
   },
   "outputs": [
    {
     "data": {
      "text/plain": [
       "user_id       0\n",
       "track      1231\n",
       "artist     7203\n",
       "genre      1198\n",
       "city          0\n",
       "time          0\n",
       "day           0\n",
       "dtype: int64"
      ]
     },
     "execution_count": 8,
     "metadata": {},
     "output_type": "execute_result"
    }
   ],
   "source": [
    "# Подсчёт пропусков\n",
    "df.isna().sum() "
   ]
  },
  {
   "cell_type": "markdown",
   "metadata": {
    "id": "qubhgnlO_Zct"
   },
   "source": [
    "Не все пропущенные значения влияют на исследование, так в `track` и `artist` пропуски не важны для вашей работы, достаточно заменить их явными обозначениями.\n",
    "\n",
    "Но пропуски в `genre` могут помешать сравнению музыкальных вкусов в Москве и Санкт-Петербурге, для этого придётся сделать следующее:\n",
    "* заполнить и эти пропуски явными обозначениями\n",
    "* оценить, насколько они повредят расчётам. "
   ]
  },
  {
   "cell_type": "markdown",
   "metadata": {
    "id": "fSv2laPA_Zct"
   },
   "source": [
    "Для замены значений в столбцах `track`, `artist` и `genre` создается список `columns_to_replace`, в который входят названия этих столбцов, все его элементы перебераются циклом `for` и для каждого столбца выполняется замена пропущенных значений на строку `'unknown'`."
   ]
  },
  {
   "cell_type": "code",
   "execution_count": 9,
   "metadata": {
    "id": "KplB5qWs_Zct"
   },
   "outputs": [],
   "source": [
    "# Названия столбцов, для замены значений\n",
    "columns_to_replace = ['track', 'artist', 'genre'] \n",
    "# Перебор названий столбцов в цикле и замена пропущенных значений на 'unknown'\n",
    "for column in columns_to_replace:\n",
    "    df[column] = df[column].fillna('unknown')"
   ]
  },
  {
   "cell_type": "markdown",
   "metadata": {
    "id": "Ilsm-MZo_Zct"
   },
   "source": [
    "Проверка результата."
   ]
  },
  {
   "cell_type": "code",
   "execution_count": 10,
   "metadata": {
    "id": "Tq4nYRX4_Zct"
   },
   "outputs": [
    {
     "data": {
      "text/plain": [
       "user_id    0\n",
       "track      0\n",
       "artist     0\n",
       "genre      0\n",
       "city       0\n",
       "time       0\n",
       "day        0\n",
       "dtype: int64"
      ]
     },
     "execution_count": 10,
     "metadata": {},
     "output_type": "execute_result"
    }
   ],
   "source": [
    "# Подсчёт пропусков\n",
    "df.isna().sum() "
   ]
  },
  {
   "cell_type": "markdown",
   "metadata": {
    "id": "BWKRtBJ3_Zct"
   },
   "source": [
    "### Обработка дубликатов\n",
    "Стоит рассчитать количество дубликатов в таблице."
   ]
  },
  {
   "cell_type": "code",
   "execution_count": 11,
   "metadata": {
    "id": "36eES_S0_Zct"
   },
   "outputs": [
    {
     "data": {
      "text/plain": [
       "3826"
      ]
     },
     "execution_count": 11,
     "metadata": {},
     "output_type": "execute_result"
    }
   ],
   "source": [
    "# Подсчёт явных дубликатов\n",
    "df.duplicated().sum() "
   ]
  },
  {
   "cell_type": "code",
   "execution_count": 12,
   "metadata": {
    "id": "exFHq6tt_Zct"
   },
   "outputs": [],
   "source": [
    "# Удаление явных дубликатов (с удалением старых индексов и формированием новых)\n",
    "df = df.drop_duplicates().reset_index(drop=True) "
   ]
  },
  {
   "cell_type": "markdown",
   "metadata": {
    "id": "Im2YwBEG_Zct"
   },
   "source": [
    "Проверка результата."
   ]
  },
  {
   "cell_type": "code",
   "execution_count": 13,
   "metadata": {
    "id": "-8PuNWQ0_Zct"
   },
   "outputs": [
    {
     "data": {
      "text/plain": [
       "0"
      ]
     },
     "execution_count": 13,
     "metadata": {},
     "output_type": "execute_result"
    }
   ],
   "source": [
    "# Проверка на отсутствие дубликатов\n",
    "df.duplicated().sum()"
   ]
  },
  {
   "cell_type": "markdown",
   "metadata": {
    "id": "QlFBsxAr_Zct"
   },
   "source": [
    "Также стоит избавиться от неявных дубликатов в колонке `genre`. Например, название одного и того же жанра может быть записано немного по-разному. Такие ошибки тоже повлияют на результат исследования. Для этого на экран выводится список уникальных названий жанров, отсортированный в алфавитном порядке."
   ]
  },
  {
   "cell_type": "code",
   "execution_count": 14,
   "metadata": {
    "id": "JIUcqzZN_Zct"
   },
   "outputs": [
    {
     "data": {
      "text/plain": [
       "array(['acid', 'acoustic', 'action', 'adult', 'africa', 'afrikaans',\n",
       "       'alternative', 'alternativepunk', 'ambient', 'americana',\n",
       "       'animated', 'anime', 'arabesk', 'arabic', 'arena',\n",
       "       'argentinetango', 'art', 'audiobook', 'author', 'avantgarde',\n",
       "       'axé', 'baile', 'balkan', 'beats', 'bigroom', 'black', 'bluegrass',\n",
       "       'blues', 'bollywood', 'bossa', 'brazilian', 'breakbeat', 'breaks',\n",
       "       'broadway', 'cantautori', 'cantopop', 'canzone', 'caribbean',\n",
       "       'caucasian', 'celtic', 'chamber', 'chanson', 'children', 'chill',\n",
       "       'chinese', 'choral', 'christian', 'christmas', 'classical',\n",
       "       'classicmetal', 'club', 'colombian', 'comedy', 'conjazz',\n",
       "       'contemporary', 'country', 'cuban', 'dance', 'dancehall',\n",
       "       'dancepop', 'dark', 'death', 'deep', 'deutschrock', 'deutschspr',\n",
       "       'dirty', 'disco', 'dnb', 'documentary', 'downbeat', 'downtempo',\n",
       "       'drum', 'dub', 'dubstep', 'eastern', 'easy', 'electronic',\n",
       "       'electropop', 'emo', 'entehno', 'epicmetal', 'estrada', 'ethnic',\n",
       "       'eurofolk', 'european', 'experimental', 'extrememetal', 'fado',\n",
       "       'fairytail', 'film', 'fitness', 'flamenco', 'folk', 'folklore',\n",
       "       'folkmetal', 'folkrock', 'folktronica', 'forró', 'frankreich',\n",
       "       'französisch', 'french', 'funk', 'future', 'gangsta', 'garage',\n",
       "       'german', 'ghazal', 'gitarre', 'glitch', 'gospel', 'gothic',\n",
       "       'grime', 'grunge', 'gypsy', 'handsup', \"hard'n'heavy\", 'hardcore',\n",
       "       'hardstyle', 'hardtechno', 'hip', 'hip-hop', 'hiphop',\n",
       "       'historisch', 'holiday', 'hop', 'horror', 'house', 'hymn', 'idm',\n",
       "       'independent', 'indian', 'indie', 'indipop', 'industrial',\n",
       "       'inspirational', 'instrumental', 'international', 'irish', 'jam',\n",
       "       'japanese', 'jazz', 'jewish', 'jpop', 'jungle', 'k-pop',\n",
       "       'karadeniz', 'karaoke', 'kayokyoku', 'korean', 'laiko', 'latin',\n",
       "       'latino', 'leftfield', 'local', 'lounge', 'loungeelectronic',\n",
       "       'lovers', 'malaysian', 'mandopop', 'marschmusik', 'meditative',\n",
       "       'mediterranean', 'melodic', 'metal', 'metalcore', 'mexican',\n",
       "       'middle', 'minimal', 'miscellaneous', 'modern', 'mood', 'mpb',\n",
       "       'muslim', 'native', 'neoklassik', 'neue', 'new', 'newage',\n",
       "       'newwave', 'nu', 'nujazz', 'numetal', 'oceania', 'old', 'opera',\n",
       "       'orchestral', 'other', 'piano', 'podcasts', 'pop', 'popdance',\n",
       "       'popelectronic', 'popeurodance', 'poprussian', 'post',\n",
       "       'posthardcore', 'postrock', 'power', 'progmetal', 'progressive',\n",
       "       'psychedelic', 'punjabi', 'punk', 'quebecois', 'ragga', 'ram',\n",
       "       'rancheras', 'rap', 'rave', 'reggae', 'reggaeton', 'regional',\n",
       "       'relax', 'religious', 'retro', 'rhythm', 'rnb', 'rnr', 'rock',\n",
       "       'rockabilly', 'rockalternative', 'rockindie', 'rockother',\n",
       "       'romance', 'roots', 'ruspop', 'rusrap', 'rusrock', 'russian',\n",
       "       'salsa', 'samba', 'scenic', 'schlager', 'self', 'sertanejo',\n",
       "       'shanson', 'shoegazing', 'showtunes', 'singer', 'ska', 'skarock',\n",
       "       'slow', 'smooth', 'soft', 'soul', 'soulful', 'sound', 'soundtrack',\n",
       "       'southern', 'specialty', 'speech', 'spiritual', 'sport',\n",
       "       'stonerrock', 'surf', 'swing', 'synthpop', 'synthrock',\n",
       "       'sängerportrait', 'tango', 'tanzorchester', 'taraftar', 'tatar',\n",
       "       'tech', 'techno', 'teen', 'thrash', 'top', 'traditional',\n",
       "       'tradjazz', 'trance', 'tribal', 'trip', 'triphop', 'tropical',\n",
       "       'türk', 'türkçe', 'ukrrock', 'unknown', 'urban', 'uzbek',\n",
       "       'variété', 'vi', 'videogame', 'vocal', 'western', 'world',\n",
       "       'worldbeat', 'ïîï', 'электроника'], dtype=object)"
      ]
     },
     "execution_count": 14,
     "metadata": {},
     "output_type": "execute_result"
    }
   ],
   "source": [
    "# Просмотр уникальных названий жанров\n",
    "df['genre'].sort_values().unique() "
   ]
  },
  {
   "cell_type": "markdown",
   "metadata": {
    "id": "qej-Qmuo_Zct"
   },
   "source": [
    "При просмотре списка найдены неявные дубликаты названия `hiphop`, возможно это названия с ошибками или альтернативные названия жанра:\n",
    "* *hip*\n",
    "* *hop*\n",
    "* *hip-hop*\n",
    "\n",
    "Чтобы очистить от них таблицу, можно написать функцию `replace_wrong_genres()` с двумя параметрами: \n",
    "* `wrong_genres` — список дубликатов\n",
    "* `correct_genre` — строка с правильным значением\n",
    "\n",
    "Функция должна исправить колонку `genre` в таблице `df`: заменить каждое значение из списка `wrong_genres` на значение из `correct_genre`."
   ]
  },
  {
   "cell_type": "code",
   "execution_count": 15,
   "metadata": {
    "id": "ErNDkmns_Zct"
   },
   "outputs": [],
   "source": [
    "# Функция для замены неявных дубликатов\n",
    "def replace_wrong_genres(wrong_genres, correct_genre):\n",
    "    for wrong_genre in wrong_genres:\n",
    "        df['genre'] = df['genre'].replace(wrong_genre, correct_genre)"
   ]
  },
  {
   "cell_type": "markdown",
   "metadata": {
    "id": "aDoBJxbA_Zct"
   },
   "source": [
    "Далее идет применение функции `replace_wrong_genres()` для устранения неявных дубликатов: вместо `hip`, `hop` и `hip-hop` в таблице должно быть значение `hiphop`."
   ]
  },
  {
   "cell_type": "code",
   "execution_count": 16,
   "metadata": {
    "id": "YN5i2hpmSo09"
   },
   "outputs": [],
   "source": [
    "# Устранение неявных дубликатов\n",
    "duplicates = ['hip', 'hop', 'hip-hop']\n",
    "correct = 'hiphop'\n",
    "\n",
    "replace_wrong_genres(duplicates, correct)"
   ]
  },
  {
   "cell_type": "markdown",
   "metadata": {
    "id": "zQKF16_RG15m"
   },
   "source": [
    "Вывод отсортированного список уникальных значений столбца `genre`, для проверки результата."
   ]
  },
  {
   "cell_type": "code",
   "execution_count": 17,
   "metadata": {
    "id": "wvixALnFG15m"
   },
   "outputs": [
    {
     "data": {
      "text/plain": [
       "array(['acid', 'acoustic', 'action', 'adult', 'africa', 'afrikaans',\n",
       "       'alternative', 'alternativepunk', 'ambient', 'americana',\n",
       "       'animated', 'anime', 'arabesk', 'arabic', 'arena',\n",
       "       'argentinetango', 'art', 'audiobook', 'author', 'avantgarde',\n",
       "       'axé', 'baile', 'balkan', 'beats', 'bigroom', 'black', 'bluegrass',\n",
       "       'blues', 'bollywood', 'bossa', 'brazilian', 'breakbeat', 'breaks',\n",
       "       'broadway', 'cantautori', 'cantopop', 'canzone', 'caribbean',\n",
       "       'caucasian', 'celtic', 'chamber', 'chanson', 'children', 'chill',\n",
       "       'chinese', 'choral', 'christian', 'christmas', 'classical',\n",
       "       'classicmetal', 'club', 'colombian', 'comedy', 'conjazz',\n",
       "       'contemporary', 'country', 'cuban', 'dance', 'dancehall',\n",
       "       'dancepop', 'dark', 'death', 'deep', 'deutschrock', 'deutschspr',\n",
       "       'dirty', 'disco', 'dnb', 'documentary', 'downbeat', 'downtempo',\n",
       "       'drum', 'dub', 'dubstep', 'eastern', 'easy', 'electronic',\n",
       "       'electropop', 'emo', 'entehno', 'epicmetal', 'estrada', 'ethnic',\n",
       "       'eurofolk', 'european', 'experimental', 'extrememetal', 'fado',\n",
       "       'fairytail', 'film', 'fitness', 'flamenco', 'folk', 'folklore',\n",
       "       'folkmetal', 'folkrock', 'folktronica', 'forró', 'frankreich',\n",
       "       'französisch', 'french', 'funk', 'future', 'gangsta', 'garage',\n",
       "       'german', 'ghazal', 'gitarre', 'glitch', 'gospel', 'gothic',\n",
       "       'grime', 'grunge', 'gypsy', 'handsup', \"hard'n'heavy\", 'hardcore',\n",
       "       'hardstyle', 'hardtechno', 'hiphop', 'historisch', 'holiday',\n",
       "       'horror', 'house', 'hymn', 'idm', 'independent', 'indian', 'indie',\n",
       "       'indipop', 'industrial', 'inspirational', 'instrumental',\n",
       "       'international', 'irish', 'jam', 'japanese', 'jazz', 'jewish',\n",
       "       'jpop', 'jungle', 'k-pop', 'karadeniz', 'karaoke', 'kayokyoku',\n",
       "       'korean', 'laiko', 'latin', 'latino', 'leftfield', 'local',\n",
       "       'lounge', 'loungeelectronic', 'lovers', 'malaysian', 'mandopop',\n",
       "       'marschmusik', 'meditative', 'mediterranean', 'melodic', 'metal',\n",
       "       'metalcore', 'mexican', 'middle', 'minimal', 'miscellaneous',\n",
       "       'modern', 'mood', 'mpb', 'muslim', 'native', 'neoklassik', 'neue',\n",
       "       'new', 'newage', 'newwave', 'nu', 'nujazz', 'numetal', 'oceania',\n",
       "       'old', 'opera', 'orchestral', 'other', 'piano', 'podcasts', 'pop',\n",
       "       'popdance', 'popelectronic', 'popeurodance', 'poprussian', 'post',\n",
       "       'posthardcore', 'postrock', 'power', 'progmetal', 'progressive',\n",
       "       'psychedelic', 'punjabi', 'punk', 'quebecois', 'ragga', 'ram',\n",
       "       'rancheras', 'rap', 'rave', 'reggae', 'reggaeton', 'regional',\n",
       "       'relax', 'religious', 'retro', 'rhythm', 'rnb', 'rnr', 'rock',\n",
       "       'rockabilly', 'rockalternative', 'rockindie', 'rockother',\n",
       "       'romance', 'roots', 'ruspop', 'rusrap', 'rusrock', 'russian',\n",
       "       'salsa', 'samba', 'scenic', 'schlager', 'self', 'sertanejo',\n",
       "       'shanson', 'shoegazing', 'showtunes', 'singer', 'ska', 'skarock',\n",
       "       'slow', 'smooth', 'soft', 'soul', 'soulful', 'sound', 'soundtrack',\n",
       "       'southern', 'specialty', 'speech', 'spiritual', 'sport',\n",
       "       'stonerrock', 'surf', 'swing', 'synthpop', 'synthrock',\n",
       "       'sängerportrait', 'tango', 'tanzorchester', 'taraftar', 'tatar',\n",
       "       'tech', 'techno', 'teen', 'thrash', 'top', 'traditional',\n",
       "       'tradjazz', 'trance', 'tribal', 'trip', 'triphop', 'tropical',\n",
       "       'türk', 'türkçe', 'ukrrock', 'unknown', 'urban', 'uzbek',\n",
       "       'variété', 'vi', 'videogame', 'vocal', 'western', 'world',\n",
       "       'worldbeat', 'ïîï', 'электроника'], dtype=object)"
      ]
     },
     "execution_count": 17,
     "metadata": {},
     "output_type": "execute_result"
    }
   ],
   "source": [
    "# Проверка на неявные дубликаты\n",
    "df['genre'].sort_values().unique() "
   ]
  },
  {
   "cell_type": "markdown",
   "metadata": {
    "id": "jz6a9-7HQUDd"
   },
   "source": [
    "**Выводы**\n",
    "\n",
    "Предобработка обнаружила три проблемы в данных:\n",
    "\n",
    "- нарушения в стиле заголовков\n",
    "- пропущенные значения\n",
    "- дубликаты — явные и неявные.\n",
    "\n",
    "В ходе предобработки исправлены заголовки, чтобы упростить работу с таблицей, убраны дубликаты, чтобы исследование стало более точным. Пропущенные значения зкменены на `'unknown'`, также предстоит увидеть, не повредят ли исследованию пропуски в колонке `genre`.\n",
    "\n",
    "Теперь можно перейти к проверке гипотез. "
   ]
  },
  {
   "cell_type": "markdown",
   "metadata": {
    "id": "WttZHXH0SqKk"
   },
   "source": [
    "## Проверка гипотез"
   ]
  },
  {
   "cell_type": "markdown",
   "metadata": {
    "id": "Im936VVi_Zcu"
   },
   "source": [
    "### Сравнение поведения пользователей двух столиц"
   ]
  },
  {
   "cell_type": "markdown",
   "metadata": {
    "id": "nwt_MuaL_Zcu"
   },
   "source": [
    "Первая гипотеза утверждает, что пользователи по-разному слушают музыку в Москве и Санкт-Петербурге. Это предположение можно проверить по данным о трёх днях недели — понедельнике, среде и пятнице. Для этого надо:\n",
    "\n",
    "* Разделить пользователей Москвы и Санкт-Петербурга\n",
    "* Сравнить, сколько треков послушала каждая группа пользователей в понедельник, среду и пятницу.\n",
    "\n",
    "Для оценки активности пользователей в каждом городе, стоит сгруппировать данные по городу и посчитать прослушивания в каждой группе."
   ]
  },
  {
   "cell_type": "code",
   "execution_count": 18,
   "metadata": {
    "id": "0_Qs96oh_Zcu"
   },
   "outputs": [
    {
     "data": {
      "text/plain": [
       "city\n",
       "Moscow              42741\n",
       "Saint-Petersburg    18512\n",
       "Name: user_id, dtype: int64"
      ]
     },
     "execution_count": 18,
     "metadata": {},
     "output_type": "execute_result"
    }
   ],
   "source": [
    "# Подсчёт прослушиваний в каждом городе\n",
    "df.groupby('city')['user_id'].count()"
   ]
  },
  {
   "cell_type": "markdown",
   "metadata": {
    "id": "dzli3w8o_Zcu"
   },
   "source": [
    "В Москве прослушиваний больше, чем в Петербурге. Из этого не следует, что московские пользователи чаще слушают музыку. Просто самих пользователей в Москве больше.\n",
    "\n",
    "Теперь данные группируются по дню недели и рассчитываются прослушивания в понедельник, среду и пятницу, стоит учесть, что в данных есть информация только о прослушиваниях только за эти дни."
   ]
  },
  {
   "cell_type": "code",
   "execution_count": 19,
   "metadata": {
    "id": "uZMKjiJz_Zcu"
   },
   "outputs": [
    {
     "data": {
      "text/plain": [
       "day\n",
       "Friday       21840\n",
       "Monday       21354\n",
       "Wednesday    18059\n",
       "Name: user_id, dtype: int64"
      ]
     },
     "execution_count": 19,
     "metadata": {},
     "output_type": "execute_result"
    }
   ],
   "source": [
    "# Подсчёт прослушиваний в каждый из трёх дней\n",
    "df.groupby('day')['user_id'].count() "
   ]
  },
  {
   "cell_type": "markdown",
   "metadata": {
    "id": "POzs8bGa_Zcu"
   },
   "source": [
    "В среднем пользователи из двух городов менее активны по средам. Но картина может измениться, если рассмотреть каждый город в отдельности.\n",
    "\n",
    "Теперь можно написать функцию `number_tracks()`, которая посчитает прослушивания для заданного дня и города. Ей понадобятся два параметра:\n",
    "* день недели\n",
    "* название города\n",
    "\n",
    "В функции в переменную сохраняются строки исходной таблицы, у которых значение:\n",
    "  * в колонке `day` равно параметру `day`\n",
    "  * в колонке `city` равно параметру `city`\n",
    "\n",
    "Для этого применяется последовательная фильтрация с логической индексацией.\n",
    "\n",
    "Затем рассчитываются значения в столбце `user_id` получившейся таблицы. Результат сохраняется в новую переменную, которая возвращается из функции."
   ]
  },
  {
   "cell_type": "code",
   "execution_count": 20,
   "metadata": {
    "id": "Nz3GdQB1_Zcu"
   },
   "outputs": [],
   "source": [
    "# Создание функции number_tracks()\n",
    "def number_tracks(day, city):\n",
    "    track_list = df[df['day'] == day]\n",
    "    track_list = track_list[track_list['city'] == city]\n",
    "    track_list_count = track_list['user_id'].count()\n",
    "    return track_list_count"
   ]
  },
  {
   "cell_type": "markdown",
   "metadata": {
    "id": "ytf7xFrFJQ2r"
   },
   "source": [
    "Функция `number_tracks()` вызывается шесть раз, при этом менется значение параметров — так, чтобы получить данные для каждого города в каждый из трёх дней."
   ]
  },
  {
   "cell_type": "code",
   "execution_count": 21,
   "metadata": {
    "id": "rJcRATNQ_Zcu"
   },
   "outputs": [
    {
     "name": "stdout",
     "output_type": "stream",
     "text": [
      "15740\n"
     ]
    }
   ],
   "source": [
    "# Количество прослушиваний в Москве по понедельникам\n",
    "print(number_tracks('Monday', 'Moscow'))"
   ]
  },
  {
   "cell_type": "code",
   "execution_count": 22,
   "metadata": {
    "id": "hq_ncZ5T_Zcu"
   },
   "outputs": [
    {
     "name": "stdout",
     "output_type": "stream",
     "text": [
      "5614\n"
     ]
    }
   ],
   "source": [
    "# Количество прослушиваний в Санкт-Петербурге по понедельникам\n",
    "print(number_tracks('Monday', 'Saint-Petersburg'))"
   ]
  },
  {
   "cell_type": "code",
   "execution_count": 23,
   "metadata": {
    "id": "_NTy2VPU_Zcu"
   },
   "outputs": [
    {
     "name": "stdout",
     "output_type": "stream",
     "text": [
      "11056\n"
     ]
    }
   ],
   "source": [
    "# Количество прослушиваний в Москве по средам\n",
    "print(number_tracks('Wednesday', 'Moscow'))"
   ]
  },
  {
   "cell_type": "code",
   "execution_count": 24,
   "metadata": {
    "id": "j2y3TAwo_Zcu"
   },
   "outputs": [
    {
     "name": "stdout",
     "output_type": "stream",
     "text": [
      "7003\n"
     ]
    }
   ],
   "source": [
    "# Количество прослушиваний в Санкт-Петербурге по средам\n",
    "print(number_tracks('Wednesday', 'Saint-Petersburg'))"
   ]
  },
  {
   "cell_type": "code",
   "execution_count": 25,
   "metadata": {
    "id": "vYDw5u_K_Zcu"
   },
   "outputs": [
    {
     "name": "stdout",
     "output_type": "stream",
     "text": [
      "15945\n"
     ]
    }
   ],
   "source": [
    "# Количество прослушиваний в Москве по пятницам\n",
    "print(number_tracks('Friday', 'Moscow'))"
   ]
  },
  {
   "cell_type": "code",
   "execution_count": 26,
   "metadata": {
    "id": "8_yzFtW3_Zcu"
   },
   "outputs": [
    {
     "name": "stdout",
     "output_type": "stream",
     "text": [
      "5895\n"
     ]
    }
   ],
   "source": [
    "# Количество прослушиваний в Санкт-Петербурге по пятницам\n",
    "print(number_tracks('Friday', 'Saint-Petersburg'))"
   ]
  },
  {
   "cell_type": "markdown",
   "metadata": {
    "id": "7QXffbO-_Zcu"
   },
   "source": [
    "С помощью конструктора `pd.DataFrame` создается таблица, для хранения результатов, где\n",
    "* названия колонок — `['city', 'monday', 'wednesday', 'friday']`\n",
    "* данные — результаты, которые вы получили с помощью `number_tracks`"
   ]
  },
  {
   "cell_type": "code",
   "execution_count": 27,
   "metadata": {
    "id": "APAcLpOr_Zcu",
    "scrolled": true
   },
   "outputs": [
    {
     "data": {
      "text/html": [
       "<div>\n",
       "<style scoped>\n",
       "    .dataframe tbody tr th:only-of-type {\n",
       "        vertical-align: middle;\n",
       "    }\n",
       "\n",
       "    .dataframe tbody tr th {\n",
       "        vertical-align: top;\n",
       "    }\n",
       "\n",
       "    .dataframe thead th {\n",
       "        text-align: right;\n",
       "    }\n",
       "</style>\n",
       "<table border=\"1\" class=\"dataframe\">\n",
       "  <thead>\n",
       "    <tr style=\"text-align: right;\">\n",
       "      <th></th>\n",
       "      <th>city</th>\n",
       "      <th>monday</th>\n",
       "      <th>wednesday</th>\n",
       "      <th>friday</th>\n",
       "    </tr>\n",
       "  </thead>\n",
       "  <tbody>\n",
       "    <tr>\n",
       "      <th>0</th>\n",
       "      <td>Moscow</td>\n",
       "      <td>15740</td>\n",
       "      <td>11056</td>\n",
       "      <td>15945</td>\n",
       "    </tr>\n",
       "    <tr>\n",
       "      <th>1</th>\n",
       "      <td>Saint-Petersburg</td>\n",
       "      <td>5614</td>\n",
       "      <td>7003</td>\n",
       "      <td>5895</td>\n",
       "    </tr>\n",
       "  </tbody>\n",
       "</table>\n",
       "</div>"
      ],
      "text/plain": [
       "               city  monday  wednesday  friday\n",
       "0            Moscow   15740      11056   15945\n",
       "1  Saint-Petersburg    5614       7003    5895"
      ]
     },
     "execution_count": 27,
     "metadata": {},
     "output_type": "execute_result"
    }
   ],
   "source": [
    "# Таблица с результатами\n",
    "number_tracks = [['Moscow', 15740, 11056, 15945],\n",
    "                ['Saint-Petersburg', 5614, 7003, 5895]]\n",
    "columns = ['city', 'monday', 'wednesday', 'friday']\n",
    "pd.DataFrame(data = number_tracks,columns = columns)"
   ]
  },
  {
   "cell_type": "markdown",
   "metadata": {
    "id": "-EgPIHYu_Zcu"
   },
   "source": [
    "**Выводы**\n",
    "\n",
    "Данные показывают разницу поведения пользователей:\n",
    "\n",
    "- В Москве пик прослушиваний приходится на понедельник и пятницу, а в среду заметен спад.\n",
    "- В Петербурге, наоборот, больше слушают музыку по средам. Активность в понедельник и пятницу здесь почти в равной мере уступает среде.\n",
    "\n",
    "Значит, данные говорят в пользу первой гипотезы."
   ]
  },
  {
   "cell_type": "markdown",
   "metadata": {
    "id": "atZAxtq4_Zcu"
   },
   "source": [
    "### Музыка в начале и в конце недели"
   ]
  },
  {
   "cell_type": "markdown",
   "metadata": {
    "id": "eXrQqXFH_Zcu"
   },
   "source": [
    "Согласно второй гипотезе, утром в понедельник в Москве преобладают одни жанры, а в Петербурге — другие. Так же и вечером пятницы преобладают разные жанры — в зависимости от города."
   ]
  },
  {
   "cell_type": "markdown",
   "metadata": {
    "id": "S8UcW6Hw_Zcu"
   },
   "source": [
    "Стоит создать две переменные, для хранения таблиц с данными:\n",
    "* по Москве — в `moscow_general`\n",
    "* по Санкт-Петербургу — в `spb_general`"
   ]
  },
  {
   "cell_type": "code",
   "execution_count": 28,
   "metadata": {
    "id": "qeaFfM_P_Zcu"
   },
   "outputs": [],
   "source": [
    "# Получение таблицы moscow_general из тех строк таблицы df, \n",
    "# для которых значение в столбце 'city' равно 'Moscow'\n",
    "moscow_general = df[df['city'] == 'Moscow']"
   ]
  },
  {
   "cell_type": "code",
   "execution_count": 29,
   "metadata": {
    "id": "ORaVRKto_Zcu"
   },
   "outputs": [],
   "source": [
    "# Получение таблицы spb_general из тех строк таблицы df,\n",
    "# для которых значение в столбце 'city' равно 'Saint-Petersburg'\n",
    "spb_general = df[df['city'] == 'Saint-Petersburg']"
   ]
  },
  {
   "cell_type": "markdown",
   "metadata": {
    "id": "MEJV-CX2_Zcu"
   },
   "source": [
    "Функция `genre_weekday()` возвращает информацию о топ-10 жанров тех треков, которые прослушивали в указанный день, в промежутке между двумя отметками времени."
   ]
  },
  {
   "cell_type": "code",
   "execution_count": 30,
   "metadata": {
    "id": "laJT9BYl_Zcu"
   },
   "outputs": [],
   "source": [
    "# Объявление функции genre_weekday() с параметрами table, day, time1, time2\n",
    "def genre_weekday(table, day, time1, time2):\n",
    "    genre_df = table[table['day'] == day]\n",
    "    genre_df = genre_df[genre_df['time'] > time1]\n",
    "    genre_df = genre_df[genre_df['time'] < time2]\n",
    "    genre_df_count = genre_df.groupby('genre')['genre'].count()\n",
    "    genre_df_sorted = genre_df_count.sort_values(ascending = False)\n",
    "    return(genre_df_sorted.head(10))"
   ]
  },
  {
   "cell_type": "markdown",
   "metadata": {
    "id": "la2s2_PF_Zcu"
   },
   "source": [
    "Дялее следует применение функции `genre_weekday()` для Москвы и Санкт-Петербурга в понедельник утром (с 7:00 до 11:00) и в пятницу вечером (с 17:00 до 23:00)."
   ]
  },
  {
   "cell_type": "code",
   "execution_count": 31,
   "metadata": {
    "id": "yz7itPUQ_Zcu"
   },
   "outputs": [
    {
     "data": {
      "text/plain": [
       "genre\n",
       "pop            781\n",
       "dance          549\n",
       "electronic     480\n",
       "rock           474\n",
       "hiphop         286\n",
       "ruspop         186\n",
       "world          181\n",
       "rusrap         175\n",
       "alternative    164\n",
       "unknown        161\n",
       "Name: genre, dtype: int64"
      ]
     },
     "execution_count": 31,
     "metadata": {},
     "output_type": "execute_result"
    }
   ],
   "source": [
    "# Вызов функции для утра понедельника в Москве\n",
    "genre_weekday(moscow_general, 'Monday', '07:00', '11:00')"
   ]
  },
  {
   "cell_type": "code",
   "execution_count": 32,
   "metadata": {
    "id": "kwUcHPdy_Zcu"
   },
   "outputs": [
    {
     "data": {
      "text/plain": [
       "genre\n",
       "pop            218\n",
       "dance          182\n",
       "rock           162\n",
       "electronic     147\n",
       "hiphop          80\n",
       "ruspop          64\n",
       "alternative     58\n",
       "rusrap          55\n",
       "jazz            44\n",
       "classical       40\n",
       "Name: genre, dtype: int64"
      ]
     },
     "execution_count": 32,
     "metadata": {},
     "output_type": "execute_result"
    }
   ],
   "source": [
    "# Вызов функции для утра понедельника в Петербурге\n",
    "genre_weekday(spb_general, 'Monday', '07:00', '11:00')"
   ]
  },
  {
   "cell_type": "code",
   "execution_count": 33,
   "metadata": {
    "id": "EzXVRE1o_Zcu"
   },
   "outputs": [
    {
     "data": {
      "text/plain": [
       "genre\n",
       "pop            713\n",
       "rock           517\n",
       "dance          495\n",
       "electronic     482\n",
       "hiphop         273\n",
       "world          208\n",
       "ruspop         170\n",
       "alternative    163\n",
       "classical      163\n",
       "rusrap         142\n",
       "Name: genre, dtype: int64"
      ]
     },
     "execution_count": 33,
     "metadata": {},
     "output_type": "execute_result"
    }
   ],
   "source": [
    "# Вызов функции для вечера пятницы в Москве\n",
    "genre_weekday(moscow_general, 'Friday', '17:00', '23:00')"
   ]
  },
  {
   "cell_type": "code",
   "execution_count": 34,
   "metadata": {
    "id": "JZaEKu5v_Zcu"
   },
   "outputs": [
    {
     "data": {
      "text/plain": [
       "genre\n",
       "pop            256\n",
       "electronic     216\n",
       "rock           216\n",
       "dance          210\n",
       "hiphop          97\n",
       "alternative     63\n",
       "jazz            61\n",
       "classical       60\n",
       "rusrap          59\n",
       "world           54\n",
       "Name: genre, dtype: int64"
      ]
     },
     "execution_count": 34,
     "metadata": {},
     "output_type": "execute_result"
    }
   ],
   "source": [
    "# Вызов функции для вечера пятницы в Петербурге\n",
    "genre_weekday(spb_general, 'Friday', '17:00', '23:00')"
   ]
  },
  {
   "cell_type": "markdown",
   "metadata": {
    "id": "wrCe4MNX_Zcu"
   },
   "source": [
    "**Выводы**\n",
    "\n",
    "Если сравнить топ-10 жанров в понедельник утром, можно сделать такие выводы:\n",
    "\n",
    "1. В Москве и Петербурге слушают похожую музыку. Единственное отличие — в московский рейтинг вошёл жанр “world”, а в петербургский — джаз и классика.\n",
    "\n",
    "2. В Москве пропущенных значений оказалось так много, что значение `'unknown'` заняло десятое место среди самых популярных жанров. Значит, пропущенные значения занимают существенную долю в данных и угрожают достоверности исследования.\n",
    "\n",
    "Вечер пятницы не меняет эту картину. Некоторые жанры поднимаются немного выше, другие спускаются, но в целом топ-10 остаётся тем же самым.\n",
    "\n",
    "Таким образом, вторая гипотеза подтвердилась лишь частично:\n",
    "* Пользователи слушают похожую музыку в начале недели и в конце.\n",
    "* Разница между Москвой и Петербургом не слишком выражена. В Москве чаще слушают русскую популярную музыку, в Петербурге — джаз.\n",
    "\n",
    "Однако пропуски в данных ставят под сомнение этот результат. В Москве их так много, что рейтинг топ-10 мог бы выглядеть иначе, если бы не утерянные  данные о жанрах."
   ]
  },
  {
   "cell_type": "markdown",
   "metadata": {
    "id": "JolODAqr_Zcu"
   },
   "source": [
    "### Жанровые предпочтения в Москве и Петербурге\n",
    "\n",
    "Гипотеза: Петербург — столица рэпа, музыку этого жанра там слушают чаще, чем в Москве.  А Москва — город контрастов, в котором, тем не менее, преобладает поп-музыка."
   ]
  },
  {
   "cell_type": "markdown",
   "metadata": {
    "id": "DlegSvaT_Zcu"
   },
   "source": [
    "Для создания таблицы `moscow_genres`, таблица `moscow_general` группируется по жанру и рассчитываются прослушивания треков каждого жанра методом `count()`, затем результат сортируется в порядке убывания и сохраняется."
   ]
  },
  {
   "cell_type": "code",
   "execution_count": 35,
   "metadata": {
    "id": "r19lIPke_Zcu"
   },
   "outputs": [],
   "source": [
    "# Создание таблицы moscow_genres\n",
    "moscow_genres = moscow_general.groupby('genre')['genre'].count().sort_values(ascending = False)"
   ]
  },
  {
   "cell_type": "code",
   "execution_count": 36,
   "metadata": {
    "id": "WhCSooF8_Zcv"
   },
   "outputs": [
    {
     "data": {
      "text/plain": [
       "genre\n",
       "pop            5892\n",
       "dance          4435\n",
       "rock           3965\n",
       "electronic     3786\n",
       "hiphop         2096\n",
       "classical      1616\n",
       "world          1432\n",
       "alternative    1379\n",
       "ruspop         1372\n",
       "rusrap         1161\n",
       "Name: genre, dtype: int64"
      ]
     },
     "execution_count": 36,
     "metadata": {},
     "output_type": "execute_result"
    }
   ],
   "source": [
    "# Просмотр первых 10 строк moscow_genres\n",
    "moscow_genres.head(10)"
   ]
  },
  {
   "cell_type": "markdown",
   "metadata": {
    "id": "cnPG2vnN_Zcv"
   },
   "source": [
    "Аналогично создается таблица `spb_genres`."
   ]
  },
  {
   "cell_type": "code",
   "execution_count": 37,
   "metadata": {
    "id": "gluLIpE7_Zcv"
   },
   "outputs": [],
   "source": [
    "# Создание таблицы spb_genres\n",
    "spb_genres = spb_general.groupby('genre')['genre'].count().sort_values(ascending = False)"
   ]
  },
  {
   "cell_type": "code",
   "execution_count": 38,
   "metadata": {
    "id": "uaGJHjVU_Zcv"
   },
   "outputs": [
    {
     "data": {
      "text/plain": [
       "genre\n",
       "pop            2431\n",
       "dance          1932\n",
       "rock           1879\n",
       "electronic     1736\n",
       "hiphop          960\n",
       "alternative     649\n",
       "classical       646\n",
       "rusrap          564\n",
       "ruspop          538\n",
       "world           515\n",
       "Name: genre, dtype: int64"
      ]
     },
     "execution_count": 38,
     "metadata": {},
     "output_type": "execute_result"
    }
   ],
   "source": [
    "# Просмотр первых 10 строк spb_genres\n",
    "spb_genres.head(10)"
   ]
  },
  {
   "cell_type": "markdown",
   "metadata": {
    "id": "RY51YJYu_Zcv"
   },
   "source": [
    "**Выводы**"
   ]
  },
  {
   "cell_type": "markdown",
   "metadata": {
    "id": "nVhnJEm__Zcv"
   },
   "source": [
    "Гипотеза частично подтвердилась:\n",
    "* Поп-музыка — самый популярный жанр в Москве, как и предполагала гипотеза. Более того, в топ-10 жанров встречается близкий жанр — русская популярная музыка.\n",
    "* Вопреки ожиданиям, рэп одинаково популярен в Москве и Петербурге. \n"
   ]
  },
  {
   "cell_type": "markdown",
   "metadata": {
    "id": "ykKQ0N65_Zcv"
   },
   "source": [
    "## Итоги исследования"
   ]
  },
  {
   "cell_type": "markdown",
   "metadata": {
    "id": "tjUwbHb3_Zcv"
   },
   "source": [
    "Проверены три гипотезы и получены следующие результаты:\n",
    "\n",
    "1. День недели по-разному влияет на активность пользователей в Москве и Петербурге. \n",
    "\n",
    "Первая гипотеза полностью подтвердилась.\n",
    "\n",
    "2. Музыкальные предпочтения не сильно меняются в течение недели — будь то Москва или Петербург. Небольшие различия заметны в начале недели, по понедельникам:\n",
    "* в Москве слушают музыку жанра “world”,\n",
    "* в Петербурге — джаз и классику.\n",
    "\n",
    "Таким образом, вторая гипотеза подтвердилась лишь отчасти. Этот результат мог оказаться иным, если бы не пропуски в данных.\n",
    "\n",
    "3. Во вкусах пользователей Москвы и Петербурга больше общего чем различий. Вопреки ожиданиям, предпочтения жанров в Петербурге напоминают московские.\n",
    "\n",
    "Третья гипотеза не подтвердилась. Если различия в предпочтениях и существуют, на основной массе пользователей они незаметны."
   ]
  }
 ],
 "metadata": {
  "ExecuteTimeLog": [
   {
    "duration": 275,
    "start_time": "2021-12-08T08:59:57.485Z"
   },
   {
    "duration": 223,
    "start_time": "2021-12-08T09:00:35.186Z"
   },
   {
    "duration": 223,
    "start_time": "2021-12-08T09:01:20.105Z"
   },
   {
    "duration": 232,
    "start_time": "2021-12-08T09:02:54.937Z"
   },
   {
    "duration": 566,
    "start_time": "2021-12-08T09:03:09.806Z"
   },
   {
    "duration": 120,
    "start_time": "2021-12-08T09:03:42.525Z"
   },
   {
    "duration": 6,
    "start_time": "2021-12-08T09:03:46.865Z"
   },
   {
    "duration": 22,
    "start_time": "2021-12-08T09:04:08.057Z"
   },
   {
    "duration": 8,
    "start_time": "2021-12-08T09:08:35.145Z"
   },
   {
    "duration": 3,
    "start_time": "2021-12-08T09:19:54.442Z"
   },
   {
    "duration": 20,
    "start_time": "2021-12-08T09:23:24.209Z"
   },
   {
    "duration": 4,
    "start_time": "2021-12-08T09:23:49.547Z"
   },
   {
    "duration": 21,
    "start_time": "2021-12-08T09:25:45.048Z"
   },
   {
    "duration": 3,
    "start_time": "2021-12-08T09:31:01.627Z"
   },
   {
    "duration": 246,
    "start_time": "2021-12-08T09:34:45.289Z"
   },
   {
    "duration": 17,
    "start_time": "2021-12-08T09:34:56.987Z"
   },
   {
    "duration": 21,
    "start_time": "2021-12-08T09:34:58.566Z"
   },
   {
    "duration": 4,
    "start_time": "2021-12-08T09:35:42.417Z"
   },
   {
    "duration": 17,
    "start_time": "2021-12-08T09:35:45.287Z"
   },
   {
    "duration": 77,
    "start_time": "2021-12-08T09:36:28.399Z"
   },
   {
    "duration": 46,
    "start_time": "2021-12-08T09:38:21.809Z"
   },
   {
    "duration": 49,
    "start_time": "2021-12-08T09:38:38.647Z"
   },
   {
    "duration": 61,
    "start_time": "2021-12-08T09:38:40.487Z"
   },
   {
    "duration": 45,
    "start_time": "2021-12-08T09:38:41.787Z"
   },
   {
    "duration": 3,
    "start_time": "2021-12-08T09:40:31.247Z"
   },
   {
    "duration": 10,
    "start_time": "2021-12-08T09:41:04.367Z"
   },
   {
    "duration": 23,
    "start_time": "2021-12-08T09:41:14.447Z"
   },
   {
    "duration": 5,
    "start_time": "2021-12-08T09:41:35.226Z"
   },
   {
    "duration": 5,
    "start_time": "2021-12-08T09:41:43.707Z"
   },
   {
    "duration": 34,
    "start_time": "2021-12-08T09:43:26.447Z"
   },
   {
    "duration": 33,
    "start_time": "2021-12-08T09:43:28.789Z"
   },
   {
    "duration": 36,
    "start_time": "2021-12-08T09:43:36.507Z"
   },
   {
    "duration": 39,
    "start_time": "2021-12-08T09:45:00.079Z"
   },
   {
    "duration": 63,
    "start_time": "2021-12-08T09:45:23.827Z"
   },
   {
    "duration": 112,
    "start_time": "2021-12-08T09:54:21.463Z"
   },
   {
    "duration": 145,
    "start_time": "2021-12-08T09:54:44.474Z"
   },
   {
    "duration": 74,
    "start_time": "2021-12-08T09:54:56.206Z"
   },
   {
    "duration": 3,
    "start_time": "2021-12-08T09:55:13.222Z"
   },
   {
    "duration": 8,
    "start_time": "2021-12-08T09:57:10.194Z"
   },
   {
    "duration": 38,
    "start_time": "2021-12-08T09:57:33.782Z"
   },
   {
    "duration": 32,
    "start_time": "2021-12-08T10:00:26.622Z"
   },
   {
    "duration": 28,
    "start_time": "2021-12-08T10:07:24.324Z"
   },
   {
    "duration": 5,
    "start_time": "2021-12-08T13:29:41.170Z"
   },
   {
    "duration": 876,
    "start_time": "2021-12-08T13:37:31.949Z"
   },
   {
    "duration": 561,
    "start_time": "2021-12-08T13:38:58.373Z"
   },
   {
    "duration": 134,
    "start_time": "2021-12-08T13:38:58.936Z"
   },
   {
    "duration": 17,
    "start_time": "2021-12-08T13:38:59.072Z"
   },
   {
    "duration": 23,
    "start_time": "2021-12-08T13:38:59.091Z"
   },
   {
    "duration": 4,
    "start_time": "2021-12-08T13:38:59.116Z"
   },
   {
    "duration": 38,
    "start_time": "2021-12-08T13:38:59.122Z"
   },
   {
    "duration": 3,
    "start_time": "2021-12-08T13:38:59.162Z"
   },
   {
    "duration": 24,
    "start_time": "2021-12-08T13:38:59.167Z"
   },
   {
    "duration": 16,
    "start_time": "2021-12-08T13:38:59.194Z"
   },
   {
    "duration": 47,
    "start_time": "2021-12-08T13:38:59.212Z"
   },
   {
    "duration": 55,
    "start_time": "2021-12-08T13:38:59.261Z"
   },
   {
    "duration": 89,
    "start_time": "2021-12-08T13:38:59.318Z"
   },
   {
    "duration": 63,
    "start_time": "2021-12-08T13:38:59.409Z"
   },
   {
    "duration": 42,
    "start_time": "2021-12-08T13:38:59.474Z"
   },
   {
    "duration": 2,
    "start_time": "2021-12-08T13:38:59.518Z"
   },
   {
    "duration": 31,
    "start_time": "2021-12-08T13:38:59.522Z"
   },
   {
    "duration": 43,
    "start_time": "2021-12-08T13:38:59.555Z"
   },
   {
    "duration": 54,
    "start_time": "2021-12-08T13:38:59.600Z"
   },
   {
    "duration": 35,
    "start_time": "2021-12-08T13:38:59.656Z"
   },
   {
    "duration": 3,
    "start_time": "2021-12-08T13:38:59.693Z"
   },
   {
    "duration": 18,
    "start_time": "2021-12-08T13:39:02.000Z"
   },
   {
    "duration": 16,
    "start_time": "2021-12-08T13:39:03.761Z"
   },
   {
    "duration": 19,
    "start_time": "2021-12-08T13:39:19.580Z"
   },
   {
    "duration": 2,
    "start_time": "2021-12-08T13:40:41.921Z"
   },
   {
    "duration": 151,
    "start_time": "2021-12-08T13:40:41.926Z"
   },
   {
    "duration": 11,
    "start_time": "2021-12-08T13:40:42.079Z"
   },
   {
    "duration": 36,
    "start_time": "2021-12-08T13:40:42.093Z"
   },
   {
    "duration": 14,
    "start_time": "2021-12-08T13:40:42.131Z"
   },
   {
    "duration": 44,
    "start_time": "2021-12-08T13:40:42.147Z"
   },
   {
    "duration": 4,
    "start_time": "2021-12-08T13:40:42.193Z"
   },
   {
    "duration": 39,
    "start_time": "2021-12-08T13:40:42.199Z"
   },
   {
    "duration": 17,
    "start_time": "2021-12-08T13:40:42.242Z"
   },
   {
    "duration": 24,
    "start_time": "2021-12-08T13:40:42.262Z"
   },
   {
    "duration": 65,
    "start_time": "2021-12-08T13:40:42.287Z"
   },
   {
    "duration": 61,
    "start_time": "2021-12-08T13:40:42.353Z"
   },
   {
    "duration": 66,
    "start_time": "2021-12-08T13:40:42.415Z"
   },
   {
    "duration": 39,
    "start_time": "2021-12-08T13:40:42.482Z"
   },
   {
    "duration": 15,
    "start_time": "2021-12-08T13:40:42.523Z"
   },
   {
    "duration": 35,
    "start_time": "2021-12-08T13:40:42.540Z"
   },
   {
    "duration": 65,
    "start_time": "2021-12-08T13:40:42.577Z"
   },
   {
    "duration": 36,
    "start_time": "2021-12-08T13:40:42.644Z"
   },
   {
    "duration": 28,
    "start_time": "2021-12-08T13:40:42.682Z"
   },
   {
    "duration": 4,
    "start_time": "2021-12-08T13:40:42.712Z"
   },
   {
    "duration": 51,
    "start_time": "2021-12-08T13:40:42.717Z"
   },
   {
    "duration": 34,
    "start_time": "2021-12-08T13:40:42.770Z"
   },
   {
    "duration": 22,
    "start_time": "2021-12-08T13:40:42.806Z"
   },
   {
    "duration": 17,
    "start_time": "2021-12-08T13:40:42.830Z"
   },
   {
    "duration": 18,
    "start_time": "2021-12-08T13:40:42.849Z"
   },
   {
    "duration": 15,
    "start_time": "2021-12-08T13:41:49.788Z"
   },
   {
    "duration": 3,
    "start_time": "2021-12-08T13:41:52.041Z"
   },
   {
    "duration": 3,
    "start_time": "2021-12-08T13:41:53.920Z"
   },
   {
    "duration": 16,
    "start_time": "2021-12-08T13:44:44.121Z"
   },
   {
    "duration": 17,
    "start_time": "2021-12-08T13:44:57.780Z"
   },
   {
    "duration": 27,
    "start_time": "2021-12-08T13:45:09.842Z"
   },
   {
    "duration": 22,
    "start_time": "2021-12-08T13:45:19.159Z"
   },
   {
    "duration": 23,
    "start_time": "2021-12-08T13:45:24.036Z"
   },
   {
    "duration": 22,
    "start_time": "2021-12-08T13:45:42.059Z"
   },
   {
    "duration": 24,
    "start_time": "2021-12-08T13:45:44.459Z"
   },
   {
    "duration": 64,
    "start_time": "2021-12-08T13:46:29.979Z"
   },
   {
    "duration": 32,
    "start_time": "2021-12-08T13:47:16.720Z"
   },
   {
    "duration": 30,
    "start_time": "2021-12-08T13:47:33.499Z"
   },
   {
    "duration": 16,
    "start_time": "2021-12-08T13:47:57.539Z"
   },
   {
    "duration": 3,
    "start_time": "2021-12-08T13:48:12.700Z"
   },
   {
    "duration": 161,
    "start_time": "2021-12-08T13:48:12.705Z"
   },
   {
    "duration": 10,
    "start_time": "2021-12-08T13:48:12.869Z"
   },
   {
    "duration": 31,
    "start_time": "2021-12-08T13:48:12.882Z"
   },
   {
    "duration": 4,
    "start_time": "2021-12-08T13:48:12.916Z"
   },
   {
    "duration": 30,
    "start_time": "2021-12-08T13:48:12.922Z"
   },
   {
    "duration": 29,
    "start_time": "2021-12-08T13:48:12.954Z"
   },
   {
    "duration": 58,
    "start_time": "2021-12-08T13:48:12.985Z"
   },
   {
    "duration": 40,
    "start_time": "2021-12-08T13:48:13.047Z"
   },
   {
    "duration": 43,
    "start_time": "2021-12-08T13:48:13.090Z"
   },
   {
    "duration": 79,
    "start_time": "2021-12-08T13:48:13.134Z"
   },
   {
    "duration": 69,
    "start_time": "2021-12-08T13:48:13.215Z"
   },
   {
    "duration": 60,
    "start_time": "2021-12-08T13:48:13.285Z"
   },
   {
    "duration": 45,
    "start_time": "2021-12-08T13:48:13.347Z"
   },
   {
    "duration": 31,
    "start_time": "2021-12-08T13:48:13.394Z"
   },
   {
    "duration": 21,
    "start_time": "2021-12-08T13:48:13.426Z"
   },
   {
    "duration": 53,
    "start_time": "2021-12-08T13:48:13.449Z"
   },
   {
    "duration": 52,
    "start_time": "2021-12-08T13:48:13.503Z"
   },
   {
    "duration": 31,
    "start_time": "2021-12-08T13:48:13.556Z"
   },
   {
    "duration": 4,
    "start_time": "2021-12-08T13:48:13.590Z"
   },
   {
    "duration": 59,
    "start_time": "2021-12-08T13:48:13.596Z"
   },
   {
    "duration": 40,
    "start_time": "2021-12-08T13:48:13.657Z"
   },
   {
    "duration": 21,
    "start_time": "2021-12-08T13:48:13.699Z"
   },
   {
    "duration": 16,
    "start_time": "2021-12-08T13:48:13.722Z"
   },
   {
    "duration": 22,
    "start_time": "2021-12-08T13:48:13.740Z"
   },
   {
    "duration": 31,
    "start_time": "2021-12-08T13:48:13.764Z"
   },
   {
    "duration": 8,
    "start_time": "2021-12-08T13:53:45.851Z"
   },
   {
    "duration": 523,
    "start_time": "2021-12-08T19:28:22.254Z"
   },
   {
    "duration": 128,
    "start_time": "2021-12-08T19:28:22.779Z"
   },
   {
    "duration": 16,
    "start_time": "2021-12-08T19:28:22.909Z"
   },
   {
    "duration": 25,
    "start_time": "2021-12-08T19:28:22.927Z"
   },
   {
    "duration": 3,
    "start_time": "2021-12-08T19:28:22.956Z"
   },
   {
    "duration": 46,
    "start_time": "2021-12-08T19:28:22.961Z"
   },
   {
    "duration": 4,
    "start_time": "2021-12-08T19:28:23.009Z"
   },
   {
    "duration": 22,
    "start_time": "2021-12-08T19:28:23.015Z"
   },
   {
    "duration": 16,
    "start_time": "2021-12-08T19:28:23.039Z"
   },
   {
    "duration": 40,
    "start_time": "2021-12-08T19:28:23.057Z"
   },
   {
    "duration": 55,
    "start_time": "2021-12-08T19:28:23.099Z"
   },
   {
    "duration": 88,
    "start_time": "2021-12-08T19:28:23.155Z"
   },
   {
    "duration": 57,
    "start_time": "2021-12-08T19:28:23.245Z"
   },
   {
    "duration": 41,
    "start_time": "2021-12-08T19:28:23.304Z"
   },
   {
    "duration": 3,
    "start_time": "2021-12-08T19:28:23.347Z"
   },
   {
    "duration": 14,
    "start_time": "2021-12-08T19:28:23.352Z"
   },
   {
    "duration": 59,
    "start_time": "2021-12-08T19:28:23.368Z"
   },
   {
    "duration": 32,
    "start_time": "2021-12-08T19:28:23.428Z"
   },
   {
    "duration": 52,
    "start_time": "2021-12-08T19:28:23.462Z"
   },
   {
    "duration": 4,
    "start_time": "2021-12-08T19:28:23.516Z"
   },
   {
    "duration": 19,
    "start_time": "2021-12-08T19:28:23.522Z"
   },
   {
    "duration": 12,
    "start_time": "2021-12-08T19:28:23.544Z"
   },
   {
    "duration": 40,
    "start_time": "2021-12-08T19:28:23.559Z"
   },
   {
    "duration": 12,
    "start_time": "2021-12-08T19:28:23.601Z"
   },
   {
    "duration": 14,
    "start_time": "2021-12-08T19:28:23.614Z"
   },
   {
    "duration": 12,
    "start_time": "2021-12-08T19:28:23.630Z"
   },
   {
    "duration": 29,
    "start_time": "2021-12-08T19:28:38.684Z"
   },
   {
    "duration": 8,
    "start_time": "2021-12-08T19:29:00.866Z"
   },
   {
    "duration": 3,
    "start_time": "2021-12-08T19:29:08.833Z"
   },
   {
    "duration": 133,
    "start_time": "2021-12-08T19:29:08.838Z"
   },
   {
    "duration": 10,
    "start_time": "2021-12-08T19:29:08.973Z"
   },
   {
    "duration": 41,
    "start_time": "2021-12-08T19:29:08.985Z"
   },
   {
    "duration": 4,
    "start_time": "2021-12-08T19:29:09.028Z"
   },
   {
    "duration": 19,
    "start_time": "2021-12-08T19:29:09.033Z"
   },
   {
    "duration": 3,
    "start_time": "2021-12-08T19:29:09.054Z"
   },
   {
    "duration": 50,
    "start_time": "2021-12-08T19:29:09.059Z"
   },
   {
    "duration": 16,
    "start_time": "2021-12-08T19:29:09.112Z"
   },
   {
    "duration": 32,
    "start_time": "2021-12-08T19:29:09.130Z"
   },
   {
    "duration": 67,
    "start_time": "2021-12-08T19:29:09.164Z"
   },
   {
    "duration": 65,
    "start_time": "2021-12-08T19:29:09.233Z"
   },
   {
    "duration": 49,
    "start_time": "2021-12-08T19:29:09.300Z"
   },
   {
    "duration": 51,
    "start_time": "2021-12-08T19:29:09.351Z"
   },
   {
    "duration": 3,
    "start_time": "2021-12-08T19:29:09.403Z"
   },
   {
    "duration": 13,
    "start_time": "2021-12-08T19:29:09.407Z"
   },
   {
    "duration": 39,
    "start_time": "2021-12-08T19:29:09.421Z"
   },
   {
    "duration": 50,
    "start_time": "2021-12-08T19:29:09.461Z"
   },
   {
    "duration": 29,
    "start_time": "2021-12-08T19:29:09.513Z"
   },
   {
    "duration": 4,
    "start_time": "2021-12-08T19:29:09.543Z"
   },
   {
    "duration": 23,
    "start_time": "2021-12-08T19:29:09.548Z"
   },
   {
    "duration": 29,
    "start_time": "2021-12-08T19:29:09.573Z"
   },
   {
    "duration": 20,
    "start_time": "2021-12-08T19:29:09.604Z"
   },
   {
    "duration": 11,
    "start_time": "2021-12-08T19:29:09.628Z"
   },
   {
    "duration": 14,
    "start_time": "2021-12-08T19:29:09.641Z"
   },
   {
    "duration": 46,
    "start_time": "2021-12-08T19:29:09.657Z"
   },
   {
    "duration": 8,
    "start_time": "2021-12-08T19:29:14.554Z"
   },
   {
    "duration": 23,
    "start_time": "2021-12-08T19:30:42.113Z"
   },
   {
    "duration": 10,
    "start_time": "2021-12-08T19:31:10.345Z"
   },
   {
    "duration": 19,
    "start_time": "2021-12-08T19:31:15.904Z"
   },
   {
    "duration": 4,
    "start_time": "2021-12-08T19:46:56.191Z"
   },
   {
    "duration": 233,
    "start_time": "2021-12-08T19:48:30.856Z"
   },
   {
    "duration": 314,
    "start_time": "2021-12-08T19:48:41.559Z"
   },
   {
    "duration": 28,
    "start_time": "2021-12-08T19:49:29.504Z"
   },
   {
    "duration": 22,
    "start_time": "2021-12-08T19:50:06.871Z"
   },
   {
    "duration": 56,
    "start_time": "2021-12-08T19:50:47.238Z"
   },
   {
    "duration": 19,
    "start_time": "2021-12-08T19:52:54.421Z"
   },
   {
    "duration": 294,
    "start_time": "2021-12-08T19:54:38.169Z"
   },
   {
    "duration": 20,
    "start_time": "2021-12-08T19:56:20.322Z"
   },
   {
    "duration": 18,
    "start_time": "2021-12-08T19:57:53.585Z"
   },
   {
    "duration": 12,
    "start_time": "2021-12-08T19:58:30.585Z"
   },
   {
    "duration": 18,
    "start_time": "2021-12-08T19:58:33.063Z"
   },
   {
    "duration": 13,
    "start_time": "2021-12-08T19:58:34.287Z"
   },
   {
    "duration": 176,
    "start_time": "2021-12-08T20:01:47.865Z"
   },
   {
    "duration": 158,
    "start_time": "2021-12-08T20:02:04.613Z"
   },
   {
    "duration": 8,
    "start_time": "2021-12-08T20:02:15.303Z"
   },
   {
    "duration": 8,
    "start_time": "2021-12-08T20:02:16.756Z"
   },
   {
    "duration": 10,
    "start_time": "2021-12-08T20:02:18.221Z"
   },
   {
    "duration": 4,
    "start_time": "2021-12-08T20:02:33.355Z"
   },
   {
    "duration": 4,
    "start_time": "2021-12-08T20:02:39.545Z"
   },
   {
    "duration": 6,
    "start_time": "2021-12-08T20:02:46.728Z"
   },
   {
    "duration": 6,
    "start_time": "2021-12-08T20:03:21.125Z"
   },
   {
    "duration": 4,
    "start_time": "2021-12-08T20:03:33.508Z"
   },
   {
    "duration": 3,
    "start_time": "2021-12-08T20:58:42.563Z"
   },
   {
    "duration": 4,
    "start_time": "2021-12-08T20:58:48.360Z"
   },
   {
    "duration": 18,
    "start_time": "2021-12-08T21:09:52.697Z"
   },
   {
    "duration": 13,
    "start_time": "2021-12-08T21:09:54.128Z"
   },
   {
    "duration": 2,
    "start_time": "2021-12-08T21:14:01.324Z"
   },
   {
    "duration": 163,
    "start_time": "2021-12-08T21:14:01.328Z"
   },
   {
    "duration": 12,
    "start_time": "2021-12-08T21:14:01.493Z"
   },
   {
    "duration": 26,
    "start_time": "2021-12-08T21:14:01.507Z"
   },
   {
    "duration": 16,
    "start_time": "2021-12-08T21:14:01.535Z"
   },
   {
    "duration": 37,
    "start_time": "2021-12-08T21:14:01.553Z"
   },
   {
    "duration": 4,
    "start_time": "2021-12-08T21:14:01.593Z"
   },
   {
    "duration": 33,
    "start_time": "2021-12-08T21:14:01.599Z"
   },
   {
    "duration": 42,
    "start_time": "2021-12-08T21:14:01.635Z"
   },
   {
    "duration": 35,
    "start_time": "2021-12-08T21:14:01.679Z"
   },
   {
    "duration": 83,
    "start_time": "2021-12-08T21:14:01.716Z"
   },
   {
    "duration": 61,
    "start_time": "2021-12-08T21:14:01.801Z"
   },
   {
    "duration": 70,
    "start_time": "2021-12-08T21:14:01.864Z"
   },
   {
    "duration": 40,
    "start_time": "2021-12-08T21:14:01.936Z"
   },
   {
    "duration": 15,
    "start_time": "2021-12-08T21:14:01.978Z"
   },
   {
    "duration": 20,
    "start_time": "2021-12-08T21:14:01.995Z"
   },
   {
    "duration": 41,
    "start_time": "2021-12-08T21:14:02.017Z"
   },
   {
    "duration": 54,
    "start_time": "2021-12-08T21:14:02.060Z"
   },
   {
    "duration": 33,
    "start_time": "2021-12-08T21:14:02.117Z"
   },
   {
    "duration": 3,
    "start_time": "2021-12-08T21:14:02.153Z"
   },
   {
    "duration": 36,
    "start_time": "2021-12-08T21:14:02.157Z"
   },
   {
    "duration": 13,
    "start_time": "2021-12-08T21:14:02.195Z"
   },
   {
    "duration": 35,
    "start_time": "2021-12-08T21:14:02.209Z"
   },
   {
    "duration": 13,
    "start_time": "2021-12-08T21:14:02.246Z"
   },
   {
    "duration": 17,
    "start_time": "2021-12-08T21:14:02.260Z"
   },
   {
    "duration": 14,
    "start_time": "2021-12-08T21:14:02.291Z"
   },
   {
    "duration": 8,
    "start_time": "2021-12-08T21:14:02.307Z"
   },
   {
    "duration": 15,
    "start_time": "2021-12-08T21:14:02.316Z"
   },
   {
    "duration": 10,
    "start_time": "2021-12-08T21:14:02.333Z"
   },
   {
    "duration": 31,
    "start_time": "2021-12-08T21:14:02.344Z"
   },
   {
    "duration": 27,
    "start_time": "2021-12-08T21:14:02.377Z"
   },
   {
    "duration": 13,
    "start_time": "2021-12-08T21:14:02.406Z"
   },
   {
    "duration": 21,
    "start_time": "2021-12-08T21:14:02.420Z"
   },
   {
    "duration": 11,
    "start_time": "2021-12-08T21:14:02.443Z"
   },
   {
    "duration": 8,
    "start_time": "2021-12-08T21:14:02.455Z"
   },
   {
    "duration": 28,
    "start_time": "2021-12-08T21:14:02.465Z"
   },
   {
    "duration": 6,
    "start_time": "2021-12-08T21:14:02.495Z"
   },
   {
    "duration": 11,
    "start_time": "2021-12-08T21:14:02.502Z"
   },
   {
    "duration": 795,
    "start_time": "2021-12-09T17:35:49.656Z"
   },
   {
    "duration": 1007,
    "start_time": "2021-12-09T17:35:50.454Z"
   },
   {
    "duration": 27,
    "start_time": "2021-12-09T17:35:51.464Z"
   },
   {
    "duration": 32,
    "start_time": "2021-12-09T17:35:51.494Z"
   },
   {
    "duration": 4,
    "start_time": "2021-12-09T17:35:51.529Z"
   },
   {
    "duration": 29,
    "start_time": "2021-12-09T17:35:51.560Z"
   },
   {
    "duration": 11,
    "start_time": "2021-12-09T17:35:51.592Z"
   },
   {
    "duration": 58,
    "start_time": "2021-12-09T17:35:51.607Z"
   },
   {
    "duration": 23,
    "start_time": "2021-12-09T17:35:51.668Z"
   },
   {
    "duration": 31,
    "start_time": "2021-12-09T17:35:51.694Z"
   },
   {
    "duration": 134,
    "start_time": "2021-12-09T17:35:51.728Z"
   },
   {
    "duration": 114,
    "start_time": "2021-12-09T17:35:51.865Z"
   },
   {
    "duration": 84,
    "start_time": "2021-12-09T17:35:51.981Z"
   },
   {
    "duration": 57,
    "start_time": "2021-12-09T17:35:52.067Z"
   },
   {
    "duration": 4,
    "start_time": "2021-12-09T17:35:52.127Z"
   },
   {
    "duration": 37,
    "start_time": "2021-12-09T17:35:52.133Z"
   },
   {
    "duration": 55,
    "start_time": "2021-12-09T17:35:52.172Z"
   },
   {
    "duration": 65,
    "start_time": "2021-12-09T17:35:52.230Z"
   },
   {
    "duration": 63,
    "start_time": "2021-12-09T17:35:52.297Z"
   },
   {
    "duration": 4,
    "start_time": "2021-12-09T17:35:52.363Z"
   },
   {
    "duration": 25,
    "start_time": "2021-12-09T17:35:52.369Z"
   },
   {
    "duration": 19,
    "start_time": "2021-12-09T17:35:52.397Z"
   },
   {
    "duration": 45,
    "start_time": "2021-12-09T17:35:52.420Z"
   },
   {
    "duration": 17,
    "start_time": "2021-12-09T17:35:52.467Z"
   },
   {
    "duration": 20,
    "start_time": "2021-12-09T17:35:52.486Z"
   },
   {
    "duration": 50,
    "start_time": "2021-12-09T17:35:52.509Z"
   },
   {
    "duration": 14,
    "start_time": "2021-12-09T17:35:52.562Z"
   },
   {
    "duration": 18,
    "start_time": "2021-12-09T17:35:52.579Z"
   },
   {
    "duration": 12,
    "start_time": "2021-12-09T17:35:52.599Z"
   },
   {
    "duration": 5,
    "start_time": "2021-12-09T17:35:52.614Z"
   },
   {
    "duration": 66,
    "start_time": "2021-12-09T17:35:52.622Z"
   },
   {
    "duration": 17,
    "start_time": "2021-12-09T17:35:52.691Z"
   },
   {
    "duration": 53,
    "start_time": "2021-12-09T17:35:52.711Z"
   },
   {
    "duration": 18,
    "start_time": "2021-12-09T17:35:52.767Z"
   },
   {
    "duration": 11,
    "start_time": "2021-12-09T17:35:52.788Z"
   },
   {
    "duration": 6,
    "start_time": "2021-12-09T17:35:52.802Z"
   },
   {
    "duration": 10,
    "start_time": "2021-12-09T17:35:52.810Z"
   },
   {
    "duration": 9,
    "start_time": "2021-12-09T17:35:52.860Z"
   },
   {
    "duration": 115,
    "start_time": "2021-12-09T22:28:16.334Z"
   },
   {
    "duration": 89,
    "start_time": "2021-12-09T22:28:45.846Z"
   },
   {
    "duration": 98,
    "start_time": "2021-12-09T22:29:07.532Z"
   },
   {
    "duration": 512,
    "start_time": "2021-12-09T22:30:08.438Z"
   },
   {
    "duration": 583,
    "start_time": "2021-12-09T22:30:16.379Z"
   },
   {
    "duration": 138,
    "start_time": "2021-12-09T22:30:16.964Z"
   },
   {
    "duration": 15,
    "start_time": "2021-12-09T22:30:17.104Z"
   },
   {
    "duration": 37,
    "start_time": "2021-12-09T22:30:17.121Z"
   },
   {
    "duration": 4,
    "start_time": "2021-12-09T22:30:17.160Z"
   },
   {
    "duration": 23,
    "start_time": "2021-12-09T22:30:17.165Z"
   },
   {
    "duration": 4,
    "start_time": "2021-12-09T22:30:17.190Z"
   },
   {
    "duration": 48,
    "start_time": "2021-12-09T22:30:17.197Z"
   },
   {
    "duration": 16,
    "start_time": "2021-12-09T22:30:17.247Z"
   },
   {
    "duration": 28,
    "start_time": "2021-12-09T22:30:17.265Z"
   },
   {
    "duration": 72,
    "start_time": "2021-12-09T22:30:17.294Z"
   },
   {
    "duration": 79,
    "start_time": "2021-12-09T22:30:17.367Z"
   },
   {
    "duration": 52,
    "start_time": "2021-12-09T22:30:17.448Z"
   },
   {
    "duration": 52,
    "start_time": "2021-12-09T22:30:17.502Z"
   },
   {
    "duration": 2,
    "start_time": "2021-12-09T22:30:17.556Z"
   },
   {
    "duration": 11,
    "start_time": "2021-12-09T22:30:17.560Z"
   },
   {
    "duration": 40,
    "start_time": "2021-12-09T22:30:17.573Z"
   },
   {
    "duration": 2,
    "start_time": "2021-12-09T22:30:22.221Z"
   },
   {
    "duration": 165,
    "start_time": "2021-12-09T22:30:22.226Z"
   },
   {
    "duration": 10,
    "start_time": "2021-12-09T22:30:22.393Z"
   },
   {
    "duration": 47,
    "start_time": "2021-12-09T22:30:22.405Z"
   },
   {
    "duration": 6,
    "start_time": "2021-12-09T22:30:22.454Z"
   },
   {
    "duration": 30,
    "start_time": "2021-12-09T22:30:22.462Z"
   },
   {
    "duration": 13,
    "start_time": "2021-12-09T22:30:22.494Z"
   },
   {
    "duration": 35,
    "start_time": "2021-12-09T22:30:22.508Z"
   },
   {
    "duration": 21,
    "start_time": "2021-12-09T22:30:22.545Z"
   },
   {
    "duration": 36,
    "start_time": "2021-12-09T22:30:22.568Z"
   },
   {
    "duration": 61,
    "start_time": "2021-12-09T22:30:22.606Z"
   },
   {
    "duration": 63,
    "start_time": "2021-12-09T22:30:22.669Z"
   },
   {
    "duration": 56,
    "start_time": "2021-12-09T22:30:22.734Z"
   },
   {
    "duration": 53,
    "start_time": "2021-12-09T22:30:22.792Z"
   },
   {
    "duration": 2,
    "start_time": "2021-12-09T22:30:22.847Z"
   },
   {
    "duration": 11,
    "start_time": "2021-12-09T22:30:22.851Z"
   },
   {
    "duration": 39,
    "start_time": "2021-12-09T22:30:22.864Z"
   },
   {
    "duration": 11,
    "start_time": "2021-12-09T22:30:23.554Z"
   },
   {
    "duration": 11,
    "start_time": "2021-12-09T22:30:38.763Z"
   },
   {
    "duration": 11,
    "start_time": "2021-12-09T22:31:27.873Z"
   },
   {
    "duration": 33,
    "start_time": "2021-12-09T22:35:12.354Z"
   },
   {
    "duration": 12,
    "start_time": "2021-12-09T22:35:18.532Z"
   },
   {
    "duration": 845,
    "start_time": "2021-12-09T22:36:12.405Z"
   },
   {
    "duration": 139,
    "start_time": "2021-12-09T22:36:13.252Z"
   },
   {
    "duration": 17,
    "start_time": "2021-12-09T22:36:13.393Z"
   },
   {
    "duration": 32,
    "start_time": "2021-12-09T22:36:13.412Z"
   },
   {
    "duration": 4,
    "start_time": "2021-12-09T22:36:13.446Z"
   },
   {
    "duration": 23,
    "start_time": "2021-12-09T22:36:13.451Z"
   },
   {
    "duration": 3,
    "start_time": "2021-12-09T22:36:13.476Z"
   },
   {
    "duration": 23,
    "start_time": "2021-12-09T22:36:13.482Z"
   },
   {
    "duration": 48,
    "start_time": "2021-12-09T22:36:13.507Z"
   },
   {
    "duration": 23,
    "start_time": "2021-12-09T22:36:13.557Z"
   },
   {
    "duration": 70,
    "start_time": "2021-12-09T22:36:13.582Z"
   },
   {
    "duration": 77,
    "start_time": "2021-12-09T22:36:13.654Z"
   },
   {
    "duration": 60,
    "start_time": "2021-12-09T22:36:13.733Z"
   },
   {
    "duration": 52,
    "start_time": "2021-12-09T22:36:13.794Z"
   },
   {
    "duration": 3,
    "start_time": "2021-12-09T22:36:13.847Z"
   },
   {
    "duration": 25,
    "start_time": "2021-12-09T22:36:13.851Z"
   },
   {
    "duration": 45,
    "start_time": "2021-12-09T22:36:13.877Z"
   },
   {
    "duration": 31,
    "start_time": "2021-12-09T22:36:13.923Z"
   },
   {
    "duration": 10,
    "start_time": "2021-12-09T22:36:13.956Z"
   },
   {
    "duration": 3,
    "start_time": "2021-12-09T22:36:13.968Z"
   },
   {
    "duration": 19,
    "start_time": "2021-12-09T22:36:13.973Z"
   },
   {
    "duration": 14,
    "start_time": "2021-12-09T22:36:13.994Z"
   },
   {
    "duration": 41,
    "start_time": "2021-12-09T22:36:14.011Z"
   },
   {
    "duration": 13,
    "start_time": "2021-12-09T22:36:14.054Z"
   },
   {
    "duration": 17,
    "start_time": "2021-12-09T22:36:14.068Z"
   },
   {
    "duration": 16,
    "start_time": "2021-12-09T22:36:14.087Z"
   },
   {
    "duration": 7,
    "start_time": "2021-12-09T22:36:14.105Z"
   },
   {
    "duration": 41,
    "start_time": "2021-12-09T22:36:14.114Z"
   },
   {
    "duration": 9,
    "start_time": "2021-12-09T22:36:14.156Z"
   },
   {
    "duration": 3,
    "start_time": "2021-12-09T22:36:14.167Z"
   },
   {
    "duration": 23,
    "start_time": "2021-12-09T22:36:14.172Z"
   },
   {
    "duration": 12,
    "start_time": "2021-12-09T22:36:14.197Z"
   },
   {
    "duration": 45,
    "start_time": "2021-12-09T22:36:14.211Z"
   },
   {
    "duration": 14,
    "start_time": "2021-12-09T22:36:14.258Z"
   },
   {
    "duration": 10,
    "start_time": "2021-12-09T22:36:14.274Z"
   },
   {
    "duration": 17,
    "start_time": "2021-12-09T22:36:14.286Z"
   },
   {
    "duration": 10,
    "start_time": "2021-12-09T22:36:14.305Z"
   },
   {
    "duration": 5,
    "start_time": "2021-12-09T22:36:14.317Z"
   },
   {
    "duration": 34,
    "start_time": "2021-12-09T22:40:39.557Z"
   },
   {
    "duration": 11,
    "start_time": "2021-12-09T22:40:43.238Z"
   },
   {
    "duration": 585,
    "start_time": "2021-12-09T22:42:19.506Z"
   },
   {
    "duration": 142,
    "start_time": "2021-12-09T22:42:20.093Z"
   },
   {
    "duration": 19,
    "start_time": "2021-12-09T22:42:20.237Z"
   },
   {
    "duration": 25,
    "start_time": "2021-12-09T22:42:20.258Z"
   },
   {
    "duration": 4,
    "start_time": "2021-12-09T22:42:20.286Z"
   },
   {
    "duration": 52,
    "start_time": "2021-12-09T22:42:20.292Z"
   },
   {
    "duration": 5,
    "start_time": "2021-12-09T22:42:20.347Z"
   },
   {
    "duration": 25,
    "start_time": "2021-12-09T22:42:20.355Z"
   },
   {
    "duration": 17,
    "start_time": "2021-12-09T22:42:20.383Z"
   },
   {
    "duration": 46,
    "start_time": "2021-12-09T22:42:20.402Z"
   },
   {
    "duration": 60,
    "start_time": "2021-12-09T22:42:20.450Z"
   },
   {
    "duration": 80,
    "start_time": "2021-12-09T22:42:20.512Z"
   },
   {
    "duration": 52,
    "start_time": "2021-12-09T22:42:20.594Z"
   },
   {
    "duration": 40,
    "start_time": "2021-12-09T22:42:20.648Z"
   },
   {
    "duration": 3,
    "start_time": "2021-12-09T22:42:20.690Z"
   },
   {
    "duration": 16,
    "start_time": "2021-12-09T22:42:20.695Z"
   },
   {
    "duration": 56,
    "start_time": "2021-12-09T22:42:20.713Z"
   },
   {
    "duration": 11,
    "start_time": "2021-12-09T22:42:20.771Z"
   },
   {
    "duration": 10,
    "start_time": "2021-12-09T22:42:20.784Z"
   },
   {
    "duration": 4,
    "start_time": "2021-12-09T22:42:20.795Z"
   },
   {
    "duration": 48,
    "start_time": "2021-12-09T22:42:20.800Z"
   },
   {
    "duration": 13,
    "start_time": "2021-12-09T22:42:20.850Z"
   },
   {
    "duration": 14,
    "start_time": "2021-12-09T22:42:20.867Z"
   },
   {
    "duration": 12,
    "start_time": "2021-12-09T22:42:20.883Z"
   },
   {
    "duration": 15,
    "start_time": "2021-12-09T22:42:20.897Z"
   },
   {
    "duration": 15,
    "start_time": "2021-12-09T22:42:20.944Z"
   },
   {
    "duration": 7,
    "start_time": "2021-12-09T22:42:20.961Z"
   },
   {
    "duration": 11,
    "start_time": "2021-12-09T22:42:20.970Z"
   },
   {
    "duration": 8,
    "start_time": "2021-12-09T22:42:20.982Z"
   },
   {
    "duration": 4,
    "start_time": "2021-12-09T22:42:20.992Z"
   },
   {
    "duration": 50,
    "start_time": "2021-12-09T22:42:20.998Z"
   },
   {
    "duration": 12,
    "start_time": "2021-12-09T22:42:21.050Z"
   },
   {
    "duration": 17,
    "start_time": "2021-12-09T22:42:21.064Z"
   },
   {
    "duration": 11,
    "start_time": "2021-12-09T22:42:21.083Z"
   },
   {
    "duration": 8,
    "start_time": "2021-12-09T22:42:21.096Z"
   },
   {
    "duration": 4,
    "start_time": "2021-12-09T22:42:21.106Z"
   },
   {
    "duration": 37,
    "start_time": "2021-12-09T22:42:21.111Z"
   },
   {
    "duration": 4,
    "start_time": "2021-12-09T22:42:21.150Z"
   },
   {
    "duration": 414,
    "start_time": "2022-06-20T17:03:06.528Z"
   },
   {
    "duration": 237,
    "start_time": "2022-06-20T17:03:06.945Z"
   },
   {
    "duration": 19,
    "start_time": "2022-06-20T17:03:07.184Z"
   },
   {
    "duration": 46,
    "start_time": "2022-06-20T17:03:07.206Z"
   },
   {
    "duration": 30,
    "start_time": "2022-06-20T17:03:07.254Z"
   },
   {
    "duration": 30,
    "start_time": "2022-06-20T17:03:07.286Z"
   },
   {
    "duration": 23,
    "start_time": "2022-06-20T17:03:07.318Z"
   },
   {
    "duration": 55,
    "start_time": "2022-06-20T17:03:07.343Z"
   },
   {
    "duration": 50,
    "start_time": "2022-06-20T17:03:07.400Z"
   },
   {
    "duration": 33,
    "start_time": "2022-06-20T17:03:07.453Z"
   },
   {
    "duration": 99,
    "start_time": "2022-06-20T17:03:07.488Z"
   },
   {
    "duration": 112,
    "start_time": "2022-06-20T17:03:07.589Z"
   },
   {
    "duration": 66,
    "start_time": "2022-06-20T17:03:07.703Z"
   },
   {
    "duration": 74,
    "start_time": "2022-06-20T17:03:07.770Z"
   },
   {
    "duration": 3,
    "start_time": "2022-06-20T17:03:07.846Z"
   },
   {
    "duration": 28,
    "start_time": "2022-06-20T17:03:07.851Z"
   },
   {
    "duration": 76,
    "start_time": "2022-06-20T17:03:07.881Z"
   },
   {
    "duration": 12,
    "start_time": "2022-06-20T17:03:07.959Z"
   },
   {
    "duration": 36,
    "start_time": "2022-06-20T17:03:07.973Z"
   },
   {
    "duration": 10,
    "start_time": "2022-06-20T17:03:08.011Z"
   },
   {
    "duration": 44,
    "start_time": "2022-06-20T17:03:08.023Z"
   },
   {
    "duration": 29,
    "start_time": "2022-06-20T17:03:08.069Z"
   },
   {
    "duration": 35,
    "start_time": "2022-06-20T17:03:08.100Z"
   },
   {
    "duration": 24,
    "start_time": "2022-06-20T17:03:08.137Z"
   },
   {
    "duration": 21,
    "start_time": "2022-06-20T17:03:08.163Z"
   },
   {
    "duration": 28,
    "start_time": "2022-06-20T17:03:08.186Z"
   },
   {
    "duration": 22,
    "start_time": "2022-06-20T17:03:08.216Z"
   },
   {
    "duration": 24,
    "start_time": "2022-06-20T17:03:08.241Z"
   },
   {
    "duration": 23,
    "start_time": "2022-06-20T17:03:08.266Z"
   },
   {
    "duration": 20,
    "start_time": "2022-06-20T17:03:08.291Z"
   },
   {
    "duration": 53,
    "start_time": "2022-06-20T17:03:08.313Z"
   },
   {
    "duration": 29,
    "start_time": "2022-06-20T17:03:08.368Z"
   },
   {
    "duration": 25,
    "start_time": "2022-06-20T17:03:08.399Z"
   },
   {
    "duration": 23,
    "start_time": "2022-06-20T17:03:08.426Z"
   },
   {
    "duration": 17,
    "start_time": "2022-06-20T17:03:08.451Z"
   },
   {
    "duration": 19,
    "start_time": "2022-06-20T17:03:08.470Z"
   },
   {
    "duration": 26,
    "start_time": "2022-06-20T17:03:08.491Z"
   },
   {
    "duration": 22,
    "start_time": "2022-06-20T17:03:08.519Z"
   },
   {
    "duration": 48,
    "start_time": "2022-06-20T17:18:55.247Z"
   },
   {
    "duration": 374,
    "start_time": "2022-06-20T17:19:02.554Z"
   },
   {
    "duration": 157,
    "start_time": "2022-06-20T17:19:02.930Z"
   },
   {
    "duration": 16,
    "start_time": "2022-06-20T17:19:03.088Z"
   },
   {
    "duration": 40,
    "start_time": "2022-06-20T17:19:03.106Z"
   },
   {
    "duration": 12,
    "start_time": "2022-06-20T17:19:03.148Z"
   },
   {
    "duration": 37,
    "start_time": "2022-06-20T17:19:03.162Z"
   },
   {
    "duration": 31,
    "start_time": "2022-06-20T17:19:03.200Z"
   },
   {
    "duration": 53,
    "start_time": "2022-06-20T17:19:03.233Z"
   },
   {
    "duration": 40,
    "start_time": "2022-06-20T17:19:03.288Z"
   },
   {
    "duration": 32,
    "start_time": "2022-06-20T17:19:03.331Z"
   },
   {
    "duration": 75,
    "start_time": "2022-06-20T17:19:03.364Z"
   },
   {
    "duration": 72,
    "start_time": "2022-06-20T17:19:03.441Z"
   },
   {
    "duration": 62,
    "start_time": "2022-06-20T17:19:03.515Z"
   },
   {
    "duration": 56,
    "start_time": "2022-06-20T17:19:03.579Z"
   },
   {
    "duration": 12,
    "start_time": "2022-06-20T17:19:03.637Z"
   },
   {
    "duration": 36,
    "start_time": "2022-06-20T17:19:03.651Z"
   },
   {
    "duration": 60,
    "start_time": "2022-06-20T17:19:03.689Z"
   },
   {
    "duration": 20,
    "start_time": "2022-06-20T17:19:03.751Z"
   },
   {
    "duration": 33,
    "start_time": "2022-06-20T17:19:03.773Z"
   },
   {
    "duration": 13,
    "start_time": "2022-06-20T17:19:03.808Z"
   },
   {
    "duration": 42,
    "start_time": "2022-06-20T17:19:03.823Z"
   },
   {
    "duration": 39,
    "start_time": "2022-06-20T17:19:03.867Z"
   },
   {
    "duration": 33,
    "start_time": "2022-06-20T17:19:03.908Z"
   },
   {
    "duration": 17,
    "start_time": "2022-06-20T17:19:03.942Z"
   },
   {
    "duration": 33,
    "start_time": "2022-06-20T17:19:03.961Z"
   },
   {
    "duration": 36,
    "start_time": "2022-06-20T17:19:03.996Z"
   },
   {
    "duration": 9,
    "start_time": "2022-06-20T17:19:04.034Z"
   },
   {
    "duration": 43,
    "start_time": "2022-06-20T17:19:04.046Z"
   },
   {
    "duration": 26,
    "start_time": "2022-06-20T17:19:04.091Z"
   },
   {
    "duration": 15,
    "start_time": "2022-06-20T17:19:04.119Z"
   },
   {
    "duration": 53,
    "start_time": "2022-06-20T17:19:04.136Z"
   },
   {
    "duration": 44,
    "start_time": "2022-06-20T17:19:04.191Z"
   },
   {
    "duration": 25,
    "start_time": "2022-06-20T17:19:04.237Z"
   },
   {
    "duration": 31,
    "start_time": "2022-06-20T17:19:04.264Z"
   },
   {
    "duration": 25,
    "start_time": "2022-06-20T17:19:04.297Z"
   },
   {
    "duration": 20,
    "start_time": "2022-06-20T17:19:04.324Z"
   },
   {
    "duration": 20,
    "start_time": "2022-06-20T17:19:04.346Z"
   },
   {
    "duration": 44,
    "start_time": "2022-06-20T17:19:04.368Z"
   },
   {
    "duration": 407,
    "start_time": "2022-06-20T21:33:07.592Z"
   },
   {
    "duration": 218,
    "start_time": "2022-06-20T21:33:08.001Z"
   },
   {
    "duration": 16,
    "start_time": "2022-06-20T21:33:08.221Z"
   },
   {
    "duration": 29,
    "start_time": "2022-06-20T21:33:08.239Z"
   },
   {
    "duration": 8,
    "start_time": "2022-06-20T21:33:08.269Z"
   },
   {
    "duration": 43,
    "start_time": "2022-06-20T21:33:08.278Z"
   },
   {
    "duration": 31,
    "start_time": "2022-06-20T21:33:08.323Z"
   },
   {
    "duration": 48,
    "start_time": "2022-06-20T21:33:08.356Z"
   },
   {
    "duration": 29,
    "start_time": "2022-06-20T21:33:08.406Z"
   },
   {
    "duration": 25,
    "start_time": "2022-06-20T21:33:08.437Z"
   },
   {
    "duration": 75,
    "start_time": "2022-06-20T21:33:08.464Z"
   },
   {
    "duration": 84,
    "start_time": "2022-06-20T21:33:08.541Z"
   },
   {
    "duration": 55,
    "start_time": "2022-06-20T21:33:08.627Z"
   },
   {
    "duration": 47,
    "start_time": "2022-06-20T21:33:08.684Z"
   },
   {
    "duration": 3,
    "start_time": "2022-06-20T21:33:08.732Z"
   },
   {
    "duration": 34,
    "start_time": "2022-06-20T21:33:08.737Z"
   },
   {
    "duration": 69,
    "start_time": "2022-06-20T21:33:08.773Z"
   },
   {
    "duration": 12,
    "start_time": "2022-06-20T21:33:08.843Z"
   },
   {
    "duration": 10,
    "start_time": "2022-06-20T21:33:08.857Z"
   },
   {
    "duration": 4,
    "start_time": "2022-06-20T21:33:08.869Z"
   },
   {
    "duration": 45,
    "start_time": "2022-06-20T21:33:08.874Z"
   },
   {
    "duration": 21,
    "start_time": "2022-06-20T21:33:08.922Z"
   },
   {
    "duration": 22,
    "start_time": "2022-06-20T21:33:08.945Z"
   },
   {
    "duration": 32,
    "start_time": "2022-06-20T21:33:08.969Z"
   },
   {
    "duration": 20,
    "start_time": "2022-06-20T21:33:09.003Z"
   },
   {
    "duration": 31,
    "start_time": "2022-06-20T21:33:09.025Z"
   },
   {
    "duration": 20,
    "start_time": "2022-06-20T21:33:09.059Z"
   },
   {
    "duration": 30,
    "start_time": "2022-06-20T21:33:09.083Z"
   },
   {
    "duration": 28,
    "start_time": "2022-06-20T21:33:09.115Z"
   },
   {
    "duration": 26,
    "start_time": "2022-06-20T21:33:09.146Z"
   },
   {
    "duration": 48,
    "start_time": "2022-06-20T21:33:09.174Z"
   },
   {
    "duration": 13,
    "start_time": "2022-06-20T21:33:09.223Z"
   },
   {
    "duration": 28,
    "start_time": "2022-06-20T21:33:09.238Z"
   },
   {
    "duration": 17,
    "start_time": "2022-06-20T21:33:09.268Z"
   },
   {
    "duration": 24,
    "start_time": "2022-06-20T21:33:09.286Z"
   },
   {
    "duration": 12,
    "start_time": "2022-06-20T21:33:09.312Z"
   },
   {
    "duration": 29,
    "start_time": "2022-06-20T21:33:09.326Z"
   },
   {
    "duration": 28,
    "start_time": "2022-06-20T21:33:09.357Z"
   },
   {
    "duration": 375,
    "start_time": "2022-06-20T21:48:46.613Z"
   },
   {
    "duration": 160,
    "start_time": "2022-06-20T21:48:46.989Z"
   },
   {
    "duration": 17,
    "start_time": "2022-06-20T21:48:47.150Z"
   },
   {
    "duration": 37,
    "start_time": "2022-06-20T21:48:47.169Z"
   },
   {
    "duration": 4,
    "start_time": "2022-06-20T21:48:47.208Z"
   },
   {
    "duration": 15,
    "start_time": "2022-06-20T21:48:47.213Z"
   },
   {
    "duration": 7,
    "start_time": "2022-06-20T21:48:47.230Z"
   },
   {
    "duration": 27,
    "start_time": "2022-06-20T21:48:47.238Z"
   },
   {
    "duration": 44,
    "start_time": "2022-06-20T21:48:47.266Z"
   },
   {
    "duration": 25,
    "start_time": "2022-06-20T21:48:47.313Z"
   },
   {
    "duration": 77,
    "start_time": "2022-06-20T21:48:47.340Z"
   },
   {
    "duration": 92,
    "start_time": "2022-06-20T21:48:47.418Z"
   },
   {
    "duration": 59,
    "start_time": "2022-06-20T21:48:47.512Z"
   },
   {
    "duration": 51,
    "start_time": "2022-06-20T21:48:47.573Z"
   },
   {
    "duration": 3,
    "start_time": "2022-06-20T21:48:47.625Z"
   },
   {
    "duration": 13,
    "start_time": "2022-06-20T21:48:47.630Z"
   },
   {
    "duration": 51,
    "start_time": "2022-06-20T21:48:47.645Z"
   },
   {
    "duration": 12,
    "start_time": "2022-06-20T21:48:47.697Z"
   },
   {
    "duration": 11,
    "start_time": "2022-06-20T21:48:47.711Z"
   },
   {
    "duration": 6,
    "start_time": "2022-06-20T21:48:47.723Z"
   },
   {
    "duration": 20,
    "start_time": "2022-06-20T21:48:47.730Z"
   },
   {
    "duration": 13,
    "start_time": "2022-06-20T21:48:47.752Z"
   },
   {
    "duration": 41,
    "start_time": "2022-06-20T21:48:47.766Z"
   },
   {
    "duration": 11,
    "start_time": "2022-06-20T21:48:47.809Z"
   },
   {
    "duration": 14,
    "start_time": "2022-06-20T21:48:47.822Z"
   },
   {
    "duration": 13,
    "start_time": "2022-06-20T21:48:47.838Z"
   },
   {
    "duration": 8,
    "start_time": "2022-06-20T21:48:47.853Z"
   },
   {
    "duration": 11,
    "start_time": "2022-06-20T21:48:47.896Z"
   },
   {
    "duration": 12,
    "start_time": "2022-06-20T21:48:47.908Z"
   },
   {
    "duration": 8,
    "start_time": "2022-06-20T21:48:47.921Z"
   },
   {
    "duration": 20,
    "start_time": "2022-06-20T21:48:47.930Z"
   },
   {
    "duration": 11,
    "start_time": "2022-06-20T21:48:47.952Z"
   },
   {
    "duration": 39,
    "start_time": "2022-06-20T21:48:47.965Z"
   },
   {
    "duration": 12,
    "start_time": "2022-06-20T21:48:48.005Z"
   },
   {
    "duration": 7,
    "start_time": "2022-06-20T21:48:48.018Z"
   },
   {
    "duration": 4,
    "start_time": "2022-06-20T21:48:48.027Z"
   },
   {
    "duration": 8,
    "start_time": "2022-06-20T21:48:48.032Z"
   },
   {
    "duration": 8,
    "start_time": "2022-06-20T21:48:48.041Z"
   }
  ],
  "colab": {
   "collapsed_sections": [
    "E0vqbgi9ay0H",
    "VUC88oWjTJw2"
   ],
   "name": "yandex_music_project_2021.2.ipynb",
   "provenance": []
  },
  "kernelspec": {
   "display_name": "Python 3 (ipykernel)",
   "language": "python",
   "name": "python3"
  },
  "language_info": {
   "codemirror_mode": {
    "name": "ipython",
    "version": 3
   },
   "file_extension": ".py",
   "mimetype": "text/x-python",
   "name": "python",
   "nbconvert_exporter": "python",
   "pygments_lexer": "ipython3",
   "version": "3.9.5"
  },
  "toc": {
   "base_numbering": 1,
   "nav_menu": {},
   "number_sections": true,
   "sideBar": true,
   "skip_h1_title": true,
   "title_cell": "Table of Contents",
   "title_sidebar": "Contents",
   "toc_cell": false,
   "toc_position": {
    "height": "calc(100% - 180px)",
    "left": "10px",
    "top": "150px",
    "width": "356.797px"
   },
   "toc_section_display": true,
   "toc_window_display": false
  }
 },
 "nbformat": 4,
 "nbformat_minor": 1
}
