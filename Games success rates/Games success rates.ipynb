{
 "cells": [
  {
   "cell_type": "markdown",
   "metadata": {},
   "source": [
    "# Содержание\n",
    "\n",
    "Часть 1. Описание проекта.<br>\n",
    "\n",
    "* 1. Описание исследования.\n",
    "* 2. Цель исследования.\n",
    "\n",
    "Часть 2. Подготовка данных.<br>\n",
    "\n",
    "* 1. Изучение предоставленных данных.\n",
    "* 2. Изменение названия колонок.\n",
    "* 3. Удаление пропусков.\n",
    "* 4. Изменение типов данных в колонках.\n",
    "* 5. Выявление и устрание дубликатов.\n",
    "* 6. Обработка аномальных значений.\n",
    "* 7. Обработка пропусков.\n",
    "* 8. Дополнение данных.\n",
    "\n",
    "Часть 3. Проведение анализа данных.<br>\n",
    "\n",
    "* 1. Выявление актуальных периода, платформ и жанров.\n",
    "* 2. Описание портрета пользователя для каждого региона.\n",
    "\n",
    "Часть 4. Проверка гипотез.<br>\n",
    "\n",
    "* 1. Гипотеза \"Средние пользовательские рейтинги платформ Xbox One и PC одинаковые\". \n",
    "* 2. Гипотеза \"Средние пользовательские рейтинги жанров Action (англ. «действие», экшен-игры) и Sports (англ. «спортивные соревнования») разные\".\n",
    "\n",
    "Часть 5. Подведение итогов.<br>\n",
    "\n",
    "* 1. Общий вывод по исследованию."
   ]
  },
  {
   "cell_type": "markdown",
   "metadata": {},
   "source": [
    "# Часть 1. Описание проекта.\n",
    "\n",
    "## Описание исследования.\n",
    "\n",
    "В нашем распоряжении данные с 1985г. по 2016г. из открытых источников о продажах игр. Данные содержат оценки пользователей и экспертов, жанры и платформы, а также продажи по регионам. Необходимо отработать принцип работы с данными, для того чтобы выявить потенциально популярный продукт.\n",
    "\n",
    "## Цель исследования.\n",
    "\n",
    "Провести анализ игр и выявить основные факторы определяющие успешность продаж игр.\n"
   ]
  },
  {
   "cell_type": "markdown",
   "metadata": {},
   "source": [
    "# Часть 2. Подготовка данных.\n",
    "## Изучение предоставленных данных."
   ]
  },
  {
   "cell_type": "code",
   "execution_count": 1,
   "metadata": {},
   "outputs": [
    {
     "name": "stdout",
     "output_type": "stream",
     "text": [
      "<class 'pandas.core.frame.DataFrame'>\n",
      "RangeIndex: 16715 entries, 0 to 16714\n",
      "Data columns (total 11 columns):\n",
      " #   Column           Non-Null Count  Dtype  \n",
      "---  ------           --------------  -----  \n",
      " 0   Name             16713 non-null  object \n",
      " 1   Platform         16715 non-null  object \n",
      " 2   Year_of_Release  16446 non-null  float64\n",
      " 3   Genre            16713 non-null  object \n",
      " 4   NA_sales         16715 non-null  float64\n",
      " 5   EU_sales         16715 non-null  float64\n",
      " 6   JP_sales         16715 non-null  float64\n",
      " 7   Other_sales      16715 non-null  float64\n",
      " 8   Critic_Score     8137 non-null   float64\n",
      " 9   User_Score       10014 non-null  object \n",
      " 10  Rating           9949 non-null   object \n",
      "dtypes: float64(6), object(5)\n",
      "memory usage: 1.4+ MB\n"
     ]
    },
    {
     "data": {
      "text/html": [
       "<div>\n",
       "<style scoped>\n",
       "    .dataframe tbody tr th:only-of-type {\n",
       "        vertical-align: middle;\n",
       "    }\n",
       "\n",
       "    .dataframe tbody tr th {\n",
       "        vertical-align: top;\n",
       "    }\n",
       "\n",
       "    .dataframe thead th {\n",
       "        text-align: right;\n",
       "    }\n",
       "</style>\n",
       "<table border=\"1\" class=\"dataframe\">\n",
       "  <thead>\n",
       "    <tr style=\"text-align: right;\">\n",
       "      <th></th>\n",
       "      <th>Name</th>\n",
       "      <th>Platform</th>\n",
       "      <th>Year_of_Release</th>\n",
       "      <th>Genre</th>\n",
       "      <th>NA_sales</th>\n",
       "      <th>EU_sales</th>\n",
       "      <th>JP_sales</th>\n",
       "      <th>Other_sales</th>\n",
       "      <th>Critic_Score</th>\n",
       "      <th>User_Score</th>\n",
       "      <th>Rating</th>\n",
       "    </tr>\n",
       "  </thead>\n",
       "  <tbody>\n",
       "    <tr>\n",
       "      <th>0</th>\n",
       "      <td>Wii Sports</td>\n",
       "      <td>Wii</td>\n",
       "      <td>2006.0</td>\n",
       "      <td>Sports</td>\n",
       "      <td>41.36</td>\n",
       "      <td>28.96</td>\n",
       "      <td>3.77</td>\n",
       "      <td>8.45</td>\n",
       "      <td>76.0</td>\n",
       "      <td>8</td>\n",
       "      <td>E</td>\n",
       "    </tr>\n",
       "    <tr>\n",
       "      <th>1</th>\n",
       "      <td>Super Mario Bros.</td>\n",
       "      <td>NES</td>\n",
       "      <td>1985.0</td>\n",
       "      <td>Platform</td>\n",
       "      <td>29.08</td>\n",
       "      <td>3.58</td>\n",
       "      <td>6.81</td>\n",
       "      <td>0.77</td>\n",
       "      <td>NaN</td>\n",
       "      <td>NaN</td>\n",
       "      <td>NaN</td>\n",
       "    </tr>\n",
       "    <tr>\n",
       "      <th>2</th>\n",
       "      <td>Mario Kart Wii</td>\n",
       "      <td>Wii</td>\n",
       "      <td>2008.0</td>\n",
       "      <td>Racing</td>\n",
       "      <td>15.68</td>\n",
       "      <td>12.76</td>\n",
       "      <td>3.79</td>\n",
       "      <td>3.29</td>\n",
       "      <td>82.0</td>\n",
       "      <td>8.3</td>\n",
       "      <td>E</td>\n",
       "    </tr>\n",
       "    <tr>\n",
       "      <th>3</th>\n",
       "      <td>Wii Sports Resort</td>\n",
       "      <td>Wii</td>\n",
       "      <td>2009.0</td>\n",
       "      <td>Sports</td>\n",
       "      <td>15.61</td>\n",
       "      <td>10.93</td>\n",
       "      <td>3.28</td>\n",
       "      <td>2.95</td>\n",
       "      <td>80.0</td>\n",
       "      <td>8</td>\n",
       "      <td>E</td>\n",
       "    </tr>\n",
       "    <tr>\n",
       "      <th>4</th>\n",
       "      <td>Pokemon Red/Pokemon Blue</td>\n",
       "      <td>GB</td>\n",
       "      <td>1996.0</td>\n",
       "      <td>Role-Playing</td>\n",
       "      <td>11.27</td>\n",
       "      <td>8.89</td>\n",
       "      <td>10.22</td>\n",
       "      <td>1.00</td>\n",
       "      <td>NaN</td>\n",
       "      <td>NaN</td>\n",
       "      <td>NaN</td>\n",
       "    </tr>\n",
       "  </tbody>\n",
       "</table>\n",
       "</div>"
      ],
      "text/plain": [
       "                       Name Platform  Year_of_Release         Genre  NA_sales  \\\n",
       "0                Wii Sports      Wii           2006.0        Sports     41.36   \n",
       "1         Super Mario Bros.      NES           1985.0      Platform     29.08   \n",
       "2            Mario Kart Wii      Wii           2008.0        Racing     15.68   \n",
       "3         Wii Sports Resort      Wii           2009.0        Sports     15.61   \n",
       "4  Pokemon Red/Pokemon Blue       GB           1996.0  Role-Playing     11.27   \n",
       "\n",
       "   EU_sales  JP_sales  Other_sales  Critic_Score User_Score Rating  \n",
       "0     28.96      3.77         8.45          76.0          8      E  \n",
       "1      3.58      6.81         0.77           NaN        NaN    NaN  \n",
       "2     12.76      3.79         3.29          82.0        8.3      E  \n",
       "3     10.93      3.28         2.95          80.0          8      E  \n",
       "4      8.89     10.22         1.00           NaN        NaN    NaN  "
      ]
     },
     "metadata": {},
     "output_type": "display_data"
    },
    {
     "data": {
      "text/html": [
       "<div>\n",
       "<style scoped>\n",
       "    .dataframe tbody tr th:only-of-type {\n",
       "        vertical-align: middle;\n",
       "    }\n",
       "\n",
       "    .dataframe tbody tr th {\n",
       "        vertical-align: top;\n",
       "    }\n",
       "\n",
       "    .dataframe thead th {\n",
       "        text-align: right;\n",
       "    }\n",
       "</style>\n",
       "<table border=\"1\" class=\"dataframe\">\n",
       "  <thead>\n",
       "    <tr style=\"text-align: right;\">\n",
       "      <th></th>\n",
       "      <th>Year_of_Release</th>\n",
       "      <th>NA_sales</th>\n",
       "      <th>EU_sales</th>\n",
       "      <th>JP_sales</th>\n",
       "      <th>Other_sales</th>\n",
       "      <th>Critic_Score</th>\n",
       "    </tr>\n",
       "  </thead>\n",
       "  <tbody>\n",
       "    <tr>\n",
       "      <th>count</th>\n",
       "      <td>16446.000000</td>\n",
       "      <td>16715.000000</td>\n",
       "      <td>16715.000000</td>\n",
       "      <td>16715.000000</td>\n",
       "      <td>16715.000000</td>\n",
       "      <td>8137.000000</td>\n",
       "    </tr>\n",
       "    <tr>\n",
       "      <th>mean</th>\n",
       "      <td>2006.484616</td>\n",
       "      <td>0.263377</td>\n",
       "      <td>0.145060</td>\n",
       "      <td>0.077617</td>\n",
       "      <td>0.047342</td>\n",
       "      <td>68.967679</td>\n",
       "    </tr>\n",
       "    <tr>\n",
       "      <th>std</th>\n",
       "      <td>5.877050</td>\n",
       "      <td>0.813604</td>\n",
       "      <td>0.503339</td>\n",
       "      <td>0.308853</td>\n",
       "      <td>0.186731</td>\n",
       "      <td>13.938165</td>\n",
       "    </tr>\n",
       "    <tr>\n",
       "      <th>min</th>\n",
       "      <td>1980.000000</td>\n",
       "      <td>0.000000</td>\n",
       "      <td>0.000000</td>\n",
       "      <td>0.000000</td>\n",
       "      <td>0.000000</td>\n",
       "      <td>13.000000</td>\n",
       "    </tr>\n",
       "    <tr>\n",
       "      <th>25%</th>\n",
       "      <td>2003.000000</td>\n",
       "      <td>0.000000</td>\n",
       "      <td>0.000000</td>\n",
       "      <td>0.000000</td>\n",
       "      <td>0.000000</td>\n",
       "      <td>60.000000</td>\n",
       "    </tr>\n",
       "    <tr>\n",
       "      <th>50%</th>\n",
       "      <td>2007.000000</td>\n",
       "      <td>0.080000</td>\n",
       "      <td>0.020000</td>\n",
       "      <td>0.000000</td>\n",
       "      <td>0.010000</td>\n",
       "      <td>71.000000</td>\n",
       "    </tr>\n",
       "    <tr>\n",
       "      <th>75%</th>\n",
       "      <td>2010.000000</td>\n",
       "      <td>0.240000</td>\n",
       "      <td>0.110000</td>\n",
       "      <td>0.040000</td>\n",
       "      <td>0.030000</td>\n",
       "      <td>79.000000</td>\n",
       "    </tr>\n",
       "    <tr>\n",
       "      <th>max</th>\n",
       "      <td>2016.000000</td>\n",
       "      <td>41.360000</td>\n",
       "      <td>28.960000</td>\n",
       "      <td>10.220000</td>\n",
       "      <td>10.570000</td>\n",
       "      <td>98.000000</td>\n",
       "    </tr>\n",
       "  </tbody>\n",
       "</table>\n",
       "</div>"
      ],
      "text/plain": [
       "       Year_of_Release      NA_sales      EU_sales      JP_sales  \\\n",
       "count     16446.000000  16715.000000  16715.000000  16715.000000   \n",
       "mean       2006.484616      0.263377      0.145060      0.077617   \n",
       "std           5.877050      0.813604      0.503339      0.308853   \n",
       "min        1980.000000      0.000000      0.000000      0.000000   \n",
       "25%        2003.000000      0.000000      0.000000      0.000000   \n",
       "50%        2007.000000      0.080000      0.020000      0.000000   \n",
       "75%        2010.000000      0.240000      0.110000      0.040000   \n",
       "max        2016.000000     41.360000     28.960000     10.220000   \n",
       "\n",
       "        Other_sales  Critic_Score  \n",
       "count  16715.000000   8137.000000  \n",
       "mean       0.047342     68.967679  \n",
       "std        0.186731     13.938165  \n",
       "min        0.000000     13.000000  \n",
       "25%        0.000000     60.000000  \n",
       "50%        0.010000     71.000000  \n",
       "75%        0.030000     79.000000  \n",
       "max       10.570000     98.000000  "
      ]
     },
     "metadata": {},
     "output_type": "display_data"
    },
    {
     "data": {
      "text/plain": [
       "0"
      ]
     },
     "metadata": {},
     "output_type": "display_data"
    },
    {
     "data": {
      "text/plain": [
       "Name                0.01%\n",
       "Platform            0.00%\n",
       "Year_of_Release     1.61%\n",
       "Genre               0.01%\n",
       "NA_sales            0.00%\n",
       "EU_sales            0.00%\n",
       "JP_sales            0.00%\n",
       "Other_sales         0.00%\n",
       "Critic_Score       51.32%\n",
       "User_Score         40.09%\n",
       "Rating             40.48%\n",
       "dtype: object"
      ]
     },
     "metadata": {},
     "output_type": "display_data"
    }
   ],
   "source": [
    "# Подключение библиотек\n",
    "import pandas as pd\n",
    "import matplotlib.pyplot as plt\n",
    "import numpy as np\n",
    "from scipy import stats as st\n",
    "\n",
    "# Отключение ошибок при построении графиков\n",
    "np.warnings.filterwarnings('ignore', category=np.VisibleDeprecationWarning)\n",
    "\n",
    "# Чтение файла с данными\n",
    "games = pd.read_csv('/datasets/games.csv')\n",
    "\n",
    "\n",
    "# Функция для вывода основных данных по датасету\n",
    "def all_info(data):\n",
    "    data.info() #вывод общей информации\n",
    "    display(data.head(5)) #вывод первых 10 значений\n",
    "    display(data.describe()) #вывод описательной статистики по датасету\n",
    "    display(games.duplicated().sum()) #поиск явных дубликатов в данных\n",
    "    display(data.isna().mean().apply('{:.2%}'.format)) #подсчет пропусков в датасете в %\n",
    "\n",
    "# Применение функции all_info()\n",
    "all_info(games)"
   ]
  },
  {
   "cell_type": "markdown",
   "metadata": {},
   "source": [
    "**Вывод**\n",
    "\n",
    "Датасет состоит из следующих колонок:\n",
    "* name — название игры\n",
    "* platform — платформа\n",
    "* year_of_Release — год выпуска\n",
    "* genre — жанр игры\n",
    "* NA_sales — продажи в Северной Америке (млн копий)\n",
    "* EU_sales — продажи в Европе (млн копий)\n",
    "* JP_sales — продажи в Японии (млн копий)\n",
    "* other_sales — продажи в других странах (млн копий)\n",
    "* critic_Score — оценка критиков (максимум 100)\n",
    "* user_Score — оценка пользователей (максимум 10)\n",
    "* rating — рейтинг от организации ESRB\n",
    "\n",
    "Предоставленные данные содержат 16715 строк. На первый взгляд, на основе общей информации можно сказать следующее:\n",
    "1. Все наименования колонок написаны с заглавной буквы, для удобства следует привести их к нижнему регистру.\n",
    "2. В данных присутствуют пропуски, большая часть которых находится в колонках `'Critic_Score'`, `'User_Score'`, `'Rating'`. Также есть малое число пропусков в колонках `'Name'`, `'Year_of_Release'`, `'Genre'`, суммарный объем которых ~1.63%.\n",
    "3. Содержимому колонок `'Year_of_Release'`, `'User_Score'` не соответствует тип данных.  \n",
    "4. Явных дубликатов в данных нет."
   ]
  },
  {
   "cell_type": "markdown",
   "metadata": {},
   "source": [
    "## Изменение названия колонок."
   ]
  },
  {
   "cell_type": "markdown",
   "metadata": {},
   "source": [
    "Все наименования колонок в данных начинаются с заглавной буквы, для удобства приведем все наименования к нижнему регистру."
   ]
  },
  {
   "cell_type": "code",
   "execution_count": 2,
   "metadata": {},
   "outputs": [
    {
     "data": {
      "text/plain": [
       "Index(['name', 'platform', 'year_of_release', 'genre', 'na_sales', 'eu_sales',\n",
       "       'jp_sales', 'other_sales', 'critic_score', 'user_score', 'rating'],\n",
       "      dtype='object')"
      ]
     },
     "execution_count": 2,
     "metadata": {},
     "output_type": "execute_result"
    }
   ],
   "source": [
    "# Приводим наименования колонок к нижнему регистру\n",
    "games.columns = games.columns.str.lower()\n",
    "\n",
    "# Проверка результата\n",
    "games.columns"
   ]
  },
  {
   "cell_type": "markdown",
   "metadata": {},
   "source": [
    "## Удаление пропусков"
   ]
  },
  {
   "cell_type": "markdown",
   "metadata": {},
   "source": [
    "В колонках `'name'`, `'year_of_release'`, `'genre'` суммарный объем пропусков ~1.63% от всех данных. Можно удалить строки с пропусками в этих колонках, т.к. это не повлияет на результат исследования. Пропуски в этих колонках скорее всего связаны либо с техническим сбоем, либо с ошибками при составлении таблицы."
   ]
  },
  {
   "cell_type": "code",
   "execution_count": 3,
   "metadata": {},
   "outputs": [
    {
     "data": {
      "text/plain": [
       "name                0.00\n",
       "platform            0.00\n",
       "year_of_release     0.00\n",
       "genre               0.00\n",
       "na_sales            0.00\n",
       "eu_sales            0.00\n",
       "jp_sales            0.00\n",
       "other_sales         0.00\n",
       "critic_score       51.45\n",
       "user_score         40.17\n",
       "rating             40.60\n",
       "dtype: float64"
      ]
     },
     "execution_count": 3,
     "metadata": {},
     "output_type": "execute_result"
    }
   ],
   "source": [
    "# Удаление строк \n",
    "games.dropna(subset=['name', 'year_of_release', 'genre'], inplace=True)\n",
    "# Проверка результата\n",
    "(games.isna().mean()*100).round(decimals=2)"
   ]
  },
  {
   "cell_type": "markdown",
   "metadata": {},
   "source": [
    "## Изменение типов данных в колонках"
   ]
  },
  {
   "cell_type": "markdown",
   "metadata": {},
   "source": [
    "Типы данных колонок `'year_of_release'` и `'user_score'` не соответствуют их содержимому, необходимо поменять типы данных, для этого воспользуемся методом `astype('int')` для колонки `'year_of_release'` и `to_numeric()` для колонки `'user_score'`. Дату выхода игр переводим в тип `int`, так как нам важен год как целое число, а не полностью дата."
   ]
  },
  {
   "cell_type": "code",
   "execution_count": 4,
   "metadata": {},
   "outputs": [
    {
     "name": "stdout",
     "output_type": "stream",
     "text": [
      "<class 'pandas.core.frame.DataFrame'>\n",
      "Int64Index: 16444 entries, 0 to 16714\n",
      "Data columns (total 11 columns):\n",
      " #   Column           Non-Null Count  Dtype  \n",
      "---  ------           --------------  -----  \n",
      " 0   name             16444 non-null  object \n",
      " 1   platform         16444 non-null  object \n",
      " 2   year_of_release  16444 non-null  int64  \n",
      " 3   genre            16444 non-null  object \n",
      " 4   na_sales         16444 non-null  float64\n",
      " 5   eu_sales         16444 non-null  float64\n",
      " 6   jp_sales         16444 non-null  float64\n",
      " 7   other_sales      16444 non-null  float64\n",
      " 8   critic_score     7983 non-null   float64\n",
      " 9   user_score       7463 non-null   float64\n",
      " 10  rating           9768 non-null   object \n",
      "dtypes: float64(6), int64(1), object(4)\n",
      "memory usage: 1.5+ MB\n"
     ]
    }
   ],
   "source": [
    "# Перевод оценок пользователей во float\n",
    "games['user_score'] = pd.to_numeric(games['user_score'], errors='coerce')\n",
    "# Перевод даты выхода в int\n",
    "games['year_of_release'] = games['year_of_release'].astype('int')\n",
    "# Проверка результата\n",
    "games.info()"
   ]
  },
  {
   "cell_type": "markdown",
   "metadata": {},
   "source": [
    "## Выявление и устранение дубликатов"
   ]
  },
  {
   "cell_type": "markdown",
   "metadata": {},
   "source": [
    "Как было сказано в пункте \"Изучение общей информации\", явных дубликатов в данных нет, проверим неявные дубликаты в колонках `'name'`, `'platform'` и `'genre'`, для этого при помощи метода `'unique()'` посмотрим какие уникальные значения есть в колоноках `'platform'` и `'genre'`, а для колонки `'name'` воспользуемся методом `'value_counts()'`. Выбор методов обусловлен тем, что платформ и жанров игр не так много и метода `'unique()'` будет достаточно в отличии от количества названий игр."
   ]
  },
  {
   "cell_type": "code",
   "execution_count": 5,
   "metadata": {},
   "outputs": [
    {
     "name": "stdout",
     "output_type": "stream",
     "text": [
      "Названия \n",
      " Need for Speed: Most Wanted                               12\n",
      "LEGO Marvel Super Heroes                                   9\n",
      "FIFA 14                                                    9\n",
      "Ratatouille                                                9\n",
      "FIFA 15                                                    8\n",
      "                                                          ..\n",
      "Fisherman's Bass Club                                      1\n",
      "Hasbro Family Fun Pack                                     1\n",
      "Animorphs: Shattered Reality                               1\n",
      "Alien Trilogy                                              1\n",
      "SpongeBob SquarePants: Game Boy Advance Video Volume 3     1\n",
      "Name: name, Length: 11426, dtype: int64\n",
      "\n",
      " Платформы \n",
      " ['Wii' 'NES' 'GB' 'DS' 'X360' 'PS3' 'PS2' 'SNES' 'GBA' 'PS4' '3DS' 'N64'\n",
      " 'PS' 'XB' 'PC' '2600' 'PSP' 'XOne' 'WiiU' 'GC' 'GEN' 'DC' 'PSV' 'SAT'\n",
      " 'SCD' 'WS' 'NG' 'TG16' '3DO' 'GG' 'PCFX']\n",
      "\n",
      " Жанры \n",
      " ['Sports' 'Platform' 'Racing' 'Role-Playing' 'Puzzle' 'Misc' 'Shooter'\n",
      " 'Simulation' 'Action' 'Fighting' 'Adventure' 'Strategy']\n"
     ]
    }
   ],
   "source": [
    "# Уникальные значения названий игр\n",
    "print('Названия \\n', games['name'].value_counts())\n",
    "\n",
    "# Уникальные значения платформ\n",
    "print('\\n Платформы \\n', games['platform'].unique())\n",
    "\n",
    "# Уникальные значения жанров\n",
    "print('\\n Жанры \\n', games['genre'].unique())"
   ]
  },
  {
   "cell_type": "markdown",
   "metadata": {},
   "source": [
    "Дубликатов в колонках `'genre'` и `'platform'` нет, но в колонке `'name'` они есть. Подробнее расммотрим их на примере первой в списке игры. "
   ]
  },
  {
   "cell_type": "code",
   "execution_count": 6,
   "metadata": {},
   "outputs": [
    {
     "data": {
      "text/html": [
       "<div>\n",
       "<style scoped>\n",
       "    .dataframe tbody tr th:only-of-type {\n",
       "        vertical-align: middle;\n",
       "    }\n",
       "\n",
       "    .dataframe tbody tr th {\n",
       "        vertical-align: top;\n",
       "    }\n",
       "\n",
       "    .dataframe thead th {\n",
       "        text-align: right;\n",
       "    }\n",
       "</style>\n",
       "<table border=\"1\" class=\"dataframe\">\n",
       "  <thead>\n",
       "    <tr style=\"text-align: right;\">\n",
       "      <th></th>\n",
       "      <th>index</th>\n",
       "      <th>name</th>\n",
       "      <th>platform</th>\n",
       "      <th>year_of_release</th>\n",
       "      <th>genre</th>\n",
       "      <th>na_sales</th>\n",
       "      <th>eu_sales</th>\n",
       "      <th>jp_sales</th>\n",
       "      <th>other_sales</th>\n",
       "      <th>critic_score</th>\n",
       "      <th>user_score</th>\n",
       "      <th>rating</th>\n",
       "    </tr>\n",
       "  </thead>\n",
       "  <tbody>\n",
       "    <tr>\n",
       "      <th>0</th>\n",
       "      <td>253</td>\n",
       "      <td>Need for Speed: Most Wanted</td>\n",
       "      <td>PS2</td>\n",
       "      <td>2005</td>\n",
       "      <td>Racing</td>\n",
       "      <td>2.03</td>\n",
       "      <td>1.79</td>\n",
       "      <td>0.08</td>\n",
       "      <td>0.47</td>\n",
       "      <td>82.0</td>\n",
       "      <td>9.1</td>\n",
       "      <td>T</td>\n",
       "    </tr>\n",
       "    <tr>\n",
       "      <th>1</th>\n",
       "      <td>523</td>\n",
       "      <td>Need for Speed: Most Wanted</td>\n",
       "      <td>PS3</td>\n",
       "      <td>2012</td>\n",
       "      <td>Racing</td>\n",
       "      <td>0.71</td>\n",
       "      <td>1.46</td>\n",
       "      <td>0.06</td>\n",
       "      <td>0.58</td>\n",
       "      <td>NaN</td>\n",
       "      <td>NaN</td>\n",
       "      <td>NaN</td>\n",
       "    </tr>\n",
       "    <tr>\n",
       "      <th>2</th>\n",
       "      <td>1190</td>\n",
       "      <td>Need for Speed: Most Wanted</td>\n",
       "      <td>X360</td>\n",
       "      <td>2012</td>\n",
       "      <td>Racing</td>\n",
       "      <td>0.62</td>\n",
       "      <td>0.78</td>\n",
       "      <td>0.01</td>\n",
       "      <td>0.15</td>\n",
       "      <td>83.0</td>\n",
       "      <td>8.5</td>\n",
       "      <td>T</td>\n",
       "    </tr>\n",
       "    <tr>\n",
       "      <th>3</th>\n",
       "      <td>1591</td>\n",
       "      <td>Need for Speed: Most Wanted</td>\n",
       "      <td>X360</td>\n",
       "      <td>2005</td>\n",
       "      <td>Racing</td>\n",
       "      <td>1.00</td>\n",
       "      <td>0.13</td>\n",
       "      <td>0.02</td>\n",
       "      <td>0.10</td>\n",
       "      <td>83.0</td>\n",
       "      <td>8.5</td>\n",
       "      <td>T</td>\n",
       "    </tr>\n",
       "    <tr>\n",
       "      <th>4</th>\n",
       "      <td>1998</td>\n",
       "      <td>Need for Speed: Most Wanted</td>\n",
       "      <td>XB</td>\n",
       "      <td>2005</td>\n",
       "      <td>Racing</td>\n",
       "      <td>0.53</td>\n",
       "      <td>0.46</td>\n",
       "      <td>0.00</td>\n",
       "      <td>0.05</td>\n",
       "      <td>83.0</td>\n",
       "      <td>8.8</td>\n",
       "      <td>T</td>\n",
       "    </tr>\n",
       "    <tr>\n",
       "      <th>5</th>\n",
       "      <td>2048</td>\n",
       "      <td>Need for Speed: Most Wanted</td>\n",
       "      <td>PSV</td>\n",
       "      <td>2012</td>\n",
       "      <td>Racing</td>\n",
       "      <td>0.33</td>\n",
       "      <td>0.45</td>\n",
       "      <td>0.01</td>\n",
       "      <td>0.22</td>\n",
       "      <td>NaN</td>\n",
       "      <td>NaN</td>\n",
       "      <td>NaN</td>\n",
       "    </tr>\n",
       "    <tr>\n",
       "      <th>6</th>\n",
       "      <td>3581</td>\n",
       "      <td>Need for Speed: Most Wanted</td>\n",
       "      <td>GC</td>\n",
       "      <td>2005</td>\n",
       "      <td>Racing</td>\n",
       "      <td>0.43</td>\n",
       "      <td>0.11</td>\n",
       "      <td>0.00</td>\n",
       "      <td>0.02</td>\n",
       "      <td>80.0</td>\n",
       "      <td>9.1</td>\n",
       "      <td>T</td>\n",
       "    </tr>\n",
       "    <tr>\n",
       "      <th>7</th>\n",
       "      <td>5972</td>\n",
       "      <td>Need for Speed: Most Wanted</td>\n",
       "      <td>PC</td>\n",
       "      <td>2005</td>\n",
       "      <td>Racing</td>\n",
       "      <td>0.02</td>\n",
       "      <td>0.23</td>\n",
       "      <td>0.00</td>\n",
       "      <td>0.04</td>\n",
       "      <td>82.0</td>\n",
       "      <td>8.5</td>\n",
       "      <td>T</td>\n",
       "    </tr>\n",
       "    <tr>\n",
       "      <th>8</th>\n",
       "      <td>6273</td>\n",
       "      <td>Need for Speed: Most Wanted</td>\n",
       "      <td>WiiU</td>\n",
       "      <td>2013</td>\n",
       "      <td>Racing</td>\n",
       "      <td>0.13</td>\n",
       "      <td>0.12</td>\n",
       "      <td>0.00</td>\n",
       "      <td>0.02</td>\n",
       "      <td>NaN</td>\n",
       "      <td>NaN</td>\n",
       "      <td>NaN</td>\n",
       "    </tr>\n",
       "    <tr>\n",
       "      <th>9</th>\n",
       "      <td>6410</td>\n",
       "      <td>Need for Speed: Most Wanted</td>\n",
       "      <td>DS</td>\n",
       "      <td>2005</td>\n",
       "      <td>Racing</td>\n",
       "      <td>0.24</td>\n",
       "      <td>0.01</td>\n",
       "      <td>0.00</td>\n",
       "      <td>0.02</td>\n",
       "      <td>45.0</td>\n",
       "      <td>6.1</td>\n",
       "      <td>E</td>\n",
       "    </tr>\n",
       "    <tr>\n",
       "      <th>10</th>\n",
       "      <td>6473</td>\n",
       "      <td>Need for Speed: Most Wanted</td>\n",
       "      <td>GBA</td>\n",
       "      <td>2005</td>\n",
       "      <td>Racing</td>\n",
       "      <td>0.19</td>\n",
       "      <td>0.07</td>\n",
       "      <td>0.00</td>\n",
       "      <td>0.00</td>\n",
       "      <td>NaN</td>\n",
       "      <td>8.3</td>\n",
       "      <td>E</td>\n",
       "    </tr>\n",
       "    <tr>\n",
       "      <th>11</th>\n",
       "      <td>11715</td>\n",
       "      <td>Need for Speed: Most Wanted</td>\n",
       "      <td>PC</td>\n",
       "      <td>2012</td>\n",
       "      <td>Racing</td>\n",
       "      <td>0.00</td>\n",
       "      <td>0.06</td>\n",
       "      <td>0.00</td>\n",
       "      <td>0.02</td>\n",
       "      <td>82.0</td>\n",
       "      <td>8.5</td>\n",
       "      <td>T</td>\n",
       "    </tr>\n",
       "  </tbody>\n",
       "</table>\n",
       "</div>"
      ],
      "text/plain": [
       "    index                         name platform  year_of_release   genre  \\\n",
       "0     253  Need for Speed: Most Wanted      PS2             2005  Racing   \n",
       "1     523  Need for Speed: Most Wanted      PS3             2012  Racing   \n",
       "2    1190  Need for Speed: Most Wanted     X360             2012  Racing   \n",
       "3    1591  Need for Speed: Most Wanted     X360             2005  Racing   \n",
       "4    1998  Need for Speed: Most Wanted       XB             2005  Racing   \n",
       "5    2048  Need for Speed: Most Wanted      PSV             2012  Racing   \n",
       "6    3581  Need for Speed: Most Wanted       GC             2005  Racing   \n",
       "7    5972  Need for Speed: Most Wanted       PC             2005  Racing   \n",
       "8    6273  Need for Speed: Most Wanted     WiiU             2013  Racing   \n",
       "9    6410  Need for Speed: Most Wanted       DS             2005  Racing   \n",
       "10   6473  Need for Speed: Most Wanted      GBA             2005  Racing   \n",
       "11  11715  Need for Speed: Most Wanted       PC             2012  Racing   \n",
       "\n",
       "    na_sales  eu_sales  jp_sales  other_sales  critic_score  user_score rating  \n",
       "0       2.03      1.79      0.08         0.47          82.0         9.1      T  \n",
       "1       0.71      1.46      0.06         0.58           NaN         NaN    NaN  \n",
       "2       0.62      0.78      0.01         0.15          83.0         8.5      T  \n",
       "3       1.00      0.13      0.02         0.10          83.0         8.5      T  \n",
       "4       0.53      0.46      0.00         0.05          83.0         8.8      T  \n",
       "5       0.33      0.45      0.01         0.22           NaN         NaN    NaN  \n",
       "6       0.43      0.11      0.00         0.02          80.0         9.1      T  \n",
       "7       0.02      0.23      0.00         0.04          82.0         8.5      T  \n",
       "8       0.13      0.12      0.00         0.02           NaN         NaN    NaN  \n",
       "9       0.24      0.01      0.00         0.02          45.0         6.1      E  \n",
       "10      0.19      0.07      0.00         0.00           NaN         8.3      E  \n",
       "11      0.00      0.06      0.00         0.02          82.0         8.5      T  "
      ]
     },
     "metadata": {},
     "output_type": "display_data"
    }
   ],
   "source": [
    "# Подробнее рассмотрим игру \"NFS: Most Wanted\"\n",
    "display(games.query('name == \"Need for Speed: Most Wanted\"').reset_index())"
   ]
  },
  {
   "cell_type": "markdown",
   "metadata": {},
   "source": [
    "Дубликаты обусловлены тем, что некоторые игры выходили на разных платформах или, как с NFS: Most Wanted, был перезапуск игры с одним и тем же названием, но разными годами выхода."
   ]
  },
  {
   "cell_type": "markdown",
   "metadata": {},
   "source": [
    "## Аномальные значения"
   ]
  },
  {
   "cell_type": "markdown",
   "metadata": {},
   "source": [
    "В данных присутствует 1 аномальное значение, связанное с платформой DS."
   ]
  },
  {
   "cell_type": "code",
   "execution_count": 7,
   "metadata": {},
   "outputs": [
    {
     "data": {
      "text/html": [
       "<div>\n",
       "<style scoped>\n",
       "    .dataframe tbody tr th:only-of-type {\n",
       "        vertical-align: middle;\n",
       "    }\n",
       "\n",
       "    .dataframe tbody tr th {\n",
       "        vertical-align: top;\n",
       "    }\n",
       "\n",
       "    .dataframe thead th {\n",
       "        text-align: right;\n",
       "    }\n",
       "</style>\n",
       "<table border=\"1\" class=\"dataframe\">\n",
       "  <thead>\n",
       "    <tr style=\"text-align: right;\">\n",
       "      <th></th>\n",
       "      <th>name</th>\n",
       "      <th>platform</th>\n",
       "      <th>year_of_release</th>\n",
       "      <th>genre</th>\n",
       "      <th>na_sales</th>\n",
       "      <th>eu_sales</th>\n",
       "      <th>jp_sales</th>\n",
       "      <th>other_sales</th>\n",
       "      <th>critic_score</th>\n",
       "      <th>user_score</th>\n",
       "      <th>rating</th>\n",
       "    </tr>\n",
       "  </thead>\n",
       "  <tbody>\n",
       "    <tr>\n",
       "      <th>15957</th>\n",
       "      <td>Strongest Tokyo University Shogi DS</td>\n",
       "      <td>DS</td>\n",
       "      <td>1985</td>\n",
       "      <td>Action</td>\n",
       "      <td>0.0</td>\n",
       "      <td>0.0</td>\n",
       "      <td>0.02</td>\n",
       "      <td>0.0</td>\n",
       "      <td>NaN</td>\n",
       "      <td>NaN</td>\n",
       "      <td>NaN</td>\n",
       "    </tr>\n",
       "  </tbody>\n",
       "</table>\n",
       "</div>"
      ],
      "text/plain": [
       "                                      name platform  year_of_release   genre  \\\n",
       "15957  Strongest Tokyo University Shogi DS       DS             1985  Action   \n",
       "\n",
       "       na_sales  eu_sales  jp_sales  other_sales  critic_score  user_score  \\\n",
       "15957       0.0       0.0      0.02          0.0           NaN         NaN   \n",
       "\n",
       "      rating  \n",
       "15957    NaN  "
      ]
     },
     "execution_count": 7,
     "metadata": {},
     "output_type": "execute_result"
    }
   ],
   "source": [
    "games.query('year_of_release == 1985 and platform == \"DS\"')"
   ]
  },
  {
   "cell_type": "markdown",
   "metadata": {},
   "source": [
    "Дело в том, что платформа Nintendo DS появилась в 2004 г., т.е. на нее не могла выйти игра 1985 г. Скорее всего эту игру портировали на приставку, о чем говорит приписка \"DS\" в названии игры, тогда дата релиза должна быть другой. В некоторых источниках написано, что дата релиза 2010г. Поправим это значение."
   ]
  },
  {
   "cell_type": "code",
   "execution_count": 8,
   "metadata": {},
   "outputs": [],
   "source": [
    "games.loc[games['name'] == 'Strongest Tokyo University Shogi DS', 'year_of_release'] = 2010"
   ]
  },
  {
   "cell_type": "markdown",
   "metadata": {},
   "source": [
    "## Обработка пропусков"
   ]
  },
  {
   "cell_type": "markdown",
   "metadata": {},
   "source": [
    "На этапе изучения общей информации о данных было замечено, что в большая часть пропусков находится в колонках `'critic_score'`, `'user_score'`, `'rating'`.\n",
    "Начнем с рейтинга игры и посмотрим какие значения принимает рейтинг в данных. Основная причина большого количества пропусков в данной колонке: игра могла не проходить классификацию по рейтингу ERSB. Этот рейтинг был основан в 1994 году, т.е. игры до 94 могли не классифицироваться. Также рейтинг скорее всего учитывает только игры от известных компаний."
   ]
  },
  {
   "cell_type": "code",
   "execution_count": 9,
   "metadata": {},
   "outputs": [
    {
     "data": {
      "text/plain": [
       "E       3921\n",
       "T       2905\n",
       "M       1536\n",
       "E10+    1393\n",
       "EC         8\n",
       "K-A        3\n",
       "AO         1\n",
       "RP         1\n",
       "Name: rating, dtype: int64"
      ]
     },
     "execution_count": 9,
     "metadata": {},
     "output_type": "execute_result"
    }
   ],
   "source": [
    "# Уникальные значения рейтинга \n",
    "games['rating'].value_counts()"
   ]
  },
  {
   "cell_type": "markdown",
   "metadata": {},
   "source": [
    "Рейтинг \"К-А\" это устаревшая версия рейтинга \"Е\", то есть значения \"К-А\" можно заменить на \"Е\"."
   ]
  },
  {
   "cell_type": "code",
   "execution_count": 10,
   "metadata": {},
   "outputs": [
    {
     "name": "stdout",
     "output_type": "stream",
     "text": [
      "E       3924\n",
      "T       2905\n",
      "M       1536\n",
      "E10+    1393\n",
      "EC         8\n",
      "AO         1\n",
      "RP         1\n",
      "Name: rating, dtype: int64\n"
     ]
    }
   ],
   "source": [
    "# Замена значений в колонке рейтинг\n",
    "games['rating'].replace('K-A', 'E', inplace=True)\n",
    "# Проверка резкльтата\n",
    "print(games['rating'].value_counts())"
   ]
  },
  {
   "cell_type": "markdown",
   "metadata": {},
   "source": [
    "Предложения по заполнению пропусков в рейтинге игр следующее:<br>\n",
    "\n",
    "Основным элементом, влияющим на рейтинг является жанр, можно рассмотреть в отдельности каждый жанр и выделить в каждом рейтинг с максимальным числом игр."
   ]
  },
  {
   "cell_type": "code",
   "execution_count": 11,
   "metadata": {},
   "outputs": [
    {
     "data": {
      "text/plain": [
       "name                0.00\n",
       "platform            0.00\n",
       "year_of_release     0.00\n",
       "genre               0.00\n",
       "na_sales            0.00\n",
       "eu_sales            0.00\n",
       "jp_sales            0.00\n",
       "other_sales         0.00\n",
       "critic_score       51.45\n",
       "user_score         54.62\n",
       "rating              0.00\n",
       "dtype: float64"
      ]
     },
     "execution_count": 11,
     "metadata": {},
     "output_type": "execute_result"
    }
   ],
   "source": [
    "# Сохраним все жанры в отдельный список\n",
    "genres = games['genre'].unique()\n",
    "\n",
    "# Запускаем цикл по жанрам в списке.\n",
    "# В цикле заполняем пустые ячейки рейтинга значениями, которые наиболее часто встречаются для данного жанра\n",
    "for genre in genres:\n",
    "    games.loc[games['genre'] == genre, 'rating'] = (games.loc[games['genre'] == genre, 'rating']\n",
    "                                                    .fillna(games.query('genre == @genre')['rating']\n",
    "                                                    .mode(dropna=True)[0]))\n",
    "\n",
    "# Проверка результата\n",
    "(games.isna().mean()*100).round(decimals=2)"
   ]
  },
  {
   "cell_type": "markdown",
   "metadata": {},
   "source": [
    "В качестве значения для заполнения пропусков в колонках `'critic_score'` и `'user_score'` можно взять медиану по каждому жанру. Пропуски в этих колонках могут быть связаны со следующим: не все пользователи ставят оценки играм, а критики скорее всего оценивают только игры от известных компаний."
   ]
  },
  {
   "cell_type": "code",
   "execution_count": 12,
   "metadata": {},
   "outputs": [
    {
     "data": {
      "text/plain": [
       "name               0.0\n",
       "platform           0.0\n",
       "year_of_release    0.0\n",
       "genre              0.0\n",
       "na_sales           0.0\n",
       "eu_sales           0.0\n",
       "jp_sales           0.0\n",
       "other_sales        0.0\n",
       "critic_score       0.0\n",
       "user_score         0.0\n",
       "rating             0.0\n",
       "dtype: float64"
      ]
     },
     "execution_count": 12,
     "metadata": {},
     "output_type": "execute_result"
    }
   ],
   "source": [
    "# Заполняем пропуски в колонке с оценками критиков\n",
    "games['critic_score'].fillna(games.groupby('genre')['critic_score'].transform('median'), inplace=True)\n",
    "# Заполняем пропуски в колонке с оценками игроков\n",
    "games['user_score'].fillna(games.groupby('genre')['user_score'].transform('median'), inplace=True)\n",
    "# Проверка результата\n",
    "(games.isna().mean()*100).round(decimals=2)"
   ]
  },
  {
   "cell_type": "markdown",
   "metadata": {},
   "source": [
    "## Дополнение данных"
   ]
  },
  {
   "cell_type": "markdown",
   "metadata": {},
   "source": [
    "Дополним данные колонкой, в которой будем хранить сумму всех продаж по каждой игре."
   ]
  },
  {
   "cell_type": "code",
   "execution_count": 13,
   "metadata": {},
   "outputs": [
    {
     "data": {
      "text/html": [
       "<div>\n",
       "<style scoped>\n",
       "    .dataframe tbody tr th:only-of-type {\n",
       "        vertical-align: middle;\n",
       "    }\n",
       "\n",
       "    .dataframe tbody tr th {\n",
       "        vertical-align: top;\n",
       "    }\n",
       "\n",
       "    .dataframe thead th {\n",
       "        text-align: right;\n",
       "    }\n",
       "</style>\n",
       "<table border=\"1\" class=\"dataframe\">\n",
       "  <thead>\n",
       "    <tr style=\"text-align: right;\">\n",
       "      <th></th>\n",
       "      <th>name</th>\n",
       "      <th>platform</th>\n",
       "      <th>year_of_release</th>\n",
       "      <th>genre</th>\n",
       "      <th>na_sales</th>\n",
       "      <th>eu_sales</th>\n",
       "      <th>jp_sales</th>\n",
       "      <th>other_sales</th>\n",
       "      <th>critic_score</th>\n",
       "      <th>user_score</th>\n",
       "      <th>rating</th>\n",
       "      <th>all_sales</th>\n",
       "    </tr>\n",
       "  </thead>\n",
       "  <tbody>\n",
       "    <tr>\n",
       "      <th>0</th>\n",
       "      <td>Wii Sports</td>\n",
       "      <td>Wii</td>\n",
       "      <td>2006</td>\n",
       "      <td>Sports</td>\n",
       "      <td>41.36</td>\n",
       "      <td>28.96</td>\n",
       "      <td>3.77</td>\n",
       "      <td>8.45</td>\n",
       "      <td>76.0</td>\n",
       "      <td>8.0</td>\n",
       "      <td>E</td>\n",
       "      <td>82.54</td>\n",
       "    </tr>\n",
       "    <tr>\n",
       "      <th>1</th>\n",
       "      <td>Super Mario Bros.</td>\n",
       "      <td>NES</td>\n",
       "      <td>1985</td>\n",
       "      <td>Platform</td>\n",
       "      <td>29.08</td>\n",
       "      <td>3.58</td>\n",
       "      <td>6.81</td>\n",
       "      <td>0.77</td>\n",
       "      <td>69.5</td>\n",
       "      <td>7.7</td>\n",
       "      <td>E</td>\n",
       "      <td>40.24</td>\n",
       "    </tr>\n",
       "    <tr>\n",
       "      <th>2</th>\n",
       "      <td>Mario Kart Wii</td>\n",
       "      <td>Wii</td>\n",
       "      <td>2008</td>\n",
       "      <td>Racing</td>\n",
       "      <td>15.68</td>\n",
       "      <td>12.76</td>\n",
       "      <td>3.79</td>\n",
       "      <td>3.29</td>\n",
       "      <td>82.0</td>\n",
       "      <td>8.3</td>\n",
       "      <td>E</td>\n",
       "      <td>35.52</td>\n",
       "    </tr>\n",
       "    <tr>\n",
       "      <th>3</th>\n",
       "      <td>Wii Sports Resort</td>\n",
       "      <td>Wii</td>\n",
       "      <td>2009</td>\n",
       "      <td>Sports</td>\n",
       "      <td>15.61</td>\n",
       "      <td>10.93</td>\n",
       "      <td>3.28</td>\n",
       "      <td>2.95</td>\n",
       "      <td>80.0</td>\n",
       "      <td>8.0</td>\n",
       "      <td>E</td>\n",
       "      <td>32.77</td>\n",
       "    </tr>\n",
       "    <tr>\n",
       "      <th>4</th>\n",
       "      <td>Pokemon Red/Pokemon Blue</td>\n",
       "      <td>GB</td>\n",
       "      <td>1996</td>\n",
       "      <td>Role-Playing</td>\n",
       "      <td>11.27</td>\n",
       "      <td>8.89</td>\n",
       "      <td>10.22</td>\n",
       "      <td>1.00</td>\n",
       "      <td>74.0</td>\n",
       "      <td>7.8</td>\n",
       "      <td>T</td>\n",
       "      <td>31.38</td>\n",
       "    </tr>\n",
       "    <tr>\n",
       "      <th>...</th>\n",
       "      <td>...</td>\n",
       "      <td>...</td>\n",
       "      <td>...</td>\n",
       "      <td>...</td>\n",
       "      <td>...</td>\n",
       "      <td>...</td>\n",
       "      <td>...</td>\n",
       "      <td>...</td>\n",
       "      <td>...</td>\n",
       "      <td>...</td>\n",
       "      <td>...</td>\n",
       "      <td>...</td>\n",
       "    </tr>\n",
       "    <tr>\n",
       "      <th>16710</th>\n",
       "      <td>Samurai Warriors: Sanada Maru</td>\n",
       "      <td>PS3</td>\n",
       "      <td>2016</td>\n",
       "      <td>Action</td>\n",
       "      <td>0.00</td>\n",
       "      <td>0.00</td>\n",
       "      <td>0.01</td>\n",
       "      <td>0.00</td>\n",
       "      <td>68.0</td>\n",
       "      <td>7.4</td>\n",
       "      <td>T</td>\n",
       "      <td>0.01</td>\n",
       "    </tr>\n",
       "    <tr>\n",
       "      <th>16711</th>\n",
       "      <td>LMA Manager 2007</td>\n",
       "      <td>X360</td>\n",
       "      <td>2006</td>\n",
       "      <td>Sports</td>\n",
       "      <td>0.00</td>\n",
       "      <td>0.01</td>\n",
       "      <td>0.00</td>\n",
       "      <td>0.00</td>\n",
       "      <td>75.0</td>\n",
       "      <td>7.4</td>\n",
       "      <td>E</td>\n",
       "      <td>0.01</td>\n",
       "    </tr>\n",
       "    <tr>\n",
       "      <th>16712</th>\n",
       "      <td>Haitaka no Psychedelica</td>\n",
       "      <td>PSV</td>\n",
       "      <td>2016</td>\n",
       "      <td>Adventure</td>\n",
       "      <td>0.00</td>\n",
       "      <td>0.00</td>\n",
       "      <td>0.01</td>\n",
       "      <td>0.00</td>\n",
       "      <td>66.0</td>\n",
       "      <td>7.6</td>\n",
       "      <td>E</td>\n",
       "      <td>0.01</td>\n",
       "    </tr>\n",
       "    <tr>\n",
       "      <th>16713</th>\n",
       "      <td>Spirits &amp; Spells</td>\n",
       "      <td>GBA</td>\n",
       "      <td>2003</td>\n",
       "      <td>Platform</td>\n",
       "      <td>0.01</td>\n",
       "      <td>0.00</td>\n",
       "      <td>0.00</td>\n",
       "      <td>0.00</td>\n",
       "      <td>69.5</td>\n",
       "      <td>7.7</td>\n",
       "      <td>E</td>\n",
       "      <td>0.01</td>\n",
       "    </tr>\n",
       "    <tr>\n",
       "      <th>16714</th>\n",
       "      <td>Winning Post 8 2016</td>\n",
       "      <td>PSV</td>\n",
       "      <td>2016</td>\n",
       "      <td>Simulation</td>\n",
       "      <td>0.00</td>\n",
       "      <td>0.00</td>\n",
       "      <td>0.01</td>\n",
       "      <td>0.00</td>\n",
       "      <td>70.0</td>\n",
       "      <td>7.5</td>\n",
       "      <td>E</td>\n",
       "      <td>0.01</td>\n",
       "    </tr>\n",
       "  </tbody>\n",
       "</table>\n",
       "<p>16444 rows × 12 columns</p>\n",
       "</div>"
      ],
      "text/plain": [
       "                                name platform  year_of_release         genre  \\\n",
       "0                         Wii Sports      Wii             2006        Sports   \n",
       "1                  Super Mario Bros.      NES             1985      Platform   \n",
       "2                     Mario Kart Wii      Wii             2008        Racing   \n",
       "3                  Wii Sports Resort      Wii             2009        Sports   \n",
       "4           Pokemon Red/Pokemon Blue       GB             1996  Role-Playing   \n",
       "...                              ...      ...              ...           ...   \n",
       "16710  Samurai Warriors: Sanada Maru      PS3             2016        Action   \n",
       "16711               LMA Manager 2007     X360             2006        Sports   \n",
       "16712        Haitaka no Psychedelica      PSV             2016     Adventure   \n",
       "16713               Spirits & Spells      GBA             2003      Platform   \n",
       "16714            Winning Post 8 2016      PSV             2016    Simulation   \n",
       "\n",
       "       na_sales  eu_sales  jp_sales  other_sales  critic_score  user_score  \\\n",
       "0         41.36     28.96      3.77         8.45          76.0         8.0   \n",
       "1         29.08      3.58      6.81         0.77          69.5         7.7   \n",
       "2         15.68     12.76      3.79         3.29          82.0         8.3   \n",
       "3         15.61     10.93      3.28         2.95          80.0         8.0   \n",
       "4         11.27      8.89     10.22         1.00          74.0         7.8   \n",
       "...         ...       ...       ...          ...           ...         ...   \n",
       "16710      0.00      0.00      0.01         0.00          68.0         7.4   \n",
       "16711      0.00      0.01      0.00         0.00          75.0         7.4   \n",
       "16712      0.00      0.00      0.01         0.00          66.0         7.6   \n",
       "16713      0.01      0.00      0.00         0.00          69.5         7.7   \n",
       "16714      0.00      0.00      0.01         0.00          70.0         7.5   \n",
       "\n",
       "      rating  all_sales  \n",
       "0          E      82.54  \n",
       "1          E      40.24  \n",
       "2          E      35.52  \n",
       "3          E      32.77  \n",
       "4          T      31.38  \n",
       "...      ...        ...  \n",
       "16710      T       0.01  \n",
       "16711      E       0.01  \n",
       "16712      E       0.01  \n",
       "16713      E       0.01  \n",
       "16714      E       0.01  \n",
       "\n",
       "[16444 rows x 12 columns]"
      ]
     },
     "metadata": {},
     "output_type": "display_data"
    }
   ],
   "source": [
    "# Дополняем таблицу\n",
    "games['all_sales'] = games['na_sales'] + games['eu_sales'] + games['jp_sales'] + games['other_sales']\n",
    "# Проверка результата\n",
    "display(games)"
   ]
  },
  {
   "cell_type": "markdown",
   "metadata": {},
   "source": [
    "**Вывод**\n",
    "\n",
    "Наименования колонок приведены к нижнему регистру, типы данных заменены на соответствующие, пропущенные значения обработаны, дубликатов в данных не обнаружено. Также данные дополнены колонкой, содержащей общие суммы продаж по каждой игре."
   ]
  },
  {
   "cell_type": "markdown",
   "metadata": {},
   "source": [
    "# Часть 3. Проведение анализа данных.\n",
    "## Выявление актуальных периода, платформ и жанров"
   ]
  },
  {
   "cell_type": "markdown",
   "metadata": {},
   "source": [
    "Для выявления актуального периода рассмотрим распределение игр по годам, для этого построим график."
   ]
  },
  {
   "cell_type": "code",
   "execution_count": 14,
   "metadata": {
    "scrolled": false
   },
   "outputs": [
    {
     "data": {
      "text/plain": [
       "Text(0, 0.5, 'Количество игр')"
      ]
     },
     "execution_count": 14,
     "metadata": {},
     "output_type": "execute_result"
    },
    {
     "data": {
      "image/png": "[encoded data removed]",
      "text/plain": [
       "<Figure size 576x360 with 1 Axes>"
      ]
     },
     "metadata": {
      "needs_background": "light"
     },
     "output_type": "display_data"
    }
   ],
   "source": [
    "# Строим график\n",
    "games.plot(y='year_of_release' , kind='hist', \n",
    "           bins=37, grid=True, \n",
    "           legend=False, figsize=(8,5), \n",
    "           title='Распределение игр по годам')\n",
    "plt.xlabel('Год выхода')\n",
    "plt.ylabel('Количество игр')"
   ]
  },
  {
   "cell_type": "markdown",
   "metadata": {},
   "source": [
    "Как видно на графике, резкий рост количества игр начинается с 2000 года, возможно начиная с этого года стоит рассматривать актуальный период. \n",
    "Теперь посмотрим как менялись продажи в зависимости от платформ, для этого возьмем топ-5 платформ по продажам и построим распределение по годам."
   ]
  },
  {
   "cell_type": "code",
   "execution_count": 15,
   "metadata": {
    "scrolled": true
   },
   "outputs": [
    {
     "data": {
      "text/html": [
       "<div>\n",
       "<style scoped>\n",
       "    .dataframe tbody tr th:only-of-type {\n",
       "        vertical-align: middle;\n",
       "    }\n",
       "\n",
       "    .dataframe tbody tr th {\n",
       "        vertical-align: top;\n",
       "    }\n",
       "\n",
       "    .dataframe thead th {\n",
       "        text-align: right;\n",
       "    }\n",
       "</style>\n",
       "<table border=\"1\" class=\"dataframe\">\n",
       "  <thead>\n",
       "    <tr style=\"text-align: right;\">\n",
       "      <th></th>\n",
       "      <th>platform</th>\n",
       "      <th>all_sales</th>\n",
       "    </tr>\n",
       "  </thead>\n",
       "  <tbody>\n",
       "    <tr>\n",
       "      <th>0</th>\n",
       "      <td>PS2</td>\n",
       "      <td>1233.56</td>\n",
       "    </tr>\n",
       "    <tr>\n",
       "      <th>1</th>\n",
       "      <td>X360</td>\n",
       "      <td>961.24</td>\n",
       "    </tr>\n",
       "    <tr>\n",
       "      <th>2</th>\n",
       "      <td>PS3</td>\n",
       "      <td>931.34</td>\n",
       "    </tr>\n",
       "    <tr>\n",
       "      <th>3</th>\n",
       "      <td>Wii</td>\n",
       "      <td>891.18</td>\n",
       "    </tr>\n",
       "    <tr>\n",
       "      <th>4</th>\n",
       "      <td>DS</td>\n",
       "      <td>802.78</td>\n",
       "    </tr>\n",
       "  </tbody>\n",
       "</table>\n",
       "</div>"
      ],
      "text/plain": [
       "  platform  all_sales\n",
       "0      PS2    1233.56\n",
       "1     X360     961.24\n",
       "2      PS3     931.34\n",
       "3      Wii     891.18\n",
       "4       DS     802.78"
      ]
     },
     "metadata": {},
     "output_type": "display_data"
    }
   ],
   "source": [
    "# Ищем 5 платформ являющимися топами по продажам по всем регионам\n",
    "top_5_platform = (games.pivot_table(index=['platform'], values='all_sales',aggfunc='sum')\n",
    "                  .sort_values('all_sales', ascending=False)\n",
    "                  .head()\n",
    "                  .reset_index())\n",
    "# Вывод результата\n",
    "display(top_5_platform)"
   ]
  },
  {
   "cell_type": "markdown",
   "metadata": {},
   "source": [
    "Итак, мы нашли топовые по продажам платформы, теперь рассмотрим распределение продаж игр для каждой платформы по годам."
   ]
  },
  {
   "cell_type": "code",
   "execution_count": 16,
   "metadata": {},
   "outputs": [
    {
     "data": {
      "image/png": "[encoded data removed]",
      "text/plain": [
       "<Figure size 432x288 with 1 Axes>"
      ]
     },
     "metadata": {
      "needs_background": "light"
     },
     "output_type": "display_data"
    },
    {
     "data": {
      "image/png": "[encoded data removed]",
      "text/plain": [
       "<Figure size 432x288 with 1 Axes>"
      ]
     },
     "metadata": {
      "needs_background": "light"
     },
     "output_type": "display_data"
    },
    {
     "data": {
      "image/png": "[encoded data removed]",
      "text/plain": [
       "<Figure size 432x288 with 1 Axes>"
      ]
     },
     "metadata": {
      "needs_background": "light"
     },
     "output_type": "display_data"
    },
    {
     "data": {
      "image/png": "[encoded data removed]",
      "text/plain": [
       "<Figure size 432x288 with 1 Axes>"
      ]
     },
     "metadata": {
      "needs_background": "light"
     },
     "output_type": "display_data"
    },
    {
     "data": {
      "image/png": "[encoded data removed]",
      "text/plain": [
       "<Figure size 432x288 with 1 Axes>"
      ]
     },
     "metadata": {
      "needs_background": "light"
     },
     "output_type": "display_data"
    }
   ],
   "source": [
    "# Создаем сводную таблицу, в которой будем хранить значения всех продаж по годам для каждой из 5 топовых платформ\n",
    "top_5_dist = (games[games['platform'].isin(top_5_platform['platform'].unique())]\n",
    "             .pivot_table(index=['platform','year_of_release'], values='all_sales', aggfunc='sum')\n",
    "             .reset_index())\n",
    "\n",
    "# Запустим цикл, который будет проходить по каждой платформе и выводить продажи по годам\n",
    "for platform in top_5_dist['platform'].unique():\n",
    "    (top_5_dist.query('platform == @platform')\n",
    "     .plot(x='year_of_release', \n",
    "           y='all_sales',\n",
    "           kind='bar',\n",
    "           title=platform,\n",
    "           rot=45,\n",
    "           grid=True,\n",
    "           legend=False))\n",
    "    plt.xlabel('Года')\n",
    "    plt.ylabel('Проданные копии')"
   ]
  },
  {
   "cell_type": "markdown",
   "metadata": {},
   "source": [
    "На первый взгляд можно сказать, что платформы \"живут\" около 10 лет. По графикам видно, что Х360, Wii и PS3 прошли свой пик популярности и, возможно, считать их актуальными для 2017г. платформами не стоит.<br> \n",
    "Стоит  более подробно рассмотреть вопрос актуальности платформ, для этого найдем средний срок \"жизни\" платформы при помощи предположенного актуального периода."
   ]
  },
  {
   "cell_type": "code",
   "execution_count": 17,
   "metadata": {
    "scrolled": false
   },
   "outputs": [],
   "source": [
    "# Создаем таблицу, в которой будем хранить платформу и \n",
    "# соответствующие ей года начала и конца выпуска игр (на основании предложенных данных) \n",
    "platform_exist = games.pivot_table(index=['platform'], values='year_of_release', aggfunc=['min','max'])\n",
    "# Переименовываем колонки и избавляемся от мультииндекса\n",
    "platform_exist.columns = ['min_year', 'max_year']\n",
    "platform_exist.reset_index(inplace=True)"
   ]
  },
  {
   "cell_type": "markdown",
   "metadata": {},
   "source": [
    "Теперь из всей таблицы выделим те платформы, которые подходят под предположенный актуальный период, но при этом уже не актуальны на 2016г."
   ]
  },
  {
   "cell_type": "code",
   "execution_count": 18,
   "metadata": {},
   "outputs": [
    {
     "data": {
      "text/html": [
       "<div>\n",
       "<style scoped>\n",
       "    .dataframe tbody tr th:only-of-type {\n",
       "        vertical-align: middle;\n",
       "    }\n",
       "\n",
       "    .dataframe tbody tr th {\n",
       "        vertical-align: top;\n",
       "    }\n",
       "\n",
       "    .dataframe thead th {\n",
       "        text-align: right;\n",
       "    }\n",
       "</style>\n",
       "<table border=\"1\" class=\"dataframe\">\n",
       "  <thead>\n",
       "    <tr style=\"text-align: right;\">\n",
       "      <th></th>\n",
       "      <th>platform</th>\n",
       "      <th>min_year</th>\n",
       "      <th>max_year</th>\n",
       "    </tr>\n",
       "  </thead>\n",
       "  <tbody>\n",
       "    <tr>\n",
       "      <th>0</th>\n",
       "      <td>DS</td>\n",
       "      <td>2004</td>\n",
       "      <td>2013</td>\n",
       "    </tr>\n",
       "    <tr>\n",
       "      <th>1</th>\n",
       "      <td>GBA</td>\n",
       "      <td>2000</td>\n",
       "      <td>2007</td>\n",
       "    </tr>\n",
       "    <tr>\n",
       "      <th>2</th>\n",
       "      <td>GC</td>\n",
       "      <td>2001</td>\n",
       "      <td>2007</td>\n",
       "    </tr>\n",
       "    <tr>\n",
       "      <th>3</th>\n",
       "      <td>PS2</td>\n",
       "      <td>2000</td>\n",
       "      <td>2011</td>\n",
       "    </tr>\n",
       "    <tr>\n",
       "      <th>4</th>\n",
       "      <td>PSP</td>\n",
       "      <td>2004</td>\n",
       "      <td>2015</td>\n",
       "    </tr>\n",
       "    <tr>\n",
       "      <th>5</th>\n",
       "      <td>XB</td>\n",
       "      <td>2000</td>\n",
       "      <td>2008</td>\n",
       "    </tr>\n",
       "  </tbody>\n",
       "</table>\n",
       "</div>"
      ],
      "text/plain": [
       "  platform  min_year  max_year\n",
       "0       DS      2004      2013\n",
       "1      GBA      2000      2007\n",
       "2       GC      2001      2007\n",
       "3      PS2      2000      2011\n",
       "4      PSP      2004      2015\n",
       "5       XB      2000      2008"
      ]
     },
     "metadata": {},
     "output_type": "display_data"
    }
   ],
   "source": [
    "# Ищем платформы\n",
    "pre_actual = platform_exist.query('2000 <= min_year and max_year < 2016') \n",
    "pre_actual.reset_index(drop=True, inplace=True)\n",
    "# Выведем результат\n",
    "display(pre_actual)"
   ]
  },
  {
   "cell_type": "markdown",
   "metadata": {},
   "source": [
    "Найдем среднее значение среди выделенных платформ и для удобства округлим его."
   ]
  },
  {
   "cell_type": "code",
   "execution_count": 19,
   "metadata": {},
   "outputs": [
    {
     "data": {
      "text/plain": [
       "9.0"
      ]
     },
     "execution_count": 19,
     "metadata": {},
     "output_type": "execute_result"
    }
   ],
   "source": [
    "# Поиск среднего\n",
    "mean_exist = (pre_actual['max_year'] - pre_actual['min_year']).mean().round()\n",
    "mean_exist"
   ]
  },
  {
   "cell_type": "markdown",
   "metadata": {},
   "source": [
    "Таким образом получаем, что платформа живет в среднем 9 лет.<br>\n",
    "Выделим платформы, которые потенциально будут наиболее актуальными в 2017г. исходя из среднего времени \"жизни\".\n",
    "\n",
    "Для прогнозирования продаж на 2017г. будем брать данные за последние 3 года."
   ]
  },
  {
   "cell_type": "code",
   "execution_count": 20,
   "metadata": {},
   "outputs": [
    {
     "data": {
      "text/html": [
       "<div>\n",
       "<style scoped>\n",
       "    .dataframe tbody tr th:only-of-type {\n",
       "        vertical-align: middle;\n",
       "    }\n",
       "\n",
       "    .dataframe tbody tr th {\n",
       "        vertical-align: top;\n",
       "    }\n",
       "\n",
       "    .dataframe thead th {\n",
       "        text-align: right;\n",
       "    }\n",
       "</style>\n",
       "<table border=\"1\" class=\"dataframe\">\n",
       "  <thead>\n",
       "    <tr style=\"text-align: right;\">\n",
       "      <th></th>\n",
       "      <th>platform</th>\n",
       "      <th>min_year</th>\n",
       "      <th>max_year</th>\n",
       "    </tr>\n",
       "  </thead>\n",
       "  <tbody>\n",
       "    <tr>\n",
       "      <th>0</th>\n",
       "      <td>3DS</td>\n",
       "      <td>2011</td>\n",
       "      <td>2016</td>\n",
       "    </tr>\n",
       "    <tr>\n",
       "      <th>1</th>\n",
       "      <td>PS4</td>\n",
       "      <td>2013</td>\n",
       "      <td>2016</td>\n",
       "    </tr>\n",
       "    <tr>\n",
       "      <th>2</th>\n",
       "      <td>PSV</td>\n",
       "      <td>2011</td>\n",
       "      <td>2016</td>\n",
       "    </tr>\n",
       "    <tr>\n",
       "      <th>3</th>\n",
       "      <td>WiiU</td>\n",
       "      <td>2012</td>\n",
       "      <td>2016</td>\n",
       "    </tr>\n",
       "    <tr>\n",
       "      <th>4</th>\n",
       "      <td>XOne</td>\n",
       "      <td>2013</td>\n",
       "      <td>2016</td>\n",
       "    </tr>\n",
       "  </tbody>\n",
       "</table>\n",
       "</div>"
      ],
      "text/plain": [
       "  platform  min_year  max_year\n",
       "0      3DS      2011      2016\n",
       "1      PS4      2013      2016\n",
       "2      PSV      2011      2016\n",
       "3     WiiU      2012      2016\n",
       "4     XOne      2013      2016"
      ]
     },
     "execution_count": 20,
     "metadata": {},
     "output_type": "execute_result"
    }
   ],
   "source": [
    "perspective_plat =  platform_exist.query('min_year >= 2007').reset_index(drop=True)\n",
    "perspective_plat"
   ]
  },
  {
   "cell_type": "markdown",
   "metadata": {},
   "source": [
    "Выделим из всех данных те игры, которые выходили в актуальный период"
   ]
  },
  {
   "cell_type": "code",
   "execution_count": 21,
   "metadata": {},
   "outputs": [
    {
     "data": {
      "text/html": [
       "<div>\n",
       "<style scoped>\n",
       "    .dataframe tbody tr th:only-of-type {\n",
       "        vertical-align: middle;\n",
       "    }\n",
       "\n",
       "    .dataframe tbody tr th {\n",
       "        vertical-align: top;\n",
       "    }\n",
       "\n",
       "    .dataframe thead th {\n",
       "        text-align: right;\n",
       "    }\n",
       "</style>\n",
       "<table border=\"1\" class=\"dataframe\">\n",
       "  <thead>\n",
       "    <tr style=\"text-align: right;\">\n",
       "      <th></th>\n",
       "      <th>name</th>\n",
       "      <th>platform</th>\n",
       "      <th>year_of_release</th>\n",
       "      <th>genre</th>\n",
       "      <th>na_sales</th>\n",
       "      <th>eu_sales</th>\n",
       "      <th>jp_sales</th>\n",
       "      <th>other_sales</th>\n",
       "      <th>critic_score</th>\n",
       "      <th>user_score</th>\n",
       "      <th>rating</th>\n",
       "      <th>all_sales</th>\n",
       "    </tr>\n",
       "  </thead>\n",
       "  <tbody>\n",
       "    <tr>\n",
       "      <th>0</th>\n",
       "      <td>Call of Duty: Black Ops 3</td>\n",
       "      <td>PS4</td>\n",
       "      <td>2015</td>\n",
       "      <td>Shooter</td>\n",
       "      <td>6.03</td>\n",
       "      <td>5.86</td>\n",
       "      <td>0.36</td>\n",
       "      <td>2.38</td>\n",
       "      <td>73.0</td>\n",
       "      <td>7.4</td>\n",
       "      <td>M</td>\n",
       "      <td>14.63</td>\n",
       "    </tr>\n",
       "    <tr>\n",
       "      <th>1</th>\n",
       "      <td>Grand Theft Auto V</td>\n",
       "      <td>PS4</td>\n",
       "      <td>2014</td>\n",
       "      <td>Action</td>\n",
       "      <td>3.96</td>\n",
       "      <td>6.31</td>\n",
       "      <td>0.38</td>\n",
       "      <td>1.97</td>\n",
       "      <td>97.0</td>\n",
       "      <td>8.3</td>\n",
       "      <td>M</td>\n",
       "      <td>12.62</td>\n",
       "    </tr>\n",
       "    <tr>\n",
       "      <th>2</th>\n",
       "      <td>Pokemon Omega Ruby/Pokemon Alpha Sapphire</td>\n",
       "      <td>3DS</td>\n",
       "      <td>2014</td>\n",
       "      <td>Role-Playing</td>\n",
       "      <td>4.35</td>\n",
       "      <td>3.49</td>\n",
       "      <td>3.10</td>\n",
       "      <td>0.74</td>\n",
       "      <td>74.0</td>\n",
       "      <td>7.8</td>\n",
       "      <td>T</td>\n",
       "      <td>11.68</td>\n",
       "    </tr>\n",
       "    <tr>\n",
       "      <th>3</th>\n",
       "      <td>FIFA 16</td>\n",
       "      <td>PS4</td>\n",
       "      <td>2015</td>\n",
       "      <td>Sports</td>\n",
       "      <td>1.12</td>\n",
       "      <td>6.12</td>\n",
       "      <td>0.06</td>\n",
       "      <td>1.28</td>\n",
       "      <td>82.0</td>\n",
       "      <td>4.3</td>\n",
       "      <td>E</td>\n",
       "      <td>8.58</td>\n",
       "    </tr>\n",
       "    <tr>\n",
       "      <th>4</th>\n",
       "      <td>Star Wars Battlefront (2015)</td>\n",
       "      <td>PS4</td>\n",
       "      <td>2015</td>\n",
       "      <td>Shooter</td>\n",
       "      <td>2.99</td>\n",
       "      <td>3.49</td>\n",
       "      <td>0.22</td>\n",
       "      <td>1.28</td>\n",
       "      <td>73.0</td>\n",
       "      <td>7.4</td>\n",
       "      <td>M</td>\n",
       "      <td>7.98</td>\n",
       "    </tr>\n",
       "  </tbody>\n",
       "</table>\n",
       "</div>"
      ],
      "text/plain": [
       "                                        name platform  year_of_release  \\\n",
       "0                  Call of Duty: Black Ops 3      PS4             2015   \n",
       "1                         Grand Theft Auto V      PS4             2014   \n",
       "2  Pokemon Omega Ruby/Pokemon Alpha Sapphire      3DS             2014   \n",
       "3                                    FIFA 16      PS4             2015   \n",
       "4               Star Wars Battlefront (2015)      PS4             2015   \n",
       "\n",
       "          genre  na_sales  eu_sales  jp_sales  other_sales  critic_score  \\\n",
       "0       Shooter      6.03      5.86      0.36         2.38          73.0   \n",
       "1        Action      3.96      6.31      0.38         1.97          97.0   \n",
       "2  Role-Playing      4.35      3.49      3.10         0.74          74.0   \n",
       "3        Sports      1.12      6.12      0.06         1.28          82.0   \n",
       "4       Shooter      2.99      3.49      0.22         1.28          73.0   \n",
       "\n",
       "   user_score rating  all_sales  \n",
       "0         7.4      M      14.63  \n",
       "1         8.3      M      12.62  \n",
       "2         7.8      T      11.68  \n",
       "3         4.3      E       8.58  \n",
       "4         7.4      M       7.98  "
      ]
     },
     "metadata": {},
     "output_type": "display_data"
    }
   ],
   "source": [
    "# Выделим данные\n",
    "actual_games = games.query('year_of_release > 2013').reset_index(drop=True)\n",
    "# Проверка результата \n",
    "display(actual_games.head())"
   ]
  },
  {
   "cell_type": "markdown",
   "metadata": {},
   "source": [
    "Посчитаем общие продажи по каждой из платформ актуального периода."
   ]
  },
  {
   "cell_type": "code",
   "execution_count": 22,
   "metadata": {},
   "outputs": [
    {
     "data": {
      "text/html": [
       "<div>\n",
       "<style scoped>\n",
       "    .dataframe tbody tr th:only-of-type {\n",
       "        vertical-align: middle;\n",
       "    }\n",
       "\n",
       "    .dataframe tbody tr th {\n",
       "        vertical-align: top;\n",
       "    }\n",
       "\n",
       "    .dataframe thead th {\n",
       "        text-align: right;\n",
       "    }\n",
       "</style>\n",
       "<table border=\"1\" class=\"dataframe\">\n",
       "  <thead>\n",
       "    <tr style=\"text-align: right;\">\n",
       "      <th></th>\n",
       "      <th>platform</th>\n",
       "      <th>all_sales</th>\n",
       "    </tr>\n",
       "  </thead>\n",
       "  <tbody>\n",
       "    <tr>\n",
       "      <th>0</th>\n",
       "      <td>PS4</td>\n",
       "      <td>288.15</td>\n",
       "    </tr>\n",
       "    <tr>\n",
       "      <th>1</th>\n",
       "      <td>XOne</td>\n",
       "      <td>140.36</td>\n",
       "    </tr>\n",
       "    <tr>\n",
       "      <th>2</th>\n",
       "      <td>3DS</td>\n",
       "      <td>86.68</td>\n",
       "    </tr>\n",
       "    <tr>\n",
       "      <th>3</th>\n",
       "      <td>PS3</td>\n",
       "      <td>68.18</td>\n",
       "    </tr>\n",
       "    <tr>\n",
       "      <th>4</th>\n",
       "      <td>X360</td>\n",
       "      <td>48.22</td>\n",
       "    </tr>\n",
       "    <tr>\n",
       "      <th>5</th>\n",
       "      <td>WiiU</td>\n",
       "      <td>42.98</td>\n",
       "    </tr>\n",
       "    <tr>\n",
       "      <th>6</th>\n",
       "      <td>PC</td>\n",
       "      <td>27.05</td>\n",
       "    </tr>\n",
       "    <tr>\n",
       "      <th>7</th>\n",
       "      <td>PSV</td>\n",
       "      <td>22.40</td>\n",
       "    </tr>\n",
       "    <tr>\n",
       "      <th>8</th>\n",
       "      <td>Wii</td>\n",
       "      <td>5.07</td>\n",
       "    </tr>\n",
       "    <tr>\n",
       "      <th>9</th>\n",
       "      <td>PSP</td>\n",
       "      <td>0.36</td>\n",
       "    </tr>\n",
       "  </tbody>\n",
       "</table>\n",
       "</div>"
      ],
      "text/plain": [
       "  platform  all_sales\n",
       "0      PS4     288.15\n",
       "1     XOne     140.36\n",
       "2      3DS      86.68\n",
       "3      PS3      68.18\n",
       "4     X360      48.22\n",
       "5     WiiU      42.98\n",
       "6       PC      27.05\n",
       "7      PSV      22.40\n",
       "8      Wii       5.07\n",
       "9      PSP       0.36"
      ]
     },
     "execution_count": 22,
     "metadata": {},
     "output_type": "execute_result"
    }
   ],
   "source": [
    "# Таблица платформ и продаж в актуальном периоде\n",
    "actual_games_piv = (actual_games.pivot_table(index='platform', values='all_sales', aggfunc='sum')\n",
    "                    .sort_values('all_sales', ascending=False)\n",
    "                    .reset_index())\n",
    "actual_games_piv"
   ]
  },
  {
   "cell_type": "markdown",
   "metadata": {},
   "source": [
    "Не все платформы показывают хороший результат, можно рассмотреть те платформы, продажи которых превышают 20 млн. копий, а затем посмотрим как обстоят дела с продажами по каждой из них.<br>\n",
    "Подготовим данные."
   ]
  },
  {
   "cell_type": "code",
   "execution_count": 23,
   "metadata": {
    "scrolled": false
   },
   "outputs": [],
   "source": [
    "# Группируем данные\n",
    "actual_dist = (actual_games[actual_games['platform'].isin(actual_games_piv['platform'].head(8).unique())]\n",
    "             .pivot_table(index=['platform','year_of_release'], values='all_sales', aggfunc='sum')\n",
    "             .reset_index())"
   ]
  },
  {
   "cell_type": "markdown",
   "metadata": {},
   "source": [
    "Строим графики распределения продаж по годам."
   ]
  },
  {
   "cell_type": "code",
   "execution_count": 24,
   "metadata": {
    "scrolled": false
   },
   "outputs": [
    {
     "data": {
      "image/png": "[encoded data removed]",
      "text/plain": [
       "<Figure size 432x288 with 1 Axes>"
      ]
     },
     "metadata": {
      "needs_background": "light"
     },
     "output_type": "display_data"
    },
    {
     "data": {
      "image/png": "[encoded data removed]",
      "text/plain": [
       "<Figure size 432x288 with 1 Axes>"
      ]
     },
     "metadata": {
      "needs_background": "light"
     },
     "output_type": "display_data"
    },
    {
     "data": {
      "image/png": "[encoded data removed]",
      "text/plain": [
       "<Figure size 432x288 with 1 Axes>"
      ]
     },
     "metadata": {
      "needs_background": "light"
     },
     "output_type": "display_data"
    },
    {
     "data": {
      "image/png": "[encoded data removed]",
      "text/plain": [
       "<Figure size 432x288 with 1 Axes>"
      ]
     },
     "metadata": {
      "needs_background": "light"
     },
     "output_type": "display_data"
    },
    {
     "data": {
      "image/png": "[encoded data removed]",
      "text/plain": [
       "<Figure size 432x288 with 1 Axes>"
      ]
     },
     "metadata": {
      "needs_background": "light"
     },
     "output_type": "display_data"
    },
    {
     "data": {
      "image/png": "[encoded data removed]",
      "text/plain": [
       "<Figure size 432x288 with 1 Axes>"
      ]
     },
     "metadata": {
      "needs_background": "light"
     },
     "output_type": "display_data"
    },
    {
     "data": {
      "image/png": "[encoded data removed]",
      "text/plain": [
       "<Figure size 432x288 with 1 Axes>"
      ]
     },
     "metadata": {
      "needs_background": "light"
     },
     "output_type": "display_data"
    },
    {
     "data": {
      "image/png": "[encoded data removed]",
      "text/plain": [
       "<Figure size 432x288 with 1 Axes>"
      ]
     },
     "metadata": {
      "needs_background": "light"
     },
     "output_type": "display_data"
    }
   ],
   "source": [
    "# Цикл, который будет строить распределение продаж по годам для каждой платформы\n",
    "for platform in actual_dist['platform'].unique():\n",
    "    (actual_dist.query('platform == @platform')\n",
    "     .plot(x='year_of_release', \n",
    "           y='all_sales',\n",
    "           kind='bar',\n",
    "           title=platform,\n",
    "           rot=45,\n",
    "           grid=True,\n",
    "           legend=False))\n",
    "    plt.xlabel('Года')\n",
    "    plt.ylabel('Проданные копии млн.')"
   ]
  },
  {
   "cell_type": "markdown",
   "metadata": {},
   "source": [
    "По графикам можно сказать следующее:\n",
    "1. X360, PS3 - платформы, продажи которых падают и показывают очень низкий результат в 2016г, что и очевидно, т.к. их средние 9 лет \"жизни\" подошли к концу.\n",
    "2. 3DS, PC, PSV, WiiU  - показывают спад продаж, но сами продажи намного выше, чем у X360, PS3, Wii.\n",
    "3. Лидерами продаж являются XOne и PS4, хоть и показывают небольшой спад продаж.\n",
    "\n",
    "Построим диаграммы размаха для каждой платформы."
   ]
  },
  {
   "cell_type": "code",
   "execution_count": 25,
   "metadata": {},
   "outputs": [
    {
     "data": {
      "text/plain": [
       "Text(0.5, 1.0, 'Распределение продаж по платформам')"
      ]
     },
     "execution_count": 25,
     "metadata": {},
     "output_type": "execute_result"
    },
    {
     "data": {
      "image/png": "[encoded data removed]",
      "text/plain": [
       "<Figure size 576x576 with 1 Axes>"
      ]
     },
     "metadata": {
      "needs_background": "light"
     },
     "output_type": "display_data"
    }
   ],
   "source": [
    "# Строим диаграммы размаха по платформам\n",
    "actual_dist.boxplot(column='all_sales', by='platform', figsize=(8,8))\n",
    "plt.suptitle('')\n",
    "plt.xlabel('Платформы')\n",
    "plt.ylabel('Проданные копии млн.')\n",
    "plt.title('Распределение продаж по платформам')"
   ]
  },
  {
   "cell_type": "markdown",
   "metadata": {},
   "source": [
    "По графику видно:\n",
    "1. PSV - продажи очень низкие, т.к. размах очень мал, к тому же медиана близка к первому квартилю.\n",
    "2. PS3, X360 - платформы, которые обладают большими размахами продаж, при этом медианные значения PS3, X360 низки, это говорит о том, что  игры на данные платформы в последние 3 года продаются плохо.\n",
    "3. PC - небольшой размах продаж, но при этом почти симметричная картина относительно медианы.\n",
    "4. WiiU - новая консоль, по сравнению с другими новыми консолями продаж меньше, но при этом медиана расположена ближе к третьему квартилю.\n",
    "5. 3DS, XOne, PS4 - новые консоли, размах которых уже довольно велик при этом медианные значения у PS4 и особенно у XOne расположены ближе к третьему квартилю, что говорит о хороших продажах."
   ]
  },
  {
   "cell_type": "markdown",
   "metadata": {},
   "source": [
    "Ранее были выделены перспективные для 2017г., среди которых 3DS, WiiU, PS4 и XOne, соответственно можно сделать основной упор на эти платформы. Также есть \"нестареющий\" PC, который может быть актуален еще долгое время."
   ]
  },
  {
   "cell_type": "markdown",
   "metadata": {},
   "source": [
    "Рассмотрим подробнее лидера - PS4, а именно зависимость продаж от оценок критиков и пользователей.<br>\n",
    "Начнем с критиков."
   ]
  },
  {
   "cell_type": "code",
   "execution_count": 26,
   "metadata": {},
   "outputs": [
    {
     "name": "stdout",
     "output_type": "stream",
     "text": [
      "Коэффициент корреляции оценок критиков и продаж =  0.34616355123267706\n"
     ]
    },
    {
     "data": {
      "image/png": "[encoded data removed]",
      "text/plain": [
       "<Figure size 432x288 with 1 Axes>"
      ]
     },
     "metadata": {
      "needs_background": "light"
     },
     "output_type": "display_data"
    }
   ],
   "source": [
    "actual_games.query('platform == \"PS4\"').plot(x='all_sales', y='critic_score', kind='scatter')\n",
    "plt.xlabel('Продажи')\n",
    "plt.ylabel('Оценки')\n",
    "plt.title('Корреляция оценок критиков и продаж')\n",
    "print('Коэффициент корреляции оценок критиков и продаж = ',actual_games.query('platform == \"PS4\"')['all_sales']\n",
    "      .corr(actual_games.query('platform == \"PS4\"')['critic_score']))"
   ]
  },
  {
   "cell_type": "markdown",
   "metadata": {},
   "source": [
    "Есть очень слабая зависимость между продажами и оценками критиков."
   ]
  },
  {
   "cell_type": "code",
   "execution_count": 27,
   "metadata": {},
   "outputs": [
    {
     "name": "stdout",
     "output_type": "stream",
     "text": [
      "Коэффициент корреляции оценок игроков и продаж =  -0.06709467337892867\n"
     ]
    },
    {
     "data": {
      "image/png": "[encoded data removed]",
      "text/plain": [
       "<Figure size 432x288 with 1 Axes>"
      ]
     },
     "metadata": {
      "needs_background": "light"
     },
     "output_type": "display_data"
    }
   ],
   "source": [
    "actual_games.query('platform == \"PS4\"').plot(x='all_sales', y='user_score', kind='scatter')\n",
    "plt.xlabel('Продажи')\n",
    "plt.ylabel('Оценки')\n",
    "plt.title('Корреляция оценок игроков и продаж')\n",
    "print('Коэффициент корреляции оценок игроков и продаж = ', actual_games.query('platform == \"PS4\"')['all_sales']\n",
    "      .corr(actual_games.query('platform == \"PS4\"')['user_score']))"
   ]
  },
  {
   "cell_type": "markdown",
   "metadata": {},
   "source": [
    "А корреляции между продажами и оценками ипользователей нет.<br>\n",
    "Логичнее всего предположить, что если продажи слабо зависят от оценок критиков и не зависят от оценок пользователей для лидирующей по продаже платформе, то для других платформ ситуация будет аналогична.\n",
    "\n",
    "Теперь рассмотрим зависимость продаж от жанров игр."
   ]
  },
  {
   "cell_type": "code",
   "execution_count": 28,
   "metadata": {
    "scrolled": false
   },
   "outputs": [
    {
     "data": {
      "text/html": [
       "<div>\n",
       "<style scoped>\n",
       "    .dataframe tbody tr th:only-of-type {\n",
       "        vertical-align: middle;\n",
       "    }\n",
       "\n",
       "    .dataframe tbody tr th {\n",
       "        vertical-align: top;\n",
       "    }\n",
       "\n",
       "    .dataframe thead th {\n",
       "        text-align: right;\n",
       "    }\n",
       "</style>\n",
       "<table border=\"1\" class=\"dataframe\">\n",
       "  <thead>\n",
       "    <tr style=\"text-align: right;\">\n",
       "      <th></th>\n",
       "      <th>genre</th>\n",
       "      <th>sum</th>\n",
       "      <th>mean</th>\n",
       "      <th>median</th>\n",
       "    </tr>\n",
       "  </thead>\n",
       "  <tbody>\n",
       "    <tr>\n",
       "      <th>0</th>\n",
       "      <td>Action</td>\n",
       "      <td>199.36</td>\n",
       "      <td>0.322068</td>\n",
       "      <td>0.090</td>\n",
       "    </tr>\n",
       "    <tr>\n",
       "      <th>1</th>\n",
       "      <td>Adventure</td>\n",
       "      <td>17.55</td>\n",
       "      <td>0.094865</td>\n",
       "      <td>0.030</td>\n",
       "    </tr>\n",
       "    <tr>\n",
       "      <th>2</th>\n",
       "      <td>Fighting</td>\n",
       "      <td>28.22</td>\n",
       "      <td>0.470333</td>\n",
       "      <td>0.125</td>\n",
       "    </tr>\n",
       "    <tr>\n",
       "      <th>3</th>\n",
       "      <td>Misc</td>\n",
       "      <td>37.55</td>\n",
       "      <td>0.332301</td>\n",
       "      <td>0.090</td>\n",
       "    </tr>\n",
       "    <tr>\n",
       "      <th>4</th>\n",
       "      <td>Platform</td>\n",
       "      <td>18.09</td>\n",
       "      <td>0.476053</td>\n",
       "      <td>0.140</td>\n",
       "    </tr>\n",
       "    <tr>\n",
       "      <th>5</th>\n",
       "      <td>Puzzle</td>\n",
       "      <td>2.21</td>\n",
       "      <td>0.157857</td>\n",
       "      <td>0.045</td>\n",
       "    </tr>\n",
       "    <tr>\n",
       "      <th>6</th>\n",
       "      <td>Racing</td>\n",
       "      <td>27.52</td>\n",
       "      <td>0.398841</td>\n",
       "      <td>0.090</td>\n",
       "    </tr>\n",
       "    <tr>\n",
       "      <th>7</th>\n",
       "      <td>Role-Playing</td>\n",
       "      <td>101.44</td>\n",
       "      <td>0.459005</td>\n",
       "      <td>0.110</td>\n",
       "    </tr>\n",
       "    <tr>\n",
       "      <th>8</th>\n",
       "      <td>Shooter</td>\n",
       "      <td>170.94</td>\n",
       "      <td>1.335469</td>\n",
       "      <td>0.515</td>\n",
       "    </tr>\n",
       "    <tr>\n",
       "      <th>9</th>\n",
       "      <td>Simulation</td>\n",
       "      <td>13.13</td>\n",
       "      <td>0.298409</td>\n",
       "      <td>0.100</td>\n",
       "    </tr>\n",
       "    <tr>\n",
       "      <th>10</th>\n",
       "      <td>Sports</td>\n",
       "      <td>109.48</td>\n",
       "      <td>0.680000</td>\n",
       "      <td>0.180</td>\n",
       "    </tr>\n",
       "    <tr>\n",
       "      <th>11</th>\n",
       "      <td>Strategy</td>\n",
       "      <td>3.96</td>\n",
       "      <td>0.107027</td>\n",
       "      <td>0.060</td>\n",
       "    </tr>\n",
       "  </tbody>\n",
       "</table>\n",
       "</div>"
      ],
      "text/plain": [
       "           genre     sum      mean  median\n",
       "0         Action  199.36  0.322068   0.090\n",
       "1      Adventure   17.55  0.094865   0.030\n",
       "2       Fighting   28.22  0.470333   0.125\n",
       "3           Misc   37.55  0.332301   0.090\n",
       "4       Platform   18.09  0.476053   0.140\n",
       "5         Puzzle    2.21  0.157857   0.045\n",
       "6         Racing   27.52  0.398841   0.090\n",
       "7   Role-Playing  101.44  0.459005   0.110\n",
       "8        Shooter  170.94  1.335469   0.515\n",
       "9     Simulation   13.13  0.298409   0.100\n",
       "10        Sports  109.48  0.680000   0.180\n",
       "11      Strategy    3.96  0.107027   0.060"
      ]
     },
     "metadata": {},
     "output_type": "display_data"
    },
    {
     "data": {
      "image/png": "[encoded data removed]",
      "text/plain": [
       "<Figure size 720x360 with 1 Axes>"
      ]
     },
     "metadata": {
      "needs_background": "light"
     },
     "output_type": "display_data"
    },
    {
     "data": {
      "image/png": "[encoded data removed]",
      "text/plain": [
       "<Figure size 720x360 with 1 Axes>"
      ]
     },
     "metadata": {
      "needs_background": "light"
     },
     "output_type": "display_data"
    },
    {
     "data": {
      "image/png": "[encoded data removed]",
      "text/plain": [
       "<Figure size 720x360 with 1 Axes>"
      ]
     },
     "metadata": {
      "needs_background": "light"
     },
     "output_type": "display_data"
    }
   ],
   "source": [
    "# Создаем сводную таблицу, в которой храним жанр, суммарные продажи, среднее и медиану по продажам\n",
    "genre_dist = actual_games.pivot_table(index='genre', values='all_sales', aggfunc=['sum', 'mean', 'median'])\n",
    "genre_dist.columns = genre_dist.columns.droplevel(1)\n",
    "genre_dist.reset_index(inplace=True)\n",
    "#Вывод таблицы\n",
    "display(genre_dist)\n",
    "\n",
    "metrics = ['sum', 'mean', 'median']\n",
    "\n",
    "#Строим графики по метрикам\n",
    "for metric in metrics:\n",
    "    (genre_dist.plot(x='genre', \n",
    "           y=metric,\n",
    "           kind='bar',\n",
    "           title=metric,\n",
    "           figsize=(10,5),\n",
    "           rot=45,\n",
    "           grid=True,\n",
    "           legend=False))\n",
    "    plt.xlabel('Жанры')\n",
    "    plt.ylabel('Проданные копии млн.')"
   ]
  },
  {
   "cell_type": "markdown",
   "metadata": {},
   "source": [
    "Судя по графикам можно сказать следующее:\n",
    "1. Жанры Action, Shooter и Sports показывают самые высокие общие продажи.\n",
    "2. Жанры Adventure, Puzzle и Strategy показывают самые низкие общие продажи.\n",
    "3. Жанры Shooter и Sports показывают самые высокие средние и медианные продажи.\n",
    "4. Жанры Adventure, Puzzle и Strategy показывают самые низкие средние и медианные продажи. "
   ]
  },
  {
   "cell_type": "markdown",
   "metadata": {},
   "source": [
    "**Выводы**\n",
    "\n",
    "1. В качестве актуального периода выбран период с 2014 по 2016 год.\n",
    "2. Найдены актуальные для данного периода платформы, игры и жанры. \n",
    "3. Проведена оценка продаж для актуальных платформ:\n",
    "* X360, PS3 - платформы, продажи которых падают и показывают очень низкий результат в 2016г, что и очевидно, т.к. их средние 9 лет \"жизни\" подошли к концу.\n",
    "* DS, PC, PSV, WiiU  - показывают спад продаж, но сами продажи намного выше, чем у X360, PS3, Wii.\n",
    "* Лидерами продаж являются XOne и PS4, хоть и показывают небольшой спад продаж.\n",
    "4. Оценки критиков очень слабо влияют на продажи игр для той или ионй платформы, а оценки пользователей не влияют совсем.\n",
    "5. Самыми прибыльными жанрами являются Shooter и Sports, жанры Adventure, Puzzle и Strategy показывают самые низкие продажи.\n",
    "6. PS4, XOne, WiiU, 3DS - наиболее свежие перспективные игровые приставки для данного периода времени и PC - платформа, игры на которую выпускаются с 1985 года, чье железо можно обновить для соответствия требованиям игр."
   ]
  },
  {
   "cell_type": "markdown",
   "metadata": {},
   "source": [
    "## Описание портерета пользователя для каждого региона."
   ]
  },
  {
   "cell_type": "markdown",
   "metadata": {},
   "source": [
    "Для определения портерета пользователя для каждого региона выполним следующие действия:\n",
    "1. Выделим самые популярные платформы (топ-5) для каждого региона.\n",
    "2. Выделим самые популярные жанры (топ-5) для каждого региона.\n",
    "3. Оценим влияние рейтинга ESRB на продажи в отдельном регионе.\n",
    "\n",
    "Для начала выполним пункт 1, т.е. найдем топ-5 популярные платформы для каждого региона."
   ]
  },
  {
   "cell_type": "code",
   "execution_count": 29,
   "metadata": {
    "scrolled": false
   },
   "outputs": [
    {
     "data": {
      "text/html": [
       "<div>\n",
       "<style scoped>\n",
       "    .dataframe tbody tr th:only-of-type {\n",
       "        vertical-align: middle;\n",
       "    }\n",
       "\n",
       "    .dataframe tbody tr th {\n",
       "        vertical-align: top;\n",
       "    }\n",
       "\n",
       "    .dataframe thead th {\n",
       "        text-align: right;\n",
       "    }\n",
       "</style>\n",
       "<table border=\"1\" class=\"dataframe\">\n",
       "  <thead>\n",
       "    <tr style=\"text-align: right;\">\n",
       "      <th></th>\n",
       "      <th>platform</th>\n",
       "      <th>na_sales</th>\n",
       "    </tr>\n",
       "  </thead>\n",
       "  <tbody>\n",
       "    <tr>\n",
       "      <th>0</th>\n",
       "      <td>PS4</td>\n",
       "      <td>98.61</td>\n",
       "    </tr>\n",
       "    <tr>\n",
       "      <th>1</th>\n",
       "      <td>XOne</td>\n",
       "      <td>81.27</td>\n",
       "    </tr>\n",
       "    <tr>\n",
       "      <th>2</th>\n",
       "      <td>X360</td>\n",
       "      <td>28.30</td>\n",
       "    </tr>\n",
       "    <tr>\n",
       "      <th>3</th>\n",
       "      <td>3DS</td>\n",
       "      <td>22.64</td>\n",
       "    </tr>\n",
       "    <tr>\n",
       "      <th>4</th>\n",
       "      <td>PS3</td>\n",
       "      <td>22.05</td>\n",
       "    </tr>\n",
       "  </tbody>\n",
       "</table>\n",
       "</div>"
      ],
      "text/plain": [
       "  platform  na_sales\n",
       "0      PS4     98.61\n",
       "1     XOne     81.27\n",
       "2     X360     28.30\n",
       "3      3DS     22.64\n",
       "4      PS3     22.05"
      ]
     },
     "metadata": {},
     "output_type": "display_data"
    },
    {
     "data": {
      "text/plain": [
       "Text(0, 0.5, '')"
      ]
     },
     "execution_count": 29,
     "metadata": {},
     "output_type": "execute_result"
    },
    {
     "data": {
      "image/png": "[encoded data removed]",
      "text/plain": [
       "<Figure size 576x576 with 1 Axes>"
      ]
     },
     "metadata": {},
     "output_type": "display_data"
    }
   ],
   "source": [
    "# Выделяем топ-5 для NA-региона\n",
    "na_platform = (actual_games.pivot_table(index='platform', values='na_sales', aggfunc='sum')\n",
    "               .sort_values('na_sales', ascending=False)\n",
    "               .reset_index())\n",
    "\n",
    "na_top_plat = na_platform.head()\n",
    "# Проверка результата\n",
    "display(na_top_plat)\n",
    "\n",
    "# Остальные платформы объединим в отделльную группу\n",
    "new_row = {'platform':'Other', 'na_sales': na_platform[5:]['na_sales'].apply('sum')} \n",
    "na_top_plat = na_top_plat.append(new_row, ignore_index=True)\n",
    "\n",
    "# Круговая диаграмма\n",
    "na_top_plat.plot.pie(y='na_sales', \n",
    "                  autopct=\"%.2f\", \n",
    "                  figsize=(8,8), \n",
    "                  fontsize=15, \n",
    "                  subplots=True, \n",
    "                  labels=na_top_plat['platform'], \n",
    "                  legend=False)\n",
    "plt.ylabel('')"
   ]
  },
  {
   "cell_type": "markdown",
   "metadata": {},
   "source": [
    "Лидером среди популярных платформ для NA-региона является PS4 затем идут XOne, X360, 3DS и PS3 - платформы, которые были наиболее актуальны для рассматриваемого периода."
   ]
  },
  {
   "cell_type": "code",
   "execution_count": 30,
   "metadata": {},
   "outputs": [
    {
     "data": {
      "text/html": [
       "<div>\n",
       "<style scoped>\n",
       "    .dataframe tbody tr th:only-of-type {\n",
       "        vertical-align: middle;\n",
       "    }\n",
       "\n",
       "    .dataframe tbody tr th {\n",
       "        vertical-align: top;\n",
       "    }\n",
       "\n",
       "    .dataframe thead th {\n",
       "        text-align: right;\n",
       "    }\n",
       "</style>\n",
       "<table border=\"1\" class=\"dataframe\">\n",
       "  <thead>\n",
       "    <tr style=\"text-align: right;\">\n",
       "      <th></th>\n",
       "      <th>platform</th>\n",
       "      <th>eu_sales</th>\n",
       "    </tr>\n",
       "  </thead>\n",
       "  <tbody>\n",
       "    <tr>\n",
       "      <th>0</th>\n",
       "      <td>PS4</td>\n",
       "      <td>130.04</td>\n",
       "    </tr>\n",
       "    <tr>\n",
       "      <th>1</th>\n",
       "      <td>XOne</td>\n",
       "      <td>46.25</td>\n",
       "    </tr>\n",
       "    <tr>\n",
       "      <th>2</th>\n",
       "      <td>PS3</td>\n",
       "      <td>25.54</td>\n",
       "    </tr>\n",
       "    <tr>\n",
       "      <th>3</th>\n",
       "      <td>PC</td>\n",
       "      <td>17.97</td>\n",
       "    </tr>\n",
       "    <tr>\n",
       "      <th>4</th>\n",
       "      <td>3DS</td>\n",
       "      <td>16.12</td>\n",
       "    </tr>\n",
       "  </tbody>\n",
       "</table>\n",
       "</div>"
      ],
      "text/plain": [
       "  platform  eu_sales\n",
       "0      PS4    130.04\n",
       "1     XOne     46.25\n",
       "2      PS3     25.54\n",
       "3       PC     17.97\n",
       "4      3DS     16.12"
      ]
     },
     "metadata": {},
     "output_type": "display_data"
    },
    {
     "data": {
      "text/plain": [
       "Text(0, 0.5, '')"
      ]
     },
     "execution_count": 30,
     "metadata": {},
     "output_type": "execute_result"
    },
    {
     "data": {
      "image/png": "[encoded data removed]",
      "text/plain": [
       "<Figure size 576x576 with 1 Axes>"
      ]
     },
     "metadata": {},
     "output_type": "display_data"
    }
   ],
   "source": [
    "# Выделяем топ-5 для EU-региона\n",
    "eu_platform = (actual_games.pivot_table(index='platform', values='eu_sales', aggfunc='sum')\n",
    "               .sort_values('eu_sales', ascending=False)\n",
    "               .reset_index())\n",
    "\n",
    "eu_top_plat = eu_platform.head()\n",
    "# Проверка результата\n",
    "display(eu_top_plat)\n",
    "\n",
    "# Остальные платформы объединим в отделльную группу\n",
    "new_row = {'platform':'Other', 'eu_sales': eu_platform[5:]['eu_sales'].apply('sum')} \n",
    "eu_top_plat = eu_top_plat.append(new_row, ignore_index=True)\n",
    "\n",
    "# Круговая диаграмма\n",
    "eu_top_plat.plot.pie(y='eu_sales', \n",
    "                  autopct=\"%.2f\", \n",
    "                  figsize=(8,8), \n",
    "                  fontsize=15, \n",
    "                  subplots=True, \n",
    "                  labels=eu_top_plat['platform'], \n",
    "                  legend=False)\n",
    "plt.ylabel('')"
   ]
  },
  {
   "cell_type": "markdown",
   "metadata": {},
   "source": [
    "Лидером среди популярных платформ для EU-региона является PS4 затем идут XOne, PS3, PC, 3DS. "
   ]
  },
  {
   "cell_type": "code",
   "execution_count": 31,
   "metadata": {},
   "outputs": [
    {
     "data": {
      "text/html": [
       "<div>\n",
       "<style scoped>\n",
       "    .dataframe tbody tr th:only-of-type {\n",
       "        vertical-align: middle;\n",
       "    }\n",
       "\n",
       "    .dataframe tbody tr th {\n",
       "        vertical-align: top;\n",
       "    }\n",
       "\n",
       "    .dataframe thead th {\n",
       "        text-align: right;\n",
       "    }\n",
       "</style>\n",
       "<table border=\"1\" class=\"dataframe\">\n",
       "  <thead>\n",
       "    <tr style=\"text-align: right;\">\n",
       "      <th></th>\n",
       "      <th>platform</th>\n",
       "      <th>jp_sales</th>\n",
       "    </tr>\n",
       "  </thead>\n",
       "  <tbody>\n",
       "    <tr>\n",
       "      <th>0</th>\n",
       "      <td>3DS</td>\n",
       "      <td>44.24</td>\n",
       "    </tr>\n",
       "    <tr>\n",
       "      <th>1</th>\n",
       "      <td>PS4</td>\n",
       "      <td>15.02</td>\n",
       "    </tr>\n",
       "    <tr>\n",
       "      <th>2</th>\n",
       "      <td>PSV</td>\n",
       "      <td>14.54</td>\n",
       "    </tr>\n",
       "    <tr>\n",
       "      <th>3</th>\n",
       "      <td>PS3</td>\n",
       "      <td>11.22</td>\n",
       "    </tr>\n",
       "    <tr>\n",
       "      <th>4</th>\n",
       "      <td>WiiU</td>\n",
       "      <td>7.31</td>\n",
       "    </tr>\n",
       "  </tbody>\n",
       "</table>\n",
       "</div>"
      ],
      "text/plain": [
       "  platform  jp_sales\n",
       "0      3DS     44.24\n",
       "1      PS4     15.02\n",
       "2      PSV     14.54\n",
       "3      PS3     11.22\n",
       "4     WiiU      7.31"
      ]
     },
     "metadata": {},
     "output_type": "display_data"
    },
    {
     "data": {
      "text/plain": [
       "Text(0, 0.5, '')"
      ]
     },
     "execution_count": 31,
     "metadata": {},
     "output_type": "execute_result"
    },
    {
     "data": {
      "image/png": "[encoded data removed]",
      "text/plain": [
       "<Figure size 576x576 with 1 Axes>"
      ]
     },
     "metadata": {},
     "output_type": "display_data"
    }
   ],
   "source": [
    "# Выделяем топ-5 для JP-региона\n",
    "jp_platform = (actual_games.pivot_table(index='platform', values='jp_sales', aggfunc='sum')\n",
    "               .sort_values('jp_sales', ascending=False)\n",
    "               .reset_index())\n",
    "\n",
    "jp_top_plat = jp_platform.head()\n",
    "# Проверка результата\n",
    "display(jp_top_plat)\n",
    "\n",
    "# Остальные платформы объединим в отделльную группу\n",
    "new_row = {'platform':'Other', 'jp_sales': jp_platform[5:]['jp_sales'].apply('sum')} \n",
    "jp_top_plat = jp_top_plat.append(new_row, ignore_index=True)\n",
    "\n",
    "# Круговая диаграмма\n",
    "jp_top_plat.plot.pie(y='jp_sales', \n",
    "                  autopct=\"%.2f\", \n",
    "                  figsize=(8,8), \n",
    "                  fontsize=15, \n",
    "                  subplots=True, \n",
    "                  labels=jp_top_plat['platform'], \n",
    "                  legend=False)\n",
    "plt.ylabel('')"
   ]
  },
  {
   "cell_type": "markdown",
   "metadata": {},
   "source": [
    "Наиболее интересная картина для JP-региона. Лидером среди популярных платформ является 3DS затем идут PS4, PSV, PS3, WiiU. Можно сказать, что в данном регионе портативные приставки намного популярнее стационарных."
   ]
  },
  {
   "cell_type": "markdown",
   "metadata": {},
   "source": [
    "Теперь найдем топ-5 популярных жанров."
   ]
  },
  {
   "cell_type": "code",
   "execution_count": 32,
   "metadata": {},
   "outputs": [
    {
     "data": {
      "text/html": [
       "<div>\n",
       "<style scoped>\n",
       "    .dataframe tbody tr th:only-of-type {\n",
       "        vertical-align: middle;\n",
       "    }\n",
       "\n",
       "    .dataframe tbody tr th {\n",
       "        vertical-align: top;\n",
       "    }\n",
       "\n",
       "    .dataframe thead th {\n",
       "        text-align: right;\n",
       "    }\n",
       "</style>\n",
       "<table border=\"1\" class=\"dataframe\">\n",
       "  <thead>\n",
       "    <tr style=\"text-align: right;\">\n",
       "      <th></th>\n",
       "      <th>genre</th>\n",
       "      <th>na_sales</th>\n",
       "    </tr>\n",
       "  </thead>\n",
       "  <tbody>\n",
       "    <tr>\n",
       "      <th>0</th>\n",
       "      <td>Shooter</td>\n",
       "      <td>79.02</td>\n",
       "    </tr>\n",
       "    <tr>\n",
       "      <th>1</th>\n",
       "      <td>Action</td>\n",
       "      <td>72.53</td>\n",
       "    </tr>\n",
       "    <tr>\n",
       "      <th>2</th>\n",
       "      <td>Sports</td>\n",
       "      <td>46.13</td>\n",
       "    </tr>\n",
       "    <tr>\n",
       "      <th>3</th>\n",
       "      <td>Role-Playing</td>\n",
       "      <td>33.47</td>\n",
       "    </tr>\n",
       "    <tr>\n",
       "      <th>4</th>\n",
       "      <td>Misc</td>\n",
       "      <td>15.05</td>\n",
       "    </tr>\n",
       "  </tbody>\n",
       "</table>\n",
       "</div>"
      ],
      "text/plain": [
       "          genre  na_sales\n",
       "0       Shooter     79.02\n",
       "1        Action     72.53\n",
       "2        Sports     46.13\n",
       "3  Role-Playing     33.47\n",
       "4          Misc     15.05"
      ]
     },
     "metadata": {},
     "output_type": "display_data"
    },
    {
     "data": {
      "text/plain": [
       "Text(0, 0.5, '')"
      ]
     },
     "execution_count": 32,
     "metadata": {},
     "output_type": "execute_result"
    },
    {
     "data": {
      "image/png": "[encoded data removed]",
      "text/plain": [
       "<Figure size 576x576 with 1 Axes>"
      ]
     },
     "metadata": {},
     "output_type": "display_data"
    }
   ],
   "source": [
    "# Выделяем топ-5 для NA-региона\n",
    "na_region = (actual_games.pivot_table(index='genre', values='na_sales', aggfunc='sum')\n",
    "            .sort_values('na_sales', ascending=False)\n",
    "            .reset_index())\n",
    "\n",
    "na_top_gen = na_region.head()\n",
    "# Вывод результата\n",
    "display(na_top_gen)\n",
    "\n",
    "# Остальные жанры объединим в отделльную группу\n",
    "new_row = {'genre':'Other', 'na_sales': na_region[5:]['na_sales'].apply('sum')} \n",
    "na_top_gen = na_top_gen.append(new_row, ignore_index=True)\n",
    "\n",
    "# Круговая диаграмма\n",
    "na_top_gen.plot.pie(y='na_sales', \n",
    "                  autopct=\"%.2f\", \n",
    "                  figsize=(8,8), \n",
    "                  fontsize=15, \n",
    "                  subplots=True, \n",
    "                  labels=na_top_gen['genre'], \n",
    "                  legend=False)\n",
    "plt.ylabel('')"
   ]
  },
  {
   "cell_type": "markdown",
   "metadata": {},
   "source": [
    "Для данного региона наиболее популярны Shooter, Action, Sports, Role-Plaing."
   ]
  },
  {
   "cell_type": "code",
   "execution_count": 33,
   "metadata": {},
   "outputs": [
    {
     "data": {
      "text/html": [
       "<div>\n",
       "<style scoped>\n",
       "    .dataframe tbody tr th:only-of-type {\n",
       "        vertical-align: middle;\n",
       "    }\n",
       "\n",
       "    .dataframe tbody tr th {\n",
       "        vertical-align: top;\n",
       "    }\n",
       "\n",
       "    .dataframe thead th {\n",
       "        text-align: right;\n",
       "    }\n",
       "</style>\n",
       "<table border=\"1\" class=\"dataframe\">\n",
       "  <thead>\n",
       "    <tr style=\"text-align: right;\">\n",
       "      <th></th>\n",
       "      <th>genre</th>\n",
       "      <th>eu_sales</th>\n",
       "    </tr>\n",
       "  </thead>\n",
       "  <tbody>\n",
       "    <tr>\n",
       "      <th>0</th>\n",
       "      <td>Action</td>\n",
       "      <td>74.68</td>\n",
       "    </tr>\n",
       "    <tr>\n",
       "      <th>1</th>\n",
       "      <td>Shooter</td>\n",
       "      <td>65.52</td>\n",
       "    </tr>\n",
       "    <tr>\n",
       "      <th>2</th>\n",
       "      <td>Sports</td>\n",
       "      <td>45.73</td>\n",
       "    </tr>\n",
       "    <tr>\n",
       "      <th>3</th>\n",
       "      <td>Role-Playing</td>\n",
       "      <td>28.17</td>\n",
       "    </tr>\n",
       "    <tr>\n",
       "      <th>4</th>\n",
       "      <td>Racing</td>\n",
       "      <td>14.13</td>\n",
       "    </tr>\n",
       "  </tbody>\n",
       "</table>\n",
       "</div>"
      ],
      "text/plain": [
       "          genre  eu_sales\n",
       "0        Action     74.68\n",
       "1       Shooter     65.52\n",
       "2        Sports     45.73\n",
       "3  Role-Playing     28.17\n",
       "4        Racing     14.13"
      ]
     },
     "metadata": {},
     "output_type": "display_data"
    },
    {
     "data": {
      "text/plain": [
       "Text(0, 0.5, '')"
      ]
     },
     "execution_count": 33,
     "metadata": {},
     "output_type": "execute_result"
    },
    {
     "data": {
      "image/png": "[encoded data removed]",
      "text/plain": [
       "<Figure size 576x576 with 1 Axes>"
      ]
     },
     "metadata": {},
     "output_type": "display_data"
    }
   ],
   "source": [
    "# Выделяем топ-5 для UE-региона\n",
    "eu_region = (actual_games.pivot_table(index='genre', values='eu_sales', aggfunc='sum')\n",
    "            .sort_values('eu_sales', ascending=False)\n",
    "            .reset_index())\n",
    "\n",
    "eu_top_gen = eu_region.head()\n",
    "# Вывод результата\n",
    "display(eu_top_gen)\n",
    "\n",
    "new_row = {'genre':'Other', 'eu_sales': eu_region[5:]['eu_sales'].apply('sum')} \n",
    "eu_top_gen = eu_top_gen.append(new_row, ignore_index=True)\n",
    "\n",
    "# Круговая диаграмма\n",
    "eu_top_gen.plot.pie(y='eu_sales', \n",
    "                  autopct=\"%.2f\", \n",
    "                  figsize=(8,8), \n",
    "                  fontsize=15, \n",
    "                  subplots=True, \n",
    "                  labels=eu_top_gen['genre'], \n",
    "                  legend=False)\n",
    "plt.ylabel('')"
   ]
  },
  {
   "cell_type": "markdown",
   "metadata": {},
   "source": [
    "Для EU-региона популярны почти те же жанры, что и в NA-регионе, Action, Shooter, Sports, Role-Plaing только отличается соотношение. К тому же здесь интересен жанр  Racing."
   ]
  },
  {
   "cell_type": "code",
   "execution_count": 34,
   "metadata": {},
   "outputs": [
    {
     "data": {
      "text/html": [
       "<div>\n",
       "<style scoped>\n",
       "    .dataframe tbody tr th:only-of-type {\n",
       "        vertical-align: middle;\n",
       "    }\n",
       "\n",
       "    .dataframe tbody tr th {\n",
       "        vertical-align: top;\n",
       "    }\n",
       "\n",
       "    .dataframe thead th {\n",
       "        text-align: right;\n",
       "    }\n",
       "</style>\n",
       "<table border=\"1\" class=\"dataframe\">\n",
       "  <thead>\n",
       "    <tr style=\"text-align: right;\">\n",
       "      <th></th>\n",
       "      <th>genre</th>\n",
       "      <th>jp_sales</th>\n",
       "    </tr>\n",
       "  </thead>\n",
       "  <tbody>\n",
       "    <tr>\n",
       "      <th>0</th>\n",
       "      <td>Role-Playing</td>\n",
       "      <td>31.16</td>\n",
       "    </tr>\n",
       "    <tr>\n",
       "      <th>1</th>\n",
       "      <td>Action</td>\n",
       "      <td>29.58</td>\n",
       "    </tr>\n",
       "    <tr>\n",
       "      <th>2</th>\n",
       "      <td>Fighting</td>\n",
       "      <td>6.37</td>\n",
       "    </tr>\n",
       "    <tr>\n",
       "      <th>3</th>\n",
       "      <td>Misc</td>\n",
       "      <td>5.61</td>\n",
       "    </tr>\n",
       "    <tr>\n",
       "      <th>4</th>\n",
       "      <td>Shooter</td>\n",
       "      <td>4.87</td>\n",
       "    </tr>\n",
       "  </tbody>\n",
       "</table>\n",
       "</div>"
      ],
      "text/plain": [
       "          genre  jp_sales\n",
       "0  Role-Playing     31.16\n",
       "1        Action     29.58\n",
       "2      Fighting      6.37\n",
       "3          Misc      5.61\n",
       "4       Shooter      4.87"
      ]
     },
     "metadata": {},
     "output_type": "display_data"
    },
    {
     "data": {
      "text/plain": [
       "Text(0, 0.5, '')"
      ]
     },
     "execution_count": 34,
     "metadata": {},
     "output_type": "execute_result"
    },
    {
     "data": {
      "image/png": "[encoded data removed]",
      "text/plain": [
       "<Figure size 576x576 with 1 Axes>"
      ]
     },
     "metadata": {},
     "output_type": "display_data"
    }
   ],
   "source": [
    "# Выделяем топ-5 для JP-региона\n",
    "jp_region = (actual_games.pivot_table(index='genre', values='jp_sales', aggfunc='sum')\n",
    "            .sort_values('jp_sales', ascending=False)\n",
    "            .reset_index())\n",
    "\n",
    "jp_top_gen = jp_region.head()\n",
    "# Вывод результата\n",
    "display(jp_top_gen)\n",
    "\n",
    "new_row = {'genre':'Other', 'jp_sales': jp_region[5:]['jp_sales'].apply('sum')} \n",
    "jp_top_gen = jp_top_gen.append(new_row, ignore_index=True)\n",
    "\n",
    "# Круговая диаграмма\n",
    "jp_top_gen.plot.pie(y='jp_sales', \n",
    "                  autopct=\"%.2f\", \n",
    "                  figsize=(8,8), \n",
    "                  fontsize=15, \n",
    "                  subplots=True, \n",
    "                  labels=jp_top_gen['genre'], \n",
    "                  legend=False)\n",
    "plt.ylabel('')"
   ]
  },
  {
   "cell_type": "markdown",
   "metadata": {},
   "source": [
    "А вот с JP-регионом ситуация опять иная, самый популярный жанр Role-Plaing, затем Action, Fighting, Shooter."
   ]
  },
  {
   "cell_type": "markdown",
   "metadata": {},
   "source": [
    "Попробуем оценить взаимосвязь рейтинга игры и ее продаж. Напрямую проверить коррляцию не получится, поэтому построим диаграмму, на которой в процентах покажем продажи игр разных рейтингов."
   ]
  },
  {
   "cell_type": "code",
   "execution_count": 35,
   "metadata": {
    "scrolled": false
   },
   "outputs": [
    {
     "data": {
      "text/plain": [
       "Text(0, 0.5, '')"
      ]
     },
     "execution_count": 35,
     "metadata": {},
     "output_type": "execute_result"
    },
    {
     "data": {
      "image/png": "[encoded data removed]",
      "text/plain": [
       "<Figure size 576x576 with 1 Axes>"
      ]
     },
     "metadata": {},
     "output_type": "display_data"
    }
   ],
   "source": [
    "# Выделяем рейтинг для NA-региона\n",
    "na_rating = (actual_games.pivot_table(index='rating', values='na_sales', aggfunc='sum')\n",
    "            .sort_values('na_sales', ascending=False)\n",
    "            .reset_index())\n",
    "# Круговая диаграмма\n",
    "na_rating.head(4).plot.pie(y='na_sales', \n",
    "                  autopct=\"%.2f\", \n",
    "                  figsize=(8,8), \n",
    "                  fontsize=15, \n",
    "                  subplots=True, \n",
    "                  labels=na_rating['rating'], \n",
    "                  legend=False)\n",
    "plt.ylabel('')\n",
    "\n",
    "# na_rating_new = na_rating.head(4).replace({'rating' : { 'E' : 1, 'M' : 4, 'T': 3, 'E10+' : 2}})\n",
    "# na_rating_new['rating'].corr(na_rating_new['na_sales'])"
   ]
  },
  {
   "cell_type": "code",
   "execution_count": 36,
   "metadata": {},
   "outputs": [
    {
     "data": {
      "text/plain": [
       "Text(0, 0.5, '')"
      ]
     },
     "execution_count": 36,
     "metadata": {},
     "output_type": "execute_result"
    },
    {
     "data": {
      "image/png": "[encoded data removed]",
      "text/plain": [
       "<Figure size 576x576 with 1 Axes>"
      ]
     },
     "metadata": {},
     "output_type": "display_data"
    }
   ],
   "source": [
    "# Выделяем рейтинг для EU-региона\n",
    "eu_rating = (actual_games.pivot_table(index='rating', values='eu_sales', aggfunc='sum')\n",
    "            .sort_values('eu_sales', ascending=False)\n",
    "            .reset_index())\n",
    "# Круговая диаграмма\n",
    "eu_rating.head(4).plot.pie(y='eu_sales', \n",
    "                  autopct=\"%.2f\", \n",
    "                  figsize=(8,8), \n",
    "                  fontsize=15, \n",
    "                  subplots=True, \n",
    "                  labels=eu_rating['rating'], \n",
    "                  legend=False)\n",
    "plt.ylabel('')\n",
    "\n",
    "# eu_rating_new = eu_rating.head(4).replace({'rating' : { 'E' : 1, 'M' : 4, 'T': 3, 'E10+' : 2}})\n",
    "# eu_rating_new['rating'].corr(eu_rating_new['eu_sales'])"
   ]
  },
  {
   "cell_type": "code",
   "execution_count": 37,
   "metadata": {},
   "outputs": [
    {
     "data": {
      "text/plain": [
       "Text(0, 0.5, '')"
      ]
     },
     "execution_count": 37,
     "metadata": {},
     "output_type": "execute_result"
    },
    {
     "data": {
      "image/png": "[encoded data removed]",
      "text/plain": [
       "<Figure size 576x576 with 1 Axes>"
      ]
     },
     "metadata": {},
     "output_type": "display_data"
    }
   ],
   "source": [
    "# Выделяем рейтинг для JP-региона\n",
    "jp_rating = (actual_games.pivot_table(index='rating', values='jp_sales', aggfunc='sum')\n",
    "            .sort_values('jp_sales', ascending=False)\n",
    "            .reset_index())\n",
    "# Круговая диаграмма\n",
    "jp_rating.head(4).plot.pie(y='jp_sales', \n",
    "                  autopct=\"%.2f\", \n",
    "                  figsize=(8,8), \n",
    "                  fontsize=15, \n",
    "                  subplots=True, \n",
    "                  labels=jp_rating['rating'], \n",
    "                  legend=False)\n",
    "plt.ylabel('')\n",
    "\n",
    "\n",
    "# jp_rating_new = jp_rating.head(4).replace({'rating' : { 'E' : 1, 'M' : 4, 'T': 3, 'E10+' : 2}})\n",
    "# jp_rating_new['rating'].corr(jp_rating_new['jp_sales'])"
   ]
  },
  {
   "cell_type": "markdown",
   "metadata": {},
   "source": [
    "Распределение продаж по рейтингу для NA-региона и EU-региона примерно одинаковые, в то время как в JP-регионе совершенно иная картина. Скорее всего это связано с разным отношением к цензуре в играх. Так что можно сказать, что рейтинг игры влияет на ее продажи в зависимости от региона."
   ]
  },
  {
   "cell_type": "markdown",
   "metadata": {},
   "source": [
    "# Часть 4. Проверка гипотез.\n",
    "## Гипотеза \"Средние пользовательские рейтинги платформ Xbox One и PC одинаковые\". "
   ]
  },
  {
   "cell_type": "markdown",
   "metadata": {},
   "source": [
    "Рассмотрим следующую нулевую гипотезу - \"средние пользовательские рейтинги платформ Xbox One и PC не различаются\". Сформулируем альтернативную гипотезу - \"средние пользовательские рейтинги платформ Xbox One и PC различаются\". Для проверки гипотез создадим два датасета xone_user_rat и pc_user_rat, в которых будем оценки по каждой игре."
   ]
  },
  {
   "cell_type": "code",
   "execution_count": 38,
   "metadata": {
    "scrolled": false
   },
   "outputs": [
    {
     "data": {
      "text/plain": [
       "0    7.4\n",
       "1    7.9\n",
       "2    5.4\n",
       "3    6.4\n",
       "4    6.2\n",
       "Name: user_score, dtype: float64"
      ]
     },
     "metadata": {},
     "output_type": "display_data"
    },
    {
     "data": {
      "text/plain": [
       "0    3.9\n",
       "1    5.4\n",
       "2    7.5\n",
       "3    7.9\n",
       "4    5.7\n",
       "Name: user_score, dtype: float64"
      ]
     },
     "metadata": {},
     "output_type": "display_data"
    }
   ],
   "source": [
    "# Датасет \"XOne\"\n",
    "xone_user_rat = actual_games.query('platform == \"XOne\"')['user_score'].reset_index(drop=True)\n",
    "display(xone_user_rat.head(5))\n",
    "\n",
    "# Датасет \"PC\"\n",
    "pc_user_rat = actual_games.query('platform == \"PC\"')['user_score'].reset_index(drop=True)\n",
    "display(pc_user_rat.head(5))"
   ]
  },
  {
   "cell_type": "markdown",
   "metadata": {},
   "source": [
    "Так как мы рассматриваем одностороннюю гипотезу, то воспользуемся  методом st.ttest_ind(), установим уровень значимости 5%."
   ]
  },
  {
   "cell_type": "code",
   "execution_count": 39,
   "metadata": {},
   "outputs": [
    {
     "name": "stdout",
     "output_type": "stream",
     "text": [
      "0.05074473945849195\n",
      "Не получилось отвергнуть нулевую гипотезу\n"
     ]
    }
   ],
   "source": [
    "# Устанавливаем уровень значимости\n",
    "alpha = .05\n",
    "# Применяем метод для сравнения средних\n",
    "result = st.ttest_ind(xone_user_rat, pc_user_rat, equal_var=False)\n",
    "# Вывод p-value\n",
    "print(result.pvalue)\n",
    "# Вывод по гипотезе\n",
    "if result.pvalue < alpha:\n",
    "    print(\"Отвергаем нулевую гипотезу\")\n",
    "else:\n",
    "    print(\"Не получилось отвергнуть нулевую гипотезу\") "
   ]
  },
  {
   "cell_type": "markdown",
   "metadata": {},
   "source": [
    "Гипотезу о том, что средние пользовательские рейтинги платформ Xbox One и PC не различаются, не удалось опровергнуть."
   ]
  },
  {
   "cell_type": "markdown",
   "metadata": {},
   "source": [
    "## Гипотеза \"Средние пользовательские рейтинги жанров Action (англ. «действие», экшен-игры) и Sports (англ. «спортивные соревнования») разные\"."
   ]
  },
  {
   "cell_type": "markdown",
   "metadata": {},
   "source": [
    "Рассмотрим следующую нулевую гипотезу - \"средние пользовательские рейтинги жанров Action  и Sports не различаются\". Сформулируем альтернативную гипотезу - \"средние пользовательские рейтинги жанров Action и Sports различаются\". Для проверки гипотез создадим два датасета action_user_rat и sports_user_rat, в которых будем оценки по каждой игре."
   ]
  },
  {
   "cell_type": "code",
   "execution_count": 40,
   "metadata": {},
   "outputs": [
    {
     "data": {
      "text/plain": [
       "0    8.3\n",
       "1    7.9\n",
       "2    7.4\n",
       "3    8.1\n",
       "4    6.3\n",
       "Name: user_score, dtype: float64"
      ]
     },
     "metadata": {},
     "output_type": "display_data"
    },
    {
     "data": {
      "text/plain": [
       "0    4.3\n",
       "1    5.0\n",
       "2    5.7\n",
       "3    4.5\n",
       "4    6.7\n",
       "Name: user_score, dtype: float64"
      ]
     },
     "metadata": {},
     "output_type": "display_data"
    }
   ],
   "source": [
    "# Датасет \"Action\"\n",
    "action_user_rat = actual_games.query('genre == \"Action\"')['user_score'].reset_index(drop=True)\n",
    "display(action_user_rat.head(5))\n",
    "\n",
    "# Датасет \"Sports\"\n",
    "sports_user_rat = actual_games.query('genre == \"Sports\"')['user_score'].reset_index(drop=True)\n",
    "display(sports_user_rat.head(5))"
   ]
  },
  {
   "cell_type": "code",
   "execution_count": 41,
   "metadata": {},
   "outputs": [
    {
     "name": "stdout",
     "output_type": "stream",
     "text": [
      "7.412639945317349e-17\n",
      "Отвергаем нулевую гипотезу\n"
     ]
    }
   ],
   "source": [
    "# Устанавливаем уровень значимости\n",
    "alpha = .05\n",
    "# Применяем метод для сравнения средних\n",
    "result = st.ttest_ind(action_user_rat, sports_user_rat, equal_var=False)\n",
    "# Вывод p-value\n",
    "print(result.pvalue)\n",
    "# Вывод по гипотезе\n",
    "if result.pvalue < alpha:\n",
    "    print(\"Отвергаем нулевую гипотезу\")\n",
    "else:\n",
    "    print(\"Не получилось отвергнуть нулевую гипотезу\")"
   ]
  },
  {
   "cell_type": "markdown",
   "metadata": {},
   "source": [
    "**Вывод**\n",
    "\n",
    "Средние пользовательские рейтинги жанров Action и Sports различаются."
   ]
  },
  {
   "cell_type": "markdown",
   "metadata": {},
   "source": [
    "# Часть 5. Подведение итогов.\n",
    "## Общий вывод по исследованию."
   ]
  },
  {
   "cell_type": "markdown",
   "metadata": {},
   "source": [
    "На основании проведенного исследования можно сказать следующее:\n",
    "1. Стоит делать акцент на игры для следующих платформ: \n",
    "* PS4, XOne, 3DS - наиболее свежие перспективные игровые приставки.\n",
    "* PC - платформа, игры на которую выпускаются с 1985 года, чье железо можно обновить для соответствия требованиям игр.\n",
    "2. Для NA и EU регионов стоит делать акцент на следующие жанры: Action, Shooter, Sports. Для JP-региона в первую очередь на игры жанра Role-Playing и Action.\n",
    "3. Стоит учитывать рейтинг игр для регионов."
   ]
  }
 ],
 "metadata": {
  "ExecuteTimeLog": [
   {
    "duration": -2186,
    "start_time": "2022-02-13T16:50:01.109Z"
   },
   {
    "duration": 2184,
    "start_time": "2022-02-13T16:50:07.444Z"
   },
   {
    "duration": 1373,
    "start_time": "2022-02-13T16:51:28.427Z"
   },
   {
    "duration": 67,
    "start_time": "2022-02-13T16:51:32.114Z"
   },
   {
    "duration": 33,
    "start_time": "2022-02-13T16:52:57.118Z"
   },
   {
    "duration": 458,
    "start_time": "2022-02-13T16:54:01.874Z"
   },
   {
    "duration": 422,
    "start_time": "2022-02-13T16:54:23.273Z"
   },
   {
    "duration": 97,
    "start_time": "2022-02-13T16:54:25.969Z"
   },
   {
    "duration": 91,
    "start_time": "2022-02-13T16:54:44.137Z"
   },
   {
    "duration": 6,
    "start_time": "2022-02-13T17:04:27.416Z"
   },
   {
    "duration": 15,
    "start_time": "2022-02-13T17:05:27.319Z"
   },
   {
    "duration": 17,
    "start_time": "2022-02-13T17:05:57.063Z"
   },
   {
    "duration": 21,
    "start_time": "2022-02-13T17:21:53.148Z"
   },
   {
    "duration": 592,
    "start_time": "2022-02-13T17:22:15.101Z"
   },
   {
    "duration": 30,
    "start_time": "2022-02-13T17:22:19.853Z"
   },
   {
    "duration": 28,
    "start_time": "2022-02-13T17:22:48.842Z"
   },
   {
    "duration": 11,
    "start_time": "2022-02-13T17:23:45.527Z"
   },
   {
    "duration": 773,
    "start_time": "2022-02-13T17:25:36.675Z"
   },
   {
    "duration": 5,
    "start_time": "2022-02-13T17:25:37.450Z"
   },
   {
    "duration": 26,
    "start_time": "2022-02-13T17:25:37.460Z"
   },
   {
    "duration": 57,
    "start_time": "2022-02-13T17:25:37.488Z"
   },
   {
    "duration": 33,
    "start_time": "2022-02-13T17:25:37.547Z"
   },
   {
    "duration": 8,
    "start_time": "2022-02-13T17:25:37.582Z"
   },
   {
    "duration": 9,
    "start_time": "2022-02-13T17:25:37.621Z"
   },
   {
    "duration": 137,
    "start_time": "2022-02-13T17:25:37.632Z"
   },
   {
    "duration": 17,
    "start_time": "2022-02-13T17:25:37.772Z"
   },
   {
    "duration": 38,
    "start_time": "2022-02-13T17:25:37.791Z"
   },
   {
    "duration": 16,
    "start_time": "2022-02-13T17:31:14.622Z"
   },
   {
    "duration": 18,
    "start_time": "2022-02-13T17:31:25.501Z"
   },
   {
    "duration": 66,
    "start_time": "2022-02-13T17:34:02.738Z"
   },
   {
    "duration": 77,
    "start_time": "2022-02-13T17:34:09.451Z"
   },
   {
    "duration": 65,
    "start_time": "2022-02-13T17:35:17.185Z"
   },
   {
    "duration": 92,
    "start_time": "2022-02-13T17:35:54.202Z"
   },
   {
    "duration": 765,
    "start_time": "2022-02-13T17:36:01.567Z"
   },
   {
    "duration": 4,
    "start_time": "2022-02-13T17:36:02.334Z"
   },
   {
    "duration": 24,
    "start_time": "2022-02-13T17:36:02.340Z"
   },
   {
    "duration": 18,
    "start_time": "2022-02-13T17:36:02.366Z"
   },
   {
    "duration": 41,
    "start_time": "2022-02-13T17:36:02.386Z"
   },
   {
    "duration": 6,
    "start_time": "2022-02-13T17:36:02.429Z"
   },
   {
    "duration": 10,
    "start_time": "2022-02-13T17:36:02.437Z"
   },
   {
    "duration": 110,
    "start_time": "2022-02-13T17:36:02.449Z"
   },
   {
    "duration": 16,
    "start_time": "2022-02-13T17:36:02.561Z"
   },
   {
    "duration": 21,
    "start_time": "2022-02-13T17:36:02.578Z"
   },
   {
    "duration": 81,
    "start_time": "2022-02-13T17:36:17.210Z"
   },
   {
    "duration": 74,
    "start_time": "2022-02-13T17:36:26.815Z"
   },
   {
    "duration": 80,
    "start_time": "2022-02-13T17:36:30.456Z"
   },
   {
    "duration": 71,
    "start_time": "2022-02-13T17:36:32.903Z"
   },
   {
    "duration": 797,
    "start_time": "2022-02-13T17:36:45.449Z"
   },
   {
    "duration": 4,
    "start_time": "2022-02-13T17:36:46.249Z"
   },
   {
    "duration": 23,
    "start_time": "2022-02-13T17:36:46.258Z"
   },
   {
    "duration": 36,
    "start_time": "2022-02-13T17:36:46.283Z"
   },
   {
    "duration": 28,
    "start_time": "2022-02-13T17:36:46.321Z"
   },
   {
    "duration": 20,
    "start_time": "2022-02-13T17:36:46.351Z"
   },
   {
    "duration": 16,
    "start_time": "2022-02-13T17:36:46.373Z"
   },
   {
    "duration": 132,
    "start_time": "2022-02-13T17:36:46.391Z"
   },
   {
    "duration": -2244,
    "start_time": "2022-02-13T17:36:48.769Z"
   },
   {
    "duration": -2245,
    "start_time": "2022-02-13T17:36:48.771Z"
   },
   {
    "duration": 89,
    "start_time": "2022-02-13T17:37:23.278Z"
   },
   {
    "duration": 107,
    "start_time": "2022-02-13T17:37:31.411Z"
   },
   {
    "duration": 99,
    "start_time": "2022-02-13T17:37:34.328Z"
   },
   {
    "duration": 505,
    "start_time": "2022-02-13T17:41:56.416Z"
   },
   {
    "duration": 730,
    "start_time": "2022-02-13T17:42:03.938Z"
   },
   {
    "duration": 5,
    "start_time": "2022-02-13T17:42:04.669Z"
   },
   {
    "duration": 26,
    "start_time": "2022-02-13T17:42:04.676Z"
   },
   {
    "duration": 28,
    "start_time": "2022-02-13T17:42:04.704Z"
   },
   {
    "duration": 26,
    "start_time": "2022-02-13T17:42:04.734Z"
   },
   {
    "duration": 6,
    "start_time": "2022-02-13T17:42:04.762Z"
   },
   {
    "duration": 19,
    "start_time": "2022-02-13T17:42:04.770Z"
   },
   {
    "duration": 111,
    "start_time": "2022-02-13T17:42:04.792Z"
   },
   {
    "duration": 21,
    "start_time": "2022-02-13T17:42:04.906Z"
   },
   {
    "duration": 22,
    "start_time": "2022-02-13T17:42:04.929Z"
   },
   {
    "duration": 302,
    "start_time": "2022-02-13T17:42:04.953Z"
   },
   {
    "duration": 346,
    "start_time": "2022-02-13T17:53:06.972Z"
   },
   {
    "duration": 300,
    "start_time": "2022-02-13T17:53:20.261Z"
   },
   {
    "duration": 381,
    "start_time": "2022-02-13T17:53:27.173Z"
   },
   {
    "duration": 340,
    "start_time": "2022-02-13T17:53:34.123Z"
   },
   {
    "duration": 283,
    "start_time": "2022-02-13T17:53:38.098Z"
   },
   {
    "duration": 459,
    "start_time": "2022-02-13T17:54:01.510Z"
   },
   {
    "duration": 258,
    "start_time": "2022-02-13T17:57:06.454Z"
   },
   {
    "duration": 293,
    "start_time": "2022-02-13T17:57:45.780Z"
   },
   {
    "duration": 357,
    "start_time": "2022-02-13T18:02:36.313Z"
   },
   {
    "duration": 300,
    "start_time": "2022-02-13T18:03:03.201Z"
   },
   {
    "duration": 304,
    "start_time": "2022-02-13T18:03:41.480Z"
   },
   {
    "duration": 312,
    "start_time": "2022-02-13T18:04:00.911Z"
   },
   {
    "duration": 299,
    "start_time": "2022-02-13T18:04:43.088Z"
   },
   {
    "duration": 467,
    "start_time": "2022-02-13T18:04:57.336Z"
   },
   {
    "duration": 578,
    "start_time": "2022-02-13T18:06:29.282Z"
   },
   {
    "duration": 498,
    "start_time": "2022-02-13T18:06:49.798Z"
   },
   {
    "duration": 290,
    "start_time": "2022-02-13T18:11:12.259Z"
   },
   {
    "duration": 311,
    "start_time": "2022-02-13T18:11:27.210Z"
   },
   {
    "duration": 379,
    "start_time": "2022-02-13T18:12:35.163Z"
   },
   {
    "duration": 308,
    "start_time": "2022-02-13T18:12:49.914Z"
   },
   {
    "duration": 315,
    "start_time": "2022-02-13T18:14:55.151Z"
   },
   {
    "duration": 283,
    "start_time": "2022-02-13T18:15:15.848Z"
   },
   {
    "duration": 41,
    "start_time": "2022-02-13T18:15:33.120Z"
   },
   {
    "duration": 5769,
    "start_time": "2022-02-13T18:16:02.919Z"
   },
   {
    "duration": 36,
    "start_time": "2022-02-13T18:16:28.408Z"
   },
   {
    "duration": 39,
    "start_time": "2022-02-13T18:16:41.818Z"
   },
   {
    "duration": 37,
    "start_time": "2022-02-13T18:17:16.783Z"
   },
   {
    "duration": 33,
    "start_time": "2022-02-13T18:17:24.711Z"
   },
   {
    "duration": 35,
    "start_time": "2022-02-13T18:20:48.468Z"
   },
   {
    "duration": 34,
    "start_time": "2022-02-13T18:21:01.079Z"
   },
   {
    "duration": 32,
    "start_time": "2022-02-13T18:21:18.293Z"
   },
   {
    "duration": 43,
    "start_time": "2022-02-13T18:22:10.302Z"
   },
   {
    "duration": 34,
    "start_time": "2022-02-13T18:22:36.831Z"
   },
   {
    "duration": 380,
    "start_time": "2022-02-13T22:20:21.536Z"
   },
   {
    "duration": 758,
    "start_time": "2022-02-13T22:20:30.441Z"
   },
   {
    "duration": 5,
    "start_time": "2022-02-13T22:20:31.200Z"
   },
   {
    "duration": 16,
    "start_time": "2022-02-13T22:20:31.207Z"
   },
   {
    "duration": 15,
    "start_time": "2022-02-13T22:20:31.225Z"
   },
   {
    "duration": 51,
    "start_time": "2022-02-13T22:20:31.242Z"
   },
   {
    "duration": 7,
    "start_time": "2022-02-13T22:20:31.295Z"
   },
   {
    "duration": 8,
    "start_time": "2022-02-13T22:20:31.303Z"
   },
   {
    "duration": 110,
    "start_time": "2022-02-13T22:20:31.313Z"
   },
   {
    "duration": 14,
    "start_time": "2022-02-13T22:20:31.425Z"
   },
   {
    "duration": 30,
    "start_time": "2022-02-13T22:20:31.441Z"
   },
   {
    "duration": 245,
    "start_time": "2022-02-13T22:20:31.473Z"
   },
   {
    "duration": 20,
    "start_time": "2022-02-13T22:20:34.452Z"
   },
   {
    "duration": 18,
    "start_time": "2022-02-13T22:20:44.663Z"
   },
   {
    "duration": 14,
    "start_time": "2022-02-13T22:20:54.190Z"
   },
   {
    "duration": 13,
    "start_time": "2022-02-13T22:22:53.037Z"
   },
   {
    "duration": 14,
    "start_time": "2022-02-13T22:23:06.783Z"
   },
   {
    "duration": 15,
    "start_time": "2022-02-13T22:23:24.388Z"
   },
   {
    "duration": 16,
    "start_time": "2022-02-13T22:23:36.652Z"
   },
   {
    "duration": 14,
    "start_time": "2022-02-13T22:23:42.614Z"
   },
   {
    "duration": 15,
    "start_time": "2022-02-13T22:24:09.900Z"
   },
   {
    "duration": 15,
    "start_time": "2022-02-13T22:24:57.114Z"
   },
   {
    "duration": 14,
    "start_time": "2022-02-13T22:25:03.788Z"
   },
   {
    "duration": 13,
    "start_time": "2022-02-13T22:25:23.682Z"
   },
   {
    "duration": 14,
    "start_time": "2022-02-13T22:25:30.586Z"
   },
   {
    "duration": 16,
    "start_time": "2022-02-13T22:26:25.386Z"
   },
   {
    "duration": 15,
    "start_time": "2022-02-13T22:26:31.737Z"
   },
   {
    "duration": 15,
    "start_time": "2022-02-13T22:27:43.001Z"
   },
   {
    "duration": 14,
    "start_time": "2022-02-13T22:27:52.225Z"
   },
   {
    "duration": 26,
    "start_time": "2022-02-13T22:28:16.577Z"
   },
   {
    "duration": 15,
    "start_time": "2022-02-13T22:29:11.145Z"
   },
   {
    "duration": 12,
    "start_time": "2022-02-13T22:29:36.527Z"
   },
   {
    "duration": 659,
    "start_time": "2022-02-13T22:29:43.723Z"
   },
   {
    "duration": 4,
    "start_time": "2022-02-13T22:29:44.384Z"
   },
   {
    "duration": 14,
    "start_time": "2022-02-13T22:29:44.390Z"
   },
   {
    "duration": 14,
    "start_time": "2022-02-13T22:29:44.405Z"
   },
   {
    "duration": 52,
    "start_time": "2022-02-13T22:29:44.420Z"
   },
   {
    "duration": 6,
    "start_time": "2022-02-13T22:29:44.473Z"
   },
   {
    "duration": 6,
    "start_time": "2022-02-13T22:29:44.480Z"
   },
   {
    "duration": 95,
    "start_time": "2022-02-13T22:29:44.488Z"
   },
   {
    "duration": 15,
    "start_time": "2022-02-13T22:29:44.585Z"
   },
   {
    "duration": 19,
    "start_time": "2022-02-13T22:29:44.602Z"
   },
   {
    "duration": 268,
    "start_time": "2022-02-13T22:29:44.623Z"
   },
   {
    "duration": 13,
    "start_time": "2022-02-13T22:29:44.894Z"
   },
   {
    "duration": 29,
    "start_time": "2022-02-13T22:29:44.908Z"
   },
   {
    "duration": 353,
    "start_time": "2022-02-13T22:29:59.409Z"
   },
   {
    "duration": 11,
    "start_time": "2022-02-13T22:30:23.499Z"
   },
   {
    "duration": 14,
    "start_time": "2022-02-13T22:34:46.720Z"
   },
   {
    "duration": 14,
    "start_time": "2022-02-13T22:35:11.759Z"
   },
   {
    "duration": 14,
    "start_time": "2022-02-13T22:35:43.199Z"
   },
   {
    "duration": 14,
    "start_time": "2022-02-13T22:35:46.549Z"
   },
   {
    "duration": 14,
    "start_time": "2022-02-13T22:36:00.198Z"
   },
   {
    "duration": 774,
    "start_time": "2022-02-13T22:36:32.700Z"
   },
   {
    "duration": 5,
    "start_time": "2022-02-13T22:36:33.476Z"
   },
   {
    "duration": 15,
    "start_time": "2022-02-13T22:36:33.486Z"
   },
   {
    "duration": 14,
    "start_time": "2022-02-13T22:36:33.503Z"
   },
   {
    "duration": 56,
    "start_time": "2022-02-13T22:36:33.519Z"
   },
   {
    "duration": 7,
    "start_time": "2022-02-13T22:36:33.577Z"
   },
   {
    "duration": 6,
    "start_time": "2022-02-13T22:36:33.586Z"
   },
   {
    "duration": 106,
    "start_time": "2022-02-13T22:36:33.594Z"
   },
   {
    "duration": 15,
    "start_time": "2022-02-13T22:36:33.702Z"
   },
   {
    "duration": 18,
    "start_time": "2022-02-13T22:36:33.719Z"
   },
   {
    "duration": 288,
    "start_time": "2022-02-13T22:36:33.739Z"
   },
   {
    "duration": 15,
    "start_time": "2022-02-13T22:36:34.029Z"
   },
   {
    "duration": 40,
    "start_time": "2022-02-13T22:36:34.045Z"
   },
   {
    "duration": 19,
    "start_time": "2022-02-13T22:54:44.985Z"
   },
   {
    "duration": 94,
    "start_time": "2022-02-13T22:55:15.613Z"
   },
   {
    "duration": 20,
    "start_time": "2022-02-13T22:55:29.542Z"
   },
   {
    "duration": 374,
    "start_time": "2022-02-13T22:56:49.069Z"
   },
   {
    "duration": 20,
    "start_time": "2022-02-13T22:57:07.593Z"
   },
   {
    "duration": 17,
    "start_time": "2022-02-13T22:57:18.660Z"
   },
   {
    "duration": 16,
    "start_time": "2022-02-13T22:57:23.868Z"
   },
   {
    "duration": 15,
    "start_time": "2022-02-13T22:58:01.716Z"
   },
   {
    "duration": 14,
    "start_time": "2022-02-13T22:58:38.827Z"
   },
   {
    "duration": 18,
    "start_time": "2022-02-13T22:58:43.258Z"
   },
   {
    "duration": 289,
    "start_time": "2022-02-13T23:02:09.562Z"
   },
   {
    "duration": 104,
    "start_time": "2022-02-13T23:02:25.906Z"
   },
   {
    "duration": 14,
    "start_time": "2022-02-13T23:03:07.953Z"
   },
   {
    "duration": 16,
    "start_time": "2022-02-13T23:03:11.832Z"
   },
   {
    "duration": 293,
    "start_time": "2022-02-13T23:03:33.200Z"
   },
   {
    "duration": 21,
    "start_time": "2022-02-13T23:03:56.959Z"
   },
   {
    "duration": 20,
    "start_time": "2022-02-13T23:04:46.008Z"
   },
   {
    "duration": 19,
    "start_time": "2022-02-13T23:05:12.687Z"
   },
   {
    "duration": 20,
    "start_time": "2022-02-13T23:08:32.068Z"
   },
   {
    "duration": 331,
    "start_time": "2022-02-13T23:09:36.389Z"
   },
   {
    "duration": 322,
    "start_time": "2022-02-13T23:09:40.528Z"
   },
   {
    "duration": 277,
    "start_time": "2022-02-13T23:09:49.223Z"
   },
   {
    "duration": 15,
    "start_time": "2022-02-13T23:09:52.187Z"
   },
   {
    "duration": 303,
    "start_time": "2022-02-13T23:10:13.102Z"
   },
   {
    "duration": 300,
    "start_time": "2022-02-13T23:10:20.984Z"
   },
   {
    "duration": 16,
    "start_time": "2022-02-13T23:10:32.447Z"
   },
   {
    "duration": 16,
    "start_time": "2022-02-13T23:10:45.357Z"
   },
   {
    "duration": 17,
    "start_time": "2022-02-13T23:11:01.141Z"
   },
   {
    "duration": 19,
    "start_time": "2022-02-13T23:11:07.516Z"
   },
   {
    "duration": 89,
    "start_time": "2022-02-13T23:11:10.596Z"
   },
   {
    "duration": 163,
    "start_time": "2022-02-13T23:11:16.801Z"
   },
   {
    "duration": 20,
    "start_time": "2022-02-13T23:11:20.114Z"
   },
   {
    "duration": 16,
    "start_time": "2022-02-13T23:12:10.739Z"
   },
   {
    "duration": 20,
    "start_time": "2022-02-13T23:12:24.668Z"
   },
   {
    "duration": 15,
    "start_time": "2022-02-13T23:12:31.756Z"
   },
   {
    "duration": 10,
    "start_time": "2022-02-13T23:15:54.754Z"
   },
   {
    "duration": 10,
    "start_time": "2022-02-13T23:15:59.679Z"
   },
   {
    "duration": 8,
    "start_time": "2022-02-13T23:16:20.992Z"
   },
   {
    "duration": -1974,
    "start_time": "2022-02-13T23:16:48.378Z"
   },
   {
    "duration": 20,
    "start_time": "2022-02-13T23:17:40.712Z"
   },
   {
    "duration": 15,
    "start_time": "2022-02-13T23:18:12.792Z"
   },
   {
    "duration": 13,
    "start_time": "2022-02-13T23:19:27.367Z"
   },
   {
    "duration": 10,
    "start_time": "2022-02-13T23:19:58.111Z"
   },
   {
    "duration": 15,
    "start_time": "2022-02-13T23:20:04.742Z"
   },
   {
    "duration": 10,
    "start_time": "2022-02-13T23:20:12.877Z"
   },
   {
    "duration": 13,
    "start_time": "2022-02-13T23:20:16.166Z"
   },
   {
    "duration": 1051,
    "start_time": "2022-02-14T11:31:53.018Z"
   },
   {
    "duration": 7,
    "start_time": "2022-02-14T11:31:54.071Z"
   },
   {
    "duration": 57,
    "start_time": "2022-02-14T11:31:54.080Z"
   },
   {
    "duration": 22,
    "start_time": "2022-02-14T11:31:54.140Z"
   },
   {
    "duration": 61,
    "start_time": "2022-02-14T11:31:54.165Z"
   },
   {
    "duration": 9,
    "start_time": "2022-02-14T11:31:54.228Z"
   },
   {
    "duration": 22,
    "start_time": "2022-02-14T11:31:56.251Z"
   },
   {
    "duration": 1036,
    "start_time": "2022-02-14T11:37:40.528Z"
   },
   {
    "duration": 7,
    "start_time": "2022-02-14T11:37:41.573Z"
   },
   {
    "duration": 59,
    "start_time": "2022-02-14T11:37:41.583Z"
   },
   {
    "duration": 26,
    "start_time": "2022-02-14T11:37:41.644Z"
   },
   {
    "duration": 72,
    "start_time": "2022-02-14T11:37:41.673Z"
   },
   {
    "duration": 10,
    "start_time": "2022-02-14T11:37:41.748Z"
   },
   {
    "duration": 20,
    "start_time": "2022-02-14T11:37:41.763Z"
   },
   {
    "duration": 241,
    "start_time": "2022-02-14T11:37:41.786Z"
   },
   {
    "duration": 32,
    "start_time": "2022-02-14T11:37:42.030Z"
   },
   {
    "duration": 60,
    "start_time": "2022-02-14T11:37:42.065Z"
   },
   {
    "duration": 464,
    "start_time": "2022-02-14T11:37:42.128Z"
   },
   {
    "duration": 34,
    "start_time": "2022-02-14T11:37:42.594Z"
   },
   {
    "duration": 31,
    "start_time": "2022-02-14T11:37:42.632Z"
   },
   {
    "duration": 59,
    "start_time": "2022-02-14T11:37:42.666Z"
   },
   {
    "duration": 49,
    "start_time": "2022-02-14T11:40:10.840Z"
   },
   {
    "duration": 108,
    "start_time": "2022-02-14T11:41:06.609Z"
   },
   {
    "duration": 45,
    "start_time": "2022-02-14T11:41:10.646Z"
   },
   {
    "duration": 31,
    "start_time": "2022-02-14T11:43:30.617Z"
   },
   {
    "duration": 33,
    "start_time": "2022-02-14T11:43:33.590Z"
   },
   {
    "duration": 106,
    "start_time": "2022-02-14T11:43:37.431Z"
   },
   {
    "duration": 33,
    "start_time": "2022-02-14T11:43:44.204Z"
   },
   {
    "duration": 7763,
    "start_time": "2022-02-14T11:49:07.230Z"
   },
   {
    "duration": 797,
    "start_time": "2022-02-14T11:49:57.889Z"
   },
   {
    "duration": 12769,
    "start_time": "2022-02-14T11:50:06.159Z"
   },
   {
    "duration": 456,
    "start_time": "2022-02-14T11:55:28.879Z"
   },
   {
    "duration": 342,
    "start_time": "2022-02-14T11:55:58.525Z"
   },
   {
    "duration": 332,
    "start_time": "2022-02-14T11:56:01.438Z"
   },
   {
    "duration": 340,
    "start_time": "2022-02-14T11:56:05.583Z"
   },
   {
    "duration": 586,
    "start_time": "2022-02-14T11:56:15.150Z"
   },
   {
    "duration": 502,
    "start_time": "2022-02-14T11:56:35.591Z"
   },
   {
    "duration": 792,
    "start_time": "2022-02-14T11:57:27.062Z"
   },
   {
    "duration": 329,
    "start_time": "2022-02-14T11:57:46.979Z"
   },
   {
    "duration": 797,
    "start_time": "2022-02-14T11:58:04.966Z"
   },
   {
    "duration": 334,
    "start_time": "2022-02-14T11:58:16.949Z"
   },
   {
    "duration": 699,
    "start_time": "2022-02-14T12:00:58.681Z"
   },
   {
    "duration": 379,
    "start_time": "2022-02-14T12:01:27.967Z"
   },
   {
    "duration": 2212,
    "start_time": "2022-02-14T12:02:32.198Z"
   },
   {
    "duration": 37,
    "start_time": "2022-02-14T12:07:30.537Z"
   },
   {
    "duration": 704,
    "start_time": "2022-02-14T12:08:17.213Z"
   },
   {
    "duration": 1705,
    "start_time": "2022-02-14T12:09:37.193Z"
   },
   {
    "duration": 132,
    "start_time": "2022-02-14T12:10:11.887Z"
   },
   {
    "duration": 1697,
    "start_time": "2022-02-14T12:10:14.857Z"
   },
   {
    "duration": 34,
    "start_time": "2022-02-14T12:33:27.736Z"
   },
   {
    "duration": 7560,
    "start_time": "2022-02-14T12:34:10.135Z"
   },
   {
    "duration": 8672,
    "start_time": "2022-02-14T12:34:54.217Z"
   },
   {
    "duration": 363,
    "start_time": "2022-02-14T13:11:13.288Z"
   },
   {
    "duration": 48,
    "start_time": "2022-02-14T13:11:16.668Z"
   },
   {
    "duration": 348,
    "start_time": "2022-02-14T13:11:27.001Z"
   },
   {
    "duration": 61,
    "start_time": "2022-02-14T13:11:32.634Z"
   },
   {
    "duration": 178,
    "start_time": "2022-02-14T13:11:45.254Z"
   },
   {
    "duration": 32,
    "start_time": "2022-02-14T13:12:07.323Z"
   },
   {
    "duration": 59,
    "start_time": "2022-02-14T13:12:12.461Z"
   },
   {
    "duration": 180,
    "start_time": "2022-02-14T13:12:52.886Z"
   },
   {
    "duration": 7,
    "start_time": "2022-02-14T13:12:53.069Z"
   },
   {
    "duration": 49,
    "start_time": "2022-02-14T13:12:53.080Z"
   },
   {
    "duration": 29,
    "start_time": "2022-02-14T13:12:53.132Z"
   },
   {
    "duration": 86,
    "start_time": "2022-02-14T13:12:53.164Z"
   },
   {
    "duration": 46,
    "start_time": "2022-02-14T13:13:04.083Z"
   },
   {
    "duration": 1334,
    "start_time": "2022-02-14T13:13:15.934Z"
   },
   {
    "duration": 7,
    "start_time": "2022-02-14T13:13:17.271Z"
   },
   {
    "duration": 59,
    "start_time": "2022-02-14T13:13:17.281Z"
   },
   {
    "duration": 25,
    "start_time": "2022-02-14T13:13:17.344Z"
   },
   {
    "duration": 103,
    "start_time": "2022-02-14T13:13:17.372Z"
   },
   {
    "duration": 62,
    "start_time": "2022-02-14T13:13:17.478Z"
   },
   {
    "duration": 20,
    "start_time": "2022-02-14T13:13:17.543Z"
   },
   {
    "duration": 11,
    "start_time": "2022-02-14T13:13:17.568Z"
   },
   {
    "duration": 196,
    "start_time": "2022-02-14T13:13:17.583Z"
   },
   {
    "duration": 43,
    "start_time": "2022-02-14T13:13:17.782Z"
   },
   {
    "duration": 41,
    "start_time": "2022-02-14T13:13:17.828Z"
   },
   {
    "duration": 485,
    "start_time": "2022-02-14T13:13:17.872Z"
   },
   {
    "duration": 28,
    "start_time": "2022-02-14T13:13:18.360Z"
   },
   {
    "duration": 2102,
    "start_time": "2022-02-14T13:13:18.392Z"
   },
   {
    "duration": 11271,
    "start_time": "2022-02-14T13:13:20.497Z"
   },
   {
    "duration": 31,
    "start_time": "2022-02-14T13:13:32.083Z"
   },
   {
    "duration": 25,
    "start_time": "2022-02-14T13:13:37.555Z"
   },
   {
    "duration": 22,
    "start_time": "2022-02-14T13:25:08.777Z"
   },
   {
    "duration": 8,
    "start_time": "2022-02-14T13:25:58.591Z"
   },
   {
    "duration": 10,
    "start_time": "2022-02-14T13:26:04.675Z"
   },
   {
    "duration": 11,
    "start_time": "2022-02-14T13:26:37.792Z"
   },
   {
    "duration": 15,
    "start_time": "2022-02-14T13:26:49.768Z"
   },
   {
    "duration": 9,
    "start_time": "2022-02-14T13:28:40.706Z"
   },
   {
    "duration": 9,
    "start_time": "2022-02-14T13:28:45.526Z"
   },
   {
    "duration": 10,
    "start_time": "2022-02-14T13:29:09.411Z"
   },
   {
    "duration": 9,
    "start_time": "2022-02-14T13:29:15.262Z"
   },
   {
    "duration": 28,
    "start_time": "2022-02-14T13:29:28.289Z"
   },
   {
    "duration": 23,
    "start_time": "2022-02-14T13:31:04.710Z"
   },
   {
    "duration": 118,
    "start_time": "2022-02-14T13:31:41.096Z"
   },
   {
    "duration": 37,
    "start_time": "2022-02-14T13:31:46.872Z"
   },
   {
    "duration": 10,
    "start_time": "2022-02-14T13:31:59.248Z"
   },
   {
    "duration": 1050,
    "start_time": "2022-02-14T13:32:07.358Z"
   },
   {
    "duration": 8,
    "start_time": "2022-02-14T13:32:08.423Z"
   },
   {
    "duration": 47,
    "start_time": "2022-02-14T13:32:08.434Z"
   },
   {
    "duration": 46,
    "start_time": "2022-02-14T13:32:08.484Z"
   },
   {
    "duration": 101,
    "start_time": "2022-02-14T13:32:08.534Z"
   },
   {
    "duration": 32,
    "start_time": "2022-02-14T13:32:08.638Z"
   },
   {
    "duration": 16,
    "start_time": "2022-02-14T13:32:08.673Z"
   },
   {
    "duration": 39,
    "start_time": "2022-02-14T13:32:08.694Z"
   },
   {
    "duration": 28,
    "start_time": "2022-02-14T13:32:08.736Z"
   },
   {
    "duration": 168,
    "start_time": "2022-02-14T13:32:08.767Z"
   },
   {
    "duration": 24,
    "start_time": "2022-02-14T13:32:08.938Z"
   },
   {
    "duration": 58,
    "start_time": "2022-02-14T13:32:08.965Z"
   },
   {
    "duration": 470,
    "start_time": "2022-02-14T13:32:09.025Z"
   },
   {
    "duration": 35,
    "start_time": "2022-02-14T13:32:09.498Z"
   },
   {
    "duration": 2261,
    "start_time": "2022-02-14T13:32:09.537Z"
   },
   {
    "duration": 10379,
    "start_time": "2022-02-14T13:32:11.801Z"
   },
   {
    "duration": 42,
    "start_time": "2022-02-14T13:38:25.600Z"
   },
   {
    "duration": 9656,
    "start_time": "2022-02-14T13:44:15.994Z"
   },
   {
    "duration": 9616,
    "start_time": "2022-02-14T13:48:54.356Z"
   },
   {
    "duration": 8627,
    "start_time": "2022-02-14T13:50:30.585Z"
   },
   {
    "duration": 9829,
    "start_time": "2022-02-14T13:51:27.975Z"
   },
   {
    "duration": 9656,
    "start_time": "2022-02-14T13:51:44.191Z"
   },
   {
    "duration": 9493,
    "start_time": "2022-02-14T13:52:18.899Z"
   },
   {
    "duration": 19,
    "start_time": "2022-02-14T13:52:40.283Z"
   },
   {
    "duration": 23,
    "start_time": "2022-02-14T13:53:10.384Z"
   },
   {
    "duration": 20,
    "start_time": "2022-02-14T13:53:18.500Z"
   },
   {
    "duration": 22,
    "start_time": "2022-02-14T13:53:34.193Z"
   },
   {
    "duration": 331,
    "start_time": "2022-02-14T13:53:36.141Z"
   },
   {
    "duration": 1126,
    "start_time": "2022-02-14T13:53:42.899Z"
   },
   {
    "duration": 8,
    "start_time": "2022-02-14T13:53:44.030Z"
   },
   {
    "duration": 23,
    "start_time": "2022-02-14T13:53:44.042Z"
   },
   {
    "duration": 61,
    "start_time": "2022-02-14T13:53:44.068Z"
   },
   {
    "duration": 42,
    "start_time": "2022-02-14T13:53:44.132Z"
   },
   {
    "duration": 50,
    "start_time": "2022-02-14T13:53:44.177Z"
   },
   {
    "duration": 12,
    "start_time": "2022-02-14T13:53:44.230Z"
   },
   {
    "duration": 10,
    "start_time": "2022-02-14T13:53:44.244Z"
   },
   {
    "duration": 11,
    "start_time": "2022-02-14T13:53:44.259Z"
   },
   {
    "duration": 179,
    "start_time": "2022-02-14T13:53:44.274Z"
   },
   {
    "duration": 24,
    "start_time": "2022-02-14T13:53:44.456Z"
   },
   {
    "duration": 64,
    "start_time": "2022-02-14T13:53:44.483Z"
   },
   {
    "duration": 626,
    "start_time": "2022-02-14T13:53:44.550Z"
   },
   {
    "duration": 28,
    "start_time": "2022-02-14T13:53:45.179Z"
   },
   {
    "duration": 1674,
    "start_time": "2022-02-14T13:53:45.224Z"
   },
   {
    "duration": 420,
    "start_time": "2022-02-14T13:53:46.901Z"
   },
   {
    "duration": 43,
    "start_time": "2022-02-14T13:54:01.684Z"
   },
   {
    "duration": 42,
    "start_time": "2022-02-14T13:54:12.333Z"
   },
   {
    "duration": 40,
    "start_time": "2022-02-14T13:54:21.366Z"
   },
   {
    "duration": 40,
    "start_time": "2022-02-14T13:54:28.854Z"
   },
   {
    "duration": 47,
    "start_time": "2022-02-14T13:54:35.579Z"
   },
   {
    "duration": 670,
    "start_time": "2022-02-14T21:39:41.895Z"
   },
   {
    "duration": 5,
    "start_time": "2022-02-14T21:39:42.566Z"
   },
   {
    "duration": 17,
    "start_time": "2022-02-14T21:39:42.572Z"
   },
   {
    "duration": 39,
    "start_time": "2022-02-14T21:39:42.591Z"
   },
   {
    "duration": 24,
    "start_time": "2022-02-14T21:39:42.632Z"
   },
   {
    "duration": 13,
    "start_time": "2022-02-14T21:39:42.658Z"
   },
   {
    "duration": 6,
    "start_time": "2022-02-14T21:39:42.672Z"
   },
   {
    "duration": 9,
    "start_time": "2022-02-14T21:39:42.681Z"
   },
   {
    "duration": 8,
    "start_time": "2022-02-14T21:39:42.691Z"
   },
   {
    "duration": 83,
    "start_time": "2022-02-14T21:39:42.730Z"
   },
   {
    "duration": 23,
    "start_time": "2022-02-14T21:39:42.815Z"
   },
   {
    "duration": 20,
    "start_time": "2022-02-14T21:39:42.839Z"
   },
   {
    "duration": 270,
    "start_time": "2022-02-14T21:39:42.861Z"
   },
   {
    "duration": 14,
    "start_time": "2022-02-14T21:39:43.133Z"
   },
   {
    "duration": 940,
    "start_time": "2022-02-14T21:39:43.148Z"
   },
   {
    "duration": 27,
    "start_time": "2022-02-14T21:39:44.090Z"
   },
   {
    "duration": 19,
    "start_time": "2022-02-14T21:41:34.217Z"
   },
   {
    "duration": 886,
    "start_time": "2022-02-14T21:43:52.982Z"
   },
   {
    "duration": 22,
    "start_time": "2022-02-14T21:47:27.972Z"
   },
   {
    "duration": 663,
    "start_time": "2022-02-14T21:47:54.695Z"
   },
   {
    "duration": 5,
    "start_time": "2022-02-14T21:47:55.359Z"
   },
   {
    "duration": 16,
    "start_time": "2022-02-14T21:47:55.366Z"
   },
   {
    "duration": 15,
    "start_time": "2022-02-14T21:47:55.384Z"
   },
   {
    "duration": 48,
    "start_time": "2022-02-14T21:47:55.401Z"
   },
   {
    "duration": 13,
    "start_time": "2022-02-14T21:47:55.450Z"
   },
   {
    "duration": 7,
    "start_time": "2022-02-14T21:47:55.465Z"
   },
   {
    "duration": 6,
    "start_time": "2022-02-14T21:47:55.474Z"
   },
   {
    "duration": 7,
    "start_time": "2022-02-14T21:47:55.482Z"
   },
   {
    "duration": 121,
    "start_time": "2022-02-14T21:47:55.491Z"
   },
   {
    "duration": 24,
    "start_time": "2022-02-14T21:47:55.614Z"
   },
   {
    "duration": 20,
    "start_time": "2022-02-14T21:47:55.640Z"
   },
   {
    "duration": 270,
    "start_time": "2022-02-14T21:47:55.661Z"
   },
   {
    "duration": 14,
    "start_time": "2022-02-14T21:47:55.933Z"
   },
   {
    "duration": 981,
    "start_time": "2022-02-14T21:47:55.949Z"
   },
   {
    "duration": 22,
    "start_time": "2022-02-14T21:47:56.932Z"
   },
   {
    "duration": 23,
    "start_time": "2022-02-14T21:56:03.882Z"
   },
   {
    "duration": 23,
    "start_time": "2022-02-14T21:56:10.321Z"
   },
   {
    "duration": 250,
    "start_time": "2022-02-14T21:58:48.940Z"
   },
   {
    "duration": 23,
    "start_time": "2022-02-14T21:59:11.227Z"
   },
   {
    "duration": 33,
    "start_time": "2022-02-14T22:00:09.928Z"
   },
   {
    "duration": 22,
    "start_time": "2022-02-14T22:00:37.813Z"
   },
   {
    "duration": 23,
    "start_time": "2022-02-14T22:00:45.038Z"
   },
   {
    "duration": 24,
    "start_time": "2022-02-14T22:01:09.596Z"
   },
   {
    "duration": 25,
    "start_time": "2022-02-14T22:01:48.830Z"
   },
   {
    "duration": 17,
    "start_time": "2022-02-14T22:02:24.279Z"
   },
   {
    "duration": 5,
    "start_time": "2022-02-14T22:03:56.440Z"
   },
   {
    "duration": 689,
    "start_time": "2022-02-14T22:04:04.944Z"
   },
   {
    "duration": 4,
    "start_time": "2022-02-14T22:04:05.635Z"
   },
   {
    "duration": 17,
    "start_time": "2022-02-14T22:04:05.641Z"
   },
   {
    "duration": 15,
    "start_time": "2022-02-14T22:04:05.659Z"
   },
   {
    "duration": 24,
    "start_time": "2022-02-14T22:04:05.675Z"
   },
   {
    "duration": 42,
    "start_time": "2022-02-14T22:04:05.700Z"
   },
   {
    "duration": 8,
    "start_time": "2022-02-14T22:04:05.744Z"
   },
   {
    "duration": 6,
    "start_time": "2022-02-14T22:04:05.754Z"
   },
   {
    "duration": 7,
    "start_time": "2022-02-14T22:04:05.762Z"
   },
   {
    "duration": 113,
    "start_time": "2022-02-14T22:04:05.771Z"
   },
   {
    "duration": 17,
    "start_time": "2022-02-14T22:04:05.886Z"
   },
   {
    "duration": 37,
    "start_time": "2022-02-14T22:04:05.904Z"
   },
   {
    "duration": 274,
    "start_time": "2022-02-14T22:04:05.942Z"
   },
   {
    "duration": 23,
    "start_time": "2022-02-14T22:04:06.217Z"
   },
   {
    "duration": 980,
    "start_time": "2022-02-14T22:04:06.241Z"
   },
   {
    "duration": 21,
    "start_time": "2022-02-14T22:04:07.223Z"
   },
   {
    "duration": 9,
    "start_time": "2022-02-14T22:04:07.246Z"
   },
   {
    "duration": 8,
    "start_time": "2022-02-14T22:04:07.257Z"
   },
   {
    "duration": 921,
    "start_time": "2022-02-14T22:05:56.856Z"
   },
   {
    "duration": 5,
    "start_time": "2022-02-14T22:05:57.780Z"
   },
   {
    "duration": 24,
    "start_time": "2022-02-14T22:05:57.787Z"
   },
   {
    "duration": 25,
    "start_time": "2022-02-14T22:05:57.831Z"
   },
   {
    "duration": 38,
    "start_time": "2022-02-14T22:05:57.858Z"
   },
   {
    "duration": 44,
    "start_time": "2022-02-14T22:05:57.898Z"
   },
   {
    "duration": 10,
    "start_time": "2022-02-14T22:05:57.944Z"
   },
   {
    "duration": 9,
    "start_time": "2022-02-14T22:05:57.957Z"
   },
   {
    "duration": 9,
    "start_time": "2022-02-14T22:05:57.969Z"
   },
   {
    "duration": 152,
    "start_time": "2022-02-14T22:05:57.980Z"
   },
   {
    "duration": 24,
    "start_time": "2022-02-14T22:05:58.134Z"
   },
   {
    "duration": 32,
    "start_time": "2022-02-14T22:05:58.160Z"
   },
   {
    "duration": 413,
    "start_time": "2022-02-14T22:05:58.194Z"
   },
   {
    "duration": 30,
    "start_time": "2022-02-14T22:05:58.610Z"
   },
   {
    "duration": 1519,
    "start_time": "2022-02-14T22:05:58.642Z"
   },
   {
    "duration": 23,
    "start_time": "2022-02-14T22:06:00.163Z"
   },
   {
    "duration": 13,
    "start_time": "2022-02-14T22:06:00.189Z"
   },
   {
    "duration": 27,
    "start_time": "2022-02-14T22:06:00.204Z"
   },
   {
    "duration": 11,
    "start_time": "2022-02-14T22:09:50.751Z"
   },
   {
    "duration": 9,
    "start_time": "2022-02-14T22:09:56.434Z"
   },
   {
    "duration": 9,
    "start_time": "2022-02-14T22:10:02.271Z"
   },
   {
    "duration": 700,
    "start_time": "2022-02-14T22:10:09.629Z"
   },
   {
    "duration": 4,
    "start_time": "2022-02-14T22:10:10.331Z"
   },
   {
    "duration": 19,
    "start_time": "2022-02-14T22:10:10.336Z"
   },
   {
    "duration": 15,
    "start_time": "2022-02-14T22:10:10.356Z"
   },
   {
    "duration": 23,
    "start_time": "2022-02-14T22:10:10.373Z"
   },
   {
    "duration": 42,
    "start_time": "2022-02-14T22:10:10.398Z"
   },
   {
    "duration": 6,
    "start_time": "2022-02-14T22:10:10.441Z"
   },
   {
    "duration": 7,
    "start_time": "2022-02-14T22:10:10.450Z"
   },
   {
    "duration": 8,
    "start_time": "2022-02-14T22:10:10.458Z"
   },
   {
    "duration": 113,
    "start_time": "2022-02-14T22:10:10.467Z"
   },
   {
    "duration": 15,
    "start_time": "2022-02-14T22:10:10.582Z"
   },
   {
    "duration": 33,
    "start_time": "2022-02-14T22:10:10.598Z"
   },
   {
    "duration": 267,
    "start_time": "2022-02-14T22:10:10.633Z"
   },
   {
    "duration": 14,
    "start_time": "2022-02-14T22:10:10.902Z"
   },
   {
    "duration": 958,
    "start_time": "2022-02-14T22:10:10.918Z"
   },
   {
    "duration": 16,
    "start_time": "2022-02-14T22:10:11.878Z"
   },
   {
    "duration": 9,
    "start_time": "2022-02-14T22:10:11.896Z"
   },
   {
    "duration": 24,
    "start_time": "2022-02-14T22:10:11.907Z"
   },
   {
    "duration": 10,
    "start_time": "2022-02-14T22:10:11.932Z"
   },
   {
    "duration": 9,
    "start_time": "2022-02-14T22:10:30.198Z"
   },
   {
    "duration": 10,
    "start_time": "2022-02-14T22:11:08.415Z"
   },
   {
    "duration": 5,
    "start_time": "2022-02-14T22:11:19.869Z"
   },
   {
    "duration": 9,
    "start_time": "2022-02-14T22:11:22.335Z"
   },
   {
    "duration": 718,
    "start_time": "2022-02-14T22:11:30.731Z"
   },
   {
    "duration": 6,
    "start_time": "2022-02-14T22:11:31.451Z"
   },
   {
    "duration": 16,
    "start_time": "2022-02-14T22:11:31.461Z"
   },
   {
    "duration": 15,
    "start_time": "2022-02-14T22:11:31.478Z"
   },
   {
    "duration": 55,
    "start_time": "2022-02-14T22:11:31.495Z"
   },
   {
    "duration": 13,
    "start_time": "2022-02-14T22:11:31.551Z"
   },
   {
    "duration": 7,
    "start_time": "2022-02-14T22:11:31.567Z"
   },
   {
    "duration": 7,
    "start_time": "2022-02-14T22:11:31.576Z"
   },
   {
    "duration": 9,
    "start_time": "2022-02-14T22:11:31.584Z"
   },
   {
    "duration": 115,
    "start_time": "2022-02-14T22:11:31.595Z"
   },
   {
    "duration": 26,
    "start_time": "2022-02-14T22:11:31.712Z"
   },
   {
    "duration": 25,
    "start_time": "2022-02-14T22:11:31.740Z"
   },
   {
    "duration": 278,
    "start_time": "2022-02-14T22:11:31.767Z"
   },
   {
    "duration": 16,
    "start_time": "2022-02-14T22:11:32.047Z"
   },
   {
    "duration": 982,
    "start_time": "2022-02-14T22:11:32.065Z"
   },
   {
    "duration": 17,
    "start_time": "2022-02-14T22:11:33.048Z"
   },
   {
    "duration": 10,
    "start_time": "2022-02-14T22:11:33.066Z"
   },
   {
    "duration": 6,
    "start_time": "2022-02-14T22:11:33.077Z"
   },
   {
    "duration": 9,
    "start_time": "2022-02-14T22:11:33.085Z"
   },
   {
    "duration": 9,
    "start_time": "2022-02-14T22:11:58.873Z"
   },
   {
    "duration": 8,
    "start_time": "2022-02-14T22:12:58.687Z"
   },
   {
    "duration": 10,
    "start_time": "2022-02-14T22:16:56.388Z"
   },
   {
    "duration": 9,
    "start_time": "2022-02-14T22:17:06.933Z"
   },
   {
    "duration": 4,
    "start_time": "2022-02-14T22:20:20.420Z"
   },
   {
    "duration": 5,
    "start_time": "2022-02-14T22:20:30.364Z"
   },
   {
    "duration": 5,
    "start_time": "2022-02-14T22:21:06.697Z"
   },
   {
    "duration": 17,
    "start_time": "2022-02-14T22:21:54.786Z"
   },
   {
    "duration": 10,
    "start_time": "2022-02-14T22:21:55.655Z"
   },
   {
    "duration": 5,
    "start_time": "2022-02-14T22:22:03.984Z"
   },
   {
    "duration": 22,
    "start_time": "2022-02-14T22:22:32.897Z"
   },
   {
    "duration": 19,
    "start_time": "2022-02-14T22:23:16.008Z"
   },
   {
    "duration": 10,
    "start_time": "2022-02-14T22:23:18.546Z"
   },
   {
    "duration": 5,
    "start_time": "2022-02-14T22:23:27.264Z"
   },
   {
    "duration": 9,
    "start_time": "2022-02-14T22:24:05.064Z"
   },
   {
    "duration": 22,
    "start_time": "2022-02-14T22:25:30.463Z"
   },
   {
    "duration": 22,
    "start_time": "2022-02-14T22:25:58.480Z"
   },
   {
    "duration": 12,
    "start_time": "2022-02-14T22:29:19.237Z"
   },
   {
    "duration": 206,
    "start_time": "2022-02-14T22:30:06.183Z"
   },
   {
    "duration": 7,
    "start_time": "2022-02-14T22:30:53.602Z"
   },
   {
    "duration": 10,
    "start_time": "2022-02-14T22:31:13.541Z"
   },
   {
    "duration": 696,
    "start_time": "2022-02-14T22:31:24.156Z"
   },
   {
    "duration": 5,
    "start_time": "2022-02-14T22:31:24.854Z"
   },
   {
    "duration": 16,
    "start_time": "2022-02-14T22:31:24.861Z"
   },
   {
    "duration": 15,
    "start_time": "2022-02-14T22:31:24.879Z"
   },
   {
    "duration": 56,
    "start_time": "2022-02-14T22:31:24.896Z"
   },
   {
    "duration": 14,
    "start_time": "2022-02-14T22:31:24.954Z"
   },
   {
    "duration": 8,
    "start_time": "2022-02-14T22:31:24.970Z"
   },
   {
    "duration": 7,
    "start_time": "2022-02-14T22:31:24.981Z"
   },
   {
    "duration": 47,
    "start_time": "2022-02-14T22:31:24.990Z"
   },
   {
    "duration": 99,
    "start_time": "2022-02-14T22:31:25.039Z"
   },
   {
    "duration": 17,
    "start_time": "2022-02-14T22:31:25.140Z"
   },
   {
    "duration": 21,
    "start_time": "2022-02-14T22:31:25.159Z"
   },
   {
    "duration": 289,
    "start_time": "2022-02-14T22:31:25.182Z"
   },
   {
    "duration": 14,
    "start_time": "2022-02-14T22:31:25.473Z"
   },
   {
    "duration": 957,
    "start_time": "2022-02-14T22:31:25.488Z"
   },
   {
    "duration": 23,
    "start_time": "2022-02-14T22:31:26.447Z"
   },
   {
    "duration": 8,
    "start_time": "2022-02-14T22:31:26.472Z"
   },
   {
    "duration": 6,
    "start_time": "2022-02-14T22:31:26.481Z"
   },
   {
    "duration": 10,
    "start_time": "2022-02-14T22:31:26.489Z"
   },
   {
    "duration": 36,
    "start_time": "2022-02-14T22:31:26.500Z"
   },
   {
    "duration": 11,
    "start_time": "2022-02-14T22:33:07.374Z"
   },
   {
    "duration": 10,
    "start_time": "2022-02-14T22:33:16.069Z"
   },
   {
    "duration": 12,
    "start_time": "2022-02-14T22:33:29.476Z"
   },
   {
    "duration": 10,
    "start_time": "2022-02-14T22:34:00.607Z"
   },
   {
    "duration": 8,
    "start_time": "2022-02-14T22:34:12.245Z"
   },
   {
    "duration": 5,
    "start_time": "2022-02-14T22:34:57.562Z"
   },
   {
    "duration": 7,
    "start_time": "2022-02-14T22:35:04.042Z"
   },
   {
    "duration": 9,
    "start_time": "2022-02-14T22:35:15.084Z"
   },
   {
    "duration": 9,
    "start_time": "2022-02-14T22:35:30.250Z"
   },
   {
    "duration": 10,
    "start_time": "2022-02-14T22:35:39.805Z"
   },
   {
    "duration": 713,
    "start_time": "2022-02-14T22:38:00.436Z"
   },
   {
    "duration": 4,
    "start_time": "2022-02-14T22:38:01.151Z"
   },
   {
    "duration": 26,
    "start_time": "2022-02-14T22:38:01.156Z"
   },
   {
    "duration": 15,
    "start_time": "2022-02-14T22:38:01.183Z"
   },
   {
    "duration": 44,
    "start_time": "2022-02-14T22:38:01.200Z"
   },
   {
    "duration": 13,
    "start_time": "2022-02-14T22:38:01.245Z"
   },
   {
    "duration": 14,
    "start_time": "2022-02-14T22:38:01.260Z"
   },
   {
    "duration": 7,
    "start_time": "2022-02-14T22:38:01.276Z"
   },
   {
    "duration": 8,
    "start_time": "2022-02-14T22:38:01.285Z"
   },
   {
    "duration": 112,
    "start_time": "2022-02-14T22:38:01.295Z"
   },
   {
    "duration": 23,
    "start_time": "2022-02-14T22:38:01.408Z"
   },
   {
    "duration": 21,
    "start_time": "2022-02-14T22:38:01.433Z"
   },
   {
    "duration": 270,
    "start_time": "2022-02-14T22:38:01.456Z"
   },
   {
    "duration": 15,
    "start_time": "2022-02-14T22:38:01.727Z"
   },
   {
    "duration": 964,
    "start_time": "2022-02-14T22:38:01.744Z"
   },
   {
    "duration": 31,
    "start_time": "2022-02-14T22:38:02.709Z"
   },
   {
    "duration": 7,
    "start_time": "2022-02-14T22:38:02.742Z"
   },
   {
    "duration": 5,
    "start_time": "2022-02-14T22:38:02.751Z"
   },
   {
    "duration": 191,
    "start_time": "2022-02-14T22:38:02.757Z"
   },
   {
    "duration": -1865,
    "start_time": "2022-02-14T22:38:04.815Z"
   },
   {
    "duration": 674,
    "start_time": "2022-02-14T22:38:11.757Z"
   },
   {
    "duration": 5,
    "start_time": "2022-02-14T22:38:12.433Z"
   },
   {
    "duration": 22,
    "start_time": "2022-02-14T22:38:12.439Z"
   },
   {
    "duration": 15,
    "start_time": "2022-02-14T22:38:12.463Z"
   },
   {
    "duration": 25,
    "start_time": "2022-02-14T22:38:12.479Z"
   },
   {
    "duration": 36,
    "start_time": "2022-02-14T22:38:12.506Z"
   },
   {
    "duration": 7,
    "start_time": "2022-02-14T22:38:12.544Z"
   },
   {
    "duration": 5,
    "start_time": "2022-02-14T22:38:12.554Z"
   },
   {
    "duration": 7,
    "start_time": "2022-02-14T22:38:12.561Z"
   },
   {
    "duration": 110,
    "start_time": "2022-02-14T22:38:12.569Z"
   },
   {
    "duration": 15,
    "start_time": "2022-02-14T22:38:12.680Z"
   },
   {
    "duration": 36,
    "start_time": "2022-02-14T22:38:12.697Z"
   },
   {
    "duration": 252,
    "start_time": "2022-02-14T22:38:12.734Z"
   },
   {
    "duration": 14,
    "start_time": "2022-02-14T22:38:12.988Z"
   },
   {
    "duration": 948,
    "start_time": "2022-02-14T22:38:13.004Z"
   },
   {
    "duration": 22,
    "start_time": "2022-02-14T22:38:13.954Z"
   },
   {
    "duration": 9,
    "start_time": "2022-02-14T22:38:13.978Z"
   },
   {
    "duration": 12,
    "start_time": "2022-02-14T22:38:13.988Z"
   },
   {
    "duration": 10,
    "start_time": "2022-02-14T22:38:14.001Z"
   },
   {
    "duration": 26,
    "start_time": "2022-02-14T22:38:14.013Z"
   },
   {
    "duration": 9,
    "start_time": "2022-02-14T22:38:26.562Z"
   },
   {
    "duration": 667,
    "start_time": "2022-02-14T22:38:31.894Z"
   },
   {
    "duration": 5,
    "start_time": "2022-02-14T22:38:32.562Z"
   },
   {
    "duration": 19,
    "start_time": "2022-02-14T22:38:32.568Z"
   },
   {
    "duration": 15,
    "start_time": "2022-02-14T22:38:32.589Z"
   },
   {
    "duration": 47,
    "start_time": "2022-02-14T22:38:32.605Z"
   },
   {
    "duration": 14,
    "start_time": "2022-02-14T22:38:32.654Z"
   },
   {
    "duration": 8,
    "start_time": "2022-02-14T22:38:32.670Z"
   },
   {
    "duration": 7,
    "start_time": "2022-02-14T22:38:32.681Z"
   },
   {
    "duration": 45,
    "start_time": "2022-02-14T22:38:32.690Z"
   },
   {
    "duration": 93,
    "start_time": "2022-02-14T22:38:32.737Z"
   },
   {
    "duration": 17,
    "start_time": "2022-02-14T22:38:32.832Z"
   },
   {
    "duration": 20,
    "start_time": "2022-02-14T22:38:32.851Z"
   },
   {
    "duration": 273,
    "start_time": "2022-02-14T22:38:32.873Z"
   },
   {
    "duration": 14,
    "start_time": "2022-02-14T22:38:33.148Z"
   },
   {
    "duration": 959,
    "start_time": "2022-02-14T22:38:33.163Z"
   },
   {
    "duration": 26,
    "start_time": "2022-02-14T22:38:34.124Z"
   },
   {
    "duration": 8,
    "start_time": "2022-02-14T22:38:34.151Z"
   },
   {
    "duration": 10,
    "start_time": "2022-02-14T22:38:34.161Z"
   },
   {
    "duration": 8,
    "start_time": "2022-02-14T22:38:34.172Z"
   },
   {
    "duration": 11,
    "start_time": "2022-02-14T22:38:34.182Z"
   },
   {
    "duration": 189,
    "start_time": "2022-02-14T22:39:41.760Z"
   },
   {
    "duration": 9,
    "start_time": "2022-02-14T22:39:46.458Z"
   },
   {
    "duration": 11,
    "start_time": "2022-02-14T22:41:04.856Z"
   },
   {
    "duration": 11,
    "start_time": "2022-02-14T22:41:16.559Z"
   },
   {
    "duration": 10,
    "start_time": "2022-02-14T22:47:05.115Z"
   },
   {
    "duration": 5,
    "start_time": "2022-02-14T22:47:16.658Z"
   },
   {
    "duration": 9,
    "start_time": "2022-02-14T22:47:33.870Z"
   },
   {
    "duration": 10,
    "start_time": "2022-02-14T22:48:17.100Z"
   },
   {
    "duration": 12,
    "start_time": "2022-02-14T22:48:28.723Z"
   },
   {
    "duration": 5,
    "start_time": "2022-02-14T22:51:59.113Z"
   },
   {
    "duration": 10,
    "start_time": "2022-02-14T22:52:03.593Z"
   },
   {
    "duration": 6,
    "start_time": "2022-02-14T22:52:06.046Z"
   },
   {
    "duration": 17,
    "start_time": "2022-02-14T22:55:03.983Z"
   },
   {
    "duration": 9,
    "start_time": "2022-02-14T22:59:47.246Z"
   },
   {
    "duration": 10,
    "start_time": "2022-02-14T22:59:59.756Z"
   },
   {
    "duration": 10,
    "start_time": "2022-02-14T23:00:17.427Z"
   },
   {
    "duration": 695,
    "start_time": "2022-02-14T23:00:23.462Z"
   },
   {
    "duration": 4,
    "start_time": "2022-02-14T23:00:24.158Z"
   },
   {
    "duration": 17,
    "start_time": "2022-02-14T23:00:24.164Z"
   },
   {
    "duration": 15,
    "start_time": "2022-02-14T23:00:24.183Z"
   },
   {
    "duration": 50,
    "start_time": "2022-02-14T23:00:24.199Z"
   },
   {
    "duration": 14,
    "start_time": "2022-02-14T23:00:24.250Z"
   },
   {
    "duration": 7,
    "start_time": "2022-02-14T23:00:24.265Z"
   },
   {
    "duration": 6,
    "start_time": "2022-02-14T23:00:24.274Z"
   },
   {
    "duration": 7,
    "start_time": "2022-02-14T23:00:24.282Z"
   },
   {
    "duration": 118,
    "start_time": "2022-02-14T23:00:24.291Z"
   },
   {
    "duration": 23,
    "start_time": "2022-02-14T23:00:24.410Z"
   },
   {
    "duration": 20,
    "start_time": "2022-02-14T23:00:24.435Z"
   },
   {
    "duration": 265,
    "start_time": "2022-02-14T23:00:24.456Z"
   },
   {
    "duration": 18,
    "start_time": "2022-02-14T23:00:24.723Z"
   },
   {
    "duration": 944,
    "start_time": "2022-02-14T23:00:24.743Z"
   },
   {
    "duration": 17,
    "start_time": "2022-02-14T23:00:25.689Z"
   },
   {
    "duration": 27,
    "start_time": "2022-02-14T23:00:25.707Z"
   },
   {
    "duration": 7,
    "start_time": "2022-02-14T23:00:25.736Z"
   },
   {
    "duration": 10,
    "start_time": "2022-02-14T23:00:25.745Z"
   },
   {
    "duration": 11,
    "start_time": "2022-02-14T23:00:25.757Z"
   },
   {
    "duration": 16,
    "start_time": "2022-02-14T23:00:25.770Z"
   },
   {
    "duration": 9,
    "start_time": "2022-02-14T23:00:47.024Z"
   },
   {
    "duration": 9,
    "start_time": "2022-02-14T23:04:25.828Z"
   },
   {
    "duration": 8,
    "start_time": "2022-02-14T23:04:55.757Z"
   },
   {
    "duration": 9,
    "start_time": "2022-02-14T23:06:00.157Z"
   },
   {
    "duration": 5,
    "start_time": "2022-02-14T23:06:10.620Z"
   },
   {
    "duration": 9,
    "start_time": "2022-02-14T23:07:27.394Z"
   },
   {
    "duration": 5,
    "start_time": "2022-02-14T23:07:45.369Z"
   },
   {
    "duration": 8,
    "start_time": "2022-02-14T23:07:48.485Z"
   },
   {
    "duration": 9,
    "start_time": "2022-02-14T23:07:51.513Z"
   },
   {
    "duration": 716,
    "start_time": "2022-02-14T23:08:01.250Z"
   },
   {
    "duration": 4,
    "start_time": "2022-02-14T23:08:01.968Z"
   },
   {
    "duration": 21,
    "start_time": "2022-02-14T23:08:01.974Z"
   },
   {
    "duration": 15,
    "start_time": "2022-02-14T23:08:01.996Z"
   },
   {
    "duration": 25,
    "start_time": "2022-02-14T23:08:02.030Z"
   },
   {
    "duration": 13,
    "start_time": "2022-02-14T23:08:02.057Z"
   },
   {
    "duration": 9,
    "start_time": "2022-02-14T23:08:02.071Z"
   },
   {
    "duration": 7,
    "start_time": "2022-02-14T23:08:02.082Z"
   },
   {
    "duration": 8,
    "start_time": "2022-02-14T23:08:02.090Z"
   },
   {
    "duration": 85,
    "start_time": "2022-02-14T23:08:02.131Z"
   },
   {
    "duration": 24,
    "start_time": "2022-02-14T23:08:02.218Z"
   },
   {
    "duration": 19,
    "start_time": "2022-02-14T23:08:02.243Z"
   },
   {
    "duration": 279,
    "start_time": "2022-02-14T23:08:02.264Z"
   },
   {
    "duration": 15,
    "start_time": "2022-02-14T23:08:02.546Z"
   },
   {
    "duration": 947,
    "start_time": "2022-02-14T23:08:02.563Z"
   },
   {
    "duration": 26,
    "start_time": "2022-02-14T23:08:03.513Z"
   },
   {
    "duration": 11,
    "start_time": "2022-02-14T23:08:03.541Z"
   },
   {
    "duration": 6,
    "start_time": "2022-02-14T23:08:03.553Z"
   },
   {
    "duration": 9,
    "start_time": "2022-02-14T23:08:03.560Z"
   },
   {
    "duration": 10,
    "start_time": "2022-02-14T23:08:03.571Z"
   },
   {
    "duration": 218,
    "start_time": "2022-02-14T23:18:08.127Z"
   },
   {
    "duration": 168,
    "start_time": "2022-02-14T23:19:06.201Z"
   },
   {
    "duration": 182,
    "start_time": "2022-02-14T23:19:11.695Z"
   },
   {
    "duration": 2,
    "start_time": "2022-02-14T23:21:54.263Z"
   },
   {
    "duration": 20,
    "start_time": "2022-02-14T23:24:32.717Z"
   },
   {
    "duration": 751,
    "start_time": "2022-02-14T23:24:52.665Z"
   },
   {
    "duration": 677,
    "start_time": "2022-02-14T23:25:10.283Z"
   },
   {
    "duration": 644,
    "start_time": "2022-02-14T23:25:23.995Z"
   },
   {
    "duration": 4,
    "start_time": "2022-02-14T23:25:24.640Z"
   },
   {
    "duration": 16,
    "start_time": "2022-02-14T23:25:24.646Z"
   },
   {
    "duration": 14,
    "start_time": "2022-02-14T23:25:24.664Z"
   },
   {
    "duration": 52,
    "start_time": "2022-02-14T23:25:24.680Z"
   },
   {
    "duration": 13,
    "start_time": "2022-02-14T23:25:24.734Z"
   },
   {
    "duration": 12,
    "start_time": "2022-02-14T23:25:24.748Z"
   },
   {
    "duration": 7,
    "start_time": "2022-02-14T23:25:24.762Z"
   },
   {
    "duration": 7,
    "start_time": "2022-02-14T23:25:24.770Z"
   },
   {
    "duration": 104,
    "start_time": "2022-02-14T23:25:24.778Z"
   },
   {
    "duration": 15,
    "start_time": "2022-02-14T23:25:24.884Z"
   },
   {
    "duration": 36,
    "start_time": "2022-02-14T23:25:24.900Z"
   },
   {
    "duration": 259,
    "start_time": "2022-02-14T23:25:24.938Z"
   },
   {
    "duration": 14,
    "start_time": "2022-02-14T23:25:25.198Z"
   },
   {
    "duration": 945,
    "start_time": "2022-02-14T23:25:25.213Z"
   },
   {
    "duration": 16,
    "start_time": "2022-02-14T23:25:26.160Z"
   },
   {
    "duration": 9,
    "start_time": "2022-02-14T23:25:26.177Z"
   },
   {
    "duration": 5,
    "start_time": "2022-02-14T23:25:26.187Z"
   },
   {
    "duration": 8,
    "start_time": "2022-02-14T23:25:26.194Z"
   },
   {
    "duration": 34,
    "start_time": "2022-02-14T23:25:26.203Z"
   },
   {
    "duration": 675,
    "start_time": "2022-02-14T23:25:26.239Z"
   },
   {
    "duration": 686,
    "start_time": "2022-02-14T23:25:38.896Z"
   },
   {
    "duration": 398,
    "start_time": "2022-02-15T07:18:03.384Z"
   },
   {
    "duration": 996,
    "start_time": "2022-02-15T07:18:11.000Z"
   },
   {
    "duration": 7,
    "start_time": "2022-02-15T07:18:11.999Z"
   },
   {
    "duration": 23,
    "start_time": "2022-02-15T07:18:12.033Z"
   },
   {
    "duration": 21,
    "start_time": "2022-02-15T07:18:12.058Z"
   },
   {
    "duration": 67,
    "start_time": "2022-02-15T07:18:12.081Z"
   },
   {
    "duration": 21,
    "start_time": "2022-02-15T07:18:12.150Z"
   },
   {
    "duration": 15,
    "start_time": "2022-02-15T07:18:12.174Z"
   },
   {
    "duration": 40,
    "start_time": "2022-02-15T07:18:12.194Z"
   },
   {
    "duration": 17,
    "start_time": "2022-02-15T07:18:12.237Z"
   },
   {
    "duration": 151,
    "start_time": "2022-02-15T07:18:12.256Z"
   },
   {
    "duration": 36,
    "start_time": "2022-02-15T07:18:12.410Z"
   },
   {
    "duration": 35,
    "start_time": "2022-02-15T07:18:12.449Z"
   },
   {
    "duration": 454,
    "start_time": "2022-02-15T07:18:12.486Z"
   },
   {
    "duration": 20,
    "start_time": "2022-02-15T07:18:12.943Z"
   },
   {
    "duration": 1595,
    "start_time": "2022-02-15T07:18:12.966Z"
   },
   {
    "duration": 35,
    "start_time": "2022-02-15T07:18:14.563Z"
   },
   {
    "duration": 34,
    "start_time": "2022-02-15T07:18:14.600Z"
   },
   {
    "duration": 9,
    "start_time": "2022-02-15T07:18:14.636Z"
   },
   {
    "duration": 15,
    "start_time": "2022-02-15T07:18:14.647Z"
   },
   {
    "duration": 19,
    "start_time": "2022-02-15T07:18:14.664Z"
   },
   {
    "duration": 1178,
    "start_time": "2022-02-15T07:18:14.685Z"
   },
   {
    "duration": 423,
    "start_time": "2022-02-15T07:23:11.100Z"
   },
   {
    "duration": 34,
    "start_time": "2022-02-15T07:23:21.228Z"
   },
   {
    "duration": 5554,
    "start_time": "2022-02-15T07:26:42.789Z"
   },
   {
    "duration": 32,
    "start_time": "2022-02-15T07:28:01.984Z"
   },
   {
    "duration": 38,
    "start_time": "2022-02-15T07:28:13.125Z"
   },
   {
    "duration": 349,
    "start_time": "2022-02-15T07:28:33.763Z"
   },
   {
    "duration": 38,
    "start_time": "2022-02-15T07:29:03.272Z"
   },
   {
    "duration": 34,
    "start_time": "2022-02-15T07:29:07.927Z"
   },
   {
    "duration": 40,
    "start_time": "2022-02-15T07:29:16.969Z"
   },
   {
    "duration": 1051,
    "start_time": "2022-02-15T07:29:26.199Z"
   },
   {
    "duration": 7,
    "start_time": "2022-02-15T07:29:27.253Z"
   },
   {
    "duration": 28,
    "start_time": "2022-02-15T07:29:27.262Z"
   },
   {
    "duration": 47,
    "start_time": "2022-02-15T07:29:27.292Z"
   },
   {
    "duration": 41,
    "start_time": "2022-02-15T07:29:27.342Z"
   },
   {
    "duration": 47,
    "start_time": "2022-02-15T07:29:27.385Z"
   },
   {
    "duration": 10,
    "start_time": "2022-02-15T07:29:27.435Z"
   },
   {
    "duration": 10,
    "start_time": "2022-02-15T07:29:27.449Z"
   },
   {
    "duration": 18,
    "start_time": "2022-02-15T07:29:27.462Z"
   },
   {
    "duration": 165,
    "start_time": "2022-02-15T07:29:27.483Z"
   },
   {
    "duration": 23,
    "start_time": "2022-02-15T07:29:27.651Z"
   },
   {
    "duration": 56,
    "start_time": "2022-02-15T07:29:27.677Z"
   },
   {
    "duration": 536,
    "start_time": "2022-02-15T07:29:27.736Z"
   },
   {
    "duration": 23,
    "start_time": "2022-02-15T07:29:28.275Z"
   },
   {
    "duration": 1881,
    "start_time": "2022-02-15T07:29:28.300Z"
   },
   {
    "duration": 66,
    "start_time": "2022-02-15T07:29:30.184Z"
   },
   {
    "duration": 21,
    "start_time": "2022-02-15T07:29:30.253Z"
   },
   {
    "duration": 13,
    "start_time": "2022-02-15T07:29:30.278Z"
   },
   {
    "duration": 41,
    "start_time": "2022-02-15T07:29:30.294Z"
   },
   {
    "duration": 19,
    "start_time": "2022-02-15T07:29:30.338Z"
   },
   {
    "duration": 1222,
    "start_time": "2022-02-15T07:29:30.359Z"
   },
   {
    "duration": 394,
    "start_time": "2022-02-15T07:29:49.025Z"
   },
   {
    "duration": 34,
    "start_time": "2022-02-15T07:30:03.232Z"
   },
   {
    "duration": 38,
    "start_time": "2022-02-15T07:30:17.009Z"
   },
   {
    "duration": 34,
    "start_time": "2022-02-15T07:30:26.755Z"
   },
   {
    "duration": 318,
    "start_time": "2022-02-15T07:31:15.631Z"
   },
   {
    "duration": 287,
    "start_time": "2022-02-15T07:31:28.872Z"
   },
   {
    "duration": 35,
    "start_time": "2022-02-15T07:31:44.165Z"
   },
   {
    "duration": 34,
    "start_time": "2022-02-15T07:31:53.797Z"
   },
   {
    "duration": 39,
    "start_time": "2022-02-15T07:31:59.932Z"
   },
   {
    "duration": 44,
    "start_time": "2022-02-15T07:32:14.964Z"
   },
   {
    "duration": 35,
    "start_time": "2022-02-15T07:32:17.805Z"
   },
   {
    "duration": 349,
    "start_time": "2022-02-15T07:32:28.436Z"
   },
   {
    "duration": 103,
    "start_time": "2022-02-15T07:32:55.618Z"
   },
   {
    "duration": 665,
    "start_time": "2022-02-15T07:33:00.413Z"
   },
   {
    "duration": 338,
    "start_time": "2022-02-15T07:33:42.946Z"
   },
   {
    "duration": 296,
    "start_time": "2022-02-15T07:34:04.105Z"
   },
   {
    "duration": 335,
    "start_time": "2022-02-15T07:34:15.958Z"
   },
   {
    "duration": 363,
    "start_time": "2022-02-15T07:34:21.386Z"
   },
   {
    "duration": 31,
    "start_time": "2022-02-15T07:34:57.008Z"
   },
   {
    "duration": 31,
    "start_time": "2022-02-15T07:35:09.926Z"
   },
   {
    "duration": 34,
    "start_time": "2022-02-15T07:35:13.561Z"
   },
   {
    "duration": 35,
    "start_time": "2022-02-15T07:35:44.477Z"
   },
   {
    "duration": 25,
    "start_time": "2022-02-15T07:36:28.598Z"
   },
   {
    "duration": 15,
    "start_time": "2022-02-15T07:36:32.736Z"
   },
   {
    "duration": 14,
    "start_time": "2022-02-15T07:37:16.314Z"
   },
   {
    "duration": 14,
    "start_time": "2022-02-15T07:37:28.271Z"
   },
   {
    "duration": 998,
    "start_time": "2022-02-15T07:44:43.534Z"
   },
   {
    "duration": 6,
    "start_time": "2022-02-15T07:44:44.535Z"
   },
   {
    "duration": 25,
    "start_time": "2022-02-15T07:44:44.544Z"
   },
   {
    "duration": 22,
    "start_time": "2022-02-15T07:44:44.572Z"
   },
   {
    "duration": 72,
    "start_time": "2022-02-15T07:44:44.596Z"
   },
   {
    "duration": 20,
    "start_time": "2022-02-15T07:44:44.671Z"
   },
   {
    "duration": 42,
    "start_time": "2022-02-15T07:44:44.693Z"
   },
   {
    "duration": 9,
    "start_time": "2022-02-15T07:44:44.737Z"
   },
   {
    "duration": 13,
    "start_time": "2022-02-15T07:44:44.750Z"
   },
   {
    "duration": 155,
    "start_time": "2022-02-15T07:44:44.765Z"
   },
   {
    "duration": 27,
    "start_time": "2022-02-15T07:44:44.922Z"
   },
   {
    "duration": 34,
    "start_time": "2022-02-15T07:44:44.951Z"
   },
   {
    "duration": 470,
    "start_time": "2022-02-15T07:44:44.987Z"
   },
   {
    "duration": 24,
    "start_time": "2022-02-15T07:44:45.459Z"
   },
   {
    "duration": 1726,
    "start_time": "2022-02-15T07:44:45.486Z"
   },
   {
    "duration": 35,
    "start_time": "2022-02-15T07:44:47.215Z"
   },
   {
    "duration": 14,
    "start_time": "2022-02-15T07:44:47.252Z"
   },
   {
    "duration": 9,
    "start_time": "2022-02-15T07:44:47.269Z"
   },
   {
    "duration": 13,
    "start_time": "2022-02-15T07:44:47.280Z"
   },
   {
    "duration": 13,
    "start_time": "2022-02-15T07:44:47.332Z"
   },
   {
    "duration": 17,
    "start_time": "2022-02-15T07:44:47.347Z"
   },
   {
    "duration": 1219,
    "start_time": "2022-02-15T07:56:10.399Z"
   },
   {
    "duration": 14,
    "start_time": "2022-02-15T07:56:45.756Z"
   },
   {
    "duration": 12,
    "start_time": "2022-02-15T07:56:51.899Z"
   },
   {
    "duration": 7,
    "start_time": "2022-02-15T07:56:58.238Z"
   },
   {
    "duration": 13,
    "start_time": "2022-02-15T07:57:03.964Z"
   },
   {
    "duration": 1172,
    "start_time": "2022-02-15T07:57:21.823Z"
   },
   {
    "duration": 6,
    "start_time": "2022-02-15T07:57:22.998Z"
   },
   {
    "duration": 46,
    "start_time": "2022-02-15T07:57:23.007Z"
   },
   {
    "duration": 25,
    "start_time": "2022-02-15T07:57:23.056Z"
   },
   {
    "duration": 80,
    "start_time": "2022-02-15T07:57:23.084Z"
   },
   {
    "duration": 23,
    "start_time": "2022-02-15T07:57:23.166Z"
   },
   {
    "duration": 15,
    "start_time": "2022-02-15T07:57:23.191Z"
   },
   {
    "duration": 28,
    "start_time": "2022-02-15T07:57:23.209Z"
   },
   {
    "duration": 13,
    "start_time": "2022-02-15T07:57:23.243Z"
   },
   {
    "duration": 178,
    "start_time": "2022-02-15T07:57:23.259Z"
   },
   {
    "duration": 24,
    "start_time": "2022-02-15T07:57:23.440Z"
   },
   {
    "duration": 35,
    "start_time": "2022-02-15T07:57:23.466Z"
   },
   {
    "duration": 456,
    "start_time": "2022-02-15T07:57:23.503Z"
   },
   {
    "duration": 22,
    "start_time": "2022-02-15T07:57:23.962Z"
   },
   {
    "duration": 1832,
    "start_time": "2022-02-15T07:57:23.986Z"
   },
   {
    "duration": 29,
    "start_time": "2022-02-15T07:57:25.821Z"
   },
   {
    "duration": 14,
    "start_time": "2022-02-15T07:57:25.853Z"
   },
   {
    "duration": 10,
    "start_time": "2022-02-15T07:57:25.869Z"
   },
   {
    "duration": 14,
    "start_time": "2022-02-15T07:57:25.881Z"
   },
   {
    "duration": 43,
    "start_time": "2022-02-15T07:57:25.897Z"
   },
   {
    "duration": 1255,
    "start_time": "2022-02-15T07:57:25.942Z"
   },
   {
    "duration": 3,
    "start_time": "2022-02-15T07:57:27.199Z"
   },
   {
    "duration": 14,
    "start_time": "2022-02-15T07:57:35.496Z"
   },
   {
    "duration": 16,
    "start_time": "2022-02-15T07:58:14.113Z"
   },
   {
    "duration": 1821,
    "start_time": "2022-02-15T07:59:10.880Z"
   },
   {
    "duration": 2918,
    "start_time": "2022-02-15T08:00:49.539Z"
   },
   {
    "duration": 2080,
    "start_time": "2022-02-15T08:02:16.664Z"
   },
   {
    "duration": 1725,
    "start_time": "2022-02-15T08:02:28.636Z"
   },
   {
    "duration": 30,
    "start_time": "2022-02-15T08:19:46.114Z"
   },
   {
    "duration": 22,
    "start_time": "2022-02-15T08:19:55.425Z"
   },
   {
    "duration": 117,
    "start_time": "2022-02-15T08:20:41.390Z"
   },
   {
    "duration": 106,
    "start_time": "2022-02-15T08:20:47.420Z"
   },
   {
    "duration": 91,
    "start_time": "2022-02-15T08:20:50.761Z"
   },
   {
    "duration": 352,
    "start_time": "2022-02-15T08:20:57.595Z"
   },
   {
    "duration": 16110,
    "start_time": "2022-02-15T08:21:11.671Z"
   },
   {
    "duration": 16714,
    "start_time": "2022-02-15T08:21:49.412Z"
   },
   {
    "duration": 471,
    "start_time": "2022-02-15T08:22:24.543Z"
   },
   {
    "duration": 520,
    "start_time": "2022-02-15T08:23:23.281Z"
   },
   {
    "duration": 33,
    "start_time": "2022-02-15T08:30:32.402Z"
   },
   {
    "duration": 2011,
    "start_time": "2022-02-15T08:35:55.053Z"
   },
   {
    "duration": 1574,
    "start_time": "2022-02-15T08:36:11.458Z"
   },
   {
    "duration": 97,
    "start_time": "2022-02-15T08:52:25.189Z"
   },
   {
    "duration": 1128,
    "start_time": "2022-02-15T08:52:28.853Z"
   },
   {
    "duration": 1090,
    "start_time": "2022-02-15T08:54:50.092Z"
   },
   {
    "duration": 1164,
    "start_time": "2022-02-15T08:55:52.550Z"
   },
   {
    "duration": 1384,
    "start_time": "2022-02-15T08:56:25.958Z"
   },
   {
    "duration": 352,
    "start_time": "2022-02-15T08:56:50.369Z"
   },
   {
    "duration": 475,
    "start_time": "2022-02-15T08:57:48.795Z"
   },
   {
    "duration": 1086,
    "start_time": "2022-02-15T08:58:03.920Z"
   },
   {
    "duration": 1276,
    "start_time": "2022-02-15T08:59:36.686Z"
   },
   {
    "duration": 797,
    "start_time": "2022-02-15T11:52:02.563Z"
   },
   {
    "duration": 5,
    "start_time": "2022-02-15T11:52:03.361Z"
   },
   {
    "duration": 26,
    "start_time": "2022-02-15T11:52:03.370Z"
   },
   {
    "duration": 16,
    "start_time": "2022-02-15T11:52:03.397Z"
   },
   {
    "duration": 48,
    "start_time": "2022-02-15T11:52:03.415Z"
   },
   {
    "duration": 15,
    "start_time": "2022-02-15T11:52:03.465Z"
   },
   {
    "duration": 9,
    "start_time": "2022-02-15T11:52:03.483Z"
   },
   {
    "duration": 22,
    "start_time": "2022-02-15T11:52:03.494Z"
   },
   {
    "duration": 13,
    "start_time": "2022-02-15T11:52:03.518Z"
   },
   {
    "duration": 105,
    "start_time": "2022-02-15T11:52:03.533Z"
   },
   {
    "duration": 20,
    "start_time": "2022-02-15T11:52:03.640Z"
   },
   {
    "duration": 22,
    "start_time": "2022-02-15T11:52:03.661Z"
   },
   {
    "duration": 301,
    "start_time": "2022-02-15T11:52:03.684Z"
   },
   {
    "duration": 16,
    "start_time": "2022-02-15T11:52:03.987Z"
   },
   {
    "duration": 1114,
    "start_time": "2022-02-15T11:52:04.005Z"
   },
   {
    "duration": 19,
    "start_time": "2022-02-15T11:52:05.121Z"
   },
   {
    "duration": 23,
    "start_time": "2022-02-15T11:52:05.142Z"
   },
   {
    "duration": 13,
    "start_time": "2022-02-15T11:52:05.167Z"
   },
   {
    "duration": 30,
    "start_time": "2022-02-15T11:52:05.181Z"
   },
   {
    "duration": 1028,
    "start_time": "2022-02-15T11:52:05.213Z"
   },
   {
    "duration": 869,
    "start_time": "2022-02-15T11:52:06.243Z"
   },
   {
    "duration": 3,
    "start_time": "2022-02-15T11:52:07.114Z"
   },
   {
    "duration": 1019,
    "start_time": "2022-02-15T11:58:04.630Z"
   },
   {
    "duration": 958,
    "start_time": "2022-02-15T12:10:07.907Z"
   },
   {
    "duration": 834,
    "start_time": "2022-02-15T12:10:16.368Z"
   },
   {
    "duration": 801,
    "start_time": "2022-02-15T12:10:23.236Z"
   },
   {
    "duration": 983,
    "start_time": "2022-02-15T12:10:30.080Z"
   },
   {
    "duration": 5,
    "start_time": "2022-02-15T12:10:31.066Z"
   },
   {
    "duration": 46,
    "start_time": "2022-02-15T12:10:31.072Z"
   },
   {
    "duration": 67,
    "start_time": "2022-02-15T12:10:31.120Z"
   },
   {
    "duration": 60,
    "start_time": "2022-02-15T12:10:31.190Z"
   },
   {
    "duration": 42,
    "start_time": "2022-02-15T12:10:31.252Z"
   },
   {
    "duration": 31,
    "start_time": "2022-02-15T12:10:31.296Z"
   },
   {
    "duration": 58,
    "start_time": "2022-02-15T12:10:31.330Z"
   },
   {
    "duration": 32,
    "start_time": "2022-02-15T12:10:31.390Z"
   },
   {
    "duration": 179,
    "start_time": "2022-02-15T12:10:31.424Z"
   },
   {
    "duration": 17,
    "start_time": "2022-02-15T12:10:31.604Z"
   },
   {
    "duration": 37,
    "start_time": "2022-02-15T12:10:31.623Z"
   },
   {
    "duration": 300,
    "start_time": "2022-02-15T12:10:31.661Z"
   },
   {
    "duration": 16,
    "start_time": "2022-02-15T12:10:31.963Z"
   },
   {
    "duration": 1107,
    "start_time": "2022-02-15T12:10:31.981Z"
   },
   {
    "duration": 18,
    "start_time": "2022-02-15T12:10:33.089Z"
   },
   {
    "duration": 9,
    "start_time": "2022-02-15T12:10:33.108Z"
   },
   {
    "duration": 8,
    "start_time": "2022-02-15T12:10:33.118Z"
   },
   {
    "duration": 14,
    "start_time": "2022-02-15T12:10:33.128Z"
   },
   {
    "duration": 966,
    "start_time": "2022-02-15T12:10:33.159Z"
   },
   {
    "duration": 787,
    "start_time": "2022-02-15T12:10:34.127Z"
   },
   {
    "duration": 2,
    "start_time": "2022-02-15T12:10:34.916Z"
   },
   {
    "duration": 223,
    "start_time": "2022-02-15T12:11:40.701Z"
   },
   {
    "duration": 95,
    "start_time": "2022-02-15T12:12:44.094Z"
   },
   {
    "duration": 260,
    "start_time": "2022-02-15T12:12:47.493Z"
   },
   {
    "duration": 307,
    "start_time": "2022-02-15T12:13:02.157Z"
   },
   {
    "duration": 295,
    "start_time": "2022-02-15T12:13:23.760Z"
   },
   {
    "duration": 302,
    "start_time": "2022-02-15T12:14:42.894Z"
   },
   {
    "duration": 464,
    "start_time": "2022-02-15T12:14:54.516Z"
   },
   {
    "duration": 312,
    "start_time": "2022-02-15T12:15:00.877Z"
   },
   {
    "duration": 505,
    "start_time": "2022-02-15T12:27:58.600Z"
   },
   {
    "duration": 497,
    "start_time": "2022-02-15T12:28:18.701Z"
   },
   {
    "duration": 502,
    "start_time": "2022-02-15T12:28:21.012Z"
   },
   {
    "duration": 4,
    "start_time": "2022-02-15T12:31:40.389Z"
   },
   {
    "duration": 12,
    "start_time": "2022-02-15T12:31:44.752Z"
   },
   {
    "duration": 513,
    "start_time": "2022-02-15T12:32:15.716Z"
   },
   {
    "duration": 302,
    "start_time": "2022-02-15T12:32:24.630Z"
   },
   {
    "duration": 395,
    "start_time": "2022-02-15T12:35:26.650Z"
   },
   {
    "duration": 311,
    "start_time": "2022-02-15T12:35:53.315Z"
   },
   {
    "duration": 3656,
    "start_time": "2022-02-15T12:36:42.445Z"
   },
   {
    "duration": 738,
    "start_time": "2022-02-15T12:36:58.682Z"
   },
   {
    "duration": 5,
    "start_time": "2022-02-15T12:36:59.422Z"
   },
   {
    "duration": 36,
    "start_time": "2022-02-15T12:36:59.430Z"
   },
   {
    "duration": 17,
    "start_time": "2022-02-15T12:36:59.468Z"
   },
   {
    "duration": 27,
    "start_time": "2022-02-15T12:36:59.487Z"
   },
   {
    "duration": 48,
    "start_time": "2022-02-15T12:36:59.516Z"
   },
   {
    "duration": 7,
    "start_time": "2022-02-15T12:36:59.566Z"
   },
   {
    "duration": 9,
    "start_time": "2022-02-15T12:36:59.576Z"
   },
   {
    "duration": 13,
    "start_time": "2022-02-15T12:36:59.587Z"
   },
   {
    "duration": 109,
    "start_time": "2022-02-15T12:36:59.601Z"
   },
   {
    "duration": 17,
    "start_time": "2022-02-15T12:36:59.711Z"
   },
   {
    "duration": 34,
    "start_time": "2022-02-15T12:36:59.730Z"
   },
   {
    "duration": 299,
    "start_time": "2022-02-15T12:36:59.765Z"
   },
   {
    "duration": 17,
    "start_time": "2022-02-15T12:37:00.066Z"
   },
   {
    "duration": 1109,
    "start_time": "2022-02-15T12:37:00.085Z"
   },
   {
    "duration": 18,
    "start_time": "2022-02-15T12:37:01.196Z"
   },
   {
    "duration": 22,
    "start_time": "2022-02-15T12:37:01.215Z"
   },
   {
    "duration": 24,
    "start_time": "2022-02-15T12:37:01.239Z"
   },
   {
    "duration": 28,
    "start_time": "2022-02-15T12:37:01.264Z"
   },
   {
    "duration": 243,
    "start_time": "2022-02-15T12:37:01.294Z"
   },
   {
    "duration": -165,
    "start_time": "2022-02-15T12:37:01.704Z"
   },
   {
    "duration": -169,
    "start_time": "2022-02-15T12:37:01.709Z"
   },
   {
    "duration": 847,
    "start_time": "2022-02-15T12:38:28.618Z"
   },
   {
    "duration": 856,
    "start_time": "2022-02-15T12:38:38.877Z"
   },
   {
    "duration": 35,
    "start_time": "2022-02-15T12:38:45.940Z"
   },
   {
    "duration": 33,
    "start_time": "2022-02-15T12:39:01.171Z"
   },
   {
    "duration": 37,
    "start_time": "2022-02-15T12:40:02.766Z"
   },
   {
    "duration": 30,
    "start_time": "2022-02-15T12:40:24.688Z"
   },
   {
    "duration": 195,
    "start_time": "2022-02-15T12:40:55.476Z"
   },
   {
    "duration": 315,
    "start_time": "2022-02-15T12:42:02.682Z"
   },
   {
    "duration": 975,
    "start_time": "2022-02-15T12:42:14.505Z"
   },
   {
    "duration": 163,
    "start_time": "2022-02-15T12:42:30.939Z"
   },
   {
    "duration": 407,
    "start_time": "2022-02-15T12:42:48.201Z"
   },
   {
    "duration": 26,
    "start_time": "2022-02-15T12:43:32.695Z"
   },
   {
    "duration": 1008,
    "start_time": "2022-02-15T12:43:36.458Z"
   },
   {
    "duration": 318,
    "start_time": "2022-02-15T12:44:03.074Z"
   },
   {
    "duration": 381,
    "start_time": "2022-02-15T16:03:05.339Z"
   },
   {
    "duration": 1048,
    "start_time": "2022-02-15T16:03:16.592Z"
   },
   {
    "duration": 6,
    "start_time": "2022-02-15T16:03:17.643Z"
   },
   {
    "duration": 26,
    "start_time": "2022-02-15T16:03:17.653Z"
   },
   {
    "duration": 52,
    "start_time": "2022-02-15T16:03:17.682Z"
   },
   {
    "duration": 39,
    "start_time": "2022-02-15T16:03:17.736Z"
   },
   {
    "duration": 48,
    "start_time": "2022-02-15T16:03:17.778Z"
   },
   {
    "duration": 10,
    "start_time": "2022-02-15T16:03:17.828Z"
   },
   {
    "duration": 11,
    "start_time": "2022-02-15T16:03:17.841Z"
   },
   {
    "duration": 10,
    "start_time": "2022-02-15T16:03:17.855Z"
   },
   {
    "duration": 172,
    "start_time": "2022-02-15T16:03:17.868Z"
   },
   {
    "duration": 23,
    "start_time": "2022-02-15T16:03:18.042Z"
   },
   {
    "duration": 56,
    "start_time": "2022-02-15T16:03:18.068Z"
   },
   {
    "duration": 461,
    "start_time": "2022-02-15T16:03:18.126Z"
   },
   {
    "duration": 38,
    "start_time": "2022-02-15T16:03:18.590Z"
   },
   {
    "duration": 1586,
    "start_time": "2022-02-15T16:03:18.631Z"
   },
   {
    "duration": 26,
    "start_time": "2022-02-15T16:03:20.219Z"
   },
   {
    "duration": 14,
    "start_time": "2022-02-15T16:03:20.248Z"
   },
   {
    "duration": 18,
    "start_time": "2022-02-15T16:03:20.265Z"
   },
   {
    "duration": 40,
    "start_time": "2022-02-15T16:03:20.286Z"
   },
   {
    "duration": 42,
    "start_time": "2022-02-15T16:03:20.328Z"
   },
   {
    "duration": 1525,
    "start_time": "2022-02-15T16:03:20.372Z"
   },
   {
    "duration": 503,
    "start_time": "2022-02-15T16:03:21.900Z"
   },
   {
    "duration": 3,
    "start_time": "2022-02-15T16:03:22.407Z"
   },
   {
    "duration": 768,
    "start_time": "2022-02-15T16:04:10.346Z"
   },
   {
    "duration": 477,
    "start_time": "2022-02-15T16:04:17.202Z"
   },
   {
    "duration": 786,
    "start_time": "2022-02-15T18:13:43.898Z"
   },
   {
    "duration": 4,
    "start_time": "2022-02-15T18:13:44.686Z"
   },
   {
    "duration": 32,
    "start_time": "2022-02-15T18:13:44.691Z"
   },
   {
    "duration": 15,
    "start_time": "2022-02-15T18:13:44.725Z"
   },
   {
    "duration": 26,
    "start_time": "2022-02-15T18:13:44.741Z"
   },
   {
    "duration": 13,
    "start_time": "2022-02-15T18:13:44.769Z"
   },
   {
    "duration": 33,
    "start_time": "2022-02-15T18:13:44.784Z"
   },
   {
    "duration": 7,
    "start_time": "2022-02-15T18:13:44.820Z"
   },
   {
    "duration": 8,
    "start_time": "2022-02-15T18:13:44.828Z"
   },
   {
    "duration": 111,
    "start_time": "2022-02-15T18:13:44.837Z"
   },
   {
    "duration": 16,
    "start_time": "2022-02-15T18:13:44.950Z"
   },
   {
    "duration": 20,
    "start_time": "2022-02-15T18:13:44.968Z"
   },
   {
    "duration": 318,
    "start_time": "2022-02-15T18:13:44.990Z"
   },
   {
    "duration": 15,
    "start_time": "2022-02-15T18:13:45.312Z"
   },
   {
    "duration": 1056,
    "start_time": "2022-02-15T18:13:45.329Z"
   },
   {
    "duration": 25,
    "start_time": "2022-02-15T18:13:46.387Z"
   },
   {
    "duration": 9,
    "start_time": "2022-02-15T18:13:46.414Z"
   },
   {
    "duration": 5,
    "start_time": "2022-02-15T18:13:46.424Z"
   },
   {
    "duration": 8,
    "start_time": "2022-02-15T18:13:46.431Z"
   },
   {
    "duration": 24,
    "start_time": "2022-02-15T18:13:46.440Z"
   },
   {
    "duration": 992,
    "start_time": "2022-02-15T18:13:46.465Z"
   },
   {
    "duration": 324,
    "start_time": "2022-02-15T18:13:47.459Z"
   },
   {
    "duration": 3,
    "start_time": "2022-02-15T18:13:47.785Z"
   },
   {
    "duration": 270,
    "start_time": "2022-02-15T18:14:10.833Z"
   },
   {
    "duration": 816,
    "start_time": "2022-02-15T18:14:53.634Z"
   },
   {
    "duration": 294,
    "start_time": "2022-02-15T18:17:24.282Z"
   },
   {
    "duration": 742,
    "start_time": "2022-02-15T18:17:33.731Z"
   },
   {
    "duration": 847,
    "start_time": "2022-02-15T18:17:53.971Z"
   },
   {
    "duration": 783,
    "start_time": "2022-02-15T18:18:21.258Z"
   },
   {
    "duration": 749,
    "start_time": "2022-02-15T18:18:54.625Z"
   },
   {
    "duration": 251,
    "start_time": "2022-02-15T18:19:58.253Z"
   },
   {
    "duration": 5687,
    "start_time": "2022-02-15T18:20:05.002Z"
   },
   {
    "duration": 1014,
    "start_time": "2022-02-15T18:20:20.251Z"
   },
   {
    "duration": 750,
    "start_time": "2022-02-15T18:21:57.283Z"
   },
   {
    "duration": 843,
    "start_time": "2022-02-15T18:22:07.658Z"
   },
   {
    "duration": 801,
    "start_time": "2022-02-15T18:25:51.651Z"
   },
   {
    "duration": 729,
    "start_time": "2022-02-15T18:26:31.106Z"
   },
   {
    "duration": 761,
    "start_time": "2022-02-15T18:26:46.969Z"
   },
   {
    "duration": 821,
    "start_time": "2022-02-15T18:26:56.913Z"
   },
   {
    "duration": 593,
    "start_time": "2022-02-15T18:27:07.737Z"
   },
   {
    "duration": 745,
    "start_time": "2022-02-15T18:29:23.315Z"
   },
   {
    "duration": 5,
    "start_time": "2022-02-15T18:29:24.061Z"
   },
   {
    "duration": 17,
    "start_time": "2022-02-15T18:29:24.068Z"
   },
   {
    "duration": 35,
    "start_time": "2022-02-15T18:29:24.087Z"
   },
   {
    "duration": 25,
    "start_time": "2022-02-15T18:29:24.124Z"
   },
   {
    "duration": 13,
    "start_time": "2022-02-15T18:29:24.150Z"
   },
   {
    "duration": 6,
    "start_time": "2022-02-15T18:29:24.165Z"
   },
   {
    "duration": 41,
    "start_time": "2022-02-15T18:29:24.173Z"
   },
   {
    "duration": 7,
    "start_time": "2022-02-15T18:29:24.216Z"
   },
   {
    "duration": 95,
    "start_time": "2022-02-15T18:29:24.224Z"
   },
   {
    "duration": 16,
    "start_time": "2022-02-15T18:29:24.320Z"
   },
   {
    "duration": 21,
    "start_time": "2022-02-15T18:29:24.337Z"
   },
   {
    "duration": 304,
    "start_time": "2022-02-15T18:29:24.359Z"
   },
   {
    "duration": 15,
    "start_time": "2022-02-15T18:29:24.664Z"
   },
   {
    "duration": 1087,
    "start_time": "2022-02-15T18:29:24.681Z"
   },
   {
    "duration": 17,
    "start_time": "2022-02-15T18:29:25.770Z"
   },
   {
    "duration": 9,
    "start_time": "2022-02-15T18:29:25.789Z"
   },
   {
    "duration": 16,
    "start_time": "2022-02-15T18:29:25.800Z"
   },
   {
    "duration": 9,
    "start_time": "2022-02-15T18:29:25.817Z"
   },
   {
    "duration": 24,
    "start_time": "2022-02-15T18:29:25.828Z"
   },
   {
    "duration": 1023,
    "start_time": "2022-02-15T18:29:25.854Z"
   },
   {
    "duration": 297,
    "start_time": "2022-02-15T18:29:26.879Z"
   },
   {
    "duration": 2,
    "start_time": "2022-02-15T18:29:27.179Z"
   },
   {
    "duration": 934,
    "start_time": "2022-02-15T18:32:15.494Z"
   },
   {
    "duration": 286,
    "start_time": "2022-02-15T18:32:27.941Z"
   },
   {
    "duration": 1112,
    "start_time": "2022-02-15T18:33:07.946Z"
   },
   {
    "duration": 734,
    "start_time": "2022-02-15T18:33:53.112Z"
   },
   {
    "duration": 4,
    "start_time": "2022-02-15T18:33:53.848Z"
   },
   {
    "duration": 18,
    "start_time": "2022-02-15T18:33:53.857Z"
   },
   {
    "duration": 40,
    "start_time": "2022-02-15T18:33:53.876Z"
   },
   {
    "duration": 26,
    "start_time": "2022-02-15T18:33:53.917Z"
   },
   {
    "duration": 12,
    "start_time": "2022-02-15T18:33:53.945Z"
   },
   {
    "duration": 7,
    "start_time": "2022-02-15T18:33:53.959Z"
   },
   {
    "duration": 7,
    "start_time": "2022-02-15T18:33:53.968Z"
   },
   {
    "duration": 38,
    "start_time": "2022-02-15T18:33:53.977Z"
   },
   {
    "duration": 85,
    "start_time": "2022-02-15T18:33:54.016Z"
   },
   {
    "duration": 22,
    "start_time": "2022-02-15T18:33:54.103Z"
   },
   {
    "duration": 18,
    "start_time": "2022-02-15T18:33:54.127Z"
   },
   {
    "duration": 302,
    "start_time": "2022-02-15T18:33:54.147Z"
   },
   {
    "duration": 14,
    "start_time": "2022-02-15T18:33:54.450Z"
   },
   {
    "duration": 1058,
    "start_time": "2022-02-15T18:33:54.466Z"
   },
   {
    "duration": 18,
    "start_time": "2022-02-15T18:33:55.526Z"
   },
   {
    "duration": 9,
    "start_time": "2022-02-15T18:33:55.546Z"
   },
   {
    "duration": 5,
    "start_time": "2022-02-15T18:33:55.557Z"
   },
   {
    "duration": 9,
    "start_time": "2022-02-15T18:33:55.564Z"
   },
   {
    "duration": 51,
    "start_time": "2022-02-15T18:33:55.574Z"
   },
   {
    "duration": 925,
    "start_time": "2022-02-15T18:33:55.626Z"
   },
   {
    "duration": 276,
    "start_time": "2022-02-15T18:33:56.554Z"
   },
   {
    "duration": 2,
    "start_time": "2022-02-15T18:33:56.832Z"
   },
   {
    "duration": 269,
    "start_time": "2022-02-15T18:56:10.616Z"
   },
   {
    "duration": 308,
    "start_time": "2022-02-15T19:26:02.836Z"
   },
   {
    "duration": 312,
    "start_time": "2022-02-15T19:27:08.030Z"
   },
   {
    "duration": 348,
    "start_time": "2022-02-15T19:28:02.213Z"
   },
   {
    "duration": 311,
    "start_time": "2022-02-15T19:28:55.525Z"
   },
   {
    "duration": 321,
    "start_time": "2022-02-15T19:32:55.129Z"
   },
   {
    "duration": 409,
    "start_time": "2022-02-15T19:34:00.529Z"
   },
   {
    "duration": 296,
    "start_time": "2022-02-15T19:34:08.951Z"
   },
   {
    "duration": 309,
    "start_time": "2022-02-15T19:34:25.847Z"
   },
   {
    "duration": 315,
    "start_time": "2022-02-15T19:38:10.035Z"
   },
   {
    "duration": 316,
    "start_time": "2022-02-15T19:38:17.403Z"
   },
   {
    "duration": 279,
    "start_time": "2022-02-15T19:40:01.963Z"
   },
   {
    "duration": 326,
    "start_time": "2022-02-15T19:40:15.611Z"
   },
   {
    "duration": 85,
    "start_time": "2022-02-15T19:44:28.857Z"
   },
   {
    "duration": 298,
    "start_time": "2022-02-15T19:44:36.894Z"
   },
   {
    "duration": 22,
    "start_time": "2022-02-15T19:46:36.184Z"
   },
   {
    "duration": 20,
    "start_time": "2022-02-15T19:46:54.375Z"
   },
   {
    "duration": 258,
    "start_time": "2022-02-15T19:47:50.647Z"
   },
   {
    "duration": 252,
    "start_time": "2022-02-15T19:48:35.009Z"
   },
   {
    "duration": 253,
    "start_time": "2022-02-15T19:48:44.456Z"
   },
   {
    "duration": 3706,
    "start_time": "2022-02-15T19:49:31.574Z"
   },
   {
    "duration": 3520,
    "start_time": "2022-02-15T19:49:51.075Z"
   },
   {
    "duration": 3936,
    "start_time": "2022-02-15T19:50:13.291Z"
   },
   {
    "duration": 4027,
    "start_time": "2022-02-15T19:51:14.251Z"
   },
   {
    "duration": 17,
    "start_time": "2022-02-15T19:51:28.044Z"
   },
   {
    "duration": 722,
    "start_time": "2022-02-15T19:51:49.783Z"
   },
   {
    "duration": 8,
    "start_time": "2022-02-15T19:51:50.506Z"
   },
   {
    "duration": 16,
    "start_time": "2022-02-15T19:51:50.516Z"
   },
   {
    "duration": 14,
    "start_time": "2022-02-15T19:51:50.534Z"
   },
   {
    "duration": 24,
    "start_time": "2022-02-15T19:51:50.550Z"
   },
   {
    "duration": 41,
    "start_time": "2022-02-15T19:51:50.575Z"
   },
   {
    "duration": 6,
    "start_time": "2022-02-15T19:51:50.618Z"
   },
   {
    "duration": 7,
    "start_time": "2022-02-15T19:51:50.626Z"
   },
   {
    "duration": 6,
    "start_time": "2022-02-15T19:51:50.635Z"
   },
   {
    "duration": 104,
    "start_time": "2022-02-15T19:51:50.642Z"
   },
   {
    "duration": 16,
    "start_time": "2022-02-15T19:51:50.747Z"
   },
   {
    "duration": 18,
    "start_time": "2022-02-15T19:51:50.765Z"
   },
   {
    "duration": 294,
    "start_time": "2022-02-15T19:51:50.785Z"
   },
   {
    "duration": 14,
    "start_time": "2022-02-15T19:51:51.081Z"
   },
   {
    "duration": 976,
    "start_time": "2022-02-15T19:51:51.096Z"
   },
   {
    "duration": 16,
    "start_time": "2022-02-15T19:51:52.074Z"
   },
   {
    "duration": 24,
    "start_time": "2022-02-15T19:51:52.091Z"
   },
   {
    "duration": 4,
    "start_time": "2022-02-15T19:51:52.116Z"
   },
   {
    "duration": 7,
    "start_time": "2022-02-15T19:51:52.122Z"
   },
   {
    "duration": 24,
    "start_time": "2022-02-15T19:51:52.131Z"
   },
   {
    "duration": 940,
    "start_time": "2022-02-15T19:51:52.156Z"
   },
   {
    "duration": 268,
    "start_time": "2022-02-15T19:51:53.098Z"
   },
   {
    "duration": 294,
    "start_time": "2022-02-15T19:51:53.369Z"
   },
   {
    "duration": 283,
    "start_time": "2022-02-15T19:51:53.665Z"
   },
   {
    "duration": 3913,
    "start_time": "2022-02-15T19:51:53.950Z"
   },
   {
    "duration": 3963,
    "start_time": "2022-02-15T19:52:19.492Z"
   },
   {
    "duration": 10,
    "start_time": "2022-02-15T19:54:53.405Z"
   },
   {
    "duration": 10,
    "start_time": "2022-02-15T19:54:57.951Z"
   },
   {
    "duration": 15,
    "start_time": "2022-02-15T19:55:04.233Z"
   },
   {
    "duration": 199,
    "start_time": "2022-02-15T19:55:18.689Z"
   },
   {
    "duration": 154,
    "start_time": "2022-02-15T19:55:58.299Z"
   },
   {
    "duration": 293,
    "start_time": "2022-02-15T19:56:19.072Z"
   },
   {
    "duration": 224,
    "start_time": "2022-02-15T19:56:40.444Z"
   },
   {
    "duration": 234,
    "start_time": "2022-02-15T19:57:15.575Z"
   },
   {
    "duration": 234,
    "start_time": "2022-02-15T19:57:46.908Z"
   },
   {
    "duration": 668,
    "start_time": "2022-02-15T20:15:34.569Z"
   },
   {
    "duration": 4,
    "start_time": "2022-02-15T20:15:35.238Z"
   },
   {
    "duration": 17,
    "start_time": "2022-02-15T20:15:35.244Z"
   },
   {
    "duration": 15,
    "start_time": "2022-02-15T20:15:35.262Z"
   },
   {
    "duration": 48,
    "start_time": "2022-02-15T20:15:35.278Z"
   },
   {
    "duration": 13,
    "start_time": "2022-02-15T20:15:35.328Z"
   },
   {
    "duration": 8,
    "start_time": "2022-02-15T20:15:35.342Z"
   },
   {
    "duration": 5,
    "start_time": "2022-02-15T20:15:35.353Z"
   },
   {
    "duration": 7,
    "start_time": "2022-02-15T20:15:35.360Z"
   },
   {
    "duration": 118,
    "start_time": "2022-02-15T20:15:35.368Z"
   },
   {
    "duration": 27,
    "start_time": "2022-02-15T20:15:35.487Z"
   },
   {
    "duration": 21,
    "start_time": "2022-02-15T20:15:35.516Z"
   },
   {
    "duration": 287,
    "start_time": "2022-02-15T20:15:35.538Z"
   },
   {
    "duration": 15,
    "start_time": "2022-02-15T20:15:35.826Z"
   },
   {
    "duration": 1020,
    "start_time": "2022-02-15T20:15:35.842Z"
   },
   {
    "duration": 17,
    "start_time": "2022-02-15T20:15:36.864Z"
   },
   {
    "duration": 9,
    "start_time": "2022-02-15T20:15:36.883Z"
   },
   {
    "duration": 4,
    "start_time": "2022-02-15T20:15:36.912Z"
   },
   {
    "duration": 8,
    "start_time": "2022-02-15T20:15:36.918Z"
   },
   {
    "duration": 24,
    "start_time": "2022-02-15T20:15:36.927Z"
   },
   {
    "duration": 952,
    "start_time": "2022-02-15T20:15:36.952Z"
   },
   {
    "duration": 286,
    "start_time": "2022-02-15T20:15:37.906Z"
   },
   {
    "duration": 339,
    "start_time": "2022-02-15T20:15:38.195Z"
   },
   {
    "duration": 298,
    "start_time": "2022-02-15T20:15:38.536Z"
   },
   {
    "duration": 252,
    "start_time": "2022-02-15T20:15:38.836Z"
   },
   {
    "duration": 1000,
    "start_time": "2022-02-15T22:15:12.910Z"
   },
   {
    "duration": 7,
    "start_time": "2022-02-15T22:15:13.912Z"
   },
   {
    "duration": 50,
    "start_time": "2022-02-15T22:15:13.925Z"
   },
   {
    "duration": 22,
    "start_time": "2022-02-15T22:15:13.978Z"
   },
   {
    "duration": 67,
    "start_time": "2022-02-15T22:15:14.003Z"
   },
   {
    "duration": 20,
    "start_time": "2022-02-15T22:15:14.072Z"
   },
   {
    "duration": 12,
    "start_time": "2022-02-15T22:15:14.097Z"
   },
   {
    "duration": 42,
    "start_time": "2022-02-15T22:15:14.112Z"
   },
   {
    "duration": 13,
    "start_time": "2022-02-15T22:15:14.156Z"
   },
   {
    "duration": 147,
    "start_time": "2022-02-15T22:15:14.171Z"
   },
   {
    "duration": 35,
    "start_time": "2022-02-15T22:15:14.321Z"
   },
   {
    "duration": 33,
    "start_time": "2022-02-15T22:15:14.358Z"
   },
   {
    "duration": 467,
    "start_time": "2022-02-15T22:15:14.393Z"
   },
   {
    "duration": 22,
    "start_time": "2022-02-15T22:15:14.862Z"
   },
   {
    "duration": 1798,
    "start_time": "2022-02-15T22:15:14.887Z"
   },
   {
    "duration": 27,
    "start_time": "2022-02-15T22:15:16.688Z"
   },
   {
    "duration": 34,
    "start_time": "2022-02-15T22:15:16.717Z"
   },
   {
    "duration": 13,
    "start_time": "2022-02-15T22:15:16.753Z"
   },
   {
    "duration": 31,
    "start_time": "2022-02-15T22:15:16.768Z"
   },
   {
    "duration": 50,
    "start_time": "2022-02-15T22:15:16.801Z"
   },
   {
    "duration": 1534,
    "start_time": "2022-02-15T22:15:16.853Z"
   },
   {
    "duration": 446,
    "start_time": "2022-02-15T22:15:18.391Z"
   },
   {
    "duration": 431,
    "start_time": "2022-02-15T22:15:18.839Z"
   },
   {
    "duration": 419,
    "start_time": "2022-02-15T22:15:19.274Z"
   },
   {
    "duration": 399,
    "start_time": "2022-02-15T22:15:19.696Z"
   },
   {
    "duration": 31,
    "start_time": "2022-02-15T22:19:56.423Z"
   },
   {
    "duration": 7,
    "start_time": "2022-02-15T22:23:06.673Z"
   },
   {
    "duration": 348,
    "start_time": "2022-02-15T22:23:11.868Z"
   },
   {
    "duration": 26,
    "start_time": "2022-02-15T22:23:54.957Z"
   },
   {
    "duration": 995,
    "start_time": "2022-02-15T22:24:08.630Z"
   },
   {
    "duration": 24,
    "start_time": "2022-02-15T22:24:09.628Z"
   },
   {
    "duration": 30,
    "start_time": "2022-02-15T22:24:09.656Z"
   },
   {
    "duration": 24,
    "start_time": "2022-02-15T22:24:09.689Z"
   },
   {
    "duration": 72,
    "start_time": "2022-02-15T22:24:09.716Z"
   },
   {
    "duration": 59,
    "start_time": "2022-02-15T22:24:09.791Z"
   },
   {
    "duration": 13,
    "start_time": "2022-02-15T22:24:09.853Z"
   },
   {
    "duration": 9,
    "start_time": "2022-02-15T22:24:09.871Z"
   },
   {
    "duration": 11,
    "start_time": "2022-02-15T22:24:09.884Z"
   },
   {
    "duration": 179,
    "start_time": "2022-02-15T22:24:09.898Z"
   },
   {
    "duration": 24,
    "start_time": "2022-02-15T22:24:10.079Z"
   },
   {
    "duration": 55,
    "start_time": "2022-02-15T22:24:10.106Z"
   },
   {
    "duration": 478,
    "start_time": "2022-02-15T22:24:10.164Z"
   },
   {
    "duration": 22,
    "start_time": "2022-02-15T22:24:10.648Z"
   },
   {
    "duration": 1955,
    "start_time": "2022-02-15T22:24:10.673Z"
   },
   {
    "duration": 52,
    "start_time": "2022-02-15T22:24:12.637Z"
   },
   {
    "duration": 16,
    "start_time": "2022-02-15T22:24:12.693Z"
   },
   {
    "duration": 9,
    "start_time": "2022-02-15T22:24:12.712Z"
   },
   {
    "duration": 14,
    "start_time": "2022-02-15T22:24:12.750Z"
   },
   {
    "duration": 39,
    "start_time": "2022-02-15T22:24:12.767Z"
   },
   {
    "duration": 1542,
    "start_time": "2022-02-15T22:24:12.809Z"
   },
   {
    "duration": 473,
    "start_time": "2022-02-15T22:24:14.355Z"
   },
   {
    "duration": 436,
    "start_time": "2022-02-15T22:24:14.834Z"
   },
   {
    "duration": 545,
    "start_time": "2022-02-15T22:24:15.274Z"
   },
   {
    "duration": 408,
    "start_time": "2022-02-15T22:24:15.822Z"
   },
   {
    "duration": 19,
    "start_time": "2022-02-15T22:24:16.233Z"
   },
   {
    "duration": 351,
    "start_time": "2022-02-15T22:25:37.326Z"
   },
   {
    "duration": 1018,
    "start_time": "2022-02-15T22:25:48.950Z"
   },
   {
    "duration": 6,
    "start_time": "2022-02-15T22:25:49.971Z"
   },
   {
    "duration": 27,
    "start_time": "2022-02-15T22:25:49.980Z"
   },
   {
    "duration": 47,
    "start_time": "2022-02-15T22:25:50.010Z"
   },
   {
    "duration": 40,
    "start_time": "2022-02-15T22:25:50.060Z"
   },
   {
    "duration": 50,
    "start_time": "2022-02-15T22:25:50.102Z"
   },
   {
    "duration": 10,
    "start_time": "2022-02-15T22:25:50.155Z"
   },
   {
    "duration": 12,
    "start_time": "2022-02-15T22:25:50.169Z"
   },
   {
    "duration": 12,
    "start_time": "2022-02-15T22:25:50.184Z"
   },
   {
    "duration": 160,
    "start_time": "2022-02-15T22:25:50.198Z"
   },
   {
    "duration": 23,
    "start_time": "2022-02-15T22:25:50.361Z"
   },
   {
    "duration": 33,
    "start_time": "2022-02-15T22:25:50.387Z"
   },
   {
    "duration": 441,
    "start_time": "2022-02-15T22:25:50.449Z"
   },
   {
    "duration": 23,
    "start_time": "2022-02-15T22:25:50.892Z"
   },
   {
    "duration": 1609,
    "start_time": "2022-02-15T22:25:50.917Z"
   },
   {
    "duration": 38,
    "start_time": "2022-02-15T22:25:52.529Z"
   },
   {
    "duration": 15,
    "start_time": "2022-02-15T22:25:52.570Z"
   },
   {
    "duration": 8,
    "start_time": "2022-02-15T22:25:52.587Z"
   },
   {
    "duration": 14,
    "start_time": "2022-02-15T22:25:52.598Z"
   },
   {
    "duration": 64,
    "start_time": "2022-02-15T22:25:52.615Z"
   },
   {
    "duration": 1485,
    "start_time": "2022-02-15T22:25:52.681Z"
   },
   {
    "duration": 446,
    "start_time": "2022-02-15T22:25:54.169Z"
   },
   {
    "duration": 459,
    "start_time": "2022-02-15T22:25:54.620Z"
   },
   {
    "duration": 407,
    "start_time": "2022-02-15T22:25:55.084Z"
   },
   {
    "duration": 387,
    "start_time": "2022-02-15T22:25:55.493Z"
   },
   {
    "duration": 347,
    "start_time": "2022-02-15T22:25:55.882Z"
   },
   {
    "duration": 923,
    "start_time": "2022-02-15T22:26:09.673Z"
   },
   {
    "duration": 6,
    "start_time": "2022-02-15T22:26:10.599Z"
   },
   {
    "duration": 49,
    "start_time": "2022-02-15T22:26:10.607Z"
   },
   {
    "duration": 23,
    "start_time": "2022-02-15T22:26:10.659Z"
   },
   {
    "duration": 65,
    "start_time": "2022-02-15T22:26:10.684Z"
   },
   {
    "duration": 21,
    "start_time": "2022-02-15T22:26:10.752Z"
   },
   {
    "duration": 29,
    "start_time": "2022-02-15T22:26:10.776Z"
   },
   {
    "duration": 28,
    "start_time": "2022-02-15T22:26:10.809Z"
   },
   {
    "duration": 20,
    "start_time": "2022-02-15T22:26:10.840Z"
   },
   {
    "duration": 133,
    "start_time": "2022-02-15T22:26:10.862Z"
   },
   {
    "duration": 22,
    "start_time": "2022-02-15T22:26:10.998Z"
   },
   {
    "duration": 54,
    "start_time": "2022-02-15T22:26:11.022Z"
   },
   {
    "duration": 441,
    "start_time": "2022-02-15T22:26:11.078Z"
   },
   {
    "duration": 39,
    "start_time": "2022-02-15T22:26:11.522Z"
   },
   {
    "duration": 1854,
    "start_time": "2022-02-15T22:26:11.563Z"
   },
   {
    "duration": 49,
    "start_time": "2022-02-15T22:26:13.420Z"
   },
   {
    "duration": 14,
    "start_time": "2022-02-15T22:26:13.471Z"
   },
   {
    "duration": 8,
    "start_time": "2022-02-15T22:26:13.487Z"
   },
   {
    "duration": 15,
    "start_time": "2022-02-15T22:26:13.497Z"
   },
   {
    "duration": 63,
    "start_time": "2022-02-15T22:26:13.515Z"
   },
   {
    "duration": 1454,
    "start_time": "2022-02-15T22:26:13.581Z"
   },
   {
    "duration": 441,
    "start_time": "2022-02-15T22:26:15.038Z"
   },
   {
    "duration": 430,
    "start_time": "2022-02-15T22:26:15.483Z"
   },
   {
    "duration": 433,
    "start_time": "2022-02-15T22:26:15.916Z"
   },
   {
    "duration": 390,
    "start_time": "2022-02-15T22:26:16.352Z"
   },
   {
    "duration": 101,
    "start_time": "2022-02-15T22:26:16.749Z"
   },
   {
    "duration": 108,
    "start_time": "2022-02-15T22:29:01.148Z"
   },
   {
    "duration": 92,
    "start_time": "2022-02-15T22:29:17.595Z"
   },
   {
    "duration": 31,
    "start_time": "2022-02-15T22:29:33.651Z"
   },
   {
    "duration": 47,
    "start_time": "2022-02-15T22:30:13.871Z"
   },
   {
    "duration": 62,
    "start_time": "2022-02-15T22:31:53.672Z"
   },
   {
    "duration": 78,
    "start_time": "2022-02-15T22:32:22.048Z"
   },
   {
    "duration": 22,
    "start_time": "2022-02-15T22:33:00.297Z"
   },
   {
    "duration": 57,
    "start_time": "2022-02-15T22:33:35.805Z"
   },
   {
    "duration": 59,
    "start_time": "2022-02-15T22:34:24.773Z"
   },
   {
    "duration": 90,
    "start_time": "2022-02-15T22:34:31.494Z"
   },
   {
    "duration": 61,
    "start_time": "2022-02-15T22:34:39.686Z"
   },
   {
    "duration": 23,
    "start_time": "2022-02-15T22:35:08.166Z"
   },
   {
    "duration": 21,
    "start_time": "2022-02-15T22:35:16.386Z"
   },
   {
    "duration": 22,
    "start_time": "2022-02-15T22:35:17.450Z"
   },
   {
    "duration": 22,
    "start_time": "2022-02-15T22:39:25.823Z"
   },
   {
    "duration": 23,
    "start_time": "2022-02-15T22:39:28.374Z"
   },
   {
    "duration": 26,
    "start_time": "2022-02-15T22:39:29.576Z"
   },
   {
    "duration": 34,
    "start_time": "2022-02-15T22:39:35.842Z"
   },
   {
    "duration": 255,
    "start_time": "2022-02-15T22:40:45.809Z"
   },
   {
    "duration": 397,
    "start_time": "2022-02-15T22:43:46.077Z"
   },
   {
    "duration": 36,
    "start_time": "2022-02-15T22:45:08.216Z"
   },
   {
    "duration": 260,
    "start_time": "2022-02-15T22:45:58.678Z"
   },
   {
    "duration": 27,
    "start_time": "2022-02-15T22:47:43.342Z"
   },
   {
    "duration": 375,
    "start_time": "2022-02-15T22:48:05.307Z"
   },
   {
    "duration": 268,
    "start_time": "2022-02-15T22:48:22.676Z"
   },
   {
    "duration": 266,
    "start_time": "2022-02-15T22:48:36.628Z"
   },
   {
    "duration": 927,
    "start_time": "2022-02-15T22:48:39.852Z"
   },
   {
    "duration": 960,
    "start_time": "2022-02-15T22:48:49.578Z"
   },
   {
    "duration": 222,
    "start_time": "2022-02-15T22:49:05.029Z"
   },
   {
    "duration": 223,
    "start_time": "2022-02-15T22:49:21.398Z"
   },
   {
    "duration": 396,
    "start_time": "2022-02-15T22:50:02.092Z"
   },
   {
    "duration": 348,
    "start_time": "2022-02-15T22:50:08.724Z"
   },
   {
    "duration": 326,
    "start_time": "2022-02-15T22:50:50.971Z"
   },
   {
    "duration": 350,
    "start_time": "2022-02-15T22:50:56.938Z"
   },
   {
    "duration": 335,
    "start_time": "2022-02-15T22:51:00.833Z"
   },
   {
    "duration": 601,
    "start_time": "2022-02-15T22:51:26.282Z"
   },
   {
    "duration": 332,
    "start_time": "2022-02-15T22:51:41.020Z"
   },
   {
    "duration": 20,
    "start_time": "2022-02-15T22:52:14.960Z"
   },
   {
    "duration": 333,
    "start_time": "2022-02-15T22:52:26.065Z"
   },
   {
    "duration": 350,
    "start_time": "2022-02-15T22:52:32.187Z"
   },
   {
    "duration": 30,
    "start_time": "2022-02-15T22:59:17.550Z"
   },
   {
    "duration": 26,
    "start_time": "2022-02-15T22:59:42.957Z"
   },
   {
    "duration": 25,
    "start_time": "2022-02-15T22:59:53.462Z"
   },
   {
    "duration": 26,
    "start_time": "2022-02-15T23:00:01.270Z"
   },
   {
    "duration": 25,
    "start_time": "2022-02-15T23:00:46.022Z"
   },
   {
    "duration": 24,
    "start_time": "2022-02-15T23:00:57.332Z"
   },
   {
    "duration": 28,
    "start_time": "2022-02-15T23:01:02.516Z"
   },
   {
    "duration": 24,
    "start_time": "2022-02-15T23:01:57.397Z"
   },
   {
    "duration": 32,
    "start_time": "2022-02-15T23:02:28.467Z"
   },
   {
    "duration": 260,
    "start_time": "2022-02-15T23:02:52.108Z"
   },
   {
    "duration": 246,
    "start_time": "2022-02-15T23:03:19.875Z"
   },
   {
    "duration": 331,
    "start_time": "2022-02-15T23:03:53.563Z"
   },
   {
    "duration": 288,
    "start_time": "2022-02-15T23:04:11.395Z"
   },
   {
    "duration": 237,
    "start_time": "2022-02-15T23:04:39.954Z"
   },
   {
    "duration": 249,
    "start_time": "2022-02-15T23:05:21.934Z"
   },
   {
    "duration": 253,
    "start_time": "2022-02-15T23:05:31.004Z"
   },
   {
    "duration": 233,
    "start_time": "2022-02-15T23:07:28.956Z"
   },
   {
    "duration": 249,
    "start_time": "2022-02-15T23:08:41.676Z"
   },
   {
    "duration": 232,
    "start_time": "2022-02-15T23:09:52.983Z"
   },
   {
    "duration": 241,
    "start_time": "2022-02-15T23:22:36.085Z"
   },
   {
    "duration": 76,
    "start_time": "2022-02-15T23:23:12.330Z"
   },
   {
    "duration": 738,
    "start_time": "2022-02-15T23:23:17.016Z"
   },
   {
    "duration": 787,
    "start_time": "2022-02-15T23:24:09.757Z"
   },
   {
    "duration": 17,
    "start_time": "2022-02-15T23:26:20.236Z"
   },
   {
    "duration": 22,
    "start_time": "2022-02-15T23:26:25.240Z"
   },
   {
    "duration": 59,
    "start_time": "2022-02-15T23:27:46.491Z"
   },
   {
    "duration": 799,
    "start_time": "2022-02-16T07:07:50.541Z"
   },
   {
    "duration": 4,
    "start_time": "2022-02-16T07:07:51.343Z"
   },
   {
    "duration": 33,
    "start_time": "2022-02-16T07:07:51.349Z"
   },
   {
    "duration": 17,
    "start_time": "2022-02-16T07:07:51.384Z"
   },
   {
    "duration": 28,
    "start_time": "2022-02-16T07:07:51.402Z"
   },
   {
    "duration": 39,
    "start_time": "2022-02-16T07:07:51.432Z"
   },
   {
    "duration": 8,
    "start_time": "2022-02-16T07:07:51.473Z"
   },
   {
    "duration": 11,
    "start_time": "2022-02-16T07:07:51.483Z"
   },
   {
    "duration": 8,
    "start_time": "2022-02-16T07:07:51.496Z"
   },
   {
    "duration": 123,
    "start_time": "2022-02-16T07:07:51.506Z"
   },
   {
    "duration": 15,
    "start_time": "2022-02-16T07:07:51.631Z"
   },
   {
    "duration": 37,
    "start_time": "2022-02-16T07:07:51.648Z"
   },
   {
    "duration": 314,
    "start_time": "2022-02-16T07:07:51.687Z"
   },
   {
    "duration": 15,
    "start_time": "2022-02-16T07:07:52.002Z"
   },
   {
    "duration": 1126,
    "start_time": "2022-02-16T07:07:52.019Z"
   },
   {
    "duration": 28,
    "start_time": "2022-02-16T07:07:53.146Z"
   },
   {
    "duration": 9,
    "start_time": "2022-02-16T07:07:53.175Z"
   },
   {
    "duration": 7,
    "start_time": "2022-02-16T07:07:53.186Z"
   },
   {
    "duration": 12,
    "start_time": "2022-02-16T07:07:53.194Z"
   },
   {
    "duration": 28,
    "start_time": "2022-02-16T07:07:53.207Z"
   },
   {
    "duration": 1076,
    "start_time": "2022-02-16T07:07:53.237Z"
   },
   {
    "duration": 310,
    "start_time": "2022-02-16T07:07:54.315Z"
   },
   {
    "duration": 322,
    "start_time": "2022-02-16T07:07:54.627Z"
   },
   {
    "duration": 356,
    "start_time": "2022-02-16T07:07:54.951Z"
   },
   {
    "duration": 279,
    "start_time": "2022-02-16T07:07:55.309Z"
   },
   {
    "duration": 187,
    "start_time": "2022-02-16T07:07:55.590Z"
   },
   {
    "duration": 179,
    "start_time": "2022-02-16T07:07:55.781Z"
   },
   {
    "duration": 188,
    "start_time": "2022-02-16T07:07:55.962Z"
   },
   {
    "duration": 58,
    "start_time": "2022-02-16T07:07:56.153Z"
   },
   {
    "duration": 337,
    "start_time": "2022-02-16T07:10:38.251Z"
   },
   {
    "duration": 6,
    "start_time": "2022-02-16T07:10:47.524Z"
   },
   {
    "duration": 96,
    "start_time": "2022-02-16T07:11:00.222Z"
   },
   {
    "duration": 26,
    "start_time": "2022-02-16T07:11:08.667Z"
   },
   {
    "duration": 166,
    "start_time": "2022-02-16T07:15:43.358Z"
   },
   {
    "duration": 169,
    "start_time": "2022-02-16T07:15:59.810Z"
   },
   {
    "duration": 174,
    "start_time": "2022-02-16T07:16:17.531Z"
   },
   {
    "duration": 27,
    "start_time": "2022-02-16T07:16:42.503Z"
   },
   {
    "duration": 806,
    "start_time": "2022-02-16T07:16:51.322Z"
   },
   {
    "duration": 5,
    "start_time": "2022-02-16T07:16:52.130Z"
   },
   {
    "duration": 38,
    "start_time": "2022-02-16T07:16:52.138Z"
   },
   {
    "duration": 18,
    "start_time": "2022-02-16T07:16:52.179Z"
   },
   {
    "duration": 29,
    "start_time": "2022-02-16T07:16:52.198Z"
   },
   {
    "duration": 46,
    "start_time": "2022-02-16T07:16:52.229Z"
   },
   {
    "duration": 8,
    "start_time": "2022-02-16T07:16:52.277Z"
   },
   {
    "duration": 9,
    "start_time": "2022-02-16T07:16:52.287Z"
   },
   {
    "duration": 10,
    "start_time": "2022-02-16T07:16:52.299Z"
   },
   {
    "duration": 125,
    "start_time": "2022-02-16T07:16:52.311Z"
   },
   {
    "duration": 17,
    "start_time": "2022-02-16T07:16:52.438Z"
   },
   {
    "duration": 33,
    "start_time": "2022-02-16T07:16:52.458Z"
   },
   {
    "duration": 346,
    "start_time": "2022-02-16T07:16:52.493Z"
   },
   {
    "duration": 17,
    "start_time": "2022-02-16T07:16:52.841Z"
   },
   {
    "duration": 1214,
    "start_time": "2022-02-16T07:16:52.869Z"
   },
   {
    "duration": 19,
    "start_time": "2022-02-16T07:16:54.085Z"
   },
   {
    "duration": 10,
    "start_time": "2022-02-16T07:16:54.106Z"
   },
   {
    "duration": 6,
    "start_time": "2022-02-16T07:16:54.118Z"
   },
   {
    "duration": 55,
    "start_time": "2022-02-16T07:16:54.126Z"
   },
   {
    "duration": 10,
    "start_time": "2022-02-16T07:16:54.183Z"
   },
   {
    "duration": 29,
    "start_time": "2022-02-16T07:16:54.195Z"
   },
   {
    "duration": 1153,
    "start_time": "2022-02-16T07:16:54.225Z"
   },
   {
    "duration": 333,
    "start_time": "2022-02-16T07:16:55.382Z"
   },
   {
    "duration": 343,
    "start_time": "2022-02-16T07:16:55.717Z"
   },
   {
    "duration": 367,
    "start_time": "2022-02-16T07:16:56.062Z"
   },
   {
    "duration": 291,
    "start_time": "2022-02-16T07:16:56.431Z"
   },
   {
    "duration": 317,
    "start_time": "2022-02-16T07:16:56.724Z"
   },
   {
    "duration": -438,
    "start_time": "2022-02-16T07:16:57.481Z"
   },
   {
    "duration": -448,
    "start_time": "2022-02-16T07:16:57.492Z"
   },
   {
    "duration": -454,
    "start_time": "2022-02-16T07:16:57.499Z"
   },
   {
    "duration": -471,
    "start_time": "2022-02-16T07:16:57.517Z"
   },
   {
    "duration": 291,
    "start_time": "2022-02-16T07:19:01.813Z"
   },
   {
    "duration": 244,
    "start_time": "2022-02-16T07:19:37.566Z"
   },
   {
    "duration": 16,
    "start_time": "2022-02-16T07:19:47.180Z"
   },
   {
    "duration": 40,
    "start_time": "2022-02-16T07:21:17.089Z"
   },
   {
    "duration": 167,
    "start_time": "2022-02-16T07:23:19.256Z"
   },
   {
    "duration": 161,
    "start_time": "2022-02-16T07:26:39.109Z"
   },
   {
    "duration": 157,
    "start_time": "2022-02-16T07:28:14.830Z"
   },
   {
    "duration": 14,
    "start_time": "2022-02-16T07:58:57.715Z"
   },
   {
    "duration": 19,
    "start_time": "2022-02-16T08:00:46.282Z"
   },
   {
    "duration": 13,
    "start_time": "2022-02-16T08:01:43.627Z"
   },
   {
    "duration": 90,
    "start_time": "2022-02-16T08:01:54.994Z"
   },
   {
    "duration": 11,
    "start_time": "2022-02-16T08:01:56.917Z"
   },
   {
    "duration": 20,
    "start_time": "2022-02-16T08:02:07.925Z"
   },
   {
    "duration": 21,
    "start_time": "2022-02-16T08:02:24.102Z"
   },
   {
    "duration": 20,
    "start_time": "2022-02-16T08:02:31.244Z"
   },
   {
    "duration": 12,
    "start_time": "2022-02-16T08:02:47.601Z"
   },
   {
    "duration": 843,
    "start_time": "2022-02-16T08:02:54.475Z"
   },
   {
    "duration": 5,
    "start_time": "2022-02-16T08:02:55.320Z"
   },
   {
    "duration": 25,
    "start_time": "2022-02-16T08:02:55.328Z"
   },
   {
    "duration": 34,
    "start_time": "2022-02-16T08:02:55.355Z"
   },
   {
    "duration": 15,
    "start_time": "2022-02-16T08:02:55.391Z"
   },
   {
    "duration": 28,
    "start_time": "2022-02-16T08:02:55.408Z"
   },
   {
    "duration": 42,
    "start_time": "2022-02-16T08:02:55.438Z"
   },
   {
    "duration": 7,
    "start_time": "2022-02-16T08:02:55.483Z"
   },
   {
    "duration": 11,
    "start_time": "2022-02-16T08:02:55.493Z"
   },
   {
    "duration": 15,
    "start_time": "2022-02-16T08:02:55.506Z"
   },
   {
    "duration": 117,
    "start_time": "2022-02-16T08:02:55.523Z"
   },
   {
    "duration": 27,
    "start_time": "2022-02-16T08:02:55.643Z"
   },
   {
    "duration": 25,
    "start_time": "2022-02-16T08:02:55.672Z"
   },
   {
    "duration": 339,
    "start_time": "2022-02-16T08:02:55.699Z"
   },
   {
    "duration": 29,
    "start_time": "2022-02-16T08:02:56.040Z"
   },
   {
    "duration": 1183,
    "start_time": "2022-02-16T08:02:56.071Z"
   },
   {
    "duration": 29,
    "start_time": "2022-02-16T08:02:57.256Z"
   },
   {
    "duration": 10,
    "start_time": "2022-02-16T08:02:57.287Z"
   },
   {
    "duration": 6,
    "start_time": "2022-02-16T08:02:57.299Z"
   },
   {
    "duration": 35,
    "start_time": "2022-02-16T08:02:57.307Z"
   },
   {
    "duration": 33,
    "start_time": "2022-02-16T08:02:57.344Z"
   },
   {
    "duration": 54,
    "start_time": "2022-02-16T08:02:57.380Z"
   },
   {
    "duration": 1082,
    "start_time": "2022-02-16T08:02:57.438Z"
   },
   {
    "duration": 318,
    "start_time": "2022-02-16T08:02:58.522Z"
   },
   {
    "duration": 364,
    "start_time": "2022-02-16T08:02:58.842Z"
   },
   {
    "duration": 326,
    "start_time": "2022-02-16T08:02:59.208Z"
   },
   {
    "duration": 301,
    "start_time": "2022-02-16T08:02:59.536Z"
   },
   {
    "duration": 167,
    "start_time": "2022-02-16T08:02:59.838Z"
   },
   {
    "duration": 183,
    "start_time": "2022-02-16T08:03:00.006Z"
   },
   {
    "duration": 187,
    "start_time": "2022-02-16T08:03:00.191Z"
   },
   {
    "duration": 259,
    "start_time": "2022-02-16T08:03:00.379Z"
   },
   {
    "duration": 182,
    "start_time": "2022-02-16T08:03:00.639Z"
   },
   {
    "duration": 190,
    "start_time": "2022-02-16T08:03:00.822Z"
   },
   {
    "duration": 56,
    "start_time": "2022-02-16T08:03:01.014Z"
   },
   {
    "duration": 19,
    "start_time": "2022-02-16T08:22:36.017Z"
   },
   {
    "duration": 269,
    "start_time": "2022-02-16T08:25:05.099Z"
   },
   {
    "duration": 102,
    "start_time": "2022-02-16T08:25:10.309Z"
   },
   {
    "duration": 4,
    "start_time": "2022-02-16T08:25:10.413Z"
   },
   {
    "duration": 23,
    "start_time": "2022-02-16T08:25:10.419Z"
   },
   {
    "duration": 31,
    "start_time": "2022-02-16T08:25:10.444Z"
   },
   {
    "duration": 13,
    "start_time": "2022-02-16T08:25:10.477Z"
   },
   {
    "duration": 22,
    "start_time": "2022-02-16T08:25:10.492Z"
   },
   {
    "duration": 19,
    "start_time": "2022-02-16T08:25:10.515Z"
   },
   {
    "duration": 35,
    "start_time": "2022-02-16T08:25:10.536Z"
   },
   {
    "duration": 7,
    "start_time": "2022-02-16T08:25:10.574Z"
   },
   {
    "duration": 32,
    "start_time": "2022-02-16T08:25:10.582Z"
   },
   {
    "duration": 108,
    "start_time": "2022-02-16T08:25:10.616Z"
   },
   {
    "duration": 17,
    "start_time": "2022-02-16T08:25:10.726Z"
   },
   {
    "duration": 38,
    "start_time": "2022-02-16T08:25:10.745Z"
   },
   {
    "duration": 326,
    "start_time": "2022-02-16T08:25:10.785Z"
   },
   {
    "duration": 15,
    "start_time": "2022-02-16T08:25:11.113Z"
   },
   {
    "duration": 1133,
    "start_time": "2022-02-16T08:25:11.130Z"
   },
   {
    "duration": 18,
    "start_time": "2022-02-16T08:25:12.265Z"
   },
   {
    "duration": 11,
    "start_time": "2022-02-16T08:25:12.284Z"
   },
   {
    "duration": 5,
    "start_time": "2022-02-16T08:25:15.368Z"
   },
   {
    "duration": 4,
    "start_time": "2022-02-16T08:26:16.783Z"
   },
   {
    "duration": 21,
    "start_time": "2022-02-16T08:28:20.880Z"
   },
   {
    "duration": 18,
    "start_time": "2022-02-16T08:28:31.533Z"
   },
   {
    "duration": 5,
    "start_time": "2022-02-16T08:37:10.721Z"
   },
   {
    "duration": 285,
    "start_time": "2022-02-16T08:40:54.253Z"
   },
   {
    "duration": 261,
    "start_time": "2022-02-16T08:40:59.586Z"
   },
   {
    "duration": 11,
    "start_time": "2022-02-16T08:41:04.654Z"
   },
   {
    "duration": 15,
    "start_time": "2022-02-16T08:41:10.679Z"
   },
   {
    "duration": 248,
    "start_time": "2022-02-16T08:41:42.506Z"
   },
   {
    "duration": 16,
    "start_time": "2022-02-16T08:41:52.444Z"
   },
   {
    "duration": 16,
    "start_time": "2022-02-16T08:42:00.304Z"
   },
   {
    "duration": 9,
    "start_time": "2022-02-16T08:44:43.236Z"
   },
   {
    "duration": 10,
    "start_time": "2022-02-16T08:44:53.041Z"
   },
   {
    "duration": 10,
    "start_time": "2022-02-16T08:45:00.463Z"
   },
   {
    "duration": 17,
    "start_time": "2022-02-16T08:47:46.653Z"
   },
   {
    "duration": 10,
    "start_time": "2022-02-16T08:47:48.433Z"
   },
   {
    "duration": 15,
    "start_time": "2022-02-16T08:49:27.837Z"
   },
   {
    "duration": 1121,
    "start_time": "2022-02-16T08:53:31.981Z"
   },
   {
    "duration": 16,
    "start_time": "2022-02-16T08:53:33.886Z"
   },
   {
    "duration": 2738,
    "start_time": "2022-02-16T08:53:35.258Z"
   },
   {
    "duration": 24,
    "start_time": "2022-02-16T08:59:05.242Z"
   },
   {
    "duration": 28,
    "start_time": "2022-02-16T08:59:25.263Z"
   },
   {
    "duration": 16,
    "start_time": "2022-02-16T08:59:57.449Z"
   },
   {
    "duration": 2018,
    "start_time": "2022-02-16T09:00:00.008Z"
   },
   {
    "duration": 1242,
    "start_time": "2022-02-16T10:26:45.826Z"
   },
   {
    "duration": 545,
    "start_time": "2022-02-16T10:27:06.352Z"
   },
   {
    "duration": 366,
    "start_time": "2022-02-16T10:46:09.381Z"
   },
   {
    "duration": 322,
    "start_time": "2022-02-16T10:46:22.605Z"
   },
   {
    "duration": 256,
    "start_time": "2022-02-16T10:46:46.880Z"
   },
   {
    "duration": 778,
    "start_time": "2022-02-16T10:56:04.924Z"
   },
   {
    "duration": 5,
    "start_time": "2022-02-16T10:56:05.704Z"
   },
   {
    "duration": 22,
    "start_time": "2022-02-16T10:56:05.712Z"
   },
   {
    "duration": 42,
    "start_time": "2022-02-16T10:56:05.736Z"
   },
   {
    "duration": 15,
    "start_time": "2022-02-16T10:56:05.781Z"
   },
   {
    "duration": 20,
    "start_time": "2022-02-16T10:56:05.798Z"
   },
   {
    "duration": 19,
    "start_time": "2022-02-16T10:56:05.821Z"
   },
   {
    "duration": 8,
    "start_time": "2022-02-16T10:56:05.870Z"
   },
   {
    "duration": 7,
    "start_time": "2022-02-16T10:56:06.042Z"
   },
   {
    "duration": 20,
    "start_time": "2022-02-16T10:56:06.051Z"
   },
   {
    "duration": 98,
    "start_time": "2022-02-16T10:56:06.073Z"
   },
   {
    "duration": 16,
    "start_time": "2022-02-16T10:56:06.173Z"
   },
   {
    "duration": 22,
    "start_time": "2022-02-16T10:56:06.191Z"
   },
   {
    "duration": 354,
    "start_time": "2022-02-16T10:56:06.215Z"
   },
   {
    "duration": 17,
    "start_time": "2022-02-16T10:56:06.572Z"
   },
   {
    "duration": 1281,
    "start_time": "2022-02-16T10:56:06.591Z"
   },
   {
    "duration": 19,
    "start_time": "2022-02-16T10:56:07.874Z"
   },
   {
    "duration": 10,
    "start_time": "2022-02-16T10:56:07.895Z"
   },
   {
    "duration": 16,
    "start_time": "2022-02-16T10:56:07.907Z"
   },
   {
    "duration": 14,
    "start_time": "2022-02-16T10:56:07.925Z"
   },
   {
    "duration": 26,
    "start_time": "2022-02-16T10:56:07.941Z"
   },
   {
    "duration": 17,
    "start_time": "2022-02-16T10:56:07.969Z"
   },
   {
    "duration": 15,
    "start_time": "2022-02-16T10:56:07.988Z"
   },
   {
    "duration": 2140,
    "start_time": "2022-02-16T10:56:08.005Z"
   },
   {
    "duration": 386,
    "start_time": "2022-02-16T10:56:10.147Z"
   },
   {
    "duration": 414,
    "start_time": "2022-02-16T10:56:10.534Z"
   },
   {
    "duration": 376,
    "start_time": "2022-02-16T10:56:10.950Z"
   },
   {
    "duration": 480,
    "start_time": "2022-02-16T10:56:11.328Z"
   },
   {
    "duration": 234,
    "start_time": "2022-02-16T10:56:11.810Z"
   },
   {
    "duration": 189,
    "start_time": "2022-02-16T10:56:12.046Z"
   },
   {
    "duration": 194,
    "start_time": "2022-02-16T10:56:12.237Z"
   },
   {
    "duration": 184,
    "start_time": "2022-02-16T10:56:12.433Z"
   },
   {
    "duration": 187,
    "start_time": "2022-02-16T10:56:12.620Z"
   },
   {
    "duration": 197,
    "start_time": "2022-02-16T10:56:12.809Z"
   },
   {
    "duration": 40,
    "start_time": "2022-02-16T10:56:13.009Z"
   },
   {
    "duration": 848,
    "start_time": "2022-02-16T11:09:22.346Z"
   },
   {
    "duration": 5,
    "start_time": "2022-02-16T11:09:23.196Z"
   },
   {
    "duration": 20,
    "start_time": "2022-02-16T11:09:23.203Z"
   },
   {
    "duration": 17,
    "start_time": "2022-02-16T11:09:23.225Z"
   },
   {
    "duration": 13,
    "start_time": "2022-02-16T11:09:23.269Z"
   },
   {
    "duration": 33,
    "start_time": "2022-02-16T11:09:23.284Z"
   },
   {
    "duration": 16,
    "start_time": "2022-02-16T11:09:23.318Z"
   },
   {
    "duration": 14,
    "start_time": "2022-02-16T11:09:23.336Z"
   },
   {
    "duration": 24,
    "start_time": "2022-02-16T11:09:23.353Z"
   },
   {
    "duration": 19,
    "start_time": "2022-02-16T11:09:23.378Z"
   },
   {
    "duration": 105,
    "start_time": "2022-02-16T11:09:24.636Z"
   },
   {
    "duration": 19,
    "start_time": "2022-02-16T11:09:24.743Z"
   },
   {
    "duration": 26,
    "start_time": "2022-02-16T11:09:24.771Z"
   },
   {
    "duration": 359,
    "start_time": "2022-02-16T11:09:24.800Z"
   },
   {
    "duration": 17,
    "start_time": "2022-02-16T11:09:25.169Z"
   },
   {
    "duration": 1261,
    "start_time": "2022-02-16T11:09:25.188Z"
   },
   {
    "duration": 24,
    "start_time": "2022-02-16T11:09:26.451Z"
   },
   {
    "duration": 11,
    "start_time": "2022-02-16T11:09:26.477Z"
   },
   {
    "duration": 38,
    "start_time": "2022-02-16T11:09:26.491Z"
   },
   {
    "duration": 20,
    "start_time": "2022-02-16T11:09:26.532Z"
   },
   {
    "duration": 28,
    "start_time": "2022-02-16T11:09:26.555Z"
   },
   {
    "duration": 17,
    "start_time": "2022-02-16T11:09:26.585Z"
   },
   {
    "duration": 16,
    "start_time": "2022-02-16T11:09:26.604Z"
   },
   {
    "duration": 1940,
    "start_time": "2022-02-16T11:09:26.621Z"
   },
   {
    "duration": 396,
    "start_time": "2022-02-16T11:09:28.562Z"
   },
   {
    "duration": 381,
    "start_time": "2022-02-16T11:09:28.960Z"
   },
   {
    "duration": 415,
    "start_time": "2022-02-16T11:09:29.343Z"
   },
   {
    "duration": 386,
    "start_time": "2022-02-16T11:09:29.769Z"
   },
   {
    "duration": 180,
    "start_time": "2022-02-16T11:09:30.157Z"
   },
   {
    "duration": 189,
    "start_time": "2022-02-16T11:09:30.339Z"
   },
   {
    "duration": 187,
    "start_time": "2022-02-16T11:09:30.530Z"
   },
   {
    "duration": 191,
    "start_time": "2022-02-16T11:09:30.719Z"
   },
   {
    "duration": 193,
    "start_time": "2022-02-16T11:09:30.912Z"
   },
   {
    "duration": 184,
    "start_time": "2022-02-16T11:09:31.107Z"
   },
   {
    "duration": 40,
    "start_time": "2022-02-16T11:09:31.292Z"
   },
   {
    "duration": 44,
    "start_time": "2022-02-16T11:14:39.017Z"
   },
   {
    "duration": 196,
    "start_time": "2022-02-16T11:15:34.292Z"
   },
   {
    "duration": 182,
    "start_time": "2022-02-16T11:15:52.024Z"
   },
   {
    "duration": 173,
    "start_time": "2022-02-16T11:16:42.988Z"
   },
   {
    "duration": 457,
    "start_time": "2022-02-16T11:17:43.995Z"
   },
   {
    "duration": 801,
    "start_time": "2022-02-16T11:18:27.898Z"
   },
   {
    "duration": 5,
    "start_time": "2022-02-16T11:18:28.701Z"
   },
   {
    "duration": 23,
    "start_time": "2022-02-16T11:18:28.709Z"
   },
   {
    "duration": 45,
    "start_time": "2022-02-16T11:18:28.734Z"
   },
   {
    "duration": 14,
    "start_time": "2022-02-16T11:18:28.781Z"
   },
   {
    "duration": 21,
    "start_time": "2022-02-16T11:18:28.797Z"
   },
   {
    "duration": 17,
    "start_time": "2022-02-16T11:18:28.821Z"
   },
   {
    "duration": 33,
    "start_time": "2022-02-16T11:18:28.841Z"
   },
   {
    "duration": 11,
    "start_time": "2022-02-16T11:18:28.876Z"
   },
   {
    "duration": 9,
    "start_time": "2022-02-16T11:18:28.889Z"
   },
   {
    "duration": 132,
    "start_time": "2022-02-16T11:18:28.900Z"
   },
   {
    "duration": 21,
    "start_time": "2022-02-16T11:18:29.034Z"
   },
   {
    "duration": 25,
    "start_time": "2022-02-16T11:18:29.070Z"
   },
   {
    "duration": 350,
    "start_time": "2022-02-16T11:18:29.097Z"
   },
   {
    "duration": 28,
    "start_time": "2022-02-16T11:18:29.449Z"
   },
   {
    "duration": 1290,
    "start_time": "2022-02-16T11:18:29.479Z"
   },
   {
    "duration": 20,
    "start_time": "2022-02-16T11:18:30.772Z"
   },
   {
    "duration": 14,
    "start_time": "2022-02-16T11:18:30.794Z"
   },
   {
    "duration": 22,
    "start_time": "2022-02-16T11:18:30.809Z"
   },
   {
    "duration": 14,
    "start_time": "2022-02-16T11:18:30.833Z"
   },
   {
    "duration": 33,
    "start_time": "2022-02-16T11:18:30.849Z"
   },
   {
    "duration": 19,
    "start_time": "2022-02-16T11:18:30.884Z"
   },
   {
    "duration": 22,
    "start_time": "2022-02-16T11:18:30.905Z"
   },
   {
    "duration": 2025,
    "start_time": "2022-02-16T11:18:30.929Z"
   },
   {
    "duration": 404,
    "start_time": "2022-02-16T11:18:32.957Z"
   },
   {
    "duration": 374,
    "start_time": "2022-02-16T11:18:33.363Z"
   },
   {
    "duration": 395,
    "start_time": "2022-02-16T11:18:33.739Z"
   },
   {
    "duration": 367,
    "start_time": "2022-02-16T11:18:34.136Z"
   },
   {
    "duration": 174,
    "start_time": "2022-02-16T11:18:34.505Z"
   },
   {
    "duration": 183,
    "start_time": "2022-02-16T11:18:34.681Z"
   },
   {
    "duration": 187,
    "start_time": "2022-02-16T11:18:34.869Z"
   },
   {
    "duration": 190,
    "start_time": "2022-02-16T11:18:35.058Z"
   },
   {
    "duration": 195,
    "start_time": "2022-02-16T11:18:35.250Z"
   },
   {
    "duration": 191,
    "start_time": "2022-02-16T11:18:35.448Z"
   },
   {
    "duration": 173,
    "start_time": "2022-02-16T11:18:35.641Z"
   },
   {
    "duration": 177,
    "start_time": "2022-02-16T11:18:35.816Z"
   },
   {
    "duration": 182,
    "start_time": "2022-02-16T11:18:35.995Z"
   },
   {
    "duration": 442,
    "start_time": "2022-02-16T11:24:43.761Z"
   },
   {
    "duration": 965,
    "start_time": "2022-02-16T11:25:09.788Z"
   },
   {
    "duration": 817,
    "start_time": "2022-02-16T11:26:31.229Z"
   },
   {
    "duration": 25,
    "start_time": "2022-02-16T11:26:32.048Z"
   },
   {
    "duration": 22,
    "start_time": "2022-02-16T11:26:32.075Z"
   },
   {
    "duration": 20,
    "start_time": "2022-02-16T11:26:32.099Z"
   },
   {
    "duration": 21,
    "start_time": "2022-02-16T11:26:32.122Z"
   },
   {
    "duration": 28,
    "start_time": "2022-02-16T11:26:32.170Z"
   },
   {
    "duration": 30,
    "start_time": "2022-02-16T11:26:32.201Z"
   },
   {
    "duration": 15,
    "start_time": "2022-02-16T11:26:32.233Z"
   },
   {
    "duration": 13,
    "start_time": "2022-02-16T11:26:32.251Z"
   },
   {
    "duration": 25,
    "start_time": "2022-02-16T11:26:32.270Z"
   },
   {
    "duration": 112,
    "start_time": "2022-02-16T11:26:32.297Z"
   },
   {
    "duration": 18,
    "start_time": "2022-02-16T11:26:32.411Z"
   },
   {
    "duration": 38,
    "start_time": "2022-02-16T11:26:32.431Z"
   },
   {
    "duration": 355,
    "start_time": "2022-02-16T11:26:32.472Z"
   },
   {
    "duration": 17,
    "start_time": "2022-02-16T11:26:32.829Z"
   },
   {
    "duration": 1588,
    "start_time": "2022-02-16T11:26:32.848Z"
   },
   {
    "duration": 34,
    "start_time": "2022-02-16T11:26:34.438Z"
   },
   {
    "duration": 10,
    "start_time": "2022-02-16T11:26:34.474Z"
   },
   {
    "duration": 9,
    "start_time": "2022-02-16T11:26:34.487Z"
   },
   {
    "duration": 15,
    "start_time": "2022-02-16T11:26:34.498Z"
   },
   {
    "duration": 20,
    "start_time": "2022-02-16T11:26:34.515Z"
   },
   {
    "duration": 42,
    "start_time": "2022-02-16T11:26:34.537Z"
   },
   {
    "duration": 15,
    "start_time": "2022-02-16T11:26:34.581Z"
   },
   {
    "duration": 2024,
    "start_time": "2022-02-16T11:26:34.598Z"
   },
   {
    "duration": 419,
    "start_time": "2022-02-16T11:26:36.624Z"
   },
   {
    "duration": 397,
    "start_time": "2022-02-16T11:26:37.045Z"
   },
   {
    "duration": 402,
    "start_time": "2022-02-16T11:26:37.446Z"
   },
   {
    "duration": 381,
    "start_time": "2022-02-16T11:26:37.850Z"
   },
   {
    "duration": 184,
    "start_time": "2022-02-16T11:26:38.233Z"
   },
   {
    "duration": 186,
    "start_time": "2022-02-16T11:26:38.419Z"
   },
   {
    "duration": 194,
    "start_time": "2022-02-16T11:26:38.608Z"
   },
   {
    "duration": 197,
    "start_time": "2022-02-16T11:26:38.804Z"
   },
   {
    "duration": 186,
    "start_time": "2022-02-16T11:26:39.004Z"
   },
   {
    "duration": 196,
    "start_time": "2022-02-16T11:26:39.192Z"
   },
   {
    "duration": 166,
    "start_time": "2022-02-16T11:26:39.390Z"
   },
   {
    "duration": 165,
    "start_time": "2022-02-16T11:26:39.558Z"
   },
   {
    "duration": 165,
    "start_time": "2022-02-16T11:26:39.725Z"
   },
   {
    "duration": 868,
    "start_time": "2022-02-16T11:31:07.408Z"
   },
   {
    "duration": 6,
    "start_time": "2022-02-16T11:31:08.279Z"
   },
   {
    "duration": 41,
    "start_time": "2022-02-16T11:31:08.288Z"
   },
   {
    "duration": 39,
    "start_time": "2022-02-16T11:31:08.332Z"
   },
   {
    "duration": 13,
    "start_time": "2022-02-16T11:31:08.373Z"
   },
   {
    "duration": 20,
    "start_time": "2022-02-16T11:31:08.389Z"
   },
   {
    "duration": 60,
    "start_time": "2022-02-16T11:31:08.412Z"
   },
   {
    "duration": 11,
    "start_time": "2022-02-16T11:31:08.474Z"
   },
   {
    "duration": 11,
    "start_time": "2022-02-16T11:31:08.488Z"
   },
   {
    "duration": 13,
    "start_time": "2022-02-16T11:31:08.502Z"
   },
   {
    "duration": 144,
    "start_time": "2022-02-16T11:31:08.517Z"
   },
   {
    "duration": 20,
    "start_time": "2022-02-16T11:31:08.668Z"
   },
   {
    "duration": 75,
    "start_time": "2022-02-16T11:31:08.691Z"
   },
   {
    "duration": 394,
    "start_time": "2022-02-16T11:31:08.769Z"
   },
   {
    "duration": 19,
    "start_time": "2022-02-16T11:31:09.170Z"
   },
   {
    "duration": 1311,
    "start_time": "2022-02-16T11:31:09.191Z"
   },
   {
    "duration": 20,
    "start_time": "2022-02-16T11:31:10.504Z"
   },
   {
    "duration": 11,
    "start_time": "2022-02-16T11:31:10.525Z"
   },
   {
    "duration": 8,
    "start_time": "2022-02-16T11:31:10.538Z"
   },
   {
    "duration": 33,
    "start_time": "2022-02-16T11:31:10.548Z"
   },
   {
    "duration": 30,
    "start_time": "2022-02-16T11:31:10.583Z"
   },
   {
    "duration": 17,
    "start_time": "2022-02-16T11:31:10.615Z"
   },
   {
    "duration": 44,
    "start_time": "2022-02-16T11:31:10.635Z"
   },
   {
    "duration": 2164,
    "start_time": "2022-02-16T11:31:10.682Z"
   },
   {
    "duration": 433,
    "start_time": "2022-02-16T11:31:12.848Z"
   },
   {
    "duration": 373,
    "start_time": "2022-02-16T11:31:13.283Z"
   },
   {
    "duration": 410,
    "start_time": "2022-02-16T11:31:13.669Z"
   },
   {
    "duration": 428,
    "start_time": "2022-02-16T11:31:14.081Z"
   },
   {
    "duration": 192,
    "start_time": "2022-02-16T11:31:14.510Z"
   },
   {
    "duration": 186,
    "start_time": "2022-02-16T11:31:14.704Z"
   },
   {
    "duration": 182,
    "start_time": "2022-02-16T11:31:14.892Z"
   },
   {
    "duration": 296,
    "start_time": "2022-02-16T11:31:15.076Z"
   },
   {
    "duration": 252,
    "start_time": "2022-02-16T11:31:15.374Z"
   },
   {
    "duration": 208,
    "start_time": "2022-02-16T11:31:15.628Z"
   },
   {
    "duration": 167,
    "start_time": "2022-02-16T11:31:15.838Z"
   },
   {
    "duration": 162,
    "start_time": "2022-02-16T11:31:16.007Z"
   },
   {
    "duration": 160,
    "start_time": "2022-02-16T11:31:16.172Z"
   },
   {
    "duration": 141,
    "start_time": "2022-02-16T11:45:36.616Z"
   },
   {
    "duration": 219,
    "start_time": "2022-02-16T11:45:42.099Z"
   },
   {
    "duration": 141,
    "start_time": "2022-02-16T11:47:48.816Z"
   },
   {
    "duration": 78,
    "start_time": "2022-02-16T11:48:13.935Z"
   },
   {
    "duration": 149,
    "start_time": "2022-02-16T11:48:19.845Z"
   },
   {
    "duration": 137,
    "start_time": "2022-02-16T11:48:30.603Z"
   },
   {
    "duration": 167,
    "start_time": "2022-02-16T11:49:11.207Z"
   },
   {
    "duration": 5505,
    "start_time": "2022-02-16T11:49:52.579Z"
   },
   {
    "duration": 151,
    "start_time": "2022-02-16T11:50:13.826Z"
   },
   {
    "duration": 150,
    "start_time": "2022-02-16T11:50:16.004Z"
   },
   {
    "duration": 815,
    "start_time": "2022-02-16T11:51:58.486Z"
   },
   {
    "duration": 5,
    "start_time": "2022-02-16T11:51:59.303Z"
   },
   {
    "duration": 48,
    "start_time": "2022-02-16T11:51:59.310Z"
   },
   {
    "duration": 18,
    "start_time": "2022-02-16T11:51:59.360Z"
   },
   {
    "duration": 16,
    "start_time": "2022-02-16T11:51:59.380Z"
   },
   {
    "duration": 45,
    "start_time": "2022-02-16T11:51:59.398Z"
   },
   {
    "duration": 48,
    "start_time": "2022-02-16T11:51:59.445Z"
   },
   {
    "duration": 10,
    "start_time": "2022-02-16T11:51:59.496Z"
   },
   {
    "duration": 39,
    "start_time": "2022-02-16T11:51:59.508Z"
   },
   {
    "duration": 28,
    "start_time": "2022-02-16T11:51:59.549Z"
   },
   {
    "duration": 141,
    "start_time": "2022-02-16T11:51:59.579Z"
   },
   {
    "duration": 27,
    "start_time": "2022-02-16T11:51:59.722Z"
   },
   {
    "duration": 47,
    "start_time": "2022-02-16T11:51:59.751Z"
   },
   {
    "duration": 345,
    "start_time": "2022-02-16T11:51:59.800Z"
   },
   {
    "duration": 23,
    "start_time": "2022-02-16T11:52:00.147Z"
   },
   {
    "duration": 1245,
    "start_time": "2022-02-16T11:52:00.172Z"
   },
   {
    "duration": 21,
    "start_time": "2022-02-16T11:52:01.419Z"
   },
   {
    "duration": 11,
    "start_time": "2022-02-16T11:52:01.442Z"
   },
   {
    "duration": 5,
    "start_time": "2022-02-16T11:52:01.470Z"
   },
   {
    "duration": 16,
    "start_time": "2022-02-16T11:52:01.477Z"
   },
   {
    "duration": 20,
    "start_time": "2022-02-16T11:52:01.495Z"
   },
   {
    "duration": 17,
    "start_time": "2022-02-16T11:52:01.516Z"
   },
   {
    "duration": 47,
    "start_time": "2022-02-16T11:52:01.537Z"
   },
   {
    "duration": 2021,
    "start_time": "2022-02-16T11:52:01.586Z"
   },
   {
    "duration": 414,
    "start_time": "2022-02-16T11:52:03.609Z"
   },
   {
    "duration": 489,
    "start_time": "2022-02-16T11:52:04.025Z"
   },
   {
    "duration": 483,
    "start_time": "2022-02-16T11:52:04.515Z"
   },
   {
    "duration": 481,
    "start_time": "2022-02-16T11:52:05.000Z"
   },
   {
    "duration": 186,
    "start_time": "2022-02-16T11:52:05.483Z"
   },
   {
    "duration": 220,
    "start_time": "2022-02-16T11:52:05.671Z"
   },
   {
    "duration": 376,
    "start_time": "2022-02-16T11:52:05.893Z"
   },
   {
    "duration": 199,
    "start_time": "2022-02-16T11:52:06.272Z"
   },
   {
    "duration": 198,
    "start_time": "2022-02-16T11:52:06.473Z"
   },
   {
    "duration": 189,
    "start_time": "2022-02-16T11:52:06.673Z"
   },
   {
    "duration": 169,
    "start_time": "2022-02-16T11:52:06.864Z"
   },
   {
    "duration": 153,
    "start_time": "2022-02-16T11:52:07.035Z"
   },
   {
    "duration": 160,
    "start_time": "2022-02-16T11:52:07.191Z"
   },
   {
    "duration": 16,
    "start_time": "2022-02-16T11:56:02.721Z"
   },
   {
    "duration": 299,
    "start_time": "2022-02-16T11:57:16.602Z"
   },
   {
    "duration": 1333,
    "start_time": "2022-02-16T12:00:14.670Z"
   },
   {
    "duration": 5,
    "start_time": "2022-02-16T12:00:16.005Z"
   },
   {
    "duration": 27,
    "start_time": "2022-02-16T12:00:16.013Z"
   },
   {
    "duration": 35,
    "start_time": "2022-02-16T12:00:16.042Z"
   },
   {
    "duration": 15,
    "start_time": "2022-02-16T12:00:16.079Z"
   },
   {
    "duration": 21,
    "start_time": "2022-02-16T12:00:16.096Z"
   },
   {
    "duration": 20,
    "start_time": "2022-02-16T12:00:16.119Z"
   },
   {
    "duration": 8,
    "start_time": "2022-02-16T12:00:16.169Z"
   },
   {
    "duration": 11,
    "start_time": "2022-02-16T12:00:16.180Z"
   },
   {
    "duration": 12,
    "start_time": "2022-02-16T12:00:16.193Z"
   },
   {
    "duration": 127,
    "start_time": "2022-02-16T12:00:16.207Z"
   },
   {
    "duration": 18,
    "start_time": "2022-02-16T12:00:16.335Z"
   },
   {
    "duration": 36,
    "start_time": "2022-02-16T12:00:16.355Z"
   },
   {
    "duration": 363,
    "start_time": "2022-02-16T12:00:16.393Z"
   },
   {
    "duration": 23,
    "start_time": "2022-02-16T12:00:16.759Z"
   },
   {
    "duration": 1191,
    "start_time": "2022-02-16T12:00:16.785Z"
   },
   {
    "duration": 19,
    "start_time": "2022-02-16T12:00:17.978Z"
   },
   {
    "duration": 11,
    "start_time": "2022-02-16T12:00:17.999Z"
   },
   {
    "duration": 17,
    "start_time": "2022-02-16T12:00:18.012Z"
   },
   {
    "duration": 12,
    "start_time": "2022-02-16T12:00:18.031Z"
   },
   {
    "duration": 37,
    "start_time": "2022-02-16T12:00:18.045Z"
   },
   {
    "duration": 18,
    "start_time": "2022-02-16T12:00:18.084Z"
   },
   {
    "duration": 16,
    "start_time": "2022-02-16T12:00:18.104Z"
   },
   {
    "duration": 2081,
    "start_time": "2022-02-16T12:00:18.122Z"
   },
   {
    "duration": 406,
    "start_time": "2022-02-16T12:00:20.205Z"
   },
   {
    "duration": 332,
    "start_time": "2022-02-16T12:00:20.613Z"
   },
   {
    "duration": 383,
    "start_time": "2022-02-16T12:00:20.949Z"
   },
   {
    "duration": 291,
    "start_time": "2022-02-16T12:00:21.334Z"
   },
   {
    "duration": 186,
    "start_time": "2022-02-16T12:00:21.627Z"
   },
   {
    "duration": 183,
    "start_time": "2022-02-16T12:00:21.816Z"
   },
   {
    "duration": 224,
    "start_time": "2022-02-16T12:00:22.002Z"
   },
   {
    "duration": 190,
    "start_time": "2022-02-16T12:00:22.228Z"
   },
   {
    "duration": 187,
    "start_time": "2022-02-16T12:00:22.420Z"
   },
   {
    "duration": 280,
    "start_time": "2022-02-16T12:00:22.609Z"
   },
   {
    "duration": 156,
    "start_time": "2022-02-16T12:00:22.891Z"
   },
   {
    "duration": 154,
    "start_time": "2022-02-16T12:00:23.049Z"
   },
   {
    "duration": 155,
    "start_time": "2022-02-16T12:00:23.205Z"
   },
   {
    "duration": 20,
    "start_time": "2022-02-16T12:00:23.361Z"
   },
   {
    "duration": 8,
    "start_time": "2022-02-16T12:00:23.384Z"
   },
   {
    "duration": 24,
    "start_time": "2022-02-16T12:00:23.394Z"
   },
   {
    "duration": 80,
    "start_time": "2022-02-16T12:00:23.421Z"
   },
   {
    "duration": 5,
    "start_time": "2022-02-16T12:00:32.580Z"
   },
   {
    "duration": 15,
    "start_time": "2022-02-16T12:01:48.687Z"
   },
   {
    "duration": 6,
    "start_time": "2022-02-16T12:01:51.452Z"
   },
   {
    "duration": 6,
    "start_time": "2022-02-16T12:03:55.410Z"
   },
   {
    "duration": 1325,
    "start_time": "2022-02-16T12:04:06.147Z"
   },
   {
    "duration": 5,
    "start_time": "2022-02-16T12:04:07.475Z"
   },
   {
    "duration": 23,
    "start_time": "2022-02-16T12:04:07.482Z"
   },
   {
    "duration": 18,
    "start_time": "2022-02-16T12:04:07.508Z"
   },
   {
    "duration": 44,
    "start_time": "2022-02-16T12:04:07.528Z"
   },
   {
    "duration": 22,
    "start_time": "2022-02-16T12:04:07.575Z"
   },
   {
    "duration": 18,
    "start_time": "2022-02-16T12:04:07.600Z"
   },
   {
    "duration": 9,
    "start_time": "2022-02-16T12:04:07.621Z"
   },
   {
    "duration": 42,
    "start_time": "2022-02-16T12:04:07.633Z"
   },
   {
    "duration": 15,
    "start_time": "2022-02-16T12:04:07.678Z"
   },
   {
    "duration": 123,
    "start_time": "2022-02-16T12:04:07.695Z"
   },
   {
    "duration": 17,
    "start_time": "2022-02-16T12:04:07.819Z"
   },
   {
    "duration": 40,
    "start_time": "2022-02-16T12:04:07.838Z"
   },
   {
    "duration": 346,
    "start_time": "2022-02-16T12:04:07.879Z"
   },
   {
    "duration": 16,
    "start_time": "2022-02-16T12:04:08.227Z"
   },
   {
    "duration": 1228,
    "start_time": "2022-02-16T12:04:08.244Z"
   },
   {
    "duration": 22,
    "start_time": "2022-02-16T12:04:09.473Z"
   },
   {
    "duration": 13,
    "start_time": "2022-02-16T12:04:09.497Z"
   },
   {
    "duration": 9,
    "start_time": "2022-02-16T12:04:09.512Z"
   },
   {
    "duration": 13,
    "start_time": "2022-02-16T12:04:09.524Z"
   },
   {
    "duration": 51,
    "start_time": "2022-02-16T12:04:09.538Z"
   },
   {
    "duration": 18,
    "start_time": "2022-02-16T12:04:09.591Z"
   },
   {
    "duration": 18,
    "start_time": "2022-02-16T12:04:09.611Z"
   },
   {
    "duration": 2252,
    "start_time": "2022-02-16T12:04:09.631Z"
   },
   {
    "duration": 420,
    "start_time": "2022-02-16T12:04:11.885Z"
   },
   {
    "duration": 350,
    "start_time": "2022-02-16T12:04:12.308Z"
   },
   {
    "duration": 388,
    "start_time": "2022-02-16T12:04:12.663Z"
   },
   {
    "duration": 307,
    "start_time": "2022-02-16T12:04:13.053Z"
   },
   {
    "duration": 195,
    "start_time": "2022-02-16T12:04:13.362Z"
   },
   {
    "duration": 197,
    "start_time": "2022-02-16T12:04:13.559Z"
   },
   {
    "duration": 195,
    "start_time": "2022-02-16T12:04:13.758Z"
   },
   {
    "duration": 198,
    "start_time": "2022-02-16T12:04:13.956Z"
   },
   {
    "duration": 202,
    "start_time": "2022-02-16T12:04:14.156Z"
   },
   {
    "duration": 291,
    "start_time": "2022-02-16T12:04:14.361Z"
   },
   {
    "duration": 191,
    "start_time": "2022-02-16T12:04:14.654Z"
   },
   {
    "duration": 162,
    "start_time": "2022-02-16T12:04:14.847Z"
   },
   {
    "duration": 158,
    "start_time": "2022-02-16T12:04:15.011Z"
   },
   {
    "duration": 14,
    "start_time": "2022-02-16T12:04:15.171Z"
   },
   {
    "duration": 5,
    "start_time": "2022-02-16T12:04:15.186Z"
   },
   {
    "duration": 26,
    "start_time": "2022-02-16T12:04:15.192Z"
   },
   {
    "duration": 5,
    "start_time": "2022-02-16T12:04:15.220Z"
   },
   {
    "duration": 1119,
    "start_time": "2022-02-16T16:27:57.805Z"
   },
   {
    "duration": 7,
    "start_time": "2022-02-16T16:27:58.926Z"
   },
   {
    "duration": 15,
    "start_time": "2022-02-16T16:27:58.935Z"
   },
   {
    "duration": 14,
    "start_time": "2022-02-16T16:27:58.951Z"
   },
   {
    "duration": 11,
    "start_time": "2022-02-16T16:27:58.967Z"
   },
   {
    "duration": 15,
    "start_time": "2022-02-16T16:27:58.979Z"
   },
   {
    "duration": 43,
    "start_time": "2022-02-16T16:27:58.995Z"
   },
   {
    "duration": 7,
    "start_time": "2022-02-16T16:27:59.041Z"
   },
   {
    "duration": 9,
    "start_time": "2022-02-16T16:27:59.050Z"
   },
   {
    "duration": 8,
    "start_time": "2022-02-16T16:27:59.060Z"
   },
   {
    "duration": 106,
    "start_time": "2022-02-16T16:27:59.069Z"
   },
   {
    "duration": 14,
    "start_time": "2022-02-16T16:27:59.177Z"
   },
   {
    "duration": 18,
    "start_time": "2022-02-16T16:27:59.192Z"
   },
   {
    "duration": 271,
    "start_time": "2022-02-16T16:27:59.211Z"
   },
   {
    "duration": 13,
    "start_time": "2022-02-16T16:27:59.483Z"
   },
   {
    "duration": 925,
    "start_time": "2022-02-16T16:27:59.498Z"
   },
   {
    "duration": 16,
    "start_time": "2022-02-16T16:28:00.425Z"
   },
   {
    "duration": 10,
    "start_time": "2022-02-16T16:28:00.442Z"
   },
   {
    "duration": 5,
    "start_time": "2022-02-16T16:28:00.454Z"
   },
   {
    "duration": 9,
    "start_time": "2022-02-16T16:28:00.461Z"
   },
   {
    "duration": 19,
    "start_time": "2022-02-16T16:28:00.471Z"
   },
   {
    "duration": 47,
    "start_time": "2022-02-16T16:28:00.491Z"
   },
   {
    "duration": 19,
    "start_time": "2022-02-16T16:28:00.541Z"
   },
   {
    "duration": 1558,
    "start_time": "2022-02-16T16:28:00.561Z"
   },
   {
    "duration": 302,
    "start_time": "2022-02-16T16:28:02.120Z"
   },
   {
    "duration": 329,
    "start_time": "2022-02-16T16:28:02.424Z"
   },
   {
    "duration": 294,
    "start_time": "2022-02-16T16:28:02.755Z"
   },
   {
    "duration": 210,
    "start_time": "2022-02-16T16:28:03.050Z"
   },
   {
    "duration": 139,
    "start_time": "2022-02-16T16:28:03.262Z"
   },
   {
    "duration": 143,
    "start_time": "2022-02-16T16:28:03.402Z"
   },
   {
    "duration": 154,
    "start_time": "2022-02-16T16:28:03.546Z"
   },
   {
    "duration": 154,
    "start_time": "2022-02-16T16:28:03.702Z"
   },
   {
    "duration": 151,
    "start_time": "2022-02-16T16:28:03.858Z"
   },
   {
    "duration": 159,
    "start_time": "2022-02-16T16:28:04.011Z"
   },
   {
    "duration": 204,
    "start_time": "2022-02-16T16:28:04.172Z"
   },
   {
    "duration": 123,
    "start_time": "2022-02-16T16:28:04.378Z"
   },
   {
    "duration": 121,
    "start_time": "2022-02-16T16:28:04.503Z"
   },
   {
    "duration": 15,
    "start_time": "2022-02-16T16:28:04.626Z"
   },
   {
    "duration": 4,
    "start_time": "2022-02-16T16:28:04.643Z"
   },
   {
    "duration": 16,
    "start_time": "2022-02-16T16:28:04.648Z"
   },
   {
    "duration": 4,
    "start_time": "2022-02-16T16:28:04.665Z"
   },
   {
    "duration": 1142,
    "start_time": "2022-02-24T15:07:40.123Z"
   },
   {
    "duration": 6,
    "start_time": "2022-02-24T15:07:41.267Z"
   },
   {
    "duration": 21,
    "start_time": "2022-02-24T15:07:41.275Z"
   },
   {
    "duration": 17,
    "start_time": "2022-02-24T15:07:41.298Z"
   },
   {
    "duration": 11,
    "start_time": "2022-02-24T15:07:41.316Z"
   },
   {
    "duration": 46,
    "start_time": "2022-02-24T15:07:41.329Z"
   },
   {
    "duration": 18,
    "start_time": "2022-02-24T15:07:41.377Z"
   },
   {
    "duration": 7,
    "start_time": "2022-02-24T15:07:41.396Z"
   },
   {
    "duration": 15,
    "start_time": "2022-02-24T15:07:41.405Z"
   },
   {
    "duration": 8,
    "start_time": "2022-02-24T15:07:41.422Z"
   },
   {
    "duration": 113,
    "start_time": "2022-02-24T15:07:41.431Z"
   },
   {
    "duration": 23,
    "start_time": "2022-02-24T15:07:41.546Z"
   },
   {
    "duration": 22,
    "start_time": "2022-02-24T15:07:41.570Z"
   },
   {
    "duration": 303,
    "start_time": "2022-02-24T15:07:41.593Z"
   },
   {
    "duration": 16,
    "start_time": "2022-02-24T15:07:41.899Z"
   },
   {
    "duration": 1048,
    "start_time": "2022-02-24T15:07:41.916Z"
   },
   {
    "duration": 19,
    "start_time": "2022-02-24T15:07:42.966Z"
   },
   {
    "duration": 11,
    "start_time": "2022-02-24T15:07:42.987Z"
   },
   {
    "duration": 12,
    "start_time": "2022-02-24T15:07:43.000Z"
   },
   {
    "duration": 17,
    "start_time": "2022-02-24T15:07:43.014Z"
   },
   {
    "duration": 39,
    "start_time": "2022-02-24T15:07:43.033Z"
   },
   {
    "duration": 16,
    "start_time": "2022-02-24T15:07:43.074Z"
   },
   {
    "duration": 13,
    "start_time": "2022-02-24T15:07:43.092Z"
   },
   {
    "duration": 1828,
    "start_time": "2022-02-24T15:07:43.107Z"
   },
   {
    "duration": 368,
    "start_time": "2022-02-24T15:07:44.937Z"
   },
   {
    "duration": 308,
    "start_time": "2022-02-24T15:07:45.306Z"
   },
   {
    "duration": 347,
    "start_time": "2022-02-24T15:07:45.619Z"
   },
   {
    "duration": 254,
    "start_time": "2022-02-24T15:07:45.968Z"
   },
   {
    "duration": 159,
    "start_time": "2022-02-24T15:07:46.224Z"
   },
   {
    "duration": 168,
    "start_time": "2022-02-24T15:07:46.385Z"
   },
   {
    "duration": 165,
    "start_time": "2022-02-24T15:07:46.555Z"
   },
   {
    "duration": 170,
    "start_time": "2022-02-24T15:07:46.722Z"
   },
   {
    "duration": 167,
    "start_time": "2022-02-24T15:07:46.894Z"
   },
   {
    "duration": 260,
    "start_time": "2022-02-24T15:07:47.063Z"
   },
   {
    "duration": 138,
    "start_time": "2022-02-24T15:07:47.326Z"
   },
   {
    "duration": 136,
    "start_time": "2022-02-24T15:07:47.466Z"
   },
   {
    "duration": 141,
    "start_time": "2022-02-24T15:07:47.604Z"
   },
   {
    "duration": 23,
    "start_time": "2022-02-24T15:07:47.747Z"
   },
   {
    "duration": 6,
    "start_time": "2022-02-24T15:07:47.772Z"
   },
   {
    "duration": 27,
    "start_time": "2022-02-24T15:07:47.780Z"
   },
   {
    "duration": 6,
    "start_time": "2022-02-24T15:07:47.809Z"
   },
   {
    "duration": 11,
    "start_time": "2022-02-24T15:25:40.748Z"
   },
   {
    "duration": 10,
    "start_time": "2022-02-24T15:26:00.172Z"
   },
   {
    "duration": 6,
    "start_time": "2022-02-24T15:26:36.321Z"
   },
   {
    "duration": 85,
    "start_time": "2022-02-24T17:10:04.938Z"
   },
   {
    "duration": 374,
    "start_time": "2022-02-24T20:57:13.437Z"
   },
   {
    "duration": 1082,
    "start_time": "2022-02-24T20:57:17.057Z"
   },
   {
    "duration": 4,
    "start_time": "2022-02-24T20:57:18.140Z"
   },
   {
    "duration": 18,
    "start_time": "2022-02-24T20:57:18.146Z"
   },
   {
    "duration": 14,
    "start_time": "2022-02-24T20:57:18.165Z"
   },
   {
    "duration": 10,
    "start_time": "2022-02-24T20:57:18.180Z"
   },
   {
    "duration": 14,
    "start_time": "2022-02-24T20:57:18.192Z"
   },
   {
    "duration": 14,
    "start_time": "2022-02-24T20:57:18.208Z"
   },
   {
    "duration": 26,
    "start_time": "2022-02-24T20:57:18.224Z"
   },
   {
    "duration": 7,
    "start_time": "2022-02-24T20:57:18.252Z"
   },
   {
    "duration": 9,
    "start_time": "2022-02-24T20:57:18.260Z"
   },
   {
    "duration": 92,
    "start_time": "2022-02-24T20:57:18.270Z"
   },
   {
    "duration": 14,
    "start_time": "2022-02-24T20:57:18.364Z"
   },
   {
    "duration": 20,
    "start_time": "2022-02-24T20:57:18.379Z"
   },
   {
    "duration": 259,
    "start_time": "2022-02-24T20:57:18.400Z"
   },
   {
    "duration": 14,
    "start_time": "2022-02-24T20:57:18.661Z"
   },
   {
    "duration": 849,
    "start_time": "2022-02-24T20:57:18.676Z"
   },
   {
    "duration": 20,
    "start_time": "2022-02-24T20:57:19.526Z"
   },
   {
    "duration": 8,
    "start_time": "2022-02-24T20:57:19.547Z"
   },
   {
    "duration": 6,
    "start_time": "2022-02-24T20:57:19.556Z"
   },
   {
    "duration": 8,
    "start_time": "2022-02-24T20:57:19.564Z"
   },
   {
    "duration": 15,
    "start_time": "2022-02-24T20:57:22.468Z"
   },
   {
    "duration": 13,
    "start_time": "2022-02-24T20:57:36.360Z"
   },
   {
    "duration": 1123,
    "start_time": "2022-02-24T20:57:54.051Z"
   },
   {
    "duration": 4,
    "start_time": "2022-02-24T20:57:55.176Z"
   },
   {
    "duration": 18,
    "start_time": "2022-02-24T20:57:55.184Z"
   },
   {
    "duration": 13,
    "start_time": "2022-02-24T20:57:55.204Z"
   },
   {
    "duration": 30,
    "start_time": "2022-02-24T20:57:55.218Z"
   },
   {
    "duration": 15,
    "start_time": "2022-02-24T20:57:55.250Z"
   },
   {
    "duration": 12,
    "start_time": "2022-02-24T20:57:55.267Z"
   },
   {
    "duration": 6,
    "start_time": "2022-02-24T20:57:55.280Z"
   },
   {
    "duration": 7,
    "start_time": "2022-02-24T20:57:55.287Z"
   },
   {
    "duration": 6,
    "start_time": "2022-02-24T20:57:55.296Z"
   },
   {
    "duration": 105,
    "start_time": "2022-02-24T20:57:55.303Z"
   },
   {
    "duration": 14,
    "start_time": "2022-02-24T20:57:55.409Z"
   },
   {
    "duration": 30,
    "start_time": "2022-02-24T20:57:55.425Z"
   },
   {
    "duration": 246,
    "start_time": "2022-02-24T20:57:55.456Z"
   },
   {
    "duration": 13,
    "start_time": "2022-02-24T20:57:55.704Z"
   },
   {
    "duration": 859,
    "start_time": "2022-02-24T20:57:55.718Z"
   },
   {
    "duration": 15,
    "start_time": "2022-02-24T20:57:56.579Z"
   },
   {
    "duration": 8,
    "start_time": "2022-02-24T20:57:56.595Z"
   },
   {
    "duration": 9,
    "start_time": "2022-02-24T20:57:56.605Z"
   },
   {
    "duration": 14,
    "start_time": "2022-02-24T20:57:56.616Z"
   },
   {
    "duration": 24,
    "start_time": "2022-02-24T20:57:56.632Z"
   },
   {
    "duration": 12,
    "start_time": "2022-02-24T20:57:56.658Z"
   },
   {
    "duration": 11,
    "start_time": "2022-02-24T20:57:56.671Z"
   },
   {
    "duration": 1288,
    "start_time": "2022-02-24T20:57:56.684Z"
   },
   {
    "duration": 303,
    "start_time": "2022-02-24T20:57:57.974Z"
   },
   {
    "duration": 284,
    "start_time": "2022-02-24T20:57:58.279Z"
   },
   {
    "duration": 304,
    "start_time": "2022-02-24T20:57:58.565Z"
   },
   {
    "duration": 318,
    "start_time": "2022-02-24T20:57:58.871Z"
   },
   {
    "duration": 147,
    "start_time": "2022-02-24T20:57:59.191Z"
   },
   {
    "duration": 147,
    "start_time": "2022-02-24T20:57:59.339Z"
   },
   {
    "duration": 146,
    "start_time": "2022-02-24T20:57:59.487Z"
   },
   {
    "duration": 139,
    "start_time": "2022-02-24T20:57:59.634Z"
   },
   {
    "duration": 144,
    "start_time": "2022-02-24T20:57:59.775Z"
   },
   {
    "duration": 158,
    "start_time": "2022-02-24T20:57:59.921Z"
   },
   {
    "duration": 127,
    "start_time": "2022-02-24T20:58:00.081Z"
   },
   {
    "duration": 200,
    "start_time": "2022-02-24T20:58:00.210Z"
   },
   {
    "duration": 125,
    "start_time": "2022-02-24T20:58:00.412Z"
   },
   {
    "duration": 16,
    "start_time": "2022-02-24T20:58:00.538Z"
   },
   {
    "duration": 8,
    "start_time": "2022-02-24T20:58:00.556Z"
   },
   {
    "duration": 22,
    "start_time": "2022-02-24T20:58:00.565Z"
   },
   {
    "duration": 6,
    "start_time": "2022-02-24T20:58:00.589Z"
   },
   {
    "duration": 1083,
    "start_time": "2022-02-24T21:51:06.013Z"
   },
   {
    "duration": 4,
    "start_time": "2022-02-24T21:51:07.098Z"
   },
   {
    "duration": 17,
    "start_time": "2022-02-24T21:51:07.104Z"
   },
   {
    "duration": 25,
    "start_time": "2022-02-24T21:51:07.122Z"
   },
   {
    "duration": 10,
    "start_time": "2022-02-24T21:51:07.149Z"
   },
   {
    "duration": 15,
    "start_time": "2022-02-24T21:51:07.160Z"
   },
   {
    "duration": 17,
    "start_time": "2022-02-24T21:51:07.176Z"
   },
   {
    "duration": 6,
    "start_time": "2022-02-24T21:51:07.195Z"
   },
   {
    "duration": 6,
    "start_time": "2022-02-24T21:51:07.203Z"
   },
   {
    "duration": 9,
    "start_time": "2022-02-24T21:51:07.210Z"
   },
   {
    "duration": 80,
    "start_time": "2022-02-24T21:51:07.247Z"
   },
   {
    "duration": 26,
    "start_time": "2022-02-24T21:51:07.328Z"
   },
   {
    "duration": 20,
    "start_time": "2022-02-24T21:51:07.356Z"
   },
   {
    "duration": 252,
    "start_time": "2022-02-24T21:51:07.377Z"
   },
   {
    "duration": 19,
    "start_time": "2022-02-24T21:51:07.631Z"
   },
   {
    "duration": 876,
    "start_time": "2022-02-24T21:51:07.651Z"
   },
   {
    "duration": 19,
    "start_time": "2022-02-24T21:51:08.529Z"
   },
   {
    "duration": 9,
    "start_time": "2022-02-24T21:51:08.549Z"
   },
   {
    "duration": 10,
    "start_time": "2022-02-24T21:51:08.560Z"
   },
   {
    "duration": 9,
    "start_time": "2022-02-24T21:51:08.571Z"
   },
   {
    "duration": 16,
    "start_time": "2022-02-24T21:51:08.581Z"
   },
   {
    "duration": 12,
    "start_time": "2022-02-24T21:51:08.598Z"
   },
   {
    "duration": 13,
    "start_time": "2022-02-24T21:51:08.613Z"
   },
   {
    "duration": 1424,
    "start_time": "2022-02-24T21:51:08.628Z"
   },
   {
    "duration": 298,
    "start_time": "2022-02-24T21:51:10.054Z"
   },
   {
    "duration": 284,
    "start_time": "2022-02-24T21:51:10.353Z"
   },
   {
    "duration": 288,
    "start_time": "2022-02-24T21:51:10.646Z"
   },
   {
    "duration": 228,
    "start_time": "2022-02-24T21:51:10.935Z"
   },
   {
    "duration": 150,
    "start_time": "2022-02-24T21:51:11.165Z"
   },
   {
    "duration": 142,
    "start_time": "2022-02-24T21:51:11.317Z"
   },
   {
    "duration": 142,
    "start_time": "2022-02-24T21:51:11.460Z"
   },
   {
    "duration": 148,
    "start_time": "2022-02-24T21:51:11.603Z"
   },
   {
    "duration": 144,
    "start_time": "2022-02-24T21:51:11.752Z"
   },
   {
    "duration": 148,
    "start_time": "2022-02-24T21:51:11.898Z"
   },
   {
    "duration": 118,
    "start_time": "2022-02-24T21:51:12.047Z"
   },
   {
    "duration": 196,
    "start_time": "2022-02-24T21:51:12.167Z"
   },
   {
    "duration": 122,
    "start_time": "2022-02-24T21:51:12.365Z"
   },
   {
    "duration": 11,
    "start_time": "2022-02-24T21:51:12.488Z"
   },
   {
    "duration": 3,
    "start_time": "2022-02-24T21:51:12.501Z"
   },
   {
    "duration": 21,
    "start_time": "2022-02-24T21:51:12.506Z"
   },
   {
    "duration": 18,
    "start_time": "2022-02-24T21:51:12.528Z"
   },
   {
    "duration": 13,
    "start_time": "2022-02-24T21:56:56.434Z"
   },
   {
    "duration": 978,
    "start_time": "2022-02-24T21:56:58.260Z"
   },
   {
    "duration": 270,
    "start_time": "2022-02-24T21:57:41.058Z"
   },
   {
    "duration": 319,
    "start_time": "2022-02-24T22:01:00.529Z"
   },
   {
    "duration": 383,
    "start_time": "2022-02-24T22:04:13.047Z"
   },
   {
    "duration": 287,
    "start_time": "2022-02-24T22:04:35.750Z"
   },
   {
    "duration": 1064,
    "start_time": "2022-02-24T22:04:54.434Z"
   },
   {
    "duration": 4,
    "start_time": "2022-02-24T22:04:55.499Z"
   },
   {
    "duration": 16,
    "start_time": "2022-02-24T22:04:55.506Z"
   },
   {
    "duration": 35,
    "start_time": "2022-02-24T22:04:55.523Z"
   },
   {
    "duration": 11,
    "start_time": "2022-02-24T22:04:55.559Z"
   },
   {
    "duration": 14,
    "start_time": "2022-02-24T22:04:55.571Z"
   },
   {
    "duration": 12,
    "start_time": "2022-02-24T22:04:55.588Z"
   },
   {
    "duration": 6,
    "start_time": "2022-02-24T22:04:55.603Z"
   },
   {
    "duration": 36,
    "start_time": "2022-02-24T22:04:55.611Z"
   },
   {
    "duration": 14,
    "start_time": "2022-02-24T22:04:55.649Z"
   },
   {
    "duration": 123,
    "start_time": "2022-02-24T22:04:55.665Z"
   },
   {
    "duration": 14,
    "start_time": "2022-02-24T22:04:55.789Z"
   },
   {
    "duration": 20,
    "start_time": "2022-02-24T22:04:55.804Z"
   },
   {
    "duration": 265,
    "start_time": "2022-02-24T22:04:55.825Z"
   },
   {
    "duration": 13,
    "start_time": "2022-02-24T22:04:56.092Z"
   },
   {
    "duration": 855,
    "start_time": "2022-02-24T22:04:56.106Z"
   },
   {
    "duration": 15,
    "start_time": "2022-02-24T22:04:56.963Z"
   },
   {
    "duration": 8,
    "start_time": "2022-02-24T22:04:56.980Z"
   },
   {
    "duration": 5,
    "start_time": "2022-02-24T22:04:56.990Z"
   },
   {
    "duration": 8,
    "start_time": "2022-02-24T22:04:56.996Z"
   },
   {
    "duration": 19,
    "start_time": "2022-02-24T22:04:57.006Z"
   },
   {
    "duration": 35,
    "start_time": "2022-02-24T22:04:57.028Z"
   },
   {
    "duration": 20,
    "start_time": "2022-02-24T22:04:57.065Z"
   },
   {
    "duration": 972,
    "start_time": "2022-02-24T22:04:57.086Z"
   },
   {
    "duration": 349,
    "start_time": "2022-02-24T22:04:58.060Z"
   },
   {
    "duration": 278,
    "start_time": "2022-02-24T22:04:58.411Z"
   },
   {
    "duration": 277,
    "start_time": "2022-02-24T22:04:58.691Z"
   },
   {
    "duration": 225,
    "start_time": "2022-02-24T22:04:58.970Z"
   },
   {
    "duration": 149,
    "start_time": "2022-02-24T22:04:59.197Z"
   },
   {
    "duration": 145,
    "start_time": "2022-02-24T22:04:59.347Z"
   },
   {
    "duration": 141,
    "start_time": "2022-02-24T22:04:59.494Z"
   },
   {
    "duration": 145,
    "start_time": "2022-02-24T22:04:59.636Z"
   },
   {
    "duration": 144,
    "start_time": "2022-02-24T22:04:59.783Z"
   },
   {
    "duration": 144,
    "start_time": "2022-02-24T22:04:59.928Z"
   },
   {
    "duration": 120,
    "start_time": "2022-02-24T22:05:00.073Z"
   },
   {
    "duration": 181,
    "start_time": "2022-02-24T22:05:00.195Z"
   },
   {
    "duration": 121,
    "start_time": "2022-02-24T22:05:00.378Z"
   },
   {
    "duration": 12,
    "start_time": "2022-02-24T22:05:00.501Z"
   },
   {
    "duration": 8,
    "start_time": "2022-02-24T22:05:00.515Z"
   },
   {
    "duration": 31,
    "start_time": "2022-02-24T22:05:00.524Z"
   },
   {
    "duration": 4,
    "start_time": "2022-02-24T22:05:00.556Z"
   },
   {
    "duration": 226,
    "start_time": "2022-02-24T22:19:53.953Z"
   },
   {
    "duration": 7230,
    "start_time": "2022-02-24T22:21:14.153Z"
   },
   {
    "duration": 6905,
    "start_time": "2022-02-24T22:21:22.307Z"
   },
   {
    "duration": 7876,
    "start_time": "2022-02-24T22:21:29.641Z"
   },
   {
    "duration": 7909,
    "start_time": "2022-02-24T22:27:07.205Z"
   },
   {
    "duration": 7950,
    "start_time": "2022-02-24T22:27:26.342Z"
   },
   {
    "duration": 7189,
    "start_time": "2022-02-24T22:28:36.805Z"
   },
   {
    "duration": 95,
    "start_time": "2022-02-24T22:30:02.150Z"
   },
   {
    "duration": 7958,
    "start_time": "2022-02-24T22:30:09.713Z"
   },
   {
    "duration": 716,
    "start_time": "2022-02-24T22:30:21.002Z"
   },
   {
    "duration": 7321,
    "start_time": "2022-02-24T22:30:25.704Z"
   },
   {
    "duration": 318,
    "start_time": "2022-02-24T22:39:48.085Z"
   },
   {
    "duration": 297,
    "start_time": "2022-02-24T22:39:56.437Z"
   },
   {
    "duration": 313,
    "start_time": "2022-02-24T22:40:50.014Z"
   },
   {
    "duration": 7140,
    "start_time": "2022-02-24T22:40:58.217Z"
   },
   {
    "duration": 227,
    "start_time": "2022-02-24T22:43:30.553Z"
   },
   {
    "duration": 6807,
    "start_time": "2022-02-24T22:43:41.249Z"
   },
   {
    "duration": 7282,
    "start_time": "2022-02-24T22:47:15.385Z"
   },
   {
    "duration": 7143,
    "start_time": "2022-02-24T22:48:27.479Z"
   },
   {
    "duration": 7004,
    "start_time": "2022-02-24T22:48:38.729Z"
   },
   {
    "duration": 283,
    "start_time": "2022-02-24T22:48:51.591Z"
   },
   {
    "duration": 8628,
    "start_time": "2022-02-24T22:49:03.013Z"
   },
   {
    "duration": 6984,
    "start_time": "2022-02-24T22:49:12.327Z"
   },
   {
    "duration": 7069,
    "start_time": "2022-02-24T22:49:20.999Z"
   },
   {
    "duration": 7600,
    "start_time": "2022-02-24T22:49:34.735Z"
   },
   {
    "duration": 325,
    "start_time": "2022-02-24T22:50:01.759Z"
   },
   {
    "duration": -1463,
    "start_time": "2022-02-24T22:50:20.836Z"
   },
   {
    "duration": 6952,
    "start_time": "2022-02-24T22:50:21.325Z"
   },
   {
    "duration": 6735,
    "start_time": "2022-02-24T22:50:54.345Z"
   },
   {
    "duration": 6808,
    "start_time": "2022-02-24T22:51:02.382Z"
   },
   {
    "duration": 8179,
    "start_time": "2022-02-24T22:51:09.348Z"
   },
   {
    "duration": 7298,
    "start_time": "2022-02-24T22:51:21.975Z"
   },
   {
    "duration": -1452,
    "start_time": "2022-02-24T22:53:02.170Z"
   },
   {
    "duration": 8305,
    "start_time": "2022-02-24T22:53:01.230Z"
   },
   {
    "duration": 301,
    "start_time": "2022-02-24T22:53:36.940Z"
   },
   {
    "duration": 336,
    "start_time": "2022-02-24T22:53:40.311Z"
   },
   {
    "duration": 7550,
    "start_time": "2022-02-24T22:53:45.369Z"
   },
   {
    "duration": 5304,
    "start_time": "2022-02-24T22:54:26.461Z"
   },
   {
    "duration": 318,
    "start_time": "2022-02-24T22:54:34.459Z"
   },
   {
    "duration": 5866,
    "start_time": "2022-02-24T22:54:41.339Z"
   },
   {
    "duration": -1463,
    "start_time": "2022-02-24T22:55:08.236Z"
   },
   {
    "duration": 305,
    "start_time": "2022-02-24T22:55:10.189Z"
   },
   {
    "duration": -1467,
    "start_time": "2022-02-24T22:55:29.990Z"
   },
   {
    "duration": 7471,
    "start_time": "2022-02-24T22:55:31.259Z"
   },
   {
    "duration": 7333,
    "start_time": "2022-02-24T22:55:45.915Z"
   },
   {
    "duration": 218,
    "start_time": "2022-02-24T22:56:45.368Z"
   },
   {
    "duration": 211,
    "start_time": "2022-02-24T22:57:10.264Z"
   },
   {
    "duration": 212,
    "start_time": "2022-02-24T22:57:18.935Z"
   },
   {
    "duration": 7098,
    "start_time": "2022-02-24T22:57:49.522Z"
   },
   {
    "duration": 230,
    "start_time": "2022-02-24T22:58:10.681Z"
   },
   {
    "duration": 1488,
    "start_time": "2022-02-25T06:20:03.981Z"
   },
   {
    "duration": 6,
    "start_time": "2022-02-25T06:20:05.472Z"
   },
   {
    "duration": 27,
    "start_time": "2022-02-25T06:20:05.481Z"
   },
   {
    "duration": 43,
    "start_time": "2022-02-25T06:20:05.511Z"
   },
   {
    "duration": 18,
    "start_time": "2022-02-25T06:20:05.556Z"
   },
   {
    "duration": 26,
    "start_time": "2022-02-25T06:20:05.577Z"
   },
   {
    "duration": 57,
    "start_time": "2022-02-25T06:20:05.605Z"
   },
   {
    "duration": 12,
    "start_time": "2022-02-25T06:20:05.668Z"
   },
   {
    "duration": 11,
    "start_time": "2022-02-25T06:20:05.685Z"
   },
   {
    "duration": 17,
    "start_time": "2022-02-25T06:20:05.699Z"
   },
   {
    "duration": 146,
    "start_time": "2022-02-25T06:20:05.749Z"
   },
   {
    "duration": 24,
    "start_time": "2022-02-25T06:20:05.898Z"
   },
   {
    "duration": 55,
    "start_time": "2022-02-25T06:20:05.924Z"
   },
   {
    "duration": 471,
    "start_time": "2022-02-25T06:20:05.982Z"
   },
   {
    "duration": 24,
    "start_time": "2022-02-25T06:20:06.456Z"
   },
   {
    "duration": 1621,
    "start_time": "2022-02-25T06:20:06.482Z"
   },
   {
    "duration": 42,
    "start_time": "2022-02-25T06:20:08.106Z"
   },
   {
    "duration": 15,
    "start_time": "2022-02-25T06:20:08.150Z"
   },
   {
    "duration": 13,
    "start_time": "2022-02-25T06:20:08.167Z"
   },
   {
    "duration": 12,
    "start_time": "2022-02-25T06:20:08.183Z"
   },
   {
    "duration": 57,
    "start_time": "2022-02-25T06:20:08.198Z"
   },
   {
    "duration": 23,
    "start_time": "2022-02-25T06:20:08.257Z"
   },
   {
    "duration": 19,
    "start_time": "2022-02-25T06:20:08.285Z"
   },
   {
    "duration": 1832,
    "start_time": "2022-02-25T06:20:08.306Z"
   },
   {
    "duration": 595,
    "start_time": "2022-02-25T06:20:10.149Z"
   },
   {
    "duration": 454,
    "start_time": "2022-02-25T06:20:10.749Z"
   },
   {
    "duration": 453,
    "start_time": "2022-02-25T06:20:11.206Z"
   },
   {
    "duration": 442,
    "start_time": "2022-02-25T06:20:11.662Z"
   },
   {
    "duration": 357,
    "start_time": "2022-02-25T06:20:12.108Z"
   },
   {
    "duration": 248,
    "start_time": "2022-02-25T06:20:12.467Z"
   },
   {
    "duration": 246,
    "start_time": "2022-02-25T06:20:12.717Z"
   },
   {
    "duration": 267,
    "start_time": "2022-02-25T06:20:12.966Z"
   },
   {
    "duration": 269,
    "start_time": "2022-02-25T06:20:13.236Z"
   },
   {
    "duration": 260,
    "start_time": "2022-02-25T06:20:13.508Z"
   },
   {
    "duration": 220,
    "start_time": "2022-02-25T06:20:13.771Z"
   },
   {
    "duration": 298,
    "start_time": "2022-02-25T06:20:13.994Z"
   },
   {
    "duration": 223,
    "start_time": "2022-02-25T06:20:14.294Z"
   },
   {
    "duration": 33,
    "start_time": "2022-02-25T06:20:14.520Z"
   },
   {
    "duration": 6,
    "start_time": "2022-02-25T06:20:14.556Z"
   },
   {
    "duration": 17,
    "start_time": "2022-02-25T06:20:14.565Z"
   },
   {
    "duration": 7,
    "start_time": "2022-02-25T06:20:14.584Z"
   },
   {
    "duration": 326,
    "start_time": "2022-02-25T06:42:54.819Z"
   },
   {
    "duration": 1745,
    "start_time": "2022-02-25T06:43:03.809Z"
   },
   {
    "duration": 7,
    "start_time": "2022-02-25T06:43:05.557Z"
   },
   {
    "duration": 24,
    "start_time": "2022-02-25T06:43:05.568Z"
   },
   {
    "duration": 25,
    "start_time": "2022-02-25T06:43:05.650Z"
   },
   {
    "duration": 72,
    "start_time": "2022-02-25T06:43:05.677Z"
   },
   {
    "duration": 31,
    "start_time": "2022-02-25T06:43:05.752Z"
   },
   {
    "duration": 29,
    "start_time": "2022-02-25T06:43:05.785Z"
   },
   {
    "duration": 39,
    "start_time": "2022-02-25T06:43:05.817Z"
   },
   {
    "duration": 17,
    "start_time": "2022-02-25T06:43:05.859Z"
   },
   {
    "duration": 20,
    "start_time": "2022-02-25T06:43:05.878Z"
   },
   {
    "duration": 246,
    "start_time": "2022-02-25T06:43:05.901Z"
   },
   {
    "duration": 27,
    "start_time": "2022-02-25T06:43:06.150Z"
   },
   {
    "duration": 87,
    "start_time": "2022-02-25T06:43:06.180Z"
   },
   {
    "duration": 507,
    "start_time": "2022-02-25T06:43:06.270Z"
   },
   {
    "duration": 24,
    "start_time": "2022-02-25T06:43:06.780Z"
   },
   {
    "duration": 1635,
    "start_time": "2022-02-25T06:43:06.807Z"
   },
   {
    "duration": 29,
    "start_time": "2022-02-25T06:43:08.444Z"
   },
   {
    "duration": 16,
    "start_time": "2022-02-25T06:43:08.475Z"
   },
   {
    "duration": 8,
    "start_time": "2022-02-25T06:43:08.494Z"
   },
   {
    "duration": 17,
    "start_time": "2022-02-25T06:43:08.547Z"
   },
   {
    "duration": 35,
    "start_time": "2022-02-25T06:43:08.567Z"
   },
   {
    "duration": 47,
    "start_time": "2022-02-25T06:43:08.605Z"
   },
   {
    "duration": 22,
    "start_time": "2022-02-25T06:43:08.657Z"
   },
   {
    "duration": 1895,
    "start_time": "2022-02-25T06:43:08.682Z"
   },
   {
    "duration": 623,
    "start_time": "2022-02-25T06:43:10.579Z"
   },
   {
    "duration": 469,
    "start_time": "2022-02-25T06:43:11.205Z"
   },
   {
    "duration": 470,
    "start_time": "2022-02-25T06:43:11.676Z"
   },
   {
    "duration": 1193,
    "start_time": "2022-02-25T06:43:23.139Z"
   },
   {
    "duration": 1530,
    "start_time": "2022-02-25T06:43:36.170Z"
   },
   {
    "duration": 7,
    "start_time": "2022-02-25T06:43:37.703Z"
   },
   {
    "duration": 49,
    "start_time": "2022-02-25T06:43:37.714Z"
   },
   {
    "duration": 22,
    "start_time": "2022-02-25T06:43:37.765Z"
   },
   {
    "duration": 19,
    "start_time": "2022-02-25T06:43:37.789Z"
   },
   {
    "duration": 56,
    "start_time": "2022-02-25T06:43:37.810Z"
   },
   {
    "duration": 22,
    "start_time": "2022-02-25T06:43:37.869Z"
   },
   {
    "duration": 15,
    "start_time": "2022-02-25T06:43:37.893Z"
   },
   {
    "duration": 23,
    "start_time": "2022-02-25T06:43:37.912Z"
   },
   {
    "duration": 9,
    "start_time": "2022-02-25T06:43:37.950Z"
   },
   {
    "duration": 150,
    "start_time": "2022-02-25T06:43:37.962Z"
   },
   {
    "duration": 35,
    "start_time": "2022-02-25T06:43:38.114Z"
   },
   {
    "duration": 35,
    "start_time": "2022-02-25T06:43:38.152Z"
   },
   {
    "duration": 476,
    "start_time": "2022-02-25T06:43:38.189Z"
   },
   {
    "duration": 24,
    "start_time": "2022-02-25T06:43:38.667Z"
   },
   {
    "duration": 1625,
    "start_time": "2022-02-25T06:43:38.693Z"
   },
   {
    "duration": 39,
    "start_time": "2022-02-25T06:43:40.321Z"
   },
   {
    "duration": 15,
    "start_time": "2022-02-25T06:43:40.362Z"
   },
   {
    "duration": 18,
    "start_time": "2022-02-25T06:43:40.379Z"
   },
   {
    "duration": 22,
    "start_time": "2022-02-25T06:43:40.400Z"
   },
   {
    "duration": 51,
    "start_time": "2022-02-25T06:43:40.425Z"
   },
   {
    "duration": 33,
    "start_time": "2022-02-25T06:43:40.478Z"
   },
   {
    "duration": 39,
    "start_time": "2022-02-25T06:43:40.514Z"
   },
   {
    "duration": 1931,
    "start_time": "2022-02-25T06:43:40.555Z"
   },
   {
    "duration": 612,
    "start_time": "2022-02-25T06:43:42.489Z"
   },
   {
    "duration": 498,
    "start_time": "2022-02-25T06:43:43.104Z"
   },
   {
    "duration": 486,
    "start_time": "2022-02-25T06:43:43.609Z"
   },
   {
    "duration": 1346,
    "start_time": "2022-02-25T06:43:44.098Z"
   },
   {
    "duration": 118,
    "start_time": "2022-02-25T06:43:45.450Z"
   },
   {
    "duration": -48,
    "start_time": "2022-02-25T06:43:45.619Z"
   },
   {
    "duration": -58,
    "start_time": "2022-02-25T06:43:45.631Z"
   },
   {
    "duration": -64,
    "start_time": "2022-02-25T06:43:45.638Z"
   },
   {
    "duration": -89,
    "start_time": "2022-02-25T06:43:45.664Z"
   },
   {
    "duration": -97,
    "start_time": "2022-02-25T06:43:45.674Z"
   },
   {
    "duration": -103,
    "start_time": "2022-02-25T06:43:45.681Z"
   },
   {
    "duration": -114,
    "start_time": "2022-02-25T06:43:45.694Z"
   },
   {
    "duration": -126,
    "start_time": "2022-02-25T06:43:45.707Z"
   },
   {
    "duration": -131,
    "start_time": "2022-02-25T06:43:45.714Z"
   },
   {
    "duration": -142,
    "start_time": "2022-02-25T06:43:45.726Z"
   },
   {
    "duration": -154,
    "start_time": "2022-02-25T06:43:45.740Z"
   },
   {
    "duration": -160,
    "start_time": "2022-02-25T06:43:45.747Z"
   },
   {
    "duration": -171,
    "start_time": "2022-02-25T06:43:45.759Z"
   },
   {
    "duration": 1222,
    "start_time": "2022-02-25T06:45:40.276Z"
   },
   {
    "duration": 136,
    "start_time": "2022-02-25T06:53:38.785Z"
   },
   {
    "duration": 26,
    "start_time": "2022-02-25T06:53:38.924Z"
   },
   {
    "duration": 22,
    "start_time": "2022-02-25T06:53:38.953Z"
   },
   {
    "duration": 24,
    "start_time": "2022-02-25T06:53:38.979Z"
   },
   {
    "duration": 57,
    "start_time": "2022-02-25T06:53:39.006Z"
   },
   {
    "duration": 25,
    "start_time": "2022-02-25T06:53:39.066Z"
   },
   {
    "duration": 54,
    "start_time": "2022-02-25T06:53:39.094Z"
   },
   {
    "duration": 10,
    "start_time": "2022-02-25T06:53:39.151Z"
   },
   {
    "duration": 12,
    "start_time": "2022-02-25T06:53:39.165Z"
   },
   {
    "duration": 10,
    "start_time": "2022-02-25T06:53:39.180Z"
   },
   {
    "duration": 179,
    "start_time": "2022-02-25T06:53:39.193Z"
   },
   {
    "duration": 23,
    "start_time": "2022-02-25T06:53:39.374Z"
   },
   {
    "duration": 54,
    "start_time": "2022-02-25T06:53:39.400Z"
   },
   {
    "duration": 482,
    "start_time": "2022-02-25T06:53:39.457Z"
   },
   {
    "duration": 23,
    "start_time": "2022-02-25T06:53:39.950Z"
   },
   {
    "duration": 1841,
    "start_time": "2022-02-25T06:53:39.976Z"
   },
   {
    "duration": 39,
    "start_time": "2022-02-25T06:53:41.820Z"
   },
   {
    "duration": 16,
    "start_time": "2022-02-25T06:53:41.862Z"
   },
   {
    "duration": 27,
    "start_time": "2022-02-25T06:53:41.882Z"
   },
   {
    "duration": 39,
    "start_time": "2022-02-25T06:53:41.912Z"
   },
   {
    "duration": 34,
    "start_time": "2022-02-25T06:53:41.954Z"
   },
   {
    "duration": 23,
    "start_time": "2022-02-25T06:53:41.990Z"
   },
   {
    "duration": 50,
    "start_time": "2022-02-25T06:53:42.016Z"
   },
   {
    "duration": 2251,
    "start_time": "2022-02-25T06:53:42.069Z"
   },
   {
    "duration": 531,
    "start_time": "2022-02-25T06:53:44.323Z"
   },
   {
    "duration": 460,
    "start_time": "2022-02-25T06:53:44.858Z"
   },
   {
    "duration": 477,
    "start_time": "2022-02-25T06:53:45.325Z"
   },
   {
    "duration": 1296,
    "start_time": "2022-02-25T06:53:45.804Z"
   },
   {
    "duration": 284,
    "start_time": "2022-02-25T06:53:47.103Z"
   },
   {
    "duration": 359,
    "start_time": "2022-02-25T06:53:47.389Z"
   },
   {
    "duration": 269,
    "start_time": "2022-02-25T06:53:47.751Z"
   },
   {
    "duration": 268,
    "start_time": "2022-02-25T06:53:48.022Z"
   },
   {
    "duration": 278,
    "start_time": "2022-02-25T06:53:48.293Z"
   },
   {
    "duration": 278,
    "start_time": "2022-02-25T06:53:48.574Z"
   },
   {
    "duration": 229,
    "start_time": "2022-02-25T06:53:48.855Z"
   },
   {
    "duration": 227,
    "start_time": "2022-02-25T06:53:49.087Z"
   },
   {
    "duration": 231,
    "start_time": "2022-02-25T06:53:49.317Z"
   },
   {
    "duration": 19,
    "start_time": "2022-02-25T06:53:49.551Z"
   },
   {
    "duration": 6,
    "start_time": "2022-02-25T06:53:49.573Z"
   },
   {
    "duration": 17,
    "start_time": "2022-02-25T06:53:49.582Z"
   },
   {
    "duration": 7,
    "start_time": "2022-02-25T06:53:49.602Z"
   },
   {
    "duration": 267,
    "start_time": "2022-02-25T06:53:56.065Z"
   },
   {
    "duration": 245,
    "start_time": "2022-02-25T06:55:50.153Z"
   },
   {
    "duration": 242,
    "start_time": "2022-02-25T06:55:55.743Z"
   },
   {
    "duration": 258,
    "start_time": "2022-02-25T06:57:14.044Z"
   },
   {
    "duration": 256,
    "start_time": "2022-02-25T06:58:18.823Z"
   },
   {
    "duration": 245,
    "start_time": "2022-02-25T06:58:39.003Z"
   },
   {
    "duration": 327,
    "start_time": "2022-02-25T06:58:47.465Z"
   },
   {
    "duration": 255,
    "start_time": "2022-02-25T07:00:31.253Z"
   },
   {
    "duration": 199,
    "start_time": "2022-02-25T07:03:03.564Z"
   },
   {
    "duration": 228,
    "start_time": "2022-02-25T07:03:07.046Z"
   },
   {
    "duration": 215,
    "start_time": "2022-02-25T07:03:09.484Z"
   },
   {
    "duration": 1620,
    "start_time": "2022-02-25T07:09:19.160Z"
   },
   {
    "duration": 7,
    "start_time": "2022-02-25T07:09:20.783Z"
   },
   {
    "duration": 24,
    "start_time": "2022-02-25T07:09:20.794Z"
   },
   {
    "duration": 27,
    "start_time": "2022-02-25T07:09:20.849Z"
   },
   {
    "duration": 17,
    "start_time": "2022-02-25T07:09:20.879Z"
   },
   {
    "duration": 55,
    "start_time": "2022-02-25T07:09:20.899Z"
   },
   {
    "duration": 24,
    "start_time": "2022-02-25T07:09:20.957Z"
   },
   {
    "duration": 11,
    "start_time": "2022-02-25T07:09:20.984Z"
   },
   {
    "duration": 10,
    "start_time": "2022-02-25T07:09:21.000Z"
   },
   {
    "duration": 14,
    "start_time": "2022-02-25T07:09:21.050Z"
   },
   {
    "duration": 157,
    "start_time": "2022-02-25T07:09:21.066Z"
   },
   {
    "duration": 32,
    "start_time": "2022-02-25T07:09:21.227Z"
   },
   {
    "duration": 37,
    "start_time": "2022-02-25T07:09:21.261Z"
   },
   {
    "duration": 497,
    "start_time": "2022-02-25T07:09:21.301Z"
   },
   {
    "duration": 23,
    "start_time": "2022-02-25T07:09:21.800Z"
   },
   {
    "duration": 1643,
    "start_time": "2022-02-25T07:09:21.825Z"
   },
   {
    "duration": 28,
    "start_time": "2022-02-25T07:09:23.470Z"
   },
   {
    "duration": 15,
    "start_time": "2022-02-25T07:09:23.501Z"
   },
   {
    "duration": 8,
    "start_time": "2022-02-25T07:09:23.549Z"
   },
   {
    "duration": 14,
    "start_time": "2022-02-25T07:09:23.560Z"
   },
   {
    "duration": 30,
    "start_time": "2022-02-25T07:09:23.576Z"
   },
   {
    "duration": 52,
    "start_time": "2022-02-25T07:09:23.609Z"
   },
   {
    "duration": 24,
    "start_time": "2022-02-25T07:09:23.663Z"
   },
   {
    "duration": 1915,
    "start_time": "2022-02-25T07:09:23.690Z"
   },
   {
    "duration": 600,
    "start_time": "2022-02-25T07:09:25.608Z"
   },
   {
    "duration": 465,
    "start_time": "2022-02-25T07:09:26.210Z"
   },
   {
    "duration": 430,
    "start_time": "2022-02-25T07:09:26.680Z"
   },
   {
    "duration": 1210,
    "start_time": "2022-02-25T07:09:27.112Z"
   },
   {
    "duration": 261,
    "start_time": "2022-02-25T07:09:28.324Z"
   },
   {
    "duration": 262,
    "start_time": "2022-02-25T07:09:28.587Z"
   },
   {
    "duration": 246,
    "start_time": "2022-02-25T07:09:28.851Z"
   },
   {
    "duration": 253,
    "start_time": "2022-02-25T07:09:29.100Z"
   },
   {
    "duration": 262,
    "start_time": "2022-02-25T07:09:29.355Z"
   },
   {
    "duration": 274,
    "start_time": "2022-02-25T07:09:29.620Z"
   },
   {
    "duration": 292,
    "start_time": "2022-02-25T07:09:29.897Z"
   },
   {
    "duration": 230,
    "start_time": "2022-02-25T07:09:30.192Z"
   },
   {
    "duration": 233,
    "start_time": "2022-02-25T07:09:30.424Z"
   },
   {
    "duration": 20,
    "start_time": "2022-02-25T07:09:30.660Z"
   },
   {
    "duration": 6,
    "start_time": "2022-02-25T07:09:30.682Z"
   },
   {
    "duration": 59,
    "start_time": "2022-02-25T07:09:30.691Z"
   },
   {
    "duration": 7,
    "start_time": "2022-02-25T07:09:30.753Z"
   },
   {
    "duration": 1352,
    "start_time": "2022-02-25T10:13:21.186Z"
   },
   {
    "duration": 6,
    "start_time": "2022-02-25T10:13:22.543Z"
   },
   {
    "duration": 26,
    "start_time": "2022-02-25T10:13:22.569Z"
   },
   {
    "duration": 27,
    "start_time": "2022-02-25T10:13:22.598Z"
   },
   {
    "duration": 14,
    "start_time": "2022-02-25T10:13:22.627Z"
   },
   {
    "duration": 22,
    "start_time": "2022-02-25T10:13:22.670Z"
   },
   {
    "duration": 18,
    "start_time": "2022-02-25T10:13:22.694Z"
   },
   {
    "duration": 8,
    "start_time": "2022-02-25T10:13:22.715Z"
   },
   {
    "duration": 23,
    "start_time": "2022-02-25T10:13:22.726Z"
   },
   {
    "duration": 8,
    "start_time": "2022-02-25T10:13:22.769Z"
   },
   {
    "duration": 191,
    "start_time": "2022-02-25T10:13:22.780Z"
   },
   {
    "duration": 19,
    "start_time": "2022-02-25T10:13:22.973Z"
   },
   {
    "duration": 28,
    "start_time": "2022-02-25T10:13:22.993Z"
   },
   {
    "duration": 349,
    "start_time": "2022-02-25T10:13:23.022Z"
   },
   {
    "duration": 17,
    "start_time": "2022-02-25T10:13:23.374Z"
   },
   {
    "duration": 1724,
    "start_time": "2022-02-25T10:13:23.394Z"
   },
   {
    "duration": 22,
    "start_time": "2022-02-25T10:13:25.121Z"
   },
   {
    "duration": 27,
    "start_time": "2022-02-25T10:13:25.145Z"
   },
   {
    "duration": 26,
    "start_time": "2022-02-25T10:13:25.174Z"
   },
   {
    "duration": 32,
    "start_time": "2022-02-25T10:13:25.201Z"
   },
   {
    "duration": 20,
    "start_time": "2022-02-25T10:13:25.234Z"
   },
   {
    "duration": 18,
    "start_time": "2022-02-25T10:13:25.256Z"
   },
   {
    "duration": 19,
    "start_time": "2022-02-25T10:13:25.277Z"
   },
   {
    "duration": 1287,
    "start_time": "2022-02-25T10:13:25.298Z"
   },
   {
    "duration": 488,
    "start_time": "2022-02-25T10:13:26.588Z"
   },
   {
    "duration": 343,
    "start_time": "2022-02-25T10:13:27.079Z"
   },
   {
    "duration": 397,
    "start_time": "2022-02-25T10:13:27.424Z"
   },
   {
    "duration": 789,
    "start_time": "2022-02-25T10:13:27.824Z"
   },
   {
    "duration": 177,
    "start_time": "2022-02-25T10:13:28.616Z"
   },
   {
    "duration": 179,
    "start_time": "2022-02-25T10:13:28.796Z"
   },
   {
    "duration": 172,
    "start_time": "2022-02-25T10:13:28.977Z"
   },
   {
    "duration": 180,
    "start_time": "2022-02-25T10:13:29.151Z"
   },
   {
    "duration": 188,
    "start_time": "2022-02-25T10:13:29.333Z"
   },
   {
    "duration": 269,
    "start_time": "2022-02-25T10:13:29.524Z"
   },
   {
    "duration": 335,
    "start_time": "2022-02-25T10:13:29.796Z"
   },
   {
    "duration": 221,
    "start_time": "2022-02-25T10:13:30.135Z"
   },
   {
    "duration": 229,
    "start_time": "2022-02-25T10:13:30.359Z"
   },
   {
    "duration": 22,
    "start_time": "2022-02-25T10:13:30.590Z"
   },
   {
    "duration": 10,
    "start_time": "2022-02-25T10:13:30.614Z"
   },
   {
    "duration": 47,
    "start_time": "2022-02-25T10:13:30.627Z"
   },
   {
    "duration": 23,
    "start_time": "2022-02-25T10:13:30.677Z"
   },
   {
    "duration": 1689,
    "start_time": "2022-04-29T14:58:19.292Z"
   },
   {
    "duration": 139,
    "start_time": "2022-04-29T14:59:44.454Z"
   },
   {
    "duration": 1650,
    "start_time": "2022-04-29T15:00:04.052Z"
   },
   {
    "duration": 7,
    "start_time": "2022-04-29T15:00:05.705Z"
   },
   {
    "duration": 34,
    "start_time": "2022-04-29T15:00:05.714Z"
   },
   {
    "duration": 51,
    "start_time": "2022-04-29T15:00:05.751Z"
   },
   {
    "duration": 20,
    "start_time": "2022-04-29T15:00:05.805Z"
   },
   {
    "duration": 65,
    "start_time": "2022-04-29T15:00:05.828Z"
   },
   {
    "duration": 24,
    "start_time": "2022-04-29T15:00:05.897Z"
   },
   {
    "duration": 9,
    "start_time": "2022-04-29T15:00:05.923Z"
   },
   {
    "duration": 47,
    "start_time": "2022-04-29T15:00:05.934Z"
   },
   {
    "duration": 10,
    "start_time": "2022-04-29T15:00:05.986Z"
   },
   {
    "duration": 146,
    "start_time": "2022-04-29T15:00:05.998Z"
   },
   {
    "duration": 40,
    "start_time": "2022-04-29T15:00:06.146Z"
   },
   {
    "duration": 35,
    "start_time": "2022-04-29T15:00:06.188Z"
   },
   {
    "duration": 372,
    "start_time": "2022-04-29T15:00:06.225Z"
   },
   {
    "duration": 24,
    "start_time": "2022-04-29T15:00:06.600Z"
   },
   {
    "duration": 1900,
    "start_time": "2022-04-29T15:00:06.626Z"
   },
   {
    "duration": 30,
    "start_time": "2022-04-29T15:00:08.529Z"
   },
   {
    "duration": 43,
    "start_time": "2022-04-29T15:00:08.562Z"
   },
   {
    "duration": 8,
    "start_time": "2022-04-29T15:00:08.608Z"
   },
   {
    "duration": 20,
    "start_time": "2022-04-29T15:00:08.619Z"
   },
   {
    "duration": 61,
    "start_time": "2022-04-29T15:00:08.642Z"
   },
   {
    "duration": 22,
    "start_time": "2022-04-29T15:00:08.706Z"
   },
   {
    "duration": 20,
    "start_time": "2022-04-29T15:00:08.730Z"
   },
   {
    "duration": 1484,
    "start_time": "2022-04-29T15:00:08.752Z"
   },
   {
    "duration": 452,
    "start_time": "2022-04-29T15:00:10.238Z"
   },
   {
    "duration": 278,
    "start_time": "2022-04-29T15:00:10.692Z"
   },
   {
    "duration": 301,
    "start_time": "2022-04-29T15:00:10.972Z"
   },
   {
    "duration": 954,
    "start_time": "2022-04-29T15:00:11.282Z"
   },
   {
    "duration": 238,
    "start_time": "2022-04-29T15:00:12.238Z"
   },
   {
    "duration": 231,
    "start_time": "2022-04-29T15:00:12.482Z"
   },
   {
    "duration": 234,
    "start_time": "2022-04-29T15:00:12.715Z"
   },
   {
    "duration": 234,
    "start_time": "2022-04-29T15:00:12.951Z"
   },
   {
    "duration": 237,
    "start_time": "2022-04-29T15:00:13.187Z"
   },
   {
    "duration": 398,
    "start_time": "2022-04-29T15:00:13.427Z"
   },
   {
    "duration": 277,
    "start_time": "2022-04-29T15:00:13.828Z"
   },
   {
    "duration": 211,
    "start_time": "2022-04-29T15:00:14.108Z"
   },
   {
    "duration": 270,
    "start_time": "2022-04-29T15:00:14.321Z"
   },
   {
    "duration": 23,
    "start_time": "2022-04-29T15:00:14.594Z"
   },
   {
    "duration": 38,
    "start_time": "2022-04-29T15:00:14.620Z"
   },
   {
    "duration": 29,
    "start_time": "2022-04-29T15:00:14.660Z"
   },
   {
    "duration": 6,
    "start_time": "2022-04-29T15:00:14.692Z"
   }
  ],
  "kernelspec": {
   "display_name": "Python 3 (ipykernel)",
   "language": "python",
   "name": "python3"
  },
  "language_info": {
   "codemirror_mode": {
    "name": "ipython",
    "version": 3
   },
   "file_extension": ".py",
   "mimetype": "text/x-python",
   "name": "python",
   "nbconvert_exporter": "python",
   "pygments_lexer": "ipython3",
   "version": "3.9.5"
  },
  "toc": {
   "base_numbering": 1,
   "nav_menu": {},
   "number_sections": true,
   "sideBar": true,
   "skip_h1_title": true,
   "title_cell": "Table of Contents",
   "title_sidebar": "Contents",
   "toc_cell": false,
   "toc_position": {},
   "toc_section_display": true,
   "toc_window_display": false
  }
 },
 "nbformat": 4,
 "nbformat_minor": 2
}
