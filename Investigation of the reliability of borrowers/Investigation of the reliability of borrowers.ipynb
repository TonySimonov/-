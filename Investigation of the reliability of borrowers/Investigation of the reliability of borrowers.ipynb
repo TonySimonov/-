{
 "cells": [
  {
   "cell_type": "markdown",
   "metadata": {},
   "source": [
    "# Исследование надёжности заёмщиков"
   ]
  },
  {
   "cell_type": "markdown",
   "metadata": {},
   "source": [
    "# Содержание\n",
    "\n",
    "Часть 1. Описание проекта.<br>\n",
    "\n",
    "* 1. Описание исследования\n",
    "* 2. Цель исследования\n",
    "\n",
    "Часть 2. Предобработка данных.<br>\n",
    "\n",
    "* 1. Изучение данных\n",
    "* 2. Обработка пропусков\n",
    "* 3. Замена типа данных\n",
    "* 4. Обработка дубликатов\n",
    "\n",
    "Часть 3. Дополнение данных.<br>\n",
    "\n",
    "* 1. Лемматизация\n",
    "* 2. Категоризация данных\n",
    "\n",
    "Часть 4. Исследование зависимостей .<br>\n",
    "\n",
    "* 1. Зависимость между наличием детей и возвратом кредита в срок \n",
    "* 2. Зависимость между семейным положением и возвратом кредита в срок\n",
    "* 3. Зависимость между уровнем дохода и возвратом кредита в срок\n",
    "* 4. Зависимость цели кредита на его возврат в срок\n",
    "\n",
    "Часть 5. Общий вывод.<br>\n",
    "\n",
    "\n",
    "## Часть. Описание проекта\n",
    "### Описание исследования\n",
    "Заказчик — кредитный отдел банка. Нужно разобраться, влияет ли семейное положение и количество детей клиента на факт погашения кредита в срок. Входные данные от банка — статистика о платёжеспособности клиентов.\n",
    "\n",
    "Результаты исследования будут учтены при построении модели кредитного скоринга — специальной системы, которая оценивает способность потенциального заёмщика вернуть кредит банку.\n",
    "\n",
    "### Цели исследования:\n",
    "\n",
    "1. Найти зависимости между семейным положением клиента и возвратом кредита в срок\n",
    "1. Найти зависимости между финансовым положением клиента и возвратом кредита в срок\n",
    "2. Найти зависимость между целями клиентов и возвратом кредита."
   ]
  },
  {
   "cell_type": "markdown",
   "metadata": {},
   "source": [
    "## Часть. Предобработка данных\n",
    "### Изучение данных"
   ]
  },
  {
   "cell_type": "code",
   "execution_count": 1,
   "metadata": {},
   "outputs": [],
   "source": [
    "# Подключение библиотеки pandas\n",
    "import pandas as pd "
   ]
  },
  {
   "cell_type": "code",
   "execution_count": 2,
   "metadata": {},
   "outputs": [
    {
     "data": {
      "text/html": [
       "<div>\n",
       "<style scoped>\n",
       "    .dataframe tbody tr th:only-of-type {\n",
       "        vertical-align: middle;\n",
       "    }\n",
       "\n",
       "    .dataframe tbody tr th {\n",
       "        vertical-align: top;\n",
       "    }\n",
       "\n",
       "    .dataframe thead th {\n",
       "        text-align: right;\n",
       "    }\n",
       "</style>\n",
       "<table border=\"1\" class=\"dataframe\">\n",
       "  <thead>\n",
       "    <tr style=\"text-align: right;\">\n",
       "      <th></th>\n",
       "      <th>children</th>\n",
       "      <th>days_employed</th>\n",
       "      <th>dob_years</th>\n",
       "      <th>education</th>\n",
       "      <th>education_id</th>\n",
       "      <th>family_status</th>\n",
       "      <th>family_status_id</th>\n",
       "      <th>gender</th>\n",
       "      <th>income_type</th>\n",
       "      <th>debt</th>\n",
       "      <th>total_income</th>\n",
       "      <th>purpose</th>\n",
       "    </tr>\n",
       "  </thead>\n",
       "  <tbody>\n",
       "    <tr>\n",
       "      <th>0</th>\n",
       "      <td>1</td>\n",
       "      <td>-8437.673028</td>\n",
       "      <td>42</td>\n",
       "      <td>высшее</td>\n",
       "      <td>0</td>\n",
       "      <td>женат / замужем</td>\n",
       "      <td>0</td>\n",
       "      <td>F</td>\n",
       "      <td>сотрудник</td>\n",
       "      <td>0</td>\n",
       "      <td>253875.639453</td>\n",
       "      <td>покупка жилья</td>\n",
       "    </tr>\n",
       "    <tr>\n",
       "      <th>1</th>\n",
       "      <td>1</td>\n",
       "      <td>-4024.803754</td>\n",
       "      <td>36</td>\n",
       "      <td>среднее</td>\n",
       "      <td>1</td>\n",
       "      <td>женат / замужем</td>\n",
       "      <td>0</td>\n",
       "      <td>F</td>\n",
       "      <td>сотрудник</td>\n",
       "      <td>0</td>\n",
       "      <td>112080.014102</td>\n",
       "      <td>приобретение автомобиля</td>\n",
       "    </tr>\n",
       "    <tr>\n",
       "      <th>2</th>\n",
       "      <td>0</td>\n",
       "      <td>-5623.422610</td>\n",
       "      <td>33</td>\n",
       "      <td>Среднее</td>\n",
       "      <td>1</td>\n",
       "      <td>женат / замужем</td>\n",
       "      <td>0</td>\n",
       "      <td>M</td>\n",
       "      <td>сотрудник</td>\n",
       "      <td>0</td>\n",
       "      <td>145885.952297</td>\n",
       "      <td>покупка жилья</td>\n",
       "    </tr>\n",
       "    <tr>\n",
       "      <th>3</th>\n",
       "      <td>3</td>\n",
       "      <td>-4124.747207</td>\n",
       "      <td>32</td>\n",
       "      <td>среднее</td>\n",
       "      <td>1</td>\n",
       "      <td>женат / замужем</td>\n",
       "      <td>0</td>\n",
       "      <td>M</td>\n",
       "      <td>сотрудник</td>\n",
       "      <td>0</td>\n",
       "      <td>267628.550329</td>\n",
       "      <td>дополнительное образование</td>\n",
       "    </tr>\n",
       "    <tr>\n",
       "      <th>4</th>\n",
       "      <td>0</td>\n",
       "      <td>340266.072047</td>\n",
       "      <td>53</td>\n",
       "      <td>среднее</td>\n",
       "      <td>1</td>\n",
       "      <td>гражданский брак</td>\n",
       "      <td>1</td>\n",
       "      <td>F</td>\n",
       "      <td>пенсионер</td>\n",
       "      <td>0</td>\n",
       "      <td>158616.077870</td>\n",
       "      <td>сыграть свадьбу</td>\n",
       "    </tr>\n",
       "    <tr>\n",
       "      <th>5</th>\n",
       "      <td>0</td>\n",
       "      <td>-926.185831</td>\n",
       "      <td>27</td>\n",
       "      <td>высшее</td>\n",
       "      <td>0</td>\n",
       "      <td>гражданский брак</td>\n",
       "      <td>1</td>\n",
       "      <td>M</td>\n",
       "      <td>компаньон</td>\n",
       "      <td>0</td>\n",
       "      <td>255763.565419</td>\n",
       "      <td>покупка жилья</td>\n",
       "    </tr>\n",
       "    <tr>\n",
       "      <th>6</th>\n",
       "      <td>0</td>\n",
       "      <td>-2879.202052</td>\n",
       "      <td>43</td>\n",
       "      <td>высшее</td>\n",
       "      <td>0</td>\n",
       "      <td>женат / замужем</td>\n",
       "      <td>0</td>\n",
       "      <td>F</td>\n",
       "      <td>компаньон</td>\n",
       "      <td>0</td>\n",
       "      <td>240525.971920</td>\n",
       "      <td>операции с жильем</td>\n",
       "    </tr>\n",
       "    <tr>\n",
       "      <th>7</th>\n",
       "      <td>0</td>\n",
       "      <td>-152.779569</td>\n",
       "      <td>50</td>\n",
       "      <td>СРЕДНЕЕ</td>\n",
       "      <td>1</td>\n",
       "      <td>женат / замужем</td>\n",
       "      <td>0</td>\n",
       "      <td>M</td>\n",
       "      <td>сотрудник</td>\n",
       "      <td>0</td>\n",
       "      <td>135823.934197</td>\n",
       "      <td>образование</td>\n",
       "    </tr>\n",
       "    <tr>\n",
       "      <th>8</th>\n",
       "      <td>2</td>\n",
       "      <td>-6929.865299</td>\n",
       "      <td>35</td>\n",
       "      <td>ВЫСШЕЕ</td>\n",
       "      <td>0</td>\n",
       "      <td>гражданский брак</td>\n",
       "      <td>1</td>\n",
       "      <td>F</td>\n",
       "      <td>сотрудник</td>\n",
       "      <td>0</td>\n",
       "      <td>95856.832424</td>\n",
       "      <td>на проведение свадьбы</td>\n",
       "    </tr>\n",
       "    <tr>\n",
       "      <th>9</th>\n",
       "      <td>0</td>\n",
       "      <td>-2188.756445</td>\n",
       "      <td>41</td>\n",
       "      <td>среднее</td>\n",
       "      <td>1</td>\n",
       "      <td>женат / замужем</td>\n",
       "      <td>0</td>\n",
       "      <td>M</td>\n",
       "      <td>сотрудник</td>\n",
       "      <td>0</td>\n",
       "      <td>144425.938277</td>\n",
       "      <td>покупка жилья для семьи</td>\n",
       "    </tr>\n",
       "  </tbody>\n",
       "</table>\n",
       "</div>"
      ],
      "text/plain": [
       "   children  days_employed  dob_years education  education_id  \\\n",
       "0         1   -8437.673028         42    высшее             0   \n",
       "1         1   -4024.803754         36   среднее             1   \n",
       "2         0   -5623.422610         33   Среднее             1   \n",
       "3         3   -4124.747207         32   среднее             1   \n",
       "4         0  340266.072047         53   среднее             1   \n",
       "5         0    -926.185831         27    высшее             0   \n",
       "6         0   -2879.202052         43    высшее             0   \n",
       "7         0    -152.779569         50   СРЕДНЕЕ             1   \n",
       "8         2   -6929.865299         35    ВЫСШЕЕ             0   \n",
       "9         0   -2188.756445         41   среднее             1   \n",
       "\n",
       "      family_status  family_status_id gender income_type  debt   total_income  \\\n",
       "0   женат / замужем                 0      F   сотрудник     0  253875.639453   \n",
       "1   женат / замужем                 0      F   сотрудник     0  112080.014102   \n",
       "2   женат / замужем                 0      M   сотрудник     0  145885.952297   \n",
       "3   женат / замужем                 0      M   сотрудник     0  267628.550329   \n",
       "4  гражданский брак                 1      F   пенсионер     0  158616.077870   \n",
       "5  гражданский брак                 1      M   компаньон     0  255763.565419   \n",
       "6   женат / замужем                 0      F   компаньон     0  240525.971920   \n",
       "7   женат / замужем                 0      M   сотрудник     0  135823.934197   \n",
       "8  гражданский брак                 1      F   сотрудник     0   95856.832424   \n",
       "9   женат / замужем                 0      M   сотрудник     0  144425.938277   \n",
       "\n",
       "                      purpose  \n",
       "0               покупка жилья  \n",
       "1     приобретение автомобиля  \n",
       "2               покупка жилья  \n",
       "3  дополнительное образование  \n",
       "4             сыграть свадьбу  \n",
       "5               покупка жилья  \n",
       "6           операции с жильем  \n",
       "7                 образование  \n",
       "8       на проведение свадьбы  \n",
       "9     покупка жилья для семьи  "
      ]
     },
     "metadata": {},
     "output_type": "display_data"
    },
    {
     "name": "stdout",
     "output_type": "stream",
     "text": [
      "<class 'pandas.core.frame.DataFrame'>\n",
      "RangeIndex: 21525 entries, 0 to 21524\n",
      "Data columns (total 12 columns):\n",
      " #   Column            Non-Null Count  Dtype  \n",
      "---  ------            --------------  -----  \n",
      " 0   children          21525 non-null  int64  \n",
      " 1   days_employed     19351 non-null  float64\n",
      " 2   dob_years         21525 non-null  int64  \n",
      " 3   education         21525 non-null  object \n",
      " 4   education_id      21525 non-null  int64  \n",
      " 5   family_status     21525 non-null  object \n",
      " 6   family_status_id  21525 non-null  int64  \n",
      " 7   gender            21525 non-null  object \n",
      " 8   income_type       21525 non-null  object \n",
      " 9   debt              21525 non-null  int64  \n",
      " 10  total_income      19351 non-null  float64\n",
      " 11  purpose           21525 non-null  object \n",
      "dtypes: float64(2), int64(5), object(5)\n",
      "memory usage: 2.0+ MB\n"
     ]
    }
   ],
   "source": [
    "# Чтение файла с данными и сохранение в переменную data\n",
    "data = pd.read_csv('/datasets/data.csv') \n",
    "# Вывод первых 10 значений\n",
    "display(data.head(10))\n",
    "# Общая информация о датасете\n",
    "data.info()"
   ]
  },
  {
   "cell_type": "markdown",
   "metadata": {},
   "source": [
    "**Вывод**\n",
    "\n",
    "Строки таблицы содержат данные о заемщиках. Предварительно можно выделить следующие группы данных:\n",
    "1. Общая информация о заемщике:\n",
    "   * 'gender' - пол клиента\n",
    "   * 'dob_years' - возраст клиента в годах\n",
    "2. Семейное положение:\n",
    "   * 'family_status' -  семейное положение\n",
    "   * 'family_status_id' - идентификатор семейного положения\n",
    "   * 'children' - количество детей в семье\n",
    "3. Образование:\n",
    "   * 'education' -  уровень образования клиента \n",
    "   * 'education_id' - идентификатор уровня образования\n",
    "4. Трудоспособность:\n",
    "   * 'income_type' - тип занятости\n",
    "   * 'days_employed' - общий трудовой стаж в днях\n",
    "5. Информация по кредитам:\n",
    "   * 'debt' - имел ли задолженность по возврату кредитов\n",
    "   * 'total_income' - ежемесячный доход\n",
    "   * 'purpose' - цель получения кредита\n",
    "\n",
    "В предоставленных данных встречаются пропуски, некоторые данные написаны в разном регистре."
   ]
  },
  {
   "cell_type": "markdown",
   "metadata": {},
   "source": [
    "### Обработка пропусков"
   ]
  },
  {
   "cell_type": "markdown",
   "metadata": {},
   "source": [
    "Для поиска пропусков воспользуемся методом `'isna()'` и подсчитаем пропуски при помощи метода `'sum()'`."
   ]
  },
  {
   "cell_type": "code",
   "execution_count": 3,
   "metadata": {
    "scrolled": false
   },
   "outputs": [
    {
     "data": {
      "text/plain": [
       "children               0\n",
       "days_employed       2174\n",
       "dob_years              0\n",
       "education              0\n",
       "education_id           0\n",
       "family_status          0\n",
       "family_status_id       0\n",
       "gender                 0\n",
       "income_type            0\n",
       "debt                   0\n",
       "total_income        2174\n",
       "purpose                0\n",
       "dtype: int64"
      ]
     },
     "execution_count": 3,
     "metadata": {},
     "output_type": "execute_result"
    }
   ],
   "source": [
    "# Поиск и подсчет пропусков\n",
    "data.isna().sum()"
   ]
  },
  {
   "cell_type": "markdown",
   "metadata": {},
   "source": [
    "Пропуски находятся в колонках`'days_employed'` и `'total_income'`, причем количество пропусков одинаковое, скорее всего это связано с тем, что если неизвестно количество рабочих дней, то неизвестен и ежемесячный доход. Рассчитаем долю пропусков в колонке."
   ]
  },
  {
   "cell_type": "code",
   "execution_count": 4,
   "metadata": {},
   "outputs": [
    {
     "data": {
      "text/plain": [
       "children             0.00%\n",
       "days_employed       10.10%\n",
       "dob_years            0.00%\n",
       "education            0.00%\n",
       "education_id         0.00%\n",
       "family_status        0.00%\n",
       "family_status_id     0.00%\n",
       "gender               0.00%\n",
       "income_type          0.00%\n",
       "debt                 0.00%\n",
       "total_income        10.10%\n",
       "purpose              0.00%\n",
       "dtype: object"
      ]
     },
     "execution_count": 4,
     "metadata": {},
     "output_type": "execute_result"
    }
   ],
   "source": [
    "# Процент пропусков\n",
    "data.isna().mean().apply('{:.2%}'.format)"
   ]
  },
  {
   "cell_type": "markdown",
   "metadata": {},
   "source": [
    "Пропуски в колонках `'days_employed'` и `'total_income'` занимают около 10% значений в каждой. Игнорировать или удалить эти данные не выход, это может повлиять на результат исследования. При этом большая часть значений в колонке `'days_employed'` отрицательные, возможно это технический сбой (ниже приводится предположение о данных в этой колонке) возпользуемся функцией `'abs()'` для исправления."
   ]
  },
  {
   "cell_type": "code",
   "execution_count": 5,
   "metadata": {},
   "outputs": [
    {
     "name": "stdout",
     "output_type": "stream",
     "text": [
      "Empty DataFrame\n",
      "Columns: [children, days_employed, dob_years, education, education_id, family_status, family_status_id, gender, income_type, debt, total_income, purpose]\n",
      "Index: []\n"
     ]
    }
   ],
   "source": [
    "# Применение abs\n",
    "data['days_employed'] = abs(data['days_employed'])\n",
    "# Проверка\n",
    "print(data[data['days_employed'] <= 0])"
   ]
  },
  {
   "cell_type": "markdown",
   "metadata": {},
   "source": [
    "На выходе получили пустой датасет, следовательно от отрицательных значений избавились.\n",
    "\n",
    "Рассмотрим данные в других колонках: `'children'`, `'dob_years'`, `'gender'`."
   ]
  },
  {
   "cell_type": "code",
   "execution_count": 6,
   "metadata": {},
   "outputs": [
    {
     "name": "stdout",
     "output_type": "stream",
     "text": [
      " 0     14149\n",
      " 1      4818\n",
      " 2      2055\n",
      " 3       330\n",
      " 20       76\n",
      "-1        47\n",
      " 4        41\n",
      " 5         9\n",
      "Name: children, dtype: int64 \n",
      "\n",
      "35    617\n",
      "40    609\n",
      "41    607\n",
      "34    603\n",
      "38    598\n",
      "42    597\n",
      "33    581\n",
      "39    573\n",
      "31    560\n",
      "36    555\n",
      "44    547\n",
      "29    545\n",
      "30    540\n",
      "48    538\n",
      "37    537\n",
      "50    514\n",
      "43    513\n",
      "32    510\n",
      "49    508\n",
      "28    503\n",
      "45    497\n",
      "27    493\n",
      "56    487\n",
      "52    484\n",
      "47    480\n",
      "54    479\n",
      "46    475\n",
      "58    461\n",
      "57    460\n",
      "53    459\n",
      "51    448\n",
      "59    444\n",
      "55    443\n",
      "26    408\n",
      "60    377\n",
      "25    357\n",
      "61    355\n",
      "62    352\n",
      "63    269\n",
      "64    265\n",
      "24    264\n",
      "23    254\n",
      "65    194\n",
      "66    183\n",
      "22    183\n",
      "67    167\n",
      "21    111\n",
      "0     101\n",
      "68     99\n",
      "69     85\n",
      "70     65\n",
      "71     58\n",
      "20     51\n",
      "72     33\n",
      "19     14\n",
      "73      8\n",
      "74      6\n",
      "75      1\n",
      "Name: dob_years, dtype: int64 \n",
      "\n",
      "F      14236\n",
      "M       7288\n",
      "XNA        1\n",
      "Name: gender, dtype: int64\n"
     ]
    }
   ],
   "source": [
    "# Вывод значений и их количества из колонок children, dob_years, gender\n",
    "print(data['children'].value_counts(),'\\n')\n",
    "print(data['dob_years'].value_counts(),'\\n')\n",
    "print(data['gender'].value_counts())"
   ]
  },
  {
   "cell_type": "markdown",
   "metadata": {},
   "source": [
    "Заметим следующие аномалии:\n",
    "1. В колонке `'children'` есть значения \"-1\" и \"20\" в количестве 47 и 76 штук соответственно.Доля этих значения составляет примерно 0,6% от всех значений в колонке. Возможно \"-1\" также подразумевает отсутствие детей в семье, а значение \"20\" связано с опечаткой при вводе данных (мб,конечно и есть люди с 20-ю детьми, но сложно представить, что среди 21 тысячи рандомных пользователей найдется аж 76 таких человек). \n",
    "2. В колонке `'dob_years'` есть 101 значение равное \"0\", что составляет около 0,4% от значений колонки. Возможно это тех. сбой.\n",
    "3. В колонке `'gender'` есть одно значение \"XNA\".\n",
    "\n",
    "Суммарно доля всех этих аномалий составляет около 1% от датасета, что вряд ли может существенно повлиять на результат исследования. Исключим строки с аномальными значениями из датасета при помощи метода `'loc()'`."
   ]
  },
  {
   "cell_type": "code",
   "execution_count": 7,
   "metadata": {},
   "outputs": [
    {
     "name": "stdout",
     "output_type": "stream",
     "text": [
      "0    14079\n",
      "1     4802\n",
      "2     2042\n",
      "3      328\n",
      "4       41\n",
      "5        9\n",
      "Name: children, dtype: int64 \n",
      "\n",
      "35    614\n",
      "41    603\n",
      "40    603\n",
      "34    597\n",
      "38    595\n",
      "42    592\n",
      "33    577\n",
      "39    572\n",
      "31    556\n",
      "36    553\n",
      "44    543\n",
      "29    543\n",
      "48    536\n",
      "30    536\n",
      "37    531\n",
      "43    510\n",
      "50    509\n",
      "32    506\n",
      "49    505\n",
      "28    501\n",
      "45    494\n",
      "27    490\n",
      "52    483\n",
      "56    482\n",
      "47    480\n",
      "54    476\n",
      "46    469\n",
      "58    461\n",
      "57    457\n",
      "53    457\n",
      "51    446\n",
      "55    441\n",
      "59    441\n",
      "26    406\n",
      "60    376\n",
      "25    356\n",
      "61    353\n",
      "62    351\n",
      "63    268\n",
      "64    263\n",
      "24    262\n",
      "23    252\n",
      "65    194\n",
      "22    183\n",
      "66    183\n",
      "67    167\n",
      "21    110\n",
      "68     99\n",
      "69     83\n",
      "70     65\n",
      "71     58\n",
      "20     51\n",
      "72     33\n",
      "19     14\n",
      "73      8\n",
      "74      6\n",
      "75      1\n",
      "Name: dob_years, dtype: int64 \n",
      "\n",
      "F    14083\n",
      "M     7218\n",
      "Name: gender, dtype: int64\n"
     ]
    }
   ],
   "source": [
    "# Удаление аномальных значений\n",
    "data = data.loc[(data['children'] > -1) & (data['children'] < 6)]\n",
    "data = data.loc[data['dob_years'] != 0]\n",
    "data = data.loc[data['gender'] != 'XNA']\n",
    "\n",
    "# Проверка результата \n",
    "print(data['children'].value_counts(),'\\n')\n",
    "print(data['dob_years'].value_counts(),'\\n')\n",
    "print(data['gender'].value_counts())"
   ]
  },
  {
   "cell_type": "markdown",
   "metadata": {},
   "source": [
    "Для более точного заполнения пропусков можно связать стаж (`'days_employed'`) с возрастом (`'dob_years'`), а доход (`'total_income'`) с должностью (`'income_type'`), для этого:\n",
    "1. Найдем уникальные значения для колонок `'dob_years'` и `'income_type'`, для этого воспользуемся методом `'unique()'`.\n",
    "\n",
    "\n",
    "2. Запустим цикл по уникальным значениям.\n",
    "\n",
    "\n",
    "3. Заменим пропуски методом `'loc'`, в колонках которые удовлетворяют двум условиям:\n",
    "    * содержат пропуски;\n",
    "    * соответствуют уникальному значению.\n",
    "   \n",
    "   Замена пропусков производится на медиальные значения при помощи метода `'median()'`. Медианы рассчитываются для каждого уникального значения."
   ]
  },
  {
   "cell_type": "code",
   "execution_count": 8,
   "metadata": {},
   "outputs": [],
   "source": [
    "# Функция замены пропусков медианным значением \n",
    "# на вход подаем список уникальных значений, имя колонки уникальных значений, имя колонки с пропусками \n",
    "def med(uniq_value, col_1, col_2):\n",
    "    for uniq in uniq_value:\n",
    "        data.loc[(data[col_2].isna()) & (data[col_1] == uniq), col_2] = data[data[col_1] == uniq][col_2].median()"
   ]
  },
  {
   "cell_type": "code",
   "execution_count": 9,
   "metadata": {},
   "outputs": [
    {
     "data": {
      "text/plain": [
       "children            0\n",
       "days_employed       0\n",
       "dob_years           0\n",
       "education           0\n",
       "education_id        0\n",
       "family_status       0\n",
       "family_status_id    0\n",
       "gender              0\n",
       "income_type         0\n",
       "debt                0\n",
       "total_income        0\n",
       "purpose             0\n",
       "dtype: int64"
      ]
     },
     "execution_count": 9,
     "metadata": {},
     "output_type": "execute_result"
    }
   ],
   "source": [
    "# Применение функции med\n",
    "med(data['income_type'].unique(), 'income_type', 'total_income')\n",
    "med(data['dob_years'].unique(), 'dob_years', 'days_employed')\n",
    "    \n",
    "# Проверка результата    \n",
    "data.isna().sum()"
   ]
  },
  {
   "cell_type": "markdown",
   "metadata": {},
   "source": [
    "**Вывод**"
   ]
  },
  {
   "cell_type": "markdown",
   "metadata": {},
   "source": [
    "На этапе обработки пропусков, найденые пропуски в  колонках `'days_employed'` и `'total_income'` были заменены на медианные значения. Также в ходе исследования данных были обнаружены аномальные значения в колонках`'children'`, `'dob_years'` и `'gender'`. Т.к. суммарно аномальные значения составляли около 1% от датасета, их влияние на исследование несущественно и ими можно пренебречь."
   ]
  },
  {
   "cell_type": "markdown",
   "metadata": {},
   "source": [
    "### Замена типа данных"
   ]
  },
  {
   "cell_type": "markdown",
   "metadata": {},
   "source": [
    "Заменим тип данных в колонках `'days_employed'` и `'total_income'` с вещественного на целочисленный. Для работы с данными и выполнения исследования целочисленного типа будет хватать. Т.к. значения в колонках уже имеют тип данных float, то для перевода в int достаточно будет воспользоваться методом `'astype'`."
   ]
  },
  {
   "cell_type": "code",
   "execution_count": 10,
   "metadata": {},
   "outputs": [
    {
     "name": "stdout",
     "output_type": "stream",
     "text": [
      "<class 'pandas.core.frame.DataFrame'>\n",
      "Int64Index: 21301 entries, 0 to 21524\n",
      "Data columns (total 12 columns):\n",
      " #   Column            Non-Null Count  Dtype \n",
      "---  ------            --------------  ----- \n",
      " 0   children          21301 non-null  int64 \n",
      " 1   days_employed     21301 non-null  int64 \n",
      " 2   dob_years         21301 non-null  int64 \n",
      " 3   education         21301 non-null  object\n",
      " 4   education_id      21301 non-null  int64 \n",
      " 5   family_status     21301 non-null  object\n",
      " 6   family_status_id  21301 non-null  int64 \n",
      " 7   gender            21301 non-null  object\n",
      " 8   income_type       21301 non-null  object\n",
      " 9   debt              21301 non-null  int64 \n",
      " 10  total_income      21301 non-null  int64 \n",
      " 11  purpose           21301 non-null  object\n",
      "dtypes: int64(7), object(5)\n",
      "memory usage: 2.1+ MB\n"
     ]
    }
   ],
   "source": [
    "# Замена типа данных в колонках days_employed и total_income при помощи метода astype\n",
    "data['days_employed'] = data['days_employed'].astype('int')\n",
    "data['total_income'] = data['total_income'].astype('int')\n",
    "# Проверка результата\n",
    "data.info()"
   ]
  },
  {
   "cell_type": "markdown",
   "metadata": {},
   "source": [
    "**Предположение по поводу значений в `'days_employed'`:**"
   ]
  },
  {
   "cell_type": "markdown",
   "metadata": {},
   "source": [
    "Возможно они заданы в минутах, а отрицательные значения это техническая ошибка. Вообще идея была следующая:\n",
    "* рабочая неделя это 40 часов;\n",
    "* в году 52 недели.\n",
    "\n",
    "Следовательно 1 год = 2080 рабочих часов. Если в колонке заданы часы, то на примере 4ой строки, при возрасте 53 года максимальный стаж будет равен  (53 - 16) * 2080 = 76960 часов, и никак не дотягивает до 340266."
   ]
  },
  {
   "cell_type": "markdown",
   "metadata": {},
   "source": [
    "**Вывод**"
   ]
  },
  {
   "cell_type": "markdown",
   "metadata": {},
   "source": [
    "Проверка результата показывает, что значения в столбцах `'days_employed'` и `'total_income'` сменились на целочисленные."
   ]
  },
  {
   "cell_type": "markdown",
   "metadata": {},
   "source": [
    "### Обработка дубликатов"
   ]
  },
  {
   "cell_type": "markdown",
   "metadata": {},
   "source": [
    "Для проверки датасета на дубликаты воспользуемся методом `'value_counts'`."
   ]
  },
  {
   "cell_type": "code",
   "execution_count": 11,
   "metadata": {},
   "outputs": [
    {
     "name": "stdout",
     "output_type": "stream",
     "text": [
      "среднее                13609\n",
      "высшее                  4666\n",
      "СРЕДНЕЕ                  764\n",
      "Среднее                  700\n",
      "неоконченное высшее      662\n",
      "ВЫСШЕЕ                   270\n",
      "Высшее                   266\n",
      "начальное                250\n",
      "Неоконченное высшее       47\n",
      "НЕОКОНЧЕННОЕ ВЫСШЕЕ       29\n",
      "НАЧАЛЬНОЕ                 17\n",
      "Начальное                 15\n",
      "ученая степень             4\n",
      "УЧЕНАЯ СТЕПЕНЬ             1\n",
      "Ученая степень             1\n",
      "Name: education, dtype: int64 \n",
      "\n",
      "женат / замужем          12254\n",
      "гражданский брак          4138\n",
      "Не женат / не замужем     2783\n",
      "в разводе                 1179\n",
      "вдовец / вдова             947\n",
      "Name: family_status, dtype: int64 \n",
      "\n",
      "сотрудник          10996\n",
      "компаньон           5033\n",
      "пенсионер           3819\n",
      "госслужащий         1447\n",
      "безработный            2\n",
      "предприниматель        2\n",
      "студент                1\n",
      "в декрете              1\n",
      "Name: income_type, dtype: int64\n"
     ]
    }
   ],
   "source": [
    "# Поиск дубликатов в колонке education\n",
    "print(data['education'].value_counts(), '\\n')\n",
    "# Поиск дубликатов в колонке family_status\n",
    "print(data['family_status'].value_counts(), '\\n')\n",
    "# Поиск дубликатов в колонке income_type\n",
    "print(data['income_type'].value_counts())"
   ]
  },
  {
   "cell_type": "markdown",
   "metadata": {},
   "source": [
    "Дубликаты обнаружены только в колонке `'education'`, причем связаны они с регистром, в других колонках дубликатов нет. Колонка `'purpose'` не рассматривалась, т.к. там  необходимо провести лемматизацию.\n",
    "Чтобы избавиться от дубликатов приведем все данные к нижнему регистру при помощи метода `'lower()'`."
   ]
  },
  {
   "cell_type": "code",
   "execution_count": 12,
   "metadata": {},
   "outputs": [
    {
     "data": {
      "text/plain": [
       "среднее                15073\n",
       "высшее                  5202\n",
       "неоконченное высшее      738\n",
       "начальное                282\n",
       "ученая степень             6\n",
       "Name: education, dtype: int64"
      ]
     },
     "execution_count": 12,
     "metadata": {},
     "output_type": "execute_result"
    }
   ],
   "source": [
    "# Смена регистра методом lower\n",
    "data['education'] = data['education'].str.lower()\n",
    "# Проверка результата\n",
    "data['education'].value_counts()"
   ]
  },
  {
   "cell_type": "markdown",
   "metadata": {},
   "source": [
    "Таким образом избавились от неявных дубликатов, теперь проверим датасет на наличие явных дубликатов при помощи метода `'duplicated()'`."
   ]
  },
  {
   "cell_type": "code",
   "execution_count": 13,
   "metadata": {},
   "outputs": [
    {
     "data": {
      "text/plain": [
       "71"
      ]
     },
     "execution_count": 13,
     "metadata": {},
     "output_type": "execute_result"
    }
   ],
   "source": [
    "# Проверка на явные дубликаты\n",
    "data.duplicated().sum()"
   ]
  },
  {
   "cell_type": "markdown",
   "metadata": {},
   "source": [
    "В датасете 71 явный дубликат, избавимся от них методом `'drop_duplicates()'`, а также обновим индексацию датасета методом `'reset_index()'`."
   ]
  },
  {
   "cell_type": "code",
   "execution_count": 14,
   "metadata": {},
   "outputs": [
    {
     "data": {
      "text/plain": [
       "0"
      ]
     },
     "execution_count": 14,
     "metadata": {},
     "output_type": "execute_result"
    }
   ],
   "source": [
    "# Удаление дубликатов\n",
    "data = data.drop_duplicates().reset_index(drop=True)\n",
    "# Проверка\n",
    "data.duplicated().sum()"
   ]
  },
  {
   "cell_type": "markdown",
   "metadata": {},
   "source": [
    "**Вывод**"
   ]
  },
  {
   "cell_type": "markdown",
   "metadata": {},
   "source": [
    "На данном этапе избавились от явных и неявных дубликатов в датасете."
   ]
  },
  {
   "cell_type": "markdown",
   "metadata": {},
   "source": [
    "## Часть. Дополнение данных \n",
    "### Лемматизация"
   ]
  },
  {
   "cell_type": "markdown",
   "metadata": {},
   "source": [
    "Лемматизацию необходимо провести для колонки `'purpose'`. Для этого выведем уникальные значения данной колонки при помощи метода `'value_counts()'`."
   ]
  },
  {
   "cell_type": "code",
   "execution_count": 15,
   "metadata": {},
   "outputs": [
    {
     "data": {
      "text/plain": [
       "свадьба                                   785\n",
       "на проведение свадьбы                     759\n",
       "сыграть свадьбу                           755\n",
       "операции с недвижимостью                  669\n",
       "покупка коммерческой недвижимости         655\n",
       "покупка жилья для сдачи                   647\n",
       "операции с коммерческой недвижимостью     643\n",
       "операции с жильем                         641\n",
       "покупка жилья для семьи                   636\n",
       "жилье                                     635\n",
       "покупка жилья                             634\n",
       "недвижимость                              627\n",
       "строительство собственной недвижимости    626\n",
       "операции со своей недвижимостью           623\n",
       "строительство недвижимости                619\n",
       "покупка своего жилья                      618\n",
       "строительство жилой недвижимости          617\n",
       "покупка недвижимости                      612\n",
       "ремонт жилью                              602\n",
       "покупка жилой недвижимости                599\n",
       "на покупку своего автомобиля              501\n",
       "заняться высшим образованием              493\n",
       "автомобиль                                487\n",
       "сделка с подержанным автомобилем          479\n",
       "автомобили                                474\n",
       "на покупку подержанного автомобиля        471\n",
       "свой автомобиль                           470\n",
       "на покупку автомобиля                     465\n",
       "приобретение автомобиля                   457\n",
       "сделка с автомобилем                      454\n",
       "дополнительное образование                453\n",
       "высшее образование                        443\n",
       "получение дополнительного образования     442\n",
       "образование                               439\n",
       "получение образования                     439\n",
       "профильное образование                    431\n",
       "получение высшего образования             423\n",
       "заняться образованием                     407\n",
       "Name: purpose, dtype: int64"
      ]
     },
     "execution_count": 15,
     "metadata": {},
     "output_type": "execute_result"
    }
   ],
   "source": [
    "# Вывод уникальных значений\n",
    "data['purpose'].value_counts()"
   ]
  },
  {
   "cell_type": "markdown",
   "metadata": {},
   "source": [
    "В качестве основных лемм можно выделить следующие: свадьба, недвижимость, автомобиль, образование. На основании этого предлагается добавить выделенные леммы в колонке `'simple_purpose'`.  "
   ]
  },
  {
   "cell_type": "code",
   "execution_count": 16,
   "metadata": {},
   "outputs": [],
   "source": [
    "# Импрот pymystem3\n",
    "from pymystem3 import Mystem\n",
    "m = Mystem()\n",
    "\n",
    "# Функция, которая возвращает лемму\n",
    "def lemma(elem):\n",
    "    lemmas = m.lemmatize(elem) #выполняем лемматизацию \n",
    "    if 'свадьба' in lemmas:    #здесь и далее ищем, есть ли в списке лемм нужная нам\n",
    "        return 'свадьба'\n",
    "    elif 'автомобиль' in lemmas:\n",
    "        return 'автомобиль'\n",
    "    elif 'образование' in lemmas:\n",
    "        return 'образование'\n",
    "    elif 'жилье' in lemmas:\n",
    "        return 'недвижимость'\n",
    "    elif 'недвижимость' in lemmas:\n",
    "        return 'недвижимость'\n"
   ]
  },
  {
   "cell_type": "code",
   "execution_count": 17,
   "metadata": {},
   "outputs": [
    {
     "data": {
      "text/plain": [
       "недвижимость    10703\n",
       "автомобиль       4258\n",
       "образование      3970\n",
       "свадьба          2299\n",
       "Name: simple_purpose, dtype: int64"
      ]
     },
     "execution_count": 17,
     "metadata": {},
     "output_type": "execute_result"
    }
   ],
   "source": [
    "# Применение функции lemma\n",
    "\n",
    "# Добавляем столбец simple_purpose в датафрейм  \n",
    "data['simple_purpose'] = data['purpose'].apply(lemma) \n",
    "# Проверяем результат\n",
    "data['simple_purpose'].value_counts()"
   ]
  },
  {
   "cell_type": "markdown",
   "metadata": {},
   "source": [
    "**Вывод**"
   ]
  },
  {
   "cell_type": "markdown",
   "metadata": {},
   "source": [
    "Выполнениа лемматизация и добавлена колонка `'simple_purpose'`. "
   ]
  },
  {
   "cell_type": "markdown",
   "metadata": {},
   "source": [
    "### Категоризация данных"
   ]
  },
  {
   "cell_type": "markdown",
   "metadata": {},
   "source": [
    "На основаниии вопросов, на которые надо ответить в исследовании, следует категоризировать данные по следующим параметрам:\n",
    "1. возрасту (создание классификации по возрасту)\n",
    "2. наличию детей (создание классификации по количеству детей)\n",
    "3. уровню дохода (создание классификации по доходу) \n",
    "4. семейному статусу (создание словаря, включающего статус семьи и id статуса)\n",
    "5. образованию (создание словаря, включающего статус образования и id статуса)."
   ]
  },
  {
   "cell_type": "code",
   "execution_count": 18,
   "metadata": {},
   "outputs": [
    {
     "data": {
      "text/plain": [
       "{0: 'женат / замужем',\n",
       " 1: 'гражданский брак',\n",
       " 2: 'вдовец / вдова',\n",
       " 3: 'в разводе',\n",
       " 4: 'Не женат / не замужем'}"
      ]
     },
     "metadata": {},
     "output_type": "display_data"
    },
    {
     "data": {
      "text/plain": [
       "{0: 'высшее',\n",
       " 1: 'среднее',\n",
       " 2: 'неоконченное высшее',\n",
       " 3: 'начальное',\n",
       " 4: 'ученая степень'}"
      ]
     },
     "metadata": {},
     "output_type": "display_data"
    }
   ],
   "source": [
    "# Категоризация по типу для семейного статуса, создание словаря\n",
    "family_dict = dict(zip(data['family_status_id'], data['family_status']))\n",
    "display(family_dict)\n",
    "\n",
    "# Категоризация по типу для образования, создание словаря\n",
    "education_dict = dict(zip(data['education_id'], data['education']))\n",
    "display(education_dict)"
   ]
  },
  {
   "cell_type": "code",
   "execution_count": 19,
   "metadata": {},
   "outputs": [
    {
     "data": {
      "text/html": [
       "<div>\n",
       "<style scoped>\n",
       "    .dataframe tbody tr th:only-of-type {\n",
       "        vertical-align: middle;\n",
       "    }\n",
       "\n",
       "    .dataframe tbody tr th {\n",
       "        vertical-align: top;\n",
       "    }\n",
       "\n",
       "    .dataframe thead th {\n",
       "        text-align: right;\n",
       "    }\n",
       "</style>\n",
       "<table border=\"1\" class=\"dataframe\">\n",
       "  <thead>\n",
       "    <tr style=\"text-align: right;\">\n",
       "      <th></th>\n",
       "      <th>children</th>\n",
       "      <th>days_employed</th>\n",
       "      <th>dob_years</th>\n",
       "      <th>education</th>\n",
       "      <th>education_id</th>\n",
       "      <th>family_status</th>\n",
       "      <th>family_status_id</th>\n",
       "      <th>gender</th>\n",
       "      <th>income_type</th>\n",
       "      <th>debt</th>\n",
       "      <th>total_income</th>\n",
       "      <th>purpose</th>\n",
       "      <th>simple_purpose</th>\n",
       "      <th>age_group</th>\n",
       "    </tr>\n",
       "  </thead>\n",
       "  <tbody>\n",
       "    <tr>\n",
       "      <th>0</th>\n",
       "      <td>1</td>\n",
       "      <td>8437</td>\n",
       "      <td>42</td>\n",
       "      <td>высшее</td>\n",
       "      <td>0</td>\n",
       "      <td>женат / замужем</td>\n",
       "      <td>0</td>\n",
       "      <td>F</td>\n",
       "      <td>сотрудник</td>\n",
       "      <td>0</td>\n",
       "      <td>253875</td>\n",
       "      <td>покупка жилья</td>\n",
       "      <td>недвижимость</td>\n",
       "      <td>молодой</td>\n",
       "    </tr>\n",
       "    <tr>\n",
       "      <th>1</th>\n",
       "      <td>1</td>\n",
       "      <td>4024</td>\n",
       "      <td>36</td>\n",
       "      <td>среднее</td>\n",
       "      <td>1</td>\n",
       "      <td>женат / замужем</td>\n",
       "      <td>0</td>\n",
       "      <td>F</td>\n",
       "      <td>сотрудник</td>\n",
       "      <td>0</td>\n",
       "      <td>112080</td>\n",
       "      <td>приобретение автомобиля</td>\n",
       "      <td>автомобиль</td>\n",
       "      <td>молодой</td>\n",
       "    </tr>\n",
       "    <tr>\n",
       "      <th>2</th>\n",
       "      <td>0</td>\n",
       "      <td>5623</td>\n",
       "      <td>33</td>\n",
       "      <td>среднее</td>\n",
       "      <td>1</td>\n",
       "      <td>женат / замужем</td>\n",
       "      <td>0</td>\n",
       "      <td>M</td>\n",
       "      <td>сотрудник</td>\n",
       "      <td>0</td>\n",
       "      <td>145885</td>\n",
       "      <td>покупка жилья</td>\n",
       "      <td>недвижимость</td>\n",
       "      <td>молодой</td>\n",
       "    </tr>\n",
       "    <tr>\n",
       "      <th>3</th>\n",
       "      <td>3</td>\n",
       "      <td>4124</td>\n",
       "      <td>32</td>\n",
       "      <td>среднее</td>\n",
       "      <td>1</td>\n",
       "      <td>женат / замужем</td>\n",
       "      <td>0</td>\n",
       "      <td>M</td>\n",
       "      <td>сотрудник</td>\n",
       "      <td>0</td>\n",
       "      <td>267628</td>\n",
       "      <td>дополнительное образование</td>\n",
       "      <td>образование</td>\n",
       "      <td>молодой</td>\n",
       "    </tr>\n",
       "    <tr>\n",
       "      <th>4</th>\n",
       "      <td>0</td>\n",
       "      <td>340266</td>\n",
       "      <td>53</td>\n",
       "      <td>среднее</td>\n",
       "      <td>1</td>\n",
       "      <td>гражданский брак</td>\n",
       "      <td>1</td>\n",
       "      <td>F</td>\n",
       "      <td>пенсионер</td>\n",
       "      <td>0</td>\n",
       "      <td>158616</td>\n",
       "      <td>сыграть свадьбу</td>\n",
       "      <td>свадьба</td>\n",
       "      <td>средний</td>\n",
       "    </tr>\n",
       "  </tbody>\n",
       "</table>\n",
       "</div>"
      ],
      "text/plain": [
       "   children  days_employed  dob_years education  education_id  \\\n",
       "0         1           8437         42    высшее             0   \n",
       "1         1           4024         36   среднее             1   \n",
       "2         0           5623         33   среднее             1   \n",
       "3         3           4124         32   среднее             1   \n",
       "4         0         340266         53   среднее             1   \n",
       "\n",
       "      family_status  family_status_id gender income_type  debt  total_income  \\\n",
       "0   женат / замужем                 0      F   сотрудник     0        253875   \n",
       "1   женат / замужем                 0      F   сотрудник     0        112080   \n",
       "2   женат / замужем                 0      M   сотрудник     0        145885   \n",
       "3   женат / замужем                 0      M   сотрудник     0        267628   \n",
       "4  гражданский брак                 1      F   пенсионер     0        158616   \n",
       "\n",
       "                      purpose simple_purpose age_group  \n",
       "0               покупка жилья   недвижимость   молодой  \n",
       "1     приобретение автомобиля     автомобиль   молодой  \n",
       "2               покупка жилья   недвижимость   молодой  \n",
       "3  дополнительное образование    образование   молодой  \n",
       "4             сыграть свадьбу        свадьба   средний  "
      ]
     },
     "metadata": {},
     "output_type": "display_data"
    }
   ],
   "source": [
    "# Категоризация по возрасту\n",
    "data['dob_years'].value_counts()\n",
    "\n",
    "def age(elem):\n",
    "    if elem < 44:\n",
    "        return 'молодой'\n",
    "    if 45 <= elem < 60:\n",
    "        return 'средний'\n",
    "    if 60 <= elem:\n",
    "        return 'старый'\n",
    "    \n",
    "# Применение функции age\n",
    "data['age_group'] = data['dob_years'].apply(age)\n",
    "display(data.head())"
   ]
  },
  {
   "cell_type": "code",
   "execution_count": 20,
   "metadata": {},
   "outputs": [
    {
     "data": {
      "text/html": [
       "<div>\n",
       "<style scoped>\n",
       "    .dataframe tbody tr th:only-of-type {\n",
       "        vertical-align: middle;\n",
       "    }\n",
       "\n",
       "    .dataframe tbody tr th {\n",
       "        vertical-align: top;\n",
       "    }\n",
       "\n",
       "    .dataframe thead th {\n",
       "        text-align: right;\n",
       "    }\n",
       "</style>\n",
       "<table border=\"1\" class=\"dataframe\">\n",
       "  <thead>\n",
       "    <tr style=\"text-align: right;\">\n",
       "      <th></th>\n",
       "      <th>children</th>\n",
       "      <th>days_employed</th>\n",
       "      <th>dob_years</th>\n",
       "      <th>education</th>\n",
       "      <th>education_id</th>\n",
       "      <th>family_status</th>\n",
       "      <th>family_status_id</th>\n",
       "      <th>gender</th>\n",
       "      <th>income_type</th>\n",
       "      <th>debt</th>\n",
       "      <th>total_income</th>\n",
       "      <th>purpose</th>\n",
       "      <th>simple_purpose</th>\n",
       "      <th>age_group</th>\n",
       "      <th>income_group</th>\n",
       "    </tr>\n",
       "  </thead>\n",
       "  <tbody>\n",
       "    <tr>\n",
       "      <th>0</th>\n",
       "      <td>1</td>\n",
       "      <td>8437</td>\n",
       "      <td>42</td>\n",
       "      <td>высшее</td>\n",
       "      <td>0</td>\n",
       "      <td>женат / замужем</td>\n",
       "      <td>0</td>\n",
       "      <td>F</td>\n",
       "      <td>сотрудник</td>\n",
       "      <td>0</td>\n",
       "      <td>253875</td>\n",
       "      <td>покупка жилья</td>\n",
       "      <td>недвижимость</td>\n",
       "      <td>молодой</td>\n",
       "      <td>высокий</td>\n",
       "    </tr>\n",
       "    <tr>\n",
       "      <th>1</th>\n",
       "      <td>1</td>\n",
       "      <td>4024</td>\n",
       "      <td>36</td>\n",
       "      <td>среднее</td>\n",
       "      <td>1</td>\n",
       "      <td>женат / замужем</td>\n",
       "      <td>0</td>\n",
       "      <td>F</td>\n",
       "      <td>сотрудник</td>\n",
       "      <td>0</td>\n",
       "      <td>112080</td>\n",
       "      <td>приобретение автомобиля</td>\n",
       "      <td>автомобиль</td>\n",
       "      <td>молодой</td>\n",
       "      <td>средний</td>\n",
       "    </tr>\n",
       "    <tr>\n",
       "      <th>2</th>\n",
       "      <td>0</td>\n",
       "      <td>5623</td>\n",
       "      <td>33</td>\n",
       "      <td>среднее</td>\n",
       "      <td>1</td>\n",
       "      <td>женат / замужем</td>\n",
       "      <td>0</td>\n",
       "      <td>M</td>\n",
       "      <td>сотрудник</td>\n",
       "      <td>0</td>\n",
       "      <td>145885</td>\n",
       "      <td>покупка жилья</td>\n",
       "      <td>недвижимость</td>\n",
       "      <td>молодой</td>\n",
       "      <td>средний</td>\n",
       "    </tr>\n",
       "    <tr>\n",
       "      <th>3</th>\n",
       "      <td>3</td>\n",
       "      <td>4124</td>\n",
       "      <td>32</td>\n",
       "      <td>среднее</td>\n",
       "      <td>1</td>\n",
       "      <td>женат / замужем</td>\n",
       "      <td>0</td>\n",
       "      <td>M</td>\n",
       "      <td>сотрудник</td>\n",
       "      <td>0</td>\n",
       "      <td>267628</td>\n",
       "      <td>дополнительное образование</td>\n",
       "      <td>образование</td>\n",
       "      <td>молодой</td>\n",
       "      <td>высокий</td>\n",
       "    </tr>\n",
       "    <tr>\n",
       "      <th>4</th>\n",
       "      <td>0</td>\n",
       "      <td>340266</td>\n",
       "      <td>53</td>\n",
       "      <td>среднее</td>\n",
       "      <td>1</td>\n",
       "      <td>гражданский брак</td>\n",
       "      <td>1</td>\n",
       "      <td>F</td>\n",
       "      <td>пенсионер</td>\n",
       "      <td>0</td>\n",
       "      <td>158616</td>\n",
       "      <td>сыграть свадьбу</td>\n",
       "      <td>свадьба</td>\n",
       "      <td>средний</td>\n",
       "      <td>средний</td>\n",
       "    </tr>\n",
       "  </tbody>\n",
       "</table>\n",
       "</div>"
      ],
      "text/plain": [
       "   children  days_employed  dob_years education  education_id  \\\n",
       "0         1           8437         42    высшее             0   \n",
       "1         1           4024         36   среднее             1   \n",
       "2         0           5623         33   среднее             1   \n",
       "3         3           4124         32   среднее             1   \n",
       "4         0         340266         53   среднее             1   \n",
       "\n",
       "      family_status  family_status_id gender income_type  debt  total_income  \\\n",
       "0   женат / замужем                 0      F   сотрудник     0        253875   \n",
       "1   женат / замужем                 0      F   сотрудник     0        112080   \n",
       "2   женат / замужем                 0      M   сотрудник     0        145885   \n",
       "3   женат / замужем                 0      M   сотрудник     0        267628   \n",
       "4  гражданский брак                 1      F   пенсионер     0        158616   \n",
       "\n",
       "                      purpose simple_purpose age_group income_group  \n",
       "0               покупка жилья   недвижимость   молодой      высокий  \n",
       "1     приобретение автомобиля     автомобиль   молодой      средний  \n",
       "2               покупка жилья   недвижимость   молодой      средний  \n",
       "3  дополнительное образование    образование   молодой      высокий  \n",
       "4             сыграть свадьбу        свадьба   средний      средний  "
      ]
     },
     "metadata": {},
     "output_type": "display_data"
    }
   ],
   "source": [
    "# Категоризация по доходу\n",
    "data['total_income'].value_counts()\n",
    "\n",
    "def income(elem):\n",
    "    if elem < 100000:\n",
    "        return 'низкий'\n",
    "    if 100000 <= elem < 200000:\n",
    "        return 'средний'\n",
    "    if 200000 <= elem:\n",
    "        return 'высокий'\n",
    "    \n",
    "# Применение функции income\n",
    "data['income_group'] = data['total_income'].apply(income)\n",
    "display(data.head())"
   ]
  },
  {
   "cell_type": "code",
   "execution_count": 21,
   "metadata": {},
   "outputs": [
    {
     "data": {
      "text/html": [
       "<div>\n",
       "<style scoped>\n",
       "    .dataframe tbody tr th:only-of-type {\n",
       "        vertical-align: middle;\n",
       "    }\n",
       "\n",
       "    .dataframe tbody tr th {\n",
       "        vertical-align: top;\n",
       "    }\n",
       "\n",
       "    .dataframe thead th {\n",
       "        text-align: right;\n",
       "    }\n",
       "</style>\n",
       "<table border=\"1\" class=\"dataframe\">\n",
       "  <thead>\n",
       "    <tr style=\"text-align: right;\">\n",
       "      <th></th>\n",
       "      <th>children</th>\n",
       "      <th>days_employed</th>\n",
       "      <th>dob_years</th>\n",
       "      <th>education</th>\n",
       "      <th>education_id</th>\n",
       "      <th>family_status</th>\n",
       "      <th>family_status_id</th>\n",
       "      <th>gender</th>\n",
       "      <th>income_type</th>\n",
       "      <th>debt</th>\n",
       "      <th>total_income</th>\n",
       "      <th>purpose</th>\n",
       "      <th>simple_purpose</th>\n",
       "      <th>age_group</th>\n",
       "      <th>income_group</th>\n",
       "      <th>child_group</th>\n",
       "    </tr>\n",
       "  </thead>\n",
       "  <tbody>\n",
       "    <tr>\n",
       "      <th>0</th>\n",
       "      <td>1</td>\n",
       "      <td>8437</td>\n",
       "      <td>42</td>\n",
       "      <td>высшее</td>\n",
       "      <td>0</td>\n",
       "      <td>женат / замужем</td>\n",
       "      <td>0</td>\n",
       "      <td>F</td>\n",
       "      <td>сотрудник</td>\n",
       "      <td>0</td>\n",
       "      <td>253875</td>\n",
       "      <td>покупка жилья</td>\n",
       "      <td>недвижимость</td>\n",
       "      <td>молодой</td>\n",
       "      <td>высокий</td>\n",
       "      <td>малодетные</td>\n",
       "    </tr>\n",
       "    <tr>\n",
       "      <th>1</th>\n",
       "      <td>1</td>\n",
       "      <td>4024</td>\n",
       "      <td>36</td>\n",
       "      <td>среднее</td>\n",
       "      <td>1</td>\n",
       "      <td>женат / замужем</td>\n",
       "      <td>0</td>\n",
       "      <td>F</td>\n",
       "      <td>сотрудник</td>\n",
       "      <td>0</td>\n",
       "      <td>112080</td>\n",
       "      <td>приобретение автомобиля</td>\n",
       "      <td>автомобиль</td>\n",
       "      <td>молодой</td>\n",
       "      <td>средний</td>\n",
       "      <td>малодетные</td>\n",
       "    </tr>\n",
       "    <tr>\n",
       "      <th>2</th>\n",
       "      <td>0</td>\n",
       "      <td>5623</td>\n",
       "      <td>33</td>\n",
       "      <td>среднее</td>\n",
       "      <td>1</td>\n",
       "      <td>женат / замужем</td>\n",
       "      <td>0</td>\n",
       "      <td>M</td>\n",
       "      <td>сотрудник</td>\n",
       "      <td>0</td>\n",
       "      <td>145885</td>\n",
       "      <td>покупка жилья</td>\n",
       "      <td>недвижимость</td>\n",
       "      <td>молодой</td>\n",
       "      <td>средний</td>\n",
       "      <td>бездетные</td>\n",
       "    </tr>\n",
       "    <tr>\n",
       "      <th>3</th>\n",
       "      <td>3</td>\n",
       "      <td>4124</td>\n",
       "      <td>32</td>\n",
       "      <td>среднее</td>\n",
       "      <td>1</td>\n",
       "      <td>женат / замужем</td>\n",
       "      <td>0</td>\n",
       "      <td>M</td>\n",
       "      <td>сотрудник</td>\n",
       "      <td>0</td>\n",
       "      <td>267628</td>\n",
       "      <td>дополнительное образование</td>\n",
       "      <td>образование</td>\n",
       "      <td>молодой</td>\n",
       "      <td>высокий</td>\n",
       "      <td>многодетные</td>\n",
       "    </tr>\n",
       "    <tr>\n",
       "      <th>4</th>\n",
       "      <td>0</td>\n",
       "      <td>340266</td>\n",
       "      <td>53</td>\n",
       "      <td>среднее</td>\n",
       "      <td>1</td>\n",
       "      <td>гражданский брак</td>\n",
       "      <td>1</td>\n",
       "      <td>F</td>\n",
       "      <td>пенсионер</td>\n",
       "      <td>0</td>\n",
       "      <td>158616</td>\n",
       "      <td>сыграть свадьбу</td>\n",
       "      <td>свадьба</td>\n",
       "      <td>средний</td>\n",
       "      <td>средний</td>\n",
       "      <td>бездетные</td>\n",
       "    </tr>\n",
       "  </tbody>\n",
       "</table>\n",
       "</div>"
      ],
      "text/plain": [
       "   children  days_employed  dob_years education  education_id  \\\n",
       "0         1           8437         42    высшее             0   \n",
       "1         1           4024         36   среднее             1   \n",
       "2         0           5623         33   среднее             1   \n",
       "3         3           4124         32   среднее             1   \n",
       "4         0         340266         53   среднее             1   \n",
       "\n",
       "      family_status  family_status_id gender income_type  debt  total_income  \\\n",
       "0   женат / замужем                 0      F   сотрудник     0        253875   \n",
       "1   женат / замужем                 0      F   сотрудник     0        112080   \n",
       "2   женат / замужем                 0      M   сотрудник     0        145885   \n",
       "3   женат / замужем                 0      M   сотрудник     0        267628   \n",
       "4  гражданский брак                 1      F   пенсионер     0        158616   \n",
       "\n",
       "                      purpose simple_purpose age_group income_group  \\\n",
       "0               покупка жилья   недвижимость   молодой      высокий   \n",
       "1     приобретение автомобиля     автомобиль   молодой      средний   \n",
       "2               покупка жилья   недвижимость   молодой      средний   \n",
       "3  дополнительное образование    образование   молодой      высокий   \n",
       "4             сыграть свадьбу        свадьба   средний      средний   \n",
       "\n",
       "   child_group  \n",
       "0   малодетные  \n",
       "1   малодетные  \n",
       "2    бездетные  \n",
       "3  многодетные  \n",
       "4    бездетные  "
      ]
     },
     "metadata": {},
     "output_type": "display_data"
    }
   ],
   "source": [
    "# Категоризация по количеству детей\n",
    "data['children'].value_counts()\n",
    "\n",
    "def child(elem):\n",
    "    if elem == 0:\n",
    "        return 'бездетные'\n",
    "    if 1 <= elem <= 2:\n",
    "        return 'малодетные'\n",
    "    if 2 < elem:\n",
    "        return 'многодетные'\n",
    "\n",
    "# Применение функции child\n",
    "data['child_group'] = data['children'].apply(child)\n",
    "display(data.head())"
   ]
  },
  {
   "cell_type": "markdown",
   "metadata": {},
   "source": [
    "**Вывод**"
   ]
  },
  {
   "cell_type": "markdown",
   "metadata": {},
   "source": [
    "Выполнена категоризация данных."
   ]
  },
  {
   "cell_type": "markdown",
   "metadata": {},
   "source": [
    "## Часть. Исследование зависимостей\n",
    "### Зависимость между наличием детей и возвратом кредита в срок "
   ]
  },
  {
   "cell_type": "code",
   "execution_count": 22,
   "metadata": {},
   "outputs": [
    {
     "data": {
      "text/html": [
       "<div>\n",
       "<style scoped>\n",
       "    .dataframe tbody tr th:only-of-type {\n",
       "        vertical-align: middle;\n",
       "    }\n",
       "\n",
       "    .dataframe tbody tr th {\n",
       "        vertical-align: top;\n",
       "    }\n",
       "\n",
       "    .dataframe thead th {\n",
       "        text-align: right;\n",
       "    }\n",
       "</style>\n",
       "<table border=\"1\" class=\"dataframe\">\n",
       "  <thead>\n",
       "    <tr style=\"text-align: right;\">\n",
       "      <th>debt</th>\n",
       "      <th>0</th>\n",
       "      <th>1</th>\n",
       "      <th>ratio</th>\n",
       "    </tr>\n",
       "    <tr>\n",
       "      <th>child_group</th>\n",
       "      <th></th>\n",
       "      <th></th>\n",
       "      <th></th>\n",
       "    </tr>\n",
       "  </thead>\n",
       "  <tbody>\n",
       "    <tr>\n",
       "      <th>малодетные</th>\n",
       "      <td>6196</td>\n",
       "      <td>635</td>\n",
       "      <td>9.295857</td>\n",
       "    </tr>\n",
       "    <tr>\n",
       "      <th>многодетные</th>\n",
       "      <td>347</td>\n",
       "      <td>31</td>\n",
       "      <td>8.201058</td>\n",
       "    </tr>\n",
       "    <tr>\n",
       "      <th>бездетные</th>\n",
       "      <td>12963</td>\n",
       "      <td>1058</td>\n",
       "      <td>7.545824</td>\n",
       "    </tr>\n",
       "  </tbody>\n",
       "</table>\n",
       "</div>"
      ],
      "text/plain": [
       "debt             0     1     ratio\n",
       "child_group                       \n",
       "малодетные    6196   635  9.295857\n",
       "многодетные    347    31  8.201058\n",
       "бездетные    12963  1058  7.545824"
      ]
     },
     "metadata": {},
     "output_type": "display_data"
    }
   ],
   "source": [
    "# Создаем сводную таблицу\n",
    "child_data = data.pivot_table(index='child_group', columns='debt', values='children', aggfunc='count')\n",
    "# Добавляем колонку с отношением должников к общему количеству кредиторов в группе (в процентах)\n",
    "child_data['ratio'] = child_data[1] / (child_data[0] + child_data[1]) * 100\n",
    "# Выводим сводную таблицу\n",
    "display(child_data.sort_values(by='ratio', ascending = False))"
   ]
  },
  {
   "cell_type": "markdown",
   "metadata": {},
   "source": [
    "В малодетных семьях наибольший процент должников, далее следуют многодетные семьи, при этом наименьший процент должнико в бездетных семьях.\n",
    "\n",
    "Посмотрим, как будут выглядеть таблица, если дополнительно разделить ее на категории, связанные с доходом из колонки `'income_group'`. "
   ]
  },
  {
   "cell_type": "code",
   "execution_count": 23,
   "metadata": {},
   "outputs": [
    {
     "data": {
      "text/html": [
       "<div>\n",
       "<style scoped>\n",
       "    .dataframe tbody tr th:only-of-type {\n",
       "        vertical-align: middle;\n",
       "    }\n",
       "\n",
       "    .dataframe tbody tr th {\n",
       "        vertical-align: top;\n",
       "    }\n",
       "\n",
       "    .dataframe thead th {\n",
       "        text-align: right;\n",
       "    }\n",
       "</style>\n",
       "<table border=\"1\" class=\"dataframe\">\n",
       "  <thead>\n",
       "    <tr style=\"text-align: right;\">\n",
       "      <th></th>\n",
       "      <th>debt</th>\n",
       "      <th>0</th>\n",
       "      <th>1</th>\n",
       "      <th>ratio</th>\n",
       "    </tr>\n",
       "    <tr>\n",
       "      <th>child_group</th>\n",
       "      <th>income_group</th>\n",
       "      <th></th>\n",
       "      <th></th>\n",
       "      <th></th>\n",
       "    </tr>\n",
       "  </thead>\n",
       "  <tbody>\n",
       "    <tr>\n",
       "      <th>многодетные</th>\n",
       "      <th>низкий</th>\n",
       "      <td>57</td>\n",
       "      <td>9</td>\n",
       "      <td>13.636364</td>\n",
       "    </tr>\n",
       "    <tr>\n",
       "      <th rowspan=\"2\" valign=\"top\">малодетные</th>\n",
       "      <th>средний</th>\n",
       "      <td>3453</td>\n",
       "      <td>381</td>\n",
       "      <td>9.937402</td>\n",
       "    </tr>\n",
       "    <tr>\n",
       "      <th>низкий</th>\n",
       "      <td>1200</td>\n",
       "      <td>124</td>\n",
       "      <td>9.365559</td>\n",
       "    </tr>\n",
       "    <tr>\n",
       "      <th>многодетные</th>\n",
       "      <th>средний</th>\n",
       "      <td>195</td>\n",
       "      <td>17</td>\n",
       "      <td>8.018868</td>\n",
       "    </tr>\n",
       "    <tr>\n",
       "      <th>бездетные</th>\n",
       "      <th>средний</th>\n",
       "      <td>7133</td>\n",
       "      <td>618</td>\n",
       "      <td>7.973165</td>\n",
       "    </tr>\n",
       "    <tr>\n",
       "      <th>малодетные</th>\n",
       "      <th>высокий</th>\n",
       "      <td>1543</td>\n",
       "      <td>130</td>\n",
       "      <td>7.770472</td>\n",
       "    </tr>\n",
       "    <tr>\n",
       "      <th rowspan=\"2\" valign=\"top\">бездетные</th>\n",
       "      <th>низкий</th>\n",
       "      <td>2811</td>\n",
       "      <td>220</td>\n",
       "      <td>7.258331</td>\n",
       "    </tr>\n",
       "    <tr>\n",
       "      <th>высокий</th>\n",
       "      <td>3019</td>\n",
       "      <td>220</td>\n",
       "      <td>6.792220</td>\n",
       "    </tr>\n",
       "    <tr>\n",
       "      <th>многодетные</th>\n",
       "      <th>высокий</th>\n",
       "      <td>95</td>\n",
       "      <td>5</td>\n",
       "      <td>5.000000</td>\n",
       "    </tr>\n",
       "  </tbody>\n",
       "</table>\n",
       "</div>"
      ],
      "text/plain": [
       "debt                         0    1      ratio\n",
       "child_group income_group                      \n",
       "многодетные низкий          57    9  13.636364\n",
       "малодетные  средний       3453  381   9.937402\n",
       "            низкий        1200  124   9.365559\n",
       "многодетные средний        195   17   8.018868\n",
       "бездетные   средний       7133  618   7.973165\n",
       "малодетные  высокий       1543  130   7.770472\n",
       "бездетные   низкий        2811  220   7.258331\n",
       "            высокий       3019  220   6.792220\n",
       "многодетные высокий         95    5   5.000000"
      ]
     },
     "metadata": {},
     "output_type": "display_data"
    }
   ],
   "source": [
    "# Создаем сводную таблицу\n",
    "child_data = data.pivot_table(index=['child_group', 'income_group'], columns='debt', values='children', aggfunc='count')\n",
    "# Добавляем колонку с отношением должников к общему количеству кредиторов в группе (в процентах)\n",
    "child_data['ratio'] = child_data[1] / (child_data[0] + child_data[1]) * 100\n",
    "# Выводим сводную таблицу\n",
    "display(child_data.sort_values(by='ratio', ascending = False))"
   ]
  },
  {
   "cell_type": "markdown",
   "metadata": {},
   "source": [
    "**Вывод**"
   ]
  },
  {
   "cell_type": "markdown",
   "metadata": {},
   "source": [
    "Можно увидеть, следующее:\n",
    "* Основа малодетных семей - семьи со средним и низким доходом среди которых ~9% должников.\n",
    "* Наибольший процент по задолженности в многодетных семьях с низким доходом, далее идут малодетные семьи со средним и низким доходом.  В обеспеченных многодетных семьях наоборот самый низкий процент задолженностей. При этом эти два факта компенсируют друг друга, из-за чего при общем рассмотрении зависимости долга по кредиту и наличию детей многодетные семьи на 2ом месте. \n",
    "* Количество должников в бездетных семьях особо не зависит от дохода, колебания составляют ~1%.  "
   ]
  },
  {
   "cell_type": "markdown",
   "metadata": {},
   "source": [
    "### Зависимость между семейным положением и возвратом кредита в срок"
   ]
  },
  {
   "cell_type": "code",
   "execution_count": 24,
   "metadata": {},
   "outputs": [
    {
     "data": {
      "text/html": [
       "<div>\n",
       "<style scoped>\n",
       "    .dataframe tbody tr th:only-of-type {\n",
       "        vertical-align: middle;\n",
       "    }\n",
       "\n",
       "    .dataframe tbody tr th {\n",
       "        vertical-align: top;\n",
       "    }\n",
       "\n",
       "    .dataframe thead th {\n",
       "        text-align: right;\n",
       "    }\n",
       "</style>\n",
       "<table border=\"1\" class=\"dataframe\">\n",
       "  <thead>\n",
       "    <tr style=\"text-align: right;\">\n",
       "      <th>debt</th>\n",
       "      <th>0</th>\n",
       "      <th>1</th>\n",
       "      <th>ratio</th>\n",
       "    </tr>\n",
       "    <tr>\n",
       "      <th>family_status</th>\n",
       "      <th></th>\n",
       "      <th></th>\n",
       "      <th></th>\n",
       "    </tr>\n",
       "  </thead>\n",
       "  <tbody>\n",
       "    <tr>\n",
       "      <th>Не женат / не замужем</th>\n",
       "      <td>2508</td>\n",
       "      <td>272</td>\n",
       "      <td>9.784173</td>\n",
       "    </tr>\n",
       "    <tr>\n",
       "      <th>гражданский брак</th>\n",
       "      <td>3729</td>\n",
       "      <td>383</td>\n",
       "      <td>9.314202</td>\n",
       "    </tr>\n",
       "    <tr>\n",
       "      <th>женат / замужем</th>\n",
       "      <td>11290</td>\n",
       "      <td>923</td>\n",
       "      <td>7.557521</td>\n",
       "    </tr>\n",
       "    <tr>\n",
       "      <th>в разводе</th>\n",
       "      <td>1095</td>\n",
       "      <td>84</td>\n",
       "      <td>7.124682</td>\n",
       "    </tr>\n",
       "    <tr>\n",
       "      <th>вдовец / вдова</th>\n",
       "      <td>884</td>\n",
       "      <td>62</td>\n",
       "      <td>6.553911</td>\n",
       "    </tr>\n",
       "  </tbody>\n",
       "</table>\n",
       "</div>"
      ],
      "text/plain": [
       "debt                       0    1     ratio\n",
       "family_status                              \n",
       "Не женат / не замужем   2508  272  9.784173\n",
       "гражданский брак        3729  383  9.314202\n",
       "женат / замужем        11290  923  7.557521\n",
       "в разводе               1095   84  7.124682\n",
       "вдовец / вдова           884   62  6.553911"
      ]
     },
     "metadata": {},
     "output_type": "display_data"
    }
   ],
   "source": [
    "# Создаем сводную таблицу\n",
    "family_data = data.pivot_table(index='family_status', columns='debt', values='family_status_id', aggfunc='count')\n",
    "# Добавляем колонку с отношением должников к общему количеству кредиторов в группе (в процентах)\n",
    "family_data['ratio'] = family_data[1] / (family_data[0] + family_data[1]) * 100\n",
    "# Выводим сводную таблицу\n",
    "display(family_data.sort_values(by='ratio', ascending = False))"
   ]
  },
  {
   "cell_type": "markdown",
   "metadata": {},
   "source": [
    "Наибольшее число должников не состоят в браке или состоят в гражданском браке, далее следуют те, кто имеет семью или в разводе, наименьшее число должников среди вдовцов/вдов.\n",
    "\n",
    "Посмотрим, как будут выглядеть таблица, если дополнительно разделить ее на категории, связанные с доходом из колонки `'age_group'`. "
   ]
  },
  {
   "cell_type": "code",
   "execution_count": 25,
   "metadata": {},
   "outputs": [
    {
     "data": {
      "text/html": [
       "<div>\n",
       "<style scoped>\n",
       "    .dataframe tbody tr th:only-of-type {\n",
       "        vertical-align: middle;\n",
       "    }\n",
       "\n",
       "    .dataframe tbody tr th {\n",
       "        vertical-align: top;\n",
       "    }\n",
       "\n",
       "    .dataframe thead th {\n",
       "        text-align: right;\n",
       "    }\n",
       "</style>\n",
       "<table border=\"1\" class=\"dataframe\">\n",
       "  <thead>\n",
       "    <tr style=\"text-align: right;\">\n",
       "      <th></th>\n",
       "      <th>debt</th>\n",
       "      <th>0</th>\n",
       "      <th>1</th>\n",
       "      <th>ratio</th>\n",
       "    </tr>\n",
       "    <tr>\n",
       "      <th>family_status</th>\n",
       "      <th>age_group</th>\n",
       "      <th></th>\n",
       "      <th></th>\n",
       "      <th></th>\n",
       "    </tr>\n",
       "  </thead>\n",
       "  <tbody>\n",
       "    <tr>\n",
       "      <th>Не женат / не замужем</th>\n",
       "      <th>молодой</th>\n",
       "      <td>1627</td>\n",
       "      <td>208</td>\n",
       "      <td>11.335150</td>\n",
       "    </tr>\n",
       "    <tr>\n",
       "      <th>гражданский брак</th>\n",
       "      <th>молодой</th>\n",
       "      <td>2059</td>\n",
       "      <td>248</td>\n",
       "      <td>10.749892</td>\n",
       "    </tr>\n",
       "    <tr>\n",
       "      <th>женат / замужем</th>\n",
       "      <th>молодой</th>\n",
       "      <td>5777</td>\n",
       "      <td>578</td>\n",
       "      <td>9.095201</td>\n",
       "    </tr>\n",
       "    <tr>\n",
       "      <th>гражданский брак</th>\n",
       "      <th>средний</th>\n",
       "      <td>1183</td>\n",
       "      <td>106</td>\n",
       "      <td>8.223429</td>\n",
       "    </tr>\n",
       "    <tr>\n",
       "      <th>Не женат / не замужем</th>\n",
       "      <th>средний</th>\n",
       "      <td>603</td>\n",
       "      <td>52</td>\n",
       "      <td>7.938931</td>\n",
       "    </tr>\n",
       "    <tr>\n",
       "      <th rowspan=\"2\" valign=\"top\">в разводе</th>\n",
       "      <th>молодой</th>\n",
       "      <td>470</td>\n",
       "      <td>40</td>\n",
       "      <td>7.843137</td>\n",
       "    </tr>\n",
       "    <tr>\n",
       "      <th>старый</th>\n",
       "      <td>144</td>\n",
       "      <td>11</td>\n",
       "      <td>7.096774</td>\n",
       "    </tr>\n",
       "    <tr>\n",
       "      <th rowspan=\"2\" valign=\"top\">вдовец / вдова</th>\n",
       "      <th>старый</th>\n",
       "      <td>371</td>\n",
       "      <td>27</td>\n",
       "      <td>6.783920</td>\n",
       "    </tr>\n",
       "    <tr>\n",
       "      <th>средний</th>\n",
       "      <td>421</td>\n",
       "      <td>29</td>\n",
       "      <td>6.444444</td>\n",
       "    </tr>\n",
       "    <tr>\n",
       "      <th>женат / замужем</th>\n",
       "      <th>средний</th>\n",
       "      <td>3966</td>\n",
       "      <td>264</td>\n",
       "      <td>6.241135</td>\n",
       "    </tr>\n",
       "    <tr>\n",
       "      <th>в разводе</th>\n",
       "      <th>средний</th>\n",
       "      <td>452</td>\n",
       "      <td>30</td>\n",
       "      <td>6.224066</td>\n",
       "    </tr>\n",
       "    <tr>\n",
       "      <th>вдовец / вдова</th>\n",
       "      <th>молодой</th>\n",
       "      <td>80</td>\n",
       "      <td>5</td>\n",
       "      <td>5.882353</td>\n",
       "    </tr>\n",
       "    <tr>\n",
       "      <th>гражданский брак</th>\n",
       "      <th>старый</th>\n",
       "      <td>375</td>\n",
       "      <td>18</td>\n",
       "      <td>4.580153</td>\n",
       "    </tr>\n",
       "    <tr>\n",
       "      <th>женат / замужем</th>\n",
       "      <th>старый</th>\n",
       "      <td>1248</td>\n",
       "      <td>58</td>\n",
       "      <td>4.441041</td>\n",
       "    </tr>\n",
       "    <tr>\n",
       "      <th>Не женат / не замужем</th>\n",
       "      <th>старый</th>\n",
       "      <td>230</td>\n",
       "      <td>9</td>\n",
       "      <td>3.765690</td>\n",
       "    </tr>\n",
       "  </tbody>\n",
       "</table>\n",
       "</div>"
      ],
      "text/plain": [
       "debt                                0    1      ratio\n",
       "family_status         age_group                      \n",
       "Не женат / не замужем молодой    1627  208  11.335150\n",
       "гражданский брак      молодой    2059  248  10.749892\n",
       "женат / замужем       молодой    5777  578   9.095201\n",
       "гражданский брак      средний    1183  106   8.223429\n",
       "Не женат / не замужем средний     603   52   7.938931\n",
       "в разводе             молодой     470   40   7.843137\n",
       "                      старый      144   11   7.096774\n",
       "вдовец / вдова        старый      371   27   6.783920\n",
       "                      средний     421   29   6.444444\n",
       "женат / замужем       средний    3966  264   6.241135\n",
       "в разводе             средний     452   30   6.224066\n",
       "вдовец / вдова        молодой      80    5   5.882353\n",
       "гражданский брак      старый      375   18   4.580153\n",
       "женат / замужем       старый     1248   58   4.441041\n",
       "Не женат / не замужем старый      230    9   3.765690"
      ]
     },
     "metadata": {},
     "output_type": "display_data"
    }
   ],
   "source": [
    "# Создаем сводную таблицу\n",
    "family_data = data.pivot_table(index=['family_status', 'age_group'], columns='debt', values='family_status_id', aggfunc='count')\n",
    "# Добавляем колонку с отношением должников к общему количеству кредиторов в группе (в процентах)\n",
    "family_data['ratio'] = family_data[1] / (family_data[0] + family_data[1]) * 100\n",
    "# Выводим сводную таблицу\n",
    "display(family_data.sort_values(by='ratio', ascending = False))"
   ]
  },
  {
   "cell_type": "markdown",
   "metadata": {},
   "source": [
    "**Вывод**"
   ]
  },
  {
   "cell_type": "markdown",
   "metadata": {},
   "source": [
    "* Молодые должники, тянут вверх показатели задолженностей для групп \"Не женат / не замужем\" и \"гражданский брак\". Также молодые люди составляют основу этих групп.  \n",
    "* Для тех, кто состоит в браке наоборот, возрастные должники (средние и старые) тянут показатели задолженности вниз, т.к. количество молодых и возрастных должников сопоставимо.\n",
    "* Количество должников в разводе особо не зависит от возраста, колебания составляют ~1%.  \n",
    "* Наименьшее количество должников среди вдовцов / вдов.  "
   ]
  },
  {
   "cell_type": "markdown",
   "metadata": {},
   "source": [
    "### Зависимость между уровнем дохода и возвратом кредита в срок"
   ]
  },
  {
   "cell_type": "code",
   "execution_count": 26,
   "metadata": {},
   "outputs": [
    {
     "data": {
      "text/html": [
       "<div>\n",
       "<style scoped>\n",
       "    .dataframe tbody tr th:only-of-type {\n",
       "        vertical-align: middle;\n",
       "    }\n",
       "\n",
       "    .dataframe tbody tr th {\n",
       "        vertical-align: top;\n",
       "    }\n",
       "\n",
       "    .dataframe thead th {\n",
       "        text-align: right;\n",
       "    }\n",
       "</style>\n",
       "<table border=\"1\" class=\"dataframe\">\n",
       "  <thead>\n",
       "    <tr style=\"text-align: right;\">\n",
       "      <th>debt</th>\n",
       "      <th>0</th>\n",
       "      <th>1</th>\n",
       "      <th>ratio</th>\n",
       "    </tr>\n",
       "    <tr>\n",
       "      <th>income_group</th>\n",
       "      <th></th>\n",
       "      <th></th>\n",
       "      <th></th>\n",
       "    </tr>\n",
       "  </thead>\n",
       "  <tbody>\n",
       "    <tr>\n",
       "      <th>средний</th>\n",
       "      <td>10781</td>\n",
       "      <td>1016</td>\n",
       "      <td>8.612359</td>\n",
       "    </tr>\n",
       "    <tr>\n",
       "      <th>низкий</th>\n",
       "      <td>4068</td>\n",
       "      <td>353</td>\n",
       "      <td>7.984619</td>\n",
       "    </tr>\n",
       "    <tr>\n",
       "      <th>высокий</th>\n",
       "      <td>4657</td>\n",
       "      <td>355</td>\n",
       "      <td>7.083001</td>\n",
       "    </tr>\n",
       "  </tbody>\n",
       "</table>\n",
       "</div>"
      ],
      "text/plain": [
       "debt              0     1     ratio\n",
       "income_group                       \n",
       "средний       10781  1016  8.612359\n",
       "низкий         4068   353  7.984619\n",
       "высокий        4657   355  7.083001"
      ]
     },
     "metadata": {},
     "output_type": "display_data"
    }
   ],
   "source": [
    "# Создаем сводную таблицу\n",
    "income_data = data.pivot_table(index='income_group', columns='debt', values='total_income', aggfunc='count')\n",
    "# Добавляем колонку с отношением должников к общему количеству кредиторов в группе (в процентах)\n",
    "income_data['ratio'] = income_data[1] / (income_data[0] + income_data[1]) * 100\n",
    "# Выводим сводную таблицу\n",
    "display(income_data.sort_values(by='ratio', ascending = False))"
   ]
  },
  {
   "cell_type": "markdown",
   "metadata": {},
   "source": [
    "**Вывод**"
   ]
  },
  {
   "cell_type": "markdown",
   "metadata": {},
   "source": [
    "Наибольшее число должников со средним доходом."
   ]
  },
  {
   "cell_type": "markdown",
   "metadata": {},
   "source": [
    "### Зависимость цели кредита на его возврат в срок"
   ]
  },
  {
   "cell_type": "code",
   "execution_count": 27,
   "metadata": {},
   "outputs": [
    {
     "data": {
      "text/html": [
       "<div>\n",
       "<style scoped>\n",
       "    .dataframe tbody tr th:only-of-type {\n",
       "        vertical-align: middle;\n",
       "    }\n",
       "\n",
       "    .dataframe tbody tr th {\n",
       "        vertical-align: top;\n",
       "    }\n",
       "\n",
       "    .dataframe thead th {\n",
       "        text-align: right;\n",
       "    }\n",
       "</style>\n",
       "<table border=\"1\" class=\"dataframe\">\n",
       "  <thead>\n",
       "    <tr style=\"text-align: right;\">\n",
       "      <th>debt</th>\n",
       "      <th>0</th>\n",
       "      <th>1</th>\n",
       "      <th>ratio</th>\n",
       "    </tr>\n",
       "    <tr>\n",
       "      <th>simple_purpose</th>\n",
       "      <th></th>\n",
       "      <th></th>\n",
       "      <th></th>\n",
       "    </tr>\n",
       "  </thead>\n",
       "  <tbody>\n",
       "    <tr>\n",
       "      <th>автомобиль</th>\n",
       "      <td>3861</td>\n",
       "      <td>397</td>\n",
       "      <td>9.323626</td>\n",
       "    </tr>\n",
       "    <tr>\n",
       "      <th>образование</th>\n",
       "      <td>3601</td>\n",
       "      <td>369</td>\n",
       "      <td>9.294710</td>\n",
       "    </tr>\n",
       "    <tr>\n",
       "      <th>свадьба</th>\n",
       "      <td>2118</td>\n",
       "      <td>181</td>\n",
       "      <td>7.872988</td>\n",
       "    </tr>\n",
       "    <tr>\n",
       "      <th>недвижимость</th>\n",
       "      <td>9926</td>\n",
       "      <td>777</td>\n",
       "      <td>7.259647</td>\n",
       "    </tr>\n",
       "  </tbody>\n",
       "</table>\n",
       "</div>"
      ],
      "text/plain": [
       "debt               0    1     ratio\n",
       "simple_purpose                     \n",
       "автомобиль      3861  397  9.323626\n",
       "образование     3601  369  9.294710\n",
       "свадьба         2118  181  7.872988\n",
       "недвижимость    9926  777  7.259647"
      ]
     },
     "metadata": {},
     "output_type": "display_data"
    }
   ],
   "source": [
    "# Создаем сводную таблицу\n",
    "purpose_data = data.pivot_table(index='simple_purpose', columns='debt', values='purpose', aggfunc='count')\n",
    "# Добавляем колонку с отношением должников к общему количеству кредиторов в группе (в процентах)\n",
    "purpose_data['ratio'] = purpose_data[1] / (purpose_data[0] + purpose_data[1])  * 100\n",
    "# Выводим сводную таблицу\n",
    "display(purpose_data.sort_values(by='ratio', ascending = False))"
   ]
  },
  {
   "cell_type": "markdown",
   "metadata": {},
   "source": [
    "Наибольшее число должников среди тех, кто берет кредит на авто или образование.\n",
    "\n",
    "Рассмотрим, как будут выглядеть таблица, если дополнительно разделить ее на категории, связанные с доходом из колонки `'income_group'`. "
   ]
  },
  {
   "cell_type": "code",
   "execution_count": 28,
   "metadata": {},
   "outputs": [
    {
     "data": {
      "text/html": [
       "<div>\n",
       "<style scoped>\n",
       "    .dataframe tbody tr th:only-of-type {\n",
       "        vertical-align: middle;\n",
       "    }\n",
       "\n",
       "    .dataframe tbody tr th {\n",
       "        vertical-align: top;\n",
       "    }\n",
       "\n",
       "    .dataframe thead th {\n",
       "        text-align: right;\n",
       "    }\n",
       "</style>\n",
       "<table border=\"1\" class=\"dataframe\">\n",
       "  <thead>\n",
       "    <tr style=\"text-align: right;\">\n",
       "      <th></th>\n",
       "      <th>debt</th>\n",
       "      <th>0</th>\n",
       "      <th>1</th>\n",
       "      <th>ratio</th>\n",
       "    </tr>\n",
       "    <tr>\n",
       "      <th>simple_purpose</th>\n",
       "      <th>income_group</th>\n",
       "      <th></th>\n",
       "      <th></th>\n",
       "      <th></th>\n",
       "    </tr>\n",
       "  </thead>\n",
       "  <tbody>\n",
       "    <tr>\n",
       "      <th>автомобиль</th>\n",
       "      <th>средний</th>\n",
       "      <td>2141</td>\n",
       "      <td>240</td>\n",
       "      <td>10.079798</td>\n",
       "    </tr>\n",
       "    <tr>\n",
       "      <th rowspan=\"2\" valign=\"top\">образование</th>\n",
       "      <th>низкий</th>\n",
       "      <td>754</td>\n",
       "      <td>81</td>\n",
       "      <td>9.700599</td>\n",
       "    </tr>\n",
       "    <tr>\n",
       "      <th>средний</th>\n",
       "      <td>2030</td>\n",
       "      <td>218</td>\n",
       "      <td>9.697509</td>\n",
       "    </tr>\n",
       "    <tr>\n",
       "      <th rowspan=\"2\" valign=\"top\">свадьба</th>\n",
       "      <th>низкий</th>\n",
       "      <td>438</td>\n",
       "      <td>44</td>\n",
       "      <td>9.128631</td>\n",
       "    </tr>\n",
       "    <tr>\n",
       "      <th>средний</th>\n",
       "      <td>1164</td>\n",
       "      <td>109</td>\n",
       "      <td>8.562451</td>\n",
       "    </tr>\n",
       "    <tr>\n",
       "      <th rowspan=\"2\" valign=\"top\">автомобиль</th>\n",
       "      <th>низкий</th>\n",
       "      <td>784</td>\n",
       "      <td>72</td>\n",
       "      <td>8.411215</td>\n",
       "    </tr>\n",
       "    <tr>\n",
       "      <th>высокий</th>\n",
       "      <td>936</td>\n",
       "      <td>85</td>\n",
       "      <td>8.325171</td>\n",
       "    </tr>\n",
       "    <tr>\n",
       "      <th>образование</th>\n",
       "      <th>высокий</th>\n",
       "      <td>817</td>\n",
       "      <td>70</td>\n",
       "      <td>7.891770</td>\n",
       "    </tr>\n",
       "    <tr>\n",
       "      <th rowspan=\"3\" valign=\"top\">недвижимость</th>\n",
       "      <th>средний</th>\n",
       "      <td>5446</td>\n",
       "      <td>449</td>\n",
       "      <td>7.616624</td>\n",
       "    </tr>\n",
       "    <tr>\n",
       "      <th>низкий</th>\n",
       "      <td>2092</td>\n",
       "      <td>156</td>\n",
       "      <td>6.939502</td>\n",
       "    </tr>\n",
       "    <tr>\n",
       "      <th>высокий</th>\n",
       "      <td>2388</td>\n",
       "      <td>172</td>\n",
       "      <td>6.718750</td>\n",
       "    </tr>\n",
       "    <tr>\n",
       "      <th>свадьба</th>\n",
       "      <th>высокий</th>\n",
       "      <td>516</td>\n",
       "      <td>28</td>\n",
       "      <td>5.147059</td>\n",
       "    </tr>\n",
       "  </tbody>\n",
       "</table>\n",
       "</div>"
      ],
      "text/plain": [
       "debt                            0    1      ratio\n",
       "simple_purpose income_group                      \n",
       "автомобиль     средний       2141  240  10.079798\n",
       "образование    низкий         754   81   9.700599\n",
       "               средний       2030  218   9.697509\n",
       "свадьба        низкий         438   44   9.128631\n",
       "               средний       1164  109   8.562451\n",
       "автомобиль     низкий         784   72   8.411215\n",
       "               высокий        936   85   8.325171\n",
       "образование    высокий        817   70   7.891770\n",
       "недвижимость   средний       5446  449   7.616624\n",
       "               низкий        2092  156   6.939502\n",
       "               высокий       2388  172   6.718750\n",
       "свадьба        высокий        516   28   5.147059"
      ]
     },
     "metadata": {},
     "output_type": "display_data"
    }
   ],
   "source": [
    "# Создаем сводную таблицу\n",
    "purpose_data = data.pivot_table(index=['simple_purpose', 'income_group'], columns='debt', values='purpose', aggfunc='count')\n",
    "# Добавляем колонку с отношением должников к общему количеству кредиторов в группе (в процентах)\n",
    "purpose_data['ratio'] = purpose_data[1] / (purpose_data[0] + purpose_data[1])  * 100\n",
    "# Выводим сводную таблицу\n",
    "display(purpose_data.sort_values(by='ratio', ascending = False))"
   ]
  },
  {
   "cell_type": "markdown",
   "metadata": {},
   "source": [
    "**Вывод**"
   ]
  },
  {
   "cell_type": "markdown",
   "metadata": {},
   "source": [
    "* Должники со средним доходом тянут вверх общую долю должников, взявших кредит на автомобиль.\n",
    "* В случае с образованием должники с высоким доходом снижают общую долю должников.\n",
    "* Должники с высоким доходом снижают общую долю должников, взявших кредит на свадьбу.\n",
    "* Количество должников взявших кредит на недвижимость особо не зависит от дохода, колебания составляют ~1%."
   ]
  },
  {
   "cell_type": "markdown",
   "metadata": {},
   "source": [
    "## Часть. Общий вывод"
   ]
  },
  {
   "cell_type": "markdown",
   "metadata": {},
   "source": [
    "В ходе исследования проверены следующие зависимости:\n",
    "1. Зависимость между наличием детей и возвратом кредита в срок.\n",
    "\n",
    "В рамках данной проверке выяснилось, что наибольшее число должников среди семей, в которых 1-2 ребенка, наименьшее в бездетных семьях.\n",
    "\n",
    "2. Зависимость между семейным положением и возвратом кредита в срок.\n",
    "\n",
    "Больше всего должников среди тех, кто не состоит в браке или состоит в гражданском браке, наименьшее у вдовцов/вдов.\n",
    "\n",
    "3. Зависимость между уровнем дохода и возвратом кредита в срок.\n",
    "\n",
    "Наибольшее число должников со средним доходом.\n",
    "\n",
    "4. Влияние цели кредита на его возврат в срок.\n",
    "\n",
    "Наибольшее число должников среди тех, кто берет кредит на авто или образование."
   ]
  }
 ],
 "metadata": {
  "ExecuteTimeLog": [
   {
    "duration": 878,
    "start_time": "2021-12-19T20:28:25.730Z"
   },
   {
    "duration": 90,
    "start_time": "2021-12-19T20:29:32.299Z"
   },
   {
    "duration": 101,
    "start_time": "2021-12-19T20:31:37.203Z"
   },
   {
    "duration": 13,
    "start_time": "2021-12-19T21:31:49.751Z"
   },
   {
    "duration": 105,
    "start_time": "2021-12-19T21:32:03.397Z"
   },
   {
    "duration": 21,
    "start_time": "2021-12-19T21:32:19.680Z"
   },
   {
    "duration": 14,
    "start_time": "2021-12-19T21:32:27.009Z"
   },
   {
    "duration": 19,
    "start_time": "2021-12-19T21:32:28.785Z"
   },
   {
    "duration": 19,
    "start_time": "2021-12-19T21:32:30.669Z"
   },
   {
    "duration": 858,
    "start_time": "2021-12-19T21:32:39.719Z"
   },
   {
    "duration": 13,
    "start_time": "2021-12-19T21:32:40.580Z"
   },
   {
    "duration": 50,
    "start_time": "2021-12-20T12:21:43.002Z"
   },
   {
    "duration": 246,
    "start_time": "2021-12-21T07:52:35.877Z"
   },
   {
    "duration": 777,
    "start_time": "2021-12-21T07:52:54.838Z"
   },
   {
    "duration": 24,
    "start_time": "2021-12-21T07:52:55.617Z"
   },
   {
    "duration": 6048,
    "start_time": "2021-12-21T07:52:58.353Z"
   },
   {
    "duration": 7,
    "start_time": "2021-12-21T07:53:14.753Z"
   },
   {
    "duration": 6,
    "start_time": "2021-12-21T07:54:01.377Z"
   },
   {
    "duration": 20,
    "start_time": "2021-12-21T08:12:40.762Z"
   },
   {
    "duration": 84,
    "start_time": "2021-12-21T08:26:04.050Z"
   },
   {
    "duration": 716,
    "start_time": "2021-12-21T08:26:11.202Z"
   },
   {
    "duration": 10,
    "start_time": "2021-12-21T08:26:11.920Z"
   },
   {
    "duration": 21,
    "start_time": "2021-12-21T08:26:11.932Z"
   },
   {
    "duration": 383,
    "start_time": "2021-12-21T08:28:47.913Z"
   },
   {
    "duration": 73,
    "start_time": "2021-12-21T08:30:16.473Z"
   },
   {
    "duration": 269,
    "start_time": "2021-12-21T08:41:47.101Z"
   },
   {
    "duration": 77,
    "start_time": "2021-12-21T08:42:17.655Z"
   },
   {
    "duration": 72,
    "start_time": "2021-12-21T08:42:34.941Z"
   },
   {
    "duration": 203,
    "start_time": "2021-12-21T08:46:05.213Z"
   },
   {
    "duration": 297,
    "start_time": "2021-12-21T08:49:19.156Z"
   },
   {
    "duration": 38,
    "start_time": "2021-12-21T08:52:30.224Z"
   },
   {
    "duration": 17,
    "start_time": "2021-12-21T08:52:38.223Z"
   },
   {
    "duration": 5,
    "start_time": "2021-12-21T08:54:34.483Z"
   },
   {
    "duration": 13,
    "start_time": "2021-12-21T08:54:51.742Z"
   },
   {
    "duration": 15,
    "start_time": "2021-12-21T09:25:52.431Z"
   },
   {
    "duration": 23,
    "start_time": "2021-12-21T09:26:17.591Z"
   },
   {
    "duration": 13,
    "start_time": "2021-12-21T09:34:05.572Z"
   },
   {
    "duration": 73,
    "start_time": "2021-12-21T09:43:33.644Z"
   },
   {
    "duration": 12,
    "start_time": "2021-12-21T09:43:33.720Z"
   },
   {
    "duration": 23,
    "start_time": "2021-12-21T09:43:33.734Z"
   },
   {
    "duration": 14,
    "start_time": "2021-12-21T09:43:33.759Z"
   },
   {
    "duration": 674,
    "start_time": "2021-12-21T09:43:44.884Z"
   },
   {
    "duration": 11,
    "start_time": "2021-12-21T09:43:45.560Z"
   },
   {
    "duration": 18,
    "start_time": "2021-12-21T09:43:45.573Z"
   },
   {
    "duration": 15,
    "start_time": "2021-12-21T09:43:45.593Z"
   },
   {
    "duration": 6,
    "start_time": "2021-12-21T09:53:24.847Z"
   },
   {
    "duration": 8,
    "start_time": "2021-12-21T09:53:51.435Z"
   },
   {
    "duration": 5,
    "start_time": "2021-12-21T09:54:19.238Z"
   },
   {
    "duration": 8,
    "start_time": "2021-12-21T09:54:47.038Z"
   },
   {
    "duration": 6,
    "start_time": "2021-12-21T09:55:45.638Z"
   },
   {
    "duration": 8,
    "start_time": "2021-12-21T09:56:02.026Z"
   },
   {
    "duration": 7,
    "start_time": "2021-12-21T09:56:44.386Z"
   },
   {
    "duration": 9,
    "start_time": "2021-12-21T09:57:12.446Z"
   },
   {
    "duration": 11,
    "start_time": "2021-12-21T10:01:06.818Z"
   },
   {
    "duration": 10,
    "start_time": "2021-12-21T10:01:17.447Z"
   },
   {
    "duration": 13,
    "start_time": "2021-12-21T10:01:43.806Z"
   },
   {
    "duration": 11,
    "start_time": "2021-12-21T10:02:37.398Z"
   },
   {
    "duration": 965,
    "start_time": "2021-12-21T17:08:42.334Z"
   },
   {
    "duration": 24,
    "start_time": "2021-12-21T17:08:43.302Z"
   },
   {
    "duration": 41,
    "start_time": "2021-12-21T17:08:43.329Z"
   },
   {
    "duration": 22,
    "start_time": "2021-12-21T17:08:43.372Z"
   },
   {
    "duration": 23,
    "start_time": "2021-12-21T17:08:43.397Z"
   },
   {
    "duration": 8,
    "start_time": "2021-12-21T17:31:34.364Z"
   },
   {
    "duration": 9,
    "start_time": "2021-12-21T17:31:56.822Z"
   },
   {
    "duration": 17,
    "start_time": "2021-12-21T17:33:07.848Z"
   },
   {
    "duration": 18,
    "start_time": "2021-12-21T17:33:35.737Z"
   },
   {
    "duration": 17,
    "start_time": "2021-12-21T17:33:41.966Z"
   },
   {
    "duration": 16,
    "start_time": "2021-12-21T17:33:55.806Z"
   },
   {
    "duration": 19,
    "start_time": "2021-12-21T17:46:33.982Z"
   },
   {
    "duration": 18,
    "start_time": "2021-12-21T17:46:47.701Z"
   },
   {
    "duration": 29,
    "start_time": "2021-12-21T17:48:17.189Z"
   },
   {
    "duration": 20,
    "start_time": "2021-12-21T17:48:47.924Z"
   },
   {
    "duration": 23,
    "start_time": "2021-12-21T17:48:58.751Z"
   },
   {
    "duration": 23,
    "start_time": "2021-12-21T17:49:20.617Z"
   },
   {
    "duration": 13,
    "start_time": "2021-12-21T17:49:28.348Z"
   },
   {
    "duration": 14,
    "start_time": "2021-12-21T17:49:30.507Z"
   },
   {
    "duration": 13,
    "start_time": "2021-12-21T17:49:31.580Z"
   },
   {
    "duration": 868,
    "start_time": "2021-12-21T17:49:37.810Z"
   },
   {
    "duration": 13,
    "start_time": "2021-12-21T17:49:38.681Z"
   },
   {
    "duration": 40,
    "start_time": "2021-12-21T17:49:38.698Z"
   },
   {
    "duration": 22,
    "start_time": "2021-12-21T17:49:38.741Z"
   },
   {
    "duration": 20,
    "start_time": "2021-12-21T17:49:38.765Z"
   },
   {
    "duration": 11,
    "start_time": "2021-12-21T17:49:42.602Z"
   },
   {
    "duration": 84,
    "start_time": "2021-12-21T17:49:52.295Z"
   },
   {
    "duration": 13,
    "start_time": "2021-12-21T17:49:53.946Z"
   },
   {
    "duration": 26,
    "start_time": "2021-12-21T17:50:35.955Z"
   },
   {
    "duration": 85,
    "start_time": "2021-12-21T17:50:51.074Z"
   },
   {
    "duration": 28,
    "start_time": "2021-12-21T17:50:52.413Z"
   },
   {
    "duration": 12,
    "start_time": "2021-12-21T17:51:00.426Z"
   },
   {
    "duration": 13,
    "start_time": "2021-12-21T17:51:01.923Z"
   },
   {
    "duration": 13,
    "start_time": "2021-12-21T17:51:05.015Z"
   },
   {
    "duration": 855,
    "start_time": "2021-12-21T17:51:14.306Z"
   },
   {
    "duration": 12,
    "start_time": "2021-12-21T17:51:15.164Z"
   },
   {
    "duration": 20,
    "start_time": "2021-12-21T17:51:15.179Z"
   },
   {
    "duration": 18,
    "start_time": "2021-12-21T17:51:15.224Z"
   },
   {
    "duration": 16,
    "start_time": "2021-12-21T17:51:15.244Z"
   },
   {
    "duration": 17,
    "start_time": "2021-12-21T17:51:54.009Z"
   },
   {
    "duration": 17,
    "start_time": "2021-12-21T17:52:41.209Z"
   },
   {
    "duration": 22,
    "start_time": "2021-12-21T18:12:11.708Z"
   },
   {
    "duration": 17,
    "start_time": "2021-12-21T18:12:38.805Z"
   },
   {
    "duration": 34,
    "start_time": "2021-12-21T18:23:48.166Z"
   },
   {
    "duration": 842,
    "start_time": "2021-12-21T18:36:06.858Z"
   },
   {
    "duration": 20,
    "start_time": "2021-12-21T18:36:07.704Z"
   },
   {
    "duration": 18,
    "start_time": "2021-12-21T18:36:07.727Z"
   },
   {
    "duration": 18,
    "start_time": "2021-12-21T18:36:07.748Z"
   },
   {
    "duration": 62,
    "start_time": "2021-12-21T18:36:07.768Z"
   },
   {
    "duration": 70,
    "start_time": "2021-12-21T18:36:07.833Z"
   },
   {
    "duration": 865,
    "start_time": "2021-12-21T19:46:11.889Z"
   },
   {
    "duration": 13,
    "start_time": "2021-12-21T19:46:12.757Z"
   },
   {
    "duration": 43,
    "start_time": "2021-12-21T19:46:12.774Z"
   },
   {
    "duration": 21,
    "start_time": "2021-12-21T19:46:12.820Z"
   },
   {
    "duration": 28,
    "start_time": "2021-12-21T19:46:12.843Z"
   },
   {
    "duration": 32,
    "start_time": "2021-12-21T19:46:12.873Z"
   },
   {
    "duration": 10,
    "start_time": "2021-12-21T19:56:27.524Z"
   },
   {
    "duration": 7,
    "start_time": "2021-12-21T19:58:05.202Z"
   },
   {
    "duration": 11,
    "start_time": "2021-12-21T19:58:10.719Z"
   },
   {
    "duration": 430,
    "start_time": "2021-12-21T19:59:49.817Z"
   },
   {
    "duration": 115,
    "start_time": "2021-12-21T20:06:53.122Z"
   },
   {
    "duration": 17,
    "start_time": "2021-12-21T20:06:53.240Z"
   },
   {
    "duration": 21,
    "start_time": "2021-12-21T20:06:53.260Z"
   },
   {
    "duration": 53,
    "start_time": "2021-12-21T20:06:53.284Z"
   },
   {
    "duration": 18,
    "start_time": "2021-12-21T20:06:53.339Z"
   },
   {
    "duration": 25,
    "start_time": "2021-12-21T20:06:53.360Z"
   },
   {
    "duration": 42,
    "start_time": "2021-12-21T20:06:53.387Z"
   },
   {
    "duration": 8,
    "start_time": "2021-12-21T20:11:55.220Z"
   },
   {
    "duration": 7,
    "start_time": "2021-12-21T20:12:17.840Z"
   },
   {
    "duration": 333,
    "start_time": "2021-12-21T20:13:21.259Z"
   },
   {
    "duration": 19,
    "start_time": "2021-12-21T20:18:06.856Z"
   },
   {
    "duration": 518,
    "start_time": "2021-12-21T20:24:58.637Z"
   },
   {
    "duration": 662,
    "start_time": "2021-12-21T20:25:06.289Z"
   },
   {
    "duration": 522,
    "start_time": "2021-12-21T20:27:02.314Z"
   },
   {
    "duration": 528,
    "start_time": "2021-12-21T20:29:16.418Z"
   },
   {
    "duration": 915,
    "start_time": "2021-12-21T20:30:12.465Z"
   },
   {
    "duration": 324,
    "start_time": "2021-12-21T20:32:42.926Z"
   },
   {
    "duration": 898,
    "start_time": "2021-12-21T20:32:47.492Z"
   },
   {
    "duration": 824,
    "start_time": "2021-12-21T20:33:03.251Z"
   },
   {
    "duration": 12,
    "start_time": "2021-12-21T20:33:04.077Z"
   },
   {
    "duration": 41,
    "start_time": "2021-12-21T20:33:04.092Z"
   },
   {
    "duration": 22,
    "start_time": "2021-12-21T20:33:04.137Z"
   },
   {
    "duration": 29,
    "start_time": "2021-12-21T20:33:04.161Z"
   },
   {
    "duration": 44,
    "start_time": "2021-12-21T20:33:04.193Z"
   },
   {
    "duration": 14,
    "start_time": "2021-12-21T20:33:04.239Z"
   },
   {
    "duration": 958,
    "start_time": "2021-12-21T20:33:04.256Z"
   },
   {
    "duration": 962,
    "start_time": "2021-12-21T20:35:58.417Z"
   },
   {
    "duration": 6346,
    "start_time": "2021-12-21T20:36:23.277Z"
   },
   {
    "duration": 6231,
    "start_time": "2021-12-21T20:57:25.017Z"
   },
   {
    "duration": 323,
    "start_time": "2021-12-21T20:57:38.266Z"
   },
   {
    "duration": 6158,
    "start_time": "2021-12-21T20:57:45.008Z"
   },
   {
    "duration": 7257,
    "start_time": "2021-12-21T20:58:54.198Z"
   },
   {
    "duration": -97480,
    "start_time": "2021-12-21T21:01:34.511Z"
   },
   {
    "duration": 929,
    "start_time": "2021-12-21T21:00:12.543Z"
   },
   {
    "duration": 14,
    "start_time": "2021-12-21T21:00:13.476Z"
   },
   {
    "duration": 54,
    "start_time": "2021-12-21T21:00:13.494Z"
   },
   {
    "duration": 17,
    "start_time": "2021-12-21T21:00:13.551Z"
   },
   {
    "duration": 16,
    "start_time": "2021-12-21T21:00:13.570Z"
   },
   {
    "duration": 61,
    "start_time": "2021-12-21T21:00:13.588Z"
   },
   {
    "duration": 10,
    "start_time": "2021-12-21T21:00:13.651Z"
   },
   {
    "duration": 6671,
    "start_time": "2021-12-21T21:00:13.664Z"
   },
   {
    "duration": 6061,
    "start_time": "2021-12-21T21:00:36.636Z"
   },
   {
    "duration": 7417,
    "start_time": "2021-12-21T21:01:40.939Z"
   },
   {
    "duration": 899,
    "start_time": "2021-12-21T21:08:28.712Z"
   },
   {
    "duration": 6662,
    "start_time": "2021-12-21T21:09:15.154Z"
   },
   {
    "duration": 906,
    "start_time": "2021-12-21T21:09:36.408Z"
   },
   {
    "duration": 119,
    "start_time": "2021-12-21T21:10:25.854Z"
   },
   {
    "duration": 359,
    "start_time": "2021-12-21T21:10:34.378Z"
   },
   {
    "duration": 1052,
    "start_time": "2021-12-21T21:10:45.193Z"
   },
   {
    "duration": 933,
    "start_time": "2021-12-21T21:11:48.898Z"
   },
   {
    "duration": 966,
    "start_time": "2021-12-21T21:12:25.297Z"
   },
   {
    "duration": 777,
    "start_time": "2021-12-21T21:12:36.274Z"
   },
   {
    "duration": 13,
    "start_time": "2021-12-21T21:12:37.053Z"
   },
   {
    "duration": 22,
    "start_time": "2021-12-21T21:12:37.070Z"
   },
   {
    "duration": 44,
    "start_time": "2021-12-21T21:12:37.094Z"
   },
   {
    "duration": 17,
    "start_time": "2021-12-21T21:12:37.140Z"
   },
   {
    "duration": 27,
    "start_time": "2021-12-21T21:12:37.160Z"
   },
   {
    "duration": 40,
    "start_time": "2021-12-21T21:12:37.189Z"
   },
   {
    "duration": 982,
    "start_time": "2021-12-21T21:12:37.232Z"
   },
   {
    "duration": 955,
    "start_time": "2021-12-21T21:17:25.281Z"
   },
   {
    "duration": 939,
    "start_time": "2021-12-21T21:19:10.320Z"
   },
   {
    "duration": 795,
    "start_time": "2021-12-21T21:19:30.749Z"
   },
   {
    "duration": 15,
    "start_time": "2021-12-21T21:19:31.547Z"
   },
   {
    "duration": 22,
    "start_time": "2021-12-21T21:19:31.565Z"
   },
   {
    "duration": 46,
    "start_time": "2021-12-21T21:19:31.590Z"
   },
   {
    "duration": 15,
    "start_time": "2021-12-21T21:19:31.638Z"
   },
   {
    "duration": 26,
    "start_time": "2021-12-21T21:19:31.656Z"
   },
   {
    "duration": 40,
    "start_time": "2021-12-21T21:19:31.685Z"
   },
   {
    "duration": 922,
    "start_time": "2021-12-21T21:19:31.729Z"
   },
   {
    "duration": 938,
    "start_time": "2021-12-21T21:19:51.340Z"
   },
   {
    "duration": 778,
    "start_time": "2021-12-21T22:20:11.071Z"
   },
   {
    "duration": 11,
    "start_time": "2021-12-21T22:20:11.852Z"
   },
   {
    "duration": 29,
    "start_time": "2021-12-21T22:20:11.866Z"
   },
   {
    "duration": 33,
    "start_time": "2021-12-21T22:20:11.898Z"
   },
   {
    "duration": 16,
    "start_time": "2021-12-21T22:20:11.934Z"
   },
   {
    "duration": 29,
    "start_time": "2021-12-21T22:20:11.952Z"
   },
   {
    "duration": 18,
    "start_time": "2021-12-21T22:20:11.983Z"
   },
   {
    "duration": 29,
    "start_time": "2021-12-21T22:20:12.024Z"
   },
   {
    "duration": 8,
    "start_time": "2021-12-21T22:25:51.722Z"
   },
   {
    "duration": 383,
    "start_time": "2021-12-21T22:30:07.473Z"
   },
   {
    "duration": 100,
    "start_time": "2021-12-21T22:30:12.857Z"
   },
   {
    "duration": 871,
    "start_time": "2021-12-21T22:30:15.009Z"
   },
   {
    "duration": 937,
    "start_time": "2021-12-21T22:32:29.200Z"
   },
   {
    "duration": 1873,
    "start_time": "2021-12-21T22:35:30.184Z"
   },
   {
    "duration": 527,
    "start_time": "2021-12-21T22:36:06.145Z"
   },
   {
    "duration": 2901,
    "start_time": "2021-12-21T22:37:32.288Z"
   },
   {
    "duration": 959,
    "start_time": "2021-12-21T22:38:02.024Z"
   },
   {
    "duration": 1513,
    "start_time": "2021-12-21T22:38:41.213Z"
   },
   {
    "duration": 533,
    "start_time": "2021-12-21T22:38:47.373Z"
   },
   {
    "duration": 964,
    "start_time": "2021-12-21T22:39:02.559Z"
   },
   {
    "duration": 951,
    "start_time": "2021-12-21T22:44:00.813Z"
   },
   {
    "duration": 1622,
    "start_time": "2021-12-21T22:44:16.593Z"
   },
   {
    "duration": 8,
    "start_time": "2021-12-21T22:48:11.595Z"
   },
   {
    "duration": 6,
    "start_time": "2021-12-21T22:49:02.143Z"
   },
   {
    "duration": 106,
    "start_time": "2021-12-21T22:49:11.760Z"
   },
   {
    "duration": 1434,
    "start_time": "2021-12-21T22:49:19.694Z"
   },
   {
    "duration": 5,
    "start_time": "2021-12-21T22:49:54.660Z"
   },
   {
    "duration": 8,
    "start_time": "2021-12-21T22:50:03.933Z"
   },
   {
    "duration": 919,
    "start_time": "2021-12-21T22:51:22.679Z"
   },
   {
    "duration": 1455,
    "start_time": "2021-12-21T22:51:32.853Z"
   },
   {
    "duration": 540,
    "start_time": "2021-12-21T22:51:44.351Z"
   },
   {
    "duration": 6,
    "start_time": "2021-12-21T22:51:49.641Z"
   },
   {
    "duration": 7,
    "start_time": "2021-12-21T22:53:18.896Z"
   },
   {
    "duration": 913,
    "start_time": "2021-12-21T22:53:44.244Z"
   },
   {
    "duration": 916,
    "start_time": "2021-12-21T22:53:56.634Z"
   },
   {
    "duration": 35,
    "start_time": "2021-12-21T22:54:08.431Z"
   },
   {
    "duration": 540,
    "start_time": "2021-12-21T22:54:23.098Z"
   },
   {
    "duration": 543,
    "start_time": "2021-12-21T22:54:41.813Z"
   },
   {
    "duration": 530,
    "start_time": "2021-12-21T22:54:51.909Z"
   },
   {
    "duration": 614,
    "start_time": "2021-12-21T22:55:22.430Z"
   },
   {
    "duration": 624,
    "start_time": "2021-12-21T22:55:41.277Z"
   },
   {
    "duration": 4,
    "start_time": "2021-12-21T22:58:26.865Z"
   },
   {
    "duration": 2286,
    "start_time": "2021-12-21T23:01:07.072Z"
   },
   {
    "duration": 326,
    "start_time": "2021-12-21T23:03:12.727Z"
   },
   {
    "duration": 894,
    "start_time": "2021-12-21T23:03:24.332Z"
   },
   {
    "duration": 12,
    "start_time": "2021-12-21T23:03:25.228Z"
   },
   {
    "duration": 41,
    "start_time": "2021-12-21T23:03:25.243Z"
   },
   {
    "duration": 36,
    "start_time": "2021-12-21T23:03:25.288Z"
   },
   {
    "duration": 18,
    "start_time": "2021-12-21T23:03:25.327Z"
   },
   {
    "duration": 54,
    "start_time": "2021-12-21T23:03:25.348Z"
   },
   {
    "duration": 23,
    "start_time": "2021-12-21T23:03:25.404Z"
   },
   {
    "duration": 962,
    "start_time": "2021-12-21T23:03:25.431Z"
   },
   {
    "duration": -97447,
    "start_time": "2021-12-21T23:08:25.175Z"
   },
   {
    "duration": 839,
    "start_time": "2021-12-21T23:07:09.631Z"
   },
   {
    "duration": 14,
    "start_time": "2021-12-21T23:07:10.473Z"
   },
   {
    "duration": 43,
    "start_time": "2021-12-21T23:07:10.491Z"
   },
   {
    "duration": 19,
    "start_time": "2021-12-21T23:07:10.537Z"
   },
   {
    "duration": 18,
    "start_time": "2021-12-21T23:07:10.560Z"
   },
   {
    "duration": 66,
    "start_time": "2021-12-21T23:07:10.581Z"
   },
   {
    "duration": 10,
    "start_time": "2021-12-21T23:07:10.650Z"
   },
   {
    "duration": -97423,
    "start_time": "2021-12-21T23:08:57.048Z"
   },
   {
    "duration": 9509,
    "start_time": "2021-12-21T23:07:34.712Z"
   },
   {
    "duration": 8892,
    "start_time": "2021-12-21T23:08:14.938Z"
   },
   {
    "duration": 35,
    "start_time": "2021-12-21T23:14:07.129Z"
   },
   {
    "duration": 5,
    "start_time": "2021-12-21T23:14:10.369Z"
   },
   {
    "duration": 846,
    "start_time": "2021-12-21T23:14:15.278Z"
   },
   {
    "duration": 11,
    "start_time": "2021-12-21T23:14:16.127Z"
   },
   {
    "duration": 37,
    "start_time": "2021-12-21T23:14:16.141Z"
   },
   {
    "duration": 25,
    "start_time": "2021-12-21T23:14:16.181Z"
   },
   {
    "duration": 35,
    "start_time": "2021-12-21T23:14:16.209Z"
   },
   {
    "duration": 57,
    "start_time": "2021-12-21T23:14:16.246Z"
   },
   {
    "duration": 47,
    "start_time": "2021-12-21T23:14:16.305Z"
   },
   {
    "duration": 33,
    "start_time": "2021-12-21T23:14:16.356Z"
   },
   {
    "duration": 2249,
    "start_time": "2021-12-21T23:16:26.977Z"
   },
   {
    "duration": 2209,
    "start_time": "2021-12-21T23:16:47.226Z"
   },
   {
    "duration": 347,
    "start_time": "2021-12-21T23:17:05.459Z"
   },
   {
    "duration": 416,
    "start_time": "2021-12-21T23:19:20.654Z"
   },
   {
    "duration": 349,
    "start_time": "2021-12-21T23:20:12.225Z"
   },
   {
    "duration": 20,
    "start_time": "2021-12-21T23:20:48.862Z"
   },
   {
    "duration": 21,
    "start_time": "2021-12-21T23:22:49.111Z"
   },
   {
    "duration": 325,
    "start_time": "2021-12-21T23:24:12.314Z"
   },
   {
    "duration": 932,
    "start_time": "2021-12-21T23:24:43.416Z"
   },
   {
    "duration": 69,
    "start_time": "2021-12-21T23:30:50.306Z"
   },
   {
    "duration": 945,
    "start_time": "2021-12-21T23:32:10.212Z"
   },
   {
    "duration": 852,
    "start_time": "2021-12-21T23:32:29.712Z"
   },
   {
    "duration": 12,
    "start_time": "2021-12-21T23:32:30.567Z"
   },
   {
    "duration": 47,
    "start_time": "2021-12-21T23:32:30.585Z"
   },
   {
    "duration": 17,
    "start_time": "2021-12-21T23:32:30.635Z"
   },
   {
    "duration": 25,
    "start_time": "2021-12-21T23:32:30.654Z"
   },
   {
    "duration": 42,
    "start_time": "2021-12-21T23:32:30.682Z"
   },
   {
    "duration": 22,
    "start_time": "2021-12-21T23:32:30.727Z"
   },
   {
    "duration": 932,
    "start_time": "2021-12-21T23:32:30.752Z"
   },
   {
    "duration": 884,
    "start_time": "2021-12-22T06:34:16.668Z"
   },
   {
    "duration": 13,
    "start_time": "2021-12-22T06:34:17.555Z"
   },
   {
    "duration": 23,
    "start_time": "2021-12-22T06:34:17.571Z"
   },
   {
    "duration": 20,
    "start_time": "2021-12-22T06:34:17.597Z"
   },
   {
    "duration": 54,
    "start_time": "2021-12-22T06:34:17.619Z"
   },
   {
    "duration": 27,
    "start_time": "2021-12-22T06:34:17.676Z"
   },
   {
    "duration": 10,
    "start_time": "2021-12-22T06:34:17.705Z"
   },
   {
    "duration": 1035,
    "start_time": "2021-12-22T06:34:17.717Z"
   },
   {
    "duration": 974,
    "start_time": "2021-12-22T06:49:25.138Z"
   },
   {
    "duration": 972,
    "start_time": "2021-12-22T06:49:42.130Z"
   },
   {
    "duration": 721,
    "start_time": "2021-12-22T06:52:09.098Z"
   },
   {
    "duration": 141,
    "start_time": "2021-12-22T06:55:15.700Z"
   },
   {
    "duration": 1343,
    "start_time": "2021-12-22T06:55:53.438Z"
   },
   {
    "duration": 39,
    "start_time": "2021-12-22T07:01:16.488Z"
   },
   {
    "duration": 983,
    "start_time": "2021-12-22T07:02:20.770Z"
   },
   {
    "duration": 14,
    "start_time": "2021-12-22T07:02:21.756Z"
   },
   {
    "duration": 22,
    "start_time": "2021-12-22T07:02:21.773Z"
   },
   {
    "duration": 19,
    "start_time": "2021-12-22T07:02:21.798Z"
   },
   {
    "duration": 17,
    "start_time": "2021-12-22T07:02:21.819Z"
   },
   {
    "duration": 33,
    "start_time": "2021-12-22T07:02:21.838Z"
   },
   {
    "duration": 10,
    "start_time": "2021-12-22T07:02:21.874Z"
   },
   {
    "duration": 40,
    "start_time": "2021-12-22T07:02:21.886Z"
   },
   {
    "duration": 961,
    "start_time": "2021-12-22T07:06:45.048Z"
   },
   {
    "duration": 1448,
    "start_time": "2021-12-22T07:07:03.429Z"
   },
   {
    "duration": 1077,
    "start_time": "2021-12-22T07:08:04.228Z"
   },
   {
    "duration": 837,
    "start_time": "2021-12-22T07:08:23.863Z"
   },
   {
    "duration": 12,
    "start_time": "2021-12-22T07:08:24.703Z"
   },
   {
    "duration": 46,
    "start_time": "2021-12-22T07:08:24.718Z"
   },
   {
    "duration": 19,
    "start_time": "2021-12-22T07:08:24.768Z"
   },
   {
    "duration": 19,
    "start_time": "2021-12-22T07:08:24.790Z"
   },
   {
    "duration": 61,
    "start_time": "2021-12-22T07:08:24.811Z"
   },
   {
    "duration": 11,
    "start_time": "2021-12-22T07:08:24.874Z"
   },
   {
    "duration": 979,
    "start_time": "2021-12-22T07:08:24.888Z"
   },
   {
    "duration": 5375,
    "start_time": "2021-12-22T07:12:19.004Z"
   },
   {
    "duration": 112,
    "start_time": "2021-12-22T07:20:42.560Z"
   },
   {
    "duration": 958,
    "start_time": "2021-12-22T07:20:47.284Z"
   },
   {
    "duration": 819,
    "start_time": "2021-12-22T07:21:03.693Z"
   },
   {
    "duration": 14,
    "start_time": "2021-12-22T07:21:04.514Z"
   },
   {
    "duration": 40,
    "start_time": "2021-12-22T07:21:04.532Z"
   },
   {
    "duration": 18,
    "start_time": "2021-12-22T07:21:04.575Z"
   },
   {
    "duration": 16,
    "start_time": "2021-12-22T07:21:04.595Z"
   },
   {
    "duration": 54,
    "start_time": "2021-12-22T07:21:04.614Z"
   },
   {
    "duration": 11,
    "start_time": "2021-12-22T07:21:04.670Z"
   },
   {
    "duration": 432,
    "start_time": "2021-12-22T07:21:04.683Z"
   },
   {
    "duration": 1363,
    "start_time": "2021-12-22T07:21:31.532Z"
   },
   {
    "duration": 13240,
    "start_time": "2021-12-22T07:21:47.432Z"
   },
   {
    "duration": 969,
    "start_time": "2021-12-22T07:22:30.632Z"
   },
   {
    "duration": 1056,
    "start_time": "2021-12-22T07:35:05.981Z"
   },
   {
    "duration": 989,
    "start_time": "2021-12-22T07:36:11.662Z"
   },
   {
    "duration": 1016,
    "start_time": "2021-12-22T07:37:12.361Z"
   },
   {
    "duration": 4901,
    "start_time": "2021-12-22T07:37:44.181Z"
   },
   {
    "duration": 4771,
    "start_time": "2021-12-22T07:42:50.941Z"
   },
   {
    "duration": 5407,
    "start_time": "2021-12-22T07:43:50.102Z"
   },
   {
    "duration": 6393,
    "start_time": "2021-12-22T07:44:23.002Z"
   },
   {
    "duration": 15,
    "start_time": "2021-12-22T07:45:18.367Z"
   },
   {
    "duration": 11,
    "start_time": "2021-12-22T07:45:29.644Z"
   },
   {
    "duration": 5260,
    "start_time": "2021-12-22T07:45:58.622Z"
   },
   {
    "duration": 5058,
    "start_time": "2021-12-22T07:46:28.461Z"
   },
   {
    "duration": 876,
    "start_time": "2021-12-22T07:46:45.217Z"
   },
   {
    "duration": 15,
    "start_time": "2021-12-22T07:46:46.096Z"
   },
   {
    "duration": 46,
    "start_time": "2021-12-22T07:46:46.114Z"
   },
   {
    "duration": 20,
    "start_time": "2021-12-22T07:46:46.164Z"
   },
   {
    "duration": 19,
    "start_time": "2021-12-22T07:46:46.187Z"
   },
   {
    "duration": 67,
    "start_time": "2021-12-22T07:46:46.209Z"
   },
   {
    "duration": 11,
    "start_time": "2021-12-22T07:46:46.278Z"
   },
   {
    "duration": 4949,
    "start_time": "2021-12-22T07:46:46.291Z"
   },
   {
    "duration": 864,
    "start_time": "2021-12-22T07:47:29.776Z"
   },
   {
    "duration": 22,
    "start_time": "2021-12-22T07:47:30.643Z"
   },
   {
    "duration": 21,
    "start_time": "2021-12-22T07:47:30.668Z"
   },
   {
    "duration": 19,
    "start_time": "2021-12-22T07:47:30.691Z"
   },
   {
    "duration": 47,
    "start_time": "2021-12-22T07:47:30.712Z"
   },
   {
    "duration": 32,
    "start_time": "2021-12-22T07:47:30.762Z"
   },
   {
    "duration": 11,
    "start_time": "2021-12-22T07:47:30.796Z"
   },
   {
    "duration": 5065,
    "start_time": "2021-12-22T07:47:30.809Z"
   },
   {
    "duration": 20,
    "start_time": "2021-12-22T09:19:42.182Z"
   },
   {
    "duration": 24,
    "start_time": "2021-12-22T09:35:28.905Z"
   },
   {
    "duration": 43,
    "start_time": "2021-12-22T09:40:59.465Z"
   },
   {
    "duration": 45,
    "start_time": "2021-12-22T09:41:24.003Z"
   },
   {
    "duration": 31,
    "start_time": "2021-12-22T09:41:39.723Z"
   },
   {
    "duration": 32,
    "start_time": "2021-12-22T09:41:44.123Z"
   },
   {
    "duration": 40,
    "start_time": "2021-12-22T09:41:50.283Z"
   },
   {
    "duration": 32,
    "start_time": "2021-12-22T09:42:07.484Z"
   },
   {
    "duration": 31,
    "start_time": "2021-12-22T09:42:13.943Z"
   },
   {
    "duration": 27,
    "start_time": "2021-12-22T09:42:55.683Z"
   },
   {
    "duration": 27,
    "start_time": "2021-12-22T09:43:10.804Z"
   },
   {
    "duration": 31,
    "start_time": "2021-12-22T09:44:44.806Z"
   },
   {
    "duration": 40,
    "start_time": "2021-12-22T09:49:08.684Z"
   },
   {
    "duration": 20,
    "start_time": "2021-12-22T10:04:08.551Z"
   },
   {
    "duration": 26,
    "start_time": "2021-12-22T10:06:23.771Z"
   },
   {
    "duration": 24,
    "start_time": "2021-12-22T10:06:40.832Z"
   },
   {
    "duration": 22,
    "start_time": "2021-12-22T10:06:53.691Z"
   },
   {
    "duration": 21,
    "start_time": "2021-12-22T10:07:02.692Z"
   },
   {
    "duration": 49,
    "start_time": "2021-12-22T10:07:35.152Z"
   },
   {
    "duration": 51,
    "start_time": "2021-12-22T10:08:01.651Z"
   },
   {
    "duration": 28,
    "start_time": "2021-12-22T10:09:20.872Z"
   },
   {
    "duration": 22,
    "start_time": "2021-12-22T10:10:52.752Z"
   },
   {
    "duration": 6,
    "start_time": "2021-12-22T10:15:09.491Z"
   },
   {
    "duration": 410,
    "start_time": "2021-12-22T10:15:24.854Z"
   },
   {
    "duration": 10,
    "start_time": "2021-12-22T10:15:48.072Z"
   },
   {
    "duration": 8,
    "start_time": "2021-12-22T10:15:59.252Z"
   },
   {
    "duration": 8,
    "start_time": "2021-12-22T10:16:11.800Z"
   },
   {
    "duration": 109,
    "start_time": "2021-12-22T10:18:42.352Z"
   },
   {
    "duration": 847,
    "start_time": "2021-12-22T10:29:08.086Z"
   },
   {
    "duration": 12,
    "start_time": "2021-12-22T10:29:08.936Z"
   },
   {
    "duration": 22,
    "start_time": "2021-12-22T10:29:08.960Z"
   },
   {
    "duration": 19,
    "start_time": "2021-12-22T10:29:08.984Z"
   },
   {
    "duration": 16,
    "start_time": "2021-12-22T10:29:09.006Z"
   },
   {
    "duration": 25,
    "start_time": "2021-12-22T10:29:09.060Z"
   },
   {
    "duration": 22,
    "start_time": "2021-12-22T10:29:09.088Z"
   },
   {
    "duration": 5160,
    "start_time": "2021-12-22T10:29:09.114Z"
   },
   {
    "duration": 32,
    "start_time": "2021-12-22T10:29:14.277Z"
   },
   {
    "duration": 20,
    "start_time": "2021-12-22T10:29:25.039Z"
   },
   {
    "duration": 29,
    "start_time": "2021-12-22T10:39:25.706Z"
   },
   {
    "duration": 20,
    "start_time": "2021-12-22T10:39:40.018Z"
   },
   {
    "duration": 921,
    "start_time": "2021-12-22T11:39:28.171Z"
   },
   {
    "duration": 18,
    "start_time": "2021-12-22T11:39:29.095Z"
   },
   {
    "duration": 45,
    "start_time": "2021-12-22T11:39:29.117Z"
   },
   {
    "duration": 19,
    "start_time": "2021-12-22T11:39:29.165Z"
   },
   {
    "duration": 19,
    "start_time": "2021-12-22T11:39:29.186Z"
   },
   {
    "duration": 65,
    "start_time": "2021-12-22T11:39:29.208Z"
   },
   {
    "duration": 17,
    "start_time": "2021-12-22T11:39:29.277Z"
   },
   {
    "duration": 5625,
    "start_time": "2021-12-22T11:39:29.297Z"
   },
   {
    "duration": 35,
    "start_time": "2021-12-22T11:39:34.927Z"
   },
   {
    "duration": 29,
    "start_time": "2021-12-22T11:39:48.659Z"
   },
   {
    "duration": 27,
    "start_time": "2021-12-22T11:40:15.490Z"
   },
   {
    "duration": 403,
    "start_time": "2021-12-22T11:45:54.654Z"
   },
   {
    "duration": 1601,
    "start_time": "2021-12-22T11:46:35.554Z"
   },
   {
    "duration": 33,
    "start_time": "2021-12-22T11:47:16.731Z"
   },
   {
    "duration": 29,
    "start_time": "2021-12-22T11:47:26.169Z"
   },
   {
    "duration": 28,
    "start_time": "2021-12-22T11:47:41.982Z"
   },
   {
    "duration": 33,
    "start_time": "2021-12-22T11:47:54.290Z"
   },
   {
    "duration": 411,
    "start_time": "2021-12-22T11:48:37.569Z"
   },
   {
    "duration": 368,
    "start_time": "2021-12-22T11:49:01.496Z"
   },
   {
    "duration": 55,
    "start_time": "2021-12-22T11:49:12.326Z"
   },
   {
    "duration": 31,
    "start_time": "2021-12-22T11:58:36.186Z"
   },
   {
    "duration": 26,
    "start_time": "2021-12-22T12:02:16.756Z"
   },
   {
    "duration": 401,
    "start_time": "2021-12-22T12:05:05.026Z"
   },
   {
    "duration": 10,
    "start_time": "2021-12-22T12:05:23.308Z"
   },
   {
    "duration": 11,
    "start_time": "2021-12-22T12:05:35.426Z"
   },
   {
    "duration": 21,
    "start_time": "2021-12-22T12:07:40.867Z"
   },
   {
    "duration": 20,
    "start_time": "2021-12-22T12:07:46.828Z"
   },
   {
    "duration": 20,
    "start_time": "2021-12-22T12:07:53.666Z"
   },
   {
    "duration": 850,
    "start_time": "2021-12-22T12:08:25.004Z"
   },
   {
    "duration": 15,
    "start_time": "2021-12-22T12:08:25.860Z"
   },
   {
    "duration": 21,
    "start_time": "2021-12-22T12:08:25.879Z"
   },
   {
    "duration": 55,
    "start_time": "2021-12-22T12:08:25.904Z"
   },
   {
    "duration": 19,
    "start_time": "2021-12-22T12:08:25.963Z"
   },
   {
    "duration": 27,
    "start_time": "2021-12-22T12:08:25.984Z"
   },
   {
    "duration": 11,
    "start_time": "2021-12-22T12:08:26.013Z"
   },
   {
    "duration": 4673,
    "start_time": "2021-12-22T12:08:26.026Z"
   },
   {
    "duration": 26,
    "start_time": "2021-12-22T12:08:30.703Z"
   },
   {
    "duration": 30,
    "start_time": "2021-12-22T12:19:28.284Z"
   },
   {
    "duration": 1298,
    "start_time": "2021-12-22T12:32:00.879Z"
   },
   {
    "duration": 19,
    "start_time": "2021-12-22T12:32:02.181Z"
   },
   {
    "duration": 23,
    "start_time": "2021-12-22T12:32:02.204Z"
   },
   {
    "duration": 48,
    "start_time": "2021-12-22T12:32:02.230Z"
   },
   {
    "duration": 25,
    "start_time": "2021-12-22T12:32:02.282Z"
   },
   {
    "duration": 56,
    "start_time": "2021-12-22T12:32:02.310Z"
   },
   {
    "duration": 13,
    "start_time": "2021-12-22T12:32:02.369Z"
   },
   {
    "duration": 5830,
    "start_time": "2021-12-22T12:32:02.387Z"
   },
   {
    "duration": 41,
    "start_time": "2021-12-22T12:32:08.220Z"
   },
   {
    "duration": 30,
    "start_time": "2021-12-22T12:32:08.264Z"
   },
   {
    "duration": 3,
    "start_time": "2021-12-22T12:32:08.296Z"
   },
   {
    "duration": 12,
    "start_time": "2021-12-22T12:40:51.898Z"
   },
   {
    "duration": 13,
    "start_time": "2021-12-22T12:40:57.500Z"
   },
   {
    "duration": 32,
    "start_time": "2021-12-22T12:42:38.418Z"
   },
   {
    "duration": 35,
    "start_time": "2021-12-22T12:44:06.259Z"
   },
   {
    "duration": 330,
    "start_time": "2021-12-22T18:31:57.414Z"
   },
   {
    "duration": 638,
    "start_time": "2021-12-22T18:32:07.356Z"
   },
   {
    "duration": 8,
    "start_time": "2021-12-22T18:32:07.996Z"
   },
   {
    "duration": 13,
    "start_time": "2021-12-22T18:32:08.006Z"
   },
   {
    "duration": 31,
    "start_time": "2021-12-22T18:32:08.021Z"
   },
   {
    "duration": 11,
    "start_time": "2021-12-22T18:32:08.054Z"
   },
   {
    "duration": 17,
    "start_time": "2021-12-22T18:32:08.067Z"
   },
   {
    "duration": 10,
    "start_time": "2021-12-22T18:32:08.086Z"
   },
   {
    "duration": 3457,
    "start_time": "2021-12-22T18:32:08.098Z"
   },
   {
    "duration": 13,
    "start_time": "2021-12-22T18:32:11.557Z"
   },
   {
    "duration": 17,
    "start_time": "2021-12-22T18:32:11.572Z"
   },
   {
    "duration": 18,
    "start_time": "2021-12-22T18:32:11.590Z"
   },
   {
    "duration": 37,
    "start_time": "2021-12-22T18:32:11.610Z"
   },
   {
    "duration": 24,
    "start_time": "2021-12-22T18:32:11.648Z"
   },
   {
    "duration": 15,
    "start_time": "2021-12-22T18:32:17.830Z"
   },
   {
    "duration": 17,
    "start_time": "2021-12-22T18:32:36.854Z"
   },
   {
    "duration": 17,
    "start_time": "2021-12-22T18:32:51.166Z"
   },
   {
    "duration": 271,
    "start_time": "2021-12-22T18:33:53.031Z"
   },
   {
    "duration": 19,
    "start_time": "2021-12-22T18:34:07.798Z"
   },
   {
    "duration": 17,
    "start_time": "2021-12-22T18:34:28.158Z"
   },
   {
    "duration": 19,
    "start_time": "2021-12-22T18:34:56.407Z"
   },
   {
    "duration": 19,
    "start_time": "2021-12-22T18:35:12.581Z"
   },
   {
    "duration": 20,
    "start_time": "2021-12-22T18:35:26.095Z"
   },
   {
    "duration": 31,
    "start_time": "2021-12-22T18:36:02.237Z"
   },
   {
    "duration": 19,
    "start_time": "2021-12-22T18:37:28.706Z"
   },
   {
    "duration": 260,
    "start_time": "2021-12-22T18:38:52.723Z"
   },
   {
    "duration": 7,
    "start_time": "2021-12-22T18:38:56.978Z"
   },
   {
    "duration": 8,
    "start_time": "2021-12-22T18:39:04.849Z"
   },
   {
    "duration": 6,
    "start_time": "2021-12-22T18:39:13.483Z"
   },
   {
    "duration": 8,
    "start_time": "2021-12-22T18:39:23.768Z"
   },
   {
    "duration": 6,
    "start_time": "2021-12-22T18:39:30.483Z"
   },
   {
    "duration": 6,
    "start_time": "2021-12-22T18:39:36.610Z"
   },
   {
    "duration": 7,
    "start_time": "2021-12-22T18:39:41.868Z"
   },
   {
    "duration": 7,
    "start_time": "2021-12-22T18:39:51.499Z"
   },
   {
    "duration": 6,
    "start_time": "2021-12-22T18:39:56.866Z"
   },
   {
    "duration": 7,
    "start_time": "2021-12-22T18:40:02.612Z"
   },
   {
    "duration": 5,
    "start_time": "2021-12-22T18:40:57.954Z"
   },
   {
    "duration": 23,
    "start_time": "2021-12-22T18:42:07.451Z"
   },
   {
    "duration": 18,
    "start_time": "2021-12-22T18:42:16.253Z"
   },
   {
    "duration": 22,
    "start_time": "2021-12-22T18:43:40.640Z"
   },
   {
    "duration": 19,
    "start_time": "2021-12-22T18:44:11.583Z"
   },
   {
    "duration": 19,
    "start_time": "2021-12-22T18:44:27.616Z"
   },
   {
    "duration": 16,
    "start_time": "2021-12-22T18:44:49.664Z"
   },
   {
    "duration": 3902,
    "start_time": "2021-12-22T18:55:55.500Z"
   },
   {
    "duration": 3808,
    "start_time": "2021-12-22T18:56:39.010Z"
   },
   {
    "duration": 16,
    "start_time": "2021-12-22T18:57:14.042Z"
   },
   {
    "duration": 4161,
    "start_time": "2021-12-22T18:57:35.480Z"
   },
   {
    "duration": 202,
    "start_time": "2021-12-22T18:57:51.689Z"
   },
   {
    "duration": 21,
    "start_time": "2021-12-22T18:58:14.132Z"
   },
   {
    "duration": 22,
    "start_time": "2021-12-22T18:59:26.408Z"
   },
   {
    "duration": 4018,
    "start_time": "2021-12-22T18:59:53.510Z"
   },
   {
    "duration": 18,
    "start_time": "2021-12-22T19:00:04.981Z"
   },
   {
    "duration": 18,
    "start_time": "2021-12-22T19:06:38.612Z"
   },
   {
    "duration": 20,
    "start_time": "2021-12-22T19:08:24.282Z"
   },
   {
    "duration": 20,
    "start_time": "2021-12-22T19:09:21.865Z"
   },
   {
    "duration": 17,
    "start_time": "2021-12-22T19:09:27.641Z"
   },
   {
    "duration": 20,
    "start_time": "2021-12-22T19:09:45.681Z"
   },
   {
    "duration": 20,
    "start_time": "2021-12-22T19:10:05.473Z"
   },
   {
    "duration": 25,
    "start_time": "2021-12-22T19:12:04.177Z"
   },
   {
    "duration": 28,
    "start_time": "2021-12-22T19:13:04.086Z"
   },
   {
    "duration": 19,
    "start_time": "2021-12-22T19:17:07.515Z"
   },
   {
    "duration": 211,
    "start_time": "2021-12-22T19:18:33.636Z"
   },
   {
    "duration": 16,
    "start_time": "2021-12-22T19:18:50.442Z"
   },
   {
    "duration": 22,
    "start_time": "2021-12-22T19:19:05.401Z"
   },
   {
    "duration": 16,
    "start_time": "2021-12-22T19:19:54.554Z"
   },
   {
    "duration": 16,
    "start_time": "2021-12-22T19:20:09.993Z"
   },
   {
    "duration": 17,
    "start_time": "2021-12-22T19:20:23.186Z"
   },
   {
    "duration": 18,
    "start_time": "2021-12-22T19:20:34.993Z"
   },
   {
    "duration": 24,
    "start_time": "2021-12-22T19:21:18.568Z"
   },
   {
    "duration": 45,
    "start_time": "2021-12-22T19:23:20.513Z"
   },
   {
    "duration": 207,
    "start_time": "2021-12-22T19:30:08.812Z"
   },
   {
    "duration": 18,
    "start_time": "2021-12-22T19:30:22.049Z"
   },
   {
    "duration": 18,
    "start_time": "2021-12-22T19:35:54.754Z"
   },
   {
    "duration": 25,
    "start_time": "2021-12-22T19:36:03.520Z"
   },
   {
    "duration": 26,
    "start_time": "2021-12-22T19:38:11.777Z"
   },
   {
    "duration": 26,
    "start_time": "2021-12-22T19:38:37.248Z"
   },
   {
    "duration": 26,
    "start_time": "2021-12-22T19:39:00.423Z"
   },
   {
    "duration": 20,
    "start_time": "2021-12-22T19:39:47.487Z"
   },
   {
    "duration": 18,
    "start_time": "2021-12-22T19:40:31.062Z"
   },
   {
    "duration": 20,
    "start_time": "2021-12-22T19:41:37.157Z"
   },
   {
    "duration": 25,
    "start_time": "2021-12-22T19:43:57.046Z"
   },
   {
    "duration": 659,
    "start_time": "2021-12-22T19:45:39.710Z"
   },
   {
    "duration": 9,
    "start_time": "2021-12-22T19:45:40.371Z"
   },
   {
    "duration": 17,
    "start_time": "2021-12-22T19:45:40.383Z"
   },
   {
    "duration": 11,
    "start_time": "2021-12-22T19:45:40.402Z"
   },
   {
    "duration": 32,
    "start_time": "2021-12-22T19:45:40.414Z"
   },
   {
    "duration": 18,
    "start_time": "2021-12-22T19:45:40.448Z"
   },
   {
    "duration": 9,
    "start_time": "2021-12-22T19:45:40.469Z"
   },
   {
    "duration": 3535,
    "start_time": "2021-12-22T19:45:40.480Z"
   },
   {
    "duration": 34,
    "start_time": "2021-12-22T19:45:44.017Z"
   },
   {
    "duration": 18,
    "start_time": "2021-12-22T19:45:44.052Z"
   },
   {
    "duration": 19,
    "start_time": "2021-12-22T19:45:44.072Z"
   },
   {
    "duration": 19,
    "start_time": "2021-12-22T19:45:44.092Z"
   },
   {
    "duration": 52,
    "start_time": "2021-12-22T19:45:44.113Z"
   },
   {
    "duration": 17,
    "start_time": "2021-12-22T19:45:44.167Z"
   },
   {
    "duration": 18,
    "start_time": "2021-12-22T19:45:44.186Z"
   },
   {
    "duration": 42,
    "start_time": "2021-12-22T19:45:44.206Z"
   },
   {
    "duration": 612,
    "start_time": "2021-12-22T19:47:02.306Z"
   },
   {
    "duration": 10,
    "start_time": "2021-12-22T19:47:02.920Z"
   },
   {
    "duration": 17,
    "start_time": "2021-12-22T19:47:02.932Z"
   },
   {
    "duration": 12,
    "start_time": "2021-12-22T19:47:02.951Z"
   },
   {
    "duration": 12,
    "start_time": "2021-12-22T19:47:02.964Z"
   },
   {
    "duration": 21,
    "start_time": "2021-12-22T19:47:02.978Z"
   },
   {
    "duration": 10,
    "start_time": "2021-12-22T19:47:03.001Z"
   },
   {
    "duration": 3987,
    "start_time": "2021-12-22T19:47:03.014Z"
   },
   {
    "duration": 14,
    "start_time": "2021-12-22T19:47:07.003Z"
   },
   {
    "duration": 34,
    "start_time": "2021-12-22T19:47:07.018Z"
   },
   {
    "duration": 18,
    "start_time": "2021-12-22T19:47:07.054Z"
   },
   {
    "duration": 18,
    "start_time": "2021-12-22T19:47:07.074Z"
   },
   {
    "duration": 49,
    "start_time": "2021-12-22T19:47:07.093Z"
   },
   {
    "duration": 20,
    "start_time": "2021-12-22T19:47:07.143Z"
   },
   {
    "duration": 20,
    "start_time": "2021-12-22T19:47:07.165Z"
   },
   {
    "duration": 17,
    "start_time": "2021-12-22T19:47:07.186Z"
   },
   {
    "duration": 17,
    "start_time": "2021-12-22T19:51:23.282Z"
   },
   {
    "duration": 15,
    "start_time": "2021-12-22T19:51:28.640Z"
   },
   {
    "duration": 597,
    "start_time": "2021-12-22T19:52:27.291Z"
   },
   {
    "duration": 10,
    "start_time": "2021-12-22T19:52:27.890Z"
   },
   {
    "duration": 15,
    "start_time": "2021-12-22T19:52:27.902Z"
   },
   {
    "duration": 25,
    "start_time": "2021-12-22T19:52:27.919Z"
   },
   {
    "duration": 12,
    "start_time": "2021-12-22T19:52:27.946Z"
   },
   {
    "duration": 24,
    "start_time": "2021-12-22T19:52:27.960Z"
   },
   {
    "duration": 14,
    "start_time": "2021-12-22T19:52:27.987Z"
   },
   {
    "duration": 4120,
    "start_time": "2021-12-22T19:52:28.003Z"
   },
   {
    "duration": 34,
    "start_time": "2021-12-22T19:52:32.126Z"
   },
   {
    "duration": 29,
    "start_time": "2021-12-22T19:52:32.162Z"
   },
   {
    "duration": 20,
    "start_time": "2021-12-22T19:52:32.192Z"
   },
   {
    "duration": 51,
    "start_time": "2021-12-22T19:52:32.214Z"
   },
   {
    "duration": 40,
    "start_time": "2021-12-22T19:52:32.267Z"
   },
   {
    "duration": 35,
    "start_time": "2021-12-22T19:52:32.308Z"
   },
   {
    "duration": 19,
    "start_time": "2021-12-22T19:52:32.345Z"
   },
   {
    "duration": 19,
    "start_time": "2021-12-22T19:52:32.365Z"
   },
   {
    "duration": 27,
    "start_time": "2021-12-22T20:03:57.389Z"
   },
   {
    "duration": 690,
    "start_time": "2021-12-22T20:05:49.106Z"
   },
   {
    "duration": 9,
    "start_time": "2021-12-22T20:05:49.797Z"
   },
   {
    "duration": 25,
    "start_time": "2021-12-22T20:05:49.808Z"
   },
   {
    "duration": 16,
    "start_time": "2021-12-22T20:05:49.835Z"
   },
   {
    "duration": 12,
    "start_time": "2021-12-22T20:05:49.852Z"
   },
   {
    "duration": 20,
    "start_time": "2021-12-22T20:05:49.866Z"
   },
   {
    "duration": 6,
    "start_time": "2021-12-22T20:05:49.888Z"
   },
   {
    "duration": 3578,
    "start_time": "2021-12-22T20:05:49.897Z"
   },
   {
    "duration": 14,
    "start_time": "2021-12-22T20:05:53.477Z"
   },
   {
    "duration": 18,
    "start_time": "2021-12-22T20:05:53.493Z"
   },
   {
    "duration": 44,
    "start_time": "2021-12-22T20:05:53.512Z"
   },
   {
    "duration": 18,
    "start_time": "2021-12-22T20:05:53.558Z"
   },
   {
    "duration": 27,
    "start_time": "2021-12-22T20:05:53.578Z"
   },
   {
    "duration": 35,
    "start_time": "2021-12-22T20:05:53.607Z"
   },
   {
    "duration": 17,
    "start_time": "2021-12-22T20:05:53.643Z"
   },
   {
    "duration": 18,
    "start_time": "2021-12-22T20:05:53.662Z"
   },
   {
    "duration": 616,
    "start_time": "2021-12-22T20:34:22.700Z"
   },
   {
    "duration": 10,
    "start_time": "2021-12-22T20:34:23.318Z"
   },
   {
    "duration": 27,
    "start_time": "2021-12-22T20:34:23.330Z"
   },
   {
    "duration": 29,
    "start_time": "2021-12-22T20:34:23.359Z"
   },
   {
    "duration": 24,
    "start_time": "2021-12-22T20:34:23.390Z"
   },
   {
    "duration": 35,
    "start_time": "2021-12-22T20:34:23.416Z"
   },
   {
    "duration": 24,
    "start_time": "2021-12-22T20:34:23.452Z"
   },
   {
    "duration": 3439,
    "start_time": "2021-12-22T20:34:23.479Z"
   },
   {
    "duration": 31,
    "start_time": "2021-12-22T20:34:26.921Z"
   },
   {
    "duration": 27,
    "start_time": "2021-12-22T20:34:26.954Z"
   },
   {
    "duration": 28,
    "start_time": "2021-12-22T20:34:26.983Z"
   },
   {
    "duration": 47,
    "start_time": "2021-12-22T20:34:27.013Z"
   },
   {
    "duration": 37,
    "start_time": "2021-12-22T20:34:27.062Z"
   },
   {
    "duration": 42,
    "start_time": "2021-12-22T20:34:27.101Z"
   },
   {
    "duration": 26,
    "start_time": "2021-12-22T20:34:27.144Z"
   },
   {
    "duration": 26,
    "start_time": "2021-12-22T20:34:27.172Z"
   },
   {
    "duration": 1166,
    "start_time": "2021-12-23T14:48:19.429Z"
   },
   {
    "duration": 23,
    "start_time": "2021-12-23T14:48:20.599Z"
   },
   {
    "duration": 22,
    "start_time": "2021-12-23T14:48:20.626Z"
   },
   {
    "duration": 19,
    "start_time": "2021-12-23T14:48:20.652Z"
   },
   {
    "duration": 55,
    "start_time": "2021-12-23T14:48:20.674Z"
   },
   {
    "duration": 25,
    "start_time": "2021-12-23T14:48:20.733Z"
   },
   {
    "duration": 16,
    "start_time": "2021-12-23T14:48:20.761Z"
   },
   {
    "duration": 4622,
    "start_time": "2021-12-23T14:48:20.779Z"
   },
   {
    "duration": 33,
    "start_time": "2021-12-23T14:48:25.405Z"
   },
   {
    "duration": 29,
    "start_time": "2021-12-23T14:48:25.441Z"
   },
   {
    "duration": 68,
    "start_time": "2021-12-23T14:48:25.472Z"
   },
   {
    "duration": 31,
    "start_time": "2021-12-23T14:48:25.542Z"
   },
   {
    "duration": 68,
    "start_time": "2021-12-23T14:48:25.576Z"
   },
   {
    "duration": 32,
    "start_time": "2021-12-23T14:48:25.647Z"
   },
   {
    "duration": 48,
    "start_time": "2021-12-23T14:48:25.681Z"
   },
   {
    "duration": 30,
    "start_time": "2021-12-23T14:48:25.731Z"
   },
   {
    "duration": 841,
    "start_time": "2021-12-23T15:44:36.861Z"
   },
   {
    "duration": 16,
    "start_time": "2021-12-23T15:44:37.705Z"
   },
   {
    "duration": 20,
    "start_time": "2021-12-23T15:44:37.724Z"
   },
   {
    "duration": 16,
    "start_time": "2021-12-23T15:44:37.747Z"
   },
   {
    "duration": 16,
    "start_time": "2021-12-23T15:44:37.766Z"
   },
   {
    "duration": 54,
    "start_time": "2021-12-23T15:44:37.784Z"
   },
   {
    "duration": 10,
    "start_time": "2021-12-23T15:44:37.840Z"
   },
   {
    "duration": 4499,
    "start_time": "2021-12-23T15:44:37.852Z"
   },
   {
    "duration": 24,
    "start_time": "2021-12-23T15:44:42.354Z"
   },
   {
    "duration": 54,
    "start_time": "2021-12-23T15:44:42.380Z"
   },
   {
    "duration": 35,
    "start_time": "2021-12-23T15:44:42.436Z"
   },
   {
    "duration": 51,
    "start_time": "2021-12-23T15:44:42.474Z"
   },
   {
    "duration": 42,
    "start_time": "2021-12-23T15:44:42.528Z"
   },
   {
    "duration": 50,
    "start_time": "2021-12-23T15:44:42.573Z"
   },
   {
    "duration": 29,
    "start_time": "2021-12-23T15:44:42.626Z"
   },
   {
    "duration": 31,
    "start_time": "2021-12-23T15:44:42.658Z"
   },
   {
    "duration": 365,
    "start_time": "2021-12-23T21:08:03.114Z"
   },
   {
    "duration": 872,
    "start_time": "2021-12-23T21:08:11.937Z"
   },
   {
    "duration": 12,
    "start_time": "2021-12-23T21:08:12.812Z"
   },
   {
    "duration": 5,
    "start_time": "2021-12-23T21:08:15.359Z"
   },
   {
    "duration": 4,
    "start_time": "2021-12-23T21:08:24.651Z"
   },
   {
    "duration": 7,
    "start_time": "2021-12-23T21:08:43.710Z"
   },
   {
    "duration": 7,
    "start_time": "2021-12-23T21:18:06.493Z"
   },
   {
    "duration": 7,
    "start_time": "2021-12-23T21:24:47.018Z"
   },
   {
    "duration": 831,
    "start_time": "2021-12-23T21:25:22.023Z"
   },
   {
    "duration": 12,
    "start_time": "2021-12-23T21:25:22.857Z"
   },
   {
    "duration": 14,
    "start_time": "2021-12-23T21:25:22.873Z"
   },
   {
    "duration": 39,
    "start_time": "2021-12-23T21:25:22.890Z"
   },
   {
    "duration": 36,
    "start_time": "2021-12-23T21:25:22.932Z"
   },
   {
    "duration": 18,
    "start_time": "2021-12-23T21:25:22.970Z"
   },
   {
    "duration": 38,
    "start_time": "2021-12-23T21:25:22.990Z"
   },
   {
    "duration": 26,
    "start_time": "2021-12-23T21:25:23.031Z"
   },
   {
    "duration": 4733,
    "start_time": "2021-12-23T21:25:23.060Z"
   },
   {
    "duration": 37,
    "start_time": "2021-12-23T21:25:27.796Z"
   },
   {
    "duration": 32,
    "start_time": "2021-12-23T21:25:27.836Z"
   },
   {
    "duration": 58,
    "start_time": "2021-12-23T21:25:27.870Z"
   },
   {
    "duration": 31,
    "start_time": "2021-12-23T21:25:27.931Z"
   },
   {
    "duration": 62,
    "start_time": "2021-12-23T21:25:27.965Z"
   },
   {
    "duration": 30,
    "start_time": "2021-12-23T21:25:28.030Z"
   },
   {
    "duration": 30,
    "start_time": "2021-12-23T21:25:28.063Z"
   },
   {
    "duration": 59,
    "start_time": "2021-12-23T21:25:28.096Z"
   },
   {
    "duration": 7,
    "start_time": "2021-12-23T21:44:13.476Z"
   },
   {
    "duration": 120,
    "start_time": "2021-12-23T21:44:42.915Z"
   },
   {
    "duration": 5,
    "start_time": "2021-12-23T21:44:48.931Z"
   },
   {
    "duration": 3,
    "start_time": "2021-12-23T21:45:09.285Z"
   },
   {
    "duration": 6,
    "start_time": "2021-12-23T21:45:13.738Z"
   },
   {
    "duration": 944,
    "start_time": "2021-12-23T21:45:23.885Z"
   },
   {
    "duration": 12,
    "start_time": "2021-12-23T21:45:24.831Z"
   },
   {
    "duration": 5,
    "start_time": "2021-12-23T21:45:24.846Z"
   },
   {
    "duration": 20,
    "start_time": "2021-12-23T21:45:24.854Z"
   },
   {
    "duration": 56,
    "start_time": "2021-12-23T21:45:24.876Z"
   },
   {
    "duration": 17,
    "start_time": "2021-12-23T21:45:24.934Z"
   },
   {
    "duration": 28,
    "start_time": "2021-12-23T21:45:24.953Z"
   },
   {
    "duration": 9,
    "start_time": "2021-12-23T21:45:24.985Z"
   },
   {
    "duration": 4740,
    "start_time": "2021-12-23T21:45:24.997Z"
   },
   {
    "duration": 23,
    "start_time": "2021-12-23T21:45:29.740Z"
   },
   {
    "duration": 29,
    "start_time": "2021-12-23T21:45:29.766Z"
   },
   {
    "duration": 56,
    "start_time": "2021-12-23T21:45:29.797Z"
   },
   {
    "duration": 33,
    "start_time": "2021-12-23T21:45:29.856Z"
   },
   {
    "duration": 68,
    "start_time": "2021-12-23T21:45:29.891Z"
   },
   {
    "duration": 28,
    "start_time": "2021-12-23T21:45:29.962Z"
   },
   {
    "duration": 48,
    "start_time": "2021-12-23T21:45:29.992Z"
   },
   {
    "duration": 28,
    "start_time": "2021-12-23T21:45:30.043Z"
   },
   {
    "duration": 8,
    "start_time": "2021-12-23T21:58:07.123Z"
   },
   {
    "duration": 7,
    "start_time": "2021-12-23T21:58:33.002Z"
   },
   {
    "duration": 107,
    "start_time": "2021-12-23T21:58:51.913Z"
   },
   {
    "duration": 413,
    "start_time": "2021-12-23T21:59:14.721Z"
   },
   {
    "duration": 317,
    "start_time": "2021-12-23T21:59:22.554Z"
   },
   {
    "duration": 310,
    "start_time": "2021-12-23T21:59:42.801Z"
   },
   {
    "duration": 7,
    "start_time": "2021-12-23T21:59:55.153Z"
   },
   {
    "duration": 8,
    "start_time": "2021-12-23T22:00:16.040Z"
   },
   {
    "duration": 24,
    "start_time": "2021-12-23T22:00:37.835Z"
   },
   {
    "duration": 8,
    "start_time": "2021-12-23T22:01:11.368Z"
   },
   {
    "duration": 24,
    "start_time": "2021-12-23T22:01:21.191Z"
   },
   {
    "duration": 5,
    "start_time": "2021-12-23T22:01:26.446Z"
   },
   {
    "duration": 5,
    "start_time": "2021-12-23T22:01:27.703Z"
   },
   {
    "duration": 881,
    "start_time": "2021-12-23T22:01:35.468Z"
   },
   {
    "duration": 13,
    "start_time": "2021-12-23T22:01:36.351Z"
   },
   {
    "duration": 11,
    "start_time": "2021-12-23T22:01:36.366Z"
   },
   {
    "duration": 6,
    "start_time": "2021-12-23T22:01:36.379Z"
   },
   {
    "duration": 20,
    "start_time": "2021-12-23T22:01:36.388Z"
   },
   {
    "duration": 20,
    "start_time": "2021-12-23T22:01:36.411Z"
   },
   {
    "duration": 16,
    "start_time": "2021-12-23T22:01:36.433Z"
   },
   {
    "duration": 49,
    "start_time": "2021-12-23T22:01:36.453Z"
   },
   {
    "duration": 9,
    "start_time": "2021-12-23T22:01:36.504Z"
   },
   {
    "duration": 5162,
    "start_time": "2021-12-23T22:01:36.515Z"
   },
   {
    "duration": 22,
    "start_time": "2021-12-23T22:01:41.680Z"
   },
   {
    "duration": 28,
    "start_time": "2021-12-23T22:01:41.723Z"
   },
   {
    "duration": 31,
    "start_time": "2021-12-23T22:01:41.753Z"
   },
   {
    "duration": 52,
    "start_time": "2021-12-23T22:01:41.786Z"
   },
   {
    "duration": 37,
    "start_time": "2021-12-23T22:01:41.840Z"
   },
   {
    "duration": 48,
    "start_time": "2021-12-23T22:01:41.879Z"
   },
   {
    "duration": 30,
    "start_time": "2021-12-23T22:01:41.929Z"
   },
   {
    "duration": 31,
    "start_time": "2021-12-23T22:01:41.961Z"
   },
   {
    "duration": -97840,
    "start_time": "2021-12-23T22:08:03.751Z"
   },
   {
    "duration": 5,
    "start_time": "2021-12-23T22:06:37.750Z"
   },
   {
    "duration": -97845,
    "start_time": "2021-12-23T22:08:37.615Z"
   },
   {
    "duration": 810,
    "start_time": "2021-12-23T22:07:07.132Z"
   },
   {
    "duration": 13,
    "start_time": "2021-12-23T22:07:07.944Z"
   },
   {
    "duration": 14,
    "start_time": "2021-12-23T22:07:07.959Z"
   },
   {
    "duration": 8055,
    "start_time": "2021-12-23T22:07:07.976Z"
   },
   {
    "duration": -97877,
    "start_time": "2021-12-23T22:08:53.912Z"
   },
   {
    "duration": -97880,
    "start_time": "2021-12-23T22:08:53.916Z"
   },
   {
    "duration": -97881,
    "start_time": "2021-12-23T22:08:53.919Z"
   },
   {
    "duration": -97881,
    "start_time": "2021-12-23T22:08:53.921Z"
   },
   {
    "duration": -97884,
    "start_time": "2021-12-23T22:08:53.926Z"
   },
   {
    "duration": -97885,
    "start_time": "2021-12-23T22:08:53.929Z"
   },
   {
    "duration": -97887,
    "start_time": "2021-12-23T22:08:53.932Z"
   },
   {
    "duration": -97887,
    "start_time": "2021-12-23T22:08:53.934Z"
   },
   {
    "duration": -97887,
    "start_time": "2021-12-23T22:08:53.936Z"
   },
   {
    "duration": -97895,
    "start_time": "2021-12-23T22:08:53.945Z"
   },
   {
    "duration": -97897,
    "start_time": "2021-12-23T22:08:53.949Z"
   },
   {
    "duration": -97898,
    "start_time": "2021-12-23T22:08:53.952Z"
   },
   {
    "duration": -97899,
    "start_time": "2021-12-23T22:08:53.954Z"
   },
   {
    "duration": -97901,
    "start_time": "2021-12-23T22:08:53.958Z"
   },
   {
    "duration": 8,
    "start_time": "2021-12-23T22:07:24.871Z"
   },
   {
    "duration": 13,
    "start_time": "2021-12-23T22:07:29.949Z"
   },
   {
    "duration": 12,
    "start_time": "2021-12-23T22:08:00.084Z"
   },
   {
    "duration": 8,
    "start_time": "2021-12-23T22:08:18.159Z"
   },
   {
    "duration": 408,
    "start_time": "2021-12-23T22:10:52.989Z"
   },
   {
    "duration": 1009,
    "start_time": "2021-12-23T22:11:10.834Z"
   },
   {
    "duration": 12,
    "start_time": "2021-12-23T22:11:11.845Z"
   },
   {
    "duration": 29,
    "start_time": "2021-12-23T22:11:11.860Z"
   },
   {
    "duration": 37,
    "start_time": "2021-12-23T22:11:11.892Z"
   },
   {
    "duration": 26,
    "start_time": "2021-12-23T22:11:11.932Z"
   },
   {
    "duration": 17,
    "start_time": "2021-12-23T22:11:11.961Z"
   },
   {
    "duration": 16,
    "start_time": "2021-12-23T22:11:11.980Z"
   },
   {
    "duration": 24,
    "start_time": "2021-12-23T22:11:12.022Z"
   },
   {
    "duration": 12,
    "start_time": "2021-12-23T22:11:12.049Z"
   },
   {
    "duration": 4999,
    "start_time": "2021-12-23T22:11:12.064Z"
   },
   {
    "duration": 22,
    "start_time": "2021-12-23T22:11:17.065Z"
   },
   {
    "duration": 53,
    "start_time": "2021-12-23T22:11:17.090Z"
   },
   {
    "duration": 33,
    "start_time": "2021-12-23T22:11:17.145Z"
   },
   {
    "duration": 52,
    "start_time": "2021-12-23T22:11:17.181Z"
   },
   {
    "duration": 42,
    "start_time": "2021-12-23T22:11:17.236Z"
   },
   {
    "duration": 44,
    "start_time": "2021-12-23T22:11:17.281Z"
   },
   {
    "duration": 29,
    "start_time": "2021-12-23T22:11:17.328Z"
   },
   {
    "duration": 32,
    "start_time": "2021-12-23T22:11:17.360Z"
   },
   {
    "duration": 24,
    "start_time": "2021-12-23T22:12:04.887Z"
   },
   {
    "duration": 89,
    "start_time": "2021-12-23T22:12:23.925Z"
   },
   {
    "duration": 15,
    "start_time": "2021-12-23T22:12:24.017Z"
   },
   {
    "duration": 15,
    "start_time": "2021-12-23T22:12:24.035Z"
   },
   {
    "duration": 41,
    "start_time": "2021-12-23T22:12:24.053Z"
   },
   {
    "duration": 18,
    "start_time": "2021-12-23T22:12:27.194Z"
   },
   {
    "duration": 918,
    "start_time": "2021-12-24T06:29:34.538Z"
   },
   {
    "duration": 11,
    "start_time": "2021-12-24T06:29:35.459Z"
   },
   {
    "duration": 6,
    "start_time": "2021-12-24T06:29:35.473Z"
   },
   {
    "duration": 12,
    "start_time": "2021-12-24T06:29:35.481Z"
   },
   {
    "duration": 19,
    "start_time": "2021-12-24T06:29:35.524Z"
   },
   {
    "duration": 3,
    "start_time": "2021-12-24T06:35:38.546Z"
   },
   {
    "duration": 6,
    "start_time": "2021-12-24T06:38:48.636Z"
   },
   {
    "duration": 11,
    "start_time": "2021-12-24T06:38:59.468Z"
   },
   {
    "duration": 9,
    "start_time": "2021-12-24T06:39:12.827Z"
   },
   {
    "duration": 8,
    "start_time": "2021-12-24T06:39:33.987Z"
   },
   {
    "duration": 16,
    "start_time": "2021-12-24T06:46:55.887Z"
   },
   {
    "duration": 7,
    "start_time": "2021-12-24T07:04:47.854Z"
   },
   {
    "duration": 395,
    "start_time": "2021-12-24T07:29:36.734Z"
   },
   {
    "duration": 33,
    "start_time": "2021-12-24T07:29:51.877Z"
   },
   {
    "duration": 42,
    "start_time": "2021-12-24T07:29:54.182Z"
   },
   {
    "duration": 408,
    "start_time": "2021-12-24T07:30:16.435Z"
   },
   {
    "duration": 805,
    "start_time": "2021-12-24T07:31:46.281Z"
   },
   {
    "duration": 12,
    "start_time": "2021-12-24T07:31:47.089Z"
   },
   {
    "duration": 6,
    "start_time": "2021-12-24T07:31:47.122Z"
   },
   {
    "duration": 8,
    "start_time": "2021-12-24T07:31:47.131Z"
   },
   {
    "duration": 19,
    "start_time": "2021-12-24T07:31:47.141Z"
   },
   {
    "duration": 17,
    "start_time": "2021-12-24T07:31:47.162Z"
   },
   {
    "duration": 113,
    "start_time": "2021-12-24T07:31:47.181Z"
   },
   {
    "duration": 10,
    "start_time": "2021-12-24T07:31:47.297Z"
   },
   {
    "duration": 407,
    "start_time": "2021-12-24T07:31:47.327Z"
   },
   {
    "duration": -107,
    "start_time": "2021-12-24T07:31:47.845Z"
   },
   {
    "duration": -117,
    "start_time": "2021-12-24T07:31:47.857Z"
   },
   {
    "duration": -133,
    "start_time": "2021-12-24T07:31:47.875Z"
   },
   {
    "duration": -145,
    "start_time": "2021-12-24T07:31:47.890Z"
   },
   {
    "duration": -162,
    "start_time": "2021-12-24T07:31:47.909Z"
   },
   {
    "duration": -179,
    "start_time": "2021-12-24T07:31:47.928Z"
   },
   {
    "duration": -194,
    "start_time": "2021-12-24T07:31:47.946Z"
   },
   {
    "duration": -214,
    "start_time": "2021-12-24T07:31:47.968Z"
   },
   {
    "duration": -235,
    "start_time": "2021-12-24T07:31:47.992Z"
   },
   {
    "duration": -248,
    "start_time": "2021-12-24T07:31:48.007Z"
   },
   {
    "duration": -259,
    "start_time": "2021-12-24T07:31:48.020Z"
   },
   {
    "duration": -273,
    "start_time": "2021-12-24T07:31:48.036Z"
   },
   {
    "duration": 90,
    "start_time": "2021-12-24T07:34:28.621Z"
   },
   {
    "duration": 100,
    "start_time": "2021-12-24T07:35:17.743Z"
   },
   {
    "duration": 1664,
    "start_time": "2021-12-24T07:36:28.554Z"
   },
   {
    "duration": 12,
    "start_time": "2021-12-24T07:36:30.220Z"
   },
   {
    "duration": 10,
    "start_time": "2021-12-24T07:36:30.235Z"
   },
   {
    "duration": 18,
    "start_time": "2021-12-24T07:36:30.248Z"
   },
   {
    "duration": 38,
    "start_time": "2021-12-24T07:36:30.268Z"
   },
   {
    "duration": 26,
    "start_time": "2021-12-24T07:36:30.309Z"
   },
   {
    "duration": 16,
    "start_time": "2021-12-24T07:36:30.337Z"
   },
   {
    "duration": 18,
    "start_time": "2021-12-24T07:36:30.356Z"
   },
   {
    "duration": 471,
    "start_time": "2021-12-24T07:36:30.378Z"
   },
   {
    "duration": -126,
    "start_time": "2021-12-24T07:36:30.978Z"
   },
   {
    "duration": -138,
    "start_time": "2021-12-24T07:36:30.991Z"
   },
   {
    "duration": -150,
    "start_time": "2021-12-24T07:36:31.005Z"
   },
   {
    "duration": -163,
    "start_time": "2021-12-24T07:36:31.019Z"
   },
   {
    "duration": -173,
    "start_time": "2021-12-24T07:36:31.031Z"
   },
   {
    "duration": -180,
    "start_time": "2021-12-24T07:36:31.039Z"
   },
   {
    "duration": -198,
    "start_time": "2021-12-24T07:36:31.058Z"
   },
   {
    "duration": -209,
    "start_time": "2021-12-24T07:36:31.071Z"
   },
   {
    "duration": -215,
    "start_time": "2021-12-24T07:36:31.078Z"
   },
   {
    "duration": -222,
    "start_time": "2021-12-24T07:36:31.086Z"
   },
   {
    "duration": -236,
    "start_time": "2021-12-24T07:36:31.101Z"
   },
   {
    "duration": -246,
    "start_time": "2021-12-24T07:36:31.113Z"
   },
   {
    "duration": 37,
    "start_time": "2021-12-24T07:37:17.108Z"
   },
   {
    "duration": 29,
    "start_time": "2021-12-24T07:37:39.748Z"
   },
   {
    "duration": 31,
    "start_time": "2021-12-24T07:39:43.486Z"
   },
   {
    "duration": 850,
    "start_time": "2021-12-24T07:40:03.608Z"
   },
   {
    "duration": 11,
    "start_time": "2021-12-24T07:40:04.460Z"
   },
   {
    "duration": 5,
    "start_time": "2021-12-24T07:40:04.474Z"
   },
   {
    "duration": 11,
    "start_time": "2021-12-24T07:40:04.482Z"
   },
   {
    "duration": 44,
    "start_time": "2021-12-24T07:40:04.495Z"
   },
   {
    "duration": 17,
    "start_time": "2021-12-24T07:40:04.541Z"
   },
   {
    "duration": 31,
    "start_time": "2021-12-24T07:40:04.560Z"
   },
   {
    "duration": 7,
    "start_time": "2021-12-24T07:40:04.624Z"
   },
   {
    "duration": 421,
    "start_time": "2021-12-24T07:40:04.634Z"
   },
   {
    "duration": -147,
    "start_time": "2021-12-24T07:40:05.205Z"
   },
   {
    "duration": -166,
    "start_time": "2021-12-24T07:40:05.226Z"
   },
   {
    "duration": -182,
    "start_time": "2021-12-24T07:40:05.243Z"
   },
   {
    "duration": -193,
    "start_time": "2021-12-24T07:40:05.256Z"
   },
   {
    "duration": -295,
    "start_time": "2021-12-24T07:40:05.359Z"
   },
   {
    "duration": -303,
    "start_time": "2021-12-24T07:40:05.368Z"
   },
   {
    "duration": -313,
    "start_time": "2021-12-24T07:40:05.380Z"
   },
   {
    "duration": -331,
    "start_time": "2021-12-24T07:40:05.399Z"
   },
   {
    "duration": -345,
    "start_time": "2021-12-24T07:40:05.414Z"
   },
   {
    "duration": -352,
    "start_time": "2021-12-24T07:40:05.422Z"
   },
   {
    "duration": -368,
    "start_time": "2021-12-24T07:40:05.440Z"
   },
   {
    "duration": -385,
    "start_time": "2021-12-24T07:40:05.458Z"
   },
   {
    "duration": 67,
    "start_time": "2021-12-24T07:42:15.101Z"
   },
   {
    "duration": 61,
    "start_time": "2021-12-24T07:42:33.728Z"
   },
   {
    "duration": 55,
    "start_time": "2021-12-24T07:43:57.644Z"
   },
   {
    "duration": 322,
    "start_time": "2021-12-24T07:46:50.230Z"
   },
   {
    "duration": 15,
    "start_time": "2021-12-24T07:58:23.190Z"
   },
   {
    "duration": 797,
    "start_time": "2021-12-24T07:58:40.060Z"
   },
   {
    "duration": 14,
    "start_time": "2021-12-24T07:58:40.860Z"
   },
   {
    "duration": 10,
    "start_time": "2021-12-24T07:58:40.877Z"
   },
   {
    "duration": 35,
    "start_time": "2021-12-24T07:58:40.890Z"
   },
   {
    "duration": 20,
    "start_time": "2021-12-24T07:58:40.928Z"
   },
   {
    "duration": 16,
    "start_time": "2021-12-24T07:58:40.951Z"
   },
   {
    "duration": 13,
    "start_time": "2021-12-24T07:58:40.970Z"
   },
   {
    "duration": 43,
    "start_time": "2021-12-24T07:58:40.986Z"
   },
   {
    "duration": 472,
    "start_time": "2021-12-24T07:58:41.031Z"
   },
   {
    "duration": -134,
    "start_time": "2021-12-24T07:58:41.639Z"
   },
   {
    "duration": -153,
    "start_time": "2021-12-24T07:58:41.660Z"
   },
   {
    "duration": -165,
    "start_time": "2021-12-24T07:58:41.673Z"
   },
   {
    "duration": -170,
    "start_time": "2021-12-24T07:58:41.679Z"
   },
   {
    "duration": -174,
    "start_time": "2021-12-24T07:58:41.685Z"
   },
   {
    "duration": -182,
    "start_time": "2021-12-24T07:58:41.695Z"
   },
   {
    "duration": -186,
    "start_time": "2021-12-24T07:58:41.700Z"
   },
   {
    "duration": -194,
    "start_time": "2021-12-24T07:58:41.709Z"
   },
   {
    "duration": -198,
    "start_time": "2021-12-24T07:58:41.715Z"
   },
   {
    "duration": -204,
    "start_time": "2021-12-24T07:58:41.722Z"
   },
   {
    "duration": -217,
    "start_time": "2021-12-24T07:58:41.737Z"
   },
   {
    "duration": -228,
    "start_time": "2021-12-24T07:58:41.749Z"
   },
   {
    "duration": 1419,
    "start_time": "2021-12-24T08:01:07.012Z"
   },
   {
    "duration": 86,
    "start_time": "2021-12-24T08:03:43.983Z"
   },
   {
    "duration": 11,
    "start_time": "2021-12-24T08:03:44.072Z"
   },
   {
    "duration": 38,
    "start_time": "2021-12-24T08:03:44.086Z"
   },
   {
    "duration": 7,
    "start_time": "2021-12-24T08:03:44.127Z"
   },
   {
    "duration": 19,
    "start_time": "2021-12-24T08:03:44.136Z"
   },
   {
    "duration": 105,
    "start_time": "2021-12-24T08:03:51.734Z"
   },
   {
    "duration": 12,
    "start_time": "2021-12-24T08:03:51.843Z"
   },
   {
    "duration": 27,
    "start_time": "2021-12-24T08:03:51.858Z"
   },
   {
    "duration": 32,
    "start_time": "2021-12-24T08:03:51.887Z"
   },
   {
    "duration": 21,
    "start_time": "2021-12-24T08:03:51.922Z"
   },
   {
    "duration": 35,
    "start_time": "2021-12-24T08:03:51.946Z"
   },
   {
    "duration": 13,
    "start_time": "2021-12-24T08:03:57.135Z"
   },
   {
    "duration": 1224,
    "start_time": "2021-12-24T08:04:02.774Z"
   },
   {
    "duration": 1266,
    "start_time": "2021-12-24T08:04:20.739Z"
   },
   {
    "duration": 803,
    "start_time": "2021-12-24T08:04:39.951Z"
   },
   {
    "duration": 12,
    "start_time": "2021-12-24T08:04:40.757Z"
   },
   {
    "duration": 7,
    "start_time": "2021-12-24T08:04:40.771Z"
   },
   {
    "duration": 8,
    "start_time": "2021-12-24T08:04:40.780Z"
   },
   {
    "duration": 51,
    "start_time": "2021-12-24T08:04:40.790Z"
   },
   {
    "duration": 15,
    "start_time": "2021-12-24T08:04:40.843Z"
   },
   {
    "duration": 12,
    "start_time": "2021-12-24T08:04:40.860Z"
   },
   {
    "duration": 52,
    "start_time": "2021-12-24T08:04:40.876Z"
   },
   {
    "duration": 408,
    "start_time": "2021-12-24T08:04:40.931Z"
   },
   {
    "duration": -97,
    "start_time": "2021-12-24T08:04:41.439Z"
   },
   {
    "duration": -103,
    "start_time": "2021-12-24T08:04:41.446Z"
   },
   {
    "duration": -108,
    "start_time": "2021-12-24T08:04:41.452Z"
   },
   {
    "duration": -113,
    "start_time": "2021-12-24T08:04:41.459Z"
   },
   {
    "duration": -119,
    "start_time": "2021-12-24T08:04:41.466Z"
   },
   {
    "duration": -127,
    "start_time": "2021-12-24T08:04:41.476Z"
   },
   {
    "duration": -132,
    "start_time": "2021-12-24T08:04:41.482Z"
   },
   {
    "duration": -140,
    "start_time": "2021-12-24T08:04:41.492Z"
   },
   {
    "duration": -146,
    "start_time": "2021-12-24T08:04:41.499Z"
   },
   {
    "duration": -150,
    "start_time": "2021-12-24T08:04:41.504Z"
   },
   {
    "duration": -154,
    "start_time": "2021-12-24T08:04:41.510Z"
   },
   {
    "duration": -162,
    "start_time": "2021-12-24T08:04:41.519Z"
   },
   {
    "duration": 1261,
    "start_time": "2021-12-24T08:05:17.425Z"
   },
   {
    "duration": 327,
    "start_time": "2021-12-24T08:08:13.840Z"
   },
   {
    "duration": 1252,
    "start_time": "2021-12-24T08:08:18.094Z"
   },
   {
    "duration": 1580,
    "start_time": "2021-12-24T08:08:36.525Z"
   },
   {
    "duration": 846,
    "start_time": "2021-12-24T08:08:48.222Z"
   },
   {
    "duration": 14,
    "start_time": "2021-12-24T08:08:49.071Z"
   },
   {
    "duration": 7,
    "start_time": "2021-12-24T08:08:49.088Z"
   },
   {
    "duration": 10,
    "start_time": "2021-12-24T08:08:49.125Z"
   },
   {
    "duration": 23,
    "start_time": "2021-12-24T08:08:49.138Z"
   },
   {
    "duration": 16,
    "start_time": "2021-12-24T08:08:49.163Z"
   },
   {
    "duration": 46,
    "start_time": "2021-12-24T08:08:49.182Z"
   },
   {
    "duration": 8,
    "start_time": "2021-12-24T08:08:49.232Z"
   },
   {
    "duration": 419,
    "start_time": "2021-12-24T08:08:49.243Z"
   },
   {
    "duration": -99,
    "start_time": "2021-12-24T08:08:49.764Z"
   },
   {
    "duration": -106,
    "start_time": "2021-12-24T08:08:49.772Z"
   },
   {
    "duration": -114,
    "start_time": "2021-12-24T08:08:49.782Z"
   },
   {
    "duration": -128,
    "start_time": "2021-12-24T08:08:49.798Z"
   },
   {
    "duration": -134,
    "start_time": "2021-12-24T08:08:49.805Z"
   },
   {
    "duration": -138,
    "start_time": "2021-12-24T08:08:49.811Z"
   },
   {
    "duration": -143,
    "start_time": "2021-12-24T08:08:49.818Z"
   },
   {
    "duration": -157,
    "start_time": "2021-12-24T08:08:49.833Z"
   },
   {
    "duration": -162,
    "start_time": "2021-12-24T08:08:49.840Z"
   },
   {
    "duration": -170,
    "start_time": "2021-12-24T08:08:49.850Z"
   },
   {
    "duration": -188,
    "start_time": "2021-12-24T08:08:49.869Z"
   },
   {
    "duration": -204,
    "start_time": "2021-12-24T08:08:49.887Z"
   },
   {
    "duration": 13,
    "start_time": "2021-12-24T08:09:02.361Z"
   },
   {
    "duration": 11,
    "start_time": "2021-12-24T08:09:17.205Z"
   },
   {
    "duration": 84,
    "start_time": "2021-12-24T08:09:22.738Z"
   },
   {
    "duration": 11,
    "start_time": "2021-12-24T08:09:22.825Z"
   },
   {
    "duration": 6,
    "start_time": "2021-12-24T08:09:22.839Z"
   },
   {
    "duration": 11,
    "start_time": "2021-12-24T08:09:22.847Z"
   },
   {
    "duration": 18,
    "start_time": "2021-12-24T08:09:22.861Z"
   },
   {
    "duration": 50,
    "start_time": "2021-12-24T08:09:22.881Z"
   },
   {
    "duration": 21,
    "start_time": "2021-12-24T08:09:25.785Z"
   },
   {
    "duration": 84,
    "start_time": "2021-12-24T08:09:40.281Z"
   },
   {
    "duration": 11,
    "start_time": "2021-12-24T08:09:40.368Z"
   },
   {
    "duration": 19,
    "start_time": "2021-12-24T08:09:40.383Z"
   },
   {
    "duration": 20,
    "start_time": "2021-12-24T08:09:40.405Z"
   },
   {
    "duration": 35,
    "start_time": "2021-12-24T08:09:40.427Z"
   },
   {
    "duration": 19,
    "start_time": "2021-12-24T08:09:40.464Z"
   },
   {
    "duration": 13,
    "start_time": "2021-12-24T08:09:44.338Z"
   },
   {
    "duration": 9,
    "start_time": "2021-12-24T08:09:52.928Z"
   },
   {
    "duration": 9,
    "start_time": "2021-12-24T08:09:53.883Z"
   },
   {
    "duration": 9,
    "start_time": "2021-12-24T08:09:54.849Z"
   },
   {
    "duration": 82,
    "start_time": "2021-12-24T08:10:01.739Z"
   },
   {
    "duration": 12,
    "start_time": "2021-12-24T08:10:01.824Z"
   },
   {
    "duration": 24,
    "start_time": "2021-12-24T08:10:01.838Z"
   },
   {
    "duration": 31,
    "start_time": "2021-12-24T08:10:01.864Z"
   },
   {
    "duration": 33,
    "start_time": "2021-12-24T08:10:01.897Z"
   },
   {
    "duration": 37,
    "start_time": "2021-12-24T08:10:01.933Z"
   },
   {
    "duration": 8,
    "start_time": "2021-12-24T08:10:03.147Z"
   },
   {
    "duration": 352,
    "start_time": "2021-12-24T08:13:15.202Z"
   },
   {
    "duration": 560,
    "start_time": "2021-12-24T08:13:31.135Z"
   },
   {
    "duration": 129,
    "start_time": "2021-12-24T08:13:45.029Z"
   },
   {
    "duration": 27,
    "start_time": "2021-12-24T08:13:53.764Z"
   },
   {
    "duration": 123,
    "start_time": "2021-12-24T08:14:03.333Z"
   },
   {
    "duration": 15,
    "start_time": "2021-12-24T08:14:03.460Z"
   },
   {
    "duration": 17,
    "start_time": "2021-12-24T08:14:03.478Z"
   },
   {
    "duration": 29,
    "start_time": "2021-12-24T08:14:03.497Z"
   },
   {
    "duration": 32,
    "start_time": "2021-12-24T08:14:03.529Z"
   },
   {
    "duration": 27,
    "start_time": "2021-12-24T08:14:03.564Z"
   },
   {
    "duration": 30,
    "start_time": "2021-12-24T08:14:05.541Z"
   },
   {
    "duration": 84,
    "start_time": "2021-12-24T08:14:15.975Z"
   },
   {
    "duration": 12,
    "start_time": "2021-12-24T08:14:16.062Z"
   },
   {
    "duration": 16,
    "start_time": "2021-12-24T08:14:16.077Z"
   },
   {
    "duration": 31,
    "start_time": "2021-12-24T08:14:16.095Z"
   },
   {
    "duration": 19,
    "start_time": "2021-12-24T08:14:16.128Z"
   },
   {
    "duration": 16,
    "start_time": "2021-12-24T08:14:16.150Z"
   },
   {
    "duration": 13,
    "start_time": "2021-12-24T08:14:17.765Z"
   },
   {
    "duration": 86,
    "start_time": "2021-12-24T08:14:31.915Z"
   },
   {
    "duration": 20,
    "start_time": "2021-12-24T08:14:32.004Z"
   },
   {
    "duration": 21,
    "start_time": "2021-12-24T08:14:32.027Z"
   },
   {
    "duration": 18,
    "start_time": "2021-12-24T08:14:32.050Z"
   },
   {
    "duration": 34,
    "start_time": "2021-12-24T08:14:32.071Z"
   },
   {
    "duration": 25,
    "start_time": "2021-12-24T08:14:32.108Z"
   },
   {
    "duration": 419,
    "start_time": "2021-12-24T08:14:32.972Z"
   },
   {
    "duration": 334,
    "start_time": "2021-12-24T08:14:49.937Z"
   },
   {
    "duration": 13,
    "start_time": "2021-12-24T08:34:09.110Z"
   },
   {
    "duration": 87,
    "start_time": "2021-12-24T08:34:21.561Z"
   },
   {
    "duration": 13,
    "start_time": "2021-12-24T08:34:21.650Z"
   },
   {
    "duration": 8,
    "start_time": "2021-12-24T08:34:21.667Z"
   },
   {
    "duration": 45,
    "start_time": "2021-12-24T08:34:21.678Z"
   },
   {
    "duration": 26,
    "start_time": "2021-12-24T08:34:21.727Z"
   },
   {
    "duration": 18,
    "start_time": "2021-12-24T08:34:21.756Z"
   },
   {
    "duration": 13,
    "start_time": "2021-12-24T08:34:23.608Z"
   },
   {
    "duration": 393,
    "start_time": "2021-12-24T08:34:52.296Z"
   },
   {
    "duration": 9,
    "start_time": "2021-12-24T08:39:10.474Z"
   },
   {
    "duration": 9,
    "start_time": "2021-12-24T08:41:26.950Z"
   },
   {
    "duration": 831,
    "start_time": "2021-12-24T08:41:35.047Z"
   },
   {
    "duration": 16,
    "start_time": "2021-12-24T08:41:35.883Z"
   },
   {
    "duration": 24,
    "start_time": "2021-12-24T08:41:35.922Z"
   },
   {
    "duration": 15,
    "start_time": "2021-12-24T08:41:35.949Z"
   },
   {
    "duration": 38,
    "start_time": "2021-12-24T08:41:35.966Z"
   },
   {
    "duration": 28,
    "start_time": "2021-12-24T08:41:36.006Z"
   },
   {
    "duration": 26,
    "start_time": "2021-12-24T08:41:36.037Z"
   },
   {
    "duration": 28,
    "start_time": "2021-12-24T08:41:36.066Z"
   },
   {
    "duration": 593,
    "start_time": "2021-12-24T08:41:36.097Z"
   },
   {
    "duration": -184,
    "start_time": "2021-12-24T08:41:36.877Z"
   },
   {
    "duration": -189,
    "start_time": "2021-12-24T08:41:36.884Z"
   },
   {
    "duration": -198,
    "start_time": "2021-12-24T08:41:36.895Z"
   },
   {
    "duration": -204,
    "start_time": "2021-12-24T08:41:36.902Z"
   },
   {
    "duration": -217,
    "start_time": "2021-12-24T08:41:36.916Z"
   },
   {
    "duration": -228,
    "start_time": "2021-12-24T08:41:36.929Z"
   },
   {
    "duration": -242,
    "start_time": "2021-12-24T08:41:36.944Z"
   },
   {
    "duration": -246,
    "start_time": "2021-12-24T08:41:36.950Z"
   },
   {
    "duration": -258,
    "start_time": "2021-12-24T08:41:36.965Z"
   },
   {
    "duration": -274,
    "start_time": "2021-12-24T08:41:36.982Z"
   },
   {
    "duration": -282,
    "start_time": "2021-12-24T08:41:36.992Z"
   },
   {
    "duration": -287,
    "start_time": "2021-12-24T08:41:36.999Z"
   },
   {
    "duration": 15,
    "start_time": "2021-12-24T08:42:14.523Z"
   },
   {
    "duration": 33,
    "start_time": "2021-12-24T08:43:25.871Z"
   },
   {
    "duration": 40,
    "start_time": "2021-12-24T08:43:46.684Z"
   },
   {
    "duration": 53,
    "start_time": "2021-12-24T08:44:26.300Z"
   },
   {
    "duration": 42,
    "start_time": "2021-12-24T08:44:46.629Z"
   },
   {
    "duration": 36,
    "start_time": "2021-12-24T08:46:22.688Z"
   },
   {
    "duration": 33,
    "start_time": "2021-12-24T08:46:27.836Z"
   },
   {
    "duration": 514,
    "start_time": "2021-12-24T08:46:48.643Z"
   },
   {
    "duration": 418,
    "start_time": "2021-12-24T08:46:52.220Z"
   },
   {
    "duration": 43,
    "start_time": "2021-12-24T08:46:55.652Z"
   },
   {
    "duration": 45,
    "start_time": "2021-12-24T09:22:10.200Z"
   },
   {
    "duration": 47,
    "start_time": "2021-12-24T09:22:38.110Z"
   },
   {
    "duration": 933,
    "start_time": "2021-12-24T18:38:33.249Z"
   },
   {
    "duration": 14,
    "start_time": "2021-12-24T18:38:34.185Z"
   },
   {
    "duration": 7,
    "start_time": "2021-12-24T18:38:34.202Z"
   },
   {
    "duration": 9,
    "start_time": "2021-12-24T18:38:34.212Z"
   },
   {
    "duration": 56,
    "start_time": "2021-12-24T18:38:34.224Z"
   },
   {
    "duration": 18,
    "start_time": "2021-12-24T18:38:34.283Z"
   },
   {
    "duration": 45,
    "start_time": "2021-12-24T18:38:41.226Z"
   },
   {
    "duration": 45,
    "start_time": "2021-12-24T18:52:53.437Z"
   },
   {
    "duration": 11,
    "start_time": "2021-12-24T19:01:54.395Z"
   },
   {
    "duration": 10,
    "start_time": "2021-12-24T19:09:25.550Z"
   },
   {
    "duration": 41,
    "start_time": "2021-12-24T19:09:52.382Z"
   },
   {
    "duration": 91,
    "start_time": "2021-12-24T19:10:14.064Z"
   },
   {
    "duration": 19,
    "start_time": "2021-12-24T19:10:14.157Z"
   },
   {
    "duration": 7,
    "start_time": "2021-12-24T19:10:14.180Z"
   },
   {
    "duration": 10,
    "start_time": "2021-12-24T19:10:14.189Z"
   },
   {
    "duration": 19,
    "start_time": "2021-12-24T19:10:14.202Z"
   },
   {
    "duration": 52,
    "start_time": "2021-12-24T19:10:14.223Z"
   },
   {
    "duration": 35,
    "start_time": "2021-12-24T19:10:14.277Z"
   },
   {
    "duration": 48,
    "start_time": "2021-12-24T19:10:43.741Z"
   },
   {
    "duration": 37,
    "start_time": "2021-12-24T19:10:48.578Z"
   },
   {
    "duration": 38,
    "start_time": "2021-12-24T19:10:54.558Z"
   },
   {
    "duration": 15,
    "start_time": "2021-12-24T19:11:02.327Z"
   },
   {
    "duration": 90,
    "start_time": "2021-12-24T19:11:10.894Z"
   },
   {
    "duration": 13,
    "start_time": "2021-12-24T19:11:10.987Z"
   },
   {
    "duration": 6,
    "start_time": "2021-12-24T19:11:11.003Z"
   },
   {
    "duration": 9,
    "start_time": "2021-12-24T19:11:11.012Z"
   },
   {
    "duration": 57,
    "start_time": "2021-12-24T19:11:11.024Z"
   },
   {
    "duration": 21,
    "start_time": "2021-12-24T19:11:11.084Z"
   },
   {
    "duration": 3,
    "start_time": "2021-12-24T19:11:31.492Z"
   },
   {
    "duration": 20,
    "start_time": "2021-12-24T19:11:33.898Z"
   },
   {
    "duration": 7811,
    "start_time": "2021-12-24T19:12:02.495Z"
   },
   {
    "duration": 49,
    "start_time": "2021-12-24T19:12:15.224Z"
   },
   {
    "duration": 24,
    "start_time": "2021-12-24T19:13:43.951Z"
   },
   {
    "duration": 35,
    "start_time": "2021-12-24T19:13:51.689Z"
   },
   {
    "duration": 11,
    "start_time": "2021-12-24T19:14:14.244Z"
   },
   {
    "duration": 2340,
    "start_time": "2021-12-24T19:18:04.289Z"
   },
   {
    "duration": 2124,
    "start_time": "2021-12-24T19:18:16.513Z"
   },
   {
    "duration": 9,
    "start_time": "2021-12-24T19:22:05.262Z"
   },
   {
    "duration": 10,
    "start_time": "2021-12-24T19:23:04.012Z"
   },
   {
    "duration": 8,
    "start_time": "2021-12-24T19:23:21.988Z"
   },
   {
    "duration": 93,
    "start_time": "2021-12-24T19:23:46.301Z"
   },
   {
    "duration": 313,
    "start_time": "2021-12-24T19:23:53.588Z"
   },
   {
    "duration": 304,
    "start_time": "2021-12-24T19:25:49.084Z"
   },
   {
    "duration": 8,
    "start_time": "2021-12-24T19:26:16.270Z"
   },
   {
    "duration": 11,
    "start_time": "2021-12-24T19:26:33.419Z"
   },
   {
    "duration": 329,
    "start_time": "2021-12-24T19:27:51.498Z"
   },
   {
    "duration": 34,
    "start_time": "2021-12-24T19:28:37.787Z"
   },
   {
    "duration": 39,
    "start_time": "2021-12-24T19:29:24.604Z"
   },
   {
    "duration": 12,
    "start_time": "2021-12-24T19:29:34.013Z"
   },
   {
    "duration": 348,
    "start_time": "2021-12-24T19:29:44.851Z"
   },
   {
    "duration": 22468,
    "start_time": "2021-12-24T19:30:13.200Z"
   },
   {
    "duration": 40,
    "start_time": "2021-12-24T19:34:23.083Z"
   },
   {
    "duration": 8,
    "start_time": "2021-12-24T19:35:01.583Z"
   },
   {
    "duration": 12,
    "start_time": "2021-12-24T19:35:43.165Z"
   },
   {
    "duration": 10,
    "start_time": "2021-12-24T19:37:43.196Z"
   },
   {
    "duration": 1355,
    "start_time": "2021-12-24T19:38:09.139Z"
   },
   {
    "duration": 10,
    "start_time": "2021-12-24T19:38:35.075Z"
   },
   {
    "duration": 10,
    "start_time": "2021-12-24T19:40:42.889Z"
   },
   {
    "duration": 10,
    "start_time": "2021-12-24T19:40:50.896Z"
   },
   {
    "duration": 11,
    "start_time": "2021-12-24T19:48:07.080Z"
   },
   {
    "duration": 12,
    "start_time": "2021-12-24T19:49:04.620Z"
   },
   {
    "duration": 12,
    "start_time": "2021-12-24T19:49:26.373Z"
   },
   {
    "duration": 13,
    "start_time": "2021-12-24T19:50:21.924Z"
   },
   {
    "duration": 14,
    "start_time": "2021-12-24T19:50:38.387Z"
   },
   {
    "duration": 14,
    "start_time": "2021-12-24T19:51:15.012Z"
   },
   {
    "duration": 12,
    "start_time": "2021-12-24T19:51:26.210Z"
   },
   {
    "duration": 11,
    "start_time": "2021-12-24T19:55:14.776Z"
   },
   {
    "duration": 17,
    "start_time": "2021-12-24T19:55:29.998Z"
   },
   {
    "duration": 10,
    "start_time": "2021-12-24T19:55:37.711Z"
   },
   {
    "duration": 10,
    "start_time": "2021-12-24T19:55:51.221Z"
   },
   {
    "duration": 14,
    "start_time": "2021-12-24T19:55:58.777Z"
   },
   {
    "duration": 24,
    "start_time": "2021-12-24T20:00:56.508Z"
   },
   {
    "duration": 24,
    "start_time": "2021-12-24T20:01:11.734Z"
   },
   {
    "duration": 1169,
    "start_time": "2021-12-24T20:02:46.218Z"
   },
   {
    "duration": 17,
    "start_time": "2021-12-24T20:03:21.069Z"
   },
   {
    "duration": 14,
    "start_time": "2021-12-24T20:05:43.265Z"
   },
   {
    "duration": 1415,
    "start_time": "2021-12-24T20:06:15.378Z"
   },
   {
    "duration": 2299,
    "start_time": "2021-12-24T20:06:26.102Z"
   },
   {
    "duration": 14,
    "start_time": "2021-12-24T20:06:56.868Z"
   },
   {
    "duration": 18,
    "start_time": "2021-12-24T20:09:14.615Z"
   },
   {
    "duration": 371,
    "start_time": "2021-12-24T20:09:44.009Z"
   },
   {
    "duration": 990,
    "start_time": "2021-12-24T20:09:47.880Z"
   },
   {
    "duration": 145,
    "start_time": "2021-12-24T20:09:58.447Z"
   },
   {
    "duration": 129,
    "start_time": "2021-12-24T20:10:48.583Z"
   },
   {
    "duration": 104,
    "start_time": "2021-12-24T20:11:00.645Z"
   },
   {
    "duration": 17,
    "start_time": "2021-12-24T20:11:04.918Z"
   },
   {
    "duration": 8481,
    "start_time": "2021-12-24T20:11:22.022Z"
   },
   {
    "duration": -98089,
    "start_time": "2021-12-24T20:17:17.906Z"
   },
   {
    "duration": 10568,
    "start_time": "2021-12-24T20:15:52.084Z"
   },
   {
    "duration": 12,
    "start_time": "2021-12-24T20:16:29.584Z"
   },
   {
    "duration": 17,
    "start_time": "2021-12-24T20:16:42.993Z"
   },
   {
    "duration": 85,
    "start_time": "2021-12-24T20:21:16.540Z"
   },
   {
    "duration": 14,
    "start_time": "2021-12-24T20:21:31.904Z"
   },
   {
    "duration": 16,
    "start_time": "2021-12-24T20:22:56.326Z"
   },
   {
    "duration": 13,
    "start_time": "2021-12-24T20:23:22.312Z"
   },
   {
    "duration": 16,
    "start_time": "2021-12-24T20:23:25.549Z"
   },
   {
    "duration": 13,
    "start_time": "2021-12-24T20:26:01.028Z"
   },
   {
    "duration": 18,
    "start_time": "2021-12-24T20:26:17.030Z"
   },
   {
    "duration": 19,
    "start_time": "2021-12-24T20:29:59.122Z"
   },
   {
    "duration": 41,
    "start_time": "2021-12-24T20:30:09.153Z"
   },
   {
    "duration": 13,
    "start_time": "2021-12-24T20:30:54.949Z"
   },
   {
    "duration": 39,
    "start_time": "2021-12-24T20:32:05.215Z"
   },
   {
    "duration": 18,
    "start_time": "2021-12-24T20:32:13.790Z"
   },
   {
    "duration": 11,
    "start_time": "2021-12-24T20:33:35.408Z"
   },
   {
    "duration": 10,
    "start_time": "2021-12-24T20:33:42.355Z"
   },
   {
    "duration": 14,
    "start_time": "2021-12-24T20:33:52.030Z"
   },
   {
    "duration": 12,
    "start_time": "2021-12-24T20:34:22.535Z"
   },
   {
    "duration": 12,
    "start_time": "2021-12-24T20:34:33.824Z"
   },
   {
    "duration": 10,
    "start_time": "2021-12-24T20:36:23.632Z"
   },
   {
    "duration": 36,
    "start_time": "2021-12-24T20:36:33.205Z"
   },
   {
    "duration": 41,
    "start_time": "2021-12-24T20:37:06.780Z"
   },
   {
    "duration": 16,
    "start_time": "2021-12-24T20:37:16.412Z"
   },
   {
    "duration": 40,
    "start_time": "2021-12-24T20:37:21.861Z"
   },
   {
    "duration": 760,
    "start_time": "2021-12-24T20:42:32.839Z"
   },
   {
    "duration": 7919,
    "start_time": "2021-12-24T20:42:45.836Z"
   },
   {
    "duration": 39,
    "start_time": "2021-12-24T20:43:38.285Z"
   },
   {
    "duration": 17,
    "start_time": "2021-12-24T20:43:55.175Z"
   },
   {
    "duration": 14,
    "start_time": "2021-12-24T20:44:05.771Z"
   },
   {
    "duration": 8005,
    "start_time": "2021-12-24T20:45:07.520Z"
   },
   {
    "duration": 13,
    "start_time": "2021-12-24T20:45:32.857Z"
   },
   {
    "duration": 15,
    "start_time": "2021-12-24T20:46:07.677Z"
   },
   {
    "duration": 12,
    "start_time": "2021-12-24T20:46:25.350Z"
   },
   {
    "duration": 15,
    "start_time": "2021-12-24T20:46:45.174Z"
   },
   {
    "duration": 13,
    "start_time": "2021-12-24T20:47:08.534Z"
   },
   {
    "duration": 7982,
    "start_time": "2021-12-24T20:50:47.495Z"
   },
   {
    "duration": 22,
    "start_time": "2021-12-24T20:51:43.957Z"
   },
   {
    "duration": 24,
    "start_time": "2021-12-24T20:52:33.749Z"
   },
   {
    "duration": 97,
    "start_time": "2021-12-24T20:52:50.084Z"
   },
   {
    "duration": 18,
    "start_time": "2021-12-24T20:52:50.184Z"
   },
   {
    "duration": 9,
    "start_time": "2021-12-24T20:52:50.206Z"
   },
   {
    "duration": 16,
    "start_time": "2021-12-24T20:52:50.219Z"
   },
   {
    "duration": 20,
    "start_time": "2021-12-24T20:52:50.268Z"
   },
   {
    "duration": 16,
    "start_time": "2021-12-24T20:52:50.290Z"
   },
   {
    "duration": 68,
    "start_time": "2021-12-24T20:52:50.308Z"
   },
   {
    "duration": 16,
    "start_time": "2021-12-24T20:52:51.835Z"
   },
   {
    "duration": 314,
    "start_time": "2021-12-24T20:53:33.812Z"
   },
   {
    "duration": 10,
    "start_time": "2021-12-24T20:53:38.308Z"
   },
   {
    "duration": 10,
    "start_time": "2021-12-24T20:54:02.426Z"
   },
   {
    "duration": 129,
    "start_time": "2021-12-24T20:54:07.644Z"
   },
   {
    "duration": 35,
    "start_time": "2021-12-24T20:56:07.585Z"
   },
   {
    "duration": 11,
    "start_time": "2021-12-24T20:57:01.903Z"
   },
   {
    "duration": 24,
    "start_time": "2021-12-24T20:57:25.071Z"
   },
   {
    "duration": 37,
    "start_time": "2021-12-24T20:57:35.559Z"
   },
   {
    "duration": 93,
    "start_time": "2021-12-24T20:58:55.992Z"
   },
   {
    "duration": 14,
    "start_time": "2021-12-24T20:58:56.088Z"
   },
   {
    "duration": 7,
    "start_time": "2021-12-24T20:58:56.107Z"
   },
   {
    "duration": 8,
    "start_time": "2021-12-24T20:58:56.117Z"
   },
   {
    "duration": 69,
    "start_time": "2021-12-24T20:58:56.128Z"
   },
   {
    "duration": 21,
    "start_time": "2021-12-24T20:58:56.200Z"
   },
   {
    "duration": 60,
    "start_time": "2021-12-24T20:58:56.223Z"
   },
   {
    "duration": 332,
    "start_time": "2021-12-24T20:58:58.577Z"
   },
   {
    "duration": 6,
    "start_time": "2021-12-24T20:59:43.713Z"
   },
   {
    "duration": 13,
    "start_time": "2021-12-24T20:59:50.935Z"
   },
   {
    "duration": 15,
    "start_time": "2021-12-24T21:01:06.108Z"
   },
   {
    "duration": 22,
    "start_time": "2021-12-24T21:01:39.311Z"
   },
   {
    "duration": 88,
    "start_time": "2021-12-24T21:01:53.651Z"
   },
   {
    "duration": 13,
    "start_time": "2021-12-24T21:01:53.741Z"
   },
   {
    "duration": 7,
    "start_time": "2021-12-24T21:01:53.768Z"
   },
   {
    "duration": 10,
    "start_time": "2021-12-24T21:01:53.777Z"
   },
   {
    "duration": 20,
    "start_time": "2021-12-24T21:01:53.790Z"
   },
   {
    "duration": 57,
    "start_time": "2021-12-24T21:01:53.813Z"
   },
   {
    "duration": 32,
    "start_time": "2021-12-24T21:01:53.873Z"
   },
   {
    "duration": 21,
    "start_time": "2021-12-24T21:02:35.203Z"
   },
   {
    "duration": 82,
    "start_time": "2021-12-24T21:02:46.417Z"
   },
   {
    "duration": 12,
    "start_time": "2021-12-24T21:02:46.501Z"
   },
   {
    "duration": 7,
    "start_time": "2021-12-24T21:02:46.516Z"
   },
   {
    "duration": 7,
    "start_time": "2021-12-24T21:02:46.526Z"
   },
   {
    "duration": 20,
    "start_time": "2021-12-24T21:02:46.568Z"
   },
   {
    "duration": 16,
    "start_time": "2021-12-24T21:02:46.591Z"
   },
   {
    "duration": 64,
    "start_time": "2021-12-24T21:02:46.610Z"
   },
   {
    "duration": 21,
    "start_time": "2021-12-24T21:02:46.678Z"
   },
   {
    "duration": 11,
    "start_time": "2021-12-24T21:02:51.156Z"
   },
   {
    "duration": 10,
    "start_time": "2021-12-24T21:03:32.076Z"
   },
   {
    "duration": 16,
    "start_time": "2021-12-24T21:03:58.338Z"
   },
   {
    "duration": 18,
    "start_time": "2021-12-24T21:05:51.523Z"
   },
   {
    "duration": 17,
    "start_time": "2021-12-24T21:06:15.647Z"
   },
   {
    "duration": 16,
    "start_time": "2021-12-24T21:06:22.034Z"
   },
   {
    "duration": 15,
    "start_time": "2021-12-24T21:06:39.379Z"
   },
   {
    "duration": 12,
    "start_time": "2021-12-24T21:06:47.900Z"
   },
   {
    "duration": 12,
    "start_time": "2021-12-24T21:09:43.931Z"
   },
   {
    "duration": 12,
    "start_time": "2021-12-24T21:09:50.311Z"
   },
   {
    "duration": 321,
    "start_time": "2021-12-24T21:11:33.030Z"
   },
   {
    "duration": 362,
    "start_time": "2021-12-24T21:13:35.558Z"
   },
   {
    "duration": 35,
    "start_time": "2021-12-24T21:15:06.111Z"
   },
   {
    "duration": 36,
    "start_time": "2021-12-24T21:15:18.619Z"
   },
   {
    "duration": 41,
    "start_time": "2021-12-24T21:15:51.326Z"
   },
   {
    "duration": 100,
    "start_time": "2021-12-24T21:19:03.935Z"
   },
   {
    "duration": 141,
    "start_time": "2021-12-24T21:19:09.137Z"
   },
   {
    "duration": 11,
    "start_time": "2021-12-24T21:19:39.899Z"
   },
   {
    "duration": 11,
    "start_time": "2021-12-24T21:19:47.808Z"
   },
   {
    "duration": 13,
    "start_time": "2021-12-24T21:20:07.025Z"
   },
   {
    "duration": 24,
    "start_time": "2021-12-24T21:20:18.731Z"
   },
   {
    "duration": 36,
    "start_time": "2021-12-24T21:21:21.160Z"
   },
   {
    "duration": 35,
    "start_time": "2021-12-24T21:21:56.333Z"
   },
   {
    "duration": 21,
    "start_time": "2021-12-24T21:22:36.603Z"
   },
   {
    "duration": 103,
    "start_time": "2021-12-24T21:23:02.889Z"
   },
   {
    "duration": 2333,
    "start_time": "2021-12-24T21:23:09.007Z"
   },
   {
    "duration": 39,
    "start_time": "2021-12-24T21:23:23.709Z"
   },
   {
    "duration": 114,
    "start_time": "2021-12-24T21:24:53.686Z"
   },
   {
    "duration": 105,
    "start_time": "2021-12-24T21:25:25.938Z"
   },
   {
    "duration": 295,
    "start_time": "2021-12-24T21:25:38.717Z"
   },
   {
    "duration": 36,
    "start_time": "2021-12-24T21:26:21.246Z"
   },
   {
    "duration": 425,
    "start_time": "2021-12-24T21:26:45.584Z"
   },
   {
    "duration": 37,
    "start_time": "2021-12-24T21:27:14.947Z"
   },
   {
    "duration": 312,
    "start_time": "2021-12-24T21:28:01.607Z"
   },
   {
    "duration": 47,
    "start_time": "2021-12-24T21:28:08.232Z"
   },
   {
    "duration": 312,
    "start_time": "2021-12-24T21:30:47.543Z"
   },
   {
    "duration": 38,
    "start_time": "2021-12-24T21:31:58.216Z"
   },
   {
    "duration": 25,
    "start_time": "2021-12-24T21:32:48.379Z"
   },
   {
    "duration": 37,
    "start_time": "2021-12-24T21:33:08.152Z"
   },
   {
    "duration": 36,
    "start_time": "2021-12-24T21:33:25.761Z"
   },
   {
    "duration": 87,
    "start_time": "2021-12-24T21:33:36.375Z"
   },
   {
    "duration": 13,
    "start_time": "2021-12-24T21:33:36.465Z"
   },
   {
    "duration": 8,
    "start_time": "2021-12-24T21:33:36.480Z"
   },
   {
    "duration": 25,
    "start_time": "2021-12-24T21:33:36.490Z"
   },
   {
    "duration": 26,
    "start_time": "2021-12-24T21:33:36.518Z"
   },
   {
    "duration": 35,
    "start_time": "2021-12-24T21:33:36.547Z"
   },
   {
    "duration": 33,
    "start_time": "2021-12-24T21:33:36.585Z"
   },
   {
    "duration": 80,
    "start_time": "2021-12-24T21:33:36.621Z"
   },
   {
    "duration": 39,
    "start_time": "2021-12-24T21:33:42.290Z"
   },
   {
    "duration": 41,
    "start_time": "2021-12-24T21:33:53.449Z"
   },
   {
    "duration": 15,
    "start_time": "2021-12-24T21:34:09.593Z"
   },
   {
    "duration": 28,
    "start_time": "2021-12-24T21:34:38.488Z"
   },
   {
    "duration": 25,
    "start_time": "2021-12-24T21:34:47.471Z"
   },
   {
    "duration": 12,
    "start_time": "2021-12-24T21:35:02.074Z"
   },
   {
    "duration": 136,
    "start_time": "2021-12-24T21:35:09.232Z"
   },
   {
    "duration": 15,
    "start_time": "2021-12-24T21:35:13.560Z"
   },
   {
    "duration": 27,
    "start_time": "2021-12-24T21:35:39.808Z"
   },
   {
    "duration": 25,
    "start_time": "2021-12-24T21:36:17.010Z"
   },
   {
    "duration": 30,
    "start_time": "2021-12-24T21:36:30.688Z"
   },
   {
    "duration": 25,
    "start_time": "2021-12-24T21:41:18.602Z"
   },
   {
    "duration": 24,
    "start_time": "2021-12-24T21:41:40.268Z"
   },
   {
    "duration": 108,
    "start_time": "2021-12-24T21:41:53.492Z"
   },
   {
    "duration": 27,
    "start_time": "2021-12-24T21:41:59.498Z"
   },
   {
    "duration": 16,
    "start_time": "2021-12-24T21:42:38.207Z"
   },
   {
    "duration": 27,
    "start_time": "2021-12-24T21:42:52.235Z"
   },
   {
    "duration": 24,
    "start_time": "2021-12-24T21:43:02.307Z"
   },
   {
    "duration": 83,
    "start_time": "2021-12-24T21:43:06.593Z"
   },
   {
    "duration": 13,
    "start_time": "2021-12-24T21:43:06.678Z"
   },
   {
    "duration": 6,
    "start_time": "2021-12-24T21:43:06.694Z"
   },
   {
    "duration": 7,
    "start_time": "2021-12-24T21:43:06.703Z"
   },
   {
    "duration": 19,
    "start_time": "2021-12-24T21:43:06.712Z"
   },
   {
    "duration": 15,
    "start_time": "2021-12-24T21:43:06.769Z"
   },
   {
    "duration": 33,
    "start_time": "2021-12-24T21:43:06.787Z"
   },
   {
    "duration": 72,
    "start_time": "2021-12-24T21:43:06.823Z"
   },
   {
    "duration": 42,
    "start_time": "2021-12-24T21:43:09.019Z"
   },
   {
    "duration": 29,
    "start_time": "2021-12-24T21:43:12.460Z"
   },
   {
    "duration": 22,
    "start_time": "2021-12-24T21:44:09.475Z"
   },
   {
    "duration": 87,
    "start_time": "2021-12-24T21:44:17.257Z"
   },
   {
    "duration": 31,
    "start_time": "2021-12-24T21:44:17.347Z"
   },
   {
    "duration": 6,
    "start_time": "2021-12-24T21:44:17.382Z"
   },
   {
    "duration": 8,
    "start_time": "2021-12-24T21:44:17.392Z"
   },
   {
    "duration": 21,
    "start_time": "2021-12-24T21:44:17.403Z"
   },
   {
    "duration": 54,
    "start_time": "2021-12-24T21:44:17.426Z"
   },
   {
    "duration": 35,
    "start_time": "2021-12-24T21:44:17.482Z"
   },
   {
    "duration": 64,
    "start_time": "2021-12-24T21:44:17.520Z"
   },
   {
    "duration": 41,
    "start_time": "2021-12-24T21:44:19.178Z"
   },
   {
    "duration": 42,
    "start_time": "2021-12-24T21:45:35.902Z"
   },
   {
    "duration": 19,
    "start_time": "2021-12-24T21:46:24.924Z"
   },
   {
    "duration": 876,
    "start_time": "2021-12-24T21:47:05.243Z"
   },
   {
    "duration": 2148,
    "start_time": "2021-12-24T21:48:15.335Z"
   },
   {
    "duration": 45,
    "start_time": "2021-12-24T21:48:47.506Z"
   },
   {
    "duration": 42,
    "start_time": "2021-12-24T21:49:06.250Z"
   },
   {
    "duration": 42,
    "start_time": "2021-12-24T21:50:08.281Z"
   },
   {
    "duration": 20,
    "start_time": "2021-12-24T21:50:18.785Z"
   },
   {
    "duration": 3886,
    "start_time": "2021-12-24T21:50:36.038Z"
   },
   {
    "duration": 19,
    "start_time": "2021-12-24T21:52:55.266Z"
   },
   {
    "duration": 52,
    "start_time": "2021-12-24T21:53:42.107Z"
   },
   {
    "duration": 45,
    "start_time": "2021-12-24T21:55:40.989Z"
   },
   {
    "duration": 20,
    "start_time": "2021-12-24T21:55:58.448Z"
   },
   {
    "duration": 319,
    "start_time": "2021-12-24T21:56:19.177Z"
   },
   {
    "duration": 21,
    "start_time": "2021-12-24T21:56:23.243Z"
   },
   {
    "duration": 24,
    "start_time": "2021-12-24T21:56:34.972Z"
   },
   {
    "duration": 24,
    "start_time": "2021-12-24T21:57:21.044Z"
   },
   {
    "duration": 26,
    "start_time": "2021-12-24T21:57:34.232Z"
   },
   {
    "duration": 20,
    "start_time": "2021-12-24T21:57:42.401Z"
   },
   {
    "duration": 21,
    "start_time": "2021-12-24T21:59:16.236Z"
   },
   {
    "duration": 22,
    "start_time": "2021-12-24T21:59:22.850Z"
   },
   {
    "duration": 8137,
    "start_time": "2021-12-24T21:59:42.735Z"
   },
   {
    "duration": 21,
    "start_time": "2021-12-24T22:00:20.571Z"
   },
   {
    "duration": 21,
    "start_time": "2021-12-24T22:00:53.863Z"
   },
   {
    "duration": 22,
    "start_time": "2021-12-24T22:01:03.958Z"
   },
   {
    "duration": 21,
    "start_time": "2021-12-24T22:01:09.087Z"
   },
   {
    "duration": 34,
    "start_time": "2021-12-24T22:01:51.192Z"
   },
   {
    "duration": 30,
    "start_time": "2021-12-24T22:02:08.174Z"
   },
   {
    "duration": 20,
    "start_time": "2021-12-24T22:02:44.055Z"
   },
   {
    "duration": 84,
    "start_time": "2021-12-24T22:02:49.881Z"
   },
   {
    "duration": 13,
    "start_time": "2021-12-24T22:02:49.968Z"
   },
   {
    "duration": 8,
    "start_time": "2021-12-24T22:02:49.984Z"
   },
   {
    "duration": 9,
    "start_time": "2021-12-24T22:02:49.995Z"
   },
   {
    "duration": 20,
    "start_time": "2021-12-24T22:02:50.006Z"
   },
   {
    "duration": 51,
    "start_time": "2021-12-24T22:02:50.028Z"
   },
   {
    "duration": 32,
    "start_time": "2021-12-24T22:02:50.082Z"
   },
   {
    "duration": 20,
    "start_time": "2021-12-24T22:02:52.884Z"
   },
   {
    "duration": 23,
    "start_time": "2021-12-24T22:03:17.119Z"
   },
   {
    "duration": 22,
    "start_time": "2021-12-24T22:07:21.444Z"
   },
   {
    "duration": 36,
    "start_time": "2021-12-24T22:07:36.378Z"
   },
   {
    "duration": 44,
    "start_time": "2021-12-24T22:09:30.008Z"
   },
   {
    "duration": 27,
    "start_time": "2021-12-24T22:09:52.172Z"
   },
   {
    "duration": 92,
    "start_time": "2021-12-24T22:10:01.013Z"
   },
   {
    "duration": 15,
    "start_time": "2021-12-24T22:10:01.108Z"
   },
   {
    "duration": 9,
    "start_time": "2021-12-24T22:10:01.127Z"
   },
   {
    "duration": 11,
    "start_time": "2021-12-24T22:10:01.169Z"
   },
   {
    "duration": 49,
    "start_time": "2021-12-24T22:10:01.184Z"
   },
   {
    "duration": 33,
    "start_time": "2021-12-24T22:10:01.235Z"
   },
   {
    "duration": 34,
    "start_time": "2021-12-24T22:10:01.271Z"
   },
   {
    "duration": 499,
    "start_time": "2021-12-24T22:10:02.745Z"
   },
   {
    "duration": 21,
    "start_time": "2021-12-24T22:10:48.597Z"
   },
   {
    "duration": 87,
    "start_time": "2021-12-24T22:11:00.198Z"
   },
   {
    "duration": 15,
    "start_time": "2021-12-24T22:11:00.288Z"
   },
   {
    "duration": 9,
    "start_time": "2021-12-24T22:11:00.307Z"
   },
   {
    "duration": 48,
    "start_time": "2021-12-24T22:11:00.319Z"
   },
   {
    "duration": 20,
    "start_time": "2021-12-24T22:11:00.370Z"
   },
   {
    "duration": 19,
    "start_time": "2021-12-24T22:11:00.392Z"
   },
   {
    "duration": 62,
    "start_time": "2021-12-24T22:11:00.413Z"
   },
   {
    "duration": 23,
    "start_time": "2021-12-24T22:11:02.959Z"
   },
   {
    "duration": 23,
    "start_time": "2021-12-24T22:11:08.223Z"
   },
   {
    "duration": 22,
    "start_time": "2021-12-24T22:11:14.018Z"
   },
   {
    "duration": 15,
    "start_time": "2021-12-24T22:12:31.336Z"
   },
   {
    "duration": 22,
    "start_time": "2021-12-24T22:12:45.472Z"
   },
   {
    "duration": 22,
    "start_time": "2021-12-24T22:12:48.863Z"
   },
   {
    "duration": 77,
    "start_time": "2021-12-24T22:13:00.776Z"
   },
   {
    "duration": 86,
    "start_time": "2021-12-24T22:13:29.520Z"
   },
   {
    "duration": 77,
    "start_time": "2021-12-24T22:13:57.922Z"
   },
   {
    "duration": 138,
    "start_time": "2021-12-24T22:15:42.979Z"
   },
   {
    "duration": 352,
    "start_time": "2021-12-24T22:16:27.844Z"
   },
   {
    "duration": 16,
    "start_time": "2021-12-24T22:17:44.316Z"
   },
   {
    "duration": 91,
    "start_time": "2021-12-24T22:18:27.583Z"
   },
   {
    "duration": 15,
    "start_time": "2021-12-24T22:18:27.677Z"
   },
   {
    "duration": 12,
    "start_time": "2021-12-24T22:18:27.695Z"
   },
   {
    "duration": 9,
    "start_time": "2021-12-24T22:18:27.711Z"
   },
   {
    "duration": 61,
    "start_time": "2021-12-24T22:18:27.723Z"
   },
   {
    "duration": 17,
    "start_time": "2021-12-24T22:18:27.787Z"
   },
   {
    "duration": 73,
    "start_time": "2021-12-24T22:18:27.807Z"
   },
   {
    "duration": 36,
    "start_time": "2021-12-24T22:18:29.756Z"
   },
   {
    "duration": 14,
    "start_time": "2021-12-24T22:19:13.254Z"
   },
   {
    "duration": 367,
    "start_time": "2021-12-24T22:19:31.940Z"
   },
   {
    "duration": 354,
    "start_time": "2021-12-24T22:20:09.813Z"
   },
   {
    "duration": 912,
    "start_time": "2021-12-24T22:20:17.136Z"
   },
   {
    "duration": 19,
    "start_time": "2021-12-24T22:20:18.050Z"
   },
   {
    "duration": 6,
    "start_time": "2021-12-24T22:20:18.071Z"
   },
   {
    "duration": 17,
    "start_time": "2021-12-24T22:20:18.080Z"
   },
   {
    "duration": 26,
    "start_time": "2021-12-24T22:20:18.099Z"
   },
   {
    "duration": 45,
    "start_time": "2021-12-24T22:20:18.128Z"
   },
   {
    "duration": 35,
    "start_time": "2021-12-24T22:20:18.176Z"
   },
   {
    "duration": 379,
    "start_time": "2021-12-24T22:20:18.215Z"
   },
   {
    "duration": 19,
    "start_time": "2021-12-24T22:20:18.597Z"
   },
   {
    "duration": 17,
    "start_time": "2021-12-24T22:20:18.619Z"
   },
   {
    "duration": 54,
    "start_time": "2021-12-24T22:20:18.639Z"
   },
   {
    "duration": 11,
    "start_time": "2021-12-24T22:20:18.695Z"
   },
   {
    "duration": 4602,
    "start_time": "2021-12-24T22:20:18.708Z"
   },
   {
    "duration": 27,
    "start_time": "2021-12-24T22:20:23.314Z"
   },
   {
    "duration": 34,
    "start_time": "2021-12-24T22:20:23.368Z"
   },
   {
    "duration": 64,
    "start_time": "2021-12-24T22:20:23.405Z"
   },
   {
    "duration": 43,
    "start_time": "2021-12-24T22:20:23.472Z"
   },
   {
    "duration": 70,
    "start_time": "2021-12-24T22:20:23.518Z"
   },
   {
    "duration": 31,
    "start_time": "2021-12-24T22:20:23.590Z"
   },
   {
    "duration": 56,
    "start_time": "2021-12-24T22:20:23.623Z"
   },
   {
    "duration": 33,
    "start_time": "2021-12-24T22:20:23.681Z"
   },
   {
    "duration": 960,
    "start_time": "2021-12-24T22:26:52.076Z"
   },
   {
    "duration": 31,
    "start_time": "2021-12-24T22:26:53.039Z"
   },
   {
    "duration": 7,
    "start_time": "2021-12-24T22:26:53.074Z"
   },
   {
    "duration": 11,
    "start_time": "2021-12-24T22:26:53.084Z"
   },
   {
    "duration": 21,
    "start_time": "2021-12-24T22:26:53.098Z"
   },
   {
    "duration": 59,
    "start_time": "2021-12-24T22:26:53.121Z"
   },
   {
    "duration": 36,
    "start_time": "2021-12-24T22:26:53.182Z"
   },
   {
    "duration": 426,
    "start_time": "2021-12-24T22:26:53.222Z"
   },
   {
    "duration": 27,
    "start_time": "2021-12-24T22:26:53.651Z"
   },
   {
    "duration": 19,
    "start_time": "2021-12-24T22:26:53.681Z"
   },
   {
    "duration": 39,
    "start_time": "2021-12-24T22:26:53.703Z"
   },
   {
    "duration": 33,
    "start_time": "2021-12-24T22:26:53.744Z"
   },
   {
    "duration": 4790,
    "start_time": "2021-12-24T22:26:53.779Z"
   },
   {
    "duration": 23,
    "start_time": "2021-12-24T22:26:58.572Z"
   },
   {
    "duration": 32,
    "start_time": "2021-12-24T22:26:58.597Z"
   },
   {
    "duration": 64,
    "start_time": "2021-12-24T22:26:58.631Z"
   },
   {
    "duration": 32,
    "start_time": "2021-12-24T22:26:58.698Z"
   },
   {
    "duration": 68,
    "start_time": "2021-12-24T22:26:58.732Z"
   },
   {
    "duration": 30,
    "start_time": "2021-12-24T22:26:58.803Z"
   },
   {
    "duration": 61,
    "start_time": "2021-12-24T22:26:58.836Z"
   },
   {
    "duration": 32,
    "start_time": "2021-12-24T22:26:58.899Z"
   },
   {
    "duration": 39,
    "start_time": "2021-12-24T22:30:04.304Z"
   },
   {
    "duration": 40,
    "start_time": "2021-12-24T22:30:18.273Z"
   },
   {
    "duration": 94,
    "start_time": "2021-12-24T22:30:23.053Z"
   },
   {
    "duration": 16,
    "start_time": "2021-12-24T22:30:23.167Z"
   },
   {
    "duration": 8,
    "start_time": "2021-12-24T22:30:23.186Z"
   },
   {
    "duration": 9,
    "start_time": "2021-12-24T22:30:23.196Z"
   },
   {
    "duration": 62,
    "start_time": "2021-12-24T22:30:23.207Z"
   },
   {
    "duration": 14,
    "start_time": "2021-12-24T22:30:23.272Z"
   },
   {
    "duration": 36,
    "start_time": "2021-12-24T22:30:25.351Z"
   },
   {
    "duration": 1096,
    "start_time": "2021-12-24T22:30:45.484Z"
   },
   {
    "duration": 14,
    "start_time": "2021-12-24T22:30:46.582Z"
   },
   {
    "duration": 7,
    "start_time": "2021-12-24T22:30:46.599Z"
   },
   {
    "duration": 9,
    "start_time": "2021-12-24T22:30:46.609Z"
   },
   {
    "duration": 53,
    "start_time": "2021-12-24T22:30:46.621Z"
   },
   {
    "duration": 18,
    "start_time": "2021-12-24T22:30:46.677Z"
   },
   {
    "duration": 37,
    "start_time": "2021-12-24T22:30:46.697Z"
   },
   {
    "duration": 361,
    "start_time": "2021-12-24T22:30:46.766Z"
   },
   {
    "duration": 17,
    "start_time": "2021-12-24T22:30:47.130Z"
   },
   {
    "duration": 30,
    "start_time": "2021-12-24T22:30:47.150Z"
   },
   {
    "duration": 40,
    "start_time": "2021-12-24T22:30:47.183Z"
   },
   {
    "duration": 44,
    "start_time": "2021-12-24T22:30:47.226Z"
   },
   {
    "duration": 4640,
    "start_time": "2021-12-24T22:30:47.274Z"
   },
   {
    "duration": 24,
    "start_time": "2021-12-24T22:30:51.917Z"
   },
   {
    "duration": 51,
    "start_time": "2021-12-24T22:30:51.944Z"
   },
   {
    "duration": 33,
    "start_time": "2021-12-24T22:30:51.997Z"
   },
   {
    "duration": 60,
    "start_time": "2021-12-24T22:30:52.032Z"
   },
   {
    "duration": 43,
    "start_time": "2021-12-24T22:30:52.094Z"
   },
   {
    "duration": 49,
    "start_time": "2021-12-24T22:30:52.139Z"
   },
   {
    "duration": 29,
    "start_time": "2021-12-24T22:30:52.190Z"
   },
   {
    "duration": 61,
    "start_time": "2021-12-24T22:30:52.221Z"
   },
   {
    "duration": 36,
    "start_time": "2021-12-24T22:31:18.639Z"
   },
   {
    "duration": 880,
    "start_time": "2021-12-24T22:31:27.280Z"
   },
   {
    "duration": 15,
    "start_time": "2021-12-24T22:31:28.163Z"
   },
   {
    "duration": 7,
    "start_time": "2021-12-24T22:31:28.181Z"
   },
   {
    "duration": 9,
    "start_time": "2021-12-24T22:31:28.190Z"
   },
   {
    "duration": 21,
    "start_time": "2021-12-24T22:31:28.201Z"
   },
   {
    "duration": 15,
    "start_time": "2021-12-24T22:31:28.268Z"
   },
   {
    "duration": 30,
    "start_time": "2021-12-24T22:31:28.285Z"
   },
   {
    "duration": 373,
    "start_time": "2021-12-24T22:31:28.318Z"
   },
   {
    "duration": 18,
    "start_time": "2021-12-24T22:31:28.694Z"
   },
   {
    "duration": 18,
    "start_time": "2021-12-24T22:31:28.715Z"
   },
   {
    "duration": 48,
    "start_time": "2021-12-24T22:31:28.736Z"
   },
   {
    "duration": 11,
    "start_time": "2021-12-24T22:31:28.787Z"
   },
   {
    "duration": 4641,
    "start_time": "2021-12-24T22:31:28.801Z"
   },
   {
    "duration": 38,
    "start_time": "2021-12-24T22:31:33.445Z"
   },
   {
    "duration": 32,
    "start_time": "2021-12-24T22:31:33.486Z"
   },
   {
    "duration": 69,
    "start_time": "2021-12-24T22:31:33.520Z"
   },
   {
    "duration": 32,
    "start_time": "2021-12-24T22:31:33.592Z"
   },
   {
    "duration": 72,
    "start_time": "2021-12-24T22:31:33.626Z"
   },
   {
    "duration": 33,
    "start_time": "2021-12-24T22:31:33.701Z"
   },
   {
    "duration": 59,
    "start_time": "2021-12-24T22:31:33.737Z"
   },
   {
    "duration": 32,
    "start_time": "2021-12-24T22:31:33.799Z"
   },
   {
    "duration": 25,
    "start_time": "2021-12-24T22:32:56.623Z"
   },
   {
    "duration": 22,
    "start_time": "2021-12-24T22:32:59.078Z"
   },
   {
    "duration": 35,
    "start_time": "2021-12-24T22:33:27.797Z"
   },
   {
    "duration": 407,
    "start_time": "2021-12-24T22:37:04.168Z"
   },
   {
    "duration": 95,
    "start_time": "2021-12-24T22:37:13.356Z"
   },
   {
    "duration": 13,
    "start_time": "2021-12-24T22:37:13.468Z"
   },
   {
    "duration": 7,
    "start_time": "2021-12-24T22:37:13.484Z"
   },
   {
    "duration": 8,
    "start_time": "2021-12-24T22:37:13.494Z"
   },
   {
    "duration": 65,
    "start_time": "2021-12-24T22:37:13.504Z"
   },
   {
    "duration": 16,
    "start_time": "2021-12-24T22:37:13.572Z"
   },
   {
    "duration": 31,
    "start_time": "2021-12-24T22:37:13.590Z"
   },
   {
    "duration": 356,
    "start_time": "2021-12-24T22:37:15.064Z"
   },
   {
    "duration": 347,
    "start_time": "2021-12-24T22:37:27.812Z"
   },
   {
    "duration": 361,
    "start_time": "2021-12-24T22:37:33.106Z"
   },
   {
    "duration": 93,
    "start_time": "2021-12-24T22:45:47.549Z"
   },
   {
    "duration": 30,
    "start_time": "2021-12-24T22:45:47.644Z"
   },
   {
    "duration": 10,
    "start_time": "2021-12-24T22:45:47.677Z"
   },
   {
    "duration": 28,
    "start_time": "2021-12-24T22:45:47.690Z"
   },
   {
    "duration": 28,
    "start_time": "2021-12-24T22:45:47.720Z"
   },
   {
    "duration": 14,
    "start_time": "2021-12-24T22:45:47.768Z"
   },
   {
    "duration": 36,
    "start_time": "2021-12-24T22:45:47.785Z"
   },
   {
    "duration": 607,
    "start_time": "2021-12-24T22:45:52.289Z"
   },
   {
    "duration": 525,
    "start_time": "2021-12-24T22:47:08.864Z"
   },
   {
    "duration": 77,
    "start_time": "2021-12-24T22:47:15.969Z"
   },
   {
    "duration": 77,
    "start_time": "2021-12-24T22:47:19.117Z"
   },
   {
    "duration": 341,
    "start_time": "2021-12-24T22:47:34.222Z"
   },
   {
    "duration": 351,
    "start_time": "2021-12-24T22:47:37.558Z"
   },
   {
    "duration": 350,
    "start_time": "2021-12-24T22:47:55.475Z"
   },
   {
    "duration": 346,
    "start_time": "2021-12-24T22:48:40.240Z"
   },
   {
    "duration": 356,
    "start_time": "2021-12-24T22:48:41.750Z"
   },
   {
    "duration": 869,
    "start_time": "2021-12-24T22:48:48.644Z"
   },
   {
    "duration": 14,
    "start_time": "2021-12-24T22:48:49.515Z"
   },
   {
    "duration": 7,
    "start_time": "2021-12-24T22:48:49.533Z"
   },
   {
    "duration": 11,
    "start_time": "2021-12-24T22:48:49.569Z"
   },
   {
    "duration": 29,
    "start_time": "2021-12-24T22:48:49.583Z"
   },
   {
    "duration": 15,
    "start_time": "2021-12-24T22:48:49.667Z"
   },
   {
    "duration": 31,
    "start_time": "2021-12-24T22:48:49.684Z"
   },
   {
    "duration": 380,
    "start_time": "2021-12-24T22:48:49.719Z"
   },
   {
    "duration": 18,
    "start_time": "2021-12-24T22:48:50.102Z"
   },
   {
    "duration": 18,
    "start_time": "2021-12-24T22:48:50.123Z"
   },
   {
    "duration": 42,
    "start_time": "2021-12-24T22:48:50.144Z"
   },
   {
    "duration": 10,
    "start_time": "2021-12-24T22:48:50.189Z"
   },
   {
    "duration": 4928,
    "start_time": "2021-12-24T22:48:50.202Z"
   },
   {
    "duration": 40,
    "start_time": "2021-12-24T22:48:55.133Z"
   },
   {
    "duration": 30,
    "start_time": "2021-12-24T22:48:55.176Z"
   },
   {
    "duration": 67,
    "start_time": "2021-12-24T22:48:55.209Z"
   },
   {
    "duration": 29,
    "start_time": "2021-12-24T22:48:55.278Z"
   },
   {
    "duration": 61,
    "start_time": "2021-12-24T22:48:55.310Z"
   },
   {
    "duration": 29,
    "start_time": "2021-12-24T22:48:55.374Z"
   },
   {
    "duration": 29,
    "start_time": "2021-12-24T22:48:55.406Z"
   },
   {
    "duration": 56,
    "start_time": "2021-12-24T22:48:55.437Z"
   },
   {
    "duration": 29,
    "start_time": "2021-12-24T22:51:38.303Z"
   },
   {
    "duration": 22,
    "start_time": "2021-12-24T22:51:43.124Z"
   },
   {
    "duration": 887,
    "start_time": "2021-12-24T23:04:18.748Z"
   },
   {
    "duration": 14,
    "start_time": "2021-12-24T23:04:19.638Z"
   },
   {
    "duration": 8,
    "start_time": "2021-12-24T23:04:19.667Z"
   },
   {
    "duration": 12,
    "start_time": "2021-12-24T23:04:19.678Z"
   },
   {
    "duration": 23,
    "start_time": "2021-12-24T23:04:19.692Z"
   },
   {
    "duration": 50,
    "start_time": "2021-12-24T23:04:19.718Z"
   },
   {
    "duration": 30,
    "start_time": "2021-12-24T23:04:19.771Z"
   },
   {
    "duration": 371,
    "start_time": "2021-12-24T23:04:19.804Z"
   },
   {
    "duration": 19,
    "start_time": "2021-12-24T23:04:20.178Z"
   },
   {
    "duration": 19,
    "start_time": "2021-12-24T23:04:20.200Z"
   },
   {
    "duration": 62,
    "start_time": "2021-12-24T23:04:20.222Z"
   },
   {
    "duration": 13,
    "start_time": "2021-12-24T23:04:20.286Z"
   },
   {
    "duration": 4704,
    "start_time": "2021-12-24T23:04:20.301Z"
   },
   {
    "duration": 23,
    "start_time": "2021-12-24T23:04:25.008Z"
   },
   {
    "duration": 54,
    "start_time": "2021-12-24T23:04:25.033Z"
   },
   {
    "duration": 35,
    "start_time": "2021-12-24T23:04:25.090Z"
   },
   {
    "duration": 57,
    "start_time": "2021-12-24T23:04:25.127Z"
   },
   {
    "duration": 43,
    "start_time": "2021-12-24T23:04:25.187Z"
   },
   {
    "duration": 55,
    "start_time": "2021-12-24T23:04:25.232Z"
   },
   {
    "duration": 30,
    "start_time": "2021-12-24T23:04:25.290Z"
   },
   {
    "duration": 54,
    "start_time": "2021-12-24T23:04:25.322Z"
   },
   {
    "duration": 853,
    "start_time": "2021-12-24T23:16:01.604Z"
   },
   {
    "duration": 16,
    "start_time": "2021-12-24T23:16:02.460Z"
   },
   {
    "duration": 28,
    "start_time": "2021-12-24T23:16:02.479Z"
   },
   {
    "duration": 25,
    "start_time": "2021-12-24T23:16:02.510Z"
   },
   {
    "duration": 23,
    "start_time": "2021-12-24T23:16:02.538Z"
   },
   {
    "duration": 21,
    "start_time": "2021-12-24T23:16:02.564Z"
   },
   {
    "duration": 33,
    "start_time": "2021-12-24T23:16:02.588Z"
   },
   {
    "duration": 362,
    "start_time": "2021-12-24T23:16:02.625Z"
   },
   {
    "duration": 19,
    "start_time": "2021-12-24T23:16:02.990Z"
   },
   {
    "duration": 18,
    "start_time": "2021-12-24T23:16:03.011Z"
   },
   {
    "duration": 57,
    "start_time": "2021-12-24T23:16:03.032Z"
   },
   {
    "duration": 12,
    "start_time": "2021-12-24T23:16:03.092Z"
   },
   {
    "duration": 4577,
    "start_time": "2021-12-24T23:16:03.107Z"
   },
   {
    "duration": 25,
    "start_time": "2021-12-24T23:16:07.687Z"
   },
   {
    "duration": 59,
    "start_time": "2021-12-24T23:16:07.715Z"
   },
   {
    "duration": 33,
    "start_time": "2021-12-24T23:16:07.777Z"
   },
   {
    "duration": 57,
    "start_time": "2021-12-24T23:16:07.812Z"
   },
   {
    "duration": 42,
    "start_time": "2021-12-24T23:16:07.871Z"
   },
   {
    "duration": 53,
    "start_time": "2021-12-24T23:16:07.915Z"
   },
   {
    "duration": 32,
    "start_time": "2021-12-24T23:16:07.970Z"
   },
   {
    "duration": 66,
    "start_time": "2021-12-24T23:16:08.006Z"
   },
   {
    "duration": 1164,
    "start_time": "2021-12-26T08:37:14.120Z"
   },
   {
    "duration": 13,
    "start_time": "2021-12-26T08:37:15.288Z"
   },
   {
    "duration": 6,
    "start_time": "2021-12-26T08:37:15.304Z"
   },
   {
    "duration": 8,
    "start_time": "2021-12-26T08:37:15.313Z"
   },
   {
    "duration": 19,
    "start_time": "2021-12-26T08:37:15.363Z"
   },
   {
    "duration": 14,
    "start_time": "2021-12-26T08:37:15.385Z"
   },
   {
    "duration": 62,
    "start_time": "2021-12-26T08:37:15.402Z"
   },
   {
    "duration": 448,
    "start_time": "2021-12-26T08:37:17.778Z"
   },
   {
    "duration": 101,
    "start_time": "2021-12-26T08:37:48.304Z"
   },
   {
    "duration": 17,
    "start_time": "2021-12-26T08:37:48.408Z"
   },
   {
    "duration": 6,
    "start_time": "2021-12-26T08:37:48.431Z"
   },
   {
    "duration": 43,
    "start_time": "2021-12-26T08:37:48.440Z"
   },
   {
    "duration": 21,
    "start_time": "2021-12-26T08:37:48.485Z"
   },
   {
    "duration": 22,
    "start_time": "2021-12-26T08:37:48.509Z"
   },
   {
    "duration": 48,
    "start_time": "2021-12-26T08:37:48.566Z"
   },
   {
    "duration": 403,
    "start_time": "2021-12-26T08:37:48.618Z"
   },
   {
    "duration": 18,
    "start_time": "2021-12-26T08:37:49.024Z"
   },
   {
    "duration": 19,
    "start_time": "2021-12-26T08:38:26.548Z"
   },
   {
    "duration": 125,
    "start_time": "2021-12-26T08:38:41.402Z"
   },
   {
    "duration": 12,
    "start_time": "2021-12-26T08:38:41.530Z"
   },
   {
    "duration": 10,
    "start_time": "2021-12-26T08:38:41.571Z"
   },
   {
    "duration": 8,
    "start_time": "2021-12-26T08:38:41.583Z"
   },
   {
    "duration": 22,
    "start_time": "2021-12-26T08:38:41.593Z"
   },
   {
    "duration": 68,
    "start_time": "2021-12-26T08:38:41.618Z"
   },
   {
    "duration": 30,
    "start_time": "2021-12-26T08:38:41.689Z"
   },
   {
    "duration": 417,
    "start_time": "2021-12-26T08:38:41.726Z"
   },
   {
    "duration": 25,
    "start_time": "2021-12-26T08:38:42.145Z"
   },
   {
    "duration": 19,
    "start_time": "2021-12-26T08:38:42.174Z"
   },
   {
    "duration": 24,
    "start_time": "2021-12-26T08:38:42.196Z"
   },
   {
    "duration": 27,
    "start_time": "2021-12-26T08:42:14.745Z"
   },
   {
    "duration": 25,
    "start_time": "2021-12-26T08:44:48.382Z"
   },
   {
    "duration": 47,
    "start_time": "2021-12-26T08:45:04.316Z"
   },
   {
    "duration": 99,
    "start_time": "2021-12-26T08:46:51.465Z"
   },
   {
    "duration": 13,
    "start_time": "2021-12-26T08:46:51.566Z"
   },
   {
    "duration": 15,
    "start_time": "2021-12-26T08:46:51.583Z"
   },
   {
    "duration": 10,
    "start_time": "2021-12-26T08:46:51.601Z"
   },
   {
    "duration": 53,
    "start_time": "2021-12-26T08:46:51.613Z"
   },
   {
    "duration": 17,
    "start_time": "2021-12-26T08:46:51.668Z"
   },
   {
    "duration": 28,
    "start_time": "2021-12-26T08:46:51.687Z"
   },
   {
    "duration": 373,
    "start_time": "2021-12-26T08:46:51.718Z"
   },
   {
    "duration": 16,
    "start_time": "2021-12-26T08:46:52.094Z"
   },
   {
    "duration": 16,
    "start_time": "2021-12-26T08:46:52.113Z"
   },
   {
    "duration": 53,
    "start_time": "2021-12-26T08:46:52.131Z"
   },
   {
    "duration": 27,
    "start_time": "2021-12-26T08:46:52.186Z"
   },
   {
    "duration": 67,
    "start_time": "2021-12-26T08:46:52.216Z"
   },
   {
    "duration": 90,
    "start_time": "2021-12-26T08:51:04.600Z"
   },
   {
    "duration": 12,
    "start_time": "2021-12-26T08:51:04.692Z"
   },
   {
    "duration": 7,
    "start_time": "2021-12-26T08:51:04.707Z"
   },
   {
    "duration": 9,
    "start_time": "2021-12-26T08:51:04.717Z"
   },
   {
    "duration": 27,
    "start_time": "2021-12-26T08:51:04.763Z"
   },
   {
    "duration": 19,
    "start_time": "2021-12-26T08:51:04.793Z"
   },
   {
    "duration": 57,
    "start_time": "2021-12-26T08:51:04.814Z"
   },
   {
    "duration": 371,
    "start_time": "2021-12-26T08:51:04.875Z"
   },
   {
    "duration": 27,
    "start_time": "2021-12-26T08:51:05.249Z"
   },
   {
    "duration": 21,
    "start_time": "2021-12-26T08:51:05.279Z"
   },
   {
    "duration": 24,
    "start_time": "2021-12-26T08:51:05.303Z"
   },
   {
    "duration": 56,
    "start_time": "2021-12-26T08:51:05.329Z"
   },
   {
    "duration": 45,
    "start_time": "2021-12-26T08:51:05.388Z"
   },
   {
    "duration": 34,
    "start_time": "2021-12-26T08:51:05.436Z"
   },
   {
    "duration": 4530,
    "start_time": "2021-12-26T08:51:05.474Z"
   },
   {
    "duration": 37,
    "start_time": "2021-12-26T08:57:33.691Z"
   },
   {
    "duration": 43,
    "start_time": "2021-12-26T08:57:43.650Z"
   },
   {
    "duration": 35,
    "start_time": "2021-12-26T08:57:54.615Z"
   },
   {
    "duration": 857,
    "start_time": "2021-12-26T08:59:18.937Z"
   },
   {
    "duration": 14,
    "start_time": "2021-12-26T08:59:19.797Z"
   },
   {
    "duration": 7,
    "start_time": "2021-12-26T08:59:19.814Z"
   },
   {
    "duration": 46,
    "start_time": "2021-12-26T08:59:19.824Z"
   },
   {
    "duration": 21,
    "start_time": "2021-12-26T08:59:19.873Z"
   },
   {
    "duration": 17,
    "start_time": "2021-12-26T08:59:19.897Z"
   },
   {
    "duration": 68,
    "start_time": "2021-12-26T08:59:19.916Z"
   },
   {
    "duration": 384,
    "start_time": "2021-12-26T08:59:19.988Z"
   },
   {
    "duration": 28,
    "start_time": "2021-12-26T08:59:20.376Z"
   },
   {
    "duration": 25,
    "start_time": "2021-12-26T08:59:20.407Z"
   },
   {
    "duration": 50,
    "start_time": "2021-12-26T08:59:20.434Z"
   },
   {
    "duration": 26,
    "start_time": "2021-12-26T08:59:20.487Z"
   },
   {
    "duration": 67,
    "start_time": "2021-12-26T08:59:20.515Z"
   },
   {
    "duration": 11,
    "start_time": "2021-12-26T08:59:20.584Z"
   },
   {
    "duration": 5097,
    "start_time": "2021-12-26T08:59:20.598Z"
   },
   {
    "duration": 23,
    "start_time": "2021-12-26T08:59:25.698Z"
   },
   {
    "duration": 59,
    "start_time": "2021-12-26T08:59:25.724Z"
   },
   {
    "duration": 53,
    "start_time": "2021-12-26T08:59:25.840Z"
   },
   {
    "duration": 107,
    "start_time": "2021-12-26T08:59:25.896Z"
   },
   {
    "duration": 61,
    "start_time": "2021-12-26T08:59:26.006Z"
   },
   {
    "duration": 28,
    "start_time": "2021-12-26T08:59:26.069Z"
   },
   {
    "duration": 60,
    "start_time": "2021-12-26T08:59:26.102Z"
   },
   {
    "duration": 98,
    "start_time": "2021-12-26T08:59:26.165Z"
   },
   {
    "duration": 16,
    "start_time": "2021-12-26T08:59:26.266Z"
   },
   {
    "duration": 7,
    "start_time": "2021-12-26T08:59:26.285Z"
   },
   {
    "duration": 14,
    "start_time": "2021-12-26T08:59:26.295Z"
   },
   {
    "duration": 62,
    "start_time": "2021-12-26T08:59:26.312Z"
   },
   {
    "duration": 21,
    "start_time": "2021-12-26T08:59:26.378Z"
   },
   {
    "duration": 67,
    "start_time": "2021-12-26T08:59:26.402Z"
   },
   {
    "duration": 368,
    "start_time": "2021-12-26T08:59:26.471Z"
   },
   {
    "duration": 29,
    "start_time": "2021-12-26T08:59:26.842Z"
   },
   {
    "duration": 17,
    "start_time": "2021-12-26T08:59:26.874Z"
   },
   {
    "duration": 23,
    "start_time": "2021-12-26T08:59:26.894Z"
   },
   {
    "duration": 61,
    "start_time": "2021-12-26T08:59:26.920Z"
   },
   {
    "duration": 42,
    "start_time": "2021-12-26T08:59:26.983Z"
   },
   {
    "duration": 10,
    "start_time": "2021-12-26T08:59:27.027Z"
   },
   {
    "duration": 5262,
    "start_time": "2021-12-26T08:59:27.039Z"
   },
   {
    "duration": 23,
    "start_time": "2021-12-26T08:59:32.304Z"
   },
   {
    "duration": 53,
    "start_time": "2021-12-26T08:59:32.330Z"
   },
   {
    "duration": 34,
    "start_time": "2021-12-26T08:59:32.386Z"
   },
   {
    "duration": 92,
    "start_time": "2021-12-26T08:59:44.028Z"
   },
   {
    "duration": 40,
    "start_time": "2021-12-26T08:59:44.123Z"
   },
   {
    "duration": 7,
    "start_time": "2021-12-26T08:59:44.166Z"
   },
   {
    "duration": 12,
    "start_time": "2021-12-26T08:59:44.177Z"
   },
   {
    "duration": 31,
    "start_time": "2021-12-26T08:59:44.192Z"
   },
   {
    "duration": 16,
    "start_time": "2021-12-26T08:59:44.264Z"
   },
   {
    "duration": 33,
    "start_time": "2021-12-26T08:59:44.282Z"
   },
   {
    "duration": 406,
    "start_time": "2021-12-26T08:59:44.321Z"
   },
   {
    "duration": 36,
    "start_time": "2021-12-26T08:59:44.731Z"
   },
   {
    "duration": 19,
    "start_time": "2021-12-26T08:59:44.770Z"
   },
   {
    "duration": 24,
    "start_time": "2021-12-26T08:59:44.792Z"
   },
   {
    "duration": 62,
    "start_time": "2021-12-26T08:59:44.818Z"
   },
   {
    "duration": 42,
    "start_time": "2021-12-26T08:59:44.882Z"
   },
   {
    "duration": 11,
    "start_time": "2021-12-26T08:59:44.926Z"
   },
   {
    "duration": 5589,
    "start_time": "2021-12-26T08:59:44.939Z"
   },
   {
    "duration": 40,
    "start_time": "2021-12-26T08:59:50.531Z"
   },
   {
    "duration": 31,
    "start_time": "2021-12-26T08:59:50.573Z"
   },
   {
    "duration": 58,
    "start_time": "2021-12-26T08:59:50.606Z"
   },
   {
    "duration": 32,
    "start_time": "2021-12-26T08:59:50.667Z"
   },
   {
    "duration": 95,
    "start_time": "2021-12-26T08:59:52.046Z"
   },
   {
    "duration": 29,
    "start_time": "2021-12-26T08:59:52.144Z"
   },
   {
    "duration": 6,
    "start_time": "2021-12-26T08:59:52.177Z"
   },
   {
    "duration": 19,
    "start_time": "2021-12-26T08:59:52.186Z"
   },
   {
    "duration": 19,
    "start_time": "2021-12-26T08:59:52.207Z"
   },
   {
    "duration": 47,
    "start_time": "2021-12-26T08:59:52.229Z"
   },
   {
    "duration": 28,
    "start_time": "2021-12-26T08:59:52.278Z"
   },
   {
    "duration": 368,
    "start_time": "2021-12-26T08:59:52.310Z"
   },
   {
    "duration": 18,
    "start_time": "2021-12-26T08:59:52.681Z"
   },
   {
    "duration": 17,
    "start_time": "2021-12-26T08:59:52.701Z"
   },
   {
    "duration": 53,
    "start_time": "2021-12-26T08:59:52.721Z"
   },
   {
    "duration": 24,
    "start_time": "2021-12-26T08:59:52.776Z"
   },
   {
    "duration": 64,
    "start_time": "2021-12-26T08:59:52.803Z"
   },
   {
    "duration": 10,
    "start_time": "2021-12-26T08:59:52.870Z"
   },
   {
    "duration": 4535,
    "start_time": "2021-12-26T08:59:52.882Z"
   },
   {
    "duration": 23,
    "start_time": "2021-12-26T08:59:57.420Z"
   },
   {
    "duration": 29,
    "start_time": "2021-12-26T08:59:57.463Z"
   },
   {
    "duration": 31,
    "start_time": "2021-12-26T08:59:57.495Z"
   },
   {
    "duration": 54,
    "start_time": "2021-12-26T08:59:57.528Z"
   },
   {
    "duration": 45,
    "start_time": "2021-12-26T09:06:45.589Z"
   },
   {
    "duration": 198,
    "start_time": "2021-12-26T09:08:07.215Z"
   },
   {
    "duration": 41,
    "start_time": "2021-12-26T09:08:37.905Z"
   },
   {
    "duration": 37,
    "start_time": "2021-12-26T09:08:45.256Z"
   },
   {
    "duration": 37,
    "start_time": "2021-12-26T09:09:14.845Z"
   },
   {
    "duration": 41,
    "start_time": "2021-12-26T09:09:36.622Z"
   },
   {
    "duration": 41,
    "start_time": "2021-12-26T09:11:01.959Z"
   },
   {
    "duration": 42,
    "start_time": "2021-12-26T09:11:12.721Z"
   },
   {
    "duration": 54,
    "start_time": "2021-12-26T09:14:34.219Z"
   },
   {
    "duration": 59,
    "start_time": "2021-12-26T09:14:41.456Z"
   },
   {
    "duration": 38,
    "start_time": "2021-12-26T09:19:18.926Z"
   },
   {
    "duration": 364,
    "start_time": "2021-12-26T09:19:59.795Z"
   },
   {
    "duration": 29,
    "start_time": "2021-12-26T09:20:25.278Z"
   },
   {
    "duration": 73,
    "start_time": "2021-12-26T09:24:35.541Z"
   },
   {
    "duration": 64,
    "start_time": "2021-12-26T09:24:46.325Z"
   },
   {
    "duration": 32,
    "start_time": "2021-12-26T09:25:13.014Z"
   },
   {
    "duration": 92,
    "start_time": "2021-12-26T09:25:22.134Z"
   },
   {
    "duration": 36,
    "start_time": "2021-12-26T09:25:22.229Z"
   },
   {
    "duration": 7,
    "start_time": "2021-12-26T09:25:22.268Z"
   },
   {
    "duration": 9,
    "start_time": "2021-12-26T09:25:22.277Z"
   },
   {
    "duration": 20,
    "start_time": "2021-12-26T09:25:22.288Z"
   },
   {
    "duration": 61,
    "start_time": "2021-12-26T09:25:22.310Z"
   },
   {
    "duration": 29,
    "start_time": "2021-12-26T09:25:22.374Z"
   },
   {
    "duration": 386,
    "start_time": "2021-12-26T09:25:22.408Z"
   },
   {
    "duration": 19,
    "start_time": "2021-12-26T09:25:22.798Z"
   },
   {
    "duration": 43,
    "start_time": "2021-12-26T09:25:22.820Z"
   },
   {
    "duration": 25,
    "start_time": "2021-12-26T09:25:22.866Z"
   },
   {
    "duration": 25,
    "start_time": "2021-12-26T09:25:22.894Z"
   },
   {
    "duration": 80,
    "start_time": "2021-12-26T09:25:22.922Z"
   },
   {
    "duration": 10,
    "start_time": "2021-12-26T09:25:23.004Z"
   },
   {
    "duration": 4666,
    "start_time": "2021-12-26T09:25:23.017Z"
   },
   {
    "duration": 22,
    "start_time": "2021-12-26T09:25:27.685Z"
   },
   {
    "duration": 55,
    "start_time": "2021-12-26T09:25:27.709Z"
   },
   {
    "duration": 33,
    "start_time": "2021-12-26T09:25:27.767Z"
   },
   {
    "duration": 32,
    "start_time": "2021-12-26T09:25:27.802Z"
   },
   {
    "duration": 38,
    "start_time": "2021-12-26T09:25:27.862Z"
   },
   {
    "duration": 31,
    "start_time": "2021-12-26T09:25:27.902Z"
   },
   {
    "duration": 30,
    "start_time": "2021-12-26T09:25:27.964Z"
   },
   {
    "duration": 31,
    "start_time": "2021-12-26T09:25:27.998Z"
   },
   {
    "duration": 36,
    "start_time": "2021-12-26T09:27:40.711Z"
   },
   {
    "duration": 36,
    "start_time": "2021-12-26T09:28:01.367Z"
   },
   {
    "duration": 42,
    "start_time": "2021-12-26T09:30:05.461Z"
   },
   {
    "duration": 37,
    "start_time": "2021-12-26T09:30:22.093Z"
   },
   {
    "duration": 37,
    "start_time": "2021-12-26T09:30:31.166Z"
   },
   {
    "duration": 35,
    "start_time": "2021-12-26T09:32:34.093Z"
   },
   {
    "duration": 37,
    "start_time": "2021-12-26T09:32:58.790Z"
   },
   {
    "duration": 852,
    "start_time": "2021-12-26T09:34:38.426Z"
   },
   {
    "duration": 13,
    "start_time": "2021-12-26T09:34:39.281Z"
   },
   {
    "duration": 6,
    "start_time": "2021-12-26T09:34:39.298Z"
   },
   {
    "duration": 8,
    "start_time": "2021-12-26T09:34:39.307Z"
   },
   {
    "duration": 56,
    "start_time": "2021-12-26T09:34:39.318Z"
   },
   {
    "duration": 16,
    "start_time": "2021-12-26T09:34:39.377Z"
   },
   {
    "duration": 29,
    "start_time": "2021-12-26T09:34:39.395Z"
   },
   {
    "duration": 378,
    "start_time": "2021-12-26T09:34:39.429Z"
   },
   {
    "duration": 17,
    "start_time": "2021-12-26T09:34:39.810Z"
   },
   {
    "duration": 37,
    "start_time": "2021-12-26T09:34:39.830Z"
   },
   {
    "duration": 22,
    "start_time": "2021-12-26T09:34:39.870Z"
   },
   {
    "duration": 24,
    "start_time": "2021-12-26T09:34:39.894Z"
   },
   {
    "duration": 75,
    "start_time": "2021-12-26T09:34:39.921Z"
   },
   {
    "duration": 11,
    "start_time": "2021-12-26T09:34:39.999Z"
   },
   {
    "duration": 4670,
    "start_time": "2021-12-26T09:34:40.013Z"
   },
   {
    "duration": 23,
    "start_time": "2021-12-26T09:34:44.685Z"
   },
   {
    "duration": 58,
    "start_time": "2021-12-26T09:34:44.711Z"
   },
   {
    "duration": 35,
    "start_time": "2021-12-26T09:34:44.772Z"
   },
   {
    "duration": 64,
    "start_time": "2021-12-26T09:34:44.810Z"
   },
   {
    "duration": 44,
    "start_time": "2021-12-26T09:34:44.876Z"
   },
   {
    "duration": 52,
    "start_time": "2021-12-26T09:34:44.923Z"
   },
   {
    "duration": 31,
    "start_time": "2021-12-26T09:34:44.978Z"
   },
   {
    "duration": 70,
    "start_time": "2021-12-26T09:34:45.014Z"
   },
   {
    "duration": 37,
    "start_time": "2021-12-26T09:37:29.882Z"
   },
   {
    "duration": 38,
    "start_time": "2021-12-26T09:38:08.562Z"
   },
   {
    "duration": 37,
    "start_time": "2021-12-26T09:38:44.994Z"
   },
   {
    "duration": 461,
    "start_time": "2021-12-26T09:39:11.738Z"
   },
   {
    "duration": 31,
    "start_time": "2021-12-26T09:39:18.226Z"
   },
   {
    "duration": 95,
    "start_time": "2021-12-26T10:19:00.713Z"
   },
   {
    "duration": 13,
    "start_time": "2021-12-26T10:19:00.810Z"
   },
   {
    "duration": 11,
    "start_time": "2021-12-26T10:19:00.826Z"
   },
   {
    "duration": 31,
    "start_time": "2021-12-26T10:19:00.840Z"
   },
   {
    "duration": 26,
    "start_time": "2021-12-26T10:19:00.874Z"
   },
   {
    "duration": 20,
    "start_time": "2021-12-26T10:19:00.903Z"
   },
   {
    "duration": 58,
    "start_time": "2021-12-26T10:19:00.926Z"
   },
   {
    "duration": 365,
    "start_time": "2021-12-26T10:19:00.990Z"
   },
   {
    "duration": 19,
    "start_time": "2021-12-26T10:19:01.358Z"
   },
   {
    "duration": 19,
    "start_time": "2021-12-26T10:19:01.380Z"
   },
   {
    "duration": 60,
    "start_time": "2021-12-26T10:19:01.402Z"
   },
   {
    "duration": 27,
    "start_time": "2021-12-26T10:19:01.465Z"
   },
   {
    "duration": 70,
    "start_time": "2021-12-26T10:19:01.495Z"
   },
   {
    "duration": 12,
    "start_time": "2021-12-26T10:19:01.567Z"
   },
   {
    "duration": 4634,
    "start_time": "2021-12-26T10:19:01.582Z"
   },
   {
    "duration": 23,
    "start_time": "2021-12-26T10:19:06.219Z"
   },
   {
    "duration": 30,
    "start_time": "2021-12-26T10:19:06.263Z"
   },
   {
    "duration": 33,
    "start_time": "2021-12-26T10:19:06.295Z"
   },
   {
    "duration": 59,
    "start_time": "2021-12-26T10:19:06.331Z"
   },
   {
    "duration": 40,
    "start_time": "2021-12-26T10:21:51.208Z"
   },
   {
    "duration": 31,
    "start_time": "2021-12-26T10:46:12.563Z"
   },
   {
    "duration": 37,
    "start_time": "2021-12-26T10:46:45.791Z"
   },
   {
    "duration": 52,
    "start_time": "2021-12-26T10:49:19.252Z"
   },
   {
    "duration": 36,
    "start_time": "2021-12-26T10:52:41.203Z"
   },
   {
    "duration": 1105,
    "start_time": "2021-12-26T11:27:04.171Z"
   },
   {
    "duration": 18,
    "start_time": "2021-12-26T11:27:05.279Z"
   },
   {
    "duration": 7,
    "start_time": "2021-12-26T11:27:05.300Z"
   },
   {
    "duration": 10,
    "start_time": "2021-12-26T11:27:05.310Z"
   },
   {
    "duration": 27,
    "start_time": "2021-12-26T11:27:05.363Z"
   },
   {
    "duration": 17,
    "start_time": "2021-12-26T11:27:05.392Z"
   },
   {
    "duration": 59,
    "start_time": "2021-12-26T11:27:05.411Z"
   },
   {
    "duration": 346,
    "start_time": "2021-12-26T11:27:05.473Z"
   },
   {
    "duration": 17,
    "start_time": "2021-12-26T11:27:05.822Z"
   },
   {
    "duration": 33,
    "start_time": "2021-12-26T11:27:05.841Z"
   },
   {
    "duration": 26,
    "start_time": "2021-12-26T11:27:05.876Z"
   },
   {
    "duration": 25,
    "start_time": "2021-12-26T11:27:05.904Z"
   },
   {
    "duration": 44,
    "start_time": "2021-12-26T11:27:05.964Z"
   },
   {
    "duration": 10,
    "start_time": "2021-12-26T11:27:06.011Z"
   },
   {
    "duration": 5195,
    "start_time": "2021-12-26T11:27:06.023Z"
   },
   {
    "duration": 45,
    "start_time": "2021-12-26T11:27:11.222Z"
   },
   {
    "duration": 35,
    "start_time": "2021-12-26T11:27:11.270Z"
   },
   {
    "duration": 61,
    "start_time": "2021-12-26T11:27:11.308Z"
   },
   {
    "duration": 46,
    "start_time": "2021-12-26T11:27:11.373Z"
   },
   {
    "duration": 88,
    "start_time": "2021-12-26T11:27:11.422Z"
   },
   {
    "duration": 68,
    "start_time": "2021-12-26T11:27:11.513Z"
   },
   {
    "duration": 44,
    "start_time": "2021-12-26T11:27:11.584Z"
   },
   {
    "duration": 77,
    "start_time": "2021-12-26T11:27:11.635Z"
   },
   {
    "duration": 59,
    "start_time": "2021-12-26T11:27:11.715Z"
   },
   {
    "duration": 36,
    "start_time": "2021-12-26T11:27:11.777Z"
   },
   {
    "duration": 31,
    "start_time": "2021-12-26T11:29:29.308Z"
   },
   {
    "duration": 38,
    "start_time": "2021-12-26T11:47:03.112Z"
   },
   {
    "duration": 68,
    "start_time": "2021-12-26T11:48:16.476Z"
   },
   {
    "duration": 29,
    "start_time": "2021-12-26T11:50:11.418Z"
   },
   {
    "duration": 34,
    "start_time": "2021-12-26T11:50:37.959Z"
   },
   {
    "duration": 39,
    "start_time": "2021-12-26T11:51:03.782Z"
   },
   {
    "duration": 36,
    "start_time": "2021-12-26T11:51:10.910Z"
   },
   {
    "duration": 40,
    "start_time": "2021-12-26T11:51:41.341Z"
   },
   {
    "duration": 40,
    "start_time": "2021-12-26T11:52:29.909Z"
   },
   {
    "duration": 33,
    "start_time": "2021-12-26T11:58:18.687Z"
   },
   {
    "duration": 34,
    "start_time": "2021-12-26T11:58:50.296Z"
   },
   {
    "duration": 836,
    "start_time": "2021-12-26T12:07:55.384Z"
   },
   {
    "duration": 17,
    "start_time": "2021-12-26T12:07:56.224Z"
   },
   {
    "duration": 8,
    "start_time": "2021-12-26T12:07:56.266Z"
   },
   {
    "duration": 13,
    "start_time": "2021-12-26T12:07:56.276Z"
   },
   {
    "duration": 26,
    "start_time": "2021-12-26T12:07:56.292Z"
   },
   {
    "duration": 53,
    "start_time": "2021-12-26T12:07:56.321Z"
   },
   {
    "duration": 37,
    "start_time": "2021-12-26T12:07:56.379Z"
   },
   {
    "duration": 509,
    "start_time": "2021-12-26T12:07:56.420Z"
   },
   {
    "duration": 38,
    "start_time": "2021-12-26T12:07:56.933Z"
   },
   {
    "duration": 24,
    "start_time": "2021-12-26T12:07:56.974Z"
   },
   {
    "duration": 25,
    "start_time": "2021-12-26T12:07:57.000Z"
   },
   {
    "duration": 55,
    "start_time": "2021-12-26T12:07:57.028Z"
   },
   {
    "duration": 41,
    "start_time": "2021-12-26T12:07:57.085Z"
   },
   {
    "duration": 34,
    "start_time": "2021-12-26T12:07:57.128Z"
   },
   {
    "duration": 4968,
    "start_time": "2021-12-26T12:07:57.165Z"
   },
   {
    "duration": 36,
    "start_time": "2021-12-26T12:08:02.136Z"
   },
   {
    "duration": 31,
    "start_time": "2021-12-26T12:08:02.175Z"
   },
   {
    "duration": 61,
    "start_time": "2021-12-26T12:08:02.208Z"
   },
   {
    "duration": 31,
    "start_time": "2021-12-26T12:08:02.271Z"
   },
   {
    "duration": 65,
    "start_time": "2021-12-26T12:08:02.304Z"
   },
   {
    "duration": 37,
    "start_time": "2021-12-26T12:08:02.372Z"
   },
   {
    "duration": 59,
    "start_time": "2021-12-26T12:08:02.413Z"
   },
   {
    "duration": 36,
    "start_time": "2021-12-26T12:08:02.475Z"
   },
   {
    "duration": 50,
    "start_time": "2021-12-26T12:08:02.514Z"
   },
   {
    "duration": 31,
    "start_time": "2021-12-26T12:08:02.566Z"
   },
   {
    "duration": 63,
    "start_time": "2021-12-26T12:08:02.600Z"
   },
   {
    "duration": 871,
    "start_time": "2021-12-26T12:11:28.534Z"
   },
   {
    "duration": 15,
    "start_time": "2021-12-26T12:11:29.408Z"
   },
   {
    "duration": 8,
    "start_time": "2021-12-26T12:11:29.426Z"
   },
   {
    "duration": 10,
    "start_time": "2021-12-26T12:11:29.464Z"
   },
   {
    "duration": 40,
    "start_time": "2021-12-26T12:11:29.477Z"
   },
   {
    "duration": 16,
    "start_time": "2021-12-26T12:11:29.520Z"
   },
   {
    "duration": 31,
    "start_time": "2021-12-26T12:11:29.564Z"
   },
   {
    "duration": 376,
    "start_time": "2021-12-26T12:11:29.598Z"
   },
   {
    "duration": 20,
    "start_time": "2021-12-26T12:11:29.978Z"
   },
   {
    "duration": 18,
    "start_time": "2021-12-26T12:11:30.001Z"
   },
   {
    "duration": 67,
    "start_time": "2021-12-26T12:11:30.025Z"
   },
   {
    "duration": 53,
    "start_time": "2021-12-26T12:11:30.095Z"
   },
   {
    "duration": 48,
    "start_time": "2021-12-26T12:11:30.162Z"
   },
   {
    "duration": 14,
    "start_time": "2021-12-26T12:11:30.213Z"
   },
   {
    "duration": 5196,
    "start_time": "2021-12-26T12:11:30.230Z"
   },
   {
    "duration": 41,
    "start_time": "2021-12-26T12:11:35.429Z"
   },
   {
    "duration": 31,
    "start_time": "2021-12-26T12:11:35.472Z"
   },
   {
    "duration": 60,
    "start_time": "2021-12-26T12:11:35.505Z"
   },
   {
    "duration": 32,
    "start_time": "2021-12-26T12:11:35.568Z"
   },
   {
    "duration": 76,
    "start_time": "2021-12-26T12:11:35.603Z"
   },
   {
    "duration": 41,
    "start_time": "2021-12-26T12:11:35.682Z"
   },
   {
    "duration": 64,
    "start_time": "2021-12-26T12:11:35.725Z"
   },
   {
    "duration": 50,
    "start_time": "2021-12-26T12:11:35.795Z"
   },
   {
    "duration": 46,
    "start_time": "2021-12-26T12:11:35.848Z"
   },
   {
    "duration": 32,
    "start_time": "2021-12-26T12:11:35.898Z"
   },
   {
    "duration": 59,
    "start_time": "2021-12-26T12:11:35.933Z"
   },
   {
    "duration": 1509,
    "start_time": "2021-12-26T12:24:24.233Z"
   },
   {
    "duration": 25,
    "start_time": "2021-12-26T12:24:25.744Z"
   },
   {
    "duration": 9,
    "start_time": "2021-12-26T12:24:25.775Z"
   },
   {
    "duration": 9,
    "start_time": "2021-12-26T12:24:25.788Z"
   },
   {
    "duration": 20,
    "start_time": "2021-12-26T12:24:25.800Z"
   },
   {
    "duration": 55,
    "start_time": "2021-12-26T12:24:25.824Z"
   },
   {
    "duration": 38,
    "start_time": "2021-12-26T12:24:25.882Z"
   },
   {
    "duration": 428,
    "start_time": "2021-12-26T12:24:25.925Z"
   },
   {
    "duration": 23,
    "start_time": "2021-12-26T12:24:26.357Z"
   },
   {
    "duration": 19,
    "start_time": "2021-12-26T12:24:26.383Z"
   },
   {
    "duration": 25,
    "start_time": "2021-12-26T12:24:26.405Z"
   },
   {
    "duration": 37,
    "start_time": "2021-12-26T12:24:26.463Z"
   },
   {
    "duration": 64,
    "start_time": "2021-12-26T12:24:26.503Z"
   },
   {
    "duration": 11,
    "start_time": "2021-12-26T12:24:26.570Z"
   },
   {
    "duration": 5860,
    "start_time": "2021-12-26T12:24:26.585Z"
   },
   {
    "duration": 33,
    "start_time": "2021-12-26T12:24:32.448Z"
   },
   {
    "duration": 43,
    "start_time": "2021-12-26T12:24:32.484Z"
   },
   {
    "duration": 61,
    "start_time": "2021-12-26T12:24:32.531Z"
   },
   {
    "duration": 32,
    "start_time": "2021-12-26T12:24:32.594Z"
   },
   {
    "duration": 70,
    "start_time": "2021-12-26T12:24:32.628Z"
   },
   {
    "duration": 64,
    "start_time": "2021-12-26T12:24:32.701Z"
   },
   {
    "duration": 43,
    "start_time": "2021-12-26T12:24:32.768Z"
   },
   {
    "duration": 62,
    "start_time": "2021-12-26T12:24:32.817Z"
   },
   {
    "duration": 30,
    "start_time": "2021-12-26T12:24:32.881Z"
   },
   {
    "duration": 62,
    "start_time": "2021-12-26T12:24:32.914Z"
   },
   {
    "duration": 40,
    "start_time": "2021-12-26T12:24:32.979Z"
   },
   {
    "duration": 595,
    "start_time": "2021-12-27T05:35:14.373Z"
   },
   {
    "duration": 9,
    "start_time": "2021-12-27T05:35:14.969Z"
   },
   {
    "duration": 6,
    "start_time": "2021-12-27T05:35:14.980Z"
   },
   {
    "duration": 6,
    "start_time": "2021-12-27T05:35:14.988Z"
   },
   {
    "duration": 11,
    "start_time": "2021-12-27T05:35:14.995Z"
   },
   {
    "duration": 23,
    "start_time": "2021-12-27T05:35:15.008Z"
   },
   {
    "duration": 16,
    "start_time": "2021-12-27T05:35:15.040Z"
   },
   {
    "duration": 216,
    "start_time": "2021-12-27T05:35:15.058Z"
   },
   {
    "duration": 12,
    "start_time": "2021-12-27T05:35:15.276Z"
   },
   {
    "duration": 16,
    "start_time": "2021-12-27T05:35:15.289Z"
   },
   {
    "duration": 26,
    "start_time": "2021-12-27T05:35:15.307Z"
   },
   {
    "duration": 43,
    "start_time": "2021-12-27T05:35:15.335Z"
   },
   {
    "duration": 26,
    "start_time": "2021-12-27T05:35:15.379Z"
   },
   {
    "duration": 7,
    "start_time": "2021-12-27T05:35:15.406Z"
   },
   {
    "duration": 3207,
    "start_time": "2021-12-27T05:35:15.414Z"
   },
   {
    "duration": 22,
    "start_time": "2021-12-27T05:35:18.622Z"
   },
   {
    "duration": 17,
    "start_time": "2021-12-27T05:35:18.645Z"
   },
   {
    "duration": 18,
    "start_time": "2021-12-27T05:35:18.663Z"
   },
   {
    "duration": 16,
    "start_time": "2021-12-27T05:35:18.682Z"
   },
   {
    "duration": 55,
    "start_time": "2021-12-27T05:35:18.699Z"
   },
   {
    "duration": 19,
    "start_time": "2021-12-27T05:35:18.755Z"
   },
   {
    "duration": 17,
    "start_time": "2021-12-27T05:35:18.776Z"
   },
   {
    "duration": 19,
    "start_time": "2021-12-27T05:35:18.794Z"
   },
   {
    "duration": 36,
    "start_time": "2021-12-27T05:35:18.815Z"
   },
   {
    "duration": 17,
    "start_time": "2021-12-27T05:35:18.852Z"
   },
   {
    "duration": 19,
    "start_time": "2021-12-27T05:35:18.870Z"
   },
   {
    "duration": 388,
    "start_time": "2022-06-21T06:46:11.369Z"
   },
   {
    "duration": 374,
    "start_time": "2022-06-21T06:46:12.920Z"
   },
   {
    "duration": 20,
    "start_time": "2022-06-21T06:49:02.846Z"
   },
   {
    "duration": 22,
    "start_time": "2022-06-21T06:49:36.118Z"
   },
   {
    "duration": 22,
    "start_time": "2022-06-21T06:50:00.240Z"
   },
   {
    "duration": 534,
    "start_time": "2022-06-21T06:52:13.981Z"
   },
   {
    "duration": 174,
    "start_time": "2022-06-21T06:52:14.518Z"
   },
   {
    "duration": 19,
    "start_time": "2022-06-21T06:52:14.695Z"
   },
   {
    "duration": 105,
    "start_time": "2022-06-21T06:52:14.716Z"
   },
   {
    "duration": 30,
    "start_time": "2022-06-21T06:52:14.824Z"
   },
   {
    "duration": 46,
    "start_time": "2022-06-21T06:52:14.857Z"
   },
   {
    "duration": 19,
    "start_time": "2022-06-21T06:52:14.906Z"
   },
   {
    "duration": 43,
    "start_time": "2022-06-21T06:52:14.927Z"
   },
   {
    "duration": 237,
    "start_time": "2022-06-21T06:52:14.973Z"
   },
   {
    "duration": 32,
    "start_time": "2022-06-21T06:52:15.213Z"
   },
   {
    "duration": 70,
    "start_time": "2022-06-21T06:52:15.247Z"
   },
   {
    "duration": 60,
    "start_time": "2022-06-21T06:52:15.319Z"
   },
   {
    "duration": 56,
    "start_time": "2022-06-21T06:52:15.382Z"
   },
   {
    "duration": 61,
    "start_time": "2022-06-21T06:52:15.442Z"
   },
   {
    "duration": 22,
    "start_time": "2022-06-21T06:52:15.506Z"
   },
   {
    "duration": 4852,
    "start_time": "2022-06-21T06:52:15.530Z"
   },
   {
    "duration": 43,
    "start_time": "2022-06-21T06:52:20.384Z"
   },
   {
    "duration": 50,
    "start_time": "2022-06-21T06:52:20.429Z"
   },
   {
    "duration": 29,
    "start_time": "2022-06-21T06:52:20.483Z"
   },
   {
    "duration": 34,
    "start_time": "2022-06-21T06:52:20.515Z"
   },
   {
    "duration": 36,
    "start_time": "2022-06-21T06:52:20.552Z"
   },
   {
    "duration": 61,
    "start_time": "2022-06-21T06:52:20.590Z"
   },
   {
    "duration": 31,
    "start_time": "2022-06-21T06:52:20.653Z"
   },
   {
    "duration": 56,
    "start_time": "2022-06-21T06:52:20.686Z"
   },
   {
    "duration": 29,
    "start_time": "2022-06-21T06:52:20.744Z"
   },
   {
    "duration": 52,
    "start_time": "2022-06-21T06:52:20.775Z"
   },
   {
    "duration": 41,
    "start_time": "2022-06-21T06:52:20.830Z"
   },
   {
    "duration": 20,
    "start_time": "2022-06-21T07:27:13.085Z"
   },
   {
    "duration": 393,
    "start_time": "2022-06-21T07:28:12.543Z"
   },
   {
    "duration": 104,
    "start_time": "2022-06-21T07:28:12.939Z"
   },
   {
    "duration": 10,
    "start_time": "2022-06-21T07:28:13.046Z"
   },
   {
    "duration": 16,
    "start_time": "2022-06-21T07:28:13.058Z"
   },
   {
    "duration": 8,
    "start_time": "2022-06-21T07:28:13.077Z"
   },
   {
    "duration": 18,
    "start_time": "2022-06-21T07:28:13.086Z"
   },
   {
    "duration": 33,
    "start_time": "2022-06-21T07:28:13.105Z"
   },
   {
    "duration": 4,
    "start_time": "2022-06-21T07:28:13.140Z"
   },
   {
    "duration": 176,
    "start_time": "2022-06-21T07:28:13.145Z"
   },
   {
    "duration": 18,
    "start_time": "2022-06-21T07:28:13.328Z"
   },
   {
    "duration": 12,
    "start_time": "2022-06-21T07:28:13.347Z"
   },
   {
    "duration": 18,
    "start_time": "2022-06-21T07:28:13.361Z"
   },
   {
    "duration": 26,
    "start_time": "2022-06-21T07:28:13.381Z"
   },
   {
    "duration": 34,
    "start_time": "2022-06-21T07:28:13.427Z"
   },
   {
    "duration": 7,
    "start_time": "2022-06-21T07:28:13.462Z"
   },
   {
    "duration": 23,
    "start_time": "2022-06-21T07:28:13.471Z"
   },
   {
    "duration": 4165,
    "start_time": "2022-06-21T07:28:13.496Z"
   },
   {
    "duration": 23,
    "start_time": "2022-06-21T07:28:17.664Z"
   },
   {
    "duration": 52,
    "start_time": "2022-06-21T07:28:17.689Z"
   },
   {
    "duration": 32,
    "start_time": "2022-06-21T07:28:17.744Z"
   },
   {
    "duration": 28,
    "start_time": "2022-06-21T07:28:17.779Z"
   },
   {
    "duration": 34,
    "start_time": "2022-06-21T07:28:17.826Z"
   },
   {
    "duration": 34,
    "start_time": "2022-06-21T07:28:17.862Z"
   },
   {
    "duration": 44,
    "start_time": "2022-06-21T07:28:17.898Z"
   },
   {
    "duration": 24,
    "start_time": "2022-06-21T07:28:17.945Z"
   },
   {
    "duration": 21,
    "start_time": "2022-06-21T07:28:17.971Z"
   },
   {
    "duration": 62,
    "start_time": "2022-06-21T07:28:17.994Z"
   },
   {
    "duration": 28,
    "start_time": "2022-06-21T07:28:18.058Z"
   },
   {
    "duration": 476,
    "start_time": "2022-06-21T07:30:18.999Z"
   },
   {
    "duration": 111,
    "start_time": "2022-06-21T07:30:19.477Z"
   },
   {
    "duration": 12,
    "start_time": "2022-06-21T07:30:19.590Z"
   },
   {
    "duration": 33,
    "start_time": "2022-06-21T07:30:19.605Z"
   },
   {
    "duration": 13,
    "start_time": "2022-06-21T07:30:19.640Z"
   },
   {
    "duration": 17,
    "start_time": "2022-06-21T07:30:19.655Z"
   },
   {
    "duration": 18,
    "start_time": "2022-06-21T07:30:19.674Z"
   },
   {
    "duration": 3,
    "start_time": "2022-06-21T07:30:19.694Z"
   },
   {
    "duration": 218,
    "start_time": "2022-06-21T07:30:19.699Z"
   },
   {
    "duration": 23,
    "start_time": "2022-06-21T07:30:19.920Z"
   },
   {
    "duration": 22,
    "start_time": "2022-06-21T07:30:19.945Z"
   },
   {
    "duration": 31,
    "start_time": "2022-06-21T07:30:19.970Z"
   },
   {
    "duration": 34,
    "start_time": "2022-06-21T07:30:20.004Z"
   },
   {
    "duration": 51,
    "start_time": "2022-06-21T07:30:20.040Z"
   },
   {
    "duration": 10,
    "start_time": "2022-06-21T07:30:20.094Z"
   },
   {
    "duration": 8,
    "start_time": "2022-06-21T07:30:20.128Z"
   },
   {
    "duration": 4039,
    "start_time": "2022-06-21T07:30:20.137Z"
   },
   {
    "duration": 15,
    "start_time": "2022-06-21T07:30:24.178Z"
   },
   {
    "duration": 40,
    "start_time": "2022-06-21T07:30:24.195Z"
   },
   {
    "duration": 20,
    "start_time": "2022-06-21T07:30:24.237Z"
   },
   {
    "duration": 20,
    "start_time": "2022-06-21T07:30:24.259Z"
   },
   {
    "duration": 56,
    "start_time": "2022-06-21T07:30:24.280Z"
   },
   {
    "duration": 24,
    "start_time": "2022-06-21T07:30:24.339Z"
   },
   {
    "duration": 21,
    "start_time": "2022-06-21T07:30:24.365Z"
   },
   {
    "duration": 45,
    "start_time": "2022-06-21T07:30:24.394Z"
   },
   {
    "duration": 20,
    "start_time": "2022-06-21T07:30:24.441Z"
   },
   {
    "duration": 30,
    "start_time": "2022-06-21T07:30:24.463Z"
   },
   {
    "duration": 57,
    "start_time": "2022-06-21T07:30:24.498Z"
   }
  ],
  "kernelspec": {
   "display_name": "Python 3 (ipykernel)",
   "language": "python",
   "name": "python3"
  },
  "language_info": {
   "codemirror_mode": {
    "name": "ipython",
    "version": 3
   },
   "file_extension": ".py",
   "mimetype": "text/x-python",
   "name": "python",
   "nbconvert_exporter": "python",
   "pygments_lexer": "ipython3",
   "version": "3.9.5"
  },
  "toc": {
   "base_numbering": 1,
   "nav_menu": {},
   "number_sections": true,
   "sideBar": true,
   "skip_h1_title": true,
   "title_cell": "Table of Contents",
   "title_sidebar": "Contents",
   "toc_cell": false,
   "toc_position": {},
   "toc_section_display": true,
   "toc_window_display": false
  }
 },
 "nbformat": 4,
 "nbformat_minor": 2
}
